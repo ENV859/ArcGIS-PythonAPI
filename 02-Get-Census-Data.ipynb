{
 "cells": [
  {
   "cell_type": "markdown",
   "metadata": {},
   "source": [
    "# Grab a selection of census tract data\n",
    "*This notebook provides an example of how you can extract features from an ArcGIS online resource and save them into a shapefile on your local machine.* \n",
    "\n",
    "→ A good resource for learning more is here: https://developers.arcgis.com/python/guide/working-with-feature-layers-and-features/"
   ]
  },
  {
   "cell_type": "code",
   "execution_count": 2,
   "metadata": {},
   "outputs": [],
   "source": [
    "#Import the GIS object and authenticate\n",
    "from arcgis import GIS\n",
    "gis = GIS('pro')"
   ]
  },
  {
   "cell_type": "code",
   "execution_count": 4,
   "metadata": {},
   "outputs": [
    {
     "data": {
      "text/plain": [
       "[<Item title:\"USA Block Groups\" type:Feature Layer Collection owner:esri_dm>,\n",
       " <Item title:\"USA Tracts\" type:Feature Layer Collection owner:esri_dm>,\n",
       " <Item title:\"USA Counties\" type:Feature Layer Collection owner:esri_dm>,\n",
       " <Item title:\"United States Tract Boundaries 2015\" type:Feature Layer Collection owner:esri_dm>,\n",
       " <Item title:\"United States BlockGroup Boundaries 2015\" type:Feature Layer Collection owner:esri_dm>,\n",
       " <Item title:\"USA Census Tract Points\" type:Feature Layer Collection owner:esri_dm>,\n",
       " <Item title:\"USA Census Tract Areas\" type:Feature Layer Collection owner:esri_dm>]"
      ]
     },
     "execution_count": 4,
     "metadata": {},
     "output_type": "execute_result"
    }
   ],
   "source": [
    "#Use the API's content' helper to search for feature layers with keyword Census and owner is \"esri_dm\"\n",
    "results = gis.content.search(query='census Tract owner:esri_dm',\n",
    "                             item_type='Feature Layer',\n",
    "                             outside_org=True)\n",
    "results"
   ]
  },
  {
   "cell_type": "code",
   "execution_count": 6,
   "metadata": {},
   "outputs": [
    {
     "data": {
      "text/html": [
       "<div class=\"item_container\" style=\"height: auto; overflow: hidden; border: 1px solid #cfcfcf; border-radius: 2px; background: #f6fafa; line-height: 1.21429em; padding: 10px;\">\n",
       "                    <div class=\"item_left\" style=\"width: 210px; float: left;\">\n",
       "                       <a href='https://www.arcgis.com//home/item.html?id=04d7a4965eb447faacc51b9fcc7ff4ca' target='_blank'>\n",
       "                        <img src='data:image/png;base64,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' width='200' height='133' class=\"itemThumbnail\">\n",
       "                       </a>\n",
       "                    </div>\n",
       "\n",
       "                    <div class=\"item_right\"     style=\"float: none; width: auto; overflow: hidden;\">\n",
       "                        <a href='https://www.arcgis.com//home/item.html?id=04d7a4965eb447faacc51b9fcc7ff4ca' target='_blank'><b>United States Tract Boundaries 2015</b>\n",
       "                        </a>\n",
       "                        <br/>This layer shows the Tract level boundaries of the United States in 2015. The boundaries are optimized to support both visualization and analysis.<img src='https://www.arcgis.com//home/js/jsapi/esri/css/images/item_type_icons/featureshosted16.png' style=\"vertical-align:middle;\">Feature Layer Collection by esri_dm\n",
       "                        <br/>Last Modified: June 21, 2019\n",
       "                        <br/>0 comments, 863 views\n",
       "                    </div>\n",
       "                </div>\n",
       "                "
      ],
      "text/plain": [
       "<Item title:\"United States Tract Boundaries 2015\" type:Feature Layer Collection owner:esri_dm>"
      ]
     },
     "execution_count": 6,
     "metadata": {},
     "output_type": "execute_result"
    }
   ],
   "source": [
    "#Have a look at the 2nd result\n",
    "results[3]"
   ]
  },
  {
   "cell_type": "code",
   "execution_count": 7,
   "metadata": {},
   "outputs": [
    {
     "data": {
      "text/plain": [
       "arcgis.gis.Item"
      ]
     },
     "execution_count": 7,
     "metadata": {},
     "output_type": "execute_result"
    }
   ],
   "source": [
    "#Save it as an arcgis \"item\" object & display the object's type\n",
    "tractsItem = results[3]\n",
    "type(tractsItem)"
   ]
  },
  {
   "cell_type": "markdown",
   "metadata": {},
   "source": [
    "→ More info on the ArcGIS `item` object: https://esri.github.io/arcgis-python-api/apidoc/html/arcgis.gis.toc.html#item"
   ]
  },
  {
   "cell_type": "code",
   "execution_count": null,
   "metadata": {
    "scrolled": true
   },
   "outputs": [],
   "source": [
    "#Get the layer from the item\n",
    "tractsLyr = tractsItem.layers[0]\n",
    "type(tractsLyr)"
   ]
  },
  {
   "cell_type": "markdown",
   "metadata": {},
   "source": [
    "→ More info on the ArcGIS `layer` object: https://esri.github.io/arcgis-python-api/apidoc/html/arcgis.gis.toc.html#layer<br>\n",
    "→ More info on the ArcGIS `FeatureLayer` object: https://esri.github.io/arcgis-python-api/apidoc/html/arcgis.features.toc.html#featurelayer"
   ]
  },
  {
   "cell_type": "markdown",
   "metadata": {},
   "source": [
    "---\n",
    "### Subsetting and downloading content\n",
    "Now that we have what we want as a FeatureLayer object, we can query that layer for just the features we we want to download. Before diving into our query, we'll need to familiarize ourselves with the data. \n",
    "\n",
    "Below are a set of steps mirrored after ESRI's documentation on querying feature layers:<br>\n",
    "https://developers.arcgis.com/python/guide/working-with-feature-layers-and-features/#Querying-feature-layers"
   ]
  },
  {
   "cell_type": "markdown",
   "metadata": {},
   "source": [
    "* First, we could just examine the ESRI REST endpoint for this dataset. To do that, we'd just reveal the URL associated with the data layer..."
   ]
  },
  {
   "cell_type": "code",
   "execution_count": null,
   "metadata": {},
   "outputs": [],
   "source": [
    "print(tractsLyr.url)"
   ]
  },
  {
   "cell_type": "markdown",
   "metadata": {},
   "source": [
    "* Or we could remain in our Python coding environment and reveal key properties using API functions:"
   ]
  },
  {
   "cell_type": "code",
   "execution_count": null,
   "metadata": {},
   "outputs": [],
   "source": [
    "#List the fields associated with the raster\n",
    "for f in tractsLyr.properties.fields:\n",
    "    print(f['name'],end=', ')"
   ]
  },
  {
   "cell_type": "markdown",
   "metadata": {},
   "source": [
    "* Now we'll construct a query function, much like if we were invoking the REST interface, but instead using the API functions, which streamline these things. "
   ]
  },
  {
   "cell_type": "code",
   "execution_count": null,
   "metadata": {},
   "outputs": [],
   "source": [
    "#Query the tracts feature layer for records falling within Durham Co (FIPS 37063)\n",
    "query_result = tractsLyr.query(\"GEOID LIKE '37063%'\")\n",
    "type(query_result)"
   ]
  },
  {
   "cell_type": "markdown",
   "metadata": {},
   "source": [
    "→ More info on the `Feature Set` object: https://esri.github.io/arcgis-python-api/apidoc/html/arcgis.features.toc.html#featureset"
   ]
  },
  {
   "cell_type": "code",
   "execution_count": null,
   "metadata": {},
   "outputs": [],
   "source": [
    "#Reveal how many features were extracted: \n",
    "len(query_result)"
   ]
  },
  {
   "cell_type": "code",
   "execution_count": null,
   "metadata": {},
   "outputs": [],
   "source": [
    "#Save the feature set as shapefile\n",
    "outFN = query_result.save('.','MyFeatures')\n",
    "print(\"Output saved as {}\".format(outFN))"
   ]
  },
  {
   "cell_type": "markdown",
   "metadata": {},
   "source": [
    "### Or, analyzing the data here, as a dataframe"
   ]
  },
  {
   "cell_type": "code",
   "execution_count": null,
   "metadata": {},
   "outputs": [],
   "source": [
    "#Convert the feature set data as a dataframe\n",
    "df = query_result.sdf\n",
    "df.head()"
   ]
  },
  {
   "cell_type": "markdown",
   "metadata": {},
   "source": [
    "* Note the output has a column called \"SHAPE\". These values are ArcGIS API `geometry` objects. "
   ]
  },
  {
   "cell_type": "markdown",
   "metadata": {},
   "source": [
    "#### Analyzing geometry"
   ]
  },
  {
   "cell_type": "code",
   "execution_count": null,
   "metadata": {},
   "outputs": [],
   "source": [
    "#Get the value in the first row of the \"SHAPE\" column\n",
    "feat = df.loc[0,'SHAPE']\n",
    "type(feat)"
   ]
  },
  {
   "cell_type": "markdown",
   "metadata": {},
   "source": [
    "https://esri.github.io/arcgis-python-api/apidoc/html/arcgis.geometry.html#arcgis.geometry.Geometry.get_area"
   ]
  },
  {
   "cell_type": "code",
   "execution_count": null,
   "metadata": {},
   "outputs": [],
   "source": [
    "#Get the area, in square miles\n",
    "feat.get_area(method='GEODESIC',units='MILES')"
   ]
  },
  {
   "cell_type": "markdown",
   "metadata": {},
   "source": [
    "#### Analyzing age demographics"
   ]
  },
  {
   "cell_type": "code",
   "execution_count": null,
   "metadata": {},
   "outputs": [],
   "source": [
    "#Grab the first 10 columns into a new dataframe\n",
    "ageColsDF = df.iloc[:,:9]"
   ]
  },
  {
   "cell_type": "code",
   "execution_count": null,
   "metadata": {},
   "outputs": [],
   "source": [
    "#Summarize those columns\n",
    "ageColsDF.describe()"
   ]
  },
  {
   "cell_type": "code",
   "execution_count": null,
   "metadata": {},
   "outputs": [],
   "source": [
    "#Plot demographics: count within each age group\n",
    "ageCols.sum()"
   ]
  },
  {
   "cell_type": "code",
   "execution_count": null,
   "metadata": {},
   "outputs": [],
   "source": [
    "%matplotlib inline\n",
    "ageCols.sum().plot(kind='bar');"
   ]
  }
 ],
 "metadata": {
  "kernelspec": {
   "display_name": "Python 3",
   "language": "python",
   "name": "python3"
  },
  "language_info": {
   "codemirror_mode": {
    "name": "ipython",
    "version": 3
   },
   "file_extension": ".py",
   "mimetype": "text/x-python",
   "name": "python",
   "nbconvert_exporter": "python",
   "pygments_lexer": "ipython3",
   "version": "3.6.8"
  }
 },
 "nbformat": 4,
 "nbformat_minor": 2
}
