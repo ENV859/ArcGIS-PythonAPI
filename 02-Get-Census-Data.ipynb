{
 "cells": [
  {
   "cell_type": "markdown",
   "metadata": {},
   "source": [
    "# Grab a selection of census tract data\n",
    "*This notebook provides an example of how you can extract features from an ArcGIS online resource and save them into a shapefile on your local machine.* \n",
    "\n",
    "→ A good resource for learning more is here: https://developers.arcgis.com/python/guide/working-with-feature-layers-and-features/"
   ]
  },
  {
   "cell_type": "markdown",
   "metadata": {},
   "source": [
    "### • First, we need to import the GIS module from the arcgis package\n",
    "We aren't accessing any 'premium' content here, so we can authenticate \"anonymously\"."
   ]
  },
  {
   "cell_type": "code",
   "execution_count": 1,
   "metadata": {},
   "outputs": [],
   "source": [
    "#Import the GIS object and authenticate\n",
    "from arcgis import GIS\n",
    "gis = GIS()"
   ]
  },
  {
   "cell_type": "markdown",
   "metadata": {},
   "source": [
    "### • Next, we need to find the content we want to grab. \n",
    "Here, we could open https://arcgis.com and search for `Census Tracts`. When I checked last, that search returned > 30,000 records! So we'd need to refine our search. If we knew the owner of the dataset, we could add `owner:` to our search. We can also filter by **item type** and even filter for **authoritative** datasets.  \n",
    "\n",
    "####   → Searching for content via AGOL: \n",
    "_First we'll search for objects in ArcGIS Online and familiarize ourselves with various attributes with our results._\n",
    "* Search ArcGIS.com for <u>`Census Tracts Areas`</u> <u>feature layers</u> owned by <u>`esri_dm`</u>.\n",
    "* Open the [link](https://www.arcgis.com/home/item.html?id=db3f9c8728dd44e4ad455e0c27a85eea) to the one result.\n",
    "* Note the URL for the link, particularly the *id* returned: db3f9c8728dd44e4ad455e0c27a85eea\n",
    "* Scroll to the bottom of the page. On the right side, find the [URL](https://services.arcgis.com/P3ePLMYs2RVChkJx/arcgis/rest/services/USA_Census_Tract_Areas_analysis_trim/FeatureServer) associated with the feature layer and open it in your browser. \n",
    " * Note this page also reveals the item's ID. \n",
    " * This page shows that the feature layer service serves just the one layer: `tracts_trim`.\n",
    "* Open the [link] to the `tracts_trim` feature layer's *REST endpoint*.\n",
    " * What attributes are associated with this layer? \n",
    " * How many records can be retrieved at one time from this service? \n",
    "* At the bottom of the page, find the link associated with the [Query](https://services.arcgis.com/P3ePLMYs2RVChkJx/ArcGIS/rest/services/USA_Census_Tract_Areas_analysis_trim/FeatureServer/0/query) interface for this layer.\n",
    "* In the query interface enter `FIPS LIKE '37063%'` as the *Where clause*. Then scroll to the bottom and click the `Query(GET)` button. \n",
    " * How many records are returned? \n",
    " * Modify the query to return output format as `GeoJSON` and click `Query(GET)` again. \n",
    " \n",
    "What we just did was use AGOL to find a layer, access its REST endpoint, and use the REST api to query Census tracts for Durham County, setting the output to be a GeoJSON object. We can copy these results into a text file and convert the GeoJSON to a feature class using ArcGIS Pro's [JSON To Features](https://pro.arcgis.com/en/pro-app/tool-reference/conversion/json-to-features.htm) tool or through Python pakages like Fiona or Geopandas (more on that later...)"
   ]
  },
  {
   "cell_type": "markdown",
   "metadata": {},
   "source": [
    "####   → Searching for content using the ArcGIS Python API\n",
    "Instead of using a web browser, we'll now use ArcGIS Python's APIs [GIS module](https://developers.arcgis.com/python/guide/the-gis-module/) (and its helpers) to search for and access census tract data for Durham Co.\n",
    "\n",
    "\n",
    "##### Step 1 is to use the API's [Content Manager] to search AGOL just like we did via the web browser. \n",
    " * Alter the code cell below filling in the same query string we used before for the `query=` option.\n",
    " * Next, specify the item_type to be a `Feature Layer`. \n",
    " * Finally, we add the `outside_org=True` option. _As we are using an anonymous connection to the GIS module, this doesn't really do anything. However, if we authenticated using our ArcGIS Pro app (_`gis = GIS('pro')`_) or with a username and password, we might default to our organization's portal, in which case this `outside_org=True` would be important."
   ]
  },
  {
   "cell_type": "code",
   "execution_count": 18,
   "metadata": {},
   "outputs": [
    {
     "data": {
      "text/plain": [
       "[<Item title:\"USA Census Tract Areas\" type:Feature Layer Collection owner:esri_dm>]"
      ]
     },
     "execution_count": 18,
     "metadata": {},
     "output_type": "execute_result"
    }
   ],
   "source": [
    "#Use the API's content' helper to search for feature layers with keyword Census and owner is \"esri_dm\"\n",
    "results = gis.content.search(query='Census Tracts Areas owner:esri_dm',\n",
    "                             item_type='Feature Layer',\n",
    "                             outside_org=True)\n",
    "#Show the list of results returned\n",
    "results"
   ]
  },
  {
   "cell_type": "markdown",
   "metadata": {},
   "source": [
    "``` ► More info and examples on searching:``` https://developers.arcgis.com/python/guide/accessing-and-creating-content/\n",
    "\n",
    "---\n",
    " \n",
    "Now that we have a set of results, let's drill into the items that are returned -- well just the one item that in our case. \n",
    "* First, we'll extract the one item as its own variable - `tractsItem` - and then examine properties of that object. "
   ]
  },
  {
   "cell_type": "code",
   "execution_count": 22,
   "metadata": {},
   "outputs": [
    {
     "data": {
      "text/plain": [
       "arcgis.gis.Item"
      ]
     },
     "execution_count": 22,
     "metadata": {},
     "output_type": "execute_result"
    }
   ],
   "source": [
    "#Extract the one returned item in the list to the \"tractsItem\" variable\n",
    "tractsItem = results[0]\n",
    "#Reveal the data type of this object\n",
    "type(tractsItem)"
   ]
  },
  {
   "cell_type": "code",
   "execution_count": 24,
   "metadata": {},
   "outputs": [
    {
     "data": {
      "text/html": [
       "<div class=\"item_container\" style=\"height: auto; overflow: hidden; border: 1px solid #cfcfcf; border-radius: 2px; background: #f6fafa; line-height: 1.21429em; padding: 10px;\">\n",
       "                    <div class=\"item_left\" style=\"width: 210px; float: left;\">\n",
       "                       <a href='https://www.arcgis.com/home/item.html?id=db3f9c8728dd44e4ad455e0c27a85eea' target='_blank'>\n",
       "                        <img src='https://www.arcgis.com/sharing/rest//content/items/db3f9c8728dd44e4ad455e0c27a85eea/info/thumbnail/thumbnail1563404541318.jpeg' class=\"itemThumbnail\">\n",
       "                       </a>\n",
       "                    </div>\n",
       "\n",
       "                    <div class=\"item_right\"     style=\"float: none; width: auto; overflow: hidden;\">\n",
       "                        <a href='https://www.arcgis.com/home/item.html?id=db3f9c8728dd44e4ad455e0c27a85eea' target='_blank'><b>USA Census Tract Areas</b>\n",
       "                        </a>\n",
       "                        <br/>This detailed layer provides boundaries for the 2010 U.S. Census tracts of the United States, with attributes optimized for analysis.<img src='https://www.arcgis.com/home/js/jsapi/esri/css/images/item_type_icons/featureshosted16.png' style=\"vertical-align:middle;\">Feature Layer Collection by esri_dm\n",
       "                        <br/>Last Modified: July 17, 2019\n",
       "                        <br/>0 comments, 98,924 views\n",
       "                    </div>\n",
       "                </div>\n",
       "                "
      ],
      "text/plain": [
       "<Item title:\"USA Census Tract Areas\" type:Feature Layer Collection owner:esri_dm>"
      ]
     },
     "execution_count": 24,
     "metadata": {},
     "output_type": "execute_result"
    }
   ],
   "source": [
    "#We can display the formatted AGOL info on that item:\n",
    "tractsItem"
   ]
  },
  {
   "cell_type": "code",
   "execution_count": 21,
   "metadata": {},
   "outputs": [],
   "source": [
    "#Show help documentation on the \"arcgis.gis.Item\" object\n",
    "?tractsItem"
   ]
  },
  {
   "cell_type": "markdown",
   "metadata": {},
   "source": [
    "Or, more detailed documentation on ArcGIS Item object is here:<br>\n",
    "→ https://developers.arcgis.com/python/api-reference/arcgis.gis.toc.html#item\n",
    "\n",
    "Open that link and view the methods associted with the object. What does the `content_status` function reveal? The `id` function? The `download` function? _Note that not all these functions will work on this item. Some of them are for modifying the actual feature layer hosted on AGOL, which we don't have privileges to do._ \n",
    "\n",
    "* Next, reveal the id associated with the item -- and compare that to the one you found by seaching AGOL in your browser? "
   ]
  },
  {
   "cell_type": "code",
   "execution_count": 29,
   "metadata": {},
   "outputs": [
    {
     "data": {
      "text/plain": [
       "'db3f9c8728dd44e4ad455e0c27a85eea'"
      ]
     },
     "execution_count": 29,
     "metadata": {},
     "output_type": "execute_result"
    }
   ],
   "source": [
    "#Reveal the id associated with this item\n",
    "tractsItem.id"
   ]
  },
  {
   "cell_type": "markdown",
   "metadata": {},
   "source": [
    "**TIP**: A feature layer's item is useful to know because we can use that to access the item directly, i.e., without having to search for it. "
   ]
  },
  {
   "cell_type": "code",
   "execution_count": 30,
   "metadata": {},
   "outputs": [
    {
     "data": {
      "text/html": [
       "<div class=\"item_container\" style=\"height: auto; overflow: hidden; border: 1px solid #cfcfcf; border-radius: 2px; background: #f6fafa; line-height: 1.21429em; padding: 10px;\">\n",
       "                    <div class=\"item_left\" style=\"width: 210px; float: left;\">\n",
       "                       <a href='https://www.arcgis.com/home/item.html?id=db3f9c8728dd44e4ad455e0c27a85eea' target='_blank'>\n",
       "                        <img src='https://www.arcgis.com/sharing/rest//content/items/db3f9c8728dd44e4ad455e0c27a85eea/info/thumbnail/thumbnail1563404541318.jpeg' class=\"itemThumbnail\">\n",
       "                       </a>\n",
       "                    </div>\n",
       "\n",
       "                    <div class=\"item_right\"     style=\"float: none; width: auto; overflow: hidden;\">\n",
       "                        <a href='https://www.arcgis.com/home/item.html?id=db3f9c8728dd44e4ad455e0c27a85eea' target='_blank'><b>USA Census Tract Areas</b>\n",
       "                        </a>\n",
       "                        <br/>This detailed layer provides boundaries for the 2010 U.S. Census tracts of the United States, with attributes optimized for analysis.<img src='https://www.arcgis.com/home/js/jsapi/esri/css/images/item_type_icons/featureshosted16.png' style=\"vertical-align:middle;\">Feature Layer Collection by esri_dm\n",
       "                        <br/>Last Modified: July 17, 2019\n",
       "                        <br/>0 comments, 98,926 views\n",
       "                    </div>\n",
       "                </div>\n",
       "                "
      ],
      "text/plain": [
       "<Item title:\"USA Census Tract Areas\" type:Feature Layer Collection owner:esri_dm>"
      ]
     },
     "execution_count": 30,
     "metadata": {},
     "output_type": "execute_result"
    }
   ],
   "source": [
    "#Extract the Census tracts layer directly, via its ID\n",
    "other_tractsItem = gis.content.get('db3f9c8728dd44e4ad455e0c27a85eea')\n",
    "other_tractsItem"
   ]
  },
  {
   "cell_type": "markdown",
   "metadata": {},
   "source": [
    "→ More info on the ArcGIS `item` object: https://esri.github.io/arcgis-python-api/apidoc/html/arcgis.gis.toc.html#item"
   ]
  },
  {
   "cell_type": "code",
   "execution_count": null,
   "metadata": {
    "scrolled": true
   },
   "outputs": [],
   "source": [
    "#Get the layer from the item\n",
    "tractsLyr = tractsItem.layers[0]\n",
    "type(tractsLyr)"
   ]
  },
  {
   "cell_type": "markdown",
   "metadata": {},
   "source": [
    "→ More info on the ArcGIS `layer` object: https://esri.github.io/arcgis-python-api/apidoc/html/arcgis.gis.toc.html#layer<br>\n",
    "→ More info on the ArcGIS `FeatureLayer` object: https://esri.github.io/arcgis-python-api/apidoc/html/arcgis.features.toc.html#featurelayer"
   ]
  },
  {
   "cell_type": "markdown",
   "metadata": {},
   "source": [
    "---\n",
    "### Subsetting and downloading content\n",
    "Now that we have what we want as a FeatureLayer object, we can query that layer for just the features we we want to download. Before diving into our query, we'll need to familiarize ourselves with the data. \n",
    "\n",
    "Below are a set of steps mirrored after ESRI's documentation on querying feature layers:<br>\n",
    "https://developers.arcgis.com/python/guide/working-with-feature-layers-and-features/#Querying-feature-layers"
   ]
  },
  {
   "cell_type": "markdown",
   "metadata": {},
   "source": [
    "* First, we could just examine the ESRI REST endpoint for this dataset. To do that, we'd just reveal the URL associated with the data layer..."
   ]
  },
  {
   "cell_type": "code",
   "execution_count": null,
   "metadata": {},
   "outputs": [],
   "source": [
    "print(tractsLyr.url)"
   ]
  },
  {
   "cell_type": "markdown",
   "metadata": {},
   "source": [
    "* Or we could remain in our Python coding environment and reveal key properties using API functions:"
   ]
  },
  {
   "cell_type": "code",
   "execution_count": null,
   "metadata": {},
   "outputs": [],
   "source": [
    "#List the fields associated with the raster\n",
    "for f in tractsLyr.properties.fields:\n",
    "    print(f['name'],end=', ')"
   ]
  },
  {
   "cell_type": "markdown",
   "metadata": {},
   "source": [
    "* Now we'll construct a query function, much like if we were invoking the REST interface, but instead using the API functions, which streamline these things. "
   ]
  },
  {
   "cell_type": "code",
   "execution_count": null,
   "metadata": {},
   "outputs": [],
   "source": [
    "#Query the tracts feature layer for records falling within Durham Co (FIPS 37063)\n",
    "query_result = tractsLyr.query(\"GEOID LIKE '37063%'\")\n",
    "type(query_result)"
   ]
  },
  {
   "cell_type": "markdown",
   "metadata": {},
   "source": [
    "→ More info on the `Feature Set` object: https://esri.github.io/arcgis-python-api/apidoc/html/arcgis.features.toc.html#featureset"
   ]
  },
  {
   "cell_type": "code",
   "execution_count": null,
   "metadata": {},
   "outputs": [],
   "source": [
    "#Reveal how many features were extracted: \n",
    "len(query_result)"
   ]
  },
  {
   "cell_type": "code",
   "execution_count": null,
   "metadata": {},
   "outputs": [],
   "source": [
    "#Save the feature set as shapefile\n",
    "outFN = query_result.save('.','MyFeatures')\n",
    "print(\"Output saved as {}\".format(outFN))"
   ]
  },
  {
   "cell_type": "markdown",
   "metadata": {},
   "source": [
    "### Or, analyzing the data here, as a dataframe"
   ]
  },
  {
   "cell_type": "code",
   "execution_count": null,
   "metadata": {},
   "outputs": [],
   "source": [
    "#Convert the feature set data as a dataframe\n",
    "df = query_result.sdf\n",
    "df.head()"
   ]
  },
  {
   "cell_type": "markdown",
   "metadata": {},
   "source": [
    "* Note the output has a column called \"SHAPE\". These values are ArcGIS API `geometry` objects. "
   ]
  },
  {
   "cell_type": "markdown",
   "metadata": {},
   "source": [
    "#### Analyzing geometry"
   ]
  },
  {
   "cell_type": "code",
   "execution_count": null,
   "metadata": {},
   "outputs": [],
   "source": [
    "#Get the value in the first row of the \"SHAPE\" column\n",
    "feat = df.loc[0,'SHAPE']\n",
    "type(feat)"
   ]
  },
  {
   "cell_type": "markdown",
   "metadata": {},
   "source": [
    "https://esri.github.io/arcgis-python-api/apidoc/html/arcgis.geometry.html#arcgis.geometry.Geometry.get_area"
   ]
  },
  {
   "cell_type": "code",
   "execution_count": null,
   "metadata": {},
   "outputs": [],
   "source": [
    "#Get the area, in square miles\n",
    "feat.get_area(method='GEODESIC',units='MILES')"
   ]
  },
  {
   "cell_type": "markdown",
   "metadata": {},
   "source": [
    "#### Analyzing age demographics"
   ]
  },
  {
   "cell_type": "code",
   "execution_count": null,
   "metadata": {},
   "outputs": [],
   "source": [
    "#Grab the first 10 columns into a new dataframe\n",
    "ageColsDF = df.iloc[:,:9]"
   ]
  },
  {
   "cell_type": "code",
   "execution_count": null,
   "metadata": {},
   "outputs": [],
   "source": [
    "#Summarize those columns\n",
    "ageColsDF.describe()"
   ]
  },
  {
   "cell_type": "code",
   "execution_count": null,
   "metadata": {},
   "outputs": [],
   "source": [
    "#Plot demographics: count within each age group\n",
    "ageCols.sum()"
   ]
  },
  {
   "cell_type": "code",
   "execution_count": null,
   "metadata": {},
   "outputs": [],
   "source": [
    "%matplotlib inline\n",
    "ageCols.sum().plot(kind='bar');"
   ]
  }
 ],
 "metadata": {
  "kernelspec": {
   "display_name": "Python 3",
   "language": "python",
   "name": "python3"
  },
  "language_info": {
   "codemirror_mode": {
    "name": "ipython",
    "version": 3
   },
   "file_extension": ".py",
   "mimetype": "text/x-python",
   "name": "python",
   "nbconvert_exporter": "python",
   "pygments_lexer": "ipython3",
   "version": "3.6.8"
  }
 },
 "nbformat": 4,
 "nbformat_minor": 2
}
