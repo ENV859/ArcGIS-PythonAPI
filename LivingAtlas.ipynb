{
 "cells": [
  {
   "cell_type": "code",
   "execution_count": 4,
   "metadata": {},
   "outputs": [],
   "source": [
    "from arcgis import GIS\n",
    "gis = GIS('pro')"
   ]
  },
  {
   "cell_type": "markdown",
   "metadata": {},
   "source": [
    "* In AGOL, select the Content tab, then select Living Atlas.\n",
    "* Search for `NHD`\n",
    "* Select [USA National Hydrography Dataset Plus](http://dukeuniv.maps.arcgis.com/home/item.html?id=5600cf6b463043ec97b764fb258997be)\n",
    "* Note the item id in the web address: `5600cf6b463043ec97b764fb258997be`"
   ]
  },
  {
   "cell_type": "code",
   "execution_count": 5,
   "metadata": {},
   "outputs": [
    {
     "data": {
      "text/html": [
       "<div class=\"item_container\" style=\"height: auto; overflow: hidden; border: 1px solid #cfcfcf; border-radius: 2px; background: #f6fafa; line-height: 1.21429em; padding: 10px;\">\n",
       "                    <div class=\"item_left\" style=\"width: 210px; float: left;\">\n",
       "                       <a href='https://www.arcgis.com//home/item.html?id=5600cf6b463043ec97b764fb258997be' target='_blank'>\n",
       "                        <img src='data:image/png;base64,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' width='200' height='133' class=\"itemThumbnail\">\n",
       "                       </a>\n",
       "                    </div>\n",
       "\n",
       "                    <div class=\"item_right\"     style=\"float: none; width: auto; overflow: hidden;\">\n",
       "                        <a href='https://www.arcgis.com//home/item.html?id=5600cf6b463043ec97b764fb258997be' target='_blank'><b>USA National Hydrography Dataset Plus Version 2.1 - Seamless</b>\n",
       "                        </a>\n",
       "                        <br/>This layer displays flowline, area, waterbody, sink, catchment and watershed boundary features from the NHDPlusV2.1 National Seamless Vector Denormalized Dataset.<img src='https://www.arcgis.com//home/js/jsapi/esri/css/images/item_type_icons/mapimages16.png' style=\"vertical-align:middle;\">Map Image Layer by esri\n",
       "                        <br/>Last Modified: November 13, 2018\n",
       "                        <br/>0 comments, 39,332 views\n",
       "                    </div>\n",
       "                </div>\n",
       "                "
      ],
      "text/plain": [
       "<Item title:\"USA National Hydrography Dataset Plus Version 2.1 - Seamless\" type:Map Image Layer owner:esri>"
      ]
     },
     "execution_count": 5,
     "metadata": {},
     "output_type": "execute_result"
    }
   ],
   "source": [
    "itemID = '5600cf6b463043ec97b764fb258997be'\n",
    "theItem = gis.content.get(itemID)\n",
    "theItem"
   ]
  },
  {
   "cell_type": "code",
   "execution_count": 6,
   "metadata": {},
   "outputs": [
    {
     "data": {
      "text/plain": [
       "[<FeatureLayer url:\"https://landscape1.arcgis.com/arcgis/rest/services/USA_NHDPlusV2_1_Flat/MapServer/0\">,\n",
       " <FeatureLayer url:\"https://landscape1.arcgis.com/arcgis/rest/services/USA_NHDPlusV2_1_Flat/MapServer/1\">,\n",
       " <FeatureLayer url:\"https://landscape1.arcgis.com/arcgis/rest/services/USA_NHDPlusV2_1_Flat/MapServer/2\">,\n",
       " <FeatureLayer url:\"https://landscape1.arcgis.com/arcgis/rest/services/USA_NHDPlusV2_1_Flat/MapServer/3\">,\n",
       " <FeatureLayer url:\"https://landscape1.arcgis.com/arcgis/rest/services/USA_NHDPlusV2_1_Flat/MapServer/4\">,\n",
       " <FeatureLayer url:\"https://landscape1.arcgis.com/arcgis/rest/services/USA_NHDPlusV2_1_Flat/MapServer/5\">]"
      ]
     },
     "execution_count": 6,
     "metadata": {},
     "output_type": "execute_result"
    }
   ],
   "source": [
    "theLayers = theItem.layers\n",
    "theLayers"
   ]
  },
  {
   "cell_type": "code",
   "execution_count": 7,
   "metadata": {},
   "outputs": [
    {
     "name": "stdout",
     "output_type": "stream",
     "text": [
      "Sinks\n",
      "Watershed Boundary - Hydrologic Unit 12\n",
      "Catchment Boundary\n",
      "Waterbodies - Feature Type\n",
      "Areas - Feature Type\n",
      "Streams - Best Estimate of Actual Mean Annual Flow (cfs)\n"
     ]
    }
   ],
   "source": [
    "for theLayer in theLayers:\n",
    "    print(theLayer.properties.name)"
   ]
  },
  {
   "cell_type": "code",
   "execution_count": 8,
   "metadata": {},
   "outputs": [
    {
     "data": {
      "text/plain": [
       "<FeatureLayer url:\"https://landscape1.arcgis.com/arcgis/rest/services/USA_NHDPlusV2_1_Flat/MapServer/5\">"
      ]
     },
     "execution_count": 8,
     "metadata": {},
     "output_type": "execute_result"
    }
   ],
   "source": [
    "#Get the Streams layer\n",
    "stream_layer = theLayers[5]\n",
    "stream_layer"
   ]
  },
  {
   "cell_type": "code",
   "execution_count": 9,
   "metadata": {},
   "outputs": [
    {
     "data": {
      "text/plain": [
       "'Map,Query,Data'"
      ]
     },
     "execution_count": 9,
     "metadata": {},
     "output_type": "execute_result"
    }
   ],
   "source": [
    "#Reveal the capabilities associated with this layer\n",
    "stream_layer.properties.capabilities"
   ]
  },
  {
   "cell_type": "code",
   "execution_count": 22,
   "metadata": {},
   "outputs": [
    {
     "name": "stdout",
     "output_type": "stream",
     "text": [
      "objectid, comid, resolution, gnis_id, gnis_name, lengthkm, reachcode, flowdir, wbareacomi, ftype, fcode, streamleve, streamorde, streamcalc, fromnode, tonode, hydroseq, levelpathi, pathlength, terminalpa, arbolatesu, divergence, startflag, terminalfl, dnlevel, uplevelpat, uphydroseq, dnlevelpat, dnminorhyd, dndraincou, dnhydroseq, frommeas, tomeas, rtndiv, areasqkm, totdasqkm, divdasqkm, hwnodesqkm, maxelevsmo, minelevsmo, slope, elevfixed, hwtype, slopelenkm, qincr0001a, q0001c, v0001c, q0001e, v0001e, temp0001, ppt0001, pet0001, qg0001nav, gageadj, avgqadj, smgageid, smgageq, shape, "
     ]
    }
   ],
   "source": [
    "#Reveal the fields\n",
    "for f in stream_layer.properties.fields:\n",
    "    print (f.name,end=', ')"
   ]
  },
  {
   "cell_type": "code",
   "execution_count": 11,
   "metadata": {},
   "outputs": [
    {
     "data": {
      "text/plain": [
       "arcgis.features.feature.FeatureSet"
      ]
     },
     "execution_count": 11,
     "metadata": {},
     "output_type": "execute_result"
    }
   ],
   "source": [
    "#Query for a specific comid\n",
    "query_results = stream_layer.query(where='objectid=100')\n",
    "type(query_results)"
   ]
  },
  {
   "cell_type": "code",
   "execution_count": 15,
   "metadata": {},
   "outputs": [
    {
     "name": "stdout",
     "output_type": "stream",
     "text": [
      "01010002000074\n"
     ]
    }
   ],
   "source": [
    "features = query_results.features\n",
    "for feat in features:\n",
    "    print (feat.attributes['reachcode'])"
   ]
  },
  {
   "cell_type": "code",
   "execution_count": 28,
   "metadata": {},
   "outputs": [
    {
     "data": {
      "text/html": [
       "<div>\n",
       "<style scoped>\n",
       "    .dataframe tbody tr th:only-of-type {\n",
       "        vertical-align: middle;\n",
       "    }\n",
       "\n",
       "    .dataframe tbody tr th {\n",
       "        vertical-align: top;\n",
       "    }\n",
       "\n",
       "    .dataframe thead th {\n",
       "        text-align: right;\n",
       "    }\n",
       "</style>\n",
       "<table border=\"1\" class=\"dataframe\">\n",
       "  <thead>\n",
       "    <tr style=\"text-align: right;\">\n",
       "      <th></th>\n",
       "      <th>SHAPE</th>\n",
       "      <th>arbolatesu</th>\n",
       "      <th>areasqkm</th>\n",
       "      <th>avgqadj</th>\n",
       "      <th>comid</th>\n",
       "      <th>divdasqkm</th>\n",
       "      <th>divergence</th>\n",
       "      <th>dndraincou</th>\n",
       "      <th>dnhydroseq</th>\n",
       "      <th>dnlevel</th>\n",
       "      <th>...</th>\n",
       "      <th>terminalfl</th>\n",
       "      <th>terminalpa</th>\n",
       "      <th>tomeas</th>\n",
       "      <th>tonode</th>\n",
       "      <th>totdasqkm</th>\n",
       "      <th>uphydroseq</th>\n",
       "      <th>uplevelpat</th>\n",
       "      <th>v0001c</th>\n",
       "      <th>v0001e</th>\n",
       "      <th>wbareacomi</th>\n",
       "    </tr>\n",
       "  </thead>\n",
       "  <tbody>\n",
       "    <tr>\n",
       "      <th>0</th>\n",
       "      <td>{\"paths\": [[[-7729120.3355, 5856275.5458], [-7...</td>\n",
       "      <td>39.697</td>\n",
       "      <td>2.6838</td>\n",
       "      <td>0</td>\n",
       "      <td>719942</td>\n",
       "      <td>74.2221</td>\n",
       "      <td>0</td>\n",
       "      <td>1</td>\n",
       "      <td>150020711</td>\n",
       "      <td>6</td>\n",
       "      <td>...</td>\n",
       "      <td>0</td>\n",
       "      <td>150002518</td>\n",
       "      <td>100</td>\n",
       "      <td>150001443</td>\n",
       "      <td>74.2221</td>\n",
       "      <td>150024742</td>\n",
       "      <td>150019243</td>\n",
       "      <td>1.2099</td>\n",
       "      <td>1.2099</td>\n",
       "      <td>0</td>\n",
       "    </tr>\n",
       "  </tbody>\n",
       "</table>\n",
       "<p>1 rows × 58 columns</p>\n",
       "</div>"
      ],
      "text/plain": [
       "                                               SHAPE  arbolatesu  areasqkm  \\\n",
       "0  {\"paths\": [[[-7729120.3355, 5856275.5458], [-7...      39.697    2.6838   \n",
       "\n",
       "   avgqadj   comid  divdasqkm  divergence  dndraincou  dnhydroseq  dnlevel  \\\n",
       "0        0  719942    74.2221           0           1   150020711        6   \n",
       "\n",
       "   ...  terminalfl  terminalpa tomeas     tonode totdasqkm  uphydroseq  \\\n",
       "0  ...           0   150002518    100  150001443   74.2221   150024742   \n",
       "\n",
       "   uplevelpat  v0001c  v0001e wbareacomi  \n",
       "0   150019243  1.2099  1.2099          0  \n",
       "\n",
       "[1 rows x 58 columns]"
      ]
     },
     "execution_count": 28,
     "metadata": {},
     "output_type": "execute_result"
    }
   ],
   "source": [
    "query_results.sdf"
   ]
  },
  {
   "cell_type": "markdown",
   "metadata": {},
   "source": [
    "https://developers.arcgis.com/python/guide/analyzing-patterns-in-feature-data/"
   ]
  },
  {
   "cell_type": "code",
   "execution_count": 13,
   "metadata": {},
   "outputs": [
    {
     "data": {
      "application/vnd.jupyter.widget-view+json": {
       "model_id": "96301ef1cf3f42829ddf729cef8fe9ed",
       "version_major": 2,
       "version_minor": 0
      },
      "text/plain": [
       "MapView(layout=Layout(height='400px', width='100%'))"
      ]
     },
     "metadata": {},
     "output_type": "display_data"
    },
    {
     "data": {
      "text/html": [
       "<div class=\"map-static-img-preview-afe2042a-d3d0-4882-859b-c7a820530c43\"><img src=\"\"></img></div>"
      ],
      "text/plain": [
       "<IPython.core.display.HTML object>"
      ]
     },
     "metadata": {},
     "output_type": "display_data"
    }
   ],
   "source": [
    "m = gis.map()\n",
    "m.add_layer(query_results)\n",
    "m"
   ]
  }
 ],
 "metadata": {
  "kernelspec": {
   "display_name": "Python 3",
   "language": "python",
   "name": "python3"
  },
  "language_info": {
   "codemirror_mode": {
    "name": "ipython",
    "version": 3
   },
   "file_extension": ".py",
   "mimetype": "text/x-python",
   "name": "python",
   "nbconvert_exporter": "python",
   "pygments_lexer": "ipython3",
   "version": "3.6.8"
  }
 },
 "nbformat": 4,
 "nbformat_minor": 2
}
