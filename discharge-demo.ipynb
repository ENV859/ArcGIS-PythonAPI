{
 "cells": [
  {
   "cell_type": "code",
   "execution_count": 1,
   "metadata": {},
   "outputs": [],
   "source": [
    "from arcgis import GIS\n",
    "try:\n",
    "    gis = GIS('proa')\n",
    "except:\n",
    "    gis = GIS()"
   ]
  },
  {
   "cell_type": "code",
   "execution_count": 2,
   "metadata": {},
   "outputs": [
    {
     "data": {
      "text/plain": [
       "[<Item title:\"Watershed Boundaries\" type:Map Image Layer owner:Federal_User_Community>,\n",
       " <Item title:\"Great Smoky Mountains Watersheds\" type:Web Map owner:Federal_User_Community>,\n",
       " <Item title:\"Hydrography Viewer\" type:Web Mapping Application owner:Federal_User_Community>,\n",
       " <Item title:\"Great Smoky Mountains Downstream Flow Path\" type:Web Map owner:Federal_User_Community>,\n",
       " <Item title:\"Great Smoky Mountains Watersheds\" type:Feature Layer Collection owner:Federal_User_Community>]"
      ]
     },
     "execution_count": 2,
     "metadata": {},
     "output_type": "execute_result"
    }
   ],
   "source": [
    "#Search for a dataset of HUCs \n",
    "search_results = gis.content.search('Watershed Boundaries owner:Federal_User_Community',\n",
    "                                    outside_org=True)\n",
    "search_results"
   ]
  },
  {
   "cell_type": "code",
   "execution_count": 3,
   "metadata": {},
   "outputs": [
    {
     "data": {
      "text/html": [
       "<div class=\"item_container\" style=\"height: auto; overflow: hidden; border: 1px solid #cfcfcf; border-radius: 2px; background: #f6fafa; line-height: 1.21429em; padding: 10px;\">\n",
       "                    <div class=\"item_left\" style=\"width: 210px; float: left;\">\n",
       "                       <a href='https://www.arcgis.com/home/item.html?id=4c08f2e2b13741da96ad4a8f6aa5e36a' target='_blank'>\n",
       "                        <img src='https://www.arcgis.com/sharing/rest//content/items/4c08f2e2b13741da96ad4a8f6aa5e36a/info/thumbnail/U.S._Geological_Survey_Watershed_Boundaries_-_screen_capture_new_200x133.png' class=\"itemThumbnail\">\n",
       "                       </a>\n",
       "                    </div>\n",
       "\n",
       "                    <div class=\"item_right\"     style=\"float: none; width: auto; overflow: hidden;\">\n",
       "                        <a href='https://www.arcgis.com/home/item.html?id=4c08f2e2b13741da96ad4a8f6aa5e36a' target='_blank'><b>Watershed Boundaries</b>\n",
       "                        </a>\n",
       "                        <br/>This U.S. Geological Survey (USGS) map layer displays the National Watershed Boundary Dataset (WBD)<img src='https://www.arcgis.com/home/js/jsapi/esri/css/images/item_type_icons/mapimages16.png' style=\"vertical-align:middle;\">Map Image Layer by Federal_User_Community\n",
       "                        <br/>Last Modified: June 26, 2018\n",
       "                        <br/>6 comments, 124,641 views\n",
       "                    </div>\n",
       "                </div>\n",
       "                "
      ],
      "text/plain": [
       "<Item title:\"Watershed Boundaries\" type:Map Image Layer owner:Federal_User_Community>"
      ]
     },
     "execution_count": 3,
     "metadata": {},
     "output_type": "execute_result"
    }
   ],
   "source": [
    "item = search_results[0]\n",
    "item"
   ]
  },
  {
   "cell_type": "code",
   "execution_count": 4,
   "metadata": {},
   "outputs": [
    {
     "data": {
      "text/plain": [
       "'4c08f2e2b13741da96ad4a8f6aa5e36a'"
      ]
     },
     "execution_count": 4,
     "metadata": {},
     "output_type": "execute_result"
    }
   ],
   "source": [
    "item.id"
   ]
  },
  {
   "cell_type": "code",
   "execution_count": 5,
   "metadata": {},
   "outputs": [
    {
     "name": "stdout",
     "output_type": "stream",
     "text": [
      "WBDLine Feature Layer\n",
      "2-digit HU (Region) Feature Layer\n",
      "4-digit HU (Subregion) Feature Layer\n",
      "6-digit HU (Basin) Feature Layer\n",
      "8-digit HU  (Subbasin) Feature Layer\n",
      "10-digit HU (Watershed) Feature Layer\n",
      "12-digit HU (Subwatershed) Feature Layer\n",
      "14-digit HU Feature Layer\n"
     ]
    }
   ],
   "source": [
    "layers = item.layers\n",
    "for layer in layers:\n",
    "    print (layer.properties.name, layer.properties.type)"
   ]
  },
  {
   "cell_type": "markdown",
   "metadata": {},
   "source": [
    "Layers: https://developers.arcgis.com/python/guide/working-with-feature-layers-and-features/"
   ]
  },
  {
   "cell_type": "code",
   "execution_count": 6,
   "metadata": {},
   "outputs": [
    {
     "name": "stdout",
     "output_type": "stream",
     "text": [
      "OBJECTID\n",
      "SHAPE\n",
      "TNMID\n",
      "METASOURCEID\n",
      "SOURCEDATADESC\n",
      "SOURCEORIGINATOR\n",
      "SOURCEFEATUREID\n",
      "LOADDATE\n",
      "GNIS_ID\n",
      "AREAACRES\n",
      "AREASQKM\n",
      "STATES\n",
      "HUC8\n",
      "NAME\n",
      "SHAPE_Length\n",
      "SHAPE_Area\n"
     ]
    }
   ],
   "source": [
    "huc8 = layers[4]\n",
    "for fld in huc8.properties.fields:\n",
    "    print (fld.name)"
   ]
  },
  {
   "cell_type": "code",
   "execution_count": 7,
   "metadata": {},
   "outputs": [
    {
     "name": "stdout",
     "output_type": "stream",
     "text": [
      "https://hydro.nationalmap.gov/arcgis/rest/services/wbd/MapServer/4\n"
     ]
    }
   ],
   "source": [
    "#from arcgis.features import FeatureLayer\n",
    "print(huc8.url)"
   ]
  },
  {
   "cell_type": "markdown",
   "metadata": {},
   "source": [
    "https://developers.arcgis.com/labs/rest/query-a-feature-layer/\n",
    "\n",
    "https://hydro.nationalmap.gov/arcgis/rest/services/wbd/MapServer/4/query?where=1%3D1&text=&objectIds=&time=&geometry=%7B%0D%0A%22x%22+%3A+-78.15%2C+%22y%22+%3A+36.00%2C+%22spatialReference%22+%3A+%7B%22wkid%22+%3A+4326%7D%0D%0A%7D&geometryType=esriGeometryPoint&inSR=4326&spatialRel=esriSpatialRelIntersects&relationParam=&outFields=&returnGeometry=true&returnTrueCurves=false&maxAllowableOffset=&geometryPrecision=&outSR=&having=&returnIdsOnly=false&returnCountOnly=false&orderByFields=&groupByFieldsForStatistics=&outStatistics=&returnZ=false&returnM=false&gdbVersion=&historicMoment=&returnDistinctValues=false&resultOffset=&resultRecordCount=&queryByDistance=&returnExtentOnly=false&datumTransformation=&parameterValues=&rangeValues=&quantizationParameters=&featureEncoding=esriDefault&f=html"
   ]
  },
  {
   "cell_type": "code",
   "execution_count": 8,
   "metadata": {},
   "outputs": [],
   "source": [
    "strRest = 'https://hydro.nationalmap.gov/arcgis/rest/services/wbd/MapServer/4/query?where=1%3D1&text=&objectIds=&time=&geometry=%7B%0D%0A%22x%22+%3A+-78.15%2C+%22y%22+%3A+36.00%2C+%22spatialReference%22+%3A+%7B%22wkid%22+%3A+4326%7D%0D%0A%7D&geometryType=esriGeometryPoint&inSR=4326&spatialRel=esriSpatialRelIntersects&relationParam=&outFields=&returnGeometry=true&returnTrueCurves=false&maxAllowableOffset=&geometryPrecision=&outSR=&having=&returnIdsOnly=false&returnCountOnly=false&orderByFields=&groupByFieldsForStatistics=&outStatistics=&returnZ=false&returnM=false&gdbVersion=&historicMoment=&returnDistinctValues=false&resultOffset=&resultRecordCount=&queryByDistance=&returnExtentOnly=false&datumTransformation=&parameterValues=&rangeValues=&quantizationParameters=&featureEncoding=esriDefault&f=html'"
   ]
  },
  {
   "cell_type": "code",
   "execution_count": 9,
   "metadata": {},
   "outputs": [],
   "source": [
    "strItems = strRest.split(\"&\")\n",
    "strDict = {}\n",
    "for item in strItems[1:]:\n",
    "    k,v = item.split('=')\n",
    "    strDict[k]=v"
   ]
  },
  {
   "cell_type": "code",
   "execution_count": 10,
   "metadata": {},
   "outputs": [
    {
     "data": {
      "text/plain": [
       "dict_keys(['text', 'objectIds', 'time', 'geometry', 'geometryType', 'inSR', 'spatialRel', 'relationParam', 'outFields', 'returnGeometry', 'returnTrueCurves', 'maxAllowableOffset', 'geometryPrecision', 'outSR', 'having', 'returnIdsOnly', 'returnCountOnly', 'orderByFields', 'groupByFieldsForStatistics', 'outStatistics', 'returnZ', 'returnM', 'gdbVersion', 'historicMoment', 'returnDistinctValues', 'resultOffset', 'resultRecordCount', 'queryByDistance', 'returnExtentOnly', 'datumTransformation', 'parameterValues', 'rangeValues', 'quantizationParameters', 'featureEncoding', 'f'])"
      ]
     },
     "execution_count": 10,
     "metadata": {},
     "output_type": "execute_result"
    }
   ],
   "source": [
    "strDict.keys()"
   ]
  },
  {
   "cell_type": "code",
   "execution_count": 11,
   "metadata": {},
   "outputs": [
    {
     "data": {
      "text/plain": [
       "'%7B%0D%0A%22x%22+%3A+-78.15%2C+%22y%22+%3A+36.00%2C+%22spatialReference%22+%3A+%7B%22wkid%22+%3A+4326%7D%0D%0A%7D'"
      ]
     },
     "execution_count": 11,
     "metadata": {},
     "output_type": "execute_result"
    }
   ],
   "source": [
    "strDict['geometry']"
   ]
  },
  {
   "cell_type": "markdown",
   "metadata": {},
   "source": [
    "Create the point used to select the HUC8\n",
    "\n",
    "https://developers.arcgis.com/python/api-reference/arcgis.geometry.html?highlight=geometry#module-arcgis.geometry"
   ]
  },
  {
   "cell_type": "code",
   "execution_count": 12,
   "metadata": {},
   "outputs": [],
   "source": [
    "\n",
    "from arcgis.geometry import Point, filters\n",
    "pt = Point({\"x\" : -78.15, \"y\" : 36.00, \"spatialReference\" : {\"wkid\" : 4326}})\n"
   ]
  },
  {
   "cell_type": "code",
   "execution_count": 13,
   "metadata": {},
   "outputs": [
    {
     "data": {
      "text/plain": [
       "'Map,Query,Data'"
      ]
     },
     "execution_count": 13,
     "metadata": {},
     "output_type": "execute_result"
    }
   ],
   "source": [
    "huc8.properties.capabilities"
   ]
  },
  {
   "cell_type": "code",
   "execution_count": 14,
   "metadata": {},
   "outputs": [],
   "source": [
    "query_result = huc8.query(where='1=1',geometry_filter=filters.intersects(pt))"
   ]
  },
  {
   "cell_type": "code",
   "execution_count": 15,
   "metadata": {},
   "outputs": [
    {
     "data": {
      "text/plain": [
       "{'wkid': 102100, 'latestWkid': 3857}"
      ]
     },
     "execution_count": 15,
     "metadata": {},
     "output_type": "execute_result"
    }
   ],
   "source": [
    "query_result.spatial_reference"
   ]
  },
  {
   "cell_type": "code",
   "execution_count": 16,
   "metadata": {},
   "outputs": [
    {
     "data": {
      "text/plain": [
       "(1, 16)"
      ]
     },
     "execution_count": 16,
     "metadata": {},
     "output_type": "execute_result"
    }
   ],
   "source": [
    "query_result.sdf.shape"
   ]
  },
  {
   "cell_type": "code",
   "execution_count": 17,
   "metadata": {},
   "outputs": [],
   "source": [
    "sdf = query_result.sdf"
   ]
  },
  {
   "cell_type": "code",
   "execution_count": 19,
   "metadata": {},
   "outputs": [
    {
     "data": {
      "text/plain": [
       "0    03020101\n",
       "Name: HUC8, dtype: object"
      ]
     },
     "execution_count": 19,
     "metadata": {},
     "output_type": "execute_result"
    }
   ],
   "source": [
    "sdf.HUC8"
   ]
  }
 ],
 "metadata": {
  "kernelspec": {
   "display_name": "Python 3",
   "language": "python",
   "name": "python3"
  },
  "language_info": {
   "codemirror_mode": {
    "name": "ipython",
    "version": 3
   },
   "file_extension": ".py",
   "mimetype": "text/x-python",
   "name": "python",
   "nbconvert_exporter": "python",
   "pygments_lexer": "ipython3",
   "version": "3.6.8"
  }
 },
 "nbformat": 4,
 "nbformat_minor": 2
}
