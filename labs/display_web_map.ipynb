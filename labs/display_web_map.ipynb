{
 "cells": [
  {
   "cell_type": "markdown",
   "metadata": {},
   "source": [
    "# Display Web Map Tutorial\n",
    "\n",
    "This is the completed solution for the [Display a Web Map](https://developers.arcgis.com/labs/data/python/display-webmap/) tutorial. [ArcGIS tutorials](https://developers.arcgis.com/labs/) are short guides demonstrating the three phases of building geospatial apps: Data, Design, Develop."
   ]
  },
  {
   "cell_type": "code",
   "execution_count": 1,
   "metadata": {},
   "outputs": [],
   "source": [
    "from arcgis.gis import GIS\n",
    "gis = GIS()"
   ]
  },
  {
   "cell_type": "markdown",
   "metadata": {},
   "source": [
    "Let's search for a Los Angeles Parks and Trails Map. "
   ]
  },
  {
   "cell_type": "code",
   "execution_count": 2,
   "metadata": {},
   "outputs": [
    {
     "data": {
      "text/plain": [
       "[<Item title:\"Tree Canopy by City in Minnesota\" type:Web Map owner:vikalpa>,\n",
       " <Item title:\"Vaals3\" type:Web Map owner:haicao1975>,\n",
       " <Item title:\"LA Parks and Trails Map (styled)\" type:Web Map owner:esri_devlabs>,\n",
       " <Item title:\"San Diego Shortlist Cool Places to Go\" type:Web Map owner:ec249>,\n",
       " <Item title:\"LA Parks and Trails Map (unstyled)-Copy\" type:Web Map owner:nicolemichelle13>,\n",
       " <Item title:\"Santa Monica Mountains Map - Route Multiple Vehicles Solution\" type:Web Map owner:esri_devlabs>,\n",
       " <Item title:\"San Diego Places To Go-复制\" type:Web Map owner:win_001>,\n",
       " <Item title:\"LA Parks and Trails Map (unstyled)-Copy\" type:Web Map owner:tinytonson04>,\n",
       " <Item title:\"LA Parks and Trails Map (unstyled)-Copy\" type:Web Map owner:hosweh>,\n",
       " <Item title:\"bamboo\" type:Web Map owner:alamsiam1>]"
      ]
     },
     "execution_count": 2,
     "metadata": {},
     "output_type": "execute_result"
    }
   ],
   "source": [
    "webmaps = gis.content.search(query=\"LA Parks and Trails *\", item_type=\"Web Map\")\n",
    "webmaps"
   ]
  },
  {
   "cell_type": "markdown",
   "metadata": {},
   "source": [
    "The index position for the LA Parks and Trails Map in your search list may vary from the example."
   ]
  },
  {
   "cell_type": "code",
   "execution_count": 3,
   "metadata": {},
   "outputs": [
    {
     "data": {
      "text/html": [
       "<div class=\"item_container\" style=\"height: auto; overflow: hidden; border: 1px solid #cfcfcf; border-radius: 2px; background: #f6fafa; line-height: 1.21429em; padding: 10px;\">\n",
       "                    <div class=\"item_left\" style=\"width: 210px; float: left;\">\n",
       "                       <a href='https://www.arcgis.com/home/item.html?id=6712da5c872c44deaf24499e6f6c2d2b' target='_blank'>\n",
       "                        <img src='https://www.arcgis.com/sharing/rest//content/items/6712da5c872c44deaf24499e6f6c2d2b/info/thumbnail/ago_downloaded.png' class=\"itemThumbnail\">\n",
       "                       </a>\n",
       "                    </div>\n",
       "\n",
       "                    <div class=\"item_right\"     style=\"float: none; width: auto; overflow: hidden;\">\n",
       "                        <a href='https://www.arcgis.com/home/item.html?id=6712da5c872c44deaf24499e6f6c2d2b' target='_blank'><b>LA Parks and Trails Map (styled)</b>\n",
       "                        </a>\n",
       "                        <br/>Trails and parks in the LA area (styled)<img src='https://www.arcgis.com/home/js/jsapi/esri/css/images/item_type_icons/maps16.png' style=\"vertical-align:middle;\">Web Map by esri_devlabs\n",
       "                        <br/>Last Modified: October 04, 2017\n",
       "                        <br/>0 comments, 3,004 views\n",
       "                    </div>\n",
       "                </div>\n",
       "                "
      ],
      "text/plain": [
       "<Item title:\"LA Parks and Trails Map (styled)\" type:Web Map owner:esri_devlabs>"
      ]
     },
     "execution_count": 3,
     "metadata": {},
     "output_type": "execute_result"
    }
   ],
   "source": [
    "webmap = webmaps[2]\n",
    "webmap"
   ]
  },
  {
   "cell_type": "markdown",
   "metadata": {},
   "source": [
    "## To display a web scene in your notebook, query the `WebMap` object."
   ]
  },
  {
   "cell_type": "code",
   "execution_count": 4,
   "metadata": {},
   "outputs": [
    {
     "data": {
      "application/vnd.jupyter.widget-view+json": {
       "model_id": "c6fc199f26b04dd69d854119291c14c8",
       "version_major": 2,
       "version_minor": 0
      },
      "text/plain": [
       "MapView(hide_mode_switch=True, layout=Layout(height='400px', width='100%'))"
      ]
     },
     "metadata": {},
     "output_type": "display_data"
    },
    {
     "data": {
      "text/html": [
       "<div class=\"map-static-img-preview-47bbaaec-b0a3-406f-b4c6-829f1ab58c3b\"><img src=\"\"></img></div>"
      ],
      "text/plain": [
       "<IPython.core.display.HTML object>"
      ]
     },
     "metadata": {},
     "output_type": "display_data"
    }
   ],
   "source": [
    "from arcgis.mapping import WebMap\n",
    "la_parks_trails = WebMap(webmap)\n",
    "la_parks_trails"
   ]
  },
  {
   "cell_type": "markdown",
   "metadata": {},
   "source": [
    "## Challenge"
   ]
  },
  {
   "cell_type": "code",
   "execution_count": 9,
   "metadata": {},
   "outputs": [
    {
     "name": "stdout",
     "output_type": "stream",
     "text": [
      "The webmap has 4 layers.\n"
     ]
    }
   ],
   "source": [
    "op_layers = la_parks_trails.layers\n",
    "print(\"The webmap has {} layers.\".format(len(op_layers)))"
   ]
  },
  {
   "cell_type": "code",
   "execution_count": 10,
   "metadata": {},
   "outputs": [
    {
     "name": "stdout",
     "output_type": "stream",
     "text": [
      "Trailheads_8053\n",
      "\thttps://services3.arcgis.com/GVgbJbqm8hXASVYi/arcgis/rest/services/Trailheads/FeatureServer/0\n",
      "Trails_7558\n",
      "\thttps://services3.arcgis.com/GVgbJbqm8hXASVYi/arcgis/rest/services/Trails/FeatureServer/0\n",
      "Parks_and_Open_Space_2992\n",
      "\thttps://services3.arcgis.com/GVgbJbqm8hXASVYi/arcgis/rest/services/Parks_and_Open_Space/FeatureServer/0\n",
      "Boundary_1356\n",
      "\thttps://services3.arcgis.com/GVgbJbqm8hXASVYi/arcgis/rest/services/Boundary/FeatureServer/0\n"
     ]
    }
   ],
   "source": [
    "for lyr in la_parks_trails.layers:\n",
    "    print(\"{}\\n\\t{}\".format(lyr['id'], lyr['url']))"
   ]
  }
 ],
 "metadata": {
  "anaconda-cloud": {},
  "kernelspec": {
   "display_name": "Python 3",
   "language": "python",
   "name": "python3"
  },
  "language_info": {
   "codemirror_mode": {
    "name": "ipython",
    "version": 3
   },
   "file_extension": ".py",
   "mimetype": "text/x-python",
   "name": "python",
   "nbconvert_exporter": "python",
   "pygments_lexer": "ipython3",
   "version": "3.7.2"
  }
 },
 "nbformat": 4,
 "nbformat_minor": 1
}
