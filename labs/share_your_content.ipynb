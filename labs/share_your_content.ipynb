{
 "cells": [
  {
   "cell_type": "markdown",
   "metadata": {},
   "source": [
    "# Share Your Content Tutorial\n",
    "\n",
    "This is the completed sample for the [Share your content](https://developers.arcgis.com/labs/data/python/share-your-content/) ArcGIS tutorial.\n",
    "\n",
    "[ArcGIS tutorials](https://developers.arcgis.com/labs/) are short guides demonstrating the three phases of building geospatial apps: Data, Design, Develop."
   ]
  },
  {
   "cell_type": "markdown",
   "metadata": {},
   "source": [
    "### Important Note\n",
    "Please complete the [Import data tutorial](https://developers.arcgis.com/labs/data/python/import-data/) if you have not done so already. You will use the output feature layer from this lab to learn how to find and share an item."
   ]
  },
  {
   "cell_type": "code",
   "execution_count": 1,
   "metadata": {},
   "outputs": [],
   "source": [
    "from arcgis.gis import GIS"
   ]
  },
  {
   "cell_type": "markdown",
   "metadata": {},
   "source": [
    "Log into ArcGIS Online by making a GIS connection using your developer account. Replace `username` and `password` with your own credentials"
   ]
  },
  {
   "cell_type": "code",
   "execution_count": 2,
   "metadata": {},
   "outputs": [
    {
     "name": "stdout",
     "output_type": "stream",
     "text": [
      "Enter password, please: ········\n"
     ]
    }
   ],
   "source": [
    "import getpass\n",
    "\n",
    "password = getpass.getpass(\"Enter password, please: \")\n",
    "gis = GIS('https://arcgis.com', 'username', password)"
   ]
  },
  {
   "cell_type": "markdown",
   "metadata": {},
   "source": [
    "Search for the *Trailheads* layer used in the [Import Data](https://developers.arcgis.com/labs/data/python/import-data/) tutorial."
   ]
  },
  {
   "cell_type": "code",
   "execution_count": 3,
   "metadata": {},
   "outputs": [
    {
     "data": {
      "text/plain": [
       "[<Item title:\"Trailheads\" type:Feature Layer Collection owner:cff_dev>]"
      ]
     },
     "execution_count": 3,
     "metadata": {},
     "output_type": "execute_result"
    }
   ],
   "source": [
    "feature_layer_srch_results = gis.content.search(query='title: \"Trailhead*\" AND type: \"Feature Service\"')\n",
    "feature_layer_srch_results"
   ]
  },
  {
   "cell_type": "markdown",
   "metadata": {},
   "source": [
    "Retrieve the feature layer collection item from the list of results.\n",
    "To check the sharing permissions, click the *thumbnail* link to open the *Item Details* page and find *Shared with* under *Details* on the right."
   ]
  },
  {
   "cell_type": "code",
   "execution_count": 4,
   "metadata": {},
   "outputs": [
    {
     "data": {
      "text/html": [
       "<div class=\"item_container\" style=\"height: auto; overflow: hidden; border: 1px solid #cfcfcf; border-radius: 2px; background: #f6fafa; line-height: 1.21429em; padding: 10px;\">\n",
       "                    <div class=\"item_left\" style=\"width: 210px; float: left;\">\n",
       "                       <a href='https://cff-dev.maps.arcgis.com/home/item.html?id=05c7df52361747c6a6872a3a6022cd58' target='_blank'>\n",
       "                        <img src='data:image/png;base64,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' width='200' height='133' class=\"itemThumbnail\">\n",
       "                       </a>\n",
       "                    </div>\n",
       "\n",
       "                    <div class=\"item_right\"     style=\"float: none; width: auto; overflow: hidden;\">\n",
       "                        <a href='https://cff-dev.maps.arcgis.com/home/item.html?id=05c7df52361747c6a6872a3a6022cd58' target='_blank'><b>Trailheads</b>\n",
       "                        </a>\n",
       "                        <br/><img src='https://cff-dev.maps.arcgis.com/home/js/jsapi/esri/css/images/item_type_icons/featureshosted16.png' style=\"vertical-align:middle;\">Feature Layer Collection by cff_dev\n",
       "                        <br/>Last Modified: March 12, 2019\n",
       "                        <br/>0 comments, 3 views\n",
       "                    </div>\n",
       "                </div>\n",
       "                "
      ],
      "text/plain": [
       "<Item title:\"Trailheads\" type:Feature Layer Collection owner:cff_dev>"
      ]
     },
     "execution_count": 4,
     "metadata": {},
     "output_type": "execute_result"
    }
   ],
   "source": [
    "feature_layer_coll_item = feature_layer_srch_results[0]\n",
    "feature_layer_coll_item"
   ]
  },
  {
   "cell_type": "markdown",
   "metadata": {},
   "source": [
    "Update the sharing permissions of the layer so that it's available to everyone. You can verify the update by refreshing the thumbnail link!"
   ]
  },
  {
   "cell_type": "code",
   "execution_count": 5,
   "metadata": {},
   "outputs": [
    {
     "data": {
      "text/plain": [
       "{'results': [{'itemId': '05c7df52361747c6a6872a3a6022cd58',\n",
       "   'success': True,\n",
       "   'notSharedWith': []}]}"
      ]
     },
     "execution_count": 5,
     "metadata": {},
     "output_type": "execute_result"
    }
   ],
   "source": [
    "feature_layer_coll_item.share(everyone=True)"
   ]
  }
 ],
 "metadata": {
  "kernelspec": {
   "display_name": "Python 3",
   "language": "python",
   "name": "python3"
  },
  "language_info": {
   "codemirror_mode": {
    "name": "ipython",
    "version": 3
   },
   "file_extension": ".py",
   "mimetype": "text/x-python",
   "name": "python",
   "nbconvert_exporter": "python",
   "pygments_lexer": "ipython3",
   "version": "3.7.2"
  }
 },
 "nbformat": 4,
 "nbformat_minor": 2
}
