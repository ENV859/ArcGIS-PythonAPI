{
 "cells": [
  {
   "cell_type": "markdown",
   "metadata": {},
   "source": [
    "# Connecting to ArcGIS Online via the GIS Object\n",
    "The ArcGIS Python API's `GIS` object is our connection to ArcGIS online (and its bounty of online data). Just as we can open a web browser to `https://arcgis.com` and search for data, we can do so via this GIS object, as we'll see shortly. \n",
    "\n",
    "However, some resources are shared with specific AGOL organizations, groups, and users. So, to access those, we need a means of passing our credentials when we connect to ArcGIS Online. That can be easy or tricky, depending on how you've installed the ArcGIS Python API and whether your AGOL account is set up...\n",
    "\n",
    "Resource:\n",
    "* Guide: https://developers.arcgis.com/python/guide/using-the-gis/\n",
    "* Reference: https://developers.arcgis.com/python/api-reference/arcgis.gis.toc.html#gis"
   ]
  },
  {
   "cell_type": "markdown",
   "metadata": {},
   "source": [
    "### Connecting anonymously\n",
    "The easiest way to connect is anonymously. But in doing so, we can't access any restricted datasets."
   ]
  },
  {
   "cell_type": "code",
   "execution_count": null,
   "metadata": {},
   "outputs": [],
   "source": [
    "#Import the GIS object\n",
    "from arcgis import GIS"
   ]
  },
  {
   "cell_type": "code",
   "execution_count": null,
   "metadata": {},
   "outputs": [],
   "source": [
    "#Connect to AGOL by creating an instance of the GIS object\n",
    "anon_gis = GIS()"
   ]
  },
  {
   "cell_type": "code",
   "execution_count": null,
   "metadata": {},
   "outputs": [],
   "source": [
    "#Show the type of object created\n",
    "type(anon_gis)"
   ]
  },
  {
   "cell_type": "code",
   "execution_count": null,
   "metadata": {},
   "outputs": [],
   "source": [
    "#Show the default address linked to the anonymous user\n",
    "anon_gis.url"
   ]
  },
  {
   "cell_type": "markdown",
   "metadata": {},
   "source": [
    "### Connecting via your ArcGIS Pro credentials\n",
    "If you are using the Python environment linked to your ArcGIS Pro installation, you can authenticate your GIS object with the credentials used when you logged into ArcGIS online. So if the code below fails, check that:\n",
    "* You are using the default ArcGIS Pro environment (`arcgispro-py3`) or one cloned from that environment, and;\n",
    "* You have successfully logged into ArcGIS Pro on that machine and selected \"remember my login credentials\". "
   ]
  },
  {
   "cell_type": "code",
   "execution_count": null,
   "metadata": {},
   "outputs": [],
   "source": [
    "#Connect to AGOL via your ArcGIS Pro credentials\n",
    "gis = GIS('pro') #GIS('home') also works"
   ]
  },
  {
   "cell_type": "code",
   "execution_count": null,
   "metadata": {},
   "outputs": [],
   "source": [
    "#Show your user info\n",
    "gis.users.me"
   ]
  },
  {
   "cell_type": "code",
   "execution_count": null,
   "metadata": {},
   "outputs": [],
   "source": [
    "#Show your default url\n",
    "gis.url"
   ]
  },
  {
   "cell_type": "markdown",
   "metadata": {},
   "source": [
    "This means of creating the `gis` object has the benefit of allowing us to access any dataset shared with you directly, with any groups to which you belong, or with the organization or enterprise that sponsors your account. We'll see how that works later..."
   ]
  },
  {
   "cell_type": "markdown",
   "metadata": {},
   "source": [
    "### Connecting via passed in credentials\n",
    "The ESRI documentation gives examples where you can directly pass in usernames and passwords.(See [here](https://developers.arcgis.com/python/guide/using-the-gis/).) This straightforward process can be useful if you need to access data shared with you, but you are not using an environment linked to ArcGIS Pro. \n",
    "\n",
    "*However*, because we log into AGOL via our Duke accounts, this approach won't work. Instead, there is a more complex process requiring me to set up a gateway for you to have access via your Duke NetID. I won't got into the gory detail ([here](https://developers.arcgis.com/python/guide/working-with-different-authentication-schemes/) if you are curious...), but instead just provide the code needed to access AGOL using this method.\n",
    "\n",
    "When you run this code, a web browser will appear asking you to log in via Duke credentials. ***Note: always check the URL of the page asking for your Duke credentials: it should contain 'https://shib.oit.duke.edu' in it***. After you log in, you'll be granted a *token* to copy and paste in the notebook. You may also get a warning about \"certificate verification\", which we at Duke are looking into; but it won't be a problem for now."
   ]
  },
  {
   "cell_type": "code",
   "execution_count": null,
   "metadata": {},
   "outputs": [],
   "source": [
    "#Connect to AGOL via OAuth Credentials\n",
    "gis_oauth = GIS('https://dukeuniv.maps.arcgis.com',client_id = 'YmtqqKYoHULH1M2l')\n",
    "print('Successfully logged in as :'+gis.properties.user.username)"
   ]
  },
  {
   "cell_type": "code",
   "execution_count": null,
   "metadata": {},
   "outputs": [],
   "source": [
    "#Show your user info\n",
    "gis_oauth.users.me"
   ]
  },
  {
   "cell_type": "code",
   "execution_count": null,
   "metadata": {},
   "outputs": [],
   "source": [
    "#Show your default url\n",
    "gis_oauth.url"
   ]
  },
  {
   "cell_type": "markdown",
   "metadata": {},
   "source": [
    "## Summary\n",
    "The first step in working with the ArcGIS Python API is making the connection to ArcGIS Online. Here we see different ways to do this. Typically, if you can, you'd connect using `gis('pro')` if you could, as that'd connect you to your personal AGOL resources. However, sometimes you just don't need to and so an anonymous connection is just fine. \n",
    "\n",
    "In the next notebooks, we'll see what we can do once connected..."
   ]
  }
 ],
 "metadata": {
  "kernelspec": {
   "display_name": "Python 3",
   "language": "python",
   "name": "python3"
  },
  "language_info": {
   "codemirror_mode": {
    "name": "ipython",
    "version": 3
   },
   "file_extension": ".py",
   "mimetype": "text/x-python",
   "name": "python",
   "nbconvert_exporter": "python",
   "pygments_lexer": "ipython3",
   "version": "3.6.10"
  }
 },
 "nbformat": 4,
 "nbformat_minor": 4
}
