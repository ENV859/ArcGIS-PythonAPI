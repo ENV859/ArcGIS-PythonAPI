{
 "cells": [
  {
   "cell_type": "markdown",
   "metadata": {},
   "source": [
    "# Problem Set 5b\n",
    "Here you will mimic the steps provided in the `02-Get-Census-Data.ipynb` notebook to extract a set of features from an ArcGIS Onlne Dataset. \n",
    "* Work independently on this project.\n",
    "* If anything is unclear, please ask for clarification\n",
    "* You are encouraged to consult the online documentation for the [ArcGIS Python API](https://developers.arcgis.com/python/), in particular, the sections on [Accessing/creating content](https://developers.arcgis.com/python/guide/accessing-and-creating-content/), [Items](https://esri.github.io/arcgis-python-api/apidoc/html/arcgis.gis.toc.html#item), [Feature Layers](https://esri.github.io/arcgis-python-api/apidoc/html/arcgis.features.toc.html#featurelayer), and [Feature Sets](https://esri.github.io/arcgis-python-api/apidoc/html/arcgis.features.toc.html#featureset).\n",
    "* When complete, rename the Juypter notebook to include your NetID, e.g. `PS5b_user123.ipynb`, and upload to Sakai."
   ]
  },
  {
   "cell_type": "markdown",
   "metadata": {},
   "source": [
    "---\n",
    "1. Import the arcgis GIS object and authenticate the session using your ArcGIS Pro application.<br>Also import Pandas (`import pandas as pd` - _provided_).\n",
    "\n",
    "1. Use the API's content helper to search for feature layer data using the keywords \"`NCOneMap environment`\", and show a list of the results returned (you should get 3).\n",
    "    \n",
    "1. Save the result with \"owner:NCDOT.GOV\" to a variable named `myItem`, and show one or more properties of this item (e.g. its item *type*.)\n",
    "\n",
    "1. Reveal the layer(s) associated with this feature service.\n",
    "\n",
    "1. Save the first layer associated with this to a variable named `myLayer` and reveal this layers _service item ID_ property.<br><tab>\n",
    "→ **Challenge**: Retrieve this item's service layer solely using its service item ID\n",
    "\n",
    "1. Print the URL associated with the `myLayer` layer.<br>\n",
    "   → Open this url in your browser. _If you get the error \"SSL required\" change the beginning of the url from \"`http://`\" to \"`https://`\"_\n",
    "    \n",
    "1. List the fields associated with this feature layer. \n",
    "\n",
    "1. Query the feature layer for records where the REGION equals \"Wilmington\", saving the output as `select_features`\n",
    "\n",
    "1. Convert the selected features to a spatially enabled dataframe.<br>\n",
    "   → List the counties included in the spatial dataframe of selected features (provided)<br>\n",
    "   → Display the selected features in a map centered on Beaufort, NC (provided)\n",
    "\n",
    "1. Select all records in the `myLayer` feature layer that occur in Durham County and display them on a map centered on Durham County, NC. \n",
    "\n",
    "1. Save the selected Durham features to a shapefile called `Durham_NPDES.shp` in your `V:/` drive"
   ]
  },
  {
   "cell_type": "code",
   "execution_count": 1,
   "metadata": {},
   "outputs": [],
   "source": [
    "# 1. Import packages and authenticate your GIS\n",
    "import pandas as pd \n"
   ]
  },
  {
   "cell_type": "code",
   "execution_count": 2,
   "metadata": {},
   "outputs": [],
   "source": [
    "# 2a. Search AGOL for feature layers using the keywords \"NCOneMap\" and \"environment\" \n"
   ]
  },
  {
   "cell_type": "code",
   "execution_count": 3,
   "metadata": {},
   "outputs": [
    {
     "data": {
      "text/plain": [
       "[<Item title:\"swlg\" type:Feature Layer Collection owner:amandahenley1>,\n",
       " <Item title:\"NC1Map NPDES\" type:Feature Layer Collection owner:NCDOT.GOV>,\n",
       " <Item title:\"State Owned_5_1_2018\" type:Feature Layer Collection owner:jessica.knight>]"
      ]
     },
     "execution_count": 3,
     "metadata": {},
     "output_type": "execute_result"
    }
   ],
   "source": [
    "# 2b.Show a list of the results returned\n"
   ]
  },
  {
   "cell_type": "code",
   "execution_count": 4,
   "metadata": {},
   "outputs": [
    {
     "data": {
      "text/plain": [
       "'Feature Service'"
      ]
     },
     "execution_count": 4,
     "metadata": {},
     "output_type": "execute_result"
    }
   ],
   "source": [
    "#3. Save the result with \"owner:NCDOT.GOV\" to a variable named myItem and show some properties (e.g. its type)\n",
    "myItem = █\n",
    "█"
   ]
  },
  {
   "cell_type": "code",
   "execution_count": 5,
   "metadata": {},
   "outputs": [
    {
     "data": {
      "text/plain": [
       "[<FeatureLayer url:\"https://services.arcgis.com/ycIuRaoIC4UuCDAS/arcgis/rest/services/swlg/FeatureServer/0\">]"
      ]
     },
     "execution_count": 5,
     "metadata": {},
     "output_type": "execute_result"
    }
   ],
   "source": [
    "#4. Display the layer(s) associated with this feature service\n",
    "myItem.layers"
   ]
  },
  {
   "cell_type": "code",
   "execution_count": 6,
   "metadata": {},
   "outputs": [
    {
     "data": {
      "text/plain": [
       "'7b7849679ff14104ac22f45694abf613'"
      ]
     },
     "execution_count": 6,
     "metadata": {},
     "output_type": "execute_result"
    }
   ],
   "source": [
    "#5. Save the first layer item a variable named myLayer and display its service item ID property\n",
    "myLayer = █\n",
    "█"
   ]
  },
  {
   "cell_type": "code",
   "execution_count": 7,
   "metadata": {},
   "outputs": [
    {
     "data": {
      "text/plain": [
       "'https://services.arcgis.com/ycIuRaoIC4UuCDAS/arcgis/rest/services/swlg/FeatureServer'"
      ]
     },
     "execution_count": 7,
     "metadata": {},
     "output_type": "execute_result"
    }
   ],
   "source": [
    "#Challenge: import this layer directly from its service item ID\n",
    "myLayer2 = █\n",
    "myLayer2.url"
   ]
  },
  {
   "cell_type": "markdown",
   "metadata": {},
   "source": [
    "***If you have had any issues getting the feature layer to this point, run the following code cell to access it directly***<br>You can then proceed with the remainder of the exercise..."
   ]
  },
  {
   "cell_type": "code",
   "execution_count": 8,
   "metadata": {},
   "outputs": [],
   "source": [
    "# -->Run this only if you've been unsuccessful above<---\n",
    "from arcgis.features import FeatureLayer\n",
    "lyr_url = 'https://services.nconemap.gov/secure/rest/services/NC1Map_Environment/MapServer/4'\n",
    "myLayer = FeatureLayer(lyr_url)"
   ]
  },
  {
   "cell_type": "code",
   "execution_count": 9,
   "metadata": {},
   "outputs": [
    {
     "name": "stdout",
     "output_type": "stream",
     "text": [
      "https://services.nconemap.gov/secure/rest/services/NC1Map_Environment/MapServer/4\n"
     ]
    }
   ],
   "source": [
    "#6. Print the URL associated with this layer and open it in your browser (just to examine it)\n",
    "print(█)"
   ]
  },
  {
   "cell_type": "code",
   "execution_count": 10,
   "metadata": {},
   "outputs": [
    {
     "name": "stdout",
     "output_type": "stream",
     "text": [
      "OBJECTID\n",
      "onemap.SDEADMIN.npdes.AREA\n",
      "PERIMETER\n",
      "NPDES0306_\n",
      "NPDES0306_ID\n",
      "PERMIT\n",
      "OWNER\n",
      "FACILITY\n",
      "COUNTY\n",
      "REGION\n",
      "TYPE\n",
      "CLASS\n",
      "SUBBASIN\n",
      "RECEIVING_\n",
      "UT_\n",
      "LATITUDE\n",
      "LONGITUDE\n",
      "DDLAT\n",
      "DDLONG\n",
      "POLYGONID\n",
      "SCALE\n",
      "ANGLE\n",
      "SHAPE\n"
     ]
    }
   ],
   "source": [
    "#7. List the fields associated with the myLayer feature layer\n",
    "for fld in █:\n",
    "    print (fld.█)"
   ]
  },
  {
   "cell_type": "code",
   "execution_count": 11,
   "metadata": {
    "scrolled": true
   },
   "outputs": [
    {
     "data": {
      "text/plain": [
       "arcgis.features.feature.FeatureSet"
      ]
     },
     "execution_count": 11,
     "metadata": {},
     "output_type": "execute_result"
    }
   ],
   "source": [
    "#8. Query the feature layer for records where the REGION equals \"Wilmington\", saving the output as select_features\n",
    "selected_features = █\n",
    "type(selected_features)"
   ]
  },
  {
   "cell_type": "code",
   "execution_count": 12,
   "metadata": {},
   "outputs": [],
   "source": [
    "#9. Convert the selected features to a spatially enabled dataframe\n",
    "selected_features_sdf = █"
   ]
  },
  {
   "cell_type": "code",
   "execution_count": 13,
   "metadata": {},
   "outputs": [
    {
     "data": {
      "text/plain": [
       "array(['Brunswick', 'Carteret', 'New Hanover', 'Duplin', 'Onslow',\n",
       "       'Columbus', 'Pender'], dtype=object)"
      ]
     },
     "execution_count": 13,
     "metadata": {},
     "output_type": "execute_result"
    }
   ],
   "source": [
    "#List the counties featured in the selected spatail data frame (provided)\n",
    "selected_features_sdf.COUNTY.unique()"
   ]
  },
  {
   "cell_type": "code",
   "execution_count": null,
   "metadata": {},
   "outputs": [],
   "source": [
    "#Display the selected features in a map centered on Beaufort, NC (provided)\n",
    "m = gis.map('Beaufort, NC')\n",
    "m.draw(selected_features)\n",
    "m"
   ]
  },
  {
   "cell_type": "code",
   "execution_count": 15,
   "metadata": {},
   "outputs": [],
   "source": [
    "#9A. Select all records in the myLayer feature layer that occur in Durham County and \n"
   ]
  },
  {
   "cell_type": "code",
   "execution_count": null,
   "metadata": {},
   "outputs": [],
   "source": [
    "#9B. Display the selected features on a map centered on Durham County\n"
   ]
  },
  {
   "cell_type": "code",
   "execution_count": null,
   "metadata": {},
   "outputs": [],
   "source": [
    "# 10. Save the selected Durham features to a shapefile called \"Durham_NPDES\" in your V:/ drive\n"
   ]
  }
 ],
 "metadata": {
  "kernelspec": {
   "display_name": "Python 3",
   "language": "python",
   "name": "python3"
  },
  "language_info": {
   "codemirror_mode": {
    "name": "ipython",
    "version": 3
   },
   "file_extension": ".py",
   "mimetype": "text/x-python",
   "name": "python",
   "nbconvert_exporter": "python",
   "pygments_lexer": "ipython3",
   "version": "3.6.8"
  }
 },
 "nbformat": 4,
 "nbformat_minor": 2
}
