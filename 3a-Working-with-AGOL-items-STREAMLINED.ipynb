{
 "cells": [
  {
   "cell_type": "markdown",
   "id": "a8ef07d4",
   "metadata": {},
   "source": [
    "# Working with AGOL items - *Streamlined*\n",
    "\n",
    "---\n",
    "Fall 2024  \n",
    "John.Fay@duke.edu\n",
    "\n",
    "---"
   ]
  },
  {
   "cell_type": "code",
   "execution_count": 1,
   "id": "1ed97f96",
   "metadata": {},
   "outputs": [],
   "source": [
    "#Import basic packages\n",
    "import pandas as pd\n",
    "\n",
    "#Import the arcgis \"GIS\" object and connect to AGOL\n",
    "from arcgis import GIS\n",
    "gis = GIS()\n",
    "\n",
    "#Import other classes\n",
    "from arcgis.features import FeatureLayer, GeoAccessor\n",
    "from arcgis.geocoding import geocode\n",
    "from arcgis.geometry import Point, filters"
   ]
  },
  {
   "cell_type": "code",
   "execution_count": 2,
   "id": "f6580def",
   "metadata": {},
   "outputs": [
    {
     "data": {
      "text/html": [
       "<div class=\"item_container\" style=\"height: auto; overflow: hidden; border: 1px solid #cfcfcf; border-radius: 2px; background: #f6fafa; line-height: 1.21429em; padding: 10px;\">\n",
       "                    <div class=\"item_left\" style=\"width: 210px; float: left;\">\n",
       "                       <a href='https://www.arcgis.com/home/item.html?id=2b245b7f816044d7a779a61a5844be23' target='_blank'>\n",
       "                        <img src='https://www.arcgis.com/sharing/rest//content/items/2b245b7f816044d7a779a61a5844be23/info/thumbnail/thumbnail.png' class=\"itemThumbnail\">\n",
       "                       </a>\n",
       "                    </div>\n",
       "\n",
       "                    <div class=\"item_right\"     style=\"float: none; width: auto; overflow: hidden;\">\n",
       "                        <a href='https://www.arcgis.com/home/item.html?id=2b245b7f816044d7a779a61a5844be23' target='_blank'><b>USA Flood Hazard Areas</b>\n",
       "                        </a>\n",
       "                        <br/>This feature layer displays Flood Hazard Areas from the Flood Insurance Rate Map created by the Federal Emergency Management Agency.<img src='https://www.arcgis.com/home/js/jsapi/esri/css/images/item_type_icons/featureshosted16.png' style=\"vertical-align:middle;\" width=16 height=16>Feature Layer Collection by esri_landscape2\n",
       "                        <br/>Last Modified: August 30, 2024\n",
       "                        <br/>22 comments, 58,003,690 views\n",
       "                    </div>\n",
       "                </div>\n",
       "                "
      ],
      "text/plain": [
       "<Item title:\"USA Flood Hazard Areas\" type:Feature Layer Collection owner:esri_landscape2>"
      ]
     },
     "execution_count": 2,
     "metadata": {},
     "output_type": "execute_result"
    }
   ],
   "source": [
    "flood_item = gis.content.get('2b245b7f816044d7a779a61a5844be23')\n",
    "flood_item"
   ]
  },
  {
   "cell_type": "code",
   "execution_count": 3,
   "id": "60f1b63e",
   "metadata": {},
   "outputs": [
    {
     "data": {
      "text/plain": [
       "'https://services.arcgis.com/P3ePLMYs2RVChkJx/arcgis/rest/services/USA_Flood_Hazard_Reduced_Set_gdb/FeatureServer/0'"
      ]
     },
     "execution_count": 3,
     "metadata": {},
     "output_type": "execute_result"
    }
   ],
   "source": [
    "#Get its layer\n",
    "flood_layer = flood_item.layers[0]\n",
    "flood_layer.url"
   ]
  },
  {
   "cell_type": "code",
   "execution_count": 5,
   "id": "99c2743f",
   "metadata": {},
   "outputs": [
    {
     "data": {
      "text/plain": [
       "<FeatureSet> 17158 features"
      ]
     },
     "execution_count": 5,
     "metadata": {},
     "output_type": "execute_result"
    }
   ],
   "source": [
    "#Filter for dfirmID\n",
    "flood_fset = flood_layer.query(where=\"DFIRM_ID LIKE '37063%'\")\n",
    "flood_fset"
   ]
  },
  {
   "cell_type": "code",
   "execution_count": null,
   "id": "c0268bb8",
   "metadata": {},
   "outputs": [],
   "source": [
    "flood_fset.sdf.spatial.plot()"
   ]
  },
  {
   "cell_type": "code",
   "execution_count": null,
   "id": "d6282afe",
   "metadata": {},
   "outputs": [],
   "source": [
    "#Find its spatial reference from the item\n",
    "flood_sr = flood_item.spatialReference\n",
    "flood_sr"
   ]
  },
  {
   "cell_type": "code",
   "execution_count": null,
   "id": "d7315656",
   "metadata": {},
   "outputs": [],
   "source": [
    "#Define an area to subset the data - we'll use Durham\n",
    "durham_results = geocode(\"Durham City, NC\")\n",
    "durham_coords = durham_results[0]['location']\n",
    "durham_coords['spatialReference'] = {'wkid':4326}\n",
    "durham_point = Point(durham_coords)\n",
    "durham_point_prj = durham_point.project_as(flood_sr)\n",
    "durham_filter = filters.intersects(durham_point_prj.buffer(1000))\n",
    "durham_filter"
   ]
  },
  {
   "cell_type": "code",
   "execution_count": null,
   "id": "a5196896",
   "metadata": {},
   "outputs": [],
   "source": [
    "#Apply the filter\n",
    "durham_flood_fset = flood_layer.query(\n",
    "    geometry_filter=durham_point\n",
    ")\n",
    "type(durham_flood_fset)"
   ]
  },
  {
   "cell_type": "code",
   "execution_count": null,
   "id": "1b10c0c6",
   "metadata": {},
   "outputs": [],
   "source": [
    "print(durham_point)"
   ]
  },
  {
   "cell_type": "code",
   "execution_count": null,
   "id": "e07d95bf",
   "metadata": {},
   "outputs": [],
   "source": [
    "m = gis.map('Durham, NC')\n",
    "m.draw(durham_point_prj)\n",
    "m.draw(durham_point_prj.buffer(1))\n",
    "m"
   ]
  }
 ],
 "metadata": {
  "kernelspec": {
   "display_name": "Python 3 (ipykernel)",
   "language": "python",
   "name": "python3"
  },
  "language_info": {
   "codemirror_mode": {
    "name": "ipython",
    "version": 3
   },
   "file_extension": ".py",
   "mimetype": "text/x-python",
   "name": "python",
   "nbconvert_exporter": "python",
   "pygments_lexer": "ipython3",
   "version": "3.11.8"
  }
 },
 "nbformat": 4,
 "nbformat_minor": 5
}
