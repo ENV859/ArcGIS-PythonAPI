{
 "cells": [
  {
   "cell_type": "markdown",
   "id": "a8ef07d4",
   "metadata": {},
   "source": [
    "# Working with AGOL items - *Streamlined*\n",
    "\n",
    "---\n",
    "Fall 2024  \n",
    "John.Fay@duke.edu\n",
    "\n",
    "---"
   ]
  },
  {
   "cell_type": "markdown",
   "id": "aa36d3a9",
   "metadata": {},
   "source": [
    "## Importing packages\n",
    "The `arcgis` package is quite large, so we import just the items we need from the appropriate submodules:\n",
    "\n",
    "| Submodule | Package | Uses |\n",
    "| :--- | :--- | :--- |\n",
    "| **Features** | FeatureLayer | Create a FeatureLayer object directly from its URL |\n",
    "|  | GeoAccessor | Create a Spatial Dataframe from a layer or local file |\n",
    "| **geocoding** | geocode | geocode: convert location names to geometries |\n",
    "| **geometry** | Point | the Point class |\n",
    "|   | filters | spatial filters for spatial queries |\n"
   ]
  },
  {
   "cell_type": "code",
   "execution_count": null,
   "id": "1ed97f96",
   "metadata": {},
   "outputs": [],
   "source": [
    "#Import basic packages\n",
    "import pandas as pd\n",
    "\n",
    "#Import the arcgis \"GIS\" object and connect to AGOL\n",
    "from arcgis import GIS\n",
    "gis = GIS()\n",
    "\n",
    "#Import other classes\n",
    "from arcgis.features import FeatureLayer, GeoAccessor\n",
    "from arcgis.raster import Raster, ImageryLayer\n",
    "from arcgis.mapping import MapServiceLayer, MapRasterLayer, MapImageLayer\n",
    "from arcgis.geocoding import geocode\n",
    "from arcgis.geometry import Point, filters"
   ]
  },
  {
   "cell_type": "markdown",
   "id": "3574174a",
   "metadata": {},
   "source": [
    "## Finding Data\n",
    "* Flood Hazard$^*$ - https://dukeuniv.maps.arcgis.com/home/item.html?id=11955f1b47ec41a3af86650824e0c634\n",
    "* Sea Level Rise$^*$ - https://dukeuniv.maps.arcgis.com/home/item.html?id=1311369dea53479ca9608cb5abca565f\n",
    "* Storm Surge$^*$$^*$ - https://coast.noaa.gov/arcgis/rest/services/FloodExposureMapper/CFEM_CoastalFloodHazardComposite/MapServer/20\n",
    "\n",
    "$^*$ *Search the Living Atlas*  \n",
    "$^*$$^*$ *Google Search:* `Coastal Flood Hazard Composite arcgis/rest` -> [Link](https://coast.noaa.gov/arcgis/rest/services/FloodExposureMapper/CFEM_CoastalFloodHazardComposite/MapServer)"
   ]
  },
  {
   "cell_type": "code",
   "execution_count": null,
   "id": "bca27d0e",
   "metadata": {},
   "outputs": [],
   "source": [
    "flood_item = gis.content.get('11955f1b47ec41a3af86650824e0c634')\n",
    "\n",
    "slr_item = gis.content.get('1311369dea53479ca9608cb5abca565f')"
   ]
  },
  {
   "cell_type": "code",
   "execution_count": null,
   "id": "f6580def",
   "metadata": {},
   "outputs": [],
   "source": [
    "#Get the surge item as a map raster layer\n",
    "the_url='https://coast.noaa.gov/arcgis/rest/services/FloodExposureMapper/CFEM_CoastalFloodHazardComposite/MapServer/20'\n",
    "ms_layer = MapImageLayer(the_url)\n",
    "type(ms_layer)"
   ]
  },
  {
   "cell_type": "code",
   "execution_count": null,
   "id": "bfb0f1ca",
   "metadata": {},
   "outputs": [],
   "source": [
    "ms_layer.manager"
   ]
  },
  {
   "cell_type": "code",
   "execution_count": null,
   "id": "60f1b63e",
   "metadata": {},
   "outputs": [],
   "source": [
    "#Get its layer\n",
    "flood_layer = flood_item.layers[0]\n",
    "flood_layer.url"
   ]
  },
  {
   "cell_type": "code",
   "execution_count": null,
   "id": "99c2743f",
   "metadata": {},
   "outputs": [],
   "source": [
    "#Filter for dfirmID\n",
    "flood_fset = flood_layer.query(where=\"CO_FIPS LIKE '063'\")\n",
    "flood_fset"
   ]
  },
  {
   "cell_type": "code",
   "execution_count": null,
   "id": "c0268bb8",
   "metadata": {},
   "outputs": [],
   "source": [
    "flood_fset.sdf.spatial.plot()"
   ]
  },
  {
   "cell_type": "code",
   "execution_count": null,
   "id": "d6282afe",
   "metadata": {},
   "outputs": [],
   "source": [
    "#Find its spatial reference from the item\n",
    "flood_sr = flood_item.spatialReference\n",
    "flood_sr"
   ]
  },
  {
   "cell_type": "code",
   "execution_count": null,
   "id": "d7315656",
   "metadata": {},
   "outputs": [],
   "source": [
    "#Define an area to subset the data - we'll use Durham\n",
    "durham_results = geocode(\"Durham City, NC\")\n",
    "durham_coords = durham_results[0]['location']\n",
    "durham_coords['spatialReference'] = {'wkid':4326}\n",
    "durham_point = Point(durham_coords)\n",
    "durham_point_prj = durham_point.project_as(flood_sr)\n",
    "durham_filter = filters.intersects(durham_point_prj.buffer(1000))\n",
    "durham_filter"
   ]
  },
  {
   "cell_type": "code",
   "execution_count": null,
   "id": "a5196896",
   "metadata": {},
   "outputs": [],
   "source": [
    "#Apply the filter\n",
    "durham_flood_fset = flood_layer.query(\n",
    "    geometry_filter=durham_point\n",
    ")\n",
    "type(durham_flood_fset)"
   ]
  },
  {
   "cell_type": "code",
   "execution_count": null,
   "id": "1b10c0c6",
   "metadata": {},
   "outputs": [],
   "source": [
    "print(durham_point)"
   ]
  },
  {
   "cell_type": "code",
   "execution_count": null,
   "id": "e07d95bf",
   "metadata": {},
   "outputs": [],
   "source": [
    "m = gis.map('Durham, NC')\n",
    "m.draw(durham_point_prj)\n",
    "m.draw(durham_point_prj.buffer(1))\n",
    "m"
   ]
  }
 ],
 "metadata": {
  "kernelspec": {
   "display_name": "Python 3 (ipykernel)",
   "language": "python",
   "name": "python3"
  },
  "language_info": {
   "codemirror_mode": {
    "name": "ipython",
    "version": 3
   },
   "file_extension": ".py",
   "mimetype": "text/x-python",
   "name": "python",
   "nbconvert_exporter": "python",
   "pygments_lexer": "ipython3",
   "version": "3.11.8"
  }
 },
 "nbformat": 4,
 "nbformat_minor": 5
}
