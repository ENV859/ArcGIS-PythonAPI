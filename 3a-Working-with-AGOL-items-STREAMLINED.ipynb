{
 "cells": [
  {
   "cell_type": "markdown",
   "id": "a8ef07d4",
   "metadata": {},
   "source": [
    "# Working with AGOL items - *Streamlined*\n",
    "\n",
    "---\n",
    "Fall 2024  \n",
    "John.Fay@duke.edu\n",
    "\n",
    "---"
   ]
  },
  {
   "cell_type": "code",
   "execution_count": 7,
   "id": "1ed97f96",
   "metadata": {},
   "outputs": [],
   "source": [
    "#Import basic packages\n",
    "import pandas as pd\n",
    "\n",
    "#Import the arcgis \"GIS\" object and connect to AGOL\n",
    "from arcgis import GIS\n",
    "gis = GIS()\n",
    "\n",
    "#Import other classes\n",
    "from arcgis.features import FeatureLayer, GeoAccessor"
   ]
  },
  {
   "cell_type": "code",
   "execution_count": 8,
   "id": "4767b3aa",
   "metadata": {},
   "outputs": [
    {
     "data": {
      "text/html": [
       "<div class=\"item_container\" style=\"height: auto; overflow: hidden; border: 1px solid #cfcfcf; border-radius: 2px; background: #f6fafa; line-height: 1.21429em; padding: 10px;\">\n",
       "                    <div class=\"item_left\" style=\"width: 210px; float: left;\">\n",
       "                       <a href='https://www.arcgis.com/home/item.html?id=20f5d275113e4066bf311236d9dcc3d4' target='_blank'>\n",
       "                        <img src='https://www.arcgis.com/sharing/rest//content/items/20f5d275113e4066bf311236d9dcc3d4/info/thumbnail/thumbnail.png' class=\"itemThumbnail\">\n",
       "                       </a>\n",
       "                    </div>\n",
       "\n",
       "                    <div class=\"item_right\"     style=\"float: none; width: auto; overflow: hidden;\">\n",
       "                        <a href='https://www.arcgis.com/home/item.html?id=20f5d275113e4066bf311236d9dcc3d4' target='_blank'><b>USA Census Tract Boundaries</b>\n",
       "                        </a>\n",
       "                        <br/>This layer presents the 2020 U.S.  Census Tract boundaries of the United States in the 50 states and the District of Columbia. It includes 2020 U.S. Census codes and population information. Tracts are polygons containing population totals from the 2020 Census and Esri Updated Demographics.<img src='https://www.arcgis.com/home/js/jsapi/esri/css/images/item_type_icons/featureshosted16.png' style=\"vertical-align:middle;\" width=16 height=16>Feature Layer Collection by esri_dm\n",
       "                        <br/>Last Modified: November 13, 2024\n",
       "                        <br/>9 comments, 1,946,789 views\n",
       "                    </div>\n",
       "                </div>\n",
       "                "
      ],
      "text/plain": [
       "<Item title:\"USA Census Tract Boundaries\" type:Feature Layer Collection owner:esri_dm>"
      ]
     },
     "execution_count": 8,
     "metadata": {},
     "output_type": "execute_result"
    }
   ],
   "source": [
    "#Fetch the census tract data from its item ID - as before\n",
    "tracts_item = gis.content.get('20f5d275113e4066bf311236d9dcc3d4')\n",
    "tracts_item"
   ]
  },
  {
   "cell_type": "code",
   "execution_count": 9,
   "id": "60f1b63e",
   "metadata": {},
   "outputs": [
    {
     "data": {
      "text/plain": [
       "<FeatureLayer url:\"https://services.arcgis.com/P3ePLMYs2RVChkJx/arcgis/rest/services/USA_Census_Tracts/FeatureServer/0\">"
      ]
     },
     "execution_count": 9,
     "metadata": {},
     "output_type": "execute_result"
    }
   ],
   "source": [
    "#Get its layer\n",
    "tracts_layer = tracts_item.layers[0]\n",
    "tracts_layer"
   ]
  },
  {
   "cell_type": "code",
   "execution_count": 13,
   "id": "eafb04e6",
   "metadata": {},
   "outputs": [
    {
     "data": {
      "text/plain": [
       "['OBJECTID',\n",
       " 'STATE_ABBR',\n",
       " 'STATE_FIPS',\n",
       " 'COUNTY_FIPS',\n",
       " 'STCOFIPS',\n",
       " 'TRACT_FIPS',\n",
       " 'FIPS',\n",
       " 'POPULATION',\n",
       " 'POP_SQMI',\n",
       " 'SQMI',\n",
       " 'POPULATION_2020',\n",
       " 'POP20_SQMI',\n",
       " 'Shape__Area',\n",
       " 'Shape__Length']"
      ]
     },
     "execution_count": 13,
     "metadata": {},
     "output_type": "execute_result"
    }
   ],
   "source": [
    "#List the fields\n",
    "[f['name'] for f in tracts_layer.properties.fields]"
   ]
  },
  {
   "cell_type": "code",
   "execution_count": 20,
   "id": "f3489d11",
   "metadata": {},
   "outputs": [
    {
     "name": "stdout",
     "output_type": "stream",
     "text": [
      "['AK', 'AL', 'AR', 'AZ', 'CA', 'CO', 'CT', 'DC', 'DE', 'FL', 'GA', 'HI', 'IA', 'ID', 'IL', 'IN', 'KS', 'KY', 'LA', 'MA', 'MD', 'ME', 'MI', 'MN', 'MO', 'MS', 'MT', 'NC', 'ND', 'NE', 'NH', 'NJ', 'NM', 'NV', 'NY', 'OH', 'OK', 'OR', 'PA', 'RI', 'SC', 'SD', 'TN', 'TX', 'UT', 'VA', 'VT', 'WA', 'WI', 'WV', 'WY']\n"
     ]
    }
   ],
   "source": [
    "#Get the unique values in the STATE_ABBR field\n",
    "print(tracts_layer.get_unique_values('STATE_ABBR'))"
   ]
  },
  {
   "cell_type": "code",
   "execution_count": 22,
   "id": "df80a808",
   "metadata": {},
   "outputs": [],
   "source": [
    "#Filter the layer to a manageable size\n",
    "tracts_fset = tracts_layer.query(\"STCOFIPS = '37063'\")"
   ]
  },
  {
   "cell_type": "code",
   "execution_count": 23,
   "id": "f2e275fe",
   "metadata": {},
   "outputs": [
    {
     "data": {
      "text/html": [
       "<div>\n",
       "<style scoped>\n",
       "    .dataframe tbody tr th:only-of-type {\n",
       "        vertical-align: middle;\n",
       "    }\n",
       "\n",
       "    .dataframe tbody tr th {\n",
       "        vertical-align: top;\n",
       "    }\n",
       "\n",
       "    .dataframe thead th {\n",
       "        text-align: right;\n",
       "    }\n",
       "</style>\n",
       "<table border=\"1\" class=\"dataframe\">\n",
       "  <thead>\n",
       "    <tr style=\"text-align: right;\">\n",
       "      <th></th>\n",
       "      <th>OBJECTID</th>\n",
       "      <th>STATE_ABBR</th>\n",
       "      <th>STATE_FIPS</th>\n",
       "      <th>COUNTY_FIPS</th>\n",
       "      <th>STCOFIPS</th>\n",
       "      <th>TRACT_FIPS</th>\n",
       "      <th>FIPS</th>\n",
       "      <th>POPULATION</th>\n",
       "      <th>POP_SQMI</th>\n",
       "      <th>SQMI</th>\n",
       "      <th>POPULATION_2020</th>\n",
       "      <th>POP20_SQMI</th>\n",
       "      <th>Shape__Area</th>\n",
       "      <th>Shape__Length</th>\n",
       "      <th>SHAPE</th>\n",
       "    </tr>\n",
       "  </thead>\n",
       "  <tbody>\n",
       "    <tr>\n",
       "      <th>0</th>\n",
       "      <td>55572</td>\n",
       "      <td>NC</td>\n",
       "      <td>37</td>\n",
       "      <td>063</td>\n",
       "      <td>37063</td>\n",
       "      <td>001604</td>\n",
       "      <td>37063001604</td>\n",
       "      <td>6831</td>\n",
       "      <td>709.3</td>\n",
       "      <td>9.63</td>\n",
       "      <td>6655</td>\n",
       "      <td>691.1</td>\n",
       "      <td>0.002496</td>\n",
       "      <td>0.226883</td>\n",
       "      <td>{\"rings\": [[[-78.941013719, 36.1238481410001],...</td>\n",
       "    </tr>\n",
       "    <tr>\n",
       "      <th>1</th>\n",
       "      <td>55573</td>\n",
       "      <td>NC</td>\n",
       "      <td>37</td>\n",
       "      <td>063</td>\n",
       "      <td>37063</td>\n",
       "      <td>001801</td>\n",
       "      <td>37063001801</td>\n",
       "      <td>8369</td>\n",
       "      <td>413.7</td>\n",
       "      <td>20.23</td>\n",
       "      <td>8293</td>\n",
       "      <td>409.9</td>\n",
       "      <td>0.005241</td>\n",
       "      <td>0.421162</td>\n",
       "      <td>{\"rings\": [[[-78.8114876779999, 36.09504014], ...</td>\n",
       "    </tr>\n",
       "    <tr>\n",
       "      <th>2</th>\n",
       "      <td>55574</td>\n",
       "      <td>NC</td>\n",
       "      <td>37</td>\n",
       "      <td>063</td>\n",
       "      <td>37063</td>\n",
       "      <td>000301</td>\n",
       "      <td>37063000301</td>\n",
       "      <td>2610</td>\n",
       "      <td>4278.7</td>\n",
       "      <td>0.61</td>\n",
       "      <td>2644</td>\n",
       "      <td>4334.4</td>\n",
       "      <td>0.000159</td>\n",
       "      <td>0.064235</td>\n",
       "      <td>{\"rings\": [[[-78.898370701, 36.017945121], [-7...</td>\n",
       "    </tr>\n",
       "    <tr>\n",
       "      <th>3</th>\n",
       "      <td>55575</td>\n",
       "      <td>NC</td>\n",
       "      <td>37</td>\n",
       "      <td>063</td>\n",
       "      <td>37063</td>\n",
       "      <td>002021</td>\n",
       "      <td>37063002021</td>\n",
       "      <td>4749</td>\n",
       "      <td>2029.5</td>\n",
       "      <td>2.34</td>\n",
       "      <td>4604</td>\n",
       "      <td>1967.5</td>\n",
       "      <td>0.000604</td>\n",
       "      <td>0.124131</td>\n",
       "      <td>{\"rings\": [[[-78.9574567129999, 35.91955509700...</td>\n",
       "    </tr>\n",
       "    <tr>\n",
       "      <th>4</th>\n",
       "      <td>55576</td>\n",
       "      <td>NC</td>\n",
       "      <td>37</td>\n",
       "      <td>063</td>\n",
       "      <td>37063</td>\n",
       "      <td>001712</td>\n",
       "      <td>37063001712</td>\n",
       "      <td>4458</td>\n",
       "      <td>1214.7</td>\n",
       "      <td>3.67</td>\n",
       "      <td>4150</td>\n",
       "      <td>1130.8</td>\n",
       "      <td>0.00095</td>\n",
       "      <td>0.163956</td>\n",
       "      <td>{\"rings\": [[[-78.937917715, 36.0725571300001],...</td>\n",
       "    </tr>\n",
       "  </tbody>\n",
       "</table>\n",
       "</div>"
      ],
      "text/plain": [
       "   OBJECTID STATE_ABBR STATE_FIPS  ... Shape__Area Shape__Length                                              SHAPE\n",
       "0     55572         NC         37  ...    0.002496      0.226883  {\"rings\": [[[-78.941013719, 36.1238481410001],...\n",
       "1     55573         NC         37  ...    0.005241      0.421162  {\"rings\": [[[-78.8114876779999, 36.09504014], ...\n",
       "2     55574         NC         37  ...    0.000159      0.064235  {\"rings\": [[[-78.898370701, 36.017945121], [-7...\n",
       "3     55575         NC         37  ...    0.000604      0.124131  {\"rings\": [[[-78.9574567129999, 35.91955509700...\n",
       "4     55576         NC         37  ...     0.00095      0.163956  {\"rings\": [[[-78.937917715, 36.0725571300001],...\n",
       "\n",
       "[5 rows x 15 columns]"
      ]
     },
     "execution_count": 23,
     "metadata": {},
     "output_type": "execute_result"
    }
   ],
   "source": [
    "#Convert results to a SeDF\n",
    "tracts_sdf = tracts_fset.sdf\n",
    "tracts_sdf.head()"
   ]
  },
  {
   "cell_type": "code",
   "execution_count": 26,
   "id": "9cd0ba6f",
   "metadata": {},
   "outputs": [
    {
     "data": {
      "application/vnd.jupyter.widget-view+json": {
       "model_id": "b4d97c7aca4940579035106ebf79f605",
       "version_major": 2,
       "version_minor": 0
      },
      "text/plain": [
       "MapView(layout=Layout(height='400px', width='100%'))"
      ]
     },
     "metadata": {},
     "output_type": "display_data"
    },
    {
     "data": {
      "text/html": [
       "<div class=\"map-static-img-preview-be57d3e7-b90f-4de2-a1bb-a3554d72a222\"><img src=\"\"></img></div>"
      ],
      "text/plain": [
       "<IPython.core.display.HTML object>"
      ]
     },
     "metadata": {},
     "output_type": "display_data"
    },
    {
     "data": {
      "text/html": [
       "<div class=\"map-html-embed-preview-be57d3e7-b90f-4de2-a1bb-a3554d72a222\"></div>"
      ],
      "text/plain": [
       "<IPython.core.display.HTML object>"
      ]
     },
     "metadata": {},
     "output_type": "display_data"
    }
   ],
   "source": [
    "tracts_sdf.spatial.plot(\n",
    "    renderer_type='classedColorRenderer',\n",
    "    field_name='POP_SQMI',\n",
    "    classification_method='naturalBreaks',\n",
    "    num_classes=5,\n",
    "    color_ramp='Viridis')"
   ]
  },
  {
   "cell_type": "code",
   "execution_count": null,
   "id": "d7315656",
   "metadata": {},
   "outputs": [],
   "source": []
  }
 ],
 "metadata": {
  "kernelspec": {
   "display_name": "Python 3 (ipykernel)",
   "language": "python",
   "name": "python3"
  },
  "language_info": {
   "codemirror_mode": {
    "name": "ipython",
    "version": 3
   },
   "file_extension": ".py",
   "mimetype": "text/x-python",
   "name": "python",
   "nbconvert_exporter": "python",
   "pygments_lexer": "ipython3",
   "version": "3.11.8"
  }
 },
 "nbformat": 4,
 "nbformat_minor": 5
}
