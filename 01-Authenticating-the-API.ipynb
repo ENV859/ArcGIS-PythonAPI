{
 "cells": [
  {
   "cell_type": "markdown",
   "metadata": {},
   "source": [
    "# 01 Authenticating using your NetID\n",
    "Resource: https://developers.arcgis.com/python/guide/working-with-different-authentication-schemes/#User-authentication-with-OAuth-2.0\n",
    "\n",
    "The steps below show how a client id can be obtained by registering a new application with your GIS. Only one client id is required, so if your GIS has one already, you may use it instead of creating a new application.\n",
    "\n",
    "*    Log into https://dukeuniv.maps.arcgis.com\n",
    "*    Go to **Content** tab\n",
    "*    Click '+ Add Item > An Application' menu\n",
    "*    Add an application:\n",
    " *       Type: `Application`\n",
    " *       Title: `Python`\n",
    " *       Tags: `python`\n",
    "*    On the Item details page of this newly created application, navigate to **Settings** tab\n",
    "*    Click the **Registered Info** button. It's towards the bottom of the page.\n",
    "*    This will dispaly an **App ID**. This is your client id and needs to be passed in as the client_id parameter when construcing a GIS object. You need this in your Python code to log in.\n"
   ]
  },
  {
   "cell_type": "code",
   "execution_count": null,
   "metadata": {},
   "outputs": [],
   "source": [
    "#Import the arcgis GIS helper\n",
    "from arcgis import GIS"
   ]
  },
  {
   "cell_type": "markdown",
   "metadata": {},
   "source": [
    "In the code block below, you'll need to replace my client_id (`YmtqqKYoHULH1M2l`) with the one you generated above. \n",
    "\n",
    "When this block is run, a new web page will appear asking you to log into your ArcGIS Online account using Duke's familiar log in. When you log in, the page will generate a token which you will copy and paste back here into this notebook. That secures the link between this notebook and your ArcGIS Online account!"
   ]
  },
  {
   "cell_type": "code",
   "execution_count": null,
   "metadata": {},
   "outputs": [],
   "source": [
    "#Authenticate\n",
    "gis = GIS('https://dukeuniv.maps.arcgis.com',client_id = 'YmtqqKYoHULH1M2l')\n",
    "print('Successfully logged in as :'+gis.properties.user.username)"
   ]
  },
  {
   "cell_type": "code",
   "execution_count": null,
   "metadata": {},
   "outputs": [],
   "source": [
    "#Display your username\n",
    "gis.properties.user.username"
   ]
  }
 ],
 "metadata": {
  "kernelspec": {
   "display_name": "Python 3",
   "language": "python",
   "name": "python3"
  },
  "language_info": {
   "codemirror_mode": {
    "name": "ipython",
    "version": 3
   },
   "file_extension": ".py",
   "mimetype": "text/x-python",
   "name": "python",
   "nbconvert_exporter": "python",
   "pygments_lexer": "ipython3",
   "version": "3.6.8"
  }
 },
 "nbformat": 4,
 "nbformat_minor": 2
}
