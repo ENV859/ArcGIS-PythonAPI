{
 "cells": [
  {
   "cell_type": "code",
   "execution_count": 66,
   "id": "7432b4dd",
   "metadata": {},
   "outputs": [],
   "source": [
    "import pandas as pd\n",
    "\n",
    "from arcgis import GIS\n",
    "from arcgis.mapping import * #WebMap, MapServiceLayer, MapFeatureLayer\n",
    "\n",
    "gis = GIS('home')"
   ]
  },
  {
   "cell_type": "markdown",
   "id": "d4a8dd47",
   "metadata": {},
   "source": [
    "### Flood Prone Areas\n",
    "* https://www.fema.gov/flood-maps/national-flood-hazard-layer\n",
    "* https://www.coast.noaa.gov/arcgis/rest/services/FloodExposureMapper/CFEM_FEMAFloodZones/MapServer/1\n",
    "* https://landscape11.arcgis.com/arcgis/rest/services/USA_Flood_Hazard_Areas/ImageServer\n",
    "* https://dukeuniv.maps.arcgis.com/home/item.html?id=3a2a84ccaa824fb6a87087553bf25f92\n"
   ]
  },
  {
   "cell_type": "code",
   "execution_count": 47,
   "id": "9d2b4013",
   "metadata": {},
   "outputs": [],
   "source": [
    "fema_web_map_app = gis.content.get('8b0adb51996444d4879338b5529aa9cd')\n",
    "fema_web_map_app_data = fema_web_map_app.get_data()\n",
    "fema_web_map_app_ID = fema_web_map_app_data['map']['itemId']\n",
    "fema_web_map_item = gis.content.get(fema_web_map_app_ID)\n",
    "fema_web_map = WebMap(fema_web_map_item)\n",
    "fema_web_map_layers = fema_web_map.layers"
   ]
  },
  {
   "cell_type": "code",
   "execution_count": 53,
   "id": "c6951d89",
   "metadata": {},
   "outputs": [
    {
     "data": {
      "text/plain": [
       "['Effective FIRM Panels',\n",
       " 'NFHL',\n",
       " 'Coastal Barrier Resources System Area (US FWS)']"
      ]
     },
     "execution_count": 53,
     "metadata": {},
     "output_type": "execute_result"
    }
   ],
   "source": [
    "#Show the layer titles\n",
    "[layer['title'] for layer in fema_web_map_layers]"
   ]
  },
  {
   "cell_type": "code",
   "execution_count": 59,
   "id": "afe167e2",
   "metadata": {},
   "outputs": [
    {
     "data": {
      "text/plain": [
       "32"
      ]
     },
     "execution_count": 59,
     "metadata": {},
     "output_type": "execute_result"
    }
   ],
   "source": [
    "#Create a map service layer\n",
    "fema_ms_layer = MapServiceLayer(fema_web_map_layers[1]['url'])\n",
    "fema_layers = fema_ms_layer.properties['layers']\n",
    "len(fema_layers)"
   ]
  },
  {
   "cell_type": "code",
   "execution_count": 63,
   "id": "42d3593c",
   "metadata": {},
   "outputs": [
    {
     "data": {
      "text/plain": [
       "id                                          0\n",
       "name                        NFHL Availability\n",
       "parentLayerId                              -1\n",
       "defaultVisibility                       False\n",
       "subLayerIds                              None\n",
       "minScale                                  0.0\n",
       "maxScale                                72225\n",
       "type                            Feature Layer\n",
       "geometryType              esriGeometryPolygon\n",
       "supportsDynamicLegends                   True\n",
       "Name: 0, dtype: object"
      ]
     },
     "execution_count": 63,
     "metadata": {},
     "output_type": "execute_result"
    }
   ],
   "source": [
    "df_layers = pd.DataFrame(fema_layers)\n",
    "df_layers.loc[0]"
   ]
  },
  {
   "cell_type": "code",
   "execution_count": 67,
   "id": "6a99d0c3",
   "metadata": {},
   "outputs": [
    {
     "ename": "NameError",
     "evalue": "name 'MapTable' is not defined",
     "output_type": "error",
     "traceback": [
      "\u001b[1;31m---------------------------------------------------------------------------\u001b[0m",
      "\u001b[1;31mNameError\u001b[0m                                 Traceback (most recent call last)",
      "\u001b[1;32m~\\AppData\\Local\\Temp\\ipykernel_3640\\95135034.py\u001b[0m in \u001b[0;36m<cell line: 0>\u001b[1;34m()\u001b[0m\n\u001b[1;32m----> 1\u001b[1;33m \u001b[0mms\u001b[0m \u001b[1;33m=\u001b[0m \u001b[0mMapTable\u001b[0m\u001b[1;33m(\u001b[0m\u001b[0mlyrs\u001b[0m\u001b[1;33m[\u001b[0m\u001b[1;36m1\u001b[0m\u001b[1;33m]\u001b[0m\u001b[1;33m[\u001b[0m\u001b[1;34m'url'\u001b[0m\u001b[1;33m]\u001b[0m\u001b[1;33m)\u001b[0m\u001b[1;33m\u001b[0m\u001b[1;33m\u001b[0m\u001b[0m\n\u001b[0m\u001b[0;32m      2\u001b[0m \u001b[0mms\u001b[0m\u001b[1;33m.\u001b[0m\u001b[0mproperties\u001b[0m\u001b[1;33m[\u001b[0m\u001b[1;34m'layers'\u001b[0m\u001b[1;33m]\u001b[0m\u001b[1;33m\u001b[0m\u001b[1;33m\u001b[0m\u001b[0m\n",
      "\u001b[1;31mNameError\u001b[0m: name 'MapTable' is not defined"
     ]
    }
   ],
   "source": [
    "ms = MapTable(lyrs[1]['url'])\n",
    "ms.properties['layers']"
   ]
  },
  {
   "cell_type": "code",
   "execution_count": 65,
   "id": "51d5fbb2",
   "metadata": {},
   "outputs": [
    {
     "data": {
      "text/plain": [
       "<MapFeatureLayer url:\"https://hazards.fema.gov/arcgis/rest/services/FIRMette/NFHLREST_FIRMette/MapServer\">"
      ]
     },
     "execution_count": 65,
     "metadata": {},
     "output_type": "execute_result"
    }
   ],
   "source": [
    "mf_lyr = MapFeatureLayer(lyrs[1]['url'])\n",
    "mf_lyr"
   ]
  },
  {
   "cell_type": "markdown",
   "id": "b6549cb6",
   "metadata": {},
   "source": [
    "### Sea Level Rise\n",
    "* https://www.coast.noaa.gov/arcgis/rest/services/dc_slr/slr_1ft/MapServer/1\n",
    "* https://www.coast.noaa.gov/arcgis/rest/services/dc_slr/slr_1ft/MapServer/0\n",
    "* https://www.coast.noaa.gov/arcgis/rest/services/dc_slr/slr_2ft/MapServer/1\n",
    "* https://www.coast.noaa.gov/arcgis/rest/services/dc_slr/slr_2ft/MapServer/0\n",
    "* https://www.coast.noaa.gov/arcgis/rest/services/dc_slr/slr_3ft/MapServer/1\n",
    "* https://www.coast.noaa.gov/arcgis/rest/services/dc_slr/slr_3ft/MapServer/0\n",
    "* https://coast.noaa.gov/slrdata/DEMs/NC/index.html"
   ]
  },
  {
   "cell_type": "markdown",
   "id": "e4cf6425",
   "metadata": {},
   "source": [
    "### Storm Surge\n",
    "* https://tiles.arcgis.com/tiles/C8EMgrsFcRFL6LrL/arcgis/rest/services/Storm_Surge_HazardMaps_Category1_v3/MapServer?f=html&cacheKey=8c1eda5e290c30bd\n",
    "* https://tiles.arcgis.com/tiles/C8EMgrsFcRFL6LrL/arcgis/rest/services/Storm_Surge_HazardMaps_Category2_v3/MapServer?f=html&cacheKey=bc29bd820e1e09aa\n",
    "* https://tiles.arcgis.com/tiles/C8EMgrsFcRFL6LrL/arcgis/rest/services/Storm_Surge_HazardMaps_Category3_v3/MapServer?f=html&cacheKey=990f926f2812a1e0\n",
    "* https://tiles.arcgis.com/tiles/C8EMgrsFcRFL6LrL/arcgis/rest/services/Storm_Surge_HazardMaps_Category4_v3/MapServer?f=html&cacheKey=ba281138bc28168f\n",
    "* https://tiles.arcgis.com/tiles/C8EMgrsFcRFL6LrL/arcgis/rest/services/Storm_Surge_HazardMaps_Category5_v3/MapServer?f=html&cacheKey=a407a7ec582a37b0"
   ]
  },
  {
   "cell_type": "markdown",
   "id": "a1e101c7",
   "metadata": {},
   "source": [
    "### Areas of low slope\n",
    "* "
   ]
  },
  {
   "cell_type": "markdown",
   "id": "2c081971",
   "metadata": {},
   "source": [
    "### Soil erodibility\n",
    "* https://landscape11.arcgis.com/arcgis/rest/services/USA_Soils_Erodibility_Factor/ImageServer\n",
    "* https://gdg.sc.egov.usda.gov/GDGHome_DirectDownLoad.aspx"
   ]
  },
  {
   "cell_type": "markdown",
   "id": "013bb3bc",
   "metadata": {},
   "source": [
    "### Impervious Surfaces\n",
    "* https://coast.noaa.gov/arcgis/rest/services/Landcover/CCAP_High_Resolution_V2_Impervious/ImageServer\n",
    "* https://coast.noaa.gov/arcgis/rest/services/Landcover/CCAP_High_Resolution_V2_Landcover/ImageServer\n",
    "* https://coastalimagery.blob.core.windows.net/ccap-landcover/CCAP_bulk_download/High_Resolution_Land_Cover/Phase_1_Initial_Layers/index.html"
   ]
  },
  {
   "cell_type": "code",
   "execution_count": null,
   "id": "322747ed",
   "metadata": {},
   "outputs": [],
   "source": []
  }
 ],
 "metadata": {
  "kernelspec": {
   "display_name": "Python 3 (ipykernel)",
   "language": "python",
   "name": "python3"
  },
  "language_info": {
   "codemirror_mode": {
    "name": "ipython",
    "version": 3
   },
   "file_extension": ".py",
   "mimetype": "text/x-python",
   "name": "python",
   "nbconvert_exporter": "python",
   "pygments_lexer": "ipython3",
   "version": "3.11.8"
  }
 },
 "nbformat": 4,
 "nbformat_minor": 5
}
