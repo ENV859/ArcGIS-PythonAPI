{
 "cells": [
  {
   "cell_type": "code",
   "execution_count": null,
   "id": "7432b4dd",
   "metadata": {},
   "outputs": [],
   "source": [
    "import pandas as pd\n",
    "\n",
    "from arcgis import GIS\n",
    "from arcgis.geocoding import geocode\n",
    "from arcgis.mapping import WebMap, MapServiceLayer, MapFeatureLayer\n",
    "from arcgis.features import FeatureLayer, GeoAccessor\n",
    "from arcgis.geometry import filters\n",
    "\n",
    "gis = GIS('home')"
   ]
  },
  {
   "cell_type": "markdown",
   "id": "d4a8dd47",
   "metadata": {},
   "source": [
    "### Flood Prone Areas\n",
    "* https://www.fema.gov/flood-maps/national-flood-hazard-layer\n",
    "    * https://hazards-fema.maps.arcgis.com/apps/webappviewer/index.html?id=8b0adb51996444d4879338b5529aa9cd\n",
    "* https://www.coast.noaa.gov/arcgis/rest/services/FloodExposureMapper/CFEM_FEMAFloodZones/MapServer/1\n",
    "* https://landscape11.arcgis.com/arcgis/rest/services/USA_Flood_Hazard_Areas/ImageServer\n",
    "* https://dukeuniv.maps.arcgis.com/home/item.html?id=3a2a84ccaa824fb6a87087553bf25f92\n"
   ]
  },
  {
   "cell_type": "code",
   "execution_count": null,
   "id": "1308f6c1",
   "metadata": {},
   "outputs": [],
   "source": [
    "#Get the web mapping application item FEMA provides\n",
    "fema_web_map_app = gis.content.get('8b0adb51996444d4879338b5529aa9cd')\n",
    "fema_web_map_app.type"
   ]
  },
  {
   "cell_type": "code",
   "execution_count": null,
   "id": "01ba8d6c",
   "metadata": {},
   "outputs": [],
   "source": [
    "#Get the data associated with the item\n",
    "fema_web_map_app_data = fema_web_map_app.get_data()\n",
    "#From the dictionary, extract the map's item ID\n",
    "fema_web_map_app_ID = fema_web_map_app_data['map']['itemId']\n",
    "#Find the item associated with that item \n",
    "fema_web_map_item = gis.content.get(fema_web_map_app_ID)\n",
    "fema_web_map_item.type"
   ]
  },
  {
   "cell_type": "code",
   "execution_count": null,
   "id": "c6951d89",
   "metadata": {},
   "outputs": [],
   "source": [
    "#Create a web map from the web map item\n",
    "fema_web_map = WebMap(fema_web_map_item)\n",
    "\n",
    "#Extract its layers\n",
    "fema_web_map_layers = fema_web_map.layers\n",
    "\n",
    "#Show the layer titles\n",
    "[layer['title'] for layer in fema_web_map_layers]"
   ]
  },
  {
   "cell_type": "markdown",
   "id": "c498ad21",
   "metadata": {},
   "source": [
    "→ The layer we want is the `NFHL` (National Flood Hazard Layer); it is a *Map Service Layer*"
   ]
  },
  {
   "cell_type": "code",
   "execution_count": null,
   "id": "e6c2c0f6",
   "metadata": {},
   "outputs": [],
   "source": [
    "#Get the URL for the MapServiceLayer\n",
    "the_layer = fema_web_map.layers[1]\n",
    "the_layer_url = the_layer.url\n",
    "print(the_layer_url)"
   ]
  },
  {
   "cell_type": "markdown",
   "id": "87365454",
   "metadata": {},
   "source": [
    "Browse the URL and you see that the Flood Hazard Layer is the layer with the ID 20, so we add `/20` to the URL\n"
   ]
  },
  {
   "cell_type": "code",
   "execution_count": null,
   "id": "ae22f881",
   "metadata": {},
   "outputs": [],
   "source": [
    "the_service_url = the_layer_url + '/20'"
   ]
  },
  {
   "cell_type": "code",
   "execution_count": null,
   "id": "afe167e2",
   "metadata": {},
   "outputs": [],
   "source": [
    "#Create a MapServiceLayer object from the url\n",
    "fema_ms_layer = MapServiceLayer(fema_web_map_layers[1]['url'])\n",
    "fema_layers = fema_ms_layer.properties['layers']\n",
    "len(fema_layers)"
   ]
  },
  {
   "cell_type": "code",
   "execution_count": null,
   "id": "09af0dfe",
   "metadata": {},
   "outputs": [],
   "source": [
    "#Fetch the layer\n",
    "nhfl_layer = FeatureLayer(the_service_url)\n",
    "nhfl_layer"
   ]
  },
  {
   "cell_type": "code",
   "execution_count": null,
   "id": "8a33ee76",
   "metadata": {},
   "outputs": [],
   "source": [
    "#Create a spatial filter for Cartaret County\n",
    "county_lyr = gis.content.get('14c5450526a8430298b2fa74da12c2f4').layers[0]\n",
    "county_sdf = county_lyr.query(\"STATE_NAME = 'North Carolina' AND NAME = 'Carteret County'\").sdf\n",
    "county_geom = county_sdf.iloc[0,-1]\n",
    "county_filter = filters.intersects(county_geom)"
   ]
  },
  {
   "cell_type": "code",
   "execution_count": null,
   "id": "37f4f963",
   "metadata": {},
   "outputs": [],
   "source": [
    "#Spatially query the nhfl feature layers\n",
    "nhfl_fset = nhfl_layer.query(geometry_filter=county_filter)\n",
    "nhfl_fset"
   ]
  },
  {
   "cell_type": "code",
   "execution_count": null,
   "id": "6a99d0c3",
   "metadata": {},
   "outputs": [],
   "source": [
    "#Convert to sdf\n",
    "nhfl_sdf = nhfl_fset.sdf\n",
    "nhfl_sdf.spatial.to_featureclass('./data/Cartaret_NHFL.shp')"
   ]
  },
  {
   "cell_type": "markdown",
   "id": "b6549cb6",
   "metadata": {},
   "source": [
    "### Sea Level Rise\n",
    "* https://www.coast.noaa.gov/arcgis/rest/services/dc_slr/slr_1ft/MapServer/1\n",
    "* https://www.coast.noaa.gov/arcgis/rest/services/dc_slr/slr_1ft/MapServer/0\n",
    "* https://www.coast.noaa.gov/arcgis/rest/services/dc_slr/slr_2ft/MapServer/1\n",
    "* https://www.coast.noaa.gov/arcgis/rest/services/dc_slr/slr_2ft/MapServer/0\n",
    "* https://www.coast.noaa.gov/arcgis/rest/services/dc_slr/slr_3ft/MapServer/1\n",
    "* https://www.coast.noaa.gov/arcgis/rest/services/dc_slr/slr_3ft/MapServer/0\n",
    "* https://coast.noaa.gov/slrdata/DEMs/NC/index.html"
   ]
  },
  {
   "cell_type": "code",
   "execution_count": null,
   "id": "56ece75e",
   "metadata": {},
   "outputs": [],
   "source": [
    "from arcgis.raster import Raster"
   ]
  },
  {
   "cell_type": "code",
   "execution_count": null,
   "id": "f56bea82",
   "metadata": {},
   "outputs": [],
   "source": [
    "sl1_raster = Raster('https://www.coast.noaa.gov/arcgis/rest/services/dc_slr/slr_1ft/MapServer/0')\n",
    "sl3_raster = Raster('https://www.coast.noaa.gov/arcgis/rest/services/dc_slr/slr_3ft/MapServer/0')"
   ]
  },
  {
   "cell_type": "code",
   "execution_count": null,
   "id": "2adb4d3b",
   "metadata": {},
   "outputs": [],
   "source": [
    "#Project the county geometry to the sr of the rasters\n",
    "raster_wkid = sl1_raster.spatial_reference['wkid']\n",
    "geom_projected = county_geom.project_as({\"wkid\": 102100})"
   ]
  },
  {
   "cell_type": "code",
   "execution_count": null,
   "id": "6b323ca3",
   "metadata": {},
   "outputs": [],
   "source": [
    "#Extract the rasters to the extent of the county_geom's envelope\n",
    "sl1_raster.extent = geom_projected.envelope\n",
    "sl3_raster.extent = geom_projected.envelope"
   ]
  },
  {
   "cell_type": "code",
   "execution_count": null,
   "id": "a5ae574e",
   "metadata": {},
   "outputs": [],
   "source": [
    "#Compute the difference between the maps\n",
    "sl1_raster - sl3_raster"
   ]
  },
  {
   "cell_type": "markdown",
   "id": "e4cf6425",
   "metadata": {},
   "source": [
    "### Storm Surge\n",
    "* https://tiles.arcgis.com/tiles/C8EMgrsFcRFL6LrL/arcgis/rest/services/Storm_Surge_HazardMaps_Category1_v3/MapServer?f=html&cacheKey=8c1eda5e290c30bd\n",
    "* https://tiles.arcgis.com/tiles/C8EMgrsFcRFL6LrL/arcgis/rest/services/Storm_Surge_HazardMaps_Category2_v3/MapServer?f=html&cacheKey=bc29bd820e1e09aa\n",
    "* https://tiles.arcgis.com/tiles/C8EMgrsFcRFL6LrL/arcgis/rest/services/Storm_Surge_HazardMaps_Category3_v3/MapServer?f=html&cacheKey=990f926f2812a1e0\n",
    "* https://tiles.arcgis.com/tiles/C8EMgrsFcRFL6LrL/arcgis/rest/services/Storm_Surge_HazardMaps_Category4_v3/MapServer?f=html&cacheKey=ba281138bc28168f\n",
    "* https://tiles.arcgis.com/tiles/C8EMgrsFcRFL6LrL/arcgis/rest/services/Storm_Surge_HazardMaps_Category5_v3/MapServer?f=html&cacheKey=a407a7ec582a37b0"
   ]
  },
  {
   "cell_type": "code",
   "execution_count": null,
   "id": "cda5a875",
   "metadata": {},
   "outputs": [],
   "source": [
    "surge1_raster = Raster(\n",
    "    'https://tiles.arcgis.com/tiles/C8EMgrsFcRFL6LrL/arcgis/rest/services/Storm_Surge_HazardMaps_Category1_v3/MapServer?f=html&cacheKey=8c1eda5e290c30bd'\n",
    ")\n",
    "surge1_raster.extent = geom_projected.envelope\n",
    "surge1_raster"
   ]
  },
  {
   "cell_type": "markdown",
   "id": "a1e101c7",
   "metadata": {},
   "source": [
    "### Areas of low slope\n",
    "* https://www.arcgis.com/home/item.html?id=58a541efc59545e6b7137f961d7de883"
   ]
  },
  {
   "cell_type": "code",
   "execution_count": null,
   "id": "bb7893f4",
   "metadata": {},
   "outputs": [],
   "source": [
    "from arcgis.raster import ImageryLayer"
   ]
  },
  {
   "cell_type": "code",
   "execution_count": null,
   "id": "a42344d9",
   "metadata": {},
   "outputs": [],
   "source": [
    "terrain_svc = gis.content.get('58a541efc59545e6b7137f961d7de883')\n",
    "terrain_img = ImageryLayer(\n",
    "    terrain_svc.url,\n",
    "    gis = gis\n",
    ")"
   ]
  },
  {
   "cell_type": "code",
   "execution_count": null,
   "id": "24001b22",
   "metadata": {},
   "outputs": [],
   "source": [
    "terrain_img.filter_by(geometry=filters.intersects(geom_projected)).extent = geom_projected"
   ]
  },
  {
   "cell_type": "code",
   "execution_count": null,
   "id": "aff3d2f9",
   "metadata": {},
   "outputs": [],
   "source": [
    "terrain_sdf = terrain_img.query().sdf\n",
    "terrain_sdf"
   ]
  },
  {
   "cell_type": "markdown",
   "id": "2c081971",
   "metadata": {},
   "source": [
    "### Soil erodibility\n",
    "* https://landscape11.arcgis.com/arcgis/rest/services/USA_Soils_Erodibility_Factor/ImageServer\n",
    "* https://gdg.sc.egov.usda.gov/GDGHome_DirectDownLoad.aspx"
   ]
  },
  {
   "cell_type": "markdown",
   "id": "013bb3bc",
   "metadata": {},
   "source": [
    "### Impervious Surfaces\n",
    "* https://coast.noaa.gov/arcgis/rest/services/Landcover/CCAP_High_Resolution_V2_Impervious/ImageServer\n",
    "* https://coast.noaa.gov/arcgis/rest/services/Landcover/CCAP_High_Resolution_V2_Landcover/ImageServer\n",
    "* https://coastalimagery.blob.core.windows.net/ccap-landcover/CCAP_bulk_download/High_Resolution_Land_Cover/Phase_1_Initial_Layers/index.html"
   ]
  },
  {
   "cell_type": "code",
   "execution_count": null,
   "id": "322747ed",
   "metadata": {},
   "outputs": [],
   "source": []
  }
 ],
 "metadata": {
  "kernelspec": {
   "display_name": "Python 3 (ipykernel)",
   "language": "python",
   "name": "python3"
  },
  "language_info": {
   "codemirror_mode": {
    "name": "ipython",
    "version": 3
   },
   "file_extension": ".py",
   "mimetype": "text/x-python",
   "name": "python",
   "nbconvert_exporter": "python",
   "pygments_lexer": "ipython3",
   "version": "3.11.8"
  }
 },
 "nbformat": 4,
 "nbformat_minor": 5
}
