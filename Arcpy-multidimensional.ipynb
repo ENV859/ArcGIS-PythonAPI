{
 "cells": [
  {
   "cell_type": "markdown",
   "id": "df549448",
   "metadata": {},
   "source": [
    "https://www.youtube.com/watch?v=TRCwtMAZI3Q&t=774s"
   ]
  },
  {
   "cell_type": "code",
   "execution_count": 1,
   "id": "cfcb62dd",
   "metadata": {},
   "outputs": [],
   "source": [
    "import arcpy"
   ]
  },
  {
   "cell_type": "code",
   "execution_count": 2,
   "id": "a95b94ee",
   "metadata": {},
   "outputs": [],
   "source": [
    "nc_file = 'U:\\\\nn107\\\\sst_fall_months.nc'\n",
    "md_raster = arcpy.Raster(nc_file, True)"
   ]
  },
  {
   "cell_type": "code",
   "execution_count": 5,
   "id": "c3cef928",
   "metadata": {},
   "outputs": [
    {
     "data": {
      "text/plain": [
       "['sea_surface_temperature(StdTime=403, StdZ=1)']"
      ]
     },
     "execution_count": 5,
     "metadata": {},
     "output_type": "execute_result"
    }
   ],
   "source": [
    "md_raster.variables"
   ]
  },
  {
   "cell_type": "code",
   "execution_count": 7,
   "id": "c2ab02b1",
   "metadata": {},
   "outputs": [
    {
     "data": {
      "text/plain": [
       "['StdTime', 'StdZ']"
      ]
     },
     "execution_count": 7,
     "metadata": {},
     "output_type": "execute_result"
    }
   ],
   "source": [
    "md_raster.getDimensionNames('sea_surface_temperature')"
   ]
  },
  {
   "cell_type": "code",
   "execution_count": 10,
   "id": "9423fce8",
   "metadata": {},
   "outputs": [
    {
     "data": {
      "text/plain": [
       "['2020-09-01T12:00:00+00:00',\n",
       " '2020-09-02T12:00:00+00:00',\n",
       " '2020-09-03T12:00:00+00:00',\n",
       " '2020-09-04T12:00:00+00:00',\n",
       " '2020-09-05T12:00:00+00:00']"
      ]
     },
     "execution_count": 10,
     "metadata": {},
     "output_type": "execute_result"
    }
   ],
   "source": [
    "md_raster.getDimensionValues('sea_surface_temperature','StdTime')[:5]"
   ]
  },
  {
   "cell_type": "code",
   "execution_count": 26,
   "id": "1faca4a1",
   "metadata": {},
   "outputs": [
    {
     "data": {
      "text/plain": [
       "arcpy.sa.Raster.Raster"
      ]
     },
     "execution_count": 26,
     "metadata": {},
     "output_type": "execute_result"
    }
   ],
   "source": [
    "out = arcpy.ia.Subset(\n",
    "    in_raster = md_raster,\n",
    "    variables = 'sea_surface_temperature',\n",
    "    dimension_definitions={\n",
    "        'StdTime':('2020-09-02T12:00:00','2020-09-03T12:00:00')\n",
    "    }\n",
    ")\n",
    "type(out)"
   ]
  },
  {
   "cell_type": "code",
   "execution_count": 29,
   "id": "7bcbb8f4",
   "metadata": {},
   "outputs": [
    {
     "data": {
      "text/plain": [
       "'{\"variables\":[{\"name\":\"sea_surface_temperature\",\"unit\":\"degree_C\",\"attributes\":{\"colorBarMaximum\":\"32\",\"colorBarMinimum\":\"0\",\"cw_atmospheric_correction\":\"Advanced Clear-Sky Processor for Oceans (ACSPO)-VIIRS\",\"cw_fraction_digits\":\"14\",\"ioos_category\":\"Temperature\",\"long_name\":\"sea surface sub-skin temperature\",\"source\":\"NOAA\",\"standard_name\":\"sea_surface_subskin_temperature\",\"valid_max\":\"327.670013\",\"valid_min\":\"-2.0000062\",\"_FillValue\":\"NaN\"},\"dimensions\":[{\"name\":\"StdTime\",\"field\":\"StdTime\",\"unit\":\"ISO8601\",\"extent\":[\"2020-09-02T12:00:00\",\"2020-09-03T12:00:00\"],\"hasRanges\":false,\"values\":[\"2020-09-02T12:00:00\",\"2020-09-03T12:00:00\"]},{\"name\":\"StdZ\",\"field\":\"StdZ\",\"unit\":\"Meters\",\"extent\":[\"0\",\"0\"],\"hasRanges\":false,\"values\":[\"0\"]}]}],\"layout\":1}'"
      ]
     },
     "execution_count": 29,
     "metadata": {},
     "output_type": "execute_result"
    }
   ],
   "source": [
    "out.mdinfo"
   ]
  }
 ],
 "metadata": {
  "kernelspec": {
   "display_name": "Python 3 (ipykernel)",
   "language": "python",
   "name": "python3"
  },
  "language_info": {
   "codemirror_mode": {
    "name": "ipython",
    "version": 3
   },
   "file_extension": ".py",
   "mimetype": "text/x-python",
   "name": "python",
   "nbconvert_exporter": "python",
   "pygments_lexer": "ipython3",
   "version": "3.11.8"
  }
 },
 "nbformat": 4,
 "nbformat_minor": 5
}
