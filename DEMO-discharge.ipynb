{
 "cells": [
  {
   "cell_type": "markdown",
   "metadata": {},
   "source": [
    "## LandCover Demo - Using the ArcGIS Python API\n",
    "This notebook reviews the workflow for extracting land cover data for a spatially selected watershed.\n",
    "\n",
    "### Pseudocode\n",
    "* Get the user point, as lat/long coordinates (Alternatively, geocode address)\n",
    "* Identify the HUC12 in which it is located\n",
    " * Search AGOL for a watershed boundary datatset\n",
    " * Retrive the HUC12 layer from the results\n",
    " * Query the HUC12 intersecting the user point and report its HUC8 value\n",
    "* Extract land cover within the selected HUC\n",
    " * Browse Living Atlas for an appropriate land cover dataset (NLCD)\n",
    " * Retrieve the land cover as an imagery service\n",
    " * Filter the images for a specific time\n",
    " * Extract the histogram for the pixels within the geometry"
   ]
  },
  {
   "cell_type": "code",
   "execution_count": null,
   "metadata": {},
   "outputs": [],
   "source": [
    "#Import arcgis modules\n",
    "from arcgis import GIS\n",
    "from arcgis.geocoding import geocode\n",
    "from arcgis.features import FeatureLayer, GeoAccessor\n",
    "from arcgis.geometry import Point, filters\n",
    "\n",
    "#Import pandas\n",
    "import pandas as pd\n",
    "\n",
    "#Connect to AGOL\n",
    "gis = GIS('home')"
   ]
  },
  {
   "cell_type": "markdown",
   "metadata": {},
   "source": [
    "Construct a Point object from the user coordinates\n",
    " * References: \n",
    "  * https://developers.arcgis.com/python/api-reference/arcgis.geometry.html#\n",
    "  * https://developers.arcgis.com/python/api-reference/arcgis.geometry.html#point"
   ]
  },
  {
   "cell_type": "code",
   "execution_count": null,
   "metadata": {},
   "outputs": [],
   "source": [
    "# Set user coordinates\n",
    "userLat = 36.0010\n",
    "userLng = -78.9991"
   ]
  },
  {
   "cell_type": "code",
   "execution_count": null,
   "metadata": {},
   "outputs": [],
   "source": [
    "#Create the point object\n",
    "the_pt = Point({\n",
    "    \"x\" : userLng, \n",
    "    \"y\" : userLat, \n",
    "    \"spatialReference\" : {\"wkid\" : 4326}\n",
    "})"
   ]
  },
  {
   "cell_type": "code",
   "execution_count": null,
   "metadata": {},
   "outputs": [],
   "source": [
    "#Alternatively, use geocoding\n",
    "nsoe = geocode('Nicholas School of the Environment',as_featureset=True).sdf\n",
    "#Get the geometry of the first item returned\n",
    "the_point = nsoe.loc[0,'SHAPE']\n",
    "#Print the point\n",
    "print(the_point)"
   ]
  },
  {
   "cell_type": "markdown",
   "metadata": {},
   "source": [
    "### Task 1. Finding Watershed\n",
    "The watershed boundary dataset is served via ESRI's Living Atlas. "
   ]
  },
  {
   "cell_type": "code",
   "execution_count": null,
   "metadata": {},
   "outputs": [],
   "source": [
    "#Search for a dataset of HUCs \n",
    "search_results = gis.content.search(\n",
    "    query='\"Watershed Boundary Dataset\" owner:esri_environment',\n",
    "    item_type='Feature',\n",
    "    outside_org=True)\n",
    "search_results"
   ]
  },
  {
   "cell_type": "code",
   "execution_count": null,
   "metadata": {},
   "outputs": [],
   "source": [
    "#Extract the 1st item (the HUC12s) and view it\n",
    "huc_item = search_results[0]\n",
    "huc_item"
   ]
  },
  {
   "cell_type": "code",
   "execution_count": null,
   "metadata": {},
   "outputs": [],
   "source": [
    "#Fetch its Item ID\n",
    "theID = huc_item.id\n",
    "theID"
   ]
  },
  {
   "cell_type": "code",
   "execution_count": null,
   "metadata": {},
   "outputs": [],
   "source": [
    "#For future reference, retrieve Watershed from its item ID\n",
    "item = gis.content.get('b60aa1d756b245cf9db03a92254af878')"
   ]
  },
  {
   "cell_type": "code",
   "execution_count": null,
   "metadata": {},
   "outputs": [],
   "source": [
    "#Reveal the layers, printing their info\n",
    "layers = item.layers\n",
    "for layer in layers:\n",
    "    print(\"Name:\",layer.properties.name)\n",
    "    print(\"Type:\", layer.properties.type)"
   ]
  },
  {
   "cell_type": "markdown",
   "metadata": {},
   "source": [
    "Layers: https://developers.arcgis.com/python/guide/working-with-feature-layers-and-features/"
   ]
  },
  {
   "cell_type": "code",
   "execution_count": null,
   "metadata": {},
   "outputs": [],
   "source": [
    "#Extract the one and only layer \n",
    "huc_layer = layers[0]\n",
    "\n",
    "#Show it's URL\n",
    "print(huc_layer.url)"
   ]
  },
  {
   "cell_type": "markdown",
   "metadata": {},
   "source": [
    "The layer's [URL](https://services.arcgis.com/P3ePLMYs2RVChkJx/arcgis/rest/services/Watershed_Boundary_Dataset_HUC_8s/FeatureServer/0) is its \"REST Service Endpoint\" and it includes useful information on how to work with the layer. \n",
    "\n",
    "We can also get the feature layer directly from its URL using the [`FeatureLayer`](https://developers.arcgis.com/python/latest/api-reference/arcgis.features.toc.html#featurelayer) object."
   ]
  },
  {
   "cell_type": "code",
   "execution_count": null,
   "metadata": {},
   "outputs": [],
   "source": [
    "#Fetch a feature layer from its url\n",
    "huc_layer = FeatureLayer(url='https://services.arcgis.com/P3ePLMYs2RVChkJx/arcgis/rest/services/Watershed_Boundary_Dataset_HUC_12s/FeatureServer/0')\n",
    "type(huc_layer)"
   ]
  },
  {
   "cell_type": "markdown",
   "metadata": {},
   "source": [
    "## Querying the feature layer\n",
    "We could convert this layer into a Spatial Dataframe using the code `GeoAccessor.from_layer(huc8_layer)`, but as it's a large dataset, that would take some time. So instead, we'll [query](https://developers.arcgis.com/python/latest/api-reference/arcgis.features.toc.html#arcgis.features.FeatureLayer.query) the feature layer for features intersecting our point.\n",
    "\n",
    "* To do this we need to create a [geometry filter](https://developers.arcgis.com/python/latest/api-reference/arcgis.geometry.filters.html#module-arcgis.geometry.filters) object, on specific for intersecting the point we created above.\n",
    "* Then we'll run the query command on the feature layer, which will return a [FeatureSet](https://developers.arcgis.com/python/latest/api-reference/arcgis.features.toc.html#featureset) object.\n",
    "* And finally, we'll convert our feature set to a Spatial Dataframe using the `sdf` command. \n"
   ]
  },
  {
   "cell_type": "code",
   "execution_count": null,
   "metadata": {},
   "outputs": [],
   "source": [
    "#Create a filter object from our point\n",
    "from arcgis.geometry import filters\n",
    "point_filter = filters.intersects(the_pt)"
   ]
  },
  {
   "cell_type": "code",
   "execution_count": null,
   "metadata": {},
   "outputs": [],
   "source": [
    "#Spatially query the layer\n",
    "huc_fset = huc_layer.query(\n",
    "    geometry_filter=point_filter,\n",
    "    #distance=5000\n",
    ")\n",
    "type(huc_fset)"
   ]
  },
  {
   "cell_type": "code",
   "execution_count": null,
   "metadata": {},
   "outputs": [],
   "source": [
    "#Convert to a spatial dataframe\n",
    "huc_sdf = huc_fset.sdf\n",
    "huc_sdf"
   ]
  },
  {
   "cell_type": "code",
   "execution_count": null,
   "metadata": {},
   "outputs": [],
   "source": [
    "#Display the data\n",
    "m = huc_sdf.spatial.plot()\n",
    "#m.basemap = 'oceans'\n",
    "m.draw(the_pt)\n",
    "#m"
   ]
  },
  {
   "cell_type": "markdown",
   "metadata": {},
   "source": [
    "## Extract land cover within the selected HUC\n",
    "Now that we have the HUC we want to analyze, the next step is to use it to extract land cover data falling within it. \n",
    "\n",
    "\n",
    "### Finding and retrieving land cover data\n",
    "To do this we need to find a land cover dataset and read it into our coding environment. Browsing the Living Atlas, we find the USA NLCD Land Cover service that will suit our needs: \n",
    "* View the item page for [USA NLCD Land Cover](https://dukeuniv.maps.arcgis.com/home/item.html?id=3ccf118ed80748909eb85c6d262b426f) service.\n",
    "* Note its item ID: `3ccf118ed80748909eb85c6d262b426f`; we'll use that to fetch the data\n",
    "* Note that it's an [Imagery Layer](https://developers.arcgis.com/python/latest/api-reference/arcgis.raster.toc.html#imagerylayer), this behaves differently than a Feature Layer\n",
    "* Note also that the service is a **Time Series** datsaet, including many **Time Extents**\n",
    "* Despite having many Time Extents, the Imagery Layer service only contains one Layer: [USA_NLCD_Land_Cover](https://landscape10.arcgis.com/arcgis/rest/services/USA_NLCD_Land_Cover/ImageServer)\n",
    "\n",
    "In short, this is no ordinary raster; rather its a time series raster from which we'll have to extract specific dates in order to get a raster object we can work with. "
   ]
  },
  {
   "cell_type": "code",
   "execution_count": null,
   "metadata": {},
   "outputs": [],
   "source": [
    "#Fetch the NLCD Service item via its id\n",
    "nlcd_item = gis.content.get('3ccf118ed80748909eb85c6d262b426f')\n",
    "nlcd_item"
   ]
  },
  {
   "cell_type": "code",
   "execution_count": null,
   "metadata": {},
   "outputs": [],
   "source": [
    "#Get the one and only layer\n",
    "nlcd_layer = nlcd_item.layers[0]\n",
    "type(nlcd_layer)"
   ]
  },
  {
   "cell_type": "markdown",
   "metadata": {},
   "source": [
    "► *Note: we can get the ImageryLayer directly via the `ImageryLayer` object and the URL. However, because this is a subscription only layer, we need to specify the gis object when we import it.*"
   ]
  },
  {
   "cell_type": "code",
   "execution_count": null,
   "metadata": {},
   "outputs": [],
   "source": [
    "#Get the ImageryLayer directly via the ImageryLayer object and the url\n",
    "from arcgis.raster import ImageryLayer\n",
    "nlcd_layer = ImageryLayer(\n",
    "    url='https://landscape10.arcgis.com/arcgis/rest/services/USA_NLCD_Land_Cover/ImageServer',\n",
    "    gis=gis\n",
    ")\n",
    "type(nlcd_layer)"
   ]
  },
  {
   "cell_type": "markdown",
   "metadata": {},
   "source": [
    "### Exploring the image service\n",
    "As mentioned above, this imagery service includes many time extents. As such, it has an associated feature layer that lists the properties (including spatial extents) of each of the rasters included in the service. We can access that feature layer by querying the image service, \n",
    "\n",
    "* First we'll extract the feature set associated with this ImageryLayer object, done with the `query()` function. \n",
    "* Then we'll convert this feature set to a spatial dataframe (sdf) so we can examine its contents. \n",
    "\n",
    "*→The feature set associated with an imagery layer includes information and spatial extents of the individual images contained in the ImageryLayer service.*"
   ]
  },
  {
   "cell_type": "code",
   "execution_count": null,
   "metadata": {},
   "outputs": [],
   "source": [
    "#Extract the feature set associated with the ImageryLayer\n",
    "nlcd_featureSet = nlcd_layer.query()"
   ]
  },
  {
   "cell_type": "code",
   "execution_count": null,
   "metadata": {},
   "outputs": [],
   "source": [
    "#Convert to a spatial dataframe\n",
    "nlcd_sdf = nlcd_featureSet.sdf\n",
    "\n",
    "#Display the first three rows of the dataframe\n",
    "nlcd_sdf.head()"
   ]
  },
  {
   "cell_type": "markdown",
   "metadata": {},
   "source": [
    "Browsing this dataframe, we see the criteria from which we can subset specific NLCD raster datasets from the image service. "
   ]
  },
  {
   "cell_type": "markdown",
   "metadata": {},
   "source": [
    "### Selecting images from the ImageryLayer for use in analysis\n",
    "In the above dataframe, each row represents an image that we analyze, and each column represents an attribute we can use to subset the images used in our analysis. We can also subset rows by filtering for those that intersect a specified *geometry* or that include a specified *time* or *time extent*. \n",
    "\n",
    "These criteria can be applied in a number of analytical functions associated with [ImageryLayer objects](https://developers.arcgis.com/python/latest/api-reference/arcgis.raster.toc.html#arcgis.raster.ImageryLayer). For example: \n",
    "* [`identify()`](https://developers.arcgis.com/python/latest/api-reference/arcgis.raster.toc.html#arcgis.raster.ImageryLayer.identify)\n",
    "* [`filter_by()`](https://developers.arcgis.com/python/latest/api-reference/arcgis.raster.toc.html#arcgis.raster.ImageryLayer.filter_by)\n",
    "* [`compute_histograms()`](https://developers.arcgis.com/python/latest/api-reference/arcgis.raster.toc.html#arcgis.raster.ImageryLayer.compute_histograms)\n",
    "* [`get_samples()`](https://developers.arcgis.com/python/latest/api-reference/arcgis.raster.toc.html#arcgis.raster.ImageryLayer.get_samples)\n"
   ]
  },
  {
   "cell_type": "code",
   "execution_count": null,
   "metadata": {},
   "outputs": [],
   "source": [
    "#List unique dataset names in the imagery layer\n",
    "list(nlcd_sdf['Name'].unique())"
   ]
  },
  {
   "cell_type": "markdown",
   "metadata": {},
   "source": [
    "##### Using `filter_by` to create a subset of images\n",
    "* To filter images using attributes in the feature set dataframe, we use the `where` parameter, supplying a valid \"where clause\"\n",
    "* To filter images using a time/time extent, we use the `time` parameter, supplying datetime objects\n",
    "* To filter images using location, we use the `geometry` parmameter, supplying arcgis geometry objects "
   ]
  },
  {
   "cell_type": "code",
   "execution_count": null,
   "metadata": {},
   "outputs": [],
   "source": [
    "#First, extract the geometry from the HUC result above\n",
    "the_geom = huc_sdf['SHAPE'][0]"
   ]
  },
  {
   "cell_type": "code",
   "execution_count": null,
   "metadata": {},
   "outputs": [],
   "source": [
    "#Query the imagery layer\n",
    "selected_images = nlcd_layer.filter_by(\n",
    "    where=\"Name = 'USA_NLCD_Land_Cover_2016_conus'\",    #Filter for just USA_NLCD_Land_Cover_2016_conus\n",
    "    #where = \"Name LIKE 'USA_NLCD_Land_Cover_%_conus'\",  #Filter for all records with the name 'USA_NLCD_Land_Cover_????_conus' (where ???? is a wildcard)\n",
    "    #time=[datetime(2016,1,1), datetime(2016,12,31)],    #Filter for datasets collected in 2016\n",
    "    geometry=filters.intersects(the_geom),              #Filter for datasets that intersect the geometry\n",
    "    lock_rasters=True\n",
    ")\n",
    "\n",
    "#Show the selected images as a dataframe\n",
    "selected_images_df = selected_images.query().sdf\n",
    "selected_images_df"
   ]
  },
  {
   "cell_type": "markdown",
   "metadata": {},
   "source": [
    "The [`compute_histograms()`](https://developers.arcgis.com/python/latest/api-reference/arcgis.raster.toc.html#arcgis.raster.ImageryLayer.compute_histograms) returns a list of histograms for all raster bands computed for the ImageryLayer from the given extent. It returns a dictionary from which we can extract a list of the # of pixels in each class."
   ]
  },
  {
   "cell_type": "code",
   "execution_count": null,
   "metadata": {},
   "outputs": [],
   "source": [
    "#Extract the values within the selected geometry\n",
    "the_histogram = selected_images.compute_histograms(\n",
    "    geometry=the_geom,\n",
    "    pixel_size=30)\n",
    "#the_histogram"
   ]
  },
  {
   "cell_type": "code",
   "execution_count": null,
   "metadata": {},
   "outputs": [],
   "source": [
    "#Extract just the counts\n",
    "the_counts = the_histogram['histograms'][0]['counts']\n",
    "\n",
    "#Convert the counts to a dataframe\n",
    "df_results = pd.DataFrame(the_counts,columns=['Count'])\n",
    "df_results.loc[df_results['Count']>0]"
   ]
  },
  {
   "cell_type": "markdown",
   "metadata": {},
   "source": [
    "Always good to check our work. We'll compare the area of the geomtery to the sum area of the pixels in the histogram result."
   ]
  },
  {
   "cell_type": "code",
   "execution_count": null,
   "metadata": {},
   "outputs": [],
   "source": [
    "#Project the watershed boundary to UTM 17 and compute area\n",
    "the_geom_area = the_geom.project_as({'wkid':32617}).area \n",
    "\n",
    "#Compute the sum of the count column, multiply by the cell size (30 x 30)\n",
    "the_pixel_area = df_results['Count'].sum(axis=0) * 900\n",
    "\n",
    "#Compare the two: should be close to 1\n",
    "the_geom_area / the_pixel_area"
   ]
  },
  {
   "cell_type": "markdown",
   "metadata": {},
   "source": [
    "Now we can link NLCD class names to the values to make nice plots. \n",
    "\n",
    "I have created and posted a CSV file of NLCD class values and name on GitHub that we can read into a dataframe."
   ]
  },
  {
   "cell_type": "code",
   "execution_count": null,
   "metadata": {},
   "outputs": [],
   "source": [
    "#Fetch the NLCD land cover classes\n",
    "df_classes = pd.read_csv(\n",
    "    'https://raw.githubusercontent.com/ENV859/ArcGIS-PythonAPI/refs/heads/master/data/NLCD.csv',\n",
    "     index_col=0)\n",
    "df_classes.head(3)"
   ]
  },
  {
   "cell_type": "code",
   "execution_count": null,
   "metadata": {},
   "outputs": [],
   "source": [
    "#Merge with the classes DataFrame\n",
    "df_histo = pd.merge(df_classes, df_results, left_index=True, right_index=True)\n",
    "df_histo.plot.bar(x='Class Name', y='Count');"
   ]
  }
 ],
 "metadata": {
  "kernelspec": {
   "display_name": "Python 3 (ipykernel)",
   "language": "python",
   "name": "python3"
  },
  "language_info": {
   "codemirror_mode": {
    "name": "ipython",
    "version": 3
   },
   "file_extension": ".py",
   "mimetype": "text/x-python",
   "name": "python",
   "nbconvert_exporter": "python",
   "pygments_lexer": "ipython3",
   "version": "3.11.8"
  }
 },
 "nbformat": 4,
 "nbformat_minor": 2
}
