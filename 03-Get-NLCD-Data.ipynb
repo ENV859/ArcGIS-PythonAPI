{
 "cells": [
  {
   "cell_type": "markdown",
   "metadata": {},
   "source": [
    "# Grab land cover for specified extent\n",
    "Say you want to grab land cover data for a specific location, but you don't want to download the entire NLCD dataset to do that. The ArcGIS Python API can help!\n",
    "\n",
    "Here I present an example of doing just that. The steps involve:\n",
    "* Prepping for the analysis: importing modules and authenticating our arcgis session\n",
    "* Locating the land cover data **item** and creating a **imagery layer** from it\n",
    "* \n",
    "\n",
    "*Resource: https://developers.arcgis.com/python/guide/raster-analysis-advanced-concepts/*"
   ]
  },
  {
   "cell_type": "markdown",
   "metadata": {},
   "source": [
    "### Prepping for analysis: importing and authenticating\n",
    "* Import the the arcgis `GIS` module. We're going to do some geocoding so we need to create the arcgis `geocoding` module as well. Lastly, enable the Jupyter `display` object"
   ]
  },
  {
   "cell_type": "code",
   "execution_count": null,
   "metadata": {},
   "outputs": [],
   "source": [
    "#Import the GIS object.  and display modules\n",
    "from arcgis import GIS\n",
    "#from arcgis.geocoding import geocode\n",
    "from IPython.display import display, Image"
   ]
  },
  {
   "cell_type": "markdown",
   "metadata": {},
   "source": [
    "* Authenticate our GIS object using our ArcGIS Pro account"
   ]
  },
  {
   "cell_type": "code",
   "execution_count": null,
   "metadata": {},
   "outputs": [],
   "source": [
    "#Create the GIS object, authenticating with your ArcGIS Pro account\n",
    "gis = GIS('pro')"
   ]
  },
  {
   "cell_type": "markdown",
   "metadata": {},
   "source": [
    "### Searching for and accessing the content\n",
    "What we want is 2011 NLCD data, provided as an *image service* (i.e. as a raster). You could search for the data from within ArcGIS Pro or via the [ArcGIS Online](http://www.arcgis.com) website, but we'll do it right here. \n",
    "\n",
    "Like any web search, it's a bit of an art knowing how best to locate the resource you want. At play are what general search keywords to include, and specific categories like `owner` or `item-type` to invoke. We do, however, want to search outside the Duke Community, we we want to include `outside_org=True`. \n",
    "\n",
    "I've decided to use `NLCD 2011` as a general search term, filter results for only those that `esri` provides, and limit results to image services: "
   ]
  },
  {
   "cell_type": "code",
   "execution_count": null,
   "metadata": {},
   "outputs": [],
   "source": [
    "#Search for land cover and print the number of results\n",
    "nlcd_results = gis.content.search(\"NLCD 2011, owner:esri\",   #The query used to select records\n",
    "                                  item_type='Image Service', #Filter just those that are Imagery layers\n",
    "                                  max_items=100,             #Default is 10 items; let's look for more\n",
    "                                  outside_org=True)          #Default is to just search Duke's portal; turn that off\n",
    "#Reveal how many hits we got\n",
    "len(nlcd_results)"
   ]
  },
  {
   "cell_type": "markdown",
   "metadata": {},
   "source": [
    "► This gives us several results, enough to show a list..."
   ]
  },
  {
   "cell_type": "code",
   "execution_count": null,
   "metadata": {},
   "outputs": [],
   "source": [
    "#Show a complete list of results\n",
    "nlcd_results"
   ]
  },
  {
   "cell_type": "markdown",
   "metadata": {},
   "source": [
    "* The *second* item is the one we want. Let's store that as a variable named `lc_item`. "
   ]
  },
  {
   "cell_type": "code",
   "execution_count": null,
   "metadata": {},
   "outputs": [],
   "source": [
    "#Get the second result and view what kind of Python object it is. \n",
    "nlcd_item = nlcd_results[1]\n",
    "type(nlcd_item)"
   ]
  },
  {
   "cell_type": "code",
   "execution_count": null,
   "metadata": {},
   "outputs": [],
   "source": [
    "#Show what kind of ArcGIS object it is\n",
    "nlcd_item.type"
   ]
  },
  {
   "cell_type": "code",
   "execution_count": null,
   "metadata": {},
   "outputs": [],
   "source": [
    "#Show what the item's ID is \n",
    "nlcd_item.id"
   ]
  },
  {
   "cell_type": "code",
   "execution_count": null,
   "metadata": {},
   "outputs": [],
   "source": [
    "#Show the item info\n",
    "nlcd_item"
   ]
  },
  {
   "cell_type": "markdown",
   "metadata": {},
   "source": [
    "## A second option for finding and fetching data: ESRI's Living Atlas\n",
    "ESRI's [Living Atlas](https://livingatlas.arcgis.com) contains a vast array of quality controlled data. Here's how we can access images hosted there: \n",
    "* Open the Living Atlas in your web browser. \n",
    "* Search for NLCD and select the [USA NLCD Land Cover](https://www.arcgis.com/home/item.html?id=3ccf118ed80748909eb85c6d262b426f)\n",
    "* Note the Item ID in the page's URL: 3ccf118ed80748909eb85c6d262b426f\n",
    "* Fetch the imagery layer using this ID:"
   ]
  },
  {
   "cell_type": "code",
   "execution_count": null,
   "metadata": {},
   "outputs": [],
   "source": [
    "#Fetch the NLCD image layer service using its item ID\n",
    "nlcd_item2 = gis.content.get('3ccf118ed80748909eb85c6d262b426f')\n",
    "nlcd_item2.type"
   ]
  },
  {
   "cell_type": "code",
   "execution_count": null,
   "metadata": {},
   "outputs": [],
   "source": [
    "nlcd_item2"
   ]
  },
  {
   "cell_type": "markdown",
   "metadata": {},
   "source": [
    "### Accessing the <u>layers</u> contained in the image service\n",
    "Image Services are a container for individual image layers. So to access the actual raster datasets we want to analyze or download, we need to drill into the service an pull out individual layers. "
   ]
  },
  {
   "cell_type": "code",
   "execution_count": null,
   "metadata": {},
   "outputs": [],
   "source": [
    "#Reveal the layers associated with this service\n",
    "nlcd.layers"
   ]
  },
  {
   "cell_type": "code",
   "execution_count": null,
   "metadata": {},
   "outputs": [],
   "source": [
    "#Captute the one and only layer as its own object and reveal its object type\n",
    "nlcd_layer = nlcd.layers[0]\n",
    "type(nlcd_layer)"
   ]
  },
  {
   "cell_type": "code",
   "execution_count": null,
   "metadata": {},
   "outputs": [],
   "source": [
    "#Show the layer\n",
    "nlcd_layer"
   ]
  },
  {
   "cell_type": "markdown",
   "metadata": {},
   "source": [
    "### Accesing image service layers directly, using their REST endpoint URL\n",
    "What if you couldn't find the item's ID? If you can find the service's REST endpoint, you can create an image layer from that. \n",
    " * First you have to import the `ImagerLayer` object from the ArcGIS Python API's `raster` submodule. \n",
    " * Then we create the image layer from the REST URL. \n",
    " * In this instance, we have to supply the `gis` object because layers in the Living Atlas are restricted, meaning you have to provide an authenticated GIS object. "
   ]
  },
  {
   "cell_type": "code",
   "execution_count": null,
   "metadata": {},
   "outputs": [],
   "source": [
    "#Import the ImageryLayer object into our session\n",
    "from arcgis.raster import ImageryLayer\n",
    "\n",
    "#Construct the layer directly from its URL\n",
    "nlcd_layer2 = ImageryLayer(url='https://landscape10.arcgis.com/arcgis/rest/services/USA_NLCD_Land_Cover/ImageServer',\n",
    "                        gis=gis)"
   ]
  },
  {
   "cell_type": "markdown",
   "metadata": {},
   "source": [
    "### Exploring properties of the image layer\n",
    "Before analyzing our image, let's look at how we access its properties"
   ]
  },
  {
   "cell_type": "code",
   "execution_count": null,
   "metadata": {},
   "outputs": [],
   "source": [
    "#Show properties associated with the layer\n",
    "list(nlcd_layer.properties.keys())"
   ]
  },
  {
   "cell_type": "code",
   "execution_count": null,
   "metadata": {},
   "outputs": [],
   "source": [
    "#Show the fields\n",
    "for f in nlcd_layer.properties.fields: print (f.name)"
   ]
  },
  {
   "cell_type": "code",
   "execution_count": null,
   "metadata": {},
   "outputs": [],
   "source": [
    "#Reveal the item's spatial reference\n",
    "nlcd_layer.properties.spatialReference"
   ]
  },
  {
   "cell_type": "code",
   "execution_count": null,
   "metadata": {},
   "outputs": [],
   "source": [
    "#What are the pixel sizes in the X and Y direction? \n",
    "xPixelSize = nlcd_layer.properties.pixelSizeX\n",
    "yPixelSize = nlcd_layer.properties.pixelSizeY\n",
    "print(xPixelSize,yPixelSize)"
   ]
  },
  {
   "cell_type": "code",
   "execution_count": null,
   "metadata": {},
   "outputs": [],
   "source": [
    "#Reveal the functions associated with the item\n",
    "for fun in nlcd_layer.properties.rasterFunctionInfos: \n",
    "    print(fun.name,\":\",fun.description)"
   ]
  },
  {
   "cell_type": "code",
   "execution_count": null,
   "metadata": {},
   "outputs": [],
   "source": [
    "#How many pixels can be downloaded at once? \n",
    "nlcd_layer.properties.maxRecordCount"
   ]
  },
  {
   "cell_type": "markdown",
   "metadata": {},
   "source": [
    "### Mapping\n",
    "Just as we did in previous notebooks, we can create a map widget and add this layer to it. "
   ]
  },
  {
   "cell_type": "code",
   "execution_count": null,
   "metadata": {},
   "outputs": [],
   "source": [
    "#Create the map, centered on Durham\n",
    "m = gis.map(\"Durham County, NC\")\n",
    "#Add the nlcd_layer\n",
    "m.add_layer(nlcd_layer)\n",
    "#Show the map\n",
    "m"
   ]
  },
  {
   "cell_type": "code",
   "execution_count": null,
   "metadata": {},
   "outputs": [],
   "source": [
    "mapExtent = m.extent\n",
    "mapExtent"
   ]
  },
  {
   "cell_type": "markdown",
   "metadata": {},
   "source": [
    "## Subsetting our image\n",
    "We cannot easily download this dataset in one chunk; it's too big, and that request would burden the server. Rather, we are limited by downloading 1000 pixels at time, and thus we need to constrain the extent of the data we download. The workflow here is as follows: \n",
    "* Create a geometry object to clip the raster at a management size.\n",
    " * Define an extent, either manually or using the [geocoding] module.\n",
    " * Convert it into an ArcGIS \"geometry\" object.\n",
    "  * For this we will need to import the arcgis [geometry module](https://developers.arcgis.com/python/api-reference/arcgis.geometry.html) to conver the extent to an \"envelope\" and then into a \"polygon\".\n",
    "* We'll then need to project this geometry to match the NLCD layer's spatial reference.\n",
    " * We'll need to know the image layer's spatial reference for this\n",
    "* Then, we can [clip](https://developers.arcgis.com/python/api-reference/arcgis.raster.functions.html?arcgis.raster.functions.clip#clip) the NLCD layer using this geometry\n",
    "\n",
    "Reference: https://developers.arcgis.com/python/guide/raster-analysis-advanced-concepts/"
   ]
  },
  {
   "cell_type": "code",
   "execution_count": null,
   "metadata": {},
   "outputs": [],
   "source": [
    "#create a dictionary of extent values, in decimal degrees\n",
    "myExtent = {'xmin': -79.15,\n",
    "            'ymin': 35.95,\n",
    "            'xmax': -78.95,\n",
    "            'ymax': 36.15}"
   ]
  },
  {
   "cell_type": "code",
   "execution_count": null,
   "metadata": {},
   "outputs": [],
   "source": [
    "#Alternative, create an extent using the API's geocoding module\n",
    "from arcgis import geocoding\n",
    "area = geocoding.geocode(\"Duke University\",out_sr=nlcd_layer.properties.spatialReference)[0]\n",
    "area['extent']"
   ]
  },
  {
   "cell_type": "code",
   "execution_count": null,
   "metadata": {},
   "outputs": [],
   "source": [
    "#Set the area of interest of our NLCD image\n",
    "nlcd_layer.extent=area['extent']"
   ]
  },
  {
   "cell_type": "code",
   "execution_count": null,
   "metadata": {},
   "outputs": [],
   "source": [
    "#Display the image\n",
    "nlcd_layer"
   ]
  },
  {
   "cell_type": "code",
   "execution_count": null,
   "metadata": {},
   "outputs": [],
   "source": [
    "#Save the image\n",
    "savedimg = nlcd_layer.export_image(bbox=area['extent'],\n",
    "                        save_file='./DurhamNLCD.tif',\n",
    "                        export_format='tiff',\n",
    "                        compression_quality=100,\n",
    "                        f='image'\n",
    "                       )"
   ]
  },
  {
   "cell_type": "code",
   "execution_count": null,
   "metadata": {},
   "outputs": [],
   "source": [
    "#Import the ArcGIS geometry module\n",
    "from arcgis import geometry"
   ]
  },
  {
   "cell_type": "code",
   "execution_count": null,
   "metadata": {},
   "outputs": [],
   "source": [
    "#Convert the dictionary to an \"envelope\"\n",
    "envelope_DD = geometry.Envelope(myExtent)\n",
    "#Convert the envelope into a polygon\n",
    "extentPoly_DD = envelope_DD.polygon\n",
    "#Show the polygon\n",
    "extentPoly_DD"
   ]
  },
  {
   "cell_type": "code",
   "execution_count": null,
   "metadata": {},
   "outputs": [],
   "source": [
    "extentPoly_DD.get_area(method='geodesic',units='meters')/900"
   ]
  },
  {
   "cell_type": "code",
   "execution_count": null,
   "metadata": {},
   "outputs": [],
   "source": [
    "#Display the polygon on the map\n",
    "map2 = gis.map(\"Durham Co, NC\")\n",
    "map2.draw(extentPoly_DD)\n",
    "map2"
   ]
  },
  {
   "cell_type": "code",
   "execution_count": null,
   "metadata": {},
   "outputs": [],
   "source": [
    "#Save the NLCD's spatial reference as a variable\n",
    "nlcd_wkid = nlcd_layer.properties.spatialReference.wkid\n",
    "nlcd_wkid"
   ]
  },
  {
   "cell_type": "code",
   "execution_count": null,
   "metadata": {},
   "outputs": [],
   "source": [
    "#Project the extentPoly to the spatial reference of the imagery layer'\n",
    "extentPoly_prj = geometry.project(geometries=[extentPoly_DD],\n",
    "                                  in_sr=4326,\n",
    "                                  out_sr=nlcd_sr)[0]\n",
    "#Plot the projected polygon\n",
    "extentPoly_prj"
   ]
  },
  {
   "cell_type": "code",
   "execution_count": null,
   "metadata": {},
   "outputs": [],
   "source": [
    "#Import the clip function and clip the raster \n",
    "from arcgis.raster.functions import clip\n",
    "lc_clip = clip(raster=nlcd_layer,\n",
    "               geometry=extentPoly_prj)"
   ]
  },
  {
   "cell_type": "code",
   "execution_count": null,
   "metadata": {},
   "outputs": [],
   "source": [
    "import pandas as pd\n",
    "attDF = pd.DataFrame.from_records(nlcd_layer.attribute_table()['features'])\n",
    "attDF = attDF['attributes'].apply(pd.Series).set_index('OBJECTID')\n",
    "attDF.head()"
   ]
  },
  {
   "cell_type": "code",
   "execution_count": null,
   "metadata": {},
   "outputs": [],
   "source": [
    "#Extract the extremes\n",
    "xmin,ymin,xmax,ymax = extentPoly_prj.geoextent"
   ]
  },
  {
   "cell_type": "code",
   "execution_count": null,
   "metadata": {},
   "outputs": [],
   "source": [
    "ext['xmin'] = xmin"
   ]
  },
  {
   "cell_type": "code",
   "execution_count": null,
   "metadata": {},
   "outputs": [],
   "source": [
    "#Now we need to compute number of rows and columns contained in this extent\n",
    "ext=area['extent']\n",
    "xSize = int((ext['xmax'] - ext['xmin']) / 30)\n",
    "ySize = int((ext['ymax'] - ext['ymin']) / 30)\n",
    "xSize,ySize"
   ]
  },
  {
   "cell_type": "markdown",
   "metadata": {},
   "source": [
    "* Use the imagery layer's [`export_image`](https://esri.github.io/arcgis-python-api/apidoc/html/arcgis.raster.toc.html#arcgis.raster.ImageryLayer.export_image) function to extract a subset of data."
   ]
  },
  {
   "cell_type": "code",
   "execution_count": null,
   "metadata": {},
   "outputs": [],
   "source": [
    "#Extract data\n",
    "img = nlcd_layer.export_image(bbox=ext,\n",
    "                              size=[xSize,ySize],\n",
    "                               f='image')\n",
    "type(img)"
   ]
  },
  {
   "cell_type": "code",
   "execution_count": null,
   "metadata": {},
   "outputs": [],
   "source": [
    "#Show the image\n",
    "Image(img)"
   ]
  },
  {
   "cell_type": "code",
   "execution_count": null,
   "metadata": {},
   "outputs": [],
   "source": [
    "#Or we can save the output directly to a file\n",
    "savedimg = nlcd_layer.export_image(bbox=area['extent'],\n",
    "                               save_folder='.', \n",
    "                               save_file='DurhamNLCD.tif',\n",
    "                               size=[xSize,ySize],\n",
    "                               export_format='tiff',\n",
    "                               compression_quality=100,\n",
    "                               f='image'\n",
    "                              )"
   ]
  },
  {
   "cell_type": "code",
   "execution_count": null,
   "metadata": {},
   "outputs": [],
   "source": [
    "#Or we can examine properties of our saved image as a JSON object\n",
    "img_json = nlcd_layer.export_image(bbox=area['extent'],\n",
    "                               f='json'\n",
    "                              )\n",
    "img_json"
   ]
  }
 ],
 "metadata": {
  "kernelspec": {
   "display_name": "Python 3",
   "language": "python",
   "name": "python3"
  },
  "language_info": {
   "codemirror_mode": {
    "name": "ipython",
    "version": 3
   },
   "file_extension": ".py",
   "mimetype": "text/x-python",
   "name": "python",
   "nbconvert_exporter": "python",
   "pygments_lexer": "ipython3",
   "version": "3.6.8"
  }
 },
 "nbformat": 4,
 "nbformat_minor": 2
}
