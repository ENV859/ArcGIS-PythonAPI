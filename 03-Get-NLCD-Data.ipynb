{
 "cells": [
  {
   "cell_type": "markdown",
   "metadata": {},
   "source": [
    "# Grab land cover for specified extent\n",
    "Say you want to grab land cover data for a specific location, but you don't want to download the entire NLCD dataset to do that. The ArcGIS Python API can help!\n",
    "\n",
    "Here I present an example of doing just that. The steps involve:\n",
    "* Prepping for the analysis: importing modules and authenticating our arcgis session\n",
    "* Locating the land cover data **item** and creating a **imagery layer** from it\n",
    "* \n",
    "\n",
    "*Resource: https://developers.arcgis.com/python/guide/raster-analysis-advanced-concepts/*"
   ]
  },
  {
   "cell_type": "markdown",
   "metadata": {},
   "source": [
    "### Prepping for analysis: importing and authenticating\n",
    "* Import the the arcgis `GIS` module. We're going to do some geocoding so we need to create the arcgis `geocoding` module as well. Lastly, enable the Jupyter `display` object"
   ]
  },
  {
   "cell_type": "code",
   "execution_count": 1,
   "metadata": {},
   "outputs": [],
   "source": [
    "#Import the GIS object.  and display modules\n",
    "from arcgis import GIS\n",
    "#from arcgis.geocoding import geocode\n",
    "from IPython.display import display, Image"
   ]
  },
  {
   "cell_type": "markdown",
   "metadata": {},
   "source": [
    "* Authenticate our GIS object using our ArcGIS Pro account"
   ]
  },
  {
   "cell_type": "code",
   "execution_count": 2,
   "metadata": {},
   "outputs": [],
   "source": [
    "#Create the GIS object, authenticating with your ArcGIS Pro account\n",
    "gis = GIS('pro')"
   ]
  },
  {
   "cell_type": "markdown",
   "metadata": {},
   "source": [
    "### Searching for the content and linking to it\n",
    "What we want is 2011 NLCD data, provided as an *image service* (i.e. as a raster). You could search for the data from within ArcGIS Pro or via the [ArcGIS Online](http://www.arcgis.com) website, but we'll do it right here. \n",
    "\n",
    "Like any web search, it's a bit of an art knowing how best to locate the resource you want. At play are what general search keywords to include, and specific categories like `owner` or `item-type` to invoke. We do, however, want to search outside the Duke Community, we we want to include `outside_org=True`. \n",
    "\n",
    "I've decided to use `NLCD 2011` as a general search term, filter results for only those that `esri` provides, and limit results to image services: "
   ]
  },
  {
   "cell_type": "code",
   "execution_count": 3,
   "metadata": {},
   "outputs": [
    {
     "data": {
      "text/plain": [
       "10"
      ]
     },
     "execution_count": 3,
     "metadata": {},
     "output_type": "execute_result"
    }
   ],
   "source": [
    "#Search for land cover and print the number of results\n",
    "lc_results = gis.content.search(\"NLCD 2011, owner:esri\",item_type='image',outside_org=True)\n",
    "len(lc_results)"
   ]
  },
  {
   "cell_type": "markdown",
   "metadata": {},
   "source": [
    "► This gives us 10 results, enough to show a list..."
   ]
  },
  {
   "cell_type": "code",
   "execution_count": 4,
   "metadata": {},
   "outputs": [
    {
     "data": {
      "text/plain": [
       "[<Item title:\"USA NLCD Tree Canopy Cover 2011 (Mature Support)\" type:Imagery Layer owner:esri>,\n",
       " <Item title:\"USA NLCD Land Cover\" type:Imagery Layer owner:esri>,\n",
       " <Item title:\"USA NLCD Land Cover 2011 (Mature Support)\" type:Imagery Layer owner:esri>,\n",
       " <Item title:\"USA NLCD Land Cover 2011 (Mature Support)\" type:Imagery Layer owner:esri>,\n",
       " <Item title:\"USA NLCD Landscape (Mature Support)\" type:Imagery Layer owner:esri>,\n",
       " <Item title:\"USA NLCD Impervious Surface 2011 (Mature Support)\" type:Imagery Layer owner:esri>,\n",
       " <Item title:\"USA NLCD Impervious Surfaces 2011 (Mature Support)\" type:Imagery Layer owner:esri>,\n",
       " <Item title:\"USA NLCD Land Cover Change 2006-2011 (Mature Support)\" type:Imagery Layer owner:esri>,\n",
       " <Item title:\"USA NLCD Impervious Surface Change 2006-2011 (Mature Support)\" type:Imagery Layer owner:esri>,\n",
       " <Item title:\"USA NLCD Impervious Change 2006-2011 (Mature Support)\" type:Imagery Layer owner:esri>]"
      ]
     },
     "execution_count": 4,
     "metadata": {},
     "output_type": "execute_result"
    }
   ],
   "source": [
    "#Show a complete list of results\n",
    "lc_results"
   ]
  },
  {
   "cell_type": "markdown",
   "metadata": {},
   "source": [
    "* The *second* item is the one we want. Let's store that as a variable named `lc_item`. "
   ]
  },
  {
   "cell_type": "code",
   "execution_count": 5,
   "metadata": {},
   "outputs": [
    {
     "data": {
      "text/plain": [
       "arcgis.gis.Item"
      ]
     },
     "execution_count": 5,
     "metadata": {},
     "output_type": "execute_result"
    }
   ],
   "source": [
    "#Get the second result and view what kind of object it is. \n",
    "lc_item = lc_results[1]\n",
    "type(lc_item)"
   ]
  },
  {
   "cell_type": "code",
   "execution_count": 7,
   "metadata": {},
   "outputs": [
    {
     "data": {
      "text/plain": [
       "'3ccf118ed80748909eb85c6d262b426f'"
      ]
     },
     "execution_count": 7,
     "metadata": {},
     "output_type": "execute_result"
    }
   ],
   "source": [
    "#Now let's view the item...\n",
    "lc_item.id"
   ]
  },
  {
   "cell_type": "markdown",
   "metadata": {},
   "source": [
    "* Let's examine a few **properties** of this item. Because arcgis Item objects are dynamic (they can be vector or raster or...) the list of what properties can change. But we can get a list of properies via the `item.keys()` function:"
   ]
  },
  {
   "cell_type": "code",
   "execution_count": null,
   "metadata": {},
   "outputs": [],
   "source": [
    "#List the property keys associated with the item we fetched\n",
    "lc_item.keys()"
   ]
  },
  {
   "cell_type": "markdown",
   "metadata": {},
   "source": [
    "* Let's examine the services' web address or its *URL*. Open this URL in your web browser. (Note, you'll have to authenticate as this layer is only available to ESRI license holders!) "
   ]
  },
  {
   "cell_type": "code",
   "execution_count": null,
   "metadata": {},
   "outputs": [],
   "source": [
    "#Get the URL\n",
    "print(lc_item['url']) #we could also use lc_item.url"
   ]
  },
  {
   "cell_type": "markdown",
   "metadata": {},
   "source": [
    "* Down the road, we may need the image's **spatial reference**, so let's store that as a variable."
   ]
  },
  {
   "cell_type": "code",
   "execution_count": null,
   "metadata": {},
   "outputs": [],
   "source": [
    "#Extract the image service's spatial reference to a variable\n",
    "lc_sr = lc_item.spatialReference\n",
    "lc_sr"
   ]
  },
  {
   "cell_type": "markdown",
   "metadata": {},
   "source": [
    "### From *arcgis* [`item`](https://esri.github.io/arcgis-python-api/apidoc/html/arcgis.gis.toc.html#item) to *arcgis* [`layer`](https://esri.github.io/arcgis-python-api/apidoc/html/arcgis.gis.toc.html#layer) (specifically an [`imagery layer`](https://esri.github.io/arcgis-python-api/apidoc/html/arcgis.raster.toc.html#imagerylayer))\n",
    "\n",
    "* Now we need to extract the data **layer** from the data **item**. The `layers` property returns a list of layers associated with this image service, of which there is only one. So we extract that one to a new variable called `lc_lyr`...<br>*Calling this variable displays it to our notebook!*"
   ]
  },
  {
   "cell_type": "code",
   "execution_count": null,
   "metadata": {},
   "outputs": [],
   "source": [
    "#Extract the one (and only) layer in the item to a new variable and display it\n",
    "lc_lyr = lc_item.layers[0]\n",
    "type(lc_lyr)"
   ]
  },
  {
   "cell_type": "code",
   "execution_count": null,
   "metadata": {},
   "outputs": [],
   "source": [
    "lc_lyr"
   ]
  },
  {
   "cell_type": "code",
   "execution_count": null,
   "metadata": {},
   "outputs": [],
   "source": [
    "#What are the pixel sizes in the X and Y direction? \n",
    "xPixelSize = lc_lyr.properties.pixelSizeX\n",
    "yPixelSize = lc_lyr.properties.pixelSizeY\n",
    "print(xPixelSize,yPixelSize)"
   ]
  },
  {
   "cell_type": "markdown",
   "metadata": {},
   "source": [
    "## Subsetting our image\n",
    "* Define an extent and convert it into an ArcGIS \"geometry\" object\n",
    " * Will need to import the arcgis geometry module..."
   ]
  },
  {
   "cell_type": "code",
   "execution_count": null,
   "metadata": {},
   "outputs": [],
   "source": [
    "#create a dictionary of extent values, in decimal degrees\n",
    "myExtent = {'xmin': -79.15,\n",
    "            'ymin': 35.95,\n",
    "            'xmax': -78.95,\n",
    "            'ymax': 36.15}"
   ]
  },
  {
   "cell_type": "code",
   "execution_count": null,
   "metadata": {},
   "outputs": [],
   "source": [
    "#Import the ArcGIS geometry module\n",
    "from arcgis import geometry"
   ]
  },
  {
   "cell_type": "code",
   "execution_count": null,
   "metadata": {},
   "outputs": [],
   "source": [
    "#Convert the dictionary to a geometry object\n",
    "extentPoly_DD = geometry.Envelope(myExtent)"
   ]
  },
  {
   "cell_type": "code",
   "execution_count": null,
   "metadata": {},
   "outputs": [],
   "source": [
    "#Project the extentPoly to the spatial reference of the imagery layer'\n",
    "# recall that the \"lc_sr\" variable was defined above...\n",
    "extentPoly_prj = geometry.project([extentPoly_DD],4326,lc_sr)[0]\n",
    "extentPoly_prj"
   ]
  },
  {
   "cell_type": "code",
   "execution_count": null,
   "metadata": {},
   "outputs": [],
   "source": [
    "#Have a look at our layer, subset to the extent we provided\n",
    "lc_lyr.extent =  extentPoly_prj\n",
    "lc_lyr"
   ]
  },
  {
   "cell_type": "code",
   "execution_count": null,
   "metadata": {},
   "outputs": [],
   "source": [
    "from arcgis.raster.functions import clip\n",
    "lc_clip = clip(raster=lc_lyr,geometry=extentPoly_prj)"
   ]
  },
  {
   "cell_type": "code",
   "execution_count": null,
   "metadata": {},
   "outputs": [],
   "source": [
    "lc_clip"
   ]
  },
  {
   "cell_type": "code",
   "execution_count": null,
   "metadata": {},
   "outputs": [],
   "source": [
    "import pandas as pd\n",
    "attDF = pd.DataFrame.from_records(lc_clip.attribute_table()['features'])\n",
    "attDF = attDF['attributes'].apply(pd.Series).set_index('OBJECTID')\n",
    "attDF.head()"
   ]
  },
  {
   "cell_type": "code",
   "execution_count": null,
   "metadata": {},
   "outputs": [],
   "source": [
    "#Now we need to compute number of rows and columns contained in this extent\n",
    "xSize = int((extentPoly_prj.xmax - extentPoly_prj.xmin) / xPixelSize)\n",
    "ySize = int((extentPoly_prj.ymax - extentPoly_prj.ymin) / xPixelSize)\n",
    "xSize,ySize"
   ]
  },
  {
   "cell_type": "markdown",
   "metadata": {},
   "source": [
    "* Use the imagery layer's [`export_image`](https://esri.github.io/arcgis-python-api/apidoc/html/arcgis.raster.toc.html#arcgis.raster.ImageryLayer.export_image) function to extract a subset of data."
   ]
  },
  {
   "cell_type": "code",
   "execution_count": null,
   "metadata": {},
   "outputs": [],
   "source": [
    "#Extract data\n",
    "img = lc_lyr.export_image(bbox=extentPoly_prj,\n",
    "                          size=[xSize,ySize],\n",
    "                          f='image')\n",
    "type(img)"
   ]
  },
  {
   "cell_type": "code",
   "execution_count": null,
   "metadata": {},
   "outputs": [],
   "source": [
    "#Show the image\n",
    "Image(img)"
   ]
  },
  {
   "cell_type": "code",
   "execution_count": null,
   "metadata": {},
   "outputs": [],
   "source": [
    "#Or we can save the output directly to a file\n",
    "savedimg = lc_lyr.export_image(bbox=extentPoly_prj,\n",
    "                               save_folder='.', \n",
    "                               save_file='DurhamNLCD.tif',\n",
    "                               size=[xSize,ySize],\n",
    "                               export_format='tiff',\n",
    "                               compression_quality=100,\n",
    "                               f='image'\n",
    "                              )"
   ]
  },
  {
   "cell_type": "code",
   "execution_count": null,
   "metadata": {},
   "outputs": [],
   "source": [
    "#Or we can examine properties of our saved image as a JSON object\n",
    "img_json = lc_lyr.export_image(bbox=extentPoly_prj,\n",
    "                               f='json'\n",
    "                              )\n",
    "img_json"
   ]
  }
 ],
 "metadata": {
  "kernelspec": {
   "display_name": "Python 3",
   "language": "python",
   "name": "python3"
  },
  "language_info": {
   "codemirror_mode": {
    "name": "ipython",
    "version": 3
   },
   "file_extension": ".py",
   "mimetype": "text/x-python",
   "name": "python",
   "nbconvert_exporter": "python",
   "pygments_lexer": "ipython3",
   "version": "3.6.8"
  }
 },
 "nbformat": 4,
 "nbformat_minor": 2
}
