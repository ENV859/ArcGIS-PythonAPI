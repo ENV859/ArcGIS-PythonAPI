{
 "cells": [
  {
   "cell_type": "markdown",
   "metadata": {},
   "source": [
    "# ArcGIS Python API - Finding Content\n",
    "The ArcGIS community shares a vast amount of data via ArcGIS Online Services. Here we examine some approaches to finding resources to meet your needs and either getting them into your coding environment or downloading to your local machine. "
   ]
  },
  {
   "cell_type": "markdown",
   "metadata": {},
   "source": [
    "## 1. Searching for data\n",
    "You have a few options for searching for data: Using ArcGIS Online, using the ArcGIS Python API, or using a broad web search engine like Google. Let's look at each in the context of finding a particular dataset, namely [**USGS Watershed Boundary Dataset**](https://www.usgs.gov/media/images/watershed-boundary-dataset-subregions-map). \n",
    "\n",
    "![USGS WBD](https://prd-wret.s3-us-west-2.amazonaws.com/assets/palladium/production/s3fs-public/styles/side_image/public/thumbnails/image/WBD_SubRegions_24x18.png)"
   ]
  },
  {
   "cell_type": "markdown",
   "metadata": {},
   "source": [
    "## Searching for content with ArcGIS Online (AGOL)\n",
    "Resource: https://doc.arcgis.com/en/arcgis-online/reference/search.htm\n",
    "\n",
    "\n",
    "Searching for content via AGOL is fairly straghtforward, though there are some useful tricks for narrowing in on your search. The more challenging part comes in how to interpret which results are useful and then how they can be used in a coding environment. \n",
    "\n",
    "##### ► Let's begin with an exercise:\n",
    ">1. Log in to Duke AGOL portal: https://dukeuniv.maps.argis.com\n",
    "2. Click the magnifying glass and search for `Watershed boundary`.\n",
    " * By default, your initial result only includes items found in Duke's community.\n",
    " * Extend your search by toggling the \"Only search in Duke University\" switch.<br>*→How many pages of results are returned?*\n",
    " \n",
    "*Clearly too many results to sift through. We can **sort** on various attributes and also **filter** for certain types. But we can also narrow in our results with more search items.* \n",
    "\n",
    "> 3. Refine your search by adding `owner:Federal_User_Community`\n",
    "4. Now filter on Layers (using controls on left side of window)<br>*→How many different <u>types</u> of layers are returned?*"
   ]
  },
  {
   "cell_type": "markdown",
   "metadata": {},
   "source": [
    "#### A word on <u>item types</u> \n",
    "Searches return many different types of items. The various types are explained in depth [here](https://doc.arcgis.com/en/arcgis-online/reference/supported-items.htm), but some brief definitions of the more prevalent types are exlained below:\n",
    "* Maps\n",
    " * [Web Maps](https://doc.arcgis.com/en/arcgis-online/reference/what-is-web-map.htm) - Like an ArcPro map; includes one or many layers of data, each named and symbolized a specific way. \n",
    " \n",
    "* [Layers](https://doc.arcgis.com/en/arcgis-online/reference/layers.htm)\n",
    " * [Feature Layers](https://doc.arcgis.com/en/arcgis-online/reference/feature-layers.htm) - Like an ArcPro feature class; a single dataset that you can query, symbolize, and use in an analysis. \n",
    " * [Tile Layers](https://doc.arcgis.com/en/arcgis-online/reference/tile-layers.htm) - No analog in ArcPro; these are rasters served as images, but in chunks, or tiles, to minimize web traffic and speed delivery. They are good for display, but cannot be used in analysis. \n",
    " * [Map Image Layers](https://pro.arcgis.com/en/pro-app/help/sharing/overview/map-image-layer.htm) - Like Tile Layers, these are images rendered from data. They are quick to display and often include multiple layers (of various types) that may have analytical capabilities like querying. \n",
    " * [Imagery Layers](https://pro.arcgis.com/en/pro-app/help/sharing/overview/web-image-layer.htm) (AKA \"Web Imagery Layer\") - These are raster data and CAN be used in analysis. \n",
    " * [Scene Layers](https://doc.arcgis.com/en/arcgis-online/reference/scene-layers.htm) - These include multiple data layers, but the layers are optimized for 3d rendering. \n",
    " * Tables - Tables that you can query. \n",
    " * Layer Files - iles, stored as \"packages\", that you download to use.\n",
    "\n",
    "* [Scenes](https://doc.arcgis.com/en/arcgis-online/reference/what-is-web-scene.htm) - Online interactive 3d maps comprised of various layers, basemaps, and ground elevation datasets. \n",
    "\n",
    "\n",
    "→ **Apps**, **Tools**, & **Files** are less about data and more about capabilities of online GIS; we'll save that discussion for later. \n",
    "\n",
    "> Try this: Clear your search terms and sort results on View Count. Then click on the various item type filters to see examples of the item types reviewed above."
   ]
  },
  {
   "cell_type": "markdown",
   "metadata": {},
   "source": []
  }
 ],
 "metadata": {
  "kernelspec": {
   "display_name": "Python 3",
   "language": "python",
   "name": "python3"
  },
  "language_info": {
   "codemirror_mode": {
    "name": "ipython",
    "version": 3
   },
   "file_extension": ".py",
   "mimetype": "text/x-python",
   "name": "python",
   "nbconvert_exporter": "python",
   "pygments_lexer": "ipython3",
   "version": "3.6.8"
  }
 },
 "nbformat": 4,
 "nbformat_minor": 2
}
