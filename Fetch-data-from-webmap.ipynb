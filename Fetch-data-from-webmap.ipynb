{
 "cells": [
  {
   "cell_type": "code",
   "execution_count": 1,
   "id": "eb97ae3f",
   "metadata": {},
   "outputs": [],
   "source": [
    "#Import packages\n",
    "import pandas as pd\n",
    "from arcgis import GIS\n",
    "from arcgis.features import FeatureSet, GeoAccessor\n",
    "\n",
    "#Connect to the GIS\n",
    "gis = GIS()\n",
    "#gis = GIS('https://dukeuniv.maps.arcgis.com',client_id = 'YmtqqKYoHULH1M2l')\n",
    "#print('Successfully logged in as :'+gis.properties.user.username)"
   ]
  },
  {
   "cell_type": "code",
   "execution_count": 2,
   "id": "c6053f1d",
   "metadata": {},
   "outputs": [
    {
     "data": {
      "text/html": [
       "<div class=\"item_container\" style=\"height: auto; overflow: hidden; border: 1px solid #cfcfcf; border-radius: 2px; background: #f6fafa; line-height: 1.21429em; padding: 10px;\">\n",
       "                    <div class=\"item_left\" style=\"width: 210px; float: left;\">\n",
       "                       <a href='https://www.arcgis.com/home/item.html?id=44df694294904dc287e73b0eb167ad84' target='_blank'>\n",
       "                        <img src='https://www.arcgis.com/sharing/rest//content/items/44df694294904dc287e73b0eb167ad84/info/thumbnail/ago_downloaded.png' class=\"itemThumbnail\">\n",
       "                       </a>\n",
       "                    </div>\n",
       "\n",
       "                    <div class=\"item_right\"     style=\"float: none; width: auto; overflow: hidden;\">\n",
       "                        <a href='https://www.arcgis.com/home/item.html?id=44df694294904dc287e73b0eb167ad84' target='_blank'><b>Living Shoreline Projects</b>\n",
       "                        </a>\n",
       "                        <br/>Living Shoreline restoration projects.<img src='https://www.arcgis.com/home/js/jsapi/esri/css/images/item_type_icons/maps16.png' style=\"vertical-align:middle;\">Web Map by renee.eaton_noaa\n",
       "                        <br/>Last Modified: February 01, 2022\n",
       "                        <br/>2 comments, 0 views\n",
       "                    </div>\n",
       "                </div>\n",
       "                "
      ],
      "text/plain": [
       "<Item title:\"Living Shoreline Projects\" type:Web Map owner:renee.eaton_noaa>"
      ]
     },
     "execution_count": 2,
     "metadata": {},
     "output_type": "execute_result"
    }
   ],
   "source": [
    "#Get the web map item\n",
    "the_webmap = gis.content.get('44df694294904dc287e73b0eb167ad84')\n",
    "the_webmap"
   ]
  },
  {
   "cell_type": "code",
   "execution_count": 3,
   "id": "03acedf3",
   "metadata": {},
   "outputs": [
    {
     "data": {
      "text/plain": [
       "arcgis.gis.Item"
      ]
     },
     "execution_count": 3,
     "metadata": {},
     "output_type": "execute_result"
    }
   ],
   "source": [
    "#What kind of item did we retreive\n",
    "type(the_webmap)"
   ]
  },
  {
   "cell_type": "code",
   "execution_count": 4,
   "id": "db8ca83d",
   "metadata": {
    "collapsed": true
   },
   "outputs": [
    {
     "data": {
      "text/plain": [
       "['_RELATIONSHIP_DIRECTIONS',\n",
       " '_RELATIONSHIP_TYPES',\n",
       " '__class__',\n",
       " '__class_getitem__',\n",
       " '__contains__',\n",
       " '__delattr__',\n",
       " '__delitem__',\n",
       " '__dict__',\n",
       " '__dir__',\n",
       " '__doc__',\n",
       " '__eq__',\n",
       " '__format__',\n",
       " '__ge__',\n",
       " '__getattr__',\n",
       " '__getattribute__',\n",
       " '__getitem__',\n",
       " '__gt__',\n",
       " '__hash__',\n",
       " '__init__',\n",
       " '__init_subclass__',\n",
       " '__ior__',\n",
       " '__iter__',\n",
       " '__le__',\n",
       " '__len__',\n",
       " '__lt__',\n",
       " '__module__',\n",
       " '__ne__',\n",
       " '__new__',\n",
       " '__or__',\n",
       " '__reduce__',\n",
       " '__reduce_ex__',\n",
       " '__repr__',\n",
       " '__reversed__',\n",
       " '__ror__',\n",
       " '__setattr__',\n",
       " '__setitem__',\n",
       " '__sizeof__',\n",
       " '__str__',\n",
       " '__subclasshook__',\n",
       " '__weakref__',\n",
       " '_check_publish_status',\n",
       " '_create_proxy',\n",
       " '_delete_proxy',\n",
       " '_depend',\n",
       " '_get_icon',\n",
       " '_get_nbs_server',\n",
       " '_gis',\n",
       " '_has_layers',\n",
       " '_hydrate',\n",
       " '_hydrated',\n",
       " '_is_notebook',\n",
       " '_populate_layers',\n",
       " '_portal',\n",
       " '_repr_html_',\n",
       " '_snapeshots',\n",
       " '_uid',\n",
       " '_user_id',\n",
       " '_ux_item_type',\n",
       " '_validate_url',\n",
       " '_workdir',\n",
       " 'access',\n",
       " 'accessInformation',\n",
       " 'add_comment',\n",
       " 'add_relationship',\n",
       " 'advancedSettings',\n",
       " 'appCategories',\n",
       " 'app_info',\n",
       " 'avgRating',\n",
       " 'banner',\n",
       " 'can_delete',\n",
       " 'categories',\n",
       " 'clear',\n",
       " 'comments',\n",
       " 'commentsEnabled',\n",
       " 'content_status',\n",
       " 'copy',\n",
       " 'copy_feature_layer_collection',\n",
       " 'copy_item',\n",
       " 'create_thumbnail',\n",
       " 'create_tile_service',\n",
       " 'created',\n",
       " 'culture',\n",
       " 'delete',\n",
       " 'delete_rating',\n",
       " 'delete_relationship',\n",
       " 'dependencies',\n",
       " 'dependent_to',\n",
       " 'dependent_upon',\n",
       " 'description',\n",
       " 'documentation',\n",
       " 'download',\n",
       " 'download_metadata',\n",
       " 'download_thumbnail',\n",
       " 'export',\n",
       " 'extent',\n",
       " 'fromkeys',\n",
       " 'get',\n",
       " 'get_data',\n",
       " 'get_thumbnail',\n",
       " 'get_thumbnail_link',\n",
       " 'groupDesignations',\n",
       " 'guid',\n",
       " 'homepage',\n",
       " 'id',\n",
       " 'industries',\n",
       " 'itemid',\n",
       " 'items',\n",
       " 'keys',\n",
       " 'languages',\n",
       " 'largeThumbnail',\n",
       " 'lastViewed',\n",
       " 'licenseInfo',\n",
       " 'listed',\n",
       " 'metadata',\n",
       " 'modified',\n",
       " 'move',\n",
       " 'name',\n",
       " 'numComments',\n",
       " 'numRatings',\n",
       " 'numViews',\n",
       " 'orgId',\n",
       " 'owner',\n",
       " 'pop',\n",
       " 'popitem',\n",
       " 'properties',\n",
       " 'protect',\n",
       " 'proxies',\n",
       " 'proxyFilter',\n",
       " 'publish',\n",
       " 'rating',\n",
       " 'reassign_to',\n",
       " 'register',\n",
       " 'related_items',\n",
       " 'resources',\n",
       " 'scoreCompleteness',\n",
       " 'screenshots',\n",
       " 'setdefault',\n",
       " 'share',\n",
       " 'shared_with',\n",
       " 'size',\n",
       " 'snapshots',\n",
       " 'snippet',\n",
       " 'spatialReference',\n",
       " 'status',\n",
       " 'subInfo',\n",
       " 'tags',\n",
       " 'thumbnail',\n",
       " 'title',\n",
       " 'type',\n",
       " 'typeKeywords',\n",
       " 'unregister',\n",
       " 'unshare',\n",
       " 'update',\n",
       " 'url',\n",
       " 'usage',\n",
       " 'values']"
      ]
     },
     "execution_count": 4,
     "metadata": {},
     "output_type": "execute_result"
    }
   ],
   "source": [
    "#What can we do with this item\n",
    "dir(the_webmap)"
   ]
  },
  {
   "cell_type": "markdown",
   "id": "058b0c56",
   "metadata": {},
   "source": [
    "Or, check the documentation on the `item` item:   \n",
    "https://developers.arcgis.com/python/api-reference/arcgis.gis.toc.html#item"
   ]
  },
  {
   "cell_type": "code",
   "execution_count": 5,
   "id": "d1070f4a",
   "metadata": {},
   "outputs": [
    {
     "data": {
      "text/plain": [
       "dict"
      ]
     },
     "execution_count": 5,
     "metadata": {},
     "output_type": "execute_result"
    }
   ],
   "source": [
    "#Try the `get_data()` method\n",
    "the_webmap_data = the_webmap.get_data()\n",
    "type(the_webmap_data)"
   ]
  },
  {
   "cell_type": "code",
   "execution_count": 6,
   "id": "a150b4ee",
   "metadata": {},
   "outputs": [
    {
     "data": {
      "text/plain": [
       "dict_keys(['operationalLayers', 'baseMap', 'spatialReference', 'authoringApp', 'authoringAppVersion', 'version', 'applicationProperties'])"
      ]
     },
     "execution_count": 6,
     "metadata": {},
     "output_type": "execute_result"
    }
   ],
   "source": [
    "#What are the keys associated with this dictionary\n",
    "the_webmap_data.keys()"
   ]
  },
  {
   "cell_type": "code",
   "execution_count": 7,
   "id": "44d710e1",
   "metadata": {},
   "outputs": [
    {
     "data": {
      "text/plain": [
       "list"
      ]
     },
     "execution_count": 7,
     "metadata": {},
     "output_type": "execute_result"
    }
   ],
   "source": [
    "#Fetch the value associated with the operationalLayers key\n",
    "the_layers = the_webmap_data['operationalLayers']\n",
    "type(the_layers)"
   ]
  },
  {
   "cell_type": "code",
   "execution_count": 8,
   "id": "51ad14b6",
   "metadata": {},
   "outputs": [
    {
     "data": {
      "text/plain": [
       "1"
      ]
     },
     "execution_count": 8,
     "metadata": {},
     "output_type": "execute_result"
    }
   ],
   "source": [
    "#How many items in this list\n",
    "len(the_layers)"
   ]
  },
  {
   "cell_type": "code",
   "execution_count": 10,
   "id": "0eda24cc",
   "metadata": {},
   "outputs": [
    {
     "data": {
      "text/plain": [
       "dict"
      ]
     },
     "execution_count": 10,
     "metadata": {},
     "output_type": "execute_result"
    }
   ],
   "source": [
    "#Explore the only item in this list\n",
    "the_layer = the_layers[0]\n",
    "type(the_layer)"
   ]
  },
  {
   "cell_type": "code",
   "execution_count": 11,
   "id": "40cf092f",
   "metadata": {},
   "outputs": [
    {
     "data": {
      "text/plain": [
       "dict_keys(['layerType', 'id', 'title', 'featureCollection', 'visibility', 'opacity'])"
      ]
     },
     "execution_count": 11,
     "metadata": {},
     "output_type": "execute_result"
    }
   ],
   "source": [
    "#Explore the keys\n",
    "the_layer.keys()"
   ]
  },
  {
   "cell_type": "code",
   "execution_count": 12,
   "id": "62176e2c",
   "metadata": {},
   "outputs": [
    {
     "data": {
      "text/plain": [
       "dict_keys(['layers', 'showLegend'])"
      ]
     },
     "execution_count": 12,
     "metadata": {},
     "output_type": "execute_result"
    }
   ],
   "source": [
    "#Examine the value associated with the 'featureCollection' key\n",
    "the_featcoll = the_layer['featureCollection']\n",
    "the_featcoll.keys()"
   ]
  },
  {
   "cell_type": "code",
   "execution_count": 14,
   "id": "47c0ccdc",
   "metadata": {},
   "outputs": [
    {
     "data": {
      "text/plain": [
       "1"
      ]
     },
     "execution_count": 14,
     "metadata": {},
     "output_type": "execute_result"
    }
   ],
   "source": [
    "#Examine the value associated witht the 'layers'\n",
    "the_layers = the_featcoll['layers']\n",
    "len(the_layers)"
   ]
  },
  {
   "cell_type": "code",
   "execution_count": 15,
   "id": "4fce93aa",
   "metadata": {},
   "outputs": [
    {
     "data": {
      "text/plain": [
       "dict_keys(['layerDefinition', 'featureSet', 'nextObjectId', 'popupInfo'])"
      ]
     },
     "execution_count": 15,
     "metadata": {},
     "output_type": "execute_result"
    }
   ],
   "source": [
    "#Examine the one item in the feature collection\n",
    "the_layer = the_layers[0]\n",
    "the_layer.keys()"
   ]
  },
  {
   "cell_type": "code",
   "execution_count": 16,
   "id": "bc0f3565",
   "metadata": {},
   "outputs": [
    {
     "data": {
      "text/plain": [
       "dict_keys(['features', 'geometryType'])"
      ]
     },
     "execution_count": 16,
     "metadata": {},
     "output_type": "execute_result"
    }
   ],
   "source": [
    "#Explore the value associated with the 'featureSet' key\n",
    "the_fset = the_layer['featureSet']\n",
    "the_fset.keys()"
   ]
  },
  {
   "cell_type": "code",
   "execution_count": 17,
   "id": "35926588",
   "metadata": {},
   "outputs": [
    {
     "data": {
      "text/plain": [
       "208"
      ]
     },
     "execution_count": 17,
     "metadata": {},
     "output_type": "execute_result"
    }
   ],
   "source": [
    "#Explore the value associated with the 'features' key\n",
    "the_features = the_fset['features']\n",
    "len(the_features)"
   ]
  },
  {
   "cell_type": "code",
   "execution_count": 18,
   "id": "90a8dc25",
   "metadata": {},
   "outputs": [
    {
     "data": {
      "text/plain": [
       "dict_keys(['geometry', 'attributes'])"
      ]
     },
     "execution_count": 18,
     "metadata": {},
     "output_type": "execute_result"
    }
   ],
   "source": [
    "#Explore the first item (as a dictionary)\n",
    "the_features[0].keys()"
   ]
  },
  {
   "cell_type": "code",
   "execution_count": 19,
   "id": "7ccb75f1",
   "metadata": {},
   "outputs": [],
   "source": [
    "#Separate the geometry and attributes\n",
    "the_geoms = [the_feature['geometry'] for the_feature in the_features]\n",
    "the_attribs = [the_feature['attributes'] for the_feature in the_features]"
   ]
  },
  {
   "cell_type": "code",
   "execution_count": 22,
   "id": "c75c3b17",
   "metadata": {},
   "outputs": [
    {
     "data": {
      "text/html": [
       "<div>\n",
       "<style scoped>\n",
       "    .dataframe tbody tr th:only-of-type {\n",
       "        vertical-align: middle;\n",
       "    }\n",
       "\n",
       "    .dataframe tbody tr th {\n",
       "        vertical-align: top;\n",
       "    }\n",
       "\n",
       "    .dataframe thead th {\n",
       "        text-align: right;\n",
       "    }\n",
       "</style>\n",
       "<table border=\"1\" class=\"dataframe\">\n",
       "  <thead>\n",
       "    <tr style=\"text-align: right;\">\n",
       "      <th></th>\n",
       "      <th>id</th>\n",
       "      <th>Long</th>\n",
       "      <th>Lat</th>\n",
       "      <th>icon_color</th>\n",
       "      <th>thumb_url</th>\n",
       "      <th>pic_url</th>\n",
       "      <th>__OBJECTID</th>\n",
       "      <th>uniqueid</th>\n",
       "      <th>name</th>\n",
       "      <th>description</th>\n",
       "      <th>...</th>\n",
       "      <th>attribute_10</th>\n",
       "      <th>attribute_11</th>\n",
       "      <th>attribute_12</th>\n",
       "      <th>attribute_13</th>\n",
       "      <th>attribute_14</th>\n",
       "      <th>attribute_15</th>\n",
       "      <th>attribute_16</th>\n",
       "      <th>attribute_17</th>\n",
       "      <th>attribute_18</th>\n",
       "      <th>attribute_19</th>\n",
       "    </tr>\n",
       "  </thead>\n",
       "  <tbody>\n",
       "    <tr>\n",
       "      <th>0</th>\n",
       "      <td>1</td>\n",
       "      <td>-101.719000</td>\n",
       "      <td>40.856590</td>\n",
       "      <td>O</td>\n",
       "      <td>https://www.habitatblueprint.noaa.gov/storymap...</td>\n",
       "      <td>https://www.habitatblueprint.noaa.gov/storymap...</td>\n",
       "      <td>0</td>\n",
       "      <td>NaN</td>\n",
       "      <td>None</td>\n",
       "      <td>None</td>\n",
       "      <td>...</td>\n",
       "      <td>None</td>\n",
       "      <td>None</td>\n",
       "      <td>None</td>\n",
       "      <td>None</td>\n",
       "      <td>None</td>\n",
       "      <td>None</td>\n",
       "      <td>None</td>\n",
       "      <td>None</td>\n",
       "      <td>None</td>\n",
       "      <td>None</td>\n",
       "    </tr>\n",
       "    <tr>\n",
       "      <th>1</th>\n",
       "      <td>2</td>\n",
       "      <td>-72.845599</td>\n",
       "      <td>40.748902</td>\n",
       "      <td>G</td>\n",
       "      <td>https://www.habitatblueprint.noaa.gov/storymap...</td>\n",
       "      <td>https://www.habitatblueprint.noaa.gov/storymap...</td>\n",
       "      <td>1</td>\n",
       "      <td>72.0</td>\n",
       "      <td>Pattersquash Creek Living Shoreline and Marsh ...</td>\n",
       "      <td>This project funded the Town of Brookhaven wit...</td>\n",
       "      <td>...</td>\n",
       "      <td>None</td>\n",
       "      <td>None</td>\n",
       "      <td>None</td>\n",
       "      <td>None</td>\n",
       "      <td>None</td>\n",
       "      <td>None</td>\n",
       "      <td>None</td>\n",
       "      <td>None</td>\n",
       "      <td>None</td>\n",
       "      <td>None</td>\n",
       "    </tr>\n",
       "    <tr>\n",
       "      <th>2</th>\n",
       "      <td>3</td>\n",
       "      <td>-76.242102</td>\n",
       "      <td>39.031802</td>\n",
       "      <td>G</td>\n",
       "      <td>https://www.habitatblueprint.noaa.gov/storymap...</td>\n",
       "      <td>https://www.habitatblueprint.noaa.gov/storymap...</td>\n",
       "      <td>2</td>\n",
       "      <td>65.0</td>\n",
       "      <td>Eastern Neck Living Shoreline</td>\n",
       "      <td>This project funded the National Aquarium in B...</td>\n",
       "      <td>...</td>\n",
       "      <td>None</td>\n",
       "      <td>None</td>\n",
       "      <td>None</td>\n",
       "      <td>None</td>\n",
       "      <td>None</td>\n",
       "      <td>None</td>\n",
       "      <td>None</td>\n",
       "      <td>None</td>\n",
       "      <td>None</td>\n",
       "      <td>None</td>\n",
       "    </tr>\n",
       "    <tr>\n",
       "      <th>3</th>\n",
       "      <td>4</td>\n",
       "      <td>-76.181601</td>\n",
       "      <td>38.702700</td>\n",
       "      <td>G</td>\n",
       "      <td>https://www.habitatblueprint.noaa.gov/storymap...</td>\n",
       "      <td>https://www.habitatblueprint.noaa.gov/storymap...</td>\n",
       "      <td>3</td>\n",
       "      <td>372.0</td>\n",
       "      <td>Bellevue Marsh Creation and Living Shoreline</td>\n",
       "      <td>This project funded the Chesapeake Bay Foundat...</td>\n",
       "      <td>...</td>\n",
       "      <td>None</td>\n",
       "      <td>None</td>\n",
       "      <td>None</td>\n",
       "      <td>None</td>\n",
       "      <td>None</td>\n",
       "      <td>None</td>\n",
       "      <td>None</td>\n",
       "      <td>None</td>\n",
       "      <td>None</td>\n",
       "      <td>None</td>\n",
       "    </tr>\n",
       "    <tr>\n",
       "      <th>4</th>\n",
       "      <td>5</td>\n",
       "      <td>-76.437701</td>\n",
       "      <td>38.152603</td>\n",
       "      <td>G</td>\n",
       "      <td>https://www.habitatblueprint.noaa.gov/storymap...</td>\n",
       "      <td>https://www.habitatblueprint.noaa.gov/storymap...</td>\n",
       "      <td>4</td>\n",
       "      <td>613.0</td>\n",
       "      <td>US Navy Webster Field Living Shoreline</td>\n",
       "      <td>This project funded the Alliance for the Chesa...</td>\n",
       "      <td>...</td>\n",
       "      <td>None</td>\n",
       "      <td>None</td>\n",
       "      <td>None</td>\n",
       "      <td>None</td>\n",
       "      <td>None</td>\n",
       "      <td>None</td>\n",
       "      <td>None</td>\n",
       "      <td>None</td>\n",
       "      <td>None</td>\n",
       "      <td>None</td>\n",
       "    </tr>\n",
       "  </tbody>\n",
       "</table>\n",
       "<p>5 rows × 21 columns</p>\n",
       "</div>"
      ],
      "text/plain": [
       "   id        Long        Lat icon_color  \\\n",
       "0   1 -101.719000  40.856590          O   \n",
       "1   2  -72.845599  40.748902          G   \n",
       "2   3  -76.242102  39.031802          G   \n",
       "3   4  -76.181601  38.702700          G   \n",
       "4   5  -76.437701  38.152603          G   \n",
       "\n",
       "                                           thumb_url  \\\n",
       "0  https://www.habitatblueprint.noaa.gov/storymap...   \n",
       "1  https://www.habitatblueprint.noaa.gov/storymap...   \n",
       "2  https://www.habitatblueprint.noaa.gov/storymap...   \n",
       "3  https://www.habitatblueprint.noaa.gov/storymap...   \n",
       "4  https://www.habitatblueprint.noaa.gov/storymap...   \n",
       "\n",
       "                                             pic_url  __OBJECTID  uniqueid  \\\n",
       "0  https://www.habitatblueprint.noaa.gov/storymap...           0       NaN   \n",
       "1  https://www.habitatblueprint.noaa.gov/storymap...           1      72.0   \n",
       "2  https://www.habitatblueprint.noaa.gov/storymap...           2      65.0   \n",
       "3  https://www.habitatblueprint.noaa.gov/storymap...           3     372.0   \n",
       "4  https://www.habitatblueprint.noaa.gov/storymap...           4     613.0   \n",
       "\n",
       "                                                name  \\\n",
       "0                                               None   \n",
       "1  Pattersquash Creek Living Shoreline and Marsh ...   \n",
       "2                      Eastern Neck Living Shoreline   \n",
       "3       Bellevue Marsh Creation and Living Shoreline   \n",
       "4             US Navy Webster Field Living Shoreline   \n",
       "\n",
       "                                         description  ... attribute_10  \\\n",
       "0                                               None  ...         None   \n",
       "1  This project funded the Town of Brookhaven wit...  ...         None   \n",
       "2  This project funded the National Aquarium in B...  ...         None   \n",
       "3  This project funded the Chesapeake Bay Foundat...  ...         None   \n",
       "4  This project funded the Alliance for the Chesa...  ...         None   \n",
       "\n",
       "  attribute_11 attribute_12 attribute_13 attribute_14 attribute_15  \\\n",
       "0         None         None         None         None         None   \n",
       "1         None         None         None         None         None   \n",
       "2         None         None         None         None         None   \n",
       "3         None         None         None         None         None   \n",
       "4         None         None         None         None         None   \n",
       "\n",
       "  attribute_16 attribute_17 attribute_18 attribute_19  \n",
       "0         None         None         None         None  \n",
       "1         None         None         None         None  \n",
       "2         None         None         None         None  \n",
       "3         None         None         None         None  \n",
       "4         None         None         None         None  \n",
       "\n",
       "[5 rows x 21 columns]"
      ]
     },
     "execution_count": 22,
     "metadata": {},
     "output_type": "execute_result"
    }
   ],
   "source": [
    "df = pd.DataFrame(the_attribs)\n",
    "df.head()"
   ]
  },
  {
   "cell_type": "code",
   "execution_count": 23,
   "id": "d36797c3",
   "metadata": {},
   "outputs": [
    {
     "name": "stdout",
     "output_type": "stream",
     "text": [
      "<class 'pandas.core.frame.DataFrame'>\n",
      "RangeIndex: 208 entries, 0 to 207\n",
      "Data columns (total 21 columns):\n",
      " #   Column        Non-Null Count  Dtype  \n",
      "---  ------        --------------  -----  \n",
      " 0   id            208 non-null    int64  \n",
      " 1   Long          208 non-null    float64\n",
      " 2   Lat           208 non-null    float64\n",
      " 3   icon_color    208 non-null    object \n",
      " 4   thumb_url     208 non-null    object \n",
      " 5   pic_url       208 non-null    object \n",
      " 6   __OBJECTID    208 non-null    int64  \n",
      " 7   uniqueid      153 non-null    float64\n",
      " 8   name          207 non-null    object \n",
      " 9   description   207 non-null    object \n",
      " 10  state         207 non-null    object \n",
      " 11  attribute_10  0 non-null      object \n",
      " 12  attribute_11  0 non-null      object \n",
      " 13  attribute_12  0 non-null      object \n",
      " 14  attribute_13  0 non-null      object \n",
      " 15  attribute_14  0 non-null      object \n",
      " 16  attribute_15  0 non-null      object \n",
      " 17  attribute_16  0 non-null      object \n",
      " 18  attribute_17  0 non-null      object \n",
      " 19  attribute_18  0 non-null      object \n",
      " 20  attribute_19  0 non-null      object \n",
      "dtypes: float64(3), int64(2), object(16)\n",
      "memory usage: 34.2+ KB\n"
     ]
    }
   ],
   "source": [
    "df.info()"
   ]
  },
  {
   "cell_type": "code",
   "execution_count": 25,
   "id": "8d26ee24",
   "metadata": {},
   "outputs": [],
   "source": [
    "#Convert to spatial dataframe\n",
    "sdf = GeoAccessor.from_xy(df,'Long','Lat')"
   ]
  },
  {
   "cell_type": "code",
   "execution_count": 26,
   "id": "fcc814a3",
   "metadata": {
    "collapsed": true
   },
   "outputs": [
    {
     "data": {
      "application/vnd.jupyter.widget-view+json": {
       "model_id": "37de919faa5140bba7d9bca71dbd1c06",
       "version_major": 2,
       "version_minor": 0
      },
      "text/plain": [
       "MapView(layout=Layout(height='400px', width='100%'))"
      ]
     },
     "metadata": {},
     "output_type": "display_data"
    },
    {
     "data": {
      "text/html": [
       "<div class=\"map-static-img-preview-7de467cf-b104-4564-b294-ba7871c6c399\"><img src=\"\"></img></div>"
      ],
      "text/plain": [
       "<IPython.core.display.HTML object>"
      ]
     },
     "metadata": {},
     "output_type": "display_data"
    },
    {
     "data": {
      "text/html": [
       "<div class=\"map-html-embed-preview-7de467cf-b104-4564-b294-ba7871c6c399\"></div>"
      ],
      "text/plain": [
       "<IPython.core.display.HTML object>"
      ]
     },
     "metadata": {},
     "output_type": "display_data"
    }
   ],
   "source": [
    "#Map the data\n",
    "sdf.spatial.plot()"
   ]
  },
  {
   "cell_type": "code",
   "execution_count": 27,
   "id": "4024ddf6",
   "metadata": {
    "collapsed": true
   },
   "outputs": [
    {
     "name": "stderr",
     "output_type": "stream",
     "text": [
      "Could not insert the row because of error message: The field is not nullable. [uniqueid]. Recheck your data.\n",
      "Could not insert the row because of error message: The field is not nullable. [uniqueid]. Recheck your data.\n",
      "Could not insert the row because of error message: The field is not nullable. [uniqueid]. Recheck your data.\n",
      "Could not insert the row because of error message: The field is not nullable. [uniqueid]. Recheck your data.\n",
      "Could not insert the row because of error message: The field is not nullable. [uniqueid]. Recheck your data.\n",
      "Could not insert the row because of error message: The field is not nullable. [uniqueid]. Recheck your data.\n",
      "Could not insert the row because of error message: The field is not nullable. [uniqueid]. Recheck your data.\n",
      "Could not insert the row because of error message: The field is not nullable. [uniqueid]. Recheck your data.\n",
      "Could not insert the row because of error message: The field is not nullable. [uniqueid]. Recheck your data.\n",
      "Could not insert the row because of error message: The field is not nullable. [uniqueid]. Recheck your data.\n",
      "Could not insert the row because of error message: The field is not nullable. [uniqueid]. Recheck your data.\n",
      "Could not insert the row because of error message: The field is not nullable. [uniqueid]. Recheck your data.\n",
      "Could not insert the row because of error message: The field is not nullable. [uniqueid]. Recheck your data.\n",
      "Could not insert the row because of error message: The field is not nullable. [uniqueid]. Recheck your data.\n",
      "Could not insert the row because of error message: The field is not nullable. [uniqueid]. Recheck your data.\n",
      "Could not insert the row because of error message: The field is not nullable. [uniqueid]. Recheck your data.\n",
      "Could not insert the row because of error message: The field is not nullable. [uniqueid]. Recheck your data.\n",
      "Could not insert the row because of error message: The field is not nullable. [uniqueid]. Recheck your data.\n",
      "Could not insert the row because of error message: The field is not nullable. [uniqueid]. Recheck your data.\n",
      "Could not insert the row because of error message: The field is not nullable. [uniqueid]. Recheck your data.\n",
      "Could not insert the row because of error message: The field is not nullable. [uniqueid]. Recheck your data.\n",
      "Could not insert the row because of error message: The field is not nullable. [uniqueid]. Recheck your data.\n",
      "Could not insert the row because of error message: The field is not nullable. [uniqueid]. Recheck your data.\n",
      "Could not insert the row because of error message: The field is not nullable. [uniqueid]. Recheck your data.\n",
      "Could not insert the row because of error message: The field is not nullable. [uniqueid]. Recheck your data.\n",
      "Could not insert the row because of error message: The field is not nullable. [uniqueid]. Recheck your data.\n",
      "Could not insert the row because of error message: The field is not nullable. [uniqueid]. Recheck your data.\n",
      "Could not insert the row because of error message: The field is not nullable. [uniqueid]. Recheck your data.\n",
      "Could not insert the row because of error message: The field is not nullable. [uniqueid]. Recheck your data.\n",
      "Could not insert the row because of error message: The field is not nullable. [uniqueid]. Recheck your data.\n",
      "Could not insert the row because of error message: The field is not nullable. [uniqueid]. Recheck your data.\n",
      "Could not insert the row because of error message: The field is not nullable. [uniqueid]. Recheck your data.\n",
      "Could not insert the row because of error message: The field is not nullable. [uniqueid]. Recheck your data.\n",
      "Could not insert the row because of error message: The field is not nullable. [uniqueid]. Recheck your data.\n",
      "Could not insert the row because of error message: The field is not nullable. [uniqueid]. Recheck your data.\n",
      "Could not insert the row because of error message: The field is not nullable. [uniqueid]. Recheck your data.\n",
      "Could not insert the row because of error message: The field is not nullable. [uniqueid]. Recheck your data.\n",
      "Could not insert the row because of error message: The field is not nullable. [uniqueid]. Recheck your data.\n",
      "Could not insert the row because of error message: The field is not nullable. [uniqueid]. Recheck your data.\n",
      "Could not insert the row because of error message: The field is not nullable. [uniqueid]. Recheck your data.\n",
      "Could not insert the row because of error message: The field is not nullable. [uniqueid]. Recheck your data.\n",
      "Could not insert the row because of error message: The field is not nullable. [uniqueid]. Recheck your data.\n",
      "Could not insert the row because of error message: The field is not nullable. [uniqueid]. Recheck your data.\n",
      "Could not insert the row because of error message: The field is not nullable. [uniqueid]. Recheck your data.\n",
      "Could not insert the row because of error message: The field is not nullable. [uniqueid]. Recheck your data.\n",
      "Could not insert the row because of error message: The field is not nullable. [uniqueid]. Recheck your data.\n",
      "Could not insert the row because of error message: The field is not nullable. [uniqueid]. Recheck your data.\n",
      "Could not insert the row because of error message: The field is not nullable. [uniqueid]. Recheck your data.\n",
      "Could not insert the row because of error message: The field is not nullable. [uniqueid]. Recheck your data.\n",
      "Could not insert the row because of error message: The field is not nullable. [uniqueid]. Recheck your data.\n",
      "Could not insert the row because of error message: The field is not nullable. [uniqueid]. Recheck your data.\n",
      "Could not insert the row because of error message: The field is not nullable. [uniqueid]. Recheck your data.\n",
      "Could not insert the row because of error message: The field is not nullable. [uniqueid]. Recheck your data.\n",
      "Could not insert the row because of error message: The field is not nullable. [uniqueid]. Recheck your data.\n",
      "Could not insert the row because of error message: The field is not nullable. [uniqueid]. Recheck your data.\n"
     ]
    },
    {
     "name": "stdout",
     "output_type": "stream",
     "text": [
      "cannot add field: 'attribute_11'\n",
      "cannot add field: 'attribute_19'\n"
     ]
    },
    {
     "data": {
      "text/plain": [
       "'V:\\\\ArcGIS-PythonAPI\\\\myfile.shp'"
      ]
     },
     "execution_count": 27,
     "metadata": {},
     "output_type": "execute_result"
    }
   ],
   "source": [
    "sdf.spatial.to_featureclass('myfile.shp')"
   ]
  },
  {
   "cell_type": "code",
   "execution_count": 29,
   "id": "9e24457a",
   "metadata": {},
   "outputs": [
    {
     "data": {
      "text/plain": [
       "'V:\\\\ArcGIS-PythonAPI\\\\LivingShoreline.shp'"
      ]
     },
     "execution_count": 29,
     "metadata": {},
     "output_type": "execute_result"
    }
   ],
   "source": [
    "#Save the data (need to wrangle a bit)\n",
    "(sdf\n",
    " .loc[:,['name','icon_color','description','SHAPE']]\n",
    " .dropna()\n",
    " .spatial.to_featureclass('LivingShoreline.shp'))"
   ]
  },
  {
   "cell_type": "code",
   "execution_count": 31,
   "id": "b97f6d74",
   "metadata": {},
   "outputs": [],
   "source": [
    "#ALTERNATIVELY, convert the features toa  feature set object\n",
    "fs = FeatureSet.from_dict(the_layer['featureSet'])"
   ]
  },
  {
   "cell_type": "code",
   "execution_count": null,
   "id": "a126c1e8",
   "metadata": {},
   "outputs": [],
   "source": [
    "#Convert the feature set to a spatial dat"
   ]
  },
  {
   "cell_type": "code",
   "execution_count": 34,
   "id": "dbb7474d",
   "metadata": {},
   "outputs": [
    {
     "name": "stdout",
     "output_type": "stream",
     "text": [
      "<class 'pandas.core.frame.DataFrame'>\n",
      "RangeIndex: 208 entries, 0 to 207\n",
      "Data columns (total 23 columns):\n",
      " #   Column        Non-Null Count  Dtype   \n",
      "---  ------        --------------  -----   \n",
      " 0   id            208 non-null    int32   \n",
      " 1   Long          208 non-null    float64 \n",
      " 2   Lat           208 non-null    float64 \n",
      " 3   icon_color    208 non-null    object  \n",
      " 4   thumb_url     208 non-null    object  \n",
      " 5   pic_url       208 non-null    object  \n",
      " 6   __OBJECTID    208 non-null    int32   \n",
      " 7   uniqueid      208 non-null    object  \n",
      " 8   name          208 non-null    object  \n",
      " 9   description   208 non-null    object  \n",
      " 10  state         208 non-null    object  \n",
      " 11  attribute_10  208 non-null    object  \n",
      " 12  attribute_11  208 non-null    object  \n",
      " 13  attribute_12  208 non-null    object  \n",
      " 14  attribute_13  208 non-null    object  \n",
      " 15  attribute_14  208 non-null    object  \n",
      " 16  attribute_15  208 non-null    object  \n",
      " 17  attribute_16  208 non-null    object  \n",
      " 18  attribute_17  208 non-null    object  \n",
      " 19  attribute_18  208 non-null    object  \n",
      " 20  attribute_19  208 non-null    object  \n",
      " 21  OBJECTID      208 non-null    int64   \n",
      " 22  SHAPE         208 non-null    geometry\n",
      "dtypes: float64(2), geometry(1), int32(2), int64(1), object(17)\n",
      "memory usage: 35.9+ KB\n"
     ]
    }
   ],
   "source": [
    "sdf = fs.sdf\n",
    "sdf.info()"
   ]
  },
  {
   "cell_type": "code",
   "execution_count": 35,
   "id": "0dcc44f7",
   "metadata": {},
   "outputs": [],
   "source": [
    "sdf2 = sdf.iloc[:,[0,1,2,3,4,5,7,8,9,10,22]]"
   ]
  },
  {
   "cell_type": "code",
   "execution_count": 36,
   "id": "87b36cad",
   "metadata": {},
   "outputs": [
    {
     "name": "stderr",
     "output_type": "stream",
     "text": [
      "C:\\Program Files\\ArcGIS\\Pro\\bin\\Python\\envs\\arcgispro-py3\\lib\\site-packages\\pandas\\core\\indexing.py:1817: SettingWithCopyWarning: \n",
      "A value is trying to be set on a copy of a slice from a DataFrame.\n",
      "Try using .loc[row_indexer,col_indexer] = value instead\n",
      "\n",
      "See the caveats in the documentation: https://pandas.pydata.org/pandas-docs/stable/user_guide/indexing.html#returning-a-view-versus-a-copy\n",
      "  self._setitem_single_column(loc, value, pi)\n"
     ]
    },
    {
     "data": {
      "text/plain": [
       "'V:\\\\ArcGIS-PythonAPI\\\\the_file.shp'"
      ]
     },
     "execution_count": 36,
     "metadata": {},
     "output_type": "execute_result"
    }
   ],
   "source": [
    "sdf2.spatial.to_featureclass('./the_file.shp')"
   ]
  },
  {
   "cell_type": "code",
   "execution_count": null,
   "id": "b7597f44",
   "metadata": {},
   "outputs": [],
   "source": [
    "sdf2.columns"
   ]
  }
 ],
 "metadata": {
  "kernelspec": {
   "display_name": "Python 3",
   "language": "python",
   "name": "python3"
  },
  "language_info": {
   "codemirror_mode": {
    "name": "ipython",
    "version": 3
   },
   "file_extension": ".py",
   "mimetype": "text/x-python",
   "name": "python",
   "nbconvert_exporter": "python",
   "pygments_lexer": "ipython3",
   "version": "3.9.11"
  }
 },
 "nbformat": 4,
 "nbformat_minor": 5
}
