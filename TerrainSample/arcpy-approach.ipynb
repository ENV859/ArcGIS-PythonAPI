{
 "cells": [
  {
   "cell_type": "code",
   "execution_count": 1,
   "id": "5052cf42",
   "metadata": {},
   "outputs": [],
   "source": [
    "import arcpy\n",
    "import os\n",
    "arcpy.env.overwriteOutput=True\n",
    "\n",
    "arcpy.env.workspace = os.path.abspath('.')"
   ]
  },
  {
   "cell_type": "code",
   "execution_count": 2,
   "id": "c5b65fd3",
   "metadata": {},
   "outputs": [],
   "source": [
    "#Get the BOEM data\n",
    "boem_fc = 'U:/ec308/FinalProject/Data/BOEMWindLeaseOutlines_6_30_2022.shp'"
   ]
  },
  {
   "cell_type": "code",
   "execution_count": 3,
   "id": "188a4104",
   "metadata": {},
   "outputs": [
    {
     "data": {
      "text/html": [
       "<style>table td#td0  {font-weight: bold}</style><table class=\"notebook\"><colgroup><col style=\"width:45%\"></col><col style=\"width:55%\"></col></colgroup><tr><td id = \"td0\" title=\"XMin (Left)\">XMin (Left)</td><td title=\"-78.082261\">-78.082261</td></tr><tr><td id = \"td0\" title=\"XMax (Right)\">XMax (Right)</td><td title=\"-70.021549\">-70.021549</td></tr><tr><td id = \"td0\" title=\"YMin (Bottom)\">YMin (Bottom)</td><td title=\"33.359760\">33.359760</td></tr><tr><td id = \"td0\" title=\"YMax (Top)\">YMax (Top)</td><td title=\"41.326454\">41.326454</td></tr></table><div class=\"title\"><i class=\"chevron-open\" onClick=\"event.preventDefault();document.getElementById('0373900C-31D4-43A9-A995-32F1315822D8').style.display =   document.getElementById('0373900C-31D4-43A9-A995-32F1315822D8').style.display == 'none' ? 'block' : 'none';this.classList.toggle('chevron-closed');\"></i>spatialReference</div><div id=\"0373900C-31D4-43A9-A995-32F1315822D8\"><style>table td#td0  {font-weight: bold}</style><table class=\"notebook\"><colgroup><col style=\"width:45%\"></col><col style=\"width:55%\"></col></colgroup><tr><td id = \"td0\" title=\"name (Geographic Coordinate System)\">name (Geographic Coordinate System)</td><td title=\"GCS_WGS_1984\">GCS_WGS_1984</td></tr><tr><td id = \"td0\" title=\"factoryCode (WKID)\">factoryCode (WKID)</td><td title=\"4326\">4326</td></tr><tr><td id = \"td0\" title=\"angularUnitName (Angular Unit)\">angularUnitName (Angular Unit)</td><td title=\"Degree\">Degree</td></tr><tr><td id = \"td0\" title=\"datumName (Datum)\">datumName (Datum)</td><td title=\"D_WGS_1984\">D_WGS_1984</td></tr></table></div><br>"
      ],
      "text/plain": [
       "<Extent object at 0x2cb0732eb50[0x2cb0732ecf0]>"
      ]
     },
     "execution_count": 3,
     "metadata": {},
     "output_type": "execute_result"
    }
   ],
   "source": [
    "#Get the data's extent\n",
    "boem_extent = arcpy.da.Describe(boem_fc)['extent']\n",
    "boem_extent"
   ]
  },
  {
   "cell_type": "code",
   "execution_count": 4,
   "id": "6b04a187",
   "metadata": {},
   "outputs": [],
   "source": [
    "#Import raster as imagery layer\n",
    "service_url='https://tiledimageservices.arcgis.com/P3ePLMYs2RVChkJx/arcgis/rest/services/GEBCO_2021_Bathymetry/ImageServer'\n",
    "service_lyr = arcpy.management.MakeImageServerLayer(\n",
    "    in_image_service=service_url,\n",
    "    out_imageserver_layer=\"GEBCO\",\n",
    "    template=boem_extent\n",
    ")"
   ]
  },
  {
   "cell_type": "code",
   "execution_count": 5,
   "id": "b523fe63",
   "metadata": {},
   "outputs": [
    {
     "data": {
      "text/html": [
       "<div class='gpresult'><h2>Messages</h2><div id='messages' data-messages='[\"Start Time: Thursday, November 3, 2022 1:30:52 PM\",\"Succeeded at Thursday, November 3, 2022 1:31:04 PM (Elapsed Time: 11.77 seconds)\"]' data-show='true'><div id = 'default' /></div></div>"
      ],
      "text/plain": [
       "<geoprocessing server result object at 0x2cb078492a0>"
      ]
     },
     "execution_count": 5,
     "metadata": {},
     "output_type": "execute_result"
    }
   ],
   "source": [
    "#Compute ZonalStats \n",
    "arcpy.sa.ZonalStatisticsAsTable(\n",
    "    in_zone_data=boem_fc,\n",
    "    zone_field='FID',\n",
    "    in_value_raster=service_lyr,\n",
    "    out_table='ZStatsOutput.dbf',\n",
    ")"
   ]
  }
 ],
 "metadata": {
  "kernelspec": {
   "display_name": "Python 3",
   "language": "python",
   "name": "python3"
  },
  "language_info": {
   "codemirror_mode": {
    "name": "ipython",
    "version": 3
   },
   "file_extension": ".py",
   "mimetype": "text/x-python",
   "name": "python",
   "nbconvert_exporter": "python",
   "pygments_lexer": "ipython3",
   "version": "3.9.11"
  }
 },
 "nbformat": 4,
 "nbformat_minor": 5
}
