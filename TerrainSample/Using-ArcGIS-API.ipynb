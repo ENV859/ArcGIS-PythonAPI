{
 "cells": [
  {
   "cell_type": "code",
   "execution_count": 1,
   "id": "9d0b10ab",
   "metadata": {},
   "outputs": [],
   "source": [
    "#Set up\n",
    "from arcgis import GIS\n",
    "from arcgis import GeoAccessor\n",
    "gis = GIS('home')\n",
    "#gis = GIS(\"https://dukeuniv.maps.arcgis.com\",client_id='YmtqqKYoHULH1M2l')\n",
    "#print(\"Successfully logged in as: \" + gis.properties.user.username)"
   ]
  },
  {
   "cell_type": "code",
   "execution_count": 5,
   "id": "82072d1a",
   "metadata": {},
   "outputs": [
    {
     "data": {
      "text/plain": [
       "[<Item title:\"National Geographic Map\" type:Web Map owner:esri>,\n",
       " <Item title:\"National Geographic World Map\" type:Map Image Layer owner:esri>,\n",
       " <Item title:\"Elevation Coverage Map\" type:Map Image Layer owner:esri>,\n",
       " <Item title:\"GEBCO2021 Data Coverage\" type:Code Attachment owner:hyaroperez_unh>,\n",
       " <Item title:\"CommunitySurvey_DataLocation\" type:Feature Layer Collection owner:roperezja_NIWA>,\n",
       " <Item title:\"GEBCO_basemap_NCEI\" type:Map Image Layer owner:nicolas@ouutu.com>,\n",
       " <Item title:\"The Nippon Foundation - GEBCO Seabed 2030 Project - South and West Pacific Regional Mapping Community Meeting_fieldworker\" type:Feature Layer Collection owner:roperezja_NIWA>,\n",
       " <Item title:\"Make_Transits_Matter\" type:Web Mapping Application owner:hyaroperez_unh>,\n",
       " <Item title:\"fviypfm_kyfcefnqwvkz\" type:Service Definition owner:migratorybirds_audubon>,\n",
       " <Item title:\"fviypfm_gpsdhflxcdvy\" type:Vector Tile Layer owner:migratorybirds_audubon>]"
      ]
     },
     "execution_count": 5,
     "metadata": {},
     "output_type": "execute_result"
    }
   ],
   "source": [
    "gis.content.search(\"GEBCO 2021\",outside_org=True)"
   ]
  },
  {
   "cell_type": "code",
   "execution_count": null,
   "id": "7ad8d5a1",
   "metadata": {},
   "outputs": [],
   "source": [
    "#Search for Bathymetry data\n",
    "search_results = gis.content.search(\"TopoBathy\",outside_org=True)\n",
    "search_results"
   ]
  },
  {
   "cell_type": "code",
   "execution_count": null,
   "id": "4d8af359",
   "metadata": {},
   "outputs": [],
   "source": [
    "#Get the item\n",
    "the_item = search_results[0]\n",
    "the_item"
   ]
  },
  {
   "cell_type": "code",
   "execution_count": null,
   "id": "7005a32b",
   "metadata": {},
   "outputs": [],
   "source": [
    "#Get the one and only layer\n",
    "bathy_layer = the_item.layers[0]"
   ]
  },
  {
   "cell_type": "code",
   "execution_count": null,
   "id": "769300e8",
   "metadata": {},
   "outputs": [],
   "source": [
    "#View the layer\n",
    "m = gis.map(\"Cape Cod\")\n",
    "m.add_layer(bathy_layer)\n",
    "#m"
   ]
  },
  {
   "cell_type": "code",
   "execution_count": null,
   "id": "ac241d6a",
   "metadata": {},
   "outputs": [],
   "source": [
    "#Get the spatial reference\n",
    "bathy_sr = the_layer.properties['spatialReference']\n",
    "bathy_sr"
   ]
  },
  {
   "cell_type": "code",
   "execution_count": null,
   "id": "c91a7f11",
   "metadata": {},
   "outputs": [],
   "source": [
    "#Read in Eliza's shapefile\n",
    "filename = 'U:\\\\ec308\\\\FinalProject\\\\Data\\\\BOEMWindLeaseOutlines_6_30_2022.shp'\n",
    "sdf_leases = GeoAccessor.from_featureclass(filename)\n",
    "sdf_leases.head(2)"
   ]
  },
  {
   "cell_type": "code",
   "execution_count": null,
   "id": "b7e0d35e",
   "metadata": {},
   "outputs": [],
   "source": [
    "#Show the spatial reference\n",
    "sdf_leases.spatial.sr"
   ]
  },
  {
   "cell_type": "code",
   "execution_count": null,
   "id": "f03402c7",
   "metadata": {},
   "outputs": [],
   "source": [
    "#Project the data\n",
    "sdf_leases.spatial.project(bathy_sr)"
   ]
  },
  {
   "cell_type": "code",
   "execution_count": null,
   "id": "af7da5eb",
   "metadata": {},
   "outputs": [],
   "source": [
    "#Confirm the reprojection\n",
    "sdf_leases.spatial.sr"
   ]
  },
  {
   "cell_type": "code",
   "execution_count": null,
   "id": "60f909e4",
   "metadata": {},
   "outputs": [],
   "source": [
    "#Convert to layer\n",
    "#lyr_leases = sdf_leases.spatial.to_featurelayer(\n",
    "#    title='temp_BOEM_Leases',\n",
    "#)\n",
    "lyr_leases = gis.content.get('e169db88cb54446da2baf1d6d2ec9388')\n",
    "lyr_leases"
   ]
  },
  {
   "cell_type": "markdown",
   "id": "e92e7f7e",
   "metadata": {},
   "source": [
    "### Raster analysis"
   ]
  },
  {
   "cell_type": "code",
   "execution_count": null,
   "id": "606d0b9d",
   "metadata": {},
   "outputs": [],
   "source": [
    "#Import the function\n",
    "from arcgis.raster.analytics import *"
   ]
  },
  {
   "cell_type": "code",
   "execution_count": null,
   "id": "2b027b1f",
   "metadata": {},
   "outputs": [],
   "source": [
    "#Sample\n",
    "result = sample(\n",
    "    input_rasters=bathy_layer,\n",
    "    input_location_data=lyr_leases,\n",
    "    resampling_type='Nearest',\n",
    "    unique_id_field='FID',\n",
    "    process_as_multidimensional=True\n",
    ")"
   ]
  },
  {
   "cell_type": "code",
   "execution_count": null,
   "id": "61040776",
   "metadata": {},
   "outputs": [],
   "source": [
    "#Apply the summarize_raster_within function\n",
    "result = summarize_raster_within(\n",
    "    input_zone_layer=lyr_leases,\n",
    "    input_raster_layer_to_summarize=bathy_layer,\n",
    "    zone_field='PROTRACT_1'\n",
    ")"
   ]
  },
  {
   "cell_type": "code",
   "execution_count": null,
   "id": "4b0b2e13",
   "metadata": {},
   "outputs": [],
   "source": [
    "lyr_leases"
   ]
  },
  {
   "cell_type": "code",
   "execution_count": null,
   "id": "865e7688",
   "metadata": {},
   "outputs": [],
   "source": [
    "#Apply the zonal_statistics_as_table function\n",
    "result = zonal_statistics_as_table(\n",
    "    input_zone_raster_or_features=lyr_leases,\n",
    "    input_value_raster=bathy_layer,\n",
    "    zone_field='FID',\n",
    "    statistic_type='ALL',\n",
    "    gis=gis,\n",
    "    output_name='tempRasterAnalysis'\n",
    ")"
   ]
  },
  {
   "cell_type": "code",
   "execution_count": null,
   "id": "d13b8a44",
   "metadata": {},
   "outputs": [],
   "source": [
    "result.status"
   ]
  },
  {
   "cell_type": "code",
   "execution_count": null,
   "id": "e75c904e",
   "metadata": {},
   "outputs": [],
   "source": []
  }
 ],
 "metadata": {
  "kernelspec": {
   "display_name": "Python 3",
   "language": "python",
   "name": "python3"
  },
  "language_info": {
   "codemirror_mode": {
    "name": "ipython",
    "version": 3
   },
   "file_extension": ".py",
   "mimetype": "text/x-python",
   "name": "python",
   "nbconvert_exporter": "python",
   "pygments_lexer": "ipython3",
   "version": "3.9.11"
  }
 },
 "nbformat": 4,
 "nbformat_minor": 5
}
