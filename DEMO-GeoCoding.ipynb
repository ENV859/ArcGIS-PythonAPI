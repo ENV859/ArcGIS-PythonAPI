{
 "cells": [
  {
   "cell_type": "markdown",
   "id": "ee96a4be",
   "metadata": {},
   "source": [
    "# Demo: Geocoding\n",
    "https://developers.arcgis.com/python/latest/guide/part1-what-is-geocoding/\n",
    "\n",
    "The ArcGIS API for Python is a useful tool for geocoding addresses. Geocoding a single address requires no credits; batch geocoding, however, does. (And you will have to create an authenticated `gis` object.)\n",
    "\n",
    "[Another package that can do geocoding (including batch geocoding) is [Open Street Map](https://geocoder.readthedocs.io/providers/OpenStreetMap.html)]"
   ]
  },
  {
   "cell_type": "code",
   "execution_count": null,
   "id": "6baae003",
   "metadata": {},
   "outputs": [],
   "source": [
    "#Import packages\n",
    "from arcgis.gis import GIS\n",
    "from arcgis.geocoding import geocode, batch_geocode\n",
    "\n",
    "import pandas as pd\n",
    "\n",
    "#Authenticate the GIS \n",
    "gis = GIS()"
   ]
  },
  {
   "cell_type": "markdown",
   "id": "acefba60",
   "metadata": {},
   "source": [
    "## Geocode a single address\n",
    "* https://developers.arcgis.com/python/latest/api-reference/arcgis.geocoding.html#geocode\n"
   ]
  },
  {
   "cell_type": "code",
   "execution_count": null,
   "id": "b0835afc",
   "metadata": {},
   "outputs": [],
   "source": [
    "#Set the address\n",
    "address = '9 Circuit Dr., Durham, NC 27708'"
   ]
  },
  {
   "cell_type": "code",
   "execution_count": null,
   "id": "bd107b75",
   "metadata": {},
   "outputs": [],
   "source": [
    "#Geocode, setting the output to be a feature set\n",
    "the_location_fs = geocode(\n",
    "    address=address,\n",
    "    as_featureset=True\n",
    ")"
   ]
  },
  {
   "cell_type": "code",
   "execution_count": null,
   "id": "8e28a3db",
   "metadata": {},
   "outputs": [],
   "source": [
    "#Convert featureset to a spatial dataframe\n",
    "sdf_location = the_location_fs.sdf\n",
    "sdf_location"
   ]
  },
  {
   "cell_type": "code",
   "execution_count": null,
   "id": "15ba3781",
   "metadata": {},
   "outputs": [],
   "source": [
    "#Show the coordinates\n",
    "sdf_location.loc[:,['X','Y']]"
   ]
  },
  {
   "cell_type": "code",
   "execution_count": null,
   "id": "464a84de",
   "metadata": {},
   "outputs": [],
   "source": [
    "the_map."
   ]
  },
  {
   "cell_type": "code",
   "execution_count": null,
   "id": "ea53087b",
   "metadata": {},
   "outputs": [],
   "source": [
    "#Create a map\n",
    "the_map = gis.map(\n",
    "    location='Duke Chapel',\n",
    "    zoomlevel=15\n",
    ")\n",
    "\n",
    "#plot the feature on the map\n",
    "sdf_location.spatial.plot(map_widget=the_map)\n",
    "\n",
    "#Display the map\n",
    "the_map"
   ]
  },
  {
   "cell_type": "markdown",
   "id": "75fbe402",
   "metadata": {},
   "source": [
    "## Batch Geocoding\n",
    "* https://developers.arcgis.com/python/latest/guide/part4-batch-geocoding/\n",
    "* https://developers.arcgis.com/python/latest/api-reference/arcgis.geocoding.html#batch_geocode"
   ]
  },
  {
   "cell_type": "code",
   "execution_count": null,
   "id": "68040ab1",
   "metadata": {},
   "outputs": [],
   "source": [
    "#Read in a csv of addresses as a pandas dataframe\n",
    "df_addresses = pd.read_csv('data/Starbucks.csv',dtype={'Zip':'str'})"
   ]
  },
  {
   "cell_type": "code",
   "execution_count": null,
   "id": "7b94b4bb",
   "metadata": {},
   "outputs": [],
   "source": [
    "#Convert to a list of addresses\n",
    "list_addresses = (df_addresses.agg(','.join, axis=1)).tolist()\n",
    "list_addresses"
   ]
  },
  {
   "cell_type": "code",
   "execution_count": null,
   "id": "c92a75e8",
   "metadata": {},
   "outputs": [],
   "source": [
    "#Batch geocode the list of addresses, saving output as a feature set\n",
    "batch_results = batch_geocode(\n",
    "    addresses=list_addresses,\n",
    "    category=\"Street Address\",\n",
    "    as_featureset=True\n",
    ")"
   ]
  },
  {
   "cell_type": "code",
   "execution_count": null,
   "id": "481823c6",
   "metadata": {},
   "outputs": [],
   "source": [
    "#Convert the featureset to a spatial dataframe\n",
    "sdf_results = batch_results.sdf\n",
    "sdf_results.head()"
   ]
  },
  {
   "cell_type": "code",
   "execution_count": null,
   "id": "7abccd3a",
   "metadata": {},
   "outputs": [],
   "source": [
    "#Plot the points\n",
    "sdf_results.spatial.plot()"
   ]
  }
 ],
 "metadata": {
  "kernelspec": {
   "display_name": "Python 3 (ipykernel)",
   "language": "python",
   "name": "python3"
  },
  "language_info": {
   "codemirror_mode": {
    "name": "ipython",
    "version": 3
   },
   "file_extension": ".py",
   "mimetype": "text/x-python",
   "name": "python",
   "nbconvert_exporter": "python",
   "pygments_lexer": "ipython3",
   "version": "3.11.8"
  }
 },
 "nbformat": 4,
 "nbformat_minor": 5
}
