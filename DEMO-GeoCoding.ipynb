{
 "cells": [
  {
   "cell_type": "markdown",
   "id": "ee96a4be",
   "metadata": {},
   "source": [
    "# Demo: Geocoding\n",
    "https://developers.arcgis.com/python/latest/guide/part1-what-is-geocoding/\n",
    "\n",
    "The ArcGIS API for Python is a useful tool for geocoding addresses. Geocoding a single address requires no credits; batch geocoding, however, does. (And you will have to create an authenticated `gis` object.)\n",
    "\n",
    "[Another package that can do geocoding (including batch geocoding) is [Open Street Map](https://geocoder.readthedocs.io/providers/OpenStreetMap.html)]"
   ]
  },
  {
   "cell_type": "code",
   "execution_count": 8,
   "id": "6baae003",
   "metadata": {},
   "outputs": [],
   "source": [
    "#Import packages\n",
    "from arcgis.gis import GIS\n",
    "from arcgis.geocoding import geocode, batch_geocode\n",
    "\n",
    "import pandas as pd\n",
    "\n",
    "#Authenticate the GIS \n",
    "gis = GIS()"
   ]
  },
  {
   "cell_type": "markdown",
   "id": "acefba60",
   "metadata": {},
   "source": [
    "## Geocode a single address\n",
    "* https://developers.arcgis.com/python/latest/api-reference/arcgis.geocoding.html#geocode\n"
   ]
  },
  {
   "cell_type": "code",
   "execution_count": 2,
   "id": "b0835afc",
   "metadata": {},
   "outputs": [],
   "source": [
    "#Set the address\n",
    "address = '9 Circuit Dr., Durham, NC 27708'"
   ]
  },
  {
   "cell_type": "code",
   "execution_count": 25,
   "id": "bd107b75",
   "metadata": {},
   "outputs": [],
   "source": [
    "#Geocode, setting the output to be a feature set\n",
    "the_location_fs = geocode(\n",
    "    address=address,\n",
    "    as_featureset=True\n",
    ")"
   ]
  },
  {
   "cell_type": "code",
   "execution_count": 26,
   "id": "8e28a3db",
   "metadata": {},
   "outputs": [
    {
     "data": {
      "text/html": [
       "<div>\n",
       "<style scoped>\n",
       "    .dataframe tbody tr th:only-of-type {\n",
       "        vertical-align: middle;\n",
       "    }\n",
       "\n",
       "    .dataframe tbody tr th {\n",
       "        vertical-align: top;\n",
       "    }\n",
       "\n",
       "    .dataframe thead th {\n",
       "        text-align: right;\n",
       "    }\n",
       "</style>\n",
       "<table border=\"1\" class=\"dataframe\">\n",
       "  <thead>\n",
       "    <tr style=\"text-align: right;\">\n",
       "      <th></th>\n",
       "      <th>Loc_name</th>\n",
       "      <th>Status</th>\n",
       "      <th>Score</th>\n",
       "      <th>Match_addr</th>\n",
       "      <th>LongLabel</th>\n",
       "      <th>ShortLabel</th>\n",
       "      <th>Addr_type</th>\n",
       "      <th>Type</th>\n",
       "      <th>PlaceName</th>\n",
       "      <th>Place_addr</th>\n",
       "      <th>...</th>\n",
       "      <th>Y</th>\n",
       "      <th>DisplayX</th>\n",
       "      <th>DisplayY</th>\n",
       "      <th>Xmin</th>\n",
       "      <th>Xmax</th>\n",
       "      <th>Ymin</th>\n",
       "      <th>Ymax</th>\n",
       "      <th>ExInfo</th>\n",
       "      <th>OBJECTID</th>\n",
       "      <th>SHAPE</th>\n",
       "    </tr>\n",
       "  </thead>\n",
       "  <tbody>\n",
       "    <tr>\n",
       "      <th>0</th>\n",
       "      <td>World</td>\n",
       "      <td>M</td>\n",
       "      <td>99.51</td>\n",
       "      <td>9 Circuit Drive, Durham, North Carolina, 27710</td>\n",
       "      <td>9 Circuit Drive, Durham, NC, 27710, USA</td>\n",
       "      <td>9 Circuit Drive</td>\n",
       "      <td>PointAddress</td>\n",
       "      <td></td>\n",
       "      <td></td>\n",
       "      <td>9 Circuit Drive, Durham, North Carolina, 27710</td>\n",
       "      <td>...</td>\n",
       "      <td>36.005438</td>\n",
       "      <td>-78.942289</td>\n",
       "      <td>36.005215</td>\n",
       "      <td>-78.943289</td>\n",
       "      <td>-78.941289</td>\n",
       "      <td>36.004215</td>\n",
       "      <td>36.006215</td>\n",
       "      <td></td>\n",
       "      <td>1</td>\n",
       "      <td>{\"x\": -78.942366474747, \"y\": 36.005438145253, ...</td>\n",
       "    </tr>\n",
       "  </tbody>\n",
       "</table>\n",
       "<p>1 rows × 60 columns</p>\n",
       "</div>"
      ],
      "text/plain": [
       "  Loc_name Status  Score                                      Match_addr  \\\n",
       "0    World      M  99.51  9 Circuit Drive, Durham, North Carolina, 27710   \n",
       "\n",
       "                                 LongLabel       ShortLabel     Addr_type  \\\n",
       "0  9 Circuit Drive, Durham, NC, 27710, USA  9 Circuit Drive  PointAddress   \n",
       "\n",
       "  Type PlaceName                                      Place_addr  ...  \\\n",
       "0                 9 Circuit Drive, Durham, North Carolina, 27710  ...   \n",
       "\n",
       "           Y   DisplayX   DisplayY       Xmin       Xmax       Ymin  \\\n",
       "0  36.005438 -78.942289  36.005215 -78.943289 -78.941289  36.004215   \n",
       "\n",
       "        Ymax ExInfo OBJECTID  \\\n",
       "0  36.006215               1   \n",
       "\n",
       "                                               SHAPE  \n",
       "0  {\"x\": -78.942366474747, \"y\": 36.005438145253, ...  \n",
       "\n",
       "[1 rows x 60 columns]"
      ]
     },
     "execution_count": 26,
     "metadata": {},
     "output_type": "execute_result"
    }
   ],
   "source": [
    "#Convert featureset to a spatial dataframe\n",
    "sdf_location = the_location_fs.sdf\n",
    "sdf_location"
   ]
  },
  {
   "cell_type": "code",
   "execution_count": 32,
   "id": "15ba3781",
   "metadata": {},
   "outputs": [
    {
     "data": {
      "text/html": [
       "<div>\n",
       "<style scoped>\n",
       "    .dataframe tbody tr th:only-of-type {\n",
       "        vertical-align: middle;\n",
       "    }\n",
       "\n",
       "    .dataframe tbody tr th {\n",
       "        vertical-align: top;\n",
       "    }\n",
       "\n",
       "    .dataframe thead th {\n",
       "        text-align: right;\n",
       "    }\n",
       "</style>\n",
       "<table border=\"1\" class=\"dataframe\">\n",
       "  <thead>\n",
       "    <tr style=\"text-align: right;\">\n",
       "      <th></th>\n",
       "      <th>X</th>\n",
       "      <th>Y</th>\n",
       "    </tr>\n",
       "  </thead>\n",
       "  <tbody>\n",
       "    <tr>\n",
       "      <th>0</th>\n",
       "      <td>-78.942366</td>\n",
       "      <td>36.005438</td>\n",
       "    </tr>\n",
       "  </tbody>\n",
       "</table>\n",
       "</div>"
      ],
      "text/plain": [
       "           X          Y\n",
       "0 -78.942366  36.005438"
      ]
     },
     "execution_count": 32,
     "metadata": {},
     "output_type": "execute_result"
    }
   ],
   "source": [
    "#Show the coordinates\n",
    "sdf_location.loc[:,['X','Y']]"
   ]
  },
  {
   "cell_type": "code",
   "execution_count": 31,
   "id": "ea53087b",
   "metadata": {},
   "outputs": [
    {
     "data": {
      "application/vnd.jupyter.widget-view+json": {
       "model_id": "9eed542aa65c40809a1945a1c6db3e37",
       "version_major": 2,
       "version_minor": 0
      },
      "text/plain": [
       "MapView(layout=Layout(height='400px', width='100%'))"
      ]
     },
     "metadata": {},
     "output_type": "display_data"
    },
    {
     "data": {
      "text/html": [
       "<div class=\"map-static-img-preview-7697d589-7db3-4cae-b47a-52b8ae0762b2\"><img src=\"\"></img></div>"
      ],
      "text/plain": [
       "<IPython.core.display.HTML object>"
      ]
     },
     "metadata": {},
     "output_type": "display_data"
    },
    {
     "data": {
      "text/html": [
       "<div class=\"map-html-embed-preview-7697d589-7db3-4cae-b47a-52b8ae0762b2\"></div>"
      ],
      "text/plain": [
       "<IPython.core.display.HTML object>"
      ]
     },
     "metadata": {},
     "output_type": "display_data"
    }
   ],
   "source": [
    "#Create a map\n",
    "the_map = gis.map(\n",
    "    location='Durham, NC',\n",
    "    zoomlevel=13\n",
    ")\n",
    "#plot the feature on the map\n",
    "sdf_location.spatial.plot(map_widget=the_map)\n",
    "#Display the map\n",
    "the_map"
   ]
  },
  {
   "cell_type": "markdown",
   "id": "75fbe402",
   "metadata": {},
   "source": [
    "## Batch Geocoding\n",
    "* https://developers.arcgis.com/python/latest/guide/part4-batch-geocoding/\n",
    "* https://developers.arcgis.com/python/latest/api-reference/arcgis.geocoding.html#batch_geocode"
   ]
  },
  {
   "cell_type": "code",
   "execution_count": null,
   "id": "68040ab1",
   "metadata": {},
   "outputs": [],
   "source": [
    "#Read in a csv of addresses as a pandas dataframe\n",
    "df_addresses = pd.read_csv('data/Starbucks.csv',dtype={'Zip':'str'})"
   ]
  },
  {
   "cell_type": "code",
   "execution_count": 6,
   "id": "7b94b4bb",
   "metadata": {},
   "outputs": [
    {
     "data": {
      "text/plain": [
       "['1801 Fayetteville St,Durham,NC,27701',\n",
       " '3457 Hillsborough Rd ,Durham,NC,27705',\n",
       " '2107 Hillsborough Rd ,Durham,NC,27705',\n",
       " '706 9th St ,Durham,NC,27705',\n",
       " '2301 Erwin Rd ,Durham,NC,27705',\n",
       " '202 NC-54 ,Durham,NC,27713',\n",
       " '1817 Martin Luther King Jr Pkwy ,Durham,NC,27707',\n",
       " '4037 Durham-Chapel Hill Blvd ,Durham,NC,27707']"
      ]
     },
     "execution_count": 6,
     "metadata": {},
     "output_type": "execute_result"
    }
   ],
   "source": [
    "#Convert to a list of addresses\n",
    "list_addresses = (df_addresses.agg(','.join, axis=1)).tolist()\n",
    "list_addresses"
   ]
  },
  {
   "cell_type": "code",
   "execution_count": 12,
   "id": "c92a75e8",
   "metadata": {},
   "outputs": [],
   "source": [
    "#Batch geocode the list of addresses, saving output as a feature set\n",
    "batch_results = batch_geocode(\n",
    "    addresses=list_addresses,\n",
    "    category=\"Street Address\",\n",
    "    as_featureset=True\n",
    ")"
   ]
  },
  {
   "cell_type": "code",
   "execution_count": null,
   "id": "481823c6",
   "metadata": {},
   "outputs": [],
   "source": [
    "#Convert the featureset to a spatial dataframe\n",
    "sdf_results = batch_results.sdf\n",
    "sdf_results.head()"
   ]
  },
  {
   "cell_type": "code",
   "execution_count": 16,
   "id": "7abccd3a",
   "metadata": {},
   "outputs": [
    {
     "data": {
      "application/vnd.jupyter.widget-view+json": {
       "model_id": "4371684849c344f1b43722dcc104ffab",
       "version_major": 2,
       "version_minor": 0
      },
      "text/plain": [
       "MapView(layout=Layout(height='400px', width='100%'))"
      ]
     },
     "metadata": {},
     "output_type": "display_data"
    },
    {
     "data": {
      "text/html": [
       "<div class=\"map-static-img-preview-133d7bbe-440f-449b-8bc1-894ee7ce2482\"><img src=\"\"></img></div>"
      ],
      "text/plain": [
       "<IPython.core.display.HTML object>"
      ]
     },
     "metadata": {},
     "output_type": "display_data"
    },
    {
     "data": {
      "text/html": [
       "<div class=\"map-html-embed-preview-133d7bbe-440f-449b-8bc1-894ee7ce2482\"></div>"
      ],
      "text/plain": [
       "<IPython.core.display.HTML object>"
      ]
     },
     "metadata": {},
     "output_type": "display_data"
    }
   ],
   "source": [
    "#Plot the points\n",
    "sdf_results.spatial.plot()"
   ]
  }
 ],
 "metadata": {
  "kernelspec": {
   "display_name": "Python 3 (ipykernel)",
   "language": "python",
   "name": "python3"
  },
  "language_info": {
   "codemirror_mode": {
    "name": "ipython",
    "version": 3
   },
   "file_extension": ".py",
   "mimetype": "text/x-python",
   "name": "python",
   "nbconvert_exporter": "python",
   "pygments_lexer": "ipython3",
   "version": "3.11.8"
  }
 },
 "nbformat": 4,
 "nbformat_minor": 5
}
