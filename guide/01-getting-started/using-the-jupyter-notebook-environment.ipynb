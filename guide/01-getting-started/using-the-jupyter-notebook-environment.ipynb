{
 "cells": [
  {
   "cell_type": "markdown",
   "metadata": {},
   "source": [
    "# Using the Jupyter Notebook environment\n",
    "\n",
    "This section provides a quick introduction to the Jupyter Notebook environment where you can run Python code in an interactive manner and visualize the output as maps and charts.  Refer to the [official Jupyter documentation](http://jupyter.readthedocs.io/en/latest/) and [this quick start guide](https://jupyter-notebook-beginner-guide.readthedocs.io/en/latest/index.html) for further details."
   ]
  },
  {
   "cell_type": "markdown",
   "metadata": {},
   "source": [
    "## Starting the Jupyter Notebook environment\n",
    "\n",
    "Once conda and the ArcGIS API for Python is [installed](https://developers.arcgis.com/python/guide/install-and-set-up), you can start the Jupyter Notebook environment by typing the following command in your terminal.\n",
    "\n",
    "    jupyter notebook\n",
    "\n",
    "If you are running a Windows OS, this could be your command prompt or PowerShell window. Similarly if you are running a Mac or Linux OS, this could be your terminal. Below is a screen shot of how it would appear if you were running the command from Windows command prompt."
   ]
  },
  {
   "cell_type": "markdown",
   "metadata": {},
   "source": [
    "![Windows command prompt running jupyter notebook](../../static/img/guide_getstarted_usingjupyternotebooks_01.png)"
   ]
  },
  {
   "cell_type": "markdown",
   "metadata": {},
   "source": [
    "If you installed the ArcGIS API for Python in a conda **environment** other than root (which is the default), you need to `activate` that environment before starting the Jupyter Notebook. For more information on the benefits of using environments and how to create and manage them, refer to this [official documentation page](http://conda.pydata.org/docs/using/envs.html).\n",
    "\n",
    "If you are running a sample notebook for the API, you need to 'cd' into the directory where you [downloaded the samples](https://github.com/Esri/arcgis-python-api/releases/tag/v0.3-beta). In the example above, the samples have been downloaded and extracted into c:\\code directory.\n",
    "\n",
    "The command starts Jupyter Notebook and opens it in your default web browser as shown below."
   ]
  },
  {
   "cell_type": "markdown",
   "metadata": {},
   "source": [
    "![Jupyter Notebook web application](../../static/img/guide_getstarted_usingjupyternotebooks_02.png)\n",
    "\n",
    "The page you see in this image is called the Notebook Dashboard."
   ]
  },
  {
   "cell_type": "markdown",
   "metadata": {},
   "source": [
    "## Running the sample notebooks\n",
    "\n",
    "In the Jupyter Notebook, you can navigate the folder structure and click on a sample notebook. This opens the notebook in a new tab or window. You can run each cell by selecting it and clicking on the 'run cell' button. Alternately, you can run a cell using the keyboard shortcut `shift + enter`. The animation below shows these steps in action."
   ]
  },
  {
   "cell_type": "markdown",
   "metadata": {},
   "source": [
    "![running a sample notebook](../../static/img/guide_getstarted_usingjupyternotebooks_03.gif)\n",
    "\n",
    "When a cell is executing the cell number turns to an asterisk `(*)` and the circle next to the kernal name (Python 3 in the gif above) turns solid."
   ]
  },
  {
   "cell_type": "markdown",
   "metadata": {},
   "source": [
    "## Creating new notebooks\n",
    "\n",
    "In addition to running the sample notebooks, you can create new notebooks for your projects. To do so, from the Notebook Dashboard page, click on the 'New' button and select a Python kernel of choice as shown in the image below.\n",
    "\n",
    "![creating new notebooks](../../static/img/guide_getstarted_usingjupyternotebooks_04.png)\n",
    "\n",
    "Alternately, you can create new notebooks from the 'File' menu of a running notebook. In the screenshot above, note the icons of currently running notebooks are green in color."
   ]
  },
  {
   "cell_type": "markdown",
   "metadata": {},
   "source": [
    "## Further help and keyboard shortcuts\n",
    "\n",
    "You can get a tour of the notebook interface from the `Help -> User Interface Tour` menu. As you get used to this new interface, you can enhance your productivity by learning a few keyboard shortcuts. Accessing `Help > Keyboard shortcuts` from a running notebook will bring up a help dialog as shown below.\n",
    "\n",
    "![keyboard shortcuts](../../static/img/guide_getstarted_usingjupyternotebooks_05.png)\n",
    "\n",
    "Among the shortcuts, `ctrl + shift + P` or `cmd + shift + P` on a mac is particularly useful as it brings up a command palette into which you can type what you wish to do and execute it. Refer to this blog article [Five tips to get you started with Jupyter notebooks](https://blogs.esri.com/esri/arcgis/2017/06/30/82220/) to get further understanding on patterns to follow while using Jupyter notebooks."
   ]
  }
 ],
 "metadata": {
  "anaconda-cloud": {},
  "kernelspec": {
   "display_name": "Python 3",
   "language": "python",
   "name": "python3"
  },
  "language_info": {
   "codemirror_mode": {
    "name": "ipython",
    "version": 3
   },
   "file_extension": ".py",
   "mimetype": "text/x-python",
   "name": "python",
   "nbconvert_exporter": "python",
   "pygments_lexer": "ipython3",
   "version": "3.6.1"
  }
 },
 "nbformat": 4,
 "nbformat_minor": 1
}
