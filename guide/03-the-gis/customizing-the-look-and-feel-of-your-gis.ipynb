{
 "cells": [
  {
   "cell_type": "markdown",
   "metadata": {},
   "source": [
    "# Customizing the look and feel of your GIS\n",
    "\n",
    "As an administrator of your GIS, you can configure the appearance of the portal website to make it home for your users. The `UX` class of the `admin` sub module can be used to customize the look and feel of your portal website by setting the name, description, logo, background image, banner image, default basemap, extent etc.\n",
    "\n",
    "You can use the `UX` class on organizations hosted on ArcGIS Online or ArcGIS Enterprise. To note here, the GIS connection can be created by using username/password, e.g. `gis = GIS(\"portalname.domain.com/webadaptor\", \"username\", \"password\")`, or through an existing profile."
   ]
  },
  {
   "cell_type": "code",
   "execution_count": 1,
   "metadata": {},
   "outputs": [],
   "source": [
    "from arcgis.gis import GIS\n",
    "gis = GIS(profile=\"your_ent_admin_profile\")"
   ]
  },
  {
   "cell_type": "markdown",
   "metadata": {},
   "source": [
    "When you install ArcGIS Enterprise or create a new organization on ArcGIS Online, it would look similar to the image shown below:\n",
    "\n",
    "![](http://esri.github.io/arcgis-python-api/notebooks/nbimages/guide_gis_ux_default_install_portal.PNG)\n",
    "\n",
    "The rest of this guide walks you through customizing this GIS. As an example, this guide chooses to customize this GIS for Public Works Department of the city of Los Angeles."
   ]
  },
  {
   "cell_type": "markdown",
   "metadata": {},
   "source": [
    "## Setting name and description\n",
    "Use the `name` and `description` to both query and set them on the GIS."
   ]
  },
  {
   "cell_type": "code",
   "execution_count": 2,
   "metadata": {},
   "outputs": [
    {
     "data": {
      "text/plain": [
       "'ArcGIS Enterprise'"
      ]
     },
     "execution_count": 2,
     "metadata": {},
     "output_type": "execute_result"
    }
   ],
   "source": [
    "gis.admin.ux.name"
   ]
  },
  {
   "cell_type": "code",
   "execution_count": 3,
   "metadata": {},
   "outputs": [
    {
     "data": {
      "text/plain": [
       "'<br>'"
      ]
     },
     "execution_count": 3,
     "metadata": {},
     "output_type": "execute_result"
    }
   ],
   "source": [
    "gis.admin.ux.description"
   ]
  },
  {
   "cell_type": "code",
   "execution_count": 4,
   "metadata": {},
   "outputs": [
    {
     "data": {
      "text/plain": [
       "False"
      ]
     },
     "execution_count": 4,
     "metadata": {},
     "output_type": "execute_result"
    }
   ],
   "source": [
    "gis.admin.ux.description_visibility"
   ]
  },
  {
   "cell_type": "markdown",
   "metadata": {},
   "source": [
    "To set new name and description, simply set these properties"
   ]
  },
  {
   "cell_type": "code",
   "execution_count": 5,
   "metadata": {
    "collapsed": true
   },
   "outputs": [],
   "source": [
    "gis.admin.ux.name = 'LA PWD GIS'\n",
    "gis.admin.ux.description = 'Spatial information portal for the Public Works Department of the city of Los Angeles'\n",
    "gis.admin.ux.description_visibility = True"
   ]
  },
  {
   "cell_type": "markdown",
   "metadata": {},
   "source": [
    "Once the name and description is set, the portal website looks like below:\n",
    "![name and description set](http://esri.github.io/arcgis-python-api/notebooks/nbimages/guide_gis_ux_name_desc.PNG)\n",
    "\n",
    "<blockquote><b>Note</b>: The name of the GIS shows up in the browser tab name. Description shows up in the gray bar. To update the large 'ArcGIS Enterprise' text, you need to update the banner image as shown below:</blockquote>"
   ]
  },
  {
   "cell_type": "markdown",
   "metadata": {},
   "source": [
    "## Setting logo, banner and background images\n",
    "To set the logo, banner and background images, call the `set_logo()`, `set_banner()` and `set_background()` methods. Your GIS might come with a set of built-in images. You can use one of those or upload your own. If using a built-in banner, valid values are `banner-1`, `banner-2`, `banner-3`, `banner-4`, `banner-5` and set the `is_built_in` to `True`. The example below uploads a custom banner and background file from disk."
   ]
  },
  {
   "cell_type": "markdown",
   "metadata": {},
   "source": [
    "Python 3.4 introduced a new standard library for dealing with files and paths called `pathlib` — and it’s making things simpler in representing directories and files via absolute or relative paths across different operating systems."
   ]
  },
  {
   "cell_type": "code",
   "execution_count": 6,
   "metadata": {},
   "outputs": [
    {
     "data": {
      "text/plain": [
       "True"
      ]
     },
     "execution_count": 6,
     "metadata": {},
     "output_type": "execute_result"
    }
   ],
   "source": [
    "from pathlib import Path\n",
    "\n",
    "filename = Path('staticimg/background.jpg')\n",
    "if filename.exists():\n",
    "    print(gis.admin.ux.set_background(background_file=filename))\n",
    "else:\n",
    "    print(\"file not exists!\")"
   ]
  },
  {
   "cell_type": "code",
   "execution_count": 7,
   "metadata": {},
   "outputs": [
    {
     "data": {
      "text/plain": [
       "True"
      ]
     },
     "execution_count": 7,
     "metadata": {},
     "output_type": "execute_result"
    }
   ],
   "source": [
    "filename = Path('staticimg/banner.png')\n",
    "if filename.exists():\n",
    "    print(gis.admin.ux.set_banner(banner_file=filename))\n",
    "else:\n",
    "    print(\"file not exists!\")"
   ]
  },
  {
   "cell_type": "code",
   "execution_count": 8,
   "metadata": {},
   "outputs": [
    {
     "data": {
      "text/plain": [
       "True"
      ]
     },
     "execution_count": 8,
     "metadata": {},
     "output_type": "execute_result"
    }
   ],
   "source": [
    "filename = Path('staticimg/logo.png')\n",
    "if filename.exists():\n",
    "    print(gis.admin.ux.set_logo(logo_file=filename))\n",
    "else:\n",
    "    print(\"file not exists!\")"
   ]
  },
  {
   "cell_type": "markdown",
   "metadata": {},
   "source": [
    "Refershing the portal website will render the new appearance:\n",
    "![logo banner background set](http://esri.github.io/arcgis-python-api/notebooks/nbimages/guide_gis_ux_logo_banner_background.PNG)\n",
    "\n",
    "<blockquote><b>Note:</b> Refer the help on <a href=\"http://server.arcgis.com/en/portal/latest/administer/windows/configure-home.htm\"> configuring home page</a> to understand the dimensions of the images for best appearance. You can also pass custom HTML code while setting the banner. To learn more about that <a href=\"http://server.arcgis.com/en/portal/latest/administer/windows/supported-html.htm\">refer here</a>.</blockquote>\n",
    "\n",
    "### Download existing customizations\n",
    "You can download the current banner, logo, background values using the corresponding `get` methods"
   ]
  },
  {
   "cell_type": "code",
   "execution_count": 3,
   "metadata": {},
   "outputs": [
    {
     "name": "stdout",
     "output_type": "stream",
     "text": [
      "staticimg\\downloads\\banner.jpg\n"
     ]
    }
   ],
   "source": [
    "dirname = Path('staticimg/downloads')\n",
    "if dirname.exists():\n",
    "    print(gis.admin.ux.get_banner(download_path = dirname))\n",
    "else:\n",
    "    print(\"downloading folder not exists!\")"
   ]
  },
  {
   "cell_type": "markdown",
   "metadata": {},
   "source": [
    "### Resetting customization\n",
    "You can reset logo, banner and background by specifying `None` as the argument. Below, the custom background is reset and the built-in background is applied. The portal comes with just 1 default background, hence a name is not required to set it."
   ]
  },
  {
   "cell_type": "code",
   "execution_count": 10,
   "metadata": {},
   "outputs": [
    {
     "data": {
      "text/plain": [
       "True"
      ]
     },
     "execution_count": 10,
     "metadata": {},
     "output_type": "execute_result"
    }
   ],
   "source": [
    "gis.admin.ux.set_background(background_file=None, is_built_in=False)"
   ]
  },
  {
   "cell_type": "code",
   "execution_count": 11,
   "metadata": {},
   "outputs": [
    {
     "data": {
      "text/plain": [
       "True"
      ]
     },
     "execution_count": 11,
     "metadata": {},
     "output_type": "execute_result"
    }
   ],
   "source": [
    "gis.admin.ux.set_background(is_built_in=True)"
   ]
  },
  {
   "cell_type": "markdown",
   "metadata": {},
   "source": [
    "## Setting featured content\n",
    "You can designate the contents of a group to show up as featured content on the home page."
   ]
  },
  {
   "cell_type": "code",
   "execution_count": 12,
   "metadata": {},
   "outputs": [
    {
     "data": {
      "text/plain": [
       "[<Group title:\"Basemaps\" owner:admin>,\n",
       " <Group title:\"Central Services\" owner:admin>,\n",
       " <Group title:\"Compliance\" owner:admin>,\n",
       " <Group title:\"Customer Service, Finance, Billing and Accounting\" owner:admin>,\n",
       " <Group title:\"Demographic Content\" owner:admin>,\n",
       " <Group title:\"Esri Boundary Layers\" owner:esri_boundaries>,\n",
       " <Group title:\"Esri Demographic Layers\" owner:esri_demographics>,\n",
       " <Group title:\"grp_Transport_PD_data_sharing\" owner:admin>,\n",
       " <Group title:\"Living Atlas\" owner:esri_livingatlas>,\n",
       " <Group title:\"Living Atlas Analysis Layers\" owner:esri_livingatlas>,\n",
       " <Group title:\"Navigator Maps\" owner:esri_nav>,\n",
       " <Group title:\"Traffic incident analysis\" owner:admin>]"
      ]
     },
     "execution_count": 12,
     "metadata": {},
     "output_type": "execute_result"
    }
   ],
   "source": [
    "#get the list of groups in the GIS and select one of the groups\n",
    "gis.groups.search()"
   ]
  },
  {
   "cell_type": "code",
   "execution_count": 13,
   "metadata": {},
   "outputs": [
    {
     "data": {
      "text/html": [
       "<div class=\"9item_container\" style=\"height: auto; overflow: hidden; border: 1px solid #cfcfcf; border-radius: 2px; background: #f6fafa; line-height: 1.21429em; padding: 10px;\">\n",
       "                    <div class=\"item_left\" style=\"width: 210px; float: left;\">\n",
       "                       <a href='https://dev005219.esri.com/portal//home/group.html?id=ee1b101fef7b4fa483c66c54971c6005' target='_blank'>\n",
       "                        <img src='data:image/png;base64,iVBORw0KGgoAAAANSUhEUgAAAJYAAACWCAYAAAA8AXHiAACAAElEQVR42ux9B3xcV5216RBY+kKWEEroEEILZQmhh06Ck9AJEEpgaZsQIAkJJCGQ4iR23C33bvU66rLkbtmWLKuX6b33Xs937n1P0kiWo1F2v+/b4vHv+o1m3sy8d9+553/+5d63bNnFxwUfDzzwwPPvueeet991113/YDvLVst2w+233/5yvvfsiz108bGkR1lZ2fP+9Kc/XU0QPcbtSbbdd99995fYfsLXOtjq+NqP2F53sbcuPkp6ECwfI3C2s51h20DGuva3v/3tC6bf//Of//xavnaLABdbN9uvyV4vv9hzFx8XAtS7CJIdbGYBKALoSmEKL7D7s371q1+95I9//ONNKoP1k81+xv2fe7EnLz4kQO688843ElQPq4ASLPS+6TcBPMsI4wsnk45rR+LeraPx8IMDyeCb+Pqzi3TYcwmqH/Nz5/g9J4QG42svFN99sXv/94nyZxMA7yEg7uf2NFsNGeqLxfvsdrlePBixXBvOGTcCugDgQgIWeLPGsWDe+O/A1BXzAPYSAut2tiP8vip+9/I77rjjlRd7+3/Jgxf9vbzoDxMAh9i28/kXik2eAAtguC6ZN+0O5cwuwM6XTGwGNiObVTwvsA0D5vtHo+Z3F38/Afov/I2fs9ULL5K/cQvbP13s+f+hj3vvvfdyXuiVbGNsm4RIV03WsllQ6T9H8FSwBRTwmFQwGYuANb01oQBT+ljQZTpr1j5qOdvxumITKkQ+Qft9VeAf5e/dLF6/eCX+hzz+8Ic/vIYX+AE2Ey+whh7dNXP3wLMIlPcTKNVsybnsNL8Vg0s0Pfw5G0bTfgwmPNZzMc9dQyHzK+aZXWEif8XfHmdr43F8/mIM7L+vhnrufffd9zZeyD8LDcUL20FAXT8HTo6ySwZ9gx915uzr8jBGFBNnugCAjBf4e/o1nfpZOyIFy2ggb/pNEvo3AJXPKQ5T0Iu8j8czxFbN4/mKCLRevFr/jTQUgfQot8fZDvACfq04DsWr/5ysR3Ntylq/ZcrT5/DCw5csF2CphUBlWOC94n2mv8twmu0P1GFXFB8fGesKHtefVI3XwL+/e1GD/deOQ71ORMp5oYTJOUCG+AyZ66XF+ximjn8yaK7bnXVqPHFbS0EXGII/ay+RpRZiqqcDmzSpaW4p8vV3A9qXzvNK38D2Wx7vMW67uL3p4lX8L/QgG72UF+UOtkGCS0NN9dnbbrvteXNFOd6WSed2mScPxyK2GuQcDYWwvRmjoSmECrZFgLMQcxkXYa9iwJlUJ0A/wfd+WRxDE//deeedr+ax3ymOn62BIPv4N7/5zedcvLL/Hx6i4wmi14toNy/ESTX6/fXioCSv5HOB9HuRxYoCCtFcpgDHVCfijlpkHPXwOZsxEjEgBpsU4RdmosVAZVzENE4/N7OJ3zIO8PUf8vmr5jOuGqg9x7aZgPvERRP5//BBUf4Odvhf2Pk9ajL4xgduu+2S6fd7eh54rt9l/Fg2m32iUMiLqykfPo+HwGpCxt2IjL0BLudBTMXNSM/RV4uBxVCi/jI+DfvN/N5BAvpWOg2XFZ/f73//+7fznO5XwxT7xIARnuXFK/9/T0O9np38CNuI8KpEYJNtjmsPd9O/urQNmz0uqyWXz/PiFZDPka/4zGmzwqWrRMGjQcraBJPrBKzp4uDn03l/SzGVF4p7zd9HYN4Q5/NT3P6WGuyfixn53nvvfaMq8gd4nkfohNxYWVl50UT+Zz2EBmEH38cO1nHbwu11IlI+HWwElj0r6qx/d9LWUpZxNQQ9hmZ4fe5CvkBQ5XMSWAJiTus4/IYq5GgCk7ZGTLlPwZ6xPw1YFothlcJQhkXYT74movg5tiG2nwOOS4pFvojkqwytZzvI9omLqPiPaSjh5f1cTeweZftOsSjnFXmec7z1TQmb5om4syGM0EGkqZ2c+oMIhkKSpfJkLeIL6SwNkP4E4gRU2qlB3K7BhH8Q7px9Ec/OcAFALSboSxX4xnkm0qSGKYw30ETOyTP+8Y9/fIuaORCMvZUs9qH5mYOLj6ePlL9ZJHNVQd4oap+KNYYAFNu7PR7HQ85JjQGhdqQ9LUg5WhC31sKuP4ZEIi4BJRhLPOLxFIzj3ci6mpC21yNCj3A8PDnPIywlpGBYgv4yLJHJprd2FWTGDkD37fkiX5TzqGGVQyrAPn9bkca8+Jj34Ii8lIC6l53Vx84Skenr5xfQBdyBq9jja9i0DpsRfn0Tsu4GxGneMg4NopYaOOh0pVNpCahcTgFWNBqFebyLwKonsOoQsrdiLGZGYkGP0FgigAwlst0zCWVMJ7tFRsBwlKd7C+CZGVyVld98Dvvn3eynv7H1iYQ3++9LF1E0l6FeLEQqm1bVEF8U2qI4YQv3viv0k80ro7GYN0dXT4DFaZlEQFdPYDUhau+kiWtG0FwLm3kYado+YQZzObkr/D43bFMtBFYDzWUdPPQIJ+MWZEuOuBtL0F7GEvSUocSwxZzXhQYTOcxjbN/jCy8qYu9nEVhvEjX5HJRWVYN+5H8tmARwhEcnCuTYRD1UHzvk+8WBQZFnizo070o66h5KOMpNDsNhpBJJqZ2ymRzsupM0fVXIeKqRomnL2Wvg09fDbTcQUAVVXxUksGwWLZyGamQdFO5kLJPrOMyp+eUwi4UJSgk5lMp8hkWAeSENJrb6Th73l4sZTA3DvIV9uFEdoJtEweLTVMD+zwwbEEy/5Il3imw///6piJ4X7xMMxt7nc+kfdplOmrzWw7BrO2Ce6kMmlZJASdHUGbR9cOjb4dRq4DF1wGeog3W8DZGAR+5TKCjgEg+LcQReUxWBpaEWa8CEux/2nHMJIQXDIkK+FDNoeAZxsoW+3zqdKmoiyG7iay+fp8E+yD5drxYwbhI1+/+jRb5aviJSL6LCslbkxkQoYW7qJf1OSu5H8vmCsZAvIJfNIhGPUiMFEY/FkM1lkSvk2ApIppN8L8zXQ4jw/YDPCo/biFgypgj3gsJYJC+YdQOIWMsJrFYkHE0Y9g7DnXfN01fGEk3dUkxiKWK+FI/xvDTRNMCibD36tONGBzAj4IX3LLxGAmwFm5gUcoDbz/2PAtQdd9zxIp7U70Q9kki48vk3xESE4n1IRFeEw/G/J9MFH2VRroC5D2IMBRHolHGpnNROQmmJNI34W4lUSZ7ihxVtVcgowj0Sz5LxjiHlrJaeY0jkCIOTiBTsi7BIKbrI8AwBWGrVxGJeKc0+nw/HnZlY1t2JnPd6FNV6Ccmhzot8in1v4baSA/yq/7ZgEqKSJ3WJKAlRvbxhbv9NCPWifYRAvzwcDP51crTT5KB0MIx3wzBxFFbjOXgcOvg8FgRo2lKZFHJ5IcjTqiinzsomJCMJwEEAiVsBKBFxz+czYgcllRMIwjrWiAJFftLeCL+9A+MxEzLKiC/RY3s6U1hKCGEpAdZScpOzr4fyZgzEyL4FD8/bB+1kT51J1/JZoOe5xQ4QTeT7eR0q1Ukja+hFvm1+sv6/9EMUtAkhLqo1BUNxxNw+z+Q9K+R2X0GA3MMTHw173XBp65H31dBjq0XCWoeIuR5BaiavlkJ7pBOhgFuK9hwBIxhK/CHMYVZsBaPNcptkr3whh2nWcznNcOtapPeYtDfB6ejGRMJRJIYNSzBriwFxKZ6hcYmR+4UrWJ0ZC8bibp61h9LACr22G1Z9UyztatlLZ+VL3omGOYlsXpdPCoDxGvUTXI+xvf+/9LQ1MSOFB/lrtfy2QUwiELGpOSbPXHOFS9f0UNBnHy0oKTy4HBZ6c80yFJC0tyPlaqHZUuJTSWcd3MbDiEdDEiTZQoZA4r8M+cY8Abd1hMymhddlRsjnRjQcoeZKUtznkErm4HY74Zjqll5jSgh3MpbJeQz6lANz69lLBY2hxPeMJXp6pcbOLvSaHtqEDeakh53pQTisx9hoM3wWDam6lQNVE4jbm+tTrqavQ9syU+woZnqL1JAq8k+JagoxB+C/nIbigf1CPcCDYhKnGticoeGE7+BlaafmL/TIrC5Dey4cVDy3VDYFi7kPUbtItZCtuE2QVRIEQsbZgjDZy2Y4hWQyqfCRGklPhkOwjCo5v4ipHgFjA7x6DVy6NtimOmGZ7OH2CBy6LglSEbtK2FuQsdVj0jsAe9ZVAmiWElEvBZz6olYqIy32GwaMkH1dKTefeykdRjE60oyQlQOT551yNtNZYT85mpNJh6Y5adN8Zl7Y54W0KO9UATbFtqt4XuX/j8ez1EkCN/JAetkmRAih2K0VJcC28a5XhUzVf0y6GowFbzcvrki5HCWzhCVAEsk07LqjZBOaKTJKwqYRnSA7I+3SIGyug91wDql0VvX0FN0UDPphn2yQrCYCo+KzYv+Mq0kyX87TKN/LOBvkdwmgJrhPxl6HQf84fHAXeYSGEvN+pZiqhd7Xw5q2YSTphCFlgyNrRZS6KE/GzBfYuH+B+xVmwGcoOdGdLRBYcRdCKS//DsFpOY3RQREwbhZsxfPWyL5JioHqahWsneVrezOO5qtHRyufX6zBBKB4Pau4FYHWNSK19v900gcR/s/80eUijydYioC6q1hDiYNle0MskbrdONIzggBPyt0sPbKYrQEOwUCJpJpqCZNZDnJkqR2gjC4JAvF30EgWsk0gIwS6iEvRFMqou80An7GJndWogMauAtLerAJJI7+juKVkBzdhMKBFFI4FQg2lxJsMJUbVDTOmKpQz4UzECyvNlSnhgS7uwVTSh1MeA3pdWpwLGDFJbWSmeXak7QhkbASeBXFqwBTBl5PlNaYFJ3D4c2aMxoVzIwZKAFbTCUyOkJ3J9umi/pxugsEQ6BR9G2YrSzqaPuHx9Lxkngb7Mq9pszqz++9iYu//1YpWUc0ogpmiPluYPBFCENPTi/fxWMfels9n7+NZDgbpjbl03ch6aqXGEVUFIWsDXOZhZNKKSfN5bdxHpGOaVGDNjjJhFj3aNgR9NinOpVdYUD5nNYwgRPOXcdWDGkLtOI0KSPVv+9y/0/w+n6OTHqFgC0sRO5RaX7WUXKBxhq0cGTPFtY/H76Tn6uSJOJGMWTAy0oqJMQ3Mug7o2SbYV8Nk87Om0zjjGCToxnDGq8VQyISJmI1aygETwefh90TgpFdrgynnwmTCx/MJcOAFYdQfgXGiDkmXoimnB9zMgLUrr6X4fs7TJvrHRTariFHk9/WVPW9emu2rIv6llkyvFiL/P72EhT/wQxHJVeNQtwqGKqZJxBpeaxvT/MXnsemog2QG2GUzw2NokNopbaeQJLv4zGQgux5ZBR9w27XwGZqkGROjTIJLNW1xspuTGikcdEszmMtmlMI9Prfq+2gmqzkqG6V2mma7GaYqAtV052bt9bA4jmAi5VqCOSs1/nShUIIelgw9tYQXuZwb6aw4Fx8Hyzi1UD38thbk3C2SSeNCWzqUkp6otRFBesYecwtspjYYjQSeoQsjxiPot/fjlHsUJ7w6HPIaMUwLYDeegsnSj9HRNg66ZsUBmu4HMfDszXP6ZNoqpNQt3/Oz1SacTR+Zp8EuUb3InbzuU2xrRfnOfzSf93xRpamWrwha/M381EDQWPfylLvxV0lHrclr6kYoGIKanoPdNEJzVUHQtCoX31YLl75DJoSnH27rKELmGmkK4w6lA6bZR9ROOY3HEIuEIfLOMjYlBH8iC+tUD6IOAaxW2TnJotGZuMBIzdkboHWehD7jmsdWhhKeLzV3OLvVpuxwJl3I5xxIk2EKhTDcjgGMDDcgRGBlXIoOTE4PELvShHZMU3tm2HJuDbIcRBn2YcZWh7SlFhEzHRZLMwIGDZyTZL4pDazaJgQsiuyYPf8iQM3IBo0iGYoGXtolAK6J8flGkaMtnhOpWqyPCROpBlofnO/xL/rgh14mFhlTy3/FZM8/zk+9JGwtr6eH8SOOhoGcr4UH2ECtdIjaKarEv/PCXJ3iydfSO2lRO64eDv1BhEN+xbNL5WAz9kqTJ0xlXAp4bm1NEiwxejZ2Yx9SqbkeYdAXhHWcDCjCETJFo5lD83N12uzros59zHMODpkj1C9xYqphkeDpwp/LFYwYTTgRpNeWyTiQzbuRpR4yGo5BO9aIqLNFOi5xydYt551HMdtIjeSaBp8CuKyzUakxY0u52+T7aQ7IpMp8xX0xp2/sczXtjAZjQ7BLvB9gezxtbb0K1soXzcPHDWqet5/tbhFofVoNJuyqGimvUcMGf7rvvvveXLwP2eUKdsS/84RPJp2abN7brnhvpgZ6e70EQUJJo8RSME618+QbVbqlyeIJ2430CGMRuU84moBZ28V9aC7t7YjTVKacolPYUc5WRIXZtAjhrkRA83mFCn0uMSmiDnl6fnGa2Di/G742yII/MdJF5/A5Am2yA8UWkQ4ZahgLC0AJj9Q9PWOmCAwiEu8qem8hr9GstoXNnvL6dPBVjziBNZJwIZb2IJ2xE1ji+/0IG7thmBLH1kEPpk05fl/rbPO3zRx/sRkTAzTGv7Me7hPpJAg65Ht5bwu/h+fsb+X7TernisC0oClsnuPcTLObaBl3q2z8jCnjaN+UdbdcU1xvL1JyIiLAJrBySswuIvm8e36kXNRUf0M1eaN8fufvf//7y+doKOCV5smTD0StdaP84ZQSxFQOTAjvgLlJmrVsRgkHeH0eWCYaefGVExSxpIiVjGU6i7Qq3GXIQNsiRXXK0SZZT9FYLYrQN2ngcVhldL2Qy8ukshDxHrsZAWMNT1xoEn6Ov3FmrAY1ZyqQoCj1sxMrTx1Ax0AVst5WtA5WYdOxffI4+sNmPHSqG48cbcJUcFSCSXHzHZgMjOKhIxr8ubsJpvCY8D1VkMyCLZzVI5mfnu0sXvMUJYQ9SGbtaDX0Ytw3rIIzAGcuTK/NRY3lQibrwr7RU3jq4H6ydCv6KLT3ndiH0+O1OD5SzVaDY2zdfF7ZV8FzbFEGCQdGnucmWKjArc5QhycP7kFzfyUKfH+CWvbh1u04NVZFcJ3vuBTrzjnbaTa0N8/RozPvucW1aS9k7M3utKdml0XffPUCDt116rpiUySmR9VI/kvEm2Imbk4VaNMrpqgTFfAKtjuT6ZzOpuvOJ+xNhfkUmnI2wG3UkEnovam5Fa9Dj4CO9EyvTdpvgtBPxnCap5BTpBI8LiOF+6wXqMRdROcJYNEjNFI/+H1KKkckmkUKh7g1a/tlPEwAO8tOdlN/fH7TGlz6hwfRyQ4e5+tXPvwYXrricXhpVl+5ZiWW3f0gzura8IG9O/Cydevxgc1b8M61q3DSOSwDi2c9Q7hs1Upcs2c7Prp3G57z6Ar0u4YwGZpAq6kXJ239cMa1+ErVbtx9pBGxnBHt+hNoNZ7k8Vlgjo6iw9qHPeMn8NmaPdg9dhKxrIXb4zji1CNdCEiQJQms565ciZffcz9slib8ZO8GvPGuv+Pert34Y/su/LB2K26sKMN1BzbhFeueQi7aifZzVajrPYCAVYmmi4Hzk/ptePP6p/AGtjIOovftXI9XPPEEXrJ6JbT6RrnfHMA4NOd5hokFTOGMBy2sBlvKrqTBuG8haW8t5F2NiZC+aePEmYZ3LFAB/BXiZ5BY8ouAubCZZr5warpuWsShrKNbX2kzjP0wk8kMSLMVicIy3i7t+VxgaSSwHPougsA7U4lg1g9QI2kUr00CqwleYwt8buvMPjbzBD0filc11CDEo9QFMqbVSM3WTj0WnqmtksI9nYdx8jjfr5VeT4GmuO3sAVy6YTU+s3sD7u3YCYe5EddsWycB9YfWHXjxk0/gzWWr8af23XjZmjU0rSZpDg0ROhfJKclIyxvKcU3FDqTzAgAxfHT/DtxQvw8f2r0VL3zscbxl4zr8uL0GH+T2+srdePhMG967czOWPfh3bBnuxh09jQTvX3Fd3V7c3FSOTUPdWF63D698YiVe8eQqVE6c4TlHEE85CIKtuOShh3F7yw68Z/MavIcA//vB3bizeQd+p9mOXzZuxQ/qtuIb1ZvxWPduLPvHo3jT+tX4S+duaTIzHExpMtlj3Xvw9rI1+GvbTnxo+zp42Xfv3LIO247vkyxXzEIX0lQCNCLNlZYDWzxvkJkPv6OD1qKL207pVKVICkmphQnuoMiK1IVCxqZHArr2K7VFqSLi6DNqkvuHYpGKUbbaadMHn+ZdXn1dk9M2MVO94va4YZ9sRt6ppEZm4iE8oJi1jvrqOOKxuAwHZNJUGlO9PPA6eoJiZAjxTjOoE8nkoFKLTvtmN48gbG6SM2uEYOeIQMypAFUAzKYTOcKEKtwVKoxEI7DqD7Nz63iyPOFQJ64v34hlf38M/8LR+0FeqAqaxO/WbMHH92zE8x59HJ/cuxEf37kO9xyswPNXrcOIbxD6sBFrB7owGRyTjPWzjlq8Y8tG2GJGmjs7ruTzW9uq8OVqwT6Hsaq/Ez9qrcKNbE2mU3iyrwO38f0ryzbg9kMN+PXBOtzYWI5wyoYvVu/GF2t247PlO3EubsO1+/bhu/UHEM3EEY47cPXOMnyEx/MCHtuVHACf3rcJvyeoftGwjaDahp/Xb8V3arfgcwfKsJdMddWWtbh2x3rcWr0FBU8LghyAh2j6m2niP7prPT7NAfUBAuskzeobN67G/pMHJLAUVipiqGKngNckTxBF2e9BazPC7Eu78xAmfecwGjFAn7DCnLTAEDdjNGrCaFgnU2FWxxH4eP3zrlqaHFHm3aSjplsdsrS8RWWtT4ksjNBfy9Q6qYbpMla4627ijvB7bFBLxuF2WuHRNiBH05awF5tBkXaphd3Qj1RSmcAQCyckKET9kwCL0Exxmi7r5GFEIjHFI0ykpMcnQCkYK66edNyheElhC4W+eYCeFOZMinC7HQQomdNZC+E4dA3V4zkrVmArO7NpshZXb1+LD/EifHV/Gf7WuQuXrHwCDx/chdeuXkGT1k9gNOFFKx7Fq596Cp/Yvx3G8KTUStbYJD+7meZlLS5ftxrv2roR4/5RvG/3Fmwb6cE/etvwq4P1+EbDflx7YCcZbSfevb0Ml6x+Cj/vqJGgu6mxAq64BdcSUA/1tuDbTQfImmvxqtVrUDPVxyEXg48a73VryD4du/AyHsP3OACur9iMW+u24GcE1k9p4n7E15ZXbcY1HBDbqL/euGk1riRgBIgKZKwgwSUGzmueWonXkO3W8tw/vX8jXkPTL4Dl5GCFt3VORiJZFMqRnp+thpq4A8MhLYajZgzRqTGl7IjkbUhBSTcVoKSb0vw7SXMfydlgyzowxP1HKB1cjoPUe43CM82IJLfKWEJv6cQiczPAossogZV2VC73GNoQUk1bhrzlMk0gYqqTHpsCLI0q3BtlBNxJ7y2tRj3dThtFeT09lzoCht6eU3iEwms8Q1OghA5CwSBsWjEPsHqGqZKyuqGVTEQqFjlCq1bGxJQYloJwh80Al17kBPk5VytMhmYMUfjmXS1Sbzl4LAP8e4JeY8DahAltHXwE6dBELc4GppChuz/o7kO//TQSuWkvTy/Fd65gQq/1FE5YTnE/M/+2QhccRiQ9BV9iUjZHbAxjvgG4+fyE9TSGPOdgiYzBHh2DMzYhwwtmmthIWgtrQo8D2nPQBww8By8vlBeBsBZtvbWwGJoowGthZp8a9A2UDnQYeF5GYxP0hkbo+NoEW97ThsNDVeigkI+xv3McpFlqyBABc3ygEuM8ryy9Rz9lx5Ez5bxO1FfulvN11cxzOgPWahjsRzGQEKU2wnnRq7nKxWcriX3ybIGCA4P0dgXD8bvjOVvDVxcFVsRUs9xtOIRIWDFbgojMU6dkKOC8EUC769VRmHsss/VPdh08+lpZ/xQTjEW9FOQJuyyjUAPuCPrdZJ5WORUrwY6Ku5pkyXBKxHNI0T5DK8W9eY4ZFOlCq3mYukyEIxRzWXC3SRc7pbrPwlRId53ud45Ak8/JiHnudy5mVb03h+rxWeaFCsxFXuD0JAub+txS1GxF3+NQn1umS4VnPhPn3yL5EqVwT2ecZH8fR/kg7CMNiNh4nEE2D9lFHLMIH8gtNYy3WTKOOAcxgGW4hE0Mnrgan8qInF+wXYYlhNwoTHuPHhFumO/5qSELoUltHHQcWFMZn3pepZRmL5yViHLgjUZ1dMpa4zDVLA4s91g9gXUSyWRcAVY8R3Y5QoaokQHJORFdMpFL10EGUthNZF2shgGpqcTJRIQO4nM/R6PdOjkTPPW5zfCZGhVxL1I4pNSkjfRN8Kbp5bm1nbJyVAGWAtlYKgMjtZwQl2kCMEaGk0C0aaZLQxRzWiRWEzKV0wCbtROD8VJm5ZRSZ1UMRsMFW7pgkNUMI3EnRhNK4nkizL+do5hw9ENr7CXjHoPDdBBukwYB9kfCTCtAhk1bOTAJghz7I+PSKNUfM+c0HSaYr5+aZ4KiC2YfJLBqMOw+B1fesUCQuJRa/NnX/Fkrv0vkbBtjOWv1VxYFlmOMjGU8jbQ6IyYUCMsap5TUV20ypyXzWmSCmE1E048gphbixaIZstsROSVLaKuEq02WrrjJTh7VIxSend00LONa0xl4EUCVUXR2ZIqj2DrZjWhMAXZerYCPxBIwTXXz+xpl+iOu1hvNDSDOCwiKaWG2OuidJzCVcj6DOivDEjv8fNMhAJZgi+WNiBTMCPKiuukgmNNOTNKcDIbtNNNmDPiMGHCOo990BsPGY9CZjlCHtsNNMxkm6DLWRgKjHvlpwLk1Mv86U3Jkb5wJeiYd54cURF/kaQZH3GdlIru0GUoXrgPzZS04HXZiwKWPDTknv6KK9y9cEFjD/fXLLaZz9NymNZOR5q6JmqlaBiVFVFykYDJiSjtFvs04jKQ68zgcisI51SUBExcMRMpPE5BWYyciISXiHk9mpHCPW6drqchqBEqMABRBQ+Fpmo1kzHRBliDnVeEuQg9OXbtMX8gOs83WWc10ov38WA1s7EwvTVDevcRUTakVDIYSqz/nfr+iVwxSswiRnCLoAgU73AUXLHkvxpIenAjacMxjximvEb3mIZzS92LUdJxash0+bY1MVCfUuF9CLWacBllyhtVUUNnr4eU1GYyYqZuXem4LA480Am/OEnPmrIsDKxJJLE+mU3Kalax9clhhGushYFp4YUU8qk6aOBGbilnqqKnUtItItxCEfoMAXataKkPQuOthFHnEpBKVF9O4XASOqF5IOptmKFvkCuUsGpEjtAwpHqmoX1ZNocdpgdfQInVdcZR4fl5wNjWhvCeAddY3jiAWSj4vZXJDqTVahkVzi3le2FhGJKVtUjgn6W2JqD0K81NESlRflMik834EC35MZP3oC7vh8mnp+g/Aqe+UEfq8X6OsXyHCQSIr4m9HmNosLDQo9VtBMvdxWKj38jPfrRxzls5KnL+fyVuQylllAaLyvqlo2UvTjJQo8DVxvLGsi46KPRZOlQAsfnK5oArhjWV5dQUcsukcYuEYAn4P/F4rRSi9HtNZGHTHZE0VFHKhtzNM6q5FxF7Li1pNlmuSAU+TnqZVITWpx1yGToKgQR1dReDgvh56Sx6nSdVXGRnNz8kp9WN0AhpmKiIT8wK15yehlQiy0IFngzq6zLYLlAU/k8moz2Ral3EmJ2ml5/iV/dux4gQvfNaMuzXleKitCqGMGamMlaAzS4cgTxaL58liMR1+21WFI8JjpUugzQQQRQqxhA0xUzfOjtVg7bG9spw7R0fFQu/4OxWbccO+jfhmRRkeO7gbQVHmHaQZlJLALI8jmjJJB2TMN4jfH2lEPTXsw720QlEtr72NIFMclkzehGTBQvAp4HLFtbizqxY3Vu3BzQ37Y1+q2L04sHK53HIxhUowRSGXIXOk1NkvBfm/fM5Nltonk1Hm+AlFLnJ6AZEjNPTBqj8hZy+76d2ZedJO27gaOuA+9CB9pia1onMWUEKTiZyiYEWf26XMEcyl5WdEBanLPICIpW5WnM6JImvOz3U5FPp32zowHLPi/JsBlKKXljq9vpQyZwp47zks++tDuHLDOmgIllf+/WHcsL0M7eY+/LylGv96YAd6rH1Yc+4grt1Whu+3VOHjfO22g3X4eXcTtk0NY2X/MXx8706U9VTgB9VbsezPD2HriXIK3S4ZZrlk1Up8bM9GfOlAGb6wewNq+8vxrYoduHr/Lhyn8/A9gvkDG9aibLAHA55z+FztXjx6ph3fbipHKzX2L1qr8eWaPdR+oyifPIpP7SjDt5oOSFBOBbR4y+YN+HrtATx4qjN2TcWOUhkLs9PU5Xy93MxaCHLeXk5dKS+nxJhy+dn383JeXw7xRAqRSISgMiMWiShFeqQ/h2kStslKAqmcHo8SllBqjyhGPXVwGg6SwqMzjCU+l0hQlxnoEZLOk/bzC/lmnhd5RMJDApnTaDuM0ZT7adiqdF30zMzf/P1sGKTmu6xsA97Ei/Pu7Ztxydo1+L6mAm2mXtx3RINXP7UKN/LCf756Dz69ZxuGfFP41G6C584/47aj3Vg/NoB3bN6Ezx3YjdeuX41vVm/HmzY+BY/IJ9IE6nQNeB1fv3ztU3j7htX41v6NWNWzHS9fvQb11M/X1+3BZyp2YdQ/gucSgD/trMXn6/Zhw2A3ftZejU+U75Tvv3XTenyxZi9+wfev3rpxJnFvCk/hX/dux7IVK3DJYytiL7j/oWJgaRcEls9tXR70+aiFUsikM8qqeCpoBGflCsprBaHBRLmwBF1BeX8GWPPmMouyF34uS6CEI2FqqHFYJo/Dqu2GXd9CzSWEaAMZqZGvUzNk0up3KbosFApw3y4Z40pdsL7o/GRqgcAat5+EIXOhyROGErVUKQArdaqYHWdcZ3E1AXMjL+alj66Q6aCfdtTg+sYD+AEZ4yO7tuI7LZW4tnIXfnOU+jMTxnu2b8KLnngCX9M04J6TPXjX1k24+cBO/KJ+B37XsguXb16NhLtV5hPHpurwWoJq5fF9OKarw9u3rMWn9qzGq3dshT0RwvUEy7f5W66YEc8iiG9prcJXG/Zjw1A3fsDf/eCerRJct/BYHultw3Lu+0uyJb9cMtZkYAwf3rcd9/O9f++oiS27574SgKVrWu6hOXLpWmEzHKK9Psl2Dm67nkzio9YKIh6PyYU50hmawLyir6ZNnQKwnKxRl2stQAFmXug1OZFUAZ2woIlEVkbhfT4HvE49vZ1zBN2U/E5IC6vWYAXsFKltsnYrMa9adE5piENT9L5G1mCNkOa9F3SvS53RXIqXVEq5s7Kox7h/GN8lQx0YPyzN3JP9HXjkVBvuP9GCHzdV4JP7duCeYxrJJP+geYpT6N/aXoV9U8fx2x4N/nbyIP58tB3XkO0e7NiDo6N1uGbNSqw9QlMV7SC7N+Dr1FdXkbXetnE1HmjbiYrT+/CZ8s0YFzX0wQlcu28r3lu2Dvcea0G/+xy+T41XPnkEj59uQ73uBH7aXIlrynegy3waj55ux308HmVRODPMkUncQgBWTJ6GJWKI7RjqXhxYOXfT8rRalZiw18l8XtRSjwiFs99IwOmbKb67CLqj1FO9BIKWYtsm9VU8Gpdxquma9un1FArIyqlbivnMKS2vKv6ZfZRgqDC16UJOslVBsh/gdhngNwtgNavzDufGrOZsiwW9tR79/inKXOsSJpcuxTtc6tJFircnvK4kRXuBFymdt8gUUjavCGpfXI9Q0kiPkfvkzFI4C88xxecJCmhTxotYPohMworR8S54jBoZqQ+5NAjZlVp30eL0FEOUGAGxKJ2I5Lsb4Xd2YSShZCCSWQs8UZ2aMTBLYZ7NCw9RyTREUkZ4Ewb5nqgISedmg8sFerXieJRJKWbqFuuX1erSL15YvFtrlues1RS+tXIeXpYskXM0Ik3vKm0j4GyqWHaKCRANEnwBYy3sU02wTnXCPHUMJm0/HLYJ+PxOuZpeJj0PaIXcjMmc1mT5nABeRgJKvCbZjk2sH+owDiMqSjccLfM8QM1ctrIXz8ppQtjahP6QSdZMlV5ybPwPAmspnqRxnju/0PPZfcK8uOMJD8EYQiJsgHasHV46QhlZFaJOoJieKOFUpnul1XJmIQtszkMYTzpoQwwLfv+Fj8k4b3VpQ1GqS6x4o1scWP1B0/KzIQNGAuOYdPVB7zgGq+MwXPaDsrwiSyDlbTXIW0Vhf4Mse8m6GpF3aySjyHJkvu831hFsGuinWmGcPAyrrg9OuxahSIhgyc5osoJqFnPTABNbuphibqpY+VjUxjtEfZdNFPfVnF8VWZTqKGasHD1Cl70To3HbvJsvlXLrklInrhoXWShkKeuRLp5K8tP9n5AzfvwIescwMdoMv0WdnDovyj4bNNbIgr0cr9u48wTMabsaxyp12aanG1Qy31gasHgZl6fgQBhOuHJ2Uq8DurQTuqQdE1EDhoJTGA6OS49C5z0Do7tXTqty2rpkkFPOEXS20dtrRc5NIIq8oa0KYXMV3Np6OCdb4dDRjOoH4bROyLhYJOyTk1cTiQSymYyMnwmwZQgwj9sAj75L5hLjRTObzwuOOoq9wxbKgRroOCh0Gdd/YDJqqR38H2Gz0n4nVzDAkrLDnPRTSnhht56BfrwREXvreQNNMpbIqZLlffZ2Xp9jst88NJXDZDqR58uXPICebmCYS2csonD5wj8mZuVakBSBNYq4UMHOEWSHO2ODM23DOF36Ic+QXClGrKkgKhNFcFJMnkyotCzqtzKyCrWe2q0WcVMNovpqRKboFeqa4TV2k51OwGYcIuj0sOop5g1iJk4NO4xbOQevWZbvKCzVNFMOooxMjVpKq0TcR52nYc25F5mcalwim5Ti+ZW0tuiSqglEzlGskuNMBzj4nNDrj8I01TAzH3M2tdUsnRyR2ZjynMVkXNRRuTEZ1pLB6YGT4fos5zCccM9bU+KZDCpZdhQhsL5UIrCMT1MJcP6dRsVzb8GBfs8UnKZDcND8xWk2cwJE6iSA5JyQgJi6pIHNdRwjzpPQ2Q7BSlPrkZ0jTG0lTW05dV4FCg7qPUednBcoIulJpwDadGtBTM5caVUqL+ytM5WtQh8O0yP0z2TyS/HwlrL0Y6khiqW8fuHfT4mpZEkXfBkPhbsduqkjMGsb5ATf2RBMs5wWFrfx3ANjcOXdKjOJvJ4F+qQVA0EDzviN6Aj6SQZOWNNWBGliczPXW3+BCo4LMdYssMTKzSUAaykLghl4gBYY0n4eYAJBjw7mCY2cipR0KhNSE0UR8zwvutfWhr6YE2bSupFtIu3BaMKGcxET+gNaDPlHMe7ul+bM6iDoCJoImTDjqEWBbJS31iBHr0+U5SScYqp9PaKiVJojOEO2DNs0NNtaZArWElflK3Wll6WsYWV8hox2Psji9BrHyDLJvBdRmrOJ8XY4jer0uul5h+L86WCdI3iicxY+Mc4T3UZE6dUZUzZMpRw4l3DxWrjQH3fLAr6JJK8LLZGbnmM8Z54pBCzIG37q592+WADL+J8NrOnyEAN0tP8esepJwQe7YwATIzUIiWS0s50mcW7MqUBgmW3d0CZtqpDUzhTbiarGlLhTKTWeO++kxnNiKu3CJL2ZsagJg6FJjIYmMOEfgsF9SnUsuhB0tJHRGmTLUei7ra0YjFrkUoqlr0FViohdakXAUtbXWhjkon99ObHAGvs374HfM4qJMSHcldk0MwufCE+Y5u5cdLoYcfY7BOPF8ya5VVhMV9SUCot0wYQQf8dGaaMn6CYJupGUS4JtJOGkR+kiedjhyli5nxnBgg1DMWekK+xfCrBMJS/Xk+TBjvHHwxlSb9YDvfYE9JMNiIgZus6GuTNE7ErgUuc+DXvGViQiF14CqPj3hcYTi/5H6FyIEhNPzsFOoINB52IoTgDaziBoIIhNtTBZunghrEWu9VLKYZ7ZWlXTmf8E+yMpL6BhAR1TytJHc79XDD4b+0qX8NF9dsHpOAvthFgHSyPDKonpGjShrygZRuhYBeUaqzq51JGd5m6U+myITDTKJhjJwtcctDK+rFkCLleYPs5ZsEGylHIu0ZwJAYLJSeEvrpuZ4Jvk9R6KuSKjMU+pwFqKPtAjlDdinMCK06Sl6T1OTfZIYZlytirFfM6WOVOOxKycEd8oUW99hisPz90KVjLSezWIJX1iFrJXHwZMZwg4W9HFLfVuE6WkbBY+TmEuxGg+HfMQ6G5ZyGdOO2DP0qzkbAjTLGdn7pmjX6AtdL5uyT5jlAlWOki5jB1a3TFMTTRJnZmyT09GUdcJo2g/452AhQB0EzRn4w7p0Yu5kKmCHgleKxG2sBNUYmXDs2QifZZeOWKIy5qJAK+nVQJy4UpZ/VyHrqCPZJdmCk0lmgjRmWZM0f6nEUQ4pMPoYDOcZlF33iJPPOGcXZdAzHwO0TQOByYRy1tKWFB2cX2SYicIraCsbBegxhvBEdMgR+Nid/cqxXSVvjDItOdmS3hQEGY86UV/yI1jHiuOec3o89GU+4wYComB6KC+dEH8C5CBRY18Xu1PFNVL/aqrDq364wStiDJnUMj4kbAcQYamPu9uRSHQCoTbZSpHTCgpeBoJZC/G8lkY5IJs/qLafFdRXb5dZSYzHNERfLlyN161fiN+caQbh6NuWfslpsYp8wMM6tatNoc6C3z6tiyOaa/wy+IuZUvwCp/eOxSehSHhZceE4HGPYGSwAQFbq1ywX1QzxmfWq1KWE3KLlYujRlnj88zWQTfOE7YmKWxDItmcc8NmPoOj1lGOUusS7oljXILXuPDxCICPkQF8KQ/cvKhDZCxTygoLmz5qIKimcMLJ5tLhpEuPI7Yp9FgncIjbE24jnRYLvTYLRqgNHdSWQbLcq9avw/0n27Bq5DS+09qE33U24NaaXXIe4qS+DpuO7sWP67fi6/s3wWJogOZsJb5UW4P7T3fQK+7HjzT78ejJZhwji99/UgN/0oSdY0fweF+HBJcnYcJbt27CJ/btwkMnunBdeRk6TMPYbxjF8spdePC4BpG0GevOHcQP26pkpcOjp1txa2slTvNaD3nHIusHu54JsBaphoSYNGCHMyVGqQ82Wz8m5UyUZhkiEGsyxJyzAlNE7a2OQ1LsZ5QA2zO4W+ncvyO0/yM0PwnqO1IijPpenHZN0IMyl3BTyqWGAC5cICgBThMYp4dr5UBzZKxFpsMkc2siDihuF+wnyzt5UW0xE6xxMhhZrNetw2GHFoddBvR5jei2T+Gd27filz0dePv2Lbh6y1q8a/N6fGz7eryDzx/o2ok3bVyNW+q24keVm/Hx3Rvw/ZrNeMPqtbz4nXj/7q34TlMtrqsqx3U1e3AZP/tIXydeun4tVvS1S3Yf8p7Fs554At02sdxASrLatskBvK5sI0Hcjvfs3Ipfddfjql1b8akDO/Hhvdvxvl1bCN59+FpjOW6oL48se+CRZ8pYxguuWBfPG+RiZgHqqzzt/6T2EAzatpnFQOQkCbu6/pUaXzK4TkjPI/+0xXelVW0W1ML+KV7QLF3xXIKOhP6UXAkvUzBhaaGTZ3IPndn9hUc1Hhf94KGucVPoWkpkSJPUiWmR3BXCnzooJoPPVrxhSxl+dbgdH92/B/e27sf3q3bgXs1u3Fi1BXdotuGqrRvkoicrD+/FK9atxvL963Bjcx10lCSv2rAG688dwS3N9bi58QA2jvTg0nv+iiu3b0I8a5Um0RHT4SWrV+EHmhqUj5/Bl2v24TMaDV67aT1aTSP4bOU+fLR8pyzzWX22C3841Ijf0DxvHOrBB/dvx9U7N0eW3f1AKcDSXUBjLZyp95MthmiGInnaZF5U40gzXLomueCaSPGIGT3K2gBK8C5GJpug16II91IXkr2wJye8GTGLV6zvKfREKjiJXlL9eMyqhhqWMnFiMUF/4Xp5AXAXL9YUHYhMRizh6JGAX3ySxtPdnNyIr9XuxebBTvyovRaPDZyhaerCkz11NIU78NShnbhm13pc8sTjeN7jT6C5vxz3t+/Cj7uapRbaNHgQz37kMby7bD16ncMU5CZ8eNsmbBzsQr7gVuvvbThkOY1/Ibie9/A/8JOOBkkUdx1rxSsefQTv2VEGb3ySx7EPu0YP4+FTbfhHbyvKhg/hjsNN2DlyKPLpyj3T4v0rJTLW4qkL4YqO0309F/fhXNiJY7ZRjNlP0Py1IeRoR1Tc1dRRJ2+OlLVXU3vRHebFDxcsJbLF3OdihonwWPLqrNw0PR0RX7FLYHkR9o/hxORxCmfLvHzYUvKES7/pZY7HYqQZtvA44lmn1HzBnGmJDsJCx2OdqSQQBYvBfBgQy4l7euEyNOGDO9ahordcTtwV6ymMB0YRloJdN1M/NTup1lQk5PUzzpeyn6JHExTllpxHfW3696c/by6auGtW97HNiPdFgKVbPhuhLS2WU5D6glqHIyLGAz8SD6DG48GJkB2DIbOMgA8HJjDqH8YAPbbxqJmUb1ri0oxCS5lxNMLvpdfSF3dhgOJ4OOkgqN2IiWQzR6HbNYSTpgGpYUqf8LDUZPNCS2PrMcrjcaXdCGcd8nkkX5oJffrfmy1fiVLDjfO8E/kgslGTnCw8pqtHwCrWImtB1NqMc9RqWXnB9fPKX+aXysz/XZNSxMfBITRzfoY1TXMi9nPLaaRGLo68L8ZYhgUOYLHRPRuPORjx4UAggkRBAVCc7BRji+QtCOetMsK7dC2j4wlbscsTxH5/AOX+IPax1QeCiKY5CgsuahsHjMYTOGEfk2upl272Sk1MXxggGbKoiF2FKNyDdCJkXC9fasqodD0p409J6ri8BxHXAGKmFo6neuRpDby2DgzEHCUEtxd+L0troGNfeqQJ15UQzJWDN7wEYBmLgnh2NZ7hn7N63SyQpuMjdrlN8YLWB3xoCk7HQUxFB2lYxJV3qHES/XnrpYtthHx4JA+c5l+aaBStsThOZLM4HaEnlnOjwE6fMJzESY+WYDaXsCD/UhnswgMtwfMeIbDE6n2elJvi3SHBVvoEjNICwyKk0U/G7o2FYEkHoTeegc8k1qjYD7ejTd6pYuEZSYv1gRI8FTnDIREyIbhSMwSgL4rGG+YDK0TT+EX1HgClAEuxobvHj+K71bvxnYb9cMXGcM47gD8fb1YDZi6ccp6VS/30WE9h40AbLHSdu9I5DKSCuPe4BsbImFxpJZO3y0rOXF6sxanY73zBKl9P55SFOvaOHcbKM53yeSrn5H7WmbuLWqJj+LcODa6tqcUna2ux1mzGwxMT+M6hoziaiMgF07Iiqa3twZBzELaUEw5qERHWELVlUXpqKfHb7Cyh0XKqRissmmpZvPJURtwp3Mcp3EF9ZU54edFtS3AISp8tlKDk6I54sd0Xwv5AGBXBKGp8fnT67ej0iYi67QLHqmd/2qRYl6abz8WKOmKVHdHP4nleWBaaW7HSs4jBnaVOPBtXgCZ0tFXc4ICer0iIZ2TKyixSZgSW8YuqV/jVEoDlxKr+g3j9+jX48+FO3FC+C7/racSe0UNY9uA/8OueBuwaOYodo0fx445qPHiyBR/bU4Yjzil8t/sovtlSj2UrHkel7jhW9XXjzz31OGw7jbL+Djx0TANrVAuN8RTuomdxW3MFTjjO4QEC9rMHdtBL6SOIaukqd6mr7nnQZT6Df/rbQ7ip6yAuLSvDP5dtxlfa2nDFzt046Lfh0eMd+EN7A3pHu3FksBk/qtiMb1dvw1n9aVQax/H1+gbc298LnVigI+XBJLWQnmJYrKLsLzhkbi1MU63kzEo1h7PAEguAaPndeQJLn/DPi2GV4pWWts68KE9uC/soB0KoDgRQHQyiKhjG7kAclaEo5YfpAjOSLFh7thOP97dLQlg90IXqqaNyxtBuXtM944dRTqdHsRrFpcfsF4LJkbXBSMCJgTpFNha3cBlnH06lnCFtylEqsBTv4dP7d+B7zeXqEopuJHMu7OMBXPLEE/jriWa8Y1sZftFdL1e0W322Az9qq8b3W6tx+ebtWHHuOF69cQ02jBzCpRvW4kGx8l1XLd65ZRPetmUjfsfPfbVuHz5XvhM/b6nCW7ZtRIHmazKoxzvpEj+boLyFgBv0KuuECuBd+tQqvG+/sqDZ5zUa3HrsGD5eXakAp2ofLtu4Hl+oKccn9u/FPYdaOCBaUHZSg8ueWolPbF2LF654DA911SDpPAW96RQM9kFMOccx4dVCFzTiRNApO3DWdOufRqPZVLOtMLeRILVwhGcIrMmYW97u7fzaJv0iq9Us5q3qxFoJOJxKQBNLoMrvV8DF7QFfAM0hv7pY70IlxHYOrv1Y9u934SgH7lcaynFraxXKp47hZx01uKW9Gl9pqsRDpzvRoD+BHlsffly7D6vOdpHhLecNJhFvS5CxCPRQOGspBVjTcSwXftpegzduWofJiBF/PaLBN5sOYDvN3pt3bpVTgK7atx3f5cH9vLMGa8hEN2tq8P49u/Dh6mqOWAteRrZ7kiPjI/t20BRp8aeeOgJLLMNIhiMwr6vajSf7OtFjOY1LCQphfqMc6fcdbcIXCbgXrVyJTYOHpb5rMw/gFfz7lmPHsdFiwTFqq2919+ATFftw17EuvHf7FnyDoHrvrh24fNNG9NhH0GUdw+8Pt2HZPx4m27biGwTf2tMcsWRBr7MfTstJmPU90I63wjxYj6Paszib8vLimelomGRmf/q+NXOB4cCQbxjX8vzFRM5f8sIIzxQQS1umpRYM5qfX0PIV5dj8RZ6VfybBrOxnK1q3y6nuIzRqsChU4Kc5CuMnx0/g9r6zOJXLoSeRRHcqhUPym2PzRHexJ2jBD9qq8OY1q/H2rZs4kDdLK7OBVuEmypw/0aIsu/dB3NJwACcob67etQWfrdyF5/7tHzJ+pRzTfNBLB4kHqC2VsZQRmcwa8dWqPXj+o4/h+X9/GHXa42ih1/Xu3Ztpykbwmapd+E13Le7kQZWda8f3Wmrwl6EhvHrDerxq/Wq8its9k0dxzYFd1GcTNGdn8cHtZXgvmU6MCrHE4uNnOtBh6sW7d2yWHRBIGQjgcnyA+129eyuaDadlB9cbB/HP6zZgncWK49kMupJJfLfnMG6or8I/eg/iXzZuwBVby3BbWwNNahcuW/UUnk1mbdAN4ScdTfjols24cs9OnHELcCSpDXzUCW6ORg/dc+qvtBmhmB5aelXDFLBnow6ci9jo6TlkqYmoT3JnxLKJDmjD43j5qlX4Pgda5cRJXLVzCx47dwZ9zgnc3Mg+ONYJA8/3wOQR3NZZi1Vn2vHIqVYCsJra0QBfQosfkI1XcjCeIMA1xpPodfWjgn0lVhFcP3iQA0yHe4814/v1e6ELjcBGjXk3B9yNzQ147dbt+HZPD35AgN09PIw7B86RqRvw1zOH5IIjC8+4seKTFbvwMAf6bw8RRL/4vZzPuGmwCzc2HsAdB/nafQ/iB43lqOF1fhcJ4Je0MF+u3INKnsdsXMs4P4hLYBm+sCiwHDnHcg+FaIgjNp63SYC5QnTfs4oHmKHncIxe2GmO0GGRoU8pRV+Zgp7CzogWemodQTdc7IhYRohECs6sQS6jKNdKZ6c6IuNyBKW4v/g+8V48QyFdmI3bTNIExtL6mcX4hYDc76Oe8AvqD6I2IMINAYxRMBcIEFfYBE/ETI3jkizhomkLxK3qDQN8GPdMIpB0yPxYKuNEmm51lh5clqI+m6FzkfPJVfcgFvnP2fk9dh4T9VfKBReblb+vjTvhLsRx3+njeMmaNQjxX5tlAHd21BFM7bhHsweve/JRXLZmFf52qg3XUS9+ksx7yZNP4Ks0K6+geb/rqEauj/AmWoJ37dyMD5H1vkoT9cE92zg41uHLlAdfqN2L7xJ479+xBd+ur8YbN2/EvQTVCzhQvtyiwWcbG+Vy42/cuhX3jYzgn1atxvNXrcWnq/cgmNLOW61wuk9t+B6/+ymCKUeQfHjlk/h7bwv20GESA/xP1L2/ot79NbXt7V11uP1II75avkNaFYtc936hgPY0sCyLA8uadiy3ZOwwpp04HXVhLOmGOeNj88jclwj3l4fi2OsL40AwhnJ6JdXBCGpDYbREwhSVYRyLhxDN24sCbJY5InK2urH4Tg+WeSPBNqeD+ulp1UdiqA2GUENQ1RBU9fzN5nAYByNBvh/BYCKMsURAxnnc2QDCWR/BKZZpdM+aJHHLk6xoDhS4FRMTMgJoBGSaQEupz8Vi/+I9IcbFfjm5r0PeF/CEbQwvfmwFveDjeOrcaTz/kcdwOdnyB5pqmpDt+BDN8S8pD24gYFqMvfgAQdNtPY3P1ezF1+r24vVbNuArlbvxk5ZKmvEmfLdmD15Eq3DZ5g1Ydv9DqJ06jjeT1e+kLh0NaLHs0RXyc9c3VKIrGsQXm1uw7IEH8bbt1LI6HT7T1IR37N2P1654AkdsZ4oE+FxHwZ0wSIsg+teeMPO5HnFaJX9SeV2schPNcIAm9NTTJg7GCdgiuqdxLqaBpS0l3CA0luJVTNBlF+5lRq5IZ5aJ4yl6BUeiHmg5+kW5zCTNxCmyl/BUGoMBNIYC2O0Ny8VTn0nKZqHXEmTPzogP5QJQahPekNyyVVLAKi2ICtHIaAe4FUHUBu7XQVF7lMd3NubDVNwLB73CED0aASQBHAk2MQ1fhD0IuJwKLCHE06IJsHFfAbisZMQQtgyewIs56l/51FN4Kxmlg6b61tZ6/DMdi3cRXH/iiL+N2kvcgODrZIrD1jP4BpnqAeqaKgrmV1HrfJCM1WXtw/qBQ/iepoJ65yCuorYxhAzodZzFS9c+hZc/8Tj+Sm+53XACX6orxwG3C19v78Qve0/hM5pmfLSmFu8+UE6HZxs+TOmgsIv1An1qWuC56QKTU03zBr7xAreAMQZKMoXTwBLBsUFSvyi6L/ZkCtDKGw/F8qZ5olZpNorv7Z4IDCIavqCQvHC8Jj9TtF8slHUI5kTQNSABU1MErhoCWdkKEIWwT8R2uK0QrrgKvEoVYHvZ9qjR+gN+BXwN/HwXB8JxgnYo5oGeZlWU/0TTLuWmSoLVcoKxHBJ0AoTidcFwkPcI9CKZsivPCbY8/56iPrPnnEUXxlQkvs0z8cFcXjdjoubm86ZBoTB2Ia9XGciESMGBumBQWohGMnVzNIqWaAzV4TiavNaiXF6pq+EsZarXhSLvBp68+TqVsb5GUBmfBlg6+HJWDMRdssZo/h2tzsl81UJpA52c3bHVG5EluqXP5zMglDXjZFSZJSLiJOLzImaTYMfa6WHWBRVGmgETgSaeVwUUgIia7kleZHFsR6NeaMhS4vU6wWQCSIGQZLNybgXQZAso6aE9BOQuv3genAGvhp/tJsv1Rv0EnZf6ygMHZUGQTBcleyUEyISJpfgXdeginZQjoIxpn7w97/mssJDwNS1YQjM/fzedzjGkhc4UUiAkJYEAWV1QCZSOpHyLVMfqZxZ+U+7OYb0ACI2LFDlaFgCWoRRgmSRjuQksUXSfKswN+4tE8FmavsIFJj+ICyvMU2JOrm6xVfP0EhhbyXR7qN12su1mqwyEJKBqVXDMAGoGYArYRPxGSZ/MzjgRNU1iUsPJmJjO5IA+baez4cJxgq497JefqQ1O5xzDbKGZttevMF+5NKkhyXDlfhXYKpA7wgEcJdOdifowShMrynaEiR0kCD1Z89Msdf1MVilW7v98jhZklwRWYEYGVPNYxIAwpW3n/WZBBlTNHKRKrjaVt2Dn+BHcRf3305ZyHDL3nldyrDhQdjVt5yiqiHDL14/TRGdyBjWNJ6sgCCx76cCycgTqU3aZmCy+D7GIKA8nnAvWvovXOkM+tAT9MxMlS6ux0qOfgNzuCUvXXox4EeE9SfPUSAA0Bv2yE3f6lIteFVSYpUo1c6fi7gvc3NJA1qXoLjK14gKJ2vQAR61IVwjQWQg6kbLo5e+1hf1SKzbwN8sFk5F9BdCls6IyWoVqYotbhWS8MAHnmzcYF8sVllZjL4oAe2NuHkeoSA4EZL8cYJ/4s5Z5EXd66QR4Pc9jlzeIg6ksVuj1ePFf7sdPuztxXVsHbjvSjXbHKH7fXY+b6/Zg/9gRCaAG7Ul8bvdm7B5WomOP9nXi5sYqfKxiF/7l8SfwQG8bmvSn8J3mKvz9ZFtgwD1cmikUbDQpcm0Za1EkVwGWGBmTyYVv1i0K68QJi1xW/mnvdHB+Z/bwMzso+oNS02nlb7nlVCPFpIpqBZFSEEnSxsA02AJSW40nHAtMzjRKndgvQXf+TcAjOaN0PCI54wJJcr38rRO8kEZxB3oOpON0WATLifOrkheTYBNMxwstwh/VQQXkYjAUJ86XVmFx4fosIUna+PvCFNYGZrWlAHQ9B4JCALN9IBLKh8iogvnFQOmMhaCJRfHNri68gF7sK9aswUMTk/jh8T4858G/48rKerxu02b8sKcD79y1C+89UI0Xr1uPh0514HlPrsI1++mQHG3EFRvW4g+Ha/GyNSvx8rVr8PP2msCesUOlAUuUtQiPMJgzn9fhYjaMKGhTLsbcJGeYF1+ccH/MvUBy90J2XEezZVJonU3RdHo5QgWAHTOpEdGm5MRNEdPKSwfDiOO8kJPJ4uOZHbGitPdMvPhYZt8Xo3lMOiHGBRbT10m2NkvzMjUn/SKSr6IE2SRuDpCwS++3iRe8PKBotqEF2XzpOcH5xytMWo3K0Iq+nGasgHRW+qQenl5/y0DHyyW1rviMLa0I+37vCG7pbEeff0qGLpY9/jh+c6wTb9+zB01OJ966vxwv37QF76usRpvHiyv3HcDle/bjVQTcLgc1dyaKD+zbhS6vHj8lAN9YVoZr9m0P/OJQbWnAihAg4ykXT+b8Ez8ritnmCPNZYJkIOEHLYlsouYZcKcPRJLM88FiRljNKTTFXr+jgh5fW3SdZLVfQ0Zw54TzveBTAGtmhwhkozAkUOqRWSPJ7DGLyxYxXpp9TZnw65pTaZK7XO/8WKUoAuTebJKgiZJMATapt3qAzlFC+YsDT3adaHI+TTlFVYNq5CMy2oMKWQiK0EOBiWryYjCpMprgW46p1ETPMR6NGfGbPLvzr7jK8Y8sm3H2yExXjh7Dsgb/jfTvKcFNDBSptU/h2K9lr/VoZHC3TDuOtO7ZjjX6KsiSEN2zaRHarwaebW/CGnXvwxl37Alc3NJcGLGGCxIKws4VqaodztJ6hKYrMMNlcxhImQ3hYvqz1AusGzA2upSkC/3qyDd+oO4Ar95TjydHTRcIxyP8D7BB3kRsewIqB41g9eES9qGEJEcUMWNW8mnsm6VpAnJ8IqKbVhGjWiBX9HbihfCd+0qHBmaCO39WD0cCgGqGfFsDil7MqCPWqUPUXlfRa4IpP4TfdDfhGxQ7c3NnJix5CezzJo4kVzd9zFN2jx65+v69oTp5ffW5U3w+o27mDUDCQCPEIx6Jqnr4qDrkIz1fJTAQkqM7EXfLcBSsLK3Iu6YUtQSnjH4MuICZsxLB1sB2Xb94IX9wAS9wGa45OSMIMrX8SgQQHZ8YJQ8QpMy/CQhgiJpyOOHAu6pC3cOmLeAK9qVBpwBLaSpt2qHcwmG1i1os4wOwFdJKgY3Hi0byphKI2GyI82NeteAyfamrGzT09eMEDf8NBWx+2DR3Bb9vqUGEaxJ7JYxjyDcEaHceByRO0/9vx49ZygsaGWzvq8dtjB+VFGvYN4o6uOmwe6EIyp5d5uh9p6rBt/IRcLz1fcKBh6igu+etDMuf2rdYaPHmuB1+u2oUP7d2GX3Q1wRwdk6DYPNKD66sr0Os6R1Z0onzkEG5vr5FrgimA8OLGhnJpStYR5G/csg2PaXW80H7c1FyHh8kEY2SKzRO9OO2fQK3hDNpNvfIYHzzejMd7m6ENDeOPPXVYdapFArXL3I8fN1fgpKOf5zZ3aUtR9iy0m9BLwpOVZnC6TeutwCyTCfMogH6MHqoIaAvRLzz5ZH62cE9UiprpoBXy4/DERpWF3WgdJrh/Ij9bTSFkhjU9SxTC8RGr1PizJnXZyJLDDbrlYkq4Lec4r7xDxK4G4q4FzKBBskY7PULhFc3eUuPpPEMr4gTW68vW4vMNjfhaowZXrF2NFtNJUvI+vGrtWlxzYAe+ULkLvztYj++1VOITpOYbeOHuOtyIn7VX4IVPrcNrN2zCvx2swXVkoWf94xF8v7lSTq687PEn8aJVq3GzplwWs4mLpQuN4/OVu/EW/s73mmtxzDUof+tD+3fgFSufkJUaO0W92YpV+OT+A7hi8wb86Uiz3L5q9SqZ7deHtZJlxDrsH9m6Ee8q24AvaFqw2WLFe/bSNKzfiDds2Y2vEtRv37YFmyYH8Nn6KryjohI/PHwIz7v3AZmSed2WMrxm41Z8sqKCorgZ1+7fiUvXr5EVIUOyVMhcFGrQ41DUK61B7UxweN62OBSjAkyw1k5vWJpF4WDUhZRQSSuvk8iQnIi6JLhieYe817WVhCI0dK6ozGeQjlEgO1sCJCavDM8EzmXk3T8NLALqeuJpYWCNpd3LT8c9MMgfVLyLrAoUUasklrw5v4xEL/cVsZ8THFm5gr6EyK5VZvAvW/0k3rX3AH7T24up0BQGnX34xO6tBNQessleNBlP4l93bMaLnngSR+1ncXNrA25qPIC3btlIQOwnc1TjFx1VuJdM8KHdW/DRnZvx2OlWAqyKTLIVb9+0Af7kBBnLiW7zafyhuw6N+pN47/bN8i6oH9i3HSedZ2US9rr6/bi+dhfetucArLEArtiyDs9b+aSsvPheUzm+Wb8PI75xaa6e6OvAuv52bJzox7KHV+CqinK8futWtBr6sLL/CN65fQPeyWMpJ8ve0rQXH65vwDcpnL9Otz5DxhM30Xxq6CQq7RZ8qK4Bl27aiC/W1eJN23fgtOP0TPJdlCLreLGnY3YzLBWcD6bpFFdgzuvTQFT0WUh60QJwlepzAboqgk44IKIJ73wo6ZIrzYiQz2H+LfRdNG+U0kg4dAPUn/nZtR1mgEUs3UAsmRYEVmUwuFzYbhHVFW6tcFW7wl4cjfrQGg6ggy6sQPEoqV6sgCJmIYv4kDdnla63EuPSzoQMFl64f5ax3r5xNX7dN4CBQpYAdqPZeAIvZqe/iSP6ptrdyFDE/7CuAu/asl7eGvdLjQ2yXmsXzdULVq/DldvosZBl/nCkCW/btB6fI/s81d+JTxOUl28qw8cJ0mBSS8Zy0BQN4R1bN+E1/P6rtm/BvvEjuImM1mY+hbsJrJtoinTBMXo7G3A59/mOphJHbAP4DJnzFauewu099QiljFLH7R8/KtdSfzMBcSl/Z4PFTLPchVeufAxX8ZgqtKdxz9EWWfv0T6tW4Fvdnfj1sR7cotnPY3HjriONeM7jK/C2HTtw+8A5OUn0BStX00Mrx/GQRbKsMEMixFE+naIKqpoqeL75mzWNCzDY/NeDcxmvSsbiQhK40wCUTfXURfZCmOCGkBJYbiPjibDPSEqsaebw09zOAIugWhhY/KHl0z9cLX9IydGVS5QrP7zPp8RvxOtiHxGEE5MnqriPmKEjItzjBJhY2EsE7tLnzRqZLs6fgidnk5FvoU/EwYscWI3fi4aAF6NpH9YOHsNLVj6ODf0tHL1OWW2RzYsSGwd6w1bk81OyVlssZx1OTSKa1kv95c+YcMxPxs0pt6FV8pxiaWkz3IkpjJLOxTpcYglqUcMkUlVZ6a5bcC5FkRvT8TWz/C5RlxZNT/Fvy0waRvxmjp9t8VqxPxhDZywiB0swLXKpdgR5rAUxQykzhSwHx1laATFLKZufrj83y2WW9noDaIsneNHIHi4Xzz/C/gzz/AMyZiWYpXaaiYJzt7OJ+LkmcEZrBWc11/mgCswJW8x9rlzXOSw4gwclICxY70AwKnDgp6UqHVi1wXmJ3iL6rS0SifLH/MH/0953gMdRXmsLCBdCgBDi0EIAhySAgcT3EkIJJEAIEEIzYHrxJQkQEhIT4wSwAZtm3JCrXCXLKlZfdVnNapasXmxJttquyqpv1a66tPv+53wzszuzWhkn/00uuXie53t2V9o6c75T3/MeTx2PhW2vSSrLcHlGSeCx5mNJ555Axku3kqrl5GcdqV3eLXFWqe7H76ejk5xEJzja6sQbR45hSd0R2ilWpA/ZkDNkQfXoAPlzFhwcscI41YuByS7hmI7LjRIShLeHApABFY2R1+9zusiXmOhT1UG9mpQTsZUCmdGp4V1Q99JNTnsnru532kSilE0GP3eYhJEjastUp+e1PDKOKwtq2sZRtxEVI2bsNTuRRL83c2QEWaNjorDM55nPSbxHSLQaiJ/PG1A5//4c+Jl+l1ZItMLj1YK+pjTBavOv9ej/iawErDaL7kQEK8rmWBDN3R9Wh9BS0R6VaPe8oW7Gj9D+GJ1K+Dy23SrZdt6FrPHCLRJ2K9bvibFJ2Wy6nzk8jLyxccTbHSIBySE1+wXRsjCz8PJ7K04pZ8vZAeXyDOewnAw0ZDChSlty0wT7EG4/nJsmFnZhzn2Tqh1kBg0IbyrGR8Wp2Fi5H+3ONuTQd4u2OdA0ZZU7ibvRMW3y5LgE3NrdzboMytjfgqE+pPS3Cpx89YgJGw2teCq/AE9n5+I5uo0YGMCB8XHkkKDtH5YEL3t0FLn0OJu0W6TJhG1Go9By/PgAfYfM4RFyzjnlMUrfaYxeO4o0hwPJdPH30znk/8VrUhXWWUynVSVo8q1PgJDmcGI/bYQM+iz6nyXWYvl8waon553bfg4Os09loR/FGkd6U76ge2VNpDiAcbI51B13x/j4ACofId7m82M92tDmc9+fz+D9v1Kvk5ZktrmAzdqSkQqsUTjw4DRANd2y8HA2myPdCXe7h9GO0yxN471+Mvl9WF9NEePq1Vicl4rfZsbi46oDeKm0XHzm8uoStFrrkNtzGJGGOkQfK8bz6fEwOo6Kiaq/OZCF1yi6tZLg3pWchGvXr0Pt4BHSYia8lp8juqE+LE3HuvpyBPf244WiIvxKl4hlDY3Im5jAy4cO4ZcJCVh5rAkPUhR9cVAQtnZ1YXl9A26hIOa9hnokkyD9Nz3v7pRU3J2ahs/aOxA5OIhXKDDaToLIZlZ7rn2z+Dat2fRRGmxVMkhI+f5WvUEomwznsIUszOcLFheh3TLlIZ9sdiLZ/6ggTXCE1Dlncrn+xpAS9okUU8gRIYfDSsY31qK214rNnxkSa53OmUIZPyOM1j5fYy5U6jzek8+R3kOA/yySthRlEdnc6+RNkUSmNoM0Hms+mzB1rT7Rbxf6RlvxIkWkp330Me6JDkFSTzPm7NyNx3Jzcebqz/BiRjQeTY3B7fHRuJmCiDkkLDdG7sFDyRTFUkBw0ZYNuEMXiwX7UzBvcyAOm+sxBgteKynCaRT1fi+IAobcTGzu6MRtOh0u3rkTZ2zZgicKCkXd7uYEHe5mcF9sHK4JD8cjObmYE7QNPyMB5Oj1JRKq0zdsoCg2VDS0XB8Ti8dIA87duxchPb1Cc/k1kTYfq2Oz+k1fZJCZDjToccmOXZhLEfclFAW/c6TeUg+cmGDNxAXpxW6XoDKtHtPBPgPj3atGBiTGXXKIOVXB2iHVbhUaTfgKNq9ZVCKPOJ/dEW/1r5bjbWph0gpjvHUWoZwhrD6vV8NO5BUnCx4LHScUmUaRaR65XOSYljL/BcYK7GnMR/tQC769JRBzo+LoYpYiYMUKXLpjK84KXI/rwvfgjZIM3Bi2E3/J1eEJTo3sDsLd0aF4O0+HJ7PS8LeKIpEz4yy83d2PRXm5mB8chDx9KYqsPXi3qRnzomPwaHo6vkKCdV10NO5KSsZBMnFr9Xo8QcKyqKQED2Zm4ScJ8Wihv59HkekNMTE4ny52CJnSfDKB59Brz17/mdBYbCIT7UNiw3v9N5vPJvbxs3wSsHn0OX8oK8fXP/4Yj9Nmer7kEN5vbDRHDgzc/Q8IluSTlHNh2T0Tf8X5DfZpnCKi8u5yztIzytROURlruyi5lrWfVpIwURYBiZEQntIFlcJcm6ps4avFvEKlk/M6ih8oAHyy4HoEztc/sNl8fAvfkys9hzFYrH3DzBIqlb973vgY3j16DGdvCcL1e4JxSdBmvFZRifCBQVzw6WqsO1KK/4wMwzOZ+1FracWd0XtwbfB2vFuaibdKD4ha3K3h27G6oRIxbeX47scfIqezgiJTJ/5WlImn40PQ6uwVOfff0vueH7gRN5JmupBM3utV1bg8OATnb94i8O2LiktwIQnQs4WFuIo018XbtmNuSAg+bW7Gt7Ztw6q2NtS5XKQpk3HeJ6uw1diN/eSf8TkvcppE5K5sJr/pCZ/zrpOfqyM/d1dfP54pLCLzG4Uf0GcuKiw0b+rs/McEi/NVUmJ0JlSG64pcIxx1+WePcZGwsWBx5MQFUm4RZ2QoJ9vY32HgXdNYj3C08+kHp1jNIm8SJoP9wkwS+E5Jd8RavGFvA6c16LWMq8qj1yaTlkyUoSQCFWqWgIMKIkAnC52imUT6xOLVoL5aL94qgQw5lSJuyYeJIJ9lTaseO7t7hHPMTnEYCRcjOqNMZsSYLch2DCFyoB+b2tuRYKLvNkxO9UA7Msh0FjoHRR/Bsd569A23iMj1iNOIHHOPR5sn0XuF9PZie5cR4f0DwnkP7+/HZkM7fWfJod7RbaTPMpMPRc4/abEos0l8vzDSVil0+9HRo7iIhPI+8rUSh4ZxaMQC81SHAERy0pU7sRhzxlZlpguijSLjRQLVioLRESwuq8D56zfh9rQcnL9tF74futf8zMGD/4hgtYkMbNt4r9/RGEzN3CZob2ZjMDGIBCuftBG3FxDIidXy4X4ZttImoC3s03EKgOtinJJoFhRF/QILxZpOMVuKoLhk08yfPe2WgHxc12LtykLLoEHOIrM/KIqzcnTLQQlHkDoZ2hyv5Ok0obWkERltyr/BjWYBkU6li8w7lzuElMhX3LdJSWUl+uJbjsgSbHa5Dd4hlng+fS6/T4bdKuPKON0ypNEW/J7JtPh9dMpjcr51sm+YrHym+ByH+GwWOBZC/l8gCdvy+iMSKNHuFFZFy4mlJ+1lloGDPoLl40rwJm0Z7xPn2zzWiTUVWXgqLgRLD+XxBjCTVj9RwdJyKrVNWmGe7pnR6cFOPpNfsEabreuGCST4ROfQxZ1WUTxz7qnJw8jifT/eSRKmqcXHgZZKSxzBHSRBax/v8YOgkPDx3L7m8vCVt6BvqlsEF1F0giTgn8FT3+TcF+eu2JdiIB1rVo9pNkuwZ05N9JO2ZWHVyVlqfzv8uDkg1YWK83QXqc2ROrHpL3/kJ89k8w1y5PsWi0gJZJP5E5h4s1W4IdapDjFdgq0I8zGI72JRonOrX79UJ5C7QzBOqqHPUu8mjzwnrX1igkXh8YKB0XaB3xllAjGKXC4P3omawcMkrT0wWNrgmFQNDhjrkwkwDH4x8IP0v71kzrTFaz0M3Eo21iMKrF6zqReJ0za/QuPFWbHgjbo7PTVHb8FWLwB6XRPdKgSrXiBbWUPtoe/B5B3eAESvaaHnJCbTAHEqggMSbnNLtFqE6WSTuk/2AaNFFOmgKGmEHltFtJXuHBa9lamOYSF4jJFPsEudNAJxarZ5KhXKBVMnJhNU2e3ZNYjVf4AzI03gjYwT5HIMuxOcza+k4Io3V6qM95+5AayatBC/dwRpU7OHM8s7ZIAnq5E/ao6RBYsE6pFZBeuF/bEL7k/ah4N9dXi/ZD9FLwlYdigHIfX5+FlECO4MD8aqyiypiEw7vZ4Ey6LBZ2npfdiEhtIFPaqBM0u01d0egn/vBAYWQC9Ty0wOJ9aAbOp4qND4tJ6+VwHK6bsqmKlelx2maYUHodPDaZ434kTuJE+1tsp/G5SXUqW3i2F63h1JAQgGYHTbMUH/YWL9wWmT+B1N41ZsN7TglfIy1E278F5DI36dkYWVzS14q+4wCm39cNArDtr68GZNBVKtgzg8NYE6t0tEZ+EkZGGiKmH3dBApEXOCqlgcp9ZqNtss9UCbT+3QX8lGboWTTb42HWSdxcdSR85W4bawhWH3hDc+Q9TLRy0MzzEnnIhgFfSWL/j9gURBt3xN8Fbsbq2mizGBTEMJzly3DjeG7sLKskyR12F1yhpr2OWPOkfqD+QSDpsXo6eLRAIM8uvsLm0rOAsWI0Idrs5Z4DZ6UWmvHpEIKriT9zsU5m+pyUf/sB6v0CbY0VAhtK2urQRG51GU9lVC11GLze16PFlwEO9V5CKx7RBWlmfh44ps9I/Qe440Y3FmMvY2V8I62YL1Nbni9+V0H0YI/S2vowxvF6Qgu70ULtHnZxIkr9/dHYSQY4dw+qpPsa4yBwnt1XgkJQq2sWZEHy3FHdFhuCJ0GzrJSY9pKcHS3DRsaK4nwZSqAgwx4n5JTuQqDRosZOx3semKEwInaUmup3K1IkwkqKVqyAxTeUJpFqv/JKnfMpBXOGOEKyHlK5XezQQp4WpOsJ+AYAEDC3KMVbjo40/xyz3b0Dzcw9wpyNCX4Jn0GNwUvhsXUgg7MtkKm2tAOMhTPvirsSk2oz3ClJZPDosvJqFO9TIFTocQLC+dY4eMJ++EftoOaDie2jU0Poy3b51g2EYP7OMduCkyBO+WpOPu2L0UogfiMhK0rYdzMXf3dqTpS/FyViz+i8L2x7OzcPry5Xg8LRZX79kpEBRnb9qIJYWpeEAXjkt37MQpGzbig8pMnLpuPepMdbgjbi8u27UV39qyCV+hv/2lIBmWsTahGWNaS3E2CVTAH5dgQUqM4EjPaCvCrftC8AY975KdQfj2ls2COmhleQbO+vBjXLZtK17MTpBHhRhENzkHP2Lms7tTFKnLSWNzDdXlljpzeNOy38l5NQ5kOE94aNgkghkR0arM58wEtL8aof/qhb+0Trzv33wET64VmiiA+MUJCVbtQD3m04kJqszAgNsk2FjK+2rxVHosXt8fiw21B6T+/ympRUzdzDg61YbHUvYJip/rgjbispA9SDYPYnKqR6AHHBPt4kQ10gnSOzoEX0DHkAHOCZ6l14wbY6PRaW/A6GQvuof0AiFgnzCg29lO2qUdzZMm1DsN2FKViaqBRtwcuQf36yLws5hQHLO144WsLPGYSe6ZxWZJXgJuTUrFLzMycU9SLH0/E+5N2IuElmLsPJyPO0kgv7llIx7dn4wbQoMR33wQn1ZkUki9DjfsC0NaVy1ezIjB1UGb8UzyPuiHmgSEeFt9Ic5cuwbLS3IRsHY9ElsP4mB3pZjycAezupQVIMVQjRuiQxHfWoJf0N/m7d4l2FsYCDnp7hKRr326U+N7curF6Zpt1o53YpeJfB7WaopfFq8KCuLliFaBwiiolJk5PJ+aoc02izbzDVJsKsGyagRrVjxWtbluwXt5SXglPRo9pMKPTZhEklOp5k9OS7BiPjlMKdjt4w8xyK/Z2oV11TkIWPI2nj1Ygrdqq7EkPxGV/dVYWpSKjXUH8LPocFwZvAMPkxBcHbIdT6RFoZAEZW5oKA4ay/BKZrwA7fEFDKzNx2379uC6wM+wqr4KJjKr39u5BXM+W4+fkmDVUmDxVEYszt24CfPDQ5DdVYPnMhMwL3g7Lt+2EQ9nZeP+rFwsSI2FabQDDyZGILQhHx+UZuCtomS8RFrk6p3bcQVpO72tXpDrB7y7Er9MTUELCf29caH47tbNgm3wmOWoEKy1VQdw1Z4gQYn0bG4mvr5+DT4l3/Px5Chspo33U9pYF2zagF/EhSOWBOvW6D344e7d+NGuIAxPc+AjaaAJVdKZ/UeGEI+6Oj6H20Iv/FBu0WOefab95lselBljkdITrNHS7FZPyUrRVmzGFHO6TxTzh2R0iS/QQGta421S5KiTgwEPusHmFSySowUkT51+BWt0umOBdaydzBmrZqPoyvFSZ3eoiDrahZ8wqCHJ1wsQXHHfEcxZuwqf1JaijxzWFwry8HxaBGoG6sicxuJ32To8mxaNVWX7BQlGVkc5Lt4RhJU1JbglOgLPkVBfuWsbHqSLcn9cGI5aj+HphEjcHLIbh+y9cjNDG5rMdeRbtYpAgpEHRf3HUGuV6JaYPaXNehhdpGHSrQPY1W9BtYM2AQn+wEgrnJN6QfnjmGgT5qiwvxnt9mZMklb9U2YszlizCns6WoU/1Tl0TAiceVTCaImJ8vS6XucxupgDYsaywdpIQtssTCUztXQ5mtBsaRCfNUxhfgc9TjK2gCNuLo1xtNyoaRWTtFCdBps+Gwe8XswN7NRMN9OLmi4nc5mgZUqecDEi6Kg6hN/KjTC1TD9FmrJayQ8OSXk0Rbi4q3qvzIGhVEASrZJvFSELZaToUv87BcubIDUIoTlKu2LSPbN1i20/Z+OHNY0Tvai3NuCc91bi2uBtCNbX4vUjx/BMdjp+HL4Dy4rTcE9cBJ7KTMIL++OwqSYHt5EWaLDU4azNm7G4rAQ3UNT5PJmeb5Jf8xjt/mWk4V7MjEPABx/ijeJMpPW2kv+hZkNRME4daKXwt3+qW7MJWAvEydn2Hk0uRsUfT8/JdliR7RxCPgnuq4W5SOpuRNu0Teb18mVq8Z6LKqFh/DGydGiCjsHpHtElo0TLnG/zTVoyvSR3ZE+4j08fyd+JwZR9U9qmC0/DsNPsJ5mtFwCCMVe7D7JXGoDJGHae+VhMwsbdPQeGpLKPQjmQP2QSjcFcR+Uqh44EcZ/NyVpvMMJ8HMFasWKFIliPKoQVnCpggo4p98xeOM6cc+jt0vTF9SOnqwoLY0PxCDmtlwXvwbywSGTQ314iJ/p2MmcflWdjVV0pNtcVIJd8oI9K98M43IhFOcnY2lqP90tSxaCBD8khf4j8n531BVhBz3mU3u/a4N3426FsD+uyegc7yUQz06/JR4Oa6ORzYpSXdbrLT1CgF8nRBKtFMNFwf2D+5BRShidEhDo7tFqanVMuOp8/j5apDcbJPrRN9Hu4JZpEkVvbg8iBSfdkn89wUIOf+UUdwlpIv8ersZieMso6JKyMb7qGA6VqD5nLzPwgX2PuB5X6OKWJt5ynZIx7vmNQnkvU6jkfPGDLSS5Rz1RPX9NY/13+BKuZ7iTQ30+RBEt/GQnVGnqxvnVqEHbBg6ltquQfzumDxjElkanMv9OruOB7kD/qRLJjBFVjSu5I8s8Mk4MCEOel+GEO937SjoOqkRpdKnofKQnaT4EEj/N1+2nu5Obaox5n2CtYHHlxqM6w6RFXp996JxOSeJKXIhttFTwNUmDSNotgtQkNUzfSfxwCEK9g1DNTjatX1jgGoXHs7m7NBImWiQG0j3RRQNMmI0k6/QoXX2w2Zw6NtWgTkSPj5fqmen1okwwCAl4rZkr7589wysLqnf+jpIyY/6JXRQKj9HDqx2mlk7D9hta3FH4sjgqXLl26kB8Y6cEh0lhnBsgHUHU6vej6+gnT2iPWJpskNAojSb9QuSbYSDgc4osXGKuQ01mJcTF4ySyew0OYuDAbyxeV1KZxUhI8DgSYM0E7taFNmIDW8d7jtqNz3c867Z8eicfKsmCNurS5tDLyK7gFimt+7lm6k7mIHW3RQnfY1+jz2/HtrQCw4Hnb+2ebBNEtvtN8MvVPpMUId4GnnnW57ZpNw39vp4h1YYYOkUcL5ORth7xhtQzMXF6pFyZTHSm2kGtCvqTJQeGEqsQmm3KTq1c4+9JrZm5Mvi6HSYBGPBGpdP6Yv75yuM+DSZOFfT+th0mgzg1QHSRHL5LWcpJMPcPq6w0et0rrIN2/mwTsVEm4JA0W8LcVl2UbSnZltZc5EtpKkNVZLhzG1K567D1cLD7stax4vJgeA8NQM5IbCpChPwj9RJ+AsiiFYwbQZZHd5hajIlKtTo1KbhMIib7J2cnv+QdzQ+yYq8Nvuz77T83CNGvhxtyPF0K7uGTYHyON1N3L+LEYizbbzBrLLLRf26zMMbWkhbSDAvz5RSZ8RlHtnDXrcO7mjXSOjmB0agC/StHhQopqN1OEnNZehsuCNuNHe3bi1+RXMgtgSGMBLli3Hvfq9pGZ6tQMD+cmlVy7SfhMXKdlKgC7MFkmZI2MiD7FORvWYe72rbiPfNigWoqKU+JR2n9MZmLuV5HV9guF4XQPwDg1qKEskiyJFUOiIiG0YC1tlMfpzpk+AnUJyc4akqFBuo2g9T3xj2XLln2HHmxm+0grlu7fRQJ2tvrFAbtCbwhY+m74GR99avqkpsB90bYt+E7QFrx8IBHvH0rH0sJk3BIVgjPWrsUVQYHY0noUmSNjGh4rdqBZVXNh167yD1iTMHnHyHSHXwSFQsnD5kMbSBg8ZHBcA+z0XGQvF/l+EuZg2sXVcru5r0OrUP2oTSFDSXgjeE2nwa+vUzk8IJKa/uc5t3vIza6iCPeB/Tpxvv5amILSvmoErPwQT6RGYS4J28/IJ50fHobItsNYQIL1Em3UMzcE4umMOHxjPSdmU+WLLTPhTHQLjRrKFEumIUHNGSVnxBun7CL4mbPhM6yuycW+llJENBbhhsgw5HXXCU73SzdvwC4S3MHRTvJdI3HZzq34dUos9ulr8IccHb61aQMCq7JR2FOBW+OiRubs3FHxUEr4y/Th5yjiEBsbexqZvO+TvLxF6ygJVzlrKkUxaQ4SqBtofUZPqGYBe/vttx968803v6Z5Tn39HXdlZAbN2bKl56GcTNyckIC7knR4IScNj2Sk4MdR+/DDzeuxtKoCeeMTmuSbYDomJ5ppjrymkJxOsusVzoHj0PnohWY4KrL8My/0hJxT65kwagrL7IjGyA0XjWP+qCslx91L7Gb10E7mDZmOS0HE4TznnKbhr5xl8GgD1kjnrF6Lh3WxeDh6j+ioXlKcgdPWrsdLpOV5QOVDujDclpyIHrcFd8eG47n0WFywdTMWkpBxU+2ehgIPYS23qjGTDHN3xWkSnRI40eCyYcmBOFyweZMoQwXX5SG+pQRPp8fjIRIe5tlfkBgpJqY+SZ9z8fYgRB2rFdNYP67MxaryTMzbtR03he2eeLckteCbgYGL7k0Iv1gtA8uXL7+G5OQDkpFKut1P69kZisj3ePnll0+nF1xL60NaR2hlslOmfs4Ve/acOSco6IZ5kZEbni8sMj92sBh3paXj5sQkXBcWjoCPPsHLh8pQODGhxVHLrCiMt5pS+Qf9MlgQs861MQi136FBLagTi1L47ctMw1ThnJNhbSkJ3cycEENi4mxSaURJDvJ35ByPf6rLdnkAaJcKguNvM0iBybrKDPylvAjmMdpM9P3+mpeAtQ2V+KCqCL9JCsMuEpq0toNYTo9ZEzH3+8HuKmS0l2KRLhx/KkiCY7JV1n4GmffKJPFy+SAgBJhy2opFKeH45pq1CKw5gJCGYqyqyMGdMaGkIWNwCZnHp1OihbZcWZqJK3dvx1tFWaJy8VJukuDB+knY7rwfh+1+anFRgkag2LKRLHzMAR+tNDnT/o2Av+MQ/tXixYuvoDdYTauX3iSV1k/Uz1lI6jDWYpkX3Nu7I9pkcuqGHFh99Bg2GdqRygVK28waFl/kXIdZpDJ6yT9gZEQ1CVWn4Nxq9UMb5BUsjljcfrQaR0eHx/pF143aceeAgLUVF3mdM1INsjkj4Yix2jWOOycAmYp8Zs7L+zqe6srBhPu4rDr0P26ynRyC1SX5a9zqbyTN5HbzEKo+eWiSkRxyi6DnnHYzXaNRbsIljejq03zuEBOwUSCyz2LX1P2U3k4Hj6VpOICfkwa6fs8O3BMTgvcrcrGs7AD0Q42iY/xm0lqflGej1daMq0N3Yd7eYFIIIdhYnVO/riL32SsCA89TZECO9r5OArSMXSW6Labbezdt2nSG+jn/0LFkyZKr6c32MuEDvXEomcibSPWdpX5O+tDQTakOe1zO2Jgpa2TUxU2nTKfjix0SQDkZ38T+gQId5rpXLvlDlYJFr0dQIXHuhaMYDs+Pjik5mJl5KIcoZ/TJcxC9F5cBgWweGHvk8iMgbEIZcxXjA6TjUsfRsd5ZeK4kbcimVz/R87nDO5UBTgzPZrw5IxpKhwd8xrkZRAeUeaprlihU5TbQ5uFzFW5W+gPsHt4shhpLwzd7ZUoniSbJIljFhmQWmz7ZgbeiZrCWTeLYA7FhR7+3bdsb9Pxz1T4UKZaL6Zr/gVYNrQpSLM8vXLjwtID/6eOdd975L3rzjbIPFsWDD9U+2Arg1Fiz+a54iyU0wWLrT3I4BfhNDd9Qd+qoq+oCGsJgOrl5QeFoZ+3GAscIVMYBMTsdY+eZPXBc7gfkpGiLBxyo9/hSWeQnsXngaNR3WKdw3OkicUkjxqKu6EsXqkdTA51JksaC3Of3Of5NJy+eDrtxYFgImaSd5Y1BwtAocnAdJzB7WkpOcw6NtT6XafKHBuXNaVYBF5XVKoIaFm7vZDORP5skTVnucrUu3nW47FL1dabreiVd33dYmGgV0nqBFMm5Af/MgyWWPng+Cdg6+sBG2Qf7lfo5WcDX4s3mm3Q2WzBdLFvK2JgXy60IkpwrkrphJNCbunIer+qiFrztFm9TKv89lQSCaZNyHZIWKHEOiHk3fAK5MM65Ho4+FWILJrFgH4b9NJOsGbiskiBjoJTPVgTeoYkIfcb0okOUcoZdncfhV50pjIWc+iAt3Tzeq0ljsKZqHFNoKz9vAqsvA2Cr2GiRQjNbhMvQNtEjzaem88BUm17wpIdHvpwWRXndl/qkDS6l9T5ZpcN0TbNoPUGK44KAf+VBEvwV+hJX0Ydvp9VHK0n2wTx2Nxb4j3i7/ccJVntUjMXqZj4GzsFMilKBkYSgV+SmGF/EhdNYwelE4bNFggHHyr1+++TWsHgf6Ea8QlQhd+bwrB2lau+h75Y1ZbTSyW2SE7a8i+nkx8uwEqWSz//jouuEe/bUh0OgEPpVOLTPn9rK7ye4Sjk/NqUd9s05OPYHJ90nSnxr0DBZd9HrI0Qi2tuUyyzPXOcLN9kF5/2YSFe0N9JrXqfP/DoQ6zFpixYtOlOVz6yh6/isrKFOCfjfPMhEzufEmDzugvNh16sz+XyEWR23pdqtiaQlxulkuLWmqYV8lj6RTpA4mLrEySoibcQREN8yZp2FYJ9ZanaIsdhV+CP1snru+xKUxas7pXkmjx+YL78vQ06mRfNGm4ABueRGDw+/g6xhmAP1+IzQ3os/SJojQiZOm1ShRdi0dQicfs8so0kMs4wj8WouzqjvU9F0q6EydK6m6By2OFzGpaShvqlSDKe+8cYb57PfRNerjFYT+1O+6aUvxEEm8qf05fbQqqK1hb70za+//voZyv/z8/GV4an2e+mExNAyeWtZbXJR1ejxDYZdUipgVKb94R1vlcnw2Zzx85kxmXsRk5RWf5mHM0oeBBClaoCNUyI/VcI21uJtOIj3NA9I7VncssZCzWkHRnGwf8d+FwvVkTFpE3Bg4XIbPme4pWSuWENytwsHEtzkO+7mAUkdYnHxt32MfCCXxM1qG29Hv1Pv4TxlGM7wpEShNOliyE6nTIckU3SSmY9SNUbIyM5pWjVxZus7Cb22y33SBt+m6/M7WnlczqP1JwrQ5gR8kQ9GSdAX/TF96SDSYo10P5qiyJ+rnwP0f41O4C/opITScrIzydHgsKrp1SbX/ib8dF+rMfIMeeYTy0LHF53TFlzzYngH+zTppOkU3DiffNYa4XKA4PWrpN4/nQrYFi2bYWUpndqKgKbZpCiWtWk9RawGObDg7z0tmziuLjC+ijcBl5b2yfxhXHpqGh3Es1lJWFmcQ/HbGBblpCFTX4wWaz0eTY3GXftCxNxCt7sfK4rT8NCu7Wi2NyC7pQQ/3L4V+w1lngL+AdoE7EsmOhxIcg7zZLR6+h1LUq3Wy3wsy4V0Xf7KiU26LumkCBaxkAX8Ox2caCWBmkc/YjfnwWjFs8BpBQyn0Yn5uX2qS1cxYppWsO8S/bRR+B2u40RbSh9ik48z7BbQlDYRBfFwcS7NMMSELz77RsWk6ZiZUM0BJpCVFgnEFmOVWvYjVY0D8TOmjlk9zr56QBSbII408x0SLj1KFmIWSO7MZqHi3j7zuFHQRs7fE4rQllpcGbID0U08CLMBl27bgrM2b8TGulzB5vwiCdoZS5dhXW0u3s1OQMCyFYhuLhbajeEu3PiaODxKAmVr1tntbyaMjFzMEbpynslqnEtC9Gfa6K1y6uCF11577ez/dR/q//fgUhGXiGh1s7NPAnaNb01pHI4HSXOl0k6fIKfYzRCQjokevxMnlFvWWJxLapplUsZMTafK9pPgshZijcbFZi6Kc92QfSEO4TlFwXkwTndwtCX4OknwohRuLpvN4+Npu6ftHm0nIl1V3yCbQoPcIzBEpnFRWhRO/eBDfHvbJpy+bj1iW4pJeHJw0Zq1OCcwEGsPZaCsrw5/zkvEeZs2Yn5ECC7csRXnb9kkpt1KLXhdU2k2cw8J7tsJJpM6U37K4sWLz6Nz/zRrKFosVG9+IX2o/wEBu4sFjATrMKcrWINxdOnRclU7Tqcdev+o25hKDild8t7jTKGScE0M7tNrGlwNnzMFSzJTnRSdcoKWzdmoy6DJ+7TIbIOKFmTAG6cE+G8cxrNpK3YMCh+MUx7SZDK7pwcwSiGss3gbGRTurgG5udc8ZsRPo0LwSEKUqCk+nLgPb+QliS6jtw6miaGZAS//BR+UZYihmnfrInHpzm24gkziDVGh2H0kj02hYWDK+H7y0OD31OeZUwScKqCVwTlHOs9v/9uZvH/AB+PQ9i5awXJou4vu36h+ThOazumcNj1gm+pIpIswKkE4ZjYYKBOxLNNdJzBWxLvYB2K8OWsQds7HXVrBZSpK23SXBpfkW2pyy+8zIms6nhfNGpYL7JxZ5/flpC4HArGCnXgI6XRfgf04yAH/4FA6NpTzKF0jPjrEwy7LSBMdwsL4MDyVFo3fp8cgsCoHm2tyEdqQJ+qKa2oOMOq2bWNV9ruA6SqfPNQ5dE5/zxAoul9E649c3wv4Mh3sg3Hei0tFJFi9XCqinfZDrQ/WegZdyLvpgmfQxZjWjvdtF/6TF6OlPw7YTis4YgaPUyLkZwGbVvFHTECasuUtD7UfZxye77ybLkGuD5nghPNSXIbioISL7Ox7qUe+TUx3iyUGSk33CPJcLrs4yUwOT/aQwNOaZj+qW5Rp6P/dI1Pd7/aPNc1V+1AcMNH5+60cLNXTepWLw/SiUwK+zAc5+ZymyKeT0U+367mkoHYs6cSfSRfuCbotkDSYwS2hRrsEUsLlbj9u84GvgDE+nuttLFhdmnqfhJGv84MZ/7yBSxxkdE72yJPRfGfktIl0Q6YQLMNx5xL6+RttKMMgPQ6k9/q+2odigaLz9SCXXnhzkkC9y7mpgJOHFlFBAvWAjKLgksKHHFWqnXwpYyzYcHLdaLf1YgBtU2YNvtuthdCqSGa9w5hG3Ebkj40gZXgMFlevxsQNukzomzaryh8GDY7fO2FUgQ33iP9xItUwOYBBt0n1+apBnyRw5RoU6/H8QGX6ajs96FhPj+f5uBPn0bl5lM8Vnac6WqvI5F1+UoSOc9CO+yrDMmgHhjEqkZ38mSbSdt7IePcDzaO9iTrj0UluOWu2NuLIYL24IAXdtThqbRDmo7i7DoHkxwTVFKJvpFX8rc2px6uHyvBaaSmaHQrWqQNT03rsbTmCjdWHsLX6AKoHGoTg2Mbp70cKsbo0BzWD0vsOTRgQ0ViCz0oZP3VYPK/QbEBgRQFC6wrQ7WzRNEMwh0XrDG3mT6DEPGmSPv1Kenyt2pzJPtRz7JTT+SngKE/W7iePv0fAGJ4jZ/K5hrWdHl+tfk6V1fr1e9OT73s9Ny7/raIU/DEvRVz0R6JDBbRW11aG81avxpPJ8bgxIhi/0kWICz4vdCcu3rkbV4WECgrH6oEjAvrLg6C+sepT/DJ2L17JTsQPKEIr7qnGC+RE8+iUn+3bi8vpbwXGGixMjcY8eu3b+am4evd25Bprcf3eYNwXG4bHdPvwR4rknJPeLhnOafVNdfuwMWuHVtEtqTTDchKsudzQoi78c5RHglUsVzVeIYG66J8CYfkyHXQSf04nM1cudq+idZl6J5PG+eoDCRFPbqg5UEwXaOpxEoRlpfvxg+Dt+KQyU+CSSo3liDh6EMuLkkmogpHjHEHXtAM3R+zGp+VpZMoG0eVsxhmBG3ArCeF98ZG4JmSHoEliVpniXtZAo3gwcR+WFqYItpnz1qzFndFh2H7kANocBsyPjMS3Plsn2vtzjdVy1zSnKzoE9t4+Y7yuR8B4Hs1Wbr3z8aFOpd9+H/3eA7RM/Nu/8KWXf8M0xamk/hfKu7aB7q8gEzmXo0tVJv9swPHb26PDS1aUZTpviQoVjR5tQw24cleQGPT0kC4c10aEIWbAjAZy/Ofv3Ym1JHw836Z5qBn/sXo9fpMRg+11RZgTtAVPZMRifvhuJOkPi9Y2Jvx4/YAOB3uqENFUhD/n6BDw8Sf4rL4Ue/V12FGXgxtJIO8g4ewUZrZTdCxzJn5SU2QW5o/uGHaQYN3s60Mx7JcRI7RauLB/0uT9kw/2M7jTVj7pnFFe+84771ynedIdT8+p6qt9MbKpOOuiDYGuR5PjxEzC+TuCkN5RhVuimWl4F76/Oxg3hu2STWE/GodacMon63FLZDCeTU/ExZs2YkdDAV7PScTl27biprBgXL97G3I7a/BkWix+Ttrupf3xokFi3eEyXE8CuyA+DLfT855MiBDcWyxEzCpTIEaiKBNe21mgNrJAQZU24Kw4/Z6n5N/G/uUHXKU4edX/hQfjsGndJkOmGfKxgTWYSnudAti/sasm9/GohrySgq4KDIzpMcqDLU0DWFxVSxrnEHqHmz1OdsNoN3SdR5DXXoIcwyE0Wo5IZZOJdhR0lCHhWKEIEtgfYtIRfo7uaBFabPUwTFlRZ2tBalM+cg1lMAseLQm5UTEygJqpIbjcbTYyd6uAlms4heLze37NaAP2oRgbxVGeuipx8vgXpyjkYjfnwVK4Hsa5HA3qUfbFptG50O1urxomoWBu0DTysazuPk2EVj06SILXK6aEcaLSjU4VbsooJoG5VWkE5W/sS1WJvsVO+TlGDTlw5fDAUKbdsqt11HKpJPDSd5K/++0kSJw2aOOGBVUe6pSTl/eL44MtkHd9jVxwnctNASot9hX9ePer0VZ7WeaQeczh9sKPx+QJXVPu9hNMjBo0XApSQ6wGmOfmKG/CZQivGR24xVfb0ga4k/sGuNmTtS055SfzUF90H4xhIXTLBdgSWu9xn6T6OcGmkUtqxk2vjrnbC5VSkWVayri7Zs2Kz06Cxs0KR0S2XiE5MZAjZdhJ/7+DoUGqMtZZssljCFEtbYR1jL49edX+jQ6GjMjlDnaEW/kiqguykknquJgu/oskHOVGFznvE4OqhtjZykMz4TjHmAdeYMr1o/Q8ivL0N3IKxCdlcj99jxz6HvV0u5w01LyTPtS/6cHCw0lEupj3yG1MRrr/Npsi7fPazzsy1v+7nsnuluM3LviH4VSPDIyZpoxJ9PiH3KSgzrGROeYkb5rcD/ARmzy5THXSh/o/FEk+IZtHLtq+yiwp2lqk8aukbf7mhv6Yy838Tx2zFIcVH8pgn5g2JBcO99zj4++dKVcNgmWB2rF8+fLvn7wC/8fTFCRUixjzLWuxN+nxd9XP6Rjrn9sz1bO0faKnyjxlnFCaGlQ+FIWThjCg9Z4qVemFozzGmjHGTO582cTo2ZNn/csVRc6hi/6kjBDgKPI9bjZQpym29Nouz3WaXtZP9FQ6YWPw38gkuoKmYLgdGDzbJ2i4k9Y+uVHhU7r9kboqcPL4kuXBmINCHi50SGZReV3NSxFLPhMZvzObTE3n9IvuIpyu9qFIOP+TozxuGGEKKNZ+fjmiTh5fzmPHjh1sxl6W80pcKnqOBOR8f0IiA+x+JDeGdNBtODfpnjyLJ4/jmUjuDv6jrMFyuDuYOQ0C5K4XMpe/kH2oWoT3Ih0AAAA9SURBVFohtG49edZOHid8yAQZ/01rv+zksyOeLmuz9b5d3iePk8ff5YNxsydHkSRMNk62MtjwpFP++cf/A19SK2i7nzgTAAAAAElFTkSuQmCC' ' class=\"itemThumbnail\">\n",
       "                       </a>\n",
       "                    </div>\n",
       "\n",
       "                    <div class=\"item_right\" style=\"float: none; width: auto; overflow: hidden;\">\n",
       "                        <a href='https://dev005219.esri.com/portal//home/group.html?id=ee1b101fef7b4fa483c66c54971c6005' target='_blank'><b>Traffic incident analysis</b>\n",
       "                        </a>\n",
       "                        <br/>\n",
       "                        <br/><b>Summary</b>: A group to share content and analyze traffic issues using GIS\n",
       "                        <br/><b>Description</b>: A group to share content and analyze traffic issues using GIS\n",
       "                        <br/><b>Owner</b>: admin\n",
       "                        <br/><b>Created</b>: August 08, 2017\n",
       "\n",
       "                    </div>\n",
       "                </div>\n",
       "                "
      ],
      "text/plain": [
       "<Group title:\"Traffic incident analysis\" owner:admin>"
      ]
     },
     "execution_count": 13,
     "metadata": {},
     "output_type": "execute_result"
    }
   ],
   "source": [
    "traffic_group = gis.groups.search()[-1]\n",
    "traffic_group"
   ]
  },
  {
   "cell_type": "markdown",
   "metadata": {},
   "source": [
    "Set the Traffic incident analysis group as featured content."
   ]
  },
  {
   "cell_type": "code",
   "execution_count": 19,
   "metadata": {
    "collapsed": true
   },
   "outputs": [],
   "source": [
    "gis.admin.ux.featured_content = {'group':traffic_group}"
   ]
  },
  {
   "cell_type": "markdown",
   "metadata": {},
   "source": [
    "![featured content set](http://esri.github.io/arcgis-python-api/notebooks/nbimages/guide_gis_ux_featued_content.PNG)\n",
    "The home page appears as above after the featured content is set."
   ]
  }
 ],
 "metadata": {
  "kernelspec": {
   "display_name": "Python 3",
   "language": "python",
   "name": "python3"
  },
  "language_info": {
   "codemirror_mode": {
    "name": "ipython",
    "version": 3
   },
   "file_extension": ".py",
   "mimetype": "text/x-python",
   "name": "python",
   "nbconvert_exporter": "python",
   "pygments_lexer": "ipython3",
   "version": "3.6.8"
  }
 },
 "nbformat": 4,
 "nbformat_minor": 1
}
