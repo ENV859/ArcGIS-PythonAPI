{
 "cells": [
  {
   "cell_type": "markdown",
   "metadata": {},
   "source": [
    "# Accessing and managing groups\n",
    "Groups are collaborative spaces in your GIS where your users share related content. Groups support metadata allowing you to customize them as per their theme. You can add users to a group with different group related privileges. Refer to the [topic on groups](https://doc.arcgis.com/en/arcgis-online/share-maps/groups.htm) to learn more about them.\n",
    "\n",
    "In the `gis` module, groups are represented using instances of `Group` class. Similar to `Items`, `Users`, `Roles`, an instance of a resource manager class called `GroupManager` is used to create, search and provide you access to `Group` objects. As with other resource manager objects, you would not create an instance of `GroupManager` using its constructor, but access it from the `groups` property of the `GIS` object.\n",
    "\n",
    "In this guide, we will observe:"
   ]
  },
  {
   "cell_type": "markdown",
   "metadata": {
    "toc": true
   },
   "source": [
    "<h1>Table of Contents<span class=\"tocSkip\"></span></h1>\n",
    "<div class=\"toc\"><ul class=\"toc-item\"><li><span><a href=\"#Searching-for-groups\" data-toc-modified-id=\"Searching-for-groups-1\">Searching for groups</a></span></li><li><span><a href=\"#Properties-of-a-group\" data-toc-modified-id=\"Properties-of-a-group-2\">Properties of a group</a></span></li><li><span><a href=\"#Creating-new-groups\" data-toc-modified-id=\"Creating-new-groups-3\">Creating new groups</a></span><ul class=\"toc-item\"><li><span><a href=\"#Sharing-content-to-groups\" data-toc-modified-id=\"Sharing-content-to-groups-3.1\">Sharing content to groups</a></span></li></ul></li><li><span><a href=\"#Managing-your-groups\" data-toc-modified-id=\"Managing-your-groups-4\">Managing your groups</a></span><ul class=\"toc-item\"><li><span><a href=\"#Listing-contents-of-the-group\" data-toc-modified-id=\"Listing-contents-of-the-group-4.1\">Listing contents of the group</a></span></li><li><span><a href=\"#Adding-users-to-the-group\" data-toc-modified-id=\"Adding-users-to-the-group-4.2\">Adding users to the group</a></span></li><li><span><a href=\"#Removing-users-from-a-group\" data-toc-modified-id=\"Removing-users-from-a-group-4.3\">Removing users from a group</a></span></li><li><span><a href=\"#Listing-users-belonging-to-a-group\" data-toc-modified-id=\"Listing-users-belonging-to-a-group-4.4\">Listing users belonging to a group</a></span></li><li><span><a href=\"#Updating-a-group\" data-toc-modified-id=\"Updating-a-group-4.5\">Updating a group</a></span></li><li><span><a href=\"#Terminating-a-group\" data-toc-modified-id=\"Terminating-a-group-4.6\">Terminating a group</a></span></li></ul></li></ul></div>"
   ]
  },
  {
   "cell_type": "markdown",
   "metadata": {},
   "source": [
    "<a id=\"searching-for-groups\"></a>\n",
    "## Searching for groups\n",
    "You can search for groups by using the `search()` method of `GroupManager` object. The `search()` method accepts standard [ArcGIS REST API queries](http://resources.arcgis.com/en/help/arcgis-rest-api/#/Search_reference/02r3000000mn000000/). To illustrate this better, let us connect to ArcGIS Online anonymously and search for public groups that have the word 'water' in the title."
   ]
  },
  {
   "cell_type": "code",
   "execution_count": 5,
   "metadata": {},
   "outputs": [
    {
     "data": {
      "text/plain": [
       "[<Group title:\"\"High Water Mark\" Initiative\" owner:risson>,\n",
       " <Group title:\"\"High Water Mark\" Initiative Story Map Application\" owner:MeghanL>,\n",
       " <Group title:\"11134352_SUSQTWP_STORM_WATER\" owner:Todd.Plank_GHD>,\n",
       " <Group title:\"11134352_SUSQTWP_STORM_WATER\" owner:risson>,\n",
       " <Group title:\"2013 Audubon Center Water Quality Study\" owner:williamtraddhymes>,\n",
       " <Group title:\"2013 Audubon Water Quality\" owner:nicboucher12>,\n",
       " <Group title:\"2013 Audubon Water Quality\" owner:andcardoza2013>,\n",
       " <Group title:\"2013 Audubon Water Quality Study\" owner:bdhsaudubon>,\n",
       " <Group title:\"2013 Audubon Water Quality Study\" owner:Bradlynn>,\n",
       " <Group title:\"2013 Audubon Water Quality Study\" owner:kylwalker>,\n",
       " <Group title:\"2017 Esri Water Technical Workshops\" owner:Deilson_EsriWater>,\n",
       " <Group title:\"2018 Hurricane Michael Lifeline 2: Food, Water, Sheltering\" owner:karmstrongDRP>,\n",
       " <Group title:\"2018 PMS Texas Water StoryMaps\" owner:becky_haluska>,\n",
       " <Group title:\"3135214 Barwon Water Sanitary Surveys\" owner:Scott.Venables_GHD>,\n",
       " <Group title:\"7-3 Water Quality\" owner:eodonnell.dcsnh>]"
      ]
     },
     "execution_count": 5,
     "metadata": {},
     "output_type": "execute_result"
    }
   ],
   "source": [
    "from arcgis.gis import GIS\n",
    "ago_gis = GIS()\n",
    "urban_groups = ago_gis.groups.search('title:water', max_groups=15)\n",
    "urban_groups"
   ]
  },
  {
   "cell_type": "markdown",
   "metadata": {
    "collapsed": true
   },
   "source": [
    "The `search()` method returns a list of objects of type `arcgis.gis.Group`. When using the Jupyter notebook environment, `Group` objects can be represented in rich HTML with their thumbnail and metadata information."
   ]
  },
  {
   "cell_type": "code",
   "execution_count": 7,
   "metadata": {},
   "outputs": [
    {
     "data": {
      "text/html": [
       "<div class=\"9item_container\" style=\"height: auto; overflow: hidden; border: 1px solid #cfcfcf; border-radius: 2px; background: #f6fafa; line-height: 1.21429em; padding: 10px;\">\n",
       "                    <div class=\"item_left\" style=\"width: 210px; float: left;\">\n",
       "                       <a href='https://www.arcgis.com/home/group.html?id=79d753815619465c9093829d3d8149a8' target='_blank'>\n",
       "                        <img src='https://www.arcgis.com/sharing/rest/community/groups/79d753815619465c9093829d3d8149a8/info/thumbnail.png' class=\"itemThumbnail\">\n",
       "                       </a>\n",
       "                    </div>\n",
       "\n",
       "                    <div class=\"item_right\" style=\"float: none; width: auto; overflow: hidden;\">\n",
       "                        <a href='https://www.arcgis.com/home/group.html?id=79d753815619465c9093829d3d8149a8' target='_blank'><b>\"High Water Mark\" Initiative</b>\n",
       "                        </a>\n",
       "                        <br/>\n",
       "                        <br/><b>Summary</b>: Maps, Applications, and related GIS data\n",
       "                        <br/><b>Description</b>: None\n",
       "                        <br/><b>Owner</b>: risson\n",
       "                        <br/><b>Created</b>: August 27, 2018\n",
       "\n",
       "                    </div>\n",
       "                </div>\n",
       "                "
      ],
      "text/plain": [
       "<Group title:\"\"High Water Mark\" Initiative\" owner:risson>"
      ]
     },
     "execution_count": 7,
     "metadata": {},
     "output_type": "execute_result"
    }
   ],
   "source": [
    "urban_groups[0]"
   ]
  },
  {
   "cell_type": "markdown",
   "metadata": {},
   "source": [
    "You can expand the query string to include multiple fields on a group such as `owner`, `description` etc. Let us look for groups created and owned by account `esri`."
   ]
  },
  {
   "cell_type": "code",
   "execution_count": 8,
   "metadata": {},
   "outputs": [
    {
     "data": {
      "text/plain": [
       "[<Group title:\"Antarctic Maps\" owner:esri>,\n",
       " <Group title:\"ArcGIS Online Basemaps\" owner:esri>,\n",
       " <Group title:\"ArcGlobe Basemaps\" owner:esri>,\n",
       " <Group title:\"ArcMap Basemaps\" owner:esri>,\n",
       " <Group title:\"Arctic Maps\" owner:esri>,\n",
       " <Group title:\"Basemap Feedback\" owner:esri>,\n",
       " <Group title:\"Community Basemaps\" owner:esri>,\n",
       " <Group title:\"Esri Maps and Data\" owner:esri>,\n",
       " <Group title:\"Living Atlas: Community Maps\" owner:esri>,\n",
       " <Group title:\"OpenStreetMap Vector Basemap\" owner:esri>,\n",
       " <Group title:\"Vector Basemaps\" owner:esri>,\n",
       " <Group title:\"World Basemaps (WGS84)\" owner:esri>]"
      ]
     },
     "execution_count": 8,
     "metadata": {},
     "output_type": "execute_result"
    }
   ],
   "source": [
    "esri_owned_groups = ago_gis.groups.search(query='owner:esri and description:basemaps', max_groups=15)\n",
    "esri_owned_groups"
   ]
  },
  {
   "cell_type": "markdown",
   "metadata": {},
   "source": [
    "<a id=\"properties-of-a-group\"></a>\n",
    "## Properties of a group\n",
    "You can query the metadata and related information about a group by querying the properties of its corresponding `Group` object:"
   ]
  },
  {
   "cell_type": "code",
   "execution_count": 10,
   "metadata": {},
   "outputs": [
    {
     "data": {
      "text/plain": [
       "'public'"
      ]
     },
     "execution_count": 10,
     "metadata": {},
     "output_type": "execute_result"
    }
   ],
   "source": [
    "esri_group1 = esri_owned_groups[0]\n",
    "esri_group1.access"
   ]
  },
  {
   "cell_type": "markdown",
   "metadata": {},
   "source": [
    "Let us print some more of the properties of this group"
   ]
  },
  {
   "cell_type": "code",
   "execution_count": 11,
   "metadata": {},
   "outputs": [
    {
     "name": "stdout",
     "output_type": "stream",
     "text": [
      "6cd54e197601410e81a2cbcc9c3e1f22 False True\n",
      "esri\n"
     ]
    },
    {
     "data": {
      "text/plain": [
       "time.struct_time(tm_year=2016, tm_mon=6, tm_mday=23, tm_hour=15, tm_min=49, tm_sec=45, tm_wday=3, tm_yday=175, tm_isdst=1)"
      ]
     },
     "execution_count": 11,
     "metadata": {},
     "output_type": "execute_result"
    }
   ],
   "source": [
    "import time\n",
    "print(esri_group1.groupid, esri_group1.isFav, esri_group1.isInvitationOnly)\n",
    "print(esri_group1.owner)\n",
    "time.localtime(esri_group1.created/1000)"
   ]
  },
  {
   "cell_type": "markdown",
   "metadata": {},
   "source": [
    "Once you know the `id` of a group, you can access it using the `get()` method of the `GroupManager` object:"
   ]
  },
  {
   "cell_type": "code",
   "execution_count": 12,
   "metadata": {},
   "outputs": [
    {
     "data": {
      "text/html": [
       "<div class=\"9item_container\" style=\"height: auto; overflow: hidden; border: 1px solid #cfcfcf; border-radius: 2px; background: #f6fafa; line-height: 1.21429em; padding: 10px;\">\n",
       "                    <div class=\"item_left\" style=\"width: 210px; float: left;\">\n",
       "                       <a href='https://www.arcgis.com/home/group.html?id=6cd54e197601410e81a2cbcc9c3e1f22' target='_blank'>\n",
       "                        <img src='https://www.arcgis.com/sharing/rest/community/groups/6cd54e197601410e81a2cbcc9c3e1f22/info/Esri_Logo_13.jpg' class=\"itemThumbnail\">\n",
       "                       </a>\n",
       "                    </div>\n",
       "\n",
       "                    <div class=\"item_right\" style=\"float: none; width: auto; overflow: hidden;\">\n",
       "                        <a href='https://www.arcgis.com/home/group.html?id=6cd54e197601410e81a2cbcc9c3e1f22' target='_blank'><b>Antarctic Maps</b>\n",
       "                        </a>\n",
       "                        <br/>\n",
       "                        <br/><b>Summary</b>: This group contains a collection of ready-to-use polar web maps and layers for the Antarctic region that have been published by Esri.\n",
       "                        <br/><b>Description</b>: <br /><div><div>This group contains a collection of web maps and map layers for the Antarctic region that have been published by Esri.  These maps and layers are also part of the <a href='http://doc.arcgis.com/en/living-atlas/#s=0&amp;subCat=0&amp;type=All&amp;area=All' target='_blank'>Living Atlas of the World</a>, the foremost collection of authoritative, ready-to-use global geographic information.</div><div><br /></div><div><br /></div><div><font size='4'>Using Web Maps</font></div><div>The ready-to-use maps in this collection are based on the polar projection WGS_1984_Antarctic_Polar_Stereographic and can be opened or added to applications that support web maps.  </div><div><br /></div><div><br /></div><div><font size='4'>Using Layers </font></div><div>To view layers in this group you'll want to add layers to a map that is using the Polar projection of WGS_1984_Antarctic_Polar_Stereographic, for example the <a href='http://www.arcgis.com/home/item.html?id=6553466517dd4d5e8b0c518b8d6b64cb' target='_blank'>Antarctic Imagery</a> basemap. Other polar projections may be used within their useful limits. </div></div><div><br /></div><div><br /></div><div>Looking for content maps and layers on the other side of the globe?  The <a href='http://www.arcgis.com/home/group.html?id=8ded5dee19d8452aa2a90784dfb9424d' target='_blank'>Arctic Maps</a> group is also available.<br /></div>\n",
       "                        <br/><b>Owner</b>: esri\n",
       "                        <br/><b>Created</b>: June 23, 2016\n",
       "\n",
       "                    </div>\n",
       "                </div>\n",
       "                "
      ],
      "text/plain": [
       "<Group title:\"Antarctic Maps\" owner:esri>"
      ]
     },
     "execution_count": 12,
     "metadata": {},
     "output_type": "execute_result"
    }
   ],
   "source": [
    "ago_gis.groups.get(esri_group1.groupid)"
   ]
  },
  {
   "cell_type": "markdown",
   "metadata": {},
   "source": [
    "<a id=\"creating-new-groups\"></a>\n",
    "## Creating new groups\n",
    "You can create new groups by calling the `create()` method of the `GroupManager` object. This method is similar to other `create` methods of `ResourceManager` objects and returns you an instance of the `Group` object it created.\n",
    "\n",
    "Let us create a new group for geocaching enthusiasts in our GIS. Replace the credentials below with that of your org. To learn more about profiles, [see here](https://developers.arcgis.com/python/guide/working-with-different-authentication-schemes/#Storing-your-credentialls-locally)"
   ]
  },
  {
   "cell_type": "code",
   "execution_count": 14,
   "metadata": {},
   "outputs": [
    {
     "data": {
      "text/html": [
       "<div class=\"9item_container\" style=\"height: auto; overflow: hidden; border: 1px solid #cfcfcf; border-radius: 2px; background: #f6fafa; line-height: 1.21429em; padding: 10px;\">\n",
       "                    <div class=\"item_left\" style=\"width: 210px; float: left;\">\n",
       "                       <a href='https://pythonapi.playground.esri.com/portal/home/group.html?id=f5e3c147fa0d4f0da3ea713d14481449' target='_blank'>\n",
       "                        <img src='data:image/png;base64,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' ' class=\"itemThumbnail\">\n",
       "                       </a>\n",
       "                    </div>\n",
       "\n",
       "                    <div class=\"item_right\" style=\"float: none; width: auto; overflow: hidden;\">\n",
       "                        <a href='https://pythonapi.playground.esri.com/portal/home/group.html?id=f5e3c147fa0d4f0da3ea713d14481449' target='_blank'><b>Recreational geocaching</b>\n",
       "                        </a>\n",
       "                        <br/>\n",
       "                        <br/><b>Summary</b>: Share your GPX tracks as feature layers here\n",
       "                        <br/><b>Description</b>: Group to share your landmarks and games\n",
       "                        <br/><b>Owner</b>: arcgis_python\n",
       "                        <br/><b>Created</b>: March 22, 2019\n",
       "\n",
       "                    </div>\n",
       "                </div>\n",
       "                "
      ],
      "text/plain": [
       "<Group title:\"Recreational geocaching\" owner:arcgis_python>"
      ]
     },
     "execution_count": 14,
     "metadata": {},
     "output_type": "execute_result"
    }
   ],
   "source": [
    "# connect to GIS with credentials\n",
    "gis = GIS(profile='your_enterprise_profile')\n",
    "geocaching_group = gis.groups.create(title='Recreational geocaching',\n",
    "                                    tags = 'hobby, geocaching, gps, hide n seek',\n",
    "                                    description = 'Group to share your landmarks and games',\n",
    "                                    snippet = 'Share your GPX tracks as feature layers here',\n",
    "                                    access = 'org',\n",
    "                                    is_invitation_only = 'False',\n",
    "                                    thumbnail = r'../../static/img/geocaching.jpeg')\n",
    "geocaching_group"
   ]
  },
  {
   "cell_type": "markdown",
   "metadata": {},
   "source": [
    "<a id=\"sharing-content-to-groups\"></a>\n",
    "### Sharing content to groups\n",
    "In an ArcGIS Org, an `Item` can have 4 privacy levels - `private`, `group`, `org`, `everyone`. When an `Item` is shared to a group, all members of a group get to view it. Similarly, when shared to an organization, all authenticated members of the org can view it. When shared to everyone, and if the org permits anonymous access, the item is public and accessible to anyone and does not have to be a logged in user.\n",
    "\n",
    "First, let us add a CSV containing some points to the GIS."
   ]
  },
  {
   "cell_type": "code",
   "execution_count": 19,
   "metadata": {},
   "outputs": [],
   "source": [
    "item_properties = {'title':'Hidden treasures',\n",
    "                  'tags':['geocaching', 'searching', 'hikes', 'POI'],\n",
    "                  'snippet':'Points containing treasures for geocaching activity'}\n",
    "fc_item = gis.content.add(item_properties, data='../../samples/05_content_publishers/data/hidden_treasures_geocaching.csv')"
   ]
  },
  {
   "cell_type": "code",
   "execution_count": 20,
   "metadata": {},
   "outputs": [
    {
     "data": {
      "text/plain": [
       "'private'"
      ]
     },
     "execution_count": 20,
     "metadata": {},
     "output_type": "execute_result"
    }
   ],
   "source": [
    "fc_item.access"
   ]
  },
  {
   "cell_type": "markdown",
   "metadata": {},
   "source": [
    "To share an `Item` to a group, call the `share()` method of the `Item` object and pass the `Group` object. You can also pass the name of the group or its ID."
   ]
  },
  {
   "cell_type": "code",
   "execution_count": 22,
   "metadata": {},
   "outputs": [
    {
     "data": {
      "text/plain": [
       "{'results': [{'itemId': '5fc1b6702ff94228a71092e62f9bcdef',\n",
       "   'success': True,\n",
       "   'notSharedWith': []}]}"
      ]
     },
     "execution_count": 22,
     "metadata": {},
     "output_type": "execute_result"
    }
   ],
   "source": [
    "# let us share it to the group so other enthusiasts can enjoy this map\n",
    "fc_item.share(groups=geocaching_group)"
   ]
  },
  {
   "cell_type": "markdown",
   "metadata": {},
   "source": [
    "<a id=\"managing-your-groups\"></a>\n",
    "## Managing your groups\n",
    "\n",
    "### Listing contents of the group\n",
    "As the first step in managing your groups, let us view the items shared with the group by using the `content()` method"
   ]
  },
  {
   "cell_type": "code",
   "execution_count": 23,
   "metadata": {},
   "outputs": [
    {
     "data": {
      "text/plain": [
       "[<Item title:\"Hidden treasures\" type:CSV owner:arcgis_python>]"
      ]
     },
     "execution_count": 23,
     "metadata": {},
     "output_type": "execute_result"
    }
   ],
   "source": [
    "geocaching_group.content()"
   ]
  },
  {
   "cell_type": "markdown",
   "metadata": {},
   "source": [
    "### Adding users to the group\n",
    "Now our group has sufficient details and content to make it useful for others. Let us add some users. You can either add users using the `add_users()` method and specify the list of usernames, or if you wish to leave joining to their choice, you can invite them to the group using the `invite_users()` method."
   ]
  },
  {
   "cell_type": "code",
   "execution_count": 24,
   "metadata": {},
   "outputs": [
    {
     "data": {
      "text/plain": [
       "{'notAdded': []}"
      ]
     },
     "execution_count": 24,
     "metadata": {},
     "output_type": "execute_result"
    }
   ],
   "source": [
    "# let us add 2 users to this group\n",
    "geocaching_group.add_users(['api_data_owner', 'portaladmin'])"
   ]
  },
  {
   "cell_type": "markdown",
   "metadata": {},
   "source": [
    "The method returns a dictionary with information on which users could not be added. As seen on the guide for [managing users](https://developers.arcgis.com/python/guide/accessing-and-managing-users/), users could have custom privileges  preventing them from joining groups. In such occasions, you would get the names of those users in this return list.\n",
    "\n",
    "### Removing users from a group\n",
    "You can remove users from a group by calling the `remove_users()` method and passing the list of usernames to be removed. The method returns you a dictionary containing those users who cannot be removed."
   ]
  },
  {
   "cell_type": "code",
   "execution_count": 25,
   "metadata": {},
   "outputs": [
    {
     "data": {
      "text/plain": [
       "{'notRemoved': []}"
      ]
     },
     "execution_count": 25,
     "metadata": {},
     "output_type": "execute_result"
    }
   ],
   "source": [
    "# remove the one of the members\n",
    "geocaching_group.remove_users(['portaladmin'])"
   ]
  },
  {
   "cell_type": "code",
   "execution_count": 26,
   "metadata": {},
   "outputs": [
    {
     "data": {
      "text/plain": [
       "{'notRemoved': ['arcgis_python_api']}"
      ]
     },
     "execution_count": 26,
     "metadata": {},
     "output_type": "execute_result"
    }
   ],
   "source": [
    "# can you remove the owner of the group?\n",
    "geocaching_group.remove_users(['arcgis_python_api'])"
   ]
  },
  {
   "cell_type": "markdown",
   "metadata": {},
   "source": [
    "Thus, you cannot remove the owner or admin of the group until you reassign the ownership to another user.\n",
    "\n",
    "### Listing users belonging to a group\n",
    "You can list the users in a group by calling the `get_members()` method. The method returns a dictionary that not only gives you the member list, but also the owner, admin and users."
   ]
  },
  {
   "cell_type": "code",
   "execution_count": 27,
   "metadata": {},
   "outputs": [
    {
     "data": {
      "text/plain": [
       "{'owner': 'arcgis_python',\n",
       " 'admins': ['arcgis_python'],\n",
       " 'users': ['api_data_owner']}"
      ]
     },
     "execution_count": 27,
     "metadata": {},
     "output_type": "execute_result"
    }
   ],
   "source": [
    "geocaching_group.get_members()"
   ]
  },
  {
   "cell_type": "markdown",
   "metadata": {},
   "source": [
    "### Updating a group\n",
    "You can update any or all the fields of a group that you specified when creating it. Thus, the `update()` accepts the same parameters as `create()`. Let us close the group to members who can be added through invitation only. This prevents users from sending a joining request."
   ]
  },
  {
   "cell_type": "code",
   "execution_count": 28,
   "metadata": {},
   "outputs": [
    {
     "data": {
      "text/plain": [
       "True"
      ]
     },
     "execution_count": 28,
     "metadata": {},
     "output_type": "execute_result"
    }
   ],
   "source": [
    "geocaching_group.update(is_invitation_only=True)"
   ]
  },
  {
   "cell_type": "code",
   "execution_count": 29,
   "metadata": {},
   "outputs": [
    {
     "data": {
      "text/plain": [
       "True"
      ]
     },
     "execution_count": 29,
     "metadata": {},
     "output_type": "execute_result"
    }
   ],
   "source": [
    "geocaching_group.isInvitationOnly"
   ]
  },
  {
   "cell_type": "markdown",
   "metadata": {},
   "source": [
    "### Terminating a group\n",
    "If a group no longer serves the purpose or if its requirements have changed, the owner and members have a few options. They can leave the group by calling the `leave()` method. When users leave a group, the content they shared with the group will automatically be unshared. The owner or org admin can delete the group by calling the `delete()` method. \n",
    "\n",
    "However if the contents and the group have to be preserved, the group's ownership can be transferred by calling the `reassign_to()` and specifying the new owner's username. \n",
    "\n",
    "<blockquote><b>Note:</b> Only the administrator of the org can reassign a group to another user.</blockquote>"
   ]
  },
  {
   "cell_type": "markdown",
   "metadata": {},
   "source": [
    "let us reassign ownership to another user\n",
    "```python\n",
    "geocaching_group.reassign_to(target_owner = 'api_data_owner')\n",
    "```"
   ]
  },
  {
   "cell_type": "markdown",
   "metadata": {},
   "source": [
    "Finally, let us delete this group"
   ]
  },
  {
   "cell_type": "code",
   "execution_count": 35,
   "metadata": {},
   "outputs": [
    {
     "data": {
      "text/plain": [
       "True"
      ]
     },
     "execution_count": 35,
     "metadata": {},
     "output_type": "execute_result"
    }
   ],
   "source": [
    "geocaching_group.delete()"
   ]
  }
 ],
 "metadata": {
  "kernelspec": {
   "display_name": "Python 3",
   "language": "python",
   "name": "python3"
  },
  "language_info": {
   "codemirror_mode": {
    "name": "ipython",
    "version": 3
   },
   "file_extension": ".py",
   "mimetype": "text/x-python",
   "name": "python",
   "nbconvert_exporter": "python",
   "pygments_lexer": "ipython3",
   "version": "3.6.6"
  },
  "toc": {
   "base_numbering": 1,
   "nav_menu": {},
   "number_sections": false,
   "sideBar": false,
   "skip_h1_title": true,
   "title_cell": "Table of Contents",
   "title_sidebar": "Contents",
   "toc_cell": true,
   "toc_position": {},
   "toc_section_display": true,
   "toc_window_display": false
  }
 },
 "nbformat": 4,
 "nbformat_minor": 1
}
