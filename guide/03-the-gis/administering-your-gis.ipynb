{
 "cells": [
  {
   "cell_type": "markdown",
   "metadata": {},
   "source": [
    "# Administering your GIS\n",
    "\n",
    "ArcGIS administrators can leverage the `gis.admin` module of **ArcGIS API for Python** to assist with and automate their administrative tasks. These tasks can include anything from checking the status of servers, assigning licenses to named user accounts to modifying the GIS's look and feel.\n",
    "\n",
    "ArcGIS Online Organizations (AGOL) and ArcGIS Enterprise instances vary on the amount of customization you can make. Enterprise organizations can be customized much more than ArcGIS Online organizations as Enterprise allows administrations full access. No matter what your organization is, the API and usage is identical. The table below illustrates the extent to which each can be customized and administered."
   ]
  },
  {
   "cell_type": "markdown",
   "metadata": {},
   "source": [
    "<h3>Organizational differences</h3>\n",
    "\n",
    "<table border=\"1\" class=\"dataframe\"><thead><tr style=\"text-align: right;\"><th>Function</th><th>ArcGIS Online</th><th>ArcGIS Enterprise</th></tr></thead><tbody><tr><td>collaborations</td><td>X</td><td>X</td></tr><tr><td>credits</td><td>X</td><td></td></tr><tr><td>federation</td><td></td><td>X</td></tr><tr><td>license</td><td>X</td><td>X</td></tr><tr><td>logs</td><td></td><td>X</td></tr><tr><td>machines</td><td></td><td>X</td></tr><tr><td>metadata</td><td>X</td><td>X</td></tr><tr><td>password_policy</td><td>X</td><td>X</td></tr><tr><td>security</td><td></td><td>X</td></tr><tr><td>server</td><td></td><td>X</td></tr><tr><td>site</td><td></td><td>X</td></tr><tr><td>system</td><td></td><td>X</td></tr><tr><td>ux</td><td>X</td><td>X</td></tr></tbody></table>\n",
    "\n",
    "Most properties on ArcGIS Online are available on ArcGIS Enterprise except 'credit reporting' because ArcGIS Enterprise does not consume credits.\n",
    "\n",
    "<blockquote><b>Note:</b> You need to log in using a named user account with administrator privileges. When you login, the API detects if you are an organizational administrator, then, the <b>GIS</b> object will ensure you gain access to the <b>admin</b> module.</blockquote>\n"
   ]
  },
  {
   "cell_type": "markdown",
   "metadata": {},
   "source": [
    "**Table of Contents**\n",
    " - [Managing named user licenses and entitlements](#Managing-named-user-licenses-and-entitlements)\n",
    "  - [Listing apps licensed through the organization](#Listing-apps-licensed-through-the-organization)\n",
    "  - [Getting available licenses for an app](#Getting-available-licenses-for-an-app)\n",
    "  - [Querying extensions assigned to a named user account](#Querying-extensions-assigned-to-a-named-user-account)\n",
    "  - [Assigning licenses and entitlements to a named user account](#Assigning-licenses-and-entitlements-to-a-named-user-account)\n",
    "  - [Revoking licenses from a named user account](#Revoking-licenses-from-a-named-used-account)\n",
    " - [Managing ArcGIS Online credits](#Managing-ArcGIS-Online-credits)\n",
    "  - [Viewing available credits](#Viewing-available-credits:)\n",
    "  - [Managing credits through credit budgeting](#Managing-credits-through-credit-budgeting)\n",
    "   - [Allocating credits to a user](#Allocating-credits-to-a-user)\n",
    "   - [Checking credits assigned and available to a user](#Checking-credits-assigned-and-available-to-a-user)\n",
    " - [Attaching and removing servers from your GIS](#Attaching-and-removing-ArcGIS-Servers-from-your-GIS)\n",
    "  - [Validating your servers](#Validating-your-servers)\n",
    "  - [Unfederating a server](#Unfederating-a-server)\n",
    " - [Querying Portal logs](#Querying-Portal-logs)\n",
    "  - [Filtering and querying Portal logs](#Filtering-and-querying-Portal-logs)\n",
    "  - [Clearing logs](#Clearing-logs)\n",
    " - [Managing GIS security](#Managing-GIS-security)\n",
    "  - [Working with password policies](#Working-with-password-policies)\n",
    "    - [Inspecting password policy](#Inspecting-password-policy)\n",
    "    - [Updating password policy](#Updating-password-policy)\n",
    "    - [Resetting password policy](#Resetting-password-policy)\n",
    "  - [Working with security configurations](#Working-with-security-configurations)\n",
    "    - [Working with certificates](#SSL-certificates)\n",
    "    - [Enterprise identity store](#Enterprise-identity-store)\n",
    " - [Managing Enterprise licenses and system settings](#Managing-Enterprise-licenses-and-system-settings)\n",
    "  - [Inspecting licenses for Portal for ArcGIS](#Inspecting-licenses-for-Portal-for-ArcGIS)\n",
    "  - [Releasing ArcGIS Pro licenses checked out for offline use](#Releasing-ArcGIS-Pro-licenses-checked-out-for-offline-use)\n",
    "  - [Inspecting the machines powering your Portal for ArcGIS](#Inspecting-the-machines-powering-your-Portal-for-ArcGIS)\n",
    "  - [Inspecting system directories](#Inspecting-system-directories)\n",
    "  - [Inspecting web adaptors](#Inspecting-web-adaptors)\n",
    "  - [Inspecting other system properties](#Inspecting-other-system-properties)"
   ]
  },
  {
   "cell_type": "code",
   "execution_count": null,
   "metadata": {
    "collapsed": true
   },
   "outputs": [],
   "source": [
    "from arcgis.gis import GIS\n",
    "gis = GIS(\"https://portalname.domain.com/webadaptor\", \"username\", \"password\")"
   ]
  },
  {
   "cell_type": "markdown",
   "metadata": {},
   "source": [
    "## Managing named user licenses and entitlements\n",
    "ArcGIS Online and Enterprise support assigning licenses for Esri premium apps such as ArcGIS Pro, Navigator for ArcGIS, AppStudio for ArcGIS Standard, Drone2Map for ArcGIS, ArcGIS Business Analyst web app, ArcGIS Community Analyst, GeoPlanner for ArcGIS, and other apps sold through ArcGIS Marketplace that use a per-member license type. \n",
    "\n",
    "As an administrator, you use the `gis.admin.license` class of Python API to view, manage and specify which members have licenses for these apps. To learn more about named user licensing model visit [manage licenses help](http://doc.arcgis.com/en/arcgis-online/administer/manage-licenses.htm)."
   ]
  },
  {
   "cell_type": "markdown",
   "metadata": {},
   "source": [
    "### Listing apps licensed through the organization\n",
    "To list all the apps currently licensed through your organization, use the `all()` method:"
   ]
  },
  {
   "cell_type": "code",
   "execution_count": null,
   "metadata": {},
   "outputs": [
    {
     "data": {
      "text/plain": [
       "[<ArcGIS Pro License at https://geosaurus.maps.arcgis.com/sharing/rest/>,\n",
       " <Drone2Map for ArcGIS License at https://geosaurus.maps.arcgis.com/sharing/rest/>,\n",
       " <GeoPlanner for ArcGIS License at https://geosaurus.maps.arcgis.com/sharing/rest/>,\n",
       " <AppStudio for ArcGIS Standard License at https://geosaurus.maps.arcgis.com/sharing/rest/>,\n",
       " <ArcGIS Community Analyst License at https://geosaurus.maps.arcgis.com/sharing/rest/>,\n",
       " <Navigator for ArcGIS License at https://geosaurus.maps.arcgis.com/sharing/rest/>,\n",
       " <ArcGIS Business Analyst License at https://geosaurus.maps.arcgis.com/sharing/rest/>]"
      ]
     },
     "execution_count": null,
     "metadata": {},
     "output_type": "execute_result"
    }
   ],
   "source": [
    "gis.admin.license.all()"
   ]
  },
  {
   "cell_type": "markdown",
   "metadata": {},
   "source": [
    "You can get the license for a particular app using the `get()` method:"
   ]
  },
  {
   "cell_type": "code",
   "execution_count": null,
   "metadata": {},
   "outputs": [
    {
     "data": {
      "text/plain": [
       "<ArcGIS Pro License at https://geosaurus.maps.arcgis.com/sharing/rest/>"
      ]
     },
     "execution_count": null,
     "metadata": {},
     "output_type": "execute_result"
    }
   ],
   "source": [
    "pro_license = gis.admin.license.get('ArcGIS Pro')\n",
    "pro_license"
   ]
  },
  {
   "cell_type": "code",
   "execution_count": null,
   "metadata": {},
   "outputs": [
    {
     "data": {
      "text/plain": [
       "arcgis.gis.admin._license.License"
      ]
     },
     "execution_count": null,
     "metadata": {},
     "output_type": "execute_result"
    }
   ],
   "source": [
    "type(pro_license)"
   ]
  },
  {
   "cell_type": "markdown",
   "metadata": {},
   "source": [
    "### Getting available licenses for an app\n",
    "To query the list of all users licensed for an app, call the `all()` method from the `License` object corresponding to that app:"
   ]
  },
  {
   "cell_type": "code",
   "execution_count": null,
   "metadata": {},
   "outputs": [
    {
     "data": {
      "text/plain": [
       "[{'disconnected': False,\n",
       "  'entitlements': ['dataInteropN',\n",
       "   'dataReviewerN',\n",
       "   'desktopBasicN',\n",
       "   'geostatAnalystN',\n",
       "   'networkAnalystN',\n",
       "   'publisherN',\n",
       "   'smpLAmericaN',\n",
       "   'smpNAmericaN'],\n",
       "  'lastLogin': -1,\n",
       "  'username': 'amani_geosaurus'}]"
      ]
     },
     "execution_count": null,
     "metadata": {},
     "output_type": "execute_result"
    }
   ],
   "source": [
    "#get all users licensed for ArcGIS Pro\n",
    "pro_license.all()"
   ]
  },
  {
   "cell_type": "markdown",
   "metadata": {},
   "source": [
    "Using the `plot()` method of the `License` object, you can quickly pull up a bar chart showing the number of assigned and remaining licenses for each extension of the app."
   ]
  },
  {
   "cell_type": "code",
   "execution_count": null,
   "metadata": {},
   "outputs": [
    {
     "data": {
      "text/plain": [
       "<matplotlib.axes._subplots.AxesSubplot at 0x903743dd68>"
      ]
     },
     "execution_count": null,
     "metadata": {},
     "output_type": "execute_result"
    },
    {
     "data": {
      "image/png": "[encoded data removed]",
      "text/plain": [
       "<matplotlib.figure.Figure at 0x9037301128>"
      ]
     },
     "metadata": {},
     "output_type": "display_data"
    }
   ],
   "source": [
    "%matplotlib inline\n",
    "pro_license.plot()"
   ]
  },
  {
   "cell_type": "markdown",
   "metadata": {},
   "source": [
    "Using the `License` object's `report` property, you can view the same information as a Pandas DataFrame table"
   ]
  },
  {
   "cell_type": "code",
   "execution_count": null,
   "metadata": {},
   "outputs": [
    {
     "data": {
      "text/html": [
       "<div>\n",
       "<table border=\"1\" class=\"dataframe\">\n",
       "  <thead>\n",
       "    <tr style=\"text-align: right;\">\n",
       "      <th></th>\n",
       "      <th>Entitlement</th>\n",
       "      <th>Total</th>\n",
       "      <th>Assigned</th>\n",
       "      <th>Remaining</th>\n",
       "    </tr>\n",
       "  </thead>\n",
       "  <tbody>\n",
       "    <tr>\n",
       "      <th>0</th>\n",
       "      <td>smpNAmericaN</td>\n",
       "      <td>50</td>\n",
       "      <td>1</td>\n",
       "      <td>49</td>\n",
       "    </tr>\n",
       "    <tr>\n",
       "      <th>1</th>\n",
       "      <td>airportsN</td>\n",
       "      <td>100</td>\n",
       "      <td>0</td>\n",
       "      <td>100</td>\n",
       "    </tr>\n",
       "    <tr>\n",
       "      <th>2</th>\n",
       "      <td>dataInteropN</td>\n",
       "      <td>50</td>\n",
       "      <td>1</td>\n",
       "      <td>49</td>\n",
       "    </tr>\n",
       "    <tr>\n",
       "      <th>3</th>\n",
       "      <td>networkAnalystN</td>\n",
       "      <td>50</td>\n",
       "      <td>1</td>\n",
       "      <td>49</td>\n",
       "    </tr>\n",
       "    <tr>\n",
       "      <th>4</th>\n",
       "      <td>defenseN</td>\n",
       "      <td>100</td>\n",
       "      <td>0</td>\n",
       "      <td>100</td>\n",
       "    </tr>\n",
       "    <tr>\n",
       "      <th>5</th>\n",
       "      <td>workflowMgrN</td>\n",
       "      <td>50</td>\n",
       "      <td>0</td>\n",
       "      <td>50</td>\n",
       "    </tr>\n",
       "    <tr>\n",
       "      <th>6</th>\n",
       "      <td>LocRefDesktopN</td>\n",
       "      <td>100</td>\n",
       "      <td>0</td>\n",
       "      <td>100</td>\n",
       "    </tr>\n",
       "    <tr>\n",
       "      <th>7</th>\n",
       "      <td>spatialAnalystN</td>\n",
       "      <td>50</td>\n",
       "      <td>0</td>\n",
       "      <td>50</td>\n",
       "    </tr>\n",
       "    <tr>\n",
       "      <th>8</th>\n",
       "      <td>3DAnalystN</td>\n",
       "      <td>50</td>\n",
       "      <td>0</td>\n",
       "      <td>50</td>\n",
       "    </tr>\n",
       "    <tr>\n",
       "      <th>9</th>\n",
       "      <td>dataReviewerN</td>\n",
       "      <td>50</td>\n",
       "      <td>1</td>\n",
       "      <td>49</td>\n",
       "    </tr>\n",
       "    <tr>\n",
       "      <th>10</th>\n",
       "      <td>smpEuropeN</td>\n",
       "      <td>50</td>\n",
       "      <td>0</td>\n",
       "      <td>50</td>\n",
       "    </tr>\n",
       "    <tr>\n",
       "      <th>11</th>\n",
       "      <td>desktopStdN</td>\n",
       "      <td>50</td>\n",
       "      <td>0</td>\n",
       "      <td>50</td>\n",
       "    </tr>\n",
       "    <tr>\n",
       "      <th>12</th>\n",
       "      <td>smpLAmericaN</td>\n",
       "      <td>50</td>\n",
       "      <td>1</td>\n",
       "      <td>49</td>\n",
       "    </tr>\n",
       "    <tr>\n",
       "      <th>13</th>\n",
       "      <td>geostatAnalystN</td>\n",
       "      <td>50</td>\n",
       "      <td>1</td>\n",
       "      <td>49</td>\n",
       "    </tr>\n",
       "    <tr>\n",
       "      <th>14</th>\n",
       "      <td>desktopBasicN</td>\n",
       "      <td>50</td>\n",
       "      <td>1</td>\n",
       "      <td>49</td>\n",
       "    </tr>\n",
       "    <tr>\n",
       "      <th>15</th>\n",
       "      <td>smpMidEAfricaN</td>\n",
       "      <td>50</td>\n",
       "      <td>0</td>\n",
       "      <td>50</td>\n",
       "    </tr>\n",
       "    <tr>\n",
       "      <th>16</th>\n",
       "      <td>desktopAdvN</td>\n",
       "      <td>50</td>\n",
       "      <td>0</td>\n",
       "      <td>50</td>\n",
       "    </tr>\n",
       "    <tr>\n",
       "      <th>17</th>\n",
       "      <td>publisherN</td>\n",
       "      <td>100</td>\n",
       "      <td>1</td>\n",
       "      <td>99</td>\n",
       "    </tr>\n",
       "  </tbody>\n",
       "</table>\n",
       "</div>"
      ],
      "text/plain": [
       "        Entitlement  Total  Assigned  Remaining\n",
       "0      smpNAmericaN     50         1         49\n",
       "1         airportsN    100         0        100\n",
       "2      dataInteropN     50         1         49\n",
       "3   networkAnalystN     50         1         49\n",
       "4          defenseN    100         0        100\n",
       "5      workflowMgrN     50         0         50\n",
       "6    LocRefDesktopN    100         0        100\n",
       "7   spatialAnalystN     50         0         50\n",
       "8        3DAnalystN     50         0         50\n",
       "9     dataReviewerN     50         1         49\n",
       "10       smpEuropeN     50         0         50\n",
       "11      desktopStdN     50         0         50\n",
       "12     smpLAmericaN     50         1         49\n",
       "13  geostatAnalystN     50         1         49\n",
       "14    desktopBasicN     50         1         49\n",
       "15   smpMidEAfricaN     50         0         50\n",
       "16      desktopAdvN     50         0         50\n",
       "17       publisherN    100         1         99"
      ]
     },
     "execution_count": null,
     "metadata": {},
     "output_type": "execute_result"
    }
   ],
   "source": [
    "pro_license.report"
   ]
  },
  {
   "cell_type": "markdown",
   "metadata": {},
   "source": [
    "### Querying extensions assigned to a named user account\n",
    "\n",
    "You can find which of the app's extensions are assigned to a particular user using the `License` object's `user_entitlement()` method:"
   ]
  },
  {
   "cell_type": "code",
   "execution_count": null,
   "metadata": {},
   "outputs": [
    {
     "data": {
      "text/plain": [
       "{'disconnected': False,\n",
       " 'entitlements': ['dataInteropN',\n",
       "  'dataReviewerN',\n",
       "  'desktopBasicN',\n",
       "  'geostatAnalystN',\n",
       "  'networkAnalystN',\n",
       "  'publisherN',\n",
       "  'smpLAmericaN',\n",
       "  'smpNAmericaN'],\n",
       " 'lastLogin': -1,\n",
       " 'username': 'amani_geosaurus'}"
      ]
     },
     "execution_count": null,
     "metadata": {},
     "output_type": "execute_result"
    }
   ],
   "source": [
    "pro_license.user_entitlement('username')"
   ]
  },
  {
   "cell_type": "markdown",
   "metadata": {},
   "source": [
    "### Assigning licenses and entitlements to a named user account\n",
    "You can assign licenses to an application and its extensions using the `assign()` method."
   ]
  },
  {
   "cell_type": "code",
   "execution_count": null,
   "metadata": {},
   "outputs": [
    {
     "data": {
      "text/plain": [
       "True"
      ]
     },
     "execution_count": null,
     "metadata": {},
     "output_type": "execute_result"
    }
   ],
   "source": [
    "pro_license.assign(username='arcgis_python', entitlements='desktopBasicN')"
   ]
  },
  {
   "cell_type": "markdown",
   "metadata": {},
   "source": [
    "### Revoking licenses from a named used account\n",
    "To revoke an app's license from a user, call the `revoke()` method from the corresponding `License` object. To revoke all the entitlements, pass `*` as a string."
   ]
  },
  {
   "cell_type": "code",
   "execution_count": null,
   "metadata": {},
   "outputs": [
    {
     "data": {
      "text/plain": [
       "True"
      ]
     },
     "execution_count": null,
     "metadata": {},
     "output_type": "execute_result"
    }
   ],
   "source": [
    "pro_license.revoke(username='arcgis_python', entitlements='*')"
   ]
  },
  {
   "cell_type": "markdown",
   "metadata": {},
   "source": [
    "## Managing ArcGIS Online credits\n",
    "If your GIS is an organization on ArcGIS Online, you would notice a `credits` property exposed on your `admin` object. You can use this to view, allocate credits to your users, set a default limit etc. To learn more about credits refer [here](http://doc.arcgis.com/en/arcgis-online/reference/credits.htm).\n",
    "\n",
    "<blockquote><b>Note:</b> ArcGIS Enterprises do not support the concept of credits. Hence if your GIS is an instance of Enterprise, you would not see the `credits` property. </blockquote>\n",
    "\n",
    "### Viewing available credits:"
   ]
  },
  {
   "cell_type": "code",
   "execution_count": null,
   "metadata": {},
   "outputs": [
    {
     "data": {
      "text/plain": [
       "80404.89"
      ]
     },
     "execution_count": null,
     "metadata": {},
     "output_type": "execute_result"
    }
   ],
   "source": [
    "gis.admin.credits.credits"
   ]
  },
  {
   "cell_type": "markdown",
   "metadata": {},
   "source": [
    "### Managing credits through credit budgeting\n",
    "The credit budgeting feature of ArcGIS Online allows administrators to view, limit and allocate credits to its users. Learn more about [credit budgeting here](http://doc.arcgis.com/en/arcgis-online/administer/configure-credits.htm).\n",
    "\n",
    "You can use the `enable()` method to turn on credit budgeting."
   ]
  },
  {
   "cell_type": "code",
   "execution_count": null,
   "metadata": {},
   "outputs": [
    {
     "data": {
      "text/plain": [
       "True"
      ]
     },
     "execution_count": null,
     "metadata": {},
     "output_type": "execute_result"
    }
   ],
   "source": [
    "gis.admin.credits.enable()"
   ]
  },
  {
   "cell_type": "markdown",
   "metadata": {},
   "source": [
    "You can use the `is_enabled()` property to verify if credit budgeting is turned on."
   ]
  },
  {
   "cell_type": "code",
   "execution_count": null,
   "metadata": {},
   "outputs": [
    {
     "data": {
      "text/plain": [
       "True"
      ]
     },
     "execution_count": null,
     "metadata": {},
     "output_type": "execute_result"
    }
   ],
   "source": [
    "gis.admin.credits.is_enabled"
   ]
  },
  {
   "cell_type": "markdown",
   "metadata": {},
   "source": [
    "Once you turn on credit budgeting, you can set a default limit for the number of credits for each user. In addition to this, you can set custom limits to users as well. Default limit applies when you create a new user and do not set a custom limit."
   ]
  },
  {
   "cell_type": "code",
   "execution_count": null,
   "metadata": {},
   "outputs": [
    {
     "data": {
      "text/plain": [
       "8000"
      ]
     },
     "execution_count": null,
     "metadata": {},
     "output_type": "execute_result"
    }
   ],
   "source": [
    "gis.admin.credits.default_limit"
   ]
  },
  {
   "cell_type": "markdown",
   "metadata": {},
   "source": [
    "#### Allocating credits to a user\n",
    "You can use the `allocate()` and `deallocate()` methods to allocate custom number of credits or remove credits from a named user."
   ]
  },
  {
   "cell_type": "code",
   "execution_count": null,
   "metadata": {},
   "outputs": [
    {
     "data": {
      "text/plain": [
       "True"
      ]
     },
     "execution_count": null,
     "metadata": {},
     "output_type": "execute_result"
    }
   ],
   "source": [
    "#assign one tenth of the available credits to arcgis_python account\n",
    "api_acc_credits = gis.admin.credits.credits / 10\n",
    "gis.admin.credits.allocate(username='arcgis_python', credits=api_acc_credits)"
   ]
  },
  {
   "cell_type": "markdown",
   "metadata": {},
   "source": [
    "#### Checking credits assigned and available to a user"
   ]
  },
  {
   "cell_type": "code",
   "execution_count": null,
   "metadata": {},
   "outputs": [
    {
     "data": {
      "text/html": [
       "<div class=\"9item_container\" style=\"height: auto; overflow: hidden; border: 1px solid #cfcfcf; border-radius: 2px; background: #f6fafa; line-height: 1.21429em; padding: 10px;\">\n",
       "                    <div class=\"item_left\" style=\"width: 210px; float: left;\">\n",
       "                       <a href='https://geosaurus.maps.arcgis.com//home/user.html?user=arcgis_python' target='_blank'>\n",
       "                        <img src='https://geosaurus.maps.arcgis.com//home/js/arcgisonline/css/images/no-user-thumb.jpg' class=\"itemThumbnail\">\n",
       "                       </a>\n",
       "                    </div>\n",
       "\n",
       "                    <div class=\"item_right\" style=\"float: none; width: auto; overflow: hidden;\">\n",
       "                        <a href='https://geosaurus.maps.arcgis.com//home/user.html?user=arcgis_python' target='_blank'><b>Demo Account</b>\n",
       "                        </a>\n",
       "                        <br/><br/><b>Bio</b>: \n",
       "                        <br/><b>First Name</b>: Demo\n",
       "                        <br/><b>Last Name</b>: Account\n",
       "                        <br/><b>Username</b>: arcgis_python\n",
       "                        <br/><b>Joined</b>: December 23, 2016\n",
       "\n",
       "                    </div>\n",
       "                </div>\n",
       "                "
      ],
      "text/plain": [
       "<User username:arcgis_python>"
      ]
     },
     "execution_count": null,
     "metadata": {},
     "output_type": "execute_result"
    }
   ],
   "source": [
    "api_acc = gis.users.get('arcgis_python')\n",
    "api_acc"
   ]
  },
  {
   "cell_type": "markdown",
   "metadata": {},
   "source": [
    "When you turn on credit budgeting (using the `enable()` method), the `User` object gets additional properties to indicate the `assignedCredits` and remaining `avialableCredits`. Thus, you can verify as shown below:"
   ]
  },
  {
   "cell_type": "code",
   "execution_count": null,
   "metadata": {},
   "outputs": [
    {
     "data": {
      "text/plain": [
       "8039.734"
      ]
     },
     "execution_count": null,
     "metadata": {},
     "output_type": "execute_result"
    }
   ],
   "source": [
    "api_acc.assignedCredits"
   ]
  },
  {
   "cell_type": "code",
   "execution_count": null,
   "metadata": {},
   "outputs": [
    {
     "data": {
      "text/plain": [
       "8039.734"
      ]
     },
     "execution_count": null,
     "metadata": {},
     "output_type": "execute_result"
    }
   ],
   "source": [
    "api_acc.availableCredits"
   ]
  },
  {
   "cell_type": "markdown",
   "metadata": {},
   "source": [
    "As the user continues to use the credits, the `availableCredits` property can be used to check how much is available for that account. If a user does not have a limit set, then the total available credits in the org become their available credits. The account shown below as not custom limit, hence, it inherits the org's total limit."
   ]
  },
  {
   "cell_type": "code",
   "execution_count": null,
   "metadata": {},
   "outputs": [
    {
     "data": {
      "text/plain": [
       "80397.34"
      ]
     },
     "execution_count": null,
     "metadata": {},
     "output_type": "execute_result"
    }
   ],
   "source": [
    "rohit = gis.users.get('rsingh_geosaurus')\n",
    "rohit.availableCredits"
   ]
  },
  {
   "cell_type": "markdown",
   "metadata": {},
   "source": [
    "#### Disable credit budgeting\n",
    "Yon disable this feature by calling the `disable()` method."
   ]
  },
  {
   "cell_type": "code",
   "execution_count": null,
   "metadata": {},
   "outputs": [
    {
     "data": {
      "text/plain": [
       "True"
      ]
     },
     "execution_count": null,
     "metadata": {},
     "output_type": "execute_result"
    }
   ],
   "source": [
    "gis.admin.credits.disable()"
   ]
  },
  {
   "cell_type": "markdown",
   "metadata": {},
   "source": [
    "## Attaching and removing ArcGIS Servers from your GIS\n",
    "If your GIS is an instance of ArcGIS Enterprise, you can build it up by federating (attaching) ArcGIS Server sites to your Enterprise. During this step, you can assign a role to your server - such as Hosting or Federated. You can also assign a function such as 'Raster Analysis', 'GeoAnalytics' etc. to designate it a purpose. Federating and maintaining your server bank is an important administrative task. To learn more about this topic and the implications of federation, refer [here](http://server.arcgis.com/en/server/latest/administer/windows/federate-an-arcgis-server-site-with-your-portal.htm).\n",
    "\n",
    "<blockquote><b>Note:</b> Federation only applies to ArcGIS Enterprise orgs. If your GIS is an org on ArcGIS Online, you cannot perform these tasks</blockquote>\n",
    "\n",
    "The `Federation` class of the `admin` module allows GIS administrators to script and automate tasks such as listing the servers in a GIS, identifying their role and function, federating new servers, unfederating servers under maintenance, validating the list of servers etc."
   ]
  },
  {
   "cell_type": "markdown",
   "metadata": {},
   "source": [
    "Get the list of servers federated to the GIS:"
   ]
  },
  {
   "cell_type": "code",
   "execution_count": null,
   "metadata": {},
   "outputs": [
    {
     "data": {
      "text/plain": [
       "{'servers': [{'adminUrl': 'https://Dev005223.esri.com:6443/arcgis',\n",
       "   'id': 'COgNhKlPsIjGrCLV',\n",
       "   'isHosted': True,\n",
       "   'name': 'Dev005223.esri.com:6443',\n",
       "   'serverFunction': '',\n",
       "   'serverRole': 'HOSTING_SERVER',\n",
       "   'url': 'https://Dev005223.esri.com/server',\n",
       "   'webgisServerTrustKey': ''},\n",
       "  {'adminUrl': 'https://dev005331.esri.com:6443/arcgis',\n",
       "   'id': 'GFyaVzJXiogsxKxH',\n",
       "   'isHosted': False,\n",
       "   'name': 'dev005331.esri.com:6443',\n",
       "   'serverFunction': 'RasterAnalytics',\n",
       "   'serverRole': 'FEDERATED_SERVER',\n",
       "   'url': 'https://dev005331.esri.com/server',\n",
       "   'webgisServerTrustKey': ''}]}"
      ]
     },
     "execution_count": null,
     "metadata": {},
     "output_type": "execute_result"
    }
   ],
   "source": [
    "gis.admin.federation.servers"
   ]
  },
  {
   "cell_type": "markdown",
   "metadata": {},
   "source": [
    "There are 2 servers federated to this GIS, the first is a `HOSTING_SERVER` and the second a `FEDERATED_SERVER`. The `serverFunction` of the second server is set to `RasterAnalytics`."
   ]
  },
  {
   "cell_type": "markdown",
   "metadata": {},
   "source": [
    "### Validating your servers\n",
    "To validate all the servers attached to your GIS, call the `validate_all()` method. To validate a particular server, call `validate()` and pass the server info."
   ]
  },
  {
   "cell_type": "code",
   "execution_count": null,
   "metadata": {},
   "outputs": [
    {
     "data": {
      "text/plain": [
       "{'serversStatus': [{'messages': [\"ArcGIS Server administration URL 'https://Dev005223.esri.com:6443/arcgis' is accessible.\",\n",
       "    'Validating hosting server.',\n",
       "    \"ArcGIS Server 'https://Dev005223.esri.com:6443/arcgis' version matches with Portal for ArcGIS.\",\n",
       "    \"Verified that server has a registered managed database '/enterpriseDatabases/AGSDataStore_ds_7jq2u67r'.\",\n",
       "    \"The server managed database '/enterpriseDatabases/AGSDataStore_ds_7jq2u67r' validated successfully.\",\n",
       "    'Validated that the ArcGIS Server site is not in read-only mode.',\n",
       "    'Validated that the publishing tools service of ArcGIS Server site is started.'],\n",
       "   'serverId': 'COgNhKlPsIjGrCLV',\n",
       "   'status': 'success'},\n",
       "  {'messages': [\"ArcGIS Server services URL 'https://dev005331.esri.com/server' cannot be validated against 'https://dev005331.esri.com/server/rest/info'. If the service URL is a proxy URL verify it is accessible to clients.\",\n",
       "    'Error: java.net.UnknownHostException: dev005331.esri.com. '],\n",
       "   'serverId': 'GFyaVzJXiogsxKxH',\n",
       "   'status': 'failure'}],\n",
       " 'status': 'failure'}"
      ]
     },
     "execution_count": null,
     "metadata": {},
     "output_type": "execute_result"
    }
   ],
   "source": [
    "gis.admin.federation.validate_all()"
   ]
  },
  {
   "cell_type": "markdown",
   "metadata": {},
   "source": [
    "The second server reports a failure as the Enterprise is unable to reach or ping it. This server requires maintenance."
   ]
  },
  {
   "cell_type": "markdown",
   "metadata": {},
   "source": [
    "### Unfederating a server\n",
    "You remove a server from the GIS by calling the `unfederate()` method and passing the `serverId`."
   ]
  },
  {
   "cell_type": "code",
   "execution_count": null,
   "metadata": {},
   "outputs": [
    {
     "data": {
      "text/plain": [
       "'GFyaVzJXiogsxKxH'"
      ]
     },
     "execution_count": null,
     "metadata": {},
     "output_type": "execute_result"
    }
   ],
   "source": [
    "gis.admin.federation.servers['servers'][1]['id']"
   ]
  },
  {
   "cell_type": "code",
   "execution_count": null,
   "metadata": {},
   "outputs": [
    {
     "data": {
      "text/plain": [
       "True"
      ]
     },
     "execution_count": null,
     "metadata": {},
     "output_type": "execute_result"
    }
   ],
   "source": [
    "gis.admin.federation.unfederate('GFyaVzJXiogsxKxH')"
   ]
  },
  {
   "cell_type": "markdown",
   "metadata": {},
   "source": [
    "## Querying Portal logs\n",
    "Portal for ArcGIS records events that occur, and any errors associated with those events, to logs. Logs are an important tool for monitoring and troubleshooting problems with your portal. Information in the logs will help you identify errors and provide context on how to address problems. The logs also comprise a history of the events that occur over time.\n",
    "\n",
    "For example, the following events are recorded in the logs:\n",
    "\n",
    " - Installation and upgrade events, such as authorizing the software and creating the portal website\n",
    " - Publishing of services and items, such as hosted services, web maps, and data items\n",
    " - Content management events, such as sharing items, changing item ownership, and adding, updating, moving, and deleting items\n",
    " - Security events, such as users logging in to the portal, creating, deleting, and disabling users, creating and changing user roles, updating HTTP and HTTPS settings, import and export of security certificates, and updating the portal's identity store\n",
    " - Organization management events, such as adding and configuring groups, adding or removing users from a group, configuration of the gallery, basemaps, utility services, and federated servers, and configuring log settings and deleting logs\n",
    " - General events, such as updating the portal's search index and restarting the portal\n",
    "\n",
    "Understanding log messages is important to maintain your GIS. Refer [here](http://server.arcgis.com/en/portal/latest/administer/windows/about-portal-logs.htm) to learn more about logging in general and [here](http://server.arcgis.com/en/portal/latest/administer/windows/work-with-portal-logs.htm#ESRI_SECTION2_F96B4BDF7FBD4EFC865E316C1DFB460C) to understand what gets logged and what the messages mean.\n",
    "\n",
    "Using the `Logs` class of the `admin` module, administrators can query and work with Portal log messages. You can query the logging level and other settings from the `settings` property:"
   ]
  },
  {
   "cell_type": "code",
   "execution_count": null,
   "metadata": {},
   "outputs": [
    {
     "data": {
      "text/plain": [
       "{'logDir': 'C:\\\\arcgisportal\\\\logs\\\\',\n",
       " 'logLevel': 'WARNING',\n",
       " 'maxErrorReportsCount': 10,\n",
       " 'maxLogFileAge': 90,\n",
       " 'usageMeteringEnabled': False}"
      ]
     },
     "execution_count": null,
     "metadata": {},
     "output_type": "execute_result"
    }
   ],
   "source": [
    "gis.admin.logs.settings"
   ]
  },
  {
   "cell_type": "markdown",
   "metadata": {},
   "source": [
    "### Filtering and querying Portal logs\n",
    "Using the `query()` method, you can filter and search for Portal logs. Refer to the [query API ref doc](http://esri.github.io/arcgis-python-api/apidoc/html/arcgis.gis.admin.html#arcgis.gis.admin.Logs.query) for all the arguments supported. In the example below, logs for the previous 10 days is searched."
   ]
  },
  {
   "cell_type": "code",
   "execution_count": null,
   "metadata": {},
   "outputs": [
    {
     "data": {
      "text/plain": [
       "datetime.datetime(2017, 8, 1, 15, 5, 32, 941945)"
      ]
     },
     "execution_count": null,
     "metadata": {},
     "output_type": "execute_result"
    }
   ],
   "source": [
    "import datetime\n",
    "import pandas as pd\n",
    "now = datetime.datetime.now()\n",
    "start_time = now - datetime.timedelta(days=10)\n",
    "start_time"
   ]
  },
  {
   "cell_type": "markdown",
   "metadata": {},
   "source": [
    "You can pass a Python `Datetime` object to the time arguments."
   ]
  },
  {
   "cell_type": "code",
   "execution_count": null,
   "metadata": {},
   "outputs": [
    {
     "data": {
      "text/plain": [
       "{'code': 207051,\n",
       " 'elapsed': '',\n",
       " 'machine': 'DEV005223.ESRI.COM',\n",
       " 'message': \"Validation failed for federated server 'https://dev005331.esri.com:6443/arcgis'.\",\n",
       " 'methodName': '',\n",
       " 'process': '1956',\n",
       " 'source': 'Portal Admin',\n",
       " 'thread': '14',\n",
       " 'time': 1502486731894,\n",
       " 'type': 'WARNING',\n",
       " 'user': ''}"
      ]
     },
     "execution_count": null,
     "metadata": {},
     "output_type": "execute_result"
    }
   ],
   "source": [
    "recent_logs = gis.admin.logs.query(start_time = start_time)\n",
    "\n",
    "#print a message as a sample\n",
    "recent_logs['logMessages'][0]"
   ]
  },
  {
   "cell_type": "markdown",
   "metadata": {},
   "source": [
    "You can construct a Pandas `DataFrame` from the query result and visualize the logs as a table:"
   ]
  },
  {
   "cell_type": "code",
   "execution_count": null,
   "metadata": {},
   "outputs": [
    {
     "data": {
      "text/html": [
       "<div>\n",
       "<table border=\"1\" class=\"dataframe\">\n",
       "  <thead>\n",
       "    <tr style=\"text-align: right;\">\n",
       "      <th></th>\n",
       "      <th>endTime</th>\n",
       "      <th>hasMore</th>\n",
       "      <th>logMessages</th>\n",
       "      <th>startTime</th>\n",
       "    </tr>\n",
       "  </thead>\n",
       "  <tbody>\n",
       "    <tr>\n",
       "      <th>0</th>\n",
       "      <td>1501718081748</td>\n",
       "      <td>False</td>\n",
       "      <td>{'elapsed': '', 'message': 'Validation failed ...</td>\n",
       "      <td>1502486731894</td>\n",
       "    </tr>\n",
       "    <tr>\n",
       "      <th>1</th>\n",
       "      <td>1501718081748</td>\n",
       "      <td>False</td>\n",
       "      <td>{'elapsed': '', 'message': ' Failed to update ...</td>\n",
       "      <td>1502486731894</td>\n",
       "    </tr>\n",
       "    <tr>\n",
       "      <th>2</th>\n",
       "      <td>1501718081748</td>\n",
       "      <td>False</td>\n",
       "      <td>{'elapsed': '', 'message': 'Validation failed ...</td>\n",
       "      <td>1502486731894</td>\n",
       "    </tr>\n",
       "    <tr>\n",
       "      <th>3</th>\n",
       "      <td>1501718081748</td>\n",
       "      <td>False</td>\n",
       "      <td>{'elapsed': '', 'message': 'Validation failed ...</td>\n",
       "      <td>1502486731894</td>\n",
       "    </tr>\n",
       "    <tr>\n",
       "      <th>4</th>\n",
       "      <td>1501718081748</td>\n",
       "      <td>False</td>\n",
       "      <td>{'elapsed': '', 'message': ' Failed to accept ...</td>\n",
       "      <td>1502486731894</td>\n",
       "    </tr>\n",
       "  </tbody>\n",
       "</table>\n",
       "</div>"
      ],
      "text/plain": [
       "         endTime hasMore                                        logMessages  \\\n",
       "0  1501718081748   False  {'elapsed': '', 'message': 'Validation failed ...   \n",
       "1  1501718081748   False  {'elapsed': '', 'message': ' Failed to update ...   \n",
       "2  1501718081748   False  {'elapsed': '', 'message': 'Validation failed ...   \n",
       "3  1501718081748   False  {'elapsed': '', 'message': 'Validation failed ...   \n",
       "4  1501718081748   False  {'elapsed': '', 'message': ' Failed to accept ...   \n",
       "\n",
       "       startTime  \n",
       "0  1502486731894  \n",
       "1  1502486731894  \n",
       "2  1502486731894  \n",
       "3  1502486731894  \n",
       "4  1502486731894  "
      ]
     },
     "execution_count": null,
     "metadata": {},
     "output_type": "execute_result"
    }
   ],
   "source": [
    "log_df = pd.DataFrame.from_records(recent_logs)\n",
    "log_df.head(5) #display the first 5 records"
   ]
  },
  {
   "cell_type": "markdown",
   "metadata": {},
   "source": [
    "Once you have the logs as a `DataFrame`, you can save it to disk in any format you choose. For instance, you can save it to a `csv` file for archival."
   ]
  },
  {
   "cell_type": "code",
   "execution_count": null,
   "metadata": {
    "collapsed": true
   },
   "outputs": [],
   "source": [
    "log_df.to_csv('./portal_logs_last_10_days.csv')"
   ]
  },
  {
   "cell_type": "markdown",
   "metadata": {},
   "source": [
    "### Clearing logs\n",
    "You can remove old logs and free up space on your Portal by calling the `clean()` method. Note, this action is not reversible."
   ]
  },
  {
   "cell_type": "code",
   "execution_count": null,
   "metadata": {},
   "outputs": [
    {
     "data": {
      "text/plain": [
       "True"
      ]
     },
     "execution_count": null,
     "metadata": {},
     "output_type": "execute_result"
    }
   ],
   "source": [
    "gis.admin.logs.clean()"
   ]
  },
  {
   "cell_type": "markdown",
   "metadata": {},
   "source": [
    "## Managing GIS security\n",
    "One of the important tasks you carry out as an administrator is managing the security settings of your GIS. With the `admin` module, you can accomplish tasks such as setting the password policy, managing security certificates etc."
   ]
  },
  {
   "cell_type": "markdown",
   "metadata": {},
   "source": [
    "### Working with password policies\n",
    "#### Inspecting password policy"
   ]
  },
  {
   "cell_type": "markdown",
   "metadata": {},
   "source": [
    "You can use the `PasswordPolicy` class in the `admin` module to inspect and update the policy for your GIS. This is applicable if you GIS uses a built-in identity store."
   ]
  },
  {
   "cell_type": "code",
   "execution_count": null,
   "metadata": {},
   "outputs": [
    {
     "data": {
      "text/plain": [
       "{\n",
       "  \"passwordPolicy\": {\n",
       "    \"created\": -1,\n",
       "    \"modified\": -1,\n",
       "    \"type\": \"default\",\n",
       "    \"minLetter\": 1,\n",
       "    \"minLength\": 8,\n",
       "    \"minDigit\": 1\n",
       "  }\n",
       "}"
      ]
     },
     "execution_count": null,
     "metadata": {},
     "output_type": "execute_result"
    }
   ],
   "source": [
    "existing_policy = gis.admin.password_policy.policy\n",
    "existing_policy"
   ]
  },
  {
   "cell_type": "markdown",
   "metadata": {},
   "source": [
    "#### Updating password policy\n",
    "You can update this policy to any desired standard. In the example below, the following additional criteria is added.\n",
    "\n",
    " - Contains at least one letter (A-Z, a-z)\n",
    " - Contains at least one upper case letter (A-Z)\n",
    " - Contains at least one lower case letter (a-z)\n",
    " - Contains at least one number (0-9)\n",
    " - Contains at least one special (non-alphanumeric) character\n",
    " - Password will expire after `90` days\n",
    " - Members may not reuse their last `5` passwords"
   ]
  },
  {
   "cell_type": "code",
   "execution_count": null,
   "metadata": {
    "collapsed": true
   },
   "outputs": [],
   "source": [
    "from copy import deepcopy\n",
    "new_policy = deepcopy(existing_policy)\n",
    "new_policy['passwordPolicy']['minLength'] = 10\n",
    "new_policy['passwordPolicy']['minUpper'] = 1\n",
    "new_policy['passwordPolicy']['minLower'] = 1\n",
    "new_policy['passwordPolicy']['minDigit'] = 1\n",
    "new_policy['passwordPolicy']['minOther'] = 1\n",
    "new_policy['passwordPolicy']['expirationInDays'] = 90\n",
    "new_policy['passwordPolicy']['historySize'] = 5"
   ]
  },
  {
   "cell_type": "markdown",
   "metadata": {},
   "source": [
    "To update the policy, simply set the `policy` property with the new values"
   ]
  },
  {
   "cell_type": "code",
   "execution_count": null,
   "metadata": {
    "collapsed": true
   },
   "outputs": [],
   "source": [
    "gis.admin.password_policy.policy = new_policy['passwordPolicy']"
   ]
  },
  {
   "cell_type": "markdown",
   "metadata": {},
   "source": [
    "Query the GIS to get the updated policy"
   ]
  },
  {
   "cell_type": "code",
   "execution_count": null,
   "metadata": {},
   "outputs": [
    {
     "data": {
      "text/plain": [
       "{\n",
       "  \"passwordPolicy\": {\n",
       "    \"minUpper\": 1,\n",
       "    \"expirationInDays\": 90,\n",
       "    \"modified\": -1,\n",
       "    \"historySize\": 5,\n",
       "    \"type\": \"custom\",\n",
       "    \"minLetter\": 2,\n",
       "    \"created\": 1502493886765,\n",
       "    \"minOther\": 1,\n",
       "    \"minLength\": 10,\n",
       "    \"minLower\": 1,\n",
       "    \"minDigit\": 1\n",
       "  }\n",
       "}"
      ]
     },
     "execution_count": null,
     "metadata": {},
     "output_type": "execute_result"
    }
   ],
   "source": [
    "gis.admin.password_policy.policy"
   ]
  },
  {
   "cell_type": "markdown",
   "metadata": {},
   "source": [
    "#### Resetting password policy\n",
    "You can reset the policy to the default by calling the `reset()` method."
   ]
  },
  {
   "cell_type": "code",
   "execution_count": null,
   "metadata": {},
   "outputs": [
    {
     "data": {
      "text/plain": [
       "True"
      ]
     },
     "execution_count": null,
     "metadata": {},
     "output_type": "execute_result"
    }
   ],
   "source": [
    "gis.admin.password_policy.reset()"
   ]
  },
  {
   "cell_type": "markdown",
   "metadata": {},
   "source": [
    "### Working with security configurations\n",
    "The `config` property of the `Security` class gives you a snapshot of your security configuration"
   ]
  },
  {
   "cell_type": "code",
   "execution_count": null,
   "metadata": {},
   "outputs": [
    {
     "data": {
      "text/plain": [
       "{'defaultLevelForUser': '2',\n",
       " 'defaultRoleForUser': 'account_user',\n",
       " 'disableServicesDirectory': False,\n",
       " 'enableAutomaticAccountCreation': False,\n",
       " 'groupStoreConfig': {'properties': {'isPasswordEncrypted': 'true'},\n",
       "  'type': 'BUILTIN'},\n",
       " 'userStoreConfig': {'properties': {'isPasswordEncrypted': 'true'},\n",
       "  'type': 'BUILTIN'},\n",
       " 'webgisServerTrustKey': '7odWDm93E+Aux2he/7YOuq1h4wURE4DfrEWOOxazmaE='}"
      ]
     },
     "execution_count": null,
     "metadata": {},
     "output_type": "execute_result"
    }
   ],
   "source": [
    "gis.admin.security.config"
   ]
  },
  {
   "cell_type": "markdown",
   "metadata": {},
   "source": [
    "#### SSL certificates\n",
    "The `SSLCertificates` class provides you with a set of methods to search for certificates, import new certificates and update existing ones. The `SSLCertificate` object that you get when you call the `get()` or `list()` methods on this class allows you to inspect, update or export individual certificates. To learn about all the tasks that can be accomplished, refer to the [API REF doc](http://esri.github.io/arcgis-python-api/apidoc/html/arcgis.gis.admin.html#sslcertificates)."
   ]
  },
  {
   "cell_type": "code",
   "execution_count": null,
   "metadata": {},
   "outputs": [
    {
     "data": {
      "text/plain": [
       "[<SSLCertificate at https://dev005223.esri.com/portal/portaladmin/security/sslCertificates/portal>,\n",
       " <SSLCertificate at https://dev005223.esri.com/portal/portaladmin/security/sslCertificates/samlcert>,\n",
       " <SSLCertificate at https://dev005223.esri.com/portal/portaladmin/security/sslCertificates/dev005219>]"
      ]
     },
     "execution_count": null,
     "metadata": {},
     "output_type": "execute_result"
    }
   ],
   "source": [
    "gis.admin.security.ssl.list()"
   ]
  },
  {
   "cell_type": "markdown",
   "metadata": {},
   "source": [
    "You can download or export the certificate to disk:"
   ]
  },
  {
   "cell_type": "code",
   "execution_count": null,
   "metadata": {},
   "outputs": [
    {
     "data": {
      "text/plain": [
       "'./portal.cer'"
      ]
     },
     "execution_count": null,
     "metadata": {},
     "output_type": "execute_result"
    }
   ],
   "source": [
    "portal_cert = gis.admin.security.ssl.list()[0]\n",
    "portal_cert.export(out_path = './')"
   ]
  },
  {
   "cell_type": "markdown",
   "metadata": {},
   "source": [
    "#### Enterprise identity store\n",
    "If your GIS uses an enterprise identity store instead of the built-in, you can use the `EnterpriseUsers` class and `EnterpriseGroups` class to search for users and user groups in the enterprise user database."
   ]
  },
  {
   "cell_type": "code",
   "execution_count": null,
   "metadata": {},
   "outputs": [
    {
     "data": {
      "text/plain": [
       "{\n",
       "  \"totalUsers\": 12\n",
       "}"
      ]
     },
     "execution_count": null,
     "metadata": {},
     "output_type": "execute_result"
    }
   ],
   "source": [
    "gis.admin.security.enterpriseusers"
   ]
  },
  {
   "cell_type": "code",
   "execution_count": null,
   "metadata": {},
   "outputs": [
    {
     "data": {
      "text/plain": [
       "{\n",
       "  \"totalGroups\": 382\n",
       "}"
      ]
     },
     "execution_count": null,
     "metadata": {},
     "output_type": "execute_result"
    }
   ],
   "source": [
    "gis.admin.security.groups.properties"
   ]
  },
  {
   "cell_type": "markdown",
   "metadata": {},
   "source": [
    "## Managing Enterprise licenses and system settings\n",
    "As an administrator, you can manage the licenses of the Enterprise and all the apps licensed through your Enterprise using the `system.licenses` class of the `admin` sub module. This functionality is different from [managing named user licenses and entitlements](#Managing-named-user-licenses-and-entitlements) mentioned in the beginning of this guide. This section shows you how to import and remove entitlements for different apps, the number of named user accounts that you are licensed to create and the number remaining etc.\n",
    "\n",
    "### Inspecting licenses for Portal for ArcGIS\n",
    "Calling `system.licenses.properties` will return a dictionary containing information about your license for using Portal for ArcGIS application. The dictionary below reveals the license is current, `12` is the number of named user accounts created so far and the `75` is the max licensed. The `features` dictionary reveals the details on number of level 1 and 2 users that can be created."
   ]
  },
  {
   "cell_type": "code",
   "execution_count": null,
   "metadata": {},
   "outputs": [
    {
     "data": {
      "text/plain": [
       "{\n",
       "  \"isValid\": true,\n",
       "  \"currentRegisteredMembers\": 12,\n",
       "  \"maximumRegisteredMembers\": 75,\n",
       "  \"expiration\": 1508223600000,\n",
       "  \"features\": [\n",
       "    {\n",
       "      \"level\": \"1\",\n",
       "      \"name\": \"esriPortalLvl1\",\n",
       "      \"displayName\": \"Portal for ArcGIS\",\n",
       "      \"isValid\": true,\n",
       "      \"maximumRegisteredMembers\": 25,\n",
       "      \"version\": \"10.5\",\n",
       "      \"expiration\": 1508223600000,\n",
       "      \"currentRegisteredMembers\": 0\n",
       "    },\n",
       "    {\n",
       "      \"level\": \"2\",\n",
       "      \"name\": \"esriPortalLvl2\",\n",
       "      \"displayName\": \"Portal for ArcGIS\",\n",
       "      \"isValid\": true,\n",
       "      \"maximumRegisteredMembers\": 50,\n",
       "      \"version\": \"10.5\",\n",
       "      \"expiration\": 1508223600000,\n",
       "      \"currentRegisteredMembers\": 12\n",
       "    }\n",
       "  ]\n",
       "}"
      ]
     },
     "execution_count": null,
     "metadata": {},
     "output_type": "execute_result"
    }
   ],
   "source": [
    "gis.admin.system.licenses.properties"
   ]
  },
  {
   "cell_type": "markdown",
   "metadata": {},
   "source": [
    "Using Python's `datetime` module, you can conver the date to human readable form:"
   ]
  },
  {
   "cell_type": "code",
   "execution_count": null,
   "metadata": {},
   "outputs": [
    {
     "data": {
      "text/plain": [
       "datetime.datetime(2017, 10, 17, 0, 0)"
      ]
     },
     "execution_count": null,
     "metadata": {},
     "output_type": "execute_result"
    }
   ],
   "source": [
    "from datetime import datetime\n",
    "datetime.fromtimestamp(round(gis.admin.system.licenses.properties.expiration/1000))"
   ]
  },
  {
   "cell_type": "markdown",
   "metadata": {},
   "source": [
    "### Releasing ArcGIS Pro licenses checked out for offline use\n",
    "If a user checks out an ArcGIS Pro license for offline or disconnected use, and is unable to check it back in, you can release the license for the specified account by calling `release_license()` method. Learn more about [offline licenses in ArcGIS Pro](http://pro.arcgis.com/en/pro-app/get-started/named-user-licenses.htm#ESRI_SECTION1_3379AFCFCE8D44EE8395A91E1A484594)."
   ]
  },
  {
   "cell_type": "code",
   "execution_count": null,
   "metadata": {},
   "outputs": [
    {
     "data": {
      "text/plain": [
       "{'status': 'success'}"
      ]
     },
     "execution_count": null,
     "metadata": {},
     "output_type": "execute_result"
    }
   ],
   "source": [
    "gis.admin.system.licenses.release_license('username')"
   ]
  },
  {
   "cell_type": "markdown",
   "metadata": {},
   "source": [
    "### Inspecting the machines powering your Portal for ArcGIS\n",
    "You can query the machines powering your Portal for ArcGIS application using the `Machines` class at `admin.machines`. You can inspect machine status, and unregister those under repair."
   ]
  },
  {
   "cell_type": "code",
   "execution_count": null,
   "metadata": {},
   "outputs": [
    {
     "data": {
      "text/plain": [
       "[<Machine at https://dev005223.esri.com/portal/portaladmin/machines>]"
      ]
     },
     "execution_count": null,
     "metadata": {},
     "output_type": "execute_result"
    }
   ],
   "source": [
    "gis.admin.machines.list()"
   ]
  },
  {
   "cell_type": "code",
   "execution_count": null,
   "metadata": {},
   "outputs": [
    {
     "data": {
      "text/plain": [
       "{\n",
       "  \"role\": \"\",\n",
       "  \"adminURL\": \"https://dev005223.esri.com:7443/arcgis\",\n",
       "  \"machineName\": \"DEV005223.ESRI.COM\"\n",
       "}"
      ]
     },
     "execution_count": null,
     "metadata": {},
     "output_type": "execute_result"
    }
   ],
   "source": [
    "mac1 = gis.admin.machines.list()[0]\n",
    "mac1.properties"
   ]
  },
  {
   "cell_type": "markdown",
   "metadata": {},
   "source": [
    "Query the status of a machine."
   ]
  },
  {
   "cell_type": "code",
   "execution_count": null,
   "metadata": {},
   "outputs": [
    {
     "data": {
      "text/plain": [
       "True"
      ]
     },
     "execution_count": null,
     "metadata": {},
     "output_type": "execute_result"
    }
   ],
   "source": [
    "mac1.status()"
   ]
  },
  {
   "cell_type": "markdown",
   "metadata": {},
   "source": [
    "### Inspecting system directories\n",
    "You can inspect the physical location of various system directories used by the Portal for ArcGIS application:"
   ]
  },
  {
   "cell_type": "code",
   "execution_count": null,
   "metadata": {},
   "outputs": [
    {
     "data": {
      "text/plain": [
       "{\n",
       "  \"name\": \"content\",\n",
       "  \"physicalPath\": \"{\\\"type\\\":\\\"fileStore\\\",\\\"provider\\\":\\\"FileSystem\\\",\\\"connectionString\\\":\\\"txfL1Ma_fryXmqsmyNt8Zfm4UEuNL79E-qaf8WbGB-8.\\\",\\\"isConnectionStringEncrypted\\\":true}\",\n",
       "  \"directoryType\": \"CONTENT\",\n",
       "  \"description\": \"The content directory.\"\n",
       "}"
      ]
     },
     "execution_count": null,
     "metadata": {},
     "output_type": "execute_result"
    }
   ],
   "source": [
    "portal_dir_list = gis.admin.system.directories\n",
    "portal_dir_list[0].properties"
   ]
  },
  {
   "cell_type": "code",
   "execution_count": null,
   "metadata": {},
   "outputs": [
    {
     "name": "stdout",
     "output_type": "stream",
     "text": [
      "content | {\"type\":\"fileStore\",\"provider\":\"FileSystem\",\"connectionString\":\"txfL1Ma_fryXmqsmyNt8Zfm4UEuNL79E-qaf8WbGB-8.\",\"isConnectionStringEncrypted\":true}\n",
      "index | C:\\arcgisportal\\index\n",
      "db | C:\\arcgisportal\\db\n",
      "temp | C:\\arcgisportal\\temp\n"
     ]
    }
   ],
   "source": [
    "for portal_dir in portal_dir_list:\n",
    "    print(portal_dir.properties.name + \" | \" + portal_dir.properties.physicalPath)"
   ]
  },
  {
   "cell_type": "markdown",
   "metadata": {},
   "source": [
    "### Inspecting web adaptors\n",
    "You can query the web adaptors serving the Portal for ArcGIS application using the `system.web_adaptors.list()` method. This returns you a list of `WebAdaptor` objects. You can use this object to query the properties such as IP address, version and also unregister the adaptor for maintenance."
   ]
  },
  {
   "cell_type": "code",
   "execution_count": null,
   "metadata": {},
   "outputs": [
    {
     "data": {
      "text/plain": [
       "[<WebAdaptor at https://dev005223.esri.com/portal/portaladmin/system/webadaptors/2f3a93d7-f50b-4ce6-8244-335fbfe1dfba>]"
      ]
     },
     "execution_count": null,
     "metadata": {},
     "output_type": "execute_result"
    }
   ],
   "source": [
    "gis.admin.system.web_adaptors.list()"
   ]
  },
  {
   "cell_type": "code",
   "execution_count": null,
   "metadata": {},
   "outputs": [
    {
     "data": {
      "text/plain": [
       "{\n",
       "  \"webAdaptorURL\": \"https://dev005223.esri.com/portal\",\n",
       "  \"reconnectServerOnFailureInterval\": 1,\n",
       "  \"id\": \"2f3a93d7-f50b-4ce6-8244-335fbfe1dfba\",\n",
       "  \"refreshServerListInterval\": 1,\n",
       "  \"httpsPort\": 443,\n",
       "  \"machineName\": \"dev005223.esri.com\",\n",
       "  \"description\": \"\",\n",
       "  \"machineIP\": \"10.44.8.245\",\n",
       "  \"httpPort\": 80\n",
       "}"
      ]
     },
     "execution_count": null,
     "metadata": {},
     "output_type": "execute_result"
    }
   ],
   "source": [
    "wa = gis.admin.system.web_adaptors.list()[0]\n",
    "wa.properties"
   ]
  },
  {
   "cell_type": "code",
   "execution_count": null,
   "metadata": {},
   "outputs": [
    {
     "data": {
      "text/plain": [
       "'https://dev005223.esri.com/portal/portaladmin/system/webadaptors/2f3a93d7-f50b-4ce6-8244-335fbfe1dfba'"
      ]
     },
     "execution_count": null,
     "metadata": {},
     "output_type": "execute_result"
    }
   ],
   "source": [
    "wa.url"
   ]
  },
  {
   "cell_type": "markdown",
   "metadata": {},
   "source": [
    "### Inspecting other system properties\n",
    "**Database**"
   ]
  },
  {
   "cell_type": "code",
   "execution_count": null,
   "metadata": {},
   "outputs": [
    {
     "data": {
      "text/plain": [
       "{'adminAccount': 'admin',\n",
       " 'name': 'gwdb',\n",
       " 'version': 'psql (PostgreSQL) 9.3.12'}"
      ]
     },
     "execution_count": null,
     "metadata": {},
     "output_type": "execute_result"
    }
   ],
   "source": [
    "gis.admin.system.database"
   ]
  },
  {
   "cell_type": "markdown",
   "metadata": {},
   "source": [
    "**Index status**"
   ]
  },
  {
   "cell_type": "code",
   "execution_count": null,
   "metadata": {},
   "outputs": [
    {
     "data": {
      "text/plain": [
       "{'indexes': [{'databaseCount': 54, 'indexCount': 54, 'name': 'users'},\n",
       "  {'databaseCount': 330, 'indexCount': 330, 'name': 'groups'},\n",
       "  {'databaseCount': 7513, 'indexCount': 7513, 'name': 'search'}]}"
      ]
     },
     "execution_count": null,
     "metadata": {},
     "output_type": "execute_result"
    }
   ],
   "source": [
    "gis.admin.system.index_status"
   ]
  },
  {
   "cell_type": "markdown",
   "metadata": {},
   "source": [
    "**Supported languages**"
   ]
  },
  {
   "cell_type": "code",
   "execution_count": null,
   "metadata": {},
   "outputs": [
    {
     "data": {
      "text/plain": [
       "{'languages': {'esri_ar': True,\n",
       "  'esri_bs': True,\n",
       "  'esri_cs': True,\n",
       "  'esri_da': True,\n",
       "  'esri_de': True,\n",
       "  'esri_el': True,\n",
       "  'esri_en': True,\n",
       "  'esri_es': True,\n",
       "  'esri_et': True,\n",
       "  'esri_fi': True,\n",
       "  'esri_fr': True,\n",
       "  'esri_he': True,\n",
       "  'esri_hi': True,\n",
       "  'esri_hk': True,\n",
       "  'esri_hr': True,\n",
       "  'esri_id': True,\n",
       "  'esri_it': True,\n",
       "  'esri_ja': True,\n",
       "  'esri_ko': True,\n",
       "  'esri_lt': True,\n",
       "  'esri_lv': True,\n",
       "  'esri_nb': True,\n",
       "  'esri_nl': True,\n",
       "  'esri_pl': True,\n",
       "  'esri_po': True,\n",
       "  'esri_pt': True,\n",
       "  'esri_ro': True,\n",
       "  'esri_ru': True,\n",
       "  'esri_sr': True,\n",
       "  'esri_sv': True,\n",
       "  'esri_th': True,\n",
       "  'esri_tr': True,\n",
       "  'esri_tw': True,\n",
       "  'esri_vi': True,\n",
       "  'esri_zh': True}}"
      ]
     },
     "execution_count": null,
     "metadata": {},
     "output_type": "execute_result"
    }
   ],
   "source": [
    "gis.admin.system.languages"
   ]
  }
 ],
 "metadata": {
  "kernelspec": {
   "display_name": "Python 3",
   "language": "python",
   "name": "python3"
  },
  "language_info": {
   "codemirror_mode": {
    "name": "ipython",
    "version": 3
   },
   "file_extension": ".py",
   "mimetype": "text/x-python",
   "name": "python",
   "nbconvert_exporter": "python",
   "pygments_lexer": "ipython3",
   "version": "3.6.6"
  }
 },
 "nbformat": 4,
 "nbformat_minor": 1
}
