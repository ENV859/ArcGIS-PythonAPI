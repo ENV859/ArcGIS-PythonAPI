{
 "cells": [
  {
   "cell_type": "markdown",
   "metadata": {},
   "source": [
    "# Sync overview\n",
    "\n",
    "Feature layers includes a `Sync` capability, which when enabled, allows client applications to take feature layers offline, perform edits and sync it back to the layer. When you checkout some features and store it offline in the client, you call that a `replica`. The `FeatureLayerCollection` class under the `features` module allows users to create and work with replicas. The workflow of using sync involves these three operations:\n",
    "- Create replica\n",
    "- Synchronize replica\n",
    "- Unregister replica\n",
    "\n",
    "To learn more about this feature, refer to the [documentation here](http://resources.arcgis.com/en/help/arcgis-rest-api/index.html#//02r300000112000000)"
   ]
  },
  {
   "cell_type": "markdown",
   "metadata": {},
   "source": [
    "## Checking out data from feature layers using replicas\n",
    "To create a replica, we need a feature layer that is sync enabled. We can use the `syncEnabled` property of a `FeatureLayer` object to verify that. Further the `syncCapabilities` property returns a dictionary with fine grained sync capabilities"
   ]
  },
  {
   "cell_type": "code",
   "execution_count": 1,
   "metadata": {},
   "outputs": [],
   "source": [
    "# connect to a GIS\n",
    "from arcgis.gis import GIS\n",
    "import arcgis.features\n",
    "gis = GIS() # connect to www.arcgis.com anonymously. \n",
    "            # we will use a public sync enabled feature layer"
   ]
  },
  {
   "cell_type": "markdown",
   "metadata": {},
   "source": [
    "To create and work with replicas, we need to create a `FeatureLayerCollection` object. A `FeatureLayerCollection` object can be created from either a feature layer `Item` or directly using a feature service URL.\n",
    "\n",
    "Here, we will connect to a sample service by esri with URL `https://sampleserver6.arcgisonline.com/arcgis/rest/services/Sync/WildfireSync/FeatureServer/` "
   ]
  },
  {
   "cell_type": "code",
   "execution_count": 2,
   "metadata": {},
   "outputs": [],
   "source": [
    "url = 'https://sampleserver6.arcgisonline.com/arcgis/rest/services/Sync/WildfireSync/FeatureServer/'\n",
    "wildfire_flc = arcgis.features.FeatureLayerCollection(url, gis)"
   ]
  },
  {
   "cell_type": "code",
   "execution_count": 3,
   "metadata": {},
   "outputs": [
    {
     "data": {
      "text/plain": [
       "arcgis.features.layer.FeatureLayerCollection"
      ]
     },
     "execution_count": 3,
     "metadata": {},
     "output_type": "execute_result"
    }
   ],
   "source": [
    "type(wildfire_flc)"
   ]
  },
  {
   "cell_type": "markdown",
   "metadata": {},
   "source": [
    "### Verify if sync is enabled\n",
    "\n",
    "Accessing the `layers` property on a `FeatureLayerCollection` returns a list of `FeatureLayer` objects. We can create a replica of one of these or all of these layers"
   ]
  },
  {
   "cell_type": "code",
   "execution_count": 4,
   "metadata": {},
   "outputs": [
    {
     "data": {
      "text/plain": [
       "[<FeatureLayer url:\"https://sampleserver6.arcgisonline.com/arcgis/rest/services/Sync/WildfireSync/FeatureServer//0\">,\n",
       " <FeatureLayer url:\"https://sampleserver6.arcgisonline.com/arcgis/rest/services/Sync/WildfireSync/FeatureServer//1\">,\n",
       " <FeatureLayer url:\"https://sampleserver6.arcgisonline.com/arcgis/rest/services/Sync/WildfireSync/FeatureServer//2\">]"
      ]
     },
     "execution_count": 4,
     "metadata": {},
     "output_type": "execute_result"
    }
   ],
   "source": [
    "wildfire_flc.layers"
   ]
  },
  {
   "cell_type": "code",
   "execution_count": 5,
   "metadata": {},
   "outputs": [
    {
     "data": {
      "text/plain": [
       "True"
      ]
     },
     "execution_count": 5,
     "metadata": {},
     "output_type": "execute_result"
    }
   ],
   "source": [
    "# query syncEnabled property to verify is sync is enabled\n",
    "wildfire_flc.properties.syncEnabled"
   ]
  },
  {
   "cell_type": "code",
   "execution_count": 6,
   "metadata": {},
   "outputs": [
    {
     "data": {
      "text/plain": [
       "{\n",
       "  \"supportsRegisteringExistingData\": true,\n",
       "  \"supportsSyncDirectionControl\": true,\n",
       "  \"supportsPerLayerSync\": true,\n",
       "  \"supportsPerReplicaSync\": false,\n",
       "  \"supportsRollbackOnFailure\": false,\n",
       "  \"supportsAsync\": true,\n",
       "  \"supportsAttachmentsSyncDirection\": true,\n",
       "  \"supportsSyncModelNone\": true\n",
       "}"
      ]
     },
     "execution_count": 6,
     "metadata": {},
     "output_type": "execute_result"
    }
   ],
   "source": [
    "# query the syncCapabilities property to view fine grained capabilities\n",
    "wildfire_flc.properties.syncCapabilities"
   ]
  },
  {
   "cell_type": "markdown",
   "metadata": {},
   "source": [
    "### List existing replicas\n",
    "\n",
    "The `replicas` property on a `FeatureLayerCollection` object returns you a `SyncManager` object. You would work with this manager object for all your sync workflows.\n",
    "\n",
    "You can find if any replicas were created earlier on this layer by calling `get_list()` method on the `SyncManager` object."
   ]
  },
  {
   "cell_type": "code",
   "execution_count": 7,
   "metadata": {},
   "outputs": [
    {
     "data": {
      "text/plain": [
       "2515"
      ]
     },
     "execution_count": 7,
     "metadata": {},
     "output_type": "execute_result"
    }
   ],
   "source": [
    "replica_list = wildfire_flc.replicas.get_list()\n",
    "len(replica_list)"
   ]
  },
  {
   "cell_type": "markdown",
   "metadata": {},
   "source": [
    "As you can see, there are plenty of replicas on this layer. Let us view one of it"
   ]
  },
  {
   "cell_type": "code",
   "execution_count": 8,
   "metadata": {},
   "outputs": [
    {
     "data": {
      "text/plain": [
       "{'replicaName': 'Ags_Fs_1543141555952',\n",
       " 'replicaID': 'A2A63918-F35D-4441-8AE8-693A672F4BED'}"
      ]
     },
     "execution_count": 8,
     "metadata": {},
     "output_type": "execute_result"
    }
   ],
   "source": [
    "replica_list[0]"
   ]
  },
  {
   "cell_type": "markdown",
   "metadata": {},
   "source": [
    "### Create a replica\n",
    "Now, let us create our own replica of this feature layer. The `create()` method accepts a number of parameters allowing you to adjust what needs to be replicated and customize other options. For more information on this operation, refer to the [documentation here](http://resources.arcgis.com/en/help/arcgis-rest-api/index.html#//02r3000000rp000000).\n",
    "\n",
    "The full capability of the sync operation allows you to check out data from a feature layer, make edits and sync the deltas (changes) back to the server and update the features. This is popular in use cases which involve client applications such as ArcGIS Runtime or ArcGIS Desktop applications check out data, go offline (such as in areas where network connectivity is limited), make edits, then synchronize the data back to the server and update the features. The capability allows multiple clients to do this in parallel, thus enabling a large data collection effort.\n",
    "\n",
    "However, if your purpose of a replica is only to check out the data (one directional), then you can verify if the `extract` capability is enabled on the feature layer and create a replica that is just meant for data check out. We will see this use case below:"
   ]
  },
  {
   "cell_type": "code",
   "execution_count": 9,
   "metadata": {},
   "outputs": [
    {
     "data": {
      "text/plain": [
       "'Create,Delete,Query,Sync,Update,Uploads,Editing'"
      ]
     },
     "execution_count": 9,
     "metadata": {},
     "output_type": "execute_result"
    }
   ],
   "source": [
    "# list all capabilities\n",
    "wildfire_flc.properties.capabilities"
   ]
  },
  {
   "cell_type": "markdown",
   "metadata": {},
   "source": [
    "This layer has disabled 'Extract'. Hence let us search for a different layer via a different GIS connection (e.g. use either an existing `profile` or `GIS(url=\"your enterprise\", username='user name', password='password') to set up the connection`)"
   ]
  },
  {
   "cell_type": "code",
   "execution_count": 12,
   "metadata": {},
   "outputs": [],
   "source": [
    "portal_gis = GIS(profile='your_enterprise_profile')\n",
    "search_result = portal_gis.content.search(\"Ports in the Western US\", \"Feature Layer\")"
   ]
  },
  {
   "cell_type": "code",
   "execution_count": 13,
   "metadata": {},
   "outputs": [
    {
     "data": {
      "text/html": [
       "<div class=\"item_container\" style=\"height: auto; overflow: hidden; border: 1px solid #cfcfcf; border-radius: 2px; background: #f6fafa; line-height: 1.21429em; padding: 10px;\">\n",
       "                    <div class=\"item_left\" style=\"width: 210px; float: left;\">\n",
       "                       <a href='https://pythonapi.playground.esri.com/portal/home/item.html?id=6a8766e14d3d41cfb8fc8d4d8974f16d' target='_blank'>\n",
       "                        <img src='data:image/png;base64,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' width='200' height='133' class=\"itemThumbnail\">\n",
       "                       </a>\n",
       "                    </div>\n",
       "\n",
       "                    <div class=\"item_right\"     style=\"float: none; width: auto; overflow: hidden;\">\n",
       "                        <a href='https://pythonapi.playground.esri.com/portal/home/item.html?id=6a8766e14d3d41cfb8fc8d4d8974f16d' target='_blank'><b>Ports in the Western US</b>\n",
       "                        </a>\n",
       "                        <br/>Subset of ports data based on US Department of Transportation.<img src='https://pythonapi.playground.esri.com/portal/home/js/jsapi/esri/css/images/item_type_icons/featureshosted16.png' style=\"vertical-align:middle;\">Feature Layer Collection by api_data_owner\n",
       "                        <br/>Last Modified: January 03, 2019\n",
       "                        <br/>0 comments, 61 views\n",
       "                    </div>\n",
       "                </div>\n",
       "                "
      ],
      "text/plain": [
       "<Item title:\"Ports in the Western US\" type:Feature Layer Collection owner:api_data_owner>"
      ]
     },
     "execution_count": 13,
     "metadata": {},
     "output_type": "execute_result"
    }
   ],
   "source": [
    "search_result[0]"
   ]
  },
  {
   "cell_type": "markdown",
   "metadata": {},
   "source": [
    "Let us create a `FeatureLayerCollection` object from this item"
   ]
  },
  {
   "cell_type": "code",
   "execution_count": 14,
   "metadata": {},
   "outputs": [
    {
     "data": {
      "text/plain": [
       "arcgis.features.layer.FeatureLayerCollection"
      ]
     },
     "execution_count": 14,
     "metadata": {},
     "output_type": "execute_result"
    }
   ],
   "source": [
    "ports_flc = arcgis.features.FeatureLayerCollection.fromitem(search_result[0])\n",
    "type(ports_flc)"
   ]
  },
  {
   "cell_type": "markdown",
   "metadata": {},
   "source": [
    "#### Verify Extract capability"
   ]
  },
  {
   "cell_type": "code",
   "execution_count": 15,
   "metadata": {},
   "outputs": [
    {
     "data": {
      "text/plain": [
       "'Query,Sync,Extract'"
      ]
     },
     "execution_count": 15,
     "metadata": {},
     "output_type": "execute_result"
    }
   ],
   "source": [
    "ports_flc.properties.capabilities"
   ]
  },
  {
   "cell_type": "markdown",
   "metadata": {},
   "source": [
    "This is a suitable feature layer (since `Sync` and `Extract` are both enabled as seen in the capabilities), let us extract the data into a file geodatabase and store it in local file system"
   ]
  },
  {
   "cell_type": "code",
   "execution_count": 16,
   "metadata": {},
   "outputs": [],
   "source": [
    "ports_flc = arcgis.features.FeatureLayerCollection.fromitem(search_result[0])"
   ]
  },
  {
   "cell_type": "markdown",
   "metadata": {},
   "source": [
    "The \"fullExtent\" of the speicifc `FeatureLayerCollection` object can be extracted and used to construct the geometry filter to be used in the `create` method mentioned later. When the `geometry_filter` parameter is not specified, the `create` method will go on to use the source service's full extents to contruct the geometry_filter as default."
   ]
  },
  {
   "cell_type": "code",
   "execution_count": 17,
   "metadata": {},
   "outputs": [
    {
     "data": {
      "text/plain": [
       "'-17764735.369,2241467.173,-13044640.570,5721784.017'"
      ]
     },
     "execution_count": 17,
     "metadata": {},
     "output_type": "execute_result"
    }
   ],
   "source": [
    "extents = ports_flc.properties['fullExtent']\n",
    "extents_str = \",\".join(format(x, \"10.3f\") for x in [extents['xmin'],extents['ymin'],extents['xmax'], extents['ymax']])\n",
    "extents_str"
   ]
  },
  {
   "cell_type": "markdown",
   "metadata": {},
   "source": [
    "Now we are ready to create the geometry filter. `geom_filter` is a spatial filter class object from arcgis.geometry.filters module to filter results by a spatial relationship with geometry (in this case, using the full extents of the AOI)"
   ]
  },
  {
   "cell_type": "code",
   "execution_count": 18,
   "metadata": {},
   "outputs": [
    {
     "data": {
      "text/plain": [
       "{'geometryType': 'esriGeometryEnvelope',\n",
       " 'geometry': '-17764735.369,2241467.173,-13044640.570,5721784.017'}"
      ]
     },
     "execution_count": 18,
     "metadata": {},
     "output_type": "execute_result"
    }
   ],
   "source": [
    "geom_filter = {'geometryType':'esriGeometryEnvelope'}\n",
    "geom_filter.update({'geometry':extents_str})\n",
    "geom_filter"
   ]
  },
  {
   "cell_type": "markdown",
   "metadata": {},
   "source": [
    "Use the `out_path` to specify the folder path to save the replica file, e.g. executing the cell below would save the replica file at server side location `/arcgis/home/data2403D6ECC5674828945916419D999BCA.geodatabase`"
   ]
  },
  {
   "cell_type": "code",
   "execution_count": 28,
   "metadata": {},
   "outputs": [
    {
     "data": {
      "text/plain": [
       "{'transportType': 'esriTransportTypeURL',\n",
       " 'replicaName': 'arcgis_python_api_ports',\n",
       " 'responseType': 'esriReplicaResponseTypeData',\n",
       " 'replicaID': '6E679BFE-90AC-453F-AFEC-06610E1EA90D',\n",
       " 'targetType': 'server',\n",
       " 'resultUrl': 'https://pythonapi.playground.esri.com/server/rest/directories/arcgisjobs/system/synctools_gpserver/j8f3cf4b3ee4543f39ac4e9dc22c9db1a/scratch/_ags_data2403D6ECC5674828945916419D999BCA.geodatabase',\n",
       " 'submissionTime': 1554503878000,\n",
       " 'lastUpdatedTime': 1554503880000,\n",
       " 'status': 'Completed'}"
      ]
     },
     "execution_count": 28,
     "metadata": {},
     "output_type": "execute_result"
    }
   ],
   "source": [
    "replica1 = ports_flc.replicas.create( replica_name = 'arcgis_python_api_ports',\n",
    "                                      layers='0',\n",
    "                                      geometry_filter=geom_filter,\n",
    "                                      sync_model=\"perLayer\",\n",
    "                                      target_type=\"server\",\n",
    "                                      data_format=\"sqlite\",\n",
    "                                      out_path=r'/arcgis/home')\n",
    "replica1"
   ]
  },
  {
   "cell_type": "markdown",
   "metadata": {},
   "source": [
    "Thus, we were able to checkout data from this feature layer into a geodatabase. Clients can use this data in any way they wish, for instance, publish it as another feature layer to a different portal or just store it for archival."
   ]
  },
  {
   "cell_type": "markdown",
   "metadata": {},
   "source": [
    "## Removing replicas\n",
    "\n",
    "The sync operation is expensive on the resources of your web GIS. Hence, it is a good maintenance practice to remove unnecessary replicas. An ArcGIS admin could use the ArcGIS Python API to script and automate the process of scanning all feature layers and removing stale replicas on each of them.\n",
    "\n",
    "A replica can be removed by calling the `unregister()` method and passing the id of a replica that needs to be removed."
   ]
  },
  {
   "cell_type": "code",
   "execution_count": 29,
   "metadata": {},
   "outputs": [],
   "source": [
    "# Let us query all the replicas registered on the ports feature layer from before\n",
    "replica_list = ports_flc.replicas.get_list()"
   ]
  },
  {
   "cell_type": "code",
   "execution_count": 30,
   "metadata": {},
   "outputs": [
    {
     "name": "stdout",
     "output_type": "stream",
     "text": [
      "{'replicaName': 'arcgis_python_api_ports', 'replicaID': '6E679BFE-90AC-453F-AFEC-06610E1EA90D'}\n"
     ]
    }
   ],
   "source": [
    "for r in replica_list:\n",
    "    print(r)"
   ]
  },
  {
   "cell_type": "markdown",
   "metadata": {},
   "source": [
    "There are more than a few. I only want to remove the replicas that were registered 10 minutes ago. But, your search criteria could be any other. \n",
    "\n",
    "We will loop through each of the replicas returned and use the `get()` method to get detailed information about these replicas and look a `creationDate` property."
   ]
  },
  {
   "cell_type": "markdown",
   "metadata": {},
   "source": [
    "Before looping, let us take a deeper look at one of these replicas by calling the `get()` method:"
   ]
  },
  {
   "cell_type": "code",
   "execution_count": 31,
   "metadata": {},
   "outputs": [
    {
     "data": {
      "text/plain": [
       "{'replicaName': 'arcgis_python_api_ports',\n",
       " 'replicaID': '6E679BFE-90AC-453F-AFEC-06610E1EA90D',\n",
       " 'replicaOwner': 'arcgis_python',\n",
       " 'spatialReference': {'wkid': 102100, 'latestWkid': 3857},\n",
       " 'layerServerGens': [{'id': 0, 'serverGen': 1554503878473, 'serverSibGen': 0}],\n",
       " 'creationDate': 1554503878473,\n",
       " 'lastSyncDate': 1554503878473,\n",
       " 'syncModel': 'perLayer',\n",
       " 'targetType': 'server',\n",
       " 'syncDirection': 'download',\n",
       " 'returnsAttachments': False,\n",
       " 'returnAttachments': False,\n",
       " 'attachmentsSyncDirection': 'none',\n",
       " 'spatialRel': 'esriSpatialRelIntersects',\n",
       " 'geometry': {'xmin': -17764735.369,\n",
       "  'ymin': 2241467.173,\n",
       "  'xmax': -13044640.57,\n",
       "  'ymax': 5721784.017,\n",
       "  'spatialReference': {'wkid': 102100, 'latestWkid': 3857}},\n",
       " 'layers': [{'id': 0,\n",
       "   'queryOption': 'useFilter',\n",
       "   'useGeometry': True,\n",
       "   'includeRelated': True,\n",
       "   'where': ''}]}"
      ]
     },
     "execution_count": 31,
     "metadata": {},
     "output_type": "execute_result"
    }
   ],
   "source": [
    "replica1 = ports_flc.replicas.get(replica_list[0]['replicaID'])\n",
    "replica1"
   ]
  },
  {
   "cell_type": "markdown",
   "metadata": {},
   "source": [
    "The `creationDate` key is retured as unix epoch time. We need to convert it to local time for processing:"
   ]
  },
  {
   "cell_type": "code",
   "execution_count": 32,
   "metadata": {},
   "outputs": [
    {
     "data": {
      "text/plain": [
       "time.struct_time(tm_year=2019, tm_mon=4, tm_mday=5, tm_hour=15, tm_min=37, tm_sec=58, tm_wday=4, tm_yday=95, tm_isdst=1)"
      ]
     },
     "execution_count": 32,
     "metadata": {},
     "output_type": "execute_result"
    }
   ],
   "source": [
    "import time\n",
    "time.localtime(replica1['creationDate']/1000) #dividing by 1000 to convert micro seconds to seconds"
   ]
  },
  {
   "cell_type": "markdown",
   "metadata": {},
   "source": [
    "To determine those replicas that were created 10 mins earlier, let us create an epoch timestamp for 10 mins before now and find those replicas whose time stamps are lower than this"
   ]
  },
  {
   "cell_type": "code",
   "execution_count": 33,
   "metadata": {},
   "outputs": [
    {
     "data": {
      "text/plain": [
       "1554504014.728465"
      ]
     },
     "execution_count": 33,
     "metadata": {},
     "output_type": "execute_result"
    }
   ],
   "source": [
    "ten_min_earlier_epoch = time.time() - 10\n",
    "ten_min_earlier_epoch"
   ]
  },
  {
   "cell_type": "code",
   "execution_count": 34,
   "metadata": {},
   "outputs": [
    {
     "name": "stdout",
     "output_type": "stream",
     "text": [
      "{'replica_id': '6E679BFE-90AC-453F-AFEC-06610E1EA90D', 'creationDate': 1554503878.473}\n"
     ]
    }
   ],
   "source": [
    "import time\n",
    "removal_list = []\n",
    "for r in replica_list:\n",
    "    temp_r = ports_flc.replicas.get(r['replicaID'])\n",
    "    temp_dict = {'replica_id': r['replicaID'],\n",
    "                'creationDate':temp_r['creationDate']/1000}\n",
    "    \n",
    "    #check\n",
    "    if temp_dict['creationDate'] < ten_min_earlier_epoch:\n",
    "        removal_list.append(temp_dict)\n",
    "        print(temp_dict)"
   ]
  },
  {
   "cell_type": "markdown",
   "metadata": {},
   "source": [
    "Let us loop through each of these replicas and remove them using the `unregister()` method:"
   ]
  },
  {
   "cell_type": "code",
   "execution_count": 35,
   "metadata": {},
   "outputs": [
    {
     "name": "stdout",
     "output_type": "stream",
     "text": [
      "{'success': True}\n"
     ]
    }
   ],
   "source": [
    "for r in removal_list:\n",
    "    result = ports_flc.replicas.unregister(r['replica_id'])\n",
    "    print(result)"
   ]
  }
 ],
 "metadata": {
  "anaconda-cloud": {},
  "kernelspec": {
   "display_name": "Python 3",
   "language": "python",
   "name": "python3"
  },
  "language_info": {
   "codemirror_mode": {
    "name": "ipython",
    "version": 3
   },
   "file_extension": ".py",
   "mimetype": "text/x-python",
   "name": "python",
   "nbconvert_exporter": "python",
   "pygments_lexer": "ipython3",
   "version": "3.6.8"
  }
 },
 "nbformat": 4,
 "nbformat_minor": 1
}
