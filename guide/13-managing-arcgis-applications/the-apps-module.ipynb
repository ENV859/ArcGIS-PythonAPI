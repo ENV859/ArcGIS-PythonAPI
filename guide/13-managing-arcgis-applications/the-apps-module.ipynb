{
 "cells": [
  {
   "cell_type": "markdown",
   "metadata": {},
   "source": [
    "# The `apps` module\n",
    "\n",
    "The ArcGIS ecosystem contains a number of applications targeted for specific use cases. The `apps` module of the ArcGIS API for Python contains classes and utilities that help you manage and automate your workflows around these applications. To know more about the symphony of apps in the ArcGIS ecosystem, see [here](https://www.esri.com/en-us/arcgis/products/apps-for-everyone/overview).\n",
    "\n",
    "The guide pages in this section talk about specific applications that are supported and how you can use them to automate your workflows."
   ]
  }
 ],
 "metadata": {
  "kernelspec": {
   "display_name": "Python 3",
   "language": "python",
   "name": "python3"
  },
  "language_info": {
   "codemirror_mode": {
    "name": "ipython",
    "version": 3
   },
   "file_extension": ".py",
   "mimetype": "text/x-python",
   "name": "python",
   "nbconvert_exporter": "python",
   "pygments_lexer": "ipython3",
   "version": "3.7.3"
  }
 },
 "nbformat": 4,
 "nbformat_minor": 2
}
