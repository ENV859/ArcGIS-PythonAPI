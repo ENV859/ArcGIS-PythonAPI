{
 "cells": [
  {
   "cell_type": "markdown",
   "metadata": {},
   "source": [
    "# Introduction to the Spatially Enabled DataFrame\n",
    "\n",
    "The [`Spatially Enabled DataFrame`](https://esri.github.io/arcgis-python-api/apidoc/html/arcgis.features.toc.html#spatialdataframe) (SEDF) creates a simple, intutive object that can easily manipulate geometric and attribute data.\n",
    "\n",
    "<blockquote>\n",
    "    New at version 1.5, the Spatially Enabled DataFrame is an evolution of the <code>SpatialDataFrame</code> object that you may be familiar with. While the <code>SDF</code> object is still avialable for use, the team has stopped active development of it and is promoting the use of this new Spatially Enabled DataFrame pattern. The SEDF provides you better memory management, ability to handle larger datasets and is the pattern that Pandas advocates as the path forward.</blockquote>\n",
    "\n",
    "The Spatially Enabled DataFrame inserts a custom namespace called `spatial` into the popular [Pandas](https://pandas.pydata.org/) [DataFrame](http://pandas.pydata.org/pandas-docs/stable/dsintro.html#dataframe) structure to give it spatial abilities. This allows you to use intutive, pandorable operations on both the attribute and spatial columns. Thus, the SEDF is based on data structures inherently suited to data analysis, with natural operations for the filtering and inspecting of subsets of values which are fundamental to statistical and geographic manipulations.\n",
    "\n",
    "The dataframe reads from many **sources**, including shapefiles, [Pandas](https://pandas.pydata.org/) [DataFrames](http://pandas.pydata.org/pandas-docs/stable/dsintro.html#dataframe), feature classes, GeoJSON, and Feature Layers."
   ]
  },
  {
   "cell_type": "markdown",
   "metadata": {},
   "source": [
    "\n",
    "This document outlines some fundamentals of using the `Spatially Enabled DataFrame` object for working with GIS data.\n",
    "\n",
    "* [Accessing GIS Data](#Accessing-GIS-data)\n",
    " * [Reading Web Layers](#Reading-Web-Layers)\n",
    " * [Reading Feature Layer Data](#Reading-Feature-Layer-Data)\n",
    "   * [Examining Feature Layer Content](#Example:-Examining-Feature-Layer-content)\n",
    "   * [Example: Feature Layer Query Results to a Spatial DataFrame](#Example:-Feature-Layer-Query-Results-to-a-Spatially-Enabled-DataFrame)\n",
    "* [Accessing local GIS Data](#Accessing-local-GIS-data)\n",
    " * [Example: Reading a Shapefile](#Example:-Reading-a-Shapefile)\n",
    "* [Saving Spatiall Enabled DataFrames](#Saving-Spatially-Enabled-DataFrames)\n",
    " * [Export Options](#Export-Options)\n",
    " * [Exporting to a Feature Class](#Export-to-Feature-Class)\n",
    "   * [Example: Export a whole dataset to a Shapefile](#Example:-Export-a-whole-dataset-to-a-shapefile:)\n",
    "   * [Example: Export a subset to a Shapefile](#Example:-Export-dataset-with-a-subset-of-columns-and-top-5-records-to-a-shapefile:)"
   ]
  },
  {
   "cell_type": "code",
   "execution_count": 1,
   "metadata": {},
   "outputs": [],
   "source": [
    "import pandas as pd\n",
    "from arcgis.features import GeoAccessor, GeoSeriesAccessor"
   ]
  },
  {
   "cell_type": "markdown",
   "metadata": {},
   "source": [
    "## Accessing GIS data\n",
    "GIS users need to work with both published layers on remote servers (web layers) and local data, but the ability to manipulate these datasets without permanentently copying the data is lacking.  The `Spatial Enabled DataFrame` solves this problem because it is an in-memory object that can read, write and manipulate geospatial data.\n",
    "\n",
    "The SEDF integrates with Esri's [`ArcPy` site-package](http://pro.arcgis.com/en/pro-app/arcpy/get-started/what-is-arcpy-.htm) as well as the open source [`pyshp`](https://github.com/GeospatialPython/pyshp/), [`shapely`](https://github.com/Toblerity/Shapely) and [`fiona`](https://github.com/Toblerity/Fiona) packages. This means the ArcGIS API for Python SEDF can use either of these geometry engines to provide you options for easily working with geospatial data regardless of your platform.  The SEDF transforms data into the formats you desire so you can use Python functionality to analyze and visualize geographic information.\n",
    "\n",
    "Data can be read and scripted to automate workflows and just as easily visualized on maps in [`Jupyter notebooks`](../using-the-jupyter-notebook-environment/). The SEDF can export data as feature classes or publish them directly to servers for sharing according to your needs. Let's explore some of the different options available with the versatile `Spatial Enabled DataFrame` namespaces:"
   ]
  },
  {
   "cell_type": "markdown",
   "metadata": {},
   "source": [
    "### Reading Web Layers\n",
    "\n",
    "[`Feature layers`](https://doc.arcgis.com/en/arcgis-online/share-maps/hosted-web-layers.htm) hosted on [**ArcGIS Online**](https://www.arcgis.com) or [**ArcGIS Enterprise**](http://enterprise.arcgis.com/en/) can be easily read into a Spatially Enabled DataFrame using the  [`from_layer`](https://esri.github.io/arcgis-python-api/apidoc/html/arcgis.features.toc.html?highlight=from_layer#arcgis.features.GeoAccessor.from_layer) method. Once you read it into a SEDF object, you can create reports, manipulate the data, or convert it to a form that is comfortable and makes sense for its intended purpose.\n",
    "\n",
    "**Example: Retrieving an ArcGIS Online [`item`](https://developers.arcgis.com/rest/users-groups-and-items/publish-item.htm) and using the [`layers`](https://esri.github.io/arcgis-python-api/apidoc/html/arcgis.gis.toc.html#layer) property to inspect the first 5 records of the layer**"
   ]
  },
  {
   "cell_type": "code",
   "execution_count": 6,
   "metadata": {},
   "outputs": [
    {
     "data": {
      "text/html": [
       "<div>\n",
       "<style scoped>\n",
       "    .dataframe tbody tr th:only-of-type {\n",
       "        vertical-align: middle;\n",
       "    }\n",
       "\n",
       "    .dataframe tbody tr th {\n",
       "        vertical-align: top;\n",
       "    }\n",
       "\n",
       "    .dataframe thead th {\n",
       "        text-align: right;\n",
       "    }\n",
       "</style>\n",
       "<table border=\"1\" class=\"dataframe\">\n",
       "  <thead>\n",
       "    <tr style=\"text-align: right;\">\n",
       "      <th></th>\n",
       "      <th>AGE_10_14</th>\n",
       "      <th>AGE_15_19</th>\n",
       "      <th>AGE_20_24</th>\n",
       "      <th>AGE_25_34</th>\n",
       "      <th>AGE_35_44</th>\n",
       "      <th>AGE_45_54</th>\n",
       "      <th>AGE_55_64</th>\n",
       "      <th>AGE_5_9</th>\n",
       "      <th>AGE_65_74</th>\n",
       "      <th>AGE_75_84</th>\n",
       "      <th>...</th>\n",
       "      <th>PLACEFIPS</th>\n",
       "      <th>POP2010</th>\n",
       "      <th>POPULATION</th>\n",
       "      <th>POP_CLASS</th>\n",
       "      <th>RENTER_OCC</th>\n",
       "      <th>SHAPE</th>\n",
       "      <th>ST</th>\n",
       "      <th>STFIPS</th>\n",
       "      <th>VACANT</th>\n",
       "      <th>WHITE</th>\n",
       "    </tr>\n",
       "  </thead>\n",
       "  <tbody>\n",
       "    <tr>\n",
       "      <th>0</th>\n",
       "      <td>2144</td>\n",
       "      <td>2314</td>\n",
       "      <td>2002</td>\n",
       "      <td>3531</td>\n",
       "      <td>3887</td>\n",
       "      <td>5643</td>\n",
       "      <td>6353</td>\n",
       "      <td>2067</td>\n",
       "      <td>5799</td>\n",
       "      <td>2850</td>\n",
       "      <td>...</td>\n",
       "      <td>0408220</td>\n",
       "      <td>39540</td>\n",
       "      <td>40346</td>\n",
       "      <td>6</td>\n",
       "      <td>6563</td>\n",
       "      <td>{\"x\": -12751215.004681978, \"y\": 4180278.406256...</td>\n",
       "      <td>AZ</td>\n",
       "      <td>04</td>\n",
       "      <td>6703</td>\n",
       "      <td>32367</td>\n",
       "    </tr>\n",
       "    <tr>\n",
       "      <th>1</th>\n",
       "      <td>876</td>\n",
       "      <td>867</td>\n",
       "      <td>574</td>\n",
       "      <td>1247</td>\n",
       "      <td>1560</td>\n",
       "      <td>2122</td>\n",
       "      <td>2342</td>\n",
       "      <td>733</td>\n",
       "      <td>2157</td>\n",
       "      <td>975</td>\n",
       "      <td>...</td>\n",
       "      <td>0424895</td>\n",
       "      <td>14364</td>\n",
       "      <td>14847</td>\n",
       "      <td>6</td>\n",
       "      <td>1397</td>\n",
       "      <td>{\"x\": -12755627.731115643, \"y\": 4164465.572856...</td>\n",
       "      <td>AZ</td>\n",
       "      <td>04</td>\n",
       "      <td>1389</td>\n",
       "      <td>12730</td>\n",
       "    </tr>\n",
       "    <tr>\n",
       "      <th>2</th>\n",
       "      <td>1000</td>\n",
       "      <td>1003</td>\n",
       "      <td>833</td>\n",
       "      <td>2311</td>\n",
       "      <td>2063</td>\n",
       "      <td>2374</td>\n",
       "      <td>3631</td>\n",
       "      <td>1068</td>\n",
       "      <td>6165</td>\n",
       "      <td>3776</td>\n",
       "      <td>...</td>\n",
       "      <td>0425030</td>\n",
       "      <td>26265</td>\n",
       "      <td>26977</td>\n",
       "      <td>6</td>\n",
       "      <td>1963</td>\n",
       "      <td>{\"x\": -12734674.294574209, \"y\": 3850472.723091...</td>\n",
       "      <td>AZ</td>\n",
       "      <td>04</td>\n",
       "      <td>9636</td>\n",
       "      <td>22995</td>\n",
       "    </tr>\n",
       "    <tr>\n",
       "      <th>3</th>\n",
       "      <td>2730</td>\n",
       "      <td>2850</td>\n",
       "      <td>2194</td>\n",
       "      <td>4674</td>\n",
       "      <td>5240</td>\n",
       "      <td>7438</td>\n",
       "      <td>8440</td>\n",
       "      <td>2499</td>\n",
       "      <td>8145</td>\n",
       "      <td>4608</td>\n",
       "      <td>...</td>\n",
       "      <td>0439370</td>\n",
       "      <td>52527</td>\n",
       "      <td>55041</td>\n",
       "      <td>7</td>\n",
       "      <td>6765</td>\n",
       "      <td>{\"x\": -12725332.21151233, \"y\": 4096532.0908223...</td>\n",
       "      <td>AZ</td>\n",
       "      <td>04</td>\n",
       "      <td>9159</td>\n",
       "      <td>47335</td>\n",
       "    </tr>\n",
       "    <tr>\n",
       "      <th>4</th>\n",
       "      <td>2732</td>\n",
       "      <td>2965</td>\n",
       "      <td>2024</td>\n",
       "      <td>3182</td>\n",
       "      <td>3512</td>\n",
       "      <td>3109</td>\n",
       "      <td>1632</td>\n",
       "      <td>2497</td>\n",
       "      <td>916</td>\n",
       "      <td>467</td>\n",
       "      <td>...</td>\n",
       "      <td>0463470</td>\n",
       "      <td>25505</td>\n",
       "      <td>29767</td>\n",
       "      <td>6</td>\n",
       "      <td>1681</td>\n",
       "      <td>{\"x\": -12770984.257542243, \"y\": 3826624.133935...</td>\n",
       "      <td>AZ</td>\n",
       "      <td>04</td>\n",
       "      <td>572</td>\n",
       "      <td>16120</td>\n",
       "    </tr>\n",
       "  </tbody>\n",
       "</table>\n",
       "<p>5 rows × 51 columns</p>\n",
       "</div>"
      ],
      "text/plain": [
       "   AGE_10_14  AGE_15_19  AGE_20_24  AGE_25_34  AGE_35_44  AGE_45_54  \\\n",
       "0       2144       2314       2002       3531       3887       5643   \n",
       "1        876        867        574       1247       1560       2122   \n",
       "2       1000       1003        833       2311       2063       2374   \n",
       "3       2730       2850       2194       4674       5240       7438   \n",
       "4       2732       2965       2024       3182       3512       3109   \n",
       "\n",
       "   AGE_55_64  AGE_5_9  AGE_65_74  AGE_75_84  ...    PLACEFIPS  POP2010  \\\n",
       "0       6353     2067       5799       2850  ...      0408220    39540   \n",
       "1       2342      733       2157        975  ...      0424895    14364   \n",
       "2       3631     1068       6165       3776  ...      0425030    26265   \n",
       "3       8440     2499       8145       4608  ...      0439370    52527   \n",
       "4       1632     2497        916        467  ...      0463470    25505   \n",
       "\n",
       "   POPULATION  POP_CLASS  RENTER_OCC  \\\n",
       "0       40346          6        6563   \n",
       "1       14847          6        1397   \n",
       "2       26977          6        1963   \n",
       "3       55041          7        6765   \n",
       "4       29767          6        1681   \n",
       "\n",
       "                                               SHAPE  ST STFIPS VACANT  WHITE  \n",
       "0  {\"x\": -12751215.004681978, \"y\": 4180278.406256...  AZ     04   6703  32367  \n",
       "1  {\"x\": -12755627.731115643, \"y\": 4164465.572856...  AZ     04   1389  12730  \n",
       "2  {\"x\": -12734674.294574209, \"y\": 3850472.723091...  AZ     04   9636  22995  \n",
       "3  {\"x\": -12725332.21151233, \"y\": 4096532.0908223...  AZ     04   9159  47335  \n",
       "4  {\"x\": -12770984.257542243, \"y\": 3826624.133935...  AZ     04    572  16120  \n",
       "\n",
       "[5 rows x 51 columns]"
      ]
     },
     "execution_count": 6,
     "metadata": {},
     "output_type": "execute_result"
    }
   ],
   "source": [
    "from arcgis import GIS\n",
    "gis = GIS()\n",
    "item = gis.content.get(\"85d0ca4ea1ca4b9abf0c51b9bd34de2e\")\n",
    "flayer = item.layers[0]\n",
    "\n",
    "# create a Spatially Enabled DataFrame object\n",
    "sdf = pd.DataFrame.spatial.from_layer(flayer)\n",
    "sdf.head()"
   ]
  },
  {
   "cell_type": "markdown",
   "metadata": {},
   "source": [
    "When you inspect the `type` of the object, you get back a standard pandas `DataFrame` object. However, this object now has an additional `SHAPE` column that allows you to perform geometric operations. In other words, this `DataFrame` is now geo-aware."
   ]
  },
  {
   "cell_type": "code",
   "execution_count": 7,
   "metadata": {},
   "outputs": [
    {
     "data": {
      "text/plain": [
       "pandas.core.frame.DataFrame"
      ]
     },
     "execution_count": 7,
     "metadata": {},
     "output_type": "execute_result"
    }
   ],
   "source": [
    "type(sdf)"
   ]
  },
  {
   "cell_type": "markdown",
   "metadata": {},
   "source": [
    "Further, the `DataFrame` has a new `spatial` property that provides a list of geoprocessing operations that can be performed on the object. The rest of the guides in this section go into details of how to use these functionalities. So, sit tight."
   ]
  },
  {
   "cell_type": "markdown",
   "metadata": {},
   "source": [
    "### Reading Feature Layer Data\n",
    "\n",
    "As seen above, the SEDF can consume a `Feature Layer` served from either ArcGIS Online or ArcGIS Enterprise orgs. Let's take a step-by-step approach to break down the notebook cell above and then extract a subset of records from the feature layer.\n",
    "\n",
    "#### Example: Examining Feature Layer content"
   ]
  },
  {
   "cell_type": "markdown",
   "metadata": {},
   "source": [
    "Use the `from_layer` method on the SEDF to instantiate a data frame from an item's `layer` and inspect the first 5 records."
   ]
  },
  {
   "cell_type": "code",
   "execution_count": 9,
   "metadata": {},
   "outputs": [
    {
     "data": {
      "text/html": [
       "<div class=\"item_container\" style=\"height: auto; overflow: hidden; border: 1px solid #cfcfcf; border-radius: 2px; background: #f6fafa; line-height: 1.21429em; padding: 10px;\">\n",
       "                    <div class=\"item_left\" style=\"width: 210px; float: left;\">\n",
       "                       <a href='https://www.arcgis.com/home/item.html?id=85d0ca4ea1ca4b9abf0c51b9bd34de2e' target='_blank'>\n",
       "                        <img src='https://www.arcgis.com/sharing/rest//content/items/85d0ca4ea1ca4b9abf0c51b9bd34de2e/info/thumbnail/usa_major_cities.jpg' class=\"itemThumbnail\">\n",
       "                       </a>\n",
       "                    </div>\n",
       "\n",
       "                    <div class=\"item_right\"     style=\"float: none; width: auto; overflow: hidden;\">\n",
       "                        <a href='https://www.arcgis.com/home/item.html?id=85d0ca4ea1ca4b9abf0c51b9bd34de2e' target='_blank'><b>USA Major Cities</b>\n",
       "                        </a>\n",
       "                        <br/>This layer presents the locations of cities within the United States with populations of approximately 10,000 or greater, all state capitals, and the national capital.<img src='https://www.arcgis.com/home/js/jsapi/esri/css/images/item_type_icons/featureshosted16.png' style=\"vertical-align:middle;\">Feature Layer Collection by esri_dm\n",
       "                        <br/>Last Modified: December 21, 2017\n",
       "                        <br/>3 comments, 331,873 views\n",
       "                    </div>\n",
       "                </div>\n",
       "                "
      ],
      "text/plain": [
       "<Item title:\"USA Major Cities\" type:Feature Layer Collection owner:esri_dm>"
      ]
     },
     "execution_count": 9,
     "metadata": {},
     "output_type": "execute_result"
    }
   ],
   "source": [
    "# Retrieve an item from ArcGIS Online from a known ID value\n",
    "known_item = gis.content.get(\"85d0ca4ea1ca4b9abf0c51b9bd34de2e\")\n",
    "known_item"
   ]
  },
  {
   "cell_type": "code",
   "execution_count": 10,
   "metadata": {},
   "outputs": [
    {
     "data": {
      "text/html": [
       "<div>\n",
       "<style scoped>\n",
       "    .dataframe tbody tr th:only-of-type {\n",
       "        vertical-align: middle;\n",
       "    }\n",
       "\n",
       "    .dataframe tbody tr th {\n",
       "        vertical-align: top;\n",
       "    }\n",
       "\n",
       "    .dataframe thead th {\n",
       "        text-align: right;\n",
       "    }\n",
       "</style>\n",
       "<table border=\"1\" class=\"dataframe\">\n",
       "  <thead>\n",
       "    <tr style=\"text-align: right;\">\n",
       "      <th></th>\n",
       "      <th>AGE_10_14</th>\n",
       "      <th>AGE_15_19</th>\n",
       "      <th>AGE_20_24</th>\n",
       "      <th>AGE_25_34</th>\n",
       "      <th>AGE_35_44</th>\n",
       "      <th>AGE_45_54</th>\n",
       "      <th>AGE_55_64</th>\n",
       "      <th>AGE_5_9</th>\n",
       "      <th>AGE_65_74</th>\n",
       "      <th>AGE_75_84</th>\n",
       "      <th>...</th>\n",
       "      <th>PLACEFIPS</th>\n",
       "      <th>POP2010</th>\n",
       "      <th>POPULATION</th>\n",
       "      <th>POP_CLASS</th>\n",
       "      <th>RENTER_OCC</th>\n",
       "      <th>SHAPE</th>\n",
       "      <th>ST</th>\n",
       "      <th>STFIPS</th>\n",
       "      <th>VACANT</th>\n",
       "      <th>WHITE</th>\n",
       "    </tr>\n",
       "  </thead>\n",
       "  <tbody>\n",
       "    <tr>\n",
       "      <th>0</th>\n",
       "      <td>2144</td>\n",
       "      <td>2314</td>\n",
       "      <td>2002</td>\n",
       "      <td>3531</td>\n",
       "      <td>3887</td>\n",
       "      <td>5643</td>\n",
       "      <td>6353</td>\n",
       "      <td>2067</td>\n",
       "      <td>5799</td>\n",
       "      <td>2850</td>\n",
       "      <td>...</td>\n",
       "      <td>0408220</td>\n",
       "      <td>39540</td>\n",
       "      <td>40346</td>\n",
       "      <td>6</td>\n",
       "      <td>6563</td>\n",
       "      <td>{\"x\": -12751215.004681978, \"y\": 4180278.406256...</td>\n",
       "      <td>AZ</td>\n",
       "      <td>04</td>\n",
       "      <td>6703</td>\n",
       "      <td>32367</td>\n",
       "    </tr>\n",
       "    <tr>\n",
       "      <th>1</th>\n",
       "      <td>876</td>\n",
       "      <td>867</td>\n",
       "      <td>574</td>\n",
       "      <td>1247</td>\n",
       "      <td>1560</td>\n",
       "      <td>2122</td>\n",
       "      <td>2342</td>\n",
       "      <td>733</td>\n",
       "      <td>2157</td>\n",
       "      <td>975</td>\n",
       "      <td>...</td>\n",
       "      <td>0424895</td>\n",
       "      <td>14364</td>\n",
       "      <td>14847</td>\n",
       "      <td>6</td>\n",
       "      <td>1397</td>\n",
       "      <td>{\"x\": -12755627.731115643, \"y\": 4164465.572856...</td>\n",
       "      <td>AZ</td>\n",
       "      <td>04</td>\n",
       "      <td>1389</td>\n",
       "      <td>12730</td>\n",
       "    </tr>\n",
       "    <tr>\n",
       "      <th>2</th>\n",
       "      <td>1000</td>\n",
       "      <td>1003</td>\n",
       "      <td>833</td>\n",
       "      <td>2311</td>\n",
       "      <td>2063</td>\n",
       "      <td>2374</td>\n",
       "      <td>3631</td>\n",
       "      <td>1068</td>\n",
       "      <td>6165</td>\n",
       "      <td>3776</td>\n",
       "      <td>...</td>\n",
       "      <td>0425030</td>\n",
       "      <td>26265</td>\n",
       "      <td>26977</td>\n",
       "      <td>6</td>\n",
       "      <td>1963</td>\n",
       "      <td>{\"x\": -12734674.294574209, \"y\": 3850472.723091...</td>\n",
       "      <td>AZ</td>\n",
       "      <td>04</td>\n",
       "      <td>9636</td>\n",
       "      <td>22995</td>\n",
       "    </tr>\n",
       "    <tr>\n",
       "      <th>3</th>\n",
       "      <td>2730</td>\n",
       "      <td>2850</td>\n",
       "      <td>2194</td>\n",
       "      <td>4674</td>\n",
       "      <td>5240</td>\n",
       "      <td>7438</td>\n",
       "      <td>8440</td>\n",
       "      <td>2499</td>\n",
       "      <td>8145</td>\n",
       "      <td>4608</td>\n",
       "      <td>...</td>\n",
       "      <td>0439370</td>\n",
       "      <td>52527</td>\n",
       "      <td>55041</td>\n",
       "      <td>7</td>\n",
       "      <td>6765</td>\n",
       "      <td>{\"x\": -12725332.21151233, \"y\": 4096532.0908223...</td>\n",
       "      <td>AZ</td>\n",
       "      <td>04</td>\n",
       "      <td>9159</td>\n",
       "      <td>47335</td>\n",
       "    </tr>\n",
       "    <tr>\n",
       "      <th>4</th>\n",
       "      <td>2732</td>\n",
       "      <td>2965</td>\n",
       "      <td>2024</td>\n",
       "      <td>3182</td>\n",
       "      <td>3512</td>\n",
       "      <td>3109</td>\n",
       "      <td>1632</td>\n",
       "      <td>2497</td>\n",
       "      <td>916</td>\n",
       "      <td>467</td>\n",
       "      <td>...</td>\n",
       "      <td>0463470</td>\n",
       "      <td>25505</td>\n",
       "      <td>29767</td>\n",
       "      <td>6</td>\n",
       "      <td>1681</td>\n",
       "      <td>{\"x\": -12770984.257542243, \"y\": 3826624.133935...</td>\n",
       "      <td>AZ</td>\n",
       "      <td>04</td>\n",
       "      <td>572</td>\n",
       "      <td>16120</td>\n",
       "    </tr>\n",
       "  </tbody>\n",
       "</table>\n",
       "<p>5 rows × 51 columns</p>\n",
       "</div>"
      ],
      "text/plain": [
       "   AGE_10_14  AGE_15_19  AGE_20_24  AGE_25_34  AGE_35_44  AGE_45_54  \\\n",
       "0       2144       2314       2002       3531       3887       5643   \n",
       "1        876        867        574       1247       1560       2122   \n",
       "2       1000       1003        833       2311       2063       2374   \n",
       "3       2730       2850       2194       4674       5240       7438   \n",
       "4       2732       2965       2024       3182       3512       3109   \n",
       "\n",
       "   AGE_55_64  AGE_5_9  AGE_65_74  AGE_75_84  ...    PLACEFIPS  POP2010  \\\n",
       "0       6353     2067       5799       2850  ...      0408220    39540   \n",
       "1       2342      733       2157        975  ...      0424895    14364   \n",
       "2       3631     1068       6165       3776  ...      0425030    26265   \n",
       "3       8440     2499       8145       4608  ...      0439370    52527   \n",
       "4       1632     2497        916        467  ...      0463470    25505   \n",
       "\n",
       "   POPULATION  POP_CLASS  RENTER_OCC  \\\n",
       "0       40346          6        6563   \n",
       "1       14847          6        1397   \n",
       "2       26977          6        1963   \n",
       "3       55041          7        6765   \n",
       "4       29767          6        1681   \n",
       "\n",
       "                                               SHAPE  ST STFIPS VACANT  WHITE  \n",
       "0  {\"x\": -12751215.004681978, \"y\": 4180278.406256...  AZ     04   6703  32367  \n",
       "1  {\"x\": -12755627.731115643, \"y\": 4164465.572856...  AZ     04   1389  12730  \n",
       "2  {\"x\": -12734674.294574209, \"y\": 3850472.723091...  AZ     04   9636  22995  \n",
       "3  {\"x\": -12725332.21151233, \"y\": 4096532.0908223...  AZ     04   9159  47335  \n",
       "4  {\"x\": -12770984.257542243, \"y\": 3826624.133935...  AZ     04    572  16120  \n",
       "\n",
       "[5 rows x 51 columns]"
      ]
     },
     "execution_count": 10,
     "metadata": {},
     "output_type": "execute_result"
    }
   ],
   "source": [
    "# Obtain the first feature layer from the item\n",
    "fl = known_item.layers[0]\n",
    "\n",
    "# Use the `from_layer` static method in the 'spatial' namespace on the Pandas' DataFrame\n",
    "sdf = pd.DataFrame.spatial.from_layer(fl)\n",
    "\n",
    "# Return the first 5 records. \n",
    "sdf.head()"
   ]
  },
  {
   "cell_type": "markdown",
   "metadata": {},
   "source": [
    "> NOTE: See Pandas DataFrame [`head() method documentation`](https://pandas.pydata.org/pandas-docs/stable/generated/pandas.DataFrame.head.html) for details."
   ]
  },
  {
   "cell_type": "markdown",
   "metadata": {},
   "source": [
    "You can also use sql queries to return a subset of records by leveraging the ArcGIS API for Python's [`Feature Layer`](https://esri.github.io/arcgis-python-api/apidoc/html/arcgis.features.toc.html#featurelayer) object itself. When you run a [`query()`](https://esri.github.io/arcgis-python-api/apidoc/html/arcgis.features.toc.html#arcgis.features.FeatureLayer.query) on a `FeatureLayer`, you get back a `FeatureSet` object. Calling the `sdf` property of the `FeatureSet` returns a Spatially Enabled DataFrame object. We then use the data frame's [`head()`](http://pandas.pydata.org/pandas-docs/stable/generated/pandas.core.groupby.GroupBy.head.html#pandas.core.groupby.GroupBy.head) method to return the first 5 records and a subset of columns from the DataFrame:"
   ]
  },
  {
   "cell_type": "markdown",
   "metadata": {},
   "source": [
    "#### Example: Feature Layer Query Results to a Spatially Enabled DataFrame\n",
    "We'll use the `AGE_45_54` column to query the dataframe and return a new `DataFrame` with a subset of records. We can use the built-in [`zip()`](https://docs.python.org/3/library/functions.html#zip) function to print the data frame attribute field names, and then use data frame syntax to view specific attribute fields in the output:"
   ]
  },
  {
   "cell_type": "code",
   "execution_count": 5,
   "metadata": {},
   "outputs": [],
   "source": [
    "# Filter feature layer records with a sql query. \n",
    "# See https://developers.arcgis.com/rest/services-reference/query-feature-service-layer-.htm\n",
    "\n",
    "df = fl.query(where=\"AGE_45_54 < 1500\").sdf"
   ]
  },
  {
   "cell_type": "code",
   "execution_count": 6,
   "metadata": {},
   "outputs": [
    {
     "name": "stdout",
     "output_type": "stream",
     "text": [
      "AGE_10_14                     AGE_15_19                     AGE_20_24                     AGE_25_34\n",
      "AGE_35_44                     AGE_45_54                     AGE_55_64                     AGE_5_9\n",
      "AGE_65_74                     AGE_75_84                     AGE_85_UP                     AGE_UNDER5\n",
      "AMERI_ES                      ASIAN                         AVE_FAM_SZ                    AVE_HH_SZ\n",
      "BLACK                         CAPITAL                       CLASS                         FAMILIES\n",
      "FEMALES                       FHH_CHILD                     FID                           HAWN_PI\n",
      "HISPANIC                      HOUSEHOLDS                    HSEHLD_1_F                    HSEHLD_1_M\n",
      "HSE_UNITS                     MALES                         MARHH_CHD                     MARHH_NO_C\n",
      "MED_AGE                       MED_AGE_F                     MED_AGE_M                     MHH_CHILD\n",
      "MULT_RACE                     NAME                          OBJECTID                      OTHER\n",
      "OWNER_OCC                     PLACEFIPS                     POP2010                       POPULATION\n",
      "POP_CLASS                     RENTER_OCC                    SHAPE                         ST\n"
     ]
    }
   ],
   "source": [
    "for a,b,c,d in zip(df.columns[::4], df.columns[1::4],df.columns[2::4], df.columns[3::4]):\n",
    "    print(\"{:<30}{:<30}{:<30}{:<}\".format(a,b,c,d))"
   ]
  },
  {
   "cell_type": "code",
   "execution_count": 7,
   "metadata": {},
   "outputs": [
    {
     "data": {
      "text/html": [
       "<div>\n",
       "<style scoped>\n",
       "    .dataframe tbody tr th:only-of-type {\n",
       "        vertical-align: middle;\n",
       "    }\n",
       "\n",
       "    .dataframe tbody tr th {\n",
       "        vertical-align: top;\n",
       "    }\n",
       "\n",
       "    .dataframe thead th {\n",
       "        text-align: right;\n",
       "    }\n",
       "</style>\n",
       "<table border=\"1\" class=\"dataframe\">\n",
       "  <thead>\n",
       "    <tr style=\"text-align: right;\">\n",
       "      <th></th>\n",
       "      <th>NAME</th>\n",
       "      <th>AGE_45_54</th>\n",
       "      <th>POP2010</th>\n",
       "    </tr>\n",
       "  </thead>\n",
       "  <tbody>\n",
       "    <tr>\n",
       "      <th>0</th>\n",
       "      <td>Somerton</td>\n",
       "      <td>1411</td>\n",
       "      <td>14287</td>\n",
       "    </tr>\n",
       "    <tr>\n",
       "      <th>1</th>\n",
       "      <td>Anderson</td>\n",
       "      <td>1333</td>\n",
       "      <td>9932</td>\n",
       "    </tr>\n",
       "    <tr>\n",
       "      <th>2</th>\n",
       "      <td>Camp Pendleton South</td>\n",
       "      <td>127</td>\n",
       "      <td>10616</td>\n",
       "    </tr>\n",
       "    <tr>\n",
       "      <th>3</th>\n",
       "      <td>Citrus</td>\n",
       "      <td>1443</td>\n",
       "      <td>10866</td>\n",
       "    </tr>\n",
       "    <tr>\n",
       "      <th>4</th>\n",
       "      <td>Commerce</td>\n",
       "      <td>1478</td>\n",
       "      <td>12823</td>\n",
       "    </tr>\n",
       "  </tbody>\n",
       "</table>\n",
       "</div>"
      ],
      "text/plain": [
       "                   NAME  AGE_45_54  POP2010\n",
       "0              Somerton       1411    14287\n",
       "1              Anderson       1333     9932\n",
       "2  Camp Pendleton South        127    10616\n",
       "3                Citrus       1443    10866\n",
       "4              Commerce       1478    12823"
      ]
     },
     "execution_count": 7,
     "metadata": {},
     "output_type": "execute_result"
    }
   ],
   "source": [
    "# Return a subset of columns on just the first 5 records\n",
    "df[['NAME', 'AGE_45_54', 'POP2010']].head()"
   ]
  },
  {
   "cell_type": "markdown",
   "metadata": {},
   "source": [
    "## Accessing local GIS data\n",
    "\n",
    "The SEDF can also access local geospatial data. Depending upon what Python modules you have installed, you'll have access to a wide range of functionality:  \n",
    "\n",
    "* If the **`ArcPy`** module is installed, meaning you have installed [`ArcGIS Pro`](http://pro.arcgis.com/en/pro-app/) and have installed the ArcGIS API for Python in that same environment, the `DataFrame` then has methods to read a subset of the ArcGIS Desktop [supported geographic formats](http://desktop.arcgis.com/en/arcmap/10.3/manage-data/datatypes/about-geographic-data-formats.htm#ESRI_SECTION1_4835793C55C0439593A46FD5BC9E64B9), most notably:\n",
    " * [`feature classes`](http://desktop.arcgis.com/en/arcmap/latest/manage-data/feature-classes/a-quick-tour-of-feature-classes.htm)\n",
    " * [`shapefiles`](http://desktop.arcgis.com/en/arcmap/latest/manage-data/shapefiles/what-is-a-shapefile.htm),  \n",
    " * [`ArcGIS Server Web Services`](https://enterprise.arcgis.com/en/server/latest/publish-services/windows/what-types-of-services-can-you-publish.htm) and [`ArcGIS Online Hosted Feature Layers`](https://doc.arcgis.com/en/arcgis-online/share-maps/publish-features.htm) \n",
    " * [`OGC Services`](http://www.opengeospatial.org/standards)  \n",
    "* If the **ArcPy** module is not installed, the SEDF [`from_featureclass`](https://esri.github.io/arcgis-python-api/apidoc/html/arcgis.features.toc.html?arcgis.features.GeoAccessor.from_featureclass#arcgis.features.GeoAccessor.from_featureclass) method only supports consuming an Esri [`shapefile`](http://desktop.arcgis.com/en/arcmap/latest/manage-data/shapefiles/what-is-a-shapefile.htm)\n",
    "> Please note that you must install the `pyshp` package to read shapefiles in environments that don't have access to `ArcPy`.\n",
    "    \n",
    "### Example: Reading a Shapefile\n",
    "> You must authenticate to `ArcGIS Online` or `ArcGIS Enterprise` to use the `from_featureclass()` method to read a shapefile with a Python interpreter that does not have access to `ArcPy`.\n",
    "\n",
    ">  `g2 = GIS(\"https://www.arcgis.com\", \"username\", \"password\")`"
   ]
  },
  {
   "cell_type": "code",
   "execution_count": 8,
   "metadata": {},
   "outputs": [],
   "source": [
    "g2 = GIS(\"https://python.playground.esri.com/portal\", \"arcgis_python\", \"amazing_arcgis_123\")"
   ]
  },
  {
   "cell_type": "code",
   "execution_count": 10,
   "metadata": {},
   "outputs": [
    {
     "data": {
      "text/html": [
       "<div>\n",
       "<style scoped>\n",
       "    .dataframe tbody tr th:only-of-type {\n",
       "        vertical-align: middle;\n",
       "    }\n",
       "\n",
       "    .dataframe tbody tr th {\n",
       "        vertical-align: top;\n",
       "    }\n",
       "\n",
       "    .dataframe thead th {\n",
       "        text-align: right;\n",
       "    }\n",
       "</style>\n",
       "<table border=\"1\" class=\"dataframe\">\n",
       "  <thead>\n",
       "    <tr style=\"text-align: right;\">\n",
       "      <th></th>\n",
       "      <th>PLACENS</th>\n",
       "      <th>GEOID</th>\n",
       "      <th>NAMELSAD</th>\n",
       "      <th>CLASSFP</th>\n",
       "      <th>FUNCSTAT</th>\n",
       "      <th>ALAND</th>\n",
       "      <th>AWATER</th>\n",
       "      <th>INTPTLAT</th>\n",
       "      <th>INTPTLON</th>\n",
       "      <th>OBJECTID</th>\n",
       "      <th>SHAPE</th>\n",
       "    </tr>\n",
       "  </thead>\n",
       "  <tbody>\n",
       "    <tr>\n",
       "      <th>216</th>\n",
       "      <td>02390518</td>\n",
       "      <td>3481380</td>\n",
       "      <td>Williamstown CDP</td>\n",
       "      <td>U1</td>\n",
       "      <td>S</td>\n",
       "      <td>19224931.0</td>\n",
       "      <td>9679.0</td>\n",
       "      <td>+39.6842012</td>\n",
       "      <td>-74.9686746</td>\n",
       "      <td>217</td>\n",
       "      <td>{\"rings\": [[[-75.01233999999994, 39.6705850000...</td>\n",
       "    </tr>\n",
       "    <tr>\n",
       "      <th>217</th>\n",
       "      <td>02390527</td>\n",
       "      <td>3481950</td>\n",
       "      <td>Woodbridge CDP</td>\n",
       "      <td>U1</td>\n",
       "      <td>S</td>\n",
       "      <td>10066988.0</td>\n",
       "      <td>73147.0</td>\n",
       "      <td>+40.5550241</td>\n",
       "      <td>-74.2849508</td>\n",
       "      <td>218</td>\n",
       "      <td>{\"rings\": [[[-74.30846699999995, 40.5411700000...</td>\n",
       "    </tr>\n",
       "    <tr>\n",
       "      <th>218</th>\n",
       "      <td>02633183</td>\n",
       "      <td>3483170</td>\n",
       "      <td>Yardville CDP</td>\n",
       "      <td>U1</td>\n",
       "      <td>S</td>\n",
       "      <td>10534691.0</td>\n",
       "      <td>93678.0</td>\n",
       "      <td>+40.1866452</td>\n",
       "      <td>-74.6630801</td>\n",
       "      <td>219</td>\n",
       "      <td>{\"rings\": [[[-74.70470199999994, 40.1848300000...</td>\n",
       "    </tr>\n",
       "    <tr>\n",
       "      <th>219</th>\n",
       "      <td>02390550</td>\n",
       "      <td>3483245</td>\n",
       "      <td>Yorketown CDP</td>\n",
       "      <td>U1</td>\n",
       "      <td>S</td>\n",
       "      <td>6184354.0</td>\n",
       "      <td>24137.0</td>\n",
       "      <td>+40.3059040</td>\n",
       "      <td>-74.3388992</td>\n",
       "      <td>220</td>\n",
       "      <td>{\"rings\": [[[-74.35499299999998, 40.3024340000...</td>\n",
       "    </tr>\n",
       "    <tr>\n",
       "      <th>220</th>\n",
       "      <td>02584041</td>\n",
       "      <td>3483290</td>\n",
       "      <td>Zarephath CDP</td>\n",
       "      <td>U1</td>\n",
       "      <td>S</td>\n",
       "      <td>1044431.0</td>\n",
       "      <td>87101.0</td>\n",
       "      <td>+40.5345727</td>\n",
       "      <td>-74.5721914</td>\n",
       "      <td>221</td>\n",
       "      <td>{\"rings\": [[[-74.58222099999995, 40.5350360000...</td>\n",
       "    </tr>\n",
       "  </tbody>\n",
       "</table>\n",
       "</div>"
      ],
      "text/plain": [
       "      PLACENS    GEOID          NAMELSAD CLASSFP FUNCSTAT       ALAND  \\\n",
       "216  02390518  3481380  Williamstown CDP      U1        S  19224931.0   \n",
       "217  02390527  3481950    Woodbridge CDP      U1        S  10066988.0   \n",
       "218  02633183  3483170     Yardville CDP      U1        S  10534691.0   \n",
       "219  02390550  3483245     Yorketown CDP      U1        S   6184354.0   \n",
       "220  02584041  3483290     Zarephath CDP      U1        S   1044431.0   \n",
       "\n",
       "      AWATER     INTPTLAT     INTPTLON  OBJECTID  \\\n",
       "216   9679.0  +39.6842012  -74.9686746       217   \n",
       "217  73147.0  +40.5550241  -74.2849508       218   \n",
       "218  93678.0  +40.1866452  -74.6630801       219   \n",
       "219  24137.0  +40.3059040  -74.3388992       220   \n",
       "220  87101.0  +40.5345727  -74.5721914       221   \n",
       "\n",
       "                                                 SHAPE  \n",
       "216  {\"rings\": [[[-75.01233999999994, 39.6705850000...  \n",
       "217  {\"rings\": [[[-74.30846699999995, 40.5411700000...  \n",
       "218  {\"rings\": [[[-74.70470199999994, 40.1848300000...  \n",
       "219  {\"rings\": [[[-74.35499299999998, 40.3024340000...  \n",
       "220  {\"rings\": [[[-74.58222099999995, 40.5350360000...  "
      ]
     },
     "execution_count": 10,
     "metadata": {},
     "output_type": "execute_result"
    }
   ],
   "source": [
    "sdf = pd.DataFrame.spatial.from_featureclass(\"path\\to\\your\\data\\census_example\\cities.shp\")\n",
    "sdf.tail()"
   ]
  },
  {
   "cell_type": "markdown",
   "metadata": {},
   "source": [
    "## Saving Spatially Enabled DataFrames\n",
    "\n",
    "The SEDF can export data to various data formats for use in other applications.\n",
    "\n",
    "\n",
    "### Export Options\n",
    "\n",
    "- [Feature Layers](https://doc.arcgis.com/en/arcgis-online/share-maps/hosted-web-layers.htm)\n",
    "- [Feature Collections](https://esri.github.io/arcgis-python-api/apidoc/html/arcgis.features.toc.html#featurelayercollection)\n",
    "- [Feature Set](https://esri.github.io/arcgis-python-api/apidoc/html/arcgis.features.toc.html#featureset)\n",
    "- [GeoJSON](http://geojson.org/)\n",
    "- [Feature Class](http://desktop.arcgis.com/en/arcmap/latest/manage-data/feature-classes/a-quick-tour-of-feature-classes.htm)\n",
    "- [Pickle](https://pythontips.com/2013/08/02/what-is-pickle-in-python/)\n",
    "- [HDF](https://support.hdfgroup.org/HDF5/Tutor/HDF5Intro.pdf)\n",
    "\n",
    "### Export to Feature Class\n",
    "\n",
    "The SEDF allows for the export of whole datasets or partial datasets.  \n",
    "\n",
    "#### Example: Export a whole dataset to a shapefile:"
   ]
  },
  {
   "cell_type": "code",
   "execution_count": 18,
   "metadata": {},
   "outputs": [
    {
     "data": {
      "text/plain": [
       "'c:\\\\output_examples\\\\census.shp'"
      ]
     },
     "execution_count": 18,
     "metadata": {},
     "output_type": "execute_result"
    }
   ],
   "source": [
    "sdf.spatial.to_featureclass(location=r\"c:\\output_examples\\census.shp\")"
   ]
  },
  {
   "cell_type": "markdown",
   "metadata": {},
   "source": [
    "> The ArcGIS API for Python installs on all `macOS` and `Linux` machines, as well as those `Windows` machines not using Python interpreters that have access to `ArcPy` will only be able to write out to shapefile format with the `to_featureclass` method. Writing to file geodatabases requires the `ArcPy` site-package."
   ]
  },
  {
   "cell_type": "markdown",
   "metadata": {},
   "source": [
    "#### Example: Export dataset with a subset of columns and top 5 records to a shapefile:"
   ]
  },
  {
   "cell_type": "code",
   "execution_count": 17,
   "metadata": {},
   "outputs": [
    {
     "name": "stdout",
     "output_type": "stream",
     "text": [
      "PLACENS                       GEOID                         NAMELSAD                      CLASSFP\n",
      "FUNCSTAT                      ALAND                         AWATER                        INTPTLAT\n"
     ]
    }
   ],
   "source": [
    "for a,b,c,d in zip(sdf.columns[::4], sdf.columns[1::4], sdf.columns[2::4], sdf.columns[3::4]):\n",
    "    print(\"{:<30}{:<30}{:<30}{:<}\".format(a,b,c,d))"
   ]
  },
  {
   "cell_type": "code",
   "execution_count": 15,
   "metadata": {},
   "outputs": [
    {
     "data": {
      "text/plain": [
       "'/path/to/your/data/directory/sdf_head_output.shp'"
      ]
     },
     "execution_count": 15,
     "metadata": {},
     "output_type": "execute_result"
    }
   ],
   "source": [
    "columns = ['NAME', 'ST', 'CAPITAL', 'STFIPS', 'POP2000', 'POP2007', 'SHAPE']\n",
    "sdf[columns].head().spatial.to_featureclass(location=r\"/path/to/your/data/directory/sdf_head_output.shp\")"
   ]
  }
 ],
 "metadata": {
  "kernelspec": {
   "display_name": "Python 3",
   "language": "python",
   "name": "python3"
  },
  "language_info": {
   "codemirror_mode": {
    "name": "ipython",
    "version": 3
   },
   "file_extension": ".py",
   "mimetype": "text/x-python",
   "name": "python",
   "nbconvert_exporter": "python",
   "pygments_lexer": "ipython3",
   "version": "3.6.5"
  }
 },
 "nbformat": 4,
 "nbformat_minor": 2
}
