{
 "cells": [
  {
   "cell_type": "markdown",
   "metadata": {},
   "source": [
    "## Visualizing Spatial Data\n",
    "The Spatially Enabled Dataframe has a [`plot()`](https://esri.github.io/arcgis-python-api/apidoc/html/arcgis.features.toc.html?arcgis.features.GeoAccessor.from_featureclass#arcgis.features.GeoAccessor.plot) method that uses a syntax and symbology similar to [`matplotlib`](https://matplotlib.org) for visualizing features on a map. With this functionality, you can easily visualize aspects of your data both on a map and on a matplotlib chart using the same symbology!\n",
    "\n",
    "Some unique characteristics of working with the visualization capabalities on the SDF:\n",
    "- Uses Pythonic syntax\n",
    "- Uses the same syntax as visualizing charts on Pandas DataFrames\n",
    "- Uses symbology familiar to users of matplotlib\n",
    "- Works on features and attributes simultaneously, eliminating to a great extent the need to iterate over all features (rows)\n",
    "- Handles reading and writing to multiple formats aiding data conversion\n",
    "\n",
    "Checkout the [Introduction to Spatially Enabled DataFrame](https://developers.arcgis.com/python/guide/introduction-to-the-spatially-enabled-dataframe/) guide to learn how to create a Spatially Enabled DataFrame."
   ]
  },
  {
   "cell_type": "markdown",
   "metadata": {},
   "source": [
    "In this guide, you will learn about:\n",
    "\n",
    " * [Quickstart](#Quickstart)\n",
    "   * [Plotting the `DataFarme`](#Plotting-the-SpatialDataFrame)\n",
    " * [Understanding renderers](#Understanding-renderers)\n",
    "   * [Supported renderers](#Supported-renderers)\n",
    "   * [Visualizing unique values](#Visualizing-unique-values)\n",
    "   * [Visualizing unique values with Arcade expressions](#Visualizing-Unique-Values-with-Arcade-Expressions)\n",
    "   * [Visualizing classes with different colors](#Visualizing-classes-with-different-colors)\n",
    " * [ColorMaps and Colors](#Colormaps-and-Colors)\n",
    " * [Symbology for Simple Renderers](#Symbology-for-Simple-Renderers)\n",
    "   * [Getting the different symbol styles](#Getting-the-different-symbol-styles)\n",
    "   * [Visualizing line features suing simple renderers](#Visualizing-line-features-using-simple-symbols)\n",
    "   * [Visualizing area features using simple renderers](#Visualizing-area-features-using-different-symbols)"
   ]
  },
  {
   "cell_type": "markdown",
   "metadata": {},
   "source": [
    "## Quickstart\n",
    "Let us read a census data on major cities and load that into a `Spatially Enabled DataFrame`"
   ]
  },
  {
   "cell_type": "code",
   "execution_count": 11,
   "metadata": {},
   "outputs": [
    {
     "data": {
      "text/html": [
       "<div>\n",
       "<style scoped>\n",
       "    .dataframe tbody tr th:only-of-type {\n",
       "        vertical-align: middle;\n",
       "    }\n",
       "\n",
       "    .dataframe tbody tr th {\n",
       "        vertical-align: top;\n",
       "    }\n",
       "\n",
       "    .dataframe thead th {\n",
       "        text-align: right;\n",
       "    }\n",
       "</style>\n",
       "<table border=\"1\" class=\"dataframe\">\n",
       "  <thead>\n",
       "    <tr style=\"text-align: right;\">\n",
       "      <th></th>\n",
       "      <th>AGE_10_14</th>\n",
       "      <th>AGE_15_19</th>\n",
       "      <th>AGE_20_24</th>\n",
       "      <th>AGE_25_34</th>\n",
       "      <th>AGE_35_44</th>\n",
       "      <th>AGE_45_54</th>\n",
       "      <th>AGE_55_64</th>\n",
       "      <th>AGE_5_9</th>\n",
       "      <th>AGE_65_74</th>\n",
       "      <th>AGE_75_84</th>\n",
       "      <th>...</th>\n",
       "      <th>PLACEFIPS</th>\n",
       "      <th>POP2010</th>\n",
       "      <th>POPULATION</th>\n",
       "      <th>POP_CLASS</th>\n",
       "      <th>RENTER_OCC</th>\n",
       "      <th>SHAPE</th>\n",
       "      <th>ST</th>\n",
       "      <th>STFIPS</th>\n",
       "      <th>VACANT</th>\n",
       "      <th>WHITE</th>\n",
       "    </tr>\n",
       "  </thead>\n",
       "  <tbody>\n",
       "    <tr>\n",
       "      <th>0</th>\n",
       "      <td>1413</td>\n",
       "      <td>1381</td>\n",
       "      <td>1106</td>\n",
       "      <td>2138</td>\n",
       "      <td>1815</td>\n",
       "      <td>1411</td>\n",
       "      <td>979</td>\n",
       "      <td>1557</td>\n",
       "      <td>525</td>\n",
       "      <td>307</td>\n",
       "      <td>...</td>\n",
       "      <td>0468080</td>\n",
       "      <td>14287</td>\n",
       "      <td>14980</td>\n",
       "      <td>6</td>\n",
       "      <td>1074</td>\n",
       "      <td>{\"x\": -12768343.256613126, \"y\": 3842463.708135...</td>\n",
       "      <td>AZ</td>\n",
       "      <td>04</td>\n",
       "      <td>261</td>\n",
       "      <td>9196</td>\n",
       "    </tr>\n",
       "    <tr>\n",
       "      <th>1</th>\n",
       "      <td>727</td>\n",
       "      <td>738</td>\n",
       "      <td>677</td>\n",
       "      <td>1380</td>\n",
       "      <td>1185</td>\n",
       "      <td>1333</td>\n",
       "      <td>1087</td>\n",
       "      <td>740</td>\n",
       "      <td>661</td>\n",
       "      <td>444</td>\n",
       "      <td>...</td>\n",
       "      <td>0602042</td>\n",
       "      <td>9932</td>\n",
       "      <td>10239</td>\n",
       "      <td>6</td>\n",
       "      <td>2056</td>\n",
       "      <td>{\"x\": -13613950.337588644, \"y\": 4931686.754090...</td>\n",
       "      <td>CA</td>\n",
       "      <td>06</td>\n",
       "      <td>267</td>\n",
       "      <td>8273</td>\n",
       "    </tr>\n",
       "    <tr>\n",
       "      <th>2</th>\n",
       "      <td>593</td>\n",
       "      <td>511</td>\n",
       "      <td>2323</td>\n",
       "      <td>2767</td>\n",
       "      <td>746</td>\n",
       "      <td>127</td>\n",
       "      <td>34</td>\n",
       "      <td>1229</td>\n",
       "      <td>4</td>\n",
       "      <td>2</td>\n",
       "      <td>...</td>\n",
       "      <td>0610561</td>\n",
       "      <td>10616</td>\n",
       "      <td>11869</td>\n",
       "      <td>6</td>\n",
       "      <td>2558</td>\n",
       "      <td>{\"x\": -13066582.116550362, \"y\": 3925650.676616...</td>\n",
       "      <td>CA</td>\n",
       "      <td>06</td>\n",
       "      <td>296</td>\n",
       "      <td>7530</td>\n",
       "    </tr>\n",
       "    <tr>\n",
       "      <th>3</th>\n",
       "      <td>888</td>\n",
       "      <td>988</td>\n",
       "      <td>900</td>\n",
       "      <td>1729</td>\n",
       "      <td>1479</td>\n",
       "      <td>1443</td>\n",
       "      <td>959</td>\n",
       "      <td>766</td>\n",
       "      <td>514</td>\n",
       "      <td>280</td>\n",
       "      <td>...</td>\n",
       "      <td>0613560</td>\n",
       "      <td>10866</td>\n",
       "      <td>11195</td>\n",
       "      <td>6</td>\n",
       "      <td>761</td>\n",
       "      <td>{\"x\": -13123874.446103057, \"y\": 4044249.710416...</td>\n",
       "      <td>CA</td>\n",
       "      <td>06</td>\n",
       "      <td>86</td>\n",
       "      <td>5898</td>\n",
       "    </tr>\n",
       "    <tr>\n",
       "      <th>4</th>\n",
       "      <td>1086</td>\n",
       "      <td>1228</td>\n",
       "      <td>1013</td>\n",
       "      <td>1822</td>\n",
       "      <td>1759</td>\n",
       "      <td>1478</td>\n",
       "      <td>1112</td>\n",
       "      <td>925</td>\n",
       "      <td>687</td>\n",
       "      <td>477</td>\n",
       "      <td>...</td>\n",
       "      <td>0614974</td>\n",
       "      <td>12823</td>\n",
       "      <td>13009</td>\n",
       "      <td>6</td>\n",
       "      <td>1763</td>\n",
       "      <td>{\"x\": -13151212.145276317, \"y\": 4027601.332347...</td>\n",
       "      <td>CA</td>\n",
       "      <td>06</td>\n",
       "      <td>88</td>\n",
       "      <td>6930</td>\n",
       "    </tr>\n",
       "  </tbody>\n",
       "</table>\n",
       "<p>5 rows × 51 columns</p>\n",
       "</div>"
      ],
      "text/plain": [
       "   AGE_10_14  AGE_15_19  AGE_20_24  AGE_25_34  AGE_35_44  AGE_45_54  \\\n",
       "0       1413       1381       1106       2138       1815       1411   \n",
       "1        727        738        677       1380       1185       1333   \n",
       "2        593        511       2323       2767        746        127   \n",
       "3        888        988        900       1729       1479       1443   \n",
       "4       1086       1228       1013       1822       1759       1478   \n",
       "\n",
       "   AGE_55_64  AGE_5_9  AGE_65_74  AGE_75_84  ...    PLACEFIPS  POP2010  \\\n",
       "0        979     1557        525        307  ...      0468080    14287   \n",
       "1       1087      740        661        444  ...      0602042     9932   \n",
       "2         34     1229          4          2  ...      0610561    10616   \n",
       "3        959      766        514        280  ...      0613560    10866   \n",
       "4       1112      925        687        477  ...      0614974    12823   \n",
       "\n",
       "   POPULATION  POP_CLASS  RENTER_OCC  \\\n",
       "0       14980          6        1074   \n",
       "1       10239          6        2056   \n",
       "2       11869          6        2558   \n",
       "3       11195          6         761   \n",
       "4       13009          6        1763   \n",
       "\n",
       "                                               SHAPE  ST STFIPS VACANT  WHITE  \n",
       "0  {\"x\": -12768343.256613126, \"y\": 3842463.708135...  AZ     04    261   9196  \n",
       "1  {\"x\": -13613950.337588644, \"y\": 4931686.754090...  CA     06    267   8273  \n",
       "2  {\"x\": -13066582.116550362, \"y\": 3925650.676616...  CA     06    296   7530  \n",
       "3  {\"x\": -13123874.446103057, \"y\": 4044249.710416...  CA     06     86   5898  \n",
       "4  {\"x\": -13151212.145276317, \"y\": 4027601.332347...  CA     06     88   6930  \n",
       "\n",
       "[5 rows x 51 columns]"
      ]
     },
     "execution_count": 11,
     "metadata": {},
     "output_type": "execute_result"
    }
   ],
   "source": [
    "from arcgis import GIS\n",
    "gis = GIS()\n",
    "# create an anonymous connection to ArcGIS Online and get a public item\n",
    "item = gis.content.get(\"85d0ca4ea1ca4b9abf0c51b9bd34de2e\")\n",
    "flayer = item.layers[0]\n",
    "\n",
    "# Specify a SQL query and get a sub-set of the original data as a DataFrame\n",
    "df = flayer.query(where=\"AGE_45_54 < 1500\").sdf\n",
    "\n",
    "# Visualize the top 5 records\n",
    "df.head()"
   ]
  },
  {
   "cell_type": "markdown",
   "metadata": {},
   "source": [
    "> Note: If the above cell looks new to you, please checkout the [Introduction to Spatially Enabled DataFrame](https://developers.arcgis.com/python/guide/introduction-to-the-spatially-enabled-dataframe/) guide."
   ]
  },
  {
   "cell_type": "markdown",
   "metadata": {},
   "source": [
    "Let us create a map of the United States"
   ]
  },
  {
   "cell_type": "code",
   "execution_count": 2,
   "metadata": {},
   "outputs": [
    {
     "data": {
      "application/vnd.jupyter.widget-view+json": {
       "model_id": "ea826a65070444b2b88a583b4bb8fb05",
       "version_major": 2,
       "version_minor": 0
      },
      "text/plain": [
       "MapView(basemaps=['dark-gray', 'dark-gray-vector', 'gray', 'gray-vector', 'hybrid', 'national-geographic', 'oc…"
      ]
     },
     "metadata": {},
     "output_type": "display_data"
    }
   ],
   "source": [
    "m1 = GIS().map('United States')\n",
    "m1"
   ]
  },
  {
   "cell_type": "markdown",
   "metadata": {},
   "source": [
    "![map of US diamonds](http://esri.github.io/arcgis-python-api/notebooks/nbimages/13_3_map_dfplot1a.png)"
   ]
  },
  {
   "cell_type": "code",
   "execution_count": 3,
   "metadata": {},
   "outputs": [],
   "source": [
    "m1.zoom = 4\n",
    "m1.center = [39,-98]"
   ]
  },
  {
   "cell_type": "markdown",
   "metadata": {},
   "source": [
    "### Plotting the DataFrame\n",
    "You can quickly visualize the points by calling the `plot()` method off the `DataFrame`'s `spatial` accessor and passing the map you created above."
   ]
  },
  {
   "cell_type": "code",
   "execution_count": 4,
   "metadata": {},
   "outputs": [
    {
     "data": {
      "text/plain": [
       "True"
      ]
     },
     "execution_count": 4,
     "metadata": {},
     "output_type": "execute_result"
    }
   ],
   "source": [
    "df.spatial.plot(map_widget= m1)"
   ]
  },
  {
   "cell_type": "markdown",
   "metadata": {},
   "source": [
    "You can customize the symbols, their color, shape, border etc. like you would in a typical matplotlib plot. The rest of this guide talks about such customizations and suggestions to visualize your spatial and non-spatial data.\n",
    "\n",
    "The code below plots the same set of points on a new map using a common structure used amongst many different Python packages for defining symbology. It is built off of the matplotlib libraries for simple, straightforward plotting. We'll explain some of the parameters below, and the [`plot()`](https://esri.github.io/arcgis-python-api/apidoc/html/arcgis.features.toc.html#arcgis.features.SpatialDataFrame.plot) API Reference outlines more options."
   ]
  },
  {
   "cell_type": "code",
   "execution_count": 5,
   "metadata": {},
   "outputs": [
    {
     "data": {
      "application/vnd.jupyter.widget-view+json": {
       "model_id": "3349ead8306f425999f0013e8be36f66",
       "version_major": 2,
       "version_minor": 0
      },
      "text/plain": [
       "MapView(basemaps=['dark-gray', 'dark-gray-vector', 'gray', 'gray-vector', 'hybrid', 'national-geographic', 'oc…"
      ]
     },
     "metadata": {},
     "output_type": "display_data"
    }
   ],
   "source": [
    "m2= GIS().map('United States', zoomlevel=4)\n",
    "m2"
   ]
  },
  {
   "cell_type": "markdown",
   "metadata": {},
   "source": [
    "![map of US diamonds](http://esri.github.io/arcgis-python-api/notebooks/nbimages/13_3_map_dfplot1.png)"
   ]
  },
  {
   "cell_type": "code",
   "execution_count": 6,
   "metadata": {},
   "outputs": [
    {
     "data": {
      "text/plain": [
       "True"
      ]
     },
     "execution_count": 6,
     "metadata": {},
     "output_type": "execute_result"
    }
   ],
   "source": [
    "m2.center=[39,-98]\n",
    "df.spatial.plot(map_widget=m2,\n",
    "            symbol_type='simple',\n",
    "            symbol_style='d', # d - for diamonds\n",
    "            colors='Reds_r',\n",
    "            cstep=10,\n",
    "            outline_color='Blues',\n",
    "            marker_size=10)"
   ]
  },
  {
   "cell_type": "markdown",
   "metadata": {},
   "source": [
    "If this type of plotting is new to you, this is a good time to checkout [`matplotlib.pyplot`](https://matplotlib.org/api/pyplot_summary.html) documentation and Pandas dataframe [`plot`](https://pandas.pydata.org/pandas-docs/stable/generated/pandas.DataFrame.plot.html) documentation to get an idea."
   ]
  },
  {
   "cell_type": "markdown",
   "metadata": {},
   "source": [
    "## Understanding renderers"
   ]
  },
  {
   "cell_type": "markdown",
   "metadata": {},
   "source": [
    "In the snippets above, you visualized all the features with the same symbology. While this helps understand the geographic distribution of your data, your `Spatially Enabled DataFrame` object can do much more. For instance, you can group the features based on certain attributes that you choose and symbolize each group by a certain color or size or both. To help with this, let us understand the concept of **renderers**.\n",
    "\n",
    "[`Renderers`](https://developers.arcgis.com/documentation/common-data-types/renderer-objects.htm) define how to visually represent a `feature layer` by defining [`symbols`](https://developers.arcgis.com/documentation/common-data-types/symbol-objects.htm) to represent individual features. The `SeDF` provides you with functionality to control the way features appear by choosing the `symbol` the renderer uses.\n",
    "\n",
    "Previous versions of the ArcGIS API for Python provided a method to specify a renderer manually, but you had to know details about the renderer before you drew your data. The [`map.add_layer()`]() method did not provide access to all options avialble for rendering datasets. The new visualization capabilities provided by the SEDF allow you to draw spatial data quickly and easily with access to more rendering options."
   ]
  },
  {
   "cell_type": "markdown",
   "metadata": {
    "heading_collapsed": true
   },
   "source": [
    "### Supported renderers  \n",
    "\n",
    "The renderering options below are documented in further detail in the [`DatFrame Reference`](https://esri.github.io/arcgis-python-api/apidoc/html/arcgis.features.toc.html?highlight=from_layer#arcgis.features.GeoAccessor.plot). At a high level, you have the following renderers:\n",
    "\n",
    "| Renderer     \t| Syntax \t| Explanation                                                                                 \t|\n",
    "|--------------\t|--------\t|---------------------------------------------------------------------------------------------\t|\n",
    "| Simple       \t| 's'    \t| renders using one symbol only (the examples in [quickstart](#quickstart) above)             \t|\n",
    "| Unique       \t| 'u'    \t| renders each unique value with a different symbol. Suitable for categorical columns         \t|\n",
    "| Unique       \t| 'u-a'    \t| renders each unique value with a different symbol using arcade expressions. Suitable for categorical columns         \t|\n",
    "| Class breaks \t| 'c'    \t| renders each group of values with a different color or size. Suitable for numerical columns \t|\n",
    "| Heatmap      \t| 'h'    \t| renders density of point data as raster of varying colors                                   \t|"
   ]
  },
  {
   "cell_type": "markdown",
   "metadata": {},
   "source": [
    "### Visualizing unique values\n",
    "Let us explore the major cities census data further and explore if there are any categorical columns"
   ]
  },
  {
   "cell_type": "code",
   "execution_count": 7,
   "metadata": {},
   "outputs": [
    {
     "data": {
      "text/plain": [
       "Index(['AGE_10_14', 'AGE_15_19', 'AGE_20_24', 'AGE_25_34', 'AGE_35_44',\n",
       "       'AGE_45_54', 'AGE_55_64', 'AGE_5_9', 'AGE_65_74', 'AGE_75_84',\n",
       "       'AGE_85_UP', 'AGE_UNDER5', 'AMERI_ES', 'ASIAN', 'AVE_FAM_SZ',\n",
       "       'AVE_HH_SZ', 'BLACK', 'CAPITAL', 'CLASS', 'FAMILIES', 'FEMALES',\n",
       "       'FHH_CHILD', 'FID', 'HAWN_PI', 'HISPANIC', 'HOUSEHOLDS', 'HSEHLD_1_F',\n",
       "       'HSEHLD_1_M', 'HSE_UNITS', 'MALES', 'MARHH_CHD', 'MARHH_NO_C',\n",
       "       'MED_AGE', 'MED_AGE_F', 'MED_AGE_M', 'MHH_CHILD', 'MULT_RACE', 'NAME',\n",
       "       'OBJECTID', 'OTHER', 'OWNER_OCC', 'PLACEFIPS', 'POP2010', 'POPULATION',\n",
       "       'POP_CLASS', 'RENTER_OCC', 'SHAPE', 'ST', 'STFIPS', 'VACANT', 'WHITE'],\n",
       "      dtype='object')"
      ]
     },
     "execution_count": 7,
     "metadata": {},
     "output_type": "execute_result"
    }
   ],
   "source": [
    "df.columns"
   ]
  },
  {
   "cell_type": "markdown",
   "metadata": {},
   "source": [
    "The `ST` column contains state names in abbreviation is a good candidate. We could symbolize the points such that all which fall under the same state get the same symbol:"
   ]
  },
  {
   "cell_type": "code",
   "execution_count": 8,
   "metadata": {},
   "outputs": [
    {
     "data": {
      "text/html": [
       "<div>\n",
       "<style scoped>\n",
       "    .dataframe tbody tr th:only-of-type {\n",
       "        vertical-align: middle;\n",
       "    }\n",
       "\n",
       "    .dataframe tbody tr th {\n",
       "        vertical-align: top;\n",
       "    }\n",
       "\n",
       "    .dataframe thead th {\n",
       "        text-align: right;\n",
       "    }\n",
       "</style>\n",
       "<table border=\"1\" class=\"dataframe\">\n",
       "  <thead>\n",
       "    <tr style=\"text-align: right;\">\n",
       "      <th></th>\n",
       "      <th>ST</th>\n",
       "      <th>NAME</th>\n",
       "    </tr>\n",
       "  </thead>\n",
       "  <tbody>\n",
       "    <tr>\n",
       "      <th>0</th>\n",
       "      <td>AZ</td>\n",
       "      <td>Somerton</td>\n",
       "    </tr>\n",
       "    <tr>\n",
       "      <th>1</th>\n",
       "      <td>CA</td>\n",
       "      <td>Anderson</td>\n",
       "    </tr>\n",
       "    <tr>\n",
       "      <th>2</th>\n",
       "      <td>CA</td>\n",
       "      <td>Camp Pendleton South</td>\n",
       "    </tr>\n",
       "    <tr>\n",
       "      <th>3</th>\n",
       "      <td>CA</td>\n",
       "      <td>Citrus</td>\n",
       "    </tr>\n",
       "    <tr>\n",
       "      <th>4</th>\n",
       "      <td>CA</td>\n",
       "      <td>Commerce</td>\n",
       "    </tr>\n",
       "  </tbody>\n",
       "</table>\n",
       "</div>"
      ],
      "text/plain": [
       "   ST                  NAME\n",
       "0  AZ              Somerton\n",
       "1  CA              Anderson\n",
       "2  CA  Camp Pendleton South\n",
       "3  CA                Citrus\n",
       "4  CA              Commerce"
      ]
     },
     "execution_count": 8,
     "metadata": {},
     "output_type": "execute_result"
    }
   ],
   "source": [
    "df[['ST', 'NAME']].head()"
   ]
  },
  {
   "cell_type": "code",
   "execution_count": 9,
   "metadata": {},
   "outputs": [
    {
     "data": {
      "application/vnd.jupyter.widget-view+json": {
       "model_id": "cf6bd3abe4ec4689828e9aa41c6dd070",
       "version_major": 2,
       "version_minor": 0
      },
      "text/plain": [
       "MapView(basemaps=['dark-gray', 'dark-gray-vector', 'gray', 'gray-vector', 'hybrid', 'national-geographic', 'oc…"
      ]
     },
     "metadata": {},
     "output_type": "display_data"
    }
   ],
   "source": [
    "gis = GIS()\n",
    "m3 = gis.map('Reno, NV', zoomlevel=4)\n",
    "m3"
   ]
  },
  {
   "cell_type": "markdown",
   "metadata": {},
   "source": [
    "![unique value renderer](http://esri.github.io/arcgis-python-api/notebooks/nbimages/guide_sdf_unique_value_renderer_1.png)"
   ]
  },
  {
   "cell_type": "code",
   "execution_count": 10,
   "metadata": {},
   "outputs": [
    {
     "data": {
      "text/plain": [
       "True"
      ]
     },
     "execution_count": 10,
     "metadata": {},
     "output_type": "execute_result"
    }
   ],
   "source": [
    "df.spatial.plot(map_widget = m3,\n",
    "                renderer_type='u', # specify the unique value renderer using its notation 'u'\n",
    "                col='ST'  # column to get unique values from\n",
    "               )"
   ]
  },
  {
   "cell_type": "markdown",
   "metadata": {},
   "source": [
    "By default, the API picks a unique color from the [`jet`](https://matplotlib.org/tutorials/colors/colormaps.html) colormap for each category (US State names in this case) and assigns it. You can override this by choosing your own colormap (`prism` for instance) and customizing the symbol style, symbol type, outline color, thickness, transparency etc. Keep reading to learn more about these customizations.\n",
    "\n",
    "It is a good cartographic practice to not have too many unique values in your legend. Human eyes can only preceive so many colors and there are only a limited number of colors to choose from in a given color map before the colors become indistinguishable.\n",
    "\n",
    "As a safe practice, the Python API caps the maximum number of unique values to `256`, the remaining are generalized and plotted with a default color. If you have several unique values, you should consider picking a different column that better represents your data or consider using a different renderer."
   ]
  },
  {
   "cell_type": "markdown",
   "metadata": {},
   "source": [
    "### Visualizing Unique Values with Arcade Expressions\n",
    "\n",
    "Arcade is an expression language that can be used across the ArcGIS Platform. Whether writing simple scripts to control how features are rendered, or expressions to control label text, Arcade provides a simple scripting syntax to deliver these capabilities.\n",
    "\n",
    "In the sense of visualization, Arcade expressions are used to create rich and dynamic symbology.  This example will follow the [JavaScript guide](https://developers.arcgis.com/javascript/latest/guide/arcade/index.html#visualization).\n",
    "\n",
    "#### Obtain the Data\n",
    "\n",
    "Access the enterprise to gain access to the FeatureLayer information and query it into a Spatially Enabled DataFrame."
   ]
  },
  {
   "cell_type": "code",
   "execution_count": 3,
   "metadata": {},
   "outputs": [],
   "source": [
    "item = gis.content.get(\"8444e275037549c1acab02d2626daaee\")\n",
    "flayer = item.layers[0]\n",
    "df = flayer.query().sdf"
   ]
  },
  {
   "cell_type": "code",
   "execution_count": 4,
   "metadata": {},
   "outputs": [],
   "source": [
    "fset = flayer.query()"
   ]
  },
  {
   "cell_type": "code",
   "execution_count": 5,
   "metadata": {},
   "outputs": [],
   "source": [
    "from arcgis.geometry import Geometry\n",
    "g = Geometry(fset.features[0].geometry)\n",
    "g.as_arcpy"
   ]
  },
  {
   "cell_type": "markdown",
   "metadata": {},
   "source": [
    "#### Write out the Arcade Expressions and Stops\n",
    "\n",
    "Arcade expressions require the stops to be manually provided.  In this case, we first create an opacity visual variable based on a percent of dominant parties in registered citizens."
   ]
  },
  {
   "cell_type": "code",
   "execution_count": 6,
   "metadata": {},
   "outputs": [],
   "source": [
    "opacity_expression = (\"var republican = $feature.MP06025a_B;var democrat = $feature.MP06024a_B;\"\n",
    "                      \"var independent = $feature.MP06026a_B;var parties = [republican, democrat, independent];\"\n",
    "                      \"var total = Sum(parties);var max = Max(parties);return (max / total) * 100;\")\n",
    "opacity_stops = [\n",
    "    { \"value\": 33, \"transparency\": 0.05 * 255, \"label\": \"< 33%\" },\n",
    "    { \"value\": 44, \"transparency\": 1.0 * 255, \"label\": \"> 44%\" }]"
   ]
  },
  {
   "cell_type": "markdown",
   "metadata": {},
   "source": [
    "Next we develop another Arcade expression to obtain the majority party in a given county."
   ]
  },
  {
   "cell_type": "code",
   "execution_count": 7,
   "metadata": {},
   "outputs": [],
   "source": [
    "arcade_expression = (\"var republican = $feature.MP06025a_B;var democrat = $feature.MP06024a_B;\"\n",
    "                     \"var independent = $feature.MP06026a_B;var parties = [republican, democrat, independent];\"\n",
    "                     \"return Decode( Max(parties),republican, 'republican', democrat, 'democrat',independent, \"\n",
    "                     \"'independent','n/a' );\")\n",
    "uv = [{\"label\":\"Democrat\",\"symbol\":{\"type\":\"esriSFS\",\"color\":[0,195,255,255],\n",
    "                                    \"outline\":{\"type\":\"esriSLS\",\"color\":[0,0,0,51],\n",
    "                                               \"width\":0.5,\"style\":\"esriSLSSolid\"},\n",
    "                                    \"style\":\"esriSFSSolid\"},\"value\":\"democrat\"},\n",
    "      {\"label\":\"Republican\",\"symbol\":{\"type\":\"esriSFS\",\"color\":[255,0,46,255],\"outline\":{\n",
    "          \"type\":\"esriSLS\",\"color\":[0,0,0,51],\"width\":0.5,\"style\":\"esriSLSSolid\"},\n",
    "                                      \"style\":\"esriSFSSolid\"},\"value\":\"republican\"},\n",
    "      {\"label\":\"Independent/other party\",\"symbol\":{\"type\":\"esriSFS\",\"color\":[250,255,0,255],\n",
    "                                                   \"outline\":{\"type\":\"esriSLS\",\"color\":[0,0,0,51],\n",
    "                                                              \"width\":0.5,\"style\":\"esriSLSSolid\"},\n",
    "                                                   \"style\":\"esriSFSSolid\"},\"value\":\"independent\"}]"
   ]
  },
  {
   "cell_type": "code",
   "execution_count": 8,
   "metadata": {},
   "outputs": [
    {
     "data": {
      "application/vnd.jupyter.widget-view+json": {
       "model_id": "520b0b29420f4bdaaae0516b03d1637d",
       "version_major": 2,
       "version_minor": 0
      },
      "text/plain": [
       "MapView(layout=Layout(height='400px', width='100%'), zoom=4.0)"
      ]
     },
     "metadata": {},
     "output_type": "display_data"
    }
   ],
   "source": [
    "gis = GIS()\n",
    "m3_ua = gis.map('United States', zoomlevel=4)\n",
    "m3_ua"
   ]
  },
  {
   "cell_type": "markdown",
   "metadata": {},
   "source": [
    "![](http://esri.github.io/arcgis-python-api/notebooks/nbimages/guide_sdf_unique_value_arcade.PNG)"
   ]
  },
  {
   "cell_type": "markdown",
   "metadata": {},
   "source": [
    "#### Visualize the Data\n",
    "\n",
    "Provide the color scheme, and the `arcade_expression` to render the data in a dynamic/rich form."
   ]
  },
  {
   "cell_type": "code",
   "execution_count": 9,
   "metadata": {},
   "outputs": [
    {
     "data": {
      "text/plain": [
       "True"
      ]
     },
     "execution_count": 9,
     "metadata": {},
     "output_type": "execute_result"
    }
   ],
   "source": [
    "df.spatial.plot(colors='coolwarm',\n",
    "                map_widget=m3_ua,\n",
    "                renderer_type='u-a',  # 'u-a' stands for uniqe value with arcade expression\n",
    "                unique_values=uv,\n",
    "                opacity_stops=opacity_stops,\n",
    "                opacity_expression=opacity_expression,\n",
    "                arcade_expression=arcade_expression)"
   ]
  },
  {
   "cell_type": "markdown",
   "metadata": {},
   "source": [
    "### Visualizing classes with different colors\n",
    "Often, you may want to classify the numerical values in your data into groups and visualize them on a map. You can accomplish this with a **class break renderer** which splits your data into specific number of groups and uses **color** to differentiate each group. You can choose the algorithm that performs the class splits or go with the defualt.\n",
    "\n",
    "Let us visualize the same major cities point dataset using its `POPULATION` column."
   ]
  },
  {
   "cell_type": "code",
   "execution_count": 12,
   "metadata": {},
   "outputs": [
    {
     "data": {
      "text/html": [
       "<div>\n",
       "<style scoped>\n",
       "    .dataframe tbody tr th:only-of-type {\n",
       "        vertical-align: middle;\n",
       "    }\n",
       "\n",
       "    .dataframe tbody tr th {\n",
       "        vertical-align: top;\n",
       "    }\n",
       "\n",
       "    .dataframe thead th {\n",
       "        text-align: right;\n",
       "    }\n",
       "</style>\n",
       "<table border=\"1\" class=\"dataframe\">\n",
       "  <thead>\n",
       "    <tr style=\"text-align: right;\">\n",
       "      <th></th>\n",
       "      <th>ST</th>\n",
       "      <th>NAME</th>\n",
       "      <th>POPULATION</th>\n",
       "    </tr>\n",
       "  </thead>\n",
       "  <tbody>\n",
       "    <tr>\n",
       "      <th>0</th>\n",
       "      <td>AZ</td>\n",
       "      <td>Somerton</td>\n",
       "      <td>14980</td>\n",
       "    </tr>\n",
       "    <tr>\n",
       "      <th>1</th>\n",
       "      <td>CA</td>\n",
       "      <td>Anderson</td>\n",
       "      <td>10239</td>\n",
       "    </tr>\n",
       "    <tr>\n",
       "      <th>2</th>\n",
       "      <td>CA</td>\n",
       "      <td>Camp Pendleton South</td>\n",
       "      <td>11869</td>\n",
       "    </tr>\n",
       "    <tr>\n",
       "      <th>3</th>\n",
       "      <td>CA</td>\n",
       "      <td>Citrus</td>\n",
       "      <td>11195</td>\n",
       "    </tr>\n",
       "    <tr>\n",
       "      <th>4</th>\n",
       "      <td>CA</td>\n",
       "      <td>Commerce</td>\n",
       "      <td>13009</td>\n",
       "    </tr>\n",
       "  </tbody>\n",
       "</table>\n",
       "</div>"
      ],
      "text/plain": [
       "   ST                  NAME  POPULATION\n",
       "0  AZ              Somerton       14980\n",
       "1  CA              Anderson       10239\n",
       "2  CA  Camp Pendleton South       11869\n",
       "3  CA                Citrus       11195\n",
       "4  CA              Commerce       13009"
      ]
     },
     "execution_count": 12,
     "metadata": {},
     "output_type": "execute_result"
    }
   ],
   "source": [
    "df[['ST', 'NAME', 'POPULATION']].head()"
   ]
  },
  {
   "cell_type": "code",
   "execution_count": 14,
   "metadata": {},
   "outputs": [
    {
     "data": {
      "application/vnd.jupyter.widget-view+json": {
       "model_id": "fc7bb250ccf5447f867844ce227ff6b3",
       "version_major": 2,
       "version_minor": 0
      },
      "text/plain": [
       "MapView(layout=Layout(height='400px', width='100%'), zoom=4.0)"
      ]
     },
     "metadata": {},
     "output_type": "display_data"
    }
   ],
   "source": [
    "m4 = gis.map('USA', zoomlevel=4)\n",
    "m4"
   ]
  },
  {
   "cell_type": "markdown",
   "metadata": {},
   "source": [
    "![class color renderer](http://esri.github.io/arcgis-python-api/notebooks/nbimages/guide_sdf_class_breaks_color_1.png)"
   ]
  },
  {
   "cell_type": "code",
   "execution_count": 15,
   "metadata": {},
   "outputs": [
    {
     "data": {
      "text/plain": [
       "True"
      ]
     },
     "execution_count": 15,
     "metadata": {},
     "output_type": "execute_result"
    }
   ],
   "source": [
    "df.spatial.plot(map_widget=m4,\n",
    "               renderer_type='c',  # for class breaks renderer\n",
    "               method='esriClassifyNaturalBreaks',  # classification algorithm\n",
    "               class_count=20,  # choose the number of classes\n",
    "               col='POPULATION',  # numeric column to classify\n",
    "               cmap='prism',  # color map to pick colors from for each class\n",
    "               alpha=0.7  # specify opacity\n",
    "               )"
   ]
  },
  {
   "cell_type": "markdown",
   "metadata": {},
   "source": [
    "You can take this further by plotting a histogram of the same `POPULATION` column and try to match the colors. To get the class breaks for the above map, you can inspect the layer definition from `MapView` object as shown below:"
   ]
  },
  {
   "cell_type": "code",
   "execution_count": 25,
   "metadata": {},
   "outputs": [
    {
     "data": {
      "text/plain": [
       "dict_keys(['type', 'visualVariables', 'rotationType', 'minValue', 'field', 'defaultSymbol', 'defaultLabel', 'classificationMethod', 'classBreakInfos'])"
      ]
     },
     "execution_count": 25,
     "metadata": {},
     "output_type": "execute_result"
    }
   ],
   "source": [
    "dict(m4.layers[0].layer.layerDefinition.drawingInfo.renderer).keys()"
   ]
  },
  {
   "cell_type": "code",
   "execution_count": 26,
   "metadata": {},
   "outputs": [
    {
     "name": "stdout",
     "output_type": "stream",
     "text": [
      "20\n"
     ]
    }
   ],
   "source": [
    "class_breaks = m4.layers[0].layer.layerDefinition.drawingInfo.renderer.classBreakInfos\n",
    "print(len(class_breaks))"
   ]
  },
  {
   "cell_type": "markdown",
   "metadata": {},
   "source": [
    "We can loop through each of the class breaks and obtain the min, max values and the colors for each class."
   ]
  },
  {
   "cell_type": "code",
   "execution_count": 29,
   "metadata": {},
   "outputs": [
    {
     "name": "stdout",
     "output_type": "stream",
     "text": [
      "7809.0 - 10844.421052631578\n",
      "10844.421052631578 - 13879.842105263157\n",
      "13879.842105263157 - 16915.263157894737\n",
      "16915.263157894737 - 19950.684210526313\n",
      "19950.684210526313 - 22986.105263157893\n",
      "22986.105263157893 - 26021.526315789473\n",
      "26021.526315789473 - 29056.94736842105\n",
      "29056.94736842105 - 32092.36842105263\n",
      "32092.36842105263 - 35127.78947368421\n",
      "35127.78947368421 - 38163.21052631579\n",
      "38163.21052631579 - 41198.63157894737\n",
      "41198.63157894737 - 44234.05263157895\n",
      "44234.05263157895 - 47269.47368421053\n",
      "47269.47368421053 - 50304.8947368421\n",
      "50304.8947368421 - 53340.31578947368\n",
      "53340.31578947368 - 56375.73684210526\n",
      "56375.73684210526 - 59411.15789473684\n",
      "59411.15789473684 - 62446.57894736842\n",
      "62446.57894736842 - 65482.0\n",
      "65482.0 - 65482.0\n"
     ]
    }
   ],
   "source": [
    "cbs_list = []\n",
    "cmap_list = []\n",
    "for cb in class_breaks:\n",
    "    print(cb.description)  # print the class break labels\n",
    "    cbs_list.append(cb.classMaxValue)\n",
    "    cmap_list.append([x/255.0 for x in cb.symbol.color])"
   ]
  },
  {
   "cell_type": "markdown",
   "metadata": {},
   "source": [
    "Now that we have the individual class splits and the colors, we can plot a histogram using the same breaks and colors."
   ]
  },
  {
   "cell_type": "code",
   "execution_count": 30,
   "metadata": {},
   "outputs": [
    {
     "data": {
      "text/plain": [
       "Text(0.5,1,'Histogram of POPULATION column')"
      ]
     },
     "execution_count": 30,
     "metadata": {},
     "output_type": "execute_result"
    },
    {
     "data": {
      "image/png": "[encoded data removed]",
      "text/plain": [
       "<Figure size 432x288 with 1 Axes>"
      ]
     },
     "metadata": {},
     "output_type": "display_data"
    }
   ],
   "source": [
    "import matplotlib.pyplot as plt\n",
    "# build a histogram for the same class breaks\n",
    "n, bins, patches = plt.hist(df['POPULATION'], bins=cbs_list)\n",
    "\n",
    "# apply the same color for each class to match the map\n",
    "idx = 0\n",
    "for c, p in zip(bins, patches):\n",
    "    plt.setp(p, 'facecolor', cmap_list[idx])\n",
    "    idx+=1\n",
    "\n",
    "plt.title('Histogram of POPULATION column')"
   ]
  },
  {
   "cell_type": "markdown",
   "metadata": {},
   "source": [
    "The shape and color of the bars in the histogram match with the number and color of major cities drawn on the map.\n",
    "\n",
    "Thus using the `Spatially Enabled DataFrame` we can easily visualize both the spatial and numeric distribution of data using the same symbology."
   ]
  },
  {
   "cell_type": "markdown",
   "metadata": {
    "heading_collapsed": true
   },
   "source": [
    "## Colormaps and Colors\n",
    "The examples above use the default colormap `jet`. However you can customize them by using the `colors` paramater. You can specify colors as:\n",
    " * a string representing [named colors](https://matplotlib.org/examples/color/named_colors.html)\n",
    " * an array of [RGB](http://www.tomjewett.com/colors/rgb.html) values\n",
    " * a named [color ramp](https://matplotlib.org/examples/color/colormaps_reference.html). \n",
    "\n",
    "#### Color Array\n",
    "\n",
    "RGB + Alpha values can be used to create colors for symbols called in the `plot` method.  RGB stands for red, green, and blue respectively. Each RGB value is a value between 0-255, and the alpha value is a number between 0-255.\n",
    "\n",
    "**Example to produce :**\n",
    "\n",
    "    color = [255,0,100,1]\n",
    "\n",
    "The above example produces a purplish color. Many websites provide details about using colors. For example, see [here](https://www.rapidtables.com/web/color/RGB_Color.html) for a color codes chart.\n",
    "\n",
    "#### Color Maps\n",
    "\n",
    "A color map is a collection of string values that can be given to generate a series of related colors from a defined set.\n",
    "\n",
    "Color maps can be viewed here: https://matplotlib.org/examples/color/colormaps_reference.html\n",
    "\n",
    "#### Color Map Helpers\n",
    "\n",
    "To better understand the syntax for each input type, the ArcGIS API for Python provides some helper functions:"
   ]
  },
  {
   "cell_type": "code",
   "execution_count": 31,
   "metadata": {
    "hidden": true
   },
   "outputs": [],
   "source": [
    "from arcgis.mapping import display_colormaps"
   ]
  },
  {
   "cell_type": "markdown",
   "metadata": {
    "hidden": true
   },
   "source": [
    "The **display_colormaps** function provides a quick, easy way to visualize the pre-defined set of colormaps you can use.  "
   ]
  },
  {
   "cell_type": "code",
   "execution_count": 32,
   "metadata": {
    "hidden": true,
    "scrolled": true
   },
   "outputs": [
    {
     "data": {
      "image/png": "[encoded data removed]",
      "text/plain": [
       "<Figure size 432x2160 with 150 Axes>"
      ]
     },
     "metadata": {},
     "output_type": "display_data"
    }
   ],
   "source": [
    "display_colormaps()"
   ]
  },
  {
   "cell_type": "markdown",
   "metadata": {
    "hidden": true
   },
   "source": [
    "You can retrieve a list of colormaps as well:"
   ]
  },
  {
   "cell_type": "code",
   "execution_count": 33,
   "metadata": {
    "hidden": true
   },
   "outputs": [
    {
     "name": "stdout",
     "output_type": "stream",
     "text": [
      "Accent              Accent_r            Blues               Blues_r             BrBG\n",
      "BrBG_r              BuGn                BuGn_r              BuPu                BuPu_r\n",
      "CMRmap              CMRmap_r            Dark2               Dark2_r             GnBu\n",
      "GnBu_r              Greens              Greens_r            Greys               Greys_r\n",
      "OrRd                OrRd_r              Oranges             Oranges_r           PRGn\n",
      "PRGn_r              Paired              Paired_r            Pastel1             Pastel1_r\n",
      "Pastel2             Pastel2_r           PiYG                PiYG_r              PuBu\n",
      "PuBuGn              PuBuGn_r            PuBu_r              PuOr                PuOr_r\n",
      "PuRd                PuRd_r              Purples             Purples_r           RdBu\n",
      "RdBu_r              RdGy                RdGy_r              RdPu                RdPu_r\n",
      "RdYlBu              RdYlBu_r            RdYlGn              RdYlGn_r            Reds\n",
      "Reds_r              Set1                Set1_r              Set2                Set2_r\n",
      "Set3                Set3_r              Spectral            Spectral_r          Wistia\n",
      "Wistia_r            YlGn                YlGnBu              YlGnBu_r            YlGn_r\n",
      "YlOrBr              YlOrBr_r            YlOrRd              YlOrRd_r            afmhot\n",
      "afmhot_r            autumn              autumn_r            binary              binary_r\n",
      "bone                bone_r              brg                 brg_r               bwr\n",
      "bwr_r               cool                cool_r              coolwarm            coolwarm_r\n",
      "copper              copper_r            cubehelix           cubehelix_r         flag\n",
      "flag_r              gist_earth          gist_earth_r        gist_gray           gist_gray_r\n",
      "gist_heat           gist_heat_r         gist_ncar           gist_ncar_r         gist_rainbow\n",
      "gist_rainbow_r      gist_stern          gist_stern_r        gist_yarg           gist_yarg_r\n",
      "gnuplot             gnuplot2            gnuplot2_r          gnuplot_r           gray\n",
      "gray_r              hot                 hot_r               hsv                 hsv_r\n",
      "inferno             inferno_r           jet                 jet_r               magma\n",
      "magma_r             nipy_spectral       nipy_spectral_r     ocean               ocean_r\n",
      "pink                pink_r              plasma              plasma_r            prism\n",
      "prism_r             rainbow             rainbow_r           seismic             seismic_r\n",
      "spring              spring_r            summer              summer_r            terrain\n",
      "terrain_r           viridis             viridis_r           winter              winter_r\n"
     ]
    }
   ],
   "source": [
    "from arcgis.mapping import symbol\n",
    "\n",
    "colormaps = symbol.ALLOWED_CMAPS\n",
    "for a,b,c,d,e in zip(colormaps[::5], colormaps[1::5], colormaps[2::5], colormaps[3::5], colormaps[4::5]):\n",
    "    print(\"{:<20}{:<20}{:<20}{:<20}{:<}\".format(a,b,c,d,e))"
   ]
  },
  {
   "cell_type": "markdown",
   "metadata": {
    "hidden": true
   },
   "source": [
    "You can enter a list of color ramp names as input to the `display_colormaps` function to filter the output:"
   ]
  },
  {
   "cell_type": "code",
   "execution_count": 34,
   "metadata": {
    "hidden": true
   },
   "outputs": [
    {
     "data": {
      "image/png": "[encoded data removed]",
      "text/plain": [
       "<Figure size 432x57.6 with 4 Axes>"
      ]
     },
     "metadata": {},
     "output_type": "display_data"
    }
   ],
   "source": [
    "display_colormaps(['Greens_r', 'PRGn', 'Dark2', 'Set1'])"
   ]
  },
  {
   "cell_type": "markdown",
   "metadata": {
    "hidden": true
   },
   "source": [
    "The examples above used `jet` which is the default and some used `prism` both of which can be seen in the list above. You can customize your charts by using a different colormap of your choice."
   ]
  },
  {
   "cell_type": "markdown",
   "metadata": {},
   "source": [
    "## Symbology for Simple Renderers\n",
    "\n",
    "The ArcGIS API for Python provides you the ability to set symbol types so you control data appearance. The  [`show_styles`]() function in the `arcgis.mapping` module assists you with the syntax to define symbols.\n",
    "\n",
    "#### Getting the different symbol styles"
   ]
  },
  {
   "cell_type": "code",
   "execution_count": 35,
   "metadata": {},
   "outputs": [],
   "source": [
    "from arcgis.mapping import show_styles"
   ]
  },
  {
   "cell_type": "code",
   "execution_count": 36,
   "metadata": {},
   "outputs": [
    {
     "data": {
      "text/html": [
       "<div>\n",
       "<style scoped>\n",
       "    .dataframe tbody tr th:only-of-type {\n",
       "        vertical-align: middle;\n",
       "    }\n",
       "\n",
       "    .dataframe tbody tr th {\n",
       "        vertical-align: top;\n",
       "    }\n",
       "\n",
       "    .dataframe thead th {\n",
       "        text-align: right;\n",
       "    }\n",
       "</style>\n",
       "<table border=\"1\" class=\"dataframe\">\n",
       "  <thead>\n",
       "    <tr style=\"text-align: right;\">\n",
       "      <th></th>\n",
       "      <th>MARKER</th>\n",
       "      <th>ESRI_STYLE</th>\n",
       "    </tr>\n",
       "  </thead>\n",
       "  <tbody>\n",
       "    <tr>\n",
       "      <th>0</th>\n",
       "      <td>o</td>\n",
       "      <td>Circle (default)</td>\n",
       "    </tr>\n",
       "    <tr>\n",
       "      <th>1</th>\n",
       "      <td>+</td>\n",
       "      <td>Cross</td>\n",
       "    </tr>\n",
       "    <tr>\n",
       "      <th>2</th>\n",
       "      <td>d</td>\n",
       "      <td>Diamond</td>\n",
       "    </tr>\n",
       "    <tr>\n",
       "      <th>3</th>\n",
       "      <td>s</td>\n",
       "      <td>Square</td>\n",
       "    </tr>\n",
       "    <tr>\n",
       "      <th>4</th>\n",
       "      <td>x</td>\n",
       "      <td>X</td>\n",
       "    </tr>\n",
       "  </tbody>\n",
       "</table>\n",
       "</div>"
      ],
      "text/plain": [
       "  MARKER        ESRI_STYLE\n",
       "0      o  Circle (default)\n",
       "1      +             Cross\n",
       "2      d           Diamond\n",
       "3      s            Square\n",
       "4      x                 X"
      ]
     },
     "execution_count": 36,
     "metadata": {},
     "output_type": "execute_result"
    }
   ],
   "source": [
    "# get the styles that are relevant to the current geometry type (points)\n",
    "show_styles(df.spatial.geometry_type[0])  # the DataFrame in this example is of Point type"
   ]
  },
  {
   "cell_type": "code",
   "execution_count": 37,
   "metadata": {},
   "outputs": [
    {
     "data": {
      "text/html": [
       "<div>\n",
       "<style scoped>\n",
       "    .dataframe tbody tr th:only-of-type {\n",
       "        vertical-align: middle;\n",
       "    }\n",
       "\n",
       "    .dataframe tbody tr th {\n",
       "        vertical-align: top;\n",
       "    }\n",
       "\n",
       "    .dataframe thead th {\n",
       "        text-align: right;\n",
       "    }\n",
       "</style>\n",
       "<table border=\"1\" class=\"dataframe\">\n",
       "  <thead>\n",
       "    <tr style=\"text-align: right;\">\n",
       "      <th></th>\n",
       "      <th>MARKER</th>\n",
       "      <th>ESRI_STYLE</th>\n",
       "    </tr>\n",
       "  </thead>\n",
       "  <tbody>\n",
       "    <tr>\n",
       "      <th>0</th>\n",
       "      <td>\\</td>\n",
       "      <td>Backward Diagonal</td>\n",
       "    </tr>\n",
       "    <tr>\n",
       "      <th>1</th>\n",
       "      <td>/</td>\n",
       "      <td>Forward Diagonal</td>\n",
       "    </tr>\n",
       "    <tr>\n",
       "      <th>2</th>\n",
       "      <td>|</td>\n",
       "      <td>Vertical Bar</td>\n",
       "    </tr>\n",
       "    <tr>\n",
       "      <th>3</th>\n",
       "      <td>-</td>\n",
       "      <td>Horizontal Bar</td>\n",
       "    </tr>\n",
       "    <tr>\n",
       "      <th>4</th>\n",
       "      <td>x</td>\n",
       "      <td>Diagonal Cross</td>\n",
       "    </tr>\n",
       "    <tr>\n",
       "      <th>5</th>\n",
       "      <td>+</td>\n",
       "      <td>Cross</td>\n",
       "    </tr>\n",
       "    <tr>\n",
       "      <th>6</th>\n",
       "      <td>s</td>\n",
       "      <td>Solid Fill (default)</td>\n",
       "    </tr>\n",
       "  </tbody>\n",
       "</table>\n",
       "</div>"
      ],
      "text/plain": [
       "  MARKER            ESRI_STYLE\n",
       "0      \\     Backward Diagonal\n",
       "1      /      Forward Diagonal\n",
       "2      |          Vertical Bar\n",
       "3      -        Horizontal Bar\n",
       "4      x        Diagonal Cross\n",
       "5      +                 Cross\n",
       "6      s  Solid Fill (default)"
      ]
     },
     "execution_count": 37,
     "metadata": {},
     "output_type": "execute_result"
    }
   ],
   "source": [
    "show_styles('Polygon')"
   ]
  },
  {
   "cell_type": "code",
   "execution_count": 38,
   "metadata": {},
   "outputs": [
    {
     "data": {
      "text/html": [
       "<div>\n",
       "<style scoped>\n",
       "    .dataframe tbody tr th:only-of-type {\n",
       "        vertical-align: middle;\n",
       "    }\n",
       "\n",
       "    .dataframe tbody tr th {\n",
       "        vertical-align: top;\n",
       "    }\n",
       "\n",
       "    .dataframe thead th {\n",
       "        text-align: right;\n",
       "    }\n",
       "</style>\n",
       "<table border=\"1\" class=\"dataframe\">\n",
       "  <thead>\n",
       "    <tr style=\"text-align: right;\">\n",
       "      <th></th>\n",
       "      <th>MARKER</th>\n",
       "      <th>ESRI_STYLE</th>\n",
       "    </tr>\n",
       "  </thead>\n",
       "  <tbody>\n",
       "    <tr>\n",
       "      <th>0</th>\n",
       "      <td>s</td>\n",
       "      <td>Solid (default)</td>\n",
       "    </tr>\n",
       "    <tr>\n",
       "      <th>1</th>\n",
       "      <td>-</td>\n",
       "      <td>Dash</td>\n",
       "    </tr>\n",
       "    <tr>\n",
       "      <th>2</th>\n",
       "      <td>-.</td>\n",
       "      <td>Dash Dot</td>\n",
       "    </tr>\n",
       "    <tr>\n",
       "      <th>3</th>\n",
       "      <td>-..</td>\n",
       "      <td>Dash Dot Dot</td>\n",
       "    </tr>\n",
       "    <tr>\n",
       "      <th>4</th>\n",
       "      <td>.</td>\n",
       "      <td>Dot</td>\n",
       "    </tr>\n",
       "    <tr>\n",
       "      <th>5</th>\n",
       "      <td>--</td>\n",
       "      <td>Long Dash</td>\n",
       "    </tr>\n",
       "    <tr>\n",
       "      <th>6</th>\n",
       "      <td>--.</td>\n",
       "      <td>Long Dash Dot</td>\n",
       "    </tr>\n",
       "    <tr>\n",
       "      <th>7</th>\n",
       "      <td>n</td>\n",
       "      <td>Null</td>\n",
       "    </tr>\n",
       "    <tr>\n",
       "      <th>8</th>\n",
       "      <td>s-</td>\n",
       "      <td>Short Dash</td>\n",
       "    </tr>\n",
       "    <tr>\n",
       "      <th>9</th>\n",
       "      <td>s-.</td>\n",
       "      <td>Short Dash Dot</td>\n",
       "    </tr>\n",
       "    <tr>\n",
       "      <th>10</th>\n",
       "      <td>s-..</td>\n",
       "      <td>Short Dash Dot Dot</td>\n",
       "    </tr>\n",
       "    <tr>\n",
       "      <th>11</th>\n",
       "      <td>s.</td>\n",
       "      <td>Short Dot</td>\n",
       "    </tr>\n",
       "  </tbody>\n",
       "</table>\n",
       "</div>"
      ],
      "text/plain": [
       "   MARKER          ESRI_STYLE\n",
       "0       s     Solid (default)\n",
       "1       -                Dash\n",
       "2      -.            Dash Dot\n",
       "3     -..        Dash Dot Dot\n",
       "4       .                 Dot\n",
       "5      --           Long Dash\n",
       "6     --.       Long Dash Dot\n",
       "7       n                Null\n",
       "8      s-          Short Dash\n",
       "9     s-.      Short Dash Dot\n",
       "10   s-..  Short Dash Dot Dot\n",
       "11     s.           Short Dot"
      ]
     },
     "execution_count": 38,
     "metadata": {},
     "output_type": "execute_result"
    }
   ],
   "source": [
    "show_styles('Line')"
   ]
  },
  {
   "cell_type": "markdown",
   "metadata": {},
   "source": [
    "For instance, you can represent the same set of points using square symbols instead of default circle using the snippet shown below:"
   ]
  },
  {
   "cell_type": "code",
   "execution_count": null,
   "metadata": {},
   "outputs": [],
   "source": [
    "m7 = GIS().map('United States', 4)\n",
    "m7"
   ]
  },
  {
   "cell_type": "markdown",
   "metadata": {},
   "source": [
    "![map of US squares](http://esri.github.io/arcgis-python-api/notebooks/nbimages/13_4_map_dfplot2.png)"
   ]
  },
  {
   "cell_type": "code",
   "execution_count": null,
   "metadata": {},
   "outputs": [],
   "source": [
    "m7.center = [39, -98]\n",
    "df.spatial.plot(map_widget=m7,\n",
    "        symbol_type='simple',\n",
    "        symbol_style='s',  # for square\n",
    "        cmap='Greens_r',   # color map is Greens_r for green reversed\n",
    "        cstep=35,   # the individual color in the colormap\n",
    "        outline_color='binary',\n",
    "        marker_size=5,\n",
    "        line_width=.5,)"
   ]
  },
  {
   "cell_type": "markdown",
   "metadata": {},
   "source": [
    "### Visualizing line features using simple symbols\n",
    "Let us search for USA freeway layer and visualize it by looping through the different line symbols"
   ]
  },
  {
   "cell_type": "code",
   "execution_count": null,
   "metadata": {},
   "outputs": [],
   "source": [
    "search_result = gis.content.search('title:USA freeway system AND owner:esri', \n",
    "                                  item_type = 'Feature Layer')\n",
    "freeway_item = search_result[0]\n",
    "freeway_item"
   ]
  },
  {
   "cell_type": "code",
   "execution_count": null,
   "metadata": {},
   "outputs": [],
   "source": [
    "freeway_sdf = freeway_item.layers[0].query().sdf\n",
    "freeway_sdf.head()"
   ]
  },
  {
   "cell_type": "code",
   "execution_count": null,
   "metadata": {},
   "outputs": [],
   "source": [
    "m8 = gis.map('USA', 10)\n",
    "m8"
   ]
  },
  {
   "cell_type": "markdown",
   "metadata": {},
   "source": [
    "![](http://esri.github.io/arcgis-python-api/notebooks/nbimages/guide_sdf_lines_animated_1.gif)"
   ]
  },
  {
   "cell_type": "code",
   "execution_count": null,
   "metadata": {},
   "outputs": [],
   "source": [
    "m8.center=[34.05,-118.2]\n",
    "m8.zoom=12\n",
    "m8.basemap='dark-gray'"
   ]
  },
  {
   "cell_type": "code",
   "execution_count": null,
   "metadata": {},
   "outputs": [],
   "source": [
    "import time\n",
    "for row, style in show_styles('Line').iterrows():\n",
    "    m8.remove_layers()\n",
    "    time.sleep(1)  # sleep for 1 second so animation can finish\n",
    "    print(style['ESRI_STYLE'] + \" : \" + style['MARKER'])\n",
    "    freeway_sdf.spatial.plot(map_widget=m8,\n",
    "                     cmap='Spectral',  # user a different color map\n",
    "                     symbol_type='simple',\n",
    "                     symbol_style=style['MARKER']\n",
    "                    )"
   ]
  },
  {
   "cell_type": "markdown",
   "metadata": {},
   "source": [
    "### Visualizing area features using different symbols"
   ]
  },
  {
   "cell_type": "code",
   "execution_count": null,
   "metadata": {},
   "outputs": [],
   "source": [
    "from arcgis.features import FeatureLayer\n",
    "fl = FeatureLayer(\"https://sampleserver6.arcgisonline.com/arcgis/rest/services/Census/MapServer/2\")\n",
    "county_sdf = fl.query(\"STATE_NAME='Washington'\", out_sr=4326).sdf\n",
    "county_sdf.head()"
   ]
  },
  {
   "cell_type": "code",
   "execution_count": null,
   "metadata": {},
   "outputs": [],
   "source": [
    "m9 = gis.map('Seattle, WA', zoomlevel=6)\n",
    "m9.basemap='gray'\n",
    "m9"
   ]
  },
  {
   "cell_type": "markdown",
   "metadata": {},
   "source": [
    "![](http://esri.github.io/arcgis-python-api/notebooks/nbimages/guide_sdf_animate_polygons_1.gif)"
   ]
  },
  {
   "cell_type": "code",
   "execution_count": null,
   "metadata": {},
   "outputs": [],
   "source": [
    "for idx, style in show_styles('Polygon').iterrows():\n",
    "    m9.remove_layers()\n",
    "    time.sleep(0.5)\n",
    "    \n",
    "    print(style['ESRI_STYLE'] + \" : \" + style['MARKER'])\n",
    "    county_sdf.spatial.plot(map_widget=m9,\n",
    "                           cmap = 'RdPu',  # use a red to purple color map\n",
    "                           symbol_type='simple',\n",
    "                           symbol_style=style['MARKER'],\n",
    "                           outline_style='s',\n",
    "                           outline_color=[0,0,0,255],\n",
    "                           line_width=1.0)"
   ]
  },
  {
   "cell_type": "markdown",
   "metadata": {},
   "source": [
    "**Conclusion**\n",
    "\n",
    "\n",
    "The `Spatially Enabled DataFrame` gives you powerful visualization capabilities that allows you to plot your data on the interactive map widget. You specify colors and symbols using the same syntax that you would specify for a normal Pandas or a matplotlib plot."
   ]
  }
 ],
 "metadata": {
  "kernelspec": {
   "display_name": "Python 3",
   "language": "python",
   "name": "python3"
  },
  "language_info": {
   "codemirror_mode": {
    "name": "ipython",
    "version": 3
   },
   "file_extension": ".py",
   "mimetype": "text/x-python",
   "name": "python",
   "nbconvert_exporter": "python",
   "pygments_lexer": "ipython3",
   "version": "3.6.5"
  }
 },
 "nbformat": 4,
 "nbformat_minor": 2
}
