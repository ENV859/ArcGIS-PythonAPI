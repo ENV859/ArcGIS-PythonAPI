{
 "cells": [
  {
   "cell_type": "markdown",
   "metadata": {},
   "source": [
    "## LandCover Demo - Using the ArcGIS Python API\n",
    "This notebook reviews the workflow for extracting land cover data for a spatially selected watershed.\n",
    "\n",
    "### Pseudocode\n",
    "* Get the user point, as lat/long coordinates (Alternatively, geocode address)\n",
    "* Identify the HUC12 in which it is located\n",
    " * Search AGOL for a watershed boundary datatset\n",
    " * Retrive the HUC12 layer from the results\n",
    " * Query the HUC12 intersecting the user point and report its HUC8 value\n",
    "* Extract land cover within the selected HUC\n",
    " * Browse Living Atlas for an appropriate land cover dataset (NLCD)\n",
    " * Retrieve the land cover as an imagery service\n",
    " * Filter the images for a specific time\n",
    " * Extract the histogram for the pixels within the geometry"
   ]
  },
  {
   "cell_type": "code",
   "execution_count": null,
   "metadata": {},
   "outputs": [],
   "source": [
    "#Import arcgis modules\n",
    "from arcgis import GIS\n",
    "from arcgis.geocoding import geocode\n",
    "from arcgis.features import FeatureLayer, GeoAccessor\n",
    "from arcgis.raster import ImageryLayer\n",
    "from arcgis.geometry import Point, filters\n",
    "\n",
    "#Import pandas\n",
    "import pandas as pd\n",
    "\n",
    "#Connect to AGOL\n",
    "gis = GIS('home')"
   ]
  },
  {
   "cell_type": "markdown",
   "metadata": {},
   "source": [
    "### Create the selection point and the point filter"
   ]
  },
  {
   "cell_type": "code",
   "execution_count": null,
   "metadata": {},
   "outputs": [],
   "source": [
    "# Set user coordinates\n",
    "userLat = 36.0010\n",
    "userLng = -78.9991"
   ]
  },
  {
   "cell_type": "code",
   "execution_count": null,
   "metadata": {},
   "outputs": [],
   "source": [
    "#Create the point object\n",
    "the_pt = Point({\n",
    "    \"x\" : userLng, \n",
    "    \"y\" : userLat, \n",
    "    \"spatialReference\" : {\"wkid\" : 4326}\n",
    "})"
   ]
  },
  {
   "cell_type": "code",
   "execution_count": null,
   "metadata": {},
   "outputs": [],
   "source": [
    "#Create a filter object from our point\n",
    "point_filter = filters.intersects(the_pt)"
   ]
  },
  {
   "cell_type": "markdown",
   "metadata": {},
   "source": [
    "### Fetch the on-line data"
   ]
  },
  {
   "cell_type": "code",
   "execution_count": null,
   "metadata": {},
   "outputs": [],
   "source": [
    "#Fetch the HUC12 Feature Layer\n",
    "huc_layer = FeatureLayer(\n",
    "    url='https://services.arcgis.com/P3ePLMYs2RVChkJx/arcgis/rest/services/Watershed_Boundary_Dataset_HUC_12s/FeatureServer/0'\n",
    ")"
   ]
  },
  {
   "cell_type": "code",
   "execution_count": null,
   "metadata": {},
   "outputs": [],
   "source": [
    "#Fetch the NLCD Imagery Layer\n",
    "nlcd_layer = ImageryLayer(\n",
    "    url='https://landscape10.arcgis.com/arcgis/rest/services/USA_NLCD_Land_Cover/ImageServer',\n",
    "    gis=gis\n",
    ")"
   ]
  },
  {
   "cell_type": "markdown",
   "metadata": {},
   "source": [
    "### Analysis"
   ]
  },
  {
   "cell_type": "code",
   "execution_count": null,
   "metadata": {},
   "outputs": [],
   "source": [
    "#Spatially query the layer and convert to spatial dataframe\n",
    "huc_sdf = huc_layer.query(geometry_filter=point_filter).sdf\n",
    "huc_sdf"
   ]
  },
  {
   "cell_type": "code",
   "execution_count": null,
   "metadata": {},
   "outputs": [],
   "source": [
    "#Get the feature geometry\n",
    "huc_geom = huc_sdf.loc[0,'SHAPE']"
   ]
  },
  {
   "cell_type": "code",
   "execution_count": null,
   "metadata": {},
   "outputs": [],
   "source": [
    "#Query the imagery layer\n",
    "selected_images = nlcd_layer.filter_by(\n",
    "    where=\"Name = 'USA_NLCD_Land_Cover_2016_conus'\",    #Filter for just USA_NLCD_Land_Cover_2016_conus\n",
    "    geometry=filters.intersects(huc_geom),              #Filter for datasets that intersect the geometry\n",
    "    lock_rasters=True\n",
    ")"
   ]
  },
  {
   "cell_type": "code",
   "execution_count": null,
   "metadata": {},
   "outputs": [],
   "source": [
    "#Extract the values within the selected geometry\n",
    "the_histogram = selected_images.compute_histograms(\n",
    "    geometry=huc_geom,\n",
    "    pixel_size=30)"
   ]
  },
  {
   "cell_type": "code",
   "execution_count": null,
   "metadata": {},
   "outputs": [],
   "source": [
    "#Extract just the counts\n",
    "the_counts = the_histogram['histograms'][0]['counts']\n",
    "\n",
    "#Convert the counts to a dataframe\n",
    "df_results = pd.DataFrame(the_counts,columns=['Count'])"
   ]
  },
  {
   "cell_type": "code",
   "execution_count": null,
   "metadata": {},
   "outputs": [],
   "source": [
    "#Fetch the NLCD land cover classes\n",
    "df_classes = pd.read_csv(\n",
    "    'https://raw.githubusercontent.com/ENV859/ArcGIS-PythonAPI/refs/heads/master/data/NLCD.csv',\n",
    "     index_col=0)"
   ]
  },
  {
   "cell_type": "markdown",
   "metadata": {},
   "source": [
    "### Results"
   ]
  },
  {
   "cell_type": "code",
   "execution_count": null,
   "metadata": {},
   "outputs": [],
   "source": [
    "#Merge with the classes DataFrame\n",
    "df_histo = pd.merge(df_classes, df_results, left_index=True, right_index=True)\n",
    "df_histo.plot.bar(x='Class Name', y='Count');"
   ]
  }
 ],
 "metadata": {
  "kernelspec": {
   "display_name": "Python 3 (ipykernel)",
   "language": "python",
   "name": "python3"
  },
  "language_info": {
   "codemirror_mode": {
    "name": "ipython",
    "version": 3
   },
   "file_extension": ".py",
   "mimetype": "text/x-python",
   "name": "python",
   "nbconvert_exporter": "python",
   "pygments_lexer": "ipython3",
   "version": "3.11.8"
  }
 },
 "nbformat": 4,
 "nbformat_minor": 2
}
