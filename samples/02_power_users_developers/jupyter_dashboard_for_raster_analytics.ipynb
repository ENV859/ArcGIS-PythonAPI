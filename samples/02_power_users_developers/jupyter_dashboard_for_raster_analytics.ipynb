{
 "cells": [
  {
   "cell_type": "markdown",
   "metadata": {
    "extensions": {
     "jupyter_dashboards": {
      "version": 1,
      "views": {
       "grid_default": {
        "col": 0,
        "height": 4,
        "hidden": false,
        "row": 0,
        "width": 12
       },
       "report_default": {
        "hidden": false
       }
      }
     }
    }
   },
   "source": [
    "<img style=\"float: right;\" src=\"http://www.gislk.com/images/science_of_where.png\" height=\"64\" width=\"64\">\n",
    "# Raster Analytics Dashboard \n",
    "\n",
    "Using this Dashboard, you can distribute your raster processing algorithms using ArcGIS Image Server and Raster Analytics."
   ]
  },
  {
   "cell_type": "markdown",
   "metadata": {
    "extensions": {
     "jupyter_dashboards": {
      "version": 1,
      "views": {
       "grid_default": {
        "col": 0,
        "height": 4,
        "hidden": true,
        "row": 23,
        "width": 4
       },
       "report_default": {}
      }
     }
    }
   },
   "source": [
    "## Import IPython Widgets and Display"
   ]
  },
  {
   "cell_type": "code",
   "execution_count": 1,
   "metadata": {
    "extensions": {
     "jupyter_dashboards": {
      "version": 1,
      "views": {
       "grid_default": {
        "hidden": true
       },
       "report_default": {
        "hidden": true
       }
      }
     }
    }
   },
   "outputs": [],
   "source": [
    "from ipywidgets import widgets\n",
    "from IPython.display import clear_output"
   ]
  },
  {
   "cell_type": "markdown",
   "metadata": {
    "extensions": {
     "jupyter_dashboards": {
      "version": 1,
      "views": {
       "grid_default": {
        "col": 4,
        "height": 4,
        "hidden": true,
        "row": 23,
        "width": 4
       },
       "report_default": {}
      }
     }
    }
   },
   "source": [
    "## Connect to ArcGIS Online and Access the Landsat Services"
   ]
  },
  {
   "cell_type": "code",
   "execution_count": 2,
   "metadata": {
    "extensions": {
     "jupyter_dashboards": {
      "version": 1,
      "views": {
       "grid_default": {
        "hidden": true
       },
       "report_default": {
        "hidden": true
       }
      }
     }
    }
   },
   "outputs": [],
   "source": [
    "from arcgis.gis import GIS\n",
    "from arcgis.raster.functions import *\n",
    "\n",
    "gis = GIS()\n",
    "\n",
    "landsat_item = gis.content.search('Landsat Multispectral', 'Imagery Layer')[0]\n",
    "\n",
    "landsat = landsat_item.layers[0]"
   ]
  },
  {
   "cell_type": "markdown",
   "metadata": {
    "extensions": {
     "jupyter_dashboards": {
      "version": 1,
      "views": {
       "grid_default": {
        "col": 8,
        "height": 4,
        "hidden": true,
        "row": 23,
        "width": 4
       },
       "report_default": {}
      }
     }
    }
   },
   "source": [
    "## Create a Map and Add Landsat Layers"
   ]
  },
  {
   "cell_type": "code",
   "execution_count": 3,
   "metadata": {
    "extensions": {
     "jupyter_dashboards": {
      "version": 1,
      "views": {
       "grid_default": {
        "col": 0,
        "height": 15,
        "hidden": false,
        "row": 8,
        "width": null
       },
       "report_default": {
        "hidden": false
       }
      }
     }
    }
   },
   "outputs": [
    {
     "data": {
      "application/vnd.jupyter.widget-view+json": {
       "model_id": "096237051b50436e8be725ffae4af7c4"
      }
     },
     "metadata": {},
     "output_type": "display_data"
    }
   ],
   "source": [
    "map1 = gis.map(\"California, USA\")\n",
    "map1"
   ]
  },
  {
   "cell_type": "code",
   "execution_count": 4,
   "metadata": {
    "extensions": {
     "jupyter_dashboards": {
      "version": 1,
      "views": {
       "grid_default": {
        "hidden": true
       },
       "report_default": {
        "hidden": true
       }
      }
     }
    }
   },
   "outputs": [],
   "source": [
    "map1.add_layer(landsat)"
   ]
  },
  {
   "cell_type": "markdown",
   "metadata": {
    "extensions": {
     "jupyter_dashboards": {
      "version": 1,
      "views": {
       "grid_default": {
        "col": 0,
        "height": 4,
        "hidden": true,
        "row": 23,
        "width": 4
       },
       "report_default": {}
      }
     }
    }
   },
   "source": [
    "##  Get RFTs from Landsat Service"
   ]
  },
  {
   "cell_type": "code",
   "execution_count": 5,
   "metadata": {
    "extensions": {
     "jupyter_dashboards": {
      "version": 1,
      "views": {
       "grid_default": {
        "hidden": true
       },
       "report_default": {
        "hidden": true
       }
      }
     }
    }
   },
   "outputs": [],
   "source": [
    "rfts = []\n",
    "#print(landsat.properties['rasterFunctionInfos'])\n",
    "for idx,props in enumerate(landsat.properties['rasterFunctionInfos']):\n",
    "    rfts.append(landsat.properties['rasterFunctionInfos'][idx]['name'])"
   ]
  },
  {
   "cell_type": "markdown",
   "metadata": {
    "extensions": {
     "jupyter_dashboards": {
      "version": 1,
      "views": {
       "grid_default": {
        "col": 4,
        "height": 4,
        "hidden": true,
        "row": 23,
        "width": 4
       },
       "report_default": {}
      }
     }
    }
   },
   "source": [
    "## Create a Dropdown from the RFTs"
   ]
  },
  {
   "cell_type": "code",
   "execution_count": 6,
   "metadata": {
    "extensions": {
     "jupyter_dashboards": {
      "version": 1,
      "views": {
       "grid_default": {
        "col": 4,
        "height": 4,
        "hidden": false,
        "row": 4,
        "width": 4
       },
       "report_default": {
        "hidden": false
       }
      }
     }
    }
   },
   "outputs": [
    {
     "data": {
      "application/vnd.jupyter.widget-view+json": {
       "model_id": "d7660be056a144349930ad44683600db"
      }
     },
     "metadata": {},
     "output_type": "display_data"
    }
   ],
   "source": [
    "rft_select = widgets.Dropdown(\n",
    "    options=rfts,\n",
    "    value='None',\n",
    "    description='Raster Function',\n",
    "    disabled=False,\n",
    ")\n",
    "\n",
    "def on_rft_change(change):\n",
    "    if change['type'] == 'change' and change['name'] == 'value':\n",
    "        map1.remove_layers()\n",
    "        map1.add_layer(landsat, {\"imageServiceParameters\" :{ \"renderingRule\": { \"rasterFunction\": rft_select.value}}})\n",
    "        #print(\"changed to %s\" % change['new'])\n",
    "\n",
    "rft_select.observe(on_rft_change)\n",
    "\n",
    "\n",
    "display(rft_select)"
   ]
  },
  {
   "cell_type": "markdown",
   "metadata": {
    "extensions": {
     "jupyter_dashboards": {
      "version": 1,
      "views": {
       "grid_default": {
        "col": 0,
        "height": 4,
        "hidden": true,
        "row": 23,
        "width": 12
       },
       "report_default": {}
      }
     }
    }
   },
   "source": [
    "## Create a List of AOIs or Study Areas We Might Want to Run Raster Analytics Over and Add Them to a Dropdown"
   ]
  },
  {
   "cell_type": "code",
   "execution_count": 7,
   "metadata": {
    "extensions": {
     "jupyter_dashboards": {
      "version": 1,
      "views": {
       "grid_default": {
        "col": 0,
        "height": 4,
        "hidden": false,
        "row": 4,
        "width": 4
       },
       "report_default": {
        "hidden": false
       }
      }
     }
    }
   },
   "outputs": [
    {
     "data": {
      "application/vnd.jupyter.widget-view+json": {
       "model_id": "6b6150fdb4c248c08590dec222c64414"
      }
     },
     "metadata": {},
     "output_type": "display_data"
    }
   ],
   "source": [
    "from arcgis.geocoding import geocode\n",
    "from arcgis.features import FeatureLayer\n",
    "\n",
    "study_area_dict = {'California':'http://services.arcgis.com/PpEMp4p6SBYbe0zW/arcgis/rest/services/California_Counties/FeatureServer/0',\n",
    "                   'Montana':'http://services.arcgis.com/iTQUx5ZpNUh47Geb/arcgis/rest/services/Montana_Mask/FeatureServer/0',\n",
    "                   'Nevada':'http://services.arcgis.com/pGfbNJoYypmNq86F/arcgis/rest/services/28R04_Nevada_Region/FeatureServer/5',\n",
    "                   'Oregon':'https://services.arcgis.com/uUvqNMGPm7axC2dD/arcgis/rest/services/Oregon_Boundary_generalized/FeatureServer/0',\n",
    "                   'Texas':'http://services2.arcgis.com/5MVN2jsqIrNZD4tP/arcgis/rest/services/Texas_Outline/FeatureServer/0'}\n",
    "\n",
    "study_areas = ['California',\n",
    "               'Montana',\n",
    "               'Nevada',\n",
    "               'Oregon',\n",
    "               'Texas']\n",
    "\n",
    "country = widgets.Dropdown(\n",
    "    options=study_areas,\n",
    "    value='California',\n",
    "    description='Region to Process:',\n",
    "    disabled=False,\n",
    ")\n",
    "\n",
    "def on_change(change):\n",
    "    if change['type'] == 'change' and change['name'] == 'value':\n",
    "        location = geocode(str(country.value) + ', USA')[0]\n",
    "        map1.extent = location['extent']\n",
    "        #fl = FeatureLayer(study_area_dict[country.value])\n",
    "        #map1.extent = fl.properties['extent']\n",
    "        #print(\"changed to %s\" % change['new'])\n",
    "\n",
    "country.observe(on_change)\n",
    "\n",
    "display(country)"
   ]
  },
  {
   "cell_type": "markdown",
   "metadata": {
    "extensions": {
     "jupyter_dashboards": {
      "version": 1,
      "views": {
       "grid_default": {
        "col": 8,
        "height": 4,
        "hidden": true,
        "row": 23,
        "width": 4
       },
       "report_default": {}
      }
     }
    }
   },
   "source": [
    "## Add A Button for Initializting a Raster Analytics Process"
   ]
  },
  {
   "cell_type": "code",
   "execution_count": 8,
   "metadata": {
    "extensions": {
     "jupyter_dashboards": {
      "version": 1,
      "views": {
       "grid_default": {
        "col": 8,
        "height": 4,
        "hidden": false,
        "row": 4,
        "width": 4
       },
       "report_default": {
        "hidden": false
       }
      }
     }
    }
   },
   "outputs": [
    {
     "name": "stdout",
     "output_type": "stream",
     "text": [
      "Job submitted at 2018-02-16 15:44:26\n"
     ]
    }
   ],
   "source": [
    "from datetime import datetime\n",
    "\n",
    "def on_button_click(b):\n",
    "    #map1.extentx = getextent\n",
    "    clear_output()\n",
    "    print(\"Job submitted at \" + f\"{datetime.now():%Y-%m-%d %H:%M:%S}\")\n",
    "\n",
    "button = widgets.Button(description=\"Run Raster Analytics\", \n",
    "                        disabled=False,\n",
    "                        button_style='success',\n",
    "                        tooltip='Kick Off A Raster Analytics Job',\n",
    "                        icon='check')\n",
    "display(button)\n",
    "button.on_click(on_button_click)\n"
   ]
  },
  {
   "cell_type": "code",
   "execution_count": null,
   "metadata": {
    "extensions": {
     "jupyter_dashboards": {
      "version": 1,
      "views": {
       "grid_default": {
        "hidden": true
       },
       "report_default": {}
      }
     }
    }
   },
   "outputs": [],
   "source": []
  }
 ],
 "metadata": {
  "extensions": {
   "jupyter_dashboards": {
    "activeView": "grid_default",
    "version": 1,
    "views": {
     "grid_default": {
      "cellMargin": 10,
      "defaultCellHeight": 20,
      "maxColumns": 12,
      "name": "grid",
      "type": "grid"
     },
     "report_default": {
      "name": "report",
      "type": "report"
     }
    }
   }
  },
  "kernelspec": {
   "display_name": "Python 3",
   "language": "python",
   "name": "python3"
  },
  "language_info": {
   "codemirror_mode": {
    "name": "ipython",
    "version": 3
   },
   "file_extension": ".py",
   "mimetype": "text/x-python",
   "name": "python",
   "nbconvert_exporter": "python",
   "pygments_lexer": "ipython3",
   "version": "3.6.2"
  },
  "widgets": {
   "application/vnd.jupyter.widget-state+json": {
    "state": {
     "09b5665d21c447dcbbd1034d30524591": {
      "model_module": "jupyter-js-widgets",
      "model_module_version": "~2.1.4",
      "model_name": "ButtonStyleModel",
      "state": {
       "_model_module_version": "~2.1.4",
       "_view_module_version": "~2.1.4"
      }
     },
     "27e6e1c3e9254fe392cbc7eecd8797f8": {
      "model_module": "jupyter-js-widgets",
      "model_module_version": "~2.1.4",
      "model_name": "ButtonModel",
      "state": {
       "_model_module_version": "~2.1.4",
       "_view_module_version": "~2.1.4",
       "description": "Run Raster Analytics",
       "layout": "IPY_MODEL_e1d7ed4d0d9443789ec3d1e88a121e55",
       "style": "IPY_MODEL_09b5665d21c447dcbbd1034d30524591"
      }
     },
     "4d0e99419c9747869931f4b44c5d6c59": {
      "model_module": "jupyter-js-widgets",
      "model_module_version": "~2.1.4",
      "model_name": "DropdownModel",
      "state": {
       "_model_module_version": "~2.1.4",
       "_options_labels": [
        "Agriculture with DRA",
        "Bathymetric with DRA",
        "Color Infrared with DRA",
        "Geology with DRA",
        "Natural Color with DRA",
        "Short-wave Infrared with DRA",
        "Agriculture",
        "Bathymetric",
        "Color Infrared",
        "Geology",
        "Natural Color",
        "Short-wave Infrared",
        "NDVI Colorized",
        "Normalized Difference Moisture Index Colorized",
        "NDVI Raw",
        "NBR Raw",
        "None"
       ],
       "_view_module_version": "~2.1.4",
       "description": "Raster Function",
       "layout": "IPY_MODEL_692d8b4be231421f98ce80c38d635678",
       "value": "Natural Color"
      }
     },
     "53eb708ba584486d9d04f3142eec1506": {
      "model_module": "jupyter-js-widgets",
      "model_module_version": "*",
      "model_name": "DOMWidgetModel",
      "state": {
       "_addlayer": "{\"type\": \"ImageryLayer\", \"url\": \"https://landsat2.arcgis.com/arcgis/rest/services/Landsat/MS/ImageServer\", \"options\": \"{\\\"imageServiceParameters\\\": {\\\"renderingRule\\\": {\\\"rasterFunction\\\": \\\"None\\\"}}}\"}",
       "_arcgis_url": "",
       "_basemap": "topo",
       "_extent": "{\"xmin\": -146.08761918999994, \"ymin\": -7.2742968439999345, \"xmax\": -52.74161918999994, \"ymax\": 84.9}",
       "_gallerybasemaps": [],
       "_gbasemaps_def": [],
       "_js_basemap": "",
       "_js_interactive_drawn_graphic": "",
       "_js_layer_list": "[{\"id\":\"layer2\",\"bandIds\":null,\"mosaicRule\":null,\"url\":\"https://landsat2.arcgis.com/arcgis/rest/services/Landsat/MS/ImageServer\",\"renderingRule\":{\"functionName\":\"None\",\"rasterFunction\":\"None\"}}]",
       "_js_renderer": "",
       "_jsextent": "{\"type\":\"extent\",\"xmin\":-12878768.731294307,\"ymin\":-1785683.5398745332,\"xmax\":9232934.8110356,\"ymax\":6041468.156525435,\"spatialReference\":{\"wkid\":102100,\"latestWkid\":3857}}",
       "_layerId_to_remove": "layer1",
       "_model_name": "DOMWidgetModel",
       "_swipe_div": "swipeDivASXYVL",
       "_token_info": "",
       "_view_module": "mapview",
       "_view_name": "MapView",
       "basemaps": [
        "dark-gray",
        "dark-gray-vector",
        "gray",
        "gray-vector",
        "hybrid",
        "national-geographic",
        "oceans",
        "osm",
        "satellite",
        "streets",
        "streets-navigation-vector",
        "streets-night-vector",
        "streets-relief-vector",
        "streets-vector",
        "terrain",
        "topo",
        "topo-vector"
       ],
       "center": [
        0,
        0
       ],
       "end_time": "",
       "id": "",
       "layout": "IPY_MODEL_ec312546e9c14ad1bcc28cb79c6de7f8",
       "mode": "navigate",
       "start_time": "",
       "width": "100%",
       "zoom": 2
      }
     },
     "692d8b4be231421f98ce80c38d635678": {
      "model_module": "jupyter-js-widgets",
      "model_module_version": "~2.1.4",
      "model_name": "LayoutModel",
      "state": {
       "_model_module_version": "~2.1.4",
       "_view_module_version": "~2.1.4"
      }
     },
     "a2d6fc66bc904fa0ba7287ae8d91a881": {
      "model_module": "jupyter-js-widgets",
      "model_module_version": "~2.1.4",
      "model_name": "DropdownModel",
      "state": {
       "_model_module_version": "~2.1.4",
       "_options_labels": [
        "California",
        "Colorado",
        "Georgia",
        "New York",
        "Texas",
        "Wisconsin"
       ],
       "_view_module_version": "~2.1.4",
       "description": "Country to Process:",
       "layout": "IPY_MODEL_bcaa6ed7cd154c289fba1df1195b42db",
       "value": "New York"
      }
     },
     "bcaa6ed7cd154c289fba1df1195b42db": {
      "model_module": "jupyter-js-widgets",
      "model_module_version": "~2.1.4",
      "model_name": "LayoutModel",
      "state": {
       "_model_module_version": "~2.1.4",
       "_view_module_version": "~2.1.4"
      }
     },
     "e1d7ed4d0d9443789ec3d1e88a121e55": {
      "model_module": "jupyter-js-widgets",
      "model_module_version": "~2.1.4",
      "model_name": "LayoutModel",
      "state": {
       "_model_module_version": "~2.1.4",
       "_view_module_version": "~2.1.4"
      }
     },
     "ec312546e9c14ad1bcc28cb79c6de7f8": {
      "model_module": "jupyter-js-widgets",
      "model_module_version": "~2.1.4",
      "model_name": "LayoutModel",
      "state": {
       "_model_module_version": "~2.1.4",
       "_view_module_version": "~2.1.4"
      }
     }
    },
    "version_major": 1,
    "version_minor": 0
   }
  }
 },
 "nbformat": 4,
 "nbformat_minor": 2
}
