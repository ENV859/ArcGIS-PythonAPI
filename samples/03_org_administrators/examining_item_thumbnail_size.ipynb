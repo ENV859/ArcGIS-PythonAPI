{
 "cells": [
  {
   "cell_type": "markdown",
   "metadata": {},
   "source": [
    "# Setting Up the Notebook\n",
    "\n",
    "This notebook requires `Pillow` which is a fork of `PIL`.  To install this module run the cell below:"
   ]
  },
  {
   "cell_type": "code",
   "execution_count": null,
   "metadata": {},
   "outputs": [],
   "source": [
    "import sys\n",
    "prefix = '\\\"%s\\\"' %  sys.prefix\n",
    "!conda install --yes --prefix {prefix} pillow"
   ]
  },
  {
   "cell_type": "markdown",
   "metadata": {},
   "source": [
    "# About Item Thumbnails\n",
    "\n",
    "A thumbnail image is created by default when you add the item to the site. It appears in galleries, search results, contents, and the item page. You can create and load a different image if the default image does not convey the information you want.\n",
    "\n",
    "In ArcGIS Online, you can drag an image or browse to a file. For best results, add an image that is 600 pixels wide by 400 pixels high or larger with an aspect ratio of 1.5:1 in a web file format such as PNG, JPEG, or GIF. Pan and zoom to what you want to appear in your thumbnail. Depending on the size and resolution of your image file and how far you zoom in to customize the thumbnail, the image may be resampled and scaled when it's saved. If you add an image in GIF or JPEG format, it will be converted to PNG when it's saved.\n",
    "\n",
    "## Finding Missing and Invalid Images\n",
    "\n",
    "This notebook shows how a user can find images under the 600x400 pixel size for a given user."
   ]
  },
  {
   "cell_type": "code",
   "execution_count": 1,
   "metadata": {},
   "outputs": [],
   "source": [
    "import os\n",
    "import io\n",
    "import base64\n",
    "import shutil\n",
    "from getpass import getpass"
   ]
  },
  {
   "cell_type": "code",
   "execution_count": 2,
   "metadata": {},
   "outputs": [],
   "source": [
    "import pandas as pd\n",
    "from PIL import Image\n",
    "from IPython.display import HTML\n",
    "import ipywidgets as widgets\n",
    "from arcgis.gis import GIS, Item, User\n",
    "\n",
    "pd.set_option('display.max_colwidth', -1)"
   ]
  },
  {
   "cell_type": "markdown",
   "metadata": {},
   "source": [
    "### Connect to the GIS\n",
    "\n",
    "Use the login credentials to your site to populate the interactive application below."
   ]
  },
  {
   "cell_type": "code",
   "execution_count": 3,
   "metadata": {},
   "outputs": [
    {
     "name": "stdout",
     "output_type": "stream",
     "text": [
      "········\n",
      "········\n"
     ]
    }
   ],
   "source": [
    "username = getpass()\n",
    "password = getpass()"
   ]
  },
  {
   "cell_type": "code",
   "execution_count": 4,
   "metadata": {},
   "outputs": [],
   "source": [
    "gis = GIS(username=username, password=password, verify_cert=False)"
   ]
  },
  {
   "cell_type": "code",
   "execution_count": 12,
   "metadata": {},
   "outputs": [],
   "source": [
    "def get_images(username, gis, min_width=600, min_height=400, show_image=True):\n",
    "    \"\"\"\n",
    "    Finds all images for a given user under a specific image size in pixels.\n",
    "    \n",
    "    ================   ===========================================\n",
    "    **Inputs**         **Description**\n",
    "    ----------------   -------------------------------------------\n",
    "    username           Required string. The name of the user items \n",
    "                       to exmine.\n",
    "    ----------------   -------------------------------------------\n",
    "    gis                Required GIS. The connection to Portal/AGOL\n",
    "    ----------------   -------------------------------------------\n",
    "    min_height         Optional Integer. The height in pixels of \n",
    "                       the image. Any image below this height will \n",
    "                       be returned in the dataframe.\n",
    "    ----------------   -------------------------------------------\n",
    "    min_width          Optional Integer. The width of the image. \n",
    "                       Anything below this width will be returned.\n",
    "    ----------------   -------------------------------------------\n",
    "    show_image         Optional boolean. If True, the results will \n",
    "                       be returned as an HTML table. Else, they \n",
    "                       will be returned as a pandas DataFrame.\n",
    "    ================   ===========================================\n",
    "    \n",
    "    returns: string or pd.DataFrame\n",
    "    \n",
    "    \"\"\"\n",
    "    results = []\n",
    "    show_image_columns=['title', 'username','folder', 'item_id', 'item_thumbnail','width', 'height']\n",
    "    no_show_image_columns=['title', 'username','folder', 'item_id', 'width', 'height']\n",
    "    user = gis.users.get(username)\n",
    "    username = user.username\n",
    "    folders = [fld['title'] for fld in user.folders] + [None]\n",
    "    for folder in folders:\n",
    "        items = user.items(folder=folder, max_items=1000)\n",
    "        for item in items:\n",
    "            thumbnail = item.thumbnail\n",
    "            if show_image:\n",
    "                if thumbnail:\n",
    "                    bn = os.path.basename(thumbnail)\n",
    "                    image_bytes = item.get_thumbnail()\n",
    "                    img = Image.open(io.BytesIO(image_bytes))\n",
    "                    b64_item = base64.b64encode(image_bytes)\n",
    "                    b64thmb = \"data:image/png;base64,\" + str(b64_item,\"utf-8\") + \"' width='200' height='133\"\n",
    "                    item_thumbnail = \"\"\"<img src='\"\"\" + str(b64thmb) + \"\"\"' class=\"itemThumbnail\">\"\"\"\n",
    "                    results.append([item.title, username, folder, item.id, item_thumbnail] + list(img.size))\n",
    "                    img.close()\n",
    "                    del img\n",
    "                else:\n",
    "                    results.append([item.title, username, folder, item.id, \"\", -999,-999])\n",
    "            else:\n",
    "                if thumbnail:\n",
    "                    image_bytes = item.get_thumbnail()\n",
    "                    img = Image.open(io.BytesIO(image_bytes))\n",
    "                    results.append([item.title, username, folder, item.id] + list(img.size))\n",
    "                    img.close()\n",
    "                    del img\n",
    "                else:\n",
    "                    results.append([item.title, username, folder, item.id,None,None])\n",
    "    \n",
    "    if show_image:\n",
    "        df = pd.DataFrame(results, columns=show_image_columns)\n",
    "        q = (df.width <= float(min_width)) | (df.height < float(min_height)) | (df.height.isnull()) | (df.width.isnull())\n",
    "        df = (df[q]\n",
    "              .copy()\n",
    "              .reset_index(drop=True))\n",
    "        return HTML(df.to_html(escape=False))\n",
    "    else:\n",
    "        df = pd.DataFrame(results, columns=no_show_image_columns)\n",
    "        q = (df.width <= float(min_width)) | (df.height < float(min_height)) | (df.height.isnull()) | (df.width.isnull())\n",
    "        df = (df[q]\n",
    "              .copy()\n",
    "             .reset_index(drop=True))\n",
    "        return df"
   ]
  },
  {
   "cell_type": "markdown",
   "metadata": {},
   "source": [
    "# Usage\n",
    "\n",
    "To get a DataFrame that can be queried, set `show_image` to `False`.  This will return an object that can be further used for analysis.  The dataframe reports back the width/height of the image.  If an image is missing, the value will be **NaN** for width/height.  \n",
    "\n",
    "### Example: Retrieve All Thumbnails Under 400x300"
   ]
  },
  {
   "cell_type": "code",
   "execution_count": 18,
   "metadata": {},
   "outputs": [
    {
     "data": {
      "text/html": [
       "<div>\n",
       "<style scoped>\n",
       "    .dataframe tbody tr th:only-of-type {\n",
       "        vertical-align: middle;\n",
       "    }\n",
       "\n",
       "    .dataframe tbody tr th {\n",
       "        vertical-align: top;\n",
       "    }\n",
       "\n",
       "    .dataframe thead th {\n",
       "        text-align: right;\n",
       "    }\n",
       "</style>\n",
       "<table border=\"1\" class=\"dataframe\">\n",
       "  <thead>\n",
       "    <tr style=\"text-align: right;\">\n",
       "      <th></th>\n",
       "      <th>title</th>\n",
       "      <th>username</th>\n",
       "      <th>folder</th>\n",
       "      <th>item_id</th>\n",
       "      <th>width</th>\n",
       "      <th>height</th>\n",
       "    </tr>\n",
       "  </thead>\n",
       "  <tbody>\n",
       "    <tr>\n",
       "      <th>0</th>\n",
       "      <td>four_five_month</td>\n",
       "      <td>geodev0</td>\n",
       "      <td>None</td>\n",
       "      <td>a416597cdf88422db321b8e29708745f</td>\n",
       "      <td>200</td>\n",
       "      <td>133</td>\n",
       "    </tr>\n",
       "  </tbody>\n",
       "</table>\n",
       "</div>"
      ],
      "text/plain": [
       "             title username folder                           item_id  width  \\\n",
       "0  four_five_month  geodev0  None   a416597cdf88422db321b8e29708745f  200     \n",
       "\n",
       "   height  \n",
       "0  133     "
      ]
     },
     "execution_count": 18,
     "metadata": {},
     "output_type": "execute_result"
    }
   ],
   "source": [
    "username = \"geodev0\"\n",
    "df = get_images(username, gis=gis, \n",
    "                min_height=300, min_width=400, \n",
    "                show_image=False)\n",
    "df"
   ]
  },
  {
   "cell_type": "markdown",
   "metadata": {},
   "source": [
    "## Item Thumbnails Back as HTML Report\n",
    "\n",
    "Sometimes just creating a table to see what is there is good enough.  By setting `show_image` to `True`, the method allows for a quick visualization approach to the thumbnail problem.  \n",
    "\n",
    "### Example: Find all Images Under 600x400 Pixels:"
   ]
  },
  {
   "cell_type": "code",
   "execution_count": 19,
   "metadata": {},
   "outputs": [
    {
     "data": {
      "text/html": [
       "<table border=\"1\" class=\"dataframe\">\n",
       "  <thead>\n",
       "    <tr style=\"text-align: right;\">\n",
       "      <th></th>\n",
       "      <th>title</th>\n",
       "      <th>username</th>\n",
       "      <th>folder</th>\n",
       "      <th>item_id</th>\n",
       "      <th>item_thumbnail</th>\n",
       "      <th>width</th>\n",
       "      <th>height</th>\n",
       "    </tr>\n",
       "  </thead>\n",
       "  <tbody>\n",
       "    <tr>\n",
       "      <th>0</th>\n",
       "      <td>four_five_month</td>\n",
       "      <td>geodev0</td>\n",
       "      <td>None</td>\n",
       "      <td>a416597cdf88422db321b8e29708745f</td>\n",
       "      <td><img src='data:image/png;base64,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' width='200' height='133' class=\"itemThumbnail\"></td>\n",
       "      <td>200</td>\n",
       "      <td>133</td>\n",
       "    </tr>\n",
       "  </tbody>\n",
       "</table>"
      ],
      "text/plain": [
       "<IPython.core.display.HTML object>"
      ]
     },
     "execution_count": 19,
     "metadata": {},
     "output_type": "execute_result"
    }
   ],
   "source": [
    "df = get_images(username, gis=gis, \n",
    "                show_image=True)\n",
    "df"
   ]
  }
 ],
 "metadata": {
  "kernelspec": {
   "display_name": "Python 3",
   "language": "python",
   "name": "python3"
  },
  "language_info": {
   "codemirror_mode": {
    "name": "ipython",
    "version": 3
   },
   "file_extension": ".py",
   "mimetype": "text/x-python",
   "name": "python",
   "nbconvert_exporter": "python",
   "pygments_lexer": "ipython3",
   "version": "3.6.5"
  }
 },
 "nbformat": 4,
 "nbformat_minor": 2
}
