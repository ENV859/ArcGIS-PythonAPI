{
 "cells": [
  {
   "cell_type": "markdown",
   "metadata": {},
   "source": [
    "# Overwriting feature layers\n",
    "\n",
    "As content publishers, you may be required to keep certain web layers up to date. As new data arrives, you may have to append new features, update existing features etc. There are a couple of different options to accomplish this:\n",
    " \n",
    " - Method 1: editing individual features as updated datasets are available\n",
    " - Method 2: overwriting feature layers altogether with updated datasets\n",
    " \n",
    "Depending on the number of features that are updated, your workflow requirements, you may adopt either or both kinds of update mechanisms.\n",
    "\n",
    "In the sample [Updating features in a feature layer](python/sample-notebooks/updating-features-in-a-feature-layer/) we explore method 1. In this sample, we explore method 2.\n",
    "\n",
    "**Method 2**\n",
    " - [Introduction](#Introduction)\n",
    " - [Publish the cities feature layer using the initial dataset](Publish-the-cities-feature-layer-using-the-initial-dataset)\n",
    " - [Merge updates from spreadsheets 1 and 2](#Merge-updates-from-spreadsheets-1-and-2)\n",
    "   - [Write the updates to disk](#Write-the-updates-to-disk)\n",
    " - [Overwrite the feature layer](#Overwrite-the-feature-layer)\n",
    "   - [Access the overwritten feature layer](#Access-the-overwritten-feature-layer)\n",
    " - [Conclusion](#Conclusion)"
   ]
  },
  {
   "cell_type": "code",
   "execution_count": 2,
   "metadata": {},
   "outputs": [],
   "source": [
    "# Import libraries\n",
    "from arcgis.gis import GIS\n",
    "from arcgis import features\n",
    "import pandas as pd"
   ]
  },
  {
   "cell_type": "code",
   "execution_count": 3,
   "metadata": {},
   "outputs": [],
   "source": [
    "# Connect to the GIS\n",
    "gis = GIS(profile=\"your_enterprise_profile\")"
   ]
  },
  {
   "cell_type": "markdown",
   "metadata": {},
   "source": [
    "## Introduction\n",
    "\n",
    "Let us consider a scenario where we need to update a feature layer containing the capital cities of the US. We have 2 csv datasets simulating an update workflow as described below:\n",
    "\n",
    " 1. capitals_1.csv -- contains the initial, incomplete dataset which is published as a feature layer\n",
    " 2. capitals_2.csv -- contains additional points and updates to existing points, building on top of usa_capitals_1.csv\n",
    " \n",
    "Our goal is to update the features in the feature layer with the latest information contained in both the spreadsheets. We will accomplish this through the following steps\n",
    "\n",
    " 1. Add `capitals_1.csv` as an item.\n",
    " 2. Publish the csv as a feature layer. This simulates a typical scenario where a feature layer is published with initial set of data that is available.\n",
    " 3. After updated information is available in `capitals_2.csv`, we will merge both spread sheets.\n",
    " 4. Overwrite the feature layer using the new spread sheet file.\n",
    " \n",
    "When you overwrite a feature layer, only the features get updated. All other information such as the feature layer's item id, comments, summary, description etc. remain the same. This way, any web maps or scenes that have this layer remains valid. Overwriting a feature layer also updates the related data item from which it was published. In this case, it will also update the csv data item with the updated spreadsheet file.\n",
    "\n",
    "**Note**: Overwrite capability was introduced in ArcGIS Enterprise 10.5 and in ArcGIS Online. This capability is currently only available for feature layers. Further, ArcGIS sets some limits when overwriting feature layers:\n",
    "\n",
    " 1. The name of the file that used to update in step 4 above should match the original file name of the item.\n",
    " 2. The schema -- number of layers (applicable when your original file is a file geodatabase / shape file / service definition), and the name and number of attribute columns should remain the same as before.\n",
    " \n",
    "The **method 2** explained in this sample is much simpler compared to **method 1** explained in [Updating features in a feature layer](https://developers.arcgis.com/python/sample-notebooks/updating-features-in-a-feature-layer/). However, we cannot make use of the third spreadsheet which has the additional columns for our capitals. To do that, we would first update the features through overwriting, then edit the definition of the feature layer to add new columns and then edit each feature and add the appropriate column values, similar to that explained in method 1."
   ]
  },
  {
   "cell_type": "markdown",
   "metadata": {},
   "source": [
    "## Publish the cities feature layer using the initial dataset"
   ]
  },
  {
   "cell_type": "code",
   "execution_count": 5,
   "metadata": {},
   "outputs": [],
   "source": [
    "# import libraries so you use unique file names for creating items\n",
    "# and services to this geosaurus.maps.arcgis.com organization\n",
    "# if you've download the samples or are working with your own organization\n",
    "# or Enterprise, this may not be necessary and you could just read the \n",
    "# csv data directly instead of copyting the file:\n",
    "#\n",
    "# my_csv = os.path.join(data_path, csv_file)\n",
    "\n",
    "\n",
    "import datetime as dt\n",
    "import os\n",
    "import shutil\n",
    "\n",
    "# assign path variables for data\n",
    "data_path = os.path.join('data', 'updating_gis_content')\n",
    "csv_file = 'capitals_1.csv'\n",
    "\n",
    "# assign variable to current timestamp to make unique file to add to portal\n",
    "now = int(dt.datetime.now().timestamp())\n",
    "\n",
    "# copy original file for adding to portal\n",
    "my_csv = shutil.copy2(os.path.join(data_path, csv_file),\n",
    "                     os.path.join(data_path, csv_file.split('.')[0] + '_' + str(now) + '.csv'))"
   ]
  },
  {
   "cell_type": "code",
   "execution_count": 6,
   "metadata": {},
   "outputs": [
    {
     "data": {
      "text/html": [
       "<div>\n",
       "<style scoped>\n",
       "    .dataframe tbody tr th:only-of-type {\n",
       "        vertical-align: middle;\n",
       "    }\n",
       "\n",
       "    .dataframe tbody tr th {\n",
       "        vertical-align: top;\n",
       "    }\n",
       "\n",
       "    .dataframe thead th {\n",
       "        text-align: right;\n",
       "    }\n",
       "</style>\n",
       "<table border=\"1\" class=\"dataframe\">\n",
       "  <thead>\n",
       "    <tr style=\"text-align: right;\">\n",
       "      <th></th>\n",
       "      <th>city_id</th>\n",
       "      <th>name</th>\n",
       "      <th>state</th>\n",
       "      <th>capital</th>\n",
       "      <th>pop2000</th>\n",
       "      <th>pop2007</th>\n",
       "      <th>longitude</th>\n",
       "      <th>latitude</th>\n",
       "    </tr>\n",
       "  </thead>\n",
       "  <tbody>\n",
       "    <tr>\n",
       "      <th>0</th>\n",
       "      <td>1</td>\n",
       "      <td>Honolulu</td>\n",
       "      <td>HI</td>\n",
       "      <td>State</td>\n",
       "      <td>371657</td>\n",
       "      <td>378587</td>\n",
       "      <td>-157.823436</td>\n",
       "      <td>21.305782</td>\n",
       "    </tr>\n",
       "    <tr>\n",
       "      <th>1</th>\n",
       "      <td>2</td>\n",
       "      <td>Juneau</td>\n",
       "      <td>AK</td>\n",
       "      <td>State</td>\n",
       "      <td>30711</td>\n",
       "      <td>31592</td>\n",
       "      <td>-134.511582</td>\n",
       "      <td>58.351418</td>\n",
       "    </tr>\n",
       "    <tr>\n",
       "      <th>2</th>\n",
       "      <td>3</td>\n",
       "      <td>Boise City</td>\n",
       "      <td>ID</td>\n",
       "      <td>State</td>\n",
       "      <td>185787</td>\n",
       "      <td>203529</td>\n",
       "      <td>-116.237655</td>\n",
       "      <td>43.613736</td>\n",
       "    </tr>\n",
       "    <tr>\n",
       "      <th>3</th>\n",
       "      <td>4</td>\n",
       "      <td>Olympia</td>\n",
       "      <td>WA</td>\n",
       "      <td>State</td>\n",
       "      <td>27514</td>\n",
       "      <td>45523</td>\n",
       "      <td>-122.893073</td>\n",
       "      <td>47.042418</td>\n",
       "    </tr>\n",
       "    <tr>\n",
       "      <th>4</th>\n",
       "      <td>5</td>\n",
       "      <td>Salem</td>\n",
       "      <td>OR</td>\n",
       "      <td>State</td>\n",
       "      <td>136924</td>\n",
       "      <td>152039</td>\n",
       "      <td>-123.029155</td>\n",
       "      <td>44.931109</td>\n",
       "    </tr>\n",
       "  </tbody>\n",
       "</table>\n",
       "</div>"
      ],
      "text/plain": [
       "   city_id        name state capital  pop2000  pop2007   longitude   latitude\n",
       "0        1    Honolulu    HI   State   371657   378587 -157.823436  21.305782\n",
       "1        2      Juneau    AK   State    30711    31592 -134.511582  58.351418\n",
       "2        3  Boise City    ID   State   185787   203529 -116.237655  43.613736\n",
       "3        4     Olympia    WA   State    27514    45523 -122.893073  47.042418\n",
       "4        5       Salem    OR   State   136924   152039 -123.029155  44.931109"
      ]
     },
     "execution_count": 6,
     "metadata": {},
     "output_type": "execute_result"
    }
   ],
   "source": [
    "# read the initial csv\n",
    "cities_df_1 = pd.read_csv(my_csv)\n",
    "cities_df_1.head()"
   ]
  },
  {
   "cell_type": "code",
   "execution_count": 6,
   "metadata": {},
   "outputs": [
    {
     "data": {
      "text/plain": [
       "(19, 8)"
      ]
     },
     "execution_count": 6,
     "metadata": {},
     "output_type": "execute_result"
    }
   ],
   "source": [
    "# print the number of records in this csv\n",
    "cities_df_1.shape"
   ]
  },
  {
   "cell_type": "code",
   "execution_count": 7,
   "metadata": {},
   "outputs": [
    {
     "data": {
      "text/html": [
       "<div class=\"item_container\" style=\"height: auto; overflow: hidden; border: 1px solid #cfcfcf; border-radius: 2px; background: #f6fafa; line-height: 1.21429em; padding: 10px;\">\n",
       "                    <div class=\"item_left\" style=\"width: 210px; float: left;\">\n",
       "                       <a href='https://geosaurus.maps.arcgis.com/home/item.html?id=6450789053d94c3f8f1ae835f152de4d' target='_blank'>\n",
       "                        <img src='http://static.arcgis.com/images/desktopapp.png' class=\"itemThumbnail\">\n",
       "                       </a>\n",
       "                    </div>\n",
       "\n",
       "                    <div class=\"item_right\"     style=\"float: none; width: auto; overflow: hidden;\">\n",
       "                        <a href='https://geosaurus.maps.arcgis.com/home/item.html?id=6450789053d94c3f8f1ae835f152de4d' target='_blank'><b>USA Capitals spreadsheet_1555004222</b>\n",
       "                        </a>\n",
       "                        <br/><img src='https://geosaurus.maps.arcgis.com/home/js/jsapi/esri/css/images/item_type_icons/layers16.png' style=\"vertical-align:middle;\">CSV by arcgis_python\n",
       "                        <br/>Last Modified: April 11, 2019\n",
       "                        <br/>0 comments, 0 views\n",
       "                    </div>\n",
       "                </div>\n",
       "                "
      ],
      "text/plain": [
       "<Item title:\"USA Capitals spreadsheet_1555004222\" type:CSV owner:arcgis_python>"
      ]
     },
     "execution_count": 7,
     "metadata": {},
     "output_type": "execute_result"
    }
   ],
   "source": [
    "# add the csv as an item\n",
    "item_prop = {'title':'USA Capitals spreadsheet_' + str(now)}\n",
    "csv_item = gis.content.add(item_properties=item_prop, data=my_csv)\n",
    "csv_item"
   ]
  },
  {
   "cell_type": "code",
   "execution_count": 8,
   "metadata": {},
   "outputs": [
    {
     "data": {
      "text/html": [
       "<div class=\"item_container\" style=\"height: auto; overflow: hidden; border: 1px solid #cfcfcf; border-radius: 2px; background: #f6fafa; line-height: 1.21429em; padding: 10px;\">\n",
       "                    <div class=\"item_left\" style=\"width: 210px; float: left;\">\n",
       "                       <a href='https://geosaurus.maps.arcgis.com/home/item.html?id=e7e8305030f3471c925f9081febd4db5' target='_blank'>\n",
       "                        <img src='http://static.arcgis.com/images/desktopapp.png' class=\"itemThumbnail\">\n",
       "                       </a>\n",
       "                    </div>\n",
       "\n",
       "                    <div class=\"item_right\"     style=\"float: none; width: auto; overflow: hidden;\">\n",
       "                        <a href='https://geosaurus.maps.arcgis.com/home/item.html?id=e7e8305030f3471c925f9081febd4db5' target='_blank'><b>USA Capitals spreadsheet_1555004222</b>\n",
       "                        </a>\n",
       "                        <br/><img src='https://geosaurus.maps.arcgis.com/home/js/jsapi/esri/css/images/item_type_icons/featureshosted16.png' style=\"vertical-align:middle;\">Feature Layer Collection by arcgis_python\n",
       "                        <br/>Last Modified: April 11, 2019\n",
       "                        <br/>0 comments, 0 views\n",
       "                    </div>\n",
       "                </div>\n",
       "                "
      ],
      "text/plain": [
       "<Item title:\"USA Capitals spreadsheet_1555004222\" type:Feature Layer Collection owner:arcgis_python>"
      ]
     },
     "execution_count": 8,
     "metadata": {},
     "output_type": "execute_result"
    }
   ],
   "source": [
    "# publish the csv item into a feature layer\n",
    "cities_item = csv_item.publish()\n",
    "cities_item"
   ]
  },
  {
   "cell_type": "code",
   "execution_count": 9,
   "metadata": {},
   "outputs": [
    {
     "data": {
      "text/html": [
       "<div class=\"item_container\" style=\"height: auto; overflow: hidden; border: 1px solid #cfcfcf; border-radius: 2px; background: #f6fafa; line-height: 1.21429em; padding: 10px;\">\n",
       "                    <div class=\"item_left\" style=\"width: 210px; float: left;\">\n",
       "                       <a href='https://geosaurus.maps.arcgis.com/home/item.html?id=e7e8305030f3471c925f9081febd4db5' target='_blank'>\n",
       "                        <img src='data:image/png;base64,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' width='200' height='133' class=\"itemThumbnail\">\n",
       "                       </a>\n",
       "                    </div>\n",
       "\n",
       "                    <div class=\"item_right\"     style=\"float: none; width: auto; overflow: hidden;\">\n",
       "                        <a href='https://geosaurus.maps.arcgis.com/home/item.html?id=e7e8305030f3471c925f9081febd4db5' target='_blank'><b>USA Capitals 2</b>\n",
       "                        </a>\n",
       "                        <br/><img src='https://geosaurus.maps.arcgis.com/home/js/jsapi/esri/css/images/item_type_icons/featureshosted16.png' style=\"vertical-align:middle;\">Feature Layer Collection by arcgis_python\n",
       "                        <br/>Last Modified: April 11, 2019\n",
       "                        <br/>0 comments, 0 views\n",
       "                    </div>\n",
       "                </div>\n",
       "                "
      ],
      "text/plain": [
       "<Item title:\"USA Capitals 2\" type:Feature Layer Collection owner:arcgis_python>"
      ]
     },
     "execution_count": 9,
     "metadata": {},
     "output_type": "execute_result"
    }
   ],
   "source": [
    "# update the item metadata\n",
    "item_prop = {'title':'USA Capitals 2'}\n",
    "cities_item.update(item_properties = item_prop, \n",
    "                   thumbnail=os.path.join('data','updating_gis_content','capital_cities.png'))\n",
    "cities_item"
   ]
  },
  {
   "cell_type": "code",
   "execution_count": 28,
   "metadata": {},
   "outputs": [
    {
     "data": {
      "text/html": [
       "<img src=\"data:image/jpeg;base64,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\"/>"
      ],
      "text/plain": [
       "<IPython.core.display.Image object>"
      ]
     },
     "execution_count": 28,
     "metadata": {},
     "output_type": "execute_result"
    }
   ],
   "source": [
    "map1 = gis.map('USA')\n",
    "map1"
   ]
  },
  {
   "cell_type": "code",
   "execution_count": 11,
   "metadata": {},
   "outputs": [],
   "source": [
    "map1.zoom = 3\n",
    "map1.center = [39, -98]"
   ]
  },
  {
   "cell_type": "code",
   "execution_count": 12,
   "metadata": {},
   "outputs": [],
   "source": [
    "map1.add_layer(cities_item)"
   ]
  },
  {
   "cell_type": "code",
   "execution_count": 13,
   "metadata": {},
   "outputs": [
    {
     "data": {
      "text/plain": [
       "'https://services7.arcgis.com/JEwYeAy2cc8qOe3o/arcgis/rest/services/USA_Capitals_spreadsheet_1555004222/FeatureServer'"
      ]
     },
     "execution_count": 13,
     "metadata": {},
     "output_type": "execute_result"
    }
   ],
   "source": [
    "cities_item.url"
   ]
  },
  {
   "cell_type": "markdown",
   "metadata": {},
   "source": [
    "## Merge updates from spreadsheet 2 with 1\n",
    "The next set of updates have arrived and are stored in `capitals_2.csv`. We are told it contains corrections for the original set of features and also has new features.\n",
    "\n",
    "Instead of applying the updates one at a time, we will merge both the spreadsheets into a new one."
   ]
  },
  {
   "cell_type": "code",
   "execution_count": 14,
   "metadata": {},
   "outputs": [
    {
     "data": {
      "text/html": [
       "<div>\n",
       "<style scoped>\n",
       "    .dataframe tbody tr th:only-of-type {\n",
       "        vertical-align: middle;\n",
       "    }\n",
       "\n",
       "    .dataframe tbody tr th {\n",
       "        vertical-align: top;\n",
       "    }\n",
       "\n",
       "    .dataframe thead th {\n",
       "        text-align: right;\n",
       "    }\n",
       "</style>\n",
       "<table border=\"1\" class=\"dataframe\">\n",
       "  <thead>\n",
       "    <tr style=\"text-align: right;\">\n",
       "      <th></th>\n",
       "      <th>city_id</th>\n",
       "      <th>name</th>\n",
       "      <th>state</th>\n",
       "      <th>capital</th>\n",
       "      <th>pop2000</th>\n",
       "      <th>pop2007</th>\n",
       "      <th>longitude</th>\n",
       "      <th>latitude</th>\n",
       "    </tr>\n",
       "  </thead>\n",
       "  <tbody>\n",
       "    <tr>\n",
       "      <th>0</th>\n",
       "      <td>20</td>\n",
       "      <td>Baton Rouge</td>\n",
       "      <td>LA</td>\n",
       "      <td>State</td>\n",
       "      <td>227818</td>\n",
       "      <td>228810</td>\n",
       "      <td>-91.140227</td>\n",
       "      <td>30.458091</td>\n",
       "    </tr>\n",
       "    <tr>\n",
       "      <th>1</th>\n",
       "      <td>21</td>\n",
       "      <td>Helena</td>\n",
       "      <td>MT</td>\n",
       "      <td>State</td>\n",
       "      <td>25780</td>\n",
       "      <td>26007</td>\n",
       "      <td>-112.027027</td>\n",
       "      <td>46.595809</td>\n",
       "    </tr>\n",
       "    <tr>\n",
       "      <th>2</th>\n",
       "      <td>22</td>\n",
       "      <td>Bismarck</td>\n",
       "      <td>ND</td>\n",
       "      <td>State</td>\n",
       "      <td>55532</td>\n",
       "      <td>59344</td>\n",
       "      <td>-100.779000</td>\n",
       "      <td>46.813346</td>\n",
       "    </tr>\n",
       "    <tr>\n",
       "      <th>3</th>\n",
       "      <td>23</td>\n",
       "      <td>Pierre</td>\n",
       "      <td>SD</td>\n",
       "      <td>State</td>\n",
       "      <td>13876</td>\n",
       "      <td>14169</td>\n",
       "      <td>-100.336382</td>\n",
       "      <td>44.367964</td>\n",
       "    </tr>\n",
       "    <tr>\n",
       "      <th>4</th>\n",
       "      <td>24</td>\n",
       "      <td>St. Paul</td>\n",
       "      <td>MN</td>\n",
       "      <td>State</td>\n",
       "      <td>287151</td>\n",
       "      <td>291643</td>\n",
       "      <td>-93.114118</td>\n",
       "      <td>44.954364</td>\n",
       "    </tr>\n",
       "  </tbody>\n",
       "</table>\n",
       "</div>"
      ],
      "text/plain": [
       "   city_id         name state capital  pop2000  pop2007   longitude   latitude\n",
       "0       20  Baton Rouge    LA   State   227818   228810  -91.140227  30.458091\n",
       "1       21       Helena    MT   State    25780    26007 -112.027027  46.595809\n",
       "2       22     Bismarck    ND   State    55532    59344 -100.779000  46.813346\n",
       "3       23       Pierre    SD   State    13876    14169 -100.336382  44.367964\n",
       "4       24     St. Paul    MN   State   287151   291643  -93.114118  44.954364"
      ]
     },
     "execution_count": 14,
     "metadata": {},
     "output_type": "execute_result"
    }
   ],
   "source": [
    "# read the second csv set\n",
    "csv2 = os.path.join('data', 'updating_gis_content', 'capitals_2.csv')\n",
    "cities_df_2 = pd.read_csv(csv2)\n",
    "cities_df_2.head(5)"
   ]
  },
  {
   "cell_type": "code",
   "execution_count": 15,
   "metadata": {},
   "outputs": [
    {
     "data": {
      "text/plain": [
       "(36, 8)"
      ]
     },
     "execution_count": 15,
     "metadata": {},
     "output_type": "execute_result"
    }
   ],
   "source": [
    "# get the dimensions of this csv\n",
    "cities_df_2.shape"
   ]
  },
  {
   "cell_type": "markdown",
   "metadata": {},
   "source": [
    "Let us `append` the spreadsheets 1 and 2 and store it in a DataFrame called `updated_df`. Note, this step introduces duplicate rows that were updated in spreadsheet 2."
   ]
  },
  {
   "cell_type": "code",
   "execution_count": 16,
   "metadata": {},
   "outputs": [
    {
     "data": {
      "text/plain": [
       "(55, 8)"
      ]
     },
     "execution_count": 16,
     "metadata": {},
     "output_type": "execute_result"
    }
   ],
   "source": [
    "updated_df = cities_df_1.append(cities_df_2)\n",
    "updated_df.shape"
   ]
  },
  {
   "cell_type": "markdown",
   "metadata": {},
   "source": [
    "Next, we must drop the duplicate rows. Note, in this sample, the `city_id` column has unique values and is present in all spreadsheets. Thus, we are able to determine duplicate rows using this column and drop them."
   ]
  },
  {
   "cell_type": "code",
   "execution_count": 17,
   "metadata": {},
   "outputs": [
    {
     "data": {
      "text/plain": [
       "(51, 8)"
      ]
     },
     "execution_count": 17,
     "metadata": {},
     "output_type": "execute_result"
    }
   ],
   "source": [
    "updated_df.drop_duplicates(subset='city_id', keep='last', inplace=True)\n",
    "# we specify argument keep = 'last' to retain edits from second spreadsheet\n",
    "updated_df.shape"
   ]
  },
  {
   "cell_type": "markdown",
   "metadata": {},
   "source": [
    "Thus we have dropped 4 rows from spreadsheet 1 and retained the same 4 rows with updated values from spreadsheet 2. Let us see how the DataFrame looks so far:"
   ]
  },
  {
   "cell_type": "code",
   "execution_count": 18,
   "metadata": {},
   "outputs": [
    {
     "data": {
      "text/html": [
       "<div>\n",
       "<style scoped>\n",
       "    .dataframe tbody tr th:only-of-type {\n",
       "        vertical-align: middle;\n",
       "    }\n",
       "\n",
       "    .dataframe tbody tr th {\n",
       "        vertical-align: top;\n",
       "    }\n",
       "\n",
       "    .dataframe thead th {\n",
       "        text-align: right;\n",
       "    }\n",
       "</style>\n",
       "<table border=\"1\" class=\"dataframe\">\n",
       "  <thead>\n",
       "    <tr style=\"text-align: right;\">\n",
       "      <th></th>\n",
       "      <th>city_id</th>\n",
       "      <th>name</th>\n",
       "      <th>state</th>\n",
       "      <th>capital</th>\n",
       "      <th>pop2000</th>\n",
       "      <th>pop2007</th>\n",
       "      <th>longitude</th>\n",
       "      <th>latitude</th>\n",
       "    </tr>\n",
       "  </thead>\n",
       "  <tbody>\n",
       "    <tr>\n",
       "      <th>0</th>\n",
       "      <td>1</td>\n",
       "      <td>Honolulu</td>\n",
       "      <td>HI</td>\n",
       "      <td>State</td>\n",
       "      <td>371657</td>\n",
       "      <td>378587</td>\n",
       "      <td>-157.823436</td>\n",
       "      <td>21.305782</td>\n",
       "    </tr>\n",
       "    <tr>\n",
       "      <th>1</th>\n",
       "      <td>2</td>\n",
       "      <td>Juneau</td>\n",
       "      <td>AK</td>\n",
       "      <td>State</td>\n",
       "      <td>30711</td>\n",
       "      <td>31592</td>\n",
       "      <td>-134.511582</td>\n",
       "      <td>58.351418</td>\n",
       "    </tr>\n",
       "    <tr>\n",
       "      <th>2</th>\n",
       "      <td>3</td>\n",
       "      <td>Boise City</td>\n",
       "      <td>ID</td>\n",
       "      <td>State</td>\n",
       "      <td>185787</td>\n",
       "      <td>203529</td>\n",
       "      <td>-116.237655</td>\n",
       "      <td>43.613736</td>\n",
       "    </tr>\n",
       "    <tr>\n",
       "      <th>4</th>\n",
       "      <td>5</td>\n",
       "      <td>Salem</td>\n",
       "      <td>OR</td>\n",
       "      <td>State</td>\n",
       "      <td>136924</td>\n",
       "      <td>152039</td>\n",
       "      <td>-123.029155</td>\n",
       "      <td>44.931109</td>\n",
       "    </tr>\n",
       "    <tr>\n",
       "      <th>5</th>\n",
       "      <td>6</td>\n",
       "      <td>Carson</td>\n",
       "      <td>NV</td>\n",
       "      <td>State</td>\n",
       "      <td>52457</td>\n",
       "      <td>56641</td>\n",
       "      <td>-119.753873</td>\n",
       "      <td>39.160946</td>\n",
       "    </tr>\n",
       "  </tbody>\n",
       "</table>\n",
       "</div>"
      ],
      "text/plain": [
       "   city_id        name state capital  pop2000  pop2007   longitude   latitude\n",
       "0        1    Honolulu    HI   State   371657   378587 -157.823436  21.305782\n",
       "1        2      Juneau    AK   State    30711    31592 -134.511582  58.351418\n",
       "2        3  Boise City    ID   State   185787   203529 -116.237655  43.613736\n",
       "4        5       Salem    OR   State   136924   152039 -123.029155  44.931109\n",
       "5        6      Carson    NV   State    52457    56641 -119.753873  39.160946"
      ]
     },
     "execution_count": 18,
     "metadata": {},
     "output_type": "execute_result"
    }
   ],
   "source": [
    "updated_df.head(5)"
   ]
  },
  {
   "cell_type": "markdown",
   "metadata": {},
   "source": [
    "### Write the updates to disk\n",
    "Let us create a new folder called `updated_capitals_csv` and write the updated features to a csv with the same name as our first csv file."
   ]
  },
  {
   "cell_type": "code",
   "execution_count": 19,
   "metadata": {},
   "outputs": [],
   "source": [
    "import os\n",
    "if not os.path.exists(os.path.join('data', 'updating_gis_content','updated_capitals_csv')):\n",
    "    os.mkdir(os.path.join('data', 'updating_gis_content','updated_capitals_csv'))"
   ]
  },
  {
   "cell_type": "code",
   "execution_count": 20,
   "metadata": {},
   "outputs": [],
   "source": [
    "updated_df.to_csv(os.path.join('data', 'updating_gis_content',\n",
    "                               'updated_capitals_csv', 'capitals_1.csv'))"
   ]
  },
  {
   "cell_type": "markdown",
   "metadata": {},
   "source": [
    "## Overwrite the feature layer\n",
    "Let us overwrite the feature layer using the new csv file we just created. To overwrite, we will use the `overwrite()` method."
   ]
  },
  {
   "cell_type": "code",
   "execution_count": 21,
   "metadata": {},
   "outputs": [],
   "source": [
    "from arcgis.features import FeatureLayerCollection\n",
    "cities_flayer_collection = FeatureLayerCollection.fromitem(cities_item)"
   ]
  },
  {
   "cell_type": "code",
   "execution_count": 22,
   "metadata": {},
   "outputs": [
    {
     "data": {
      "text/plain": [
       "{'success': True}"
      ]
     },
     "execution_count": 22,
     "metadata": {},
     "output_type": "execute_result"
    }
   ],
   "source": [
    "#call the overwrite() method which can be accessed using the manager property\n",
    "cities_flayer_collection.manager.overwrite(os.path.join('data', 'updating_gis_content',\n",
    "                               'updated_capitals_csv', 'capitals_1.csv'))"
   ]
  },
  {
   "cell_type": "markdown",
   "metadata": {
    "collapsed": true
   },
   "source": [
    "### Access the overwritten feature layer\n",
    "Let us query the feature layer and verify the number of features has increased to `51`."
   ]
  },
  {
   "cell_type": "code",
   "execution_count": 23,
   "metadata": {},
   "outputs": [
    {
     "data": {
      "text/plain": [
       "51"
      ]
     },
     "execution_count": 23,
     "metadata": {},
     "output_type": "execute_result"
    }
   ],
   "source": [
    "cities_flayer = cities_item.layers[0] #there is only 1 layer\n",
    "cities_flayer.query(return_count_only=True) #get the total number of features"
   ]
  },
  {
   "cell_type": "markdown",
   "metadata": {},
   "source": [
    "Let us draw this new layer in map"
   ]
  },
  {
   "cell_type": "code",
   "execution_count": 29,
   "metadata": {},
   "outputs": [
    {
     "data": {
      "text/html": [
       "<img src=\"data:image/jpeg;base64,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\"/>"
      ],
      "text/plain": [
       "<IPython.core.display.Image object>"
      ]
     },
     "execution_count": 29,
     "metadata": {},
     "output_type": "execute_result"
    }
   ],
   "source": [
    "map2 = gis.map(\"USA\")\n",
    "map2"
   ]
  },
  {
   "cell_type": "code",
   "execution_count": 25,
   "metadata": {},
   "outputs": [],
   "source": [
    "map2.zoom = 3\n",
    "map2.center = [39, -98]"
   ]
  },
  {
   "cell_type": "code",
   "execution_count": 26,
   "metadata": {},
   "outputs": [],
   "source": [
    "map2.add_layer(cities_item)"
   ]
  },
  {
   "cell_type": "markdown",
   "metadata": {},
   "source": [
    "As seen from the map, the number of features has increased while the symbology while the attribute columns remain the same as original."
   ]
  },
  {
   "cell_type": "markdown",
   "metadata": {},
   "source": [
    "## Conclusion\n",
    "Thus, in this sample, we observed how update a feature layer by overwriting it with new content. This method is a lot simpler than method 1 explained in [Updating features in a feature layer](https://developers.arcgis.com/python/sample-notebooks/updating-features-in-a-feature-layer/) sample. However, with this simplicity, we compromise on our ability to add new columns or change the schema of the feature layer during the update. Further, if your feature layer was updated after it was published, then those updates get overwritten when you perform the overwrite operation. To retain those edits, [extract the data](https://developers.arcgis.com/python/guide/checking-out-data-from-feature-layers-using-replicas/#Verify-Extract-capability) from the feature layer, merge your updates with this extract, then overwrite the feature layer."
   ]
  }
 ],
 "metadata": {
  "anaconda-cloud": {},
  "kernelspec": {
   "display_name": "Python 3",
   "language": "python",
   "name": "python3"
  },
  "language_info": {
   "codemirror_mode": {
    "name": "ipython",
    "version": 3
   },
   "file_extension": ".py",
   "mimetype": "text/x-python",
   "name": "python",
   "nbconvert_exporter": "python",
   "pygments_lexer": "ipython3",
   "version": "3.6.6"
  }
 },
 "nbformat": 4,
 "nbformat_minor": 1
}
