{
 "cells": [
  {
   "cell_type": "markdown",
   "metadata": {},
   "source": [
    "# Publishing SDs, Shapefiles and CSVs\n",
    "\n",
    "Publishing your data can be accomplished in two simple steps:\n",
    "1. Add the local data as an item to the portal\n",
    "2. Call the publish() method on the item\n",
    "\n",
    "This sample notebook shows how different types of GIS datasets can be added to the GIS, and published as web layers."
   ]
  },
  {
   "cell_type": "code",
   "execution_count": 1,
   "metadata": {},
   "outputs": [],
   "source": [
    "from IPython.display import display\n",
    "from arcgis.gis import GIS\n",
    "import os\n",
    "username = \"arcgis_python\"\n",
    "password = \"P@ssword123\"\n",
    "gis = GIS(\"https://www.arcgis.com\", username, password)"
   ]
  },
  {
   "cell_type": "markdown",
   "metadata": {},
   "source": [
    "In order to have the codes below run smoothly, use the pre-requisite cells as in cell[2] to delete existing .zip, .sd, or services from the `gis` content, and in cell [3] to delete existing folder."
   ]
  },
  {
   "cell_type": "code",
   "execution_count": 2,
   "metadata": {},
   "outputs": [
    {
     "name": "stdout",
     "output_type": "stream",
     "text": [
      "Deleted existing Service Definition:  <Item title:\"Nursing_home_locations\" type:Service Definition owner:arcgis_python>\n",
      "Deleted existing Service Definition:  <Item title:\"NewPy_WTL_test_SingleLayerBuildCache\" type:Service Definition owner:arcgis_python>\n",
      "Deleted existing Feature Layer Collection:  <Item title:\"Nursing_home_locations\" type:Feature Layer Collection owner:arcgis_python>\n",
      "Deleted existing Map Service:  <Item title:\"NewPy_WTL_test_SingleLayerBuildCache\" type:Map Image Layer owner:arcgis_python>\n",
      "Deleted existing Shapefile:  <Item title:\"power_pedestals_2012\" type:Shapefile owner:arcgis_python>\n",
      "Deleted existing Feature Layer Collection:  <Item title:\"Locations of power pedestals collected in 2012\" type:Feature Layer Collection owner:arcgis_python>\n",
      "Deleted existing CSV:  <Item title:\"Chennai_precipitation\" type:CSV owner:arcgis_python>\n",
      "Deleted existing Feature Layer Collection:  <Item title:\"Chennai_precipitation\" type:Feature Layer Collection owner:arcgis_python>\n"
     ]
    }
   ],
   "source": [
    "def delete_existing_items(item_types, name_list):\n",
    "    for current_item_type in item_types:\n",
    "        for file_name in name_list:    \n",
    "            search_result = gis.content.search(query=file_name, item_type=current_item_type)\n",
    "            if len(search_result) > 0:\n",
    "                for item in search_result:\n",
    "                    item.delete()\n",
    "                    print(\"Deleted existing \" + current_item_type + \": \", item)\n",
    "                    \n",
    "item_types = [\"Service Definition\", \"Feature Layer Collection\", \"Map Service\"]\n",
    "name_list = [\"Nursing_home_locations\", \"NewPy_WTL_test_SingleLayerBuildCache\"]\n",
    "delete_existing_items(item_types, name_list)\n",
    "\n",
    "item_types = [\"Shapefile\", \"Feature Layer Collection\"]\n",
    "name_list = [\"power_pedestals_2012\"]\n",
    "delete_existing_items(item_types, name_list)\n",
    "\n",
    "item_types = [\"CSV\", \"Feature Layer Collection\"]\n",
    "name_list = [\"Chennai_precipitation\"]\n",
    "delete_existing_items(item_types, name_list)"
   ]
  },
  {
   "cell_type": "code",
   "execution_count": 3,
   "metadata": {},
   "outputs": [
    {
     "data": {
      "text/plain": [
       "True"
      ]
     },
     "execution_count": 3,
     "metadata": {},
     "output_type": "execute_result"
    }
   ],
   "source": [
    "def delete_existing_folder(folder_name):\n",
    "    try:\n",
    "        return gis.content.delete_folder(folder=folder_name)\n",
    "    except:\n",
    "        return False\n",
    "\n",
    "my_folder_name = \"Rainfall Data\"\n",
    "delete_existing_folder(my_folder_name) # returns True if folder exists, or False if non-exist"
   ]
  },
  {
   "cell_type": "markdown",
   "metadata": {},
   "source": [
    "\n",
    "# Publish all the service definition files in a folder\n",
    "\n",
    "The sample below lists all the service definition (.sd) files in a data directory and publishes them as web layers. To publish a service definition file, we first add the .sd file to the Portal, and then call the publish() method:"
   ]
  },
  {
   "cell_type": "code",
   "execution_count": 4,
   "metadata": {},
   "outputs": [
    {
     "name": "stdout",
     "output_type": "stream",
     "text": [
      "Number of .sd files found: 2\n"
     ]
    }
   ],
   "source": [
    "# path relative to this notebook\n",
    "data_dir = \"data/\"\n",
    "\n",
    "#Get list of all files\n",
    "file_list = os.listdir(data_dir)\n",
    "\n",
    "#Filter and get only .sd files\n",
    "sd_file_list = [x for x in file_list if x.endswith(\".sd\")]\n",
    "print(\"Number of .sd files found: \" + str(len(sd_file_list)))"
   ]
  },
  {
   "cell_type": "code",
   "execution_count": 5,
   "metadata": {},
   "outputs": [
    {
     "data": {
      "text/html": [
       "<div class=\"item_container\" style=\"height: auto; overflow: hidden; border: 1px solid #cfcfcf; border-radius: 2px; background: #f6fafa; line-height: 1.21429em; padding: 10px;\">\n",
       "                    <div class=\"item_left\" style=\"width: 210px; float: left;\">\n",
       "                       <a href='https://geosaurus.maps.arcgis.com/home/item.html?id=0ffcdcc98ee346cbb722a241a1e96a73' target='_blank'>\n",
       "                        <img src='http://static.arcgis.com/images/desktopapp.png' class=\"itemThumbnail\">\n",
       "                       </a>\n",
       "                    </div>\n",
       "\n",
       "                    <div class=\"item_right\"     style=\"float: none; width: auto; overflow: hidden;\">\n",
       "                        <a href='https://geosaurus.maps.arcgis.com/home/item.html?id=0ffcdcc98ee346cbb722a241a1e96a73' target='_blank'><b>NewPy_WTL_test_SingleLayerBuildCache</b>\n",
       "                        </a>\n",
       "                        <br/><img src='https://geosaurus.maps.arcgis.com/home/js/jsapi/esri/css/images/item_type_icons/mapimages16.png' style=\"vertical-align:middle;\">Map Image Layer by arcgis_python\n",
       "                        <br/>Last Modified: February 20, 2019\n",
       "                        <br/>0 comments, 0 views\n",
       "                    </div>\n",
       "                </div>\n",
       "                "
      ],
      "text/plain": [
       "<Item title:\"NewPy_WTL_test_SingleLayerBuildCache\" type:Map Image Layer owner:arcgis_python>"
      ]
     },
     "metadata": {},
     "output_type": "display_data"
    },
    {
     "data": {
      "text/html": [
       "<div class=\"item_container\" style=\"height: auto; overflow: hidden; border: 1px solid #cfcfcf; border-radius: 2px; background: #f6fafa; line-height: 1.21429em; padding: 10px;\">\n",
       "                    <div class=\"item_left\" style=\"width: 210px; float: left;\">\n",
       "                       <a href='https://geosaurus.maps.arcgis.com/home/item.html?id=00a7110d95aa49d6a72f725744143c9b' target='_blank'>\n",
       "                        <img src='data:image/png;base64,/9j/4AAQSkZJRgABAQEAAAAAAAD/2wBDAAgGBgcGBQgHBwcJCQgKDBQNDAsLDBkSEw8UHRofHh0aHBwgJC4nICIsIxwcKDcpLDAxNDQ0Hyc5PTgyPC4zNDL/2wBDAQkJCQwLDBgNDRgyIRwhMjIyMjIyMjIyMjIyMjIyMjIyMjIyMjIyMjIyMjIyMjIyMjIyMjIyMjIyMjIyMjIyMjL/wAARCACFAMgDAREAAhEBAxEB/8QAHwAAAQUBAQEBAQEAAAAAAAAAAAECAwQFBgcICQoL/8QAtRAAAgEDAwIEAwUFBAQAAAF9AQIDAAQRBRIhMUEGE1FhByJxFDKBkaEII0KxwRVS0fAkM2JyggkKFhcYGRolJicoKSo0NTY3ODk6Q0RFRkdISUpTVFVWV1hZWmNkZWZnaGlqc3R1dnd4eXqDhIWGh4iJipKTlJWWl5iZmqKjpKWmp6ipqrKztLW2t7i5usLDxMXGx8jJytLT1NXW19jZ2uHi4+Tl5ufo6erx8vP09fb3+Pn6/8QAHwEAAwEBAQEBAQEBAQAAAAAAAAECAwQFBgcICQoL/8QAtREAAgECBAQDBAcFBAQAAQJ3AAECAxEEBSExBhJBUQdhcRMiMoEIFEKRobHBCSMzUvAVYnLRChYkNOEl8RcYGRomJygpKjU2Nzg5OkNERUZHSElKU1RVVldYWVpjZGVmZ2hpanN0dXZ3eHl6goOEhYaHiImKkpOUlZaXmJmaoqOkpaanqKmqsrO0tba3uLm6wsPExcbHyMnK0tPU1dbX2Nna4uPk5ebn6Onq8vP09fb3+Pn6/9oADAMBAAIRAxEAPwD28Anqa6Dj1Y7AxikMy79CsoOGx6gcCsKibZaZGsmCowRx371ztOJqpEhnO3DZIJ/IU78ysXfQGbcFAGOOcU29AJhtjKjjB5P0ocUgsOQk8nLdzxjio5L7isMZwcgH86za1sKwiThAOM89cU76XEStKCOOlJsLjHPI4pARAKoJzg9BzzmgBGIABxnPr0prR6jIxk9+c9c4q/QETL9zjoOadhtEbR7lINJMLkCR+U3y5yexJpti1RftSS67gQSASSePyoVr6h1LD38iz+SluXfsM4BGOTmt7osnglmk/wBbB5XH9/dTAnoAO9AC0AMfqn+9/Q0AVVlHGa6nE4FMZPIUG48xkduOawquS+E1jZ7leORCCpyy9cN2/GslUaX7zYprsQzRQ7NwV1J4C1ouWS90n1IAMAgEgfl+GKwlGzuWpaWHbuOQN3X/ABpRbu7l30sPSTjCLkk96E0XcsuzY6Z4zx1AqmxsgZgvIBLH25rFtXJGqdjct14OKViWORDMSzM6hWwqg9veneKWwhjzwxkr5+0r1Ldv05qopPWw0hscyho4xdZl6E7OT/hTul0GWnD5wSTgZLGs5asCAAOCC+3I6Ht2pp6ARWzFZDA7bmTpu7iquUWgd2AcjjI9qTEyNwTgjt2xxQnbRgKXCkMd3ynoM0pIGa8caukbkfMBwe4rohshrYdJF5iFSxwaoGgRTEcFiwPqelALQkHWgYtAEMnzNGMfKG59+DTAofxehrtPL6kqtkbD0NRJGkWUZYpYzv2/J0HT1rz50ZX0OhSRVWdlcCZgUHRvT2NYW7GhOgWUYbtTVSS2ZLihDbPk7RwK6oLniQ9GA3IgJAAI61hKWtkax2JYpDyTj5uM1bdmUnfUjYNywO3HH3OMVC5bXYeYjcISzZIxgAYpSsthMliPyjGeetQ97CJTZq5aRpnXdgYU1orJajIY4EhlDNI5XP8AGc+lSveYIc8sZUsJUIPzZJHShwl2Cw0YAO7j3zUoRDMh8yKRQA6NyT0I71SelmUTYLY67h70+gD3GUyCT2P1qWIYSODnoccUeQGjaT7lCmtaU76DTLdbFCNgjBoARTtwGHXvQIbPIBC2C2SMDAPWgLlWKC6wnmzOh3dAVPv6fhTGQZ4ruPKuKGIOaLDTLKsGXB5BrJo2jIz7uzKliq/uz1+lclSn16GsWUlzCxYZZBk49PpXLo2arU0La6VskHgda0oz5JWZM1dDpkD/AHSMSfdIHWumVJOVzNSdrFU7l4AGM8D6VzOLcrI0UrIcZFfJI3Y6A1HNpYu40DcCUwWAzx6VPQBYn6Y61JJa3EjjimMEjBTfjLKeDnpVLRaDGuwALKaliISzFjgEnimgQgUkbT35P1zQn3GOcYkPTBPFMCZlxbDaQcHJ4o6AVwCM8cEj8KFuCNO1TdCpB+YHmtaaVhoudq2KKhtXkKu9xMrD+FWGOv0oAkitjHKWaeWQYwFcgge9AFj3oAikY70+X+L+lK7Aza9A8oKAHo2KTRSZZBV1wQD7GsmjZO5QuLIqwaLG3vntXPUpJplxlqUmia3kZowC23p2Y1yqEvtLQ1utieO7E6lQXjde2eR+dONWcQ5V2JgokQmWVtwGSCVx/IV2RtJcxm3rZIqP5dsjySFXjSMvvZimCMcentWEouKOmEefRbk5jhiyS/OOFBPcVDulqS0yBXVWDDGM1i4yJsycTIUwCKOVhZkkEi7W+bnPpVKLsVYYzouQWAPXHpS5JCsxrSISRuBPrmhRYrDTKhON3TijkYwSYyRK7AIQdpUnP0NNxe4WZKsyDad3T0pcrCwTOm8gH5WGarlaY7Mfa3flSgM2VI61cVZ3Gkaa3MLLkPWq1GH2iM/xU7AL9oi/viiwB9oi/vUWAa00ZZMN0b0p2Az67jygoAKAJUepaLTLAORWRsiKeASqPmxis6lPnVrlJ2MxoFLhyo4ONy8nGelcnsZr0NUx7Ovy43KcEDIxz2rSh7ulxSjcHBntGtZQrxSfKdw+8p7VvOKlFphCbjPmW4k4kkCu2wFhnAYEfh+FcNRcsrFy3K4PBDYUgd+9RuLcWIM+FHXngUJX0AvWaqytuTK565q4JdS4bMrtzKzHcTjqRUvcgiBfyRcIY0RHJdpBxtAOTnPHOOauMdLdQWojAbj6E5zmoQluOeQwsSUdlb5fl7H/ADmhDIzcxxDaxOcZ4GabTbDqOEyz42k4HQnjFJpoBxlMcqq5x2IqlsK9mathLvLJ+NaU3qaIvVsMMdutACgY/GgAoAya7zygoAKAFHWgETo2Dis2jWLJetQaGc5dZz8g8sDO4HnOen+TXE6rg36mqEGx3U5dMHnGOeD7VUcRHsHKNaRY44ElkDOo2qzYAdsdh9M1r7SE3dFQVTlaSv3/AK9Tn9CvkvredobUrbb9sEi8gxphPqDx3qMZBJp3v3+eprVpyhpJWZq5DDOPwrjRkPj3Kw25zmmt9BmvaRbYTtViH6Z7V0QhZPzNL6JWIZ4zEDtBZ2J6dOlQ6VtiXsRxQfuFikUFWzu9KUuhKIDFC6yRiZXaKQZCsCVPBAP4VLhZe8Urx1Q6ZSkZjAyTzgd6V0lYgy0hBBXdKCMjluv+cU5OzGy5HaIeRJKWAyBuyD7Ur3QFi4CyJFIOPLO0qR14qm/dBlRLmSJ1KK2PXPSpWnUDoLK4+026vtIbowPY10xd0Wix3qhh2oAbuzwO/Q0WEZdd55YUAFABQBIDkVLLRKjAdTUNFxYyePJyO4rixMdmbwM9gysVA9q5bmhk6zpb39lbuLjY0Mxc++VZe3uRWkIe0SS9TuwOJ+rVJcyvdW/FMw/AekT6ZpM4a4eKSSUgwuMbwr4LAdeRgZ6VjDnjfn38z18+xVOvVjZXSW681e333OnMkattLkY7Y4FVY+ZHW05e+iO8eR/F1BXGTnpznit6UYteaBXubxvUWeG2hjZi+cnGAgA6/wAhWrepbdmkW8DHqKZRUmsI3ikCSSozBtrK/wB0kYyO1Gi1YGLbaDDYXjX8kivczsAc5UMxAHTPP3T+dFSq5R5eg9WtDQn/ANaScDNcctzJmddSJG2Qc8gHaM4P4U0m0DWhYsnH2iMMQCDjr14ogtUC3LV7GGsgQxxvHIrSqvdQ5bGWbeEZ/djj0rLmZJtaWoWBwox8+cVvSd0XEvFsdeK1KGMw2GR87QM4obsIFZZowVyOMg46Uk7gZlegeWFABQAUAOQ9qTHElj+97VDNI7j5vuZ9DWNSPNGxtF2ZTgUtIzPMr7cgqFHBzkfpivNVrvXY25JKzl1Brf7VEyEBRu6+orSlJxk2n8i7Ws2QtbC3Hlo7PwxycDGSDTqS53ohSk3oQoV3A8MO4PNYkGlBaxiWUpMGIxmPjKf/AK66IQW6NbKy0LvlxywFHXO5drfj1rZoVrrUfFxEg27QBgD0otYFsKqhFCqMAUPUErFaaT5jE8eAWHlnkg45OeOKl9iraXRTcfMcj+tcbMSnI8SP8wCg9c8ZppsZDvHnMqHLDmn0E11J2uJ/s5WRd6ZHQ8j6irs3HcLsfFbiYjDgMfuipUdbAtR1q8kU42jOeCopxbT0GtzQS5XzyGYfQ9q2UtbFX1K7383zbQo4+XI/Ws/asXMyxaST3EQcyKMHDALW0JcyuUncq16J5YUAFABQAA4NAEqMR2qGi0yZifJY45xWbRsmVNyoPQk+teZNe82kdF3ZJkzOkkJGSCOuO1F00O9zMuEZtq5yB3I5qWmiQs4SWBKeWC2SM01uNbmiti9vqcl3Bt2zxhZUPcqPlI/PFdPLaV0dHPeHK+hZV9tqJZF2SbN2zPQ46Zq15mctL2IotVgmiDASKSSuGjPYkdvpQTGXMrki3Ucjqqu2GBJO0rj86VxjnbgBDvXIySc45FNNMPQjnhLLkAcc4B6VjOF9hNGbdKDhTkYHUVh1IK6NuADYUjjG7Jp3sMsRL/oly5/vKo+vX+tVaybB7DrdhGjSNG2T91s44ojLTUFoSXDhPLZfv/eB9qc/dtYGLHDFcOQRiYckgnBOfStIy5tCr3JFhRrUBYiXRtrDcfzzSa5lsG5NbWqAK/mEn0VuP0pwglqCRWr1DzAoAKACgAoAlTtUstFgAFcY4IrJmyM9wr+XmPdhhjJ6e9edKpJt3ZulYWZmQAg/IxwfQH3rOb0TCTtqUpmUK4YmQY4x1/Ci9wuW7KIFFVCWIH8R5FNJyY9zRim2AqxTj0PeumHNsy0S7mYcRls9c8CrGJDCYU2oqIv90UBYo6hO2fJUjHfHf2rmnaK5UTJkSCWGByXADA5BHSnCXKCLEF1x+8YbSCeB0/xq0+UNihOwlk3AEDoK55O7uQ2Vdvlzj/aGeg6/WmgJIp1ZZIN3KnJHvinIbJhu2IXX5P5/SlrbUCVgbho8fKz9j09Kt+9buG5djVYkUAK0jMV3jv71vBIoQEW92sR4WQZx71HwysGzFtojDNKONhPAHNVGNrgtCtXpHmBQAUAFABQBIg4FSyolhT1rNm0TNkQl4tq7jnPXGDjtXmS1kzoRPdJPIymOKRAhO7GOf1rdxsjTQrTQI7A5dSDngjPHb8a527PQgv28UUiFzHlugyOK1pNtFRJnSMXcW0KrD0HUYrdbA9y0zBVySAB3NS3Yoqz3iIvyncx6EVEqiS0JbKMfyrLKdrSAZVc5Puayir3Yh0LpcJvlXY6Z2jP1FOLjbUaZSlkLS/LgYGB/KpbtoSynJOY5Cryyc9Aq57Zo07E2ZIuHiDIWKHsSd3FLqNaEiKHxKAASOCeD+NUt7Idy67faUhK4OFxtB9OaGnKw2XYYQlqrSDBUHoOQa1StHUroU1821ZiGVkRuOc5z1+nNSnyR0I1GtdySTKXOMA9KhSbd2FxhnmbCbzjNLmb0Anr2TzgoAKBBQMKAJYqmRcSY8Rse+Kyk7I1iirGCt8jFU2qD8xHIrzYO0jqWjJJkzCzmVt5bkIxA9hW9STih30MxJQs67jICAec5B7da5W76kG3bAlEZGyv866Ka0NFsLICJvMAy2MDmtL6WQFGV2Z8SzDaOTg5xnpWDV92SV7osrmONjsAB3e/piplZCZLp6xrcOJF3Fl4Y9vaqpvWzHEfPZIjFhLhccU3TXcfKQJFiMOykKPlzjH41DXUVipc2Stcs2cFeM7QeB9am9tBBDH5aqExtGecYyaAJI1b5uwjOchsn6+1Wk7cyCxfjeO3k8xItyMRtIPT1FaX6orzLqShoRKAW44X3qk+ozNmWRUYsuN/3s+uc1lZ9epNmQKgc5JI9MH2pWsIQpgZ3ng9DSv2QXLleyecFACHpTELSGIWApiJYPmPFRM0gTyHbE2PSueo/dZutypbEtd4+fA45Awa8+HxI3Qk8v+tiYYIbOKus3cVyhCwfc244yBg9jWQG9a7RaLhwB3NdUPhNFsV3iQyAls4OR81Z8rT0FYbPC0cYwq7QMdM8US5luDKp9Ai5I65PFRfyJLdpCHhAlRcA5Bxya0pxutSkiaWEFQxAdAD17fSteVbFBeL/AKGVUdOePapqL3RPYwZr+OOVgwJJGSBj9a5rN6kFQRPLkqN2c4ORx+tWgNy2DRwpKHDsAQwwOV960Xw6FIcIooZJJVf93JwcH7voaFp6BsPgtZJVc+YVbdg+h/Cmk2MJrIqMAM5B5OetQ0xO5V4V2BBHPNQ/MRXurdJJEdY1Ld8kjinfQRZDkCvbseZceHyPU1Nhi7sigBT0oAhJzViLVvwoxWUzSBPIf3XNctZ2gzohqynAGxuACknoGzXnehsR3uHUOxHyc0+Z7A9SCD5lGZA45O4dPahrUC4h4CgBwR0IyKuLa2KRo/Z4XjXMS9BwR0ro8yxJ4TL8vRR0xUTi2xNESWZEinIMYycHrSULMViwqYHyHAHGMVoUI5BXaAcZH480wEuXKxbgjNnj5RnFJgYclrn55EkRsAHDD/GsHDl6kWEECGMI6hgMdTU3YiSG2MD+ZHExyM5Gapcw9S79hM1uABhZBtcrwcccj0NaqPUqxoxoIolTcTtAGT1NWMpS6mkWcJvJOAVYYzj60PyFcrSTJNcqwAJZcsO1YOzZLZXcHt34rIQte+eYOHPAHNIBwy3GOlLYY7JzgikBEwINUhFi2ORj3rOZpAfdcKOVzjC7uma4MRLodcF1I7fZGwGMBVwFH9K5ItX1NEQy8liBj6nip6iJLa3B25BX5eg71aWo0TIIllkWUbQey/X2rSDSeo1oStbDI8qIlDg5Ln15/QmtywaGWQndGo4xw5HY+n1oAsxW8cXCgkjPU56//qoAcpyOOg6UANZSFznPIz+dABGxIJXJweRSTuIr3QEhK+S2egbtTcLoTZJDHHt+WJc989QaSikNEwjHp+FMY4DaOOKAI9hMjN5jbcYIOMD6UCIZEjkUnapA5X5RxWbbdwMqSIrKSOlY9CLEot2aISDO3GcZ5qoxbVwsR17Z5goOKQEoFSMX+KgAb7vNCALbgmlMqA69+XBwDxnkV5uJjqmdcHoUlXZICrHBPIzwa507ou1mWxFlSSxOO1HLaNyrDgCsTMjYbdgHGeKcEnqHQrzXDpe+SwDcdRx1q5QtqJuzsXVvZEs3kIBKEAfyq6cm9y0xWvnDcIvBkBz/ALPStChJLqR4CRhSfLHH+1/+uk1cQ8XJS5aIKNqyLGOexXNMY1rx2WIbVG91U49y3+AoAuqCBknJzSSsBJTAQj5sg4OKAIzKQDx0OKdhXHDcy7sgfhSArT75AESQx7ZAMgA5H41O7Ajk3BFCuQVyM+v1FTF2RLKckhYjI6jdWT7AaVt/x7RD1Aren8JS2P/Z' width='200' height='133' class=\"itemThumbnail\">\n",
       "                       </a>\n",
       "                    </div>\n",
       "\n",
       "                    <div class=\"item_right\"     style=\"float: none; width: auto; overflow: hidden;\">\n",
       "                        <a href='https://geosaurus.maps.arcgis.com/home/item.html?id=00a7110d95aa49d6a72f725744143c9b' target='_blank'><b>Nursing_home_locations</b>\n",
       "                        </a>\n",
       "                        <br/>Presents the locations of Nursing Homes for Department of Social and Health Services, Wasington State.<img src='https://geosaurus.maps.arcgis.com/home/js/jsapi/esri/css/images/item_type_icons/featureshosted16.png' style=\"vertical-align:middle;\">Feature Layer Collection by arcgis_python\n",
       "                        <br/>Last Modified: February 20, 2019\n",
       "                        <br/>0 comments, 0 views\n",
       "                    </div>\n",
       "                </div>\n",
       "                "
      ],
      "text/plain": [
       "<Item title:\"Nursing_home_locations\" type:Feature Layer Collection owner:arcgis_python>"
      ]
     },
     "metadata": {},
     "output_type": "display_data"
    }
   ],
   "source": [
    "# Loop through each file and publish it as a service\n",
    "for current_sd_file in sd_file_list:\n",
    "    item = gis.content.add({}, data_dir + current_sd_file)   # .sd file is uploaded and a .sd file item is created\n",
    "    if \"BuildCache\" not in current_sd_file:\n",
    "        published_item = item.publish()                      # .sd file item is published and a web layer item is created\n",
    "    else:\n",
    "        published_item = item.publish(build_initial_cache=True)  # publish as hosted tile layer with \"build cache\" enabled\n",
    "    display(published_item)"
   ]
  },
  {
   "cell_type": "markdown",
   "metadata": {},
   "source": [
    "In the example shown above, one .sd file produced a web feature layer and another produced a web tile layer"
   ]
  },
  {
   "cell_type": "markdown",
   "metadata": {},
   "source": [
    "# Publish a feature service from a shapefile and update the item information\n",
    "\n",
    "To publish a shapefile, we first add the zipped shapefile to the Portal as an item, then call publish() method on the item to create a web layer. Often times, your shape files or service definitions may not contain the metadata you want to show on the portal item. This sample demonstrates how you can update those properties after publishing a web layer."
   ]
  },
  {
   "cell_type": "code",
   "execution_count": 6,
   "metadata": {},
   "outputs": [],
   "source": [
    "data = \"data/power_pedestals_2012.zip\"\n",
    "shpfile = gis.content.add({}, data)"
   ]
  },
  {
   "cell_type": "code",
   "execution_count": 7,
   "metadata": {},
   "outputs": [
    {
     "data": {
      "text/html": [
       "<div class=\"item_container\" style=\"height: auto; overflow: hidden; border: 1px solid #cfcfcf; border-radius: 2px; background: #f6fafa; line-height: 1.21429em; padding: 10px;\">\n",
       "                    <div class=\"item_left\" style=\"width: 210px; float: left;\">\n",
       "                       <a href='https://geosaurus.maps.arcgis.com/home/item.html?id=86ea032649a94acd84a79eab60308e32' target='_blank'>\n",
       "                        <img src='http://static.arcgis.com/images/desktopapp.png' class=\"itemThumbnail\">\n",
       "                       </a>\n",
       "                    </div>\n",
       "\n",
       "                    <div class=\"item_right\"     style=\"float: none; width: auto; overflow: hidden;\">\n",
       "                        <a href='https://geosaurus.maps.arcgis.com/home/item.html?id=86ea032649a94acd84a79eab60308e32' target='_blank'><b>power_pedestals_2012</b>\n",
       "                        </a>\n",
       "                        <br/><img src='https://geosaurus.maps.arcgis.com/home/js/jsapi/esri/css/images/item_type_icons/datafiles16.png' style=\"vertical-align:middle;\">Shapefile by arcgis_python\n",
       "                        <br/>Last Modified: February 20, 2019\n",
       "                        <br/>0 comments, 0 views\n",
       "                    </div>\n",
       "                </div>\n",
       "                "
      ],
      "text/plain": [
       "<Item title:\"power_pedestals_2012\" type:Shapefile owner:arcgis_python>"
      ]
     },
     "execution_count": 7,
     "metadata": {},
     "output_type": "execute_result"
    }
   ],
   "source": [
    "shpfile"
   ]
  },
  {
   "cell_type": "code",
   "execution_count": 8,
   "metadata": {},
   "outputs": [],
   "source": [
    "published_service = shpfile.publish()"
   ]
  },
  {
   "cell_type": "code",
   "execution_count": 9,
   "metadata": {},
   "outputs": [
    {
     "data": {
      "text/html": [
       "<div class=\"item_container\" style=\"height: auto; overflow: hidden; border: 1px solid #cfcfcf; border-radius: 2px; background: #f6fafa; line-height: 1.21429em; padding: 10px;\">\n",
       "                    <div class=\"item_left\" style=\"width: 210px; float: left;\">\n",
       "                       <a href='https://geosaurus.maps.arcgis.com/home/item.html?id=f8f12050217146c796a2c08ad86db7fb' target='_blank'>\n",
       "                        <img src='http://static.arcgis.com/images/desktopapp.png' class=\"itemThumbnail\">\n",
       "                       </a>\n",
       "                    </div>\n",
       "\n",
       "                    <div class=\"item_right\"     style=\"float: none; width: auto; overflow: hidden;\">\n",
       "                        <a href='https://geosaurus.maps.arcgis.com/home/item.html?id=f8f12050217146c796a2c08ad86db7fb' target='_blank'><b>power_pedestals_2012</b>\n",
       "                        </a>\n",
       "                        <br/><img src='https://geosaurus.maps.arcgis.com/home/js/jsapi/esri/css/images/item_type_icons/featureshosted16.png' style=\"vertical-align:middle;\">Feature Layer Collection by arcgis_python\n",
       "                        <br/>Last Modified: February 20, 2019\n",
       "                        <br/>0 comments, 0 views\n",
       "                    </div>\n",
       "                </div>\n",
       "                "
      ],
      "text/plain": [
       "<Item title:\"power_pedestals_2012\" type:Feature Layer Collection owner:arcgis_python>"
      ]
     },
     "metadata": {},
     "output_type": "display_data"
    }
   ],
   "source": [
    "display(published_service)"
   ]
  },
  {
   "cell_type": "markdown",
   "metadata": {},
   "source": [
    "The web layer item has minimal information and a default thumbnail.\n",
    "\n",
    "### Update the layer item's metadata\n",
    "To update the metadata and set the thumbnail, use the update() method on the web layer's item obtained during publishing."
   ]
  },
  {
   "cell_type": "code",
   "execution_count": 10,
   "metadata": {},
   "outputs": [],
   "source": [
    "thumbnail_path = \"data/power_pedestals_thumbnail.PNG\"\n",
    "item_properties = {\"snippet\":\"\"\"This dataset was collected from Utah DOT open data portal.\n",
    "                            Source URL: <a href=\"http://udot.uplan.opendata.arcgis.com/\n",
    "                            datasets/a627bb128ac44767832402f7f9bde909_10\">http://udot.uplan.opendata.arcgis.com/\n",
    "                            datasets/a627bb128ac44767832402f7f9bde909_10</a>\"\"\",\n",
    "                   \"title\":\"Locations of power pedestals collected in 2012\",\n",
    "                   \"tags\":\"opendata\"}"
   ]
  },
  {
   "cell_type": "code",
   "execution_count": 11,
   "metadata": {},
   "outputs": [
    {
     "data": {
      "text/html": [
       "<div class=\"item_container\" style=\"height: auto; overflow: hidden; border: 1px solid #cfcfcf; border-radius: 2px; background: #f6fafa; line-height: 1.21429em; padding: 10px;\">\n",
       "                    <div class=\"item_left\" style=\"width: 210px; float: left;\">\n",
       "                       <a href='https://geosaurus.maps.arcgis.com/home/item.html?id=f8f12050217146c796a2c08ad86db7fb' target='_blank'>\n",
       "                        <img src='data:image/png;base64,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' width='200' height='133' class=\"itemThumbnail\">\n",
       "                       </a>\n",
       "                    </div>\n",
       "\n",
       "                    <div class=\"item_right\"     style=\"float: none; width: auto; overflow: hidden;\">\n",
       "                        <a href='https://geosaurus.maps.arcgis.com/home/item.html?id=f8f12050217146c796a2c08ad86db7fb' target='_blank'><b>Locations of power pedestals collected in 2012</b>\n",
       "                        </a>\n",
       "                        <br/>This dataset was collected from Utah DOT open data portal.\n",
       "                            Source URL: <a href='http://udot.uplan.opendata.arcgis.com/\n",
       "                            datasets/a627bb128ac44767832402f7f9bde909_10'>http://udot.uplan.opendata.arcgis.com/\n",
       "                            datasets/a627bb128ac44767832402f7f9bde909_10</a><img src='https://geosaurus.maps.arcgis.com/home/js/jsapi/esri/css/images/item_type_icons/featureshosted16.png' style=\"vertical-align:middle;\">Feature Layer Collection by arcgis_python\n",
       "                        <br/>Last Modified: February 20, 2019\n",
       "                        <br/>0 comments, 0 views\n",
       "                    </div>\n",
       "                </div>\n",
       "                "
      ],
      "text/plain": [
       "<Item title:\"Locations of power pedestals collected in 2012\" type:Feature Layer Collection owner:arcgis_python>"
      ]
     },
     "metadata": {},
     "output_type": "display_data"
    }
   ],
   "source": [
    "published_service.update(item_properties, thumbnail=thumbnail_path)\n",
    "display(published_service)"
   ]
  },
  {
   "cell_type": "markdown",
   "metadata": {},
   "source": [
    "# Publish a CSV file and move it into a folder\n",
    "\n",
    "To publish a CSV file, we first add the .csv file to the Portal, and then call the publish() method to publish it as a layer. Once published, we create a destination folder on the server and then move the published items into that folder"
   ]
  },
  {
   "cell_type": "code",
   "execution_count": 12,
   "metadata": {},
   "outputs": [],
   "source": [
    "csv_file = 'data/Chennai_precipitation.csv'\n",
    "csv_item = gis.content.add({}, csv_file)"
   ]
  },
  {
   "cell_type": "code",
   "execution_count": 13,
   "metadata": {},
   "outputs": [
    {
     "data": {
      "text/html": [
       "<div class=\"item_container\" style=\"height: auto; overflow: hidden; border: 1px solid #cfcfcf; border-radius: 2px; background: #f6fafa; line-height: 1.21429em; padding: 10px;\">\n",
       "                    <div class=\"item_left\" style=\"width: 210px; float: left;\">\n",
       "                       <a href='https://geosaurus.maps.arcgis.com/home/item.html?id=00fff058c8c14454b8636cfcbb631f57' target='_blank'>\n",
       "                        <img src='http://static.arcgis.com/images/desktopapp.png' class=\"itemThumbnail\">\n",
       "                       </a>\n",
       "                    </div>\n",
       "\n",
       "                    <div class=\"item_right\"     style=\"float: none; width: auto; overflow: hidden;\">\n",
       "                        <a href='https://geosaurus.maps.arcgis.com/home/item.html?id=00fff058c8c14454b8636cfcbb631f57' target='_blank'><b>Chennai_precipitation</b>\n",
       "                        </a>\n",
       "                        <br/><img src='https://geosaurus.maps.arcgis.com/home/js/jsapi/esri/css/images/item_type_icons/layers16.png' style=\"vertical-align:middle;\">CSV by arcgis_python\n",
       "                        <br/>Last Modified: February 20, 2019\n",
       "                        <br/>0 comments, 0 views\n",
       "                    </div>\n",
       "                </div>\n",
       "                "
      ],
      "text/plain": [
       "<Item title:\"Chennai_precipitation\" type:CSV owner:arcgis_python>"
      ]
     },
     "metadata": {},
     "output_type": "display_data"
    }
   ],
   "source": [
    "display(csv_item)"
   ]
  },
  {
   "cell_type": "markdown",
   "metadata": {},
   "source": [
    "The csv file used in this sample has a column titled `LOCATION` containing place names in text. During the publishing process we specify this column as an `address_fields` parameter. The server geocodes these locations to create point features for the web layer."
   ]
  },
  {
   "cell_type": "code",
   "execution_count": 14,
   "metadata": {},
   "outputs": [],
   "source": [
    "csv_lyr = csv_item.publish(None, {\"Address\":\"LOCATION\"})"
   ]
  },
  {
   "cell_type": "code",
   "execution_count": 15,
   "metadata": {},
   "outputs": [
    {
     "data": {
      "text/html": [
       "<div class=\"item_container\" style=\"height: auto; overflow: hidden; border: 1px solid #cfcfcf; border-radius: 2px; background: #f6fafa; line-height: 1.21429em; padding: 10px;\">\n",
       "                    <div class=\"item_left\" style=\"width: 210px; float: left;\">\n",
       "                       <a href='https://geosaurus.maps.arcgis.com/home/item.html?id=a6c787fa23674b90b060141b8f3cae13' target='_blank'>\n",
       "                        <img src='http://static.arcgis.com/images/desktopapp.png' class=\"itemThumbnail\">\n",
       "                       </a>\n",
       "                    </div>\n",
       "\n",
       "                    <div class=\"item_right\"     style=\"float: none; width: auto; overflow: hidden;\">\n",
       "                        <a href='https://geosaurus.maps.arcgis.com/home/item.html?id=a6c787fa23674b90b060141b8f3cae13' target='_blank'><b>Chennai_precipitation</b>\n",
       "                        </a>\n",
       "                        <br/><img src='https://geosaurus.maps.arcgis.com/home/js/jsapi/esri/css/images/item_type_icons/featureshosted16.png' style=\"vertical-align:middle;\">Feature Layer Collection by arcgis_python\n",
       "                        <br/>Last Modified: February 20, 2019\n",
       "                        <br/>0 comments, 0 views\n",
       "                    </div>\n",
       "                </div>\n",
       "                "
      ],
      "text/plain": [
       "<Item title:\"Chennai_precipitation\" type:Feature Layer Collection owner:arcgis_python>"
      ]
     },
     "metadata": {},
     "output_type": "display_data"
    }
   ],
   "source": [
    "display(csv_lyr)"
   ]
  },
  {
   "cell_type": "markdown",
   "metadata": {
    "collapsed": true
   },
   "source": [
    "### Create a new folder for the items\n",
    "The `create_folder()` from `GIS.content` can be used to create a new folder. Once created, the `move()` of the `Item` can be used to move the items into the folder."
   ]
  },
  {
   "cell_type": "code",
   "execution_count": 16,
   "metadata": {},
   "outputs": [
    {
     "name": "stdout",
     "output_type": "stream",
     "text": [
      "{'username': 'arcgis_python', 'id': 'ab08416b5850473e9439c3bf5541d07f', 'title': 'Rainfall Data'}\n"
     ]
    }
   ],
   "source": [
    "# create a new folder called 'Rainfall Data'\n",
    "new_folder_details = gis.content.create_folder(my_folder_name)\n",
    "print(new_folder_details)"
   ]
  },
  {
   "cell_type": "code",
   "execution_count": 17,
   "metadata": {},
   "outputs": [
    {
     "data": {
      "text/plain": [
       "{'success': True,\n",
       " 'itemId': 'a6c787fa23674b90b060141b8f3cae13',\n",
       " 'owner': 'arcgis_python',\n",
       " 'folder': 'ab08416b5850473e9439c3bf5541d07f'}"
      ]
     },
     "execution_count": 17,
     "metadata": {},
     "output_type": "execute_result"
    }
   ],
   "source": [
    "# move both the csv_item and csv_lyr items into this new folder\n",
    "csv_item.move(new_folder_details)  # Here you could either pass name of the folder or the dictionary\n",
    "                                   # returned from create_folder() or folders property on a User object\n",
    "\n",
    "csv_lyr.move(new_folder_details)"
   ]
  },
  {
   "cell_type": "markdown",
   "metadata": {
    "collapsed": true
   },
   "source": [
    "Now that the items are moved, we can request for the item's `ownerFolder` property and ensure it matches the `id` of the folder created in the previous step"
   ]
  },
  {
   "cell_type": "code",
   "execution_count": 18,
   "metadata": {},
   "outputs": [
    {
     "name": "stdout",
     "output_type": "stream",
     "text": [
      "ab08416b5850473e9439c3bf5541d07f\n"
     ]
    }
   ],
   "source": [
    "print(csv_lyr.ownerFolder)"
   ]
  }
 ],
 "metadata": {
  "anaconda-cloud": {},
  "kernelspec": {
   "display_name": "Python 3",
   "language": "python",
   "name": "python3"
  },
  "language_info": {
   "codemirror_mode": {
    "name": "ipython",
    "version": 3
   },
   "file_extension": ".py",
   "mimetype": "text/x-python",
   "name": "python",
   "nbconvert_exporter": "python",
   "pygments_lexer": "ipython3",
   "version": "3.6.8"
  }
 },
 "nbformat": 4,
 "nbformat_minor": 1
}
