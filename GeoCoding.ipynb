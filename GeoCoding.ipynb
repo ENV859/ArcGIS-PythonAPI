{
 "cells": [
  {
   "cell_type": "code",
   "execution_count": 6,
   "id": "6baae003",
   "metadata": {},
   "outputs": [],
   "source": [
    "from arcgis.gis import GIS\n",
    "from arcgis.geocoding import geocode, batch_geocode\n",
    "import pandas as pd\n",
    "\n",
    "gis = GIS()"
   ]
  },
  {
   "cell_type": "code",
   "execution_count": 13,
   "id": "b0835afc",
   "metadata": {},
   "outputs": [],
   "source": [
    "address = '9 Circuit Dr., Durham, NC 27708'"
   ]
  },
  {
   "cell_type": "code",
   "execution_count": 14,
   "id": "bd107b75",
   "metadata": {},
   "outputs": [],
   "source": [
    "the_loc = geocode(address)"
   ]
  },
  {
   "cell_type": "code",
   "execution_count": 15,
   "id": "8e28a3db",
   "metadata": {},
   "outputs": [
    {
     "data": {
      "text/html": [
       "<div>\n",
       "<style scoped>\n",
       "    .dataframe tbody tr th:only-of-type {\n",
       "        vertical-align: middle;\n",
       "    }\n",
       "\n",
       "    .dataframe tbody tr th {\n",
       "        vertical-align: top;\n",
       "    }\n",
       "\n",
       "    .dataframe thead th {\n",
       "        text-align: right;\n",
       "    }\n",
       "</style>\n",
       "<table border=\"1\" class=\"dataframe\">\n",
       "  <thead>\n",
       "    <tr style=\"text-align: right;\">\n",
       "      <th></th>\n",
       "      <th>address</th>\n",
       "      <th>location</th>\n",
       "      <th>score</th>\n",
       "      <th>attributes</th>\n",
       "      <th>extent</th>\n",
       "    </tr>\n",
       "  </thead>\n",
       "  <tbody>\n",
       "    <tr>\n",
       "      <th>0</th>\n",
       "      <td>9 Circuit Drive, Durham, North Carolina, 27710</td>\n",
       "      <td>{'x': -78.942366474747, 'y': 36.005438145253}</td>\n",
       "      <td>99.51</td>\n",
       "      <td>{'Loc_name': 'World', 'Status': 'M', 'Score': ...</td>\n",
       "      <td>{'xmin': -78.943289361238, 'ymin': 36.00421476...</td>\n",
       "    </tr>\n",
       "  </tbody>\n",
       "</table>\n",
       "</div>"
      ],
      "text/plain": [
       "                                          address  \\\n",
       "0  9 Circuit Drive, Durham, North Carolina, 27710   \n",
       "\n",
       "                                        location  score  \\\n",
       "0  {'x': -78.942366474747, 'y': 36.005438145253}  99.51   \n",
       "\n",
       "                                          attributes  \\\n",
       "0  {'Loc_name': 'World', 'Status': 'M', 'Score': ...   \n",
       "\n",
       "                                              extent  \n",
       "0  {'xmin': -78.943289361238, 'ymin': 36.00421476...  "
      ]
     },
     "execution_count": 15,
     "metadata": {},
     "output_type": "execute_result"
    }
   ],
   "source": [
    "pd.DataFrame(the_loc)"
   ]
  },
  {
   "cell_type": "code",
   "execution_count": 5,
   "id": "84dfdcd2",
   "metadata": {},
   "outputs": [
    {
     "data": {
      "text/plain": [
       "{'x': -78.942366474747, 'y': 36.005438145253}"
      ]
     },
     "execution_count": 5,
     "metadata": {},
     "output_type": "execute_result"
    }
   ],
   "source": [
    "the_loc[0]['location']"
   ]
  }
 ],
 "metadata": {
  "kernelspec": {
   "display_name": "Python 3 (ipykernel)",
   "language": "python",
   "name": "python3"
  },
  "language_info": {
   "codemirror_mode": {
    "name": "ipython",
    "version": 3
   },
   "file_extension": ".py",
   "mimetype": "text/x-python",
   "name": "python",
   "nbconvert_exporter": "python",
   "pygments_lexer": "ipython3",
   "version": "3.11.8"
  }
 },
 "nbformat": 4,
 "nbformat_minor": 5
}
