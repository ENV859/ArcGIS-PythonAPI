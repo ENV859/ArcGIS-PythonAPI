{
 "cells": [
  {
   "cell_type": "markdown",
   "metadata": {
    "slideshow": {
     "slide_type": "slide"
    }
   },
   "source": [
    "# GeoEnrichment"
   ]
  },
  {
   "cell_type": "markdown",
   "metadata": {
    "slideshow": {
     "slide_type": "-"
    }
   },
   "source": [
    "GeoEnrichment provides the ability to \n",
    "* get facts about a location or area. \n",
    "* information about the people, places, and businesses \n",
    " * in a specific area or \n",
    " * within a certain distance or drive time from a location.\n",
    "* large collection of data sets including population, income, housing, consumer behavior, and the natural environment.\n",
    "* Site analysis is a popular application"
   ]
  },
  {
   "cell_type": "code",
   "execution_count": 1,
   "metadata": {
    "collapsed": true,
    "slideshow": {
     "slide_type": "skip"
    }
   },
   "outputs": [],
   "source": [
    "from arcgis.gis import GIS\n",
    "from arcgis.geoenrichment import *\n",
    "\n",
    "gis = GIS('https://www.arcgis.com', 'arcgis_python', 'P@ssword123')"
   ]
  },
  {
   "cell_type": "markdown",
   "metadata": {
    "slideshow": {
     "slide_type": "subslide"
    }
   },
   "source": [
    "## GeoEnrichment coverage"
   ]
  },
  {
   "cell_type": "code",
   "execution_count": 2,
   "metadata": {
    "slideshow": {
     "slide_type": "fragment"
    }
   },
   "outputs": [
    {
     "name": "stdout",
     "output_type": "stream",
     "text": [
      "Number of countries for which GeoEnrichment data is available: 137\n"
     ]
    },
    {
     "data": {
      "text/plain": [
       "[<Country name:Albania>,\n",
       " <Country name:Algeria>,\n",
       " <Country name:Andorra>,\n",
       " <Country name:Angola>,\n",
       " <Country name:Argentina>,\n",
       " <Country name:Armenia>,\n",
       " <Country name:Aruba>,\n",
       " <Country name:Australia>,\n",
       " <Country name:Austria>,\n",
       " <Country name:Azerbaijan>]"
      ]
     },
     "execution_count": 2,
     "metadata": {},
     "output_type": "execute_result"
    }
   ],
   "source": [
    "countries = get_countries()\n",
    "print(\"Number of countries for which GeoEnrichment data is available: \" + str(len(countries)))\n",
    "\n",
    "#print a few countries for a sample\n",
    "countries[0:10]"
   ]
  },
  {
   "cell_type": "markdown",
   "metadata": {
    "slideshow": {
     "slide_type": "subslide"
    }
   },
   "source": [
    "### Filtering countries by properties"
   ]
  },
  {
   "cell_type": "code",
   "execution_count": 3,
   "metadata": {
    "slideshow": {
     "slide_type": "fragment"
    }
   },
   "outputs": [
    {
     "data": {
      "text/plain": [
       "['Australia',\n",
       " 'French Polynesia',\n",
       " 'Indonesia',\n",
       " 'Malaysia',\n",
       " 'New Caledonia',\n",
       " 'New Zealand',\n",
       " 'Philippines']"
      ]
     },
     "execution_count": 3,
     "metadata": {},
     "output_type": "execute_result"
    }
   ],
   "source": [
    "[c.properties.name for c in countries if c.properties.continent == 'Australia']"
   ]
  },
  {
   "cell_type": "markdown",
   "metadata": {
    "slideshow": {
     "slide_type": "subslide"
    }
   },
   "source": [
    "## Discovering information for a country\n",
    "* Data collections, \n",
    "* Sub-geographies and \n",
    "* Available reports for a country"
   ]
  },
  {
   "cell_type": "code",
   "execution_count": 5,
   "metadata": {
    "slideshow": {
     "slide_type": "fragment"
    }
   },
   "outputs": [],
   "source": [
    "usa = Country.get('US')"
   ]
  },
  {
   "cell_type": "markdown",
   "metadata": {
    "slideshow": {
     "slide_type": "skip"
    }
   },
   "source": [
    "Commonly used properties for the country are accessible using `Country.properties`."
   ]
  },
  {
   "cell_type": "code",
   "execution_count": 6,
   "metadata": {
    "slideshow": {
     "slide_type": "fragment"
    }
   },
   "outputs": [
    {
     "data": {
      "text/plain": [
       "'United States'"
      ]
     },
     "execution_count": 6,
     "metadata": {},
     "output_type": "execute_result"
    }
   ],
   "source": [
    "usa.properties.name"
   ]
  },
  {
   "cell_type": "markdown",
   "metadata": {
    "slideshow": {
     "slide_type": "subslide"
    }
   },
   "source": [
    "### Data collections and analysis variables"
   ]
  },
  {
   "cell_type": "code",
   "execution_count": 7,
   "metadata": {
    "scrolled": true,
    "slideshow": {
     "slide_type": "fragment"
    }
   },
   "outputs": [
    {
     "data": {
      "text/html": [
       "<div>\n",
       "<style scoped>\n",
       "    .dataframe tbody tr th:only-of-type {\n",
       "        vertical-align: middle;\n",
       "    }\n",
       "\n",
       "    .dataframe tbody tr th {\n",
       "        vertical-align: top;\n",
       "    }\n",
       "\n",
       "    .dataframe thead th {\n",
       "        text-align: right;\n",
       "    }\n",
       "</style>\n",
       "<table border=\"1\" class=\"dataframe\">\n",
       "  <thead>\n",
       "    <tr style=\"text-align: right;\">\n",
       "      <th></th>\n",
       "      <th>analysisVariable</th>\n",
       "      <th>alias</th>\n",
       "      <th>fieldCategory</th>\n",
       "      <th>vintage</th>\n",
       "    </tr>\n",
       "    <tr>\n",
       "      <th>dataCollectionID</th>\n",
       "      <th></th>\n",
       "      <th></th>\n",
       "      <th></th>\n",
       "      <th></th>\n",
       "    </tr>\n",
       "  </thead>\n",
       "  <tbody>\n",
       "    <tr>\n",
       "      <th>1yearincrements</th>\n",
       "      <td>1yearincrements.AGE0_CY</td>\n",
       "      <td>2017 Population Age &lt;1</td>\n",
       "      <td>2017 Age: 1 Year Increments (Esri)</td>\n",
       "      <td>2017</td>\n",
       "    </tr>\n",
       "    <tr>\n",
       "      <th>1yearincrements</th>\n",
       "      <td>1yearincrements.AGE1_CY</td>\n",
       "      <td>2017 Population Age 1</td>\n",
       "      <td>2017 Age: 1 Year Increments (Esri)</td>\n",
       "      <td>2017</td>\n",
       "    </tr>\n",
       "    <tr>\n",
       "      <th>1yearincrements</th>\n",
       "      <td>1yearincrements.AGE2_CY</td>\n",
       "      <td>2017 Population Age 2</td>\n",
       "      <td>2017 Age: 1 Year Increments (Esri)</td>\n",
       "      <td>2017</td>\n",
       "    </tr>\n",
       "    <tr>\n",
       "      <th>1yearincrements</th>\n",
       "      <td>1yearincrements.AGE3_CY</td>\n",
       "      <td>2017 Population Age 3</td>\n",
       "      <td>2017 Age: 1 Year Increments (Esri)</td>\n",
       "      <td>2017</td>\n",
       "    </tr>\n",
       "    <tr>\n",
       "      <th>1yearincrements</th>\n",
       "      <td>1yearincrements.AGE4_CY</td>\n",
       "      <td>2017 Population Age 4</td>\n",
       "      <td>2017 Age: 1 Year Increments (Esri)</td>\n",
       "      <td>2017</td>\n",
       "    </tr>\n",
       "  </tbody>\n",
       "</table>\n",
       "</div>"
      ],
      "text/plain": [
       "                         analysisVariable                   alias  \\\n",
       "dataCollectionID                                                    \n",
       "1yearincrements   1yearincrements.AGE0_CY  2017 Population Age <1   \n",
       "1yearincrements   1yearincrements.AGE1_CY   2017 Population Age 1   \n",
       "1yearincrements   1yearincrements.AGE2_CY   2017 Population Age 2   \n",
       "1yearincrements   1yearincrements.AGE3_CY   2017 Population Age 3   \n",
       "1yearincrements   1yearincrements.AGE4_CY   2017 Population Age 4   \n",
       "\n",
       "                                       fieldCategory vintage  \n",
       "dataCollectionID                                              \n",
       "1yearincrements   2017 Age: 1 Year Increments (Esri)    2017  \n",
       "1yearincrements   2017 Age: 1 Year Increments (Esri)    2017  \n",
       "1yearincrements   2017 Age: 1 Year Increments (Esri)    2017  \n",
       "1yearincrements   2017 Age: 1 Year Increments (Esri)    2017  \n",
       "1yearincrements   2017 Age: 1 Year Increments (Esri)    2017  "
      ]
     },
     "execution_count": 7,
     "metadata": {},
     "output_type": "execute_result"
    }
   ],
   "source": [
    "df = usa.data_collections\n",
    "\n",
    "# print a few rows of the DataFrame\n",
    "df.head()"
   ]
  },
  {
   "cell_type": "code",
   "execution_count": 8,
   "metadata": {
    "slideshow": {
     "slide_type": "-"
    }
   },
   "outputs": [
    {
     "data": {
      "text/plain": [
       "(14609, 4)"
      ]
     },
     "execution_count": 8,
     "metadata": {},
     "output_type": "execute_result"
    }
   ],
   "source": [
    "# call the shape property to get the total number of rows and columns\n",
    "df.shape"
   ]
  },
  {
   "cell_type": "code",
   "execution_count": 49,
   "metadata": {
    "scrolled": true,
    "slideshow": {
     "slide_type": "subslide"
    }
   },
   "outputs": [
    {
     "data": {
      "text/plain": [
       "141"
      ]
     },
     "execution_count": 49,
     "metadata": {},
     "output_type": "execute_result"
    }
   ],
   "source": [
    "# get all the unique data collections available\n",
    "len(df.index.unique())"
   ]
  },
  {
   "cell_type": "markdown",
   "metadata": {
    "slideshow": {
     "slide_type": "fragment"
    }
   },
   "source": [
    "Query the `Age` data collection and get all the unique `analysisVariable`s under that collection"
   ]
  },
  {
   "cell_type": "code",
   "execution_count": 10,
   "metadata": {
    "scrolled": true,
    "slideshow": {
     "slide_type": "-"
    }
   },
   "outputs": [
    {
     "data": {
      "text/plain": [
       "array(['Age.MALE0', 'Age.MALE5', 'Age.MALE10', 'Age.MALE15', 'Age.MALE20',\n",
       "       'Age.MALE25', 'Age.MALE30', 'Age.MALE35', 'Age.MALE40',\n",
       "       'Age.MALE45', 'Age.MALE50', 'Age.MALE55', 'Age.MALE60',\n",
       "       'Age.MALE65', 'Age.MALE70', 'Age.MALE75', 'Age.MALE80',\n",
       "       'Age.MALE85', 'Age.FEM0', 'Age.FEM5', 'Age.FEM10', 'Age.FEM15',\n",
       "       'Age.FEM20', 'Age.FEM25', 'Age.FEM30', 'Age.FEM35', 'Age.FEM40',\n",
       "       'Age.FEM45', 'Age.FEM50', 'Age.FEM55', 'Age.FEM60', 'Age.FEM65',\n",
       "       'Age.FEM70', 'Age.FEM75', 'Age.FEM80', 'Age.FEM85'], dtype=object)"
      ]
     },
     "execution_count": 10,
     "metadata": {},
     "output_type": "execute_result"
    }
   ],
   "source": [
    "df.loc['Age']['analysisVariable'].unique()"
   ]
  },
  {
   "cell_type": "code",
   "execution_count": 11,
   "metadata": {
    "slideshow": {
     "slide_type": "fragment"
    }
   },
   "outputs": [
    {
     "data": {
      "text/html": [
       "<div>\n",
       "<style scoped>\n",
       "    .dataframe tbody tr th:only-of-type {\n",
       "        vertical-align: middle;\n",
       "    }\n",
       "\n",
       "    .dataframe tbody tr th {\n",
       "        vertical-align: top;\n",
       "    }\n",
       "\n",
       "    .dataframe thead th {\n",
       "        text-align: right;\n",
       "    }\n",
       "</style>\n",
       "<table border=\"1\" class=\"dataframe\">\n",
       "  <thead>\n",
       "    <tr style=\"text-align: right;\">\n",
       "      <th></th>\n",
       "      <th>analysisVariable</th>\n",
       "      <th>alias</th>\n",
       "      <th>fieldCategory</th>\n",
       "      <th>vintage</th>\n",
       "    </tr>\n",
       "    <tr>\n",
       "      <th>dataCollectionID</th>\n",
       "      <th></th>\n",
       "      <th></th>\n",
       "      <th></th>\n",
       "      <th></th>\n",
       "    </tr>\n",
       "  </thead>\n",
       "  <tbody>\n",
       "    <tr>\n",
       "      <th>Age</th>\n",
       "      <td>Age.MALE0</td>\n",
       "      <td>2017 Males Age 0-4</td>\n",
       "      <td>2017 Age: 5 Year Increments (Esri)</td>\n",
       "      <td>2017</td>\n",
       "    </tr>\n",
       "    <tr>\n",
       "      <th>Age</th>\n",
       "      <td>Age.MALE5</td>\n",
       "      <td>2017 Males Age 5-9</td>\n",
       "      <td>2017 Age: 5 Year Increments (Esri)</td>\n",
       "      <td>2017</td>\n",
       "    </tr>\n",
       "    <tr>\n",
       "      <th>Age</th>\n",
       "      <td>Age.MALE10</td>\n",
       "      <td>2017 Males Age 10-14</td>\n",
       "      <td>2017 Age: 5 Year Increments (Esri)</td>\n",
       "      <td>2017</td>\n",
       "    </tr>\n",
       "    <tr>\n",
       "      <th>Age</th>\n",
       "      <td>Age.MALE15</td>\n",
       "      <td>2017 Males Age 15-19</td>\n",
       "      <td>2017 Age: 5 Year Increments (Esri)</td>\n",
       "      <td>2017</td>\n",
       "    </tr>\n",
       "    <tr>\n",
       "      <th>Age</th>\n",
       "      <td>Age.MALE20</td>\n",
       "      <td>2017 Males Age 20-24</td>\n",
       "      <td>2017 Age: 5 Year Increments (Esri)</td>\n",
       "      <td>2017</td>\n",
       "    </tr>\n",
       "  </tbody>\n",
       "</table>\n",
       "</div>"
      ],
      "text/plain": [
       "                 analysisVariable                 alias  \\\n",
       "dataCollectionID                                          \n",
       "Age                     Age.MALE0    2017 Males Age 0-4   \n",
       "Age                     Age.MALE5    2017 Males Age 5-9   \n",
       "Age                    Age.MALE10  2017 Males Age 10-14   \n",
       "Age                    Age.MALE15  2017 Males Age 15-19   \n",
       "Age                    Age.MALE20  2017 Males Age 20-24   \n",
       "\n",
       "                                       fieldCategory vintage  \n",
       "dataCollectionID                                              \n",
       "Age               2017 Age: 5 Year Increments (Esri)    2017  \n",
       "Age               2017 Age: 5 Year Increments (Esri)    2017  \n",
       "Age               2017 Age: 5 Year Increments (Esri)    2017  \n",
       "Age               2017 Age: 5 Year Increments (Esri)    2017  \n",
       "Age               2017 Age: 5 Year Increments (Esri)    2017  "
      ]
     },
     "execution_count": 11,
     "metadata": {},
     "output_type": "execute_result"
    }
   ],
   "source": [
    "# view a sample of the `Age` data collection\n",
    "df.loc['Age'].head()"
   ]
  },
  {
   "cell_type": "markdown",
   "metadata": {
    "slideshow": {
     "slide_type": "subslide"
    }
   },
   "source": [
    "### Enriching an address"
   ]
  },
  {
   "cell_type": "code",
   "execution_count": 23,
   "metadata": {
    "slideshow": {
     "slide_type": "-"
    }
   },
   "outputs": [
    {
     "data": {
      "text/html": [
       "<div>\n",
       "<style scoped>\n",
       "    .dataframe tbody tr th:only-of-type {\n",
       "        vertical-align: middle;\n",
       "    }\n",
       "\n",
       "    .dataframe tbody tr th {\n",
       "        vertical-align: top;\n",
       "    }\n",
       "\n",
       "    .dataframe thead th {\n",
       "        text-align: right;\n",
       "    }\n",
       "</style>\n",
       "<table border=\"1\" class=\"dataframe\">\n",
       "  <thead>\n",
       "    <tr style=\"text-align: right;\">\n",
       "      <th></th>\n",
       "      <th>FEM0</th>\n",
       "      <th>FEM10</th>\n",
       "      <th>FEM15</th>\n",
       "      <th>FEM20</th>\n",
       "      <th>FEM25</th>\n",
       "      <th>FEM30</th>\n",
       "      <th>FEM35</th>\n",
       "      <th>FEM40</th>\n",
       "      <th>FEM45</th>\n",
       "      <th>FEM5</th>\n",
       "      <th>...</th>\n",
       "      <th>OBJECTID</th>\n",
       "      <th>X</th>\n",
       "      <th>Y</th>\n",
       "      <th>aggregationMethod</th>\n",
       "      <th>areaType</th>\n",
       "      <th>bufferRadii</th>\n",
       "      <th>bufferUnits</th>\n",
       "      <th>bufferUnitsAlias</th>\n",
       "      <th>sourceCountry</th>\n",
       "      <th>SHAPE</th>\n",
       "    </tr>\n",
       "  </thead>\n",
       "  <tbody>\n",
       "    <tr>\n",
       "      <th>0</th>\n",
       "      <td>435</td>\n",
       "      <td>377</td>\n",
       "      <td>417</td>\n",
       "      <td>602</td>\n",
       "      <td>615</td>\n",
       "      <td>577</td>\n",
       "      <td>508</td>\n",
       "      <td>403</td>\n",
       "      <td>386</td>\n",
       "      <td>391</td>\n",
       "      <td>...</td>\n",
       "      <td>1</td>\n",
       "      <td>-117.19567</td>\n",
       "      <td>34.056488</td>\n",
       "      <td>BlockApportionment:US.BlockGroups</td>\n",
       "      <td>RingBuffer</td>\n",
       "      <td>1</td>\n",
       "      <td>esriMiles</td>\n",
       "      <td>Miles</td>\n",
       "      <td>US</td>\n",
       "      <td>{'spatialReference': {'latestWkid': 4326, 'wki...</td>\n",
       "    </tr>\n",
       "  </tbody>\n",
       "</table>\n",
       "<p>1 rows × 48 columns</p>\n",
       "</div>"
      ],
      "text/plain": [
       "   FEM0  FEM10  FEM15  FEM20  FEM25  FEM30  FEM35  FEM40  FEM45  FEM5  \\\n",
       "0   435    377    417    602    615    577    508    403    386   391   \n",
       "\n",
       "                         ...                          OBJECTID          X  \\\n",
       "0                        ...                                 1 -117.19567   \n",
       "\n",
       "           Y                  aggregationMethod    areaType  bufferRadii  \\\n",
       "0  34.056488  BlockApportionment:US.BlockGroups  RingBuffer            1   \n",
       "\n",
       "   bufferUnits  bufferUnitsAlias  sourceCountry  \\\n",
       "0    esriMiles             Miles             US   \n",
       "\n",
       "                                               SHAPE  \n",
       "0  {'spatialReference': {'latestWkid': 4326, 'wki...  \n",
       "\n",
       "[1 rows x 48 columns]"
      ]
     },
     "execution_count": 23,
     "metadata": {},
     "output_type": "execute_result"
    }
   ],
   "source": [
    "enrich(study_areas=[\"380 New York St Redlands CA 92373\"],  \n",
    "       data_collections=['Age'])"
   ]
  },
  {
   "cell_type": "markdown",
   "metadata": {
    "slideshow": {
     "slide_type": "subslide"
    }
   },
   "source": [
    "# Reports"
   ]
  },
  {
   "cell_type": "code",
   "execution_count": 12,
   "metadata": {
    "scrolled": true,
    "slideshow": {
     "slide_type": "fragment"
    }
   },
   "outputs": [
    {
     "data": {
      "text/html": [
       "<div>\n",
       "<style scoped>\n",
       "    .dataframe tbody tr th:only-of-type {\n",
       "        vertical-align: middle;\n",
       "    }\n",
       "\n",
       "    .dataframe tbody tr th {\n",
       "        vertical-align: top;\n",
       "    }\n",
       "\n",
       "    .dataframe thead th {\n",
       "        text-align: right;\n",
       "    }\n",
       "</style>\n",
       "<table border=\"1\" class=\"dataframe\">\n",
       "  <thead>\n",
       "    <tr style=\"text-align: right;\">\n",
       "      <th></th>\n",
       "      <th>id</th>\n",
       "      <th>title</th>\n",
       "      <th>categories</th>\n",
       "      <th>formats</th>\n",
       "    </tr>\n",
       "  </thead>\n",
       "  <tbody>\n",
       "    <tr>\n",
       "      <th>0</th>\n",
       "      <td>census2010_profile</td>\n",
       "      <td>2010 Census Profile</td>\n",
       "      <td>[Demographics]</td>\n",
       "      <td>[pdf, xlsx]</td>\n",
       "    </tr>\n",
       "    <tr>\n",
       "      <th>1</th>\n",
       "      <td>acs_housing</td>\n",
       "      <td>ACS Housing Summary</td>\n",
       "      <td>[Demographics]</td>\n",
       "      <td>[pdf, xlsx]</td>\n",
       "    </tr>\n",
       "    <tr>\n",
       "      <th>2</th>\n",
       "      <td>acs_population</td>\n",
       "      <td>ACS Population Summary</td>\n",
       "      <td>[Demographics]</td>\n",
       "      <td>[pdf, xlsx]</td>\n",
       "    </tr>\n",
       "    <tr>\n",
       "      <th>3</th>\n",
       "      <td>55plus</td>\n",
       "      <td>Age 50+ Profile</td>\n",
       "      <td>[Demographics]</td>\n",
       "      <td>[pdf, xlsx]</td>\n",
       "    </tr>\n",
       "    <tr>\n",
       "      <th>4</th>\n",
       "      <td>agesexrace</td>\n",
       "      <td>Age by Sex by Race Profile</td>\n",
       "      <td>[Demographics]</td>\n",
       "      <td>[pdf, xlsx]</td>\n",
       "    </tr>\n",
       "    <tr>\n",
       "      <th>5</th>\n",
       "      <td>agesex</td>\n",
       "      <td>Age by Sex Profile</td>\n",
       "      <td>[Demographics]</td>\n",
       "      <td>[pdf, xlsx]</td>\n",
       "    </tr>\n",
       "    <tr>\n",
       "      <th>6</th>\n",
       "      <td>cex_auto</td>\n",
       "      <td>Automotive Aftermarket Expenditures</td>\n",
       "      <td>[Consumer Spending]</td>\n",
       "      <td>[pdf, xlsx]</td>\n",
       "    </tr>\n",
       "    <tr>\n",
       "      <th>7</th>\n",
       "      <td>business_loc</td>\n",
       "      <td>Business Locator</td>\n",
       "      <td>[Business]</td>\n",
       "      <td>[pdf, xlsx]</td>\n",
       "    </tr>\n",
       "    <tr>\n",
       "      <th>8</th>\n",
       "      <td>business_summary</td>\n",
       "      <td>Business Summary</td>\n",
       "      <td>[Business]</td>\n",
       "      <td>[pdf, xlsx]</td>\n",
       "    </tr>\n",
       "    <tr>\n",
       "      <th>9</th>\n",
       "      <td>community_profile</td>\n",
       "      <td>Community Profile</td>\n",
       "      <td>[Demographics]</td>\n",
       "      <td>[pdf, xlsx]</td>\n",
       "    </tr>\n",
       "  </tbody>\n",
       "</table>\n",
       "</div>"
      ],
      "text/plain": [
       "                   id                                title  \\\n",
       "0  census2010_profile                  2010 Census Profile   \n",
       "1         acs_housing                  ACS Housing Summary   \n",
       "2      acs_population               ACS Population Summary   \n",
       "3              55plus                      Age 50+ Profile   \n",
       "4          agesexrace           Age by Sex by Race Profile   \n",
       "5              agesex                   Age by Sex Profile   \n",
       "6            cex_auto  Automotive Aftermarket Expenditures   \n",
       "7        business_loc                     Business Locator   \n",
       "8    business_summary                     Business Summary   \n",
       "9   community_profile                    Community Profile   \n",
       "\n",
       "            categories      formats  \n",
       "0       [Demographics]  [pdf, xlsx]  \n",
       "1       [Demographics]  [pdf, xlsx]  \n",
       "2       [Demographics]  [pdf, xlsx]  \n",
       "3       [Demographics]  [pdf, xlsx]  \n",
       "4       [Demographics]  [pdf, xlsx]  \n",
       "5       [Demographics]  [pdf, xlsx]  \n",
       "6  [Consumer Spending]  [pdf, xlsx]  \n",
       "7           [Business]  [pdf, xlsx]  \n",
       "8           [Business]  [pdf, xlsx]  \n",
       "9       [Demographics]  [pdf, xlsx]  "
      ]
     },
     "execution_count": 12,
     "metadata": {},
     "output_type": "execute_result"
    }
   ],
   "source": [
    "# print a sample of the reports available for USA\n",
    "usa.reports.head(10)"
   ]
  },
  {
   "cell_type": "code",
   "execution_count": 13,
   "metadata": {
    "slideshow": {
     "slide_type": "-"
    }
   },
   "outputs": [
    {
     "data": {
      "text/plain": [
       "(49, 4)"
      ]
     },
     "execution_count": 13,
     "metadata": {},
     "output_type": "execute_result"
    }
   ],
   "source": [
    "# total number of reports available\n",
    "usa.reports.shape"
   ]
  },
  {
   "cell_type": "markdown",
   "metadata": {
    "slideshow": {
     "slide_type": "subslide"
    }
   },
   "source": [
    "### Creating Reports"
   ]
  },
  {
   "cell_type": "code",
   "execution_count": 14,
   "metadata": {
    "slideshow": {
     "slide_type": "-"
    }
   },
   "outputs": [
    {
     "data": {
      "text/plain": [
       "'c:\\\\xc\\\\esri_tapestry_profile.pdf'"
      ]
     },
     "execution_count": 14,
     "metadata": {},
     "output_type": "execute_result"
    }
   ],
   "source": [
    "report = create_report(study_areas=[\"380 New York Street, Redlands, CA\"],\n",
    "                     report=\"tapestry_profileNEW\",\n",
    "                     export_format=\"PDF\", \n",
    "                     out_folder=r\"c:\\xc\", out_name=\"esri_tapestry_profile.pdf\")\n",
    "report"
   ]
  },
  {
   "cell_type": "markdown",
   "metadata": {
    "slideshow": {
     "slide_type": "subslide"
    }
   },
   "source": [
    "## Finding named statistical areas\n",
    "\n",
    "Each country has several named statistical areas in a hierarchy of geography levels (such as states, counties, zip codes, etc)."
   ]
  },
  {
   "cell_type": "code",
   "execution_count": 24,
   "metadata": {
    "collapsed": true,
    "slideshow": {
     "slide_type": "skip"
    }
   },
   "outputs": [],
   "source": [
    "%config IPCompleter.greedy=True"
   ]
  },
  {
   "cell_type": "code",
   "execution_count": 50,
   "metadata": {
    "slideshow": {
     "slide_type": "fragment"
    }
   },
   "outputs": [
    {
     "data": {
      "text/plain": [
       "<NamedArea name:\"San Bernardino County\" area_id=\"06071\", level=\"US.Counties\", country=\"United States\">"
      ]
     },
     "execution_count": 50,
     "metadata": {},
     "output_type": "execute_result"
    }
   ],
   "source": [
    "usa.subgeographies.states['California'].counties['San_Bernardino_County']"
   ]
  },
  {
   "cell_type": "code",
   "execution_count": 27,
   "metadata": {
    "slideshow": {
     "slide_type": "fragment"
    }
   },
   "outputs": [
    {
     "data": {
      "text/plain": [
       "<NamedArea name:\"060710001.03\" area_id=\"06071000103\", level=\"US.Tracts\", country=\"United States\">"
      ]
     },
     "execution_count": 27,
     "metadata": {},
     "output_type": "execute_result"
    }
   ],
   "source": [
    "usa.subgeographies.states['California'].counties['San_Bernardino_County'].tracts['060710001.03']"
   ]
  },
  {
   "cell_type": "code",
   "execution_count": 28,
   "metadata": {
    "slideshow": {
     "slide_type": "fragment"
    }
   },
   "outputs": [
    {
     "data": {
      "text/plain": [
       "<NamedArea name:\"Redlands\" area_id=\"92373\", level=\"US.ZIP5\", country=\"United States\">"
      ]
     },
     "execution_count": 28,
     "metadata": {},
     "output_type": "execute_result"
    }
   ],
   "source": [
    "usa.subgeographies.states['California'].zip5['92373']"
   ]
  },
  {
   "cell_type": "markdown",
   "metadata": {
    "slideshow": {
     "slide_type": "skip"
    }
   },
   "source": [
    "The named areas can also be drawn on a map, as they include a `geometry` property."
   ]
  },
  {
   "cell_type": "code",
   "execution_count": 29,
   "metadata": {
    "slideshow": {
     "slide_type": "subslide"
    }
   },
   "outputs": [
    {
     "data": {
      "application/vnd.jupyter.widget-view+json": {
       "model_id": "5035226652a74d3c9248f7dce81ef9c0",
       "version_major": 2,
       "version_minor": 0
      },
      "text/html": [
       "<p>Failed to display Jupyter Widget of type <code>MapView</code>.</p>\n",
       "<p>\n",
       "  If you're reading this message in Jupyter Notebook or JupyterLab, it may mean\n",
       "  that the widgets JavaScript is still loading. If this message persists, it\n",
       "  likely means that the widgets JavaScript library is either not installed or\n",
       "  not enabled. See the <a href=\"https://ipywidgets.readthedocs.io/en/stable/user_install.html\">Jupyter\n",
       "  Widgets Documentation</a> for setup instructions.\n",
       "</p>\n",
       "<p>\n",
       "  If you're reading this message in another notebook frontend (for example, a static\n",
       "  rendering on GitHub or <a href=\"https://nbviewer.jupyter.org/\">NBViewer</a>),\n",
       "  it may mean that your frontend doesn't currently support widgets.\n",
       "</p>\n"
      ],
      "text/plain": [
       "MapView(basemaps=['dark-gray', 'dark-gray-vector', 'gray', 'gray-vector', 'hybrid', 'national-geographic', 'oceans', 'osm', 'satellite', 'streets', 'streets-navigation-vector', 'streets-night-vector', 'streets-relief-vector', 'streets-vector', 'terrain', 'topo', 'topo-vector'], center=[34.05538000000007, -117.18258999999995], zoom=11)"
      ]
     },
     "metadata": {},
     "output_type": "display_data"
    }
   ],
   "source": [
    "m = gis.map('Redlands, CA', zoomlevel=11)\n",
    "m"
   ]
  },
  {
   "cell_type": "code",
   "execution_count": 30,
   "metadata": {
    "collapsed": true,
    "slideshow": {
     "slide_type": "-"
    }
   },
   "outputs": [],
   "source": [
    "m.draw(usa.subgeographies.states['California'].zip5['92373'].geometry)"
   ]
  },
  {
   "cell_type": "markdown",
   "metadata": {
    "slideshow": {
     "slide_type": "subslide"
    }
   },
   "source": [
    "# Different geography levels for different country"
   ]
  },
  {
   "cell_type": "code",
   "execution_count": 31,
   "metadata": {
    "collapsed": true,
    "slideshow": {
     "slide_type": "-"
    }
   },
   "outputs": [],
   "source": [
    "india = Country.get('India')"
   ]
  },
  {
   "cell_type": "code",
   "execution_count": 32,
   "metadata": {
    "slideshow": {
     "slide_type": "fragment"
    }
   },
   "outputs": [
    {
     "data": {
      "text/plain": [
       "<NamedArea name:\"Baraut\" area_id=\"09080001\", level=\"IN.Subdistricts\", country=\"India\">"
      ]
     },
     "execution_count": 32,
     "metadata": {},
     "output_type": "execute_result"
    }
   ],
   "source": [
    "india.subgeographies.states['Uttar_Pradesh'].districts['Baghpat'].subdistricts['Baraut']"
   ]
  },
  {
   "cell_type": "markdown",
   "metadata": {
    "slideshow": {
     "slide_type": "subslide"
    }
   },
   "source": [
    "### Searching for named areas within a country"
   ]
  },
  {
   "cell_type": "code",
   "execution_count": 33,
   "metadata": {
    "scrolled": true,
    "slideshow": {
     "slide_type": "fragment"
    }
   },
   "outputs": [
    {
     "name": "stdout",
     "output_type": "stream",
     "text": [
      "number of riversides in the US: 83\n"
     ]
    },
    {
     "data": {
      "text/plain": [
       "[<NamedArea name:\"Riverside\" area_id=\"147435\", level=\"Cities\", country=\"United States\">,\n",
       " <NamedArea name:\"Riverside\" area_id=\"147436\", level=\"Cities\", country=\"United States\">,\n",
       " <NamedArea name:\"Riverside\" area_id=\"147437\", level=\"Cities\", country=\"United States\">,\n",
       " <NamedArea name:\"Riverside\" area_id=\"147438\", level=\"Cities\", country=\"United States\">,\n",
       " <NamedArea name:\"Riverside\" area_id=\"147439\", level=\"Cities\", country=\"United States\">,\n",
       " <NamedArea name:\"Riverside\" area_id=\"147440\", level=\"Cities\", country=\"United States\">,\n",
       " <NamedArea name:\"Riverside\" area_id=\"147441\", level=\"Cities\", country=\"United States\">,\n",
       " <NamedArea name:\"Riverside\" area_id=\"147442\", level=\"Cities\", country=\"United States\">,\n",
       " <NamedArea name:\"Riverside\" area_id=\"147443\", level=\"Cities\", country=\"United States\">,\n",
       " <NamedArea name:\"Riverside\" area_id=\"147444\", level=\"Cities\", country=\"United States\">]"
      ]
     },
     "execution_count": 33,
     "metadata": {},
     "output_type": "execute_result"
    }
   ],
   "source": [
    "riversides_in_usa = usa.search('Riverside')\n",
    "print(\"number of riversides in the US: \" + str(len(riversides_in_usa)))\n",
    "\n",
    "# list a few of them\n",
    "riversides_in_usa[:10]"
   ]
  },
  {
   "cell_type": "markdown",
   "metadata": {},
   "source": [
    "For instance, you can make a map of all the riversides in the US"
   ]
  },
  {
   "cell_type": "code",
   "execution_count": 34,
   "metadata": {
    "slideshow": {
     "slide_type": "subslide"
    }
   },
   "outputs": [
    {
     "data": {
      "application/vnd.jupyter.widget-view+json": {
       "model_id": "465fda9eb7c44f7e9b01f642ae0c4526",
       "version_major": 2,
       "version_minor": 0
      },
      "text/html": [
       "<p>Failed to display Jupyter Widget of type <code>MapView</code>.</p>\n",
       "<p>\n",
       "  If you're reading this message in Jupyter Notebook or JupyterLab, it may mean\n",
       "  that the widgets JavaScript is still loading. If this message persists, it\n",
       "  likely means that the widgets JavaScript library is either not installed or\n",
       "  not enabled. See the <a href=\"https://ipywidgets.readthedocs.io/en/stable/user_install.html\">Jupyter\n",
       "  Widgets Documentation</a> for setup instructions.\n",
       "</p>\n",
       "<p>\n",
       "  If you're reading this message in another notebook frontend (for example, a static\n",
       "  rendering on GitHub or <a href=\"https://nbviewer.jupyter.org/\">NBViewer</a>),\n",
       "  it may mean that your frontend doesn't currently support widgets.\n",
       "</p>\n"
      ],
      "text/plain": [
       "MapView(basemaps=['dark-gray', 'dark-gray-vector', 'gray', 'gray-vector', 'hybrid', 'national-geographic', 'oceans', 'osm', 'satellite', 'streets', 'streets-navigation-vector', 'streets-night-vector', 'streets-relief-vector', 'streets-vector', 'terrain', 'topo', 'topo-vector'], center=[39.39870315600007, -99.41461918999994], zoom=4)"
      ]
     },
     "metadata": {},
     "output_type": "display_data"
    }
   ],
   "source": [
    "usamap = gis.map('United States', zoomlevel=4)\n",
    "usamap"
   ]
  },
  {
   "cell_type": "code",
   "execution_count": 35,
   "metadata": {
    "collapsed": true,
    "slideshow": {
     "slide_type": "-"
    }
   },
   "outputs": [],
   "source": [
    "for riverside in riversides_in_usa:\n",
    "    usamap.draw(riverside.geometry)"
   ]
  },
  {
   "cell_type": "markdown",
   "metadata": {
    "slideshow": {
     "slide_type": "subslide"
    }
   },
   "source": [
    "#### Filtering named areas by geography level"
   ]
  },
  {
   "cell_type": "code",
   "execution_count": 30,
   "metadata": {
    "slideshow": {
     "slide_type": "fragment"
    }
   },
   "outputs": [
    {
     "data": {
      "text/plain": [
       "['US.WholeUSA',\n",
       " 'US.States',\n",
       " 'US.DMA',\n",
       " 'US.CD',\n",
       " 'US.CBSA',\n",
       " 'US.Counties',\n",
       " 'US.CSD',\n",
       " 'US.ZIP5',\n",
       " 'US.Places',\n",
       " 'US.Tracts',\n",
       " 'US.BlockGroups']"
      ]
     },
     "execution_count": 30,
     "metadata": {},
     "output_type": "execute_result"
    }
   ],
   "source": [
    "[level['id'] for level in usa.levels]"
   ]
  },
  {
   "cell_type": "code",
   "execution_count": 29,
   "metadata": {
    "slideshow": {
     "slide_type": "fragment"
    }
   },
   "outputs": [
    {
     "data": {
      "text/plain": [
       "[<NamedArea name:\"Riverside County\" area_id=\"06065\", level=\"US.Counties\", country=\"United States\">]"
      ]
     },
     "execution_count": 29,
     "metadata": {},
     "output_type": "execute_result"
    }
   ],
   "source": [
    "usa.search(query='Riverside', layers=['US.Counties'])"
   ]
  },
  {
   "cell_type": "markdown",
   "metadata": {
    "slideshow": {
     "slide_type": "subslide"
    }
   },
   "source": [
    "## Finding businesses"
   ]
  },
  {
   "cell_type": "code",
   "execution_count": 36,
   "metadata": {
    "slideshow": {
     "slide_type": "fragment"
    }
   },
   "outputs": [
    {
     "data": {
      "text/html": [
       "<div>\n",
       "<style scoped>\n",
       "    .dataframe tbody tr th:only-of-type {\n",
       "        vertical-align: middle;\n",
       "    }\n",
       "\n",
       "    .dataframe tbody tr th {\n",
       "        vertical-align: top;\n",
       "    }\n",
       "\n",
       "    .dataframe thead th {\n",
       "        text-align: right;\n",
       "    }\n",
       "</style>\n",
       "<table border=\"1\" class=\"dataframe\">\n",
       "  <thead>\n",
       "    <tr style=\"text-align: right;\">\n",
       "      <th></th>\n",
       "      <th>ADDR</th>\n",
       "      <th>CITY</th>\n",
       "      <th>CONAME</th>\n",
       "      <th>EMPNUM</th>\n",
       "      <th>FRNCOD</th>\n",
       "      <th>HDBRCH</th>\n",
       "      <th>ISCODE</th>\n",
       "      <th>LOCNUM</th>\n",
       "      <th>LOC_NAME</th>\n",
       "      <th>NAICS</th>\n",
       "      <th>...</th>\n",
       "      <th>SIC</th>\n",
       "      <th>SOURCE</th>\n",
       "      <th>SQFTCODE</th>\n",
       "      <th>STATE</th>\n",
       "      <th>STATE_NAME</th>\n",
       "      <th>STATUS</th>\n",
       "      <th>STREET</th>\n",
       "      <th>ZIP</th>\n",
       "      <th>ZIP4</th>\n",
       "      <th>SHAPE</th>\n",
       "    </tr>\n",
       "  </thead>\n",
       "  <tbody>\n",
       "    <tr>\n",
       "      <th>0</th>\n",
       "      <td>5963 CORSON AVE S # A-184</td>\n",
       "      <td>SEATTLE</td>\n",
       "      <td>STARBUCKS</td>\n",
       "      <td>20</td>\n",
       "      <td>4</td>\n",
       "      <td>2</td>\n",
       "      <td></td>\n",
       "      <td>243104437</td>\n",
       "      <td>StreetAddress</td>\n",
       "      <td>72251505</td>\n",
       "      <td>...</td>\n",
       "      <td>581228</td>\n",
       "      <td>INFOGROUP</td>\n",
       "      <td>B</td>\n",
       "      <td>WA</td>\n",
       "      <td>Washington</td>\n",
       "      <td>M</td>\n",
       "      <td>CORSON AVE S</td>\n",
       "      <td>98108</td>\n",
       "      <td>2619</td>\n",
       "      <td>{'y': 47.5483999998966, 'spatialReference': {'...</td>\n",
       "    </tr>\n",
       "    <tr>\n",
       "      <th>1</th>\n",
       "      <td>406 PENN ST</td>\n",
       "      <td>CAMDEN</td>\n",
       "      <td>STARBUCKS</td>\n",
       "      <td>15</td>\n",
       "      <td>4</td>\n",
       "      <td>2</td>\n",
       "      <td></td>\n",
       "      <td>243189941</td>\n",
       "      <td>StreetAddress</td>\n",
       "      <td>72251505</td>\n",
       "      <td>...</td>\n",
       "      <td>581228</td>\n",
       "      <td>INFOGROUP</td>\n",
       "      <td>A</td>\n",
       "      <td>NJ</td>\n",
       "      <td>New Jersey</td>\n",
       "      <td>M</td>\n",
       "      <td>PENN ST</td>\n",
       "      <td>08102</td>\n",
       "      <td>1400</td>\n",
       "      <td>{'y': 39.9480999999659, 'spatialReference': {'...</td>\n",
       "    </tr>\n",
       "    <tr>\n",
       "      <th>2</th>\n",
       "      <td>972 BAXTER AVE</td>\n",
       "      <td>LOUISVILLE</td>\n",
       "      <td>STARBUCKS</td>\n",
       "      <td>16</td>\n",
       "      <td>4</td>\n",
       "      <td>2</td>\n",
       "      <td></td>\n",
       "      <td>210648473</td>\n",
       "      <td>PointAddress</td>\n",
       "      <td>72251505</td>\n",
       "      <td>...</td>\n",
       "      <td>581228</td>\n",
       "      <td>INFOGROUP</td>\n",
       "      <td>A</td>\n",
       "      <td>KY</td>\n",
       "      <td>Kentucky</td>\n",
       "      <td>M</td>\n",
       "      <td>BAXTER AVE</td>\n",
       "      <td>40204</td>\n",
       "      <td>2064</td>\n",
       "      <td>{'y': 38.2401999999322, 'spatialReference': {'...</td>\n",
       "    </tr>\n",
       "    <tr>\n",
       "      <th>3</th>\n",
       "      <td>326 PENN ST</td>\n",
       "      <td>CAMDEN</td>\n",
       "      <td>STARBUCKS</td>\n",
       "      <td>12</td>\n",
       "      <td>4</td>\n",
       "      <td>2</td>\n",
       "      <td></td>\n",
       "      <td>683534911</td>\n",
       "      <td>StreetAddress</td>\n",
       "      <td>72251505</td>\n",
       "      <td>...</td>\n",
       "      <td>581228</td>\n",
       "      <td>INFOGROUP</td>\n",
       "      <td>A</td>\n",
       "      <td>NJ</td>\n",
       "      <td>New Jersey</td>\n",
       "      <td>M</td>\n",
       "      <td>PENN ST</td>\n",
       "      <td>08102</td>\n",
       "      <td>1410</td>\n",
       "      <td>{'y': 39.9482999997207, 'spatialReference': {'...</td>\n",
       "    </tr>\n",
       "    <tr>\n",
       "      <th>4</th>\n",
       "      <td>4502 12TH AVE S</td>\n",
       "      <td>SEATTLE</td>\n",
       "      <td>STARBUCKS</td>\n",
       "      <td>15</td>\n",
       "      <td>4</td>\n",
       "      <td>2</td>\n",
       "      <td></td>\n",
       "      <td>714927777</td>\n",
       "      <td>PointAddress</td>\n",
       "      <td>72251505</td>\n",
       "      <td>...</td>\n",
       "      <td>581228</td>\n",
       "      <td>INFOGROUP</td>\n",
       "      <td>A</td>\n",
       "      <td>WA</td>\n",
       "      <td>Washington</td>\n",
       "      <td>M</td>\n",
       "      <td>12TH AVE S</td>\n",
       "      <td>98108</td>\n",
       "      <td>1805</td>\n",
       "      <td>{'y': 47.5633000002997, 'spatialReference': {'...</td>\n",
       "    </tr>\n",
       "  </tbody>\n",
       "</table>\n",
       "<p>5 rows × 23 columns</p>\n",
       "</div>"
      ],
      "text/plain": [
       "                        ADDR        CITY     CONAME  EMPNUM FRNCOD HDBRCH  \\\n",
       "0  5963 CORSON AVE S # A-184     SEATTLE  STARBUCKS      20      4      2   \n",
       "1                406 PENN ST      CAMDEN  STARBUCKS      15      4      2   \n",
       "2             972 BAXTER AVE  LOUISVILLE  STARBUCKS      16      4      2   \n",
       "3                326 PENN ST      CAMDEN  STARBUCKS      12      4      2   \n",
       "4            4502 12TH AVE S     SEATTLE  STARBUCKS      15      4      2   \n",
       "\n",
       "  ISCODE     LOCNUM       LOC_NAME     NAICS  \\\n",
       "0         243104437  StreetAddress  72251505   \n",
       "1         243189941  StreetAddress  72251505   \n",
       "2         210648473   PointAddress  72251505   \n",
       "3         683534911  StreetAddress  72251505   \n",
       "4         714927777   PointAddress  72251505   \n",
       "\n",
       "                         ...                             SIC     SOURCE  \\\n",
       "0                        ...                          581228  INFOGROUP   \n",
       "1                        ...                          581228  INFOGROUP   \n",
       "2                        ...                          581228  INFOGROUP   \n",
       "3                        ...                          581228  INFOGROUP   \n",
       "4                        ...                          581228  INFOGROUP   \n",
       "\n",
       "   SQFTCODE STATE  STATE_NAME STATUS        STREET    ZIP  ZIP4  \\\n",
       "0         B    WA  Washington      M  CORSON AVE S  98108  2619   \n",
       "1         A    NJ  New Jersey      M       PENN ST  08102  1400   \n",
       "2         A    KY    Kentucky      M    BAXTER AVE  40204  2064   \n",
       "3         A    NJ  New Jersey      M       PENN ST  08102  1410   \n",
       "4         A    WA  Washington      M    12TH AVE S  98108  1805   \n",
       "\n",
       "                                               SHAPE  \n",
       "0  {'y': 47.5483999998966, 'spatialReference': {'...  \n",
       "1  {'y': 39.9480999999659, 'spatialReference': {'...  \n",
       "2  {'y': 38.2401999999322, 'spatialReference': {'...  \n",
       "3  {'y': 39.9482999997207, 'spatialReference': {'...  \n",
       "4  {'y': 47.5633000002997, 'spatialReference': {'...  \n",
       "\n",
       "[5 rows x 23 columns]"
      ]
     },
     "execution_count": 36,
     "metadata": {},
     "output_type": "execute_result"
    }
   ],
   "source": [
    "businesses = find_businesses(search_string=\"Starbucks\",\n",
    "                          return_geometry=True,\n",
    "                          spatial_filter={\"Locations\":[\"NY,TONAWANDA,14150\",\n",
    "                                                       \"NJ, CAMDEN, 08102\",\n",
    "                                                       \"KY,LOUISVILLE,40204\",\n",
    "                                                       \"WA,SEATTLE,98108\"]})\n",
    "# print a sample\n",
    "businesses"
   ]
  },
  {
   "cell_type": "markdown",
   "metadata": {
    "slideshow": {
     "slide_type": "subslide"
    }
   },
   "source": [
    "## Study Areas"
   ]
  },
  {
   "cell_type": "markdown",
   "metadata": {
    "slideshow": {
     "slide_type": "fragment"
    }
   },
   "source": [
    "### Accepted forms of study areas\n",
    "\n",
    "- **Street address locations** - Locations can be passed as strings of input street addresses, points of interest or place names.\n",
    "    + **Example:** `\"380 New York St, Redlands, CA\"`\n",
    "\n",
    "- **Multiple field input addresses** - Locations described as multiple field input addresses, using dictionaries.\n",
    "    + **Example:** \n",
    "        {\"Address\" : \"380 New York Street\",\n",
    "        \"City\" : \"Redlands\",\n",
    "        \"Region\" : \"CA\",\n",
    "        \"Postal\" : 92373}    \n",
    " \n",
    "- **Point and line geometries** - Point and line locations, using `arcgis.geometry` instances.\n",
    "    + **Example Point Location: ** \n",
    "    \n",
    "    `arcgis.geometry.Geometry({\"x\":-122.435,\"y\":37.785})`\n",
    "    \n",
    "    + ** Example Point location obtained using find_businesses() above: **\n",
    "     \n",
    "     `arcgis.geometry.Geometry(businesses.iloc[0]['SHAPE'])`\n",
    "\n",
    "- **Buffered study areas** - `BufferStudyArea` instances to change the ring buffer size or create drive-time service areas around points specified using one of the above methods. BufferStudyArea allows you to buffer point and street address study areas. They can be created using the following parameters:\n",
    "        * area: the point geometry or street address (string) study area to be buffered\n",
    "        * radii: list of distances by which to buffer the study area, eg. [1, 2, 3]\n",
    "        * units: distance unit, eg. Miles, Kilometers, Minutes (when using drive times/travel_mode)\n",
    "        * overlap: boolean, uses overlapping rings/network service areas when True, or non-overlapping disks when False\n",
    "        * travel_mode: None or string, one of the supported travel modes when using network service areas\n",
    "    + **Example Buffered Location: ** \n",
    "    \n",
    "    `pt = arcgis.geometry.Geometry({\"x\":-122.435,\"y\":37.785})\n",
    "    buffered_area = BufferStudyArea(area=pt, radii=[1,2,3], units=\"Miles\", overlap=False)` \n",
    "\n",
    "- **Network service areas** - `BufferStudyArea` also allows you to define drive time service areas around points as well as other advanced service areas such as walking and trucking.\n",
    "    + **Example: **\n",
    "    \n",
    "    `pt = arcgis.geometry.Geometry({\"x\":-122.435,\"y\":37.785})\n",
    "    buffered_area = BufferStudyArea(area=pt, radii=[1,2,3], units=\"Minutes\", travel_mode=\"Driving\")` \n",
    "\n",
    "- **Named statistical areas** - \n",
    "    + **Example:** \n",
    "    \n",
    "    `usa.subgeographies.states['California'].zip5['92373']`\n",
    "   \n",
    "- **Polygon geometries** - Locations can given as polygon geometries.\n",
    "    + **Example Polygon geometry: ** \n",
    "    \n",
    "    `arcgis.geometry.Geometry({\"rings\":[[[-117.185412,34.063170],[-122.81,37.81],[-117.200570,34.057196],[-117.185412,34.063170]]],\"spatialReference\":{\"wkid\":4326}})`\n"
   ]
  },
  {
   "cell_type": "markdown",
   "metadata": {
    "slideshow": {
     "slide_type": "subslide"
    }
   },
   "source": [
    "### Example: Enriching a named statistical area\n",
    "Enriching zip code 92373 in California using the 'Age' data collection:"
   ]
  },
  {
   "cell_type": "code",
   "execution_count": 37,
   "metadata": {
    "collapsed": true,
    "slideshow": {
     "slide_type": "-"
    }
   },
   "outputs": [],
   "source": [
    "redlands = usa.subgeographies.states['California'].zip5['92373']"
   ]
  },
  {
   "cell_type": "code",
   "execution_count": 38,
   "metadata": {
    "slideshow": {
     "slide_type": "fragment"
    }
   },
   "outputs": [
    {
     "data": {
      "text/html": [
       "<div>\n",
       "<style scoped>\n",
       "    .dataframe tbody tr th:only-of-type {\n",
       "        vertical-align: middle;\n",
       "    }\n",
       "\n",
       "    .dataframe tbody tr th {\n",
       "        vertical-align: top;\n",
       "    }\n",
       "\n",
       "    .dataframe thead th {\n",
       "        text-align: right;\n",
       "    }\n",
       "</style>\n",
       "<table border=\"1\" class=\"dataframe\">\n",
       "  <thead>\n",
       "    <tr style=\"text-align: right;\">\n",
       "      <th></th>\n",
       "      <th>FEM0</th>\n",
       "      <th>FEM10</th>\n",
       "      <th>FEM15</th>\n",
       "      <th>FEM20</th>\n",
       "      <th>FEM25</th>\n",
       "      <th>FEM30</th>\n",
       "      <th>FEM35</th>\n",
       "      <th>FEM40</th>\n",
       "      <th>FEM45</th>\n",
       "      <th>FEM5</th>\n",
       "      <th>...</th>\n",
       "      <th>MALE75</th>\n",
       "      <th>MALE80</th>\n",
       "      <th>MALE85</th>\n",
       "      <th>OBJECTID</th>\n",
       "      <th>StdGeographyID</th>\n",
       "      <th>StdGeographyLevel</th>\n",
       "      <th>StdGeographyName</th>\n",
       "      <th>aggregationMethod</th>\n",
       "      <th>sourceCountry</th>\n",
       "      <th>SHAPE</th>\n",
       "    </tr>\n",
       "  </thead>\n",
       "  <tbody>\n",
       "    <tr>\n",
       "      <th>0</th>\n",
       "      <td>871</td>\n",
       "      <td>931</td>\n",
       "      <td>962</td>\n",
       "      <td>1123</td>\n",
       "      <td>1147</td>\n",
       "      <td>1206</td>\n",
       "      <td>1126</td>\n",
       "      <td>1041</td>\n",
       "      <td>1098</td>\n",
       "      <td>891</td>\n",
       "      <td>...</td>\n",
       "      <td>477</td>\n",
       "      <td>317</td>\n",
       "      <td>362</td>\n",
       "      <td>1</td>\n",
       "      <td>92373</td>\n",
       "      <td>US.ZIP5</td>\n",
       "      <td>Redlands</td>\n",
       "      <td>Query:US.ZIP5</td>\n",
       "      <td>US</td>\n",
       "      <td>{'spatialReference': {'latestWkid': 4326, 'wki...</td>\n",
       "    </tr>\n",
       "  </tbody>\n",
       "</table>\n",
       "<p>1 rows × 45 columns</p>\n",
       "</div>"
      ],
      "text/plain": [
       "   FEM0  FEM10  FEM15  FEM20  FEM25  FEM30  FEM35  FEM40  FEM45  FEM5  \\\n",
       "0   871    931    962   1123   1147   1206   1126   1041   1098   891   \n",
       "\n",
       "                         ...                          MALE75  MALE80  MALE85  \\\n",
       "0                        ...                             477     317     362   \n",
       "\n",
       "   OBJECTID  StdGeographyID  StdGeographyLevel  StdGeographyName  \\\n",
       "0         1           92373            US.ZIP5          Redlands   \n",
       "\n",
       "   aggregationMethod  sourceCountry  \\\n",
       "0      Query:US.ZIP5             US   \n",
       "\n",
       "                                               SHAPE  \n",
       "0  {'spatialReference': {'latestWkid': 4326, 'wki...  \n",
       "\n",
       "[1 rows x 45 columns]"
      ]
     },
     "execution_count": 38,
     "metadata": {},
     "output_type": "execute_result"
    }
   ],
   "source": [
    "enrich(study_areas=[redlands], data_collections=['Age'] )"
   ]
  },
  {
   "cell_type": "markdown",
   "metadata": {
    "slideshow": {
     "slide_type": "subslide"
    }
   },
   "source": [
    "### Example: Enrich all counties in a state"
   ]
  },
  {
   "cell_type": "code",
   "execution_count": 39,
   "metadata": {
    "collapsed": true,
    "slideshow": {
     "slide_type": "-"
    }
   },
   "outputs": [],
   "source": [
    "ca_counties = usa.subgeographies.states['California'].counties"
   ]
  },
  {
   "cell_type": "code",
   "execution_count": 40,
   "metadata": {
    "slideshow": {
     "slide_type": "fragment"
    }
   },
   "outputs": [
    {
     "data": {
      "text/html": [
       "<div>\n",
       "<style scoped>\n",
       "    .dataframe tbody tr th:only-of-type {\n",
       "        vertical-align: middle;\n",
       "    }\n",
       "\n",
       "    .dataframe tbody tr th {\n",
       "        vertical-align: top;\n",
       "    }\n",
       "\n",
       "    .dataframe thead th {\n",
       "        text-align: right;\n",
       "    }\n",
       "</style>\n",
       "<table border=\"1\" class=\"dataframe\">\n",
       "  <thead>\n",
       "    <tr style=\"text-align: right;\">\n",
       "      <th></th>\n",
       "      <th>FEM0</th>\n",
       "      <th>FEM10</th>\n",
       "      <th>FEM15</th>\n",
       "      <th>FEM20</th>\n",
       "      <th>FEM25</th>\n",
       "      <th>FEM30</th>\n",
       "      <th>FEM35</th>\n",
       "      <th>FEM40</th>\n",
       "      <th>FEM45</th>\n",
       "      <th>FEM5</th>\n",
       "      <th>...</th>\n",
       "      <th>MALE75</th>\n",
       "      <th>MALE80</th>\n",
       "      <th>MALE85</th>\n",
       "      <th>OBJECTID</th>\n",
       "      <th>StdGeographyID</th>\n",
       "      <th>StdGeographyLevel</th>\n",
       "      <th>StdGeographyName</th>\n",
       "      <th>aggregationMethod</th>\n",
       "      <th>sourceCountry</th>\n",
       "      <th>SHAPE</th>\n",
       "    </tr>\n",
       "  </thead>\n",
       "  <tbody>\n",
       "    <tr>\n",
       "      <th>0</th>\n",
       "      <td>1039</td>\n",
       "      <td>1027</td>\n",
       "      <td>944</td>\n",
       "      <td>917</td>\n",
       "      <td>965</td>\n",
       "      <td>898</td>\n",
       "      <td>840</td>\n",
       "      <td>795</td>\n",
       "      <td>835</td>\n",
       "      <td>1004</td>\n",
       "      <td>...</td>\n",
       "      <td>349</td>\n",
       "      <td>217</td>\n",
       "      <td>208</td>\n",
       "      <td>1</td>\n",
       "      <td>06021</td>\n",
       "      <td>US.Counties</td>\n",
       "      <td>Glenn County</td>\n",
       "      <td>Query:US.Counties</td>\n",
       "      <td>US</td>\n",
       "      <td>{'spatialReference': {'latestWkid': 4326, 'wki...</td>\n",
       "    </tr>\n",
       "    <tr>\n",
       "      <th>1</th>\n",
       "      <td>6438</td>\n",
       "      <td>7053</td>\n",
       "      <td>9401</td>\n",
       "      <td>12114</td>\n",
       "      <td>8568</td>\n",
       "      <td>7964</td>\n",
       "      <td>7310</td>\n",
       "      <td>6905</td>\n",
       "      <td>7450</td>\n",
       "      <td>6820</td>\n",
       "      <td>...</td>\n",
       "      <td>4059</td>\n",
       "      <td>2744</td>\n",
       "      <td>2883</td>\n",
       "      <td>2</td>\n",
       "      <td>06079</td>\n",
       "      <td>US.Counties</td>\n",
       "      <td>San Luis Obispo County</td>\n",
       "      <td>Query:US.Counties</td>\n",
       "      <td>US</td>\n",
       "      <td>{'spatialReference': {'latestWkid': 4326, 'wki...</td>\n",
       "    </tr>\n",
       "    <tr>\n",
       "      <th>2</th>\n",
       "      <td>252</td>\n",
       "      <td>264</td>\n",
       "      <td>242</td>\n",
       "      <td>215</td>\n",
       "      <td>215</td>\n",
       "      <td>230</td>\n",
       "      <td>217</td>\n",
       "      <td>241</td>\n",
       "      <td>285</td>\n",
       "      <td>279</td>\n",
       "      <td>...</td>\n",
       "      <td>175</td>\n",
       "      <td>104</td>\n",
       "      <td>103</td>\n",
       "      <td>3</td>\n",
       "      <td>06049</td>\n",
       "      <td>US.Counties</td>\n",
       "      <td>Modoc County</td>\n",
       "      <td>Query:US.Counties</td>\n",
       "      <td>US</td>\n",
       "      <td>{'spatialReference': {'latestWkid': 4326, 'wki...</td>\n",
       "    </tr>\n",
       "    <tr>\n",
       "      <th>3</th>\n",
       "      <td>2465</td>\n",
       "      <td>2515</td>\n",
       "      <td>2416</td>\n",
       "      <td>2401</td>\n",
       "      <td>2592</td>\n",
       "      <td>2666</td>\n",
       "      <td>2560</td>\n",
       "      <td>2409</td>\n",
       "      <td>2488</td>\n",
       "      <td>2465</td>\n",
       "      <td>...</td>\n",
       "      <td>1277</td>\n",
       "      <td>746</td>\n",
       "      <td>751</td>\n",
       "      <td>4</td>\n",
       "      <td>06045</td>\n",
       "      <td>US.Counties</td>\n",
       "      <td>Mendocino County</td>\n",
       "      <td>Query:US.Counties</td>\n",
       "      <td>US</td>\n",
       "      <td>{'spatialReference': {'latestWkid': 4326, 'wki...</td>\n",
       "    </tr>\n",
       "    <tr>\n",
       "      <th>4</th>\n",
       "      <td>20668</td>\n",
       "      <td>18942</td>\n",
       "      <td>17445</td>\n",
       "      <td>17438</td>\n",
       "      <td>18597</td>\n",
       "      <td>16683</td>\n",
       "      <td>14568</td>\n",
       "      <td>13010</td>\n",
       "      <td>12625</td>\n",
       "      <td>19489</td>\n",
       "      <td>...</td>\n",
       "      <td>3872</td>\n",
       "      <td>2410</td>\n",
       "      <td>2292</td>\n",
       "      <td>5</td>\n",
       "      <td>06107</td>\n",
       "      <td>US.Counties</td>\n",
       "      <td>Tulare County</td>\n",
       "      <td>Query:US.Counties</td>\n",
       "      <td>US</td>\n",
       "      <td>{'spatialReference': {'latestWkid': 4326, 'wki...</td>\n",
       "    </tr>\n",
       "    <tr>\n",
       "      <th>5</th>\n",
       "      <td>3458</td>\n",
       "      <td>3423</td>\n",
       "      <td>3102</td>\n",
       "      <td>3179</td>\n",
       "      <td>3518</td>\n",
       "      <td>3412</td>\n",
       "      <td>3086</td>\n",
       "      <td>2858</td>\n",
       "      <td>2881</td>\n",
       "      <td>3453</td>\n",
       "      <td>...</td>\n",
       "      <td>1142</td>\n",
       "      <td>775</td>\n",
       "      <td>638</td>\n",
       "      <td>6</td>\n",
       "      <td>06101</td>\n",
       "      <td>US.Counties</td>\n",
       "      <td>Sutter County</td>\n",
       "      <td>Query:US.Counties</td>\n",
       "      <td>US</td>\n",
       "      <td>{'spatialReference': {'latestWkid': 4326, 'wki...</td>\n",
       "    </tr>\n",
       "    <tr>\n",
       "      <th>6</th>\n",
       "      <td>2065</td>\n",
       "      <td>2079</td>\n",
       "      <td>1963</td>\n",
       "      <td>1911</td>\n",
       "      <td>2025</td>\n",
       "      <td>1851</td>\n",
       "      <td>1733</td>\n",
       "      <td>1691</td>\n",
       "      <td>1922</td>\n",
       "      <td>2065</td>\n",
       "      <td>...</td>\n",
       "      <td>1009</td>\n",
       "      <td>652</td>\n",
       "      <td>531</td>\n",
       "      <td>7</td>\n",
       "      <td>06103</td>\n",
       "      <td>US.Counties</td>\n",
       "      <td>Tehama County</td>\n",
       "      <td>Query:US.Counties</td>\n",
       "      <td>US</td>\n",
       "      <td>{'spatialReference': {'latestWkid': 4326, 'wki...</td>\n",
       "    </tr>\n",
       "    <tr>\n",
       "      <th>7</th>\n",
       "      <td>4733</td>\n",
       "      <td>5125</td>\n",
       "      <td>5247</td>\n",
       "      <td>5425</td>\n",
       "      <td>5590</td>\n",
       "      <td>5269</td>\n",
       "      <td>4941</td>\n",
       "      <td>4839</td>\n",
       "      <td>5355</td>\n",
       "      <td>4847</td>\n",
       "      <td>...</td>\n",
       "      <td>2882</td>\n",
       "      <td>1770</td>\n",
       "      <td>1710</td>\n",
       "      <td>8</td>\n",
       "      <td>06089</td>\n",
       "      <td>US.Counties</td>\n",
       "      <td>Shasta County</td>\n",
       "      <td>Query:US.Counties</td>\n",
       "      <td>US</td>\n",
       "      <td>{'spatialReference': {'latestWkid': 4326, 'wki...</td>\n",
       "    </tr>\n",
       "    <tr>\n",
       "      <th>8</th>\n",
       "      <td>371</td>\n",
       "      <td>458</td>\n",
       "      <td>486</td>\n",
       "      <td>426</td>\n",
       "      <td>438</td>\n",
       "      <td>447</td>\n",
       "      <td>390</td>\n",
       "      <td>427</td>\n",
       "      <td>531</td>\n",
       "      <td>440</td>\n",
       "      <td>...</td>\n",
       "      <td>429</td>\n",
       "      <td>244</td>\n",
       "      <td>183</td>\n",
       "      <td>9</td>\n",
       "      <td>06063</td>\n",
       "      <td>US.Counties</td>\n",
       "      <td>Plumas County</td>\n",
       "      <td>Query:US.Counties</td>\n",
       "      <td>US</td>\n",
       "      <td>{'spatialReference': {'latestWkid': 4326, 'wki...</td>\n",
       "    </tr>\n",
       "    <tr>\n",
       "      <th>9</th>\n",
       "      <td>21466</td>\n",
       "      <td>23726</td>\n",
       "      <td>20863</td>\n",
       "      <td>20830</td>\n",
       "      <td>23275</td>\n",
       "      <td>25123</td>\n",
       "      <td>26114</td>\n",
       "      <td>26147</td>\n",
       "      <td>27054</td>\n",
       "      <td>23197</td>\n",
       "      <td>...</td>\n",
       "      <td>9147</td>\n",
       "      <td>6126</td>\n",
       "      <td>6547</td>\n",
       "      <td>10</td>\n",
       "      <td>06081</td>\n",
       "      <td>US.Counties</td>\n",
       "      <td>San Mateo County</td>\n",
       "      <td>Query:US.Counties</td>\n",
       "      <td>US</td>\n",
       "      <td>{'spatialReference': {'latestWkid': 4326, 'wki...</td>\n",
       "    </tr>\n",
       "  </tbody>\n",
       "</table>\n",
       "<p>10 rows × 45 columns</p>\n",
       "</div>"
      ],
      "text/plain": [
       "    FEM0  FEM10  FEM15  FEM20  FEM25  FEM30  FEM35  FEM40  FEM45   FEM5  \\\n",
       "0   1039   1027    944    917    965    898    840    795    835   1004   \n",
       "1   6438   7053   9401  12114   8568   7964   7310   6905   7450   6820   \n",
       "2    252    264    242    215    215    230    217    241    285    279   \n",
       "3   2465   2515   2416   2401   2592   2666   2560   2409   2488   2465   \n",
       "4  20668  18942  17445  17438  18597  16683  14568  13010  12625  19489   \n",
       "5   3458   3423   3102   3179   3518   3412   3086   2858   2881   3453   \n",
       "6   2065   2079   1963   1911   2025   1851   1733   1691   1922   2065   \n",
       "7   4733   5125   5247   5425   5590   5269   4941   4839   5355   4847   \n",
       "8    371    458    486    426    438    447    390    427    531    440   \n",
       "9  21466  23726  20863  20830  23275  25123  26114  26147  27054  23197   \n",
       "\n",
       "                         ...                          MALE75  MALE80  MALE85  \\\n",
       "0                        ...                             349     217     208   \n",
       "1                        ...                            4059    2744    2883   \n",
       "2                        ...                             175     104     103   \n",
       "3                        ...                            1277     746     751   \n",
       "4                        ...                            3872    2410    2292   \n",
       "5                        ...                            1142     775     638   \n",
       "6                        ...                            1009     652     531   \n",
       "7                        ...                            2882    1770    1710   \n",
       "8                        ...                             429     244     183   \n",
       "9                        ...                            9147    6126    6547   \n",
       "\n",
       "   OBJECTID  StdGeographyID  StdGeographyLevel        StdGeographyName  \\\n",
       "0         1           06021        US.Counties            Glenn County   \n",
       "1         2           06079        US.Counties  San Luis Obispo County   \n",
       "2         3           06049        US.Counties            Modoc County   \n",
       "3         4           06045        US.Counties        Mendocino County   \n",
       "4         5           06107        US.Counties           Tulare County   \n",
       "5         6           06101        US.Counties           Sutter County   \n",
       "6         7           06103        US.Counties           Tehama County   \n",
       "7         8           06089        US.Counties           Shasta County   \n",
       "8         9           06063        US.Counties           Plumas County   \n",
       "9        10           06081        US.Counties        San Mateo County   \n",
       "\n",
       "   aggregationMethod  sourceCountry  \\\n",
       "0  Query:US.Counties             US   \n",
       "1  Query:US.Counties             US   \n",
       "2  Query:US.Counties             US   \n",
       "3  Query:US.Counties             US   \n",
       "4  Query:US.Counties             US   \n",
       "5  Query:US.Counties             US   \n",
       "6  Query:US.Counties             US   \n",
       "7  Query:US.Counties             US   \n",
       "8  Query:US.Counties             US   \n",
       "9  Query:US.Counties             US   \n",
       "\n",
       "                                               SHAPE  \n",
       "0  {'spatialReference': {'latestWkid': 4326, 'wki...  \n",
       "1  {'spatialReference': {'latestWkid': 4326, 'wki...  \n",
       "2  {'spatialReference': {'latestWkid': 4326, 'wki...  \n",
       "3  {'spatialReference': {'latestWkid': 4326, 'wki...  \n",
       "4  {'spatialReference': {'latestWkid': 4326, 'wki...  \n",
       "5  {'spatialReference': {'latestWkid': 4326, 'wki...  \n",
       "6  {'spatialReference': {'latestWkid': 4326, 'wki...  \n",
       "7  {'spatialReference': {'latestWkid': 4326, 'wki...  \n",
       "8  {'spatialReference': {'latestWkid': 4326, 'wki...  \n",
       "9  {'spatialReference': {'latestWkid': 4326, 'wki...  \n",
       "\n",
       "[10 rows x 45 columns]"
      ]
     },
     "execution_count": 40,
     "metadata": {},
     "output_type": "execute_result"
    }
   ],
   "source": [
    "counties_df = enrich(study_areas=ca_counties, data_collections=['Age'])\n",
    "counties_df.head(10)"
   ]
  },
  {
   "cell_type": "code",
   "execution_count": 41,
   "metadata": {
    "scrolled": true,
    "slideshow": {
     "slide_type": "subslide"
    }
   },
   "outputs": [
    {
     "data": {
      "application/vnd.jupyter.widget-view+json": {
       "model_id": "bdceeb67b0fc4cb28e8a7a2c09aab05d",
       "version_major": 2,
       "version_minor": 0
      },
      "text/html": [
       "<p>Failed to display Jupyter Widget of type <code>MapView</code>.</p>\n",
       "<p>\n",
       "  If you're reading this message in Jupyter Notebook or JupyterLab, it may mean\n",
       "  that the widgets JavaScript is still loading. If this message persists, it\n",
       "  likely means that the widgets JavaScript library is either not installed or\n",
       "  not enabled. See the <a href=\"https://ipywidgets.readthedocs.io/en/stable/user_install.html\">Jupyter\n",
       "  Widgets Documentation</a> for setup instructions.\n",
       "</p>\n",
       "<p>\n",
       "  If you're reading this message in another notebook frontend (for example, a static\n",
       "  rendering on GitHub or <a href=\"https://nbviewer.jupyter.org/\">NBViewer</a>),\n",
       "  it may mean that your frontend doesn't currently support widgets.\n",
       "</p>\n"
      ],
      "text/plain": [
       "MapView(basemaps=['dark-gray', 'dark-gray-vector', 'gray', 'gray-vector', 'hybrid', 'national-geographic', 'oceans', 'osm', 'satellite', 'streets', 'streets-navigation-vector', 'streets-night-vector', 'streets-relief-vector', 'streets-vector', 'terrain', 'topo', 'topo-vector'], center=[0, 0])"
      ]
     },
     "metadata": {},
     "output_type": "display_data"
    }
   ],
   "source": [
    "m = gis.map('California')\n",
    "m"
   ]
  },
  {
   "cell_type": "code",
   "execution_count": 42,
   "metadata": {
    "collapsed": true,
    "slideshow": {
     "slide_type": "-"
    }
   },
   "outputs": [],
   "source": [
    "lyr = gis.content.import_data(df=counties_df, title=\"CA county population\")"
   ]
  },
  {
   "cell_type": "code",
   "execution_count": 43,
   "metadata": {
    "collapsed": true,
    "slideshow": {
     "slide_type": "-"
    }
   },
   "outputs": [],
   "source": [
    "m.add_layer(lyr.layers[0], {'renderer': 'ClassedColorRenderer', \n",
    "                            'field_name':'FEM0'})"
   ]
  },
  {
   "cell_type": "markdown",
   "metadata": {
    "slideshow": {
     "slide_type": "subslide"
    }
   },
   "source": [
    "### Example: Using comparison levels"
   ]
  },
  {
   "cell_type": "code",
   "execution_count": 54,
   "metadata": {
    "slideshow": {
     "slide_type": "-"
    }
   },
   "outputs": [
    {
     "name": "stderr",
     "output_type": "stream",
     "text": [
      "c:\\xc\\github\\geosaurus\\src\\arcgis\\features\\_data\\geodataset\\geodataframe.py:1038: FutureWarning: set_value is deprecated and will be removed in a future release. Please use .at[] or .iat[] accessors instead\n",
      "  frame.set_value(index=idx, col=self._geometry_column_name, value=g)\n"
     ]
    },
    {
     "data": {
      "text/html": [
       "<div>\n",
       "<style scoped>\n",
       "    .dataframe tbody tr th:only-of-type {\n",
       "        vertical-align: middle;\n",
       "    }\n",
       "\n",
       "    .dataframe tbody tr th {\n",
       "        vertical-align: top;\n",
       "    }\n",
       "\n",
       "    .dataframe thead th {\n",
       "        text-align: right;\n",
       "    }\n",
       "</style>\n",
       "<table border=\"1\" class=\"dataframe\">\n",
       "  <thead>\n",
       "    <tr style=\"text-align: right;\">\n",
       "      <th></th>\n",
       "      <th>FEM0</th>\n",
       "      <th>FEM10</th>\n",
       "      <th>FEM15</th>\n",
       "      <th>FEM20</th>\n",
       "      <th>FEM25</th>\n",
       "      <th>FEM30</th>\n",
       "      <th>FEM35</th>\n",
       "      <th>FEM40</th>\n",
       "      <th>FEM45</th>\n",
       "      <th>FEM5</th>\n",
       "      <th>...</th>\n",
       "      <th>MALE75</th>\n",
       "      <th>MALE80</th>\n",
       "      <th>MALE85</th>\n",
       "      <th>OBJECTID</th>\n",
       "      <th>StdGeographyID</th>\n",
       "      <th>StdGeographyLevel</th>\n",
       "      <th>StdGeographyName</th>\n",
       "      <th>aggregationMethod</th>\n",
       "      <th>sourceCountry</th>\n",
       "      <th>SHAPE</th>\n",
       "    </tr>\n",
       "  </thead>\n",
       "  <tbody>\n",
       "    <tr>\n",
       "      <th>0</th>\n",
       "      <td>871</td>\n",
       "      <td>931</td>\n",
       "      <td>962</td>\n",
       "      <td>1123</td>\n",
       "      <td>1147</td>\n",
       "      <td>1206</td>\n",
       "      <td>1126</td>\n",
       "      <td>1041</td>\n",
       "      <td>1098</td>\n",
       "      <td>891</td>\n",
       "      <td>...</td>\n",
       "      <td>477</td>\n",
       "      <td>317</td>\n",
       "      <td>362</td>\n",
       "      <td>1</td>\n",
       "      <td>92373</td>\n",
       "      <td>US.ZIP5</td>\n",
       "      <td>Redlands</td>\n",
       "      <td>Query:US.ZIP5</td>\n",
       "      <td>US</td>\n",
       "      <td>{'rings': [[[-117.21461999975689, 34.065140000...</td>\n",
       "    </tr>\n",
       "    <tr>\n",
       "      <th>1</th>\n",
       "      <td>84409</td>\n",
       "      <td>83941</td>\n",
       "      <td>82177</td>\n",
       "      <td>84307</td>\n",
       "      <td>91156</td>\n",
       "      <td>83313</td>\n",
       "      <td>76213</td>\n",
       "      <td>71910</td>\n",
       "      <td>71553</td>\n",
       "      <td>84041</td>\n",
       "      <td>...</td>\n",
       "      <td>26944</td>\n",
       "      <td>18151</td>\n",
       "      <td>16402</td>\n",
       "      <td>2</td>\n",
       "      <td>06065</td>\n",
       "      <td>US.Counties</td>\n",
       "      <td>Riverside County</td>\n",
       "      <td>Query:US.Counties</td>\n",
       "      <td>US</td>\n",
       "      <td>{'spatialReference': {'wkid': 4326, 'latestWki...</td>\n",
       "    </tr>\n",
       "    <tr>\n",
       "      <th>2</th>\n",
       "      <td>79477</td>\n",
       "      <td>76497</td>\n",
       "      <td>74857</td>\n",
       "      <td>82633</td>\n",
       "      <td>90066</td>\n",
       "      <td>79719</td>\n",
       "      <td>70374</td>\n",
       "      <td>65761</td>\n",
       "      <td>65744</td>\n",
       "      <td>77343</td>\n",
       "      <td>...</td>\n",
       "      <td>17677</td>\n",
       "      <td>10838</td>\n",
       "      <td>9276</td>\n",
       "      <td>3</td>\n",
       "      <td>06071</td>\n",
       "      <td>US.Counties</td>\n",
       "      <td>San Bernardino County</td>\n",
       "      <td>Query:US.Counties</td>\n",
       "      <td>US</td>\n",
       "      <td>{'spatialReference': {'wkid': 4326, 'latestWki...</td>\n",
       "    </tr>\n",
       "    <tr>\n",
       "      <th>3</th>\n",
       "      <td>1245148</td>\n",
       "      <td>1260883</td>\n",
       "      <td>1269825</td>\n",
       "      <td>1405639</td>\n",
       "      <td>1510193</td>\n",
       "      <td>1429495</td>\n",
       "      <td>1313060</td>\n",
       "      <td>1237282</td>\n",
       "      <td>1250328</td>\n",
       "      <td>1251583</td>\n",
       "      <td>...</td>\n",
       "      <td>408593</td>\n",
       "      <td>268305</td>\n",
       "      <td>266546</td>\n",
       "      <td>4</td>\n",
       "      <td>06</td>\n",
       "      <td>US.States</td>\n",
       "      <td>California</td>\n",
       "      <td>Query:US.States</td>\n",
       "      <td>US</td>\n",
       "      <td>{'spatialReference': {'wkid': 4326, 'latestWki...</td>\n",
       "    </tr>\n",
       "  </tbody>\n",
       "</table>\n",
       "<p>4 rows × 45 columns</p>\n",
       "</div>"
      ],
      "text/plain": [
       "      FEM0    FEM10    FEM15    FEM20    FEM25    FEM30    FEM35    FEM40  \\\n",
       "0      871      931      962     1123     1147     1206     1126     1041   \n",
       "1    84409    83941    82177    84307    91156    83313    76213    71910   \n",
       "2    79477    76497    74857    82633    90066    79719    70374    65761   \n",
       "3  1245148  1260883  1269825  1405639  1510193  1429495  1313060  1237282   \n",
       "\n",
       "     FEM45     FEM5                        ...                          \\\n",
       "0     1098      891                        ...                           \n",
       "1    71553    84041                        ...                           \n",
       "2    65744    77343                        ...                           \n",
       "3  1250328  1251583                        ...                           \n",
       "\n",
       "   MALE75  MALE80  MALE85  OBJECTID  StdGeographyID  StdGeographyLevel  \\\n",
       "0     477     317     362         1           92373            US.ZIP5   \n",
       "1   26944   18151   16402         2           06065        US.Counties   \n",
       "2   17677   10838    9276         3           06071        US.Counties   \n",
       "3  408593  268305  266546         4              06          US.States   \n",
       "\n",
       "        StdGeographyName  aggregationMethod  sourceCountry  \\\n",
       "0               Redlands      Query:US.ZIP5             US   \n",
       "1       Riverside County  Query:US.Counties             US   \n",
       "2  San Bernardino County  Query:US.Counties             US   \n",
       "3             California    Query:US.States             US   \n",
       "\n",
       "                                               SHAPE  \n",
       "0  {'rings': [[[-117.21461999975689, 34.065140000...  \n",
       "1  {'spatialReference': {'wkid': 4326, 'latestWki...  \n",
       "2  {'spatialReference': {'wkid': 4326, 'latestWki...  \n",
       "3  {'spatialReference': {'wkid': 4326, 'latestWki...  \n",
       "\n",
       "[4 rows x 45 columns]"
      ]
     },
     "execution_count": 54,
     "metadata": {},
     "output_type": "execute_result"
    }
   ],
   "source": [
    "enrich(study_areas=[redlands], data_collections=['Age'], \n",
    "       comparison_levels=['US.Counties', 'US.States'])"
   ]
  },
  {
   "cell_type": "markdown",
   "metadata": {
    "slideshow": {
     "slide_type": "subslide"
    }
   },
   "source": [
    "### Example: Buffering locations using non overlapping disks \n",
    "\n",
    "The example below creates non-overlapping disks of radii 1, 3 and 5 Miles respectively from a street address and enriches these using the 'Age' data collection."
   ]
  },
  {
   "cell_type": "code",
   "execution_count": 44,
   "metadata": {
    "slideshow": {
     "slide_type": "-"
    }
   },
   "outputs": [
    {
     "data": {
      "text/html": [
       "<div>\n",
       "<style scoped>\n",
       "    .dataframe tbody tr th:only-of-type {\n",
       "        vertical-align: middle;\n",
       "    }\n",
       "\n",
       "    .dataframe tbody tr th {\n",
       "        vertical-align: top;\n",
       "    }\n",
       "\n",
       "    .dataframe thead th {\n",
       "        text-align: right;\n",
       "    }\n",
       "</style>\n",
       "<table border=\"1\" class=\"dataframe\">\n",
       "  <thead>\n",
       "    <tr style=\"text-align: right;\">\n",
       "      <th></th>\n",
       "      <th>FEM0</th>\n",
       "      <th>FEM10</th>\n",
       "      <th>FEM15</th>\n",
       "      <th>FEM20</th>\n",
       "      <th>FEM25</th>\n",
       "      <th>FEM30</th>\n",
       "      <th>FEM35</th>\n",
       "      <th>FEM40</th>\n",
       "      <th>FEM45</th>\n",
       "      <th>FEM5</th>\n",
       "      <th>...</th>\n",
       "      <th>OBJECTID</th>\n",
       "      <th>X</th>\n",
       "      <th>Y</th>\n",
       "      <th>aggregationMethod</th>\n",
       "      <th>areaType</th>\n",
       "      <th>bufferRadii</th>\n",
       "      <th>bufferUnits</th>\n",
       "      <th>bufferUnitsAlias</th>\n",
       "      <th>sourceCountry</th>\n",
       "      <th>SHAPE</th>\n",
       "    </tr>\n",
       "  </thead>\n",
       "  <tbody>\n",
       "    <tr>\n",
       "      <th>0</th>\n",
       "      <td>435</td>\n",
       "      <td>377</td>\n",
       "      <td>417</td>\n",
       "      <td>602</td>\n",
       "      <td>615</td>\n",
       "      <td>577</td>\n",
       "      <td>508</td>\n",
       "      <td>403</td>\n",
       "      <td>386</td>\n",
       "      <td>391</td>\n",
       "      <td>...</td>\n",
       "      <td>1</td>\n",
       "      <td>-117.19567</td>\n",
       "      <td>34.056488</td>\n",
       "      <td>BlockApportionment:US.BlockGroups</td>\n",
       "      <td>RingBufferBands</td>\n",
       "      <td>1</td>\n",
       "      <td>Miles</td>\n",
       "      <td>Miles</td>\n",
       "      <td>US</td>\n",
       "      <td>{'spatialReference': {'latestWkid': 4326, 'wki...</td>\n",
       "    </tr>\n",
       "    <tr>\n",
       "      <th>1</th>\n",
       "      <td>1759</td>\n",
       "      <td>1809</td>\n",
       "      <td>2158</td>\n",
       "      <td>2280</td>\n",
       "      <td>2404</td>\n",
       "      <td>2369</td>\n",
       "      <td>2060</td>\n",
       "      <td>1908</td>\n",
       "      <td>1941</td>\n",
       "      <td>1786</td>\n",
       "      <td>...</td>\n",
       "      <td>2</td>\n",
       "      <td>-117.19567</td>\n",
       "      <td>34.056488</td>\n",
       "      <td>BlockApportionment:US.BlockGroups</td>\n",
       "      <td>RingBufferBands</td>\n",
       "      <td>3</td>\n",
       "      <td>Miles</td>\n",
       "      <td>Miles</td>\n",
       "      <td>US</td>\n",
       "      <td>{'spatialReference': {'latestWkid': 4326, 'wki...</td>\n",
       "    </tr>\n",
       "    <tr>\n",
       "      <th>2</th>\n",
       "      <td>2790</td>\n",
       "      <td>2776</td>\n",
       "      <td>2628</td>\n",
       "      <td>3257</td>\n",
       "      <td>3596</td>\n",
       "      <td>2975</td>\n",
       "      <td>2538</td>\n",
       "      <td>2364</td>\n",
       "      <td>2453</td>\n",
       "      <td>2807</td>\n",
       "      <td>...</td>\n",
       "      <td>3</td>\n",
       "      <td>-117.19567</td>\n",
       "      <td>34.056488</td>\n",
       "      <td>BlockApportionment:US.BlockGroups</td>\n",
       "      <td>RingBufferBands</td>\n",
       "      <td>5</td>\n",
       "      <td>Miles</td>\n",
       "      <td>Miles</td>\n",
       "      <td>US</td>\n",
       "      <td>{'spatialReference': {'latestWkid': 4326, 'wki...</td>\n",
       "    </tr>\n",
       "  </tbody>\n",
       "</table>\n",
       "<p>3 rows × 48 columns</p>\n",
       "</div>"
      ],
      "text/plain": [
       "   FEM0  FEM10  FEM15  FEM20  FEM25  FEM30  FEM35  FEM40  FEM45  FEM5  \\\n",
       "0   435    377    417    602    615    577    508    403    386   391   \n",
       "1  1759   1809   2158   2280   2404   2369   2060   1908   1941  1786   \n",
       "2  2790   2776   2628   3257   3596   2975   2538   2364   2453  2807   \n",
       "\n",
       "                         ...                          OBJECTID          X  \\\n",
       "0                        ...                                 1 -117.19567   \n",
       "1                        ...                                 2 -117.19567   \n",
       "2                        ...                                 3 -117.19567   \n",
       "\n",
       "           Y                  aggregationMethod         areaType  bufferRadii  \\\n",
       "0  34.056488  BlockApportionment:US.BlockGroups  RingBufferBands            1   \n",
       "1  34.056488  BlockApportionment:US.BlockGroups  RingBufferBands            3   \n",
       "2  34.056488  BlockApportionment:US.BlockGroups  RingBufferBands            5   \n",
       "\n",
       "   bufferUnits  bufferUnitsAlias  sourceCountry  \\\n",
       "0        Miles             Miles             US   \n",
       "1        Miles             Miles             US   \n",
       "2        Miles             Miles             US   \n",
       "\n",
       "                                               SHAPE  \n",
       "0  {'spatialReference': {'latestWkid': 4326, 'wki...  \n",
       "1  {'spatialReference': {'latestWkid': 4326, 'wki...  \n",
       "2  {'spatialReference': {'latestWkid': 4326, 'wki...  \n",
       "\n",
       "[3 rows x 48 columns]"
      ]
     },
     "execution_count": 44,
     "metadata": {},
     "output_type": "execute_result"
    }
   ],
   "source": [
    "buffered = BufferStudyArea(area='380 New York St Redlands CA 92373',\n",
    "                           radii=[1,3,5], units='Miles', overlap=False)\n",
    "enrich(study_areas=[buffered], data_collections=['Age'])"
   ]
  },
  {
   "cell_type": "markdown",
   "metadata": {
    "slideshow": {
     "slide_type": "subslide"
    }
   },
   "source": [
    "### Example: Using drive times as study areas\n",
    "    \n",
    "The example below creates 5 and 10 minute drive times from a street address and enriches these using the 'Age' data collection."
   ]
  },
  {
   "cell_type": "code",
   "execution_count": 45,
   "metadata": {
    "collapsed": true,
    "slideshow": {
     "slide_type": "-"
    }
   },
   "outputs": [],
   "source": [
    "buffered = BufferStudyArea(area='380 New York St Redlands CA 92373', \n",
    "                           radii=[5, 10], units='Minutes', \n",
    "                           travel_mode='Driving')\n",
    "drive_time_df = enrich(study_areas=[buffered], data_collections=['Age'])"
   ]
  },
  {
   "cell_type": "code",
   "execution_count": 46,
   "metadata": {
    "slideshow": {
     "slide_type": "-"
    }
   },
   "outputs": [
    {
     "data": {
      "text/html": [
       "<div>\n",
       "<style scoped>\n",
       "    .dataframe tbody tr th:only-of-type {\n",
       "        vertical-align: middle;\n",
       "    }\n",
       "\n",
       "    .dataframe tbody tr th {\n",
       "        vertical-align: top;\n",
       "    }\n",
       "\n",
       "    .dataframe thead th {\n",
       "        text-align: right;\n",
       "    }\n",
       "</style>\n",
       "<table border=\"1\" class=\"dataframe\">\n",
       "  <thead>\n",
       "    <tr style=\"text-align: right;\">\n",
       "      <th></th>\n",
       "      <th>FEM0</th>\n",
       "      <th>FEM10</th>\n",
       "      <th>FEM15</th>\n",
       "      <th>FEM20</th>\n",
       "      <th>FEM25</th>\n",
       "      <th>FEM30</th>\n",
       "      <th>FEM35</th>\n",
       "      <th>FEM40</th>\n",
       "      <th>FEM45</th>\n",
       "      <th>FEM5</th>\n",
       "      <th>...</th>\n",
       "      <th>OBJECTID</th>\n",
       "      <th>X</th>\n",
       "      <th>Y</th>\n",
       "      <th>aggregationMethod</th>\n",
       "      <th>areaType</th>\n",
       "      <th>bufferRadii</th>\n",
       "      <th>bufferUnits</th>\n",
       "      <th>bufferUnitsAlias</th>\n",
       "      <th>sourceCountry</th>\n",
       "      <th>SHAPE</th>\n",
       "    </tr>\n",
       "  </thead>\n",
       "  <tbody>\n",
       "    <tr>\n",
       "      <th>0</th>\n",
       "      <td>368</td>\n",
       "      <td>318</td>\n",
       "      <td>346</td>\n",
       "      <td>492</td>\n",
       "      <td>513</td>\n",
       "      <td>473</td>\n",
       "      <td>406</td>\n",
       "      <td>325</td>\n",
       "      <td>308</td>\n",
       "      <td>329</td>\n",
       "      <td>...</td>\n",
       "      <td>1</td>\n",
       "      <td>-117.19567</td>\n",
       "      <td>34.056488</td>\n",
       "      <td>BlockApportionment:US.BlockGroups</td>\n",
       "      <td>NetworkServiceArea</td>\n",
       "      <td>5</td>\n",
       "      <td>Minutes</td>\n",
       "      <td>Drive Time Minutes</td>\n",
       "      <td>US</td>\n",
       "      <td>{'spatialReference': {'latestWkid': 4326, 'wki...</td>\n",
       "    </tr>\n",
       "    <tr>\n",
       "      <th>1</th>\n",
       "      <td>2326</td>\n",
       "      <td>2285</td>\n",
       "      <td>2679</td>\n",
       "      <td>3042</td>\n",
       "      <td>3135</td>\n",
       "      <td>2991</td>\n",
       "      <td>2607</td>\n",
       "      <td>2351</td>\n",
       "      <td>2363</td>\n",
       "      <td>2293</td>\n",
       "      <td>...</td>\n",
       "      <td>2</td>\n",
       "      <td>-117.19567</td>\n",
       "      <td>34.056488</td>\n",
       "      <td>BlockApportionment:US.BlockGroups</td>\n",
       "      <td>NetworkServiceArea</td>\n",
       "      <td>10</td>\n",
       "      <td>Minutes</td>\n",
       "      <td>Drive Time Minutes</td>\n",
       "      <td>US</td>\n",
       "      <td>{'spatialReference': {'latestWkid': 4326, 'wki...</td>\n",
       "    </tr>\n",
       "  </tbody>\n",
       "</table>\n",
       "<p>2 rows × 48 columns</p>\n",
       "</div>"
      ],
      "text/plain": [
       "   FEM0  FEM10  FEM15  FEM20  FEM25  FEM30  FEM35  FEM40  FEM45  FEM5  \\\n",
       "0   368    318    346    492    513    473    406    325    308   329   \n",
       "1  2326   2285   2679   3042   3135   2991   2607   2351   2363  2293   \n",
       "\n",
       "                         ...                          OBJECTID          X  \\\n",
       "0                        ...                                 1 -117.19567   \n",
       "1                        ...                                 2 -117.19567   \n",
       "\n",
       "           Y                  aggregationMethod            areaType  \\\n",
       "0  34.056488  BlockApportionment:US.BlockGroups  NetworkServiceArea   \n",
       "1  34.056488  BlockApportionment:US.BlockGroups  NetworkServiceArea   \n",
       "\n",
       "   bufferRadii  bufferUnits    bufferUnitsAlias  sourceCountry  \\\n",
       "0            5      Minutes  Drive Time Minutes             US   \n",
       "1           10      Minutes  Drive Time Minutes             US   \n",
       "\n",
       "                                               SHAPE  \n",
       "0  {'spatialReference': {'latestWkid': 4326, 'wki...  \n",
       "1  {'spatialReference': {'latestWkid': 4326, 'wki...  \n",
       "\n",
       "[2 rows x 48 columns]"
      ]
     },
     "execution_count": 46,
     "metadata": {},
     "output_type": "execute_result"
    }
   ],
   "source": [
    "drive_time_df"
   ]
  },
  {
   "cell_type": "markdown",
   "metadata": {
    "slideshow": {
     "slide_type": "subslide"
    }
   },
   "source": [
    "### Visualize results on a map"
   ]
  },
  {
   "cell_type": "markdown",
   "metadata": {
    "slideshow": {
     "slide_type": "skip"
    }
   },
   "source": [
    "The returned spatial dataframe can be visualized on a map as shown below:"
   ]
  },
  {
   "cell_type": "code",
   "execution_count": 47,
   "metadata": {
    "slideshow": {
     "slide_type": "-"
    }
   },
   "outputs": [
    {
     "data": {
      "application/vnd.jupyter.widget-view+json": {
       "model_id": "bccf6f69675549f4ad6fb355f94f3db3",
       "version_major": 2,
       "version_minor": 0
      },
      "text/html": [
       "<p>Failed to display Jupyter Widget of type <code>MapView</code>.</p>\n",
       "<p>\n",
       "  If you're reading this message in Jupyter Notebook or JupyterLab, it may mean\n",
       "  that the widgets JavaScript is still loading. If this message persists, it\n",
       "  likely means that the widgets JavaScript library is either not installed or\n",
       "  not enabled. See the <a href=\"https://ipywidgets.readthedocs.io/en/stable/user_install.html\">Jupyter\n",
       "  Widgets Documentation</a> for setup instructions.\n",
       "</p>\n",
       "<p>\n",
       "  If you're reading this message in another notebook frontend (for example, a static\n",
       "  rendering on GitHub or <a href=\"https://nbviewer.jupyter.org/\">NBViewer</a>),\n",
       "  it may mean that your frontend doesn't currently support widgets.\n",
       "</p>\n"
      ],
      "text/plain": [
       "MapView(basemaps=['dark-gray', 'dark-gray-vector', 'gray', 'gray-vector', 'hybrid', 'national-geographic', 'oceans', 'osm', 'satellite', 'streets', 'streets-navigation-vector', 'streets-night-vector', 'streets-relief-vector', 'streets-vector', 'terrain', 'topo', 'topo-vector'], center=[0, 0])"
      ]
     },
     "metadata": {},
     "output_type": "display_data"
    }
   ],
   "source": [
    "redlands_map = gis.map('Redlands, CA')\n",
    "redlands_map.basemap = 'dark-gray-vector'\n",
    "redlands_map"
   ]
  },
  {
   "cell_type": "code",
   "execution_count": 48,
   "metadata": {
    "collapsed": true,
    "slideshow": {
     "slide_type": "-"
    }
   },
   "outputs": [],
   "source": [
    "redlands_map.draw(drive_time_df.to_featureset())"
   ]
  },
  {
   "cell_type": "markdown",
   "metadata": {
    "slideshow": {
     "slide_type": "subslide"
    }
   },
   "source": [
    "## Saving GeoEnrichment Results"
   ]
  },
  {
   "cell_type": "code",
   "execution_count": 48,
   "metadata": {
    "slideshow": {
     "slide_type": "-"
    }
   },
   "outputs": [
    {
     "data": {
      "text/html": [
       "<div class=\"item_container\" style=\"height: auto; overflow: hidden; border: 1px solid #cfcfcf; border-radius: 2px; background: #f6fafa; line-height: 1.21429em; padding: 10px;\">\n",
       "                    <div class=\"item_left\" style=\"width: 210px; float: left;\">\n",
       "                       <a href='https://m1nw.mapsqa.arcgis.com/home/item.html?id=e483959f1edd4a01b8be82a2e3b661c7' target='_blank'>\n",
       "                        <img src='http://static.arcgis.com/images/desktopapp.png' class=\"itemThumbnail\">\n",
       "                       </a>\n",
       "                    </div>\n",
       "\n",
       "                    <div class=\"item_right\"     style=\"float: none; width: auto; overflow: hidden;\">\n",
       "                        <a href='https://m1nw.mapsqa.arcgis.com/home/item.html?id=e483959f1edd4a01b8be82a2e3b661c7' target='_blank'><b>Age statistics within 5,10 minutes of drive time from Esri</b>\n",
       "                        </a>\n",
       "                        <br/><img src='https://m1nw.mapsqa.arcgis.com/home/js/jsapi/esri/css/images/item_type_icons/featureshosted16.png' style=\"vertical-align:middle;\">Feature Layer Collection by singhqa\n",
       "                        <br/>Last Modified: December 11, 2017\n",
       "                        <br/>0 comments, 0 views\n",
       "                    </div>\n",
       "                </div>\n",
       "                "
      ],
      "text/plain": [
       "<Item title:\"Age statistics within 5,10 minutes of drive time from Esri\" type:Feature Layer Collection owner:singhqa>"
      ]
     },
     "execution_count": 48,
     "metadata": {},
     "output_type": "execute_result"
    }
   ],
   "source": [
    "gis.content.import_data(df=drive_time_df, title=\"Age statistics within 5,10 minutes of drive time from Esri\")"
   ]
  }
 ],
 "metadata": {
  "anaconda-cloud": {},
  "kernelspec": {
   "display_name": "Python [default]",
   "language": "python",
   "name": "python3"
  },
  "language_info": {
   "codemirror_mode": {
    "name": "ipython",
    "version": 3
   },
   "file_extension": ".py",
   "mimetype": "text/x-python",
   "name": "python",
   "nbconvert_exporter": "python",
   "pygments_lexer": "ipython3",
   "version": "3.5.2"
  },
  "livereveal": {
   "scroll": true
  }
 },
 "nbformat": 4,
 "nbformat_minor": 2
}
