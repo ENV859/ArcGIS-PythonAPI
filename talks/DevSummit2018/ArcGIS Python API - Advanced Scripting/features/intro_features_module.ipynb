{
 "cells": [
  {
   "cell_type": "markdown",
   "metadata": {
    "slideshow": {
     "slide_type": "slide"
    }
   },
   "source": [
    "# `arcgis` package architecture\n",
    "![](http://esri.github.io/arcgis-python-api/notebooks/nbimages/guide_api_overview_01.png)"
   ]
  },
  {
   "cell_type": "markdown",
   "metadata": {
    "slideshow": {
     "slide_type": "slide"
    }
   },
   "source": [
    "# Introduction to the `features` module\n",
    "\n",
    "    Feature\n",
    "    FeatureSet\n",
    "    FeatureLayer / FeatureCollection\n",
    "    FeatureLayerCollection"
   ]
  },
  {
   "cell_type": "markdown",
   "metadata": {
    "slideshow": {
     "slide_type": "slide"
    }
   },
   "source": [
    "![](http://esri.github.io/arcgis-python-api/notebooks/nbimages/guide_features_01.png)"
   ]
  },
  {
   "cell_type": "markdown",
   "metadata": {
    "slideshow": {
     "slide_type": "slide"
    }
   },
   "source": [
    "Fortune 500 company example\n",
    " - Each company (single point in space) =  `Feature` object.\n",
    " - All East-coast companies profit > 5B = `FeatureSet`. A `FeatureSet` is a collection of `Feature` objects.\n",
    " - When published as a feature service on your GIS. That layer is a `FeatureLayer`.\n",
    " - The collection of all layers in the feature service is read as a `FeatureLayerCollection` object.\n",
    " - Alternate to `FeatureLayer` - can store as lightweight item = `FeatureCollection`.\n",
    "  - `FeatureCollection` is a `FeatureSet` + `layerDefinition` info"
   ]
  },
  {
   "cell_type": "markdown",
   "metadata": {},
   "source": [
    "On your enterprise, your feature data live either as a `FeatureLayer` or `FeatureCollection` which can also be an item without a feature service. The latter has a size limit though"
   ]
  },
  {
   "cell_type": "markdown",
   "metadata": {
    "slideshow": {
     "slide_type": "slide"
    }
   },
   "source": [
    " - `Item` object in your enterprise. Eg: fortune_500_2017\n",
    "  - `Item.layers` property will give either a \n",
    "    - list of [`FeatureLayer`] objects\n",
    "    - or a [`FeatureCollection`] object\n",
    "   \n",
    " - call the `query()` method on either a `FeatureLayer` or `FeatureCollection` you get\n",
    "  - `FeatureSet`\n",
    "  - `features` property of `FeatureSet` gives a list of `[Feature]` objects"
   ]
  },
  {
   "cell_type": "markdown",
   "metadata": {
    "slideshow": {
     "slide_type": "slide"
    }
   },
   "source": [
    "### Where to use what?\n",
    " - `Feature` - smallest entity. Cannot draw a single feature object.\n",
    "   - `geometry`, `attributes`, `fields`\n",
    " \n",
    " \n",
    " - `FeatureSet` - inputs to GP, can be drawn on map widget\n",
    "   - `df`, `spatial_reference`, `features`, `fields`\n",
    " \n",
    " \n",
    " - `FeatureCollection` - items in GIS, input to GP, output from GP\n",
    "  - `query()` [does not support where clause]\n",
    "  \n",
    "  \n",
    " - `FeatureLayer` - through individual layers of a feature services.\n",
    "  - `query()` [supports where clause], `attachments`\n",
    "  - `manager`, `edit_features()`, `calculate()`, `query_related_records()`\n",
    "  \n",
    "  \n",
    " - `FeatureLayerCollection` - through publishing as feature services"
   ]
  }
 ],
 "metadata": {
  "kernelspec": {
   "display_name": "Python 3",
   "language": "python",
   "name": "python3"
  },
  "language_info": {
   "codemirror_mode": {
    "name": "ipython",
    "version": 3
   },
   "file_extension": ".py",
   "mimetype": "text/x-python",
   "name": "python",
   "nbconvert_exporter": "python",
   "pygments_lexer": "ipython3",
   "version": "3.5.3"
  }
 },
 "nbformat": 4,
 "nbformat_minor": 1
}
