{
 "cells": [
  {
   "cell_type": "code",
   "execution_count": 1,
   "metadata": {
    "collapsed": true
   },
   "outputs": [],
   "source": [
    "from arcgis.gis import GIS\n",
    "from arcgis.features import FeatureLayerCollection, FeatureLayer"
   ]
  },
  {
   "cell_type": "code",
   "execution_count": 2,
   "metadata": {
    "collapsed": true
   },
   "outputs": [],
   "source": [
    "gis = GIS(\"https://python.playground.esri.com/portal\",\"atma.mani\")"
   ]
  },
  {
   "cell_type": "code",
   "execution_count": 3,
   "metadata": {},
   "outputs": [
    {
     "data": {
      "text/html": [
       "<div class=\"item_container\" style=\"height: auto; overflow: hidden; border: 1px solid #cfcfcf; border-radius: 2px; background: #f6fafa; line-height: 1.21429em; padding: 10px;\">\n",
       "                    <div class=\"item_left\" style=\"width: 210px; float: left;\">\n",
       "                       <a href='https://python.playground.esri.com/portal/home/item.html?id=916ec098b4d14f4c9d59d145f7409f81' target='_blank'>\n",
       "                        <img src='data:image/png;base64,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' width='200' height='133' class=\"itemThumbnail\">\n",
       "                       </a>\n",
       "                    </div>\n",
       "\n",
       "                    <div class=\"item_right\"     style=\"float: none; width: auto; overflow: hidden;\">\n",
       "                        <a href='https://python.playground.esri.com/portal/home/item.html?id=916ec098b4d14f4c9d59d145f7409f81' target='_blank'><b>fortune_500_styled_wfl</b>\n",
       "                        </a>\n",
       "                        <br/>fortune 500<img src='https://python.playground.esri.com/portal/home/js/jsapi/esri/css/images/item_type_icons/featureshosted16.png' style=\"vertical-align:middle;\">Feature Layer Collection by atma.mani\n",
       "                        <br/>Last Modified: July 13, 2017\n",
       "                        <br/>0 comments, 0 views\n",
       "                    </div>\n",
       "                </div>\n",
       "                "
      ],
      "text/plain": [
       "<Item title:\"fortune_500_styled_wfl\" type:Feature Layer Collection owner:atma.mani>"
      ]
     },
     "execution_count": 3,
     "metadata": {},
     "output_type": "execute_result"
    }
   ],
   "source": [
    "flc_item = gis.content.search('title:fortune_500_styled_wfl', 'Feature Layer')[0]\n",
    "flc_item"
   ]
  },
  {
   "cell_type": "code",
   "execution_count": 4,
   "metadata": {},
   "outputs": [
    {
     "data": {
      "text/plain": [
       "<FeatureLayerCollection url:\"http://python.playground.esri.com/server/rest/services/Hosted/fortune_500_styled/FeatureServer\">"
      ]
     },
     "execution_count": 4,
     "metadata": {},
     "output_type": "execute_result"
    }
   ],
   "source": [
    "flc= FeatureLayerCollection.fromitem(flc_item)\n",
    "flc"
   ]
  },
  {
   "cell_type": "markdown",
   "metadata": {},
   "source": [
    "## turn back new york"
   ]
  },
  {
   "cell_type": "code",
   "execution_count": 5,
   "metadata": {},
   "outputs": [
    {
     "data": {
      "text/plain": [
       "<FeatureLayer url:\"http://python.playground.esri.com/server/rest/services/Hosted/fortune_500_styled/FeatureServer/0\">"
      ]
     },
     "execution_count": 5,
     "metadata": {},
     "output_type": "execute_result"
    }
   ],
   "source": [
    "fl0 = flc.layers[0]\n",
    "fl0"
   ]
  },
  {
   "cell_type": "code",
   "execution_count": 6,
   "metadata": {
    "collapsed": true
   },
   "outputs": [],
   "source": [
    "fset = fl0.query()\n",
    "feats = fset.features"
   ]
  },
  {
   "cell_type": "code",
   "execution_count": 7,
   "metadata": {},
   "outputs": [
    {
     "data": {
      "text/html": [
       "<div>\n",
       "<style>\n",
       "    .dataframe thead tr:only-child th {\n",
       "        text-align: right;\n",
       "    }\n",
       "\n",
       "    .dataframe thead th {\n",
       "        text-align: left;\n",
       "    }\n",
       "\n",
       "    .dataframe tbody tr th {\n",
       "        vertical-align: top;\n",
       "    }\n",
       "</style>\n",
       "<table border=\"1\" class=\"dataframe\">\n",
       "  <thead>\n",
       "    <tr style=\"text-align: right;\">\n",
       "      <th></th>\n",
       "      <th>feature</th>\n",
       "      <th>name</th>\n",
       "      <th>objectid</th>\n",
       "      <th>pop</th>\n",
       "      <th>SHAPE</th>\n",
       "    </tr>\n",
       "  </thead>\n",
       "  <tbody>\n",
       "    <tr>\n",
       "      <th>0</th>\n",
       "      <td>Population greater than 999,999   County Seat</td>\n",
       "      <td>Los Angeles</td>\n",
       "      <td>1</td>\n",
       "      <td>3485398.0</td>\n",
       "      <td>{'y': 4035820.211774349, 'x': -13162974.851296...</td>\n",
       "    </tr>\n",
       "    <tr>\n",
       "      <th>1</th>\n",
       "      <td>Population greater than 999,999   County Seat</td>\n",
       "      <td>San Diego</td>\n",
       "      <td>2</td>\n",
       "      <td>1110549.0</td>\n",
       "      <td>{'y': 3857562.1830241606, 'x': -13041954.62036...</td>\n",
       "    </tr>\n",
       "    <tr>\n",
       "      <th>2</th>\n",
       "      <td>Population greater than 999,999   County Seat</td>\n",
       "      <td>Philadelphia</td>\n",
       "      <td>4</td>\n",
       "      <td>1585577.0</td>\n",
       "      <td>{'y': 4859017.708513573, 'x': -8367174.402575912}</td>\n",
       "    </tr>\n",
       "    <tr>\n",
       "      <th>3</th>\n",
       "      <td>Population greater than 999,999   County Seat</td>\n",
       "      <td>Dallas</td>\n",
       "      <td>5</td>\n",
       "      <td>1006877.0</td>\n",
       "      <td>{'y': 3866612.2823705524, 'x': -10775794.13167...</td>\n",
       "    </tr>\n",
       "    <tr>\n",
       "      <th>4</th>\n",
       "      <td>Population greater than 999,999   County Seat</td>\n",
       "      <td>Houston</td>\n",
       "      <td>6</td>\n",
       "      <td>1630553.0</td>\n",
       "      <td>{'y': 3473191.15015807, 'x': -10615848.742394906}</td>\n",
       "    </tr>\n",
       "    <tr>\n",
       "      <th>5</th>\n",
       "      <td>Population greater than 999,999   County Seat</td>\n",
       "      <td>Chicago</td>\n",
       "      <td>7</td>\n",
       "      <td>2783726.0</td>\n",
       "      <td>{'y': 5138534.111508258, 'x': -9757182.20522622}</td>\n",
       "    </tr>\n",
       "    <tr>\n",
       "      <th>6</th>\n",
       "      <td>Population greater than 999,999   County Seat</td>\n",
       "      <td>Detroit</td>\n",
       "      <td>8</td>\n",
       "      <td>1027974.0</td>\n",
       "      <td>{'y': 5210795.566323765, 'x': -9244611.481048988}</td>\n",
       "    </tr>\n",
       "    <tr>\n",
       "      <th>7</th>\n",
       "      <td>Population greater than 999,999   County Seat</td>\n",
       "      <td>New York</td>\n",
       "      <td>3</td>\n",
       "      <td>7322564.0</td>\n",
       "      <td>{'y': 4970310.197143376, 'x': -8238277.756585078}</td>\n",
       "    </tr>\n",
       "  </tbody>\n",
       "</table>\n",
       "</div>"
      ],
      "text/plain": [
       "                                         feature          name  objectid  \\\n",
       "0  Population greater than 999,999   County Seat   Los Angeles         1   \n",
       "1  Population greater than 999,999   County Seat     San Diego         2   \n",
       "2  Population greater than 999,999   County Seat  Philadelphia         4   \n",
       "3  Population greater than 999,999   County Seat        Dallas         5   \n",
       "4  Population greater than 999,999   County Seat       Houston         6   \n",
       "5  Population greater than 999,999   County Seat       Chicago         7   \n",
       "6  Population greater than 999,999   County Seat       Detroit         8   \n",
       "7  Population greater than 999,999   County Seat      New York         3   \n",
       "\n",
       "         pop                                              SHAPE  \n",
       "0  3485398.0  {'y': 4035820.211774349, 'x': -13162974.851296...  \n",
       "1  1110549.0  {'y': 3857562.1830241606, 'x': -13041954.62036...  \n",
       "2  1585577.0  {'y': 4859017.708513573, 'x': -8367174.402575912}  \n",
       "3  1006877.0  {'y': 3866612.2823705524, 'x': -10775794.13167...  \n",
       "4  1630553.0  {'y': 3473191.15015807, 'x': -10615848.742394906}  \n",
       "5  2783726.0   {'y': 5138534.111508258, 'x': -9757182.20522622}  \n",
       "6  1027974.0  {'y': 5210795.566323765, 'x': -9244611.481048988}  \n",
       "7  7322564.0  {'y': 4970310.197143376, 'x': -8238277.756585078}  "
      ]
     },
     "execution_count": 7,
     "metadata": {},
     "output_type": "execute_result"
    }
   ],
   "source": [
    "fset.df"
   ]
  },
  {
   "cell_type": "code",
   "execution_count": 14,
   "metadata": {},
   "outputs": [
    {
     "data": {
      "text/plain": [
       "{'feature': 'Population greater than 999,999   County Seat',\n",
       " 'name': 'New York City',\n",
       " 'objectid': 3,\n",
       " 'pop': 7322564.0}"
      ]
     },
     "execution_count": 14,
     "metadata": {},
     "output_type": "execute_result"
    }
   ],
   "source": [
    "ny_feature = [f for f in feats if f.attributes['name']=='New York City'][0]\n",
    "ny_feature.attributes"
   ]
  },
  {
   "cell_type": "code",
   "execution_count": 15,
   "metadata": {
    "collapsed": true
   },
   "outputs": [],
   "source": [
    "import copy\n",
    "ny_edit = copy.deepcopy(ny_feature)\n",
    "ny_edit.attributes['name'] = 'New York'"
   ]
  },
  {
   "cell_type": "code",
   "execution_count": 16,
   "metadata": {},
   "outputs": [
    {
     "data": {
      "text/plain": [
       "{'addResults': [],\n",
       " 'attachments': {'addResults': [], 'deleteResults': [], 'updateResults': []},\n",
       " 'deleteResults': [],\n",
       " 'updateResults': [{'globalId': None, 'objectId': 3, 'success': True}]}"
      ]
     },
     "execution_count": 16,
     "metadata": {},
     "output_type": "execute_result"
    }
   ],
   "source": [
    "update_result = fl0.edit_features(updates=[ny_edit])\n",
    "update_result"
   ]
  },
  {
   "cell_type": "markdown",
   "metadata": {},
   "source": [
    "## turn off edit capability"
   ]
  },
  {
   "cell_type": "code",
   "execution_count": 18,
   "metadata": {},
   "outputs": [
    {
     "data": {
      "text/plain": [
       "{'success': True}"
      ]
     },
     "execution_count": 18,
     "metadata": {},
     "output_type": "execute_result"
    }
   ],
   "source": [
    "flc.manager.update_definition({'capabilities':'Query'})"
   ]
  },
  {
   "cell_type": "code",
   "execution_count": 8,
   "metadata": {},
   "outputs": [
    {
     "data": {
      "text/plain": [
       "'Query'"
      ]
     },
     "execution_count": 8,
     "metadata": {},
     "output_type": "execute_result"
    }
   ],
   "source": [
    "flc.properties.capabilities"
   ]
  },
  {
   "cell_type": "code",
   "execution_count": null,
   "metadata": {
    "collapsed": true
   },
   "outputs": [],
   "source": []
  }
 ],
 "metadata": {
  "kernelspec": {
   "display_name": "Python 3",
   "language": "python",
   "name": "python3"
  },
  "language_info": {
   "codemirror_mode": {
    "name": "ipython",
    "version": 3
   },
   "file_extension": ".py",
   "mimetype": "text/x-python",
   "name": "python",
   "nbconvert_exporter": "python",
   "pygments_lexer": "ipython3",
   "version": "3.6.1"
  }
 },
 "nbformat": 4,
 "nbformat_minor": 2
}
