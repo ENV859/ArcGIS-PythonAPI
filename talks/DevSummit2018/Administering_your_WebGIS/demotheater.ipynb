{
 "cells": [
  {
   "cell_type": "code",
   "execution_count": 1,
   "metadata": {
    "collapsed": true,
    "slideshow": {
     "slide_type": "skip"
    }
   },
   "outputs": [],
   "source": [
    "from arcgis.gis import GIS"
   ]
  },
  {
   "cell_type": "markdown",
   "metadata": {
    "slideshow": {
     "slide_type": "slide"
    }
   },
   "source": [
    "<img src=\"./img/TitleSlide_4_3.png\" width=100%>"
   ]
  },
  {
   "cell_type": "markdown",
   "metadata": {
    "slideshow": {
     "slide_type": "slide"
    }
   },
   "source": [
    "# Agenda\n",
    "\n",
    "- Introduction\n",
    "- What is the ArcGIS API for Python?\n",
    "- Getting Started with GIS\n",
    "- Front End Configuration\n",
    "    + Demo: Front Configuration\n",
    "- ArcGIS Server\n",
    "    + Connecting to Stand Alone Server\n",
    "    + Server Logging\n",
    "- Questions"
   ]
  },
  {
   "cell_type": "markdown",
   "metadata": {
    "slideshow": {
     "slide_type": "slide"
    }
   },
   "source": [
    "<img src=\"./img/WhatIsAPI.png\" width=100%>"
   ]
  },
  {
   "cell_type": "markdown",
   "metadata": {
    "slideshow": {
     "slide_type": "slide"
    }
   },
   "source": [
    "<center><img src=\"./img/APIOverview.jpg\" width=90%></center>"
   ]
  },
  {
   "cell_type": "markdown",
   "metadata": {
    "slideshow": {
     "slide_type": "slide"
    }
   },
   "source": [
    "# The GIS Object\n",
    "\n",
    "- Window into the Web GIS World\n",
    "- Access point for using, consuming and managing content\n",
    "- Supports multiple login options:\n",
    "    + Built-In\n",
    "    + LDAP\n",
    "    + PKI\n",
    "    + WinAuth\n",
    "    + NTLM/Kerberos\n",
    "    + Oauth\n",
    "    + Anonymous"
   ]
  },
  {
   "cell_type": "code",
   "execution_count": 15,
   "metadata": {
    "collapsed": true,
    "slideshow": {
     "slide_type": "fragment"
    }
   },
   "outputs": [],
   "source": [
    "gis = GIS()"
   ]
  },
  {
   "cell_type": "code",
   "execution_count": 16,
   "metadata": {
    "collapsed": true,
    "slideshow": {
     "slide_type": "skip"
    }
   },
   "outputs": [],
   "source": [
    "import getpass"
   ]
  },
  {
   "cell_type": "code",
   "execution_count": 17,
   "metadata": {
    "slideshow": {
     "slide_type": "fragment"
    }
   },
   "outputs": [
    {
     "name": "stdout",
     "output_type": "stream",
     "text": [
      "········\n",
      "········\n"
     ]
    }
   ],
   "source": [
    "gis = GIS(username=getpass.getpass(), password=getpass.getpass())"
   ]
  },
  {
   "cell_type": "code",
   "execution_count": 18,
   "metadata": {
    "slideshow": {
     "slide_type": "subslide"
    }
   },
   "outputs": [
    {
     "data": {
      "text/html": [
       "<div class=\"9item_container\" style=\"height: auto; overflow: hidden; border: 1px solid #cfcfcf; border-radius: 2px; background: #f6fafa; line-height: 1.21429em; padding: 10px;\">\n",
       "                    <div class=\"item_left\" style=\"width: 210px; float: left;\">\n",
       "                       <a href='https://arcgissolutions.maps.arcgis.com/home/user.html?user=AndrewSolutions' target='_blank'>\n",
       "                        <img src='data:image/png;base64,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' width='200' height='133' class=\"itemThumbnail\">\n",
       "                       </a>\n",
       "                    </div>\n",
       "\n",
       "                    <div class=\"item_right\" style=\"float: none; width: auto; overflow: hidden;\">\n",
       "                        <a href='https://arcgissolutions.maps.arcgis.com/home/user.html?user=AndrewSolutions' target='_blank'><b>Andrew Chapkowski</b>\n",
       "                        </a>\n",
       "                        <br/><br/><b>Bio</b>: asddf\n",
       "                        <br/><b>First Name</b>: Andrew\n",
       "                        <br/><b>Last Name</b>: Chapkowski\n",
       "                        <br/><b>Username</b>: AndrewSolutions\n",
       "                        <br/><b>Joined</b>: February 12, 2014\n",
       "\n",
       "                    </div>\n",
       "                </div>\n",
       "                "
      ],
      "text/plain": [
       "<User username:AndrewSolutions>"
      ]
     },
     "execution_count": 18,
     "metadata": {},
     "output_type": "execute_result"
    }
   ],
   "source": [
    "gis.users.me"
   ]
  },
  {
   "cell_type": "markdown",
   "metadata": {
    "slideshow": {
     "slide_type": "slide"
    }
   },
   "source": [
    "# Configuring Portal \n",
    "\n",
    "- Administrators can fully customize the user experience\n",
    "\n",
    "## Demo: Customizing the Frontend"
   ]
  },
  {
   "cell_type": "markdown",
   "metadata": {
    "slideshow": {
     "slide_type": "fragment"
    }
   },
   "source": [
    "<center><img src='./img/PortalBegin.JPG' /></center>"
   ]
  },
  {
   "cell_type": "markdown",
   "metadata": {
    "slideshow": {
     "slide_type": "subslide"
    }
   },
   "source": [
    "## Demo: Customizing the Frontend\n",
    "\n",
    "- Accessing the UI"
   ]
  },
  {
   "cell_type": "code",
   "execution_count": 34,
   "metadata": {
    "slideshow": {
     "slide_type": "fragment"
    }
   },
   "outputs": [
    {
     "name": "stdout",
     "output_type": "stream",
     "text": [
      "Enter password: ········\n"
     ]
    }
   ],
   "source": [
    "from arcgis.gis import GIS\n",
    "gis = GIS(url=\"http://achap.esri.com/portal\", \n",
    "          username=\"admin\", verify_cert=False)"
   ]
  },
  {
   "cell_type": "code",
   "execution_count": 3,
   "metadata": {
    "collapsed": true,
    "slideshow": {
     "slide_type": "fragment"
    }
   },
   "outputs": [],
   "source": [
    "ux = gis.admin.ux"
   ]
  },
  {
   "cell_type": "markdown",
   "metadata": {
    "slideshow": {
     "slide_type": "fragment"
    }
   },
   "source": [
    "### UX Methods\n",
    "\n",
    "    + default_basemap\n",
    "    + default_extent\n",
    "    + description\n",
    "    + enable/disable comments\n",
    "    + feature content\n",
    "    + get/set background\n",
    "    + get/set banner\n",
    "    + get/set logo\n",
    "    + get/set name"
   ]
  },
  {
   "cell_type": "markdown",
   "metadata": {
    "slideshow": {
     "slide_type": "subslide"
    }
   },
   "source": [
    "# Setting the Featured Content Group"
   ]
  },
  {
   "cell_type": "code",
   "execution_count": 37,
   "metadata": {
    "slideshow": {
     "slide_type": "fragment"
    }
   },
   "outputs": [
    {
     "data": {
      "text/plain": [
       "{'count': 12, 'group': '2ef66730a418498990f78ace2b63c87c'}"
      ]
     },
     "execution_count": 37,
     "metadata": {},
     "output_type": "execute_result"
    }
   ],
   "source": [
    "ux.featured_content = {'count' : 12, 'group' : '2ef66730a418498990f78ace2b63c87c'}\n",
    "ux.featured_content"
   ]
  },
  {
   "cell_type": "markdown",
   "metadata": {
    "slideshow": {
     "slide_type": "subslide"
    }
   },
   "source": [
    "<center><img src=\"./img/PortalStep1.JPG\" /></center>"
   ]
  },
  {
   "cell_type": "markdown",
   "metadata": {
    "slideshow": {
     "slide_type": "slide"
    }
   },
   "source": [
    "# Turn off Description Visibility"
   ]
  },
  {
   "cell_type": "code",
   "execution_count": 38,
   "metadata": {
    "collapsed": true,
    "slideshow": {
     "slide_type": "fragment"
    }
   },
   "outputs": [],
   "source": [
    "ux.description_visibility = False"
   ]
  },
  {
   "cell_type": "markdown",
   "metadata": {
    "slideshow": {
     "slide_type": "fragment"
    }
   },
   "source": [
    "<center><img src=\"./img/PortalStep2.JPG\" /></center>"
   ]
  },
  {
   "cell_type": "markdown",
   "metadata": {
    "slideshow": {
     "slide_type": "subslide"
    }
   },
   "source": [
    "# Set the Banner\n",
    "\n",
    "<center><img src='./img/banner.jpg' /></center>"
   ]
  },
  {
   "cell_type": "code",
   "execution_count": 39,
   "metadata": {
    "slideshow": {
     "slide_type": "fragment"
    }
   },
   "outputs": [
    {
     "data": {
      "text/plain": [
       "True"
      ]
     },
     "execution_count": 39,
     "metadata": {},
     "output_type": "execute_result"
    }
   ],
   "source": [
    "ux.set_banner('./img/banner.jpg')"
   ]
  },
  {
   "cell_type": "markdown",
   "metadata": {
    "slideshow": {
     "slide_type": "subslide"
    }
   },
   "source": [
    "# Define Header Color "
   ]
  },
  {
   "cell_type": "code",
   "execution_count": 40,
   "metadata": {
    "slideshow": {
     "slide_type": "fragment"
    }
   },
   "outputs": [
    {
     "data": {
      "text/plain": [
       "True"
      ]
     },
     "execution_count": 40,
     "metadata": {},
     "output_type": "execute_result"
    }
   ],
   "source": [
    "gis.update_properties({\"description\": \n",
    "                       \"\"\"<br /><div class=\"WordSection1\">  </div><style>.siteHeader {   background: #ff8080 !important; } &amp;amp;lt;!--  /* Font Definitions */  @font-face  {font-family:&amp;amp;quot;Cambria Math&amp;amp;quot;;  panose-1:2 4 5 3 5 4 6 3 2 4;} @font-face  {font-family:Calibri;  panose-1:2 15 5 2 2 2 4 3 2 4;} @font-face  {font-family:&amp;amp;quot;Segoe UI&amp;amp;quot;;  panose-1:2 11 5 2 4 2 4 2 2 3;}  /* Style Definitions */  p.MsoNormal, li.MsoNormal, div.MsoNormal  {margin-top:0in;  margin-right:0in;  margin-bottom:8.0pt;  margin-left:0in;  line-height:107%;  font-size:11.0pt;  font-family:&amp;amp;quot;Calibri&amp;amp;quot;,sans-serif;} .MsoChpDefault  {font-family:&amp;amp;quot;Calibri&amp;amp;quot;,sans-serif;} .MsoPapDefault  {margin-bottom:8.0pt;  line-height:107%;}  /* Page Definitions */  @page WordSection1  {size:8.5in 11.0in;  margin:1.0in 1.0in 1.0in 1.0in;} div.WordSection1  {page:WordSection1;} --&amp;amp;gt; </style>\"\"\"})"
   ]
  },
  {
   "cell_type": "code",
   "execution_count": 41,
   "metadata": {
    "slideshow": {
     "slide_type": "skip"
    }
   },
   "outputs": [
    {
     "data": {
      "text/plain": [
       "True"
      ]
     },
     "execution_count": 41,
     "metadata": {},
     "output_type": "execute_result"
    }
   ],
   "source": [
    "color = \"#ff8080\"\n",
    "gis.update_properties({\"portalProperties\":{\"links\":{\"contactUs\":{\"url\":\"mailto:awesome@esri.com\",\"visible\":True}},\n",
    "                                           \"sharedTheme\":{\"header\":{\"background\":color,\"text\":None},\n",
    "                                                          \"body\":{\"background\":color,\"text\":None,\"link\":None},\n",
    "                                                          \"button\":{\"background\": None,\"text\": None},\n",
    "                                                          \"logo\":{\"small\": None}},\"showSocialMediaLinks\": True}})"
   ]
  },
  {
   "cell_type": "markdown",
   "metadata": {
    "slideshow": {
     "slide_type": "fragment"
    }
   },
   "source": [
    "# Add Contact Us"
   ]
  },
  {
   "cell_type": "code",
   "execution_count": 42,
   "metadata": {
    "slideshow": {
     "slide_type": "fragment"
    }
   },
   "outputs": [
    {
     "data": {
      "text/plain": [
       "True"
      ]
     },
     "execution_count": 42,
     "metadata": {},
     "output_type": "execute_result"
    }
   ],
   "source": [
    "gis.update_properties({\"portalProperties\":{\"links\":{\"contactUs\":{\"url\":\"mailto:awesome@esri.com\",\"visible\":True}}}})\n"
   ]
  },
  {
   "cell_type": "markdown",
   "metadata": {
    "slideshow": {
     "slide_type": "subslide"
    }
   },
   "source": [
    "# Set a New Background"
   ]
  },
  {
   "cell_type": "code",
   "execution_count": 43,
   "metadata": {
    "slideshow": {
     "slide_type": "fragment"
    }
   },
   "outputs": [
    {
     "data": {
      "text/plain": [
       "True"
      ]
     },
     "execution_count": 43,
     "metadata": {},
     "output_type": "execute_result"
    }
   ],
   "source": [
    "ux.set_background('./img/background.png')"
   ]
  },
  {
   "cell_type": "markdown",
   "metadata": {
    "slideshow": {
     "slide_type": "slide"
    }
   },
   "source": [
    "<center><img src=\"./img/PortalStep3.JPG\" /></center>"
   ]
  },
  {
   "cell_type": "markdown",
   "metadata": {
    "slideshow": {
     "slide_type": "subslide"
    }
   },
   "source": [
    "# Fixing the Mess We've Made"
   ]
  },
  {
   "cell_type": "code",
   "execution_count": 44,
   "metadata": {
    "collapsed": true,
    "slideshow": {
     "slide_type": "skip"
    }
   },
   "outputs": [],
   "source": [
    "desc = \"\"\"<style> lt;!--  /* Font Definitions */  @font-face  {font-family:&amp;amp;amp;quot;Cambria Math&amp;amp;amp;quot;;  panose-1:2 4 5 3 5 4 6 3 2 4;} @font-face  {font-family:Calibri;  panose-1:2 15 5 2 2 2 4 3 2 4;} @font-face  {font-family:&amp;amp;amp;quot;Segoe UI&amp;amp;amp;quot;;  panose-1:2 11 5 2 4 2 4 2 2 3;}  /* Style Definitions */  p.MsoNormal, li.MsoNormal, div.MsoNormal  {margin-top:0in;  margin-right:0in;  margin-bottom:8.0pt;  margin-left:0in;  line-height:107%;  font-size:11.0pt;  font-family:&amp;amp;amp;quot;Calibri&amp;amp;amp;quot;,sans-serif;} .MsoChpDefault  {font-family:&amp;amp;amp;quot;Calibri&amp;amp;amp;quot;,sans-serif;} .MsoPapDefault  {margin-bottom:8.0pt;  line-height:107%;}  /* Page Definitions */  @page WordSection1  {size:8.5in 11.0in;  margin:1.0in 1.0in 1.0in 1.0in;} div.WordSection1  {page:WordSection1;} --&amp;amp;amp;gt; </style>      <div class=\"WordSection1\">  <p class=\"MsoNormal\" style=\"margin-top:2.0pt;margin-right:0in;margin-bottom:2.0pt; margin-left:0in;line-height:normal;text-autospace:none\"><br /></p>  </div>\"\"\""
   ]
  },
  {
   "cell_type": "code",
   "execution_count": 45,
   "metadata": {
    "slideshow": {
     "slide_type": "fragment"
    }
   },
   "outputs": [
    {
     "data": {
      "text/plain": [
       "True"
      ]
     },
     "execution_count": 45,
     "metadata": {},
     "output_type": "execute_result"
    }
   ],
   "source": [
    "ux.set_background(None)\n",
    "ux.set_banner(None)\n",
    "ux.set_logo(None)\n",
    "ux.featured_content = None\n",
    "ux.description_visibility = True\n",
    "gis.update_properties({\"portalProperties\":{\"links\":{\"contactUs\":{\"url\":\"mailto:awesome@esri.com\",\"visible\":False}},\n",
    "                                           \"sharedTheme\":{\"header\":{\"background\":None,\"text\":None},\n",
    "                                                          \"body\":{\"background\":None,\"text\":None,\"link\":None},\n",
    "                                                          \"button\":{\"background\": None,\"text\": None},\n",
    "                                                          \"logo\":{\"small\": None}},\"showSocialMediaLinks\": True}})\n",
    "gis.update_properties({\"description\": desc})"
   ]
  },
  {
   "cell_type": "markdown",
   "metadata": {
    "slideshow": {
     "slide_type": "slide"
    }
   },
   "source": [
    "# Connecting to a standalone (unfederated) ArcGIS Server"
   ]
  },
  {
   "cell_type": "code",
   "execution_count": 1,
   "metadata": {
    "slideshow": {
     "slide_type": "slide"
    }
   },
   "outputs": [
    {
     "name": "stderr",
     "output_type": "stream",
     "text": [
      "The GIS uses Integrated Windows Authentication which is currently only supported on the Windows platform\n"
     ]
    },
    {
     "data": {
      "text/plain": [
       "<Server at http://ec2-34-213-249-91.us-west-2.compute.amazonaws.com:6080/arcgis/admin>"
      ]
     },
     "execution_count": 1,
     "metadata": {},
     "output_type": "execute_result"
    }
   ],
   "source": [
    "from arcgis.gis.server import Server\n",
    "\n",
    "server_base_url = \"http://ec2-34-213-249-91.us-west-2.compute.amazonaws.com\"\n",
    "server = Server(url=\"{}:6080/arcgis/admin\".format(server_base_url),\n",
    "                tokenurl=\"{}:6080/arcgis/rest/generateToken\".format(server_base_url),\n",
    "                username=\"admin\",\n",
    "                password=\"<insert_password_here>\")\n",
    "server"
   ]
  },
  {
   "cell_type": "markdown",
   "metadata": {
    "slideshow": {
     "slide_type": "slide"
    }
   },
   "source": [
    "# Display folder contents"
   ]
  },
  {
   "cell_type": "code",
   "execution_count": 5,
   "metadata": {
    "slideshow": {
     "slide_type": "slide"
    }
   },
   "outputs": [
    {
     "name": "stdout",
     "output_type": "stream",
     "text": [
      "ebola/\n",
      "    ebola_outbreaks (MapServer)\n",
      "Health_Data/\n",
      "    Breast_Cancer_Data (MapServer)\n",
      "    Flu_Cases_2014 (MapServer)\n",
      "System/\n",
      "    CachingControllers (GPServer)\n",
      "    CachingToolsEx (GPServer)\n",
      "    CachingTools (GPServer)\n",
      "    PublishingToolsEx (GPServer)\n",
      "    PublishingTools (GPServer)\n",
      "    ReportingTools (GPServer)\n",
      "    SceneCachingControllers (GPServer)\n",
      "    SceneCachingTools (GPServer)\n",
      "    SyncToolsEx (GPServer)\n",
      "    SyncTools (GPServer)\n",
      "    UtilityNetworkTools (GPServer)\n",
      "Utilities/\n",
      "    Raster)\n"
     ]
    }
   ],
   "source": [
    "def _get_readable_item_str(url, folder):\n",
    "    \"\"\"Parse the service item URL to a readable representation \n",
    "    of the item and it's server type\"\"\"\n",
    "    item_part_of_url = url.split(\"{}/\".format(folder))[1]\n",
    "    return item_part_of_url.replace(\"/\", \" (\") + \")\" #Add (type) at end\n",
    "\n",
    "def _print_content_dir(server):\n",
    "    \"\"\"Prints out the content in all server dir (minus root dir)\"\"\"\n",
    "    for folder in server.content.folders:\n",
    "        print(\"{}/\".format(folder))\n",
    "        for item in server.content.list(folder):\n",
    "            print(\"    {}\".format(\n",
    "                _get_readable_item_str(item.url, folder)))\n",
    "\n",
    "_print_content_dir(server)"
   ]
  },
  {
   "cell_type": "code",
   "execution_count": 6,
   "metadata": {
    "slideshow": {
     "slide_type": "slide"
    }
   },
   "outputs": [
    {
     "data": {
      "text/plain": [
       "{'accessInformation': 'Esri, National Cancer Institute, National Vital Statistics System public use data file',\n",
       " 'catalogPath': '',\n",
       " 'culture': 'en-US',\n",
       " 'description': \"Age-adjusted breast cancer mortality rates are for the United States by county and reflect an average of the years 2006-2010. Data are from the National Cancer Institute's State Cancer Profiles web site http://statecancerprofiles.cancer.gov/). Data were downloaded from the interactive maps in at this web site: http://statecancerprofiles.cancer.gov/map/map.noimage.php. The data are for the U.S. by county for Breast Cancer Rates. The data are for White (including Hispanic) and Black (including Hispanic) Females of all ages. The rates are five-year averages of the number of deaths per 100,000 women, and the 100,000 women are the women in the resident population, or the population being described (e.g., black women of all ages for the black female mortality rate or white women of all ages for the white female mortality rate) (source: http://seer.cancer.gov/statistics/types/mortality.html.)\\n\\nCounty Health Rankings & Roadmap data include:\\n• Obesity - the percent of the adult population that has a body mass index greater than or equal to 30.\\n• Physical inactivity - the percent of the adult population that during the past month did not participate in any leisure-time physical activity or exercise such as running, calisthenics, golf, gardening, or walking for exercise.\\n• Excessive Drinking - the percent of adults that report either binge drinking (consuming more than 4 (women) or 5 (men) alcoholic beverages on a single occasion in the past 30 days) or heavy drinking (consuming more than one (women) or 2 (men) drinks per day on average.\",\n",
       " 'extent': [[-180, 0.0968832778805711], [180, 90]],\n",
       " 'guid': '366680B4-C108-4F1B-AC0E-CB7D29710C46',\n",
       " 'licenseInfo': '',\n",
       " 'name': 'Breast_Cancer_Data',\n",
       " 'snippet': 'Age-adjusted breast cancer mortality rates for the United States by county, 2006-2010',\n",
       " 'spatialReference': 'USA_Contiguous_Albers_Equal_Area_Conic',\n",
       " 'summary': 'Age-adjusted breast cancer mortality rates for the United States by county, 2006-2010',\n",
       " 'tags': ['breast',\n",
       "  'cancer',\n",
       "  'mortality',\n",
       "  'death',\n",
       "  'black',\n",
       "  'white',\n",
       "  'women',\n",
       "  'NCI'],\n",
       " 'thumbnail': 'thumbnail/thumbnail.png',\n",
       " 'title': 'Bridging the Breast Cancer Divide',\n",
       " 'type': 'Map Service',\n",
       " 'typeKeywords': ['Data', 'Service', 'Map Service', 'ArcGIS Server'],\n",
       " 'url': ''}"
      ]
     },
     "execution_count": 6,
     "metadata": {},
     "output_type": "execute_result"
    }
   ],
   "source": [
    "breast_cancer_item = server.content.list(\"Health_Data\")[0]\n",
    "breast_cancer_item.item_info"
   ]
  },
  {
   "cell_type": "markdown",
   "metadata": {
    "slideshow": {
     "slide_type": "slide"
    }
   },
   "source": [
    "# Display layer information"
   ]
  },
  {
   "cell_type": "code",
   "execution_count": 7,
   "metadata": {
    "slideshow": {
     "slide_type": "slide"
    }
   },
   "outputs": [
    {
     "name": "stdout",
     "output_type": "stream",
     "text": [
      "Breast_Cancer_Data                 /Breast_Cancer_Data/MapServer/0    \n",
      "Boundaries                         /Breast_Cancer_Data/MapServer/1    \n",
      "USA                                /Breast_Cancer_Data/MapServer/2    \n",
      "States                             /Breast_Cancer_Data/MapServer/3    \n",
      "Counties                           /Breast_Cancer_Data/MapServer/4    \n",
      "White Female Mortality Rate        /Breast_Cancer_Data/MapServer/5    \n",
      "Black Female Mortality Rate        /Breast_Cancer_Data/MapServer/6    \n",
      "Suppressed Data                    /Breast_Cancer_Data/MapServer/7    \n"
     ]
    }
   ],
   "source": [
    "for layer in breast_cancer_item.layers:\n",
    "    print(\"%-35s%-35s\" % (layer.properties[\"name\"], layer.url.split(\"Health_Data\")[1]))"
   ]
  },
  {
   "cell_type": "code",
   "execution_count": 8,
   "metadata": {
    "slideshow": {
     "slide_type": "slide"
    }
   },
   "outputs": [
    {
     "name": "stdout",
     "output_type": "stream",
     "text": [
      "From:  http://statecancerprofiles.cancer.gov/suppressed.html\n",
      "\n",
      "When the numbers of cases (or deaths) used to compute the incidence (and death) rates (and trends) are small, those rates (and trends) tend to have poor reliability. Therefore, to discourage misinterpretation and misuse of counts, rates, and trends that are unstable because of the small number of cases or deaths, these statistics are not shown in tables and figures if the counts are less than 16 for the time period. A count of less than approximately 16 in a numerator results in a standard error of the rate that is approximately 25% or more as large as the rate itself. Equivalently, a count of less than approximately 16 results in the width of the 95% confidence interval around the rate being at least as large as the rate itself. These relationships were derived under the assumption of a Poisson process and with the standard population age distribution close to the observed population age distribution. \n",
      "\n",
      "Another important reason for employing a cell suppression threshold value is to protect the confidentiality of patients whose data are included in a report by reducing or eliminating the risk of identity disclosure. The cell suppression threshold value of 16, which was selected to reduce misuse and misinterpretation of unstable rates and trends in this report, is more than sufficient to protect patient confidentiality given the low level of geographic and clinical detail provided. \n",
      "\n"
     ]
    }
   ],
   "source": [
    "suppressed_data_layer = breast_cancer_item.layers[7]\n",
    "print(suppressed_data_layer.properties[\"description\"])"
   ]
  },
  {
   "cell_type": "markdown",
   "metadata": {
    "slideshow": {
     "slide_type": "slide"
    }
   },
   "source": [
    "# Starting and stopping services"
   ]
  },
  {
   "cell_type": "code",
   "execution_count": 2,
   "metadata": {
    "slideshow": {
     "slide_type": "slide"
    }
   },
   "outputs": [
    {
     "name": "stdout",
     "output_type": "stream",
     "text": [
      "SampleWorldCities\n",
      "-----------------\n",
      "The SampleWorldCities service is provided so you can quickly and easily preview the functionality of the GIS server. Click the thumbnail image to open in a web application. This sample service is optional and can be deleted.\n"
     ]
    }
   ],
   "source": [
    "sample_service = server.services.list()[0]\n",
    "print(\"{}\\n-----------------\\n{}\".format(\n",
    "    sample_service.properties[\"serviceName\"],\n",
    "    sample_service.properties[\"description\"]))"
   ]
  },
  {
   "cell_type": "code",
   "execution_count": 3,
   "metadata": {
    "slideshow": {
     "slide_type": "slide"
    }
   },
   "outputs": [
    {
     "name": "stdout",
     "output_type": "stream",
     "text": [
      "Current status of service 'SampleWorldCities': STARTED\n"
     ]
    }
   ],
   "source": [
    "def print_service_status(service):\n",
    "    print(\"Current status of service '{}': {}\".format(\n",
    "        sample_service.properties[\"serviceName\"],\n",
    "        sample_service.status[\"realTimeState\"]))\n",
    "\n",
    "print_service_status(sample_service)"
   ]
  },
  {
   "cell_type": "code",
   "execution_count": 4,
   "metadata": {
    "slideshow": {
     "slide_type": "slide"
    }
   },
   "outputs": [
    {
     "name": "stdout",
     "output_type": "stream",
     "text": [
      "Stopping service 'SampleWorldCities' Succeeded\n",
      "Current status of service 'SampleWorldCities': STOPPED\n"
     ]
    }
   ],
   "source": [
    "outcome = sample_service.stop()\n",
    "print(\"Stopping service '{}' {}\".format(sample_service.properties[\"serviceName\"],\n",
    "                                        \"Succeeded\" if outcome else \"Failed\"))\n",
    "print_service_status(sample_service)"
   ]
  },
  {
   "cell_type": "code",
   "execution_count": 6,
   "metadata": {
    "slideshow": {
     "slide_type": "slide"
    }
   },
   "outputs": [
    {
     "name": "stdout",
     "output_type": "stream",
     "text": [
      "Starting service 'SampleWorldCities' Succeeded\n",
      "Current status of service 'SampleWorldCities': STARTED\n"
     ]
    }
   ],
   "source": [
    "outcome = sample_service.start()\n",
    "print(\"Starting service '{}' {}\".format(sample_service.properties[\"serviceName\"],\n",
    "                                        \"Succeeded\" if outcome else \"Failed\"))\n",
    "print_service_status(sample_service)"
   ]
  },
  {
   "cell_type": "markdown",
   "metadata": {
    "slideshow": {
     "slide_type": "slide"
    }
   },
   "source": [
    "# Log analysis"
   ]
  },
  {
   "cell_type": "code",
   "execution_count": 7,
   "metadata": {
    "slideshow": {
     "slide_type": "slide"
    }
   },
   "outputs": [
    {
     "data": {
      "text/plain": [
       "[{'code': 20010,\n",
       "  'elapsed': '',\n",
       "  'machine': '10.0.0.250',\n",
       "  'message': 'Error executing tool. CreateBuffers Job ID: jded85941342647cf9aa6550897d34af1 : {\"messageCode\": \"AO_100012\", \"message\": \"CreateBuffers failed.\"}\\nFailed to execute (CreateBuffers).',\n",
       "  'methodName': 'GPServerSync.CheckMessages',\n",
       "  'process': '31221',\n",
       "  'source': 'System/SpatialAnalysisTools.GPServer',\n",
       "  'thread': '81',\n",
       "  'time': 1519888394800,\n",
       "  'type': 'SEVERE',\n",
       "  'user': 'arcgis_python'},\n",
       " {'code': 500000,\n",
       "  'elapsed': '',\n",
       "  'machine': '10.0.0.250',\n",
       "  'message': 'Table not registered [db_60vw8.hsu_a635a.Fire_Buffers_2018_03_01_16_12_53_Fire_Buffers_2018]',\n",
       "  'methodName': '',\n",
       "  'process': '31221',\n",
       "  'source': 'System/SpatialAnalysisTools.GPServer',\n",
       "  'thread': '81',\n",
       "  'time': 1519888394291,\n",
       "  'type': 'SEVERE',\n",
       "  'user': 'arcgis_python'}]"
      ]
     },
     "execution_count": 7,
     "metadata": {},
     "output_type": "execute_result"
    }
   ],
   "source": [
    "import datetime\n",
    "from arcgis.gis import GIS\n",
    "g = GIS(\"https://python.playground.esri.com/portal\", \"arcgis_python\", \"<insert_password_here>\")\n",
    "server = g.admin.servers.list()[0]\n",
    "messages = server.logs.query(datetime.datetime.now().isoformat(),\n",
    "                             level=\"SEVERE\")[\"logMessages\"]\n",
    "messages[:2]"
   ]
  },
  {
   "cell_type": "code",
   "execution_count": 11,
   "metadata": {
    "slideshow": {
     "slide_type": "slide"
    }
   },
   "outputs": [
    {
     "data": {
      "text/plain": [
       "[{'code': 23836,\n",
       "  'elapsed': '',\n",
       "  'machine': '10.0.0.250',\n",
       "  'message': 'The maximum number of records allowed has been exceeded.',\n",
       "  'methodName': 'Generate',\n",
       "  'process': '27046',\n",
       "  'source': 'System/PublishingTools.GPServer',\n",
       "  'thread': '75',\n",
       "  'time': 1516300916506,\n",
       "  'type': 'SEVERE',\n",
       "  'user': 'arcgis_python'},\n",
       " {'code': 23836,\n",
       "  'elapsed': '',\n",
       "  'machine': '10.0.0.250',\n",
       "  'message': \"Failed to connect to the server.: ERROR: In-server connection failed. Server is federated but server environment doesn't have a referer.\",\n",
       "  'methodName': 'pubSD.execute',\n",
       "  'process': '31406',\n",
       "  'source': 'System/PublishingTools.GPServer',\n",
       "  'thread': '90',\n",
       "  'time': 1513116850188,\n",
       "  'type': 'SEVERE',\n",
       "  'user': '0123456789ABCDEF::arcgis_python'}]"
      ]
     },
     "execution_count": 11,
     "metadata": {},
     "output_type": "execute_result"
    }
   ],
   "source": [
    "grouped_messages[23836]"
   ]
  },
  {
   "cell_type": "code",
   "execution_count": 10,
   "metadata": {
    "slideshow": {
     "slide_type": "slide"
    }
   },
   "outputs": [
    {
     "name": "stdout",
     "output_type": "stream",
     "text": [
      "Error code 20010 reported 82 times\n",
      "Error code 500000 reported 78 times\n",
      "Error code 9000 reported 7 times\n",
      "Error code 6602 reported 12 times\n",
      "Error code 9003 reported 4 times\n",
      "Error code 9016 reported 4 times\n",
      "Error code 23836 reported 2 times\n",
      "Error code 17103 reported 1 times\n",
      "Error code 50000 reported 2 times\n"
     ]
    }
   ],
   "source": [
    "from itertools import groupby\n",
    "\n",
    "#Group messages by their error code\n",
    "grouped_messages = {}\n",
    "for key, group in groupby(messages, lambda x: x[\"code\"]):\n",
    "    if key in grouped_messages:\n",
    "        grouped_messages[key].append(list(group)[0])\n",
    "    else:\n",
    "        grouped_messages[key] = [list(group)[0]]\n",
    "\n",
    "#Display the frequency of displayed messages\n",
    "for key in grouped_messages:\n",
    "    print(\"Error code {} reported {} times\".format(key, len(grouped_messages[key])))"
   ]
  },
  {
   "cell_type": "code",
   "execution_count": 13,
   "metadata": {
    "slideshow": {
     "slide_type": "slide"
    }
   },
   "outputs": [
    {
     "data": {
      "image/png": "[encoded data removed]",
      "text/plain": [
       "<matplotlib.figure.Figure at 0x11c3ef390>"
      ]
     },
     "metadata": {},
     "output_type": "display_data"
    }
   ],
   "source": [
    "import matplotlib.pyplot as plt\n",
    "fig, ax = plt.subplots()\n",
    "plt.bar(list(str(x) for x in grouped_messages.keys()),\n",
    "        list(len(x) for x in grouped_messages.values()))\n",
    "fig.autofmt_xdate() #format x axis\n",
    "plt.show()"
   ]
  },
  {
   "cell_type": "markdown",
   "metadata": {
    "slideshow": {
     "slide_type": "slide"
    }
   },
   "source": [
    "# Working without notebooks"
   ]
  },
  {
   "cell_type": "markdown",
   "metadata": {
    "slideshow": {
     "slide_type": "slide"
    }
   },
   "source": [
    "<img src='./img/IDE_example.png'/>"
   ]
  },
  {
   "cell_type": "markdown",
   "metadata": {
    "slideshow": {
     "slide_type": "slide"
    }
   },
   "source": [
    "<img src='./img/standalone_script_demo.gif'/>"
   ]
  },
  {
   "cell_type": "markdown",
   "metadata": {
    "slideshow": {
     "slide_type": "slide"
    }
   },
   "source": [
    "<img src='./img/jenkins_overview.gif'/>"
   ]
  },
  {
   "cell_type": "markdown",
   "metadata": {
    "slideshow": {
     "slide_type": "slide"
    }
   },
   "source": [
    "# Questions?\n",
    "\n",
    "<img src='./img/survey.JPG'/>"
   ]
  },
  {
   "cell_type": "markdown",
   "metadata": {
    "slideshow": {
     "slide_type": "slide"
    }
   },
   "source": [
    "<img src='./img/Sessions.png'/>"
   ]
  },
  {
   "cell_type": "markdown",
   "metadata": {
    "slideshow": {
     "slide_type": "slide"
    }
   },
   "source": [
    "### Additional Reference\n",
    "\n",
    "Source: https://enterprise.arcgis.com/en/server/10.3/administer/linux/log-codes-overview.htm\n",
    "\n",
    "Log code number ranges are associated with certain types of messages.\n",
    "\n",
    " * Codes below 10,000 are logged by the core framework of ArcGIS Server.\n",
    " * Codes between 10,000 and 100,000 pertain to services.\n",
    " * Codes above 100,000 are core ArcObjects component-related messages that may also be used in ArcGIS Engine or ArcGIS for Desktop."
   ]
  },
  {
   "cell_type": "markdown",
   "metadata": {
    "slideshow": {
     "slide_type": "slide"
    }
   },
   "source": [
    "Log code range | Message content\n",
    "---------------|----------------\n",
    "0-9999 | Core ArcGIS Server framework\n",
    "10000–10999 | Map services\n",
    "11000–11999 | Mobile data services\n",
    "12000–12999 |KML services\n",
    "13000–13999 | Network Analysis services\n",
    "14000–14999 | WFS services created from map services\n",
    "15000–15999 | WCS services created from map services\n",
    "16000–16999 |WMS services created from map services\n",
    "17000–19999 | Feature services\n",
    "20000–20999 | Geoprocessing services\n",
    "21000–21999 | Synchronous geoprocessing services\n",
    "30000–30999 | Globe services\n",
    "60000–60999 | Geometry services\n",
    "70000–70999 | Geocode services\n",
    "... | ...\n",
    "100000–100999 | System\n",
    "101000–101999 | Geometry\n",
    "102000–102999 |Geodatabase\n",
    "103000–103999 | Carto\n",
    "104000–104999 | Display\n",
    "105000–105999 | Output\n",
    "106000–106999 | Geoprocessing\n",
    "107000–107999 | Globe\n",
    "108000–108999 | 3D\n",
    "109000–109999 | Network Analyst\n",
    "110000–110999 | ArcGIS Data Store\n",
    "...|..."
   ]
  },
  {
   "cell_type": "markdown",
   "metadata": {
    "slideshow": {
     "slide_type": "slide"
    }
   },
   "source": [
    "<img src='./img/lastslide.JPG'/>"
   ]
  }
 ],
 "metadata": {
  "celltoolbar": "Slideshow",
  "kernelspec": {
   "display_name": "Python 3",
   "language": "python",
   "name": "python3"
  },
  "language_info": {
   "codemirror_mode": {
    "name": "ipython",
    "version": 3
   },
   "file_extension": ".py",
   "mimetype": "text/x-python",
   "name": "python",
   "nbconvert_exporter": "python",
   "pygments_lexer": "ipython3",
   "version": "3.6.1"
  }
 },
 "nbformat": 4,
 "nbformat_minor": 2
}
