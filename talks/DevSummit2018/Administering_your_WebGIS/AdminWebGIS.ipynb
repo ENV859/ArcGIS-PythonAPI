{
 "cells": [
  {
   "cell_type": "markdown",
   "metadata": {
    "slideshow": {
     "slide_type": "subslide"
    }
   },
   "source": [
    "# ArcGIS API for Python: Administering Your Web GIS\n",
    "\n",
    "+ Andrew Chapkowski\n",
    "+ Bill Major"
   ]
  },
  {
   "cell_type": "markdown",
   "metadata": {
    "slideshow": {
     "slide_type": "slide"
    }
   },
   "source": [
    "# Agenda\n",
    "\n",
    "### Portal and ArcGIS Online Administration\n",
    "\n",
    "- Common Portal Administration Tasks\n",
    "    + Creating Users\n",
    "    + Assigning Groups\n",
    "    + Loading Content\n",
    "\n",
    "- Migrating GIS resources\n",
    "- Credit Monitoring\n",
    "- Usage Statistics\n"
   ]
  },
  {
   "cell_type": "markdown",
   "metadata": {
    "slideshow": {
     "slide_type": "slide"
    }
   },
   "source": [
    "# Agenda \n",
    "\n",
    "### Server Administration\n",
    "\n",
    "- services\n",
    "- folders\n",
    "- logs\n",
    "- usage\n",
    "\n",
    "### Automating the API\n",
    "- Scheduling Scripts\n",
    "- AWS Lambda"
   ]
  },
  {
   "cell_type": "markdown",
   "metadata": {
    "slideshow": {
     "slide_type": "slide"
    }
   },
   "source": [
    "# What is Enterprise GIS?\n",
    "\n",
    "<center><img src=\"http://www.esri.com/~/media/Images/Content/technology-topics/enterprise-gis/graphics/enterprise.jpg\" /></center>\n",
    "\n",
    "- It is a platform for delivering organization-wide geospatial capabilities while improving access to geographic information and extending geospatial capabilities to nontraditional users of GIS."
   ]
  },
  {
   "cell_type": "markdown",
   "metadata": {
    "slideshow": {
     "slide_type": "slide"
    }
   },
   "source": [
    "# The ArcGIS API for Python\n",
    "\n",
    "- Python library for working with maps and geospatial data, powered by web GIS\n",
    "- Provides simple and efficient tools:\n",
    "\n",
    "    + vector and raster analysis\n",
    "    + geocoding\n",
    "    + content presentation\n",
    "    + routing\n",
    "    + managing organizations\n",
    "    + user, content, group management\n",
    "\n",
    "\n"
   ]
  },
  {
   "cell_type": "markdown",
   "metadata": {
    "slideshow": {
     "slide_type": "slide"
    }
   },
   "source": [
    "# Getting Started \n",
    "\n",
    "- Use the **GIS** to connect to the site.\n",
    "    + supports multiple types of authentication\n",
    "\n"
   ]
  },
  {
   "cell_type": "code",
   "execution_count": 1,
   "metadata": {
    "slideshow": {
     "slide_type": "fragment"
    }
   },
   "outputs": [],
   "source": [
    "from arcgis.gis import GIS"
   ]
  },
  {
   "cell_type": "code",
   "execution_count": 2,
   "metadata": {
    "slideshow": {
     "slide_type": "fragment"
    }
   },
   "outputs": [],
   "source": [
    "gis = GIS(url=\"http://python.playground.esri.com/portal\")"
   ]
  },
  {
   "cell_type": "code",
   "execution_count": 3,
   "metadata": {
    "slideshow": {
     "slide_type": "fragment"
    }
   },
   "outputs": [
    {
     "name": "stdout",
     "output_type": "stream",
     "text": [
      "Enter password: ········\n"
     ]
    }
   ],
   "source": [
    "gis = GIS(url=\"http://python.playground.esri.com/portal\", \n",
    "          username='andrew')"
   ]
  },
  {
   "cell_type": "code",
   "execution_count": 5,
   "metadata": {
    "slideshow": {
     "slide_type": "skip"
    }
   },
   "outputs": [
    {
     "name": "stdout",
     "output_type": "stream",
     "text": [
      "Enter password: ········\n"
     ]
    }
   ],
   "source": [
    "gis = GIS(url='https://acpythondev.esri.com/portal', username='admin', verify_cert=False)"
   ]
  },
  {
   "cell_type": "markdown",
   "metadata": {
    "slideshow": {
     "slide_type": "slide"
    }
   },
   "source": [
    "# Creating Users\n",
    "\n",
    "## Default Portal Users:\n",
    "\n",
    "1. Viewer\n",
    "2. Publisher\n",
    "3. Administrators\n",
    "\n",
    "## Levels\n",
    "\n",
    "- Level 1 membership is for members who only need privileges to view content\n",
    "- Level 2 membership is for members who need to view, create, and share content"
   ]
  },
  {
   "cell_type": "markdown",
   "metadata": {
    "slideshow": {
     "slide_type": "slide"
    }
   },
   "source": [
    "# Getting Help Demo!"
   ]
  },
  {
   "cell_type": "markdown",
   "metadata": {
    "slideshow": {
     "slide_type": "slide"
    }
   },
   "source": [
    "# Creating Users (continued)\n",
    "\n",
    "- Once you decide the type of user needed create it."
   ]
  },
  {
   "cell_type": "code",
   "execution_count": 6,
   "metadata": {
    "slideshow": {
     "slide_type": "fragment"
    }
   },
   "outputs": [],
   "source": [
    "users = gis.users\n"
   ]
  },
  {
   "cell_type": "code",
   "execution_count": 7,
   "metadata": {
    "slideshow": {
     "slide_type": "fragment"
    }
   },
   "outputs": [
    {
     "data": {
      "text/html": [
       "<div class=\"9item_container\" style=\"height: auto; overflow: hidden; border: 1px solid #cfcfcf; border-radius: 2px; background: #f6fafa; line-height: 1.21429em; padding: 10px;\">\n",
       "                    <div class=\"item_left\" style=\"width: 210px; float: left;\">\n",
       "                       <a href='https://acpythondev.esri.com/portal/home/user.html?user=pubaccount' target='_blank'>\n",
       "                        <img src='https://acpythondev.esri.com/portal/home/js/arcgisonline/css/images/no-user-thumb.jpg' class=\"itemThumbnail\">\n",
       "                       </a>\n",
       "                    </div>\n",
       "\n",
       "                    <div class=\"item_right\" style=\"float: none; width: auto; overflow: hidden;\">\n",
       "                        <a href='https://acpythondev.esri.com/portal/home/user.html?user=pubaccount' target='_blank'><b>erase me</b>\n",
       "                        </a>\n",
       "                        <br/><br/><b>Bio</b>: None\n",
       "                        <br/><b>First Name</b>: erase\n",
       "                        <br/><b>Last Name</b>: me\n",
       "                        <br/><b>Username</b>: pubaccount\n",
       "                        <br/><b>Joined</b>: March 06, 2018\n",
       "\n",
       "                    </div>\n",
       "                </div>\n",
       "                "
      ],
      "text/plain": [
       "<User username:pubaccount>"
      ]
     },
     "execution_count": 7,
     "metadata": {},
     "output_type": "execute_result"
    }
   ],
   "source": [
    "user = users.create(username=\"pubaccount\",\n",
    "                    password=\"abcd1234!\",\n",
    "                    firstname=\"erase\",\n",
    "                    lastname=\"me\",\n",
    "                    email='fakeaccount@esri.com',\n",
    "                    role=\"account_user\",\n",
    "                    level=2,\n",
    "                    provider='arcgis'\n",
    "                   )\n",
    "user"
   ]
  },
  {
   "cell_type": "markdown",
   "metadata": {
    "slideshow": {
     "slide_type": "slide"
    }
   },
   "source": [
    "### Updating Accounts"
   ]
  },
  {
   "cell_type": "code",
   "execution_count": 18,
   "metadata": {
    "slideshow": {
     "slide_type": "fragment"
    }
   },
   "outputs": [
    {
     "data": {
      "text/html": [
       "<div class=\"9item_container\" style=\"height: auto; overflow: hidden; border: 1px solid #cfcfcf; border-radius: 2px; background: #f6fafa; line-height: 1.21429em; padding: 10px;\">\n",
       "                    <div class=\"item_left\" style=\"width: 210px; float: left;\">\n",
       "                       <a href='https://acpythondev.esri.com/portal/home/user.html?user=pubaccount' target='_blank'>\n",
       "                        <img src='data:image/png;base64,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' width='200' height='133' class=\"itemThumbnail\">\n",
       "                       </a>\n",
       "                    </div>\n",
       "\n",
       "                    <div class=\"item_right\" style=\"float: none; width: auto; overflow: hidden;\">\n",
       "                        <a href='https://acpythondev.esri.com/portal/home/user.html?user=pubaccount' target='_blank'><b>Robert Grayson</b>\n",
       "                        </a>\n",
       "                        <br/><br/><b>Bio</b>: None\n",
       "                        <br/><b>First Name</b>: Robert\n",
       "                        <br/><b>Last Name</b>: Grayson\n",
       "                        <br/><b>Username</b>: pubaccount\n",
       "                        <br/><b>Joined</b>: March 06, 2018\n",
       "\n",
       "                    </div>\n",
       "                </div>\n",
       "                "
      ],
      "text/plain": [
       "<User username:pubaccount>"
      ]
     },
     "execution_count": 18,
     "metadata": {},
     "output_type": "execute_result"
    }
   ],
   "source": [
    "user.update(first_name=\"Robert\", last_name=\"Grayson\", thumbnail=r\"./img/nw.jpg\")\n",
    "user"
   ]
  },
  {
   "cell_type": "markdown",
   "metadata": {
    "slideshow": {
     "slide_type": "slide"
    }
   },
   "source": [
    "# Deleting Accounts"
   ]
  },
  {
   "cell_type": "code",
   "execution_count": 19,
   "metadata": {
    "slideshow": {
     "slide_type": "fragment"
    }
   },
   "outputs": [
    {
     "data": {
      "text/plain": [
       "True"
      ]
     },
     "execution_count": 19,
     "metadata": {},
     "output_type": "execute_result"
    }
   ],
   "source": [
    "user.delete()"
   ]
  },
  {
   "cell_type": "code",
   "execution_count": 20,
   "metadata": {
    "slideshow": {
     "slide_type": "skip"
    }
   },
   "outputs": [],
   "source": [
    "user = users.get('geodemo')"
   ]
  },
  {
   "cell_type": "markdown",
   "metadata": {
    "slideshow": {
     "slide_type": "slide"
    }
   },
   "source": [
    "# Content Management\n",
    "\n",
    "<center><img src='./img/content.png' /></center>"
   ]
  },
  {
   "cell_type": "markdown",
   "metadata": {
    "slideshow": {
     "slide_type": "slide"
    }
   },
   "source": [
    "# Content Management\n",
    "\n",
    "#### Owners and Administrators\n",
    "\n",
    "- Add\n",
    "- Remove \n",
    "- Update\n",
    "\n",
    "## Who Can Publish Content?"
   ]
  },
  {
   "cell_type": "markdown",
   "metadata": {
    "slideshow": {
     "slide_type": "fragment"
    }
   },
   "source": [
    "- Administrators, Organization Publishers, or Custom Roles with Publishing Enabled."
   ]
  },
  {
   "cell_type": "markdown",
   "metadata": {
    "slideshow": {
     "slide_type": "subslide"
    }
   },
   "source": [
    "# Adding Content\n",
    "\n",
    "- Adding a File GeoDatabase"
   ]
  },
  {
   "cell_type": "code",
   "execution_count": 21,
   "metadata": {
    "slideshow": {
     "slide_type": "fragment"
    }
   },
   "outputs": [],
   "source": [
    "fgdb_item = gis.content.add(\n",
    "    item_properties={\n",
    "        'title' : 'Survey Grid',\n",
    "        'type' : 'File Geodatabase',\n",
    "        'tags' : ['survey','area', 'land']\n",
    "        },\n",
    "        data=\"./data/publishing_data/survey.gdb.zip\"\n",
    ")"
   ]
  },
  {
   "cell_type": "code",
   "execution_count": 22,
   "metadata": {
    "slideshow": {
     "slide_type": "subslide"
    }
   },
   "outputs": [
    {
     "data": {
      "text/html": [
       "<div class=\"item_container\" style=\"height: auto; overflow: hidden; border: 1px solid #cfcfcf; border-radius: 2px; background: #f6fafa; line-height: 1.21429em; padding: 10px;\">\n",
       "                    <div class=\"item_left\" style=\"width: 210px; float: left;\">\n",
       "                       <a href='https://acpythondev.esri.com/portal/home/item.html?id=efc0a93d23f6480eb4e02f23e7807f05' target='_blank'>\n",
       "                        <img src='https://acpythondev.esri.com/portal/portalimages/desktopapp.png' class=\"itemThumbnail\">\n",
       "                       </a>\n",
       "                    </div>\n",
       "\n",
       "                    <div class=\"item_right\"     style=\"float: none; width: auto; overflow: hidden;\">\n",
       "                        <a href='https://acpythondev.esri.com/portal/home/item.html?id=efc0a93d23f6480eb4e02f23e7807f05' target='_blank'><b>Survey Grid</b>\n",
       "                        </a>\n",
       "                        <br/><img src='https://acpythondev.esri.com/portal/home/js/jsapi/esri/css/images/item_type_icons/layers16.png' style=\"vertical-align:middle;\">File Geodatabase by admin\n",
       "                        <br/>Last Modified: March 06, 2018\n",
       "                        <br/>0 comments, 0 views\n",
       "                    </div>\n",
       "                </div>\n",
       "                "
      ],
      "text/plain": [
       "<Item title:\"Survey Grid\" type:File Geodatabase owner:admin>"
      ]
     },
     "execution_count": 22,
     "metadata": {},
     "output_type": "execute_result"
    }
   ],
   "source": [
    "fgdb_item"
   ]
  },
  {
   "cell_type": "markdown",
   "metadata": {
    "slideshow": {
     "slide_type": "subslide"
    }
   },
   "source": [
    "- Adding a Shapefile"
   ]
  },
  {
   "cell_type": "code",
   "execution_count": 23,
   "metadata": {
    "slideshow": {
     "slide_type": "fragment"
    }
   },
   "outputs": [],
   "source": [
    "shp_item = gis.content.add(\n",
    "    item_properties={\n",
    "        'title' : 'United States',\n",
    "        'type' : 'Shapefile',\n",
    "        'tags' : ['boundary','US', 'North America']\n",
    "        },\n",
    "    data=\"./data/publishing_data/states.shp.zip\"\n",
    ")"
   ]
  },
  {
   "cell_type": "code",
   "execution_count": 24,
   "metadata": {
    "slideshow": {
     "slide_type": "subslide"
    }
   },
   "outputs": [
    {
     "data": {
      "text/html": [
       "<div class=\"item_container\" style=\"height: auto; overflow: hidden; border: 1px solid #cfcfcf; border-radius: 2px; background: #f6fafa; line-height: 1.21429em; padding: 10px;\">\n",
       "                    <div class=\"item_left\" style=\"width: 210px; float: left;\">\n",
       "                       <a href='https://acpythondev.esri.com/portal/home/item.html?id=1c3a32e9c4bb42be90989704feb4e2e2' target='_blank'>\n",
       "                        <img src='https://acpythondev.esri.com/portal/portalimages/desktopapp.png' class=\"itemThumbnail\">\n",
       "                       </a>\n",
       "                    </div>\n",
       "\n",
       "                    <div class=\"item_right\"     style=\"float: none; width: auto; overflow: hidden;\">\n",
       "                        <a href='https://acpythondev.esri.com/portal/home/item.html?id=1c3a32e9c4bb42be90989704feb4e2e2' target='_blank'><b>United States</b>\n",
       "                        </a>\n",
       "                        <br/><img src='https://acpythondev.esri.com/portal/home/js/jsapi/esri/css/images/item_type_icons/datafiles16.png' style=\"vertical-align:middle;\">Shapefile by admin\n",
       "                        <br/>Last Modified: March 06, 2018\n",
       "                        <br/>0 comments, 0 views\n",
       "                    </div>\n",
       "                </div>\n",
       "                "
      ],
      "text/plain": [
       "<Item title:\"United States\" type:Shapefile owner:admin>"
      ]
     },
     "execution_count": 24,
     "metadata": {},
     "output_type": "execute_result"
    }
   ],
   "source": [
    "shp_item"
   ]
  },
  {
   "cell_type": "markdown",
   "metadata": {
    "slideshow": {
     "slide_type": "subslide"
    }
   },
   "source": [
    "## Publishing Content\n",
    "\n",
    "- up until now the data is just raw information\n",
    "- any publishable item (csv, shapfile, file geodatabase, etc...) has a publish method"
   ]
  },
  {
   "cell_type": "code",
   "execution_count": 25,
   "metadata": {
    "slideshow": {
     "slide_type": "fragment"
    }
   },
   "outputs": [
    {
     "data": {
      "text/html": [
       "<div class=\"item_container\" style=\"height: auto; overflow: hidden; border: 1px solid #cfcfcf; border-radius: 2px; background: #f6fafa; line-height: 1.21429em; padding: 10px;\">\n",
       "                    <div class=\"item_left\" style=\"width: 210px; float: left;\">\n",
       "                       <a href='https://acpythondev.esri.com/portal/home/item.html?id=5e2f395f9e274282bef41749f5f7bf54' target='_blank'>\n",
       "                        <img src='https://acpythondev.esri.com/portal/portalimages/desktopapp.png' class=\"itemThumbnail\">\n",
       "                       </a>\n",
       "                    </div>\n",
       "\n",
       "                    <div class=\"item_right\"     style=\"float: none; width: auto; overflow: hidden;\">\n",
       "                        <a href='https://acpythondev.esri.com/portal/home/item.html?id=5e2f395f9e274282bef41749f5f7bf54' target='_blank'><b>United States</b>\n",
       "                        </a>\n",
       "                        <br/><img src='https://acpythondev.esri.com/portal/home/js/jsapi/esri/css/images/item_type_icons/featureshosted16.png' style=\"vertical-align:middle;\">Feature Layer Collection by admin\n",
       "                        <br/>Last Modified: March 06, 2018\n",
       "                        <br/>0 comments, 0 views\n",
       "                    </div>\n",
       "                </div>\n",
       "                "
      ],
      "text/plain": [
       "<Item title:\"United States\" type:Feature Layer Collection owner:admin>"
      ]
     },
     "execution_count": 25,
     "metadata": {},
     "output_type": "execute_result"
    }
   ],
   "source": [
    "pshp = shp_item.publish(publish_parameters={\"maxRecordCount\": 2000, \n",
    "                                         \"hasStaticData\": True, \n",
    "                                         \"name\": \"UnitedStates\", \n",
    "                                         \"layerInfo\": {\"capabilities\": \"Query\"}})\n",
    "pshp"
   ]
  },
  {
   "cell_type": "markdown",
   "metadata": {
    "slideshow": {
     "slide_type": "subslide"
    }
   },
   "source": [
    "## Publishing Content (continued)"
   ]
  },
  {
   "cell_type": "code",
   "execution_count": null,
   "metadata": {
    "slideshow": {
     "slide_type": "fragment"
    }
   },
   "outputs": [
    {
     "data": {
      "text/html": [
       "<div class=\"item_container\" style=\"height: auto; overflow: hidden; border: 1px solid #cfcfcf; border-radius: 2px; background: #f6fafa; line-height: 1.21429em; padding: 10px;\">\n",
       "                    <div class=\"item_left\" style=\"width: 210px; float: left;\">\n",
       "                       <a href='https://acpythondev.esri.com/portal/home/item.html?id=40e2a66c1efa457889307d1205a06104' target='_blank'>\n",
       "                        <img src='https://acpythondev.esri.com/portal/portalimages/desktopapp.png' class=\"itemThumbnail\">\n",
       "                       </a>\n",
       "                    </div>\n",
       "\n",
       "                    <div class=\"item_right\"     style=\"float: none; width: auto; overflow: hidden;\">\n",
       "                        <a href='https://acpythondev.esri.com/portal/home/item.html?id=40e2a66c1efa457889307d1205a06104' target='_blank'><b>Survey Grid</b>\n",
       "                        </a>\n",
       "                        <br/><img src='https://acpythondev.esri.com/portal/home/js/jsapi/esri/css/images/item_type_icons/featureshosted16.png' style=\"vertical-align:middle;\">Feature Layer Collection by admin\n",
       "                        <br/>Last Modified: March 06, 2018\n",
       "                        <br/>0 comments, 0 views\n",
       "                    </div>\n",
       "                </div>\n",
       "                "
      ],
      "text/plain": [
       "<Item title:\"Survey Grid\" type:Feature Layer Collection owner:admin>"
      ]
     },
     "execution_count": 26,
     "metadata": {},
     "output_type": "execute_result"
    }
   ],
   "source": [
    "pfgdb = fgdb_item.publish()\n",
    "pfgdb"
   ]
  },
  {
   "cell_type": "markdown",
   "metadata": {
    "slideshow": {
     "slide_type": "subslide"
    }
   },
   "source": [
    "# Cloning Items Between Sites\n",
    "\n",
    "- Copy data from Portal **A** to Portal **B**\n"
   ]
  },
  {
   "cell_type": "code",
   "execution_count": null,
   "metadata": {
    "slideshow": {
     "slide_type": "fragment"
    }
   },
   "outputs": [],
   "source": [
    "from arcgis.gis import GIS\n",
    "import getpass\n",
    "gis_dest = GIS(url=\"http://acpythondev.esri.com/portal\", username='admin', password=getpass.getpass(), \n",
    "          verify_cert=False)\n",
    "gis_source = GIS(username=getpass.getpass(), password=getpass.getpass())"
   ]
  },
  {
   "cell_type": "code",
   "execution_count": 24,
   "metadata": {
    "slideshow": {
     "slide_type": "fragment"
    }
   },
   "outputs": [
    {
     "data": {
      "text/html": [
       "<div class=\"item_container\" style=\"height: auto; overflow: hidden; border: 1px solid #cfcfcf; border-radius: 2px; background: #f6fafa; line-height: 1.21429em; padding: 10px;\">\n",
       "                    <div class=\"item_left\" style=\"width: 210px; float: left;\">\n",
       "                       <a href='https://arcgissolutions.maps.arcgis.com/home/item.html?id=ef7823671e844b71a3aefae143c447a1' target='_blank'>\n",
       "                        <img src='data:image/png;base64,iVBORw0KGgoAAAANSUhEUgAAAMgAAACFCAIAAACR/CB7AAAACXBIWXMAAA7EAAAOxAGVKw4bAAABiUlEQVR4nO3UgQ2DQAwEwXf67/lTA4KFKMxUcJZWnr33gqt9nh7AfxIWCWGREBYJYZEQFglhkRAWCWGREBYJYZEQFglhkRAWCWGREBYJYZEQFglhkRAWCWGREBYJYZEQFglhkRAWCWGREBYJYZEQFglhkRAWCWGREBYJYZEQFglhkRAWCWGREBYJYZEQFglhkRAWCWGREBYJYZEQFglhkRAWCWGREBYJYZEQFglhkRAWCWGREBYJYZEQFglhkRAWCWGREBYJYZEQFglhkRAWCWGREBYJYZEQFglhkRAWCWGREBYJYZEQFglhkRAWCWGREBYJYZEQFglhkRAWCWGREBYJYZEQFglhkRAWCWGREBYJYZEQFglhkRAWCWGREBYJYZEQFglhkRAWCWGREBYJYZEQFglhkRAWCWGRENZ9ZmZmnl5xE2EdczKOvfeFY36ZsI45U8Z7qlprzauu5TY+FglhkRAWCWGREBYJYZEQFglhkRAWCWGREBYJYZEQFglhkRAWCWGREBaJL+eEEAYvE14iAAAAAElFTkSuQmCC' width='200' height='133' class=\"itemThumbnail\">\n",
       "                       </a>\n",
       "                    </div>\n",
       "\n",
       "                    <div class=\"item_right\"     style=\"float: none; width: auto; overflow: hidden;\">\n",
       "                        <a href='https://arcgissolutions.maps.arcgis.com/home/item.html?id=ef7823671e844b71a3aefae143c447a1' target='_blank'><b>WorldAirports</b>\n",
       "                        </a>\n",
       "                        <br/><img src='https://arcgissolutions.maps.arcgis.com/home/js/jsapi/esri/css/images/item_type_icons/featureshosted16.png' style=\"vertical-align:middle;\">Feature Layer Collection by AndrewSolutions\n",
       "                        <br/>Last Modified: February 27, 2018\n",
       "                        <br/>0 comments, 13 views\n",
       "                    </div>\n",
       "                </div>\n",
       "                "
      ],
      "text/plain": [
       "<Item title:\"WorldAirports\" type:Feature Layer Collection owner:AndrewSolutions>"
      ]
     },
     "execution_count": 24,
     "metadata": {},
     "output_type": "execute_result"
    }
   ],
   "source": [
    "item = gis_source.content.get(\"ef7823671e844b71a3aefae143c447a1\")\n",
    "item"
   ]
  },
  {
   "cell_type": "code",
   "execution_count": 28,
   "metadata": {
    "slideshow": {
     "slide_type": "skip"
    }
   },
   "outputs": [],
   "source": [
    "from IPython.display import display"
   ]
  },
  {
   "cell_type": "markdown",
   "metadata": {
    "slideshow": {
     "slide_type": "subslide"
    }
   },
   "source": [
    "# Cloning Items Between Sites (continued)\n"
   ]
  },
  {
   "cell_type": "code",
   "execution_count": 30,
   "metadata": {
    "slideshow": {
     "slide_type": "fragment"
    }
   },
   "outputs": [
    {
     "data": {
      "text/html": [
       "<div class=\"item_container\" style=\"height: auto; overflow: hidden; border: 1px solid #cfcfcf; border-radius: 2px; background: #f6fafa; line-height: 1.21429em; padding: 10px;\">\n",
       "                    <div class=\"item_left\" style=\"width: 210px; float: left;\">\n",
       "                       <a href='http://achap.esri.com/portal/home/item.html?id=fda4c1315f5846f594a80f605d064144' target='_blank'>\n",
       "                        <img src='data:image/png;base64,iVBORw0KGgoAAAANSUhEUgAAAMgAAACFCAIAAACR/CB7AAAACXBIWXMAAA7EAAAOxAGVKw4bAAABiUlEQVR4nO3UgQ2DQAwEwXf67/lTA4KFKMxUcJZWnr33gqt9nh7AfxIWCWGREBYJYZEQFglhkRAWCWGREBYJYZEQFglhkRAWCWGREBYJYZEQFglhkRAWCWGREBYJYZEQFglhkRAWCWGREBYJYZEQFglhkRAWCWGREBYJYZEQFglhkRAWCWGREBYJYZEQFglhkRAWCWGREBYJYZEQFglhkRAWCWGREBYJYZEQFglhkRAWCWGREBYJYZEQFglhkRAWCWGREBYJYZEQFglhkRAWCWGREBYJYZEQFglhkRAWCWGREBYJYZEQFglhkRAWCWGREBYJYZEQFglhkRAWCWGREBYJYZEQFglhkRAWCWGREBYJYZEQFglhkRAWCWGREBYJYZEQFglhkRAWCWGREBYJYZEQFglhkRAWCWGRENZ9ZmZmnl5xE2EdczKOvfeFY36ZsI45U8Z7qlprzauu5TY+FglhkRAWCWGREBYJYZEQFglhkRAWCWGREBYJYZEQFglhkRAWCWGREBaJL+eEEAYvE14iAAAAAElFTkSuQmCC' width='200' height='133' class=\"itemThumbnail\">\n",
       "                       </a>\n",
       "                    </div>\n",
       "\n",
       "                    <div class=\"item_right\"     style=\"float: none; width: auto; overflow: hidden;\">\n",
       "                        <a href='http://achap.esri.com/portal/home/item.html?id=fda4c1315f5846f594a80f605d064144' target='_blank'><b>WorldAirports</b>\n",
       "                        </a>\n",
       "                        <br/><img src='http://achap.esri.com/portal/home/js/jsapi/esri/css/images/item_type_icons/featureshosted16.png' style=\"vertical-align:middle;\">Feature Layer Collection by admin\n",
       "                        <br/>Last Modified: February 27, 2018\n",
       "                        <br/>0 comments, 0 views\n",
       "                    </div>\n",
       "                </div>\n",
       "                "
      ],
      "text/plain": [
       "<Item title:\"WorldAirports\" type:Feature Layer Collection owner:admin>"
      ]
     },
     "metadata": {},
     "output_type": "display_data"
    }
   ],
   "source": [
    "cloned_items = gis_dest.content.clone_items(items=[item], copy_data=True)\n",
    "for ci in cloned_items:\n",
    "    display(ci)"
   ]
  },
  {
   "cell_type": "code",
   "execution_count": 31,
   "metadata": {
    "slideshow": {
     "slide_type": "skip"
    }
   },
   "outputs": [],
   "source": [
    "for ci in cloned_items:\n",
    "    ci.delete()"
   ]
  },
  {
   "cell_type": "markdown",
   "metadata": {
    "slideshow": {
     "slide_type": "slide"
    }
   },
   "source": [
    "# Groups\n",
    "\n",
    "<center><img src=\"./img/groups.jpg\" /></center>\n",
    "\n",
    "- Groups are a collection of items, usually related to a specific area of interest\n",
    "- Group owners can decide how content is added, removed, and shared.\n"
   ]
  },
  {
   "cell_type": "markdown",
   "metadata": {
    "slideshow": {
     "slide_type": "subslide"
    }
   },
   "source": [
    "## Creating Groups"
   ]
  },
  {
   "cell_type": "code",
   "execution_count": 32,
   "metadata": {
    "slideshow": {
     "slide_type": "fragment"
    }
   },
   "outputs": [
    {
     "data": {
      "text/html": [
       "<div class=\"9item_container\" style=\"height: auto; overflow: hidden; border: 1px solid #cfcfcf; border-radius: 2px; background: #f6fafa; line-height: 1.21429em; padding: 10px;\">\n",
       "                    <div class=\"item_left\" style=\"width: 210px; float: left;\">\n",
       "                       <a href='https://achap.esri.com/portal/home/group.html?id=558e3e4f54124baabba9b09c81e722a4' target='_blank'>\n",
       "                        <img src='https://achap.esri.com/portal/home/images/group-no-image.png' class=\"itemThumbnail\">\n",
       "                       </a>\n",
       "                    </div>\n",
       "\n",
       "                    <div class=\"item_right\" style=\"float: none; width: auto; overflow: hidden;\">\n",
       "                        <a href='https://achap.esri.com/portal/home/group.html?id=558e3e4f54124baabba9b09c81e722a4' target='_blank'><b>Survey Group</b>\n",
       "                        </a>\n",
       "                        <br/>\n",
       "                        <br/><b>Summary</b>: None\n",
       "                        <br/><b>Description</b>: None\n",
       "                        <br/><b>Owner</b>: admin\n",
       "                        <br/><b>Created</b>: February 27, 2018\n",
       "\n",
       "                    </div>\n",
       "                </div>\n",
       "                "
      ],
      "text/plain": [
       "<Group title:\"Survey Group\" owner:admin>"
      ]
     },
     "execution_count": 32,
     "metadata": {},
     "output_type": "execute_result"
    }
   ],
   "source": [
    "group = gis.groups.create(title=\"Survey Group\",\n",
    "                         tags=['survey', 'fields', 'on-site'])\n",
    "group"
   ]
  },
  {
   "cell_type": "markdown",
   "metadata": {
    "slideshow": {
     "slide_type": "subslide"
    }
   },
   "source": [
    "## Updating Groups"
   ]
  },
  {
   "cell_type": "markdown",
   "metadata": {
    "slideshow": {
     "slide_type": "fragment"
    }
   },
   "source": [
    "group.update(thumbnail='./img/icon.png')\n",
    "group"
   ]
  },
  {
   "cell_type": "markdown",
   "metadata": {
    "slideshow": {
     "slide_type": "subslide"
    }
   },
   "source": [
    "## Sharing Content to Groups"
   ]
  },
  {
   "cell_type": "code",
   "execution_count": 34,
   "metadata": {
    "slideshow": {
     "slide_type": "fragment"
    }
   },
   "outputs": [
    {
     "name": "stdout",
     "output_type": "stream",
     "text": [
      "{'notSharedWith': [], 'itemId': '06dcb44e46ab4c5ea18132084ddef43b'}\n",
      "{'notSharedWith': [], 'itemId': 'a1d5d260524d48c3968243691fe2fea9'}\n"
     ]
    }
   ],
   "source": [
    "print(pshp.share(group.id))\n",
    "print(pfgdb.share(group.id))"
   ]
  },
  {
   "cell_type": "markdown",
   "metadata": {
    "slideshow": {
     "slide_type": "subslide"
    }
   },
   "source": [
    "## Adding/Removing Users to Groups\n",
    "\n",
    "- Adding a User"
   ]
  },
  {
   "cell_type": "code",
   "execution_count": 35,
   "metadata": {
    "slideshow": {
     "slide_type": "subslide"
    }
   },
   "outputs": [
    {
     "data": {
      "text/plain": [
       "{'notAdded': []}"
      ]
     },
     "execution_count": 35,
     "metadata": {},
     "output_type": "execute_result"
    }
   ],
   "source": [
    "group.add_users(user)"
   ]
  },
  {
   "cell_type": "markdown",
   "metadata": {
    "slideshow": {
     "slide_type": "fragment"
    }
   },
   "source": [
    "- Removing a User"
   ]
  },
  {
   "cell_type": "code",
   "execution_count": 36,
   "metadata": {
    "slideshow": {
     "slide_type": "fragment"
    }
   },
   "outputs": [
    {
     "data": {
      "text/plain": [
       "{'notRemoved': []}"
      ]
     },
     "execution_count": 36,
     "metadata": {},
     "output_type": "execute_result"
    }
   ],
   "source": [
    "group.remove_users([user.username])"
   ]
  },
  {
   "cell_type": "code",
   "execution_count": 37,
   "metadata": {
    "slideshow": {
     "slide_type": "skip"
    }
   },
   "outputs": [
    {
     "data": {
      "text/plain": [
       "True"
      ]
     },
     "execution_count": 37,
     "metadata": {},
     "output_type": "execute_result"
    }
   ],
   "source": [
    "## Clean up cell do not show\n",
    "pshp.unshare(group.id)\n",
    "pfgdb.unshare(group.id)\n",
    "group.delete()\n",
    "pshp.delete()\n",
    "pfgdb.delete()\n",
    "fgdb_item.delete()\n",
    "shp_item.delete()"
   ]
  },
  {
   "cell_type": "markdown",
   "metadata": {
    "slideshow": {
     "slide_type": "slide"
    }
   },
   "source": [
    "# Credit Monitoring\n",
    "\n",
    "<center><img src=\"./img/creditreport.jpg\" /></center>"
   ]
  },
  {
   "cell_type": "markdown",
   "metadata": {
    "slideshow": {
     "slide_type": "subslide"
    }
   },
   "source": [
    "# Credit Monitoring (continued)\n",
    "\n",
    "- Applies to ArcGIS Online account\n",
    "- Credits are the online currency used to store, use and purchase services on ArcGIS Online"
   ]
  },
  {
   "cell_type": "code",
   "execution_count": 38,
   "metadata": {
    "slideshow": {
     "slide_type": "skip"
    }
   },
   "outputs": [
    {
     "name": "stdout",
     "output_type": "stream",
     "text": [
      "Enter password: ········\n"
     ]
    }
   ],
   "source": [
    "from arcgis.gis import GIS\n",
    "gis = GIS(username=\"AndrewSolutions\")"
   ]
  },
  {
   "cell_type": "code",
   "execution_count": 39,
   "metadata": {
    "slideshow": {
     "slide_type": "skip"
    }
   },
   "outputs": [],
   "source": [
    "agol_user = gis.users.get(\"geodemo12\")"
   ]
  },
  {
   "cell_type": "markdown",
   "metadata": {
    "slideshow": {
     "slide_type": "fragment"
    }
   },
   "source": [
    "## Enabling Credit Allocation\n",
    "\n",
    "- Allows for the assignment and management of user credits"
   ]
  },
  {
   "cell_type": "code",
   "execution_count": 40,
   "metadata": {
    "slideshow": {
     "slide_type": "fragment"
    }
   },
   "outputs": [
    {
     "data": {
      "text/plain": [
       "-1"
      ]
     },
     "execution_count": 40,
     "metadata": {},
     "output_type": "execute_result"
    }
   ],
   "source": [
    "gis.admin.credits.default_limit"
   ]
  },
  {
   "cell_type": "code",
   "execution_count": 41,
   "metadata": {
    "slideshow": {
     "slide_type": "fragment"
    }
   },
   "outputs": [
    {
     "data": {
      "text/plain": [
       "True"
      ]
     },
     "execution_count": 41,
     "metadata": {},
     "output_type": "execute_result"
    }
   ],
   "source": [
    "gis.admin.credits.allocate(agol_user.username, 50)"
   ]
  },
  {
   "cell_type": "code",
   "execution_count": 42,
   "metadata": {
    "slideshow": {
     "slide_type": "skip"
    }
   },
   "outputs": [],
   "source": [
    "agol_user._hydrated = False\n",
    "agol_user._hydrate()"
   ]
  },
  {
   "cell_type": "code",
   "execution_count": 43,
   "metadata": {
    "slideshow": {
     "slide_type": "fragment"
    }
   },
   "outputs": [
    {
     "data": {
      "text/plain": [
       "50.0"
      ]
     },
     "execution_count": 43,
     "metadata": {},
     "output_type": "execute_result"
    }
   ],
   "source": [
    "agol_user.assignedCredits"
   ]
  },
  {
   "cell_type": "markdown",
   "metadata": {
    "slideshow": {
     "slide_type": "subslide"
    }
   },
   "source": [
    "# Setting the Default Limits of Credits"
   ]
  },
  {
   "cell_type": "code",
   "execution_count": 44,
   "metadata": {
    "slideshow": {
     "slide_type": "fragment"
    }
   },
   "outputs": [
    {
     "data": {
      "text/plain": [
       "-1"
      ]
     },
     "execution_count": 44,
     "metadata": {},
     "output_type": "execute_result"
    }
   ],
   "source": [
    "gis.admin.credits.default_limit"
   ]
  },
  {
   "cell_type": "code",
   "execution_count": 45,
   "metadata": {
    "slideshow": {
     "slide_type": "fragment"
    }
   },
   "outputs": [],
   "source": [
    "gis.admin.credits.default_limit = 50"
   ]
  },
  {
   "cell_type": "code",
   "execution_count": 46,
   "metadata": {
    "slideshow": {
     "slide_type": "skip"
    }
   },
   "outputs": [],
   "source": [
    "# reset to default \n",
    "gis.admin.credits.default_limit = -1"
   ]
  },
  {
   "cell_type": "markdown",
   "metadata": {
    "slideshow": {
     "slide_type": "subslide"
    }
   },
   "source": [
    "# Tracking Organizational Consumption of Credits\n",
    "\n",
    "- Daily usage statistics"
   ]
  },
  {
   "cell_type": "code",
   "execution_count": 47,
   "metadata": {
    "slideshow": {
     "slide_type": "subslide"
    }
   },
   "outputs": [
    {
     "data": {
      "text/html": [
       "<div>\n",
       "<style scoped>\n",
       "    .dataframe tbody tr th:only-of-type {\n",
       "        vertical-align: middle;\n",
       "    }\n",
       "\n",
       "    .dataframe tbody tr th {\n",
       "        vertical-align: top;\n",
       "    }\n",
       "\n",
       "    .dataframe thead th {\n",
       "        text-align: right;\n",
       "    }\n",
       "</style>\n",
       "<table border=\"1\" class=\"dataframe\">\n",
       "  <thead>\n",
       "    <tr style=\"text-align: right;\">\n",
       "      <th></th>\n",
       "      <th>applogin</th>\n",
       "      <th>features</th>\n",
       "      <th>landscapeimagery</th>\n",
       "      <th>portal</th>\n",
       "      <th>scene</th>\n",
       "      <th>tiles</th>\n",
       "      <th>vectortiles</th>\n",
       "    </tr>\n",
       "  </thead>\n",
       "  <tbody>\n",
       "    <tr>\n",
       "      <th>0</th>\n",
       "      <td>0.0</td>\n",
       "      <td>104.618024</td>\n",
       "      <td>0.0</td>\n",
       "      <td>0.289387</td>\n",
       "      <td>0.01842</td>\n",
       "      <td>0.360437</td>\n",
       "      <td>0.001159</td>\n",
       "    </tr>\n",
       "  </tbody>\n",
       "</table>\n",
       "</div>"
      ],
      "text/plain": [
       "   applogin    features  landscapeimagery    portal    scene     tiles  \\\n",
       "0       0.0  104.618024               0.0  0.289387  0.01842  0.360437   \n",
       "\n",
       "   vectortiles  \n",
       "0     0.001159  "
      ]
     },
     "execution_count": 47,
     "metadata": {},
     "output_type": "execute_result"
    }
   ],
   "source": [
    "import pandas as pd\n",
    "data = gis.admin.credits.credit_usage()\n",
    "df = pd.DataFrame.from_records([data])\n",
    "df"
   ]
  },
  {
   "cell_type": "markdown",
   "metadata": {
    "slideshow": {
     "slide_type": "slide"
    }
   },
   "source": [
    "# Working with ArcGIS Server\n",
    "\n",
    "- Listing Registered Servers"
   ]
  },
  {
   "cell_type": "code",
   "execution_count": 2,
   "metadata": {
    "slideshow": {
     "slide_type": "skip"
    }
   },
   "outputs": [
    {
     "name": "stdout",
     "output_type": "stream",
     "text": [
      "Enter password: ········\n"
     ]
    }
   ],
   "source": [
    "from arcgis.gis import GIS\n",
    "gis = GIS(url=\"https://wdcintelportal.esri.com/portal\", \n",
    "          username='robe5155',\n",
    "          verify_cert=False)\n"
   ]
  },
  {
   "cell_type": "code",
   "execution_count": 3,
   "metadata": {
    "slideshow": {
     "slide_type": "fragment"
    }
   },
   "outputs": [
    {
     "data": {
      "text/plain": [
       "[<Server at https://wdcintelportal.esri.com/server/admin>]"
      ]
     },
     "execution_count": 3,
     "metadata": {},
     "output_type": "execute_result"
    }
   ],
   "source": [
    "servers = gis.admin.servers\n",
    "servers.list()"
   ]
  },
  {
   "cell_type": "markdown",
   "metadata": {
    "slideshow": {
     "slide_type": "subslide"
    }
   },
   "source": [
    "How about a Portal with multiple ArcGIS Servers?"
   ]
  },
  {
   "cell_type": "code",
   "execution_count": 4,
   "metadata": {},
   "outputs": [
    {
     "name": "stdout",
     "output_type": "stream",
     "text": [
      "Enter password: ········\n"
     ]
    },
    {
     "data": {
      "text/plain": [
       "[<Server at https://python.playground.esri.com/server/admin>,\n",
       " <Server at https://python-ga.playground.esri.com/server/admin>,\n",
       " <Server at https://python-ra.playground.esri.com/arcgis/admin>]"
      ]
     },
     "execution_count": 4,
     "metadata": {},
     "output_type": "execute_result"
    }
   ],
   "source": [
    "gis2 = GIS(url=\"https://python.playground.esri.com/portal\", \n",
    "          username='bill.major',\n",
    "          verify_cert=False)\n",
    "servers2 = gis2.admin.servers\n",
    "servers2.list()"
   ]
  },
  {
   "cell_type": "markdown",
   "metadata": {
    "slideshow": {
     "slide_type": "subslide"
    }
   },
   "source": [
    "- Validating Server"
   ]
  },
  {
   "cell_type": "code",
   "execution_count": 5,
   "metadata": {
    "slideshow": {
     "slide_type": "fragment"
    }
   },
   "outputs": [
    {
     "data": {
      "text/plain": [
       "True"
      ]
     },
     "execution_count": 5,
     "metadata": {},
     "output_type": "execute_result"
    }
   ],
   "source": [
    "servers.validate()"
   ]
  },
  {
   "cell_type": "markdown",
   "metadata": {
    "slideshow": {
     "slide_type": "subslide"
    }
   },
   "source": [
    "## Accessing a Single Server\n",
    "\n",
    "### Provides Administation to:\n",
    "\n",
    "- Logs\n",
    "- Services\n",
    "- Publishing SD files\n",
    "- Manage machines\n",
    "- Manage datastores"
   ]
  },
  {
   "cell_type": "code",
   "execution_count": 6,
   "metadata": {
    "slideshow": {
     "slide_type": "fragment"
    }
   },
   "outputs": [
    {
     "data": {
      "text/plain": [
       "<Server at https://wdcintelportal.esri.com/server/admin>"
      ]
     },
     "execution_count": 6,
     "metadata": {},
     "output_type": "execute_result"
    }
   ],
   "source": [
    "server = servers.list()[0]\n",
    "server"
   ]
  },
  {
   "cell_type": "markdown",
   "metadata": {
    "slideshow": {
     "slide_type": "subslide"
    }
   },
   "source": [
    "# Working with Logs\n",
    "\n"
   ]
  },
  {
   "cell_type": "code",
   "execution_count": 7,
   "metadata": {
    "slideshow": {
     "slide_type": "skip"
    }
   },
   "outputs": [],
   "source": [
    "import pandas as pd"
   ]
  },
  {
   "cell_type": "code",
   "execution_count": 8,
   "metadata": {
    "slideshow": {
     "slide_type": "fragment"
    }
   },
   "outputs": [
    {
     "data": {
      "text/html": [
       "<div>\n",
       "<style scoped>\n",
       "    .dataframe tbody tr th:only-of-type {\n",
       "        vertical-align: middle;\n",
       "    }\n",
       "\n",
       "    .dataframe tbody tr th {\n",
       "        vertical-align: top;\n",
       "    }\n",
       "\n",
       "    .dataframe thead th {\n",
       "        text-align: right;\n",
       "    }\n",
       "</style>\n",
       "<table border=\"1\" class=\"dataframe\">\n",
       "  <thead>\n",
       "    <tr style=\"text-align: right;\">\n",
       "      <th></th>\n",
       "      <th>code</th>\n",
       "      <th>elapsed</th>\n",
       "      <th>machine</th>\n",
       "      <th>message</th>\n",
       "      <th>methodName</th>\n",
       "      <th>process</th>\n",
       "      <th>source</th>\n",
       "      <th>thread</th>\n",
       "      <th>time</th>\n",
       "      <th>type</th>\n",
       "      <th>user</th>\n",
       "    </tr>\n",
       "  </thead>\n",
       "  <tbody>\n",
       "    <tr>\n",
       "      <th>4</th>\n",
       "      <td>9000</td>\n",
       "      <td></td>\n",
       "      <td>WIN-1L0IR8L3RDV</td>\n",
       "      <td>Update for the object was not attempted. Objec...</td>\n",
       "      <td></td>\n",
       "      <td>5720</td>\n",
       "      <td>Rest</td>\n",
       "      <td>16</td>\n",
       "      <td>1519344239803</td>\n",
       "      <td>SEVERE</td>\n",
       "      <td></td>\n",
       "    </tr>\n",
       "    <tr>\n",
       "      <th>5</th>\n",
       "      <td>9000</td>\n",
       "      <td></td>\n",
       "      <td>WIN-1L0IR8L3RDV</td>\n",
       "      <td>Update for the object was not attempted. Objec...</td>\n",
       "      <td></td>\n",
       "      <td>5720</td>\n",
       "      <td>Rest</td>\n",
       "      <td>16</td>\n",
       "      <td>1519344237667</td>\n",
       "      <td>SEVERE</td>\n",
       "      <td></td>\n",
       "    </tr>\n",
       "    <tr>\n",
       "      <th>6</th>\n",
       "      <td>9000</td>\n",
       "      <td></td>\n",
       "      <td>WIN-1L0IR8L3RDV</td>\n",
       "      <td>Update for the object was not attempted. Objec...</td>\n",
       "      <td></td>\n",
       "      <td>5720</td>\n",
       "      <td>Rest</td>\n",
       "      <td>16</td>\n",
       "      <td>1519344235521</td>\n",
       "      <td>SEVERE</td>\n",
       "      <td></td>\n",
       "    </tr>\n",
       "    <tr>\n",
       "      <th>7</th>\n",
       "      <td>9000</td>\n",
       "      <td></td>\n",
       "      <td>WIN-1L0IR8L3RDV</td>\n",
       "      <td>Update for the object was not attempted. Objec...</td>\n",
       "      <td></td>\n",
       "      <td>5720</td>\n",
       "      <td>Rest</td>\n",
       "      <td>16</td>\n",
       "      <td>1519344232378</td>\n",
       "      <td>SEVERE</td>\n",
       "      <td></td>\n",
       "    </tr>\n",
       "    <tr>\n",
       "      <th>8</th>\n",
       "      <td>9000</td>\n",
       "      <td></td>\n",
       "      <td>WIN-1L0IR8L3RDV</td>\n",
       "      <td>Update for the object was not attempted. Objec...</td>\n",
       "      <td></td>\n",
       "      <td>5720</td>\n",
       "      <td>Rest</td>\n",
       "      <td>16</td>\n",
       "      <td>1519344230242</td>\n",
       "      <td>SEVERE</td>\n",
       "      <td></td>\n",
       "    </tr>\n",
       "  </tbody>\n",
       "</table>\n",
       "</div>"
      ],
      "text/plain": [
       "   code elapsed          machine  \\\n",
       "4  9000          WIN-1L0IR8L3RDV   \n",
       "5  9000          WIN-1L0IR8L3RDV   \n",
       "6  9000          WIN-1L0IR8L3RDV   \n",
       "7  9000          WIN-1L0IR8L3RDV   \n",
       "8  9000          WIN-1L0IR8L3RDV   \n",
       "\n",
       "                                             message methodName process  \\\n",
       "4  Update for the object was not attempted. Objec...               5720   \n",
       "5  Update for the object was not attempted. Objec...               5720   \n",
       "6  Update for the object was not attempted. Objec...               5720   \n",
       "7  Update for the object was not attempted. Objec...               5720   \n",
       "8  Update for the object was not attempted. Objec...               5720   \n",
       "\n",
       "  source thread           time    type user  \n",
       "4   Rest     16  1519344239803  SEVERE       \n",
       "5   Rest     16  1519344237667  SEVERE       \n",
       "6   Rest     16  1519344235521  SEVERE       \n",
       "7   Rest     16  1519344232378  SEVERE       \n",
       "8   Rest     16  1519344230242  SEVERE       "
      ]
     },
     "execution_count": 8,
     "metadata": {},
     "output_type": "execute_result"
    }
   ],
   "source": [
    "logs = server.logs\n",
    "l = logs.query()\n",
    "df = pd.DataFrame.from_dict(l['logMessages'])\n",
    "df[df.type == 'SEVERE'].head()"
   ]
  },
  {
   "cell_type": "markdown",
   "metadata": {
    "slideshow": {
     "slide_type": "fragment"
    }
   },
   "source": [
    "# Service Management\n",
    "\n",
    "- Start/stop/restart service\n",
    "- disable/enable KML"
   ]
  },
  {
   "cell_type": "code",
   "execution_count": 9,
   "metadata": {
    "slideshow": {
     "slide_type": "fragment"
    }
   },
   "outputs": [
    {
     "name": "stdout",
     "output_type": "stream",
     "text": [
      "Service Name >>>  Map\n",
      "Service Name >>>  MGRS\n",
      "Service Name >>>  mil\n",
      "Service Name >>>  MyMapService\n",
      "Service Name >>>  NYSCounties\n",
      "Service Name >>>  SampleWorldCities\n",
      "{'configuredState': 'STARTED', 'realTimeState': 'STARTED'}\n",
      "{'configuredState': 'STOPPED', 'realTimeState': 'STOPPED'}\n",
      "{'configuredState': 'STARTED', 'realTimeState': 'STARTED'}\n"
     ]
    }
   ],
   "source": [
    "for service in server.services.list():\n",
    "    print(\"Service Name >>>  {}\".format(service.serviceName))\n",
    "    if (service.serviceName == \"SampleWorldCities\"):\n",
    "        print(service.status)\n",
    "        service.stop()\n",
    "        print(service.status)\n",
    "        service.start()\n",
    "        print(service.status)"
   ]
  },
  {
   "cell_type": "markdown",
   "metadata": {
    "slideshow": {
     "slide_type": "subslide"
    }
   },
   "source": [
    "## Enable/Disable KML Extensions"
   ]
  },
  {
   "cell_type": "code",
   "execution_count": 11,
   "metadata": {
    "slideshow": {
     "slide_type": "fragment"
    }
   },
   "outputs": [
    {
     "name": "stdout",
     "output_type": "stream",
     "text": [
      "NAServer\n",
      "SchematicsServer\n",
      "WCSServer\n",
      "WFSServer\n",
      "WMSServer\n",
      "KmlServer\n",
      "FeatureServer\n",
      "True\n"
     ]
    }
   ],
   "source": [
    "for service in server.services.list():\n",
    "    if (service.serviceName == \"SampleWorldCities\"):\n",
    "        p = dict(service.properties)\n",
    "        for ext in p['extensions']:\n",
    "            print(ext['typeName'])\n",
    "            if ext['typeName'] == 'KmlServer' and \\\n",
    "               ext['enabled'] == 'true':\n",
    "                ext['enabled'] = 'false'\n",
    "            elif ext['typeName'] == 'KmlServer' and \\\n",
    "               ext['enabled'] == 'false':\n",
    "                ext['enabled'] = 'true'\n",
    "        print(service.edit(p))\n",
    "        # Restart service\n",
    "        service.stop()\n",
    "        service.start()"
   ]
  },
  {
   "cell_type": "markdown",
   "metadata": {
    "slideshow": {
     "slide_type": "slide"
    }
   },
   "source": [
    "## Monitoring server usage\n",
    "\n",
    "- What is the total number of requests that my ArcGIS Server site handled during the past week?\n",
    "- How was the service request load distributed during the past month?\n",
    "- How are my services performing on an hourly basis?\n",
    "- What was the maximum number of service instances used at any given time for a particular service?"
   ]
  },
  {
   "cell_type": "code",
   "execution_count": 12,
   "metadata": {
    "slideshow": {
     "slide_type": "subslide"
    }
   },
   "outputs": [
    {
     "data": {
      "text/plain": [
       "{'enabled': True,\n",
       " 'maxHistory': 0,\n",
       " 'samplingInterval': 30,\n",
       " 'statisticsDir': 'D:\\\\arcgisserver\\\\directories\\\\arcgissystem'}"
      ]
     },
     "execution_count": 12,
     "metadata": {},
     "output_type": "execute_result"
    }
   ],
   "source": [
    "server.usage.settings"
   ]
  },
  {
   "cell_type": "markdown",
   "metadata": {
    "slideshow": {
     "slide_type": "subslide"
    }
   },
   "source": [
    "## Built in Usage Reports"
   ]
  },
  {
   "cell_type": "code",
   "execution_count": 16,
   "metadata": {
    "slideshow": {
     "slide_type": "fragment"
    }
   },
   "outputs": [
    {
     "name": "stdout",
     "output_type": "stream",
     "text": [
      "Max response times for the last 7 days\n",
      "Publishing Requests Past 30 Days\n",
      "Timed-out requests for the last 7 days\n",
      "Total requests for the last 7 days\n"
     ]
    }
   ],
   "source": [
    "usage_reports = server.usage.list()\n",
    "for r in usage_reports:\n",
    "    print(r.properties['reportname'])"
   ]
  },
  {
   "cell_type": "markdown",
   "metadata": {
    "slideshow": {
     "slide_type": "subslide"
    }
   },
   "source": [
    "## Usage Data\n",
    "\n",
    "- Insights to server load"
   ]
  },
  {
   "cell_type": "code",
   "execution_count": 25,
   "metadata": {
    "slideshow": {
     "slide_type": "fragment"
    }
   },
   "outputs": [],
   "source": [
    "max_resp_report = usage_reports[0]\n",
    "data = max_resp_report.query()"
   ]
  },
  {
   "cell_type": "code",
   "execution_count": 26,
   "metadata": {
    "slideshow": {
     "slide_type": "skip"
    }
   },
   "outputs": [],
   "source": [
    "from datetime import datetime\n",
    "import numpy as np\n",
    "import matplotlib.pyplot as plt\n",
    "import matplotlib.ticker as ticker\n",
    "%matplotlib inline"
   ]
  },
  {
   "cell_type": "code",
   "execution_count": 27,
   "metadata": {
    "slideshow": {
     "slide_type": "subslide"
    }
   },
   "outputs": [],
   "source": [
    "#store reponse times in Y axis\n",
    "data_y = data['report']['report-data'][0][0]['data']\n",
    "\n",
    "#convert dates to readable dates and store in X axis\n",
    "data_x = [pd.to_datetime(datetime.fromtimestamp(d//1000)) \\\n",
    "          for d in data['report']['time-slices']]\n",
    "\n",
    "#create a Pandas DataFrame from the report\n",
    "df = pd.DataFrame(list(zip(data_x, data_y)), columns=[\"date\", \"count\"])\n",
    "q = df['count'].isnull() # change NaN values to 0\n",
    "df.loc[q, 'count'] = 0\n",
    "df.index = df['date']\n",
    "df['count'] = df['count'] \n",
    "df['date'] = df['date'].astype(str)"
   ]
  },
  {
   "cell_type": "code",
   "execution_count": 28,
   "metadata": {
    "slideshow": {
     "slide_type": "fragment"
    }
   },
   "outputs": [
    {
     "data": {
      "image/png": "[encoded data removed]",
      "text/plain": [
       "<matplotlib.figure.Figure at 0x194a053e630>"
      ]
     },
     "metadata": {},
     "output_type": "display_data"
    }
   ],
   "source": [
    "#plot as a bar chart\n",
    "ax = df.plot(kind='bar', x=df['date'])\n",
    "ticklabels = ['']*len(df.index)\n",
    "ticklabels[::4] = [item.strftime('%b %d') for item in df.index[::4]]\n",
    "ax.xaxis.set_major_formatter(ticker.FixedFormatter(ticklabels))\n",
    "plt.gcf().autofmt_xdate()\n",
    "plt.show()"
   ]
  },
  {
   "cell_type": "markdown",
   "metadata": {
    "slideshow": {
     "slide_type": "subslide"
    }
   },
   "source": [
    "## Quick Reports\n",
    "\n",
    "- deleted after use"
   ]
  },
  {
   "cell_type": "code",
   "execution_count": 29,
   "metadata": {
    "slideshow": {
     "slide_type": "fragment"
    }
   },
   "outputs": [],
   "source": [
    "data = server.usage.quick_report(since=\"LAST_MONTH\", \n",
    "                                 metrics=\"RequestCount\")"
   ]
  },
  {
   "cell_type": "code",
   "execution_count": 30,
   "metadata": {
    "slideshow": {
     "slide_type": "skip"
    }
   },
   "outputs": [],
   "source": [
    "#store reponse times in Y axis\n",
    "data_y = data['report']['report-data'][0][0]['data']\n",
    "\n",
    "#convert dates to readable dates and store in X axis\n",
    "data_x = [pd.to_datetime(datetime.fromtimestamp(d//1000)) \\\n",
    "          for d in data['report']['time-slices']]\n",
    "\n",
    "#create a Pandas DataFrame from the report\n",
    "df = pd.DataFrame(list(zip(data_x, data_y)), columns=[\"date\", \"count\"])\n",
    "q = df['count'].isnull() # change NaN values to 0\n",
    "df.loc[q, 'count'] = 0\n",
    "df.index = df['date']\n",
    "df['count'] = df['count'] \n",
    "df['date'] = df['date'].astype(str)"
   ]
  },
  {
   "cell_type": "code",
   "execution_count": 31,
   "metadata": {
    "slideshow": {
     "slide_type": "fragment"
    }
   },
   "outputs": [
    {
     "data": {
      "image/png": "[encoded data removed]",
      "text/plain": [
       "<matplotlib.figure.Figure at 0x194a05a0710>"
      ]
     },
     "metadata": {},
     "output_type": "display_data"
    }
   ],
   "source": [
    "#plot as a bar chart\n",
    "ax = df.plot(kind='bar', x=df['date'])\n",
    "ticklabels = ['']*len(df.index)\n",
    "ticklabels[::4] = [item.strftime('%b %d') for item in df.index[::4]]\n",
    "ax.xaxis.set_major_formatter(ticker.FixedFormatter(ticklabels))\n",
    "plt.gcf().autofmt_xdate()\n",
    "plt.show()"
   ]
  },
  {
   "cell_type": "markdown",
   "metadata": {
    "slideshow": {
     "slide_type": "subslide"
    }
   },
   "source": [
    "# Monitoring server licenses and extensions\n",
    "\n",
    "- Use the licenses property of Server.system object to get a dictionary of various licenses and extensions available on the server."
   ]
  },
  {
   "cell_type": "code",
   "execution_count": 4,
   "metadata": {
    "slideshow": {
     "slide_type": "skip"
    }
   },
   "outputs": [],
   "source": [
    "from arcgis.gis import GIS\n",
    "import pandas as pd\n",
    "gis = GIS(profile=\"wdcintelportal_bill\")\n",
    "server = gis.admin.servers.list()[0]"
   ]
  },
  {
   "cell_type": "code",
   "execution_count": 5,
   "metadata": {
    "slideshow": {
     "slide_type": "subslide"
    }
   },
   "outputs": [
    {
     "data": {
      "text/html": [
       "<div>\n",
       "<style scoped>\n",
       "    .dataframe tbody tr th:only-of-type {\n",
       "        vertical-align: middle;\n",
       "    }\n",
       "\n",
       "    .dataframe tbody tr th {\n",
       "        vertical-align: top;\n",
       "    }\n",
       "\n",
       "    .dataframe thead th {\n",
       "        text-align: right;\n",
       "    }\n",
       "</style>\n",
       "<table border=\"1\" class=\"dataframe\">\n",
       "  <thead>\n",
       "    <tr style=\"text-align: right;\">\n",
       "      <th></th>\n",
       "      <th>canExpire</th>\n",
       "      <th>coreCount</th>\n",
       "      <th>displayName</th>\n",
       "      <th>expiration</th>\n",
       "      <th>isValid</th>\n",
       "      <th>name</th>\n",
       "      <th>version</th>\n",
       "    </tr>\n",
       "  </thead>\n",
       "  <tbody>\n",
       "    <tr>\n",
       "      <th>0</th>\n",
       "      <td>True</td>\n",
       "      <td>4</td>\n",
       "      <td>ArcGIS Server Advanced Core</td>\n",
       "      <td>1539648000000</td>\n",
       "      <td>True</td>\n",
       "      <td>esriServerLicenseAdvanced</td>\n",
       "      <td>10.6</td>\n",
       "    </tr>\n",
       "    <tr>\n",
       "      <th>1</th>\n",
       "      <td>True</td>\n",
       "      <td>0</td>\n",
       "      <td>Workflow Manager Extension for ArcGIS Server</td>\n",
       "      <td>1539648000000</td>\n",
       "      <td>True</td>\n",
       "      <td>esriServerWorkflowManager</td>\n",
       "      <td>10.6</td>\n",
       "    </tr>\n",
       "    <tr>\n",
       "      <th>2</th>\n",
       "      <td>True</td>\n",
       "      <td>0</td>\n",
       "      <td>StreetMap Premium North America for ArcGIS Ent...</td>\n",
       "      <td>1539648000000</td>\n",
       "      <td>True</td>\n",
       "      <td>esriServerStreetMapPremiumNorthAmerica</td>\n",
       "      <td>10.6</td>\n",
       "    </tr>\n",
       "    <tr>\n",
       "      <th>3</th>\n",
       "      <td>True</td>\n",
       "      <td>0</td>\n",
       "      <td>Business Analyst Extension for ArcGIS Server</td>\n",
       "      <td>1539648000000</td>\n",
       "      <td>True</td>\n",
       "      <td>esriServerBusiness</td>\n",
       "      <td>10.6</td>\n",
       "    </tr>\n",
       "    <tr>\n",
       "      <th>4</th>\n",
       "      <td>True</td>\n",
       "      <td>0</td>\n",
       "      <td>ArcGIS for INSPIRE</td>\n",
       "      <td>1539648000000</td>\n",
       "      <td>True</td>\n",
       "      <td>esriServerINSPIRE</td>\n",
       "      <td>10.6</td>\n",
       "    </tr>\n",
       "  </tbody>\n",
       "</table>\n",
       "</div>"
      ],
      "text/plain": [
       "   canExpire  coreCount                                        displayName  \\\n",
       "0       True          4                        ArcGIS Server Advanced Core   \n",
       "1       True          0       Workflow Manager Extension for ArcGIS Server   \n",
       "2       True          0  StreetMap Premium North America for ArcGIS Ent...   \n",
       "3       True          0       Business Analyst Extension for ArcGIS Server   \n",
       "4       True          0                                 ArcGIS for INSPIRE   \n",
       "\n",
       "      expiration  isValid                                    name version  \n",
       "0  1539648000000     True               esriServerLicenseAdvanced    10.6  \n",
       "1  1539648000000     True               esriServerWorkflowManager    10.6  \n",
       "2  1539648000000     True  esriServerStreetMapPremiumNorthAmerica    10.6  \n",
       "3  1539648000000     True                      esriServerBusiness    10.6  \n",
       "4  1539648000000     True                       esriServerINSPIRE    10.6  "
      ]
     },
     "execution_count": 5,
     "metadata": {},
     "output_type": "execute_result"
    }
   ],
   "source": [
    "df = pd.DataFrame.from_dict(server.system.licenses['features'])\n",
    "df.head()"
   ]
  },
  {
   "cell_type": "code",
   "execution_count": 6,
   "metadata": {
    "slideshow": {
     "slide_type": "fragment"
    }
   },
   "outputs": [
    {
     "data": {
      "text/html": [
       "<div>\n",
       "<style scoped>\n",
       "    .dataframe tbody tr th:only-of-type {\n",
       "        vertical-align: middle;\n",
       "    }\n",
       "\n",
       "    .dataframe tbody tr th {\n",
       "        vertical-align: top;\n",
       "    }\n",
       "\n",
       "    .dataframe thead th {\n",
       "        text-align: right;\n",
       "    }\n",
       "</style>\n",
       "<table border=\"1\" class=\"dataframe\">\n",
       "  <thead>\n",
       "    <tr style=\"text-align: right;\">\n",
       "      <th></th>\n",
       "      <th>canExpire</th>\n",
       "      <th>expiration</th>\n",
       "      <th>featureName</th>\n",
       "      <th>name</th>\n",
       "      <th>version</th>\n",
       "    </tr>\n",
       "  </thead>\n",
       "  <tbody>\n",
       "    <tr>\n",
       "      <th>0</th>\n",
       "      <td>True</td>\n",
       "      <td>1539648000000</td>\n",
       "      <td>esriServerLicenseAdvanced</td>\n",
       "      <td>svradvanced</td>\n",
       "      <td>10.6</td>\n",
       "    </tr>\n",
       "  </tbody>\n",
       "</table>\n",
       "</div>"
      ],
      "text/plain": [
       "   canExpire     expiration                featureName         name version\n",
       "0       True  1539648000000  esriServerLicenseAdvanced  svradvanced    10.6"
      ]
     },
     "execution_count": 6,
     "metadata": {},
     "output_type": "execute_result"
    }
   ],
   "source": [
    "pd.DataFrame.from_dict([server.system.licenses['edition']])"
   ]
  },
  {
   "cell_type": "markdown",
   "metadata": {
    "slideshow": {
     "slide_type": "subslide"
    }
   },
   "source": [
    "## Working with registered Data Stores in ArcGIS Server"
   ]
  },
  {
   "cell_type": "code",
   "execution_count": 7,
   "metadata": {
    "slideshow": {
     "slide_type": "fragment"
    }
   },
   "outputs": [
    {
     "name": "stdout",
     "output_type": "stream",
     "text": [
      "egdb ArcGIS Data Store /enterpriseDatabases/AGSDataStore_ds_o4zf6mu4\n",
      "\tDoes it validate?  True\n",
      "nosql ArcGIS Data Store /nosqlDatabases/AGSDataStore_nosqldb_ds_o4zf6mu4\n"
     ]
    }
   ],
   "source": [
    "for ds in server.datastores.list():\n",
    "    print(ds.type, ds.provider, ds.path)\n",
    "    if ds.type == \"egdb\":\n",
    "        resp = ds.validate()\n",
    "        print(\"\\tDoes it validate?  {}\".format(resp))"
   ]
  },
  {
   "cell_type": "code",
   "execution_count": 11,
   "metadata": {},
   "outputs": [
    {
     "name": "stdout",
     "output_type": "stream",
     "text": [
      "bigDataFileShare\n",
      "nosql\n",
      "nosql\n",
      "egdb\n"
     ]
    }
   ],
   "source": [
    "gis2 = GIS(profile=\"pythonplayground_bill\")\n",
    "hostingserver = gis2.admin.servers.list()[0]\n",
    "for ds in hostingserver.datastores.list():\n",
    "    print(ds.type)"
   ]
  },
  {
   "cell_type": "markdown",
   "metadata": {
    "slideshow": {
     "slide_type": "slide"
    }
   },
   "source": [
    "# Scripting the Python API"
   ]
  },
  {
   "cell_type": "markdown",
   "metadata": {
    "slideshow": {
     "slide_type": "subslide"
    }
   },
   "source": [
    "Do I need to use Jupyter Notebooks for the ArcGIS API for Python for automating tasks?\n",
    "#### NO! ####\n",
    "\n",
    "Can I use my favorite Python IDE (e.g. vim) to write scripts as usual?\n",
    "#### YES! ####"
   ]
  },
  {
   "cell_type": "markdown",
   "metadata": {
    "slideshow": {
     "slide_type": "subslide"
    }
   },
   "source": [
    "Use Windows Task Scheduler or Crontab as you normally would. Just make sure you have all the necessary dependencies installed for the capabilities in the Python API installed on the execution system."
   ]
  },
  {
   "cell_type": "markdown",
   "metadata": {
    "slideshow": {
     "slide_type": "subslide"
    }
   },
   "source": [
    "If I write scripts and run them command line, does that mean I can't take advantage of the spatial Pandas Dataframe or the Analysis capabilities of the ArcGIS API for Python since it won't run in a Jupyter Notebook?\n",
    "\n",
    "#### NO! ####\n",
    "\n",
    "You just won't be able to visual the results, like in this presentation."
   ]
  },
  {
   "cell_type": "markdown",
   "metadata": {
    "slideshow": {
     "slide_type": "slide"
    }
   },
   "source": [
    "## Using the ArcGIS API for Python in AWS Lambda ##"
   ]
  },
  {
   "cell_type": "markdown",
   "metadata": {
    "slideshow": {
     "slide_type": "subslide"
    }
   },
   "source": [
    "Why do I want to do this?  There could be any number of reasons.\n",
    "- User Management in my AGOL Organization\n",
    "- Automate Content Management Policies - poorly tagged items\n",
    "- Automate Publishing workflows, e.g. publishing S3 content as it lands in a bucket\n",
    "- Create administration dashboard of your AGOL/ArcGIS Enterprise"
   ]
  },
  {
   "cell_type": "markdown",
   "metadata": {
    "slideshow": {
     "slide_type": "subslide"
    }
   },
   "source": [
    "How do you accomplish this?  \n",
    "\n",
    "With the ArcGIS API for Python 1.4 release, Esri now provides a `pip` install which makes this process more streamlined."
   ]
  },
  {
   "cell_type": "markdown",
   "metadata": {
    "slideshow": {
     "slide_type": "fragment"
    }
   },
   "source": [
    "If you are interested in many types of administrative or content publishing workflows, it does not require numpy or pandas dependencies."
   ]
  },
  {
   "cell_type": "markdown",
   "metadata": {
    "slideshow": {
     "slide_type": "slide"
    }
   },
   "source": [
    "Steps to accomplish\n",
    "-  From client workstation, pip install the ArcGIS API for Python to its own folder.\n",
    "    +  `pip install --target=c:\\aws_findOldLogins arcgis --no-deps`\n",
    "-  Create your primary AWS Python Lambda script in this folder, e.g. c:\\aws_findOldLogins\\findStaleLogins.py\n",
    "    +  Be sure to follow Lambda requirements of having a lambda_handler() entry point\n",
    "-  Zip the contents of this folder, but not the parent folder.\n",
    "-  Create a new AWS Python Lambda function, but chose to Upload your zip file as the function.\n"
   ]
  },
  {
   "cell_type": "markdown",
   "metadata": {
    "slideshow": {
     "slide_type": "subslide"
    }
   },
   "source": [
    "<center><img src='./img/lambda1.png' /></center>"
   ]
  },
  {
   "cell_type": "markdown",
   "metadata": {
    "slideshow": {
     "slide_type": "subslide"
    }
   },
   "source": [
    "<center><img src='./img/lambda2.png' /></center>"
   ]
  },
  {
   "cell_type": "markdown",
   "metadata": {
    "slideshow": {
     "slide_type": "subslide"
    }
   },
   "source": [
    "<a href=\"https://s3-us-west-1.amazonaws.com/enterprise-dashboard/index.html\">ArcGIS Enterprise Sample Dashboard</a>"
   ]
  },
  {
   "cell_type": "markdown",
   "metadata": {
    "slideshow": {
     "slide_type": "slide"
    }
   },
   "source": [
    "# Questions?"
   ]
  }
 ],
 "metadata": {
  "celltoolbar": "Slideshow",
  "kernelspec": {
   "display_name": "Python 3",
   "language": "python",
   "name": "python3"
  },
  "language_info": {
   "codemirror_mode": {
    "name": "ipython",
    "version": 3
   },
   "file_extension": ".py",
   "mimetype": "text/x-python",
   "name": "python",
   "nbconvert_exporter": "python",
   "pygments_lexer": "ipython3",
   "version": "3.6.1"
  }
 },
 "nbformat": 4,
 "nbformat_minor": 2
}
