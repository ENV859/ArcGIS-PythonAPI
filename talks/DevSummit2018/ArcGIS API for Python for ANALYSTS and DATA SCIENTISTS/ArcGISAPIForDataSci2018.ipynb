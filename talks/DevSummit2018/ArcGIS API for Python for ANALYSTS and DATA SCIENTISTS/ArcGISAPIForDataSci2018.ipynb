{
 "cells": [
  {
   "cell_type": "code",
   "execution_count": null,
   "metadata": {
    "collapsed": true,
    "slideshow": {
     "slide_type": "skip"
    }
   },
   "outputs": [],
   "source": [
    "%%html\n",
    "<style>\n",
    ".container {width: 99% !important; }\n",
    "#logo\n",
    "{\n",
    "    float: left;\n",
    "}\n",
    "#names\n",
    "{\n",
    "    float: right;\n",
    "    \n",
    "}\n",
    "#logo2\n",
    "{\n",
    "    float: right;\n",
    "    height=100;\n",
    "    width=100;\n",
    "    margin: 5px;\n",
    "}\n",
    "#top_menu\n",
    "{\n",
    "    margin: 20px auto 0;\n",
    "    \n",
    "    height:300px;\n",
    "    width: 400px;\n",
    "}\n",
    "</style>\n",
    "\n",
    "\n"
   ]
  },
  {
   "cell_type": "markdown",
   "metadata": {
    "slideshow": {
     "slide_type": "slide"
    }
   },
   "source": [
    "<div id=\"logo\"><img src=\"./img/ScienceOfWhere2.PNG\"/></div>\n",
    "\n",
    "<div id=\"top_menu\">\n",
    "    <h2>ArcGIS API for Python and Data Scientists</h2>\n",
    "    <p/> By: Andrew Chapkowski and Rohit Singh\n",
    "</div>\n"
   ]
  },
  {
   "cell_type": "markdown",
   "metadata": {
    "slideshow": {
     "slide_type": "slide"
    }
   },
   "source": [
    "<center><img src=\"./img/slide2_header.jpg\" width=1000 height=600/></center>\n",
    "</br>"
   ]
  },
  {
   "cell_type": "markdown",
   "metadata": {
    "slideshow": {
     "slide_type": "fragment"
    }
   },
   "source": [
    "\n",
    "\n",
    "## What is a Data Scientist?\n",
    "\n",
    "\n",
    "\n",
    "    It's a person employed to analyze and interpret complex digital data, such as the usage statistics of a website, especially in order to assist a business in its decision-making."
   ]
  },
  {
   "cell_type": "markdown",
   "metadata": {
    "slideshow": {
     "slide_type": "slide"
    }
   },
   "source": [
    "# Getting Started with GIS"
   ]
  },
  {
   "cell_type": "code",
   "execution_count": null,
   "metadata": {
    "collapsed": true,
    "slideshow": {
     "slide_type": "fragment"
    }
   },
   "outputs": [],
   "source": [
    "from arcgis.gis import GIS"
   ]
  },
  {
   "cell_type": "code",
   "execution_count": null,
   "metadata": {
    "collapsed": true,
    "slideshow": {
     "slide_type": "fragment"
    }
   },
   "outputs": [],
   "source": [
    "gis = GIS(username='geodevtest')"
   ]
  },
  {
   "cell_type": "code",
   "execution_count": null,
   "metadata": {
    "collapsed": true,
    "slideshow": {
     "slide_type": "skip"
    }
   },
   "outputs": [],
   "source": [
    "username = 'admin'\n",
    "password = '<insert_password_here>'"
   ]
  },
  {
   "cell_type": "code",
   "execution_count": null,
   "metadata": {
    "collapsed": true,
    "slideshow": {
     "slide_type": "fragment"
    }
   },
   "outputs": [],
   "source": [
    "enterprise = GIS('https://achap.esri.com/portal', username, password, verify_cert=False)"
   ]
  },
  {
   "cell_type": "markdown",
   "metadata": {
    "slideshow": {
     "slide_type": "slide"
    }
   },
   "source": [
    "# Finding and Locating Content\n",
    "\n",
    "- ArcGIS Online has a wealth of information\n",
    "- Simple search interface\n",
    "- Two ways to get information from your GIS\n",
    "\n",
    "    + By ID\n",
    "    + By Searching\n",
    "\n"
   ]
  },
  {
   "cell_type": "code",
   "execution_count": null,
   "metadata": {
    "collapsed": true,
    "slideshow": {
     "slide_type": "skip"
    }
   },
   "outputs": [],
   "source": [
    "from IPython.display import display"
   ]
  },
  {
   "cell_type": "code",
   "execution_count": null,
   "metadata": {
    "collapsed": true,
    "slideshow": {
     "slide_type": "slide"
    }
   },
   "outputs": [],
   "source": [
    "items = gis.content.search(\"owner:esri AND World Cities\", item_type=\"Feature Layer\", outside_org=True)\n",
    "for item in items:\n",
    "    display(item)"
   ]
  },
  {
   "cell_type": "code",
   "execution_count": null,
   "metadata": {
    "collapsed": true,
    "slideshow": {
     "slide_type": "slide"
    }
   },
   "outputs": [],
   "source": [
    "item = gis.content.get(\"6996f03a1b364dbab4008d99380370ed\")\n",
    "item "
   ]
  },
  {
   "cell_type": "markdown",
   "metadata": {
    "slideshow": {
     "slide_type": "slide"
    }
   },
   "source": [
    "# Visualize Data on Maps\n",
    "\n",
    "<img src=\"./img/02_MapWidget_Basemaps_03.gif\" />\n",
    "\n",
    "- matplotlib syntax\n",
    "- easy to use"
   ]
  },
  {
   "cell_type": "code",
   "execution_count": null,
   "metadata": {
    "collapsed": true,
    "slideshow": {
     "slide_type": "slide"
    }
   },
   "outputs": [],
   "source": [
    "m = GIS().map('Indianapolis')\n",
    "m"
   ]
  },
  {
   "cell_type": "code",
   "execution_count": null,
   "metadata": {
    "collapsed": true,
    "slideshow": {
     "slide_type": "slide"
    }
   },
   "outputs": [],
   "source": [
    "m.basemap = 'dark-gray-vector'\n",
    "m.zoom = 6"
   ]
  },
  {
   "cell_type": "code",
   "execution_count": null,
   "metadata": {
    "collapsed": true,
    "slideshow": {
     "slide_type": "slide"
    }
   },
   "outputs": [],
   "source": [
    "m.add_layer(items[1].layers[0])\n",
    "m.add_layer(items[0].layers[0])"
   ]
  },
  {
   "cell_type": "markdown",
   "metadata": {
    "slideshow": {
     "slide_type": "slide"
    }
   },
   "source": [
    "# Spatial DataFrame \n",
    "\n",
    "<img src='./img/pandas_logo.png' width=490/>\n",
    "\n",
    "   + Build on Pandas\n",
    "   + Easy Query, Update operations\n",
    "   + Ability to render and plot spatial data\n"
   ]
  },
  {
   "cell_type": "markdown",
   "metadata": {
    "slideshow": {
     "slide_type": "slide"
    }
   },
   "source": [
    "# Features\n",
    "\n",
    "- Spatial Indexing\n",
    "- Consumes both local and web content"
   ]
  },
  {
   "cell_type": "markdown",
   "metadata": {
    "slideshow": {
     "slide_type": "fragment"
    }
   },
   "source": [
    "## Supports Open Source Packages\n",
    "\n",
    "- Integrates with Fiona, pyshp, and ArcPy"
   ]
  },
  {
   "cell_type": "markdown",
   "metadata": {
    "slideshow": {
     "slide_type": "slide"
    }
   },
   "source": [
    "# Demo: Mapping Flight Paths\n",
    "\n",
    "<img src=\"./img/airplane-fact.jpg\" width=500/>"
   ]
  },
  {
   "cell_type": "code",
   "execution_count": null,
   "metadata": {
    "collapsed": true,
    "slideshow": {
     "slide_type": "slide"
    }
   },
   "outputs": [],
   "source": [
    "import sqlite3\n",
    "import pandas as pd\n",
    "conn = sqlite3.connect(\"./data/flights.db\")\n",
    "df_airlines = pd.read_sql_query(\"SELECT * from airlines\", conn)\n",
    "df_airlines.head()"
   ]
  },
  {
   "cell_type": "code",
   "execution_count": null,
   "metadata": {
    "collapsed": true,
    "slideshow": {
     "slide_type": "subslide"
    }
   },
   "outputs": [],
   "source": [
    "df_routes = pd.read_sql_query(\"select * from routes\", conn)\n",
    "df_routes.head()"
   ]
  },
  {
   "cell_type": "code",
   "execution_count": null,
   "metadata": {
    "collapsed": true,
    "slideshow": {
     "slide_type": "subslide"
    }
   },
   "outputs": [],
   "source": [
    "df_apt = pd.read_sql_query(\"select * from airports\", conn)\n",
    "df_apt.head()"
   ]
  },
  {
   "cell_type": "markdown",
   "metadata": {
    "slideshow": {
     "slide_type": "subslide"
    }
   },
   "source": [
    "## Data Wrangling\n",
    "\n",
    "- **Type Issues** latitude/longitude come back as strings"
   ]
  },
  {
   "cell_type": "code",
   "execution_count": null,
   "metadata": {
    "collapsed": true,
    "slideshow": {
     "slide_type": "fragment"
    }
   },
   "outputs": [],
   "source": [
    "df_apt.latitude = df_apt.latitude.astype(float)\n",
    "df_apt.longitude = df_apt.longitude.astype(float)"
   ]
  },
  {
   "cell_type": "code",
   "execution_count": null,
   "metadata": {
    "collapsed": true,
    "slideshow": {
     "slide_type": "fragment"
    }
   },
   "outputs": [],
   "source": [
    "from arcgis.geometry import Point\n",
    "sr = {'wkid' : 4326}\n",
    "geoms = [Point({'x': i[2], 'y':i[1], 'spatialReference' : sr}) \\\n",
    "        for i in df_apt[['latitude', 'longitude']].to_records()]"
   ]
  },
  {
   "cell_type": "code",
   "execution_count": null,
   "metadata": {
    "collapsed": true,
    "slideshow": {
     "slide_type": "subslide"
    }
   },
   "outputs": [],
   "source": [
    "from arcgis.features import SpatialDataFrame\n",
    "sdf = SpatialDataFrame(data=df_apt, geometry=geoms, sr=sr)\n",
    "m = GIS().map('Brazil')\n",
    "m"
   ]
  },
  {
   "cell_type": "code",
   "execution_count": null,
   "metadata": {
    "collapsed": true,
    "slideshow": {
     "slide_type": "fragment"
    }
   },
   "outputs": [],
   "source": [
    "sdf.plot(kind='map', \n",
    "         map_widget=m,\n",
    "         marker_size=3, \n",
    "         pallette='Blues_r',\n",
    "         symbol_style='o',\n",
    "         outline_color='Reds_r',\n",
    "         line_width=.5,\n",
    "         cstep=25)"
   ]
  },
  {
   "cell_type": "code",
   "execution_count": null,
   "metadata": {
    "collapsed": true,
    "slideshow": {
     "slide_type": "skip"
    }
   },
   "outputs": [],
   "source": [
    "from arcgis.geometry import Polyline\n",
    "import greatcircle, sys\n",
    "import numpy as np"
   ]
  },
  {
   "cell_type": "markdown",
   "metadata": {
    "slideshow": {
     "slide_type": "subslide"
    }
   },
   "source": [
    "## Plotting the Plain Routes\n",
    "\n",
    "- Get the source airport for each route\n",
    "- Get the destination airport for each route\n",
    "- Cast to floats\n",
    "- Plot on a map"
   ]
  },
  {
   "cell_type": "code",
   "execution_count": null,
   "metadata": {
    "collapsed": true,
    "slideshow": {
     "slide_type": "subslide"
    }
   },
   "outputs": [],
   "source": [
    "routes = pd.read_sql_query(\"\"\"\n",
    "                           select cast(sa.longitude as float) as source_lon, \n",
    "                           cast(sa.latitude as float) as source_lat,\n",
    "                           cast(da.longitude as float) as dest_lon,\n",
    "                           cast(da.latitude as float) as dest_lat\n",
    "                           from routes \n",
    "                           inner join airports sa on\n",
    "                           sa.id = routes.source_id\n",
    "                           inner join airports da on\n",
    "                           da.id = routes.dest_id;\n",
    "                           \"\"\", \n",
    "                           conn)\n",
    "routes.head()"
   ]
  },
  {
   "cell_type": "code",
   "execution_count": null,
   "metadata": {
    "collapsed": true,
    "slideshow": {
     "slide_type": "subslide"
    }
   },
   "outputs": [],
   "source": [
    "gcs = []\n",
    "recs = []\n",
    "for name, row in routes[:3000].iterrows():\n",
    "    if abs(row[\"source_lon\"] - row[\"dest_lon\"]) < 90:\n",
    "        # Draw a great circle between source and dest airports.\n",
    "        recs.append(row.tolist())\n",
    "        gc = greatcircle.GreatCircle(lat1=row['source_lat'],\n",
    "                               lat2=row['dest_lat'],\n",
    "                               lon1=row['source_lon'],\n",
    "                               lon2=row['dest_lon'])\n",
    "        lat, long = gc.points(5000)\n",
    "        gcs.append(\n",
    "        Polyline({\n",
    "            'paths' : [np.column_stack([list(lat), list(long)]).tolist()],\n",
    "            'spatialReference' : {'wkid' : 4326}\n",
    "        }))\n"
   ]
  },
  {
   "cell_type": "code",
   "execution_count": null,
   "metadata": {
    "collapsed": true,
    "slideshow": {
     "slide_type": "subslide"
    }
   },
   "outputs": [],
   "source": [
    "routes_sdf = SpatialDataFrame(data=recs, geometry=gcs, columns=routes.columns, sr=4326)\n",
    "routes_sdf.head()"
   ]
  },
  {
   "cell_type": "code",
   "execution_count": null,
   "metadata": {
    "collapsed": true,
    "slideshow": {
     "slide_type": "subslide"
    }
   },
   "outputs": [],
   "source": [
    "m = GIS().map('Europe')\n",
    "m"
   ]
  },
  {
   "cell_type": "code",
   "execution_count": null,
   "metadata": {
    "collapsed": true,
    "slideshow": {
     "slide_type": "skip"
    }
   },
   "outputs": [],
   "source": [
    "sdf.plot(kind='map', \n",
    "         map_widget=m,\n",
    "         marker_size=3, \n",
    "         pallette='Blues_r',\n",
    "         symbol_style='o',\n",
    "         outline_color='Greens_r',\n",
    "         line_width=.5,\n",
    "         cstep=25)"
   ]
  },
  {
   "cell_type": "code",
   "execution_count": null,
   "metadata": {
    "collapsed": true,
    "slideshow": {
     "slide_type": "skip"
    }
   },
   "outputs": [],
   "source": [
    "routes_sdf.head(500).copy().plot(kind='map', \n",
    "                                 map_widget=m,\n",
    "                                line_width=.5,\n",
    "                                pallette='Reds_r',\n",
    "                                cstep=50)"
   ]
  },
  {
   "cell_type": "markdown",
   "metadata": {
    "slideshow": {
     "slide_type": "slide"
    }
   },
   "source": [
    "# Selecting Data\n",
    "\n",
    "### Attribute Selection"
   ]
  },
  {
   "cell_type": "code",
   "execution_count": 75,
   "metadata": {
    "slideshow": {
     "slide_type": "fragment"
    }
   },
   "outputs": [
    {
     "data": {
      "text/html": [
       "<div>\n",
       "<style scoped>\n",
       "    .dataframe tbody tr th:only-of-type {\n",
       "        vertical-align: middle;\n",
       "    }\n",
       "\n",
       "    .dataframe tbody tr th {\n",
       "        vertical-align: top;\n",
       "    }\n",
       "\n",
       "    .dataframe thead th {\n",
       "        text-align: right;\n",
       "    }\n",
       "</style>\n",
       "<table border=\"1\" class=\"dataframe\">\n",
       "  <thead>\n",
       "    <tr style=\"text-align: right;\">\n",
       "      <th></th>\n",
       "      <th>ADMIN_NAME</th>\n",
       "      <th>CITY_NAME</th>\n",
       "      <th>CNTRY_NAME</th>\n",
       "      <th>FID</th>\n",
       "      <th>FIPS_CNTRY</th>\n",
       "      <th>GMI_ADMIN</th>\n",
       "      <th>LABEL_FLAG</th>\n",
       "      <th>ObjectID</th>\n",
       "      <th>POP</th>\n",
       "      <th>POP_CLASS</th>\n",
       "      <th>POP_RANK</th>\n",
       "      <th>PORT_ID</th>\n",
       "      <th>STATUS</th>\n",
       "      <th>SHAPE</th>\n",
       "    </tr>\n",
       "  </thead>\n",
       "  <tbody>\n",
       "    <tr>\n",
       "      <th>0</th>\n",
       "      <td>Mato Grosso</td>\n",
       "      <td>Cuiaba</td>\n",
       "      <td>Brazil</td>\n",
       "      <td>1</td>\n",
       "      <td>BR</td>\n",
       "      <td>BRA-MGR</td>\n",
       "      <td>0</td>\n",
       "      <td>0</td>\n",
       "      <td>521934</td>\n",
       "      <td>500,000 to 999,999</td>\n",
       "      <td>3</td>\n",
       "      <td>0</td>\n",
       "      <td>Provincial capital</td>\n",
       "      <td>{'x': -6244244.606196579, 'y': -1760180.180467...</td>\n",
       "    </tr>\n",
       "    <tr>\n",
       "      <th>3</th>\n",
       "      <td>Distrito Federal</td>\n",
       "      <td>Brasilia</td>\n",
       "      <td>Brazil</td>\n",
       "      <td>4</td>\n",
       "      <td>BR</td>\n",
       "      <td>BRA-DFD</td>\n",
       "      <td>0</td>\n",
       "      <td>1</td>\n",
       "      <td>2207718</td>\n",
       "      <td>1,000,000 to 4,999,999</td>\n",
       "      <td>2</td>\n",
       "      <td>0</td>\n",
       "      <td>National and provincial capital</td>\n",
       "      <td>{'x': -5331952.879361972, 'y': -1780660.510942...</td>\n",
       "    </tr>\n",
       "    <tr>\n",
       "      <th>4</th>\n",
       "      <td>Goias</td>\n",
       "      <td>Goiania</td>\n",
       "      <td>Brazil</td>\n",
       "      <td>5</td>\n",
       "      <td>BR</td>\n",
       "      <td>BRA-GOI</td>\n",
       "      <td>0</td>\n",
       "      <td>2</td>\n",
       "      <td>1171195</td>\n",
       "      <td>1,000,000 to 4,999,999</td>\n",
       "      <td>2</td>\n",
       "      <td>0</td>\n",
       "      <td>Provincial capital</td>\n",
       "      <td>{'x': -5483041.697485694, 'y': -1889069.697082...</td>\n",
       "    </tr>\n",
       "    <tr>\n",
       "      <th>6</th>\n",
       "      <td>Mato Grosso do Sul</td>\n",
       "      <td>Campo Grande</td>\n",
       "      <td>Brazil</td>\n",
       "      <td>7</td>\n",
       "      <td>BR</td>\n",
       "      <td>BRA-MGD</td>\n",
       "      <td>0</td>\n",
       "      <td>3</td>\n",
       "      <td>729151</td>\n",
       "      <td>500,000 to 999,999</td>\n",
       "      <td>3</td>\n",
       "      <td>0</td>\n",
       "      <td>Provincial capital</td>\n",
       "      <td>{'x': -6079824.8259584475, 'y': -2326534.95185...</td>\n",
       "    </tr>\n",
       "    <tr>\n",
       "      <th>78</th>\n",
       "      <td>Roraima</td>\n",
       "      <td>Boa Vista</td>\n",
       "      <td>Brazil</td>\n",
       "      <td>79</td>\n",
       "      <td>BR</td>\n",
       "      <td>BRA-ROR</td>\n",
       "      <td>0</td>\n",
       "      <td>535</td>\n",
       "      <td>235150</td>\n",
       "      <td>100,000 to 249,999</td>\n",
       "      <td>5</td>\n",
       "      <td>0</td>\n",
       "      <td>Provincial capital</td>\n",
       "      <td>{'x': -6753085.102171447, 'y': 313824.76209534...</td>\n",
       "    </tr>\n",
       "  </tbody>\n",
       "</table>\n",
       "</div>"
      ],
      "text/plain": [
       "            ADMIN_NAME     CITY_NAME CNTRY_NAME  FID FIPS_CNTRY GMI_ADMIN  \\\n",
       "0          Mato Grosso        Cuiaba     Brazil    1         BR   BRA-MGR   \n",
       "3     Distrito Federal      Brasilia     Brazil    4         BR   BRA-DFD   \n",
       "4                Goias       Goiania     Brazil    5         BR   BRA-GOI   \n",
       "6   Mato Grosso do Sul  Campo Grande     Brazil    7         BR   BRA-MGD   \n",
       "78             Roraima     Boa Vista     Brazil   79         BR   BRA-ROR   \n",
       "\n",
       "    LABEL_FLAG  ObjectID      POP               POP_CLASS  POP_RANK  PORT_ID  \\\n",
       "0            0         0   521934      500,000 to 999,999         3        0   \n",
       "3            0         1  2207718  1,000,000 to 4,999,999         2        0   \n",
       "4            0         2  1171195  1,000,000 to 4,999,999         2        0   \n",
       "6            0         3   729151      500,000 to 999,999         3        0   \n",
       "78           0       535   235150      100,000 to 249,999         5        0   \n",
       "\n",
       "                             STATUS  \\\n",
       "0                Provincial capital   \n",
       "3   National and provincial capital   \n",
       "4                Provincial capital   \n",
       "6                Provincial capital   \n",
       "78               Provincial capital   \n",
       "\n",
       "                                                SHAPE  \n",
       "0   {'x': -6244244.606196579, 'y': -1760180.180467...  \n",
       "3   {'x': -5331952.879361972, 'y': -1780660.510942...  \n",
       "4   {'x': -5483041.697485694, 'y': -1889069.697082...  \n",
       "6   {'x': -6079824.8259584475, 'y': -2326534.95185...  \n",
       "78  {'x': -6753085.102171447, 'y': 313824.76209534...  "
      ]
     },
     "execution_count": 75,
     "metadata": {},
     "output_type": "execute_result"
    }
   ],
   "source": [
    "df = item.layers[0].query().df\n",
    "df[df['CNTRY_NAME'] == 'Brazil'].head()"
   ]
  },
  {
   "cell_type": "markdown",
   "metadata": {
    "slideshow": {
     "slide_type": "subslide"
    }
   },
   "source": [
    "### Spatial Selection\n",
    "\n",
    "- Perform spatial selection using extents"
   ]
  },
  {
   "cell_type": "code",
   "execution_count": 77,
   "metadata": {
    "slideshow": {
     "slide_type": "fragment"
    }
   },
   "outputs": [
    {
     "data": {
      "text/html": [
       "<div>\n",
       "<style scoped>\n",
       "    .dataframe tbody tr th:only-of-type {\n",
       "        vertical-align: middle;\n",
       "    }\n",
       "\n",
       "    .dataframe tbody tr th {\n",
       "        vertical-align: top;\n",
       "    }\n",
       "\n",
       "    .dataframe thead th {\n",
       "        text-align: right;\n",
       "    }\n",
       "</style>\n",
       "<table border=\"1\" class=\"dataframe\">\n",
       "  <thead>\n",
       "    <tr style=\"text-align: right;\">\n",
       "      <th></th>\n",
       "      <th>ADMIN_NAME</th>\n",
       "      <th>CITY_NAME</th>\n",
       "      <th>CNTRY_NAME</th>\n",
       "      <th>FID</th>\n",
       "      <th>FIPS_CNTRY</th>\n",
       "      <th>GMI_ADMIN</th>\n",
       "      <th>LABEL_FLAG</th>\n",
       "      <th>ObjectID</th>\n",
       "      <th>POP</th>\n",
       "      <th>POP_CLASS</th>\n",
       "      <th>POP_RANK</th>\n",
       "      <th>PORT_ID</th>\n",
       "      <th>STATUS</th>\n",
       "      <th>SHAPE</th>\n",
       "    </tr>\n",
       "  </thead>\n",
       "  <tbody>\n",
       "    <tr>\n",
       "      <th>128</th>\n",
       "      <td>Caaguazu</td>\n",
       "      <td>Coronel Oviedo</td>\n",
       "      <td>Paraguay</td>\n",
       "      <td>129</td>\n",
       "      <td>PA</td>\n",
       "      <td>PRY-CAA</td>\n",
       "      <td>0</td>\n",
       "      <td>127</td>\n",
       "      <td>51286</td>\n",
       "      <td>50,000 to 99,999</td>\n",
       "      <td>6</td>\n",
       "      <td>0</td>\n",
       "      <td>Provincial capital</td>\n",
       "      <td>{'x': -6281536.41337292, 'y': -2931488.7433651...</td>\n",
       "    </tr>\n",
       "    <tr>\n",
       "      <th>129</th>\n",
       "      <td>Acre</td>\n",
       "      <td>Rio Branco</td>\n",
       "      <td>Brazil</td>\n",
       "      <td>130</td>\n",
       "      <td>BR</td>\n",
       "      <td>BRA-ACR</td>\n",
       "      <td>0</td>\n",
       "      <td>49</td>\n",
       "      <td>257642</td>\n",
       "      <td>250,000 to 499,999</td>\n",
       "      <td>4</td>\n",
       "      <td>0</td>\n",
       "      <td>Provincial capital</td>\n",
       "      <td>{'x': -7548797.610356256, 'y': -1116516.500888...</td>\n",
       "    </tr>\n",
       "    <tr>\n",
       "      <th>130</th>\n",
       "      <td>Paraguari</td>\n",
       "      <td>Paraguari</td>\n",
       "      <td>Paraguay</td>\n",
       "      <td>131</td>\n",
       "      <td>PA</td>\n",
       "      <td>PRY-PRG</td>\n",
       "      <td>1</td>\n",
       "      <td>128</td>\n",
       "      <td>10079</td>\n",
       "      <td>Less than 50,000</td>\n",
       "      <td>7</td>\n",
       "      <td>0</td>\n",
       "      <td>Provincial capital</td>\n",
       "      <td>{'x': -6362020.065471231, 'y': -2952585.649088...</td>\n",
       "    </tr>\n",
       "    <tr>\n",
       "      <th>0</th>\n",
       "      <td>Mato Grosso</td>\n",
       "      <td>Cuiaba</td>\n",
       "      <td>Brazil</td>\n",
       "      <td>1</td>\n",
       "      <td>BR</td>\n",
       "      <td>BRA-MGR</td>\n",
       "      <td>0</td>\n",
       "      <td>0</td>\n",
       "      <td>521934</td>\n",
       "      <td>500,000 to 999,999</td>\n",
       "      <td>3</td>\n",
       "      <td>0</td>\n",
       "      <td>Provincial capital</td>\n",
       "      <td>{'x': -6244244.606196579, 'y': -1760180.180467...</td>\n",
       "    </tr>\n",
       "    <tr>\n",
       "      <th>4</th>\n",
       "      <td>Goias</td>\n",
       "      <td>Goiania</td>\n",
       "      <td>Brazil</td>\n",
       "      <td>5</td>\n",
       "      <td>BR</td>\n",
       "      <td>BRA-GOI</td>\n",
       "      <td>0</td>\n",
       "      <td>2</td>\n",
       "      <td>1171195</td>\n",
       "      <td>1,000,000 to 4,999,999</td>\n",
       "      <td>2</td>\n",
       "      <td>0</td>\n",
       "      <td>Provincial capital</td>\n",
       "      <td>{'x': -5483041.697485694, 'y': -1889069.697082...</td>\n",
       "    </tr>\n",
       "  </tbody>\n",
       "</table>\n",
       "</div>"
      ],
      "text/plain": [
       "      ADMIN_NAME       CITY_NAME CNTRY_NAME  FID FIPS_CNTRY GMI_ADMIN  \\\n",
       "128     Caaguazu  Coronel Oviedo   Paraguay  129         PA   PRY-CAA   \n",
       "129         Acre      Rio Branco     Brazil  130         BR   BRA-ACR   \n",
       "130    Paraguari       Paraguari   Paraguay  131         PA   PRY-PRG   \n",
       "0    Mato Grosso          Cuiaba     Brazil    1         BR   BRA-MGR   \n",
       "4          Goias         Goiania     Brazil    5         BR   BRA-GOI   \n",
       "\n",
       "     LABEL_FLAG  ObjectID      POP               POP_CLASS  POP_RANK  PORT_ID  \\\n",
       "128           0       127    51286        50,000 to 99,999         6        0   \n",
       "129           0        49   257642      250,000 to 499,999         4        0   \n",
       "130           1       128    10079        Less than 50,000         7        0   \n",
       "0             0         0   521934      500,000 to 999,999         3        0   \n",
       "4             0         2  1171195  1,000,000 to 4,999,999         2        0   \n",
       "\n",
       "                 STATUS                                              SHAPE  \n",
       "128  Provincial capital  {'x': -6281536.41337292, 'y': -2931488.7433651...  \n",
       "129  Provincial capital  {'x': -7548797.610356256, 'y': -1116516.500888...  \n",
       "130  Provincial capital  {'x': -6362020.065471231, 'y': -2952585.649088...  \n",
       "0    Provincial capital  {'x': -6244244.606196579, 'y': -1760180.180467...  \n",
       "4    Provincial capital  {'x': -5483041.697485694, 'y': -1889069.697082...  "
      ]
     },
     "execution_count": 77,
     "metadata": {},
     "output_type": "execute_result"
    }
   ],
   "source": [
    "sq = [-7548797.6103562601, -3508692.7589624999, -3881376.5246212599, 313824.76209535002]\n",
    "index = df.sindex.intersect(sq)\n",
    "df.iloc[list(index)].head()"
   ]
  },
  {
   "cell_type": "markdown",
   "metadata": {
    "slideshow": {
     "slide_type": "subslide"
    }
   },
   "source": [
    "# Enriching Data\n",
    "\n",
    "- Add variables to existing data"
   ]
  },
  {
   "cell_type": "markdown",
   "metadata": {
    "slideshow": {
     "slide_type": "subslide"
    }
   },
   "source": [
    "# Raster Analytics\n",
    "\n",
    "- Rohit's Slides"
   ]
  },
  {
   "cell_type": "markdown",
   "metadata": {
    "slideshow": {
     "slide_type": "subslide"
    }
   },
   "source": [
    "# Geoprocessing\n"
   ]
  },
  {
   "cell_type": "code",
   "execution_count": null,
   "metadata": {
    "collapsed": true,
    "slideshow": {
     "slide_type": "subslide"
    }
   },
   "outputs": [],
   "source": []
  },
  {
   "cell_type": "markdown",
   "metadata": {
    "slideshow": {
     "slide_type": "subslide"
    }
   },
   "source": [
    "# Questions?\n"
   ]
  },
  {
   "cell_type": "markdown",
   "metadata": {
    "slideshow": {
     "slide_type": "subslide"
    }
   },
   "source": [
    "# Thank you\n",
    "\n",
    "**Andrew Chapkowski**\n",
    "\n",
    "**Rohit Singh**\n"
   ]
  }
 ],
 "metadata": {
  "celltoolbar": "Slideshow",
  "kernelspec": {
   "display_name": "Python 3",
   "language": "python",
   "name": "python3"
  },
  "language_info": {
   "codemirror_mode": {
    "name": "ipython",
    "version": 3
   },
   "file_extension": ".py",
   "mimetype": "text/x-python",
   "name": "python",
   "nbconvert_exporter": "python",
   "pygments_lexer": "ipython3",
   "version": "3.6.1"
  }
 },
 "nbformat": 4,
 "nbformat_minor": 2
}
