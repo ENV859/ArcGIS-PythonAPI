{
 "cells": [
  {
   "cell_type": "markdown",
   "metadata": {
    "slideshow": {
     "slide_type": "slide"
    }
   },
   "source": [
    "# Repetitive Clicking Motion Injuries\n",
    "### How to avoid them and free yourself by automating common tasks using..."
   ]
  },
  {
   "cell_type": "markdown",
   "metadata": {
    "slideshow": {
     "slide_type": "slide"
    }
   },
   "source": [
    "<img src='./img/PyAPI.png'/>"
   ]
  },
  {
   "cell_type": "markdown",
   "metadata": {
    "slideshow": {
     "slide_type": "slide"
    }
   },
   "source": [
    "<img src='./img/repetitive_clicking_motion.gif'/>"
   ]
  },
  {
   "cell_type": "markdown",
   "metadata": {
    "slideshow": {
     "slide_type": "slide"
    }
   },
   "source": [
    "<img src='./img/sample_service.png'/>"
   ]
  },
  {
   "cell_type": "code",
   "execution_count": 5,
   "metadata": {},
   "outputs": [
    {
     "name": "stdout",
     "output_type": "stream",
     "text": [
      "SampleWorldCities\n",
      "-----------------\n",
      "The SampleWorldCities service is provided so you can quickly and easily preview the functionality of the GIS server. Click the thumbnail image to open in a web application. This sample service is optional and can be deleted.\n"
     ]
    }
   ],
   "source": [
    "sample_service = server.services.list()[0]\n",
    "print(\"{}\\n-----------------\\n{}\".format(\n",
    "    sample_service.properties[\"serviceName\"],\n",
    "    sample_service.properties[\"description\"]))"
   ]
  },
  {
   "cell_type": "code",
   "execution_count": 6,
   "metadata": {
    "slideshow": {
     "slide_type": "slide"
    }
   },
   "outputs": [
    {
     "name": "stdout",
     "output_type": "stream",
     "text": [
      "Current status of service 'SampleWorldCities': STARTED\n"
     ]
    }
   ],
   "source": [
    "def print_service_status(service):\n",
    "    print(\"Current status of service '{}': {}\".format(\n",
    "        sample_service.properties[\"serviceName\"],\n",
    "        sample_service.status[\"realTimeState\"]))\n",
    "\n",
    "print_service_status(sample_service)"
   ]
  },
  {
   "cell_type": "code",
   "execution_count": 7,
   "metadata": {
    "slideshow": {
     "slide_type": "slide"
    }
   },
   "outputs": [
    {
     "name": "stdout",
     "output_type": "stream",
     "text": [
      "Stopping service 'SampleWorldCities' Succeeded\n",
      "Current status of service 'SampleWorldCities': STOPPED\n"
     ]
    }
   ],
   "source": [
    "outcome = sample_service.stop()\n",
    "print(\"Stopping service '{}' {}\".format(sample_service.properties[\"serviceName\"],\n",
    "                                        \"Succeeded\" if outcome else \"Failed\"))\n",
    "print_service_status(sample_service)"
   ]
  },
  {
   "cell_type": "code",
   "execution_count": 8,
   "metadata": {
    "slideshow": {
     "slide_type": "slide"
    }
   },
   "outputs": [
    {
     "name": "stdout",
     "output_type": "stream",
     "text": [
      "Starting service 'SampleWorldCities' Succeeded\n",
      "Current status of service 'SampleWorldCities': STARTED\n"
     ]
    }
   ],
   "source": [
    "outcome = sample_service.start()\n",
    "print(\"Starting service '{}' {}\".format(sample_service.properties[\"serviceName\"],\n",
    "                                        \"Succeeded\" if outcome else \"Failed\"))\n",
    "print_service_status(sample_service)"
   ]
  },
  {
   "cell_type": "code",
   "execution_count": 3,
   "metadata": {
    "slideshow": {
     "slide_type": "slide"
    }
   },
   "outputs": [
    {
     "data": {
      "text/plain": [
       "[{'code': 20010,\n",
       "  'elapsed': '',\n",
       "  'machine': '10.0.0.250',\n",
       "  'message': 'Error executing tool. CreateBuffers Job ID: jded85941342647cf9aa6550897d34af1 : {\"messageCode\": \"AO_100012\", \"message\": \"CreateBuffers failed.\"}\\nFailed to execute (CreateBuffers).',\n",
       "  'methodName': 'GPServerSync.CheckMessages',\n",
       "  'process': '31221',\n",
       "  'source': 'System/SpatialAnalysisTools.GPServer',\n",
       "  'thread': '81',\n",
       "  'time': 1519888394800,\n",
       "  'type': 'SEVERE',\n",
       "  'user': 'arcgis_python'},\n",
       " {'code': 500000,\n",
       "  'elapsed': '',\n",
       "  'machine': '10.0.0.250',\n",
       "  'message': 'Table not registered [db_60vw8.hsu_a635a.Fire_Buffers_2018_03_01_16_12_53_Fire_Buffers_2018]',\n",
       "  'methodName': '',\n",
       "  'process': '31221',\n",
       "  'source': 'System/SpatialAnalysisTools.GPServer',\n",
       "  'thread': '81',\n",
       "  'time': 1519888394291,\n",
       "  'type': 'SEVERE',\n",
       "  'user': 'arcgis_python'}]"
      ]
     },
     "execution_count": 3,
     "metadata": {},
     "output_type": "execute_result"
    }
   ],
   "source": [
    "messages = server.logs.query(datetime.datetime.now().isoformat(),\n",
    "                             level=\"SEVERE\")[\"logMessages\"]\n",
    "messages[:2]"
   ]
  },
  {
   "cell_type": "code",
   "execution_count": 11,
   "metadata": {
    "slideshow": {
     "slide_type": "slide"
    }
   },
   "outputs": [
    {
     "data": {
      "text/plain": [
       "[{'code': 23836,\n",
       "  'elapsed': '',\n",
       "  'machine': '10.0.0.250',\n",
       "  'message': 'The maximum number of records allowed has been exceeded.',\n",
       "  'methodName': 'Generate',\n",
       "  'process': '27046',\n",
       "  'source': 'System/PublishingTools.GPServer',\n",
       "  'thread': '75',\n",
       "  'time': 1516300916506,\n",
       "  'type': 'SEVERE',\n",
       "  'user': 'arcgis_python'},\n",
       " {'code': 23836,\n",
       "  'elapsed': '',\n",
       "  'machine': '10.0.0.250',\n",
       "  'message': \"Failed to connect to the server.: ERROR: In-server connection failed. Server is federated but server environment doesn't have a referer.\",\n",
       "  'methodName': 'pubSD.execute',\n",
       "  'process': '31406',\n",
       "  'source': 'System/PublishingTools.GPServer',\n",
       "  'thread': '90',\n",
       "  'time': 1513116850188,\n",
       "  'type': 'SEVERE',\n",
       "  'user': '0123456789ABCDEF::arcgis_python'}]"
      ]
     },
     "execution_count": 11,
     "metadata": {},
     "output_type": "execute_result"
    }
   ],
   "source": [
    "grouped_messages[23836]"
   ]
  },
  {
   "cell_type": "code",
   "execution_count": 10,
   "metadata": {
    "slideshow": {
     "slide_type": "slide"
    }
   },
   "outputs": [
    {
     "name": "stdout",
     "output_type": "stream",
     "text": [
      "Error code 20010 reported 82 times\n",
      "Error code 500000 reported 78 times\n",
      "Error code 9000 reported 7 times\n",
      "Error code 6602 reported 12 times\n",
      "Error code 9003 reported 4 times\n",
      "Error code 9016 reported 4 times\n",
      "Error code 23836 reported 2 times\n",
      "Error code 17103 reported 1 times\n",
      "Error code 50000 reported 2 times\n"
     ]
    }
   ],
   "source": [
    "from itertools import groupby\n",
    "\n",
    "#Group messages by their error code\n",
    "grouped_messages = {}\n",
    "for key, group in groupby(messages, lambda x: x[\"code\"]):\n",
    "    if key in grouped_messages:\n",
    "        grouped_messages[key].append(list(group)[0])\n",
    "    else:\n",
    "        grouped_messages[key] = [list(group)[0]]\n",
    "\n",
    "#Display the frequency of displayed messages\n",
    "for key in grouped_messages:\n",
    "    print(\"Error code {} reported {} times\".format(key, len(grouped_messages[key])))"
   ]
  },
  {
   "cell_type": "code",
   "execution_count": 13,
   "metadata": {
    "slideshow": {
     "slide_type": "slide"
    }
   },
   "outputs": [
    {
     "data": {
      "image/png": "[encoded data removed]",
      "text/plain": [
       "<matplotlib.figure.Figure at 0x11c3ef390>"
      ]
     },
     "metadata": {},
     "output_type": "display_data"
    }
   ],
   "source": [
    "import matplotlib.pyplot as plt\n",
    "fig, ax = plt.subplots()\n",
    "plt.bar(list(str(x) for x in grouped_messages.keys()),\n",
    "        list(len(x) for x in grouped_messages.values()))\n",
    "fig.autofmt_xdate() #format x axis\n",
    "plt.show()"
   ]
  },
  {
   "cell_type": "markdown",
   "metadata": {
    "slideshow": {
     "slide_type": "slide"
    }
   },
   "source": [
    "<img src='./img/IDE_example.png'/>"
   ]
  },
  {
   "cell_type": "markdown",
   "metadata": {
    "slideshow": {
     "slide_type": "slide"
    }
   },
   "source": [
    "<img src='./img/standalone_script_demo.gif'/>"
   ]
  },
  {
   "cell_type": "markdown",
   "metadata": {
    "slideshow": {
     "slide_type": "slide"
    }
   },
   "source": [
    "<img src='./img/jenkins_overview.gif'/>"
   ]
  },
  {
   "cell_type": "markdown",
   "metadata": {
    "slideshow": {
     "slide_type": "slide"
    }
   },
   "source": [
    "<img src='./img/jenkins_notify.png'/>"
   ]
  },
  {
   "cell_type": "markdown",
   "metadata": {
    "slideshow": {
     "slide_type": "slide"
    }
   },
   "source": [
    "# Questions?"
   ]
  },
  {
   "cell_type": "markdown",
   "metadata": {
    "collapsed": true,
    "slideshow": {
     "slide_type": "slide"
    }
   },
   "source": [
    "### Reference\n",
    "\n",
    "Source: https://enterprise.arcgis.com/en/server/10.3/administer/linux/log-codes-overview.htm\n",
    "\n",
    "Log code number ranges are associated with certain types of messages.\n",
    "\n",
    " * Codes below 10,000 are logged by the core framework of ArcGIS Server.\n",
    " * Codes between 10,000 and 100,000 pertain to services.\n",
    " * Codes above 100,000 are core ArcObjects component-related messages that may also be used in ArcGIS Engine or ArcGIS for Desktop."
   ]
  },
  {
   "cell_type": "markdown",
   "metadata": {
    "slideshow": {
     "slide_type": "slide"
    }
   },
   "source": [
    "Log code range | Message content\n",
    "---------------|----------------\n",
    "0-9999 | Core ArcGIS Server framework\n",
    "10000–10999 | Map services\n",
    "11000–11999 | Mobile data services\n",
    "12000–12999 |KML services\n",
    "13000–13999 | Network Analysis services\n",
    "14000–14999 | WFS services created from map services\n",
    "15000–15999 | WCS services created from map services\n",
    "16000–16999 |WMS services created from map services\n",
    "17000–19999 | Feature services\n",
    "20000–20999 | Geoprocessing services\n",
    "21000–21999 | Synchronous geoprocessing services\n",
    "30000–30999 | Globe services\n",
    "60000–60999 | Geometry services\n",
    "70000–70999 | Geocode services\n",
    "... | ...\n",
    "100000–100999 | System\n",
    "101000–101999 | Geometry\n",
    "102000–102999 |Geodatabase\n",
    "103000–103999 | Carto\n",
    "104000–104999 | Display\n",
    "105000–105999 | Output\n",
    "106000–106999 | Geoprocessing\n",
    "107000–107999 | Globe\n",
    "108000–108999 | 3D\n",
    "109000–109999 | Network Analyst\n",
    "110000–110999 | ArcGIS Data Store"
   ]
  },
  {
   "cell_type": "code",
   "execution_count": null,
   "metadata": {
    "collapsed": true
   },
   "outputs": [],
   "source": []
  }
 ],
 "metadata": {
  "celltoolbar": "Slideshow",
  "kernelspec": {
   "display_name": "Python 3",
   "language": "python",
   "name": "python3"
  },
  "language_info": {
   "codemirror_mode": {
    "name": "ipython",
    "version": 3
   },
   "file_extension": ".py",
   "mimetype": "text/x-python",
   "name": "python",
   "nbconvert_exporter": "python",
   "pygments_lexer": "ipython3",
   "version": "3.6.1"
  }
 },
 "nbformat": 4,
 "nbformat_minor": 2
}
