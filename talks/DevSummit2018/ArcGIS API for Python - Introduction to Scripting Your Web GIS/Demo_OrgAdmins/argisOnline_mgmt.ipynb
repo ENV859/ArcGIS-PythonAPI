{
 "cells": [
  {
   "cell_type": "code",
   "execution_count": null,
   "metadata": {},
   "outputs": [],
   "source": [
    "from arcgis.gis import GIS\n",
    "import getpass\n",
    "\n",
    "password = getpass.getpass(\"Enter password: \")\n",
    "gis = GIS('https://www.arcgis.com', '<username>', password)\n",
    "print(\"Connected to: {}\\nConnected as: {}\".format(gis.properties.urlKey + \".\" + gis.properties.customBaseUrl,\n",
    "                                                 gis.users.me.username))"
   ]
  },
  {
   "cell_type": "code",
   "execution_count": null,
   "metadata": {},
   "outputs": [],
   "source": [
    "from datetime import datetime\n",
    "\n",
    "user_list = gis.users.search()\n",
    "print(\"{:<25}\\t{:<25}\".format(\"Username\", \"Last Login\"))\n",
    "print(\"{:*<25}\\t{:*<25}\".format(\"\", \"\"))\n",
    "for user in user_list:\n",
    "    print(\"{:<25}\\t{}\".format(user.username,\n",
    "                            datetime.fromtimestamp(user.lastLogin/1000).ctime()))"
   ]
  },
  {
   "cell_type": "code",
   "execution_count": null,
   "metadata": {},
   "outputs": [],
   "source": [
    "all_content = gis.content.search(query=\"*\", max_items = 600)\n",
    "len(all_content)"
   ]
  },
  {
   "cell_type": "code",
   "execution_count": null,
   "metadata": {},
   "outputs": [],
   "source": [
    "org_roles = []\n",
    "for user in gis.users.search():\n",
    "    if user.role in org_roles:\n",
    "        pass\n",
    "    else:\n",
    "        org_roles.append(user.role)\n",
    "for role in org_roles:\n",
    "    print(role)"
   ]
  },
  {
   "cell_type": "code",
   "execution_count": null,
   "metadata": {},
   "outputs": [],
   "source": [
    "for user in gis.users.search():\n",
    "    if len(user.items()) > 0:\n",
    "        print(\"{:<50}\\t{:<25}{:<8}\\t{:<}\".format(user.username, \"Item Type\", \"Date Modified\", \"NumViews\"))\n",
    "        print(\"{:*<48}\\t{:*<23}\\t{:*<15}\\t{:*<20}\".format(\"\",\"\",\"\",\"\"))\n",
    "        for item in user.items():\n",
    "            print(\"{:2}{:<55}{:<28}{}\\t{}\".format(\"\",\n",
    "                                            item.title, \n",
    "                                            item.type,\n",
    "                                            datetime.fromtimestamp(item['modified']/1000).strftime(\"%m-%d-%y\"),\n",
    "                                            item['numViews']))\n",
    "        print(\"\\n\")"
   ]
  }
 ],
 "metadata": {
  "anaconda-cloud": {},
  "kernelspec": {
   "display_name": "Python 3",
   "language": "python",
   "name": "python3"
  },
  "language_info": {
   "codemirror_mode": {
    "name": "ipython",
    "version": 3
   },
   "file_extension": ".py",
   "mimetype": "text/x-python",
   "name": "python",
   "nbconvert_exporter": "python",
   "pygments_lexer": "ipython3",
   "version": "3.5.5"
  },
  "varInspector": {
   "cols": {
    "lenName": 16,
    "lenType": 16,
    "lenVar": "255"
   },
   "kernels_config": {
    "python": {
     "delete_cmd_postfix": "",
     "delete_cmd_prefix": "del ",
     "library": "var_list.py",
     "varRefreshCmd": "print(var_dic_list())"
    },
    "r": {
     "delete_cmd_postfix": ") ",
     "delete_cmd_prefix": "rm(",
     "library": "var_list.r",
     "varRefreshCmd": "cat(var_dic_list()) "
    }
   },
   "types_to_exclude": [
    "module",
    "function",
    "builtin_function_or_method",
    "instance",
    "_Feature"
   ],
   "window_display": false
  }
 },
 "nbformat": 4,
 "nbformat_minor": 2
}
