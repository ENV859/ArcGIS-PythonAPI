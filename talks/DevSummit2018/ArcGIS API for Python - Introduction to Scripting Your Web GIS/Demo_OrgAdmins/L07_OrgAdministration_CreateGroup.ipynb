{
 "cells": [
  {
   "cell_type": "code",
   "execution_count": null,
   "metadata": {},
   "outputs": [],
   "source": [
    "from arcgis.gis import GIS\n",
    "import getpass\n",
    "\n",
    "# connect to GIS with credentials\n",
    "password = getpass.getpass(\"Enter password: \")\n",
    "gis = GIS(\"https://www.arcgis.com\", \"<username>\", password)\n",
    "print(\"Connected to: {}\".format(gis.properties.urlKey + \".\" + gis.properties.customBaseUrl))"
   ]
  },
  {
   "cell_type": "code",
   "execution_count": null,
   "metadata": {},
   "outputs": [],
   "source": [
    "grp_srch = gis.groups.search(query=\"*\")\n",
    "for grp in grp_srch:\n",
    "    print(grp.title)"
   ]
  },
  {
   "cell_type": "markdown",
   "metadata": {},
   "source": [
    "### Change the parameters below to match your specifications."
   ]
  },
  {
   "cell_type": "code",
   "execution_count": null,
   "metadata": {},
   "outputs": [],
   "source": [
    "nyc_group = gis.groups.create(title='New York City Emergency Management',\n",
    "                                    tags = 'nyc, Emergency Management',\n",
    "                                    description = 'Group to work with New York City Emergency Management',\n",
    "                                    snippet = 'NYC open data',\n",
    "                                    access = 'org',\n",
    "                                    is_invitation_only = 'False',\n",
    "                                    thumbnail = r'/pathway/to/imgs/emer_response.jpg')\n",
    "nyc_group"
   ]
  },
  {
   "cell_type": "code",
   "execution_count": null,
   "metadata": {},
   "outputs": [],
   "source": [
    "nyc_group = gis.groups.search('New York City Emergency Management')\n",
    "nyc_group"
   ]
  },
  {
   "cell_type": "code",
   "execution_count": null,
   "metadata": {},
   "outputs": [],
   "source": [
    "nyc_group[0]"
   ]
  }
 ],
 "metadata": {
  "kernelspec": {
   "display_name": "Python 3",
   "language": "python",
   "name": "python3"
  },
  "language_info": {
   "codemirror_mode": {
    "name": "ipython",
    "version": 3
   },
   "file_extension": ".py",
   "mimetype": "text/x-python",
   "name": "python",
   "nbconvert_exporter": "python",
   "pygments_lexer": "ipython3",
   "version": "3.5.5"
  }
 },
 "nbformat": 4,
 "nbformat_minor": 2
}
