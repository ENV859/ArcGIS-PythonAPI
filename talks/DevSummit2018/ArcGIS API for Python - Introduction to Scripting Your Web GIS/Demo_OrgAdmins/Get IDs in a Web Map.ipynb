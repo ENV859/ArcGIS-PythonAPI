{
 "cells": [
  {
   "cell_type": "code",
   "execution_count": null,
   "metadata": {},
   "outputs": [],
   "source": [
    "from arcgis.gis import GIS\n",
    "import getpass\n",
    "\n",
    "password = getpass.getpass('Enter password: ')\n",
    "g = GIS('https://www.arcgis.com', '<username>', password)\n",
    "print(\"Connected to: {}\\nConnected as: {}\".format(g.properties.urlKey + \".\" + g.properties.customBaseUrl,\n",
    "                                                 g.users.me.username))"
   ]
  },
  {
   "cell_type": "code",
   "execution_count": null,
   "metadata": {},
   "outputs": [],
   "source": [
    "wmaps = g.content.search(\"*\", item_type=\"Web Map\", max_items = 200, outside_org=False)"
   ]
  },
  {
   "cell_type": "code",
   "execution_count": null,
   "metadata": {},
   "outputs": [],
   "source": [
    "for wbmap in wmaps:\n",
    "    print(\"{}\".format(wbmap.title))\n",
    "    print(\"{:*<90}\".format(\"\"))\n",
    "    raw_data = wbmap.get_data()\n",
    "    lyrs = raw_data['operationalLayers']\n",
    "    for lyr in lyrs:\n",
    "        try:\n",
    "            if 'itemId' in lyr.keys():\n",
    "                print(\"\\t{:<50}{}\".format(lyr['title'][:45], lyr['itemId']))\n",
    "            else:\n",
    "                print(\"\\t{:<50}{}\".format(lyr['title'][:45], lyr['id']))\n",
    "        except:\n",
    "            pass\n",
    "    print(\"\\n\")"
   ]
  },
  {
   "cell_type": "code",
   "execution_count": null,
   "metadata": {},
   "outputs": [],
   "source": [
    "id_of_interest = '<itemID of item to search for which webmaps consume it>'"
   ]
  },
  {
   "cell_type": "code",
   "execution_count": null,
   "metadata": {},
   "outputs": [],
   "source": [
    "lyr_itm = g.content.get(id_of_interest)\n",
    "lyr = lyr_itm.layers[0]\n",
    "print(\"{} is in the following Web Maps:\".format(lyr.properties.name))\n",
    "print(\"{:-<50}\".format(\"\"))\n",
    "lyr = None\n",
    "for wm in wmaps:\n",
    "     raw_data = wm.get_data()\n",
    "     lyrs = raw_data['operationalLayers']\n",
    "     for lyr in lyrs:\n",
    "        if 'itemId' in lyr.keys() and lyr['itemId'] == id_of_interest:\n",
    "            print(\"\\t\" + wm.title)"
   ]
  }
 ],
 "metadata": {
  "kernelspec": {
   "display_name": "Python 3",
   "language": "python",
   "name": "python3"
  },
  "language_info": {
   "codemirror_mode": {
    "name": "ipython",
    "version": 3
   },
   "file_extension": ".py",
   "mimetype": "text/x-python",
   "name": "python",
   "nbconvert_exporter": "python",
   "pygments_lexer": "ipython3",
   "version": "3.5.5"
  }
 },
 "nbformat": 4,
 "nbformat_minor": 2
}
