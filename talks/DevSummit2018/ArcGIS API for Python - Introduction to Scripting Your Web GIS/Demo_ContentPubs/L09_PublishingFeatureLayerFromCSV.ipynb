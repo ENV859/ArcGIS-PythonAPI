{
 "cells": [
  {
   "cell_type": "code",
   "execution_count": null,
   "metadata": {},
   "outputs": [],
   "source": [
    "from arcgis.gis import GIS\n",
    "import getpass\n",
    "\n",
    "password = getpass.getpass(\"Enter password: \")\n",
    "gis = GIS(\"https://www.arcgis.com\", \"<username>\", password)\n",
    "print(\"Connected to {}\".format(gis.properties.urlKey + \".\" + gis.properties.customBaseUrl))"
   ]
  },
  {
   "cell_type": "code",
   "execution_count": null,
   "metadata": {},
   "outputs": [],
   "source": [
    "csv_path = r\"/pathway/to/dataset/NYC_Emergency_Response_Incidents_PointsXY.csv\"\n",
    "csv_properties={'title':'Emergency Response Incidents NYC ',\n",
    "                'description':'Emergency Response Incidents in Manhattan',\n",
    "                'tags':'nyc, Emergency Response'}\n",
    "thumbnail_path = r\"/Users/john3092/Projects/DevSummits/PS_2018/imgs/emer_response.jpg\"\n",
    "\n",
    "Emergency_Response_Incidents_csv_item = gis.content.add(item_properties=csv_properties, data=csv_path,\n",
    "                                     thumbnail = thumbnail_path)"
   ]
  },
  {
   "cell_type": "code",
   "execution_count": null,
   "metadata": {},
   "outputs": [],
   "source": [
    "Emergency_Response_Incidents_csv_item"
   ]
  },
  {
   "cell_type": "code",
   "execution_count": null,
   "metadata": {},
   "outputs": [],
   "source": [
    "Emergency_Response_Incidents_feature_layer_item = Emergency_Response_Incidents_csv_item.publish()"
   ]
  },
  {
   "cell_type": "code",
   "execution_count": null,
   "metadata": {},
   "outputs": [],
   "source": [
    "Emergency_Response_Incidents_feature_layer_item"
   ]
  },
  {
   "cell_type": "code",
   "execution_count": null,
   "metadata": {},
   "outputs": [],
   "source": [
    "search_result = gis.content.search('title:Emergency Response Incidents NYC',\n",
    "                                  item_type = 'Feature Layer')\n",
    "search_result"
   ]
  },
  {
   "cell_type": "code",
   "execution_count": null,
   "metadata": {},
   "outputs": [],
   "source": [
    "map1 = gis.map('New York')\n",
    "Response_Incidents_item = search_result[0]\n",
    "map1.add_layer(Response_Incidents_item)\n",
    "map1"
   ]
  },
  {
   "cell_type": "code",
   "execution_count": null,
   "metadata": {},
   "outputs": [],
   "source": []
  }
 ],
 "metadata": {
  "kernelspec": {
   "display_name": "Python 3",
   "language": "python",
   "name": "python3"
  },
  "language_info": {
   "codemirror_mode": {
    "name": "ipython",
    "version": 3
   },
   "file_extension": ".py",
   "mimetype": "text/x-python",
   "name": "python",
   "nbconvert_exporter": "python",
   "pygments_lexer": "ipython3",
   "version": "3.5.5"
  }
 },
 "nbformat": 4,
 "nbformat_minor": 2
}
