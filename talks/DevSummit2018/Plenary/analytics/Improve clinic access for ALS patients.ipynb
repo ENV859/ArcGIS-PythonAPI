{
 "cells": [
  {
   "cell_type": "markdown",
   "metadata": {},
   "source": [
    "# Improve clinic access for ALS patients\n",
    "\n",
    "Finding places where clinics for patients with ALS, could be established to improve patient access."
   ]
  },
  {
   "cell_type": "code",
   "execution_count": 1,
   "metadata": {
    "collapsed": true
   },
   "outputs": [],
   "source": [
    "from arcgis import *\n",
    "from IPython.display import display"
   ]
  },
  {
   "cell_type": "code",
   "execution_count": 2,
   "metadata": {
    "collapsed": true
   },
   "outputs": [],
   "source": [
    "gis = GIS(profile='als_demo')"
   ]
  },
  {
   "cell_type": "code",
   "execution_count": 3,
   "metadata": {},
   "outputs": [
    {
     "data": {
      "text/html": [
       "<div class=\"item_container\" style=\"height: auto; overflow: hidden; border: 1px solid #cfcfcf; border-radius: 2px; background: #f6fafa; line-height: 1.21429em; padding: 10px;\">\n",
       "                    <div class=\"item_left\" style=\"width: 210px; float: left;\">\n",
       "                       <a href='https://NonProfit.maps.arcgis.com/home/item.html?id=856271f3d2ce4d7f9f0e3ed78ca0a6f2' target='_blank'>\n",
       "                        <img src='data:image/png;base64,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' width='200' height='133' class=\"itemThumbnail\">\n",
       "                       </a>\n",
       "                    </div>\n",
       "\n",
       "                    <div class=\"item_right\"     style=\"float: none; width: auto; overflow: hidden;\">\n",
       "                        <a href='https://NonProfit.maps.arcgis.com/home/item.html?id=856271f3d2ce4d7f9f0e3ed78ca0a6f2' target='_blank'><b>ALS_Clinic_City_Candidates</b>\n",
       "                        </a>\n",
       "                        <br/>Candidate cities for a new ALS clinic in California<img src='https://NonProfit.maps.arcgis.com/home/js/jsapi/esri/css/images/item_type_icons/featureshosted16.png' style=\"vertical-align:middle;\">Feature Layer Collection by david_johnson_NonProfit\n",
       "                        <br/>Last Modified: October 21, 2017\n",
       "                        <br/>0 comments, 3 views\n",
       "                    </div>\n",
       "                </div>\n",
       "                "
      ],
      "text/plain": [
       "<Item title:\"ALS_Clinic_City_Candidates\" type:Feature Layer Collection owner:david_johnson_NonProfit>"
      ]
     },
     "metadata": {},
     "output_type": "display_data"
    },
    {
     "data": {
      "text/html": [
       "<div class=\"item_container\" style=\"height: auto; overflow: hidden; border: 1px solid #cfcfcf; border-radius: 2px; background: #f6fafa; line-height: 1.21429em; padding: 10px;\">\n",
       "                    <div class=\"item_left\" style=\"width: 210px; float: left;\">\n",
       "                       <a href='https://NonProfit.maps.arcgis.com/home/item.html?id=e163a0db4d1e48e3ae313edeaf06b360' target='_blank'>\n",
       "                        <img src='data:image/png;base64,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' width='200' height='133' class=\"itemThumbnail\">\n",
       "                       </a>\n",
       "                    </div>\n",
       "\n",
       "                    <div class=\"item_right\"     style=\"float: none; width: auto; overflow: hidden;\">\n",
       "                        <a href='https://NonProfit.maps.arcgis.com/home/item.html?id=e163a0db4d1e48e3ae313edeaf06b360' target='_blank'><b>ALS_Clinic_90minDriveTime</b>\n",
       "                        </a>\n",
       "                        <br/>90 minute drive times from ALS clinics in California<img src='https://NonProfit.maps.arcgis.com/home/js/jsapi/esri/css/images/item_type_icons/featureshosted16.png' style=\"vertical-align:middle;\">Feature Layer Collection by david_johnson_NonProfit\n",
       "                        <br/>Last Modified: October 21, 2017\n",
       "                        <br/>0 comments, 3 views\n",
       "                    </div>\n",
       "                </div>\n",
       "                "
      ],
      "text/plain": [
       "<Item title:\"ALS_Clinic_90minDriveTime\" type:Feature Layer Collection owner:david_johnson_NonProfit>"
      ]
     },
     "metadata": {},
     "output_type": "display_data"
    },
    {
     "data": {
      "text/html": [
       "<div class=\"item_container\" style=\"height: auto; overflow: hidden; border: 1px solid #cfcfcf; border-radius: 2px; background: #f6fafa; line-height: 1.21429em; padding: 10px;\">\n",
       "                    <div class=\"item_left\" style=\"width: 210px; float: left;\">\n",
       "                       <a href='https://NonProfit.maps.arcgis.com/home/item.html?id=abfff243dabf4b9f85a0ae9c6fc6c8df' target='_blank'>\n",
       "                        <img src='data:image/png;base64,iVBORw0KGgoAAAANSUhEUgAAAMgAAACFCAYAAAAenrcsAAATC0lEQVR42u2dyVNcWXbG1e1x0Q637V23h73DXnhYOaKjwwtHR/Sq17bbYTuiXFVdtjvsiG67I0oqEDMIJIEQYp4kJAYxCgkxiBnEJMQ8I+C9l4lUGvwfHN/vZD6UJEmSkImUUN/iC0C6eS9knt+7wxnuhXfv3glFUaF1gW8CRREQiiIgFEVAKIqAUBQBoSgCQlEEhKIICEUREIqiggH5P4qiQurC27fv5PWbtxRFhdCF12/fivP1a4qiQkgB8ZhvKIo6KAJCUQSEoggIRREQiiIgFEVAKIqAUBQBoSgCQlEEhKIoAkJRBISiCAhFERCKIiAURUAoioBQFAGhKAISx7JfvhJr96VsOR55Ydmysb0j61vbsvZiS1Y3X8gKtLEpy0Yrrsy/4f/QZs20x2te2I5sezzal/PqaxoFdTYBgfFau7sGCEc2dnZkaX1Dns8vyOjEpPQNDsnj7h5pf9QhrQ8eSGNzi9Q3NkptXYPcq61T1dbXS/39RmlsaZEW0+Zhx2PpevJEBoaGZWxySmYWFhUmQLNloCEw1JkAxAfGS4ViZnFBhkZHpaOzSxqbmqX6To0Ul5TIjfx8ycnJkYyMTElPT5eUlFRJSkqWxMRESUjwCd8nJSVJamqqpKalSWZWlly9ek3y829KSWmZ3K65a8BqlkddXTJoxphdXDRjWgSFgLyNazBWNjdlfOqZdHR1S03tPblZcFMh+Oqrr+TLL79UXTS6dPGiXL58WbKzs+VWYaGUV1RKRVW1VPpVUVUlZRUVUlhUJNkGpkTTFq+5aOT2c+nSJUkzfecXFEjNvXtmVuqWiennuiTD70KDISBxs7/A03vSGGdre7sU3LolKebJDyhgxPgaLMwaRcUlunQCUHNLy7K4uranBaO5xSUZM//X3tGhECWnpITsC2NAmG2KS0pN+8cy+XxGNsxeh0ZDQD46HNhM9w4MqHGmHGLEgUpISJBbZmYYGZ/QTTdmn3BCm4HhYTMbFeisE65vLM2wJCsyS7mevn5Z29qm4RCQjycYYFdvr+4NEoxxHgUHBCPH/mHTzDq+/cIb8bx+4/saKP033ziLK2vS0Nike5FIxsCS7HpunnQ/6dWTMxoPAfko+46pmRkpr6zUDXVYozWzBow2zTzdc3Nz1XAtr9knvHolHmtDPEtj4pntF8+cX/OD4tmYE4/XZ9zY9GNGKCwq1hkiMQIYk5OTdS+D5ZZjZjoaEAH5oLI8u3qClH/z5pFLKuxJbph2OL7Fce3c0pJZnpnZw2uJPd4kdsk/iZ3xA7GzfuhTzt+J3Zoqzua8QrTj9cqseU13b58eA98wM9ZRyzmMm5efL31DQ7oUpAERkA8mr1n+bJulS+/AoOTm5R26GfdtyFOk2GzIMWtg441Tph3vrq8vZ1vsJ0ViJfyZWP92QazP/Pr33xar7J/FXh4Xz0vf0e22xyur5rXT8wsKCo6Mw81cAOTqtWva1iIgBORDA4K1fe/g0JGAXDNG2tndI5uWLbtv3upr9/Yce4D8eQhA/kXslUkFxG2P10I4NcNRck7O1SMB6SIgBCReAYGRFhUXy5TZB3jdTfeuVzweS+VsLYvdeUOsS396EJDin4q9MCiOveVvbxtYfIa+s/tSPeqYmTAGAaHOJCCXLydJaVm5TM/Nm9njncLhPHss9sNsn8w+wy76B7F++T2xPg0A5IvfECv9b8Su/1+x2zN96i0XZ33Gd7xsAHk2O6ebcAJCnR9AbLOkqvm5D4Avft2nn/2aWJ9/6z0crj7/9vs2n5n/T/4rcUbqdbmFTff0/LxUVlcTEOqcAXLnPw7CcJQ+MUr8C7GHawMAWVBAEgkIRUAICPVNAeS2H5BPL+zfdxymTwkIdc4Bee4C4uyIff9Lsf7nj4z+2OgPxfrvP/DtSfaBYfYc//kdsX7xPV/bX3xfrJwfiTPeose9iNYFdNyDUGcaEISEIIgRJ067OObd9YqNU6xH/lOstjSxiv8xzCnWr8RuzzJtjfor9k6xAAhC20vLywkIdbb9IEiQGhwZlW3PrjivXouDo17Pjk9bS2J35oXwg/yWWCU/FXt+UBznhb+9LY7fq44swn4zNvomINSZ9qRnZmZKXUODziKbxrARZrIXG+Vsif2k8PBQk5Vx8bzaNfKF1u94vJpmO236qq1vkPSM9GN50gGX5scb0DALnaYwDrMbCciRgGCZhaxABCr2Dw1rdC1iqtR4EGrSVyJW0l+K9bPf9IEB/dd3xar4ZC/UxJet+EKTsp709cs90xfSdg+bPQ4DBPFcyxsbMre8rElap6FZv5bXN3Q8Gi4BCQuIKwQWIi4LG+uRp2PqDfd4bbEn28Su/FSsaz8S6/qPfcr7iW+P8mJBo3lRCWXYvOb23buSc/WqhrJHkpgVDMji2rrmrzQ0NUn9/funprr7DdLZ060wegPyWigCEj6RKSFR0tPSpK39oUYDO8b4nV3z1doUZ3v1vXbWzN5jR/ccGA+zx4OHj4zBXw87axwFyNTMrJSVV/gLRSSdqopLS9XbT0AISMSAuEuuqtu3ZXZhUSw37N3tN1CvfeNgeYVlGYo5IFkq0nFCAYJ+ikpKI0q4ikZ4P5BWjH2X9w2L/RGQYwACZWVlac2r6bk5Wdva0vB1aDNISOmFkd1vapYrV7Ijnj3CAlJcchAQ0zYhSOH6TTiiPQEhIFEBAoPKunJFlzvINUdxuLYH7fvU2vZA/w++jkzT9rhP/UgBwXII/WP5du16rio756qmBwePiZ9Rxgj9um3xPXLlLwckbxEQAhIVIIHGmZGZKVeys/WkK1D4t4yMjKPz3aMABAUkcnPzpNnAODAyKkNPx2R4bFyzHysqK/dqernC74Oidfi70RbCyRxmwxwzFgEhIDEF5DjLltMABPChRNDTiUn1z7h+i5X1DWluaTXLuiv7+kShu0ePH+9VZHHLEg2NPtV6YASEgEQBSMJeSdFAYWkSCga0xRM+uH2kS61IAUFuO7IT3WqM+NtQPBuAZIUEpFOhcN8LvA84giYgBCQqQBITL5s1+3Upr6qS23fuqKqNcKqUnpEpCUHGjSVWSWmpnnj52tdoiaHrpo+jCsh9eEA4gxCQKAHBpreptU19GgjDcDU5PaMBjYGzCACovn1HI3bd0BQsZ9RwW1sP7A0ICHVuAEHZn8C+Jmdm1al2ABAza+DKhH2Ga+BqNn2km80yAaHOHyBt8QhIqYxNTekshTFQmmjVP07Wlez9gOTk6HUOiCZ2SxAh3mp4zOxBCgsJCAE5f4DAkBGOv44brCxbZ4e5hUW5H6IWME612trbNRBR2xpp8e7BQS2uTUAIyLkCBG3ghyk0yywcAsDHcefuPamorJLr13MP+GAQJIkcFBwcoB3aY68EGAL3RQQkDgDxleP0+MI0/Hf4narMOHrdmd/YTgIIHGq4Om0vb8JswCeeTes+IBgQGCEMDEGNln9Dj6vcmkwfsdqkazscPRvDR4lUV8nJKSFPytAn/n1fW6OkoKNqAhIHgMC4xiam9BKaB+0PT13tjx7J4OhTfYprVt8xAYEx3a2tlXEDBPIm5v35E30DvuVJoIGhEjxy2QeGR/Q+QrRdWF4xr30md+vqIgpaPFYsFoMVzx8gqHWLyy9TU9P0qXbawlO1svq2WRLN7N1YexxA0AeWJ7guzZc30ahfUR0x+LTINe5KM4vUNjT42zbqa9FHJOEnBISAqPFcPmGs0klCN+Com3z+/ESAuIZz0X/XoKtwr70U1Pao9icBBN8jPwT3Hab7hevcAHSwhx8/Yx+C5aLbFt9jdgzsk4DEISB4qqanZ2gOeKyE4Dz3w8daPVpAPqQiAQRfs7J8UcV4L+vMLAXduXtXZ6qUoMxFvBcFBbfMUrFur+29unopKSvTW3sJSJwCgg8ENzfVm59bWtukpSUGMv3gqBPXLuNJeR4BwUOl0PwMRx+ObLcdr3ru581+535zs8Kz75g3O1szG3ESB/8H2q9v7ej97TzmjWNAsPTAqQ8uqHHP52OhpbV1dYwhhioxSkD0pinzBNbZyew5XKEySagTo2TMiGYGgy8C7bBPwWtxahRJpG/UnnR1FIbwpHd26mnee0+6l570swAIlgW4pzyWvg6MgRuaAEG0gLh3Bvb098vQ2JgMj4+rYeGJnGf62HeKZcaCZxqh5QMjI9p2xKinr0/7SPZfM81QEypiQKpramRhdVWXCKgfFbVMP1hKdPb0yHWzfIsWEGx8sWzBPeh4LXw4+Iowj8Lig34QnJhNTT83f6elbaGFlVXtg8GK1LEBQeIPLqyEryA2mtaMOZTIuZKTEz0gaWm6bDmWJx2FHQIMd3Vzi8GK1Mk26SiEgA8bRlwWI+F0BgBg7xDtJj1+gxUPA6TtUEC2mDBFP8gBgzungGDmHR2f0JCWHX/JUBSYa2puCXmK9bCjQ0NvtISpaY8QHAQ7FvAUi4BEDYgxbrfsqKtIANnLFY8xIAhpwe/fYsCFkWMmGEHRht5eqayqUudhcNEGHIb0mb8bbYfdog0GJlRFISBxD0jCoQUQTqpYAYKQGBjS0vq6HgJs+zU29UyNNuQm3cDzQgtee1ULZoOPgMdYAbIXgIh89+Tk9wqT+w6o9rU1Cva6E5A4BASX1aSlpavxxEJ4WuKpnxwjTzr6qTKzwsDo6L7DgI7ubskLusYA4xWVFEvXkyfydGpSxqefycT0tPQPD+vMwmBF6tibdBzFIqCvpe2Bz5sepVpbH2hFQxRui4UnHQYL4JCVhwLUrnC4ECr4EH4TJCgFtsVr0UdCBAZOQAjIvmNeGO+UMQDUdFqOgXCSg1DzB48eaVX2xBiEmhy3/lXItlEUrz50iWVm3+Skg0uskOWIuMQ6q570e7qJdXOlo5b5YBFu0tPXr57uxBjGYsGY0N9xdNxCcpFmFGIjnp9/U/NPIAQuFhUX62wVHAIDcNAnyhGVllVoe8SqYYmIPRYBiWNAkP6JJ3/gCVE08hghTxtlOHNj4El3DxGwdILxIbgPvoOjdMso/+ZNycmJ7F6Q45YeRdQuks7gGMUFPZiFkaiFVNqDpUczpbauXkbHxrUtNDoxqbWEkaJLQOIYEFTnwAfrfnBRyxgKjjzhSYeDLBbBiqjQXmUMr6OrW39XHK1GIkTLImgSD4HsI26WOr4fpFSeBjsKw5Ye7ZQt894HOgqH6EmP/006ol6LzYdfXlEZMwV60qMFBE9j5E7gSmh1ynk8YnlssZwj5HHE8nrVe/1sdlbvO0ShBYaaUMf2g8TaBxIrPwgMEksZxHZh6eZ4HXE258VZfCrOwnB4rU6Jx97UuwrfF4ouIiDU+fGkp6Sm+j3j876KLOtz4nQXiFP9hThl/3q4yo2aEsXzvEc8XksNfWZ+QW+bIiDUuQEEjj1UNEEVE/zuuP/cNsZv/fL7Yv38O0a/c7gyfiB2X6k41obGP80sLklVdbwBwmDFM5GTDicaji1jJn9BgoQoPeno515dnZbvUUDm+sUq+nvfdc+fXThcn39brJS/FqunSJydIECOGPNYm/SJSS2j5N7fvnzE/SA4/vbduc77Qc7MKdZN8wG1d3So36LHGEXUMv10dOHkqEZTXU8HkN8ND8hn31JA7J7CUwEEDkIUYcDfOr+yIotraxorNjH9XO9izww6DIDXH1G+MwsL2haaXVzUpLIbN/IJSFznpFf7ctI3Q1yGeSKZ/hdjlJMer4C44S84QChW51+ZqtAYd46ZLZIOcRQiRN5tiyVaXh4dhWciJx1lPWOWk+4fIxY56fEKyElCYHjL7Zn1pNdoFZK9urdRCsa4vrUtXTHwpMc7IAxW/AYAUlpapqcpuJVp2nwwUWt+QU93Gs1mNSfKnHQCQuP96J505G8gbgkhJ7FQiRHW4jAyxEAREAJyLjzpsa5O6PaZQEAICB2Fp+MoJCA0XgJCQAgIASEgBISAEBACQkAICAEhIASEgBAQAkJAKAJCQCgCQkCoGAOSdKYB+e7HASSBgHwz7km/37BXO/e0pQWlq6rUyKIGZH5IrIpPxPrVnxhIfi+Mfl+sK38rdl/FwZTbEwCCmlco9JZ0OUmBP633CmOj+BwCR5HCS+P9CIDAQB91dukHgWzC09atwkJpam1VAwUgqMyO2laFZvyjUnevXruqdX5xhZoWbbA2xZnpEWeoRpyByjCqEme8VZz1WXF2vQrI3PKy5renHzEmgjfzCwrkyeDgXirtrPndGxob9W85zfcK46I8EW7LJSAfCRDr5Us1OFRIxz1/p6tJvaYABra5l4/9SpbWNmR0YkL6jBGG0+DoqD5N94odaOVGY7Qvd428YbSr5X607de+HHDcWTg5MyP9ZvYKO+7QsF7+ibRY934R/O5Ilx2feub/m07p/Zqc1LtNAos7UB8YkHhRpLV+P8aYfHoTEIqiCAhFERCKIiAURUAoioBQFAGhKAJCUecCkDcGkN3XrymKCqEL7969k7cURYWUAkJRVGgREIoiIBRFQCiKgFAUAaEoAkJRBISizrT+H53eBD3YW2RcAAAAAElFTkSuQmCC' width='200' height='133' class=\"itemThumbnail\">\n",
       "                       </a>\n",
       "                    </div>\n",
       "\n",
       "                    <div class=\"item_right\"     style=\"float: none; width: auto; overflow: hidden;\">\n",
       "                        <a href='https://NonProfit.maps.arcgis.com/home/item.html?id=abfff243dabf4b9f85a0ae9c6fc6c8df' target='_blank'><b>ALS_Clinics</b>\n",
       "                        </a>\n",
       "                        <br/>ALS clinics in California<img src='https://NonProfit.maps.arcgis.com/home/js/jsapi/esri/css/images/item_type_icons/featureshosted16.png' style=\"vertical-align:middle;\">Feature Layer Collection by david_johnson_NonProfit\n",
       "                        <br/>Last Modified: October 21, 2017\n",
       "                        <br/>0 comments, 4 views\n",
       "                    </div>\n",
       "                </div>\n",
       "                "
      ],
      "text/plain": [
       "<Item title:\"ALS_Clinics\" type:Feature Layer Collection owner:david_johnson_NonProfit>"
      ]
     },
     "metadata": {},
     "output_type": "display_data"
    },
    {
     "data": {
      "text/html": [
       "<div class=\"item_container\" style=\"height: auto; overflow: hidden; border: 1px solid #cfcfcf; border-radius: 2px; background: #f6fafa; line-height: 1.21429em; padding: 10px;\">\n",
       "                    <div class=\"item_left\" style=\"width: 210px; float: left;\">\n",
       "                       <a href='https://NonProfit.maps.arcgis.com/home/item.html?id=ce712c11ace34113adcf8f334cc75343' target='_blank'>\n",
       "                        <img src='data:image/png;base64,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' width='200' height='133' class=\"itemThumbnail\">\n",
       "                       </a>\n",
       "                    </div>\n",
       "\n",
       "                    <div class=\"item_right\"     style=\"float: none; width: auto; overflow: hidden;\">\n",
       "                        <a href='https://NonProfit.maps.arcgis.com/home/item.html?id=ce712c11ace34113adcf8f334cc75343' target='_blank'><b>ALS_Patients</b>\n",
       "                        </a>\n",
       "                        <br/>Fictional locations of ALS patient locations in California aggregated by zip code<img src='https://NonProfit.maps.arcgis.com/home/js/jsapi/esri/css/images/item_type_icons/featureshosted16.png' style=\"vertical-align:middle;\">Feature Layer Collection by david_johnson_NonProfit\n",
       "                        <br/>Last Modified: October 21, 2017\n",
       "                        <br/>0 comments, 3 views\n",
       "                    </div>\n",
       "                </div>\n",
       "                "
      ],
      "text/plain": [
       "<Item title:\"ALS_Patients\" type:Feature Layer Collection owner:david_johnson_NonProfit>"
      ]
     },
     "metadata": {},
     "output_type": "display_data"
    }
   ],
   "source": [
    "search_als = gis.content.search('tags: ALS_demo')\n",
    "for item in search_als:\n",
    "    display(item)"
   ]
  },
  {
   "cell_type": "code",
   "execution_count": 4,
   "metadata": {
    "collapsed": true
   },
   "outputs": [],
   "source": [
    "city_candidates = search_als[0]\n",
    "drive_times = search_als[1]\n",
    "als_clinics = search_als[2]\n",
    "pals = search_als[3]"
   ]
  },
  {
   "cell_type": "markdown",
   "metadata": {},
   "source": [
    "## Explore ALS data on a map"
   ]
  },
  {
   "cell_type": "code",
   "execution_count": 16,
   "metadata": {},
   "outputs": [
    {
     "data": {
      "application/vnd.jupyter.widget-view+json": {
       "model_id": "ead2aa616afd4f53be609ed1e973cdd1",
       "version_major": 2,
       "version_minor": 0
      },
      "text/html": [
       "<p>Failed to display Jupyter Widget of type <code>MapView</code>.</p>\n",
       "<p>\n",
       "  If you're reading this message in Jupyter Notebook or JupyterLab, it may mean\n",
       "  that the widgets JavaScript is still loading. If this message persists, it\n",
       "  likely means that the widgets JavaScript library is either not installed or\n",
       "  not enabled. See the <a href=\"https://ipywidgets.readthedocs.io/en/stable/user_install.html\">Jupyter\n",
       "  Widgets Documentation</a> for setup instructions.\n",
       "</p>\n",
       "<p>\n",
       "  If you're reading this message in another notebook frontend (for example, a static\n",
       "  rendering on GitHub or <a href=\"https://nbviewer.jupyter.org/\">NBViewer</a>),\n",
       "  it may mean that your frontend doesn't currently support widgets.\n",
       "</p>\n"
      ],
      "text/plain": [
       "MapView(basemaps=['dark-gray', 'dark-gray-vector', 'gray', 'gray-vector', 'hybrid', 'national-geographic', 'oceans', 'osm', 'satellite', 'streets', 'streets-navigation-vector', 'streets-night-vector', 'streets-relief-vector', 'streets-vector', 'terrain', 'topo', 'topo-vector'], center=[0, 0])"
      ]
     },
     "metadata": {},
     "output_type": "display_data"
    }
   ],
   "source": [
    "# Create a map of California.\n",
    "map1 = gis.map(\"State of California, USA\")\n",
    "map1.height = '500px'\n",
    "map1.basemap = 'dark-gray'\n",
    "map1"
   ]
  },
  {
   "cell_type": "code",
   "execution_count": 17,
   "metadata": {
    "collapsed": true
   },
   "outputs": [],
   "source": [
    "map1.add_layer([drive_times, als_clinics, pals])"
   ]
  },
  {
   "cell_type": "markdown",
   "metadata": {},
   "source": [
    "## Use GIS analysis to find the best location for a new ALS clinic"
   ]
  },
  {
   "cell_type": "code",
   "execution_count": 9,
   "metadata": {
    "collapsed": true
   },
   "outputs": [],
   "source": [
    "# Access the point data from the cities and patients items\n",
    "cities = city_candidates.layers[0].query()\n",
    "patients = pals.layers[0].query()\n",
    "\n",
    "# Identify the city that will maximize coverage for ALS patients within a 90 minute drive time.\n",
    "result = network.analysis.solve_location_allocation(\n",
    "    problem_type                 = 'Maximize Coverage',\n",
    "    travel_direction             = 'Demand to Facility',\n",
    "    number_of_facilities_to_find = 1,\n",
    "    facilities                   = cities,\n",
    "    demand_points                = patients,\n",
    "    default_measurement_cutoff   = 90,   \n",
    "    measurement_units            = 'Minutes')"
   ]
  },
  {
   "cell_type": "code",
   "execution_count": 39,
   "metadata": {},
   "outputs": [
    {
     "data": {
      "text/html": [
       "<div>\n",
       "<style scoped>\n",
       "    .dataframe tbody tr th:only-of-type {\n",
       "        vertical-align: middle;\n",
       "    }\n",
       "\n",
       "    .dataframe tbody tr th {\n",
       "        vertical-align: top;\n",
       "    }\n",
       "\n",
       "    .dataframe thead th {\n",
       "        text-align: right;\n",
       "    }\n",
       "</style>\n",
       "<table border=\"1\" class=\"dataframe\">\n",
       "  <thead>\n",
       "    <tr style=\"text-align: right;\">\n",
       "      <th></th>\n",
       "      <th>Name</th>\n",
       "      <th>FacilityType</th>\n",
       "      <th>DemandCount</th>\n",
       "      <th>DemandWeight</th>\n",
       "    </tr>\n",
       "  </thead>\n",
       "  <tbody>\n",
       "    <tr>\n",
       "      <th>0</th>\n",
       "      <td>Bakersfield</td>\n",
       "      <td>0</td>\n",
       "      <td>0</td>\n",
       "      <td>0</td>\n",
       "    </tr>\n",
       "    <tr>\n",
       "      <th>1</th>\n",
       "      <td>Redding</td>\n",
       "      <td>0</td>\n",
       "      <td>0</td>\n",
       "      <td>0</td>\n",
       "    </tr>\n",
       "    <tr>\n",
       "      <th>2</th>\n",
       "      <td>Visalia</td>\n",
       "      <td>3</td>\n",
       "      <td>66</td>\n",
       "      <td>299</td>\n",
       "    </tr>\n",
       "    <tr>\n",
       "      <th>3</th>\n",
       "      <td>Santa Maria</td>\n",
       "      <td>0</td>\n",
       "      <td>0</td>\n",
       "      <td>0</td>\n",
       "    </tr>\n",
       "    <tr>\n",
       "      <th>4</th>\n",
       "      <td>Santa Barbara</td>\n",
       "      <td>0</td>\n",
       "      <td>0</td>\n",
       "      <td>0</td>\n",
       "    </tr>\n",
       "    <tr>\n",
       "      <th>5</th>\n",
       "      <td>Chico</td>\n",
       "      <td>0</td>\n",
       "      <td>0</td>\n",
       "      <td>0</td>\n",
       "    </tr>\n",
       "    <tr>\n",
       "      <th>6</th>\n",
       "      <td>Merced</td>\n",
       "      <td>0</td>\n",
       "      <td>0</td>\n",
       "      <td>0</td>\n",
       "    </tr>\n",
       "    <tr>\n",
       "      <th>7</th>\n",
       "      <td>Clovis</td>\n",
       "      <td>0</td>\n",
       "      <td>0</td>\n",
       "      <td>0</td>\n",
       "    </tr>\n",
       "    <tr>\n",
       "      <th>8</th>\n",
       "      <td>Fresno</td>\n",
       "      <td>0</td>\n",
       "      <td>0</td>\n",
       "      <td>0</td>\n",
       "    </tr>\n",
       "  </tbody>\n",
       "</table>\n",
       "</div>"
      ],
      "text/plain": [
       "            Name  FacilityType  DemandCount  DemandWeight\n",
       "0    Bakersfield             0            0             0\n",
       "1        Redding             0            0             0\n",
       "2        Visalia             3           66           299\n",
       "3    Santa Maria             0            0             0\n",
       "4  Santa Barbara             0            0             0\n",
       "5          Chico             0            0             0\n",
       "6         Merced             0            0             0\n",
       "7         Clovis             0            0             0\n",
       "8         Fresno             0            0             0"
      ]
     },
     "execution_count": 39,
     "metadata": {},
     "output_type": "execute_result"
    }
   ],
   "source": [
    "result.output_facilities.df[['Name', 'FacilityType', 'DemandCount', 'DemandWeight']]"
   ]
  },
  {
   "cell_type": "code",
   "execution_count": 40,
   "metadata": {},
   "outputs": [
    {
     "data": {
      "application/vnd.jupyter.widget-view+json": {
       "model_id": "89865e52a39a44dfa0024fb83fdca790",
       "version_major": 2,
       "version_minor": 0
      },
      "text/html": [
       "<p>Failed to display Jupyter Widget of type <code>MapView</code>.</p>\n",
       "<p>\n",
       "  If you're reading this message in Jupyter Notebook or JupyterLab, it may mean\n",
       "  that the widgets JavaScript is still loading. If this message persists, it\n",
       "  likely means that the widgets JavaScript library is either not installed or\n",
       "  not enabled. See the <a href=\"https://ipywidgets.readthedocs.io/en/stable/user_install.html\">Jupyter\n",
       "  Widgets Documentation</a> for setup instructions.\n",
       "</p>\n",
       "<p>\n",
       "  If you're reading this message in another notebook frontend (for example, a static\n",
       "  rendering on GitHub or <a href=\"https://nbviewer.jupyter.org/\">NBViewer</a>),\n",
       "  it may mean that your frontend doesn't currently support widgets.\n",
       "</p>\n"
      ],
      "text/plain": [
       "MapView(basemaps=['dark-gray', 'dark-gray-vector', 'gray', 'gray-vector', 'hybrid', 'national-geographic', 'oceans', 'osm', 'satellite', 'streets', 'streets-navigation-vector', 'streets-night-vector', 'streets-relief-vector', 'streets-vector', 'terrain', 'topo', 'topo-vector'], center=[0, 0], layout=Layout(height='500px'))"
      ]
     },
     "metadata": {},
     "output_type": "display_data"
    }
   ],
   "source": [
    "# Create a map of Visalia, California\n",
    "map2 = gis.map('Visalia, CA')\n",
    "map2.layout.height = '500px'\n",
    "map2.basemap = 'dark-gray'\n",
    "\n",
    "# Display the map and add the analysis results to it\n",
    "display(map2)"
   ]
  },
  {
   "cell_type": "markdown",
   "metadata": {
    "heading_collapsed": true
   },
   "source": [
    "### Map rendering code"
   ]
  },
  {
   "cell_type": "code",
   "execution_count": 12,
   "metadata": {
    "collapsed": true,
    "hidden": true
   },
   "outputs": [],
   "source": [
    "from IPython.display import display\n",
    "import time\n",
    "\n",
    "def visualize_results(map_widget, solve_locate_allocate_result):\n",
    "    m = map_widget\n",
    "    result = solve_locate_allocate_result\n",
    "    time.sleep(1.5)  \n",
    "    \n",
    "    # Extract the output data from the analysis results\n",
    "    # Store the output points and lines in Panda's dataframes\n",
    "    demand_df = result.output_demand_points.df\n",
    "    lines_df = result.output_allocation_lines.df\n",
    "\n",
    "    # Extract the allocated patients data.\n",
    "    patients_allocated_df = demand_df[demand_df['DemandOID'].isin(lines_df['DemandOID'])]\n",
    "    patients_allocated_fset = features.FeatureSet.from_dataframe(patients_allocated_df)\n",
    "\n",
    "    # Extract the un-allocated patients data.\n",
    "    patients_not_allocated_df = demand_df[~demand_df['DemandOID'].isin(lines_df['DemandOID'])]\n",
    "    patients_not_allocated_fset = features.FeatureSet.from_dataframe(patients_not_allocated_df)\n",
    "\n",
    "    # Extract the chosen clinic data.\n",
    "    facilities_df = result.output_facilities.df[['Name', 'FacilityType', 'Weight','DemandCount', 'DemandWeight', 'SHAPE']]\n",
    "    facility_chosen_df = facilities_df[facilities_df['FacilityType'] == 3]\n",
    "    facility_chosen_fset = features.FeatureSet.from_dataframe(facility_chosen_df)\n",
    "\n",
    "    # Define the map symbology\n",
    "    # Allocation lines\n",
    "    allocation_line_symbol_1 = {\n",
    "        'type': 'esriSLS',\n",
    "        'style': 'esriSLSSolid',\n",
    "        'color': [255,255,255,153],\n",
    "        'width': 0.7\n",
    "    }\n",
    "    allocation_line_symbol_2 = {\n",
    "        'type': 'esriSLS',\n",
    "        'style': 'esriSLSSolid',\n",
    "        'color': [0,255,197,39],\n",
    "        'width': 3\n",
    "    }\n",
    "    allocation_line_symbol_3 = {\n",
    "        'type': 'esriSLS',\n",
    "        'style': 'esriSLSSolid',\n",
    "        'color': [0,92,230,39],\n",
    "        'width': 7\n",
    "    }\n",
    "    \n",
    "    # Patient points within 90 minutes drive time to a proposed clinic location.\n",
    "    allocated_patient_symbol = {\n",
    "        'type' : 'esriPMS',\n",
    "        'url' : 'https://maps.esri.com/legends/Firefly/cool/1.png',\n",
    "        'contentType' : 'image/png',\n",
    "        'width' : 26,\n",
    "        'height' : 26,\n",
    "        'angle' : 0,\n",
    "        'xoffset' : 0,\n",
    "        'yoffset' : 0\n",
    "    }\n",
    "\n",
    "    # Patient points outside of a 90 minutes drive time to a proposed clinic location.\n",
    "    unallocated_patient_symbol = {\n",
    "        'type' : 'esriPMS',\n",
    "        'url' : 'https://maps.esri.com/legends/Firefly/warm/1.png',\n",
    "        'contentType' : 'image/png',\n",
    "        'width' : 19.5,\n",
    "        'height' : 19.5,\n",
    "        'angle' : 0,\n",
    "        'xoffset' : 0,\n",
    "        'yoffset' : 0\n",
    "    }\n",
    "\n",
    "    # Selected clinic\n",
    "    clinic_site_symbol = {\n",
    "        'type' : 'esriPMS',\n",
    "        'url' : 'https://maps.esri.com/legends/Firefly/ClinicSites.png',\n",
    "        'contentType' : 'image/png',\n",
    "        'width' : 26,\n",
    "        'height' : 26,\n",
    "        'angle' : 0,\n",
    "        'xoffset' : 0,\n",
    "        'yoffset' : 0\n",
    "    }\n",
    "    \n",
    "    # Display the patient-clinic allocation lines.\n",
    "    m.draw(shape=result.output_allocation_lines, symbol=allocation_line_symbol_3)\n",
    "    m.draw(shape=result.output_allocation_lines, symbol=allocation_line_symbol_2)\n",
    "    m.draw(shape=result.output_allocation_lines, symbol=allocation_line_symbol_1)\n",
    " \n",
    "\n",
    "    # Display the locations of patients within the specified drive time to the selected clinic.\n",
    "    m.draw(shape=patients_allocated_fset, symbol=allocated_patient_symbol)\n",
    "\n",
    "    # Display the locations of patients outside the specified drive time to the selected clinic.\n",
    "    m.draw(shape=patients_not_allocated_fset, symbol=unallocated_patient_symbol)\n",
    "\n",
    "    # Display the chosen clinic site.\n",
    "    m.draw(shape=facility_chosen_fset, symbol=clinic_site_symbol)\n",
    "\n",
    "    # Zoom out to display all of the allocated patients points.\n",
    "    time.sleep(0.5) \n",
    "    m.zoom = 8"
   ]
  },
  {
   "cell_type": "markdown",
   "metadata": {},
   "source": [
    "### View results"
   ]
  },
  {
   "cell_type": "code",
   "execution_count": 41,
   "metadata": {
    "collapsed": true
   },
   "outputs": [],
   "source": [
    "visualize_results(map2, result)"
   ]
  },
  {
   "cell_type": "markdown",
   "metadata": {},
   "source": [
    "### Save results as a web map"
   ]
  },
  {
   "cell_type": "code",
   "execution_count": 11,
   "metadata": {},
   "outputs": [
    {
     "data": {
      "text/html": [
       "<div class=\"item_container\" style=\"height: auto; overflow: hidden; border: 1px solid #cfcfcf; border-radius: 2px; background: #f6fafa; line-height: 1.21429em; padding: 10px;\">\n",
       "                    <div class=\"item_left\" style=\"width: 210px; float: left;\">\n",
       "                       <a href='https://NonProfit.maps.arcgis.com/home/item.html?id=181cc8b595b74101810c009a6536d755' target='_blank'>\n",
       "                        <img src='http://static.arcgis.com/images/desktopapp.png' class=\"itemThumbnail\">\n",
       "                       </a>\n",
       "                    </div>\n",
       "\n",
       "                    <div class=\"item_right\"     style=\"float: none; width: auto; overflow: hidden;\">\n",
       "                        <a href='https://NonProfit.maps.arcgis.com/home/item.html?id=181cc8b595b74101810c009a6536d755' target='_blank'><b>ALS Analysis</b>\n",
       "                        </a>\n",
       "                        <br/>New clinic location for ALS clinic<img src='https://NonProfit.maps.arcgis.com/home/js/jsapi/esri/css/images/item_type_icons/maps16.png' style=\"vertical-align:middle;\">Web Map by david_johnson_NonProfit\n",
       "                        <br/>Last Modified: February 23, 2018\n",
       "                        <br/>0 comments, 0 views\n",
       "                    </div>\n",
       "                </div>\n",
       "                "
      ],
      "text/plain": [
       "<Item title:\"ALS Analysis\" type:Web Map owner:david_johnson_NonProfit>"
      ]
     },
     "execution_count": 11,
     "metadata": {},
     "output_type": "execute_result"
    }
   ],
   "source": [
    "map2.save({'title':'ALS Analysis', 'tags':'ALS, clinics', 'snippet':'New clinic location for ALS clinic'})"
   ]
  }
 ],
 "metadata": {
  "anaconda-cloud": {},
  "kernelspec": {
   "display_name": "Python [default]",
   "language": "python",
   "name": "python3"
  },
  "language_info": {
   "codemirror_mode": {
    "name": "ipython",
    "version": 3
   },
   "file_extension": ".py",
   "mimetype": "text/x-python",
   "name": "python",
   "nbconvert_exporter": "python",
   "pygments_lexer": "ipython3",
   "version": "3.5.2"
  }
 },
 "nbformat": 4,
 "nbformat_minor": 2
}
