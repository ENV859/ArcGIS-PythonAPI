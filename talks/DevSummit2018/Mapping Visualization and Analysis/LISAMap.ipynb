{
 "cells": [
  {
   "cell_type": "markdown",
   "metadata": {},
   "source": [
    "# Creating Cluster Maps\n",
    "\n",
    "Local indicators of spatial association (LISAs) or hot spot maps is a common task used to explore spatial heterogeneity and locate areas of similar or dissimilar values.\n",
    "\n",
    "In this notebook, it will be shown how to leverage PySAL and the Python API's Spatial Dataframe to visualize and calculate custom LISA cluster maps.\n",
    "\n",
    "### Tutorial - Hotspots on Homicade Rates in 1990\n",
    "\n",
    "**1).** Load the libraries and setup the notebook."
   ]
  },
  {
   "cell_type": "code",
   "execution_count": 1,
   "metadata": {
    "collapsed": true
   },
   "outputs": [],
   "source": [
    "%matplotlib inline"
   ]
  },
  {
   "cell_type": "code",
   "execution_count": 2,
   "metadata": {},
   "outputs": [
    {
     "ename": "ImportError",
     "evalue": "No module named 'pysal'",
     "output_type": "error",
     "traceback": [
      "\u001b[1;31m---------------------------------------------------------------------------\u001b[0m",
      "\u001b[1;31mImportError\u001b[0m                               Traceback (most recent call last)",
      "\u001b[1;32m<ipython-input-2-c34d3d09abee>\u001b[0m in \u001b[0;36m<module>\u001b[1;34m()\u001b[0m\n\u001b[0;32m      3\u001b[0m \u001b[1;32mfrom\u001b[0m \u001b[0marcgis\u001b[0m\u001b[1;33m.\u001b[0m\u001b[0mfeatures\u001b[0m \u001b[1;32mimport\u001b[0m \u001b[0mFeatureCollection\u001b[0m\u001b[1;33m\u001b[0m\u001b[0m\n\u001b[0;32m      4\u001b[0m \u001b[1;32mimport\u001b[0m \u001b[0mnumpy\u001b[0m \u001b[1;32mas\u001b[0m \u001b[0mnp\u001b[0m\u001b[1;33m\u001b[0m\u001b[0m\n\u001b[1;32m----> 5\u001b[1;33m \u001b[1;32mimport\u001b[0m \u001b[0mpysal\u001b[0m \u001b[1;32mas\u001b[0m \u001b[0mps\u001b[0m\u001b[1;33m\u001b[0m\u001b[0m\n\u001b[0m\u001b[0;32m      6\u001b[0m \u001b[1;32mimport\u001b[0m \u001b[0mpandas\u001b[0m \u001b[1;32mas\u001b[0m \u001b[0mpd\u001b[0m\u001b[1;33m\u001b[0m\u001b[0m\n",
      "\u001b[1;31mImportError\u001b[0m: No module named 'pysal'"
     ]
    }
   ],
   "source": [
    "from arcgis.gis import GIS\n",
    "from arcgis.features import SpatialDataFrame\n",
    "from arcgis.features import FeatureCollection\n",
    "import numpy as np\n",
    "import pysal as ps\n",
    "import pandas as pd"
   ]
  },
  {
   "cell_type": "markdown",
   "metadata": {},
   "source": [
    "**2).** PySAL has lots of built in datasets, the tutorial will leverage the 'NAT.shp' dataset.  \n",
    "\n",
    "- Get the path to the dataset\n",
    "- Display the dataset"
   ]
  },
  {
   "cell_type": "code",
   "execution_count": null,
   "metadata": {
    "collapsed": true
   },
   "outputs": [],
   "source": [
    "fc = ps.examples.get_path('NAT.shp')"
   ]
  },
  {
   "cell_type": "code",
   "execution_count": null,
   "metadata": {
    "collapsed": true
   },
   "outputs": [],
   "source": [
    "from arcgis.features import FeatureSet\n",
    "sdf = SpatialDataFrame.from_featureclass(fc)\n",
    "sdf.head()"
   ]
  },
  {
   "cell_type": "code",
   "execution_count": 30,
   "metadata": {},
   "outputs": [
    {
     "data": {
      "application/vnd.jupyter.widget-view+json": {
       "model_id": "181b12836bfe40a292d8a39276c893e0"
      }
     },
     "metadata": {},
     "output_type": "display_data"
    }
   ],
   "source": [
    "gis = GIS()\n",
    "m = gis.map('United States')\n",
    "m"
   ]
  },
  {
   "cell_type": "code",
   "execution_count": 31,
   "metadata": {
    "collapsed": true
   },
   "outputs": [],
   "source": [
    "m.center = [42.877742, -97.380979]"
   ]
  },
  {
   "cell_type": "code",
   "execution_count": 32,
   "metadata": {
    "collapsed": true
   },
   "outputs": [],
   "source": [
    "m.zoom = 3"
   ]
  },
  {
   "cell_type": "code",
   "execution_count": 33,
   "metadata": {},
   "outputs": [
    {
     "data": {
      "text/plain": [
       "True"
      ]
     },
     "execution_count": 33,
     "metadata": {},
     "output_type": "execute_result"
    }
   ],
   "source": [
    "sdf.plot(kind='map', map_widget=m, \n",
    "         line_width=.75,\n",
    "        outline_color='Greens_r')"
   ]
  },
  {
   "cell_type": "markdown",
   "metadata": {
    "collapsed": true
   },
   "source": [
    "**3).** Perform the LISA using PySAL\n"
   ]
  },
  {
   "cell_type": "code",
   "execution_count": 34,
   "metadata": {
    "collapsed": true
   },
   "outputs": [],
   "source": [
    "w = ps.weights.Queen.from_dataframe(sdf, geom_col='SHAPE')\n",
    "hr90 = sdf['HR90']\n",
    "lisa = ps.Moran_Local(hr90, w, permutations=9999)"
   ]
  },
  {
   "cell_type": "markdown",
   "metadata": {},
   "source": [
    "**4).** Make some nice labels from the results and add it to the Spatial DataFrame "
   ]
  },
  {
   "cell_type": "code",
   "execution_count": 35,
   "metadata": {
    "collapsed": true
   },
   "outputs": [],
   "source": [
    "lisa_lbls = {1: 'HH', \n",
    "             2: 'LH', \n",
    "             3: 'LL', \n",
    "             4: 'HL', \n",
    "             0: 'Non-significant'}\n",
    "sign = lisa.p_sim < 0.05\n",
    "quadS = lisa.q * sign\n",
    "labels = pd.Series(quadS).map(lisa_lbls).values\n",
    "sdf['LISALABELS'] = labels\n",
    "sdf['LISAVALUES'] = pd.Series(quadS).values"
   ]
  },
  {
   "cell_type": "markdown",
   "metadata": {},
   "source": [
    "### Examine the Results\n",
    "\n",
    "As expected, most locations have no significant clustering, but we do have (dis)similarity within the dataset. "
   ]
  },
  {
   "cell_type": "code",
   "execution_count": 36,
   "metadata": {},
   "outputs": [
    {
     "data": {
      "text/plain": [
       "<matplotlib.axes._subplots.AxesSubplot at 0x1e56b65bcc0>"
      ]
     },
     "execution_count": 36,
     "metadata": {},
     "output_type": "execute_result"
    },
    {
     "data": {
      "image/png": "[encoded data removed]",
      "text/plain": [
       "<matplotlib.figure.Figure at 0x1e56b0b2c18>"
      ]
     },
     "metadata": {},
     "output_type": "display_data"
    }
   ],
   "source": [
    "sdf.LISALABELS.value_counts().plot('bar')"
   ]
  },
  {
   "cell_type": "markdown",
   "metadata": {
    "collapsed": true
   },
   "source": [
    "**5). ** Showing the Results\n",
    "\n",
    "Once the Spatial DataFrame is updated, it can be saved or displayed on a map. "
   ]
  },
  {
   "cell_type": "code",
   "execution_count": 37,
   "metadata": {},
   "outputs": [
    {
     "data": {
      "text/html": [
       "<div class=\"item_container\" style=\"height: auto; overflow: hidden; border: 1px solid #cfcfcf; border-radius: 2px; background: #f6fafa; line-height: 1.21429em; padding: 10px;\">\n",
       "                    <div class=\"item_left\" style=\"width: 210px; float: left;\">\n",
       "                       <a href='https://www.arcgis.com/home/item.html?id=192a1923c2274af890645c5465184d35' target='_blank'>\n",
       "                        <img src='https://www.arcgis.com/sharing/rest//content/items/192a1923c2274af890645c5465184d35/info/thumbnail/ago_downloaded.png' class=\"itemThumbnail\">\n",
       "                       </a>\n",
       "                    </div>\n",
       "\n",
       "                    <div class=\"item_right\"     style=\"float: none; width: auto; overflow: hidden;\">\n",
       "                        <a href='https://www.arcgis.com/home/item.html?id=192a1923c2274af890645c5465184d35' target='_blank'><b>1990 Homicide Map (Creating Using Python API)</b>\n",
       "                        </a>\n",
       "                        <br/>TutorialMap<img src='https://www.arcgis.com/home/js/jsapi/esri/css/images/item_type_icons/maps16.png' style=\"vertical-align:middle;\">Web Map by AndrewSolutions\n",
       "                        <br/>Last Modified: January 03, 2018\n",
       "                        <br/>0 comments, 0 views\n",
       "                    </div>\n",
       "                </div>\n",
       "                "
      ],
      "text/plain": [
       "<Item title:\"1990 Homicide Map (Creating Using Python API)\" type:Web Map owner:AndrewSolutions>"
      ]
     },
     "execution_count": 37,
     "metadata": {},
     "output_type": "execute_result"
    }
   ],
   "source": [
    "item = gis.content.search(\"id: 192a1923c2274af890645c5465184d35\")[0]\n",
    "item"
   ]
  },
  {
   "cell_type": "code",
   "execution_count": 38,
   "metadata": {},
   "outputs": [
    {
     "data": {
      "application/vnd.jupyter.widget-view+json": {
       "model_id": "0414e8fcb8204083b29bab5efed430ac"
      }
     },
     "metadata": {},
     "output_type": "display_data"
    }
   ],
   "source": [
    "m = gis.map(item)\n",
    "m"
   ]
  },
  {
   "cell_type": "code",
   "execution_count": 39,
   "metadata": {},
   "outputs": [
    {
     "data": {
      "text/plain": [
       "True"
      ]
     },
     "execution_count": 39,
     "metadata": {},
     "output_type": "execute_result"
    }
   ],
   "source": [
    "sdf.plot(map_widget=m, kind='map', renderer_type='u', col='LISALABELS')"
   ]
  },
  {
   "cell_type": "markdown",
   "metadata": {},
   "source": [
    "## Conclusion\n",
    "\n",
    "We have show using some basic analysis the power of 3rd party statistical packages and visualizing the results to get a good understanding and feel of data."
   ]
  },
  {
   "cell_type": "code",
   "execution_count": 42,
   "metadata": {},
   "outputs": [
    {
     "name": "stdout",
     "output_type": "stream",
     "text": [
      "{'type': 'esriSFS', 'style': 'esriSFSSolid', 'color': [0, 0, 132, 255], 'outline': {'style': 'esriSLSSolid', 'type': 'esriSLS', 'color': [2, 232, 244, 255], 'width': 2}}\n",
      "polygon\n"
     ]
    }
   ],
   "source": [
    "from arcgis.mapping.symbol import create_symbol\n",
    "\n",
    "print(create_symbol(\n",
    "                    geometry_type=sdf.geometry_type.lower(),\n",
    "                    symbol_type='simple',\n",
    "                    symbol_style=\"s\",\n",
    "                    colors='jet'))\n",
    "print(sdf.geometry_type.lower())"
   ]
  },
  {
   "cell_type": "code",
   "execution_count": null,
   "metadata": {
    "collapsed": true
   },
   "outputs": [],
   "source": []
  }
 ],
 "metadata": {
  "kernelspec": {
   "display_name": "Python 3",
   "language": "python",
   "name": "python3"
  },
  "language_info": {
   "codemirror_mode": {
    "name": "ipython",
    "version": 3
   },
   "file_extension": ".py",
   "mimetype": "text/x-python",
   "name": "python",
   "nbconvert_exporter": "python",
   "pygments_lexer": "ipython3",
   "version": "3.6.1"
  },
  "widgets": {
   "state": {
    "6e388060f1d3487fb496555baf6aa824": {
     "views": [
      {
       "cell_index": 7
      }
     ]
    },
    "74ec5064b4494b8088089670468b74d2": {
     "views": [
      {
       "cell_index": 17
      }
     ]
    }
   },
   "version": "1.2.0"
  }
 },
 "nbformat": 4,
 "nbformat_minor": 2
}
