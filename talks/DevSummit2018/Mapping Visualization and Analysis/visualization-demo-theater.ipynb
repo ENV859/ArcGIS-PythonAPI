{
 "cells": [
  {
   "cell_type": "code",
   "execution_count": 1,
   "metadata": {
    "collapsed": true,
    "slideshow": {
     "slide_type": "skip"
    }
   },
   "outputs": [],
   "source": [
    "from arcgis.gis import GIS\n",
    "from arcgis.features import SpatialDataFrame\n",
    "%matplotlib inline  "
   ]
  },
  {
   "cell_type": "markdown",
   "metadata": {
    "slideshow": {
     "slide_type": "slide"
    }
   },
   "source": [
    "# ArcGIS API for Python: Mapping, Visualization and Analysis\n",
    "\n",
    "<center><img src=\"./img/rubik.jpg\" /></center>\n",
    "\n",
    "\n",
    "- Andrew Chapkowski\n",
    "- Atma Mani"
   ]
  },
  {
   "cell_type": "markdown",
   "metadata": {
    "slideshow": {
     "slide_type": "slide"
    }
   },
   "source": [
    "## Agenda\n",
    "\n",
    "- Jupyter Basics\n",
    "    + Keyboard shortcuts\n",
    "    + Inline methods\n",
    "- What is the Python API?\n",
    "- Getting Started with GIS\n",
    "- Mapping\n",
    "- The Spatial DataFrame\n",
    "    + Working with geometry\n",
    "    + Importing/exporting data\n",
    "    + Visualization\n",
    "- Visualizing Raster Data\n",
    "- Non-Spatial Data Visualization\n",
    "- Analysis Demo: Frechet Distance\n",
    "- Questions"
   ]
  },
  {
   "cell_type": "markdown",
   "metadata": {
    "slideshow": {
     "slide_type": "slide"
    }
   },
   "source": [
    "# Jupyter Basics\n",
    "\n",
    "## What is Jupyter Notebooks?\n",
    "\n",
    "- Environment that allows you to create, share and use live code\n",
    "- Some uses include: \n",
    "    + geographic analysis\n",
    "    + data cleaning and transformation\n",
    "    + numerical simulation\n",
    "    + statistical modeling\n",
    "    + data visualization\n",
    "    + machine learning\n"
   ]
  },
  {
   "cell_type": "markdown",
   "metadata": {
    "slideshow": {
     "slide_type": "subslide"
    }
   },
   "source": [
    "# Jupyter Basics\n",
    "\n",
    "## Keyboard Shortcuts\n",
    "\n",
    "The most important keyboard shortcuts are:\n",
    "\n",
    "- **Enter**, which enters edit mode\n",
    "- **Esc**, which enters command mode.\n"
   ]
  },
  {
   "cell_type": "markdown",
   "metadata": {
    "slideshow": {
     "slide_type": "subslide"
    }
   },
   "source": [
    "# Jupyter Basics\n",
    "\n",
    "## Keyboard Shortcuts when in command mode\n",
    "\n",
    "1. Basic navigation: enter, shift-enter, up/k, down/j\n",
    "2. Saving the notebook: s\n",
    "3. Change Cell types: y, m, 1-6, t\n",
    "4. Cell creation: a, b\n",
    "5. Cell editing: x, c, v, d, z\n",
    "6. Kernel operations: i, 0 (press twice)\n",
    "\n",
    "## Two **VERY** Important Shortcuts!\n",
    "\n",
    "- **Alt-Enter** runs the current cell and inserts a new one below.\n",
    "- **Ctrl-Enter** run the current cell and enters command mode."
   ]
  },
  {
   "cell_type": "markdown",
   "metadata": {
    "slideshow": {
     "slide_type": "subslide"
    }
   },
   "source": [
    "# Jupyter Basics\n",
    "\n",
    "## Matplotlib Inline\n",
    "\n",
    "- Allows for use of plotting and mapping graphs\n",
    "\n"
   ]
  },
  {
   "cell_type": "code",
   "execution_count": 2,
   "metadata": {
    "collapsed": true,
    "slideshow": {
     "slide_type": "fragment"
    }
   },
   "outputs": [],
   "source": [
    "import matplotlib.pyplot as plt\n",
    "%matplotlib inline"
   ]
  },
  {
   "cell_type": "markdown",
   "metadata": {
    "slideshow": {
     "slide_type": "subslide"
    }
   },
   "source": [
    "# Demo: Plotting Inline"
   ]
  },
  {
   "cell_type": "code",
   "execution_count": 2,
   "metadata": {
    "slideshow": {
     "slide_type": "fragment"
    }
   },
   "outputs": [
    {
     "data": {
      "text/plain": [
       "[<matplotlib.lines.Line2D at 0x17cff06d128>]"
      ]
     },
     "execution_count": 2,
     "metadata": {},
     "output_type": "execute_result"
    },
    {
     "data": {
      "image/png": "[encoded data removed]",
      "text/plain": [
       "<matplotlib.figure.Figure at 0x17cfee5e1d0>"
      ]
     },
     "metadata": {},
     "output_type": "display_data"
    }
   ],
   "source": [
    "data = [1,1,2,3,8,13,21]\n",
    "plt.figure()\n",
    "plt.plot(data)"
   ]
  },
  {
   "cell_type": "markdown",
   "metadata": {
    "slideshow": {
     "slide_type": "subslide"
    }
   },
   "source": [
    "# Demo: Plotting Inline\n",
    "\n",
    "- we can do better"
   ]
  },
  {
   "cell_type": "code",
   "execution_count": 3,
   "metadata": {
    "slideshow": {
     "slide_type": "fragment"
    }
   },
   "outputs": [
    {
     "data": {
      "text/plain": [
       "<matplotlib.legend.Legend at 0x17cff8d2c50>"
      ]
     },
     "execution_count": 3,
     "metadata": {},
     "output_type": "execute_result"
    },
    {
     "data": {
      "image/png": "[encoded data removed]",
      "text/plain": [
       "<matplotlib.figure.Figure at 0x17cff01f668>"
      ]
     },
     "metadata": {},
     "output_type": "display_data"
    }
   ],
   "source": [
    "plt.figure()\n",
    "plt.title(\"A Nice Title\", size='xx-large')\n",
    "plt.ylabel('Values',size='x-large')\n",
    "plt.ylim([0,30])\n",
    "plt.plot(data,'r-', markersize=10, linewidth=2, label='Consumption Rate')\n",
    "plt.tick_params(axis='both', which='major', labelsize=14)\n",
    "plt.legend(loc=(0.25,0.75), scatterpoints=1)"
   ]
  },
  {
   "cell_type": "markdown",
   "metadata": {
    "slideshow": {
     "slide_type": "slide"
    }
   },
   "source": [
    "# What is the Python API?"
   ]
  },
  {
   "cell_type": "markdown",
   "metadata": {
    "slideshow": {
     "slide_type": "fragment"
    }
   },
   "source": [
    "<center><img src='./img/WhatIsAPI.png'/> </center>"
   ]
  },
  {
   "cell_type": "markdown",
   "metadata": {
    "slideshow": {
     "slide_type": "slide"
    }
   },
   "source": [
    "# Getting Started with the GIS Object\n",
    "\n",
    "- The GIS object gets you into the Enterprise system\n",
    "    + ArcGIS Online\n",
    "    + Local ArcGIS Enterprise\n"
   ]
  },
  {
   "cell_type": "code",
   "execution_count": 4,
   "metadata": {
    "collapsed": true,
    "slideshow": {
     "slide_type": "skip"
    }
   },
   "outputs": [],
   "source": [
    "import getpass"
   ]
  },
  {
   "cell_type": "code",
   "execution_count": 5,
   "metadata": {
    "slideshow": {
     "slide_type": "fragment"
    }
   },
   "outputs": [
    {
     "name": "stdout",
     "output_type": "stream",
     "text": [
      "········\n",
      "········\n"
     ]
    }
   ],
   "source": [
    "from arcgis.gis import GIS\n",
    "gis = GIS(username=getpass.getpass(), \n",
    "          password=getpass.getpass())"
   ]
  },
  {
   "cell_type": "markdown",
   "metadata": {
    "slideshow": {
     "slide_type": "subslide"
    }
   },
   "source": [
    "## Common GIS Tasks\n",
    "\n",
    "#### Searching"
   ]
  },
  {
   "cell_type": "code",
   "execution_count": 6,
   "metadata": {
    "slideshow": {
     "slide_type": "fragment"
    }
   },
   "outputs": [
    {
     "data": {
      "text/html": [
       "<div class=\"item_container\" style=\"height: auto; overflow: hidden; border: 1px solid #cfcfcf; border-radius: 2px; background: #f6fafa; line-height: 1.21429em; padding: 10px;\">\n",
       "                    <div class=\"item_left\" style=\"width: 210px; float: left;\">\n",
       "                       <a href='https://arcgissolutions.maps.arcgis.com/home/item.html?id=826498a48bd0424f9c9315214f2165d4' target='_blank'>\n",
       "                        <img src='data:image/png;base64,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' width='200' height='133' class=\"itemThumbnail\">\n",
       "                       </a>\n",
       "                    </div>\n",
       "\n",
       "                    <div class=\"item_right\"     style=\"float: none; width: auto; overflow: hidden;\">\n",
       "                        <a href='https://arcgissolutions.maps.arcgis.com/home/item.html?id=826498a48bd0424f9c9315214f2165d4' target='_blank'><b>Colored Pencil Map</b>\n",
       "                        </a>\n",
       "                        <br/>This vector web map provides a detailed basemap for the world featuring a hand-drawn look like it was created using colored pencils.<img src='https://arcgissolutions.maps.arcgis.com/home/js/jsapi/esri/css/images/item_type_icons/maps16.png' style=\"vertical-align:middle;\">Web Map by esri\n",
       "                        <br/>Last Modified: February 23, 2018\n",
       "                        <br/>0 comments, 17,054 views\n",
       "                    </div>\n",
       "                </div>\n",
       "                "
      ],
      "text/plain": [
       "<Item title:\"Colored Pencil Map\" type:Web Map owner:esri>"
      ]
     },
     "execution_count": 6,
     "metadata": {},
     "output_type": "execute_result"
    }
   ],
   "source": [
    "items = gis.content.search(\"owner: esri\",outside_org=True)\n",
    "items[0]"
   ]
  },
  {
   "cell_type": "markdown",
   "metadata": {
    "slideshow": {
     "slide_type": "subslide"
    }
   },
   "source": [
    "#### Using Content"
   ]
  },
  {
   "cell_type": "code",
   "execution_count": 7,
   "metadata": {
    "slideshow": {
     "slide_type": "skip"
    }
   },
   "outputs": [
    {
     "data": {
      "text/html": [
       "<div>\n",
       "<style scoped>\n",
       "    .dataframe tbody tr th:only-of-type {\n",
       "        vertical-align: middle;\n",
       "    }\n",
       "\n",
       "    .dataframe tbody tr th {\n",
       "        vertical-align: top;\n",
       "    }\n",
       "\n",
       "    .dataframe thead th {\n",
       "        text-align: right;\n",
       "    }\n",
       "</style>\n",
       "<table border=\"1\" class=\"dataframe\">\n",
       "  <thead>\n",
       "    <tr style=\"text-align: right;\">\n",
       "      <th></th>\n",
       "      <th>AGE_10_14</th>\n",
       "      <th>AGE_15_19</th>\n",
       "      <th>AGE_20_24</th>\n",
       "      <th>AGE_25_34</th>\n",
       "      <th>AGE_35_44</th>\n",
       "      <th>AGE_45_54</th>\n",
       "      <th>AGE_55_64</th>\n",
       "      <th>AGE_5_9</th>\n",
       "      <th>AGE_65_74</th>\n",
       "      <th>AGE_75_84</th>\n",
       "      <th>...</th>\n",
       "      <th>POP2010</th>\n",
       "      <th>POP2012</th>\n",
       "      <th>RENTER_OCC</th>\n",
       "      <th>SQMI</th>\n",
       "      <th>STATE_FIPS</th>\n",
       "      <th>STCOFIPS</th>\n",
       "      <th>TRACT</th>\n",
       "      <th>VACANT</th>\n",
       "      <th>WHITE</th>\n",
       "      <th>SHAPE</th>\n",
       "    </tr>\n",
       "  </thead>\n",
       "  <tbody>\n",
       "    <tr>\n",
       "      <th>0</th>\n",
       "      <td>706</td>\n",
       "      <td>613</td>\n",
       "      <td>354</td>\n",
       "      <td>1456</td>\n",
       "      <td>1589</td>\n",
       "      <td>1504</td>\n",
       "      <td>1140</td>\n",
       "      <td>724</td>\n",
       "      <td>461</td>\n",
       "      <td>167</td>\n",
       "      <td>...</td>\n",
       "      <td>9585</td>\n",
       "      <td>11370</td>\n",
       "      <td>183</td>\n",
       "      <td>24.08</td>\n",
       "      <td>48</td>\n",
       "      <td>48157</td>\n",
       "      <td>673400</td>\n",
       "      <td>190</td>\n",
       "      <td>6879</td>\n",
       "      <td>{'spatialReference': {'latestWkid': 4326, 'wki...</td>\n",
       "    </tr>\n",
       "    <tr>\n",
       "      <th>1</th>\n",
       "      <td>1402</td>\n",
       "      <td>786</td>\n",
       "      <td>339</td>\n",
       "      <td>1728</td>\n",
       "      <td>3042</td>\n",
       "      <td>1627</td>\n",
       "      <td>1021</td>\n",
       "      <td>1722</td>\n",
       "      <td>436</td>\n",
       "      <td>133</td>\n",
       "      <td>...</td>\n",
       "      <td>13832</td>\n",
       "      <td>15055</td>\n",
       "      <td>292</td>\n",
       "      <td>24.66</td>\n",
       "      <td>48</td>\n",
       "      <td>48157</td>\n",
       "      <td>674502</td>\n",
       "      <td>219</td>\n",
       "      <td>8148</td>\n",
       "      <td>{'spatialReference': {'latestWkid': 4326, 'wki...</td>\n",
       "    </tr>\n",
       "    <tr>\n",
       "      <th>2</th>\n",
       "      <td>2165</td>\n",
       "      <td>1843</td>\n",
       "      <td>1417</td>\n",
       "      <td>5619</td>\n",
       "      <td>5346</td>\n",
       "      <td>3414</td>\n",
       "      <td>2024</td>\n",
       "      <td>2517</td>\n",
       "      <td>766</td>\n",
       "      <td>251</td>\n",
       "      <td>...</td>\n",
       "      <td>28537</td>\n",
       "      <td>32496</td>\n",
       "      <td>1291</td>\n",
       "      <td>18.71</td>\n",
       "      <td>48</td>\n",
       "      <td>48157</td>\n",
       "      <td>672900</td>\n",
       "      <td>403</td>\n",
       "      <td>11427</td>\n",
       "      <td>{'spatialReference': {'latestWkid': 4326, 'wki...</td>\n",
       "    </tr>\n",
       "    <tr>\n",
       "      <th>3</th>\n",
       "      <td>827</td>\n",
       "      <td>702</td>\n",
       "      <td>481</td>\n",
       "      <td>977</td>\n",
       "      <td>1384</td>\n",
       "      <td>1139</td>\n",
       "      <td>668</td>\n",
       "      <td>816</td>\n",
       "      <td>217</td>\n",
       "      <td>97</td>\n",
       "      <td>...</td>\n",
       "      <td>8011</td>\n",
       "      <td>8150</td>\n",
       "      <td>202</td>\n",
       "      <td>1.74</td>\n",
       "      <td>48</td>\n",
       "      <td>48157</td>\n",
       "      <td>672701</td>\n",
       "      <td>65</td>\n",
       "      <td>1336</td>\n",
       "      <td>{'spatialReference': {'latestWkid': 4326, 'wki...</td>\n",
       "    </tr>\n",
       "    <tr>\n",
       "      <th>4</th>\n",
       "      <td>716</td>\n",
       "      <td>371</td>\n",
       "      <td>130</td>\n",
       "      <td>818</td>\n",
       "      <td>1498</td>\n",
       "      <td>796</td>\n",
       "      <td>383</td>\n",
       "      <td>878</td>\n",
       "      <td>156</td>\n",
       "      <td>52</td>\n",
       "      <td>...</td>\n",
       "      <td>6533</td>\n",
       "      <td>6889</td>\n",
       "      <td>403</td>\n",
       "      <td>2.77</td>\n",
       "      <td>48</td>\n",
       "      <td>48339</td>\n",
       "      <td>690602</td>\n",
       "      <td>177</td>\n",
       "      <td>5465</td>\n",
       "      <td>{'spatialReference': {'latestWkid': 4326, 'wki...</td>\n",
       "    </tr>\n",
       "  </tbody>\n",
       "</table>\n",
       "<p>5 rows × 53 columns</p>\n",
       "</div>"
      ],
      "text/plain": [
       "   AGE_10_14  AGE_15_19  AGE_20_24  AGE_25_34  AGE_35_44  AGE_45_54  \\\n",
       "0        706        613        354       1456       1589       1504   \n",
       "1       1402        786        339       1728       3042       1627   \n",
       "2       2165       1843       1417       5619       5346       3414   \n",
       "3        827        702        481        977       1384       1139   \n",
       "4        716        371        130        818       1498        796   \n",
       "\n",
       "   AGE_55_64  AGE_5_9  AGE_65_74  AGE_75_84  \\\n",
       "0       1140      724        461        167   \n",
       "1       1021     1722        436        133   \n",
       "2       2024     2517        766        251   \n",
       "3        668      816        217         97   \n",
       "4        383      878        156         52   \n",
       "\n",
       "                         ...                          POP2010  POP2012  \\\n",
       "0                        ...                             9585    11370   \n",
       "1                        ...                            13832    15055   \n",
       "2                        ...                            28537    32496   \n",
       "3                        ...                             8011     8150   \n",
       "4                        ...                             6533     6889   \n",
       "\n",
       "   RENTER_OCC   SQMI  STATE_FIPS  STCOFIPS   TRACT VACANT  WHITE  \\\n",
       "0         183  24.08          48     48157  673400    190   6879   \n",
       "1         292  24.66          48     48157  674502    219   8148   \n",
       "2        1291  18.71          48     48157  672900    403  11427   \n",
       "3         202   1.74          48     48157  672701     65   1336   \n",
       "4         403   2.77          48     48339  690602    177   5465   \n",
       "\n",
       "                                               SHAPE  \n",
       "0  {'spatialReference': {'latestWkid': 4326, 'wki...  \n",
       "1  {'spatialReference': {'latestWkid': 4326, 'wki...  \n",
       "2  {'spatialReference': {'latestWkid': 4326, 'wki...  \n",
       "3  {'spatialReference': {'latestWkid': 4326, 'wki...  \n",
       "4  {'spatialReference': {'latestWkid': 4326, 'wki...  \n",
       "\n",
       "[5 rows x 53 columns]"
      ]
     },
     "execution_count": 7,
     "metadata": {},
     "output_type": "execute_result"
    }
   ],
   "source": [
    "items = gis.content.search(\"Boundary and owner: esri\",outside_org=True, item_type=\"Feature Layer\")\n",
    "fl = items[0].layers[0]\n",
    "fl.query(where=\"AGE_10_14 >700\", return_all_records=False).df.head()"
   ]
  },
  {
   "cell_type": "markdown",
   "metadata": {
    "slideshow": {
     "slide_type": "subslide"
    }
   },
   "source": [
    "#### Adding Content"
   ]
  },
  {
   "cell_type": "code",
   "execution_count": 41,
   "metadata": {
    "slideshow": {
     "slide_type": "fragment"
    }
   },
   "outputs": [
    {
     "data": {
      "text/html": [
       "<div class=\"item_container\" style=\"height: auto; overflow: hidden; border: 1px solid #cfcfcf; border-radius: 2px; background: #f6fafa; line-height: 1.21429em; padding: 10px;\">\n",
       "                    <div class=\"item_left\" style=\"width: 210px; float: left;\">\n",
       "                       <a href='https://arcgissolutions.maps.arcgis.com/home/item.html?id=c6513fa6128c4c36ade48cd4da49071b' target='_blank'>\n",
       "                        <img src='http://static.arcgis.com/images/desktopapp.png' class=\"itemThumbnail\">\n",
       "                       </a>\n",
       "                    </div>\n",
       "\n",
       "                    <div class=\"item_right\"     style=\"float: none; width: auto; overflow: hidden;\">\n",
       "                        <a href='https://arcgissolutions.maps.arcgis.com/home/item.html?id=c6513fa6128c4c36ade48cd4da49071b' target='_blank'><b>United States</b>\n",
       "                        </a>\n",
       "                        <br/><img src='https://arcgissolutions.maps.arcgis.com/home/js/jsapi/esri/css/images/item_type_icons/datafiles16.png' style=\"vertical-align:middle;\">Shapefile by AndrewSolutions\n",
       "                        <br/>Last Modified: March 02, 2018\n",
       "                        <br/>0 comments, 0 views\n",
       "                    </div>\n",
       "                </div>\n",
       "                "
      ],
      "text/plain": [
       "<Item title:\"United States\" type:Shapefile owner:AndrewSolutions>"
      ]
     },
     "execution_count": 41,
     "metadata": {},
     "output_type": "execute_result"
    }
   ],
   "source": [
    "shp_item = gis.content.add(\n",
    "    item_properties={\n",
    "        'title' : 'United States',\n",
    "        'type' : 'Shapefile',\n",
    "        'tags' : ['boundary','US', 'North America']\n",
    "        },\n",
    "    data=\"./data/states.shp.zip\"\n",
    ")\n",
    "shp_item"
   ]
  },
  {
   "cell_type": "markdown",
   "metadata": {
    "slideshow": {
     "slide_type": "subslide"
    }
   },
   "source": [
    "#### Publishing Content"
   ]
  },
  {
   "cell_type": "code",
   "execution_count": 42,
   "metadata": {
    "slideshow": {
     "slide_type": "fragment"
    }
   },
   "outputs": [
    {
     "data": {
      "text/html": [
       "<div class=\"item_container\" style=\"height: auto; overflow: hidden; border: 1px solid #cfcfcf; border-radius: 2px; background: #f6fafa; line-height: 1.21429em; padding: 10px;\">\n",
       "                    <div class=\"item_left\" style=\"width: 210px; float: left;\">\n",
       "                       <a href='https://arcgissolutions.maps.arcgis.com/home/item.html?id=c4b736d63ff440ed9463bb2c8d38edcd' target='_blank'>\n",
       "                        <img src='http://static.arcgis.com/images/desktopapp.png' class=\"itemThumbnail\">\n",
       "                       </a>\n",
       "                    </div>\n",
       "\n",
       "                    <div class=\"item_right\"     style=\"float: none; width: auto; overflow: hidden;\">\n",
       "                        <a href='https://arcgissolutions.maps.arcgis.com/home/item.html?id=c4b736d63ff440ed9463bb2c8d38edcd' target='_blank'><b>United States</b>\n",
       "                        </a>\n",
       "                        <br/><img src='https://arcgissolutions.maps.arcgis.com/home/js/jsapi/esri/css/images/item_type_icons/featureshosted16.png' style=\"vertical-align:middle;\">Feature Layer Collection by AndrewSolutions\n",
       "                        <br/>Last Modified: March 02, 2018\n",
       "                        <br/>0 comments, 0 views\n",
       "                    </div>\n",
       "                </div>\n",
       "                "
      ],
      "text/plain": [
       "<Item title:\"United States\" type:Feature Layer Collection owner:AndrewSolutions>"
      ]
     },
     "execution_count": 42,
     "metadata": {},
     "output_type": "execute_result"
    }
   ],
   "source": [
    "pub_item = shp_item.publish(publish_parameters={\"maxRecordCount\": 2000, \n",
    "                                         \"hasStaticData\": True, \n",
    "                                         \"name\": \"UnitedStates\", \n",
    "                                         \"layerInfo\": {\"capabilities\": \"Query\"}})\n",
    "pub_item"
   ]
  },
  {
   "cell_type": "markdown",
   "metadata": {
    "slideshow": {
     "slide_type": "slide"
    }
   },
   "source": [
    "# The Spatial DataFrame\n",
    "\n",
    "<center><img src=\"./img/spatialdata.jpg\" width=400/></center>\n",
    "\n",
    "- An extended Pandas dataframe\n",
    "- Spatial capabilities\n",
    "    + import/export data\n",
    "    + visualize data\n",
    "    + manipulate data"
   ]
  },
  {
   "cell_type": "markdown",
   "metadata": {
    "slideshow": {
     "slide_type": "subslide"
    }
   },
   "source": [
    "# The Spatial DataFrame\n",
    "\n",
    "## Geometry Engine Caveat\n",
    "\n",
    "- ArcPy (deffault if present)\n",
    "- Shapely (used if no arcpy)\n",
    "- None (no geometry operations allowed)"
   ]
  },
  {
   "cell_type": "markdown",
   "metadata": {
    "slideshow": {
     "slide_type": "subslide"
    }
   },
   "source": [
    "# The Spatial DataFrame\n",
    "\n",
    "## Working with Geometry\n",
    "\n",
    "- Supports simple: Points, Lines, Polygons, and MultiPoints\n"
   ]
  },
  {
   "cell_type": "markdown",
   "metadata": {
    "slideshow": {
     "slide_type": "subslide"
    }
   },
   "source": [
    "# The Spatial DataFrame\n",
    "\n",
    "## Demo: Converting X/Y into ArcGIS Geometries"
   ]
  },
  {
   "cell_type": "code",
   "execution_count": 8,
   "metadata": {
    "slideshow": {
     "slide_type": "subslide"
    }
   },
   "outputs": [
    {
     "data": {
      "text/html": [
       "<div>\n",
       "<style scoped>\n",
       "    .dataframe tbody tr th:only-of-type {\n",
       "        vertical-align: middle;\n",
       "    }\n",
       "\n",
       "    .dataframe tbody tr th {\n",
       "        vertical-align: top;\n",
       "    }\n",
       "\n",
       "    .dataframe thead th {\n",
       "        text-align: right;\n",
       "    }\n",
       "</style>\n",
       "<table border=\"1\" class=\"dataframe\">\n",
       "  <thead>\n",
       "    <tr style=\"text-align: right;\">\n",
       "      <th></th>\n",
       "      <th>time</th>\n",
       "      <th>latitude</th>\n",
       "      <th>longitude</th>\n",
       "      <th>depth</th>\n",
       "      <th>mag</th>\n",
       "      <th>magType</th>\n",
       "      <th>nst</th>\n",
       "      <th>gap</th>\n",
       "      <th>dmin</th>\n",
       "      <th>rms</th>\n",
       "      <th>...</th>\n",
       "      <th>updated</th>\n",
       "      <th>place</th>\n",
       "      <th>type</th>\n",
       "      <th>horizontalError</th>\n",
       "      <th>depthError</th>\n",
       "      <th>magError</th>\n",
       "      <th>magNst</th>\n",
       "      <th>status</th>\n",
       "      <th>locationSource</th>\n",
       "      <th>magSource</th>\n",
       "    </tr>\n",
       "  </thead>\n",
       "  <tbody>\n",
       "    <tr>\n",
       "      <th>0</th>\n",
       "      <td>2018-02-22T12:11:03.886Z</td>\n",
       "      <td>59.607900</td>\n",
       "      <td>-143.288500</td>\n",
       "      <td>11.90</td>\n",
       "      <td>2.10</td>\n",
       "      <td>ml</td>\n",
       "      <td>NaN</td>\n",
       "      <td>NaN</td>\n",
       "      <td>NaN</td>\n",
       "      <td>0.98</td>\n",
       "      <td>...</td>\n",
       "      <td>2018-02-22T12:17:57.376Z</td>\n",
       "      <td>70km SW of Cape Yakataga, Alaska</td>\n",
       "      <td>earthquake</td>\n",
       "      <td>NaN</td>\n",
       "      <td>1.30</td>\n",
       "      <td>NaN</td>\n",
       "      <td>NaN</td>\n",
       "      <td>automatic</td>\n",
       "      <td>ak</td>\n",
       "      <td>ak</td>\n",
       "    </tr>\n",
       "    <tr>\n",
       "      <th>1</th>\n",
       "      <td>2018-02-22T12:01:47.650Z</td>\n",
       "      <td>19.385334</td>\n",
       "      <td>-155.239838</td>\n",
       "      <td>0.47</td>\n",
       "      <td>2.20</td>\n",
       "      <td>ml</td>\n",
       "      <td>33.0</td>\n",
       "      <td>56.0</td>\n",
       "      <td>0.01083</td>\n",
       "      <td>0.24</td>\n",
       "      <td>...</td>\n",
       "      <td>2018-02-22T12:07:25.160Z</td>\n",
       "      <td>5km S of Volcano, Hawaii</td>\n",
       "      <td>earthquake</td>\n",
       "      <td>0.30</td>\n",
       "      <td>0.21</td>\n",
       "      <td>0.200</td>\n",
       "      <td>11.0</td>\n",
       "      <td>automatic</td>\n",
       "      <td>hv</td>\n",
       "      <td>hv</td>\n",
       "    </tr>\n",
       "    <tr>\n",
       "      <th>2</th>\n",
       "      <td>2018-02-22T11:57:11.153Z</td>\n",
       "      <td>60.991000</td>\n",
       "      <td>-146.947300</td>\n",
       "      <td>20.10</td>\n",
       "      <td>1.50</td>\n",
       "      <td>ml</td>\n",
       "      <td>NaN</td>\n",
       "      <td>NaN</td>\n",
       "      <td>NaN</td>\n",
       "      <td>0.72</td>\n",
       "      <td>...</td>\n",
       "      <td>2018-02-22T12:02:45.411Z</td>\n",
       "      <td>35km WSW of Valdez, Alaska</td>\n",
       "      <td>earthquake</td>\n",
       "      <td>NaN</td>\n",
       "      <td>0.20</td>\n",
       "      <td>NaN</td>\n",
       "      <td>NaN</td>\n",
       "      <td>automatic</td>\n",
       "      <td>ak</td>\n",
       "      <td>ak</td>\n",
       "    </tr>\n",
       "    <tr>\n",
       "      <th>3</th>\n",
       "      <td>2018-02-22T11:46:05.860Z</td>\n",
       "      <td>38.796501</td>\n",
       "      <td>-122.764336</td>\n",
       "      <td>0.59</td>\n",
       "      <td>0.80</td>\n",
       "      <td>md</td>\n",
       "      <td>9.0</td>\n",
       "      <td>112.0</td>\n",
       "      <td>0.02105</td>\n",
       "      <td>0.03</td>\n",
       "      <td>...</td>\n",
       "      <td>2018-02-22T12:01:03.815Z</td>\n",
       "      <td>2km NNW of The Geysers, CA</td>\n",
       "      <td>earthquake</td>\n",
       "      <td>0.40</td>\n",
       "      <td>1.32</td>\n",
       "      <td>0.140</td>\n",
       "      <td>3.0</td>\n",
       "      <td>automatic</td>\n",
       "      <td>nc</td>\n",
       "      <td>nc</td>\n",
       "    </tr>\n",
       "    <tr>\n",
       "      <th>4</th>\n",
       "      <td>2018-02-22T11:41:11.530Z</td>\n",
       "      <td>33.850833</td>\n",
       "      <td>-117.727167</td>\n",
       "      <td>10.81</td>\n",
       "      <td>0.88</td>\n",
       "      <td>ml</td>\n",
       "      <td>24.0</td>\n",
       "      <td>56.0</td>\n",
       "      <td>0.05635</td>\n",
       "      <td>0.17</td>\n",
       "      <td>...</td>\n",
       "      <td>2018-02-22T11:44:55.863Z</td>\n",
       "      <td>9km ENE of Villa Park, CA</td>\n",
       "      <td>earthquake</td>\n",
       "      <td>0.31</td>\n",
       "      <td>0.68</td>\n",
       "      <td>0.199</td>\n",
       "      <td>19.0</td>\n",
       "      <td>automatic</td>\n",
       "      <td>ci</td>\n",
       "      <td>ci</td>\n",
       "    </tr>\n",
       "  </tbody>\n",
       "</table>\n",
       "<p>5 rows × 22 columns</p>\n",
       "</div>"
      ],
      "text/plain": [
       "                       time   latitude   longitude  depth   mag magType   nst  \\\n",
       "0  2018-02-22T12:11:03.886Z  59.607900 -143.288500  11.90  2.10      ml   NaN   \n",
       "1  2018-02-22T12:01:47.650Z  19.385334 -155.239838   0.47  2.20      ml  33.0   \n",
       "2  2018-02-22T11:57:11.153Z  60.991000 -146.947300  20.10  1.50      ml   NaN   \n",
       "3  2018-02-22T11:46:05.860Z  38.796501 -122.764336   0.59  0.80      md   9.0   \n",
       "4  2018-02-22T11:41:11.530Z  33.850833 -117.727167  10.81  0.88      ml  24.0   \n",
       "\n",
       "     gap     dmin   rms    ...                      updated  \\\n",
       "0    NaN      NaN  0.98    ...     2018-02-22T12:17:57.376Z   \n",
       "1   56.0  0.01083  0.24    ...     2018-02-22T12:07:25.160Z   \n",
       "2    NaN      NaN  0.72    ...     2018-02-22T12:02:45.411Z   \n",
       "3  112.0  0.02105  0.03    ...     2018-02-22T12:01:03.815Z   \n",
       "4   56.0  0.05635  0.17    ...     2018-02-22T11:44:55.863Z   \n",
       "\n",
       "                              place        type horizontalError depthError  \\\n",
       "0  70km SW of Cape Yakataga, Alaska  earthquake             NaN       1.30   \n",
       "1          5km S of Volcano, Hawaii  earthquake            0.30       0.21   \n",
       "2        35km WSW of Valdez, Alaska  earthquake             NaN       0.20   \n",
       "3        2km NNW of The Geysers, CA  earthquake            0.40       1.32   \n",
       "4         9km ENE of Villa Park, CA  earthquake            0.31       0.68   \n",
       "\n",
       "   magError  magNst     status  locationSource magSource  \n",
       "0       NaN     NaN  automatic              ak        ak  \n",
       "1     0.200    11.0  automatic              hv        hv  \n",
       "2       NaN     NaN  automatic              ak        ak  \n",
       "3     0.140     3.0  automatic              nc        nc  \n",
       "4     0.199    19.0  automatic              ci        ci  \n",
       "\n",
       "[5 rows x 22 columns]"
      ]
     },
     "execution_count": 8,
     "metadata": {},
     "output_type": "execute_result"
    }
   ],
   "source": [
    "import pandas as pd\n",
    "df = pd.read_csv(r\"./data/all_week.csv\")\n",
    "df.head()"
   ]
  },
  {
   "cell_type": "code",
   "execution_count": 44,
   "metadata": {
    "collapsed": true,
    "slideshow": {
     "slide_type": "subslide"
    }
   },
   "outputs": [],
   "source": [
    "from arcgis.geometry import Point\n",
    "geoms = []\n",
    "for row in df.to_records():\n",
    "    geoms.append(\n",
    "        Point({\n",
    "            'spatialReference' : {'wkid' : 4326},\n",
    "            'x' : row[3],\n",
    "            'y' : row[2]\n",
    "        })\n",
    "    )"
   ]
  },
  {
   "cell_type": "code",
   "execution_count": 45,
   "metadata": {
    "slideshow": {
     "slide_type": "subslide"
    }
   },
   "outputs": [
    {
     "data": {
      "text/html": [
       "<div>\n",
       "<style scoped>\n",
       "    .dataframe tbody tr th:only-of-type {\n",
       "        vertical-align: middle;\n",
       "    }\n",
       "\n",
       "    .dataframe tbody tr th {\n",
       "        vertical-align: top;\n",
       "    }\n",
       "\n",
       "    .dataframe thead th {\n",
       "        text-align: right;\n",
       "    }\n",
       "</style>\n",
       "<table border=\"1\" class=\"dataframe\">\n",
       "  <thead>\n",
       "    <tr style=\"text-align: right;\">\n",
       "      <th></th>\n",
       "      <th>time</th>\n",
       "      <th>latitude</th>\n",
       "      <th>longitude</th>\n",
       "      <th>depth</th>\n",
       "      <th>mag</th>\n",
       "      <th>magType</th>\n",
       "      <th>nst</th>\n",
       "      <th>gap</th>\n",
       "      <th>dmin</th>\n",
       "      <th>rms</th>\n",
       "      <th>...</th>\n",
       "      <th>place</th>\n",
       "      <th>type</th>\n",
       "      <th>horizontalError</th>\n",
       "      <th>depthError</th>\n",
       "      <th>magError</th>\n",
       "      <th>magNst</th>\n",
       "      <th>status</th>\n",
       "      <th>locationSource</th>\n",
       "      <th>magSource</th>\n",
       "      <th>SHAPE</th>\n",
       "    </tr>\n",
       "  </thead>\n",
       "  <tbody>\n",
       "    <tr>\n",
       "      <th>0</th>\n",
       "      <td>2018-02-22T12:11:03.886Z</td>\n",
       "      <td>59.607900</td>\n",
       "      <td>-143.288500</td>\n",
       "      <td>11.90</td>\n",
       "      <td>2.10</td>\n",
       "      <td>ml</td>\n",
       "      <td>NaN</td>\n",
       "      <td>NaN</td>\n",
       "      <td>NaN</td>\n",
       "      <td>0.98</td>\n",
       "      <td>...</td>\n",
       "      <td>70km SW of Cape Yakataga, Alaska</td>\n",
       "      <td>earthquake</td>\n",
       "      <td>NaN</td>\n",
       "      <td>1.30</td>\n",
       "      <td>NaN</td>\n",
       "      <td>NaN</td>\n",
       "      <td>automatic</td>\n",
       "      <td>ak</td>\n",
       "      <td>ak</td>\n",
       "      <td>{'y': 59.6079, 'spatialReference': {'wkid': 43...</td>\n",
       "    </tr>\n",
       "    <tr>\n",
       "      <th>1</th>\n",
       "      <td>2018-02-22T12:01:47.650Z</td>\n",
       "      <td>19.385334</td>\n",
       "      <td>-155.239838</td>\n",
       "      <td>0.47</td>\n",
       "      <td>2.20</td>\n",
       "      <td>ml</td>\n",
       "      <td>33.0</td>\n",
       "      <td>56.0</td>\n",
       "      <td>0.01083</td>\n",
       "      <td>0.24</td>\n",
       "      <td>...</td>\n",
       "      <td>5km S of Volcano, Hawaii</td>\n",
       "      <td>earthquake</td>\n",
       "      <td>0.30</td>\n",
       "      <td>0.21</td>\n",
       "      <td>0.200</td>\n",
       "      <td>11.0</td>\n",
       "      <td>automatic</td>\n",
       "      <td>hv</td>\n",
       "      <td>hv</td>\n",
       "      <td>{'y': 19.385334, 'spatialReference': {'wkid': ...</td>\n",
       "    </tr>\n",
       "    <tr>\n",
       "      <th>2</th>\n",
       "      <td>2018-02-22T11:57:11.153Z</td>\n",
       "      <td>60.991000</td>\n",
       "      <td>-146.947300</td>\n",
       "      <td>20.10</td>\n",
       "      <td>1.50</td>\n",
       "      <td>ml</td>\n",
       "      <td>NaN</td>\n",
       "      <td>NaN</td>\n",
       "      <td>NaN</td>\n",
       "      <td>0.72</td>\n",
       "      <td>...</td>\n",
       "      <td>35km WSW of Valdez, Alaska</td>\n",
       "      <td>earthquake</td>\n",
       "      <td>NaN</td>\n",
       "      <td>0.20</td>\n",
       "      <td>NaN</td>\n",
       "      <td>NaN</td>\n",
       "      <td>automatic</td>\n",
       "      <td>ak</td>\n",
       "      <td>ak</td>\n",
       "      <td>{'y': 60.991, 'spatialReference': {'wkid': 432...</td>\n",
       "    </tr>\n",
       "    <tr>\n",
       "      <th>3</th>\n",
       "      <td>2018-02-22T11:46:05.860Z</td>\n",
       "      <td>38.796501</td>\n",
       "      <td>-122.764336</td>\n",
       "      <td>0.59</td>\n",
       "      <td>0.80</td>\n",
       "      <td>md</td>\n",
       "      <td>9.0</td>\n",
       "      <td>112.0</td>\n",
       "      <td>0.02105</td>\n",
       "      <td>0.03</td>\n",
       "      <td>...</td>\n",
       "      <td>2km NNW of The Geysers, CA</td>\n",
       "      <td>earthquake</td>\n",
       "      <td>0.40</td>\n",
       "      <td>1.32</td>\n",
       "      <td>0.140</td>\n",
       "      <td>3.0</td>\n",
       "      <td>automatic</td>\n",
       "      <td>nc</td>\n",
       "      <td>nc</td>\n",
       "      <td>{'y': 38.7965012, 'spatialReference': {'wkid':...</td>\n",
       "    </tr>\n",
       "    <tr>\n",
       "      <th>4</th>\n",
       "      <td>2018-02-22T11:41:11.530Z</td>\n",
       "      <td>33.850833</td>\n",
       "      <td>-117.727167</td>\n",
       "      <td>10.81</td>\n",
       "      <td>0.88</td>\n",
       "      <td>ml</td>\n",
       "      <td>24.0</td>\n",
       "      <td>56.0</td>\n",
       "      <td>0.05635</td>\n",
       "      <td>0.17</td>\n",
       "      <td>...</td>\n",
       "      <td>9km ENE of Villa Park, CA</td>\n",
       "      <td>earthquake</td>\n",
       "      <td>0.31</td>\n",
       "      <td>0.68</td>\n",
       "      <td>0.199</td>\n",
       "      <td>19.0</td>\n",
       "      <td>automatic</td>\n",
       "      <td>ci</td>\n",
       "      <td>ci</td>\n",
       "      <td>{'y': 33.8508333, 'spatialReference': {'wkid':...</td>\n",
       "    </tr>\n",
       "  </tbody>\n",
       "</table>\n",
       "<p>5 rows × 23 columns</p>\n",
       "</div>"
      ],
      "text/plain": [
       "                       time   latitude   longitude  depth   mag magType   nst  \\\n",
       "0  2018-02-22T12:11:03.886Z  59.607900 -143.288500  11.90  2.10      ml   NaN   \n",
       "1  2018-02-22T12:01:47.650Z  19.385334 -155.239838   0.47  2.20      ml  33.0   \n",
       "2  2018-02-22T11:57:11.153Z  60.991000 -146.947300  20.10  1.50      ml   NaN   \n",
       "3  2018-02-22T11:46:05.860Z  38.796501 -122.764336   0.59  0.80      md   9.0   \n",
       "4  2018-02-22T11:41:11.530Z  33.850833 -117.727167  10.81  0.88      ml  24.0   \n",
       "\n",
       "     gap     dmin   rms                        ...                          \\\n",
       "0    NaN      NaN  0.98                        ...                           \n",
       "1   56.0  0.01083  0.24                        ...                           \n",
       "2    NaN      NaN  0.72                        ...                           \n",
       "3  112.0  0.02105  0.03                        ...                           \n",
       "4   56.0  0.05635  0.17                        ...                           \n",
       "\n",
       "                              place        type horizontalError depthError  \\\n",
       "0  70km SW of Cape Yakataga, Alaska  earthquake             NaN       1.30   \n",
       "1          5km S of Volcano, Hawaii  earthquake            0.30       0.21   \n",
       "2        35km WSW of Valdez, Alaska  earthquake             NaN       0.20   \n",
       "3        2km NNW of The Geysers, CA  earthquake            0.40       1.32   \n",
       "4         9km ENE of Villa Park, CA  earthquake            0.31       0.68   \n",
       "\n",
       "  magError  magNst     status  locationSource  magSource  \\\n",
       "0      NaN     NaN  automatic              ak         ak   \n",
       "1    0.200    11.0  automatic              hv         hv   \n",
       "2      NaN     NaN  automatic              ak         ak   \n",
       "3    0.140     3.0  automatic              nc         nc   \n",
       "4    0.199    19.0  automatic              ci         ci   \n",
       "\n",
       "                                               SHAPE  \n",
       "0  {'y': 59.6079, 'spatialReference': {'wkid': 43...  \n",
       "1  {'y': 19.385334, 'spatialReference': {'wkid': ...  \n",
       "2  {'y': 60.991, 'spatialReference': {'wkid': 432...  \n",
       "3  {'y': 38.7965012, 'spatialReference': {'wkid':...  \n",
       "4  {'y': 33.8508333, 'spatialReference': {'wkid':...  \n",
       "\n",
       "[5 rows x 23 columns]"
      ]
     },
     "execution_count": 45,
     "metadata": {},
     "output_type": "execute_result"
    }
   ],
   "source": [
    "sdf_eq = SpatialDataFrame(data=df, geometry=geoms)\n",
    "sdf_eq.head()"
   ]
  },
  {
   "cell_type": "markdown",
   "metadata": {
    "slideshow": {
     "slide_type": "subslide"
    }
   },
   "source": [
    "# The Spatial DataFrame\n",
    "\n",
    "## Simple Geometry Operations"
   ]
  },
  {
   "cell_type": "code",
   "execution_count": 46,
   "metadata": {
    "slideshow": {
     "slide_type": "subslide"
    }
   },
   "outputs": [
    {
     "data": {
      "text/plain": [
       "41.960568228439534"
      ]
     },
     "execution_count": 46,
     "metadata": {},
     "output_type": "execute_result"
    }
   ],
   "source": [
    "pt = sdf_eq.geometry[0]\n",
    "pt.distance_to(sdf_eq.geometry[1])"
   ]
  },
  {
   "cell_type": "markdown",
   "metadata": {
    "slideshow": {
     "slide_type": "subslide"
    }
   },
   "source": [
    "# The Spatial DataFrame\n",
    "\n",
    "## Importing Data\n",
    "\n",
    "- From Feature Layers"
   ]
  },
  {
   "cell_type": "code",
   "execution_count": 47,
   "metadata": {
    "slideshow": {
     "slide_type": "fragment"
    }
   },
   "outputs": [
    {
     "data": {
      "text/html": [
       "<div>\n",
       "<style scoped>\n",
       "    .dataframe tbody tr th:only-of-type {\n",
       "        vertical-align: middle;\n",
       "    }\n",
       "\n",
       "    .dataframe tbody tr th {\n",
       "        vertical-align: top;\n",
       "    }\n",
       "\n",
       "    .dataframe thead th {\n",
       "        text-align: right;\n",
       "    }\n",
       "</style>\n",
       "<table border=\"1\" class=\"dataframe\">\n",
       "  <thead>\n",
       "    <tr style=\"text-align: right;\">\n",
       "      <th></th>\n",
       "      <th>AGE_10_14</th>\n",
       "      <th>AGE_15_19</th>\n",
       "      <th>AGE_20_24</th>\n",
       "      <th>AGE_25_34</th>\n",
       "      <th>AGE_35_44</th>\n",
       "      <th>AGE_45_54</th>\n",
       "      <th>AGE_55_64</th>\n",
       "      <th>AGE_5_9</th>\n",
       "      <th>AGE_65_74</th>\n",
       "      <th>AGE_75_84</th>\n",
       "      <th>...</th>\n",
       "      <th>STATE_FIPS</th>\n",
       "      <th>STATE_NAME</th>\n",
       "      <th>SUB_REGION</th>\n",
       "      <th>Shape_Area</th>\n",
       "      <th>Shape_Leng</th>\n",
       "      <th>Shape__Area</th>\n",
       "      <th>Shape__Length</th>\n",
       "      <th>VACANT</th>\n",
       "      <th>WHITE</th>\n",
       "      <th>SHAPE</th>\n",
       "    </tr>\n",
       "  </thead>\n",
       "  <tbody>\n",
       "    <tr>\n",
       "      <th>0</th>\n",
       "      <td>81539</td>\n",
       "      <td>85994</td>\n",
       "      <td>95829</td>\n",
       "      <td>185333</td>\n",
       "      <td>176373</td>\n",
       "      <td>193765</td>\n",
       "      <td>175562</td>\n",
       "      <td>83361</td>\n",
       "      <td>100523</td>\n",
       "      <td>64377</td>\n",
       "      <td>...</td>\n",
       "      <td>15</td>\n",
       "      <td>Hawaii</td>\n",
       "      <td>Pacific</td>\n",
       "      <td>1.429289</td>\n",
       "      <td>11.952787</td>\n",
       "      <td>1.888067e+10</td>\n",
       "      <td>1.370185e+06</td>\n",
       "      <td>64170</td>\n",
       "      <td>336599</td>\n",
       "      <td>{'spatialReference': {'wkid': 102100, 'latestW...</td>\n",
       "    </tr>\n",
       "    <tr>\n",
       "      <th>1</th>\n",
       "      <td>438233</td>\n",
       "      <td>462128</td>\n",
       "      <td>461512</td>\n",
       "      <td>933781</td>\n",
       "      <td>908305</td>\n",
       "      <td>988205</td>\n",
       "      <td>835165</td>\n",
       "      <td>429877</td>\n",
       "      <td>457220</td>\n",
       "      <td>253186</td>\n",
       "      <td>...</td>\n",
       "      <td>53</td>\n",
       "      <td>Washington</td>\n",
       "      <td>Pacific</td>\n",
       "      <td>20.750758</td>\n",
       "      <td>34.956857</td>\n",
       "      <td>3.798855e+11</td>\n",
       "      <td>4.578373e+06</td>\n",
       "      <td>265601</td>\n",
       "      <td>5196362</td>\n",
       "      <td>{'spatialReference': {'wkid': 102100, 'latestW...</td>\n",
       "    </tr>\n",
       "    <tr>\n",
       "      <th>2</th>\n",
       "      <td>116955</td>\n",
       "      <td>115359</td>\n",
       "      <td>108209</td>\n",
       "      <td>208965</td>\n",
       "      <td>191609</td>\n",
       "      <td>208537</td>\n",
       "      <td>180313</td>\n",
       "      <td>121195</td>\n",
       "      <td>109534</td>\n",
       "      <td>59892</td>\n",
       "      <td>...</td>\n",
       "      <td>16</td>\n",
       "      <td>Idaho</td>\n",
       "      <td>Mountain</td>\n",
       "      <td>24.391595</td>\n",
       "      <td>28.529673</td>\n",
       "      <td>4.235214e+11</td>\n",
       "      <td>3.858889e+06</td>\n",
       "      <td>88388</td>\n",
       "      <td>1396487</td>\n",
       "      <td>{'spatialReference': {'wkid': 102100, 'latestW...</td>\n",
       "    </tr>\n",
       "    <tr>\n",
       "      <th>3</th>\n",
       "      <td>242553</td>\n",
       "      <td>254860</td>\n",
       "      <td>253048</td>\n",
       "      <td>524144</td>\n",
       "      <td>499525</td>\n",
       "      <td>539075</td>\n",
       "      <td>509566</td>\n",
       "      <td>237214</td>\n",
       "      <td>290041</td>\n",
       "      <td>165620</td>\n",
       "      <td>...</td>\n",
       "      <td>41</td>\n",
       "      <td>Oregon</td>\n",
       "      <td>Pacific</td>\n",
       "      <td>28.187789</td>\n",
       "      <td>24.787249</td>\n",
       "      <td>4.853035e+11</td>\n",
       "      <td>3.152829e+06</td>\n",
       "      <td>156624</td>\n",
       "      <td>3204614</td>\n",
       "      <td>{'spatialReference': {'wkid': 102100, 'latestW...</td>\n",
       "    </tr>\n",
       "    <tr>\n",
       "      <th>4</th>\n",
       "      <td>183173</td>\n",
       "      <td>182600</td>\n",
       "      <td>177509</td>\n",
       "      <td>387286</td>\n",
       "      <td>383043</td>\n",
       "      <td>376527</td>\n",
       "      <td>315499</td>\n",
       "      <td>183077</td>\n",
       "      <td>197781</td>\n",
       "      <td>96391</td>\n",
       "      <td>...</td>\n",
       "      <td>32</td>\n",
       "      <td>Nevada</td>\n",
       "      <td>Mountain</td>\n",
       "      <td>29.969925</td>\n",
       "      <td>23.608734</td>\n",
       "      <td>4.807101e+11</td>\n",
       "      <td>3.025639e+06</td>\n",
       "      <td>167564</td>\n",
       "      <td>1786688</td>\n",
       "      <td>{'spatialReference': {'wkid': 102100, 'latestW...</td>\n",
       "    </tr>\n",
       "  </tbody>\n",
       "</table>\n",
       "<p>5 rows × 58 columns</p>\n",
       "</div>"
      ],
      "text/plain": [
       "   AGE_10_14  AGE_15_19  AGE_20_24  AGE_25_34  AGE_35_44  AGE_45_54  \\\n",
       "0      81539      85994      95829     185333     176373     193765   \n",
       "1     438233     462128     461512     933781     908305     988205   \n",
       "2     116955     115359     108209     208965     191609     208537   \n",
       "3     242553     254860     253048     524144     499525     539075   \n",
       "4     183173     182600     177509     387286     383043     376527   \n",
       "\n",
       "   AGE_55_64  AGE_5_9  AGE_65_74  AGE_75_84  \\\n",
       "0     175562    83361     100523      64377   \n",
       "1     835165   429877     457220     253186   \n",
       "2     180313   121195     109534      59892   \n",
       "3     509566   237214     290041     165620   \n",
       "4     315499   183077     197781      96391   \n",
       "\n",
       "                         ...                          STATE_FIPS  STATE_NAME  \\\n",
       "0                        ...                                  15      Hawaii   \n",
       "1                        ...                                  53  Washington   \n",
       "2                        ...                                  16       Idaho   \n",
       "3                        ...                                  41      Oregon   \n",
       "4                        ...                                  32      Nevada   \n",
       "\n",
       "   SUB_REGION  Shape_Area  Shape_Leng   Shape__Area  Shape__Length  VACANT  \\\n",
       "0     Pacific    1.429289   11.952787  1.888067e+10   1.370185e+06   64170   \n",
       "1     Pacific   20.750758   34.956857  3.798855e+11   4.578373e+06  265601   \n",
       "2    Mountain   24.391595   28.529673  4.235214e+11   3.858889e+06   88388   \n",
       "3     Pacific   28.187789   24.787249  4.853035e+11   3.152829e+06  156624   \n",
       "4    Mountain   29.969925   23.608734  4.807101e+11   3.025639e+06  167564   \n",
       "\n",
       "     WHITE                                              SHAPE  \n",
       "0   336599  {'spatialReference': {'wkid': 102100, 'latestW...  \n",
       "1  5196362  {'spatialReference': {'wkid': 102100, 'latestW...  \n",
       "2  1396487  {'spatialReference': {'wkid': 102100, 'latestW...  \n",
       "3  3204614  {'spatialReference': {'wkid': 102100, 'latestW...  \n",
       "4  1786688  {'spatialReference': {'wkid': 102100, 'latestW...  \n",
       "\n",
       "[5 rows x 58 columns]"
      ]
     },
     "execution_count": 47,
     "metadata": {},
     "output_type": "execute_result"
    }
   ],
   "source": [
    "query = pub_item.layers[0].query()\n",
    "sdf = query.df\n",
    "sdf.head()"
   ]
  },
  {
   "cell_type": "markdown",
   "metadata": {
    "slideshow": {
     "slide_type": "subslide"
    }
   },
   "source": [
    "# The Spatial DataFrame\n",
    "\n",
    "## Importing Data\n",
    "\n",
    "- From Feature Classes"
   ]
  },
  {
   "cell_type": "code",
   "execution_count": 48,
   "metadata": {
    "slideshow": {
     "slide_type": "fragment"
    }
   },
   "outputs": [
    {
     "data": {
      "text/html": [
       "<div>\n",
       "<style scoped>\n",
       "    .dataframe tbody tr th:only-of-type {\n",
       "        vertical-align: middle;\n",
       "    }\n",
       "\n",
       "    .dataframe tbody tr th {\n",
       "        vertical-align: top;\n",
       "    }\n",
       "\n",
       "    .dataframe thead th {\n",
       "        text-align: right;\n",
       "    }\n",
       "</style>\n",
       "<table border=\"1\" class=\"dataframe\">\n",
       "  <thead>\n",
       "    <tr style=\"text-align: right;\">\n",
       "      <th></th>\n",
       "      <th>OID</th>\n",
       "      <th>PageName</th>\n",
       "      <th>PageNumber</th>\n",
       "      <th>SHAPE</th>\n",
       "    </tr>\n",
       "  </thead>\n",
       "  <tbody>\n",
       "    <tr>\n",
       "      <th>0</th>\n",
       "      <td>149</td>\n",
       "      <td>A149</td>\n",
       "      <td>1</td>\n",
       "      <td>{'rings': [[[-156.79724118327778, 71.314822194...</td>\n",
       "    </tr>\n",
       "    <tr>\n",
       "      <th>1</th>\n",
       "      <td>150</td>\n",
       "      <td>A150</td>\n",
       "      <td>2</td>\n",
       "      <td>{'rings': [[[-156.65250903992157, 71.314822194...</td>\n",
       "    </tr>\n",
       "    <tr>\n",
       "      <th>2</th>\n",
       "      <td>151</td>\n",
       "      <td>A151</td>\n",
       "      <td>3</td>\n",
       "      <td>{'rings': [[[-156.50777689656536, 71.314822194...</td>\n",
       "    </tr>\n",
       "    <tr>\n",
       "      <th>3</th>\n",
       "      <td>916</td>\n",
       "      <td>B147</td>\n",
       "      <td>4</td>\n",
       "      <td>{'rings': [[[-157.08670546999022, 71.170090051...</td>\n",
       "    </tr>\n",
       "    <tr>\n",
       "      <th>4</th>\n",
       "      <td>917</td>\n",
       "      <td>B148</td>\n",
       "      <td>5</td>\n",
       "      <td>{'rings': [[[-156.941973326634, 71.17009005159...</td>\n",
       "    </tr>\n",
       "  </tbody>\n",
       "</table>\n",
       "</div>"
      ],
      "text/plain": [
       "   OID PageName  PageNumber                                              SHAPE\n",
       "0  149     A149           1  {'rings': [[[-156.79724118327778, 71.314822194...\n",
       "1  150     A150           2  {'rings': [[[-156.65250903992157, 71.314822194...\n",
       "2  151     A151           3  {'rings': [[[-156.50777689656536, 71.314822194...\n",
       "3  916     B147           4  {'rings': [[[-157.08670546999022, 71.170090051...\n",
       "4  917     B148           5  {'rings': [[[-156.941973326634, 71.17009005159..."
      ]
     },
     "execution_count": 48,
     "metadata": {},
     "output_type": "execute_result"
    }
   ],
   "source": [
    "sdf_grid = SpatialDataFrame.from_featureclass(r\"./data/survey.gdb/grid\")\n",
    "sdf_grid.head()"
   ]
  },
  {
   "cell_type": "markdown",
   "metadata": {
    "slideshow": {
     "slide_type": "subslide"
    }
   },
   "source": [
    "# The Spatial DataFrame\n",
    "\n",
    "## Exporting Data\n",
    "\n",
    "- To Feature Class"
   ]
  },
  {
   "cell_type": "code",
   "execution_count": 49,
   "metadata": {
    "slideshow": {
     "slide_type": "fragment"
    }
   },
   "outputs": [
    {
     "name": "stderr",
     "output_type": "stream",
     "text": [
      "C:\\Program Files\\ArcGIS\\Pro\\Resources\\ArcPy\\arcpy\\geoprocessing\\_base.py:504: FutureWarning: elementwise == comparison failed and returning scalar instead; this will raise an error or perform elementwise comparison in the future.\n",
      "  val = getattr(self._gp, attr)\n"
     ]
    },
    {
     "name": "stdout",
     "output_type": "stream",
     "text": [
      "c:\\temp\\scratch.gdb\\sg2\n"
     ]
    }
   ],
   "source": [
    "fc = sdf_grid.to_featureclass(out_location=r\"c:\\temp\\scratch.gdb\",\n",
    "                              out_name=\"sg2\", \n",
    "                              overwrite=True)\n",
    "print(fc)\n",
    "                        "
   ]
  },
  {
   "cell_type": "markdown",
   "metadata": {
    "slideshow": {
     "slide_type": "subslide"
    }
   },
   "source": [
    "# The Spatial DataFrame\n",
    "\n",
    "## Exporting Data\n",
    "\n",
    "- To Feature Layer"
   ]
  },
  {
   "cell_type": "code",
   "execution_count": 50,
   "metadata": {
    "slideshow": {
     "slide_type": "fragment"
    }
   },
   "outputs": [
    {
     "data": {
      "text/html": [
       "<div class=\"item_container\" style=\"height: auto; overflow: hidden; border: 1px solid #cfcfcf; border-radius: 2px; background: #f6fafa; line-height: 1.21429em; padding: 10px;\">\n",
       "                    <div class=\"item_left\" style=\"width: 210px; float: left;\">\n",
       "                       <a href='https://arcgissolutions.maps.arcgis.com/home/item.html?id=b94a55d1ec3f40ad8cb89db4cf78bfae' target='_blank'>\n",
       "                        <img src='http://static.arcgis.com/images/desktopapp.png' class=\"itemThumbnail\">\n",
       "                       </a>\n",
       "                    </div>\n",
       "\n",
       "                    <div class=\"item_right\"     style=\"float: none; width: auto; overflow: hidden;\">\n",
       "                        <a href='https://arcgissolutions.maps.arcgis.com/home/item.html?id=b94a55d1ec3f40ad8cb89db4cf78bfae' target='_blank'><b>usgrids</b>\n",
       "                        </a>\n",
       "                        <br/><img src='https://arcgissolutions.maps.arcgis.com/home/js/jsapi/esri/css/images/item_type_icons/featureshosted16.png' style=\"vertical-align:middle;\">Feature Layer Collection by AndrewSolutions\n",
       "                        <br/>Last Modified: March 02, 2018\n",
       "                        <br/>0 comments, 0 views\n",
       "                    </div>\n",
       "                </div>\n",
       "                "
      ],
      "text/plain": [
       "<Item title:\"usgrids\" type:Feature Layer Collection owner:AndrewSolutions>"
      ]
     },
     "execution_count": 50,
     "metadata": {},
     "output_type": "execute_result"
    }
   ],
   "source": [
    "usgrid_item = gis.content.import_data(df=sdf, \n",
    "                               title=\"usgrids\", \n",
    "                               tags=['survery', 'usa'])\n",
    "usgrid_item"
   ]
  },
  {
   "cell_type": "code",
   "execution_count": 51,
   "metadata": {
    "slideshow": {
     "slide_type": "skip"
    }
   },
   "outputs": [
    {
     "data": {
      "text/plain": [
       "True"
      ]
     },
     "execution_count": 51,
     "metadata": {},
     "output_type": "execute_result"
    }
   ],
   "source": [
    "## Clean up code do not show!\n",
    "item2del = usgrid_item.related_items('Service2Data', 'forward')[0]\n",
    "usgrid_item.delete()\n",
    "pub_item.delete()\n",
    "item2del.delete()"
   ]
  },
  {
   "cell_type": "markdown",
   "metadata": {
    "slideshow": {
     "slide_type": "subslide"
    }
   },
   "source": [
    "# The Spatial DataFrame\n",
    "\n",
    "## Visualization\n",
    "\n",
    "- matplotlib like syntax"
   ]
  },
  {
   "cell_type": "code",
   "execution_count": 52,
   "metadata": {
    "slideshow": {
     "slide_type": "subslide"
    }
   },
   "outputs": [
    {
     "data": {
      "application/vnd.jupyter.widget-view+json": {
       "model_id": "e73be235a30b4c639390e5b4f243aedc"
      }
     },
     "metadata": {},
     "output_type": "display_data"
    }
   ],
   "source": [
    "city_item = gis.content.get(\"85d0ca4ea1ca4b9abf0c51b9bd34de2e\")\n",
    "m = gis.map('California')\n",
    "m"
   ]
  },
  {
   "cell_type": "code",
   "execution_count": 53,
   "metadata": {
    "collapsed": true,
    "slideshow": {
     "slide_type": "skip"
    }
   },
   "outputs": [],
   "source": [
    "sdf = city_item.layers[0].query().df"
   ]
  },
  {
   "cell_type": "code",
   "execution_count": 54,
   "metadata": {
    "slideshow": {
     "slide_type": "fragment"
    }
   },
   "outputs": [
    {
     "data": {
      "text/plain": [
       "True"
      ]
     },
     "execution_count": 54,
     "metadata": {},
     "output_type": "execute_result"
    }
   ],
   "source": [
    "sdf.plot(kind='map', map_widget=m)   "
   ]
  },
  {
   "cell_type": "markdown",
   "metadata": {
    "slideshow": {
     "slide_type": "subslide"
    }
   },
   "source": [
    "# The Spatial DataFrame\n",
    "\n",
    "## Visualizing Color Maps"
   ]
  },
  {
   "cell_type": "code",
   "execution_count": 55,
   "metadata": {
    "collapsed": true,
    "slideshow": {
     "slide_type": "fragment"
    }
   },
   "outputs": [],
   "source": [
    "from arcgis.mapping import display_colormaps\n",
    "from arcgis.mapping import generate_renderer\n",
    "from arcgis.mapping import create_symbol\n",
    "from arcgis.mapping import show_styles"
   ]
  },
  {
   "cell_type": "code",
   "execution_count": 56,
   "metadata": {
    "slideshow": {
     "slide_type": "subslide"
    }
   },
   "outputs": [
    {
     "data": {
      "image/png": "[encoded data removed]",
      "text/plain": [
       "<matplotlib.figure.Figure at 0x21d551a6ba8>"
      ]
     },
     "metadata": {},
     "output_type": "display_data"
    }
   ],
   "source": [
    "display_colormaps()"
   ]
  },
  {
   "cell_type": "markdown",
   "metadata": {
    "slideshow": {
     "slide_type": "subslide"
    }
   },
   "source": [
    "## Query Color Map Searching"
   ]
  },
  {
   "cell_type": "code",
   "execution_count": 57,
   "metadata": {
    "slideshow": {
     "slide_type": "fragment"
    }
   },
   "outputs": [
    {
     "data": {
      "image/png": "[encoded data removed]",
      "text/plain": [
       "<matplotlib.figure.Figure at 0x21d53f4ab38>"
      ]
     },
     "metadata": {},
     "output_type": "display_data"
    }
   ],
   "source": [
    "display_colormaps(['Dark2', 'Set3_r'])"
   ]
  },
  {
   "cell_type": "markdown",
   "metadata": {
    "slideshow": {
     "slide_type": "subslide"
    }
   },
   "source": [
    "### Supported Renderers\n",
    "\n",
    "+ Class Breaks - renders on numeric data\n",
    "+ Heatmap - renders point data into raster visualization\n",
    "+ Simple - renders using a symbol only\n",
    "+ Temporal - provide time-based rendering of features in a feature layer\n",
    "+ Unique - renders on one or more string attributes\n",
    "+ Vector - renderer that uses symbolizes a U-V or Magnitude-Direction data\n",
    "+ Predominance - special type of unique value renderer based off of arcade expressions\n",
    "\n",
    "### Using Renderers\n",
    "\n",
    "Renders are generated when a plot method is called off of the SpatialDataFrame."
   ]
  },
  {
   "cell_type": "code",
   "execution_count": 58,
   "metadata": {
    "slideshow": {
     "slide_type": "subslide"
    }
   },
   "outputs": [
    {
     "data": {
      "application/vnd.jupyter.widget-view+json": {
       "model_id": "a44ba22794fe45e39e203b929b20b904"
      }
     },
     "metadata": {},
     "output_type": "display_data"
    }
   ],
   "source": [
    "m = gis.map('California')\n",
    "m"
   ]
  },
  {
   "cell_type": "code",
   "execution_count": 59,
   "metadata": {
    "slideshow": {
     "slide_type": "fragment"
    }
   },
   "outputs": [
    {
     "data": {
      "text/plain": [
       "True"
      ]
     },
     "execution_count": 59,
     "metadata": {},
     "output_type": "execute_result"
    }
   ],
   "source": [
    "sdf.plot(kind='map', map_widget=m,\n",
    "         renderer_type='s', symbol_style='d',\n",
    "         marker_size=10,alpha=.5,\n",
    "         colors='Spectral_r')"
   ]
  },
  {
   "cell_type": "code",
   "execution_count": 60,
   "metadata": {
    "slideshow": {
     "slide_type": "fragment"
    }
   },
   "outputs": [
    {
     "data": {
      "text/plain": [
       "True"
      ]
     },
     "execution_count": 60,
     "metadata": {},
     "output_type": "execute_result"
    }
   ],
   "source": [
    "sdf.plot(kind='map', map_widget=m, renderer_type='h', \n",
    "     blue_radius=5, field='FHH_CHILD', alpha=.75)"
   ]
  },
  {
   "cell_type": "markdown",
   "metadata": {
    "slideshow": {
     "slide_type": "subslide"
    }
   },
   "source": [
    "# Application of Spatial Dataframe\n",
    "\n",
    "## How do we compare two data street networks of the same city from different sources?"
   ]
  },
  {
   "cell_type": "markdown",
   "metadata": {
    "slideshow": {
     "slide_type": "fragment"
    }
   },
   "source": [
    "- Visually examine data\n",
    "    + Scale dependant, no metric\n",
    "- Geoprocessing and look for fragments\n",
    "- Quantitative way of analysis"
   ]
  },
  {
   "cell_type": "markdown",
   "metadata": {
    "slideshow": {
     "slide_type": "subslide"
    }
   },
   "source": [
    "# Application of Spatial Dataframe\n",
    "\n",
    "## Challenges:"
   ]
  },
  {
   "cell_type": "markdown",
   "metadata": {
    "slideshow": {
     "slide_type": "subslide"
    }
   },
   "source": [
    "- OID do not match"
   ]
  },
  {
   "cell_type": "markdown",
   "metadata": {
    "slideshow": {
     "slide_type": "subslide"
    }
   },
   "source": [
    "- Projection issues"
   ]
  },
  {
   "cell_type": "markdown",
   "metadata": {
    "slideshow": {
     "slide_type": "subslide"
    }
   },
   "source": [
    "- Non-uniform tabular data"
   ]
  },
  {
   "cell_type": "markdown",
   "metadata": {
    "slideshow": {
     "slide_type": "subslide"
    }
   },
   "source": [
    "# Application of Spatial Dataframe\n",
    "\n",
    "## Geometric Solution: Frechet Distance \n",
    "\n",
    "- find the largest distance between the man and its dog as they walk along their respective path; finally, keep the smallest distance found among these maximum distances.\n",
    "\n",
    "<center><img src='./img/Frechet_1.png' width=50%/></center>"
   ]
  },
  {
   "cell_type": "markdown",
   "metadata": {
    "slideshow": {
     "slide_type": "subslide"
    }
   },
   "source": [
    "<center> <img src='./img/frechet_time_complexity.png'/></center>"
   ]
  },
  {
   "cell_type": "markdown",
   "metadata": {
    "slideshow": {
     "slide_type": "subslide"
    }
   },
   "source": [
    "# Implementation of Frechet Distance\n",
    "<center><img src='./img/distance.jpg' /></center>"
   ]
  },
  {
   "cell_type": "code",
   "execution_count": 9,
   "metadata": {
    "collapsed": true,
    "slideshow": {
     "slide_type": "fragment"
    }
   },
   "outputs": [],
   "source": [
    "import math\n",
    "import numpy as np\n",
    "\n",
    "def distance(p1, p2):\n",
    "    x1,y1 = p1\n",
    "    x2,y2 = p2\n",
    "    return math.sqrt(math.pow(x2-x1, 2) + math.pow(y2-y1, 2))"
   ]
  },
  {
   "cell_type": "code",
   "execution_count": 10,
   "metadata": {
    "collapsed": true,
    "slideshow": {
     "slide_type": "subslide"
    }
   },
   "outputs": [],
   "source": [
    "def _c(ca,i,j,P,Q):\n",
    "    \"\"\"\n",
    "    Algorithm Implementation\n",
    "    Adapted from: http://www.kr.tuwien.ac.at/staff/eiter/et-archive/cdtr9464.pdf\n",
    "    \"\"\"\n",
    "    if ca[i,j] > -1:\n",
    "        return ca[i,j]\n",
    "    elif i == 0 and j == 0:\n",
    "        ca[i,j] = distance(P[0],Q[0])\n",
    "    elif i > 0 and j == 0:\n",
    "        ca[i,j] = max(_c(ca,i-1,0,P,Q),distance(P[i],Q[0]))\n",
    "    elif i == 0 and j > 0:\n",
    "        ca[i,j] = max(_c(ca,0,j-1,P,Q),distance(P[0],Q[j]))\n",
    "    elif i > 0 and j > 0:\n",
    "        ca[i,j] = max(min(_c(ca,i-1,j,P,Q),_c(ca,i-1,j-1,P,Q),_c(ca,i,j-1,P,Q)),distance(P[i],Q[j]))\n",
    "    else:\n",
    "        ca[i,j] = float(\"inf\")\n",
    "    return ca[i,j]"
   ]
  },
  {
   "cell_type": "code",
   "execution_count": 11,
   "metadata": {
    "collapsed": true,
    "slideshow": {
     "slide_type": "fragment"
    }
   },
   "outputs": [],
   "source": [
    "def frechet(P,Q):\n",
    "    \"\"\"\n",
    "    Computes the discrete frechet distance between two polylines or polygons (closed)\n",
    "    :P: array of X/Y coordinates\n",
    "    :Q: array of X/Y coordinates\n",
    "    \n",
    "    returns: float\n",
    "    \"\"\"\n",
    "    ca = np.ones((len(P),len(Q)))\n",
    "    ca = np.multiply(ca,-1)\n",
    "    return _c(ca,len(P)-1,len(Q)-1,P,Q)\n"
   ]
  },
  {
   "cell_type": "code",
   "execution_count": null,
   "metadata": {
    "collapsed": true,
    "slideshow": {
     "slide_type": "subslide"
    }
   },
   "outputs": [],
   "source": [
    "fc_new = r\".\\data\\comparable_dataset.gdb\\small_after_wm\"\n",
    "fc_old = r\".\\data\\comparable_dataset.gdb\\small_before_wm\" \n",
    "sdf_new = SpatialDataFrame.from_featureclass(fc_new)\n",
    "sdf_old = SpatialDataFrame.from_featureclass(fc_old)\n",
    "s_old = sdf_old.sindex"
   ]
  },
  {
   "cell_type": "code",
   "execution_count": 23,
   "metadata": {
    "slideshow": {
     "slide_type": "subslide"
    }
   },
   "outputs": [
    {
     "data": {
      "application/vnd.jupyter.widget-view+json": {
       "model_id": "56c6bf71a7e440a988d1451778ccc99b"
      }
     },
     "metadata": {},
     "output_type": "display_data"
    }
   ],
   "source": [
    "m = gis.map('VIENTIANE')\n",
    "m"
   ]
  },
  {
   "cell_type": "code",
   "execution_count": 26,
   "metadata": {
    "slideshow": {
     "slide_type": "fragment"
    }
   },
   "outputs": [
    {
     "data": {
      "text/plain": [
       "True"
      ]
     },
     "execution_count": 26,
     "metadata": {},
     "output_type": "execute_result"
    }
   ],
   "source": [
    "sdf_new.plot(kind='map', map_widget=m, pallette=\"Reds_r\")\n",
    "sdf_old.plot(kind='map', map_widget=m, pallette='Greens_r')"
   ]
  },
  {
   "cell_type": "code",
   "execution_count": 13,
   "metadata": {
    "collapsed": true,
    "slideshow": {
     "slide_type": "skip"
    }
   },
   "outputs": [],
   "source": [
    "sdf_new.sr\n",
    "import pandas as pd"
   ]
  },
  {
   "cell_type": "code",
   "execution_count": 14,
   "metadata": {
    "collapsed": true,
    "slideshow": {
     "slide_type": "subslide"
    }
   },
   "outputs": [],
   "source": [
    "\n",
    "results = []\n",
    "\n",
    "for pidx, g in enumerate(sdf_new.geometry):\n",
    "    \n",
    "    indexes = s_old.intersect([g.extent.XMin, g.extent.YMin, g.extent.XMax, g.extent.YMax])\n",
    "    for idx in indexes:\n",
    "        g_compare = sdf_old.iloc[idx]['SHAPE']['paths'][0]\n",
    "        f = frechet(g['paths'][0], \n",
    "                    g_compare)\n",
    "        results.append([pidx, idx, f])"
   ]
  },
  {
   "cell_type": "code",
   "execution_count": 19,
   "metadata": {
    "slideshow": {
     "slide_type": "subslide"
    }
   },
   "outputs": [
    {
     "data": {
      "text/html": [
       "<div>\n",
       "<style scoped>\n",
       "    .dataframe tbody tr th:only-of-type {\n",
       "        vertical-align: middle;\n",
       "    }\n",
       "\n",
       "    .dataframe tbody tr th {\n",
       "        vertical-align: top;\n",
       "    }\n",
       "\n",
       "    .dataframe thead th {\n",
       "        text-align: right;\n",
       "    }\n",
       "</style>\n",
       "<table border=\"1\" class=\"dataframe\">\n",
       "  <thead>\n",
       "    <tr style=\"text-align: right;\">\n",
       "      <th></th>\n",
       "      <th>SourceID</th>\n",
       "      <th>ComparedID</th>\n",
       "      <th>Distance</th>\n",
       "    </tr>\n",
       "  </thead>\n",
       "  <tbody>\n",
       "    <tr>\n",
       "      <th>1</th>\n",
       "      <td>1</td>\n",
       "      <td>13</td>\n",
       "      <td>8.043706</td>\n",
       "    </tr>\n",
       "    <tr>\n",
       "      <th>3</th>\n",
       "      <td>3</td>\n",
       "      <td>16</td>\n",
       "      <td>62.477290</td>\n",
       "    </tr>\n",
       "    <tr>\n",
       "      <th>5</th>\n",
       "      <td>5</td>\n",
       "      <td>12</td>\n",
       "      <td>71.249192</td>\n",
       "    </tr>\n",
       "    <tr>\n",
       "      <th>6</th>\n",
       "      <td>6</td>\n",
       "      <td>13</td>\n",
       "      <td>44.039078</td>\n",
       "    </tr>\n",
       "    <tr>\n",
       "      <th>7</th>\n",
       "      <td>7</td>\n",
       "      <td>12</td>\n",
       "      <td>85.265060</td>\n",
       "    </tr>\n",
       "    <tr>\n",
       "      <th>9</th>\n",
       "      <td>9</td>\n",
       "      <td>12</td>\n",
       "      <td>217.239597</td>\n",
       "    </tr>\n",
       "    <tr>\n",
       "      <th>13</th>\n",
       "      <td>13</td>\n",
       "      <td>19</td>\n",
       "      <td>2.727003</td>\n",
       "    </tr>\n",
       "    <tr>\n",
       "      <th>18</th>\n",
       "      <td>18</td>\n",
       "      <td>7</td>\n",
       "      <td>29.389553</td>\n",
       "    </tr>\n",
       "    <tr>\n",
       "      <th>21</th>\n",
       "      <td>21</td>\n",
       "      <td>23</td>\n",
       "      <td>7.262502</td>\n",
       "    </tr>\n",
       "    <tr>\n",
       "      <th>22</th>\n",
       "      <td>22</td>\n",
       "      <td>23</td>\n",
       "      <td>370.908832</td>\n",
       "    </tr>\n",
       "  </tbody>\n",
       "</table>\n",
       "</div>"
      ],
      "text/plain": [
       "    SourceID  ComparedID    Distance\n",
       "1          1          13    8.043706\n",
       "3          3          16   62.477290\n",
       "5          5          12   71.249192\n",
       "6          6          13   44.039078\n",
       "7          7          12   85.265060\n",
       "9          9          12  217.239597\n",
       "13        13          19    2.727003\n",
       "18        18           7   29.389553\n",
       "21        21          23    7.262502\n",
       "22        22          23  370.908832"
      ]
     },
     "execution_count": 19,
     "metadata": {},
     "output_type": "execute_result"
    }
   ],
   "source": [
    "df = pd.DataFrame(data=results, columns=['SourceID', 'ComparedID', 'Distance'])\n",
    "gb = df.groupby('SourceID').min()\n",
    "df = gb.reset_index(drop=False)\n",
    "q = df['Distance']>0\n",
    "df = df[q].copy()\n",
    "df.head(10)"
   ]
  },
  {
   "cell_type": "code",
   "execution_count": 16,
   "metadata": {
    "collapsed": true,
    "slideshow": {
     "slide_type": "fragment"
    }
   },
   "outputs": [],
   "source": [
    "old_w_dist = sdf_old.join(df.set_index('ComparedID'))\n",
    "old_w_dist.reset_index(inplace=True, drop=True)\n",
    "del old_w_dist['OBJECTID']"
   ]
  },
  {
   "cell_type": "code",
   "execution_count": 17,
   "metadata": {
    "slideshow": {
     "slide_type": "subslide"
    }
   },
   "outputs": [
    {
     "data": {
      "application/vnd.jupyter.widget-view+json": {
       "model_id": "c916f5f869a149a5865cef49b304b70e"
      }
     },
     "metadata": {},
     "output_type": "display_data"
    }
   ],
   "source": [
    "m = gis.map('VIENTIANE')\n",
    "m"
   ]
  },
  {
   "cell_type": "code",
   "execution_count": 18,
   "metadata": {
    "slideshow": {
     "slide_type": "fragment"
    }
   },
   "outputs": [
    {
     "data": {
      "text/plain": [
       "True"
      ]
     },
     "execution_count": 18,
     "metadata": {},
     "output_type": "execute_result"
    }
   ],
   "source": [
    "m.basemap = 'dark-gray-vector'\n",
    "sdf_new.plot(kind='map', map_widget=m, line_width=1.25, pallette='Blues_r')\n",
    "old_w_dist[old_w_dist['Distance'].notnull()].copy().plot(\n",
    "    kind='map', map_widget=m, pallette='Reds_r', cstep=150)"
   ]
  },
  {
   "cell_type": "markdown",
   "metadata": {
    "slideshow": {
     "slide_type": "slide"
    }
   },
   "source": [
    "# GeoAnalytics"
   ]
  },
  {
   "cell_type": "markdown",
   "metadata": {
    "slideshow": {
     "slide_type": "slide"
    }
   },
   "source": [
    "# Raster Analysis"
   ]
  },
  {
   "cell_type": "markdown",
   "metadata": {
    "slideshow": {
     "slide_type": "slide"
    }
   },
   "source": [
    "# Questions?"
   ]
  },
  {
   "cell_type": "markdown",
   "metadata": {
    "slideshow": {
     "slide_type": "slide"
    }
   },
   "source": [
    "<center><img src='./img/survey.JPG'/></center>"
   ]
  },
  {
   "cell_type": "markdown",
   "metadata": {
    "slideshow": {
     "slide_type": "slide"
    }
   },
   "source": [
    "<center><img src='./img/lastslide.JPG'></center>"
   ]
  }
 ],
 "metadata": {
  "celltoolbar": "Slideshow",
  "kernelspec": {
   "display_name": "Python 3",
   "language": "python",
   "name": "python3"
  },
  "language_info": {
   "codemirror_mode": {
    "name": "ipython",
    "version": 3
   },
   "file_extension": ".py",
   "mimetype": "text/x-python",
   "name": "python",
   "nbconvert_exporter": "python",
   "pygments_lexer": "ipython3",
   "version": "3.6.1"
  }
 },
 "nbformat": 4,
 "nbformat_minor": 2
}
