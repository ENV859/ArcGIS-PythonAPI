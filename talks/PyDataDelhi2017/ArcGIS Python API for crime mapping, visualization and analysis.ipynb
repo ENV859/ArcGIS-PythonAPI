{
 "cells": [
  {
   "cell_type": "markdown",
   "metadata": {
    "deletable": true,
    "editable": true
   },
   "source": [
    "# Crime mapping, visualization and predictive analysis"
   ]
  },
  {
   "cell_type": "markdown",
   "metadata": {
    "deletable": true,
    "editable": true
   },
   "source": [
    "# Data Preparation"
   ]
  },
  {
   "cell_type": "markdown",
   "metadata": {
    "deletable": true,
    "editable": true
   },
   "source": [
    "The Hoston Police department shares historical crime statistics at http://www.houstontx.gov/police/cs/crime-stats-archives.htm that we'll be using for our analysis.\n",
    "<img src=\"images/hpd.png\" width=\"750\"/>"
   ]
  },
  {
   "cell_type": "markdown",
   "metadata": {
    "deletable": true,
    "editable": true
   },
   "source": [
    "## Fetch data"
   ]
  },
  {
   "cell_type": "code",
   "execution_count": null,
   "metadata": {
    "collapsed": true,
    "deletable": true,
    "editable": true,
    "scrolled": true
   },
   "outputs": [],
   "source": [
    "import pandas as pd\n",
    "import calendar\n",
    "\n",
    "combined_df = pd.DataFrame()\n",
    "\n",
    "for year in range(10, 17):\n",
    "    for month in range(1, 13):\n",
    "        url = 'http://www.houstontx.gov/police/cs/xls/{0}{1}.xls'.format(calendar.month_name[month].lower()[:3], year)\n",
    "        df = pd.read_excel(url)\n",
    "        combined_df = combined_df.append(df, ignore_index=True)"
   ]
  },
  {
   "cell_type": "code",
   "execution_count": null,
   "metadata": {
    "code_folding": [],
    "collapsed": true,
    "deletable": true,
    "editable": true
   },
   "outputs": [],
   "source": [
    "# archive the data so we don't need to re-fetch it:\n",
    "combined_df.to_csv(r'C:\\xc\\Presentations\\Demos\\Houston\\crime_df.csv', index=False)"
   ]
  },
  {
   "cell_type": "markdown",
   "metadata": {
    "deletable": true,
    "editable": true
   },
   "source": [
    "## Data cleanup"
   ]
  },
  {
   "cell_type": "code",
   "execution_count": 25,
   "metadata": {
    "collapsed": true,
    "deletable": true,
    "editable": true
   },
   "outputs": [],
   "source": [
    "import pandas as pd\n",
    "\n",
    "crimes_df = pd.read_csv(r'C:\\xc\\Presentations\\Demos\\Houston\\crime_df.csv', parse_dates=[7], low_memory=False)"
   ]
  },
  {
   "cell_type": "code",
   "execution_count": 26,
   "metadata": {
    "collapsed": false,
    "deletable": true,
    "editable": true
   },
   "outputs": [
    {
     "data": {
      "text/html": [
       "<div>\n",
       "<table border=\"1\" class=\"dataframe\">\n",
       "  <thead>\n",
       "    <tr style=\"text-align: right;\">\n",
       "      <th></th>\n",
       "      <th># Of</th>\n",
       "      <th># Of Offenses</th>\n",
       "      <th># Offenses</th>\n",
       "      <th># offenses</th>\n",
       "      <th>Beat</th>\n",
       "      <th>Block Range</th>\n",
       "      <th>BlockRange</th>\n",
       "      <th>Date</th>\n",
       "      <th>Field11</th>\n",
       "      <th>Hour</th>\n",
       "      <th>Offense Type</th>\n",
       "      <th>Premise</th>\n",
       "      <th>Street Name</th>\n",
       "      <th>StreetName</th>\n",
       "      <th>Suffix</th>\n",
       "      <th>Type</th>\n",
       "      <th>Unnamed: 1</th>\n",
       "    </tr>\n",
       "  </thead>\n",
       "  <tbody>\n",
       "    <tr>\n",
       "      <th>0</th>\n",
       "      <td>NaN</td>\n",
       "      <td>1.0</td>\n",
       "      <td>NaN</td>\n",
       "      <td>NaN</td>\n",
       "      <td>11H30</td>\n",
       "      <td>3000-3099</td>\n",
       "      <td>NaN</td>\n",
       "      <td>2010-01-08</td>\n",
       "      <td>NaN</td>\n",
       "      <td>22.0</td>\n",
       "      <td>Murder</td>\n",
       "      <td>20R</td>\n",
       "      <td>BROADWAY</td>\n",
       "      <td>NaN</td>\n",
       "      <td>-</td>\n",
       "      <td>ST</td>\n",
       "      <td>NaN</td>\n",
       "    </tr>\n",
       "    <tr>\n",
       "      <th>1</th>\n",
       "      <td>NaN</td>\n",
       "      <td>1.0</td>\n",
       "      <td>NaN</td>\n",
       "      <td>NaN</td>\n",
       "      <td>10H50</td>\n",
       "      <td>2800-2899</td>\n",
       "      <td>NaN</td>\n",
       "      <td>2010-01-17</td>\n",
       "      <td>NaN</td>\n",
       "      <td>18.0</td>\n",
       "      <td>Murder</td>\n",
       "      <td>18C</td>\n",
       "      <td>MCGOWEN</td>\n",
       "      <td>NaN</td>\n",
       "      <td>-</td>\n",
       "      <td>ST</td>\n",
       "      <td>NaN</td>\n",
       "    </tr>\n",
       "    <tr>\n",
       "      <th>2</th>\n",
       "      <td>NaN</td>\n",
       "      <td>1.0</td>\n",
       "      <td>NaN</td>\n",
       "      <td>NaN</td>\n",
       "      <td>15E30</td>\n",
       "      <td>9600-9699</td>\n",
       "      <td>NaN</td>\n",
       "      <td>2010-01-01</td>\n",
       "      <td>NaN</td>\n",
       "      <td>0.0</td>\n",
       "      <td>Murder</td>\n",
       "      <td>18A</td>\n",
       "      <td>MARLIVE</td>\n",
       "      <td>NaN</td>\n",
       "      <td>-</td>\n",
       "      <td>LN</td>\n",
       "      <td>NaN</td>\n",
       "    </tr>\n",
       "  </tbody>\n",
       "</table>\n",
       "</div>"
      ],
      "text/plain": [
       "   # Of  # Of Offenses  # Offenses  # offenses   Beat Block Range BlockRange  \\\n",
       "0   NaN            1.0         NaN         NaN  11H30   3000-3099        NaN   \n",
       "1   NaN            1.0         NaN         NaN  10H50   2800-2899        NaN   \n",
       "2   NaN            1.0         NaN         NaN  15E30   9600-9699        NaN   \n",
       "\n",
       "        Date  Field11  Hour Offense Type Premise Street Name StreetName  \\\n",
       "0 2010-01-08      NaN  22.0       Murder     20R    BROADWAY        NaN   \n",
       "1 2010-01-17      NaN  18.0       Murder     18C     MCGOWEN        NaN   \n",
       "2 2010-01-01      NaN   0.0       Murder     18A     MARLIVE        NaN   \n",
       "\n",
       "  Suffix Type  Unnamed: 1  \n",
       "0      -   ST         NaN  \n",
       "1      -   ST         NaN  \n",
       "2      -   LN         NaN  "
      ]
     },
     "execution_count": 26,
     "metadata": {},
     "output_type": "execute_result"
    }
   ],
   "source": [
    "crimes_df.head(3)"
   ]
  },
  {
   "cell_type": "markdown",
   "metadata": {
    "deletable": true,
    "editable": true
   },
   "source": [
    "### Data wrangling"
   ]
  },
  {
   "cell_type": "code",
   "execution_count": 102,
   "metadata": {
    "collapsed": true,
    "deletable": true,
    "editable": true
   },
   "outputs": [],
   "source": [
    "# drop empty rows and replace '-' with ''\n",
    "crimes_df.dropna(axis=0, how='all', inplace=True)\n",
    "crimes_df = crimes_df.replace('-', '')\n",
    "\n",
    "# offenses are spread across four columns with different name. Similar for BlockRange and StreetName. Combine the columns:\n",
    "crimes_df['Offenses'] = (crimes_df['# Of'].combine_first( \\\n",
    "                         crimes_df['# Of Offenses']).combine_first( \\\n",
    "                         crimes_df['# Offenses']).combine_first( \\\n",
    "                         crimes_df['# offenses'])).astype(int)\n",
    "\n",
    "crimes_df['BlockRange'] = crimes_df['BlockRange'].combine_first( \\\n",
    "                          crimes_df['Block Range'])\n",
    "\n",
    "crimes_df['StreetName'] = crimes_df['StreetName'].combine_first( \\\n",
    "                          crimes_df['Street Name'])\n",
    "\n",
    "# extract the approximate (mid) address from the block range \n",
    "# and construct an address column using it and the street suffix, name and type:\n",
    "houseno = crimes_df.BlockRange.str.extract('(?P<start_addr>\\d+)-(?P<end_addr>\\d+)', expand=False)\n",
    "crimes_df['HouseNo'] = (houseno.start_addr.astype(float) + houseno.end_addr.astype(float) + 1.0) / 2\n",
    "crimes_df['HouseNo'] = crimes_df['HouseNo'].fillna(50.0)\n",
    "\n",
    "crimes_df['Address'] = crimes_df.HouseNo.astype(int).map(str) + ' ' + \\\n",
    "                       crimes_df.Suffix.map(str) + ' ' + \\\n",
    "                       crimes_df.StreetName.map(str) + ' ' + \\\n",
    "                       crimes_df.Type.map(str) + ', Houston, TX'\n",
    "            \n",
    "# the hour column contains strings (with leading quotes), floats and int as well as empty strings. Convert them all to ints:\n",
    "crimes_df['Hour'] = crimes_df['Hour'].apply(lambda x : int(float(x.replace(\"'\", \"\"))) if type(x) == str else int(float(x)))\n",
    "\n",
    "# create a new column for Day of the week, useful for analysis:\n",
    "crimes_df['DayOfWeek'] = crimes_df.Date.dt.weekday_name\n",
    "\n",
    "# rename Offense Type to Category\n",
    "crimes_df = crimes_df.rename(columns={'Offense Type' : 'Category'})"
   ]
  },
  {
   "cell_type": "markdown",
   "metadata": {
    "deletable": true,
    "editable": true
   },
   "source": [
    "### Cleaned up data"
   ]
  },
  {
   "cell_type": "markdown",
   "metadata": {
    "deletable": true,
    "editable": true
   },
   "source": [
    "<font color='#999999'>\n",
    "\n",
    "</font>"
   ]
  },
  {
   "cell_type": "code",
   "execution_count": 108,
   "metadata": {
    "collapsed": false,
    "deletable": true,
    "editable": true
   },
   "outputs": [
    {
     "data": {
      "text/html": [
       "<div>\n",
       "<table border=\"1\" class=\"dataframe\">\n",
       "  <thead>\n",
       "    <tr style=\"text-align: right;\">\n",
       "      <th></th>\n",
       "      <th>Date</th>\n",
       "      <th>Hour</th>\n",
       "      <th>DayOfWeek</th>\n",
       "      <th>Category</th>\n",
       "      <th>Offenses</th>\n",
       "      <th>Beat</th>\n",
       "      <th>Address</th>\n",
       "    </tr>\n",
       "  </thead>\n",
       "  <tbody>\n",
       "    <tr>\n",
       "      <th>0</th>\n",
       "      <td>2010-01-08</td>\n",
       "      <td>22</td>\n",
       "      <td>Friday</td>\n",
       "      <td>Murder</td>\n",
       "      <td>1</td>\n",
       "      <td>11H30</td>\n",
       "      <td>3050  BROADWAY ST, Houston, TX</td>\n",
       "    </tr>\n",
       "    <tr>\n",
       "      <th>1</th>\n",
       "      <td>2010-01-17</td>\n",
       "      <td>18</td>\n",
       "      <td>Sunday</td>\n",
       "      <td>Murder</td>\n",
       "      <td>1</td>\n",
       "      <td>10H50</td>\n",
       "      <td>2850  MCGOWEN ST, Houston, TX</td>\n",
       "    </tr>\n",
       "    <tr>\n",
       "      <th>2</th>\n",
       "      <td>2010-01-01</td>\n",
       "      <td>0</td>\n",
       "      <td>Friday</td>\n",
       "      <td>Murder</td>\n",
       "      <td>1</td>\n",
       "      <td>15E30</td>\n",
       "      <td>9650  MARLIVE LN, Houston, TX</td>\n",
       "    </tr>\n",
       "    <tr>\n",
       "      <th>3</th>\n",
       "      <td>2010-01-09</td>\n",
       "      <td>14</td>\n",
       "      <td>Saturday</td>\n",
       "      <td>Murder</td>\n",
       "      <td>1</td>\n",
       "      <td>5F20</td>\n",
       "      <td>9050  LONG POINT RD, Houston, TX</td>\n",
       "    </tr>\n",
       "    <tr>\n",
       "      <th>4</th>\n",
       "      <td>2010-01-18</td>\n",
       "      <td>14</td>\n",
       "      <td>Monday</td>\n",
       "      <td>Murder</td>\n",
       "      <td>1</td>\n",
       "      <td>10H40</td>\n",
       "      <td>4350  GARROTT ST, Houston, TX</td>\n",
       "    </tr>\n",
       "  </tbody>\n",
       "</table>\n",
       "</div>"
      ],
      "text/plain": [
       "        Date  Hour DayOfWeek Category  Offenses   Beat  \\\n",
       "0 2010-01-08    22    Friday   Murder         1  11H30   \n",
       "1 2010-01-17    18    Sunday   Murder         1  10H50   \n",
       "2 2010-01-01     0    Friday   Murder         1  15E30   \n",
       "3 2010-01-09    14  Saturday   Murder         1   5F20   \n",
       "4 2010-01-18    14    Monday   Murder         1  10H40   \n",
       "\n",
       "                            Address  \n",
       "0    3050  BROADWAY ST, Houston, TX  \n",
       "1     2850  MCGOWEN ST, Houston, TX  \n",
       "2     9650  MARLIVE LN, Houston, TX  \n",
       "3  9050  LONG POINT RD, Houston, TX  \n",
       "4     4350  GARROTT ST, Houston, TX  "
      ]
     },
     "execution_count": 108,
     "metadata": {},
     "output_type": "execute_result"
    }
   ],
   "source": [
    "analysis_df = crimes_df[['Date', 'Hour', 'DayOfWeek', 'Category', 'Offenses', 'Beat', 'Address']]\n",
    "analysis_df.head()"
   ]
  },
  {
   "cell_type": "code",
   "execution_count": 109,
   "metadata": {
    "collapsed": true,
    "deletable": true,
    "editable": true
   },
   "outputs": [],
   "source": [
    "houston_processed = r'C:\\xc\\Presentations\\Demos\\Houston\\houston_processed.csv'\n",
    "analysis_df.to_csv(houston_processed, index_label='id')"
   ]
  },
  {
   "cell_type": "markdown",
   "metadata": {
    "deletable": true,
    "editable": true
   },
   "source": [
    "## Convert to Spatial dataframe with geocoded addresses"
   ]
  },
  {
   "cell_type": "markdown",
   "metadata": {
    "deletable": true,
    "editable": true
   },
   "source": [
    "Spatial Dataframes let you work with spatial data as if it were a Pandas dataframe. It adds geospatial operations to Pandas as well as the ability to read and write shapefiles and file geodatabases."
   ]
  },
  {
   "cell_type": "code",
   "execution_count": 2,
   "metadata": {
    "collapsed": false,
    "deletable": true,
    "editable": true
   },
   "outputs": [],
   "source": [
    "from arcgis.gis import GIS\n",
    "from arcgis import SpatialDataFrame\n",
    "\n",
    "gis = GIS('https://dev003246.esri.com/portal', USERNAME, PASSWORD, verify_cert=False)"
   ]
  },
  {
   "cell_type": "code",
   "execution_count": null,
   "metadata": {
    "collapsed": true,
    "deletable": true,
    "editable": true
   },
   "outputs": [],
   "source": [
    "spdf = SpatialDataFrame.from_df(houston_processed, 'Address')\n",
    "spdf.sr = arcgis.geometry.SpatialReference(4326)"
   ]
  },
  {
   "cell_type": "markdown",
   "metadata": {
    "deletable": true,
    "editable": true
   },
   "source": [
    "## Pandas Dataframe to shapefiles or file geodatabase"
   ]
  },
  {
   "cell_type": "code",
   "execution_count": null,
   "metadata": {
    "collapsed": true,
    "deletable": true,
    "editable": true
   },
   "outputs": [],
   "source": [
    "import os\n",
    "\n",
    "for year in range(2010, 2017):\n",
    "    start_date = str(year) + '-01-01'\n",
    "    end_date = str(year) + '-12-31'\n",
    "    \n",
    "    mask = (spdf['Date'] > start_date) & (spdf['Date'] <= end_date)\n",
    "    spdf_year = spdf.loc[mask]\n",
    "    \n",
    "    directory = r'C:\\xc\\Presentations\\Demos\\Houston\\houstoncrime' + str(year) \n",
    "    if not os.path.exists(directory):\n",
    "        os.makedirs(directory)\n",
    "        \n",
    "    spdf_year.to_featureclass(out_location=directory,\n",
    "                              out_name='Houston' + str(year) + '.shp')"
   ]
  },
  {
   "cell_type": "code",
   "execution_count": null,
   "metadata": {
    "collapsed": true,
    "deletable": true,
    "editable": true,
    "scrolled": true
   },
   "outputs": [],
   "source": [
    "spdf.to_featureclass(out_location=r\"C:\\xc\\Presentations\\Demos\\Houston\\houston.gdb\", out_name=\"crime\")"
   ]
  },
  {
   "cell_type": "markdown",
   "metadata": {
    "deletable": true,
    "editable": true
   },
   "source": [
    "## Connect the data to your GIS"
   ]
  },
  {
   "cell_type": "markdown",
   "metadata": {
    "deletable": true,
    "editable": true
   },
   "source": [
    "#### Publish as hosted feature layer"
   ]
  },
  {
   "cell_type": "code",
   "execution_count": null,
   "metadata": {
    "collapsed": true,
    "deletable": true,
    "editable": true
   },
   "outputs": [],
   "source": [
    "data = r'C:\\xc\\Presentations\\Demos\\Houston\\shp\\houston2016.zip' \n",
    "shpfile = gis.content.add({}, data)"
   ]
  },
  {
   "cell_type": "code",
   "execution_count": null,
   "metadata": {
    "collapsed": true,
    "deletable": true,
    "editable": true
   },
   "outputs": [],
   "source": [
    "crime2016 = shpfile.publish()"
   ]
  },
  {
   "cell_type": "code",
   "execution_count": 199,
   "metadata": {
    "collapsed": false,
    "deletable": true,
    "editable": true
   },
   "outputs": [
    {
     "data": {
      "text/html": [
       "<div class=\"item_container\" style=\"height: auto; overflow: hidden; border: 1px solid #cfcfcf; border-radius: 2px; background: #f6fafa; line-height: 1.21429em; padding: 10px;\">\n",
       "                    <div class=\"item_left\" style=\"width: 210px; float: left;\">\n",
       "                       <a href='https://dev003246.esri.com/portal/home/item.html?id=5997cedccb404583b0f046b6621b5b95' target='_blank'>\n",
       "                        <img src='https://dev003246.esri.com/portal/portalimages/desktopapp.png' class=\"itemThumbnail\">\n",
       "                       </a>\n",
       "                    </div>\n",
       "\n",
       "                    <div class=\"item_right\"     style=\"float: none; width: auto; overflow: hidden;\">\n",
       "                        <a href='https://dev003246.esri.com/portal/home/item.html?id=5997cedccb404583b0f046b6621b5b95' target='_blank'><b>houston2016</b>\n",
       "                        </a>\n",
       "                        <br/><img src='https://dev003246.esri.com/portal/home/js/jsapi/esri/css/images/item_type_icons/featureshosted16.png' style=\"vertical-align:middle;\">Feature Layer Collection by admin\n",
       "                        <br/>Last Modified: March 02, 2017\n",
       "                        <br/>0 comments, 2 views\n",
       "                    </div>\n",
       "                </div>\n",
       "                "
      ],
      "text/plain": [
       "<Item title:\"houston2016\" type:Feature Service owner:admin>"
      ]
     },
     "execution_count": 199,
     "metadata": {},
     "output_type": "execute_result"
    }
   ],
   "source": [
    "crime2016 = gis.content.search('houston2016', 'feature layer')[0]\n",
    "crime2016"
   ]
  },
  {
   "cell_type": "markdown",
   "metadata": {
    "deletable": true,
    "editable": true
   },
   "source": [
    "#### Attach to geoanalytics datastore as bigdata file share"
   ]
  },
  {
   "cell_type": "code",
   "execution_count": null,
   "metadata": {
    "collapsed": true,
    "deletable": true,
    "editable": true
   },
   "outputs": [],
   "source": [
    "datastores = arcgis.geoanalytics.get_datastores()"
   ]
  },
  {
   "cell_type": "code",
   "execution_count": null,
   "metadata": {
    "collapsed": true,
    "deletable": true,
    "editable": true
   },
   "outputs": [],
   "source": [
    "houston_bigdata = datastores.add_bigdata('Houston_crime', r'\\\\teton\\atma_shared\\datasets\\Houstonshp')"
   ]
  },
  {
   "cell_type": "code",
   "execution_count": null,
   "metadata": {
    "collapsed": true,
    "deletable": true,
    "editable": true
   },
   "outputs": [],
   "source": [
    "houston_yearly_bigdata = datastores.add_bigdata('Houston_crime_yearly', r'\\\\teton\\atma_shared\\datasets\\HoustonCrime')"
   ]
  },
  {
   "cell_type": "markdown",
   "metadata": {
    "deletable": true,
    "editable": true
   },
   "source": [
    "The datasets within the attached bigdata fileshare show up as Items and Layers and are available for analysis:"
   ]
  },
  {
   "cell_type": "code",
   "execution_count": 15,
   "metadata": {
    "collapsed": false
   },
   "outputs": [
    {
     "data": {
      "text/html": [
       "<div class=\"item_container\" style=\"height: auto; overflow: hidden; border: 1px solid #cfcfcf; border-radius: 2px; background: #f6fafa; line-height: 1.21429em; padding: 10px;\">\n",
       "                    <div class=\"item_left\" style=\"width: 210px; float: left;\">\n",
       "                       <a href='https://dev003246.esri.com/portal/home/item.html?id=a622d7a499f74fedb42d60fdca186c39' target='_blank'>\n",
       "                        <img src='https://dev003246.esri.com/portal/portalimages/desktopapp.png' class=\"itemThumbnail\">\n",
       "                       </a>\n",
       "                    </div>\n",
       "\n",
       "                    <div class=\"item_right\"     style=\"float: none; width: auto; overflow: hidden;\">\n",
       "                        <a href='https://dev003246.esri.com/portal/home/item.html?id=a622d7a499f74fedb42d60fdca186c39' target='_blank'><b>bigDataFileShares_Houston_crime</b>\n",
       "                        </a>\n",
       "                        <br/><img src='https://dev003246.esri.com/portal/home/js/jsapi/esri/css/images/item_type_icons/layers16.png' style=\"vertical-align:middle;\">Big Data File Share by admin\n",
       "                        <br/>Last Modified: February 25, 2017\n",
       "                        <br/>0 comments, 0 views\n",
       "                    </div>\n",
       "                </div>\n",
       "                "
      ],
      "text/plain": [
       "<Item title:\"bigDataFileShares_Houston_crime\" type:Big Data File Share owner:admin>"
      ]
     },
     "metadata": {},
     "output_type": "display_data"
    },
    {
     "data": {
      "text/html": [
       "<div class=\"item_container\" style=\"height: auto; overflow: hidden; border: 1px solid #cfcfcf; border-radius: 2px; background: #f6fafa; line-height: 1.21429em; padding: 10px;\">\n",
       "                    <div class=\"item_left\" style=\"width: 210px; float: left;\">\n",
       "                       <a href='https://dev003246.esri.com/portal/home/item.html?id=79f35c8844c441dea9ab11c5ffbc910a' target='_blank'>\n",
       "                        <img src='https://dev003246.esri.com/portal/portalimages/desktopapp.png' class=\"itemThumbnail\">\n",
       "                       </a>\n",
       "                    </div>\n",
       "\n",
       "                    <div class=\"item_right\"     style=\"float: none; width: auto; overflow: hidden;\">\n",
       "                        <a href='https://dev003246.esri.com/portal/home/item.html?id=79f35c8844c441dea9ab11c5ffbc910a' target='_blank'><b>bigDataFileShares_Houston_crime_yearly</b>\n",
       "                        </a>\n",
       "                        <br/><img src='https://dev003246.esri.com/portal/home/js/jsapi/esri/css/images/item_type_icons/layers16.png' style=\"vertical-align:middle;\">Big Data File Share by admin\n",
       "                        <br/>Last Modified: March 03, 2017\n",
       "                        <br/>0 comments, 0 views\n",
       "                    </div>\n",
       "                </div>\n",
       "                "
      ],
      "text/plain": [
       "<Item title:\"bigDataFileShares_Houston_crime_yearly\" type:Big Data File Share owner:admin>"
      ]
     },
     "metadata": {},
     "output_type": "display_data"
    }
   ],
   "source": [
    "items = gis.content.search(\"houston\", \"big data file share\")\n",
    "for item in items:\n",
    "    display(item)"
   ]
  },
  {
   "cell_type": "code",
   "execution_count": 16,
   "metadata": {
    "collapsed": true,
    "deletable": true,
    "editable": true
   },
   "outputs": [],
   "source": [
    "houston_crime = items[0]\n",
    "houston_yearly = items[1]"
   ]
  },
  {
   "cell_type": "code",
   "execution_count": 17,
   "metadata": {
    "collapsed": false,
    "deletable": true,
    "editable": true
   },
   "outputs": [
    {
     "data": {
      "text/plain": [
       "[<Layer url:\"https://dev003247.esri.com/gax/rest/services/DataStoreCatalogs/bigDataFileShares_Houston_crime_yearly/BigDataCatalogServer/houstoncrime2010\">,\n",
       " <Layer url:\"https://dev003247.esri.com/gax/rest/services/DataStoreCatalogs/bigDataFileShares_Houston_crime_yearly/BigDataCatalogServer/houstoncrime2011\">,\n",
       " <Layer url:\"https://dev003247.esri.com/gax/rest/services/DataStoreCatalogs/bigDataFileShares_Houston_crime_yearly/BigDataCatalogServer/houstoncrime2012\">,\n",
       " <Layer url:\"https://dev003247.esri.com/gax/rest/services/DataStoreCatalogs/bigDataFileShares_Houston_crime_yearly/BigDataCatalogServer/houstoncrime2013\">,\n",
       " <Layer url:\"https://dev003247.esri.com/gax/rest/services/DataStoreCatalogs/bigDataFileShares_Houston_crime_yearly/BigDataCatalogServer/houstoncrime2014\">,\n",
       " <Layer url:\"https://dev003247.esri.com/gax/rest/services/DataStoreCatalogs/bigDataFileShares_Houston_crime_yearly/BigDataCatalogServer/houstoncrime2015\">,\n",
       " <Layer url:\"https://dev003247.esri.com/gax/rest/services/DataStoreCatalogs/bigDataFileShares_Houston_crime_yearly/BigDataCatalogServer/houstoncrime2016\">]"
      ]
     },
     "execution_count": 17,
     "metadata": {},
     "output_type": "execute_result"
    }
   ],
   "source": [
    "houston_yearly.layers"
   ]
  },
  {
   "cell_type": "markdown",
   "metadata": {
    "deletable": true,
    "editable": true
   },
   "source": [
    "# Mapping, Visualization and Analysis"
   ]
  },
  {
   "cell_type": "markdown",
   "metadata": {
    "deletable": true,
    "editable": true
   },
   "source": [
    "Visualize crime layer using the Map widget and Smart Mapping:"
   ]
  },
  {
   "cell_type": "code",
   "execution_count": 3,
   "metadata": {
    "collapsed": true,
    "deletable": true,
    "editable": true
   },
   "outputs": [],
   "source": [
    "houston = arcgis.geocoding.geocode('Houston, TX')[0]"
   ]
  },
  {
   "cell_type": "code",
   "execution_count": 4,
   "metadata": {
    "collapsed": false,
    "deletable": true,
    "editable": true
   },
   "outputs": [
    {
     "data": {
      "application/vnd.jupyter.widget-view+json": {
       "model_id": "18eb52eb1e8849f0afcdf3e01511ffc0"
      }
     },
     "metadata": {},
     "output_type": "display_data"
    }
   ],
   "source": [
    "crime2016 = gis.content.search('houston2016', 'feature layer')[0]\n",
    "\n",
    "map1 = gis.map(houston, 12)\n",
    "map1.add_layer(crime2016)\n",
    "\n",
    "map2 = gis.map(houston, 12)\n",
    "map2.add_layer(crime2016, {\"renderer\":\"HeatmapRenderer\", \"opacity\":0.75})\n",
    "\n",
    "from ipywidgets import *\n",
    "\n",
    "map1.layout=Layout(flex='1 1', padding='10px')\n",
    "map2.layout=Layout(flex='1 1', padding='10px')\n",
    "\n",
    "crimebox = HBox([map1, map2])\n",
    "crimebox"
   ]
  },
  {
   "cell_type": "markdown",
   "metadata": {
    "deletable": true,
    "editable": true
   },
   "source": [
    "## Exploratory data analysis"
   ]
  },
  {
   "cell_type": "code",
   "execution_count": 94,
   "metadata": {
    "collapsed": false,
    "deletable": true,
    "editable": true
   },
   "outputs": [],
   "source": [
    "from arcgis import SpatialDataFrame\n",
    "\n",
    "df = SpatialDataFrame.from_featureclass(filename = r\"C:\\xc\\Presentations\\Demos\\Houston\\houston.gdb\\crime\")"
   ]
  },
  {
   "cell_type": "code",
   "execution_count": 96,
   "metadata": {
    "collapsed": false
   },
   "outputs": [
    {
     "data": {
      "text/plain": [
       "Index(['OBJECTID', 'Date', 'Hour', 'DayOfWeek', 'Category', 'Offenses', 'Beat',\n",
       "       'Address', 'X', 'Y', 'SHAPE'],\n",
       "      dtype='object')"
      ]
     },
     "execution_count": 96,
     "metadata": {},
     "output_type": "execute_result"
    }
   ],
   "source": [
    "df.columns"
   ]
  },
  {
   "cell_type": "markdown",
   "metadata": {
    "deletable": true,
    "editable": true
   },
   "source": [
    "What are the most comon crimes?"
   ]
  },
  {
   "cell_type": "code",
   "execution_count": 98,
   "metadata": {
    "collapsed": false,
    "deletable": true,
    "editable": true
   },
   "outputs": [
    {
     "data": {
      "text/plain": [
       "<matplotlib.axes._subplots.AxesSubplot at 0x2798748de10>"
      ]
     },
     "execution_count": 98,
     "metadata": {},
     "output_type": "execute_result"
    },
    {
     "data": {
      "image/png": "[encoded data removed]",
      "text/plain": [
       "<matplotlib.figure.Figure at 0x2798a163a20>"
      ]
     },
     "metadata": {},
     "output_type": "display_data"
    }
   ],
   "source": [
    "# crimes by category\n",
    "\n",
    "%matplotlib inline\n",
    "import matplotlib.pyplot as plt\n",
    "\n",
    "groups = df.groupby(\"Category\")[\"Category\"].count()\n",
    "groups = groups.sort_values(ascending=False)\n",
    "plt.figure()\n",
    "groups.plot(kind='bar', title=\"Crimes by Category\")"
   ]
  },
  {
   "cell_type": "markdown",
   "metadata": {
    "deletable": true,
    "editable": true
   },
   "source": [
    "Does crime distribution change by the day of the week?"
   ]
  },
  {
   "cell_type": "code",
   "execution_count": 101,
   "metadata": {
    "collapsed": false,
    "deletable": true,
    "editable": true,
    "scrolled": false
   },
   "outputs": [
    {
     "data": {
      "text/plain": [
       "<matplotlib.axes._subplots.AxesSubplot at 0x27987184f98>"
      ]
     },
     "execution_count": 101,
     "metadata": {},
     "output_type": "execute_result"
    },
    {
     "data": {
      "image/png": "[encoded data removed]",
      "text/plain": [
       "<matplotlib.figure.Figure at 0x27987256a58>"
      ]
     },
     "metadata": {},
     "output_type": "display_data"
    }
   ],
   "source": [
    "fig, axs = plt.subplots(1,2)\n",
    "\n",
    "weekdays = ['Monday', 'Tuesday', 'Wednesday', 'Thursday', 'Friday', 'Saturday', 'Sunday']\n",
    "\n",
    "df_murder = df[df.Category == \"Murder\"]\n",
    "gr_murder = df_murder.groupby(\"DayOfWeek\")[\"Offenses\"].sum()\n",
    "gr_murder = gr_murder[weekdays]\n",
    "\n",
    "df_burglary = df[df.Category == \"Burglary\"]\n",
    "gr_burglary = df_burglary.groupby(\"DayOfWeek\")[\"Offenses\"].sum()\n",
    "gr_burglary = gr_burglary[weekdays]\n",
    "\n",
    "gr_murder.plot(kind=\"bar\", title=\"Murder per weekday\", ax=axs[0])\n",
    "gr_burglary.plot(kind=\"bar\", title=\"Burglary per weekday\", ax=axs[1], figsize=(12, 5))"
   ]
  },
  {
   "cell_type": "markdown",
   "metadata": {
    "deletable": true,
    "editable": true
   },
   "source": [
    "Which crimes occur during which part of the day?"
   ]
  },
  {
   "cell_type": "code",
   "execution_count": 102,
   "metadata": {
    "collapsed": false,
    "deletable": true,
    "editable": true
   },
   "outputs": [
    {
     "data": {
      "text/plain": [
       "<matplotlib.axes._subplots.AxesSubplot at 0x27984999cf8>"
      ]
     },
     "execution_count": 102,
     "metadata": {},
     "output_type": "execute_result"
    },
    {
     "data": {
      "image/png": "[encoded data removed]",
      "text/plain": [
       "<matplotlib.figure.Figure at 0x2798541acc0>"
      ]
     },
     "metadata": {},
     "output_type": "display_data"
    }
   ],
   "source": [
    "# thefts and burglaries by hour\n",
    "fig, axs = plt.subplots(1,2)\n",
    "hours = [x for x in range(24)]\n",
    "df_theft = df[df.Category == \"Murder\"]\n",
    "gr_theft = df_theft.groupby(\"Hour\")[\"Category\"].count()\n",
    "gr_theft = gr_theft[hours]\n",
    "\n",
    "df_burglary = df[df.Category == \"Burglary\"]\n",
    "gr_burglary = df_burglary.groupby(\"Hour\")[\"Category\"].count()\n",
    "gr_burglary = gr_burglary[hours]\n",
    "\n",
    "gr_theft.plot(kind=\"bar\", title=\"Murder per hour\", ax=axs[0])\n",
    "gr_burglary.plot(kind=\"bar\", title=\"Burglary per hour\", ax=axs[1], figsize=(20, 5))"
   ]
  },
  {
   "cell_type": "markdown",
   "metadata": {
    "deletable": true,
    "editable": true
   },
   "source": [
    "## Big data analytics"
   ]
  },
  {
   "cell_type": "markdown",
   "metadata": {
    "deletable": true,
    "editable": true
   },
   "source": [
    "GeoAnalytics provides a set of powerful tools for performing spatial analysis on big data. GeoAnalytics Tools are powered by your ArcGIS GeoAnalytics Server. ArcGIS GeoAnalytics Server distributes the analysis between multiple server nodes. By using distributed processing, you can process large datasets in less time."
   ]
  },
  {
   "cell_type": "markdown",
   "metadata": {
    "deletable": true,
    "editable": true
   },
   "source": [
    "### Find hot spots of crime"
   ]
  },
  {
   "cell_type": "markdown",
   "metadata": {
    "deletable": true,
    "editable": true
   },
   "source": [
    "The “Find Hot Spots” tool can be used to identify statistically significant clusters of crime.\n",
    "\n",
    "We can automate the creation of hotspots for all crime categories, across the years and create persisted information products in the form of web layers:"
   ]
  },
  {
   "cell_type": "code",
   "execution_count": 209,
   "metadata": {
    "collapsed": true,
    "deletable": true,
    "editable": true
   },
   "outputs": [],
   "source": [
    "from arcgis.geoanalytics.analyze_patterns import find_hot_spots\n",
    "arcgis.env.process_spatial_reference=32611\n",
    "arcgis.env.verbose = False"
   ]
  },
  {
   "cell_type": "code",
   "execution_count": 260,
   "metadata": {
    "collapsed": false,
    "deletable": true,
    "editable": true,
    "scrolled": true
   },
   "outputs": [
    {
     "name": "stdout",
     "output_type": "stream",
     "text": [
      "Generating Houston_Aggravated_Assault_Hotspot_2010\n",
      "Generating Houston_Aggravated_Assault_Hotspot_2011\n",
      "Generating Houston_Aggravated_Assault_Hotspot_2012\n",
      "Generating Houston_Aggravated_Assault_Hotspot_2013\n",
      "Generating Houston_Aggravated_Assault_Hotspot_2014\n",
      "Generating Houston_Aggravated_Assault_Hotspot_2015\n",
      "Generating Houston_Aggravated_Assault_Hotspot_2016\n",
      "Generating Houston_Burglary_Hotspot_2010\n",
      "Generating Houston_Burglary_Hotspot_2011\n",
      "Generating Houston_Burglary_Hotspot_2012\n",
      "Generating Houston_Burglary_Hotspot_2013\n",
      "Generating Houston_Burglary_Hotspot_2014\n",
      "Generating Houston_Burglary_Hotspot_2015\n",
      "Generating Houston_Burglary_Hotspot_2016\n",
      "Generating Houston_Murder_Hotspot_2010\n",
      "Generating Houston_Murder_Hotspot_2011\n",
      "Generating Houston_Murder_Hotspot_2012\n",
      "Generating Houston_Murder_Hotspot_2013\n",
      "Generating Houston_Murder_Hotspot_2014\n",
      "Generating Houston_Murder_Hotspot_2015\n",
      "Generating Houston_Murder_Hotspot_2016\n",
      "Generating Houston_Rape_Hotspot_2010\n",
      "Generating Houston_Rape_Hotspot_2011\n",
      "Generating Houston_Rape_Hotspot_2012\n",
      "Generating Houston_Rape_Hotspot_2013\n",
      "Generating Houston_Rape_Hotspot_2014\n",
      "Generating Houston_Rape_Hotspot_2015\n",
      "Generating Houston_Rape_Hotspot_2016\n",
      "Generating Houston_Robbery_Hotspot_2010\n",
      "Generating Houston_Robbery_Hotspot_2011\n",
      "Generating Houston_Robbery_Hotspot_2012\n",
      "Generating Houston_Robbery_Hotspot_2013\n",
      "Generating Houston_Robbery_Hotspot_2014\n",
      "Generating Houston_Robbery_Hotspot_2015\n",
      "Generating Houston_Robbery_Hotspot_2016\n",
      "Generating Houston_Auto_Theft_Hotspot_2010\n",
      "Generating Houston_Auto_Theft_Hotspot_2011\n",
      "Generating Houston_Auto_Theft_Hotspot_2012\n",
      "Generating Houston_Auto_Theft_Hotspot_2013\n",
      "Generating Houston_Auto_Theft_Hotspot_2014\n",
      "Generating Houston_Auto_Theft_Hotspot_2015\n",
      "Generating Houston_Auto_Theft_Hotspot_2016\n",
      "Generating Houston_Theft_Hotspot_2010\n",
      "Generating Houston_Theft_Hotspot_2011\n",
      "Generating Houston_Theft_Hotspot_2012\n",
      "Generating Houston_Theft_Hotspot_2013\n",
      "Generating Houston_Theft_Hotspot_2014\n",
      "Generating Houston_Theft_Hotspot_2015\n",
      "Generating Houston_Theft_Hotspot_2016\n"
     ]
    }
   ],
   "source": [
    "for category in df.Category.unique()[:-1]:\n",
    "    lyrid = 0\n",
    "    for year in range(2010, 2017):\n",
    "        output_name='Houston_' + category.replace(' ', '_') + '_Hotspot_' + str(year)\n",
    "        print('Generating ' + output_name)\n",
    "        layer = houston_yearly.layers[lyrid]\n",
    "        layer.filter = \"Category='{}'\".format(category)\n",
    "        \n",
    "        find_hot_spots(layer, bin_size=0.5, bin_size_unit='Miles', \n",
    "                       neighborhood_distance=1, neighborhood_distance_unit='Miles', output_name=output_name)\n",
    "        \n",
    "        lyrid = lyrid + 1"
   ]
  },
  {
   "cell_type": "markdown",
   "metadata": {
    "deletable": true,
    "editable": true
   },
   "source": [
    "##### Compare Burglary hot spots with auto-theft hot spots"
   ]
  },
  {
   "cell_type": "code",
   "execution_count": 10,
   "metadata": {
    "collapsed": false,
    "deletable": true,
    "editable": true
   },
   "outputs": [
    {
     "data": {
      "application/vnd.jupyter.widget-view+json": {
       "model_id": "8edc948b61c440e893a82e5d3884dca1"
      }
     },
     "metadata": {},
     "output_type": "display_data"
    },
    {
     "data": {
      "application/vnd.jupyter.widget-view+json": {
       "model_id": "dc1caa0aeb4548738cb2bf26b36ac786"
      }
     },
     "metadata": {},
     "output_type": "display_data"
    }
   ],
   "source": [
    "hotmap1 = gis.map(houston, 10)\n",
    "hotmap1.add_layer(gis.content.search('Houston_Burglary_Hotspot_2016')[0])\n",
    "hotmap2 = gis.map(houston, 10)\n",
    "hotmap2.add_layer(gis.content.search('Houston_Auto_Theft_Hotspot_2016')[0])\n",
    "\n",
    "hotmap1.layout=Layout(flex='1 1', padding='3px')\n",
    "hotmap2.layout=Layout(flex='1 1', padding='3px')\n",
    "\n",
    "items_layout = Layout(flex='1 1 auto', width='auto')\n",
    "\n",
    "display(HBox([hotmap1, hotmap2]))\n",
    "display(HBox(children=[Button(description='Burglary hot spots in 2016', layout=items_layout, button_style='danger'),\n",
    "                       Button(description='Auto theft hot spots in 2016', layout=items_layout, button_style='danger')],\n",
    "             layout=Layout(width='100%')))"
   ]
  },
  {
   "cell_type": "markdown",
   "metadata": {
    "deletable": true,
    "editable": true
   },
   "source": [
    "##### Compare hot spots over time"
   ]
  },
  {
   "cell_type": "code",
   "execution_count": 11,
   "metadata": {
    "collapsed": false,
    "deletable": true,
    "editable": true
   },
   "outputs": [
    {
     "data": {
      "application/vnd.jupyter.widget-view+json": {
       "model_id": "ef64b81833b742979c9645d0dfd088a5"
      }
     },
     "metadata": {},
     "output_type": "display_data"
    },
    {
     "data": {
      "application/vnd.jupyter.widget-view+json": {
       "model_id": "783f4226cf9b49f388588ea510b963c4"
      }
     },
     "metadata": {},
     "output_type": "display_data"
    }
   ],
   "source": [
    "maps = []\n",
    "labels = []\n",
    "items_layout = Layout(flex='1 1 auto', width='auto')\n",
    "for year in range(2014, 2017):\n",
    "    layer = gis.content.search('Houston_Auto_Theft_Hotspot_'+str(year))[0]\n",
    "    hotspotmap = gis.map(houston)\n",
    "    hotspotmap.add_layer(layer)\n",
    "    hotspotmap.layout=Layout(flex='1 1', padding='3px')\n",
    "    maps.append(hotspotmap)\n",
    "    hotspotmap.basemap='gray'\n",
    "    labels.append(Button(description='Auto theft hot spots in ' + str(year), layout=items_layout, button_style='danger'))\n",
    "    \n",
    "layout=Layout(height='300px')\n",
    "display(HBox([maps[0], maps[1], maps[2]], layout=layout))\n",
    "display(HBox(children=labels, layout=Layout(width='100%')))"
   ]
  },
  {
   "cell_type": "markdown",
   "metadata": {
    "deletable": true,
    "editable": true
   },
   "source": [
    "The hot spots in each category are strikingly similar across years. The hot spots of yesterday are the hotspots of tomorrow, and this information can be used to deploy officers and to identify areas in need of intervention."
   ]
  },
  {
   "cell_type": "markdown",
   "metadata": {},
   "source": [
    "## Aggregate crimes into police beats"
   ]
  },
  {
   "cell_type": "code",
   "execution_count": 12,
   "metadata": {
    "collapsed": false
   },
   "outputs": [
    {
     "data": {
      "text/html": [
       "<div class=\"item_container\" style=\"height: auto; overflow: hidden; border: 1px solid #cfcfcf; border-radius: 2px; background: #f6fafa; line-height: 1.21429em; padding: 10px;\">\n",
       "                    <div class=\"item_left\" style=\"width: 210px; float: left;\">\n",
       "                       <a href='https://dev003246.esri.com/portal/home/item.html?id=35fd2fc90e7c4d119f1ba60895ae5936' target='_blank'>\n",
       "                        <img src='data:image/png;base64,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' width='200' height='133' class=\"itemThumbnail\">\n",
       "                       </a>\n",
       "                    </div>\n",
       "\n",
       "                    <div class=\"item_right\"     style=\"float: none; width: auto; overflow: hidden;\">\n",
       "                        <a href='https://dev003246.esri.com/portal/home/item.html?id=35fd2fc90e7c4d119f1ba60895ae5936' target='_blank'><b>Houston Police Beats</b>\n",
       "                        </a>\n",
       "                        <br/><img src='https://dev003246.esri.com/portal/home/js/jsapi/esri/css/images/item_type_icons/featureshosted16.png' style=\"vertical-align:middle;\">Feature Layer Collection by admin\n",
       "                        <br/>Last Modified: February 25, 2017\n",
       "                        <br/>0 comments, 2 views\n",
       "                    </div>\n",
       "                </div>\n",
       "                "
      ],
      "text/plain": [
       "<Item title:\"Houston Police Beats\" type:Feature Layer Collection owner:admin>"
      ]
     },
     "metadata": {},
     "output_type": "display_data"
    }
   ],
   "source": [
    "items = gis.content.search('Houston Police Beats', 'feature layer')\n",
    "for item in items:\n",
    "    display(item)"
   ]
  },
  {
   "cell_type": "code",
   "execution_count": 13,
   "metadata": {
    "collapsed": true
   },
   "outputs": [],
   "source": [
    "police_beats = items[0]"
   ]
  },
  {
   "cell_type": "code",
   "execution_count": null,
   "metadata": {
    "collapsed": false
   },
   "outputs": [],
   "source": [
    "from arcgis.geoanalytics.summarize_data import aggregate_points\n",
    "arcgis.env.verbose = True\n",
    "\n",
    "aggregate_points(houston_crime.layers[0]._lyr_dict, polygon_layer=police_beats, output_name='Houston Aggregated Crimes')"
   ]
  },
  {
   "cell_type": "code",
   "execution_count": 57,
   "metadata": {
    "collapsed": false
   },
   "outputs": [
    {
     "data": {
      "text/html": [
       "<div class=\"item_container\" style=\"height: auto; overflow: hidden; border: 1px solid #cfcfcf; border-radius: 2px; background: #f6fafa; line-height: 1.21429em; padding: 10px;\">\n",
       "                    <div class=\"item_left\" style=\"width: 210px; float: left;\">\n",
       "                       <a href='https://dev003246.esri.com/portal/home/item.html?id=2202122eb6704794b93b276018b49480' target='_blank'>\n",
       "                        <img src='https://dev003246.esri.com/portal/portalimages/desktopapp.png' class=\"itemThumbnail\">\n",
       "                       </a>\n",
       "                    </div>\n",
       "\n",
       "                    <div class=\"item_right\"     style=\"float: none; width: auto; overflow: hidden;\">\n",
       "                        <a href='https://dev003246.esri.com/portal/home/item.html?id=2202122eb6704794b93b276018b49480' target='_blank'><b>Houston Aggregated Crimes</b>\n",
       "                        </a>\n",
       "                        <br/>Houston Aggregated Crimes<img src='https://dev003246.esri.com/portal/home/js/jsapi/esri/css/images/item_type_icons/featureshosted16.png' style=\"vertical-align:middle;\">Feature Layer Collection by admin\n",
       "                        <br/>Last Modified: September 02, 2017\n",
       "                        <br/>0 comments, 2 views\n",
       "                    </div>\n",
       "                </div>\n",
       "                "
      ],
      "text/plain": [
       "<Item title:\"Houston Aggregated Crimes\" type:Feature Layer Collection owner:admin>"
      ]
     },
     "execution_count": 57,
     "metadata": {},
     "output_type": "execute_result"
    }
   ],
   "source": [
    "aggr_lyr = gis.content.search('Houston Aggregated Crimes')[0]\n",
    "aggr_lyr"
   ]
  },
  {
   "cell_type": "markdown",
   "metadata": {},
   "source": [
    "### Visualize crime aggregated by police beat"
   ]
  },
  {
   "cell_type": "code",
   "execution_count": 59,
   "metadata": {
    "collapsed": false
   },
   "outputs": [
    {
     "data": {
      "application/vnd.jupyter.widget-view+json": {
       "model_id": "29149b9b3c01492e995f91d7c27fdd9e"
      }
     },
     "metadata": {},
     "output_type": "display_data"
    }
   ],
   "source": [
    "beats_map = gis.map(houston, 11)\n",
    "beats_map"
   ]
  },
  {
   "cell_type": "code",
   "execution_count": 60,
   "metadata": {
    "collapsed": false
   },
   "outputs": [],
   "source": [
    "beats_map.basemap = 'gray'"
   ]
  },
  {
   "cell_type": "code",
   "execution_count": 61,
   "metadata": {
    "collapsed": true
   },
   "outputs": [],
   "source": [
    "beats_map.add_layer(aggr_lyr, {\n",
    "                        \"renderer\":\"ClassedColorRenderer\",\n",
    "                        \"field_name\":\"SUM_Offenses\", \n",
    "                        \"classificationMethod\":'natural-breaks',\n",
    "                        \"numClasses\":10,\n",
    "                        \"opacity\":0.75\n",
    "                      })"
   ]
  },
  {
   "cell_type": "markdown",
   "metadata": {},
   "source": [
    "### Visualize aggregation results using plots"
   ]
  },
  {
   "cell_type": "code",
   "execution_count": 84,
   "metadata": {
    "collapsed": true
   },
   "outputs": [],
   "source": [
    "aggr_df = aggr_lyr.layers[0].query().df"
   ]
  },
  {
   "cell_type": "code",
   "execution_count": 85,
   "metadata": {
    "collapsed": false
   },
   "outputs": [
    {
     "data": {
      "text/html": [
       "<div>\n",
       "<style>\n",
       "    .dataframe thead tr:only-child th {\n",
       "        text-align: right;\n",
       "    }\n",
       "\n",
       "    .dataframe thead th {\n",
       "        text-align: left;\n",
       "    }\n",
       "\n",
       "    .dataframe tbody tr th {\n",
       "        vertical-align: top;\n",
       "    }\n",
       "</style>\n",
       "<table border=\"1\" class=\"dataframe\">\n",
       "  <thead>\n",
       "    <tr style=\"text-align: right;\">\n",
       "      <th></th>\n",
       "      <th>SUM_Offenses</th>\n",
       "    </tr>\n",
       "    <tr>\n",
       "      <th>beats_0</th>\n",
       "      <th></th>\n",
       "    </tr>\n",
       "  </thead>\n",
       "  <tbody>\n",
       "    <tr>\n",
       "      <th>01A10</th>\n",
       "      <td>28528.0</td>\n",
       "    </tr>\n",
       "    <tr>\n",
       "      <th>12D10</th>\n",
       "      <td>18820.0</td>\n",
       "    </tr>\n",
       "    <tr>\n",
       "      <th>19G10</th>\n",
       "      <td>16688.0</td>\n",
       "    </tr>\n",
       "    <tr>\n",
       "      <th>13D20</th>\n",
       "      <td>16609.0</td>\n",
       "    </tr>\n",
       "    <tr>\n",
       "      <th>06B60</th>\n",
       "      <td>16322.0</td>\n",
       "    </tr>\n",
       "    <tr>\n",
       "      <th>01A20</th>\n",
       "      <td>16294.0</td>\n",
       "    </tr>\n",
       "  </tbody>\n",
       "</table>\n",
       "</div>"
      ],
      "text/plain": [
       "         SUM_Offenses\n",
       "beats_0              \n",
       "01A10         28528.0\n",
       "12D10         18820.0\n",
       "19G10         16688.0\n",
       "13D20         16609.0\n",
       "06B60         16322.0\n",
       "01A20         16294.0"
      ]
     },
     "execution_count": 85,
     "metadata": {},
     "output_type": "execute_result"
    }
   ],
   "source": [
    "aggr_df = aggr_df[['beats_0', 'SUM_Offenses']]\n",
    "aggr_df.set_index('beats_0', inplace=True)\n",
    "aggr_df.sort_values('SUM_Offenses', ascending=False).head(6)"
   ]
  },
  {
   "cell_type": "code",
   "execution_count": 88,
   "metadata": {
    "collapsed": false
   },
   "outputs": [
    {
     "data": {
      "text/plain": [
       "<matplotlib.axes._subplots.AxesSubplot at 0x27989f365f8>"
      ]
     },
     "execution_count": 88,
     "metadata": {},
     "output_type": "execute_result"
    },
    {
     "data": {
      "image/png": "[encoded data removed]",
      "text/plain": [
       "<matplotlib.figure.Figure at 0x27989d23c88>"
      ]
     },
     "metadata": {},
     "output_type": "display_data"
    }
   ],
   "source": [
    "%matplotlib inline\n",
    "aggr_df.sort_values('SUM_Offenses', ascending=False).head(30).plot(kind='bar')"
   ]
  },
  {
   "cell_type": "code",
   "execution_count": 83,
   "metadata": {
    "collapsed": false
   },
   "outputs": [
    {
     "data": {
      "text/plain": [
       "<matplotlib.axes._subplots.AxesSubplot at 0x27989c38b38>"
      ]
     },
     "execution_count": 83,
     "metadata": {},
     "output_type": "execute_result"
    },
    {
     "data": {
      "image/png": "[encoded data removed]",
      "text/plain": [
       "<matplotlib.figure.Figure at 0x279883ec208>"
      ]
     },
     "metadata": {},
     "output_type": "display_data"
    }
   ],
   "source": [
    "%matplotlib inline\n",
    "aggr_df['SUM_Offenses'].hist()"
   ]
  },
  {
   "cell_type": "markdown",
   "metadata": {},
   "source": [
    "# Predictive analysis using Machine Learning\n",
    "\n",
    "But that’s still looking into the past and telling us what happened. Can we look into the future and predict or prevent crimes or be better equipped to handle them? \n",
    "\n",
    "Crime is a function of many complex variables that’s hard for humans to make sense of… but by using machine learning and artificial intelligence, computers can sift through this data and gain insights into what may be going on. "
   ]
  },
  {
   "cell_type": "markdown",
   "metadata": {},
   "source": [
    "### Feature engineering using data enrichment"
   ]
  },
  {
   "cell_type": "code",
   "execution_count": 89,
   "metadata": {
    "collapsed": true
   },
   "outputs": [],
   "source": [
    "from arcgis.features import enrich_data"
   ]
  },
  {
   "cell_type": "code",
   "execution_count": 90,
   "metadata": {
    "collapsed": false
   },
   "outputs": [
    {
     "name": "stdout",
     "output_type": "stream",
     "text": [
      "Submitted.\n",
      "Executing...\n"
     ]
    }
   ],
   "source": [
    "enriched_houston = enrich_data.enrich_layer(police_beats, data_collections = [\"KeyUSFacts\"], \n",
    "                                            analysis_variables=[\"AtRisk.AVGHINC_CY\",\"KeyUSFacts.DIVINDX_CY\"])"
   ]
  },
  {
   "cell_type": "code",
   "execution_count": 166,
   "metadata": {
    "collapsed": true
   },
   "outputs": [],
   "source": [
    "analysis_variables = [\n",
    "    'TOTPOP_CY',  # 2016 Population: Total Population (Esri)\n",
    "    'HHPOP_CY',   # 2016 Household Population (Esri)\n",
    "    'FAMPOP_CY',  # 2016 Family Population (Esri)\n",
    "    'DIVINDX_CY', # 2016 Diversity Index (Esri)\n",
    "    'TOTHH_CY',   # 2016 Total Households (Esri)\n",
    "    'AVGHHSZ_CY', # 2016 Average Household Size (Esri)\n",
    "\n",
    "    'MALES_CY',   # 2016 Gender: Male Population (Esri)\n",
    "    'FEMALES_CY', # 2016 Gender: Female Population (Esri)\n",
    "    \n",
    "    'MEDAGE_CY',  # 2016 Age: Median Age (Esri)\n",
    "    \n",
    "    'AVGFMSZ_CY', # 2016 Income: Average Family Size (Esri)\n",
    "    'MEDHINC_CY', # 2016 Income: Median Household Income (Esri)\n",
    "    'AVGHINC_CY', # 2016 Income: Average Household Income (Esri)\n",
    "        \n",
    "    'EDUCBASECY', # 2016 Educational Attainment Base (Esri)\n",
    "    'NOHS_CY',    # 2016 Education: Less than 9th Grade (Esri)\n",
    "    'SOMEHS_CY',  # 2016 Education: 9-12th Grade/No Diploma (Esri)\n",
    "    'HSGRAD_CY',  # 2016 Education: High School Diploma (Esri)\n",
    "    'GED_CY',     # 2016 Education: GED/Alternative Credential (Esri)\n",
    "    'SMCOLL_CY',  # 2016 Education: Some College/No Degree (Esri)\n",
    "    'ASSCDEG_CY', # 2016 Education: Associate's Degree (Esri)\n",
    "    'BACHDEG_CY', # 2016 Education: Bachelor's Degree (Esri)\n",
    "]"
   ]
  },
  {
   "cell_type": "code",
   "execution_count": 167,
   "metadata": {
    "collapsed": false
   },
   "outputs": [
    {
     "name": "stdout",
     "output_type": "stream",
     "text": [
      "Submitted.\n",
      "Executing...\n"
     ]
    }
   ],
   "source": [
    "enriched_crime = enrich_data.enrich_layer(police_beats,\n",
    "                                          analysis_variables=analysis_variables)"
   ]
  },
  {
   "cell_type": "code",
   "execution_count": 170,
   "metadata": {
    "collapsed": false
   },
   "outputs": [
    {
     "data": {
      "text/html": [
       "<div>\n",
       "<style>\n",
       "    .dataframe thead tr:only-child th {\n",
       "        text-align: right;\n",
       "    }\n",
       "\n",
       "    .dataframe thead th {\n",
       "        text-align: left;\n",
       "    }\n",
       "\n",
       "    .dataframe tbody tr th {\n",
       "        vertical-align: top;\n",
       "    }\n",
       "</style>\n",
       "<table border=\"1\" class=\"dataframe\">\n",
       "  <thead>\n",
       "    <tr style=\"text-align: right;\">\n",
       "      <th></th>\n",
       "      <th>ASSCDEG_CY</th>\n",
       "      <th>AVGFMSZ_CY</th>\n",
       "      <th>AVGHHSZ_CY</th>\n",
       "      <th>AVGHINC_CY</th>\n",
       "      <th>BACHDEG_CY</th>\n",
       "      <th>DIVINDX_CY</th>\n",
       "      <th>EDUCBASECY</th>\n",
       "      <th>ENRICH_FID</th>\n",
       "      <th>FAMPOP_CY</th>\n",
       "      <th>FEMALES_CY</th>\n",
       "      <th>...</th>\n",
       "      <th>objectid_1</th>\n",
       "      <th>objectid_12</th>\n",
       "      <th>perimet_mi</th>\n",
       "      <th>shape_leng</th>\n",
       "      <th>shape_st_1</th>\n",
       "      <th>shape_st_2</th>\n",
       "      <th>shape_star</th>\n",
       "      <th>shape_stle</th>\n",
       "      <th>sourceCountry</th>\n",
       "      <th>SHAPE</th>\n",
       "    </tr>\n",
       "  </thead>\n",
       "  <tbody>\n",
       "    <tr>\n",
       "      <th>0</th>\n",
       "      <td>0.0</td>\n",
       "      <td>0.00</td>\n",
       "      <td>0.00</td>\n",
       "      <td>0.0</td>\n",
       "      <td>0.0</td>\n",
       "      <td>0.0</td>\n",
       "      <td>0.0</td>\n",
       "      <td>1.0</td>\n",
       "      <td>0.0</td>\n",
       "      <td>0.0</td>\n",
       "      <td>...</td>\n",
       "      <td>1</td>\n",
       "      <td>1</td>\n",
       "      <td>9.254984</td>\n",
       "      <td>48866.313742</td>\n",
       "      <td>8.473145e+07</td>\n",
       "      <td>48866.313742</td>\n",
       "      <td>8.473145e+07</td>\n",
       "      <td>48866.313742</td>\n",
       "      <td>US</td>\n",
       "      <td>{'rings': [[[-10591016.05175769, 3454151.57706...</td>\n",
       "    </tr>\n",
       "    <tr>\n",
       "      <th>1</th>\n",
       "      <td>0.0</td>\n",
       "      <td>3.57</td>\n",
       "      <td>2.29</td>\n",
       "      <td>93321.0</td>\n",
       "      <td>16.0</td>\n",
       "      <td>79.6</td>\n",
       "      <td>30.0</td>\n",
       "      <td>2.0</td>\n",
       "      <td>25.0</td>\n",
       "      <td>14.0</td>\n",
       "      <td>...</td>\n",
       "      <td>2</td>\n",
       "      <td>2</td>\n",
       "      <td>7.153639</td>\n",
       "      <td>37771.213441</td>\n",
       "      <td>5.921056e+07</td>\n",
       "      <td>37771.213441</td>\n",
       "      <td>5.921056e+07</td>\n",
       "      <td>37771.213441</td>\n",
       "      <td>US</td>\n",
       "      <td>{'rings': [[[-10605043.981271267, 3459581.0059...</td>\n",
       "    </tr>\n",
       "    <tr>\n",
       "      <th>2</th>\n",
       "      <td>545.0</td>\n",
       "      <td>2.34</td>\n",
       "      <td>1.35</td>\n",
       "      <td>99836.0</td>\n",
       "      <td>1142.0</td>\n",
       "      <td>72.8</td>\n",
       "      <td>12007.0</td>\n",
       "      <td>3.0</td>\n",
       "      <td>818.0</td>\n",
       "      <td>2482.0</td>\n",
       "      <td>...</td>\n",
       "      <td>3</td>\n",
       "      <td>3</td>\n",
       "      <td>6.236709</td>\n",
       "      <td>32929.823999</td>\n",
       "      <td>4.868851e+07</td>\n",
       "      <td>32929.823996</td>\n",
       "      <td>4.868851e+07</td>\n",
       "      <td>32929.823996</td>\n",
       "      <td>US</td>\n",
       "      <td>{'rings': [[[-10614376.898870792, 3473632.3481...</td>\n",
       "    </tr>\n",
       "    <tr>\n",
       "      <th>3</th>\n",
       "      <td>869.0</td>\n",
       "      <td>2.55</td>\n",
       "      <td>1.64</td>\n",
       "      <td>112053.0</td>\n",
       "      <td>8333.0</td>\n",
       "      <td>63.8</td>\n",
       "      <td>20489.0</td>\n",
       "      <td>4.0</td>\n",
       "      <td>10231.0</td>\n",
       "      <td>11424.0</td>\n",
       "      <td>...</td>\n",
       "      <td>4</td>\n",
       "      <td>4</td>\n",
       "      <td>7.951329</td>\n",
       "      <td>41993.698682</td>\n",
       "      <td>6.803877e+07</td>\n",
       "      <td>41983.018467</td>\n",
       "      <td>6.803877e+07</td>\n",
       "      <td>41983.018467</td>\n",
       "      <td>US</td>\n",
       "      <td>{'rings': [[[-10617740.97474497, 3473028.47709...</td>\n",
       "    </tr>\n",
       "    <tr>\n",
       "      <th>4</th>\n",
       "      <td>709.0</td>\n",
       "      <td>2.55</td>\n",
       "      <td>1.66</td>\n",
       "      <td>123895.0</td>\n",
       "      <td>7777.0</td>\n",
       "      <td>60.6</td>\n",
       "      <td>21564.0</td>\n",
       "      <td>5.0</td>\n",
       "      <td>12226.0</td>\n",
       "      <td>12827.0</td>\n",
       "      <td>...</td>\n",
       "      <td>5</td>\n",
       "      <td>5</td>\n",
       "      <td>8.016405</td>\n",
       "      <td>42379.151925</td>\n",
       "      <td>7.406897e+07</td>\n",
       "      <td>42326.621053</td>\n",
       "      <td>7.406897e+07</td>\n",
       "      <td>42326.621053</td>\n",
       "      <td>US</td>\n",
       "      <td>{'rings': [[[-10619905.80550302, 3471864.28871...</td>\n",
       "    </tr>\n",
       "  </tbody>\n",
       "</table>\n",
       "<p>5 rows × 39 columns</p>\n",
       "</div>"
      ],
      "text/plain": [
       "   ASSCDEG_CY  AVGFMSZ_CY  AVGHHSZ_CY  AVGHINC_CY  BACHDEG_CY  DIVINDX_CY  \\\n",
       "0         0.0        0.00        0.00         0.0         0.0         0.0   \n",
       "1         0.0        3.57        2.29     93321.0        16.0        79.6   \n",
       "2       545.0        2.34        1.35     99836.0      1142.0        72.8   \n",
       "3       869.0        2.55        1.64    112053.0      8333.0        63.8   \n",
       "4       709.0        2.55        1.66    123895.0      7777.0        60.6   \n",
       "\n",
       "   EDUCBASECY  ENRICH_FID  FAMPOP_CY  FEMALES_CY  \\\n",
       "0         0.0         1.0        0.0         0.0   \n",
       "1        30.0         2.0       25.0        14.0   \n",
       "2     12007.0         3.0      818.0      2482.0   \n",
       "3     20489.0         4.0    10231.0     11424.0   \n",
       "4     21564.0         5.0    12226.0     12827.0   \n",
       "\n",
       "                         ...                          objectid_1  objectid_12  \\\n",
       "0                        ...                                   1            1   \n",
       "1                        ...                                   2            2   \n",
       "2                        ...                                   3            3   \n",
       "3                        ...                                   4            4   \n",
       "4                        ...                                   5            5   \n",
       "\n",
       "   perimet_mi    shape_leng    shape_st_1    shape_st_2    shape_star  \\\n",
       "0    9.254984  48866.313742  8.473145e+07  48866.313742  8.473145e+07   \n",
       "1    7.153639  37771.213441  5.921056e+07  37771.213441  5.921056e+07   \n",
       "2    6.236709  32929.823999  4.868851e+07  32929.823996  4.868851e+07   \n",
       "3    7.951329  41993.698682  6.803877e+07  41983.018467  6.803877e+07   \n",
       "4    8.016405  42379.151925  7.406897e+07  42326.621053  7.406897e+07   \n",
       "\n",
       "     shape_stle  sourceCountry  \\\n",
       "0  48866.313742             US   \n",
       "1  37771.213441             US   \n",
       "2  32929.823996             US   \n",
       "3  41983.018467             US   \n",
       "4  42326.621053             US   \n",
       "\n",
       "                                               SHAPE  \n",
       "0  {'rings': [[[-10591016.05175769, 3454151.57706...  \n",
       "1  {'rings': [[[-10605043.981271267, 3459581.0059...  \n",
       "2  {'rings': [[[-10614376.898870792, 3473632.3481...  \n",
       "3  {'rings': [[[-10617740.97474497, 3473028.47709...  \n",
       "4  {'rings': [[[-10619905.80550302, 3471864.28871...  \n",
       "\n",
       "[5 rows x 39 columns]"
      ]
     },
     "execution_count": 170,
     "metadata": {},
     "output_type": "execute_result"
    }
   ],
   "source": [
    "enriched_df = enriched_crime.query().df\n",
    "enriched_df.head()"
   ]
  },
  {
   "cell_type": "code",
   "execution_count": 171,
   "metadata": {
    "collapsed": false
   },
   "outputs": [
    {
     "data": {
      "text/plain": [
       "Index(['ASSCDEG_CY', 'AVGFMSZ_CY', 'AVGHHSZ_CY', 'AVGHINC_CY', 'BACHDEG_CY',\n",
       "       'DIVINDX_CY', 'EDUCBASECY', 'ENRICH_FID', 'FAMPOP_CY', 'FEMALES_CY',\n",
       "       'GED_CY', 'HHPOP_CY', 'HSGRAD_CY', 'HasData', 'ID', 'MALES_CY',\n",
       "       'MEDAGE_CY', 'MEDHINC_CY', 'NOHS_CY', 'SMCOLL_CY', 'SOMEHS_CY',\n",
       "       'TOTHH_CY', 'TOTPOP_CY', 'aggregationMethod', 'area_sq_mi', 'beats',\n",
       "       'beats_0', 'district', 'objectid', 'objectid_1', 'objectid_12',\n",
       "       'perimet_mi', 'shape_leng', 'shape_st_1', 'shape_st_2', 'shape_star',\n",
       "       'shape_stle', 'sourceCountry', 'SHAPE'],\n",
       "      dtype='object')"
      ]
     },
     "execution_count": 171,
     "metadata": {},
     "output_type": "execute_result"
    }
   ],
   "source": [
    "enriched_df.columns"
   ]
  },
  {
   "cell_type": "code",
   "execution_count": 173,
   "metadata": {
    "collapsed": true
   },
   "outputs": [],
   "source": [
    "edf = enriched_df[['beats_0'] + analysis_variables]"
   ]
  },
  {
   "cell_type": "markdown",
   "metadata": {},
   "source": [
    "### Merge with original crime dataframe"
   ]
  },
  {
   "cell_type": "code",
   "execution_count": 175,
   "metadata": {
    "collapsed": false
   },
   "outputs": [
    {
     "data": {
      "text/plain": [
       "Index(['OBJECTID', 'Date', 'Hour', 'DayOfWeek', 'Category', 'Offenses', 'Beat',\n",
       "       'Address', 'X', 'Y', 'SHAPE', 'beats_0', 'TOTPOP_CY', 'HHPOP_CY',\n",
       "       'FAMPOP_CY', 'DIVINDX_CY', 'TOTHH_CY', 'AVGHHSZ_CY', 'MALES_CY',\n",
       "       'FEMALES_CY', 'MEDAGE_CY', 'AVGFMSZ_CY', 'MEDHINC_CY', 'AVGHINC_CY',\n",
       "       'EDUCBASECY', 'NOHS_CY', 'SOMEHS_CY', 'HSGRAD_CY', 'GED_CY',\n",
       "       'SMCOLL_CY', 'ASSCDEG_CY', 'BACHDEG_CY'],\n",
       "      dtype='object')"
      ]
     },
     "execution_count": 175,
     "metadata": {},
     "output_type": "execute_result"
    }
   ],
   "source": [
    "merged_df = df.merge(edf, left_on='Beat', right_on='beats_0')\n",
    "merged_df.columns"
   ]
  },
  {
   "cell_type": "markdown",
   "metadata": {},
   "source": [
    "### Apply machine learning using Scikit-learn"
   ]
  },
  {
   "cell_type": "code",
   "execution_count": 177,
   "metadata": {
    "collapsed": true
   },
   "outputs": [],
   "source": [
    "import pandas as pd\n",
    "from sklearn.model_selection import train_test_split\n",
    "from sklearn import preprocessing\n",
    "from sklearn.metrics import log_loss\n",
    "from sklearn.naive_bayes import BernoulliNB\n",
    "from sklearn.linear_model import LogisticRegression\n",
    "import numpy as np"
   ]
  },
  {
   "cell_type": "code",
   "execution_count": 178,
   "metadata": {
    "collapsed": false
   },
   "outputs": [
    {
     "data": {
      "text/plain": [
       "array(['Aggravated Assault', 'Burglary', 'Robbery', 'Auto Theft', 'Theft',\n",
       "       'Rape', 'Murder', '1'], dtype=object)"
      ]
     },
     "execution_count": 178,
     "metadata": {},
     "output_type": "execute_result"
    }
   ],
   "source": [
    "df = merged_df\n",
    "df.Category.unique()"
   ]
  },
  {
   "cell_type": "code",
   "execution_count": 179,
   "metadata": {
    "collapsed": true
   },
   "outputs": [],
   "source": [
    "df = df[df.Category != '1']\n",
    "df = df[df.DayOfWeek != '']\n",
    "\n",
    "offence_encoder = preprocessing.LabelEncoder()\n",
    "offences = offence_encoder.fit_transform(df['Category'])\n",
    "\n",
    "hour = pd.get_dummies(df.Hour, prefix=\"hour\")\n",
    "day = pd.get_dummies(df.DayOfWeek, prefix=\"day\")\n",
    "beats = pd.get_dummies(df.Beat, prefix=\"beats\")"
   ]
  },
  {
   "cell_type": "code",
   "execution_count": 180,
   "metadata": {
    "collapsed": true
   },
   "outputs": [],
   "source": [
    "offence_encoder = preprocessing.LabelEncoder()\n",
    "offences = offence_encoder.fit_transform(df['Category'])"
   ]
  },
  {
   "cell_type": "code",
   "execution_count": 210,
   "metadata": {
    "collapsed": true
   },
   "outputs": [],
   "source": [
    "data = pd.concat([hour, day, beats], axis=1)"
   ]
  },
  {
   "cell_type": "code",
   "execution_count": 211,
   "metadata": {
    "collapsed": false
   },
   "outputs": [],
   "source": [
    "data['Violent'] = df['Category'].apply(lambda x : 1 if x in ['Murder', 'Rape', 'Aggravated Assault'] else 0)"
   ]
  },
  {
   "cell_type": "code",
   "execution_count": 206,
   "metadata": {
    "collapsed": false
   },
   "outputs": [],
   "source": [
    "data = data[:1000]"
   ]
  },
  {
   "cell_type": "code",
   "execution_count": 207,
   "metadata": {
    "collapsed": true
   },
   "outputs": [],
   "source": [
    "training, validation = train_test_split(data, train_size=.75)"
   ]
  },
  {
   "cell_type": "code",
   "execution_count": 208,
   "metadata": {
    "collapsed": true
   },
   "outputs": [],
   "source": [
    "features = list(training.columns)[:-1]"
   ]
  },
  {
   "cell_type": "code",
   "execution_count": 209,
   "metadata": {
    "collapsed": false
   },
   "outputs": [
    {
     "data": {
      "text/plain": [
       "SVC(C=1.0, cache_size=200, class_weight=None, coef0=0.0,\n",
       "  decision_function_shape=None, degree=3, gamma='auto', kernel='rbf',\n",
       "  max_iter=-1, probability=False, random_state=None, shrinking=True,\n",
       "  tol=0.001, verbose=False)"
      ]
     },
     "execution_count": 209,
     "metadata": {},
     "output_type": "execute_result"
    }
   ],
   "source": [
    "from sklearn.svm import SVC\n",
    "\n",
    "svc = SVC()\n",
    "svc.fit(training[features], training.Violent)"
   ]
  },
  {
   "cell_type": "markdown",
   "metadata": {},
   "source": [
    "### Check accuracy of SVC classifier"
   ]
  },
  {
   "cell_type": "code",
   "execution_count": 189,
   "metadata": {
    "collapsed": false
   },
   "outputs": [
    {
     "data": {
      "text/plain": [
       "0.79600000000000004"
      ]
     },
     "execution_count": 189,
     "metadata": {},
     "output_type": "execute_result"
    }
   ],
   "source": [
    "svc.score(training[features], training.Violent)"
   ]
  },
  {
   "cell_type": "code",
   "execution_count": 190,
   "metadata": {
    "collapsed": false
   },
   "outputs": [
    {
     "data": {
      "text/plain": [
       "0.78800000000000003"
      ]
     },
     "execution_count": 190,
     "metadata": {},
     "output_type": "execute_result"
    }
   ],
   "source": [
    "svc.score(validation[features], validation.Violent)"
   ]
  },
  {
   "cell_type": "markdown",
   "metadata": {},
   "source": [
    "# Once again, using entire data"
   ]
  },
  {
   "cell_type": "code",
   "execution_count": 212,
   "metadata": {
    "collapsed": false,
    "deletable": true,
    "editable": true
   },
   "outputs": [],
   "source": [
    "data = pd.concat([hour, day, beats], axis=1)\n",
    "data['Violent'] = df['Category'].apply(lambda x : 1 if x in ['Murder', 'Rape', 'Aggravated Assault'] else 0)"
   ]
  },
  {
   "cell_type": "code",
   "execution_count": 213,
   "metadata": {
    "collapsed": true,
    "deletable": true,
    "editable": true
   },
   "outputs": [],
   "source": [
    "training, validation = train_test_split(data, train_size=.75)"
   ]
  },
  {
   "cell_type": "code",
   "execution_count": 214,
   "metadata": {
    "collapsed": true,
    "deletable": true,
    "editable": true
   },
   "outputs": [],
   "source": [
    "features = list(training.columns)[:-1]"
   ]
  },
  {
   "cell_type": "code",
   "execution_count": 215,
   "metadata": {
    "collapsed": false,
    "deletable": true,
    "editable": true
   },
   "outputs": [
    {
     "data": {
      "text/plain": [
       "SVC(C=1.0, cache_size=200, class_weight=None, coef0=0.0,\n",
       "  decision_function_shape=None, degree=3, gamma='auto', kernel='rbf',\n",
       "  max_iter=-1, probability=False, random_state=None, shrinking=True,\n",
       "  tol=0.001, verbose=False)"
      ]
     },
     "execution_count": 215,
     "metadata": {},
     "output_type": "execute_result"
    }
   ],
   "source": [
    "from sklearn.svm import SVC\n",
    "\n",
    "svc = SVC()\n",
    "svc.fit(training[features], training.Violent)"
   ]
  },
  {
   "cell_type": "markdown",
   "metadata": {
    "deletable": true,
    "editable": true
   },
   "source": [
    "### Check accuracy of SVC classifier"
   ]
  },
  {
   "cell_type": "code",
   "execution_count": 216,
   "metadata": {
    "collapsed": false,
    "deletable": true,
    "editable": true
   },
   "outputs": [
    {
     "data": {
      "text/plain": [
       "0.91283468584793992"
      ]
     },
     "execution_count": 216,
     "metadata": {},
     "output_type": "execute_result"
    }
   ],
   "source": [
    "svc.score(training[features], training.Violent)"
   ]
  },
  {
   "cell_type": "code",
   "execution_count": 217,
   "metadata": {
    "collapsed": false,
    "deletable": true,
    "editable": true
   },
   "outputs": [
    {
     "data": {
      "text/plain": [
       "0.91278333372186093"
      ]
     },
     "execution_count": 217,
     "metadata": {},
     "output_type": "execute_result"
    }
   ],
   "source": [
    "svc.score(validation[features], validation.Violent)"
   ]
  }
 ],
 "metadata": {
  "anaconda-cloud": {},
  "kernelspec": {
   "display_name": "Python [conda env:arcgispro-py3]",
   "language": "python",
   "name": "conda-env-arcgispro-py3-py"
  },
  "language_info": {
   "codemirror_mode": {
    "name": "ipython",
    "version": 3
   },
   "file_extension": ".py",
   "mimetype": "text/x-python",
   "name": "python",
   "nbconvert_exporter": "python",
   "pygments_lexer": "ipython3",
   "version": "3.5.3"
  }
 },
 "nbformat": 4,
 "nbformat_minor": 1
}
