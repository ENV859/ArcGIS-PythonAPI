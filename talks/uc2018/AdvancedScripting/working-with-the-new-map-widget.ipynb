{
 "cells": [
  {
   "cell_type": "markdown",
   "metadata": {},
   "source": [
    "# Using the New Map Widget\n",
    "\n",
    "This version 1.5.beta of the ArcGIS API for Python includes a new map widget in Jupyter notebooks that adds support for 3D, WebScenes, HTML exporting, and more! To install the new beta version, [create a new conda environment](https://conda.io/docs/user-guide/tasks/manage-environments.html) and activate it. Then, run the following command:\n",
    "\n",
    "```conda install -c esri/label/beta arcgis```\n",
    "\n",
    "Run `jupyter notebook` to start a new server, and run the following line to assert that you successfully installed the correct beta version."
   ]
  },
  {
   "cell_type": "code",
   "execution_count": 2,
   "metadata": {},
   "outputs": [
    {
     "data": {
      "text/plain": [
       "'1.5.0-beta.9'"
      ]
     },
     "execution_count": 2,
     "metadata": {},
     "output_type": "execute_result"
    }
   ],
   "source": [
    "import arcgis\n",
    "arcgis.__version__"
   ]
  },
  {
   "cell_type": "markdown",
   "metadata": {},
   "source": [
    "You can view the API reference for v1.5.beta [here](https://esri.github.io/arcgis-python-api/apidoc/html/beta/arcgis.widgets.html#mapview)."
   ]
  },
  {
   "cell_type": "markdown",
   "metadata": {},
   "source": [
    "## Using the New Map Widget (2D Mode)"
   ]
  },
  {
   "cell_type": "markdown",
   "metadata": {},
   "source": [
    "Just like in previous versions of the ArcGIS API for Python, you create a map by creating any GIS() object, then calling `gis.map()`. Run the below cell:"
   ]
  },
  {
   "cell_type": "code",
   "execution_count": 4,
   "metadata": {},
   "outputs": [
    {
     "name": "stdout",
     "output_type": "stream",
     "text": [
      "Enter password: ········\n"
     ]
    },
    {
     "data": {
      "application/vnd.jupyter.widget-view+json": {
       "model_id": "a9c255b6b79646678fd60043c6f4bc50",
       "version_major": 2,
       "version_minor": 0
      },
      "text/plain": [
       "MapView(zoom=4.0)"
      ]
     },
     "metadata": {},
     "output_type": "display_data"
    }
   ],
   "source": [
    "from arcgis.gis import GIS\n",
    "gis = GIS(username=\"DavidJVitale\") #or specify portal\n",
    "usa_map = gis.map('USA', zoomlevel=4)\n",
    "usa_map"
   ]
  },
  {
   "cell_type": "markdown",
   "metadata": {},
   "source": [
    "This creates a standard 2D map that you are used to when using the ArcGIS API for Python. However, you will notice that clicking and dragging is a lot smoother in this widget. You can also zoom in and out with your mouse's scroll wheel. Finally, try right rotating the map by clicking and dragging with the right mouse button. v1.5.beta adds support for `rotation` in 2D mode! You can also set the rotation property of the map object from code by running the below cell:"
   ]
  },
  {
   "cell_type": "code",
   "execution_count": 5,
   "metadata": {},
   "outputs": [],
   "source": [
    "usa_map.rotation = 45"
   ]
  },
  {
   "cell_type": "markdown",
   "metadata": {},
   "source": [
    "v1.5.beta also includes the same support for WebMaps as previous versions of the API. Try running the below cell to view a public WebMap from the Living Atlas:"
   ]
  },
  {
   "cell_type": "code",
   "execution_count": 6,
   "metadata": {},
   "outputs": [
    {
     "data": {
      "application/vnd.jupyter.widget-view+json": {
       "model_id": "c9a0e1d1084b4058a96dcee8f09405bb",
       "version_major": 2,
       "version_minor": 0
      },
      "text/plain": [
       "MapView()"
      ]
     },
     "metadata": {},
     "output_type": "display_data"
    }
   ],
   "source": [
    "from arcgis.mapping import WebMap\n",
    "traffic_webmap_item = gis.content.get('bbdcd78953e5439985004023c8eda03d')\n",
    "traffic_webmap = WebMap(traffic_webmap_item)\n",
    "traffic_webmap"
   ]
  },
  {
   "cell_type": "markdown",
   "metadata": {},
   "source": [
    "# Using the New 3D Mode"
   ]
  },
  {
   "cell_type": "markdown",
   "metadata": {},
   "source": [
    "v1.5.beta also includes support for 3D mode! You can specify the 'mode' parameter through `gis.map(mode=\"foo\")`, or by setting the `mode` property of any instatiated map object. Run the below cell:"
   ]
  },
  {
   "cell_type": "code",
   "execution_count": 7,
   "metadata": {},
   "outputs": [
    {
     "data": {
      "application/vnd.jupyter.widget-view+json": {
       "model_id": "9f5bb93da87347fdb873ccf47a831fea",
       "version_major": 2,
       "version_minor": 0
      },
      "text/plain": [
       "MapView(mode='3D', zoom=4.0)"
      ]
     },
     "metadata": {},
     "output_type": "display_data"
    }
   ],
   "source": [
    "from arcgis.gis import GIS\n",
    "gis = GIS()\n",
    "usa_map = gis.map('USA', zoomlevel=4, mode=\"3D\") #Notice `mode=\"3D\"`\n",
    "usa_map"
   ]
  },
  {
   "cell_type": "markdown",
   "metadata": {},
   "source": [
    "Just like 2D mode, you can pan by click-and-drag with the left mouse button, and you can zoom with the mouse wheel. In 3D mode, click-and-drag with the right mouse button modifies the `tilt` field and the `heading` field. \n",
    "\n",
    "`tilt` is a number from 0-90: 0 represents a top-down 'birds-eye' view, while 90 represents being completely parallel to the ground, facing the horizon. \n",
    "\n",
    "It's important to note that 2D mode uses `rotation` to specify the number of angles clockwise from due north, while 3D mode uses `heading` to specify the number of degrees counterclockwise of due north. See the API reference for more information.\n",
    "\n",
    "Try running the below two cells, and replace them with your own values!"
   ]
  },
  {
   "cell_type": "code",
   "execution_count": 8,
   "metadata": {},
   "outputs": [],
   "source": [
    "usa_map.tilt = 45"
   ]
  },
  {
   "cell_type": "code",
   "execution_count": 9,
   "metadata": {},
   "outputs": [],
   "source": [
    "usa_map.heading = 45"
   ]
  },
  {
   "cell_type": "markdown",
   "metadata": {},
   "source": [
    "A new feature of the widget is how the `zoom`, `tilt`, `heading`/`rotation`, `basemap`, `center`, `extent`, etc. features are handled. Try running the below cell to gain insight into a few of those properties of the above `usa_map`:"
   ]
  },
  {
   "cell_type": "code",
   "execution_count": 11,
   "metadata": {},
   "outputs": [
    {
     "name": "stdout",
     "output_type": "stream",
     "text": [
      "Mode =\t\t3D\n",
      "Zoom =\t\t4.943245103298815\n",
      "Tilt =\t\t29.067994195609046\n",
      "Heading =\t346.834360466405\n"
     ]
    }
   ],
   "source": [
    "def print_map_info(map):\n",
    "    print(\"Mode =\\t\\t{}\".format(map.mode))\n",
    "    if map.mode == \"2D\":\n",
    "        print(\"Zoom =\\t\\t{}\\n\".format(map.zoom) + \\\n",
    "              \"Rotation =\\t{}\".format(map.rotation))\n",
    "    elif map.mode == \"3D\":\n",
    "        print(\"Zoom =\\t\\t{}\\n\".format(map.zoom) + \\\n",
    "              \"Tilt =\\t\\t{}\\n\".format(map.tilt) + \\\n",
    "              \"Heading =\\t{}\".format(map.heading))\n",
    "    else:\n",
    "        raise Exception(\"Not supported argument\")\n",
    "print_map_info(usa_map)"
   ]
  },
  {
   "cell_type": "markdown",
   "metadata": {},
   "source": [
    "Now, using your mouse, move the map to a new location, zoom in, modify the tilt and heading, etc. After you've move the camera, run the below cell to print out the current state of those properties:"
   ]
  },
  {
   "cell_type": "code",
   "execution_count": 9,
   "metadata": {},
   "outputs": [
    {
     "name": "stdout",
     "output_type": "stream",
     "text": [
      "Mode =\t\t3D\n",
      "Zoom =\t\t6.161755349663585\n",
      "Tilt =\t\t71.50776399062936\n",
      "Heading =\t72.54381993054785\n"
     ]
    }
   ],
   "source": [
    "print_map_info(usa_map)"
   ]
  },
  {
   "cell_type": "markdown",
   "metadata": {},
   "source": [
    "The values of those python variables have changed when you moved around in the widget! Experiment with printing out the values of `center`, `extent`, and any of the above properties. See the API reference for more information.\n",
    "\n",
    "Then, try clicking on this icon on the upper left corner of the widget:\n",
    "\n",
    "<img src=\" data:image/png;base64,iVBORw0KGgoAAAANSUhEUgAAACAAAAAhCAYAAAC4JqlRAAAKC2lDQ1BJQ0MgUHJvZmlsZQAASImFlndUVNcWxs+90xttYOi99w4DSO9NehWVYYChjsPAAGJDJKhARBERAUXQUBWMhiKxIIJYCAIKWNCABAElBgugopILJDHJe+u9PWuv81vfnPPNnnP/uB8AJA8Gh5MACwCQyE7h+jrbyQWHhMrhngEY0AAfwAIsg5nMsfX29gBI/bn+sxaGAbSy3tNe8frP7/9nCUZGJTMBgLwRpjM53BSE9yHsn5bCWeFRhIW5yFAIz60wa5Vh9ApHrLHY6h5/X3uEtQDAkxkMLgsAIh3R5VKZLMSHGIywHjsylo3wir8VM4YRifBNhLWiE3jpCL9b2ZOYuAXRSUoIq0X8zZP1D/+Iv/wZDNZfnJjAY/7xv1ZuhBzFDvBDVgmkpUA00AEJgAfSgRzgAC7YgiixiBKF3P1/P0dfPWeP7OSArciJWMACMSAFOe/0Ny+/VacUkAYYyJ4oRPFAPvYrz3HN8u2DVVeIhv+qxXQDYNyFiGJftejDALQuII8k+6umugMAIScAOg4yedzUNW3l6gEGEAE/EAbiQAYoAjWgDQyACbAANsARuAEv4A9CwCbAROZNRKZKA9vBbpAD8sBBcASUggpwCtSCs+A8aAWXwDVwA9wB/WAIPAZjYBK8BHNgASxBEISDKBAVEodkIWVIEzKA6JAV5Ah5QL5QCBQOsSA2xIO2Q3ugPKgQKoUqoTroe+gidA26BQ1AD6FxaAZ6A32EUTAZFoalYRVYF6bDtrA77A9vhFlwEpwBZ8MH4BK4Cj4Dt8DX4DvwEDwGv4TnUQBFQtFQ8ihtFB1lj/JChaKiUVzUTlQuqhhVhWpEtaN6UPdQY6hZ1Ac0Fk1Fy6G10RZoF3QAmolOQu9E56NL0bXoFnQX+h56HD2H/oKhYKQwmhhzjCsmGMPCpGFyMMWYakwzphszhJnELGCxWBpWFWuKdcGGYOOw27D52OPYJmwHdgA7gZ3H4XDiOE2cJc4Lx8Cl4HJwx3BncFdxg7hJ3Hs8CS+LN8A74UPxbHwWvhhfj7+CH8RP4ZcIAgRlgjnBixBJ2EooIJwmtBPuEiYJS0RBoirRkuhPjCPuJpYQG4ndxFHiWxKJpEAyI/mQYkmZpBLSOdJN0jjpA1mIrEG2J4eReeQD5BpyB/kh+S2FQlGh2FBCKSmUA5Q6ynXKU8p7PiqfDp8rXyTfLr4yvha+Qb5X/AR+ZX5b/k38GfzF/Bf47/LPChAEVATsBRgCOwXKBC4KjAjMC1IF9QW9BBMF8wXrBW8JTgvhhFSEHIUihbKFTgldF5qgoqiKVHsqk7qHepraTZ0UxgqrCrsKxwnnCZ8V7hOeExESMRIJFEkXKRO5LDJGQ9FUaK60BFoB7TxtmPZRVFrUVjRKdL9oo+ig6KKYpJiNWJRYrliT2JDYR3E5cUfxePFD4q3iTyTQEhoSPhJpEickuiVmJYUlLSSZkrmS5yUfScFSGlK+UtukTkn1Ss1Ly0g7S3Okj0lfl56VocnYyMTJFMlckZmRpcpaycbKFslelX0hJyJnK5cgVyLXJTcnLyXvIs+Tr5Tvk19SUFUIUMhSaFJ4okhUpCtGKxYpdirOKckqeSptV2pQeqRMUKYrxygfVe5RXlRRVQlS2avSqjKtKqbqqpqh2qA6qkZRs1ZLUqtSu6+OVaerx6sfV+/XgDWMNWI0yjTuasKaJpqxmsc1B7QwWmZabK0qrRFtsratdqp2g/a4Dk3HQydLp1Xnla6SbqjuId0e3S96xnoJeqf1HusL6bvpZ+m3678x0DBgGpQZ3DekGDoZ7jJsM3xtpGkUZXTC6IEx1djTeK9xp/FnE1MTrkmjyYypkmm4abnpCF2Y7k3Pp980w5jZme0yu2T2wdzEPMX8vPlvFtoW8Rb1FtPrVNdFrTu9bsJSwZJhWWk5ZiVnFW510mrMWt6aYV1l/cxG0SbSptpmylbdNs72jO0rOz07rl2z3aK9uf0O+w4HlIOzQ65Dn6OQY4BjqeNTJwUnllOD05yzsfM25w4XjIu7yyGXEVdpV6Zrneucm6nbDrcud7K7n3up+zMPDQ+uR7sn7OnmedhzdL3yevb6Vi/g5ep12OuJt6p3kvePPlgfb58yn+e++r7bfXv8qH6b/er9Fvzt/Av8HweoBfACOgP5A8MC6wIXgxyCCoPGgnWDdwTfCZEIiQ1pC8WFBoZWh85vcNxwZMNkmHFYTtjwRtWN6RtvbZLYlLDp8mb+zYzNF8Ix4UHh9eGfGF6MKsZ8hGtEecQc0555lPky0iayKHImyjKqMGoq2jK6MHqaZck6zJqJsY4pjpmNtY8tjX0d5xJXEbcY7xVfE7+cEJTQlIhPDE+8yBZix7O7tshsSd8ywNHk5HDGksyTjiTNcd251clQ8sbkthRh5OXZy1PjfcMbT7VKLUt9nxaYdiFdMJ2d3rtVY+v+rVMZThnfbUNvY27r3C6/fff28R22Oyp3QjsjdnbuUtyVvWsy0zmzdjdxd/zun7L0sgqz3u0J2tOeLZ2dmT3xjfM3DTl8Odyckb0Weyv2offF7uvbb7j/2P4vuZG5t/P08orzPuUz829/q/9tybfLB6IP9BWYFJw4iD3IPjh8yPpQbaFgYUbhxGHPwy1FckW5Re+ObD5yq9iouOIo8Sjv6FiJR0nbMaVjB499Ko0pHSqzK2sqlyrfX754PPL44AmbE40V0hV5FR9Pxp58UOlc2VKlUlV8Cnsq9dTz04Gne76jf1dXLVGdV/25hl0zVutb21VnWldXL1Vf0AA38BpmzoSd6T/rcLatUbuxsonWlHcOnOOde/F9+PfD593Pd16gX2j8QfmH8mZqc24L1LK1Za41pnWsLaRt4KLbxc52i/bmH3V+rLkkf6nsssjlgivEK9lXlq9mXJ3v4HTMXmNdm+jc3Pn4evD1+10+XX3d7t03bzjduN5j23P1puXNS7fMb128Tb/desfkTkuvcW/zT8Y/NfeZ9LXcNb3b1m/W3z6wbuDKoPXgtXsO927cd71/Z2j90MBwwPCDkbCRsQeRD6YfJjx8/Sj10dLjzFHMaO4TgSfFT6WeVv2s/nPTmMnY5XGH8d5nfs8eTzAnXv6S/MunyeznlOfFU7JTddMG05dmnGb6X2x4MfmS83JpNudXwV/LX6m9+uE3m99654LnJl9zXy+/yX8r/rbmndG7znnv+acLiQtLi7nvxd/XfqB/6PkY9HFqKe0T7lPJZ/XP7V/cv4wuJy4vcxhcxmoUQCENR0cD8KYGAEoIANR+JAttWMtcf+QZ6G/J5k8Ge7q+MgBruWy1TACo7gAgMBMAH6TLEVZBWgBpbxskFtoA2NDwr/6jkqMNDdZ+g9SKRJPi5eW3QQDg1AH4PLK8vNS6vPy5Ghn2EZJjFv7vbP/itTy4UgJnADhZYmRqatfPjM0E/6rfAa2Yv8xcgiP6AAABm2lUWHRYTUw6Y29tLmFkb2JlLnhtcAAAAAAAPHg6eG1wbWV0YSB4bWxuczp4PSJhZG9iZTpuczptZXRhLyIgeDp4bXB0az0iWE1QIENvcmUgNS40LjAiPgogICA8cmRmOlJERiB4bWxuczpyZGY9Imh0dHA6Ly93d3cudzMub3JnLzE5OTkvMDIvMjItcmRmLXN5bnRheC1ucyMiPgogICAgICA8cmRmOkRlc2NyaXB0aW9uIHJkZjphYm91dD0iIgogICAgICAgICAgICB4bWxuczpleGlmPSJodHRwOi8vbnMuYWRvYmUuY29tL2V4aWYvMS4wLyI+CiAgICAgICAgIDxleGlmOlBpeGVsWERpbWVuc2lvbj4zMjwvZXhpZjpQaXhlbFhEaW1lbnNpb24+CiAgICAgICAgIDxleGlmOlBpeGVsWURpbWVuc2lvbj4zMzwvZXhpZjpQaXhlbFlEaW1lbnNpb24+CiAgICAgIDwvcmRmOkRlc2NyaXB0aW9uPgogICA8L3JkZjpSREY+CjwveDp4bXBtZXRhPgrJfTTFAAAEEElEQVRYCcVWSSi1URh+7m+es2ChDJGNoSSxIDKELMisLOxIhpSFFMWGFSVlQYpSMm9MmVkokWxsjKEIkcxDnP97T//9/u/c+93P7brlrds957zvOe/zPecdjo5Jgl+UP7/om7v+dQC2agx8fHxgfHwcMzMzeHh4gI2NDdzd3ZGamors7GzY2dmpbbNozYiBy8tLlJeX4+vrC56enmhsbERSUhKam5txfn6O1tZWXF9fW+RMbZMA4P39HXV1daitrUVERARcXFyws7ODgIAA7tzPzw9VVVXo6OgAsWQN0SmzYHBwEPPz8/Dy8oKvry/S0tIQHByMz89PdHd3w9nZGSUlJVhcXMTNzQ0KCgp+jEGIgenpaRQWFiIhIQFubm7y4cRKVFQUnJyccH9/j7i4OFRUVHAA/f39sp1+cHx8jKamJv1U818A8Pr6it3dXe5MD2B5eRknJyd8je6+vr4eNTU1uLi44AcTI4aiBsrQRp7TFeglJyeH3d3dsba2Nr50dHTEYmNjmUS33oT/b29vM4kFYU056evrU041xwIDFHTEAmWA5ITfM2UCUa+Uvb09BAYGKpcsHgtZkJ6ejoGBAR7pc3NzSElJgcQAysrKUFlZyWsCedrc3ERGRobglIL38PBQWHt+fsbo6KiwZjRR8vP29saKiopYT08Pm5ycVKpYQ0MDe3p6Yvv7+6y4uJhJKSvoJdbY0tISOzg4YHQFZDs2NsYkEIKd4URgwN7eHu3t7TzNtra2cHZ2JgOmiriyssL1UowYVUOdTofExEReL6hgEYPEkuH1yQf+Gwh1QK+kgkTU6Uuxq6srHB0dkZycjNzcXBBQLaH4CQ0NhYODg5YZ16kC+HaXFQ2ELFA7V4oLXhsiIyPV1IiJiQGVaC25urrizYxYPD09xcbGxn9zw6BQzl9eXtjExARraWlha2trSpU8zsvLk8dqA9pfWlrKpArK1Yb2QhD+hwVIzkGlmVqwj48P/1FVlE5RmmmOqSRLmYGuri6htCs3mQQwNTUFqgvUgEiCgoI41QsLC8r9mmOqF3QGvSdMickYkKgy2kMg6GeO0LtieHgYQ0NDmuYmGdDc9Y2S2vf6+jri4+M1v56OMcnANz6M1BQbs7OzCAsLg1Qp4e3tDakiGtkZLpgFgIJJrcUqWzGlWmdnJ0JCQiBlDcLDw2Fra8uZoAdMdXW1aiCaBcCcxwXl9u3tLQdADxYSYmB1dRX+/v6gmKJn3OPjo0CCWQCEHSYmmZmZvFvS/ZPQlVApVwYhrWVlZQknWDUI6S1JTulLe3t7ER0dLTijhmXYH6wKgJqWh4cHj3z6p9ihdNSSHzej/Px8rfNVdSMjI/L6jwHIJ1k4sOoVWILh1wHoJNTmtzdLPvGbPX8B+oK/SRLkYV0AAAAASUVORK5CYII=\"> \n",
    "\n",
    "You'll notice that you've switched from 3D mode to 2D mode! All properties, including `map.mode` have been updated! Try running the below cell to see what your current values are:"
   ]
  },
  {
   "cell_type": "code",
   "execution_count": 10,
   "metadata": {},
   "outputs": [
    {
     "name": "stdout",
     "output_type": "stream",
     "text": [
      "Mode =\t\t2D\n",
      "Zoom =\t\t6.0\n",
      "Rotation =\t287.4557570529687\n"
     ]
    }
   ],
   "source": [
    "print_map_info(usa_map)"
   ]
  },
  {
   "cell_type": "markdown",
   "metadata": {},
   "source": [
    "You can always click the icon on the upper left corner to switch between 2D and 3D mode. The widget will do it's best to preserve your current view."
   ]
  },
  {
   "cell_type": "markdown",
   "metadata": {},
   "source": [
    "# 3D Feature Layers"
   ]
  },
  {
   "cell_type": "markdown",
   "metadata": {},
   "source": [
    "Let's create a new map of Zion National Park in Utah. 3D mode will show the elevation of the many canyons, rides, and elevation changes. It will even cast shadows. Run the below cell and explore!"
   ]
  },
  {
   "cell_type": "code",
   "execution_count": 12,
   "metadata": {
    "hidden": true
   },
   "outputs": [
    {
     "data": {
      "application/vnd.jupyter.widget-view+json": {
       "model_id": "11b967e3b8054538b4b122bb707d1ce2",
       "version_major": 2,
       "version_minor": 0
      },
      "text/plain": [
       "MapView(heading=180.0, mode='3D', tilt=40.0, zoom=15.0)"
      ]
     },
     "metadata": {},
     "output_type": "display_data"
    }
   ],
   "source": [
    "from arcgis.gis import GIS\n",
    "zion_map = gis.map(\"Angel's Landing UT\", 15)\n",
    "zion_map.mode = \"3D\"\n",
    "zion_map.tilt= 40\n",
    "zion_map.heading = 180\n",
    "\n",
    "zion_map"
   ]
  },
  {
   "cell_type": "markdown",
   "metadata": {},
   "source": [
    "You can also add Portal items and layers to the 3D map just like before. Run the below cell to add a layer of trails: notice how the trails follow the elevation changes of the land!"
   ]
  },
  {
   "cell_type": "code",
   "execution_count": 13,
   "metadata": {
    "hidden": true
   },
   "outputs": [],
   "source": [
    "trails_layer = gis.content.get('dd0889d7ccd340dd876dac12184e99f9').layers[0]\n",
    "zion_map.add_layer(trails_layer)"
   ]
  },
  {
   "cell_type": "markdown",
   "metadata": {},
   "source": [
    "v1.5.beta of the Python API also supports specifying Javascript renderers via [autocasting](https://developers.arcgis.com/javascript/latest/guide/autocasting/index.html). This Python API displays maps in a Jupyter notebook by leveraging the ArcGIS API for JavaScript. By specifying `renderer: \"autocast\"` for any renderer, you are directing Python to allow the Javascript API to attempt to infer the renderer by following Javascript API rules. Since Python `dict`'s map directly to JavaScript `JSON`, you can specify any [Javascript Renderer](https://developers.arcgis.com/javascript/latest/api-reference/esri-renderers-Renderer.html) for a large range of visualization options! Try running the below code snippet to use a `SimpleRenderer` with a `LineSymbol3D` symbol:"
   ]
  },
  {
   "cell_type": "code",
   "execution_count": 14,
   "metadata": {
    "hidden": true
   },
   "outputs": [],
   "source": [
    "symbol = {\n",
    "  \"type\": \"line-3d\",  # JS type of new LineSymbol3D()\n",
    "  \"symbolLayers\": [{\n",
    "    \"type\": \"path\",  # JS type of new PathSymbol3DLayer()\n",
    "    \"size\": 20,  # 20 meters in diameter\n",
    "    \"material\": { \"color\": \"#0083ff\" } #The hex color code\n",
    "  }]\n",
    "}\n",
    "zion_map.add_layer(trails_layer,\n",
    "    {\"renderer\" : \"autocast\", #Tell Python to autocast JS types\n",
    "     \"type\" : \"simple\",  #JS type of SimpleRenderer()\n",
    "     \"symbol\": symbol}   #The symbol we previously defined\n",
    ")"
   ]
  },
  {
   "cell_type": "markdown",
   "metadata": {},
   "source": [
    "You will notice a much more 3D friendly representation of trails! You can then specify some properties to propery visualize the \"Angel's Landing\" hike in Zion, one of the most dangerous and exciting hikes in the US! Run the below cell:"
   ]
  },
  {
   "cell_type": "code",
   "execution_count": 23,
   "metadata": {},
   "outputs": [],
   "source": [
    "zion_map.center = {'spatialReference': {'latestWkid': 3857, 'wkid': 102100},\n",
    " 'x': -12573456.64044217,\n",
    " 'y': 4476861.2153126905,\n",
    " 'z': 1638.3878966225311}\n",
    "zion_map.zoom= 15.528381436708822\n",
    "zion_map.heading = 190\n",
    "zion_map.tilt = 45"
   ]
  },
  {
   "cell_type": "markdown",
   "metadata": {},
   "source": [
    "You can save your current work as a WebScene by calling `map.save()`. Run the following code to save your WebScene!"
   ]
  },
  {
   "cell_type": "code",
   "execution_count": 24,
   "metadata": {},
   "outputs": [
    {
     "data": {
      "text/html": [
       "<div class=\"item_container\" style=\"height: auto; overflow: hidden; border: 1px solid #cfcfcf; border-radius: 2px; background: #f6fafa; line-height: 1.21429em; padding: 10px;\">\n",
       "                    <div class=\"item_left\" style=\"width: 210px; float: left;\">\n",
       "                       <a href='https://geosaurus.maps.arcgis.com/home/item.html?id=11e263f0c61f469ebb40922c35954d89' target='_blank'>\n",
       "                        <img src='http://static.arcgis.com/images/desktopapp.png' class=\"itemThumbnail\">\n",
       "                       </a>\n",
       "                    </div>\n",
       "\n",
       "                    <div class=\"item_right\"     style=\"float: none; width: auto; overflow: hidden;\">\n",
       "                        <a href='https://geosaurus.maps.arcgis.com/home/item.html?id=11e263f0c61f469ebb40922c35954d89' target='_blank'><b>My Zion Park Web Scene</b>\n",
       "                        </a>\n",
       "                        <br/>What I made in the new beta ArcGIS API for Python!<img src='https://geosaurus.maps.arcgis.com/home/js/jsapi/esri/css/images/item_type_icons/websceneglobal16.png' style=\"vertical-align:middle;\">Web Scene by DavidJVitale\n",
       "                        <br/>Last Modified: July 09, 2018\n",
       "                        <br/>0 comments, 0 views\n",
       "                    </div>\n",
       "                </div>\n",
       "                "
      ],
      "text/plain": [
       "<Item title:\"My Zion Park Web Scene\" type:Web Scene owner:DavidJVitale>"
      ]
     },
     "execution_count": 24,
     "metadata": {},
     "output_type": "execute_result"
    }
   ],
   "source": [
    "my_zion_webscene_item = \\\n",
    "    zion_map.save({'title' : 'My Zion Park Web Scene',\n",
    "                   'snippet' : 'What I made in the new beta ArcGIS API for Python!',\n",
    "                   'tags' : 'zion, NPS, python'})\n",
    "my_zion_webscene_item"
   ]
  },
  {
   "cell_type": "markdown",
   "metadata": {},
   "source": [
    "You can also view any accesible WebScene by passing in the corresponding portal item, just like viewing WebMaps! Run the below code to see someone else's WebScene of Zion National Park:"
   ]
  },
  {
   "cell_type": "code",
   "execution_count": 25,
   "metadata": {},
   "outputs": [
    {
     "data": {
      "application/vnd.jupyter.widget-view+json": {
       "model_id": "1c2be656a38b4f388e8596f46f5cba6f",
       "version_major": 2,
       "version_minor": 0
      },
      "text/plain": [
       "WebScene(mode='3D')"
      ]
     },
     "metadata": {},
     "output_type": "display_data"
    }
   ],
   "source": [
    "from arcgis.mapping import WebScene\n",
    "other_zion_item = gis.content.get('421433baeb8d487b903d4a89df79149b')\n",
    "other_zion_webscene = WebScene(other_zion_item)\n",
    "other_zion_webscene"
   ]
  },
  {
   "cell_type": "markdown",
   "metadata": {},
   "source": [
    "You are only limitted in your visualization options by the Javascript API: you can specify any renderer and modify any properties of said renderer. To show how poewrful this really is, let's use the SimpleRenderer's [visual variables](https://developers.arcgis.com/javascript/latest/api-reference/esri-renderers-SimpleRenderer.html#visualVariables) functionality. Run the below cell to see a standard Feature Layer about Hurricane tracks in 2D mode."
   ]
  },
  {
   "cell_type": "code",
   "execution_count": 15,
   "metadata": {},
   "outputs": [
    {
     "data": {
      "application/vnd.jupyter.widget-view+json": {
       "model_id": "1db5180cff9e4bc4a6da75e26c199992",
       "version_major": 2,
       "version_minor": 0
      },
      "text/plain": [
       "MapView(zoom=3.0)"
      ]
     },
     "metadata": {},
     "output_type": "display_data"
    }
   ],
   "source": [
    "from arcgis.gis import GIS\n",
    "from arcgis.features import FeatureLayer\n",
    "anon_gis = GIS()\n",
    "hurricane_layer = FeatureLayer(\n",
    "    url=\"https://sampleserver6.arcgisonline.com/arcgis/rest/services/Hurricanes/MapServer/0\")\n",
    "hurricane_map = anon_gis.map('Atlantic Ocean', 3)\n",
    "hurricane_map.add_layer(hurricane_layer)\n",
    "hurricane_map"
   ]
  },
  {
   "cell_type": "markdown",
   "metadata": {},
   "source": [
    "You can represent this same information on a 3D map by specifying a SimpleRenderer using white spheres. Run the below cell, click on some points, and examine some fields:"
   ]
  },
  {
   "cell_type": "code",
   "execution_count": 16,
   "metadata": {},
   "outputs": [
    {
     "data": {
      "application/vnd.jupyter.widget-view+json": {
       "model_id": "aff7a40f58164d1396117030736ae0fd",
       "version_major": 2,
       "version_minor": 0
      },
      "text/plain": [
       "MapView(mode='3D', zoom=3.0)"
      ]
     },
     "metadata": {},
     "output_type": "display_data"
    }
   ],
   "source": [
    "hurricane_map_3D = anon_gis.map('Atlantic Ocean', 3)\n",
    "hurricane_map_3D.mode = \"3D\"\n",
    "renderer = {\"renderer\": \"autocast\", #This tells python to use JS autocasting\n",
    "  \"type\": \"simple\",  # JS type of new SimpleRenderer()\n",
    "  \"symbol\": {\n",
    "    \"type\": \"point-3d\",  #JS type of new PointSymbol3D()\n",
    "    \"symbolLayers\": [{  \n",
    "      \"type\": \"object\",  #JS type of new ObjectSymbol3DLayer()\n",
    "      \"resource\": { \"primitive\": \"sphere\" },\n",
    "      \"width\": 50000\n",
    "    }]\n",
    "  },\n",
    "}\n",
    "\n",
    "hurricane_map_3D.add_layer(hurricane_layer, renderer)\n",
    "hurricane_map_3D"
   ]
  },
  {
   "cell_type": "markdown",
   "metadata": {},
   "source": [
    "Now that we have the base set up, lets specify the `visualVariables` field to vary the color of each point for the changing `PRESSURE` field, and vary the size of each point for the changing `WINDSPEED` field. Run the below cell, then try modifying the options to see different results! Maybe try tuning the `\"value\"` fields to see different color and size variations."
   ]
  },
  {
   "cell_type": "code",
   "execution_count": 18,
   "metadata": {},
   "outputs": [
    {
     "data": {
      "application/vnd.jupyter.widget-view+json": {
       "model_id": "f856209557a948e395822018d73f1d38",
       "version_major": 2,
       "version_minor": 0
      },
      "text/plain": [
       "MapView(mode='3D', zoom=3.0)"
      ]
     },
     "metadata": {},
     "output_type": "display_data"
    }
   ],
   "source": [
    "visual_var_map = anon_gis.map('Atlantic Ocean', 3)\n",
    "visual_var_map.mode = \"3D\"\n",
    "#Update the renderer to include visual variable information\n",
    "renderer[\"visualVariables\"] = [{ #JS configuration of visualVariables\n",
    "    \"type\": \"color\",\n",
    "    \"field\": \"PRESSURE\", \n",
    "    \"stops\": [\n",
    "      { \"value\": 950, \"color\": \"red\" },\n",
    "      { \"value\": 1020, \"color\": \"blue\" }\n",
    "    ]\n",
    "  }, {\n",
    "    \"type\": \"size\",\n",
    "    \"field\": \"WINDSPEED\",\n",
    "    \"stops\": [\n",
    "      { \"value\": 20, \"size\": 60000 },\n",
    "      { \"value\": 150, \"size\": 500000 }\n",
    "    ],\n",
    "    \"axis\": \"height\"\n",
    "  }, {\n",
    "    \"type\": \"size\",\n",
    "    \"axis\": \"width-and-depth\",\n",
    "    \"useSymbolValue\": True\n",
    "  }]\n",
    "visual_var_map.add_layer(hurricane_layer, renderer)\n",
    "visual_var_map"
   ]
  },
  {
   "cell_type": "markdown",
   "metadata": {},
   "source": [
    "## Export to HTML"
   ]
  },
  {
   "cell_type": "markdown",
   "metadata": {},
   "source": [
    "Another new feature in v1.5.beta is the ability to export the current widget as a standalone HTML file. This added functionality provides a new workflow for creating standalone HTML maps that can be shared with anyone: all they need is a web browser!\n",
    "\n",
    "The below cell will write the current widget to the file specified by a string path. Run the cell, find the file on your disk, and open it in your favorite web browser.\n",
    "\n",
    "> Note: You must use publically accesible layers on exported HTML maps"
   ]
  },
  {
   "cell_type": "code",
   "execution_count": 20,
   "metadata": {},
   "outputs": [],
   "source": [
    "#Use this string unix based file systems\n",
    "file_path = \"/Users/davi9349/devel/uc2018/myHurricaneMap.html\"\n",
    "#Use this string for Windows based file systems\n",
    "#file_path = r\"C:\\Users\\username\\myHurricaneMap.html\"\n",
    "visual_var_map.export_to_html(file_path)"
   ]
  },
  {
   "cell_type": "code",
   "execution_count": null,
   "metadata": {},
   "outputs": [],
   "source": []
  }
 ],
 "metadata": {
  "kernelspec": {
   "display_name": "Python 3",
   "language": "python",
   "name": "python3"
  },
  "language_info": {
   "codemirror_mode": {
    "name": "ipython",
    "version": 3
   },
   "file_extension": ".py",
   "mimetype": "text/x-python",
   "name": "python",
   "nbconvert_exporter": "python",
   "pygments_lexer": "ipython3",
   "version": "3.6.5"
  }
 },
 "nbformat": 4,
 "nbformat_minor": 2
}
