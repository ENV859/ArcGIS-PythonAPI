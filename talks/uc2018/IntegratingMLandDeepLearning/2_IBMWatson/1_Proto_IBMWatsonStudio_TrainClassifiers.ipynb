{
 "cells": [
  {
   "cell_type": "markdown",
   "metadata": {},
   "source": [
    "# Train Watson Classifiers\n",
    "\n",
    "###### Author: Alberto Nieto\n",
    "###### Organization: Esri\n",
    "###### Date: June, 2017\n",
    "![Machine Learning Integration](../img/integration2.jpg)"
   ]
  },
  {
   "cell_type": "markdown",
   "metadata": {},
   "source": [
    "# Pseudocode"
   ]
  },
  {
   "cell_type": "markdown",
   "metadata": {},
   "source": [
    "Goal: To train three classification models for the three cameras to be used in the Cobb County pedestrian management scenario.\n",
    "\n",
    "Procedure:\n",
    "1. Authenticate with Watson Studio\n",
    "2. Establish models\n",
    "3. Query model status"
   ]
  },
  {
   "cell_type": "markdown",
   "metadata": {},
   "source": [
    "# 1. Preparation and Authentication"
   ]
  },
  {
   "cell_type": "code",
   "execution_count": 1,
   "metadata": {
    "collapsed": true
   },
   "outputs": [],
   "source": [
    "import os\n",
    "from watson_developer_cloud import VisualRecognitionV3\n",
    "import json\n",
    "from IPython.display import Image\n",
    "from IPython.core.display import HTML "
   ]
  },
  {
   "cell_type": "code",
   "execution_count": 2,
   "metadata": {
    "collapsed": true
   },
   "outputs": [],
   "source": [
    "visual_recognition = VisualRecognitionV3(\n",
    "    '2018-03-19',\n",
    "    iam_api_key=os.environ['BLUEMIX_API_KEY'])"
   ]
  },
  {
   "cell_type": "markdown",
   "metadata": {},
   "source": [
    "# 2. Model Training"
   ]
  },
  {
   "cell_type": "code",
   "execution_count": 3,
   "metadata": {},
   "outputs": [
    {
     "name": "stdout",
     "output_type": "stream",
     "text": [
      "{\n",
      "  \"classifier_id\": \"Esri_Classification_CobbCounty_1653483892\",\n",
      "  \"name\": \"Esri_Classification_CobbCounty_Cam128_v2\",\n",
      "  \"status\": \"training\",\n",
      "  \"owner\": \"52d3c878-5f0a-44c6-b191-358d19be7bc5\",\n",
      "  \"created\": \"2018-06-29T16:48:56.598Z\",\n",
      "  \"updated\": \"2018-06-29T16:48:56.598Z\",\n",
      "  \"classes\": [\n",
      "    {\n",
      "      \"class\": \"low\"\n",
      "    },\n",
      "    {\n",
      "      \"class\": \"medium\"\n",
      "    },\n",
      "    {\n",
      "      \"class\": \"high\"\n",
      "    }\n",
      "  ],\n",
      "  \"core_ml_enabled\": true\n",
      "}\n"
     ]
    }
   ],
   "source": [
    "with open('LabeledData/Cam128/High_128.zip', 'rb') as high128, open(\n",
    "    'LabeledData/Cam128/Medium_128.zip', 'rb') as medium128, open(\n",
    "    'LabeledData/Cam128/Low_128.zip', 'rb') as low128:\n",
    "    model = visual_recognition.create_classifier(\n",
    "        'Esri_Classification_CobbCounty_Cam128_v2',\n",
    "        high_positive_examples=high128,\n",
    "        medium_positive_examples=medium128,\n",
    "        low_positive_examples=low128)\n",
    "print(json.dumps(model, indent=2))"
   ]
  },
  {
   "cell_type": "code",
   "execution_count": 4,
   "metadata": {},
   "outputs": [
    {
     "name": "stdout",
     "output_type": "stream",
     "text": [
      "{\n",
      "  \"classifier_id\": \"Esri_Classification_CobbCounty_1492191311\",\n",
      "  \"name\": \"Esri_Classification_CobbCounty_Cam129_v2\",\n",
      "  \"status\": \"training\",\n",
      "  \"owner\": \"52d3c878-5f0a-44c6-b191-358d19be7bc5\",\n",
      "  \"created\": \"2018-06-29T16:49:13.296Z\",\n",
      "  \"updated\": \"2018-06-29T16:49:13.296Z\",\n",
      "  \"classes\": [\n",
      "    {\n",
      "      \"class\": \"low\"\n",
      "    },\n",
      "    {\n",
      "      \"class\": \"medium\"\n",
      "    },\n",
      "    {\n",
      "      \"class\": \"high\"\n",
      "    }\n",
      "  ],\n",
      "  \"core_ml_enabled\": true\n",
      "}\n"
     ]
    }
   ],
   "source": [
    "with open('LabeledData/Cam129/High_129.zip', 'rb') as high129, open(\n",
    "    'LabeledData/Cam129/Medium_129.zip', 'rb') as medium129, open(\n",
    "    'LabeledData/Cam129/Low_129.zip', 'rb') as low129:\n",
    "    model129 = visual_recognition.create_classifier(\n",
    "        'Esri_Classification_CobbCounty_Cam129_v2',\n",
    "        high_positive_examples=high129,\n",
    "        medium_positive_examples=medium129,\n",
    "        low_positive_examples=low129)\n",
    "print(json.dumps(model129, indent=2))"
   ]
  },
  {
   "cell_type": "code",
   "execution_count": 5,
   "metadata": {},
   "outputs": [
    {
     "name": "stdout",
     "output_type": "stream",
     "text": [
      "{\n",
      "  \"classifier_id\": \"Esri_Classification_CobbCounty_1442278062\",\n",
      "  \"name\": \"Esri_Classification_CobbCounty_Cam130_v2\",\n",
      "  \"status\": \"training\",\n",
      "  \"owner\": \"52d3c878-5f0a-44c6-b191-358d19be7bc5\",\n",
      "  \"created\": \"2018-06-29T16:49:37.354Z\",\n",
      "  \"updated\": \"2018-06-29T16:49:37.354Z\",\n",
      "  \"classes\": [\n",
      "    {\n",
      "      \"class\": \"low\"\n",
      "    },\n",
      "    {\n",
      "      \"class\": \"medium\"\n",
      "    },\n",
      "    {\n",
      "      \"class\": \"high\"\n",
      "    }\n",
      "  ],\n",
      "  \"core_ml_enabled\": true\n",
      "}\n"
     ]
    }
   ],
   "source": [
    "with open('LabeledData/Cam130/High_130.zip', 'rb') as high130, open(\n",
    "    'LabeledData/Cam130/Medium_130.zip', 'rb') as medium130, open(\n",
    "    'LabeledData/Cam130/Low_130.zip', 'rb') as low130:\n",
    "    model130 = visual_recognition.create_classifier(\n",
    "        'Esri_Classification_CobbCounty_Cam130_v2',\n",
    "        high_positive_examples=high130,\n",
    "        medium_positive_examples=medium130,\n",
    "        low_positive_examples=low130)\n",
    "print(json.dumps(model130, indent=2))"
   ]
  },
  {
   "cell_type": "markdown",
   "metadata": {},
   "source": [
    "# 3. Model Status"
   ]
  },
  {
   "cell_type": "code",
   "execution_count": 10,
   "metadata": {},
   "outputs": [
    {
     "data": {
      "text/plain": [
       "{'classifiers': [{'classes': [{'class': 'low'},\n",
       "    {'class': 'medium'},\n",
       "    {'class': 'high'}],\n",
       "   'classifier_id': 'Esri_Classification_CobbCounty_1653483892',\n",
       "   'core_ml_enabled': True,\n",
       "   'created': '2018-06-29T16:48:56.598Z',\n",
       "   'name': 'Esri_Classification_CobbCounty_Cam128_v2',\n",
       "   'owner': '52d3c878-5f0a-44c6-b191-358d19be7bc5',\n",
       "   'status': 'ready',\n",
       "   'updated': '2018-06-29T16:48:56.598Z'},\n",
       "  {'classes': [{'class': 'low'}, {'class': 'medium'}, {'class': 'high'}],\n",
       "   'classifier_id': 'Esri_Classification_CobbCounty_1492191311',\n",
       "   'core_ml_enabled': True,\n",
       "   'created': '2018-06-29T16:49:13.296Z',\n",
       "   'name': 'Esri_Classification_CobbCounty_Cam129_v2',\n",
       "   'owner': '52d3c878-5f0a-44c6-b191-358d19be7bc5',\n",
       "   'status': 'ready',\n",
       "   'updated': '2018-06-29T16:49:13.296Z'},\n",
       "  {'classes': [{'class': 'low'}, {'class': 'medium'}, {'class': 'high'}],\n",
       "   'classifier_id': 'Esri_Classification_CobbCounty_371717976',\n",
       "   'core_ml_enabled': True,\n",
       "   'created': '2018-06-26T15:08:09.890Z',\n",
       "   'name': 'Esri_Classification_CobbCounty_Cam130',\n",
       "   'owner': '52d3c878-5f0a-44c6-b191-358d19be7bc5',\n",
       "   'status': 'ready',\n",
       "   'updated': '2018-06-26T15:08:09.890Z'},\n",
       "  {'classes': [{'class': 'low'}, {'class': 'medium'}, {'class': 'high'}],\n",
       "   'classifier_id': 'Esri_Classification_CobbCounty_1256542849',\n",
       "   'core_ml_enabled': True,\n",
       "   'created': '2018-06-26T15:00:48.899Z',\n",
       "   'name': 'Esri_Classification_CobbCounty_Cam128',\n",
       "   'owner': '52d3c878-5f0a-44c6-b191-358d19be7bc5',\n",
       "   'status': 'ready',\n",
       "   'updated': '2018-06-26T15:00:48.899Z'},\n",
       "  {'classes': [{'class': 'low'}, {'class': 'medium'}, {'class': 'high'}],\n",
       "   'classifier_id': 'Esri_Classification_CobbCounty_361684145',\n",
       "   'core_ml_enabled': True,\n",
       "   'created': '2018-06-26T15:06:56.039Z',\n",
       "   'name': 'Esri_Classification_CobbCounty_Cam129',\n",
       "   'owner': '52d3c878-5f0a-44c6-b191-358d19be7bc5',\n",
       "   'status': 'ready',\n",
       "   'updated': '2018-06-26T15:06:56.039Z'},\n",
       "  {'classes': [{'class': 'low'}, {'class': 'medium'}, {'class': 'high'}],\n",
       "   'classifier_id': 'Esri_Classification_CobbCounty_1442278062',\n",
       "   'core_ml_enabled': True,\n",
       "   'created': '2018-06-29T16:49:37.354Z',\n",
       "   'name': 'Esri_Classification_CobbCounty_Cam130_v2',\n",
       "   'owner': '52d3c878-5f0a-44c6-b191-358d19be7bc5',\n",
       "   'status': 'ready',\n",
       "   'updated': '2018-06-29T16:49:37.354Z'}]}"
      ]
     },
     "execution_count": 10,
     "metadata": {},
     "output_type": "execute_result"
    }
   ],
   "source": [
    "visual_recognition.list_classifiers(verbose=True)"
   ]
  },
  {
   "cell_type": "code",
   "execution_count": null,
   "metadata": {
    "collapsed": true
   },
   "outputs": [],
   "source": []
  }
 ],
 "metadata": {
  "kernelspec": {
   "display_name": "Python 3",
   "language": "python",
   "name": "python3"
  },
  "language_info": {
   "codemirror_mode": {
    "name": "ipython",
    "version": 3
   },
   "file_extension": ".py",
   "mimetype": "text/x-python",
   "name": "python",
   "nbconvert_exporter": "python",
   "pygments_lexer": "ipython3",
   "version": "3.6.1"
  }
 },
 "nbformat": 4,
 "nbformat_minor": 2
}
