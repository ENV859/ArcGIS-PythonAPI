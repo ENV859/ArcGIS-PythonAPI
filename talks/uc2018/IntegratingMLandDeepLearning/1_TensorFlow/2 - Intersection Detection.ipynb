{
 "cells": [
  {
   "cell_type": "markdown",
   "metadata": {},
   "source": [
    "## <span style=\"color:purple\">ArcGIS API for Python: Traffic and Pedestrian Activity Detection</span>\n",
    "\n",
    "![detection](../img/JacksonHoleDetection.gif \"Detection\")\n",
    "\n",
    "\n",
    "## Integrating ArcGIS with TensorFlow Deep Learning using the ArcGIS API for Python\n",
    "\n",
    "## Jackson Hole, Wyoming Traffic Intersection Detection"
   ]
  },
  {
   "cell_type": "markdown",
   "metadata": {},
   "source": [
    "This notebook provides an example of integration between ArcGIS and deep learning frameworks like TensorFlow using the ArcGIS API for Python.\n",
    "\n",
    "<img src=\"../img/ArcGIS_ML_Integration.png\" style=\"width: 75%\"></img>\n",
    "\n",
    "We will leverage a model to detect objects on a live video feed from youtube, and use these to update a feature service on a web GIS in real-time. As people, cars, trucks, and buses are detected on the feed, the feature will be updated to reflect the detection. "
   ]
  },
  {
   "cell_type": "markdown",
   "metadata": {},
   "source": [
    "This concept works with a convolutional neural network built using the TensorFlow Object Detection API. "
   ]
  },
  {
   "cell_type": "markdown",
   "metadata": {},
   "source": [
    "<img src=\"../img/dogneuralnetwork.png\"></img>"
   ]
  },
  {
   "cell_type": "markdown",
   "metadata": {},
   "source": [
    "# Imports"
   ]
  },
  {
   "cell_type": "code",
   "execution_count": null,
   "metadata": {
    "scrolled": true
   },
   "outputs": [],
   "source": [
    "import numpy as np\n",
    "import os\n",
    "import six.moves.urllib as urllib\n",
    "import sys\n",
    "import tarfile\n",
    "import tensorflow as tf\n",
    "import zipfile\n",
    "import getpass\n",
    "\n",
    "from collections import defaultdict\n",
    "from io import StringIO\n",
    "from matplotlib import pyplot as plt\n",
    "from PIL import Image\n",
    "\n",
    "from PIL import ImageGrab\n",
    "import time\n",
    "import pandas as pd\n",
    "\n",
    "import cv2"
   ]
  },
  {
   "cell_type": "markdown",
   "metadata": {},
   "source": [
    "## Env setup"
   ]
  },
  {
   "cell_type": "code",
   "execution_count": null,
   "metadata": {
    "collapsed": true
   },
   "outputs": [],
   "source": [
    "# This is needed since the notebook is stored in the object_detection folder.\n",
    "sys.path.append(\"..\")"
   ]
  },
  {
   "cell_type": "markdown",
   "metadata": {},
   "source": [
    "## Object detection imports\n",
    "Here are the imports from the object detection module."
   ]
  },
  {
   "cell_type": "code",
   "execution_count": null,
   "metadata": {
    "collapsed": true
   },
   "outputs": [],
   "source": [
    "from utils import label_map_util\n",
    "\n",
    "from utils import visualization_utils as vis_util"
   ]
  },
  {
   "cell_type": "markdown",
   "metadata": {},
   "source": [
    "# Model preparation "
   ]
  },
  {
   "cell_type": "markdown",
   "metadata": {},
   "source": [
    "## Variables\n",
    "\n",
    "Any model exported using the `export_inference_graph.py` tool can be loaded here simply by changing `PATH_TO_CKPT` to point to a new .pb file.  \n",
    "\n",
    "By default we use an \"SSD with Mobilenet\" model here. See the [detection model zoo](https://github.com/tensorflow/models/blob/master/object_detection/g3doc/detection_model_zoo.md) for a list of other models that can be run out-of-the-box with varying speeds and accuracies."
   ]
  },
  {
   "cell_type": "code",
   "execution_count": null,
   "metadata": {
    "collapsed": true
   },
   "outputs": [],
   "source": [
    "# What model to download.\n",
    "MODEL_NAME = 'ssd_mobilenet_v1_coco_11_06_2017'\n",
    "MODEL_FILE = MODEL_NAME + '.tar.gz'\n",
    "DOWNLOAD_BASE = 'http://download.tensorflow.org/models/object_detection/'\n",
    "\n",
    "# Path to frozen detection graph. This is the actual model that is used for the object detection.\n",
    "PATH_TO_CKPT = MODEL_NAME + '/frozen_inference_graph.pb'\n",
    "\n",
    "# List of the strings that is used to add correct label for each box.\n",
    "PATH_TO_LABELS = os.path.join('data', 'mscoco_label_map.pbtxt')\n",
    "\n",
    "NUM_CLASSES = 90"
   ]
  },
  {
   "cell_type": "markdown",
   "metadata": {},
   "source": [
    "## Load a (frozen) Tensorflow model into memory."
   ]
  },
  {
   "cell_type": "code",
   "execution_count": null,
   "metadata": {
    "collapsed": true
   },
   "outputs": [],
   "source": [
    "detection_graph = tf.Graph()\n",
    "with detection_graph.as_default():\n",
    "    od_graph_def = tf.GraphDef()\n",
    "    with tf.gfile.GFile(PATH_TO_CKPT, 'rb') as fid:\n",
    "        serialized_graph = fid.read()\n",
    "        od_graph_def.ParseFromString(serialized_graph)\n",
    "        tf.import_graph_def(od_graph_def, name='')"
   ]
  },
  {
   "cell_type": "markdown",
   "metadata": {},
   "source": [
    "## Loading label map\n",
    "Label maps map indices to category names, so that when our convolution network predicts `5`, we know that this corresponds to `airplane`.  Here we use internal utility functions, but anything that returns a dictionary mapping integers to appropriate string labels would be fine"
   ]
  },
  {
   "cell_type": "code",
   "execution_count": null,
   "metadata": {
    "collapsed": true
   },
   "outputs": [],
   "source": [
    "label_map = label_map_util.load_labelmap(PATH_TO_LABELS)\n",
    "categories = label_map_util.convert_label_map_to_categories(label_map, max_num_classes=NUM_CLASSES, use_display_name=True)\n",
    "category_index = label_map_util.create_category_index(categories)"
   ]
  },
  {
   "cell_type": "code",
   "execution_count": null,
   "metadata": {
    "scrolled": true
   },
   "outputs": [],
   "source": [
    "category_index"
   ]
  },
  {
   "cell_type": "markdown",
   "metadata": {},
   "source": [
    "## Helper code"
   ]
  },
  {
   "cell_type": "code",
   "execution_count": null,
   "metadata": {
    "collapsed": true
   },
   "outputs": [],
   "source": [
    "def load_image_into_numpy_array(image):\n",
    "  (im_width, im_height) = image.size\n",
    "  return np.array(image.getdata()).reshape(\n",
    "      (im_height, im_width, 3)).astype(np.uint8)"
   ]
  },
  {
   "cell_type": "markdown",
   "metadata": {},
   "source": [
    "This is a helper function that takes the detection graph output tensor (np arrays), stacks the classes and scores, and determines if the class for a person (1) is available within a certain score and within a certain amount of objects"
   ]
  },
  {
   "cell_type": "code",
   "execution_count": null,
   "metadata": {
    "collapsed": true
   },
   "outputs": [],
   "source": [
    "def object_counter(classes_arr, scores_arr, score_thresh=0.3):\n",
    "    # Process the numpy array of classes from the model\n",
    "    stacked_arr = np.stack((classes_arr, scores_arr), axis=-1)\n",
    "    # Convert to pandas dataframe for easier querying\n",
    "    detection_df = pd.DataFrame(stacked_arr)\n",
    "    # Retrieve total count of cars with score threshold above param value\n",
    "    detected_cars = detection_df[(detection_df[0] == 3.0) & (detection_df[1] > score_thresh)]\n",
    "    detected_people =  detection_df[(detection_df[0] == 1.0) & (detection_df[1] > score_thresh)]\n",
    "    detected_bicycles =  detection_df[(detection_df[0] == 2.0) & (detection_df[1] > score_thresh)]\n",
    "    detected_motorcycles =  detection_df[(detection_df[0] == 4.0) & (detection_df[1] > score_thresh)]\n",
    "    detected_buses =  detection_df[(detection_df[0] == 6.0) & (detection_df[1] > score_thresh)]\n",
    "    detected_trucks =  detection_df[(detection_df[0] == 8.0) & (detection_df[1] > score_thresh)]\n",
    "    \n",
    "    car_count = len(detected_cars)\n",
    "    people_count = len(detected_people)\n",
    "    bicycle_count = len(detected_bicycles)\n",
    "    motorcycle_count = len(detected_motorcycles)\n",
    "    bus_count = len(detected_buses)\n",
    "    truck_count = len(detected_trucks)\n",
    "\n",
    "    return car_count, people_count, bicycle_count, motorcycle_count, bus_count, truck_count"
   ]
  },
  {
   "cell_type": "markdown",
   "metadata": {},
   "source": [
    "# Establish Connection to ArcGIS Online via ArcGIS API for Python"
   ]
  },
  {
   "cell_type": "markdown",
   "metadata": {},
   "source": [
    "#### Authenticate"
   ]
  },
  {
   "cell_type": "code",
   "execution_count": null,
   "metadata": {
    "collapsed": true
   },
   "outputs": [],
   "source": [
    "import arcgis"
   ]
  },
  {
   "cell_type": "code",
   "execution_count": null,
   "metadata": {
    "collapsed": true
   },
   "outputs": [],
   "source": [
    "gis_url = \"\"   # Replace with gis URL\n",
    "username = \"\"  # Replace with username"
   ]
  },
  {
   "cell_type": "code",
   "execution_count": null,
   "metadata": {
    "collapsed": true
   },
   "outputs": [],
   "source": [
    "gis = arcgis.gis.GIS(gis_url, username)"
   ]
  },
  {
   "cell_type": "markdown",
   "metadata": {
    "heading_collapsed": true
   },
   "source": [
    "### Retrieve the Object Detection Point Layer"
   ]
  },
  {
   "cell_type": "code",
   "execution_count": null,
   "metadata": {
    "hidden": true
   },
   "outputs": [],
   "source": [
    "object_point_srvc = gis.content.search(\"JHWY_ML_Detection_02\")[1]\n",
    "object_point_srvc"
   ]
  },
  {
   "cell_type": "code",
   "execution_count": null,
   "metadata": {
    "hidden": true
   },
   "outputs": [],
   "source": [
    "# Convert our existing service into a pandas dataframe\n",
    "object_point_lyr = object_point_srvc.layers[0]\n",
    "obj_fset = object_point_lyr.query()  #querying without any conditions returns all the features\n",
    "obj_df = obj_fset.df\n",
    "obj_df.head()"
   ]
  },
  {
   "cell_type": "code",
   "execution_count": null,
   "metadata": {
    "hidden": true
   },
   "outputs": [],
   "source": [
    "all_features = obj_fset.features\n",
    "all_features"
   ]
  },
  {
   "cell_type": "code",
   "execution_count": null,
   "metadata": {
    "hidden": true
   },
   "outputs": [],
   "source": [
    "from copy import deepcopy\n",
    "\n",
    "original_feature = all_features[0]\n",
    "feature_to_be_updated = deepcopy(original_feature)\n",
    "feature_to_be_updated"
   ]
  },
  {
   "cell_type": "markdown",
   "metadata": {},
   "source": [
    "# Detection"
   ]
  },
  {
   "cell_type": "code",
   "execution_count": null,
   "metadata": {
    "collapsed": true
   },
   "outputs": [],
   "source": [
    "# logging = \"verbose\"  # Options: verbose | simple | cars\n",
    "# logging = \"simple\"\n",
    "# logging = \"cars\"\n",
    "logging = \"none\""
   ]
  },
  {
   "cell_type": "markdown",
   "metadata": {},
   "source": [
    "# ArcGIS API for Python and TensorFlow Deep Learning Model"
   ]
  },
  {
   "cell_type": "markdown",
   "metadata": {},
   "source": [
    "## Start Model Detection"
   ]
  },
  {
   "cell_type": "markdown",
   "metadata": {},
   "source": [
    "#### 1366 x 768"
   ]
  },
  {
   "cell_type": "code",
   "execution_count": null,
   "metadata": {
    "collapsed": true
   },
   "outputs": [],
   "source": [
    "# Top Left: YouTube Live Feed\n",
    "# Bottom left: Detection\n",
    "# Right Half: Operations Dashboard\n",
    "\n",
    "with detection_graph.as_default():\n",
    "    with tf.Session(graph=detection_graph) as sess:\n",
    "        # Definite input and output Tensors for detection_graph\n",
    "        image_tensor = detection_graph.get_tensor_by_name('image_tensor:0')\n",
    "        # Each box represents a part of the image where a particular object was detected.\n",
    "        detection_boxes = detection_graph.get_tensor_by_name('detection_boxes:0')\n",
    "        # Each score represent how level of confidence for each of the objects.\n",
    "        # Score is shown on the result image, together with the class label.\n",
    "        detection_scores = detection_graph.get_tensor_by_name('detection_scores:0')\n",
    "        detection_classes = detection_graph.get_tensor_by_name('detection_classes:0')\n",
    "        num_detections = detection_graph.get_tensor_by_name('num_detections:0')\n",
    "        while True:\n",
    "            \n",
    "            # Expand dimensions since the model expects images to have shape: [1, None, None, 3]\n",
    "            image_np = np.array(ImageGrab.grab(bbox=(0,0,683,444)))\n",
    "            image_np_expanded = np.expand_dims(image_np, axis=0)\n",
    "            # Actual detection.\n",
    "            (boxes, scores, classes, num) = sess.run(\n",
    "              [detection_boxes, detection_scores, detection_classes, num_detections],\n",
    "              feed_dict={image_tensor: image_np_expanded})\n",
    "            \n",
    "#             print(np.squeeze(classes))\n",
    "            # Visualization of the results of a detection.\n",
    "            vis_util.visualize_boxes_and_labels_on_image_array(\n",
    "              image_np,\n",
    "              np.squeeze(boxes),\n",
    "              np.squeeze(classes).astype(np.int32),\n",
    "              np.squeeze(scores),\n",
    "              category_index,\n",
    "              use_normalized_coordinates=True,\n",
    "              line_thickness=8, min_score_thresh=0.3)\n",
    "            \n",
    "            cv2.imshow('object detection', cv2.resize(image_np, (683,444)))\n",
    "#             cv2.imshow('object detection', cv2.resize(image_np, (683,444), interpolation=cv2.INTER_CUBIC))\n",
    "            if cv2.waitKey(25) & 0xFF == ord('q'):\n",
    "                cv2.destroyAllWindows()\n",
    "                break\n",
    "                \n",
    "            car_count, people_count, bicycle_count, motorcycle_count, bus_count, truck_count = object_counter(np.squeeze(classes).astype(np.int32), np.squeeze(scores))\n",
    "            vehicle_count = car_count + motorcycle_count + bus_count + truck_count\n",
    "            total_count = vehicle_count + bicycle_count + people_count\n",
    "        \n",
    "            if logging == \"verbose\":\n",
    "                print(\"/n\")\n",
    "                print(\"Detected {0} total objects...\".format(str(total_count)))\n",
    "                print(\"Detected {0} total vehicles...\".format(str(vehicle_count)))\n",
    "                print(\"Detected {0} cars...\".format(str(car_count)))\n",
    "                print(\"Detected {0} motorcycles...\".format(str(motorcycle_count)))\n",
    "                print(\"Detected {0} buses...\".format(str(bus_count)))\n",
    "                print(\"Detected {0} trucks...\".format(str(truck_count)))\n",
    "                print(\"Detected {0} pedestrians...\".format(str(people_count)))\n",
    "                print(\"Detected {0} bicycles...\".format(str(bicycle_count)))\n",
    "            \n",
    "            elif logging == \"simple\":\n",
    "                print(\"/n\")\n",
    "                print(\"Detected {0} total objects...\".format(str(total_count)))\n",
    "                print(\"Detected {0} total vehicles...\".format(str(vehicle_count)))\n",
    "                print(\"Detected {0} pedestrians...\".format(str(people_count)))\n",
    "                print(\"Detected {0} bicycles...\".format(str(bicycle_count)))\n",
    "                \n",
    "            elif logging == \"cars\":\n",
    "                print(\"/n\")\n",
    "                print(\"Detected {0} cars...\".format(str(car_count)))\n",
    "                \n",
    "            elif logging == \"none\":\n",
    "                pass\n",
    "            \n",
    "            features_for_update = []\n",
    "            feature_to_be_updated.attributes['RT_Object_Count'] = total_count\n",
    "            feature_to_be_updated.attributes['RT_Vehicle_Count'] = vehicle_count\n",
    "            feature_to_be_updated.attributes['RT_Car_Count'] = car_count\n",
    "            feature_to_be_updated.attributes['RT_Bus_Count'] = bus_count\n",
    "            feature_to_be_updated.attributes['RT_Truck_Count'] = truck_count\n",
    "            feature_to_be_updated.attributes['RT_Motorcycle_Count'] = motorcycle_count\n",
    "            feature_to_be_updated.attributes['RT_Pedestrian_Count'] = people_count\n",
    "            feature_to_be_updated.attributes['RT_Bicycle_Count'] = bicycle_count\n",
    "            \n",
    "#             feature_to_be_updated.attributes['rt_car_count'] = car_count\n",
    "            features_for_update.append(feature_to_be_updated)\n",
    "            object_point_lyr.edit_features(updates=features_for_update)                "
   ]
  },
  {
   "cell_type": "markdown",
   "metadata": {},
   "source": [
    "# Resources\n",
    "\n",
    "### Framework: ArcGIS API for Python; TensorFlow \n",
    "### Object Detection Model: SSD MobileNet \n",
    "### Source Labeled Data: Common Objects in Context (cocodataset.org)"
   ]
  }
 ],
 "metadata": {
  "anaconda-cloud": {},
  "kernelspec": {
   "display_name": "Python 3",
   "language": "python",
   "name": "python3"
  },
  "language_info": {
   "codemirror_mode": {
    "name": "ipython",
    "version": 3
   },
   "file_extension": ".py",
   "mimetype": "text/x-python",
   "name": "python",
   "nbconvert_exporter": "python",
   "pygments_lexer": "ipython3",
   "version": "3.6.1"
  }
 },
 "nbformat": 4,
 "nbformat_minor": 2
}
