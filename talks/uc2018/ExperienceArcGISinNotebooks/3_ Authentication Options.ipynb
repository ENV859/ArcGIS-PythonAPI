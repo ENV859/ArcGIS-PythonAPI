{
 "cells": [
  {
   "cell_type": "markdown",
   "metadata": {},
   "source": [
    "## <span style=\"color:purple\">ArcGIS API for Python</span>\n",
    "\n",
    "<img src=\"img/lock.png\" style=\"width: 50%\"></img>\n",
    "\n",
    "## Demo: Authentication Options"
   ]
  },
  {
   "cell_type": "markdown",
   "metadata": {},
   "source": [
    "The ArcGIS API for Python has a number of ways to authenticate with your web GIS. This demo provides a way to store commonly used Portals and Organizations to quickly authenticate and start working."
   ]
  },
  {
   "cell_type": "markdown",
   "metadata": {},
   "source": [
    "# Anonymous Users"
   ]
  },
  {
   "cell_type": "markdown",
   "metadata": {},
   "source": [
    "Let's connect in the simplest way possible - instantiating a GIS object to the default GIS, ArcGIS Online."
   ]
  },
  {
   "cell_type": "code",
   "execution_count": null,
   "metadata": {
    "collapsed": true
   },
   "outputs": [],
   "source": [
    "import arcgis\n",
    "gis = arcgis.gis.GIS()"
   ]
  },
  {
   "cell_type": "code",
   "execution_count": null,
   "metadata": {},
   "outputs": [],
   "source": [
    "gis.content.search(\"1=1\")"
   ]
  },
  {
   "cell_type": "markdown",
   "metadata": {},
   "source": [
    "# Built-in Users"
   ]
  },
  {
   "cell_type": "code",
   "execution_count": null,
   "metadata": {},
   "outputs": [],
   "source": [
    "gis = arcgis.gis.GIS(username=\"Anieto_esrifederal\")"
   ]
  },
  {
   "cell_type": "markdown",
   "metadata": {},
   "source": [
    "## Setting up a dictionary of GIS URLs\n",
    "Now, let's take a look at a few other options to connect to other GIS organizations and Portals..."
   ]
  },
  {
   "cell_type": "code",
   "execution_count": null,
   "metadata": {
    "collapsed": true
   },
   "outputs": [],
   "source": [
    "# Let's import a few new modules to help us handle passwords securely\n",
    "from IPython.display import display\n",
    "import getpass\n",
    "import os"
   ]
  },
  {
   "cell_type": "markdown",
   "metadata": {},
   "source": [
    "I'm going to use a Python dictionary to store the urls and other information for each Web GIS"
   ]
  },
  {
   "cell_type": "code",
   "execution_count": null,
   "metadata": {
    "collapsed": true
   },
   "outputs": [],
   "source": [
    "portals_dict = {\n",
    "    \"esrifederal_gis\": r\"https://esrifederal.maps.arcgis.com\",\n",
    "    \"natgov_gis\": r\"http://esri-natgov105.eastus.cloudapp.azure.com/arcgis\",\n",
    "    \"dot_gis\": r\"http://dot.esri.com/portal\",\n",
    "    \"dev_gis\": r\"http://ngse-dev.eastus.cloudapp.azure.com/portal\",\n",
    "    \"bill_gis\": r\"https://idt.esri.com/portal/home/index.html\",\n",
    "}"
   ]
  },
  {
   "cell_type": "markdown",
   "metadata": {},
   "source": [
    "## Authenticating with any Portal"
   ]
  },
  {
   "cell_type": "markdown",
   "metadata": {},
   "source": [
    "This cell establishes the Web GIS that I want to connect to. I don't need to remember a full URL, just a generic name."
   ]
  },
  {
   "cell_type": "code",
   "execution_count": null,
   "metadata": {
    "collapsed": true
   },
   "outputs": [],
   "source": [
    "gis_url = portals_dict[\"bill_gis\"]"
   ]
  },
  {
   "cell_type": "markdown",
   "metadata": {},
   "source": [
    "The API allows you to safely pass your authentication details"
   ]
  },
  {
   "cell_type": "code",
   "execution_count": null,
   "metadata": {
    "collapsed": true
   },
   "outputs": [],
   "source": [
    "gis_username = \"anieto\""
   ]
  },
  {
   "cell_type": "code",
   "execution_count": null,
   "metadata": {},
   "outputs": [],
   "source": [
    "gis = arcgis.gis.GIS(gis_url, gis_username, verify_cert=False)"
   ]
  },
  {
   "cell_type": "code",
   "execution_count": null,
   "metadata": {
    "scrolled": true
   },
   "outputs": [],
   "source": [
    "gis.users.search()"
   ]
  },
  {
   "cell_type": "markdown",
   "metadata": {},
   "source": [
    "# Enterprise Identity Store"
   ]
  },
  {
   "cell_type": "code",
   "execution_count": null,
   "metadata": {
    "collapsed": true
   },
   "outputs": [],
   "source": [
    "print(\"\\n\\nPortal-tier Authentication with LDAP - enterprise user\")\n",
    "gisldap = arcgis.gis.GIS(\"https://portalname.domain.com/webadapter_name\", \"AVWORLD\\\\Publisher\", \"password\")\n",
    "print(\"Logged in as: \" + gisldap.properties.user.username)"
   ]
  },
  {
   "cell_type": "markdown",
   "metadata": {},
   "source": [
    "# Authenticating to an Organization with Single Sign On\n",
    "\n",
    "If we want to authenticate with an ArcGIS Online organization and an Okta username, use the following snippet:"
   ]
  },
  {
   "cell_type": "code",
   "execution_count": null,
   "metadata": {
    "collapsed": true
   },
   "outputs": [],
   "source": [
    "gis_url = portals_dict[\"esrifederal_gis\"]"
   ]
  },
  {
   "cell_type": "markdown",
   "metadata": {},
   "source": [
    "This cell does something slightly more interesting. \n",
    "\n",
    "In our esrifederal organization, we authenticate using Okta. To allow the API to authenticate I've created an app on that organization and received an App ID. I can then pass this to the GIS method's client_id parameter and authenticate."
   ]
  },
  {
   "cell_type": "markdown",
   "metadata": {},
   "source": [
    "Retrieve App ID from: http://esrifederal.maps.arcgis.com/home/item.html?id=70852f2640e14a5f8050be8ac538e291#settings"
   ]
  },
  {
   "cell_type": "code",
   "execution_count": null,
   "metadata": {},
   "outputs": [],
   "source": [
    "gis = arcgis.gis.GIS(\"https://idt.esri.com/portal\", client_id=\"KZTe9Eyy96GYQAQL\")"
   ]
  },
  {
   "cell_type": "code",
   "execution_count": null,
   "metadata": {},
   "outputs": [],
   "source": [
    "gis"
   ]
  },
  {
   "cell_type": "code",
   "execution_count": null,
   "metadata": {
    "collapsed": true
   },
   "outputs": [],
   "source": [
    "import getpass"
   ]
  },
  {
   "cell_type": "code",
   "execution_count": null,
   "metadata": {
    "collapsed": true
   },
   "outputs": [],
   "source": [
    "if gis_url == portals_dict[\"esrifederal_gis\"]:\n",
    "    gis_app_id = getpass.getpass(prompt=\"App ID: \")\n",
    "    print(\"Attempting to log in to '{0}'...\".format(gis_url))\n",
    "    gis = arcgis.gis.GIS(gis_url, client_id=gis_app_id)\n",
    "    print(\"Successfully logged in as: \" + gis.properties.user.username)\n",
    "else:\n",
    "    gis_username = getpass.getpass(prompt=\"Username: \")\n",
    "    print(\"Attempting to log in to '{0}'...\".format(gis_url))\n",
    "    gis = arcgis.gis.GIS(gis_url, gis_username, gis_pw, verify_cert=False)\n",
    "    print(\"Successfully logged in as: \" + gis.properties.user.username)"
   ]
  },
  {
   "cell_type": "code",
   "execution_count": null,
   "metadata": {
    "collapsed": true
   },
   "outputs": [],
   "source": [
    "gis.content.search(\"1=1\")"
   ]
  },
  {
   "cell_type": "markdown",
   "metadata": {},
   "source": [
    "# Connecting through ArcGIS Pro"
   ]
  },
  {
   "cell_type": "code",
   "execution_count": null,
   "metadata": {
    "collapsed": true
   },
   "outputs": [],
   "source": [
    "print(\"\\n\\nActive Portal in ArcGIS Pro\")  \n",
    "gis = arcgis.gis.GIS(\"pro\")"
   ]
  },
  {
   "cell_type": "markdown",
   "metadata": {},
   "source": [
    "# Storing your credentialls locally"
   ]
  },
  {
   "cell_type": "markdown",
   "metadata": {},
   "source": [
    "If you are signing in frequently to a particular GIS and would like to store the credentials locally on your computer, then you could do so using the profile parameter of your GIS.\n",
    "\n",
    "Persistent profiles for the GIS can be created by giving the GIS authorization credentials and specifying a profile name. The profile stores all of the authorization credentials (except the password) in the user’s home directory in an unencrypted config file named .arcgisprofile. The profile securely stores the password in an O.S. specific password manager through the keyring python module. (Note: Linux systems may need additional software installed and configured for proper security) Once a profile has been saved, passing the profile parameter by itself uses the authorization credentials saved in the configuration file/password manager by that profile name. Multiple profiles can be created and used in parallel."
   ]
  },
  {
   "cell_type": "code",
   "execution_count": null,
   "metadata": {
    "collapsed": true
   },
   "outputs": [],
   "source": [
    "#Define 2 different profiles for two different urls\n",
    "playground_gis = GIS(url=\"https://python.playground.esri.com/portal\", username='arcgis_python', password='amazing_arcgis_123',\n",
    "                     profile='python_playground_prof')\n",
    "agol_gis = GIS(url=\"https://arcgis.com/\", username='arcgis_python', password=\"P@ssword123\",\n",
    "    profile=\"AGOL_prof\")\n",
    "print(\"profile defined for {}\".format(playground_gis))\n",
    "print(\"profile defined for {}\".format(agol_gis))"
   ]
  },
  {
   "cell_type": "code",
   "execution_count": null,
   "metadata": {
    "collapsed": true
   },
   "outputs": [],
   "source": [
    "def print_profile_info(gis):\n",
    "    print(\"Successfully logged into '{}' via the '{}' user\".format(\n",
    "           gis.properties.portalHostname,\n",
    "           gis.properties.user.username)) \n",
    "\n",
    "playground_gis = GIS(profile='python_playground_prof')\n",
    "print_profile_info(playground_gis)\n",
    "\n",
    "agol_gis = GIS(profile=\"AGOL_prof\")\n",
    "print_profile_info(agol_gis)"
   ]
  }
 ],
 "metadata": {
  "kernelspec": {
   "display_name": "Python 3",
   "language": "python",
   "name": "python3"
  },
  "language_info": {
   "codemirror_mode": {
    "name": "ipython",
    "version": 3
   },
   "file_extension": ".py",
   "mimetype": "text/x-python",
   "name": "python",
   "nbconvert_exporter": "python",
   "pygments_lexer": "ipython3",
   "version": "3.6.1"
  }
 },
 "nbformat": 4,
 "nbformat_minor": 2
}
