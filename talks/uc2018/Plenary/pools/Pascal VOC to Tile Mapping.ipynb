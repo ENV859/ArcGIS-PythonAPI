{
 "cells": [
  {
   "cell_type": "markdown",
   "metadata": {},
   "source": [
    "## Pascal VOC to tile mapping\n",
    "\n",
    "ArcGIS Pro includes the ‘Export Training Data for Deep Learning’ tool that can be used to create labelled image chips that are needed to train a deep learning model. For object detection workflows, the output data format is in the \"Pascal VOC (Visual Object Challenge)\" format.\n",
    "\n",
    "This notebooks reads in the labeled Pascal VOC format files, and creates a Python dictionary containing a mapping of each image chip to the center coordinates of each object within that file. This Python dictionary is then pickled and serves as an input in the Training notebook.\n",
    "\n",
    "Another option to create image chips and the tile mapping is using ArcGIS API for Python, which has methods for exporting images from Imagery (eg NAIP imagery layers) as well as Tile layers (such as the Esri World Imagery layer). The 'Export Training Samples' notebook uses that approach. Only one of these notebooks will typically be used in the complete workflow."
   ]
  },
  {
   "cell_type": "code",
   "execution_count": 1,
   "metadata": {},
   "outputs": [],
   "source": [
    "from pathlib import Path"
   ]
  },
  {
   "cell_type": "code",
   "execution_count": 2,
   "metadata": {},
   "outputs": [],
   "source": [
    "root = Path(r'Pools/FalseColor/')\n",
    "labels = root / 'labels'"
   ]
  },
  {
   "cell_type": "code",
   "execution_count": null,
   "metadata": {},
   "outputs": [],
   "source": [
    "import xml.etree.ElementTree as ET\n",
    "\n",
    "tilemapping = {}\n",
    "\n",
    "for xmlfile in labels.glob('*.xml'):\n",
    "    print(xmlfile)\n",
    "    jpgfile = xmlfile.name.replace('.xml', '.jpg')\n",
    "    tree = ET.parse(xmlfile)\n",
    "    xmlroot = tree.getroot()\n",
    "    for child in xmlroot:\n",
    "        centers = []\n",
    "        if child.tag == 'object':\n",
    "            xmin, ymin, xmax, ymax = float(child[1][0].text), float(child[1][1].text), float(child[1][2].text), float(child[1][3].text)\n",
    "            x, y = (xmin + xmax) / 2.0, (ymin + ymax) / 2.0\n",
    "            x, y = x/ 224.0, y/ 224.0\n",
    "            centers.append((x, y))\n",
    "        tilemapping[jpgfile] = centers"
   ]
  },
  {
   "cell_type": "code",
   "execution_count": 29,
   "metadata": {},
   "outputs": [
    {
     "data": {
      "text/plain": [
       "[(0.1064732142857143, 0.0459375)]"
      ]
     },
     "execution_count": 29,
     "metadata": {},
     "output_type": "execute_result"
    }
   ],
   "source": [
    "tilemapping['000000003.jpg']"
   ]
  },
  {
   "cell_type": "code",
   "execution_count": 32,
   "metadata": {},
   "outputs": [],
   "source": [
    "import pickle\n",
    "\n",
    "pickle.dump(tilemapping, open(r'Pools/FalseColor/tilemapping.pkl', 'wb'))"
   ]
  }
 ],
 "metadata": {
  "kernelspec": {
   "display_name": "Python 3",
   "language": "python",
   "name": "python3"
  },
  "language_info": {
   "codemirror_mode": {
    "name": "ipython",
    "version": 3
   },
   "file_extension": ".py",
   "mimetype": "text/x-python",
   "name": "python",
   "nbconvert_exporter": "python",
   "pygments_lexer": "ipython3",
   "version": "3.6.4"
  }
 },
 "nbformat": 4,
 "nbformat_minor": 2
}
