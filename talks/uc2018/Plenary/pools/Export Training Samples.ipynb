{
 "cells": [
  {
   "cell_type": "code",
   "execution_count": 1,
   "metadata": {},
   "outputs": [
    {
     "name": "stdout",
     "output_type": "stream",
     "text": [
      "mkdir: cannot create directory ‘/home/rohit/fastai/courses/dl2/data/pools/falsecolorcomposite_noaspect_neg’: File exists\n",
      "mkdir: cannot create directory ‘/home/rohit/fastai/courses/dl2/data/pools/falsecolorcomposite_noaspect_neg/images’: File exists\n"
     ]
    }
   ],
   "source": [
    "!mkdir /home/rohit/fastai/courses/dl2/data/pools/falsecolorcomposite_noaspect_neg\n",
    "!mkdir /home/rohit/fastai/courses/dl2/data/pools/falsecolorcomposite_noaspect_neg/images"
   ]
  },
  {
   "cell_type": "code",
   "execution_count": 2,
   "metadata": {},
   "outputs": [],
   "source": [
    "from arcgis.gis import GIS\n",
    "from arcgis.features import SpatialDataFrame"
   ]
  },
  {
   "cell_type": "code",
   "execution_count": 3,
   "metadata": {},
   "outputs": [],
   "source": [
    "gis = GIS('https://deldev.maps.arcgis.com', 'demo_deldev', 'P@ssword123')"
   ]
  },
  {
   "cell_type": "code",
   "execution_count": 4,
   "metadata": {},
   "outputs": [],
   "source": [
    "shp = 'data/pools/SwimmingPools180605b.shp'"
   ]
  },
  {
   "cell_type": "code",
   "execution_count": 5,
   "metadata": {},
   "outputs": [],
   "source": [
    "df = SpatialDataFrame.from_featureclass(shp)"
   ]
  },
  {
   "cell_type": "code",
   "execution_count": 6,
   "metadata": {},
   "outputs": [
    {
     "data": {
      "text/html": [
       "<div>\n",
       "<style scoped>\n",
       "    .dataframe tbody tr th:only-of-type {\n",
       "        vertical-align: middle;\n",
       "    }\n",
       "\n",
       "    .dataframe tbody tr th {\n",
       "        vertical-align: top;\n",
       "    }\n",
       "\n",
       "    .dataframe thead th {\n",
       "        text-align: right;\n",
       "    }\n",
       "</style>\n",
       "<table border=\"1\" class=\"dataframe\">\n",
       "  <thead>\n",
       "    <tr style=\"text-align: right;\">\n",
       "      <th></th>\n",
       "      <th>index</th>\n",
       "      <th>Id</th>\n",
       "      <th>SHAPE</th>\n",
       "    </tr>\n",
       "  </thead>\n",
       "  <tbody>\n",
       "    <tr>\n",
       "      <th>0</th>\n",
       "      <td>0</td>\n",
       "      <td>0</td>\n",
       "      <td>{'x': -13042553.9341, 'y': 4033058.5876}</td>\n",
       "    </tr>\n",
       "    <tr>\n",
       "      <th>1</th>\n",
       "      <td>1</td>\n",
       "      <td>0</td>\n",
       "      <td>{'x': -13042558.4311, 'y': 4033081.0722000003}</td>\n",
       "    </tr>\n",
       "    <tr>\n",
       "      <th>2</th>\n",
       "      <td>2</td>\n",
       "      <td>0</td>\n",
       "      <td>{'x': -13042605.4989, 'y': 4033095.462399997}</td>\n",
       "    </tr>\n",
       "    <tr>\n",
       "      <th>3</th>\n",
       "      <td>3</td>\n",
       "      <td>0</td>\n",
       "      <td>{'x': -13042621.687800001, 'y': 4033120.345399...</td>\n",
       "    </tr>\n",
       "    <tr>\n",
       "      <th>4</th>\n",
       "      <td>4</td>\n",
       "      <td>0</td>\n",
       "      <td>{'x': -13042610.5954, 'y': 4033014.8175000027}</td>\n",
       "    </tr>\n",
       "  </tbody>\n",
       "</table>\n",
       "</div>"
      ],
      "text/plain": [
       "   index  Id                                              SHAPE\n",
       "0      0   0           {'x': -13042553.9341, 'y': 4033058.5876}\n",
       "1      1   0     {'x': -13042558.4311, 'y': 4033081.0722000003}\n",
       "2      2   0      {'x': -13042605.4989, 'y': 4033095.462399997}\n",
       "3      3   0  {'x': -13042621.687800001, 'y': 4033120.345399...\n",
       "4      4   0     {'x': -13042610.5954, 'y': 4033014.8175000027}"
      ]
     },
     "execution_count": 6,
     "metadata": {},
     "output_type": "execute_result"
    }
   ],
   "source": [
    "df.head()"
   ]
  },
  {
   "cell_type": "code",
   "execution_count": 7,
   "metadata": {},
   "outputs": [
    {
     "data": {
      "text/html": [
       "<div class=\"item_container\" style=\"height: auto; overflow: hidden; border: 1px solid #cfcfcf; border-radius: 2px; background: #f6fafa; line-height: 1.21429em; padding: 10px;\">\n",
       "                    <div class=\"item_left\" style=\"width: 210px; float: left;\">\n",
       "                       <a href='https://deldev.maps.arcgis.com/home/item.html?id=e4da3b6720f545aeaaf3fe8141da1e21' target='_blank'>\n",
       "                        <img src='data:image/png;base64,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' width='200' height='133' class=\"itemThumbnail\">\n",
       "                       </a>\n",
       "                    </div>\n",
       "\n",
       "                    <div class=\"item_right\"     style=\"float: none; width: auto; overflow: hidden;\">\n",
       "                        <a href='https://deldev.maps.arcgis.com/home/item.html?id=e4da3b6720f545aeaaf3fe8141da1e21' target='_blank'><b>USA NAIP Imagery: False Color</b>\n",
       "                        </a>\n",
       "                        <br/>This image layer features recent high-resolution (1m or better) aerial imagery for the continental United States, rendered with the false color display, made available by the USDA Farm Services Agency.  ArcGIS Online subscription required.<img src='https://deldev.maps.arcgis.com/home/js/jsapi/esri/css/images/item_type_icons/imagery16.png' style=\"vertical-align:middle;\">Imagery Layer by esri\n",
       "                        <br/>Last Modified: June 13, 2017\n",
       "                        <br/>4 comments, 28,881 views\n",
       "                    </div>\n",
       "                </div>\n",
       "                "
      ],
      "text/plain": [
       "<Item title:\"USA NAIP Imagery: False Color\" type:Imagery Layer owner:esri>"
      ]
     },
     "execution_count": 7,
     "metadata": {},
     "output_type": "execute_result"
    }
   ],
   "source": [
    "from arcgis.raster import ImageryLayer\n",
    "naip = gis.content.search('title:USA NAIP Imagery False Color', 'Imagery Layer', outside_org=True)[1]\n",
    "naip"
   ]
  },
  {
   "cell_type": "code",
   "execution_count": 8,
   "metadata": {},
   "outputs": [],
   "source": [
    "from arcgis.raster.functions import apply\n",
    "\n",
    "naiplayer = naip.layers[0]\n",
    "naipfalse = apply(naiplayer, 'FalseColorComposite')"
   ]
  },
  {
   "cell_type": "code",
   "execution_count": 11,
   "metadata": {},
   "outputs": [],
   "source": [
    "df['X'] = df.geometry.apply(lambda pt: pt['x'] )\n",
    "df['Y'] = df.geometry.apply(lambda pt: pt['y'] )"
   ]
  },
  {
   "cell_type": "code",
   "execution_count": 12,
   "metadata": {},
   "outputs": [
    {
     "data": {
      "text/html": [
       "<div>\n",
       "<style scoped>\n",
       "    .dataframe tbody tr th:only-of-type {\n",
       "        vertical-align: middle;\n",
       "    }\n",
       "\n",
       "    .dataframe tbody tr th {\n",
       "        vertical-align: top;\n",
       "    }\n",
       "\n",
       "    .dataframe thead th {\n",
       "        text-align: right;\n",
       "    }\n",
       "</style>\n",
       "<table border=\"1\" class=\"dataframe\">\n",
       "  <thead>\n",
       "    <tr style=\"text-align: right;\">\n",
       "      <th></th>\n",
       "      <th>index</th>\n",
       "      <th>Id</th>\n",
       "      <th>SHAPE</th>\n",
       "      <th>X</th>\n",
       "      <th>Y</th>\n",
       "    </tr>\n",
       "  </thead>\n",
       "  <tbody>\n",
       "    <tr>\n",
       "      <th>0</th>\n",
       "      <td>0</td>\n",
       "      <td>0</td>\n",
       "      <td>{'x': -13042553.9341, 'y': 4033058.5876}</td>\n",
       "      <td>-1.304255e+07</td>\n",
       "      <td>4.033059e+06</td>\n",
       "    </tr>\n",
       "    <tr>\n",
       "      <th>1</th>\n",
       "      <td>1</td>\n",
       "      <td>0</td>\n",
       "      <td>{'x': -13042558.4311, 'y': 4033081.0722000003}</td>\n",
       "      <td>-1.304256e+07</td>\n",
       "      <td>4.033081e+06</td>\n",
       "    </tr>\n",
       "    <tr>\n",
       "      <th>2</th>\n",
       "      <td>2</td>\n",
       "      <td>0</td>\n",
       "      <td>{'x': -13042605.4989, 'y': 4033095.462399997}</td>\n",
       "      <td>-1.304261e+07</td>\n",
       "      <td>4.033095e+06</td>\n",
       "    </tr>\n",
       "    <tr>\n",
       "      <th>3</th>\n",
       "      <td>3</td>\n",
       "      <td>0</td>\n",
       "      <td>{'x': -13042621.687800001, 'y': 4033120.345399...</td>\n",
       "      <td>-1.304262e+07</td>\n",
       "      <td>4.033120e+06</td>\n",
       "    </tr>\n",
       "    <tr>\n",
       "      <th>4</th>\n",
       "      <td>4</td>\n",
       "      <td>0</td>\n",
       "      <td>{'x': -13042610.5954, 'y': 4033014.8175000027}</td>\n",
       "      <td>-1.304261e+07</td>\n",
       "      <td>4.033015e+06</td>\n",
       "    </tr>\n",
       "  </tbody>\n",
       "</table>\n",
       "</div>"
      ],
      "text/plain": [
       "   index  Id                                              SHAPE             X  \\\n",
       "0      0   0           {'x': -13042553.9341, 'y': 4033058.5876} -1.304255e+07   \n",
       "1      1   0     {'x': -13042558.4311, 'y': 4033081.0722000003} -1.304256e+07   \n",
       "2      2   0      {'x': -13042605.4989, 'y': 4033095.462399997} -1.304261e+07   \n",
       "3      3   0  {'x': -13042621.687800001, 'y': 4033120.345399... -1.304262e+07   \n",
       "4      4   0     {'x': -13042610.5954, 'y': 4033014.8175000027} -1.304261e+07   \n",
       "\n",
       "              Y  \n",
       "0  4.033059e+06  \n",
       "1  4.033081e+06  \n",
       "2  4.033095e+06  \n",
       "3  4.033120e+06  \n",
       "4  4.033015e+06  "
      ]
     },
     "execution_count": 12,
     "metadata": {},
     "output_type": "execute_result"
    }
   ],
   "source": [
    "df.head()"
   ]
  },
  {
   "cell_type": "code",
   "execution_count": 13,
   "metadata": {},
   "outputs": [
    {
     "data": {
      "text/plain": [
       "index      int64\n",
       "Id         int64\n",
       "SHAPE     object\n",
       "X        float64\n",
       "Y        float64\n",
       "dtype: object"
      ]
     },
     "execution_count": 13,
     "metadata": {},
     "output_type": "execute_result"
    }
   ],
   "source": [
    "df.dtypes"
   ]
  },
  {
   "cell_type": "code",
   "execution_count": 15,
   "metadata": {},
   "outputs": [
    {
     "data": {
      "text/plain": [
       "(2137, 5)"
      ]
     },
     "execution_count": 15,
     "metadata": {},
     "output_type": "execute_result"
    }
   ],
   "source": [
    "df.shape"
   ]
  },
  {
   "cell_type": "code",
   "execution_count": 19,
   "metadata": {},
   "outputs": [
    {
     "name": "stdout",
     "output_type": "stream",
     "text": [
      "1500\n",
      "1600\n",
      "1700\n",
      "1800\n",
      "1900\n",
      "2000\n",
      "2100\n"
     ]
    }
   ],
   "source": [
    "import random\n",
    "\n",
    "tilemapping = {}\n",
    "\n",
    "for index, row in df.iterrows():\n",
    "    imgid = row['index']\n",
    "    if imgid % 100 == 0:\n",
    "        print(imgid)\n",
    "    try:\n",
    "        for i in range(50):    \n",
    "            filename = str(imgid).zfill(4) + '_' + str(i).zfill(2) + '.jpg'        \n",
    "            xmid = row['X'] + random.randint(-45, 45)\n",
    "            ymid = row['Y'] + random.randint(-45, 45)\n",
    "\n",
    "            xmin, ymin = xmid - 50, ymid - 50\n",
    "            xmax, ymax = xmid + 50, ymid + 50\n",
    "\n",
    "            ext = {'xmin':xmin, 'ymin':ymin, 'xmax':xmax, 'ymax':ymax, 'spatialReference':3857}\n",
    "            naipfalse.export_image(ext, image_sr=df.sr,\n",
    "                                  bbox_sr=3857, size=[224,224], f='image', export_format='jpg', adjust_aspect_ratio=False,\n",
    "                                  save_folder=r'/home/rohit/fastai/courses/dl2/data/pools/falsecolorcomposite_noaspect_neg/images',\n",
    "                                  save_file=filename)\n",
    "\n",
    "            centers = []\n",
    "            for index1, row1 in df.loc[(df.X > xmin) & (df.X < xmax) & \\\n",
    "                                       (df.Y > ymin) & (df.Y < ymax)].iterrows():\n",
    "                x, y = row1['X'], row1['Y']\n",
    "                x = (x - xmin) / (xmax - xmin)\n",
    "                y = (y - ymin) / (ymax - ymin)\n",
    "                centers.append((x,y))\n",
    "\n",
    "            if len(centers) > 0:\n",
    "                tilemapping[filename] = centers\n",
    "    except:\n",
    "        \n",
    "        print('Error getting ', imgid)\n",
    "    "
   ]
  },
  {
   "cell_type": "code",
   "execution_count": 20,
   "metadata": {},
   "outputs": [],
   "source": [
    "import pickle\n",
    "\n",
    "pickle.dump(tilemapping, open('data/pools/falsecolorcomposite_noaspect_neg/tilemapping.pkl', 'wb'))"
   ]
  }
 ],
 "metadata": {
  "kernelspec": {
   "display_name": "Python 3",
   "language": "python",
   "name": "python3"
  },
  "language_info": {
   "codemirror_mode": {
    "name": "ipython",
    "version": 3
   },
   "file_extension": ".py",
   "mimetype": "text/x-python",
   "name": "python",
   "nbconvert_exporter": "python",
   "pygments_lexer": "ipython3",
   "version": "3.6.5"
  }
 },
 "nbformat": 4,
 "nbformat_minor": 2
}
