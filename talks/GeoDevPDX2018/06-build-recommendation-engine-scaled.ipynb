{
 "cells": [
  {
   "cell_type": "markdown",
   "metadata": {
    "toc": true
   },
   "source": [
    "<h1>**Table of Contents**<span class=\"tocSkip\"></span></h1>\n",
    "<div class=\"toc\"><ul class=\"toc-item\"><li><span><a href=\"#Building-a-housing-recommendation-engine\" data-toc-modified-id=\"Building-a-housing-recommendation-engine-1\">Building a housing recommendation engine</a></span><ul class=\"toc-item\"><li><ul class=\"toc-item\"><li><span><a href=\"#Read-ranked-dataset\" data-toc-modified-id=\"Read-ranked-dataset-1.0.1\">Read ranked dataset</a></span></li><li><span><a href=\"#Generate-preference-column\" data-toc-modified-id=\"Generate-preference-column-1.0.2\">Generate preference column</a></span><ul class=\"toc-item\"><li><span><a href=\"#Drop-rank,-scores_scaled-columns-from-DataFrame\" data-toc-modified-id=\"Drop-rank,-scores_scaled-columns-from-DataFrame-1.0.2.1\">Drop <code>rank</code>, <code>scores_scaled</code> columns from DataFrame</a></span></li></ul></li></ul></li><li><span><a href=\"#One-hot-encoding\" data-toc-modified-id=\"One-hot-encoding-1.1\">One hot encoding</a></span></li><li><span><a href=\"#Scale-numeric-columns\" data-toc-modified-id=\"Scale-numeric-columns-1.2\">Scale numeric columns</a></span></li><li><span><a href=\"#Split-dataset-into-training-and-test\" data-toc-modified-id=\"Split-dataset-into-training-and-test-1.3\">Split dataset into training and test</a></span></li><li><span><a href=\"#Logistic-Regression\" data-toc-modified-id=\"Logistic-Regression-1.4\">Logistic Regression</a></span><ul class=\"toc-item\"><li><span><a href=\"#Model-evaluation\" data-toc-modified-id=\"Model-evaluation-1.4.1\">Model evaluation</a></span></li><li><span><a href=\"#Model-inference\" data-toc-modified-id=\"Model-inference-1.4.2\">Model inference</a></span></li></ul></li><li><span><a href=\"#Conclusion\" data-toc-modified-id=\"Conclusion-1.5\">Conclusion</a></span><ul class=\"toc-item\"><li><span><a href=\"#Recommendation-engines\" data-toc-modified-id=\"Recommendation-engines-1.5.1\">Recommendation engines</a></span></li><li><span><a href=\"#Overall\" data-toc-modified-id=\"Overall-1.5.2\">Overall</a></span></li></ul></li></ul></li></ul></div>"
   ]
  },
  {
   "cell_type": "markdown",
   "metadata": {
    "slideshow": {
     "slide_type": "slide"
    }
   },
   "source": [
    "# Building a housing recommendation engine\n",
    "So far, we have feature engineered our data set with location specific features. We explicitly defined weights for different attributes and arrived at a rank. Instead, we could simply like and dislike a few houses and let a machine learning model infer our preferences based on that. That is what this notebook tries to do.\n",
    "\n",
    "Since it is time consuming to like and dislike a large number of properties, we pick the top 50 notebooks from our previous rank and like them all. We dislike the remaining ones."
   ]
  },
  {
   "cell_type": "code",
   "execution_count": 1,
   "metadata": {
    "slideshow": {
     "slide_type": "skip"
    }
   },
   "outputs": [],
   "source": [
    "import pandas as pd\n",
    "import matplotlib.pyplot as plt\n",
    "from pprint import pprint\n",
    "%matplotlib inline\n",
    "import seaborn as sns\n",
    "\n",
    "from arcgis.gis import GIS\n",
    "from arcgis.features import Feature, FeatureLayer, FeatureSet, GeoAccessor, GeoSeriesAccessor"
   ]
  },
  {
   "cell_type": "markdown",
   "metadata": {
    "slideshow": {
     "slide_type": "skip"
    }
   },
   "source": [
    "### Read ranked dataset"
   ]
  },
  {
   "cell_type": "code",
   "execution_count": 2,
   "metadata": {
    "slideshow": {
     "slide_type": "skip"
    }
   },
   "outputs": [],
   "source": [
    "prop_df = pd.read_csv('resources/houses_ranked.csv')\n",
    "prop_df = pd.DataFrame.spatial.from_xy(prop_df, 'LONGITUDE','LATITUDE')"
   ]
  },
  {
   "cell_type": "markdown",
   "metadata": {
    "slideshow": {
     "slide_type": "skip"
    }
   },
   "source": [
    "### Generate preference column\n",
    "We will pick the top 50 records and provide a positive preference to them. Then we will drop the score and rank columns and let the machine learning algorithm learn our preferences."
   ]
  },
  {
   "cell_type": "code",
   "execution_count": 3,
   "metadata": {
    "slideshow": {
     "slide_type": "skip"
    }
   },
   "outputs": [
    {
     "data": {
      "text/plain": [
       "Index(['Unnamed: 0', 'SALE TYPE', 'PROPERTY TYPE', 'ADDRESS', 'CITY', 'STATE',\n",
       "       'ZIP', 'PRICE', 'BEDS', 'BATHS', 'LOCATION', 'SQUARE FEET', 'LOT SIZE',\n",
       "       'YEAR BUILT', 'DAYS ON MARKET', 'PRICE PER SQFT', 'HOA PER MONTH',\n",
       "       'STATUS', 'URL', 'SOURCE', 'MLS', 'LATITUDE', 'LONGITUDE', 'SHAPE',\n",
       "       'grocery_count', 'restaurant_count', 'hospitals_count', 'coffee_count',\n",
       "       'bars_count', 'gas_count', 'shops_count', 'travel_count', 'parks_count',\n",
       "       'edu_count', 'commute_length', 'commute_duration', 'scores_scaled',\n",
       "       'rank'],\n",
       "      dtype='object')"
      ]
     },
     "execution_count": 3,
     "metadata": {},
     "output_type": "execute_result"
    }
   ],
   "source": [
    "prop_df.columns"
   ]
  },
  {
   "cell_type": "code",
   "execution_count": 4,
   "metadata": {
    "slideshow": {
     "slide_type": "skip"
    }
   },
   "outputs": [
    {
     "data": {
      "text/plain": [
       "(331, 38)"
      ]
     },
     "execution_count": 4,
     "metadata": {},
     "output_type": "execute_result"
    }
   ],
   "source": [
    "prop_df.shape"
   ]
  },
  {
   "cell_type": "markdown",
   "metadata": {
    "slideshow": {
     "slide_type": "skip"
    }
   },
   "source": [
    "Generate a prefernce list that is `331` records long. This list has `1` for first `50` records followed by `0`."
   ]
  },
  {
   "cell_type": "code",
   "execution_count": 5,
   "metadata": {
    "slideshow": {
     "slide_type": "skip"
    }
   },
   "outputs": [
    {
     "data": {
      "text/plain": [
       "331"
      ]
     },
     "execution_count": 5,
     "metadata": {},
     "output_type": "execute_result"
    }
   ],
   "source": [
    "preference_list = [1]*50\n",
    "preference_list.extend([0]*(331-50))\n",
    "len(preference_list)"
   ]
  },
  {
   "cell_type": "code",
   "execution_count": 6,
   "metadata": {
    "slideshow": {
     "slide_type": "skip"
    }
   },
   "outputs": [],
   "source": [
    "prop_df['favorite'] = preference_list"
   ]
  },
  {
   "cell_type": "markdown",
   "metadata": {
    "slideshow": {
     "slide_type": "skip"
    }
   },
   "source": [
    "#### Drop `rank`, `scores_scaled` columns from DataFrame "
   ]
  },
  {
   "cell_type": "code",
   "execution_count": 7,
   "metadata": {
    "slideshow": {
     "slide_type": "skip"
    }
   },
   "outputs": [
    {
     "data": {
      "text/html": [
       "<div>\n",
       "<style scoped>\n",
       "    .dataframe tbody tr th:only-of-type {\n",
       "        vertical-align: middle;\n",
       "    }\n",
       "\n",
       "    .dataframe tbody tr th {\n",
       "        vertical-align: top;\n",
       "    }\n",
       "\n",
       "    .dataframe thead th {\n",
       "        text-align: right;\n",
       "    }\n",
       "</style>\n",
       "<table border=\"1\" class=\"dataframe\">\n",
       "  <thead>\n",
       "    <tr style=\"text-align: right;\">\n",
       "      <th></th>\n",
       "      <th>SALE TYPE</th>\n",
       "      <th>PROPERTY TYPE</th>\n",
       "      <th>ADDRESS</th>\n",
       "      <th>CITY</th>\n",
       "      <th>STATE</th>\n",
       "      <th>ZIP</th>\n",
       "      <th>PRICE</th>\n",
       "      <th>BEDS</th>\n",
       "      <th>BATHS</th>\n",
       "      <th>LOCATION</th>\n",
       "      <th>...</th>\n",
       "      <th>coffee_count</th>\n",
       "      <th>bars_count</th>\n",
       "      <th>gas_count</th>\n",
       "      <th>shops_count</th>\n",
       "      <th>travel_count</th>\n",
       "      <th>parks_count</th>\n",
       "      <th>edu_count</th>\n",
       "      <th>commute_length</th>\n",
       "      <th>commute_duration</th>\n",
       "      <th>favorite</th>\n",
       "    </tr>\n",
       "  </thead>\n",
       "  <tbody>\n",
       "    <tr>\n",
       "      <th>0</th>\n",
       "      <td>MLS Listing</td>\n",
       "      <td>Single Family Residential</td>\n",
       "      <td>15986 SE Spokane Ct. Ave</td>\n",
       "      <td>Portland</td>\n",
       "      <td>OR</td>\n",
       "      <td>97236.0</td>\n",
       "      <td>543900.0</td>\n",
       "      <td>4.0</td>\n",
       "      <td>3.5</td>\n",
       "      <td>Portland Southeast</td>\n",
       "      <td>...</td>\n",
       "      <td>50</td>\n",
       "      <td>2</td>\n",
       "      <td>34</td>\n",
       "      <td>46</td>\n",
       "      <td>50</td>\n",
       "      <td>50</td>\n",
       "      <td>50</td>\n",
       "      <td>5.796321</td>\n",
       "      <td>16.509734</td>\n",
       "      <td>1</td>\n",
       "    </tr>\n",
       "    <tr>\n",
       "      <th>1</th>\n",
       "      <td>MLS Listing</td>\n",
       "      <td>Multi-Family (2-4 Unit)</td>\n",
       "      <td>SE Henderson St</td>\n",
       "      <td>Portland</td>\n",
       "      <td>OR</td>\n",
       "      <td>97206.0</td>\n",
       "      <td>625000.0</td>\n",
       "      <td>6.0</td>\n",
       "      <td>6.0</td>\n",
       "      <td>LENTS</td>\n",
       "      <td>...</td>\n",
       "      <td>50</td>\n",
       "      <td>1</td>\n",
       "      <td>50</td>\n",
       "      <td>40</td>\n",
       "      <td>50</td>\n",
       "      <td>50</td>\n",
       "      <td>50</td>\n",
       "      <td>8.380589</td>\n",
       "      <td>23.087985</td>\n",
       "      <td>1</td>\n",
       "    </tr>\n",
       "    <tr>\n",
       "      <th>2</th>\n",
       "      <td>MLS Listing</td>\n",
       "      <td>Single Family Residential</td>\n",
       "      <td>8268 SE Yamhill St</td>\n",
       "      <td>Portland</td>\n",
       "      <td>OR</td>\n",
       "      <td>97216.0</td>\n",
       "      <td>550000.0</td>\n",
       "      <td>7.0</td>\n",
       "      <td>4.0</td>\n",
       "      <td>Portland Southeast</td>\n",
       "      <td>...</td>\n",
       "      <td>50</td>\n",
       "      <td>1</td>\n",
       "      <td>50</td>\n",
       "      <td>43</td>\n",
       "      <td>50</td>\n",
       "      <td>50</td>\n",
       "      <td>50</td>\n",
       "      <td>6.330796</td>\n",
       "      <td>16.910622</td>\n",
       "      <td>1</td>\n",
       "    </tr>\n",
       "    <tr>\n",
       "      <th>3</th>\n",
       "      <td>MLS Listing</td>\n",
       "      <td>Single Family Residential</td>\n",
       "      <td>6311 SE Tenino St</td>\n",
       "      <td>Portland</td>\n",
       "      <td>OR</td>\n",
       "      <td>97206.0</td>\n",
       "      <td>479900.0</td>\n",
       "      <td>4.0</td>\n",
       "      <td>2.5</td>\n",
       "      <td>Portland Southeast</td>\n",
       "      <td>...</td>\n",
       "      <td>50</td>\n",
       "      <td>2</td>\n",
       "      <td>44</td>\n",
       "      <td>48</td>\n",
       "      <td>50</td>\n",
       "      <td>50</td>\n",
       "      <td>50</td>\n",
       "      <td>7.299694</td>\n",
       "      <td>20.389635</td>\n",
       "      <td>1</td>\n",
       "    </tr>\n",
       "    <tr>\n",
       "      <th>4</th>\n",
       "      <td>MLS Listing</td>\n",
       "      <td>Multi-Family (2-4 Unit)</td>\n",
       "      <td>2028 SE Harold St</td>\n",
       "      <td>Portland</td>\n",
       "      <td>OR</td>\n",
       "      <td>97202.0</td>\n",
       "      <td>699900.0</td>\n",
       "      <td>5.0</td>\n",
       "      <td>4.0</td>\n",
       "      <td>SELLWOOD - WEST MORELAND</td>\n",
       "      <td>...</td>\n",
       "      <td>50</td>\n",
       "      <td>2</td>\n",
       "      <td>40</td>\n",
       "      <td>45</td>\n",
       "      <td>50</td>\n",
       "      <td>50</td>\n",
       "      <td>50</td>\n",
       "      <td>3.710354</td>\n",
       "      <td>11.486135</td>\n",
       "      <td>1</td>\n",
       "    </tr>\n",
       "  </tbody>\n",
       "</table>\n",
       "<p>5 rows × 36 columns</p>\n",
       "</div>"
      ],
      "text/plain": [
       "     SALE TYPE              PROPERTY TYPE                   ADDRESS      CITY  \\\n",
       "0  MLS Listing  Single Family Residential  15986 SE Spokane Ct. Ave  Portland   \n",
       "1  MLS Listing    Multi-Family (2-4 Unit)           SE Henderson St  Portland   \n",
       "2  MLS Listing  Single Family Residential        8268 SE Yamhill St  Portland   \n",
       "3  MLS Listing  Single Family Residential         6311 SE Tenino St  Portland   \n",
       "4  MLS Listing    Multi-Family (2-4 Unit)         2028 SE Harold St  Portland   \n",
       "\n",
       "  STATE      ZIP     PRICE  BEDS  BATHS                  LOCATION    ...     \\\n",
       "0    OR  97236.0  543900.0   4.0    3.5        Portland Southeast    ...      \n",
       "1    OR  97206.0  625000.0   6.0    6.0                     LENTS    ...      \n",
       "2    OR  97216.0  550000.0   7.0    4.0        Portland Southeast    ...      \n",
       "3    OR  97206.0  479900.0   4.0    2.5        Portland Southeast    ...      \n",
       "4    OR  97202.0  699900.0   5.0    4.0  SELLWOOD - WEST MORELAND    ...      \n",
       "\n",
       "   coffee_count  bars_count  gas_count  shops_count  travel_count  \\\n",
       "0            50           2         34           46            50   \n",
       "1            50           1         50           40            50   \n",
       "2            50           1         50           43            50   \n",
       "3            50           2         44           48            50   \n",
       "4            50           2         40           45            50   \n",
       "\n",
       "   parks_count edu_count commute_length commute_duration  favorite  \n",
       "0           50        50       5.796321        16.509734         1  \n",
       "1           50        50       8.380589        23.087985         1  \n",
       "2           50        50       6.330796        16.910622         1  \n",
       "3           50        50       7.299694        20.389635         1  \n",
       "4           50        50       3.710354        11.486135         1  \n",
       "\n",
       "[5 rows x 36 columns]"
      ]
     },
     "execution_count": 7,
     "metadata": {},
     "output_type": "execute_result"
    }
   ],
   "source": [
    "prop_df.drop(columns=['Unnamed: 0','scores_scaled','rank'], inplace=True)\n",
    "prop_df.head()"
   ]
  },
  {
   "cell_type": "markdown",
   "metadata": {
    "slideshow": {
     "slide_type": "skip"
    }
   },
   "source": [
    "## One hot encoding\n",
    "We drop more columns that don't really determine a buyer's preference"
   ]
  },
  {
   "cell_type": "code",
   "execution_count": 8,
   "metadata": {
    "slideshow": {
     "slide_type": "skip"
    }
   },
   "outputs": [
    {
     "data": {
      "text/plain": [
       "Index(['SALE TYPE', 'PROPERTY TYPE', 'ADDRESS', 'CITY', 'STATE', 'ZIP',\n",
       "       'PRICE', 'BEDS', 'BATHS', 'LOCATION', 'SQUARE FEET', 'LOT SIZE',\n",
       "       'YEAR BUILT', 'DAYS ON MARKET', 'PRICE PER SQFT', 'HOA PER MONTH',\n",
       "       'STATUS', 'URL', 'SOURCE', 'MLS', 'LATITUDE', 'LONGITUDE', 'SHAPE',\n",
       "       'grocery_count', 'restaurant_count', 'hospitals_count', 'coffee_count',\n",
       "       'bars_count', 'gas_count', 'shops_count', 'travel_count', 'parks_count',\n",
       "       'edu_count', 'commute_length', 'commute_duration', 'favorite'],\n",
       "      dtype='object')"
      ]
     },
     "execution_count": 8,
     "metadata": {},
     "output_type": "execute_result"
    }
   ],
   "source": [
    "prop_df.columns"
   ]
  },
  {
   "cell_type": "code",
   "execution_count": 11,
   "metadata": {
    "slideshow": {
     "slide_type": "skip"
    }
   },
   "outputs": [
    {
     "data": {
      "text/html": [
       "<div>\n",
       "<style scoped>\n",
       "    .dataframe tbody tr th:only-of-type {\n",
       "        vertical-align: middle;\n",
       "    }\n",
       "\n",
       "    .dataframe tbody tr th {\n",
       "        vertical-align: top;\n",
       "    }\n",
       "\n",
       "    .dataframe thead th {\n",
       "        text-align: right;\n",
       "    }\n",
       "</style>\n",
       "<table border=\"1\" class=\"dataframe\">\n",
       "  <thead>\n",
       "    <tr style=\"text-align: right;\">\n",
       "      <th></th>\n",
       "      <th>PRICE</th>\n",
       "      <th>BEDS</th>\n",
       "      <th>BATHS</th>\n",
       "      <th>SQUARE FEET</th>\n",
       "      <th>LOT SIZE</th>\n",
       "      <th>YEAR BUILT</th>\n",
       "      <th>HOA PER MONTH</th>\n",
       "      <th>grocery_count</th>\n",
       "      <th>restaurant_count</th>\n",
       "      <th>hospitals_count</th>\n",
       "      <th>coffee_count</th>\n",
       "      <th>bars_count</th>\n",
       "      <th>gas_count</th>\n",
       "      <th>shops_count</th>\n",
       "      <th>travel_count</th>\n",
       "      <th>parks_count</th>\n",
       "      <th>edu_count</th>\n",
       "      <th>commute_length</th>\n",
       "      <th>commute_duration</th>\n",
       "      <th>favorite</th>\n",
       "    </tr>\n",
       "  </thead>\n",
       "  <tbody>\n",
       "    <tr>\n",
       "      <th>0</th>\n",
       "      <td>543900.0</td>\n",
       "      <td>4.0</td>\n",
       "      <td>3.5</td>\n",
       "      <td>3178.0</td>\n",
       "      <td>6969.0</td>\n",
       "      <td>2018.0</td>\n",
       "      <td>50.0</td>\n",
       "      <td>20</td>\n",
       "      <td>50</td>\n",
       "      <td>6</td>\n",
       "      <td>50</td>\n",
       "      <td>2</td>\n",
       "      <td>34</td>\n",
       "      <td>46</td>\n",
       "      <td>50</td>\n",
       "      <td>50</td>\n",
       "      <td>50</td>\n",
       "      <td>5.796321</td>\n",
       "      <td>16.509734</td>\n",
       "      <td>1</td>\n",
       "    </tr>\n",
       "    <tr>\n",
       "      <th>1</th>\n",
       "      <td>625000.0</td>\n",
       "      <td>6.0</td>\n",
       "      <td>6.0</td>\n",
       "      <td>2844.0</td>\n",
       "      <td>6969.0</td>\n",
       "      <td>2018.0</td>\n",
       "      <td>0.0</td>\n",
       "      <td>20</td>\n",
       "      <td>50</td>\n",
       "      <td>6</td>\n",
       "      <td>50</td>\n",
       "      <td>1</td>\n",
       "      <td>50</td>\n",
       "      <td>40</td>\n",
       "      <td>50</td>\n",
       "      <td>50</td>\n",
       "      <td>50</td>\n",
       "      <td>8.380589</td>\n",
       "      <td>23.087985</td>\n",
       "      <td>1</td>\n",
       "    </tr>\n",
       "    <tr>\n",
       "      <th>2</th>\n",
       "      <td>550000.0</td>\n",
       "      <td>7.0</td>\n",
       "      <td>4.0</td>\n",
       "      <td>3038.0</td>\n",
       "      <td>6969.0</td>\n",
       "      <td>2018.0</td>\n",
       "      <td>0.0</td>\n",
       "      <td>20</td>\n",
       "      <td>50</td>\n",
       "      <td>4</td>\n",
       "      <td>50</td>\n",
       "      <td>1</td>\n",
       "      <td>50</td>\n",
       "      <td>43</td>\n",
       "      <td>50</td>\n",
       "      <td>50</td>\n",
       "      <td>50</td>\n",
       "      <td>6.330796</td>\n",
       "      <td>16.910622</td>\n",
       "      <td>1</td>\n",
       "    </tr>\n",
       "    <tr>\n",
       "      <th>3</th>\n",
       "      <td>479900.0</td>\n",
       "      <td>4.0</td>\n",
       "      <td>2.5</td>\n",
       "      <td>2029.0</td>\n",
       "      <td>3920.0</td>\n",
       "      <td>2018.0</td>\n",
       "      <td>0.0</td>\n",
       "      <td>20</td>\n",
       "      <td>50</td>\n",
       "      <td>6</td>\n",
       "      <td>50</td>\n",
       "      <td>2</td>\n",
       "      <td>44</td>\n",
       "      <td>48</td>\n",
       "      <td>50</td>\n",
       "      <td>50</td>\n",
       "      <td>50</td>\n",
       "      <td>7.299694</td>\n",
       "      <td>20.389635</td>\n",
       "      <td>1</td>\n",
       "    </tr>\n",
       "    <tr>\n",
       "      <th>4</th>\n",
       "      <td>699900.0</td>\n",
       "      <td>5.0</td>\n",
       "      <td>4.0</td>\n",
       "      <td>2582.0</td>\n",
       "      <td>6969.0</td>\n",
       "      <td>2016.0</td>\n",
       "      <td>0.0</td>\n",
       "      <td>20</td>\n",
       "      <td>50</td>\n",
       "      <td>8</td>\n",
       "      <td>50</td>\n",
       "      <td>2</td>\n",
       "      <td>40</td>\n",
       "      <td>45</td>\n",
       "      <td>50</td>\n",
       "      <td>50</td>\n",
       "      <td>50</td>\n",
       "      <td>3.710354</td>\n",
       "      <td>11.486135</td>\n",
       "      <td>1</td>\n",
       "    </tr>\n",
       "  </tbody>\n",
       "</table>\n",
       "</div>"
      ],
      "text/plain": [
       "      PRICE  BEDS  BATHS  SQUARE FEET  LOT SIZE  YEAR BUILT  HOA PER MONTH  \\\n",
       "0  543900.0   4.0    3.5       3178.0    6969.0      2018.0           50.0   \n",
       "1  625000.0   6.0    6.0       2844.0    6969.0      2018.0            0.0   \n",
       "2  550000.0   7.0    4.0       3038.0    6969.0      2018.0            0.0   \n",
       "3  479900.0   4.0    2.5       2029.0    3920.0      2018.0            0.0   \n",
       "4  699900.0   5.0    4.0       2582.0    6969.0      2016.0            0.0   \n",
       "\n",
       "   grocery_count  restaurant_count  hospitals_count  coffee_count  bars_count  \\\n",
       "0             20                50                6            50           2   \n",
       "1             20                50                6            50           1   \n",
       "2             20                50                4            50           1   \n",
       "3             20                50                6            50           2   \n",
       "4             20                50                8            50           2   \n",
       "\n",
       "   gas_count  shops_count  travel_count  parks_count  edu_count  \\\n",
       "0         34           46            50           50         50   \n",
       "1         50           40            50           50         50   \n",
       "2         50           43            50           50         50   \n",
       "3         44           48            50           50         50   \n",
       "4         40           45            50           50         50   \n",
       "\n",
       "   commute_length  commute_duration  favorite  \n",
       "0        5.796321         16.509734         1  \n",
       "1        8.380589         23.087985         1  \n",
       "2        6.330796         16.910622         1  \n",
       "3        7.299694         20.389635         1  \n",
       "4        3.710354         11.486135         1  "
      ]
     },
     "execution_count": 11,
     "metadata": {},
     "output_type": "execute_result"
    }
   ],
   "source": [
    "train_df = prop_df.drop(columns=['SALE TYPE','PROPERTY TYPE','ADDRESS', 'CITY', 'STATE', 'ZIP','LOCATION', \n",
    "                                'DAYS ON MARKET','PRICE PER SQFT','STATUS',\n",
    "                                 'URL', 'SOURCE', 'MLS', 'SHAPE','LATITUDE', 'LONGITUDE'])\n",
    "train_df.head()"
   ]
  },
  {
   "cell_type": "markdown",
   "metadata": {
    "slideshow": {
     "slide_type": "skip"
    }
   },
   "source": [
    "## Scale numeric columns\n",
    "We use the same `MinMaxScaler` we used earlier to scale the data."
   ]
  },
  {
   "cell_type": "code",
   "execution_count": 12,
   "metadata": {
    "slideshow": {
     "slide_type": "skip"
    }
   },
   "outputs": [],
   "source": [
    "from sklearn.preprocessing import MinMaxScaler\n",
    "mm_scaler = MinMaxScaler()"
   ]
  },
  {
   "cell_type": "code",
   "execution_count": 13,
   "metadata": {
    "slideshow": {
     "slide_type": "skip"
    }
   },
   "outputs": [],
   "source": [
    "columns_to_scale = ['PRICE', 'BEDS', 'BATHS', 'SQUARE FEET', 'LOT SIZE',\n",
    "       'YEAR BUILT', 'HOA PER MONTH','grocery_count', 'restaurant_count', 'hospitals_count', 'coffee_count',\n",
    "       'bars_count', 'gas_count', 'shops_count', 'travel_count', 'parks_count',\n",
    "       'edu_count', 'commute_length', 'commute_duration']"
   ]
  },
  {
   "cell_type": "code",
   "execution_count": 15,
   "metadata": {
    "slideshow": {
     "slide_type": "skip"
    }
   },
   "outputs": [
    {
     "data": {
      "text/html": [
       "<div>\n",
       "<style scoped>\n",
       "    .dataframe tbody tr th:only-of-type {\n",
       "        vertical-align: middle;\n",
       "    }\n",
       "\n",
       "    .dataframe tbody tr th {\n",
       "        vertical-align: top;\n",
       "    }\n",
       "\n",
       "    .dataframe thead th {\n",
       "        text-align: right;\n",
       "    }\n",
       "</style>\n",
       "<table border=\"1\" class=\"dataframe\">\n",
       "  <thead>\n",
       "    <tr style=\"text-align: right;\">\n",
       "      <th></th>\n",
       "      <th>PRICE</th>\n",
       "      <th>BEDS</th>\n",
       "      <th>BATHS</th>\n",
       "      <th>SQUARE FEET</th>\n",
       "      <th>LOT SIZE</th>\n",
       "      <th>YEAR BUILT</th>\n",
       "      <th>HOA PER MONTH</th>\n",
       "      <th>grocery_count</th>\n",
       "      <th>restaurant_count</th>\n",
       "      <th>hospitals_count</th>\n",
       "      <th>coffee_count</th>\n",
       "      <th>bars_count</th>\n",
       "      <th>gas_count</th>\n",
       "      <th>shops_count</th>\n",
       "      <th>travel_count</th>\n",
       "      <th>parks_count</th>\n",
       "      <th>edu_count</th>\n",
       "      <th>commute_length</th>\n",
       "      <th>commute_duration</th>\n",
       "    </tr>\n",
       "  </thead>\n",
       "  <tbody>\n",
       "    <tr>\n",
       "      <th>0</th>\n",
       "      <td>0.572446</td>\n",
       "      <td>0.333333</td>\n",
       "      <td>0.3</td>\n",
       "      <td>0.448684</td>\n",
       "      <td>0.100778</td>\n",
       "      <td>0.947368</td>\n",
       "      <td>0.25</td>\n",
       "      <td>1.0</td>\n",
       "      <td>1.0</td>\n",
       "      <td>0.500000</td>\n",
       "      <td>1.0</td>\n",
       "      <td>1.0</td>\n",
       "      <td>0.68</td>\n",
       "      <td>0.92</td>\n",
       "      <td>1.0</td>\n",
       "      <td>1.0</td>\n",
       "      <td>1.0</td>\n",
       "      <td>0.002085</td>\n",
       "      <td>0.004983</td>\n",
       "    </tr>\n",
       "    <tr>\n",
       "      <th>1</th>\n",
       "      <td>0.794577</td>\n",
       "      <td>0.666667</td>\n",
       "      <td>0.8</td>\n",
       "      <td>0.321251</td>\n",
       "      <td>0.100778</td>\n",
       "      <td>0.947368</td>\n",
       "      <td>0.00</td>\n",
       "      <td>1.0</td>\n",
       "      <td>1.0</td>\n",
       "      <td>0.500000</td>\n",
       "      <td>1.0</td>\n",
       "      <td>0.5</td>\n",
       "      <td>1.00</td>\n",
       "      <td>0.80</td>\n",
       "      <td>1.0</td>\n",
       "      <td>1.0</td>\n",
       "      <td>1.0</td>\n",
       "      <td>0.003189</td>\n",
       "      <td>0.008123</td>\n",
       "    </tr>\n",
       "    <tr>\n",
       "      <th>2</th>\n",
       "      <td>0.589154</td>\n",
       "      <td>0.833333</td>\n",
       "      <td>0.4</td>\n",
       "      <td>0.395269</td>\n",
       "      <td>0.100778</td>\n",
       "      <td>0.947368</td>\n",
       "      <td>0.00</td>\n",
       "      <td>1.0</td>\n",
       "      <td>1.0</td>\n",
       "      <td>0.333333</td>\n",
       "      <td>1.0</td>\n",
       "      <td>0.5</td>\n",
       "      <td>1.00</td>\n",
       "      <td>0.86</td>\n",
       "      <td>1.0</td>\n",
       "      <td>1.0</td>\n",
       "      <td>1.0</td>\n",
       "      <td>0.002313</td>\n",
       "      <td>0.005175</td>\n",
       "    </tr>\n",
       "    <tr>\n",
       "      <th>3</th>\n",
       "      <td>0.397151</td>\n",
       "      <td>0.333333</td>\n",
       "      <td>0.1</td>\n",
       "      <td>0.010301</td>\n",
       "      <td>0.046518</td>\n",
       "      <td>0.947368</td>\n",
       "      <td>0.00</td>\n",
       "      <td>1.0</td>\n",
       "      <td>1.0</td>\n",
       "      <td>0.500000</td>\n",
       "      <td>1.0</td>\n",
       "      <td>1.0</td>\n",
       "      <td>0.88</td>\n",
       "      <td>0.96</td>\n",
       "      <td>1.0</td>\n",
       "      <td>1.0</td>\n",
       "      <td>1.0</td>\n",
       "      <td>0.002727</td>\n",
       "      <td>0.006835</td>\n",
       "    </tr>\n",
       "    <tr>\n",
       "      <th>4</th>\n",
       "      <td>0.999726</td>\n",
       "      <td>0.500000</td>\n",
       "      <td>0.4</td>\n",
       "      <td>0.221290</td>\n",
       "      <td>0.100778</td>\n",
       "      <td>0.842105</td>\n",
       "      <td>0.00</td>\n",
       "      <td>1.0</td>\n",
       "      <td>1.0</td>\n",
       "      <td>0.666667</td>\n",
       "      <td>1.0</td>\n",
       "      <td>1.0</td>\n",
       "      <td>0.80</td>\n",
       "      <td>0.90</td>\n",
       "      <td>1.0</td>\n",
       "      <td>1.0</td>\n",
       "      <td>1.0</td>\n",
       "      <td>0.001193</td>\n",
       "      <td>0.002586</td>\n",
       "    </tr>\n",
       "  </tbody>\n",
       "</table>\n",
       "</div>"
      ],
      "text/plain": [
       "      PRICE      BEDS  BATHS  SQUARE FEET  LOT SIZE  YEAR BUILT  \\\n",
       "0  0.572446  0.333333    0.3     0.448684  0.100778    0.947368   \n",
       "1  0.794577  0.666667    0.8     0.321251  0.100778    0.947368   \n",
       "2  0.589154  0.833333    0.4     0.395269  0.100778    0.947368   \n",
       "3  0.397151  0.333333    0.1     0.010301  0.046518    0.947368   \n",
       "4  0.999726  0.500000    0.4     0.221290  0.100778    0.842105   \n",
       "\n",
       "   HOA PER MONTH  grocery_count  restaurant_count  hospitals_count  \\\n",
       "0           0.25            1.0               1.0         0.500000   \n",
       "1           0.00            1.0               1.0         0.500000   \n",
       "2           0.00            1.0               1.0         0.333333   \n",
       "3           0.00            1.0               1.0         0.500000   \n",
       "4           0.00            1.0               1.0         0.666667   \n",
       "\n",
       "   coffee_count  bars_count  gas_count  shops_count  travel_count  \\\n",
       "0           1.0         1.0       0.68         0.92           1.0   \n",
       "1           1.0         0.5       1.00         0.80           1.0   \n",
       "2           1.0         0.5       1.00         0.86           1.0   \n",
       "3           1.0         1.0       0.88         0.96           1.0   \n",
       "4           1.0         1.0       0.80         0.90           1.0   \n",
       "\n",
       "   parks_count  edu_count  commute_length  commute_duration  \n",
       "0          1.0        1.0        0.002085          0.004983  \n",
       "1          1.0        1.0        0.003189          0.008123  \n",
       "2          1.0        1.0        0.002313          0.005175  \n",
       "3          1.0        1.0        0.002727          0.006835  \n",
       "4          1.0        1.0        0.001193          0.002586  "
      ]
     },
     "execution_count": 15,
     "metadata": {},
     "output_type": "execute_result"
    }
   ],
   "source": [
    "scaled_array = mm_scaler.fit_transform(train_df[columns_to_scale])\n",
    "prop_scaled = pd.DataFrame(scaled_array, columns=columns_to_scale)\n",
    "prop_scaled.head()"
   ]
  },
  {
   "cell_type": "markdown",
   "metadata": {
    "slideshow": {
     "slide_type": "skip"
    }
   },
   "source": [
    "## Split dataset into training and test"
   ]
  },
  {
   "cell_type": "code",
   "execution_count": 29,
   "metadata": {
    "slideshow": {
     "slide_type": "skip"
    }
   },
   "outputs": [
    {
     "data": {
      "text/plain": [
       "Index(['PRICE', 'BEDS', 'BATHS', 'SQUARE FEET', 'LOT SIZE', 'YEAR BUILT',\n",
       "       'HOA PER MONTH', 'grocery_count', 'restaurant_count', 'hospitals_count',\n",
       "       'coffee_count', 'bars_count', 'gas_count', 'shops_count',\n",
       "       'travel_count', 'parks_count', 'edu_count', 'commute_length',\n",
       "       'commute_duration'],\n",
       "      dtype='object')"
      ]
     },
     "execution_count": 29,
     "metadata": {},
     "output_type": "execute_result"
    }
   ],
   "source": [
    "prop_scaled.columns"
   ]
  },
  {
   "cell_type": "code",
   "execution_count": 30,
   "metadata": {
    "slideshow": {
     "slide_type": "skip"
    }
   },
   "outputs": [
    {
     "name": "stdout",
     "output_type": "stream",
     "text": [
      "<class 'pandas.core.frame.DataFrame'>\n",
      "RangeIndex: 331 entries, 0 to 330\n",
      "Data columns (total 19 columns):\n",
      "PRICE               331 non-null float64\n",
      "BEDS                331 non-null float64\n",
      "BATHS               331 non-null float64\n",
      "SQUARE FEET         331 non-null float64\n",
      "LOT SIZE            331 non-null float64\n",
      "YEAR BUILT          331 non-null float64\n",
      "HOA PER MONTH       331 non-null float64\n",
      "grocery_count       331 non-null float64\n",
      "restaurant_count    331 non-null float64\n",
      "hospitals_count     331 non-null float64\n",
      "coffee_count        331 non-null float64\n",
      "bars_count          331 non-null float64\n",
      "gas_count           331 non-null float64\n",
      "shops_count         331 non-null float64\n",
      "travel_count        331 non-null float64\n",
      "parks_count         331 non-null float64\n",
      "edu_count           331 non-null float64\n",
      "commute_length      331 non-null float64\n",
      "commute_duration    331 non-null float64\n",
      "dtypes: float64(19)\n",
      "memory usage: 49.2 KB\n"
     ]
    }
   ],
   "source": [
    "prop_scaled.info()"
   ]
  },
  {
   "cell_type": "code",
   "execution_count": 31,
   "metadata": {
    "slideshow": {
     "slide_type": "skip"
    }
   },
   "outputs": [],
   "source": [
    "X = prop_scaled\n",
    "y = train_df['favorite']"
   ]
  },
  {
   "cell_type": "code",
   "execution_count": 32,
   "metadata": {
    "slideshow": {
     "slide_type": "skip"
    }
   },
   "outputs": [
    {
     "data": {
      "text/plain": [
       "(221, 110)"
      ]
     },
     "execution_count": 32,
     "metadata": {},
     "output_type": "execute_result"
    }
   ],
   "source": [
    "from sklearn.model_selection import train_test_split\n",
    "X_train, X_test, y_train, y_test = train_test_split(X,y,test_size=0.33)\n",
    "\n",
    "(len(X_train), len(X_test))"
   ]
  },
  {
   "cell_type": "markdown",
   "metadata": {
    "slideshow": {
     "slide_type": "skip"
    }
   },
   "source": [
    "## Logistic Regression"
   ]
  },
  {
   "cell_type": "code",
   "execution_count": 33,
   "metadata": {
    "slideshow": {
     "slide_type": "skip"
    }
   },
   "outputs": [],
   "source": [
    "from sklearn.linear_model import LogisticRegression\n",
    "log_model = LogisticRegression(verbose=1)"
   ]
  },
  {
   "cell_type": "code",
   "execution_count": 34,
   "metadata": {
    "slideshow": {
     "slide_type": "skip"
    }
   },
   "outputs": [
    {
     "name": "stdout",
     "output_type": "stream",
     "text": [
      "[LibLinear]"
     ]
    },
    {
     "data": {
      "text/plain": [
       "LogisticRegression(C=1.0, class_weight=None, dual=False, fit_intercept=True,\n",
       "          intercept_scaling=1, max_iter=100, multi_class='ovr', n_jobs=1,\n",
       "          penalty='l2', random_state=None, solver='liblinear', tol=0.0001,\n",
       "          verbose=1, warm_start=False)"
      ]
     },
     "execution_count": 34,
     "metadata": {},
     "output_type": "execute_result"
    }
   ],
   "source": [
    "log_model.fit(X_train, y_train)"
   ]
  },
  {
   "cell_type": "code",
   "execution_count": 35,
   "metadata": {
    "slideshow": {
     "slide_type": "skip"
    }
   },
   "outputs": [],
   "source": [
    "test_predictions = log_model.predict(X_test)"
   ]
  },
  {
   "cell_type": "code",
   "execution_count": 36,
   "metadata": {
    "slideshow": {
     "slide_type": "skip"
    }
   },
   "outputs": [
    {
     "data": {
      "text/plain": [
       "array([0, 1, 0, 0, 1, 0, 0, 0, 0, 1, 0, 0, 0, 0, 0, 0, 0, 0, 0, 0, 0, 0,\n",
       "       0, 0, 0, 0, 0, 0, 0, 0, 0, 0, 0, 0, 1, 0, 0, 0, 0, 0, 1, 1, 1, 0,\n",
       "       0, 1, 0, 1, 0, 0, 0, 0, 0, 0, 1, 0, 0, 0, 0, 0, 1, 0, 0, 1, 0, 0,\n",
       "       0, 0, 0, 0, 0, 0, 0, 0, 0, 0, 0, 0, 0, 1, 0, 0, 0, 0, 0, 0, 0, 0,\n",
       "       0, 0, 1, 0, 0, 0, 0, 0, 0, 0, 0, 0, 0, 0, 0, 1, 1, 1, 0, 0, 0, 0])"
      ]
     },
     "execution_count": 36,
     "metadata": {},
     "output_type": "execute_result"
    }
   ],
   "source": [
    "test_predictions"
   ]
  },
  {
   "cell_type": "markdown",
   "metadata": {
    "slideshow": {
     "slide_type": "subslide"
    }
   },
   "source": [
    "### Model evaluation"
   ]
  },
  {
   "cell_type": "code",
   "execution_count": 37,
   "metadata": {
    "slideshow": {
     "slide_type": "skip"
    }
   },
   "outputs": [],
   "source": [
    "from sklearn.metrics import classification_report, confusion_matrix"
   ]
  },
  {
   "cell_type": "code",
   "execution_count": 39,
   "metadata": {
    "slideshow": {
     "slide_type": "fragment"
    }
   },
   "outputs": [
    {
     "name": "stdout",
     "output_type": "stream",
     "text": [
      "('             precision    recall  f1-score   support\\n'\n",
      " '\\n'\n",
      " '    not fav       0.94      0.98      0.96        89\\n'\n",
      " '        fav       0.88      0.71      0.79        21\\n'\n",
      " '\\n'\n",
      " 'avg / total       0.93      0.93      0.92       110\\n')\n"
     ]
    }
   ],
   "source": [
    "from pprint import pprint\n",
    "pprint(classification_report(y_test, test_predictions, target_names=['not fav','fav']))"
   ]
  },
  {
   "cell_type": "code",
   "execution_count": 40,
   "metadata": {
    "slideshow": {
     "slide_type": "fragment"
    }
   },
   "outputs": [
    {
     "data": {
      "text/plain": [
       "(87, 2, 6, 15)"
      ]
     },
     "execution_count": 40,
     "metadata": {},
     "output_type": "execute_result"
    }
   ],
   "source": [
    "tn, fp, fn, tp = confusion_matrix(y_test, test_predictions).ravel()\n",
    "tn, fp, fn, tp"
   ]
  },
  {
   "cell_type": "markdown",
   "metadata": {
    "slideshow": {
     "slide_type": "subslide"
    }
   },
   "source": [
    "### Model inference"
   ]
  },
  {
   "cell_type": "code",
   "execution_count": 41,
   "metadata": {
    "slideshow": {
     "slide_type": "fragment"
    }
   },
   "outputs": [
    {
     "data": {
      "text/plain": [
       "[('PRICE', -0.4817),\n",
       " ('BEDS', 0.56799),\n",
       " ('BATHS', 0.65258),\n",
       " ('SQUARE FEET', 0.09618),\n",
       " ('LOT SIZE', -0.10108),\n",
       " ('YEAR BUILT', 0.86107),\n",
       " ('HOA PER MONTH', 0.02129),\n",
       " ('grocery_count', -0.7736),\n",
       " ('restaurant_count', -1.22493),\n",
       " ('hospitals_count', 1.38967),\n",
       " ('coffee_count', 1.27494),\n",
       " ('bars_count', 2.9728),\n",
       " ('gas_count', 1.16501),\n",
       " ('shops_count', -0.71489),\n",
       " ('travel_count', 0.24195),\n",
       " ('parks_count', -1.02031),\n",
       " ('edu_count', -0.45057),\n",
       " ('commute_length', -0.58029),\n",
       " ('commute_duration', -0.59949)]"
      ]
     },
     "execution_count": 41,
     "metadata": {},
     "output_type": "execute_result"
    }
   ],
   "source": [
    "coeff = log_model.coef_.round(5).tolist()[0]\n",
    "list(zip(X_train.columns, coeff))"
   ]
  },
  {
   "cell_type": "code",
   "execution_count": 44,
   "metadata": {
    "slideshow": {
     "slide_type": "fragment"
    }
   },
   "outputs": [
    {
     "data": {
      "text/plain": [
       "array([-1.46905595])"
      ]
     },
     "execution_count": 44,
     "metadata": {},
     "output_type": "execute_result"
    }
   ],
   "source": [
    "log_model.intercept_"
   ]
  },
  {
   "cell_type": "markdown",
   "metadata": {},
   "source": [
    "## Conclusion\n",
    "\n",
    "### Recommendation engines\n",
    "From the example above, we could build a recommendation engine that runs on periodically on a newer set of properties and determines which ones are worth your time (one's it predicts you would 'like'). The ML model's weights appear similar to what we defined manually. In some cases, it goes way off.\n",
    "\n",
    "This type of recommendation is called 'content based filtering' and for this to work, we need a really large training set. In reality nobody can sit and generate such a large set. In practice, another type of recommendations called 'community based filtering' is used. Based on the features identified for the properties, it tries to find similarity between buyers and pools the training set for all similar buyers together to create a really large training set and learns from that.\n",
    "\n",
    "### Overall\n",
    "In these sets of notebooks, we observed how data science and machine learning approaches can be employed in the real estate industry. Buying houses is a very personal process, however a lot of decisions are heavily influenced by the location of the houses. We showed how Python libraries such as Pandas can be used to statistically analyze the properties. We also showed how the ArcGIS API for Python adds spatial capabilities to Pandas allowing to perform spatial data analysis. We enriched the data with information on access to different facilities and used that to compare, score and rank the properties. The shortlist we arrived at can be used for field visits.\n",
    "\n",
    "We conclude with a forward thinking approach to turn this into a recommendation engine and suggest scope for future work in this area."
   ]
  }
 ],
 "metadata": {
  "celltoolbar": "Slideshow",
  "kernelspec": {
   "display_name": "Python 3",
   "language": "python",
   "name": "python3"
  },
  "language_info": {
   "codemirror_mode": {
    "name": "ipython",
    "version": 3
   },
   "file_extension": ".py",
   "mimetype": "text/x-python",
   "name": "python",
   "nbconvert_exporter": "python",
   "pygments_lexer": "ipython3",
   "version": "3.6.6"
  },
  "livereveal": {
   "scroll": true
  },
  "toc": {
   "base_numbering": 1,
   "nav_menu": {},
   "number_sections": false,
   "sideBar": true,
   "skip_h1_title": false,
   "title_cell": "**Table of Contents**",
   "title_sidebar": "Contents",
   "toc_cell": true,
   "toc_position": {},
   "toc_section_display": true,
   "toc_window_display": true
  }
 },
 "nbformat": 4,
 "nbformat_minor": 2
}
