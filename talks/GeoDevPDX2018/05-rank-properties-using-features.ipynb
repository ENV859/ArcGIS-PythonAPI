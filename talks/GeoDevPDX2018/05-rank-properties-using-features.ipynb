{
 "cells": [
  {
   "cell_type": "markdown",
   "metadata": {
    "slideshow": {
     "slide_type": "skip"
    },
    "toc": true
   },
   "source": [
    "<h1>**Table of Contents**<span class=\"tocSkip\"></span></h1>\n",
    "<div class=\"toc\"><ul class=\"toc-item\"><li><span><a href=\"#Score-and-rank-properties-using-intrinsic-and-spatial-features\" data-toc-modified-id=\"Score-and-rank-properties-using-intrinsic-and-spatial-features-1\">Score and rank properties using intrinsic and spatial features</a></span><ul class=\"toc-item\"><li><span><a href=\"#Read-spatially-enriched-properties\" data-toc-modified-id=\"Read-spatially-enriched-properties-1.1\">Read spatially enriched properties</a></span></li><li><span><a href=\"#Apply-weights\" data-toc-modified-id=\"Apply-weights-1.2\">Apply weights</a></span></li><li><span><a href=\"#Generate-scores-for-all-properties\" data-toc-modified-id=\"Generate-scores-for-all-properties-1.3\">Generate scores for all properties</a></span><ul class=\"toc-item\"><li><span><a href=\"#Write-unscaled-data-to-disk\" data-toc-modified-id=\"Write-unscaled-data-to-disk-1.3.1\">Write unscaled data to disk</a></span></li></ul></li><li><span><a href=\"#Scale-data\" data-toc-modified-id=\"Scale-data-1.4\">Scale data</a></span><ul class=\"toc-item\"><li><span><a href=\"#Apply-scores-on-scaled-data\" data-toc-modified-id=\"Apply-scores-on-scaled-data-1.4.1\">Apply scores on scaled data</a></span></li><li><span><a href=\"#Inverse-transform-data\" data-toc-modified-id=\"Inverse-transform-data-1.4.2\">Inverse transform data</a></span></li></ul></li><li><span><a href=\"#Sort-by-scores\" data-toc-modified-id=\"Sort-by-scores-1.5\">Sort by scores</a></span></li><li><span><a href=\"#Apply-a-rank-for-each-property-based-on-the-scores\" data-toc-modified-id=\"Apply-a-rank-for-each-property-based-on-the-scores-1.6\">Apply a rank for each property based on the scores</a></span></li><li><span><a href=\"#Visualize-the-top-50-properties\" data-toc-modified-id=\"Visualize-the-top-50-properties-1.7\">Visualize the top 50 properties</a></span><ul class=\"toc-item\"><li><span><a href=\"#Investigate-statistical-distribution-facilities-in-the-top-50-shortlist\" data-toc-modified-id=\"Investigate-statistical-distribution-facilities-in-the-top-50-shortlist-1.7.1\">Investigate statistical distribution facilities in the top 50 shortlist</a></span></li><li><span><a href=\"#How-is-rank-correlated-with-location-properties-of-houses?\" data-toc-modified-id=\"How-is-rank-correlated-with-location-properties-of-houses?-1.7.2\">How is rank correlated with location properties of houses?</a></span></li><li><span><a href=\"#How-is-rank-correlated-with-intrinsic-properties-of-houses?\" data-toc-modified-id=\"How-is-rank-correlated-with-intrinsic-properties-of-houses?-1.7.3\">How is rank correlated with intrinsic properties of houses?</a></span></li><li><span><a href=\"#Save-to-disk\" data-toc-modified-id=\"Save-to-disk-1.7.4\">Save to disk</a></span></li></ul></li></ul></li></ul></div>"
   ]
  },
  {
   "cell_type": "markdown",
   "metadata": {
    "slideshow": {
     "slide_type": "slide"
    }
   },
   "source": [
    "# Score and rank properties using intrinsic and spatial features\n",
    "So far we have shortlisted properties based on their intrinsic properties such as number of rooms, price, HoA etc. We have enriched them with spatial attributes such as access to facilities and distance to a point of interest (such as work). In this notebook, we weigh and sum these attributes to produce a score for each property. We finally sort them to pick the top few."
   ]
  },
  {
   "cell_type": "code",
   "execution_count": 1,
   "metadata": {
    "slideshow": {
     "slide_type": "skip"
    }
   },
   "outputs": [],
   "source": [
    "import pandas as pd\n",
    "import matplotlib.pyplot as plt\n",
    "from pprint import pprint\n",
    "%matplotlib inline\n",
    "import seaborn as sns\n",
    "\n",
    "from arcgis.gis import GIS\n",
    "from arcgis.features import Feature, FeatureLayer, FeatureSet, GeoAccessor, GeoSeriesAccessor"
   ]
  },
  {
   "cell_type": "code",
   "execution_count": 2,
   "metadata": {
    "slideshow": {
     "slide_type": "skip"
    }
   },
   "outputs": [],
   "source": [
    "gis = GIS(profile='')"
   ]
  },
  {
   "cell_type": "markdown",
   "metadata": {
    "slideshow": {
     "slide_type": "skip"
    }
   },
   "source": [
    "## Read spatially enriched properties"
   ]
  },
  {
   "cell_type": "code",
   "execution_count": 3,
   "metadata": {
    "slideshow": {
     "slide_type": "skip"
    }
   },
   "outputs": [],
   "source": [
    "prop_df = pd.read_csv('resources/houses_facility_counts.csv')\n",
    "prop_df = pd.DataFrame.spatial.from_xy(prop_df, 'LONGITUDE','LATITUDE')"
   ]
  },
  {
   "cell_type": "code",
   "execution_count": 19,
   "metadata": {
    "slideshow": {
     "slide_type": "skip"
    }
   },
   "outputs": [
    {
     "data": {
      "text/html": [
       "<div>\n",
       "<style scoped>\n",
       "    .dataframe tbody tr th:only-of-type {\n",
       "        vertical-align: middle;\n",
       "    }\n",
       "\n",
       "    .dataframe tbody tr th {\n",
       "        vertical-align: top;\n",
       "    }\n",
       "\n",
       "    .dataframe thead th {\n",
       "        text-align: right;\n",
       "    }\n",
       "</style>\n",
       "<table border=\"1\" class=\"dataframe\">\n",
       "  <thead>\n",
       "    <tr style=\"text-align: right;\">\n",
       "      <th></th>\n",
       "      <th>SALE TYPE</th>\n",
       "      <th>PROPERTY TYPE</th>\n",
       "      <th>ADDRESS</th>\n",
       "      <th>CITY</th>\n",
       "      <th>STATE</th>\n",
       "      <th>ZIP</th>\n",
       "      <th>PRICE</th>\n",
       "      <th>BEDS</th>\n",
       "      <th>BATHS</th>\n",
       "      <th>LOCATION</th>\n",
       "      <th>...</th>\n",
       "      <th>hospitals_count</th>\n",
       "      <th>coffee_count</th>\n",
       "      <th>bars_count</th>\n",
       "      <th>gas_count</th>\n",
       "      <th>shops_count</th>\n",
       "      <th>travel_count</th>\n",
       "      <th>parks_count</th>\n",
       "      <th>edu_count</th>\n",
       "      <th>commute_length</th>\n",
       "      <th>commute_duration</th>\n",
       "    </tr>\n",
       "  </thead>\n",
       "  <tbody>\n",
       "    <tr>\n",
       "      <th>0</th>\n",
       "      <td>MLS Listing</td>\n",
       "      <td>Single Family Residential</td>\n",
       "      <td>144 SE 191st Pl</td>\n",
       "      <td>Portland</td>\n",
       "      <td>OR</td>\n",
       "      <td>97233.0</td>\n",
       "      <td>334900.0</td>\n",
       "      <td>4.0</td>\n",
       "      <td>2.5</td>\n",
       "      <td>Gresham, Sandy, Troutdale, Corbett</td>\n",
       "      <td>...</td>\n",
       "      <td>0</td>\n",
       "      <td>19</td>\n",
       "      <td>0</td>\n",
       "      <td>28</td>\n",
       "      <td>41</td>\n",
       "      <td>50</td>\n",
       "      <td>50</td>\n",
       "      <td>50</td>\n",
       "      <td>13.978589</td>\n",
       "      <td>25.621265</td>\n",
       "    </tr>\n",
       "    <tr>\n",
       "      <th>1</th>\n",
       "      <td>MLS Listing</td>\n",
       "      <td>Single Family Residential</td>\n",
       "      <td>20028 NE Hoyt St</td>\n",
       "      <td>Portland</td>\n",
       "      <td>OR</td>\n",
       "      <td>97230.0</td>\n",
       "      <td>349950.0</td>\n",
       "      <td>3.0</td>\n",
       "      <td>2.5</td>\n",
       "      <td>Reeds Place</td>\n",
       "      <td>...</td>\n",
       "      <td>2</td>\n",
       "      <td>23</td>\n",
       "      <td>0</td>\n",
       "      <td>31</td>\n",
       "      <td>38</td>\n",
       "      <td>50</td>\n",
       "      <td>50</td>\n",
       "      <td>50</td>\n",
       "      <td>13.913465</td>\n",
       "      <td>24.726944</td>\n",
       "    </tr>\n",
       "    <tr>\n",
       "      <th>2</th>\n",
       "      <td>MLS Listing</td>\n",
       "      <td>Single Family Residential</td>\n",
       "      <td>711 SE 160th Ave</td>\n",
       "      <td>Portland</td>\n",
       "      <td>OR</td>\n",
       "      <td>97233.0</td>\n",
       "      <td>358999.0</td>\n",
       "      <td>4.0</td>\n",
       "      <td>2.5</td>\n",
       "      <td>Portland Southeast</td>\n",
       "      <td>...</td>\n",
       "      <td>0</td>\n",
       "      <td>16</td>\n",
       "      <td>0</td>\n",
       "      <td>34</td>\n",
       "      <td>47</td>\n",
       "      <td>50</td>\n",
       "      <td>50</td>\n",
       "      <td>50</td>\n",
       "      <td>14.644863</td>\n",
       "      <td>27.830024</td>\n",
       "    </tr>\n",
       "    <tr>\n",
       "      <th>3</th>\n",
       "      <td>MLS Listing</td>\n",
       "      <td>Single Family Residential</td>\n",
       "      <td>5536 SE 142nd Pl</td>\n",
       "      <td>Portland</td>\n",
       "      <td>OR</td>\n",
       "      <td>97236.0</td>\n",
       "      <td>369800.0</td>\n",
       "      <td>4.0</td>\n",
       "      <td>2.5</td>\n",
       "      <td>Portland Southeast</td>\n",
       "      <td>...</td>\n",
       "      <td>2</td>\n",
       "      <td>18</td>\n",
       "      <td>0</td>\n",
       "      <td>29</td>\n",
       "      <td>45</td>\n",
       "      <td>48</td>\n",
       "      <td>50</td>\n",
       "      <td>50</td>\n",
       "      <td>13.097669</td>\n",
       "      <td>25.943438</td>\n",
       "    </tr>\n",
       "    <tr>\n",
       "      <th>4</th>\n",
       "      <td>MLS Listing</td>\n",
       "      <td>Single Family Residential</td>\n",
       "      <td>15707 SE Flavel Dr</td>\n",
       "      <td>Portland</td>\n",
       "      <td>OR</td>\n",
       "      <td>97236.0</td>\n",
       "      <td>379900.0</td>\n",
       "      <td>3.0</td>\n",
       "      <td>2.0</td>\n",
       "      <td>Portland Southeast</td>\n",
       "      <td>...</td>\n",
       "      <td>0</td>\n",
       "      <td>13</td>\n",
       "      <td>0</td>\n",
       "      <td>17</td>\n",
       "      <td>44</td>\n",
       "      <td>10</td>\n",
       "      <td>50</td>\n",
       "      <td>41</td>\n",
       "      <td>14.254413</td>\n",
       "      <td>28.403598</td>\n",
       "    </tr>\n",
       "  </tbody>\n",
       "</table>\n",
       "<p>5 rows × 35 columns</p>\n",
       "</div>"
      ],
      "text/plain": [
       "     SALE TYPE              PROPERTY TYPE             ADDRESS      CITY STATE  \\\n",
       "0  MLS Listing  Single Family Residential     144 SE 191st Pl  Portland    OR   \n",
       "1  MLS Listing  Single Family Residential    20028 NE Hoyt St  Portland    OR   \n",
       "2  MLS Listing  Single Family Residential    711 SE 160th Ave  Portland    OR   \n",
       "3  MLS Listing  Single Family Residential    5536 SE 142nd Pl  Portland    OR   \n",
       "4  MLS Listing  Single Family Residential  15707 SE Flavel Dr  Portland    OR   \n",
       "\n",
       "       ZIP     PRICE  BEDS  BATHS                            LOCATION  \\\n",
       "0  97233.0  334900.0   4.0    2.5  Gresham, Sandy, Troutdale, Corbett   \n",
       "1  97230.0  349950.0   3.0    2.5                         Reeds Place   \n",
       "2  97233.0  358999.0   4.0    2.5                  Portland Southeast   \n",
       "3  97236.0  369800.0   4.0    2.5                  Portland Southeast   \n",
       "4  97236.0  379900.0   3.0    2.0                  Portland Southeast   \n",
       "\n",
       "         ...         hospitals_count  coffee_count  bars_count  gas_count  \\\n",
       "0        ...                       0            19           0         28   \n",
       "1        ...                       2            23           0         31   \n",
       "2        ...                       0            16           0         34   \n",
       "3        ...                       2            18           0         29   \n",
       "4        ...                       0            13           0         17   \n",
       "\n",
       "   shops_count  travel_count parks_count edu_count commute_length  \\\n",
       "0           41            50          50        50      13.978589   \n",
       "1           38            50          50        50      13.913465   \n",
       "2           47            50          50        50      14.644863   \n",
       "3           45            48          50        50      13.097669   \n",
       "4           44            10          50        41      14.254413   \n",
       "\n",
       "   commute_duration  \n",
       "0         25.621265  \n",
       "1         24.726944  \n",
       "2         27.830024  \n",
       "3         25.943438  \n",
       "4         28.403598  \n",
       "\n",
       "[5 rows x 35 columns]"
      ]
     },
     "execution_count": 19,
     "metadata": {},
     "output_type": "execute_result"
    }
   ],
   "source": [
    "prop_df.head()"
   ]
  },
  {
   "cell_type": "code",
   "execution_count": 20,
   "metadata": {
    "slideshow": {
     "slide_type": "skip"
    }
   },
   "outputs": [
    {
     "data": {
      "text/plain": [
       "Index(['SALE TYPE', 'PROPERTY TYPE', 'ADDRESS', 'CITY', 'STATE', 'ZIP',\n",
       "       'PRICE', 'BEDS', 'BATHS', 'LOCATION', 'SQUARE FEET', 'LOT SIZE',\n",
       "       'YEAR BUILT', 'DAYS ON MARKET', 'PRICE PER SQFT', 'HOA PER MONTH',\n",
       "       'STATUS', 'URL', 'SOURCE', 'MLS', 'LATITUDE', 'LONGITUDE', 'SHAPE',\n",
       "       'grocery_count', 'restaurant_count', 'hospitals_count', 'coffee_count',\n",
       "       'bars_count', 'gas_count', 'shops_count', 'travel_count', 'parks_count',\n",
       "       'edu_count', 'commute_length', 'commute_duration'],\n",
       "      dtype='object')"
      ]
     },
     "execution_count": 20,
     "metadata": {},
     "output_type": "execute_result"
    }
   ],
   "source": [
    "prop_df.columns"
   ]
  },
  {
   "cell_type": "markdown",
   "metadata": {
    "slideshow": {
     "slide_type": "skip"
    }
   },
   "source": [
    "Drop unnecessary columns"
   ]
  },
  {
   "cell_type": "code",
   "execution_count": 4,
   "metadata": {
    "slideshow": {
     "slide_type": "skip"
    }
   },
   "outputs": [],
   "source": [
    "try:\n",
    "    prop_df.drop(columns=['Unnamed: 0'], inplace=True)\n",
    "    prop_df.drop(columns=['Unnamed: 0.1'], inplace=True)\n",
    "except:\n",
    "    pass"
   ]
  },
  {
   "cell_type": "markdown",
   "metadata": {
    "slideshow": {
     "slide_type": "subslide"
    }
   },
   "source": [
    "## Apply weights\n",
    "In the following section, we determine the relative importance of each attribute and set weights accordingly"
   ]
  },
  {
   "cell_type": "code",
   "execution_count": 5,
   "metadata": {
    "slideshow": {
     "slide_type": "-"
    }
   },
   "outputs": [],
   "source": [
    "def set_scores(row):\n",
    "    score = ((row['PRICE']*-1.5) + # penalize by 1.5 times\n",
    "             (row['BEDS']*1)+\n",
    "             (row['BATHS']*1)+\n",
    "             (row['SQUARE FEET']*1)+\n",
    "             (row['LOT SIZE']*1)+\n",
    "             (row['YEAR BUILT']*1)+\n",
    "             (row['HOA PER MONTH']*-1)+  # penalize by 1 times\n",
    "             (row['grocery_count']*1)+\n",
    "             (row['restaurant_count']*1)+\n",
    "             (row['hospitals_count']*1.5)+  # reward by 1.5 times\n",
    "             (row['coffee_count']*1)+\n",
    "             (row['bars_count']*1)+\n",
    "             (row['shops_count']*1)+\n",
    "             (row['travel_count']*1.5)+  # reward by 1.5 times\n",
    "             (row['parks_count']*1)+\n",
    "             (row['edu_count']*1)+\n",
    "             (row['commute_length']*-1)+  # penalize by 1 times\n",
    "             (row['commute_duration']*-2)  # penalize by 2 times\n",
    "            )\n",
    "    return score"
   ]
  },
  {
   "cell_type": "markdown",
   "metadata": {
    "heading_collapsed": true,
    "slideshow": {
     "slide_type": "skip"
    }
   },
   "source": [
    "## Generate scores for all properties\n",
    "We calculate the score for each property using the formula we defined in previous section"
   ]
  },
  {
   "cell_type": "code",
   "execution_count": 29,
   "metadata": {
    "hidden": true,
    "slideshow": {
     "slide_type": "skip"
    }
   },
   "outputs": [
    {
     "name": "stdout",
     "output_type": "stream",
     "text": [
      "CPU times: user 78 ms, sys: 1.98 ms, total: 80 ms\n",
      "Wall time: 101 ms\n"
     ]
    }
   ],
   "source": [
    "%%time\n",
    "prop_df['scores'] = prop_df.apply(set_scores, axis=1)"
   ]
  },
  {
   "cell_type": "code",
   "execution_count": 30,
   "metadata": {
    "hidden": true,
    "slideshow": {
     "slide_type": "skip"
    }
   },
   "outputs": [
    {
     "data": {
      "text/html": [
       "<div>\n",
       "<style scoped>\n",
       "    .dataframe tbody tr th:only-of-type {\n",
       "        vertical-align: middle;\n",
       "    }\n",
       "\n",
       "    .dataframe tbody tr th {\n",
       "        vertical-align: top;\n",
       "    }\n",
       "\n",
       "    .dataframe thead th {\n",
       "        text-align: right;\n",
       "    }\n",
       "</style>\n",
       "<table border=\"1\" class=\"dataframe\">\n",
       "  <thead>\n",
       "    <tr style=\"text-align: right;\">\n",
       "      <th></th>\n",
       "      <th>SALE TYPE</th>\n",
       "      <th>PROPERTY TYPE</th>\n",
       "      <th>ADDRESS</th>\n",
       "      <th>CITY</th>\n",
       "      <th>STATE</th>\n",
       "      <th>ZIP</th>\n",
       "      <th>PRICE</th>\n",
       "      <th>BEDS</th>\n",
       "      <th>BATHS</th>\n",
       "      <th>LOCATION</th>\n",
       "      <th>...</th>\n",
       "      <th>coffee_count</th>\n",
       "      <th>bars_count</th>\n",
       "      <th>gas_count</th>\n",
       "      <th>shops_count</th>\n",
       "      <th>travel_count</th>\n",
       "      <th>parks_count</th>\n",
       "      <th>edu_count</th>\n",
       "      <th>commute_length</th>\n",
       "      <th>commute_duration</th>\n",
       "      <th>scores</th>\n",
       "    </tr>\n",
       "  </thead>\n",
       "  <tbody>\n",
       "    <tr>\n",
       "      <th>0</th>\n",
       "      <td>MLS Listing</td>\n",
       "      <td>Single Family Residential</td>\n",
       "      <td>144 SE 191st Pl</td>\n",
       "      <td>Portland</td>\n",
       "      <td>OR</td>\n",
       "      <td>97233.0</td>\n",
       "      <td>334900.0</td>\n",
       "      <td>4.0</td>\n",
       "      <td>2.5</td>\n",
       "      <td>Gresham, Sandy, Troutdale, Corbett</td>\n",
       "      <td>...</td>\n",
       "      <td>19</td>\n",
       "      <td>0</td>\n",
       "      <td>28</td>\n",
       "      <td>41</td>\n",
       "      <td>50</td>\n",
       "      <td>50</td>\n",
       "      <td>50</td>\n",
       "      <td>13.978589</td>\n",
       "      <td>25.621265</td>\n",
       "      <td>-495439.721119</td>\n",
       "    </tr>\n",
       "    <tr>\n",
       "      <th>1</th>\n",
       "      <td>MLS Listing</td>\n",
       "      <td>Single Family Residential</td>\n",
       "      <td>20028 NE Hoyt St</td>\n",
       "      <td>Portland</td>\n",
       "      <td>OR</td>\n",
       "      <td>97230.0</td>\n",
       "      <td>349950.0</td>\n",
       "      <td>3.0</td>\n",
       "      <td>2.5</td>\n",
       "      <td>Reeds Place</td>\n",
       "      <td>...</td>\n",
       "      <td>23</td>\n",
       "      <td>0</td>\n",
       "      <td>31</td>\n",
       "      <td>38</td>\n",
       "      <td>50</td>\n",
       "      <td>50</td>\n",
       "      <td>50</td>\n",
       "      <td>13.913465</td>\n",
       "      <td>24.726944</td>\n",
       "      <td>-516614.867353</td>\n",
       "    </tr>\n",
       "    <tr>\n",
       "      <th>2</th>\n",
       "      <td>MLS Listing</td>\n",
       "      <td>Single Family Residential</td>\n",
       "      <td>711 SE 160th Ave</td>\n",
       "      <td>Portland</td>\n",
       "      <td>OR</td>\n",
       "      <td>97233.0</td>\n",
       "      <td>358999.0</td>\n",
       "      <td>4.0</td>\n",
       "      <td>2.5</td>\n",
       "      <td>Portland Southeast</td>\n",
       "      <td>...</td>\n",
       "      <td>16</td>\n",
       "      <td>0</td>\n",
       "      <td>34</td>\n",
       "      <td>47</td>\n",
       "      <td>50</td>\n",
       "      <td>50</td>\n",
       "      <td>50</td>\n",
       "      <td>14.644863</td>\n",
       "      <td>27.830024</td>\n",
       "      <td>-528948.304911</td>\n",
       "    </tr>\n",
       "    <tr>\n",
       "      <th>3</th>\n",
       "      <td>MLS Listing</td>\n",
       "      <td>Single Family Residential</td>\n",
       "      <td>5536 SE 142nd Pl</td>\n",
       "      <td>Portland</td>\n",
       "      <td>OR</td>\n",
       "      <td>97236.0</td>\n",
       "      <td>369800.0</td>\n",
       "      <td>4.0</td>\n",
       "      <td>2.5</td>\n",
       "      <td>Portland Southeast</td>\n",
       "      <td>...</td>\n",
       "      <td>18</td>\n",
       "      <td>0</td>\n",
       "      <td>29</td>\n",
       "      <td>45</td>\n",
       "      <td>48</td>\n",
       "      <td>50</td>\n",
       "      <td>50</td>\n",
       "      <td>13.097669</td>\n",
       "      <td>25.943438</td>\n",
       "      <td>-545169.484546</td>\n",
       "    </tr>\n",
       "    <tr>\n",
       "      <th>4</th>\n",
       "      <td>MLS Listing</td>\n",
       "      <td>Single Family Residential</td>\n",
       "      <td>15707 SE Flavel Dr</td>\n",
       "      <td>Portland</td>\n",
       "      <td>OR</td>\n",
       "      <td>97236.0</td>\n",
       "      <td>379900.0</td>\n",
       "      <td>3.0</td>\n",
       "      <td>2.0</td>\n",
       "      <td>Portland Southeast</td>\n",
       "      <td>...</td>\n",
       "      <td>13</td>\n",
       "      <td>0</td>\n",
       "      <td>17</td>\n",
       "      <td>44</td>\n",
       "      <td>10</td>\n",
       "      <td>50</td>\n",
       "      <td>41</td>\n",
       "      <td>14.254413</td>\n",
       "      <td>28.403598</td>\n",
       "      <td>-559115.061609</td>\n",
       "    </tr>\n",
       "  </tbody>\n",
       "</table>\n",
       "<p>5 rows × 36 columns</p>\n",
       "</div>"
      ],
      "text/plain": [
       "     SALE TYPE              PROPERTY TYPE             ADDRESS      CITY STATE  \\\n",
       "0  MLS Listing  Single Family Residential     144 SE 191st Pl  Portland    OR   \n",
       "1  MLS Listing  Single Family Residential    20028 NE Hoyt St  Portland    OR   \n",
       "2  MLS Listing  Single Family Residential    711 SE 160th Ave  Portland    OR   \n",
       "3  MLS Listing  Single Family Residential    5536 SE 142nd Pl  Portland    OR   \n",
       "4  MLS Listing  Single Family Residential  15707 SE Flavel Dr  Portland    OR   \n",
       "\n",
       "       ZIP     PRICE  BEDS  BATHS                            LOCATION  \\\n",
       "0  97233.0  334900.0   4.0    2.5  Gresham, Sandy, Troutdale, Corbett   \n",
       "1  97230.0  349950.0   3.0    2.5                         Reeds Place   \n",
       "2  97233.0  358999.0   4.0    2.5                  Portland Southeast   \n",
       "3  97236.0  369800.0   4.0    2.5                  Portland Southeast   \n",
       "4  97236.0  379900.0   3.0    2.0                  Portland Southeast   \n",
       "\n",
       "       ...        coffee_count  bars_count  gas_count  shops_count  \\\n",
       "0      ...                  19           0         28           41   \n",
       "1      ...                  23           0         31           38   \n",
       "2      ...                  16           0         34           47   \n",
       "3      ...                  18           0         29           45   \n",
       "4      ...                  13           0         17           44   \n",
       "\n",
       "   travel_count  parks_count edu_count commute_length commute_duration  \\\n",
       "0            50           50        50      13.978589        25.621265   \n",
       "1            50           50        50      13.913465        24.726944   \n",
       "2            50           50        50      14.644863        27.830024   \n",
       "3            48           50        50      13.097669        25.943438   \n",
       "4            10           50        41      14.254413        28.403598   \n",
       "\n",
       "          scores  \n",
       "0 -495439.721119  \n",
       "1 -516614.867353  \n",
       "2 -528948.304911  \n",
       "3 -545169.484546  \n",
       "4 -559115.061609  \n",
       "\n",
       "[5 rows x 36 columns]"
      ]
     },
     "execution_count": 30,
     "metadata": {},
     "output_type": "execute_result"
    }
   ],
   "source": [
    "prop_df.head()"
   ]
  },
  {
   "cell_type": "code",
   "execution_count": 39,
   "metadata": {
    "hidden": true,
    "slideshow": {
     "slide_type": "skip"
    }
   },
   "outputs": [
    {
     "data": {
      "image/png": "[encoded data removed]",
      "text/plain": [
       "<Figure size 432x288 with 1 Axes>"
      ]
     },
     "metadata": {},
     "output_type": "display_data"
    }
   ],
   "source": [
    "prop_df['scores'].hist(bins=50);   # trailing ; suppresses matplotlib's prints"
   ]
  },
  {
   "cell_type": "code",
   "execution_count": 37,
   "metadata": {
    "hidden": true,
    "slideshow": {
     "slide_type": "skip"
    }
   },
   "outputs": [
    {
     "name": "stderr",
     "output_type": "stream",
     "text": [
      "/Users/atma6951/anaconda3/envs/geosaurus_gold/lib/python3.6/site-packages/scipy/stats/stats.py:1713: FutureWarning: Using a non-tuple sequence for multidimensional indexing is deprecated; use `arr[tuple(seq)]` instead of `arr[seq]`. In the future this will be interpreted as an array index, `arr[np.array(seq)]`, which will result either in an error or a different result.\n",
      "  return np.add.reduce(sorted[indexer] * weights, axis=axis) / sumval\n"
     ]
    },
    {
     "data": {
      "image/png": "[encoded data removed]",
      "text/plain": [
       "<Figure size 432x432 with 3 Axes>"
      ]
     },
     "metadata": {},
     "output_type": "display_data"
    }
   ],
   "source": [
    "sns.jointplot('PRICE','scores', data=prop_df);"
   ]
  },
  {
   "cell_type": "markdown",
   "metadata": {
    "hidden": true,
    "slideshow": {
     "slide_type": "skip"
    }
   },
   "source": [
    "From the chart above, it appears numeric columns with large values (such as Price) weild an undue importance on our model. To rectify this, we need to scale all numeric columns and normalize them with each other. The section below performs this and then tries to generate scores based on the scaled values.\n",
    "\n",
    "### Write unscaled data to disk"
   ]
  },
  {
   "cell_type": "code",
   "execution_count": 38,
   "metadata": {
    "hidden": true,
    "slideshow": {
     "slide_type": "skip"
    }
   },
   "outputs": [],
   "source": [
    "prop_df.to_csv('resources/houses_scores_unscaled.csv')"
   ]
  },
  {
   "cell_type": "markdown",
   "metadata": {
    "slideshow": {
     "slide_type": "slide"
    }
   },
   "source": [
    "## Scale data\n",
    "Although price plays an important role while selecting properties, the range and valuds of the `PRICE` column is much larger than any other. Thus, it influences more than its fair share. To resolve this, we scale the data using different techniques."
   ]
  },
  {
   "cell_type": "code",
   "execution_count": 6,
   "metadata": {
    "slideshow": {
     "slide_type": "skip"
    }
   },
   "outputs": [],
   "source": [
    "from sklearn.preprocessing import MinMaxScaler\n",
    "mm_scaler = MinMaxScaler()"
   ]
  },
  {
   "cell_type": "code",
   "execution_count": 7,
   "metadata": {
    "slideshow": {
     "slide_type": "skip"
    }
   },
   "outputs": [
    {
     "data": {
      "text/plain": [
       "Index(['SALE TYPE', 'PROPERTY TYPE', 'ADDRESS', 'CITY', 'STATE', 'ZIP',\n",
       "       'PRICE', 'BEDS', 'BATHS', 'LOCATION', 'SQUARE FEET', 'LOT SIZE',\n",
       "       'YEAR BUILT', 'DAYS ON MARKET', 'PRICE PER SQFT', 'HOA PER MONTH',\n",
       "       'STATUS', 'URL', 'SOURCE', 'MLS', 'LATITUDE', 'LONGITUDE', 'SHAPE',\n",
       "       'grocery_count', 'restaurant_count', 'hospitals_count', 'coffee_count',\n",
       "       'bars_count', 'gas_count', 'shops_count', 'travel_count', 'parks_count',\n",
       "       'edu_count', 'commute_length', 'commute_duration'],\n",
       "      dtype='object')"
      ]
     },
     "execution_count": 7,
     "metadata": {},
     "output_type": "execute_result"
    }
   ],
   "source": [
    "prop_df.columns"
   ]
  },
  {
   "cell_type": "code",
   "execution_count": 8,
   "metadata": {
    "slideshow": {
     "slide_type": "skip"
    }
   },
   "outputs": [],
   "source": [
    "columns_to_scale = ['PRICE', 'BEDS', 'BATHS', 'SQUARE FEET', 'LOT SIZE',\n",
    "       'YEAR BUILT', 'HOA PER MONTH','grocery_count', 'restaurant_count', 'hospitals_count', 'coffee_count',\n",
    "       'bars_count', 'gas_count', 'shops_count', 'travel_count', 'parks_count',\n",
    "       'edu_count', 'commute_length', 'commute_duration']"
   ]
  },
  {
   "cell_type": "code",
   "execution_count": 9,
   "metadata": {
    "slideshow": {
     "slide_type": "skip"
    }
   },
   "outputs": [
    {
     "data": {
      "text/html": [
       "<div>\n",
       "<style scoped>\n",
       "    .dataframe tbody tr th:only-of-type {\n",
       "        vertical-align: middle;\n",
       "    }\n",
       "\n",
       "    .dataframe tbody tr th {\n",
       "        vertical-align: top;\n",
       "    }\n",
       "\n",
       "    .dataframe thead th {\n",
       "        text-align: right;\n",
       "    }\n",
       "</style>\n",
       "<table border=\"1\" class=\"dataframe\">\n",
       "  <thead>\n",
       "    <tr style=\"text-align: right;\">\n",
       "      <th></th>\n",
       "      <th>PRICE</th>\n",
       "      <th>BEDS</th>\n",
       "      <th>BATHS</th>\n",
       "      <th>SQUARE FEET</th>\n",
       "      <th>LOT SIZE</th>\n",
       "      <th>YEAR BUILT</th>\n",
       "      <th>HOA PER MONTH</th>\n",
       "      <th>grocery_count</th>\n",
       "      <th>restaurant_count</th>\n",
       "      <th>hospitals_count</th>\n",
       "      <th>coffee_count</th>\n",
       "      <th>bars_count</th>\n",
       "      <th>gas_count</th>\n",
       "      <th>shops_count</th>\n",
       "      <th>travel_count</th>\n",
       "      <th>parks_count</th>\n",
       "      <th>edu_count</th>\n",
       "      <th>commute_length</th>\n",
       "      <th>commute_duration</th>\n",
       "    </tr>\n",
       "  </thead>\n",
       "  <tbody>\n",
       "    <tr>\n",
       "      <th>0</th>\n",
       "      <td>0.000000</td>\n",
       "      <td>0.333333</td>\n",
       "      <td>0.1</td>\n",
       "      <td>0.016024</td>\n",
       "      <td>0.023259</td>\n",
       "      <td>0.368421</td>\n",
       "      <td>0.00</td>\n",
       "      <td>1.0</td>\n",
       "      <td>1.0</td>\n",
       "      <td>0.000000</td>\n",
       "      <td>0.38</td>\n",
       "      <td>0.0</td>\n",
       "      <td>0.56</td>\n",
       "      <td>0.82</td>\n",
       "      <td>1.00</td>\n",
       "      <td>1.0</td>\n",
       "      <td>1.00</td>\n",
       "      <td>0.005581</td>\n",
       "      <td>0.009332</td>\n",
       "    </tr>\n",
       "    <tr>\n",
       "      <th>1</th>\n",
       "      <td>0.041222</td>\n",
       "      <td>0.166667</td>\n",
       "      <td>0.1</td>\n",
       "      <td>0.049981</td>\n",
       "      <td>0.046518</td>\n",
       "      <td>0.315789</td>\n",
       "      <td>0.00</td>\n",
       "      <td>1.0</td>\n",
       "      <td>1.0</td>\n",
       "      <td>0.166667</td>\n",
       "      <td>0.46</td>\n",
       "      <td>0.0</td>\n",
       "      <td>0.62</td>\n",
       "      <td>0.76</td>\n",
       "      <td>1.00</td>\n",
       "      <td>1.0</td>\n",
       "      <td>1.00</td>\n",
       "      <td>0.005553</td>\n",
       "      <td>0.008905</td>\n",
       "    </tr>\n",
       "    <tr>\n",
       "      <th>2</th>\n",
       "      <td>0.066007</td>\n",
       "      <td>0.333333</td>\n",
       "      <td>0.1</td>\n",
       "      <td>0.028233</td>\n",
       "      <td>0.069777</td>\n",
       "      <td>0.157895</td>\n",
       "      <td>0.00</td>\n",
       "      <td>1.0</td>\n",
       "      <td>1.0</td>\n",
       "      <td>0.000000</td>\n",
       "      <td>0.32</td>\n",
       "      <td>0.0</td>\n",
       "      <td>0.68</td>\n",
       "      <td>0.94</td>\n",
       "      <td>1.00</td>\n",
       "      <td>1.0</td>\n",
       "      <td>1.00</td>\n",
       "      <td>0.005865</td>\n",
       "      <td>0.010386</td>\n",
       "    </tr>\n",
       "    <tr>\n",
       "      <th>3</th>\n",
       "      <td>0.095590</td>\n",
       "      <td>0.333333</td>\n",
       "      <td>0.1</td>\n",
       "      <td>0.014498</td>\n",
       "      <td>0.069777</td>\n",
       "      <td>0.736842</td>\n",
       "      <td>0.00</td>\n",
       "      <td>1.0</td>\n",
       "      <td>1.0</td>\n",
       "      <td>0.166667</td>\n",
       "      <td>0.36</td>\n",
       "      <td>0.0</td>\n",
       "      <td>0.58</td>\n",
       "      <td>0.90</td>\n",
       "      <td>0.96</td>\n",
       "      <td>1.0</td>\n",
       "      <td>1.00</td>\n",
       "      <td>0.005204</td>\n",
       "      <td>0.009486</td>\n",
       "    </tr>\n",
       "    <tr>\n",
       "      <th>4</th>\n",
       "      <td>0.123254</td>\n",
       "      <td>0.166667</td>\n",
       "      <td>0.0</td>\n",
       "      <td>0.025181</td>\n",
       "      <td>0.093036</td>\n",
       "      <td>0.000000</td>\n",
       "      <td>0.17</td>\n",
       "      <td>1.0</td>\n",
       "      <td>1.0</td>\n",
       "      <td>0.000000</td>\n",
       "      <td>0.26</td>\n",
       "      <td>0.0</td>\n",
       "      <td>0.34</td>\n",
       "      <td>0.88</td>\n",
       "      <td>0.20</td>\n",
       "      <td>1.0</td>\n",
       "      <td>0.82</td>\n",
       "      <td>0.005698</td>\n",
       "      <td>0.010660</td>\n",
       "    </tr>\n",
       "  </tbody>\n",
       "</table>\n",
       "</div>"
      ],
      "text/plain": [
       "      PRICE      BEDS  BATHS  SQUARE FEET  LOT SIZE  YEAR BUILT  \\\n",
       "0  0.000000  0.333333    0.1     0.016024  0.023259    0.368421   \n",
       "1  0.041222  0.166667    0.1     0.049981  0.046518    0.315789   \n",
       "2  0.066007  0.333333    0.1     0.028233  0.069777    0.157895   \n",
       "3  0.095590  0.333333    0.1     0.014498  0.069777    0.736842   \n",
       "4  0.123254  0.166667    0.0     0.025181  0.093036    0.000000   \n",
       "\n",
       "   HOA PER MONTH  grocery_count  restaurant_count  hospitals_count  \\\n",
       "0           0.00            1.0               1.0         0.000000   \n",
       "1           0.00            1.0               1.0         0.166667   \n",
       "2           0.00            1.0               1.0         0.000000   \n",
       "3           0.00            1.0               1.0         0.166667   \n",
       "4           0.17            1.0               1.0         0.000000   \n",
       "\n",
       "   coffee_count  bars_count  gas_count  shops_count  travel_count  \\\n",
       "0          0.38         0.0       0.56         0.82          1.00   \n",
       "1          0.46         0.0       0.62         0.76          1.00   \n",
       "2          0.32         0.0       0.68         0.94          1.00   \n",
       "3          0.36         0.0       0.58         0.90          0.96   \n",
       "4          0.26         0.0       0.34         0.88          0.20   \n",
       "\n",
       "   parks_count  edu_count  commute_length  commute_duration  \n",
       "0          1.0       1.00        0.005581          0.009332  \n",
       "1          1.0       1.00        0.005553          0.008905  \n",
       "2          1.0       1.00        0.005865          0.010386  \n",
       "3          1.0       1.00        0.005204          0.009486  \n",
       "4          1.0       0.82        0.005698          0.010660  "
      ]
     },
     "execution_count": 9,
     "metadata": {},
     "output_type": "execute_result"
    }
   ],
   "source": [
    "scaled_array = mm_scaler.fit_transform(prop_df[columns_to_scale])\n",
    "prop_scaled = pd.DataFrame(scaled_array, columns=columns_to_scale)\n",
    "prop_scaled.head()"
   ]
  },
  {
   "cell_type": "markdown",
   "metadata": {
    "slideshow": {
     "slide_type": "skip"
    }
   },
   "source": [
    "### Apply scores on scaled data"
   ]
  },
  {
   "cell_type": "code",
   "execution_count": 10,
   "metadata": {
    "slideshow": {
     "slide_type": "skip"
    }
   },
   "outputs": [],
   "source": [
    "prop_scaled['scores_scaled'] = prop_scaled.apply(set_scores, axis=1)"
   ]
  },
  {
   "cell_type": "markdown",
   "metadata": {
    "slideshow": {
     "slide_type": "skip"
    }
   },
   "source": [
    "Check the influence of price on scores"
   ]
  },
  {
   "cell_type": "code",
   "execution_count": 12,
   "metadata": {
    "slideshow": {
     "slide_type": "skip"
    }
   },
   "outputs": [
    {
     "name": "stderr",
     "output_type": "stream",
     "text": [
      "/Users/atma6951/anaconda3/envs/geosaurus_gold/lib/python3.6/site-packages/scipy/stats/stats.py:1713: FutureWarning: Using a non-tuple sequence for multidimensional indexing is deprecated; use `arr[tuple(seq)]` instead of `arr[seq]`. In the future this will be interpreted as an array index, `arr[np.array(seq)]`, which will result either in an error or a different result.\n",
      "  return np.add.reduce(sorted[indexer] * weights, axis=axis) / sumval\n"
     ]
    },
    {
     "data": {
      "text/plain": [
       "<matplotlib.axes._subplots.AxesSubplot at 0x1a216e6198>"
      ]
     },
     "execution_count": 12,
     "metadata": {},
     "output_type": "execute_result"
    },
    {
     "data": {
      "image/png": "[encoded data removed]",
      "text/plain": [
       "<Figure size 432x288 with 1 Axes>"
      ]
     },
     "metadata": {},
     "output_type": "display_data"
    }
   ],
   "source": [
    "sns.distplot(prop_scaled['scores_scaled'], bins=50)"
   ]
  },
  {
   "cell_type": "code",
   "execution_count": 13,
   "metadata": {
    "slideshow": {
     "slide_type": "skip"
    }
   },
   "outputs": [
    {
     "name": "stderr",
     "output_type": "stream",
     "text": [
      "/Users/atma6951/anaconda3/envs/geosaurus_gold/lib/python3.6/site-packages/scipy/stats/stats.py:1713: FutureWarning: Using a non-tuple sequence for multidimensional indexing is deprecated; use `arr[tuple(seq)]` instead of `arr[seq]`. In the future this will be interpreted as an array index, `arr[np.array(seq)]`, which will result either in an error or a different result.\n",
      "  return np.add.reduce(sorted[indexer] * weights, axis=axis) / sumval\n"
     ]
    },
    {
     "data": {
      "text/plain": [
       "<seaborn.axisgrid.JointGrid at 0x1a206eab00>"
      ]
     },
     "execution_count": 13,
     "metadata": {},
     "output_type": "execute_result"
    },
    {
     "data": {
      "image/png": "[encoded data removed]",
      "text/plain": [
       "<Figure size 432x432 with 3 Axes>"
      ]
     },
     "metadata": {},
     "output_type": "display_data"
    }
   ],
   "source": [
    "sns.jointplot(x='PRICE', y='scores_scaled', data=prop_scaled)"
   ]
  },
  {
   "cell_type": "markdown",
   "metadata": {
    "slideshow": {
     "slide_type": "subslide"
    }
   },
   "source": [
    "![](resources/effect-of-scaling.jpg)"
   ]
  },
  {
   "cell_type": "markdown",
   "metadata": {},
   "source": [
    "After scaling, the scatter plot of `PRICE` VS `SCORES` appears random without much correlation. The histogram of scores also looks normally distributed. This is important as we want to consider all aspects of a house and weigh them according to their relative importance to the buyer. It is not much of a model if the scores are entirely based off one attribute (such as PRICE)."
   ]
  },
  {
   "cell_type": "markdown",
   "metadata": {
    "slideshow": {
     "slide_type": "skip"
    }
   },
   "source": [
    "### Inverse transform data\n",
    "Since we made a copy of the DataFrame when we scaled, we don't need to inverse transfrom the scaled data. We can simply copy the `scaled_scores` from this DataFrame and apply that to the original DataFrame"
   ]
  },
  {
   "cell_type": "code",
   "execution_count": 13,
   "metadata": {
    "slideshow": {
     "slide_type": "skip"
    }
   },
   "outputs": [
    {
     "data": {
      "text/html": [
       "<div>\n",
       "<style scoped>\n",
       "    .dataframe tbody tr th:only-of-type {\n",
       "        vertical-align: middle;\n",
       "    }\n",
       "\n",
       "    .dataframe tbody tr th {\n",
       "        vertical-align: top;\n",
       "    }\n",
       "\n",
       "    .dataframe thead th {\n",
       "        text-align: right;\n",
       "    }\n",
       "</style>\n",
       "<table border=\"1\" class=\"dataframe\">\n",
       "  <thead>\n",
       "    <tr style=\"text-align: right;\">\n",
       "      <th></th>\n",
       "      <th>SALE TYPE</th>\n",
       "      <th>PROPERTY TYPE</th>\n",
       "      <th>ADDRESS</th>\n",
       "      <th>CITY</th>\n",
       "      <th>STATE</th>\n",
       "      <th>ZIP</th>\n",
       "      <th>PRICE</th>\n",
       "      <th>BEDS</th>\n",
       "      <th>BATHS</th>\n",
       "      <th>LOCATION</th>\n",
       "      <th>...</th>\n",
       "      <th>coffee_count</th>\n",
       "      <th>bars_count</th>\n",
       "      <th>gas_count</th>\n",
       "      <th>shops_count</th>\n",
       "      <th>travel_count</th>\n",
       "      <th>parks_count</th>\n",
       "      <th>edu_count</th>\n",
       "      <th>commute_length</th>\n",
       "      <th>commute_duration</th>\n",
       "      <th>scores_scaled</th>\n",
       "    </tr>\n",
       "  </thead>\n",
       "  <tbody>\n",
       "    <tr>\n",
       "      <th>0</th>\n",
       "      <td>MLS Listing</td>\n",
       "      <td>Single Family Residential</td>\n",
       "      <td>144 SE 191st Pl</td>\n",
       "      <td>Portland</td>\n",
       "      <td>OR</td>\n",
       "      <td>97233.0</td>\n",
       "      <td>334900.0</td>\n",
       "      <td>4.0</td>\n",
       "      <td>2.5</td>\n",
       "      <td>Gresham, Sandy, Troutdale, Corbett</td>\n",
       "      <td>...</td>\n",
       "      <td>19</td>\n",
       "      <td>0</td>\n",
       "      <td>28</td>\n",
       "      <td>41</td>\n",
       "      <td>50</td>\n",
       "      <td>50</td>\n",
       "      <td>50</td>\n",
       "      <td>13.978589</td>\n",
       "      <td>25.621265</td>\n",
       "      <td>7.516793</td>\n",
       "    </tr>\n",
       "    <tr>\n",
       "      <th>1</th>\n",
       "      <td>MLS Listing</td>\n",
       "      <td>Single Family Residential</td>\n",
       "      <td>20028 NE Hoyt St</td>\n",
       "      <td>Portland</td>\n",
       "      <td>OR</td>\n",
       "      <td>97230.0</td>\n",
       "      <td>349950.0</td>\n",
       "      <td>3.0</td>\n",
       "      <td>2.5</td>\n",
       "      <td>Reeds Place</td>\n",
       "      <td>...</td>\n",
       "      <td>23</td>\n",
       "      <td>0</td>\n",
       "      <td>31</td>\n",
       "      <td>38</td>\n",
       "      <td>50</td>\n",
       "      <td>50</td>\n",
       "      <td>50</td>\n",
       "      <td>13.913465</td>\n",
       "      <td>24.726944</td>\n",
       "      <td>7.563760</td>\n",
       "    </tr>\n",
       "    <tr>\n",
       "      <th>2</th>\n",
       "      <td>MLS Listing</td>\n",
       "      <td>Single Family Residential</td>\n",
       "      <td>711 SE 160th Ave</td>\n",
       "      <td>Portland</td>\n",
       "      <td>OR</td>\n",
       "      <td>97233.0</td>\n",
       "      <td>358999.0</td>\n",
       "      <td>4.0</td>\n",
       "      <td>2.5</td>\n",
       "      <td>Portland Southeast</td>\n",
       "      <td>...</td>\n",
       "      <td>16</td>\n",
       "      <td>0</td>\n",
       "      <td>34</td>\n",
       "      <td>47</td>\n",
       "      <td>50</td>\n",
       "      <td>50</td>\n",
       "      <td>50</td>\n",
       "      <td>14.644863</td>\n",
       "      <td>27.830024</td>\n",
       "      <td>7.323591</td>\n",
       "    </tr>\n",
       "    <tr>\n",
       "      <th>3</th>\n",
       "      <td>MLS Listing</td>\n",
       "      <td>Single Family Residential</td>\n",
       "      <td>5536 SE 142nd Pl</td>\n",
       "      <td>Portland</td>\n",
       "      <td>OR</td>\n",
       "      <td>97236.0</td>\n",
       "      <td>369800.0</td>\n",
       "      <td>4.0</td>\n",
       "      <td>2.5</td>\n",
       "      <td>Portland Southeast</td>\n",
       "      <td>...</td>\n",
       "      <td>18</td>\n",
       "      <td>0</td>\n",
       "      <td>29</td>\n",
       "      <td>45</td>\n",
       "      <td>48</td>\n",
       "      <td>50</td>\n",
       "      <td>50</td>\n",
       "      <td>13.097669</td>\n",
       "      <td>25.943438</td>\n",
       "      <td>8.036890</td>\n",
       "    </tr>\n",
       "    <tr>\n",
       "      <th>4</th>\n",
       "      <td>MLS Listing</td>\n",
       "      <td>Single Family Residential</td>\n",
       "      <td>15707 SE Flavel Dr</td>\n",
       "      <td>Portland</td>\n",
       "      <td>OR</td>\n",
       "      <td>97236.0</td>\n",
       "      <td>379900.0</td>\n",
       "      <td>3.0</td>\n",
       "      <td>2.0</td>\n",
       "      <td>Portland Southeast</td>\n",
       "      <td>...</td>\n",
       "      <td>13</td>\n",
       "      <td>0</td>\n",
       "      <td>17</td>\n",
       "      <td>44</td>\n",
       "      <td>10</td>\n",
       "      <td>50</td>\n",
       "      <td>41</td>\n",
       "      <td>14.254413</td>\n",
       "      <td>28.403598</td>\n",
       "      <td>5.162985</td>\n",
       "    </tr>\n",
       "  </tbody>\n",
       "</table>\n",
       "<p>5 rows × 36 columns</p>\n",
       "</div>"
      ],
      "text/plain": [
       "     SALE TYPE              PROPERTY TYPE             ADDRESS      CITY STATE  \\\n",
       "0  MLS Listing  Single Family Residential     144 SE 191st Pl  Portland    OR   \n",
       "1  MLS Listing  Single Family Residential    20028 NE Hoyt St  Portland    OR   \n",
       "2  MLS Listing  Single Family Residential    711 SE 160th Ave  Portland    OR   \n",
       "3  MLS Listing  Single Family Residential    5536 SE 142nd Pl  Portland    OR   \n",
       "4  MLS Listing  Single Family Residential  15707 SE Flavel Dr  Portland    OR   \n",
       "\n",
       "       ZIP     PRICE  BEDS  BATHS                            LOCATION  \\\n",
       "0  97233.0  334900.0   4.0    2.5  Gresham, Sandy, Troutdale, Corbett   \n",
       "1  97230.0  349950.0   3.0    2.5                         Reeds Place   \n",
       "2  97233.0  358999.0   4.0    2.5                  Portland Southeast   \n",
       "3  97236.0  369800.0   4.0    2.5                  Portland Southeast   \n",
       "4  97236.0  379900.0   3.0    2.0                  Portland Southeast   \n",
       "\n",
       "       ...        coffee_count  bars_count  gas_count  shops_count  \\\n",
       "0      ...                  19           0         28           41   \n",
       "1      ...                  23           0         31           38   \n",
       "2      ...                  16           0         34           47   \n",
       "3      ...                  18           0         29           45   \n",
       "4      ...                  13           0         17           44   \n",
       "\n",
       "   travel_count  parks_count edu_count commute_length commute_duration  \\\n",
       "0            50           50        50      13.978589        25.621265   \n",
       "1            50           50        50      13.913465        24.726944   \n",
       "2            50           50        50      14.644863        27.830024   \n",
       "3            48           50        50      13.097669        25.943438   \n",
       "4            10           50        41      14.254413        28.403598   \n",
       "\n",
       "   scores_scaled  \n",
       "0       7.516793  \n",
       "1       7.563760  \n",
       "2       7.323591  \n",
       "3       8.036890  \n",
       "4       5.162985  \n",
       "\n",
       "[5 rows x 36 columns]"
      ]
     },
     "execution_count": 13,
     "metadata": {},
     "output_type": "execute_result"
    }
   ],
   "source": [
    "prop_df['scores_scaled'] = prop_scaled['scores_scaled']\n",
    "prop_df.head()"
   ]
  },
  {
   "cell_type": "code",
   "execution_count": 14,
   "metadata": {
    "slideshow": {
     "slide_type": "skip"
    }
   },
   "outputs": [
    {
     "name": "stderr",
     "output_type": "stream",
     "text": [
      "/Users/atma6951/anaconda3/envs/geosaurus_gold/lib/python3.6/site-packages/scipy/stats/stats.py:1713: FutureWarning: Using a non-tuple sequence for multidimensional indexing is deprecated; use `arr[tuple(seq)]` instead of `arr[seq]`. In the future this will be interpreted as an array index, `arr[np.array(seq)]`, which will result either in an error or a different result.\n",
      "  return np.add.reduce(sorted[indexer] * weights, axis=axis) / sumval\n"
     ]
    },
    {
     "data": {
      "text/plain": [
       "<seaborn.axisgrid.JointGrid at 0x1a21a4d7b8>"
      ]
     },
     "execution_count": 14,
     "metadata": {},
     "output_type": "execute_result"
    },
    {
     "data": {
      "image/png": "[encoded data removed]",
      "text/plain": [
       "<Figure size 432x432 with 3 Axes>"
      ]
     },
     "metadata": {},
     "output_type": "display_data"
    }
   ],
   "source": [
    "sns.jointplot('PRICE', 'scores_scaled', data=prop_df)"
   ]
  },
  {
   "cell_type": "markdown",
   "metadata": {
    "slideshow": {
     "slide_type": "skip"
    }
   },
   "source": [
    "## Sort by scores"
   ]
  },
  {
   "cell_type": "code",
   "execution_count": 15,
   "metadata": {
    "slideshow": {
     "slide_type": "skip"
    }
   },
   "outputs": [
    {
     "data": {
      "text/html": [
       "<div>\n",
       "<style scoped>\n",
       "    .dataframe tbody tr th:only-of-type {\n",
       "        vertical-align: middle;\n",
       "    }\n",
       "\n",
       "    .dataframe tbody tr th {\n",
       "        vertical-align: top;\n",
       "    }\n",
       "\n",
       "    .dataframe thead th {\n",
       "        text-align: right;\n",
       "    }\n",
       "</style>\n",
       "<table border=\"1\" class=\"dataframe\">\n",
       "  <thead>\n",
       "    <tr style=\"text-align: right;\">\n",
       "      <th></th>\n",
       "      <th>SALE TYPE</th>\n",
       "      <th>PROPERTY TYPE</th>\n",
       "      <th>ADDRESS</th>\n",
       "      <th>CITY</th>\n",
       "      <th>STATE</th>\n",
       "      <th>ZIP</th>\n",
       "      <th>PRICE</th>\n",
       "      <th>BEDS</th>\n",
       "      <th>BATHS</th>\n",
       "      <th>LOCATION</th>\n",
       "      <th>...</th>\n",
       "      <th>coffee_count</th>\n",
       "      <th>bars_count</th>\n",
       "      <th>gas_count</th>\n",
       "      <th>shops_count</th>\n",
       "      <th>travel_count</th>\n",
       "      <th>parks_count</th>\n",
       "      <th>edu_count</th>\n",
       "      <th>commute_length</th>\n",
       "      <th>commute_duration</th>\n",
       "      <th>scores_scaled</th>\n",
       "    </tr>\n",
       "  </thead>\n",
       "  <tbody>\n",
       "    <tr>\n",
       "      <th>87</th>\n",
       "      <td>MLS Listing</td>\n",
       "      <td>Single Family Residential</td>\n",
       "      <td>15986 SE Spokane Ct. Ave</td>\n",
       "      <td>Portland</td>\n",
       "      <td>OR</td>\n",
       "      <td>97236.0</td>\n",
       "      <td>543900.0</td>\n",
       "      <td>4.0</td>\n",
       "      <td>3.5</td>\n",
       "      <td>Portland Southeast</td>\n",
       "      <td>...</td>\n",
       "      <td>50</td>\n",
       "      <td>2</td>\n",
       "      <td>34</td>\n",
       "      <td>46</td>\n",
       "      <td>50</td>\n",
       "      <td>50</td>\n",
       "      <td>50</td>\n",
       "      <td>5.796321</td>\n",
       "      <td>16.509734</td>\n",
       "      <td>10.179443</td>\n",
       "    </tr>\n",
       "    <tr>\n",
       "      <th>170</th>\n",
       "      <td>MLS Listing</td>\n",
       "      <td>Multi-Family (2-4 Unit)</td>\n",
       "      <td>SE Henderson St</td>\n",
       "      <td>Portland</td>\n",
       "      <td>OR</td>\n",
       "      <td>97206.0</td>\n",
       "      <td>625000.0</td>\n",
       "      <td>6.0</td>\n",
       "      <td>6.0</td>\n",
       "      <td>LENTS</td>\n",
       "      <td>...</td>\n",
       "      <td>50</td>\n",
       "      <td>1</td>\n",
       "      <td>50</td>\n",
       "      <td>40</td>\n",
       "      <td>50</td>\n",
       "      <td>50</td>\n",
       "      <td>50</td>\n",
       "      <td>8.380589</td>\n",
       "      <td>23.087985</td>\n",
       "      <td>10.174764</td>\n",
       "    </tr>\n",
       "    <tr>\n",
       "      <th>101</th>\n",
       "      <td>MLS Listing</td>\n",
       "      <td>Single Family Residential</td>\n",
       "      <td>8268 SE Yamhill St</td>\n",
       "      <td>Portland</td>\n",
       "      <td>OR</td>\n",
       "      <td>97216.0</td>\n",
       "      <td>550000.0</td>\n",
       "      <td>7.0</td>\n",
       "      <td>4.0</td>\n",
       "      <td>Portland Southeast</td>\n",
       "      <td>...</td>\n",
       "      <td>50</td>\n",
       "      <td>1</td>\n",
       "      <td>50</td>\n",
       "      <td>43</td>\n",
       "      <td>50</td>\n",
       "      <td>50</td>\n",
       "      <td>50</td>\n",
       "      <td>6.330796</td>\n",
       "      <td>16.910622</td>\n",
       "      <td>10.140356</td>\n",
       "    </tr>\n",
       "  </tbody>\n",
       "</table>\n",
       "<p>3 rows × 36 columns</p>\n",
       "</div>"
      ],
      "text/plain": [
       "       SALE TYPE              PROPERTY TYPE                   ADDRESS  \\\n",
       "87   MLS Listing  Single Family Residential  15986 SE Spokane Ct. Ave   \n",
       "170  MLS Listing    Multi-Family (2-4 Unit)           SE Henderson St   \n",
       "101  MLS Listing  Single Family Residential        8268 SE Yamhill St   \n",
       "\n",
       "         CITY STATE      ZIP     PRICE  BEDS  BATHS            LOCATION  \\\n",
       "87   Portland    OR  97236.0  543900.0   4.0    3.5  Portland Southeast   \n",
       "170  Portland    OR  97206.0  625000.0   6.0    6.0               LENTS   \n",
       "101  Portland    OR  97216.0  550000.0   7.0    4.0  Portland Southeast   \n",
       "\n",
       "         ...        coffee_count  bars_count  gas_count  shops_count  \\\n",
       "87       ...                  50           2         34           46   \n",
       "170      ...                  50           1         50           40   \n",
       "101      ...                  50           1         50           43   \n",
       "\n",
       "     travel_count  parks_count edu_count commute_length commute_duration  \\\n",
       "87             50           50        50       5.796321        16.509734   \n",
       "170            50           50        50       8.380589        23.087985   \n",
       "101            50           50        50       6.330796        16.910622   \n",
       "\n",
       "     scores_scaled  \n",
       "87       10.179443  \n",
       "170      10.174764  \n",
       "101      10.140356  \n",
       "\n",
       "[3 rows x 36 columns]"
      ]
     },
     "execution_count": 15,
     "metadata": {},
     "output_type": "execute_result"
    }
   ],
   "source": [
    "prop_df_sorted = prop_df.sort_values(by='scores_scaled', ascending=False)\n",
    "prop_df_sorted.head(3)"
   ]
  },
  {
   "cell_type": "code",
   "execution_count": 16,
   "metadata": {
    "slideshow": {
     "slide_type": "skip"
    }
   },
   "outputs": [
    {
     "data": {
      "text/html": [
       "<div>\n",
       "<style scoped>\n",
       "    .dataframe tbody tr th:only-of-type {\n",
       "        vertical-align: middle;\n",
       "    }\n",
       "\n",
       "    .dataframe tbody tr th {\n",
       "        vertical-align: top;\n",
       "    }\n",
       "\n",
       "    .dataframe thead th {\n",
       "        text-align: right;\n",
       "    }\n",
       "</style>\n",
       "<table border=\"1\" class=\"dataframe\">\n",
       "  <thead>\n",
       "    <tr style=\"text-align: right;\">\n",
       "      <th></th>\n",
       "      <th>SALE TYPE</th>\n",
       "      <th>PROPERTY TYPE</th>\n",
       "      <th>ADDRESS</th>\n",
       "      <th>CITY</th>\n",
       "      <th>STATE</th>\n",
       "      <th>ZIP</th>\n",
       "      <th>PRICE</th>\n",
       "      <th>BEDS</th>\n",
       "      <th>BATHS</th>\n",
       "      <th>LOCATION</th>\n",
       "      <th>...</th>\n",
       "      <th>coffee_count</th>\n",
       "      <th>bars_count</th>\n",
       "      <th>gas_count</th>\n",
       "      <th>shops_count</th>\n",
       "      <th>travel_count</th>\n",
       "      <th>parks_count</th>\n",
       "      <th>edu_count</th>\n",
       "      <th>commute_length</th>\n",
       "      <th>commute_duration</th>\n",
       "      <th>scores_scaled</th>\n",
       "    </tr>\n",
       "  </thead>\n",
       "  <tbody>\n",
       "    <tr>\n",
       "      <th>0</th>\n",
       "      <td>MLS Listing</td>\n",
       "      <td>Single Family Residential</td>\n",
       "      <td>15986 SE Spokane Ct. Ave</td>\n",
       "      <td>Portland</td>\n",
       "      <td>OR</td>\n",
       "      <td>97236.0</td>\n",
       "      <td>543900.0</td>\n",
       "      <td>4.0</td>\n",
       "      <td>3.5</td>\n",
       "      <td>Portland Southeast</td>\n",
       "      <td>...</td>\n",
       "      <td>50</td>\n",
       "      <td>2</td>\n",
       "      <td>34</td>\n",
       "      <td>46</td>\n",
       "      <td>50</td>\n",
       "      <td>50</td>\n",
       "      <td>50</td>\n",
       "      <td>5.796321</td>\n",
       "      <td>16.509734</td>\n",
       "      <td>10.179443</td>\n",
       "    </tr>\n",
       "    <tr>\n",
       "      <th>1</th>\n",
       "      <td>MLS Listing</td>\n",
       "      <td>Multi-Family (2-4 Unit)</td>\n",
       "      <td>SE Henderson St</td>\n",
       "      <td>Portland</td>\n",
       "      <td>OR</td>\n",
       "      <td>97206.0</td>\n",
       "      <td>625000.0</td>\n",
       "      <td>6.0</td>\n",
       "      <td>6.0</td>\n",
       "      <td>LENTS</td>\n",
       "      <td>...</td>\n",
       "      <td>50</td>\n",
       "      <td>1</td>\n",
       "      <td>50</td>\n",
       "      <td>40</td>\n",
       "      <td>50</td>\n",
       "      <td>50</td>\n",
       "      <td>50</td>\n",
       "      <td>8.380589</td>\n",
       "      <td>23.087985</td>\n",
       "      <td>10.174764</td>\n",
       "    </tr>\n",
       "    <tr>\n",
       "      <th>2</th>\n",
       "      <td>MLS Listing</td>\n",
       "      <td>Single Family Residential</td>\n",
       "      <td>8268 SE Yamhill St</td>\n",
       "      <td>Portland</td>\n",
       "      <td>OR</td>\n",
       "      <td>97216.0</td>\n",
       "      <td>550000.0</td>\n",
       "      <td>7.0</td>\n",
       "      <td>4.0</td>\n",
       "      <td>Portland Southeast</td>\n",
       "      <td>...</td>\n",
       "      <td>50</td>\n",
       "      <td>1</td>\n",
       "      <td>50</td>\n",
       "      <td>43</td>\n",
       "      <td>50</td>\n",
       "      <td>50</td>\n",
       "      <td>50</td>\n",
       "      <td>6.330796</td>\n",
       "      <td>16.910622</td>\n",
       "      <td>10.140356</td>\n",
       "    </tr>\n",
       "    <tr>\n",
       "      <th>3</th>\n",
       "      <td>MLS Listing</td>\n",
       "      <td>Single Family Residential</td>\n",
       "      <td>6311 SE Tenino St</td>\n",
       "      <td>Portland</td>\n",
       "      <td>OR</td>\n",
       "      <td>97206.0</td>\n",
       "      <td>479900.0</td>\n",
       "      <td>4.0</td>\n",
       "      <td>2.5</td>\n",
       "      <td>Portland Southeast</td>\n",
       "      <td>...</td>\n",
       "      <td>50</td>\n",
       "      <td>2</td>\n",
       "      <td>44</td>\n",
       "      <td>48</td>\n",
       "      <td>50</td>\n",
       "      <td>50</td>\n",
       "      <td>50</td>\n",
       "      <td>7.299694</td>\n",
       "      <td>20.389635</td>\n",
       "      <td>10.035397</td>\n",
       "    </tr>\n",
       "    <tr>\n",
       "      <th>4</th>\n",
       "      <td>MLS Listing</td>\n",
       "      <td>Multi-Family (2-4 Unit)</td>\n",
       "      <td>2028 SE Harold St</td>\n",
       "      <td>Portland</td>\n",
       "      <td>OR</td>\n",
       "      <td>97202.0</td>\n",
       "      <td>699900.0</td>\n",
       "      <td>5.0</td>\n",
       "      <td>4.0</td>\n",
       "      <td>SELLWOOD - WEST MORELAND</td>\n",
       "      <td>...</td>\n",
       "      <td>50</td>\n",
       "      <td>2</td>\n",
       "      <td>40</td>\n",
       "      <td>45</td>\n",
       "      <td>50</td>\n",
       "      <td>50</td>\n",
       "      <td>50</td>\n",
       "      <td>3.710354</td>\n",
       "      <td>11.486135</td>\n",
       "      <td>9.958218</td>\n",
       "    </tr>\n",
       "  </tbody>\n",
       "</table>\n",
       "<p>5 rows × 36 columns</p>\n",
       "</div>"
      ],
      "text/plain": [
       "     SALE TYPE              PROPERTY TYPE                   ADDRESS      CITY  \\\n",
       "0  MLS Listing  Single Family Residential  15986 SE Spokane Ct. Ave  Portland   \n",
       "1  MLS Listing    Multi-Family (2-4 Unit)           SE Henderson St  Portland   \n",
       "2  MLS Listing  Single Family Residential        8268 SE Yamhill St  Portland   \n",
       "3  MLS Listing  Single Family Residential         6311 SE Tenino St  Portland   \n",
       "4  MLS Listing    Multi-Family (2-4 Unit)         2028 SE Harold St  Portland   \n",
       "\n",
       "  STATE      ZIP     PRICE  BEDS  BATHS                  LOCATION  \\\n",
       "0    OR  97236.0  543900.0   4.0    3.5        Portland Southeast   \n",
       "1    OR  97206.0  625000.0   6.0    6.0                     LENTS   \n",
       "2    OR  97216.0  550000.0   7.0    4.0        Portland Southeast   \n",
       "3    OR  97206.0  479900.0   4.0    2.5        Portland Southeast   \n",
       "4    OR  97202.0  699900.0   5.0    4.0  SELLWOOD - WEST MORELAND   \n",
       "\n",
       "       ...        coffee_count  bars_count  gas_count  shops_count  \\\n",
       "0      ...                  50           2         34           46   \n",
       "1      ...                  50           1         50           40   \n",
       "2      ...                  50           1         50           43   \n",
       "3      ...                  50           2         44           48   \n",
       "4      ...                  50           2         40           45   \n",
       "\n",
       "   travel_count  parks_count edu_count commute_length commute_duration  \\\n",
       "0            50           50        50       5.796321        16.509734   \n",
       "1            50           50        50       8.380589        23.087985   \n",
       "2            50           50        50       6.330796        16.910622   \n",
       "3            50           50        50       7.299694        20.389635   \n",
       "4            50           50        50       3.710354        11.486135   \n",
       "\n",
       "   scores_scaled  \n",
       "0      10.179443  \n",
       "1      10.174764  \n",
       "2      10.140356  \n",
       "3      10.035397  \n",
       "4       9.958218  \n",
       "\n",
       "[5 rows x 36 columns]"
      ]
     },
     "execution_count": 16,
     "metadata": {},
     "output_type": "execute_result"
    }
   ],
   "source": [
    "prop_df_sorted.reset_index(drop=True, inplace=True)\n",
    "prop_df_sorted.head()"
   ]
  },
  {
   "cell_type": "markdown",
   "metadata": {
    "slideshow": {
     "slide_type": "subslide"
    }
   },
   "source": [
    "## Apply a rank for each property based on the scores"
   ]
  },
  {
   "cell_type": "code",
   "execution_count": 18,
   "metadata": {
    "slideshow": {
     "slide_type": "fragment"
    }
   },
   "outputs": [
    {
     "data": {
      "text/html": [
       "<div>\n",
       "<style scoped>\n",
       "    .dataframe tbody tr th:only-of-type {\n",
       "        vertical-align: middle;\n",
       "    }\n",
       "\n",
       "    .dataframe tbody tr th {\n",
       "        vertical-align: top;\n",
       "    }\n",
       "\n",
       "    .dataframe thead th {\n",
       "        text-align: right;\n",
       "    }\n",
       "</style>\n",
       "<table border=\"1\" class=\"dataframe\">\n",
       "  <thead>\n",
       "    <tr style=\"text-align: right;\">\n",
       "      <th></th>\n",
       "      <th>SALE TYPE</th>\n",
       "      <th>PROPERTY TYPE</th>\n",
       "      <th>ADDRESS</th>\n",
       "      <th>CITY</th>\n",
       "      <th>STATE</th>\n",
       "      <th>ZIP</th>\n",
       "      <th>PRICE</th>\n",
       "      <th>BEDS</th>\n",
       "      <th>BATHS</th>\n",
       "      <th>LOCATION</th>\n",
       "      <th>...</th>\n",
       "      <th>bars_count</th>\n",
       "      <th>gas_count</th>\n",
       "      <th>shops_count</th>\n",
       "      <th>travel_count</th>\n",
       "      <th>parks_count</th>\n",
       "      <th>edu_count</th>\n",
       "      <th>commute_length</th>\n",
       "      <th>commute_duration</th>\n",
       "      <th>scores_scaled</th>\n",
       "      <th>rank</th>\n",
       "    </tr>\n",
       "  </thead>\n",
       "  <tbody>\n",
       "    <tr>\n",
       "      <th>0</th>\n",
       "      <td>MLS Listing</td>\n",
       "      <td>Single Family Residential</td>\n",
       "      <td>15986 SE Spokane Ct. Ave</td>\n",
       "      <td>Portland</td>\n",
       "      <td>OR</td>\n",
       "      <td>97236.0</td>\n",
       "      <td>543900.0</td>\n",
       "      <td>4.0</td>\n",
       "      <td>3.5</td>\n",
       "      <td>Portland Southeast</td>\n",
       "      <td>...</td>\n",
       "      <td>2</td>\n",
       "      <td>34</td>\n",
       "      <td>46</td>\n",
       "      <td>50</td>\n",
       "      <td>50</td>\n",
       "      <td>50</td>\n",
       "      <td>5.796321</td>\n",
       "      <td>16.509734</td>\n",
       "      <td>10.179443</td>\n",
       "      <td>0</td>\n",
       "    </tr>\n",
       "    <tr>\n",
       "      <th>1</th>\n",
       "      <td>MLS Listing</td>\n",
       "      <td>Multi-Family (2-4 Unit)</td>\n",
       "      <td>SE Henderson St</td>\n",
       "      <td>Portland</td>\n",
       "      <td>OR</td>\n",
       "      <td>97206.0</td>\n",
       "      <td>625000.0</td>\n",
       "      <td>6.0</td>\n",
       "      <td>6.0</td>\n",
       "      <td>LENTS</td>\n",
       "      <td>...</td>\n",
       "      <td>1</td>\n",
       "      <td>50</td>\n",
       "      <td>40</td>\n",
       "      <td>50</td>\n",
       "      <td>50</td>\n",
       "      <td>50</td>\n",
       "      <td>8.380589</td>\n",
       "      <td>23.087985</td>\n",
       "      <td>10.174764</td>\n",
       "      <td>1</td>\n",
       "    </tr>\n",
       "    <tr>\n",
       "      <th>2</th>\n",
       "      <td>MLS Listing</td>\n",
       "      <td>Single Family Residential</td>\n",
       "      <td>8268 SE Yamhill St</td>\n",
       "      <td>Portland</td>\n",
       "      <td>OR</td>\n",
       "      <td>97216.0</td>\n",
       "      <td>550000.0</td>\n",
       "      <td>7.0</td>\n",
       "      <td>4.0</td>\n",
       "      <td>Portland Southeast</td>\n",
       "      <td>...</td>\n",
       "      <td>1</td>\n",
       "      <td>50</td>\n",
       "      <td>43</td>\n",
       "      <td>50</td>\n",
       "      <td>50</td>\n",
       "      <td>50</td>\n",
       "      <td>6.330796</td>\n",
       "      <td>16.910622</td>\n",
       "      <td>10.140356</td>\n",
       "      <td>2</td>\n",
       "    </tr>\n",
       "    <tr>\n",
       "      <th>3</th>\n",
       "      <td>MLS Listing</td>\n",
       "      <td>Single Family Residential</td>\n",
       "      <td>6311 SE Tenino St</td>\n",
       "      <td>Portland</td>\n",
       "      <td>OR</td>\n",
       "      <td>97206.0</td>\n",
       "      <td>479900.0</td>\n",
       "      <td>4.0</td>\n",
       "      <td>2.5</td>\n",
       "      <td>Portland Southeast</td>\n",
       "      <td>...</td>\n",
       "      <td>2</td>\n",
       "      <td>44</td>\n",
       "      <td>48</td>\n",
       "      <td>50</td>\n",
       "      <td>50</td>\n",
       "      <td>50</td>\n",
       "      <td>7.299694</td>\n",
       "      <td>20.389635</td>\n",
       "      <td>10.035397</td>\n",
       "      <td>3</td>\n",
       "    </tr>\n",
       "    <tr>\n",
       "      <th>4</th>\n",
       "      <td>MLS Listing</td>\n",
       "      <td>Multi-Family (2-4 Unit)</td>\n",
       "      <td>2028 SE Harold St</td>\n",
       "      <td>Portland</td>\n",
       "      <td>OR</td>\n",
       "      <td>97202.0</td>\n",
       "      <td>699900.0</td>\n",
       "      <td>5.0</td>\n",
       "      <td>4.0</td>\n",
       "      <td>SELLWOOD - WEST MORELAND</td>\n",
       "      <td>...</td>\n",
       "      <td>2</td>\n",
       "      <td>40</td>\n",
       "      <td>45</td>\n",
       "      <td>50</td>\n",
       "      <td>50</td>\n",
       "      <td>50</td>\n",
       "      <td>3.710354</td>\n",
       "      <td>11.486135</td>\n",
       "      <td>9.958218</td>\n",
       "      <td>4</td>\n",
       "    </tr>\n",
       "    <tr>\n",
       "      <th>5</th>\n",
       "      <td>New Construction Home</td>\n",
       "      <td>Single Family Residential</td>\n",
       "      <td>16010 SE Spokane Ct</td>\n",
       "      <td>Portland</td>\n",
       "      <td>OR</td>\n",
       "      <td>97236.0</td>\n",
       "      <td>518750.0</td>\n",
       "      <td>3.0</td>\n",
       "      <td>2.5</td>\n",
       "      <td>Peach Tree Meadows</td>\n",
       "      <td>...</td>\n",
       "      <td>2</td>\n",
       "      <td>34</td>\n",
       "      <td>46</td>\n",
       "      <td>50</td>\n",
       "      <td>50</td>\n",
       "      <td>50</td>\n",
       "      <td>5.796321</td>\n",
       "      <td>16.509734</td>\n",
       "      <td>9.929172</td>\n",
       "      <td>5</td>\n",
       "    </tr>\n",
       "    <tr>\n",
       "      <th>6</th>\n",
       "      <td>MLS Listing</td>\n",
       "      <td>Multi-Family (2-4 Unit)</td>\n",
       "      <td>5850 SE 86th Ave</td>\n",
       "      <td>Portland</td>\n",
       "      <td>OR</td>\n",
       "      <td>97266.0</td>\n",
       "      <td>699000.0</td>\n",
       "      <td>6.0</td>\n",
       "      <td>6.0</td>\n",
       "      <td>LENTS</td>\n",
       "      <td>...</td>\n",
       "      <td>1</td>\n",
       "      <td>50</td>\n",
       "      <td>38</td>\n",
       "      <td>50</td>\n",
       "      <td>50</td>\n",
       "      <td>50</td>\n",
       "      <td>10.899918</td>\n",
       "      <td>21.144505</td>\n",
       "      <td>9.924611</td>\n",
       "      <td>6</td>\n",
       "    </tr>\n",
       "    <tr>\n",
       "      <th>7</th>\n",
       "      <td>MLS Listing</td>\n",
       "      <td>Townhouse</td>\n",
       "      <td>2022 SE Harold St</td>\n",
       "      <td>Portland</td>\n",
       "      <td>OR</td>\n",
       "      <td>97202.0</td>\n",
       "      <td>699900.0</td>\n",
       "      <td>5.0</td>\n",
       "      <td>4.0</td>\n",
       "      <td>SELLWOOD - WEST MORELAND</td>\n",
       "      <td>...</td>\n",
       "      <td>2</td>\n",
       "      <td>40</td>\n",
       "      <td>45</td>\n",
       "      <td>50</td>\n",
       "      <td>50</td>\n",
       "      <td>50</td>\n",
       "      <td>3.713178</td>\n",
       "      <td>11.513058</td>\n",
       "      <td>9.880673</td>\n",
       "      <td>7</td>\n",
       "    </tr>\n",
       "    <tr>\n",
       "      <th>8</th>\n",
       "      <td>MLS Listing</td>\n",
       "      <td>Single Family Residential</td>\n",
       "      <td>15965 SE Spokane Ct</td>\n",
       "      <td>Portland</td>\n",
       "      <td>OR</td>\n",
       "      <td>97236.0</td>\n",
       "      <td>488750.0</td>\n",
       "      <td>3.0</td>\n",
       "      <td>2.5</td>\n",
       "      <td>Portland Southeast</td>\n",
       "      <td>...</td>\n",
       "      <td>2</td>\n",
       "      <td>34</td>\n",
       "      <td>46</td>\n",
       "      <td>50</td>\n",
       "      <td>50</td>\n",
       "      <td>50</td>\n",
       "      <td>5.796321</td>\n",
       "      <td>16.509734</td>\n",
       "      <td>9.794684</td>\n",
       "      <td>8</td>\n",
       "    </tr>\n",
       "    <tr>\n",
       "      <th>9</th>\n",
       "      <td>MLS Listing</td>\n",
       "      <td>Single Family Residential</td>\n",
       "      <td>16136 SE Tenino St</td>\n",
       "      <td>Portland</td>\n",
       "      <td>OR</td>\n",
       "      <td>97236.0</td>\n",
       "      <td>479900.0</td>\n",
       "      <td>3.0</td>\n",
       "      <td>2.5</td>\n",
       "      <td>Portland Southeast</td>\n",
       "      <td>...</td>\n",
       "      <td>2</td>\n",
       "      <td>36</td>\n",
       "      <td>46</td>\n",
       "      <td>50</td>\n",
       "      <td>50</td>\n",
       "      <td>50</td>\n",
       "      <td>4.998670</td>\n",
       "      <td>13.217221</td>\n",
       "      <td>9.761623</td>\n",
       "      <td>9</td>\n",
       "    </tr>\n",
       "  </tbody>\n",
       "</table>\n",
       "<p>10 rows × 37 columns</p>\n",
       "</div>"
      ],
      "text/plain": [
       "               SALE TYPE              PROPERTY TYPE                   ADDRESS  \\\n",
       "0            MLS Listing  Single Family Residential  15986 SE Spokane Ct. Ave   \n",
       "1            MLS Listing    Multi-Family (2-4 Unit)           SE Henderson St   \n",
       "2            MLS Listing  Single Family Residential        8268 SE Yamhill St   \n",
       "3            MLS Listing  Single Family Residential         6311 SE Tenino St   \n",
       "4            MLS Listing    Multi-Family (2-4 Unit)         2028 SE Harold St   \n",
       "5  New Construction Home  Single Family Residential       16010 SE Spokane Ct   \n",
       "6            MLS Listing    Multi-Family (2-4 Unit)          5850 SE 86th Ave   \n",
       "7            MLS Listing                  Townhouse         2022 SE Harold St   \n",
       "8            MLS Listing  Single Family Residential       15965 SE Spokane Ct   \n",
       "9            MLS Listing  Single Family Residential        16136 SE Tenino St   \n",
       "\n",
       "       CITY STATE      ZIP     PRICE  BEDS  BATHS                  LOCATION  \\\n",
       "0  Portland    OR  97236.0  543900.0   4.0    3.5        Portland Southeast   \n",
       "1  Portland    OR  97206.0  625000.0   6.0    6.0                     LENTS   \n",
       "2  Portland    OR  97216.0  550000.0   7.0    4.0        Portland Southeast   \n",
       "3  Portland    OR  97206.0  479900.0   4.0    2.5        Portland Southeast   \n",
       "4  Portland    OR  97202.0  699900.0   5.0    4.0  SELLWOOD - WEST MORELAND   \n",
       "5  Portland    OR  97236.0  518750.0   3.0    2.5        Peach Tree Meadows   \n",
       "6  Portland    OR  97266.0  699000.0   6.0    6.0                     LENTS   \n",
       "7  Portland    OR  97202.0  699900.0   5.0    4.0  SELLWOOD - WEST MORELAND   \n",
       "8  Portland    OR  97236.0  488750.0   3.0    2.5        Portland Southeast   \n",
       "9  Portland    OR  97236.0  479900.0   3.0    2.5        Portland Southeast   \n",
       "\n",
       "   ...   bars_count  gas_count  shops_count  travel_count  parks_count  \\\n",
       "0  ...            2         34           46            50           50   \n",
       "1  ...            1         50           40            50           50   \n",
       "2  ...            1         50           43            50           50   \n",
       "3  ...            2         44           48            50           50   \n",
       "4  ...            2         40           45            50           50   \n",
       "5  ...            2         34           46            50           50   \n",
       "6  ...            1         50           38            50           50   \n",
       "7  ...            2         40           45            50           50   \n",
       "8  ...            2         34           46            50           50   \n",
       "9  ...            2         36           46            50           50   \n",
       "\n",
       "   edu_count commute_length commute_duration scores_scaled  rank  \n",
       "0         50       5.796321        16.509734     10.179443     0  \n",
       "1         50       8.380589        23.087985     10.174764     1  \n",
       "2         50       6.330796        16.910622     10.140356     2  \n",
       "3         50       7.299694        20.389635     10.035397     3  \n",
       "4         50       3.710354        11.486135      9.958218     4  \n",
       "5         50       5.796321        16.509734      9.929172     5  \n",
       "6         50      10.899918        21.144505      9.924611     6  \n",
       "7         50       3.713178        11.513058      9.880673     7  \n",
       "8         50       5.796321        16.509734      9.794684     8  \n",
       "9         50       4.998670        13.217221      9.761623     9  \n",
       "\n",
       "[10 rows x 37 columns]"
      ]
     },
     "execution_count": 18,
     "metadata": {},
     "output_type": "execute_result"
    }
   ],
   "source": [
    "prop_df_sorted['rank'] = prop_df_sorted.index\n",
    "prop_df_sorted.head(10)"
   ]
  },
  {
   "cell_type": "markdown",
   "metadata": {
    "slideshow": {
     "slide_type": "subslide"
    }
   },
   "source": [
    "## Visualize the top 50 properties"
   ]
  },
  {
   "cell_type": "code",
   "execution_count": 29,
   "metadata": {
    "slideshow": {
     "slide_type": "skip"
    }
   },
   "outputs": [
    {
     "data": {
      "application/vnd.jupyter.widget-view+json": {
       "model_id": "2df1e967632b4b7ba089e376d56905b1",
       "version_major": 2,
       "version_minor": 0
      },
      "text/plain": [
       "MapView(basemap='gray', layout=Layout(height='400px', width='100%'))"
      ]
     },
     "metadata": {},
     "output_type": "display_data"
    }
   ],
   "source": [
    "top_10_map = gis.map('Portland, OR')\n",
    "top_10_map.basemap = 'gray'\n",
    "top_10_map"
   ]
  },
  {
   "cell_type": "markdown",
   "metadata": {
    "slideshow": {
     "slide_type": "fragment"
    }
   },
   "source": [
    "![](resources/map11.png)"
   ]
  },
  {
   "cell_type": "code",
   "execution_count": 39,
   "metadata": {
    "slideshow": {
     "slide_type": "skip"
    }
   },
   "outputs": [
    {
     "name": "stderr",
     "output_type": "stream",
     "text": [
      "/Users/atma6951/anaconda3/envs/geosaurus_gold/lib/python3.6/site-packages/arcgis/features/geo/_accessor.py:861: SettingWithCopyWarning: \n",
      "A value is trying to be set on a copy of a slice from a DataFrame.\n",
      "Try using .loc[row_indexer,col_indexer] = value instead\n",
      "\n",
      "See the caveats in the documentation: http://pandas.pydata.org/pandas-docs/stable/indexing.html#indexing-view-versus-copy\n",
      "  self._data[col] = self._data[col]\n",
      "/Users/atma6951/anaconda3/envs/geosaurus_gold/lib/python3.6/site-packages/arcgis/features/geo/_accessor.py:1968: SettingWithCopyWarning: \n",
      "A value is trying to be set on a copy of a slice from a DataFrame.\n",
      "Try using .loc[row_indexer,col_indexer] = value instead\n",
      "\n",
      "See the caveats in the documentation: http://pandas.pydata.org/pandas-docs/stable/indexing.html#indexing-view-versus-copy\n",
      "  self._data['OBJECTID'] = list(range(1, self._data.shape[0] + 1))\n"
     ]
    },
    {
     "data": {
      "text/plain": [
       "True"
      ]
     },
     "execution_count": 39,
     "metadata": {},
     "output_type": "execute_result"
    }
   ],
   "source": [
    "prop_df_sorted.head(50).spatial.plot(map_widget = top_10_map, \n",
    "                      renderer_type='c',\n",
    "                     method='esriClassifyNaturalBreaks',  # classification scheme\n",
    "                     class_count=10,  # between 1900 - 2000, each decade in a class\n",
    "                     col='scores_scaled',\n",
    "                     cmap='autumn',  # matplotlib color map\n",
    "                     alpha=0.7,\n",
    "                     outline_color=[0,0,0,0])"
   ]
  },
  {
   "cell_type": "markdown",
   "metadata": {},
   "source": [
    "### Investigate statistical distribution facilities in the top 50 shortlist"
   ]
  },
  {
   "cell_type": "code",
   "execution_count": 19,
   "metadata": {
    "slideshow": {
     "slide_type": "subslide"
    }
   },
   "outputs": [
    {
     "data": {
      "image/png": "[encoded data removed]",
      "text/plain": [
       "<Figure size 1080x1080 with 20 Axes>"
      ]
     },
     "metadata": {},
     "output_type": "display_data"
    }
   ],
   "source": [
    "interesting_columns=['grocery_count', 'restaurant_count', 'hospitals_count', 'coffee_count',\n",
    "       'bars_count', 'gas_count', 'shops_count', 'travel_count', 'parks_count',\n",
    "       'edu_count', 'commute_length', 'commute_duration','PRICE','BEDS','BATHS','YEAR BUILT','SQUARE FEET']\n",
    "\n",
    "ax_list = prop_df_sorted[interesting_columns].iloc[:49].hist(bins=25, layout=(5,4), figsize=(15,15))\n",
    "plt.tight_layout()"
   ]
  },
  {
   "cell_type": "markdown",
   "metadata": {},
   "source": [
    "### How is rank correlated with location properties of houses?\n",
    "In the charts below we attempt to find if there exists a correlation between different facilities."
   ]
  },
  {
   "cell_type": "code",
   "execution_count": 54,
   "metadata": {
    "scrolled": false,
    "slideshow": {
     "slide_type": "subslide"
    }
   },
   "outputs": [
    {
     "data": {
      "text/plain": [
       "Text(0.5,1,'How is rank correlated with location properties of a house?')"
      ]
     },
     "execution_count": 54,
     "metadata": {},
     "output_type": "execute_result"
    },
    {
     "data": {
      "image/png": "[encoded data removed]",
      "text/plain": [
       "<Figure size 1080x1080 with 42 Axes>"
      ]
     },
     "metadata": {},
     "output_type": "display_data"
    }
   ],
   "source": [
    "column_set1 = ['hospitals_count','commute_length','commute_duration',\n",
    "               'gas_count', 'shops_count', 'rank']\n",
    "column_set2 = ['rank','PRICE','BEDS','BATHS','YEAR BUILT','SQUARE FEET']\n",
    "\n",
    "grd = sns.pairplot(data=prop_df_sorted[column_set1].iloc[:49])\n",
    "plt.title('How is rank correlated with location properties of a house?')"
   ]
  },
  {
   "cell_type": "markdown",
   "metadata": {},
   "source": [
    "### How is rank correlated with intrinsic properties of houses?"
   ]
  },
  {
   "cell_type": "code",
   "execution_count": 55,
   "metadata": {
    "slideshow": {
     "slide_type": "subslide"
    }
   },
   "outputs": [
    {
     "data": {
      "text/plain": [
       "Text(0.5,1,'How is rank correlated with intrinsic properties of a house?')"
      ]
     },
     "execution_count": 55,
     "metadata": {},
     "output_type": "execute_result"
    },
    {
     "data": {
      "image/png": "[encoded data removed]",
      "text/plain": [
       "<Figure size 1080x1080 with 42 Axes>"
      ]
     },
     "metadata": {},
     "output_type": "display_data"
    }
   ],
   "source": [
    "grd = sns.pairplot(data=prop_df_sorted[column_set2].iloc[:49])\n",
    "plt.title('How is rank correlated with intrinsic properties of a house?')"
   ]
  },
  {
   "cell_type": "markdown",
   "metadata": {
    "slideshow": {
     "slide_type": "skip"
    }
   },
   "source": [
    "### Save to disk"
   ]
  },
  {
   "cell_type": "code",
   "execution_count": 40,
   "metadata": {
    "slideshow": {
     "slide_type": "skip"
    }
   },
   "outputs": [
    {
     "data": {
      "text/plain": [
       "'resources/shp/houses_ranked.shp'"
      ]
     },
     "execution_count": 40,
     "metadata": {},
     "output_type": "execute_result"
    }
   ],
   "source": [
    "prop_df_sorted.to_csv('resources/houses_ranked.csv')\n",
    "prop_df_sorted.spatial.to_featureclass('resources/shp/houses_ranked.shp')"
   ]
  }
 ],
 "metadata": {
  "celltoolbar": "Slideshow",
  "kernelspec": {
   "display_name": "Python 3",
   "language": "python",
   "name": "python3"
  },
  "language_info": {
   "codemirror_mode": {
    "name": "ipython",
    "version": 3
   },
   "file_extension": ".py",
   "mimetype": "text/x-python",
   "name": "python",
   "nbconvert_exporter": "python",
   "pygments_lexer": "ipython3",
   "version": "3.6.6"
  },
  "livereveal": {
   "scroll": true
  },
  "toc": {
   "base_numbering": 1,
   "nav_menu": {},
   "number_sections": false,
   "sideBar": true,
   "skip_h1_title": false,
   "title_cell": "**Table of Contents**",
   "title_sidebar": "Contents",
   "toc_cell": true,
   "toc_position": {},
   "toc_section_display": true,
   "toc_window_display": true
  }
 },
 "nbformat": 4,
 "nbformat_minor": 2
}
