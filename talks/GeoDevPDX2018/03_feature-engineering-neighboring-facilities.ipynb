{
 "cells": [
  {
   "cell_type": "markdown",
   "metadata": {
    "slideshow": {
     "slide_type": "skip"
    },
    "toc": true
   },
   "source": [
    "<h1>**Table of Contents**<span class=\"tocSkip\"></span></h1>\n",
    "<div class=\"toc\"><ul class=\"toc-item\"><li><span><a href=\"#Feature-engineering---quantifying-access-to-facilities\" data-toc-modified-id=\"Feature-engineering---quantifying-access-to-facilities-1\">Feature engineering - quantifying access to facilities</a></span><ul class=\"toc-item\"><li><span><a href=\"#Read-one-of-the-shortlisted-properties\" data-toc-modified-id=\"Read-one-of-the-shortlisted-properties-1.1\">Read one of the shortlisted properties</a></span></li><li><span><a href=\"#Create-symbols-for-facilities\" data-toc-modified-id=\"Create-symbols-for-facilities-1.2\">Create symbols for facilities</a></span><ul class=\"toc-item\"><li><span><a href=\"#Get-5-mile-extent-around-the-property-of-interest\" data-toc-modified-id=\"Get-5-mile-extent-around-the-property-of-interest-1.2.1\">Get 5 mile extent around the property of interest</a></span></li><li><span><a href=\"#Plot-house-and-buffer-on-map\" data-toc-modified-id=\"Plot-house-and-buffer-on-map-1.2.2\">Plot house and buffer on map</a></span></li></ul></li><li><span><a href=\"#Geocode-for-facilities\" data-toc-modified-id=\"Geocode-for-facilities-1.3\">Geocode for facilities</a></span><ul class=\"toc-item\"><li><span><a href=\"#Groceries\" data-toc-modified-id=\"Groceries-1.3.1\">Groceries</a></span></li><li><span><a href=\"#Restaurants\" data-toc-modified-id=\"Restaurants-1.3.2\">Restaurants</a></span></li><li><span><a href=\"#Hospitals\" data-toc-modified-id=\"Hospitals-1.3.3\">Hospitals</a></span></li><li><span><a href=\"#Coffee-shops\" data-toc-modified-id=\"Coffee-shops-1.3.4\">Coffee shops</a></span></li><li><span><a href=\"#Bars\" data-toc-modified-id=\"Bars-1.3.5\">Bars</a></span></li><li><span><a href=\"#Gas-stations\" data-toc-modified-id=\"Gas-stations-1.3.6\">Gas stations</a></span></li><li><span><a href=\"#Shops-and-service\" data-toc-modified-id=\"Shops-and-service-1.3.7\">Shops and service</a></span></li><li><span><a href=\"#Travel-and-transport\" data-toc-modified-id=\"Travel-and-transport-1.3.8\">Travel and transport</a></span></li><li><span><a href=\"#Parks-and-outdoors\" data-toc-modified-id=\"Parks-and-outdoors-1.3.9\">Parks and outdoors</a></span></li><li><span><a href=\"#Education\" data-toc-modified-id=\"Education-1.3.10\">Education</a></span></li><li><span><a href=\"#Present-the-results-in-a-table\" data-toc-modified-id=\"Present-the-results-in-a-table-1.3.11\">Present the results in a table</a></span></li><li><span><a href=\"#Find-duration-to-commute-to-work\" data-toc-modified-id=\"Find-duration-to-commute-to-work-1.3.12\">Find duration to commute to work</a></span></li></ul></li></ul></li></ul></div>"
   ]
  },
  {
   "cell_type": "markdown",
   "metadata": {
    "slideshow": {
     "slide_type": "slide"
    }
   },
   "source": [
    "# Feature engineering - quantifying access to facilities\n",
    "Often, when shortlisting facilities buyers look for access to facilities such as groceries, restaurants, schools, emergency and health care in thier neighborhood. In this notebook, we use the `geocoding` module to search for such facilities and build a table for each property."
   ]
  },
  {
   "cell_type": "code",
   "execution_count": 1,
   "metadata": {
    "slideshow": {
     "slide_type": "skip"
    }
   },
   "outputs": [],
   "source": [
    "import pandas as pd\n",
    "import matplotlib.pyplot as plt\n",
    "from pprint import pprint\n",
    "%matplotlib inline\n",
    "\n",
    "from arcgis.gis import GIS\n",
    "from arcgis.geocoding import geocode\n",
    "from arcgis.features import Feature, FeatureLayer, FeatureSet, GeoAccessor, GeoSeriesAccessor\n",
    "from arcgis.features import SpatialDataFrame\n",
    "from arcgis.geometry import Geometry, Point\n",
    "from arcgis.geometry.functions import buffer\n",
    "from arcgis.network import RouteLayer"
   ]
  },
  {
   "cell_type": "markdown",
   "metadata": {
    "slideshow": {
     "slide_type": "skip"
    }
   },
   "source": [
    "Connect to GIS"
   ]
  },
  {
   "cell_type": "code",
   "execution_count": 2,
   "metadata": {
    "slideshow": {
     "slide_type": "skip"
    }
   },
   "outputs": [],
   "source": [
    "gis = GIS(profile='')"
   ]
  },
  {
   "cell_type": "markdown",
   "metadata": {
    "slideshow": {
     "slide_type": "skip"
    }
   },
   "source": [
    "## Read one of the shortlisted properties"
   ]
  },
  {
   "cell_type": "code",
   "execution_count": 3,
   "metadata": {
    "slideshow": {
     "slide_type": "skip"
    }
   },
   "outputs": [
    {
     "data": {
      "text/plain": [
       "(331, 24)"
      ]
     },
     "execution_count": 3,
     "metadata": {},
     "output_type": "execute_result"
    }
   ],
   "source": [
    "prop_list_df = pd.read_csv('resources/houses_for_sale_att_filtered.csv')\n",
    "prop_list_df.shape"
   ]
  },
  {
   "cell_type": "code",
   "execution_count": 4,
   "metadata": {
    "slideshow": {
     "slide_type": "skip"
    }
   },
   "outputs": [
    {
     "data": {
      "text/plain": [
       "pandas.core.frame.DataFrame"
      ]
     },
     "execution_count": 4,
     "metadata": {},
     "output_type": "execute_result"
    }
   ],
   "source": [
    "prop_list_df = pd.DataFrame.spatial.from_xy(prop_list_df, 'LONGITUDE','LATITUDE')\n",
    "type(prop_list_df)"
   ]
  },
  {
   "cell_type": "code",
   "execution_count": 5,
   "metadata": {
    "slideshow": {
     "slide_type": "skip"
    }
   },
   "outputs": [
    {
     "data": {
      "text/html": [
       "<div>\n",
       "<style scoped>\n",
       "    .dataframe tbody tr th:only-of-type {\n",
       "        vertical-align: middle;\n",
       "    }\n",
       "\n",
       "    .dataframe tbody tr th {\n",
       "        vertical-align: top;\n",
       "    }\n",
       "\n",
       "    .dataframe thead th {\n",
       "        text-align: right;\n",
       "    }\n",
       "</style>\n",
       "<table border=\"1\" class=\"dataframe\">\n",
       "  <thead>\n",
       "    <tr style=\"text-align: right;\">\n",
       "      <th></th>\n",
       "      <th>Unnamed: 0</th>\n",
       "      <th>SALE TYPE</th>\n",
       "      <th>PROPERTY TYPE</th>\n",
       "      <th>ADDRESS</th>\n",
       "      <th>CITY</th>\n",
       "      <th>STATE</th>\n",
       "      <th>ZIP</th>\n",
       "      <th>PRICE</th>\n",
       "      <th>BEDS</th>\n",
       "      <th>BATHS</th>\n",
       "      <th>...</th>\n",
       "      <th>DAYS ON MARKET</th>\n",
       "      <th>PRICE PER SQFT</th>\n",
       "      <th>HOA PER MONTH</th>\n",
       "      <th>STATUS</th>\n",
       "      <th>URL</th>\n",
       "      <th>SOURCE</th>\n",
       "      <th>MLS</th>\n",
       "      <th>LATITUDE</th>\n",
       "      <th>LONGITUDE</th>\n",
       "      <th>SHAPE</th>\n",
       "    </tr>\n",
       "  </thead>\n",
       "  <tbody>\n",
       "    <tr>\n",
       "      <th>203</th>\n",
       "      <td>2328</td>\n",
       "      <td>MLS Listing</td>\n",
       "      <td>Single Family Residential</td>\n",
       "      <td>3775 NW Hilton Head Ter</td>\n",
       "      <td>Portland</td>\n",
       "      <td>OR</td>\n",
       "      <td>97229.0</td>\n",
       "      <td>649900.0</td>\n",
       "      <td>4.0</td>\n",
       "      <td>2.5</td>\n",
       "      <td>...</td>\n",
       "      <td>21.0</td>\n",
       "      <td>221.0</td>\n",
       "      <td>25.0</td>\n",
       "      <td>Active</td>\n",
       "      <td>http://www.redfin.com/OR/Portland/3775-NW-Hilt...</td>\n",
       "      <td>RMLS</td>\n",
       "      <td>18389440</td>\n",
       "      <td>45.546644</td>\n",
       "      <td>-122.815658</td>\n",
       "      <td>{\"x\": -122.8156584, \"y\": 45.546644, \"spatialRe...</td>\n",
       "    </tr>\n",
       "  </tbody>\n",
       "</table>\n",
       "<p>1 rows × 24 columns</p>\n",
       "</div>"
      ],
      "text/plain": [
       "     Unnamed: 0    SALE TYPE              PROPERTY TYPE  \\\n",
       "203        2328  MLS Listing  Single Family Residential   \n",
       "\n",
       "                     ADDRESS      CITY STATE      ZIP     PRICE  BEDS  BATHS  \\\n",
       "203  3775 NW Hilton Head Ter  Portland    OR  97229.0  649900.0   4.0    2.5   \n",
       "\n",
       "                           ...                         DAYS ON MARKET  \\\n",
       "203                        ...                                   21.0   \n",
       "\n",
       "     PRICE PER SQFT  HOA PER MONTH  STATUS  \\\n",
       "203           221.0           25.0  Active   \n",
       "\n",
       "                                                   URL  SOURCE       MLS  \\\n",
       "203  http://www.redfin.com/OR/Portland/3775-NW-Hilt...    RMLS  18389440   \n",
       "\n",
       "      LATITUDE   LONGITUDE                                              SHAPE  \n",
       "203  45.546644 -122.815658  {\"x\": -122.8156584, \"y\": 45.546644, \"spatialRe...  \n",
       "\n",
       "[1 rows x 24 columns]"
      ]
     },
     "execution_count": 5,
     "metadata": {},
     "output_type": "execute_result"
    }
   ],
   "source": [
    "prop1 = prop_list_df[prop_list_df['MLS']==18389440]\n",
    "prop1"
   ]
  },
  {
   "cell_type": "markdown",
   "metadata": {
    "slideshow": {
     "slide_type": "skip"
    }
   },
   "source": [
    "## Create symbols for facilities\n",
    "Get your symbols using this online tool: [http://esri.github.io/arcgis-python-api/tools/symbol.html](http://esri.github.io/arcgis-python-api/tools/symbol.html)"
   ]
  },
  {
   "cell_type": "code",
   "execution_count": 6,
   "metadata": {
    "slideshow": {
     "slide_type": "skip"
    }
   },
   "outputs": [],
   "source": [
    "house_symbol = {\"angle\":0,\"xoffset\":0,\"yoffset\":0,\"type\":\"esriPMS\",\"url\":\"http://static.arcgis.com/images/Symbols/Shapes/RedStarLargeB.png\",\"contentType\":\"image/png\",\"width\":24,\"height\":24}\n",
    "grocery_symbol = symbol = {\"angle\":0,\"xoffset\":0,\"yoffset\":0,\"type\":\"esriPMS\",\"url\":\"http://static.arcgis.com/images/Symbols/PeoplePlaces/Shopping.png\",\"contentType\":\"image/png\",\"width\":12,\"height\":12}\n",
    "hospital_symbol = {\"angle\":0,\"xoffset\":0,\"yoffset\":0,\"type\":\"esriPMS\",\"url\":\"http://static.arcgis.com/images/Symbols/SafetyHealth/Hospital.png\",\"contentType\":\"image/png\",\"width\":24,\"height\":24}\n",
    "coffee_symbol = {\"angle\":0,\"xoffset\":0,\"yoffset\":0,\"type\":\"esriPMS\",\"url\":\"http://static.arcgis.com/images/Symbols/PeoplePlaces/Coffee.png\",\"contentType\":\"image/png\",\"width\":12,\"height\":12}\n",
    "restaurant_symbol = {\"angle\":0,\"xoffset\":0,\"yoffset\":0,\"type\":\"esriPMS\",\"url\":\"http://static.arcgis.com/images/Symbols/PeoplePlaces/Dining.png\",\"contentType\":\"image/png\",\"width\":12,\"height\":12}\n",
    "bar_symbol = {\"angle\":0,\"xoffset\":0,\"yoffset\":0,\"type\":\"esriPMS\",\"url\":\"http://static.arcgis.com/images/Symbols/PeoplePlaces/Bar.png\",\"contentType\":\"image/png\",\"width\":12,\"height\":12}\n",
    "gas_symbol = {\"angle\":0,\"xoffset\":0,\"yoffset\":0,\"type\":\"esriPMS\",\"url\":\"http://static.arcgis.com/images/Symbols/Transportation/esriBusinessMarker_72.png\",\"contentType\":\"image/png\",\"width\":12,\"height\":12}\n",
    "shops_service_symbol={\"angle\":0,\"xoffset\":0,\"yoffset\":0,\"type\":\"esriPMS\",\"url\":\"http://static.arcgis.com/images/Symbols/PeoplePlaces/esriBusinessMarker_58_Red.png\",\"contentType\":\"image/png\",\"width\":10,\"height\":10}\n",
    "transport_symbol = {\"angle\":0,\"xoffset\":0,\"yoffset\":0,\"type\":\"esriPMS\",\"url\":\"http://static.arcgis.com/images/Symbols/Transportation/esriDefaultMarker_195_White.png\",\"contentType\":\"image/png\",\"width\":15,\"height\":15}\n",
    "professional_symbol = {\"angle\":0,\"xoffset\":0,\"yoffset\":0,\"type\":\"esriPMS\",\"url\":\"http://static.arcgis.com/images/Symbols/PeoplePlaces/esriBusinessMarker_64_Yellow.png\",\"contentType\":\"image/png\",\"width\":10,\"height\":10}\n",
    "parks_symbol = {\"angle\":0,\"xoffset\":0,\"yoffset\":0,\"type\":\"esriPMS\",\"url\":\"http://static.arcgis.com/images/Symbols/OutdoorRecreation/RestArea.png\",\"contentType\":\"image/png\",\"width\":10,\"height\":10}\n",
    "education_symbol = {\"angle\":0,\"xoffset\":0,\"yoffset\":0,\"type\":\"esriPMS\",\"url\":\"http://static.arcgis.com/images/Symbols/PeoplePlaces/Note.png\",\"contentType\":\"image/png\",\"width\":10,\"height\":10}\n",
    "arts_symbol = {\"angle\":0,\"xoffset\":0,\"yoffset\":0,\"type\":\"esriPMS\",\"url\":\"http://static.arcgis.com/images/Symbols/PeoplePlaces/LiveShow.png\",\"contentType\":\"image/png\",\"width\":12,\"height\":12}\n",
    "destination_symbol = {\"angle\":0,\"xoffset\":0,\"yoffset\":12,\"type\":\"esriPMS\",\"url\":\"http://static.arcgis.com/images/Symbols/Basic/RedStickpin.png\",\"contentType\":\"image/png\",\"width\":24,\"height\":24}\n",
    "fill_symbol = {\"type\": \"esriSFS\",\"style\": \"esriSFSNull\",\n",
    "               \"outline\":{\"color\": [255,0,0,255]}}\n",
    "\n",
    "fill_symbol2 = {\"type\": \"esriSFS\",\"style\": \"esriSFSNull\",\n",
    "               \"outline\":{\"color\": [0,0,0,255]}}\n",
    "\n",
    "route_symbol = {\"type\": \"esriSLS\",\"style\": \"esriSLSSolid\",\n",
    "                \"color\": [0, 120, 255, 255],\"width\": 1.5}"
   ]
  },
  {
   "cell_type": "markdown",
   "metadata": {
    "slideshow": {
     "slide_type": "skip"
    }
   },
   "source": [
    "### Get 5 mile extent around the property of interest"
   ]
  },
  {
   "cell_type": "code",
   "execution_count": 7,
   "metadata": {
    "slideshow": {
     "slide_type": "skip"
    }
   },
   "outputs": [],
   "source": [
    "paddress = prop1.ADDRESS + \", \" + prop1.CITY + \", \" + prop1.STATE\n",
    "prop_geom_fset = geocode(paddress.values[0], as_featureset=True)"
   ]
  },
  {
   "cell_type": "markdown",
   "metadata": {
    "slideshow": {
     "slide_type": "skip"
    }
   },
   "source": [
    "Create an envelope around the property using its extent"
   ]
  },
  {
   "cell_type": "code",
   "execution_count": 8,
   "metadata": {
    "slideshow": {
     "slide_type": "skip"
    }
   },
   "outputs": [
    {
     "data": {
      "text/plain": [
       "{'x': -122.81532305026238,\n",
       " 'y': 45.54674878544642,\n",
       " 'spatialReference': {'wkid': 4326, 'latestWkid': 4326}}"
      ]
     },
     "execution_count": 8,
     "metadata": {},
     "output_type": "execute_result"
    }
   ],
   "source": [
    "prop_geom = prop_geom_fset.features[0]\n",
    "prop_geom.geometry"
   ]
  },
  {
   "cell_type": "code",
   "execution_count": 9,
   "metadata": {
    "slideshow": {
     "slide_type": "skip"
    }
   },
   "outputs": [],
   "source": [
    "prop_geom = prop_geom_fset.features[0]\n",
    "prop_buffer = buffer([prop_geom.geometry], \n",
    "                     in_sr = 102100, buffer_sr=102100,\n",
    "                     distances=0.05, unit=9001)[0]\n",
    "\n",
    "prop_buffer_f = Feature(geometry=prop_buffer)\n",
    "prop_buffer_fset = FeatureSet([prop_buffer_f])"
   ]
  },
  {
   "cell_type": "markdown",
   "metadata": {
    "slideshow": {
     "slide_type": "subslide"
    }
   },
   "source": [
    "### Plot house and buffer on map"
   ]
  },
  {
   "cell_type": "code",
   "execution_count": 10,
   "metadata": {
    "scrolled": false,
    "slideshow": {
     "slide_type": "fragment"
    }
   },
   "outputs": [
    {
     "data": {
      "application/vnd.jupyter.widget-view+json": {
       "model_id": "d047c74070214a459950c039b52af659",
       "version_major": 2,
       "version_minor": 0
      },
      "text/plain": [
       "MapView(basemap='gray', layout=Layout(height='400px', width='100%'))"
      ]
     },
     "metadata": {},
     "output_type": "display_data"
    }
   ],
   "source": [
    "pdx_map = gis.map('Portland, OR')\n",
    "pdx_map.basemap='gray'\n",
    "pdx_map"
   ]
  },
  {
   "cell_type": "markdown",
   "metadata": {},
   "source": [
    "![](resources/map12.png)"
   ]
  },
  {
   "cell_type": "code",
   "execution_count": 11,
   "metadata": {
    "slideshow": {
     "slide_type": "skip"
    }
   },
   "outputs": [],
   "source": [
    "pdx_map.draw(prop_buffer_fset, symbol=fill_symbol2)\n",
    "pdx_map.draw(prop_geom_fset, symbol=house_symbol)"
   ]
  },
  {
   "cell_type": "markdown",
   "metadata": {
    "slideshow": {
     "slide_type": "skip"
    }
   },
   "source": [
    "## Geocode for facilities\n",
    "We use the ArcGIS Geocoding service to search for facilities around this house\n",
    "\n",
    "### Groceries"
   ]
  },
  {
   "cell_type": "code",
   "execution_count": 15,
   "metadata": {},
   "outputs": [],
   "source": [
    "neighborhood_data_dict = {}"
   ]
  },
  {
   "cell_type": "code",
   "execution_count": 16,
   "metadata": {
    "slideshow": {
     "slide_type": "skip"
    }
   },
   "outputs": [],
   "source": [
    "groceries = geocode('groceries', search_extent=prop_buffer.extent, \n",
    "                    max_locations=20, as_featureset=True)\n",
    "neighborhood_data_dict['groceries'] = []\n",
    "\n",
    "for place in groceries:\n",
    "    popup={\"title\" : place.attributes['PlaceName'], \n",
    "    \"content\" : place.attributes['Place_addr']}\n",
    "    pdx_map.draw(place.geometry, symbol=grocery_symbol, popup=popup)\n",
    "    neighborhood_data_dict['groceries'].append(place.attributes['PlaceName'])"
   ]
  },
  {
   "cell_type": "markdown",
   "metadata": {
    "slideshow": {
     "slide_type": "subslide"
    }
   },
   "source": [
    "We will geocode for the following facilities within the said `5` mile buffer.\n",
    "\n",
    "    Groceries\n",
    "    Restaurants\n",
    "    Hospitals\n",
    "    Coffee shops\n",
    "    Bars\n",
    "    Gas stations\n",
    "    Shops and service\n",
    "    Travel and transport\n",
    "    Parks and outdoors\n",
    "    Education"
   ]
  },
  {
   "cell_type": "markdown",
   "metadata": {
    "slideshow": {
     "slide_type": "skip"
    }
   },
   "source": [
    "###  Restaurants"
   ]
  },
  {
   "cell_type": "code",
   "execution_count": 48,
   "metadata": {
    "slideshow": {
     "slide_type": "subslide"
    }
   },
   "outputs": [
    {
     "data": {
      "application/vnd.jupyter.widget-view+json": {
       "model_id": "c0f5d85280c046d78d5520013e1e2416",
       "version_major": 2,
       "version_minor": 0
      },
      "text/plain": [
       "MapView(basemap='gray', layout=Layout(height='400px', width='100%'))"
      ]
     },
     "metadata": {},
     "output_type": "display_data"
    }
   ],
   "source": [
    "pdx_map2 = gis.map('Portland, OR')\n",
    "pdx_map2.basemap='gray'\n",
    "pdx_map2"
   ]
  },
  {
   "cell_type": "markdown",
   "metadata": {
    "slideshow": {
     "slide_type": "skip"
    }
   },
   "source": [
    "![](resources/map8.png)"
   ]
  },
  {
   "cell_type": "markdown",
   "metadata": {
    "slideshow": {
     "slide_type": "skip"
    }
   },
   "source": [
    "![](resources/map9.png)"
   ]
  },
  {
   "cell_type": "markdown",
   "metadata": {
    "slideshow": {
     "slide_type": "skip"
    }
   },
   "source": [
    "![](resources/map10.png)"
   ]
  },
  {
   "cell_type": "code",
   "execution_count": 59,
   "metadata": {
    "slideshow": {
     "slide_type": "skip"
    }
   },
   "outputs": [],
   "source": [
    "pdx_map2.draw(prop_buffer_fset, symbol=fill_symbol2)\n",
    "pdx_map2.draw(prop_geom_fset, symbol=house_symbol)"
   ]
  },
  {
   "cell_type": "code",
   "execution_count": 21,
   "metadata": {
    "slideshow": {
     "slide_type": "skip"
    }
   },
   "outputs": [],
   "source": [
    "restaurants = geocode('restaurant', search_extent=prop_buffer.extent, max_locations=200)\n",
    "neighborhood_data_dict['restauruants'] = []\n",
    "\n",
    "for place in restaurants:\n",
    "    popup={\"title\" : place['attributes']['PlaceName'], \n",
    "    \"content\" : place['attributes']['Place_addr']}\n",
    "    pdx_map2.draw(place['location'], symbol=restaurant_symbol, popup=popup)\n",
    "    neighborhood_data_dict['restauruants'].append(place['attributes']['PlaceName'])"
   ]
  },
  {
   "cell_type": "markdown",
   "metadata": {
    "slideshow": {
     "slide_type": "skip"
    }
   },
   "source": [
    "### Hospitals"
   ]
  },
  {
   "cell_type": "code",
   "execution_count": 51,
   "metadata": {
    "slideshow": {
     "slide_type": "skip"
    }
   },
   "outputs": [],
   "source": [
    "hospitals = geocode('hospital', search_extent=prop_buffer.extent, max_locations=50)\n",
    "neighborhood_data_dict['hospitals'] = []\n",
    "\n",
    "for place in hospitals:\n",
    "    popup={\"title\" : place['attributes']['PlaceName'], \n",
    "    \"content\" : place['attributes']['Place_addr']}\n",
    "    pdx_map2.draw(place['location'], symbol=hospital_symbol, popup=popup)\n",
    "    neighborhood_data_dict['hospitals'].append(place['attributes']['PlaceName'])"
   ]
  },
  {
   "cell_type": "markdown",
   "metadata": {
    "slideshow": {
     "slide_type": "skip"
    }
   },
   "source": [
    "### Coffee shops"
   ]
  },
  {
   "cell_type": "code",
   "execution_count": 52,
   "metadata": {
    "slideshow": {
     "slide_type": "skip"
    }
   },
   "outputs": [],
   "source": [
    "coffees = geocode('coffee', search_extent=prop_buffer.extent, max_locations=50)\n",
    "neighborhood_data_dict['coffees'] = []\n",
    "\n",
    "for place in coffees:\n",
    "    popup={\"title\" : place['attributes']['PlaceName'], \n",
    "    \"content\" : place['attributes']['Place_addr']}\n",
    "    pdx_map2.draw(place['location'], symbol=coffee_symbol, popup=popup)\n",
    "    neighborhood_data_dict['coffees'].append(place['attributes']['PlaceName'])"
   ]
  },
  {
   "cell_type": "markdown",
   "metadata": {
    "slideshow": {
     "slide_type": "skip"
    }
   },
   "source": [
    "### Bars"
   ]
  },
  {
   "cell_type": "code",
   "execution_count": 53,
   "metadata": {
    "slideshow": {
     "slide_type": "skip"
    }
   },
   "outputs": [],
   "source": [
    "bars = geocode('bar', search_extent=prop_buffer.extent, max_locations=50)\n",
    "neighborhood_data_dict['bars'] = []\n",
    "\n",
    "for place in bars:\n",
    "    popup={\"title\" : place['attributes']['PlaceName'], \n",
    "    \"content\" : place['attributes']['Place_addr']}\n",
    "    pdx_map2.draw(place['location'], symbol=bar_symbol, popup=popup)\n",
    "    neighborhood_data_dict['bars'].append(place['attributes']['PlaceName'])"
   ]
  },
  {
   "cell_type": "markdown",
   "metadata": {
    "slideshow": {
     "slide_type": "skip"
    }
   },
   "source": [
    "### Gas stations"
   ]
  },
  {
   "cell_type": "code",
   "execution_count": 54,
   "metadata": {
    "slideshow": {
     "slide_type": "skip"
    }
   },
   "outputs": [],
   "source": [
    "gas = geocode('gas station', search_extent=prop_buffer.extent, max_locations=50)\n",
    "neighborhood_data_dict['gas'] = []\n",
    "\n",
    "for place in gas:\n",
    "    popup={\"title\" : place['attributes']['PlaceName'], \n",
    "    \"content\" : place['attributes']['Place_addr']}\n",
    "    pdx_map2.draw(place['location'], symbol=gas_symbol, popup=popup)\n",
    "    neighborhood_data_dict['gas'].append(place['attributes']['PlaceName'])"
   ]
  },
  {
   "cell_type": "markdown",
   "metadata": {
    "slideshow": {
     "slide_type": "skip"
    }
   },
   "source": [
    "###  Shops and service"
   ]
  },
  {
   "cell_type": "code",
   "execution_count": 55,
   "metadata": {
    "slideshow": {
     "slide_type": "skip"
    }
   },
   "outputs": [],
   "source": [
    "shops_service = geocode(\"\",category='shops and service', search_extent=prop_buffer.extent, max_locations=50)\n",
    "neighborhood_data_dict['shops'] = []\n",
    "\n",
    "for place in shops_service:\n",
    "    popup={\"title\" : place['attributes']['PlaceName'], \n",
    "    \"content\" : place['attributes']['Place_addr']}\n",
    "    pdx_map2.draw(place['location'], symbol=shops_service_symbol, popup=popup)\n",
    "    neighborhood_data_dict['shops'].append(place['attributes']['PlaceName'])"
   ]
  },
  {
   "cell_type": "markdown",
   "metadata": {
    "slideshow": {
     "slide_type": "skip"
    }
   },
   "source": [
    "### Travel and transport"
   ]
  },
  {
   "cell_type": "code",
   "execution_count": 56,
   "metadata": {
    "slideshow": {
     "slide_type": "skip"
    }
   },
   "outputs": [],
   "source": [
    "transport = geocode(\"\",category='travel and transport', search_extent=prop_buffer.extent, max_locations=50)\n",
    "neighborhood_data_dict['transport'] = []\n",
    "\n",
    "for place in transport:\n",
    "    popup={\"title\" : place['attributes']['PlaceName'], \n",
    "    \"content\" : place['attributes']['Place_addr']}\n",
    "    pdx_map2.draw(place['location'], symbol=transport_symbol, popup=popup)\n",
    "    neighborhood_data_dict['transport'].append(place['attributes']['PlaceName'])"
   ]
  },
  {
   "cell_type": "markdown",
   "metadata": {
    "slideshow": {
     "slide_type": "skip"
    }
   },
   "source": [
    "### Parks and outdoors"
   ]
  },
  {
   "cell_type": "code",
   "execution_count": 57,
   "metadata": {
    "slideshow": {
     "slide_type": "skip"
    }
   },
   "outputs": [],
   "source": [
    "parks = geocode(\"\",category='parks and outdoors', search_extent=prop_buffer.extent, max_locations=50)\n",
    "neighborhood_data_dict['parks'] = []\n",
    "\n",
    "for place in parks:\n",
    "    popup={\"title\" : place['attributes']['PlaceName'], \n",
    "    \"content\" : place['attributes']['Place_addr']}\n",
    "    pdx_map2.draw(place['location'], symbol=parks_symbol, popup=popup)\n",
    "    neighborhood_data_dict['parks'].append(place['attributes']['PlaceName'])"
   ]
  },
  {
   "cell_type": "markdown",
   "metadata": {
    "slideshow": {
     "slide_type": "skip"
    }
   },
   "source": [
    "###  Education"
   ]
  },
  {
   "cell_type": "code",
   "execution_count": 58,
   "metadata": {
    "slideshow": {
     "slide_type": "skip"
    }
   },
   "outputs": [],
   "source": [
    "education = geocode(\"\",category='education', search_extent=prop_buffer.extent, max_locations=50)\n",
    "neighborhood_data_dict['education'] = []\n",
    "\n",
    "for place in education:\n",
    "    popup={\"title\" : place['attributes']['PlaceName'], \n",
    "    \"content\" : place['attributes']['Place_addr']}\n",
    "    pdx_map2.draw(place['location'], symbol=education_symbol, popup=popup)\n",
    "    neighborhood_data_dict['education'].append(place['attributes']['PlaceName'])"
   ]
  },
  {
   "cell_type": "markdown",
   "metadata": {
    "slideshow": {
     "slide_type": "subslide"
    }
   },
   "source": [
    "### Present the results in a table"
   ]
  },
  {
   "cell_type": "code",
   "execution_count": 75,
   "metadata": {
    "scrolled": true,
    "slideshow": {
     "slide_type": "fragment"
    }
   },
   "outputs": [
    {
     "data": {
      "text/html": [
       "<div>\n",
       "<style scoped>\n",
       "    .dataframe tbody tr th:only-of-type {\n",
       "        vertical-align: middle;\n",
       "    }\n",
       "\n",
       "    .dataframe tbody tr th {\n",
       "        vertical-align: top;\n",
       "    }\n",
       "\n",
       "    .dataframe thead th {\n",
       "        text-align: right;\n",
       "    }\n",
       "</style>\n",
       "<table border=\"1\" class=\"dataframe\">\n",
       "  <thead>\n",
       "    <tr style=\"text-align: right;\">\n",
       "      <th></th>\n",
       "      <th>groceries</th>\n",
       "      <th>restauruants</th>\n",
       "      <th>hospitals</th>\n",
       "      <th>coffees</th>\n",
       "      <th>bars</th>\n",
       "      <th>gas</th>\n",
       "      <th>shops</th>\n",
       "      <th>transport</th>\n",
       "      <th>parks</th>\n",
       "      <th>education</th>\n",
       "    </tr>\n",
       "  </thead>\n",
       "  <tbody>\n",
       "    <tr>\n",
       "      <th>0</th>\n",
       "      <td>Bales Market Place</td>\n",
       "      <td>Coffee. Cup</td>\n",
       "      <td>Providence St Vincent Medical Center-ER</td>\n",
       "      <td>Coffee. Cup</td>\n",
       "      <td>None</td>\n",
       "      <td>Shell</td>\n",
       "      <td>Anderson Towing &amp; Recovery</td>\n",
       "      <td>MAX-Elmonica &amp; SW 170th Ave</td>\n",
       "      <td>Jqay House Park</td>\n",
       "      <td>Portland Community College-Rock Creek</td>\n",
       "    </tr>\n",
       "    <tr>\n",
       "      <th>1</th>\n",
       "      <td>Safeway</td>\n",
       "      <td>Papa Murphy's</td>\n",
       "      <td>Providence St Vincent Medical Center</td>\n",
       "      <td>Starbucks</td>\n",
       "      <td>None</td>\n",
       "      <td>ARCO</td>\n",
       "      <td>Bassitt Auto Co</td>\n",
       "      <td>Powder Lodging</td>\n",
       "      <td>Jackie Husen Park</td>\n",
       "      <td>Cedar Mill Elementary School</td>\n",
       "    </tr>\n",
       "    <tr>\n",
       "      <th>2</th>\n",
       "      <td>QFC</td>\n",
       "      <td>Tilly's Gelato</td>\n",
       "      <td>None</td>\n",
       "      <td>Starbucks</td>\n",
       "      <td>None</td>\n",
       "      <td>76</td>\n",
       "      <td>Cottman Transmission</td>\n",
       "      <td>Homestead Studio Suites-Beaverton</td>\n",
       "      <td>The Bluffs</td>\n",
       "      <td>Goddard School</td>\n",
       "    </tr>\n",
       "    <tr>\n",
       "      <th>3</th>\n",
       "      <td>Dinihanian's Farm Market</td>\n",
       "      <td>Oak Hills Brew Pub</td>\n",
       "      <td>None</td>\n",
       "      <td>Poppa's Haven</td>\n",
       "      <td>None</td>\n",
       "      <td>Costco</td>\n",
       "      <td>Powell Paint Center</td>\n",
       "      <td>MAX-Sunset TC</td>\n",
       "      <td>Bonny Slope Park</td>\n",
       "      <td>St Pius X Elementary School</td>\n",
       "    </tr>\n",
       "    <tr>\n",
       "      <th>4</th>\n",
       "      <td>Walmart Neighborhood Market</td>\n",
       "      <td>Starbucks</td>\n",
       "      <td>None</td>\n",
       "      <td>Tazza Cafe</td>\n",
       "      <td>None</td>\n",
       "      <td>76</td>\n",
       "      <td>Retied</td>\n",
       "      <td>MAX-Merlo &amp; SW 158th Ave</td>\n",
       "      <td>Burton Park</td>\n",
       "      <td>Terra Linda Elementary School</td>\n",
       "    </tr>\n",
       "    <tr>\n",
       "      <th>5</th>\n",
       "      <td>India Supermarket</td>\n",
       "      <td>Starbucks</td>\n",
       "      <td>None</td>\n",
       "      <td>Laughing Planet Cafe</td>\n",
       "      <td>None</td>\n",
       "      <td>Fred Meyer Fuel Center</td>\n",
       "      <td>Chrisman's Picture Frame &amp; Gallery</td>\n",
       "      <td>MAX-Beaverton Creek</td>\n",
       "      <td>Lost Park</td>\n",
       "      <td>Montessori School of Beaverton</td>\n",
       "    </tr>\n",
       "    <tr>\n",
       "      <th>6</th>\n",
       "      <td>Apna Bazaar</td>\n",
       "      <td>Chiam</td>\n",
       "      <td>None</td>\n",
       "      <td>Coffee Renaissance</td>\n",
       "      <td>None</td>\n",
       "      <td>Chevron</td>\n",
       "      <td>Team Uniforms</td>\n",
       "      <td>Rodeway Inn &amp; Suites-Portland</td>\n",
       "      <td>Terra Linda Park</td>\n",
       "      <td>A Childs Way Kindergarten</td>\n",
       "    </tr>\n",
       "    <tr>\n",
       "      <th>7</th>\n",
       "      <td>Fred Meyer</td>\n",
       "      <td>Bandito Taco</td>\n",
       "      <td>None</td>\n",
       "      <td>Starbucks</td>\n",
       "      <td>None</td>\n",
       "      <td>Chevron</td>\n",
       "      <td>T-Mobile</td>\n",
       "      <td>Doubletree-Beaverton</td>\n",
       "      <td>Jordan Park</td>\n",
       "      <td>Christ United Methodist Preschool</td>\n",
       "    </tr>\n",
       "    <tr>\n",
       "      <th>8</th>\n",
       "      <td>Albertsons</td>\n",
       "      <td>Chipotle</td>\n",
       "      <td>None</td>\n",
       "      <td>Bowl &amp; Berry</td>\n",
       "      <td>None</td>\n",
       "      <td>76</td>\n",
       "      <td>Holistic Pet</td>\n",
       "      <td>Hilton Garden Inn-Beaverton</td>\n",
       "      <td>Cedar Mill Woods Park</td>\n",
       "      <td>Cornell Children's Village Day Sch</td>\n",
       "    </tr>\n",
       "    <tr>\n",
       "      <th>9</th>\n",
       "      <td>WinCo Foods</td>\n",
       "      <td>Bollywood Bites</td>\n",
       "      <td>None</td>\n",
       "      <td>Taiwan Eats</td>\n",
       "      <td>None</td>\n",
       "      <td>Shell</td>\n",
       "      <td>Shell</td>\n",
       "      <td>Fairfield Inn &amp; Suites-Beaverton</td>\n",
       "      <td>Cedar Mill Park</td>\n",
       "      <td>Catlin Gabel School</td>\n",
       "    </tr>\n",
       "    <tr>\n",
       "      <th>10</th>\n",
       "      <td>Plaid Pantry</td>\n",
       "      <td>Pizza Schmizza</td>\n",
       "      <td>None</td>\n",
       "      <td>Starbucks</td>\n",
       "      <td>None</td>\n",
       "      <td>76</td>\n",
       "      <td>Mike's Auto Parts</td>\n",
       "      <td>Homewood Suites-Hillsboro Beaverton</td>\n",
       "      <td>Roger Tilbury Memorial Park</td>\n",
       "      <td>West Tualatin View Elementary Sch</td>\n",
       "    </tr>\n",
       "    <tr>\n",
       "      <th>11</th>\n",
       "      <td>Target</td>\n",
       "      <td>Wan Q Restaurant</td>\n",
       "      <td>None</td>\n",
       "      <td>Bethany Public House</td>\n",
       "      <td>None</td>\n",
       "      <td>Shell</td>\n",
       "      <td>Kaady Car Wash</td>\n",
       "      <td>Poehler Airport</td>\n",
       "      <td>Merritt Orchard Park</td>\n",
       "      <td>Beaver Acres Elementary School</td>\n",
       "    </tr>\n",
       "    <tr>\n",
       "      <th>12</th>\n",
       "      <td>None</td>\n",
       "      <td>Shari's</td>\n",
       "      <td>None</td>\n",
       "      <td>Starbucks</td>\n",
       "      <td>None</td>\n",
       "      <td>76</td>\n",
       "      <td>7-Eleven</td>\n",
       "      <td>Park &amp; Ride-Elmonica/SW 170th Ave</td>\n",
       "      <td>Commonwealth Park</td>\n",
       "      <td>Ridgewood Elementary School</td>\n",
       "    </tr>\n",
       "    <tr>\n",
       "      <th>13</th>\n",
       "      <td>None</td>\n",
       "      <td>Ct Bistro</td>\n",
       "      <td>None</td>\n",
       "      <td>Starbucks</td>\n",
       "      <td>None</td>\n",
       "      <td>None</td>\n",
       "      <td>Motor Sports International</td>\n",
       "      <td>Park &amp; Ride-NW Cornell</td>\n",
       "      <td>Pioneer Park</td>\n",
       "      <td>William Walker Elementary School</td>\n",
       "    </tr>\n",
       "    <tr>\n",
       "      <th>14</th>\n",
       "      <td>None</td>\n",
       "      <td>McDonald's</td>\n",
       "      <td>None</td>\n",
       "      <td>Creatures of Habit Espresso &amp; Deli</td>\n",
       "      <td>None</td>\n",
       "      <td>None</td>\n",
       "      <td>Bank of America</td>\n",
       "      <td>Park &amp; Ride-Sunset TRANSIT Center</td>\n",
       "      <td>Peppertree Park</td>\n",
       "      <td>Meadow Park Middle School</td>\n",
       "    </tr>\n",
       "    <tr>\n",
       "      <th>15</th>\n",
       "      <td>None</td>\n",
       "      <td>Pizzicato Westside</td>\n",
       "      <td>None</td>\n",
       "      <td>Starbucks</td>\n",
       "      <td>None</td>\n",
       "      <td>None</td>\n",
       "      <td>Bales Market Place</td>\n",
       "      <td>Park &amp; Ride-Beaverton Creek</td>\n",
       "      <td>Claremont Golf Course</td>\n",
       "      <td>Pasitos Spanish School</td>\n",
       "    </tr>\n",
       "    <tr>\n",
       "      <th>16</th>\n",
       "      <td>None</td>\n",
       "      <td>Lejoi Cafe</td>\n",
       "      <td>None</td>\n",
       "      <td>Coffee Rush</td>\n",
       "      <td>None</td>\n",
       "      <td>None</td>\n",
       "      <td>US Bank</td>\n",
       "      <td>Park &amp; Ride-Cedar Hills Church</td>\n",
       "      <td>Kaiser Woods Park</td>\n",
       "      <td>Holy Trinity Elementary School</td>\n",
       "    </tr>\n",
       "    <tr>\n",
       "      <th>17</th>\n",
       "      <td>None</td>\n",
       "      <td>Ichiban Japanese</td>\n",
       "      <td>None</td>\n",
       "      <td>Starbucks</td>\n",
       "      <td>None</td>\n",
       "      <td>None</td>\n",
       "      <td>Dufresne's Auto Service</td>\n",
       "      <td>Dock</td>\n",
       "      <td>Bethany Meadows Park</td>\n",
       "      <td>Barnes Elementary School</td>\n",
       "    </tr>\n",
       "    <tr>\n",
       "      <th>18</th>\n",
       "      <td>None</td>\n",
       "      <td>Mac's Market &amp; Deli</td>\n",
       "      <td>None</td>\n",
       "      <td>None</td>\n",
       "      <td>None</td>\n",
       "      <td>None</td>\n",
       "      <td>US Bank</td>\n",
       "      <td>Dock</td>\n",
       "      <td>Kaiser Ridge Park</td>\n",
       "      <td>Shiny Sparkles Montessori</td>\n",
       "    </tr>\n",
       "    <tr>\n",
       "      <th>19</th>\n",
       "      <td>None</td>\n",
       "      <td>SUBWAY</td>\n",
       "      <td>None</td>\n",
       "      <td>None</td>\n",
       "      <td>None</td>\n",
       "      <td>None</td>\n",
       "      <td>Bank of America</td>\n",
       "      <td>Fred Meyer</td>\n",
       "      <td>Morgans Run Park</td>\n",
       "      <td>Stoller Middle School</td>\n",
       "    </tr>\n",
       "    <tr>\n",
       "      <th>20</th>\n",
       "      <td>None</td>\n",
       "      <td>Salars Mediterranean Grill</td>\n",
       "      <td>None</td>\n",
       "      <td>None</td>\n",
       "      <td>None</td>\n",
       "      <td>None</td>\n",
       "      <td>Ace Hardware</td>\n",
       "      <td>Dock</td>\n",
       "      <td>West Union Estates Park</td>\n",
       "      <td>Findley Elementary</td>\n",
       "    </tr>\n",
       "    <tr>\n",
       "      <th>21</th>\n",
       "      <td>None</td>\n",
       "      <td>Poppa's Haven</td>\n",
       "      <td>None</td>\n",
       "      <td>None</td>\n",
       "      <td>None</td>\n",
       "      <td>None</td>\n",
       "      <td>Du Fresne's Auto Repair</td>\n",
       "      <td>Dock</td>\n",
       "      <td>College Park</td>\n",
       "      <td>Kindercare Learning Center</td>\n",
       "    </tr>\n",
       "    <tr>\n",
       "      <th>22</th>\n",
       "      <td>None</td>\n",
       "      <td>Papa John's</td>\n",
       "      <td>None</td>\n",
       "      <td>None</td>\n",
       "      <td>None</td>\n",
       "      <td>None</td>\n",
       "      <td>Jiffy Lube</td>\n",
       "      <td>Dock</td>\n",
       "      <td>Northeast Neighborhood Park</td>\n",
       "      <td>Westview Senior High School</td>\n",
       "    </tr>\n",
       "    <tr>\n",
       "      <th>23</th>\n",
       "      <td>None</td>\n",
       "      <td>Tazza Cafe</td>\n",
       "      <td>None</td>\n",
       "      <td>None</td>\n",
       "      <td>None</td>\n",
       "      <td>None</td>\n",
       "      <td>Wells Fargo</td>\n",
       "      <td>Dock</td>\n",
       "      <td>Ben Graf Park</td>\n",
       "      <td>Beaverton School</td>\n",
       "    </tr>\n",
       "    <tr>\n",
       "      <th>24</th>\n",
       "      <td>None</td>\n",
       "      <td>Teriyaki Beef Bowl</td>\n",
       "      <td>None</td>\n",
       "      <td>None</td>\n",
       "      <td>None</td>\n",
       "      <td>None</td>\n",
       "      <td>Walgreens</td>\n",
       "      <td>1-1</td>\n",
       "      <td>Spyglass Park</td>\n",
       "      <td>Sweet Peas Kidzone</td>\n",
       "    </tr>\n",
       "    <tr>\n",
       "      <th>25</th>\n",
       "      <td>None</td>\n",
       "      <td>China Rim</td>\n",
       "      <td>None</td>\n",
       "      <td>None</td>\n",
       "      <td>None</td>\n",
       "      <td>None</td>\n",
       "      <td>Wells Fargo</td>\n",
       "      <td>Exit 67/Murray Blvd/E</td>\n",
       "      <td>Stoller Farms Park</td>\n",
       "      <td>La Petite Academy</td>\n",
       "    </tr>\n",
       "    <tr>\n",
       "      <th>26</th>\n",
       "      <td>None</td>\n",
       "      <td>SUBWAY</td>\n",
       "      <td>None</td>\n",
       "      <td>None</td>\n",
       "      <td>None</td>\n",
       "      <td>None</td>\n",
       "      <td>Safeway</td>\n",
       "      <td>Exit 65/Bethany Blvd/E</td>\n",
       "      <td>Emerald Estates Park</td>\n",
       "      <td>Oak Hills Elementary School</td>\n",
       "    </tr>\n",
       "    <tr>\n",
       "      <th>27</th>\n",
       "      <td>None</td>\n",
       "      <td>Dairy Queen</td>\n",
       "      <td>None</td>\n",
       "      <td>None</td>\n",
       "      <td>None</td>\n",
       "      <td>None</td>\n",
       "      <td>Team Uniforms</td>\n",
       "      <td>Exit 67/Murray Blvd/W</td>\n",
       "      <td>Serah Lindsay Estates Park</td>\n",
       "      <td>Bethany Elementary School</td>\n",
       "    </tr>\n",
       "    <tr>\n",
       "      <th>28</th>\n",
       "      <td>None</td>\n",
       "      <td>Si Senor Mexican Restaurant</td>\n",
       "      <td>None</td>\n",
       "      <td>None</td>\n",
       "      <td>None</td>\n",
       "      <td>None</td>\n",
       "      <td>Xpressolube</td>\n",
       "      <td>Exit 69B/Park Way/W</td>\n",
       "      <td>Quarry Park</td>\n",
       "      <td>Kids of the Kingdom</td>\n",
       "    </tr>\n",
       "    <tr>\n",
       "      <th>29</th>\n",
       "      <td>None</td>\n",
       "      <td>Laughing Planet Cafe</td>\n",
       "      <td>None</td>\n",
       "      <td>None</td>\n",
       "      <td>None</td>\n",
       "      <td>None</td>\n",
       "      <td>Mike's Auto Parts</td>\n",
       "      <td>Exit 68/Cedar Hills Blvd/W</td>\n",
       "      <td>Springville Meadows Park</td>\n",
       "      <td>Elmonica Elementary School</td>\n",
       "    </tr>\n",
       "    <tr>\n",
       "      <th>30</th>\n",
       "      <td>None</td>\n",
       "      <td>Pizza Schmizza</td>\n",
       "      <td>None</td>\n",
       "      <td>None</td>\n",
       "      <td>None</td>\n",
       "      <td>None</td>\n",
       "      <td>SHERWIN-WILLIAMS</td>\n",
       "      <td>Tillamook/N</td>\n",
       "      <td>Skyview Park</td>\n",
       "      <td>Touchstone School</td>\n",
       "    </tr>\n",
       "    <tr>\n",
       "      <th>31</th>\n",
       "      <td>None</td>\n",
       "      <td>Bleachers</td>\n",
       "      <td>None</td>\n",
       "      <td>None</td>\n",
       "      <td>None</td>\n",
       "      <td>None</td>\n",
       "      <td>Pet Barn</td>\n",
       "      <td>Exit 65/Cornell Rd/W</td>\n",
       "      <td>John Marty Park</td>\n",
       "      <td>Five Oaks Middle School</td>\n",
       "    </tr>\n",
       "    <tr>\n",
       "      <th>32</th>\n",
       "      <td>None</td>\n",
       "      <td>Tazza Cafe</td>\n",
       "      <td>None</td>\n",
       "      <td>None</td>\n",
       "      <td>None</td>\n",
       "      <td>None</td>\n",
       "      <td>Rock It Resell</td>\n",
       "      <td>Exit 69B/Cedar Hills/E</td>\n",
       "      <td>George W Otten Park</td>\n",
       "      <td>Pacific Academy</td>\n",
       "    </tr>\n",
       "    <tr>\n",
       "      <th>33</th>\n",
       "      <td>None</td>\n",
       "      <td>Bowl &amp; Berry</td>\n",
       "      <td>None</td>\n",
       "      <td>None</td>\n",
       "      <td>None</td>\n",
       "      <td>None</td>\n",
       "      <td>Baby &amp; Me</td>\n",
       "      <td>Exit 68/Cedar Hills Blvd/E</td>\n",
       "      <td>Somerset Meadows Park</td>\n",
       "      <td>Merlo Station High School</td>\n",
       "    </tr>\n",
       "    <tr>\n",
       "      <th>34</th>\n",
       "      <td>None</td>\n",
       "      <td>Sweet Lemon Vegetarian Bistro</td>\n",
       "      <td>None</td>\n",
       "      <td>None</td>\n",
       "      <td>None</td>\n",
       "      <td>None</td>\n",
       "      <td>Cedar Mill Home Theater</td>\n",
       "      <td>Exit 1/Walker Rd/S</td>\n",
       "      <td>Oak Hills Park</td>\n",
       "      <td>Kinder Prep Private Preschool</td>\n",
       "    </tr>\n",
       "    <tr>\n",
       "      <th>35</th>\n",
       "      <td>None</td>\n",
       "      <td>Juan Colorado</td>\n",
       "      <td>None</td>\n",
       "      <td>None</td>\n",
       "      <td>None</td>\n",
       "      <td>None</td>\n",
       "      <td>Dollar Tree</td>\n",
       "      <td>Exit 64/185th Ave/W</td>\n",
       "      <td>Bronson Creek Park</td>\n",
       "      <td>Prince of Peace Lutheran Preschool</td>\n",
       "    </tr>\n",
       "    <tr>\n",
       "      <th>36</th>\n",
       "      <td>None</td>\n",
       "      <td>Taiwan Eats</td>\n",
       "      <td>None</td>\n",
       "      <td>None</td>\n",
       "      <td>None</td>\n",
       "      <td>None</td>\n",
       "      <td>Sunset Science Park Federal CU</td>\n",
       "      <td>None</td>\n",
       "      <td>Autumn Ridge Park</td>\n",
       "      <td>Sunset High School</td>\n",
       "    </tr>\n",
       "    <tr>\n",
       "      <th>37</th>\n",
       "      <td>None</td>\n",
       "      <td>Taiwan Eats</td>\n",
       "      <td>None</td>\n",
       "      <td>None</td>\n",
       "      <td>None</td>\n",
       "      <td>None</td>\n",
       "      <td>Sunset Science Park Federal CU</td>\n",
       "      <td>None</td>\n",
       "      <td>Apollo Ridge Park</td>\n",
       "      <td>Cedar Hills Kindercare</td>\n",
       "    </tr>\n",
       "    <tr>\n",
       "      <th>38</th>\n",
       "      <td>None</td>\n",
       "      <td>Cackalack's Hot Chicken Shack</td>\n",
       "      <td>None</td>\n",
       "      <td>None</td>\n",
       "      <td>None</td>\n",
       "      <td>None</td>\n",
       "      <td>Dennis Market</td>\n",
       "      <td>None</td>\n",
       "      <td>Willow Creek Nature Park</td>\n",
       "      <td>Northwest Montessori School</td>\n",
       "    </tr>\n",
       "    <tr>\n",
       "      <th>39</th>\n",
       "      <td>None</td>\n",
       "      <td>Chen's Dynasty Restaurant</td>\n",
       "      <td>None</td>\n",
       "      <td>None</td>\n",
       "      <td>None</td>\n",
       "      <td>None</td>\n",
       "      <td>Laughing Planet Cafe</td>\n",
       "      <td>None</td>\n",
       "      <td>Dwight S Parr Jr Park</td>\n",
       "      <td>Agia Sophia Academy</td>\n",
       "    </tr>\n",
       "    <tr>\n",
       "      <th>40</th>\n",
       "      <td>None</td>\n",
       "      <td>Bethany Sushi</td>\n",
       "      <td>None</td>\n",
       "      <td>None</td>\n",
       "      <td>None</td>\n",
       "      <td>None</td>\n",
       "      <td>None</td>\n",
       "      <td>None</td>\n",
       "      <td>Moshofsky Woods Park</td>\n",
       "      <td>Learning Years Day School</td>\n",
       "    </tr>\n",
       "    <tr>\n",
       "      <th>41</th>\n",
       "      <td>None</td>\n",
       "      <td>SUBWAY</td>\n",
       "      <td>None</td>\n",
       "      <td>None</td>\n",
       "      <td>None</td>\n",
       "      <td>None</td>\n",
       "      <td>None</td>\n",
       "      <td>None</td>\n",
       "      <td>Stonegate at Willow Creek</td>\n",
       "      <td>ABC Children's Academy</td>\n",
       "    </tr>\n",
       "    <tr>\n",
       "      <th>42</th>\n",
       "      <td>None</td>\n",
       "      <td>Starbucks</td>\n",
       "      <td>None</td>\n",
       "      <td>None</td>\n",
       "      <td>None</td>\n",
       "      <td>None</td>\n",
       "      <td>None</td>\n",
       "      <td>None</td>\n",
       "      <td>Waterhouse Park</td>\n",
       "      <td>Arco Iris Spanish Immersion School</td>\n",
       "    </tr>\n",
       "    <tr>\n",
       "      <th>43</th>\n",
       "      <td>None</td>\n",
       "      <td>Bethany Public House</td>\n",
       "      <td>None</td>\n",
       "      <td>None</td>\n",
       "      <td>None</td>\n",
       "      <td>None</td>\n",
       "      <td>None</td>\n",
       "      <td>None</td>\n",
       "      <td>Sunset Park</td>\n",
       "      <td>Forest Park Elementary School</td>\n",
       "    </tr>\n",
       "    <tr>\n",
       "      <th>44</th>\n",
       "      <td>None</td>\n",
       "      <td>Bethany Public House</td>\n",
       "      <td>None</td>\n",
       "      <td>None</td>\n",
       "      <td>None</td>\n",
       "      <td>None</td>\n",
       "      <td>None</td>\n",
       "      <td>None</td>\n",
       "      <td>Foege Park</td>\n",
       "      <td>None</td>\n",
       "    </tr>\n",
       "    <tr>\n",
       "      <th>45</th>\n",
       "      <td>None</td>\n",
       "      <td>Bliss Bake Shoppe</td>\n",
       "      <td>None</td>\n",
       "      <td>None</td>\n",
       "      <td>None</td>\n",
       "      <td>None</td>\n",
       "      <td>None</td>\n",
       "      <td>None</td>\n",
       "      <td>Peterkort Village Park</td>\n",
       "      <td>None</td>\n",
       "    </tr>\n",
       "    <tr>\n",
       "      <th>46</th>\n",
       "      <td>None</td>\n",
       "      <td>Bliss Bake Shoppe</td>\n",
       "      <td>None</td>\n",
       "      <td>None</td>\n",
       "      <td>None</td>\n",
       "      <td>None</td>\n",
       "      <td>None</td>\n",
       "      <td>None</td>\n",
       "      <td>Wanda L Peck Memorial Park</td>\n",
       "      <td>None</td>\n",
       "    </tr>\n",
       "    <tr>\n",
       "      <th>47</th>\n",
       "      <td>None</td>\n",
       "      <td>Biscuits Cafe</td>\n",
       "      <td>None</td>\n",
       "      <td>None</td>\n",
       "      <td>None</td>\n",
       "      <td>None</td>\n",
       "      <td>None</td>\n",
       "      <td>None</td>\n",
       "      <td>Howard M Terpenning Complex</td>\n",
       "      <td>None</td>\n",
       "    </tr>\n",
       "    <tr>\n",
       "      <th>48</th>\n",
       "      <td>None</td>\n",
       "      <td>Koi Fusion</td>\n",
       "      <td>None</td>\n",
       "      <td>None</td>\n",
       "      <td>None</td>\n",
       "      <td>None</td>\n",
       "      <td>None</td>\n",
       "      <td>None</td>\n",
       "      <td>Forest Heights Park</td>\n",
       "      <td>None</td>\n",
       "    </tr>\n",
       "    <tr>\n",
       "      <th>49</th>\n",
       "      <td>None</td>\n",
       "      <td>Starbucks</td>\n",
       "      <td>None</td>\n",
       "      <td>None</td>\n",
       "      <td>None</td>\n",
       "      <td>None</td>\n",
       "      <td>None</td>\n",
       "      <td>None</td>\n",
       "      <td>Forest Heights City Park</td>\n",
       "      <td>None</td>\n",
       "    </tr>\n",
       "  </tbody>\n",
       "</table>\n",
       "</div>"
      ],
      "text/plain": [
       "                      groceries                   restauruants  \\\n",
       "0            Bales Market Place                    Coffee. Cup   \n",
       "1                       Safeway                  Papa Murphy's   \n",
       "2                           QFC                 Tilly's Gelato   \n",
       "3      Dinihanian's Farm Market             Oak Hills Brew Pub   \n",
       "4   Walmart Neighborhood Market                      Starbucks   \n",
       "5             India Supermarket                      Starbucks   \n",
       "6                   Apna Bazaar                          Chiam   \n",
       "7                    Fred Meyer                   Bandito Taco   \n",
       "8                    Albertsons                       Chipotle   \n",
       "9                   WinCo Foods                Bollywood Bites   \n",
       "10                 Plaid Pantry                 Pizza Schmizza   \n",
       "11                       Target               Wan Q Restaurant   \n",
       "12                         None                        Shari's   \n",
       "13                         None                      Ct Bistro   \n",
       "14                         None                     McDonald's   \n",
       "15                         None             Pizzicato Westside   \n",
       "16                         None                     Lejoi Cafe   \n",
       "17                         None               Ichiban Japanese   \n",
       "18                         None            Mac's Market & Deli   \n",
       "19                         None                         SUBWAY   \n",
       "20                         None     Salars Mediterranean Grill   \n",
       "21                         None                  Poppa's Haven   \n",
       "22                         None                    Papa John's   \n",
       "23                         None                     Tazza Cafe   \n",
       "24                         None             Teriyaki Beef Bowl   \n",
       "25                         None                      China Rim   \n",
       "26                         None                         SUBWAY   \n",
       "27                         None                    Dairy Queen   \n",
       "28                         None    Si Senor Mexican Restaurant   \n",
       "29                         None           Laughing Planet Cafe   \n",
       "30                         None                 Pizza Schmizza   \n",
       "31                         None                      Bleachers   \n",
       "32                         None                     Tazza Cafe   \n",
       "33                         None                   Bowl & Berry   \n",
       "34                         None  Sweet Lemon Vegetarian Bistro   \n",
       "35                         None                  Juan Colorado   \n",
       "36                         None                    Taiwan Eats   \n",
       "37                         None                    Taiwan Eats   \n",
       "38                         None  Cackalack's Hot Chicken Shack   \n",
       "39                         None      Chen's Dynasty Restaurant   \n",
       "40                         None                  Bethany Sushi   \n",
       "41                         None                         SUBWAY   \n",
       "42                         None                      Starbucks   \n",
       "43                         None           Bethany Public House   \n",
       "44                         None           Bethany Public House   \n",
       "45                         None              Bliss Bake Shoppe   \n",
       "46                         None              Bliss Bake Shoppe   \n",
       "47                         None                  Biscuits Cafe   \n",
       "48                         None                     Koi Fusion   \n",
       "49                         None                      Starbucks   \n",
       "\n",
       "                                  hospitals  \\\n",
       "0   Providence St Vincent Medical Center-ER   \n",
       "1      Providence St Vincent Medical Center   \n",
       "2                                      None   \n",
       "3                                      None   \n",
       "4                                      None   \n",
       "5                                      None   \n",
       "6                                      None   \n",
       "7                                      None   \n",
       "8                                      None   \n",
       "9                                      None   \n",
       "10                                     None   \n",
       "11                                     None   \n",
       "12                                     None   \n",
       "13                                     None   \n",
       "14                                     None   \n",
       "15                                     None   \n",
       "16                                     None   \n",
       "17                                     None   \n",
       "18                                     None   \n",
       "19                                     None   \n",
       "20                                     None   \n",
       "21                                     None   \n",
       "22                                     None   \n",
       "23                                     None   \n",
       "24                                     None   \n",
       "25                                     None   \n",
       "26                                     None   \n",
       "27                                     None   \n",
       "28                                     None   \n",
       "29                                     None   \n",
       "30                                     None   \n",
       "31                                     None   \n",
       "32                                     None   \n",
       "33                                     None   \n",
       "34                                     None   \n",
       "35                                     None   \n",
       "36                                     None   \n",
       "37                                     None   \n",
       "38                                     None   \n",
       "39                                     None   \n",
       "40                                     None   \n",
       "41                                     None   \n",
       "42                                     None   \n",
       "43                                     None   \n",
       "44                                     None   \n",
       "45                                     None   \n",
       "46                                     None   \n",
       "47                                     None   \n",
       "48                                     None   \n",
       "49                                     None   \n",
       "\n",
       "                               coffees  bars                     gas  \\\n",
       "0                          Coffee. Cup  None                   Shell   \n",
       "1                            Starbucks  None                    ARCO   \n",
       "2                            Starbucks  None                      76   \n",
       "3                        Poppa's Haven  None                  Costco   \n",
       "4                           Tazza Cafe  None                      76   \n",
       "5                 Laughing Planet Cafe  None  Fred Meyer Fuel Center   \n",
       "6                   Coffee Renaissance  None                 Chevron   \n",
       "7                            Starbucks  None                 Chevron   \n",
       "8                         Bowl & Berry  None                      76   \n",
       "9                          Taiwan Eats  None                   Shell   \n",
       "10                           Starbucks  None                      76   \n",
       "11                Bethany Public House  None                   Shell   \n",
       "12                           Starbucks  None                      76   \n",
       "13                           Starbucks  None                    None   \n",
       "14  Creatures of Habit Espresso & Deli  None                    None   \n",
       "15                           Starbucks  None                    None   \n",
       "16                         Coffee Rush  None                    None   \n",
       "17                           Starbucks  None                    None   \n",
       "18                                None  None                    None   \n",
       "19                                None  None                    None   \n",
       "20                                None  None                    None   \n",
       "21                                None  None                    None   \n",
       "22                                None  None                    None   \n",
       "23                                None  None                    None   \n",
       "24                                None  None                    None   \n",
       "25                                None  None                    None   \n",
       "26                                None  None                    None   \n",
       "27                                None  None                    None   \n",
       "28                                None  None                    None   \n",
       "29                                None  None                    None   \n",
       "30                                None  None                    None   \n",
       "31                                None  None                    None   \n",
       "32                                None  None                    None   \n",
       "33                                None  None                    None   \n",
       "34                                None  None                    None   \n",
       "35                                None  None                    None   \n",
       "36                                None  None                    None   \n",
       "37                                None  None                    None   \n",
       "38                                None  None                    None   \n",
       "39                                None  None                    None   \n",
       "40                                None  None                    None   \n",
       "41                                None  None                    None   \n",
       "42                                None  None                    None   \n",
       "43                                None  None                    None   \n",
       "44                                None  None                    None   \n",
       "45                                None  None                    None   \n",
       "46                                None  None                    None   \n",
       "47                                None  None                    None   \n",
       "48                                None  None                    None   \n",
       "49                                None  None                    None   \n",
       "\n",
       "                                 shops                            transport  \\\n",
       "0           Anderson Towing & Recovery          MAX-Elmonica & SW 170th Ave   \n",
       "1                      Bassitt Auto Co                       Powder Lodging   \n",
       "2                 Cottman Transmission    Homestead Studio Suites-Beaverton   \n",
       "3                  Powell Paint Center                        MAX-Sunset TC   \n",
       "4                               Retied             MAX-Merlo & SW 158th Ave   \n",
       "5   Chrisman's Picture Frame & Gallery                  MAX-Beaverton Creek   \n",
       "6                        Team Uniforms        Rodeway Inn & Suites-Portland   \n",
       "7                             T-Mobile                 Doubletree-Beaverton   \n",
       "8                         Holistic Pet          Hilton Garden Inn-Beaverton   \n",
       "9                                Shell     Fairfield Inn & Suites-Beaverton   \n",
       "10                   Mike's Auto Parts  Homewood Suites-Hillsboro Beaverton   \n",
       "11                      Kaady Car Wash                      Poehler Airport   \n",
       "12                            7-Eleven    Park & Ride-Elmonica/SW 170th Ave   \n",
       "13          Motor Sports International               Park & Ride-NW Cornell   \n",
       "14                     Bank of America    Park & Ride-Sunset TRANSIT Center   \n",
       "15                  Bales Market Place          Park & Ride-Beaverton Creek   \n",
       "16                             US Bank       Park & Ride-Cedar Hills Church   \n",
       "17             Dufresne's Auto Service                                 Dock   \n",
       "18                             US Bank                                 Dock   \n",
       "19                     Bank of America                           Fred Meyer   \n",
       "20                        Ace Hardware                                 Dock   \n",
       "21             Du Fresne's Auto Repair                                 Dock   \n",
       "22                          Jiffy Lube                                 Dock   \n",
       "23                         Wells Fargo                                 Dock   \n",
       "24                           Walgreens                                  1-1   \n",
       "25                         Wells Fargo                Exit 67/Murray Blvd/E   \n",
       "26                             Safeway               Exit 65/Bethany Blvd/E   \n",
       "27                       Team Uniforms                Exit 67/Murray Blvd/W   \n",
       "28                         Xpressolube                  Exit 69B/Park Way/W   \n",
       "29                   Mike's Auto Parts           Exit 68/Cedar Hills Blvd/W   \n",
       "30                    SHERWIN-WILLIAMS                          Tillamook/N   \n",
       "31                            Pet Barn                 Exit 65/Cornell Rd/W   \n",
       "32                      Rock It Resell               Exit 69B/Cedar Hills/E   \n",
       "33                           Baby & Me           Exit 68/Cedar Hills Blvd/E   \n",
       "34             Cedar Mill Home Theater                   Exit 1/Walker Rd/S   \n",
       "35                         Dollar Tree                  Exit 64/185th Ave/W   \n",
       "36      Sunset Science Park Federal CU                                 None   \n",
       "37      Sunset Science Park Federal CU                                 None   \n",
       "38                       Dennis Market                                 None   \n",
       "39                Laughing Planet Cafe                                 None   \n",
       "40                                None                                 None   \n",
       "41                                None                                 None   \n",
       "42                                None                                 None   \n",
       "43                                None                                 None   \n",
       "44                                None                                 None   \n",
       "45                                None                                 None   \n",
       "46                                None                                 None   \n",
       "47                                None                                 None   \n",
       "48                                None                                 None   \n",
       "49                                None                                 None   \n",
       "\n",
       "                          parks                              education  \n",
       "0               Jqay House Park  Portland Community College-Rock Creek  \n",
       "1             Jackie Husen Park           Cedar Mill Elementary School  \n",
       "2                    The Bluffs                         Goddard School  \n",
       "3              Bonny Slope Park            St Pius X Elementary School  \n",
       "4                   Burton Park          Terra Linda Elementary School  \n",
       "5                     Lost Park         Montessori School of Beaverton  \n",
       "6              Terra Linda Park              A Childs Way Kindergarten  \n",
       "7                   Jordan Park      Christ United Methodist Preschool  \n",
       "8         Cedar Mill Woods Park     Cornell Children's Village Day Sch  \n",
       "9               Cedar Mill Park                    Catlin Gabel School  \n",
       "10  Roger Tilbury Memorial Park      West Tualatin View Elementary Sch  \n",
       "11         Merritt Orchard Park         Beaver Acres Elementary School  \n",
       "12            Commonwealth Park            Ridgewood Elementary School  \n",
       "13                 Pioneer Park       William Walker Elementary School  \n",
       "14              Peppertree Park              Meadow Park Middle School  \n",
       "15        Claremont Golf Course                 Pasitos Spanish School  \n",
       "16            Kaiser Woods Park         Holy Trinity Elementary School  \n",
       "17         Bethany Meadows Park               Barnes Elementary School  \n",
       "18            Kaiser Ridge Park              Shiny Sparkles Montessori  \n",
       "19             Morgans Run Park                  Stoller Middle School  \n",
       "20      West Union Estates Park                     Findley Elementary  \n",
       "21                 College Park             Kindercare Learning Center  \n",
       "22  Northeast Neighborhood Park            Westview Senior High School  \n",
       "23                Ben Graf Park                       Beaverton School  \n",
       "24                Spyglass Park                     Sweet Peas Kidzone  \n",
       "25           Stoller Farms Park                      La Petite Academy  \n",
       "26         Emerald Estates Park            Oak Hills Elementary School  \n",
       "27   Serah Lindsay Estates Park              Bethany Elementary School  \n",
       "28                  Quarry Park                    Kids of the Kingdom  \n",
       "29     Springville Meadows Park             Elmonica Elementary School  \n",
       "30                 Skyview Park                      Touchstone School  \n",
       "31              John Marty Park                Five Oaks Middle School  \n",
       "32          George W Otten Park                        Pacific Academy  \n",
       "33        Somerset Meadows Park              Merlo Station High School  \n",
       "34               Oak Hills Park          Kinder Prep Private Preschool  \n",
       "35           Bronson Creek Park     Prince of Peace Lutheran Preschool  \n",
       "36            Autumn Ridge Park                     Sunset High School  \n",
       "37            Apollo Ridge Park                 Cedar Hills Kindercare  \n",
       "38     Willow Creek Nature Park            Northwest Montessori School  \n",
       "39        Dwight S Parr Jr Park                    Agia Sophia Academy  \n",
       "40         Moshofsky Woods Park              Learning Years Day School  \n",
       "41    Stonegate at Willow Creek                 ABC Children's Academy  \n",
       "42              Waterhouse Park     Arco Iris Spanish Immersion School  \n",
       "43                  Sunset Park          Forest Park Elementary School  \n",
       "44                   Foege Park                                   None  \n",
       "45       Peterkort Village Park                                   None  \n",
       "46   Wanda L Peck Memorial Park                                   None  \n",
       "47  Howard M Terpenning Complex                                   None  \n",
       "48          Forest Heights Park                                   None  \n",
       "49     Forest Heights City Park                                   None  "
      ]
     },
     "execution_count": 75,
     "metadata": {},
     "output_type": "execute_result"
    }
   ],
   "source": [
    "neighborhood_df = pd.DataFrame.from_dict(neighborhood_data_dict, orient='index')\n",
    "neighborhood_df = neighborhood_df.transpose()\n",
    "neighborhood_df"
   ]
  },
  {
   "cell_type": "code",
   "execution_count": 76,
   "metadata": {
    "slideshow": {
     "slide_type": "subslide"
    }
   },
   "outputs": [
    {
     "data": {
      "text/plain": [
       "Text(0.5,1,'Facilities within 5 miles of 3775 NW Hilton Head Ter')"
      ]
     },
     "execution_count": 76,
     "metadata": {},
     "output_type": "execute_result"
    },
    {
     "data": {
      "image/png": "[encoded data removed]",
      "text/plain": [
       "<Figure size 432x288 with 1 Axes>"
      ]
     },
     "metadata": {},
     "output_type": "display_data"
    }
   ],
   "source": [
    "neighborhood_df.count().plot(kind='bar')\n",
    "plt.title('Facilities within 5 miles of {}'.format(prop1.ADDRESS.values[0]))"
   ]
  },
  {
   "cell_type": "markdown",
   "metadata": {
    "slideshow": {
     "slide_type": "slide"
    }
   },
   "source": [
    "### Find duration to commute to work"
   ]
  },
  {
   "cell_type": "code",
   "execution_count": 32,
   "metadata": {
    "slideshow": {
     "slide_type": "skip"
    }
   },
   "outputs": [],
   "source": [
    "route_service_url = gis.properties.helperServices.route.url\n",
    "route_service = RouteLayer(route_service_url, gis=gis)"
   ]
  },
  {
   "cell_type": "code",
   "execution_count": 33,
   "metadata": {
    "slideshow": {
     "slide_type": "skip"
    }
   },
   "outputs": [
    {
     "data": {
      "text/plain": [
       "'-122.81532304999996,45.546748785000034;-122.67727209699996,45.52153932300007'"
      ]
     },
     "execution_count": 33,
     "metadata": {},
     "output_type": "execute_result"
    }
   ],
   "source": [
    "stops = [paddress.values[0], '309 SW 6th Ave #600, Portland, OR 97204']\n",
    "from arcgis.geocoding import geocode, batch_geocode\n",
    "stops_geocoded = batch_geocode(stops)\n",
    "\n",
    "stops_geocoded = [item['location'] for item in stops_geocoded]\n",
    "stops_geocoded2 = '{},{};{},{}'.format(stops_geocoded[0]['x'],stops_geocoded[0]['y'],\n",
    "                                       stops_geocoded[1]['x'],stops_geocoded[1]['y'])\n",
    "stops_geocoded2"
   ]
  },
  {
   "cell_type": "code",
   "execution_count": 34,
   "metadata": {
    "slideshow": {
     "slide_type": "skip"
    }
   },
   "outputs": [
    {
     "name": "stdout",
     "output_type": "stream",
     "text": [
      "Walking Time\n",
      "Rural Driving Distance\n",
      "Driving Time\n",
      "Driving Distance\n",
      "Walking Distance\n",
      "Rural Driving Time\n",
      "Trucking Time\n",
      "Trucking Distance\n"
     ]
    }
   ],
   "source": [
    "modes = route_service.retrieve_travel_modes()['supportedTravelModes']\n",
    "for mode in modes:\n",
    "    print(mode['name'])"
   ]
  },
  {
   "cell_type": "code",
   "execution_count": 35,
   "metadata": {
    "slideshow": {
     "slide_type": "skip"
    }
   },
   "outputs": [
    {
     "data": {
      "text/plain": [
       "'TravelTime'"
      ]
     },
     "execution_count": 35,
     "metadata": {},
     "output_type": "execute_result"
    }
   ],
   "source": [
    "route_service.properties.impedance"
   ]
  },
  {
   "cell_type": "markdown",
   "metadata": {
    "slideshow": {
     "slide_type": "skip"
    }
   },
   "source": [
    "Calculate time it takes to get to work. Set start time as `8:00 AM` on Mondays. ArcGIS routing service will use historic averages, so we provide this time as `8:00 AM, Monday, June 4 1990` in Unix epoch time. Read more about this [here](https://developers.arcgis.com/rest/network/api-reference/route-synchronous-service.htm#ESRI_SECTION3_72F22EAF69BF4F6CB6076B583CEB4074)"
   ]
  },
  {
   "cell_type": "code",
   "execution_count": 36,
   "metadata": {
    "slideshow": {
     "slide_type": "fragment"
    }
   },
   "outputs": [],
   "source": [
    "route_result = route_service.solve(stops_geocoded2, return_routes=True, \n",
    "                             return_stops=True, return_directions=True,\n",
    "                             impedance_attribute_name='TravelTime',\n",
    "                             start_time=644511600000,\n",
    "                             return_barriers=False, return_polygon_barriers=False,\n",
    "                             return_polyline_barriers=False)"
   ]
  },
  {
   "cell_type": "code",
   "execution_count": 37,
   "metadata": {
    "slideshow": {
     "slide_type": "fragment"
    }
   },
   "outputs": [
    {
     "name": "stdout",
     "output_type": "stream",
     "text": [
      "route length: 10.273 miles, route duration: 27m, 48.39s\n"
     ]
    }
   ],
   "source": [
    "route_length = route_result['directions'][0]['summary']['totalLength']\n",
    "route_duration = route_result['directions'][0]['summary']['totalTime']\n",
    "route_duration_str = \"{}m, {}s\".format(int(route_duration), \n",
    "                                       round((route_duration %1)*60,2))\n",
    "print(\"route length: {} miles, route duration: {}\".format(round(route_length,3),\n",
    "                                                         route_duration_str))"
   ]
  },
  {
   "cell_type": "code",
   "execution_count": 49,
   "metadata": {
    "slideshow": {
     "slide_type": "skip"
    }
   },
   "outputs": [],
   "source": [
    "route_features = route_result['routes']['features']\n",
    "route_fset = FeatureSet(route_features)\n",
    "stop_features = route_result['stops']['features']\n",
    "stop_fset = FeatureSet(stop_features)\n",
    "\n",
    "route_pop_up = {'title':'Name',\n",
    "               'content':'Total_Miles'}\n",
    "pdx_map2.draw(route_fset, symbol=route_symbol, popup=route_pop_up)"
   ]
  },
  {
   "cell_type": "code",
   "execution_count": 50,
   "metadata": {},
   "outputs": [],
   "source": [
    "pdx_map2.draw(stop_fset, symbol=destination_symbol)"
   ]
  }
 ],
 "metadata": {
  "celltoolbar": "Slideshow",
  "kernelspec": {
   "display_name": "Python 3",
   "language": "python",
   "name": "python3"
  },
  "language_info": {
   "codemirror_mode": {
    "name": "ipython",
    "version": 3
   },
   "file_extension": ".py",
   "mimetype": "text/x-python",
   "name": "python",
   "nbconvert_exporter": "python",
   "pygments_lexer": "ipython3",
   "version": "3.6.6"
  },
  "livereveal": {
   "scroll": "true",
   "start_slideshow_at": "beginning"
  },
  "toc": {
   "base_numbering": 1,
   "nav_menu": {},
   "number_sections": false,
   "sideBar": true,
   "skip_h1_title": false,
   "title_cell": "**Table of Contents**",
   "title_sidebar": "Contents",
   "toc_cell": true,
   "toc_position": {},
   "toc_section_display": true,
   "toc_window_display": true
  }
 },
 "nbformat": 4,
 "nbformat_minor": 2
}
