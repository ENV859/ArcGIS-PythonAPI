{
 "cells": [
  {
   "cell_type": "markdown",
   "metadata": {
    "slideshow": {
     "slide_type": "slide"
    }
   },
   "source": [
    "# Working with Landsat Thematic Mapper Imagery\n"
   ]
  },
  {
   "cell_type": "markdown",
   "metadata": {
    "slideshow": {
     "slide_type": "slide"
    }
   },
   "source": [
    "![](http://esri.github.io/arcgis-python-api/notebooks/nbimages/02_change_detection_app_01.gif)"
   ]
  },
  {
   "cell_type": "markdown",
   "metadata": {
    "slideshow": {
     "slide_type": "subslide"
    }
   },
   "source": [
    "# Questions\n",
    "- How does land change manifest itself in time-series of multispectral imagery?\n",
    "- Can you identify when a significant disturbance occurred?"
   ]
  },
  {
   "cell_type": "markdown",
   "metadata": {
    "slideshow": {
     "slide_type": "subslide"
    }
   },
   "source": [
    "# Let's explore Landsat Thematic Mapper Data over a period of 30 years!\n",
    "\n",
    "- About 20 years ago, my house was farmland \n",
    "- Can we use the 30 years of TM data to identify when development occurred? "
   ]
  },
  {
   "cell_type": "markdown",
   "metadata": {
    "slideshow": {
     "slide_type": "slide"
    }
   },
   "source": [
    "# Let's get started!"
   ]
  },
  {
   "cell_type": "markdown",
   "metadata": {
    "slideshow": {
     "slide_type": "subslide"
    }
   },
   "source": [
    "# Imports"
   ]
  },
  {
   "cell_type": "code",
   "execution_count": 1,
   "metadata": {
    "slideshow": {
     "slide_type": "fragment"
    }
   },
   "outputs": [],
   "source": [
    "from arcgis.features import SpatialDataFrame\n",
    "from arcgis.raster.functions import *\n",
    "from arcgis.raster import ImageryLayer\n",
    "from arcgis.geometry import Geometry\n",
    "from arcgis.geometry import Point\n",
    "from arcgis.gis import GIS"
   ]
  },
  {
   "cell_type": "markdown",
   "metadata": {
    "slideshow": {
     "slide_type": "subslide"
    }
   },
   "source": [
    "# Log into Portal"
   ]
  },
  {
   "cell_type": "code",
   "execution_count": 2,
   "metadata": {
    "slideshow": {
     "slide_type": "fragment"
    }
   },
   "outputs": [
    {
     "name": "stdout",
     "output_type": "stream",
     "text": [
      "Enter password: ········\n"
     ]
    }
   ],
   "source": [
    "gis = GIS('http://fedciv.esri.com/portal', 'GBrunner')"
   ]
  },
  {
   "cell_type": "markdown",
   "metadata": {
    "format": "row",
    "slideshow": {
     "slide_type": "subslide"
    }
   },
   "source": [
    "# Two Services:\n",
    "- Landsat Thematic Mapper Multispectral Service\n",
    "  - 8 Bands (7 Spectral and QA Band)\n",
    "- Landsat Thematic Mapper NDVI Service\n",
    "  - 2 Bands (NDVI and QA values)"
   ]
  },
  {
   "cell_type": "code",
   "execution_count": 3,
   "metadata": {
    "slideshow": {
     "slide_type": "subslide"
    }
   },
   "outputs": [],
   "source": [
    "ndvi_svc =\"https://fedciv.esri.com/imageserver/rest/services/LandsatTM_NDVI/ImageServer\"\n",
    "ms_svc = \"https://fedciv.esri.com/imageserver/rest/services/LandsatTM_MS/ImageServer\"\n",
    "ndvi_lyr = ImageryLayer(ndvi_svc, gis=gis)\n",
    "ms_lyr = ImageryLayer(ms_svc, gis=gis)"
   ]
  },
  {
   "cell_type": "markdown",
   "metadata": {
    "slideshow": {
     "slide_type": "slide"
    }
   },
   "source": [
    "# How does land change manifest itself in multispectral imagery?"
   ]
  },
  {
   "cell_type": "markdown",
   "metadata": {
    "slideshow": {
     "slide_type": "fragment"
    }
   },
   "source": [
    "## To investigate, let's go to my house!"
   ]
  },
  {
   "cell_type": "markdown",
   "metadata": {
    "slideshow": {
     "slide_type": "fragment"
    }
   },
   "source": [
    "## ... in O'Fallon, MO"
   ]
  },
  {
   "cell_type": "markdown",
   "metadata": {
    "slideshow": {
     "slide_type": "subslide"
    }
   },
   "source": [
    "# Here is my home"
   ]
  },
  {
   "cell_type": "code",
   "execution_count": 4,
   "metadata": {
    "slideshow": {
     "slide_type": "subslide"
    }
   },
   "outputs": [
    {
     "data": {
      "application/vnd.jupyter.widget-view+json": {
       "model_id": "667e8f58743f4d6882b30759777af693",
       "version_major": 2,
       "version_minor": 0
      },
      "text/plain": [
       "MapView(layout=Layout(height='400px', width='100%'))"
      ]
     },
     "metadata": {},
     "output_type": "display_data"
    }
   ],
   "source": [
    "geometry = Point({\"x\" :-10093991.604, \"y\" : 4689459.491, \"spatialReference\" : {\"wkid\" : 102100}})\n",
    "map1 = gis.map(\"122 Arabian Path, O'Fallon, MO, USA\")\n",
    "map1"
   ]
  },
  {
   "cell_type": "markdown",
   "metadata": {
    "slideshow": {
     "slide_type": "skip"
    }
   },
   "source": [
    "# I changed the basemap and the zoom"
   ]
  },
  {
   "cell_type": "code",
   "execution_count": 5,
   "metadata": {
    "slideshow": {
     "slide_type": "skip"
    }
   },
   "outputs": [],
   "source": [
    "map1.zoom = 14\n",
    "map1.basemap = 'satellite'"
   ]
  },
  {
   "cell_type": "markdown",
   "metadata": {
    "slideshow": {
     "slide_type": "skip"
    }
   },
   "source": [
    "# I defined a symbol and drew it on the map"
   ]
  },
  {
   "cell_type": "code",
   "execution_count": 6,
   "metadata": {
    "slideshow": {
     "slide_type": "skip"
    }
   },
   "outputs": [],
   "source": [
    "symbol = {\"color\":[128,0,0,128],\n",
    "                    \"size\":18,\n",
    "                    \"angle\":0,\n",
    "                    \"xoffset\":0,\n",
    "                    \"yoffset\":0,\n",
    "                    \"type\":\"esriSMS\",\n",
    "                    \"style\":\n",
    "                    \"esriSMSCircle\",\n",
    "                    \"outline\":\n",
    "                        {\"color\":[128,0,0,255],\n",
    "                         \"width\":1,\n",
    "                         \"type\":\"esriSLS\",\n",
    "                         \"style\":\"esriSLSSolid\"}\n",
    "}\n",
    "map1.draw(geometry, symbol=symbol)"
   ]
  },
  {
   "cell_type": "markdown",
   "metadata": {
    "slideshow": {
     "slide_type": "slide"
    }
   },
   "source": [
    "# How many Landsat TM rasters are over O'Fallon, MO?"
   ]
  },
  {
   "cell_type": "markdown",
   "metadata": {
    "slideshow": {
     "slide_type": "fragment"
    }
   },
   "source": [
    "## I can query the data frame using a spatial filter"
   ]
  },
  {
   "cell_type": "code",
   "execution_count": 7,
   "metadata": {
    "slideshow": {
     "slide_type": "fragment"
    }
   },
   "outputs": [],
   "source": [
    "from arcgis.geometry import filters\n",
    "\n",
    "geometry = Point({\"x\" :-10093991.604, \"y\" : 4689459.491, \"spatialReference\" : {\"wkid\" : 102100}})\n",
    "sp_filter = filters.intersects(geometry=geometry)\n",
    "im_sdf = ms_lyr.query(geometry_filter=sp_filter, return_all_records=True).df"
   ]
  },
  {
   "cell_type": "markdown",
   "metadata": {
    "slideshow": {
     "slide_type": "subslide"
    }
   },
   "source": [
    "# There are 563 Landsat TM Images over O'Fallon"
   ]
  },
  {
   "cell_type": "code",
   "execution_count": 8,
   "metadata": {
    "slideshow": {
     "slide_type": "fragment"
    }
   },
   "outputs": [
    {
     "data": {
      "text/plain": [
       "563"
      ]
     },
     "execution_count": 8,
     "metadata": {},
     "output_type": "execute_result"
    }
   ],
   "source": [
    "len(im_sdf)"
   ]
  },
  {
   "cell_type": "markdown",
   "metadata": {
    "slideshow": {
     "slide_type": "subslide"
    }
   },
   "source": [
    "# What does that data frame look like?"
   ]
  },
  {
   "cell_type": "code",
   "execution_count": 9,
   "metadata": {
    "slideshow": {
     "slide_type": "fragment"
    }
   },
   "outputs": [
    {
     "data": {
      "text/html": [
       "<div>\n",
       "<style scoped>\n",
       "    .dataframe tbody tr th:only-of-type {\n",
       "        vertical-align: middle;\n",
       "    }\n",
       "\n",
       "    .dataframe tbody tr th {\n",
       "        vertical-align: top;\n",
       "    }\n",
       "\n",
       "    .dataframe thead th {\n",
       "        text-align: right;\n",
       "    }\n",
       "</style>\n",
       "<table border=\"1\" class=\"dataframe\">\n",
       "  <thead>\n",
       "    <tr style=\"text-align: right;\">\n",
       "      <th></th>\n",
       "      <th>AcquisitionDate</th>\n",
       "      <th>Best</th>\n",
       "      <th>Category</th>\n",
       "      <th>CenterX</th>\n",
       "      <th>CenterY</th>\n",
       "      <th>CloudCover</th>\n",
       "      <th>Dataset_ID</th>\n",
       "      <th>GroupName</th>\n",
       "      <th>HighPS</th>\n",
       "      <th>LANDSAT_PRODUCT_ID</th>\n",
       "      <th>...</th>\n",
       "      <th>Shape_Area</th>\n",
       "      <th>Shape_Length</th>\n",
       "      <th>SunAzimuth</th>\n",
       "      <th>SunElevation</th>\n",
       "      <th>Tag</th>\n",
       "      <th>WRS_PATH</th>\n",
       "      <th>WRS_ROW</th>\n",
       "      <th>ZOrder</th>\n",
       "      <th>dayofYear</th>\n",
       "      <th>SHAPE</th>\n",
       "    </tr>\n",
       "  </thead>\n",
       "  <tbody>\n",
       "    <tr>\n",
       "      <th>0</th>\n",
       "      <td>407779836919</td>\n",
       "      <td>562976033</td>\n",
       "      <td>1</td>\n",
       "      <td>-1.010862e+07</td>\n",
       "      <td>4.707142e+06</td>\n",
       "      <td>1.00</td>\n",
       "      <td>TM</td>\n",
       "      <td>LT04_L1GS_024033_19821203_20161005_01_T2_MTL</td>\n",
       "      <td>120</td>\n",
       "      <td>LT04_L1GS_024033_19821203_20161005_01_T2_MTL.txt</td>\n",
       "      <td>...</td>\n",
       "      <td>4.841470e+10</td>\n",
       "      <td>880790.837585</td>\n",
       "      <td>153.899125</td>\n",
       "      <td>24.435911</td>\n",
       "      <td>MS</td>\n",
       "      <td>24</td>\n",
       "      <td>33</td>\n",
       "      <td>None</td>\n",
       "      <td>337</td>\n",
       "      <td>{'rings': [[[-9972665.7049, 4791716.445500001]...</td>\n",
       "    </tr>\n",
       "    <tr>\n",
       "      <th>1</th>\n",
       "      <td>409162217912</td>\n",
       "      <td>457976033</td>\n",
       "      <td>1</td>\n",
       "      <td>-1.009491e+07</td>\n",
       "      <td>4.704437e+06</td>\n",
       "      <td>0.91</td>\n",
       "      <td>TM</td>\n",
       "      <td>LT04_L1GS_024033_19821219_20161005_01_T2_MTL</td>\n",
       "      <td>120</td>\n",
       "      <td>LT04_L1GS_024033_19821219_20161005_01_T2_MTL.txt</td>\n",
       "      <td>...</td>\n",
       "      <td>4.842517e+10</td>\n",
       "      <td>880897.226564</td>\n",
       "      <td>152.774083</td>\n",
       "      <td>22.629936</td>\n",
       "      <td>MS</td>\n",
       "      <td>24</td>\n",
       "      <td>33</td>\n",
       "      <td>None</td>\n",
       "      <td>353</td>\n",
       "      <td>{'rings': [[[-9958787.6726, 4788804.661499999]...</td>\n",
       "    </tr>\n",
       "    <tr>\n",
       "      <th>2</th>\n",
       "      <td>411927071855</td>\n",
       "      <td>370976033</td>\n",
       "      <td>1</td>\n",
       "      <td>-1.011066e+07</td>\n",
       "      <td>4.707564e+06</td>\n",
       "      <td>0.65</td>\n",
       "      <td>TM</td>\n",
       "      <td>LT04_L1GS_024033_19830120_20161004_01_T2_MTL</td>\n",
       "      <td>120</td>\n",
       "      <td>LT04_L1GS_024033_19830120_20161004_01_T2_MTL.txt</td>\n",
       "      <td>...</td>\n",
       "      <td>4.836119e+10</td>\n",
       "      <td>880270.768558</td>\n",
       "      <td>148.182328</td>\n",
       "      <td>24.292955</td>\n",
       "      <td>MS</td>\n",
       "      <td>24</td>\n",
       "      <td>33</td>\n",
       "      <td>None</td>\n",
       "      <td>20</td>\n",
       "      <td>{'rings': [[[-9974967.0134, 4792249.327500001]...</td>\n",
       "    </tr>\n",
       "  </tbody>\n",
       "</table>\n",
       "<p>3 rows × 32 columns</p>\n",
       "</div>"
      ],
      "text/plain": [
       "   AcquisitionDate       Best  Category       CenterX       CenterY  \\\n",
       "0     407779836919  562976033         1 -1.010862e+07  4.707142e+06   \n",
       "1     409162217912  457976033         1 -1.009491e+07  4.704437e+06   \n",
       "2     411927071855  370976033         1 -1.011066e+07  4.707564e+06   \n",
       "\n",
       "   CloudCover Dataset_ID                                     GroupName  \\\n",
       "0        1.00         TM  LT04_L1GS_024033_19821203_20161005_01_T2_MTL   \n",
       "1        0.91         TM  LT04_L1GS_024033_19821219_20161005_01_T2_MTL   \n",
       "2        0.65         TM  LT04_L1GS_024033_19830120_20161004_01_T2_MTL   \n",
       "\n",
       "   HighPS                                LANDSAT_PRODUCT_ID  \\\n",
       "0     120  LT04_L1GS_024033_19821203_20161005_01_T2_MTL.txt   \n",
       "1     120  LT04_L1GS_024033_19821219_20161005_01_T2_MTL.txt   \n",
       "2     120  LT04_L1GS_024033_19830120_20161004_01_T2_MTL.txt   \n",
       "\n",
       "                         ...                            Shape_Area  \\\n",
       "0                        ...                          4.841470e+10   \n",
       "1                        ...                          4.842517e+10   \n",
       "2                        ...                          4.836119e+10   \n",
       "\n",
       "    Shape_Length  SunAzimuth  SunElevation Tag  WRS_PATH  WRS_ROW ZOrder  \\\n",
       "0  880790.837585  153.899125     24.435911  MS        24       33   None   \n",
       "1  880897.226564  152.774083     22.629936  MS        24       33   None   \n",
       "2  880270.768558  148.182328     24.292955  MS        24       33   None   \n",
       "\n",
       "   dayofYear                                              SHAPE  \n",
       "0        337  {'rings': [[[-9972665.7049, 4791716.445500001]...  \n",
       "1        353  {'rings': [[[-9958787.6726, 4788804.661499999]...  \n",
       "2         20  {'rings': [[[-9974967.0134, 4792249.327500001]...  \n",
       "\n",
       "[3 rows x 32 columns]"
      ]
     },
     "execution_count": 9,
     "metadata": {},
     "output_type": "execute_result"
    }
   ],
   "source": [
    "im_sdf.head(3)"
   ]
  },
  {
   "cell_type": "markdown",
   "metadata": {
    "slideshow": {
     "slide_type": "subslide"
    }
   },
   "source": [
    "# How do I interpret the \"AcquisitionDate\"?\n",
    "- I need to convert from Unix time into a datetime"
   ]
  },
  {
   "cell_type": "code",
   "execution_count": 10,
   "metadata": {
    "slideshow": {
     "slide_type": "fragment"
    }
   },
   "outputs": [
    {
     "data": {
      "text/plain": [
       "0   1982-12-03 16:10:36.919\n",
       "1   1982-12-19 16:10:17.912\n",
       "2   1983-01-20 16:11:11.855\n",
       "3   1983-02-05 16:11:21.834\n",
       "4   1982-11-17 16:10:16.657\n",
       "Name: Date, dtype: datetime64[ns]"
      ]
     },
     "execution_count": 10,
     "metadata": {},
     "output_type": "execute_result"
    }
   ],
   "source": [
    "import pandas as pd\n",
    "\n",
    "im_sdf['Date'] =  pd.to_datetime(im_sdf['AcquisitionDate'], unit='ms')\n",
    "im_sdf['Date'].head()"
   ]
  },
  {
   "cell_type": "markdown",
   "metadata": {
    "slideshow": {
     "slide_type": "subslide"
    }
   },
   "source": [
    "# I'm interested in cloud free images"
   ]
  },
  {
   "cell_type": "code",
   "execution_count": 11,
   "metadata": {
    "slideshow": {
     "slide_type": "fragment"
    }
   },
   "outputs": [
    {
     "data": {
      "text/plain": [
       "4    1982-11-17 16:10:16.657\n",
       "5    1983-01-04 16:10:48.224\n",
       "10   1984-10-13 16:12:09.654\n",
       "32   1988-07-20 16:12:47.393\n",
       "34   1988-12-27 16:12:23.535\n",
       "Name: Date, dtype: datetime64[ns]"
      ]
     },
     "execution_count": 11,
     "metadata": {},
     "output_type": "execute_result"
    }
   ],
   "source": [
    "im_sdf[im_sdf['CloudCover']<.10].Date.head()"
   ]
  },
  {
   "cell_type": "markdown",
   "metadata": {
    "slideshow": {
     "slide_type": "subslide"
    }
   },
   "source": [
    "# I found some:\n",
    "- From 1982: 'LT40240331982321XXX04'\n",
    "- From 2010: 'LT50240332010102EDC00'"
   ]
  },
  {
   "cell_type": "code",
   "execution_count": 13,
   "metadata": {
    "slideshow": {
     "slide_type": "fragment"
    }
   },
   "outputs": [],
   "source": [
    "selected_oldest = ms_lyr.filter_by(where=\"Name = 'LT40240331982321XXX04'\")\n",
    "selected_newest = ms_lyr.filter_by(where=\"Name = 'LT50240332010102EDC00'\")"
   ]
  },
  {
   "cell_type": "markdown",
   "metadata": {
    "slideshow": {
     "slide_type": "subslide"
    }
   },
   "source": [
    "# Let's look at O'Fallon in 1982 and 2010"
   ]
  },
  {
   "cell_type": "code",
   "execution_count": 14,
   "metadata": {
    "format": "row",
    "scrolled": false,
    "slideshow": {
     "slide_type": "fragment"
    }
   },
   "outputs": [],
   "source": [
    "map_old = gis.map(location=\"122 Arabian Path, O'Fallon, MO\")#, zoomlevel=14)\n",
    "map_new = gis.map(location=\"122 Arabian Path, O'Fallon, MO\")#, zoomlevel=14)"
   ]
  },
  {
   "cell_type": "code",
   "execution_count": 15,
   "metadata": {
    "slideshow": {
     "slide_type": "subslide"
    }
   },
   "outputs": [
    {
     "data": {
      "application/vnd.jupyter.widget-view+json": {
       "model_id": "103d2871cdae4cfca488e902acb96dfd",
       "version_major": 2,
       "version_minor": 0
      },
      "text/plain": [
       "HBox(children=(MapView(layout=Layout(flex='1 1', height='500px', min_width='40px', padding='10px')), MapView(l…"
      ]
     },
     "metadata": {},
     "output_type": "display_data"
    }
   ],
   "source": [
    "from ipywidgets import *\n",
    "\n",
    "map_old.layout=Layout(flex='1 1', padding='10px',height='500px', min_width='40px')\n",
    "map_new.layout=Layout(flex='1 1', padding='10px',height='500px', min_width='40px')\n",
    "box = HBox([map_old, map_new])\n",
    "box"
   ]
  },
  {
   "cell_type": "code",
   "execution_count": 17,
   "metadata": {
    "slideshow": {
     "slide_type": "subslide"
    }
   },
   "outputs": [],
   "source": [
    "map_old.add_layer(stretch(extract_band(selected_oldest,[2,1,0]),\n",
    "                         stretch_type='StdDev',\n",
    "                         num_stddev=2.5,\n",
    "                         dra=True))\n",
    "\n",
    "map_new.add_layer(stretch(extract_band(selected_newest,[2,1,0]),\n",
    "                         stretch_type='StdDev',\n",
    "                         num_stddev=2.5,\n",
    "                         dra=True))"
   ]
  },
  {
   "cell_type": "code",
   "execution_count": 16,
   "metadata": {
    "slideshow": {
     "slide_type": "skip"
    }
   },
   "outputs": [
    {
     "data": {
      "application/vnd.jupyter.widget-view+json": {
       "model_id": "2823c1fe4a7a4e0c8d752fc89ed4a769",
       "version_major": 2,
       "version_minor": 0
      },
      "text/plain": [
       "MapView(layout=Layout(height='400px', width='100%'))"
      ]
     },
     "metadata": {},
     "output_type": "display_data"
    }
   ],
   "source": [
    "map_old"
   ]
  },
  {
   "cell_type": "code",
   "execution_count": 17,
   "metadata": {
    "slideshow": {
     "slide_type": "skip"
    }
   },
   "outputs": [
    {
     "data": {
      "application/vnd.jupyter.widget-view+json": {
       "model_id": "03bdeae48c7d47fe996bf515116db1f8",
       "version_major": 2,
       "version_minor": 0
      },
      "text/plain": [
       "MapView(layout=Layout(height='400px', width='100%'))"
      ]
     },
     "metadata": {},
     "output_type": "display_data"
    }
   ],
   "source": [
    "map_new"
   ]
  },
  {
   "cell_type": "code",
   "execution_count": 18,
   "metadata": {
    "slideshow": {
     "slide_type": "fragment"
    }
   },
   "outputs": [],
   "source": [
    "map_new.zoom = 14\n",
    "map_old.zoom = 14\n",
    "map_old.draw(geometry, symbol=symbol)\n",
    "map_new.draw(geometry, symbol=symbol)"
   ]
  },
  {
   "cell_type": "markdown",
   "metadata": {
    "slideshow": {
     "slide_type": "slide"
    }
   },
   "source": [
    "# Using NDVI to pinpoint when my home was built"
   ]
  },
  {
   "cell_type": "markdown",
   "metadata": {
    "slideshow": {
     "slide_type": "subslide"
    }
   },
   "source": [
    "# What is NDVI?\n",
    "- Normalized Difference Vegetation Index\n",
    "- For Landsat TM\n",
    "  - `NDVI = (NIR_4 - VIS_3)/(NIR_4 + VIS_3)`\n",
    "- Result will be between -1 and 1"
   ]
  },
  {
   "cell_type": "markdown",
   "metadata": {
    "slideshow": {
     "slide_type": "subslide"
    }
   },
   "source": [
    "# What does NDVI Typically looks like?"
   ]
  },
  {
   "cell_type": "code",
   "execution_count": 19,
   "metadata": {
    "slideshow": {
     "slide_type": "fragment"
    }
   },
   "outputs": [
    {
     "name": "stdout",
     "output_type": "stream",
     "text": [
      "Enter password: ········\n"
     ]
    }
   ],
   "source": [
    "agol_gis = GIS(\"http://ps-dbs.maps.arcgis.com/home\", \"gregbrunner_dbs\")\n",
    "landsat_lyr = ImageryLayer(\"https://landsat2.arcgis.com/arcgis/rest/services/Landsat8_Views/ImageServer\",\n",
    "                        gis=agol_gis)"
   ]
  },
  {
   "cell_type": "code",
   "execution_count": 20,
   "metadata": {
    "slideshow": {
     "slide_type": "subslide"
    }
   },
   "outputs": [
    {
     "data": {
      "application/vnd.jupyter.widget-view+json": {
       "model_id": "65b71ba5ba7445d8ae8dbe4c1f6b1ce7",
       "version_major": 2,
       "version_minor": 0
      },
      "text/plain": [
       "MapView(layout=Layout(height='400px', width='100%'))"
      ]
     },
     "metadata": {},
     "output_type": "display_data"
    }
   ],
   "source": [
    "l8_map = agol_gis.map('122 Arabian Path, St. Peters, MO 63376')\n",
    "l8_map"
   ]
  },
  {
   "cell_type": "markdown",
   "metadata": {
    "slideshow": {
     "slide_type": "subslide"
    }
   },
   "source": [
    "# Landsat Raster Functions"
   ]
  },
  {
   "cell_type": "code",
   "execution_count": 31,
   "metadata": {
    "slideshow": {
     "slide_type": "fragment"
    }
   },
   "outputs": [
    {
     "data": {
      "text/plain": [
       "[{\n",
       "   \"name\": \"Agriculture with DRA\",\n",
       "   \"description\": \"Bands shortwave IR-1, near-IR, blue (6, 5, 2) with dynamic range adjustment applied on apparent reflectance. Vigorous veg. is bright green, stressed veg. dull green and bare areas as brown.\",\n",
       "   \"help\": \"\"\n",
       " }, {\n",
       "   \"name\": \"Bathymetric with DRA\",\n",
       "   \"description\": \"Bands red, green, coastal/aerosol (4, 3, 1) with dynamic range adjustment applied on apparent reflectance. Useful in bathymetric mapping applications.\",\n",
       "   \"help\": \"\"\n",
       " }, {\n",
       "   \"name\": \"Color Infrared with DRA\",\n",
       "   \"description\": \"Bands near-IR, red, green (5, 4, 3) with dynamic range adjustment applied on apparent reflectance. Healthy vegetation is bright red while stressed vegetation is dull red.\",\n",
       "   \"help\": \"\"\n",
       " }, {\n",
       "   \"name\": \"Natural Color with DRA\",\n",
       "   \"description\": \"Natural Color bands red, green, blue (4, 3, 2) displayed with dynamic range adjustment applied on apparent reflectance.\",\n",
       "   \"help\": \"\"\n",
       " }, {\n",
       "   \"name\": \"Short-wave Infrared with DRA\",\n",
       "   \"description\": \"Bands shortwave IR-2, shortwave IR-1, red (7, 6, 4) with dynamic range adjustment applied on apparent reflectance.\",\n",
       "   \"help\": \"\"\n",
       " }, {\n",
       "   \"name\": \"Geology with DRA\",\n",
       "   \"description\": \"Bands shortwave IR-2, shortwave IR-1 , blue (7, 6, 2) with dynamic range adjustement applied on apparent reflectance. Vigorous veg. is bright green, stressed veg. dull green and bare areas as brown.\",\n",
       "   \"help\": \"\"\n",
       " }, {\n",
       "   \"name\": \"Agriculture\",\n",
       "   \"description\": \"Bands shortwave IR-1, near-IR, blue (6, 5, 2) with fixed stretch applied on apparent reflectance. Vigorous vegetation is bright green, stressed vegetation dull green and bare areas as brown.\",\n",
       "   \"help\": \"\"\n",
       " }, {\n",
       "   \"name\": \"Bathymetric\",\n",
       "   \"description\": \"Bands red, green, coastal/aerosol (4, 3, 1) with fixed stretch applied on apparent reflectance. Useful in bathymetric mapping applications.\",\n",
       "   \"help\": \"\"\n",
       " }, {\n",
       "   \"name\": \"Color Infrared\",\n",
       "   \"description\": \"Bands near-IR, red, green (5, 4, 3) with fixed stretch applied on apparent reflectance. Healthy vegetation is bright red while stressed vegetation is dull red.\",\n",
       "   \"help\": \"\"\n",
       " }, {\n",
       "   \"name\": \"Geology\",\n",
       "   \"description\": \"Bands shortwave IR-2, shortwave IR-1, blue (7, 6, 2) with fixed stretched applied on apparent reflectance. Vigorous vegetation is bright green, stressed vegetation dull green and bare areas as brown.\",\n",
       "   \"help\": \"\"\n",
       " }, {\n",
       "   \"name\": \"Natural Color\",\n",
       "   \"description\": \"Natural Color bands red, green, blue(4, 3, 2) displayed with fixed stretch applied on apparent reflectance.\",\n",
       "   \"help\": \"\"\n",
       " }, {\n",
       "   \"name\": \"Short-wave Infrared\",\n",
       "   \"description\": \"Bands shortwave infrared2, shortwave infrared1, red (7, 6, 4) with fixed stretched applied on apparent reflectance.\",\n",
       "   \"help\": \"\"\n",
       " }, {\n",
       "   \"name\": \"NDVI Colorized\",\n",
       "   \"description\": \"Normalized difference vegetation index (NDVI) with color map. Dark green is thick vigorous vegetation and brown represents sparse vegetation.\",\n",
       "   \"help\": \"\"\n",
       " }, {\n",
       "   \"name\": \"Normalized Difference Moisture Index Colorized\",\n",
       "   \"description\": \"Normalized Difference Moisture Index with color map computed as (b5 - b6) / (b5 + b6). Wetlands and moist areas are blues, and dry areas in deep yellow and brown.\",\n",
       "   \"help\": \"\"\n",
       " }, {\n",
       "   \"name\": \"NDVI Raw\",\n",
       "   \"description\": \"Normalized difference vegetation index (NDVI) computed as (b5 - b4) / (b5 + b4) on apparent reflectance.\",\n",
       "   \"help\": \"\"\n",
       " }, {\n",
       "   \"name\": \"NBR Raw\",\n",
       "   \"description\": \"Normalized Burn Ratio (NBR) computed as (b5 - b7) / (b5 + b7) on apparent reflectance.\",\n",
       "   \"help\": \"\"\n",
       " }, {\n",
       "   \"name\": \"None\",\n",
       "   \"description\": \"\",\n",
       "   \"help\": \"\"\n",
       " }]"
      ]
     },
     "execution_count": 31,
     "metadata": {},
     "output_type": "execute_result"
    }
   ],
   "source": [
    "landsat_lyr.properties.rasterFunctionInfos"
   ]
  },
  {
   "cell_type": "code",
   "execution_count": 21,
   "metadata": {
    "slideshow": {
     "slide_type": "subslide"
    }
   },
   "outputs": [],
   "source": [
    "l8_map.add_layer(apply(landsat_lyr, 'NDVI Colorized'))\n",
    "l8_map.zoom = 14"
   ]
  },
  {
   "cell_type": "markdown",
   "metadata": {
    "slideshow": {
     "slide_type": "subslide"
    }
   },
   "source": [
    "# How do I get pixel values over time at a given location?"
   ]
  },
  {
   "cell_type": "code",
   "execution_count": null,
   "metadata": {
    "slideshow": {
     "slide_type": "fragment"
    }
   },
   "outputs": [],
   "source": [
    "pixel_location = Point({\"x\" :-10093991.604, \"y\" : 4689459.491, \"spatialReference\" : {\"wkid\" : 102100}})\n",
    "time = []\n",
    "dtime = []\n",
    "pixels = []\n",
    "\n",
    "for idx,row in enumerate(im_sdf.iterrows()):\n",
    "    oid = str(row[1]['OBJECTID'])\n",
    "    image_at_t = ndvi_lyr.filter_by(where=\"OBJECTID = \"+oid)#, geometry=the_geom)\n",
    "    pixel = image_at_t.identify(geometry=pixel_location)#, time_extent=t)\n",
    "    try:\n",
    "        pix = [float(x) for x in pixel['value'].split(',')]\n",
    "        pixels.append(pix)\n",
    "        time.append(float(row[1]['AcquisitionDate']))\n",
    "        dtime.append(row[1]['Date'])\n",
    "    except:\n",
    "        print(\"NoData\")"
   ]
  },
  {
   "cell_type": "code",
   "execution_count": null,
   "metadata": {
    "slideshow": {
     "slide_type": "skip"
    }
   },
   "outputs": [],
   "source": [
    "#import pickle\n",
    "\n",
    "#pixels_pickle = open(\"ndvi_vals.p\",\"wb\")\n",
    "#pickle.dump(pixels, pixels_pickle)\n",
    "#pixels_pickle.close()\n",
    "\n",
    "#dtime_pickle = open(\"dtime_vals.p\",\"wb\")\n",
    "#pickle.dump(dtime, dtime_pickle)\n",
    "#dtime_pickle.close()\n",
    "\n",
    "#time_pickle = open(\"time_vals.p\",\"wb\")\n",
    "#pickle.dump(time, time_pickle)\n",
    "#time_pickle.close()"
   ]
  },
  {
   "cell_type": "code",
   "execution_count": 21,
   "metadata": {
    "slideshow": {
     "slide_type": "skip"
    }
   },
   "outputs": [],
   "source": [
    "import pickle\n",
    "\n",
    "pixels = pickle.load(open(\"ndvi_vals.p\",\"rb\"))\n",
    "dtime = pickle.load(open(\"dtime_vals.p\",\"rb\"))\n",
    "time = pickle.load(open(\"time_vals.p\",\"rb\"))"
   ]
  },
  {
   "cell_type": "markdown",
   "metadata": {
    "slideshow": {
     "slide_type": "subslide"
    }
   },
   "source": [
    "# What are NDVI the pixel values?"
   ]
  },
  {
   "cell_type": "code",
   "execution_count": 22,
   "metadata": {
    "slideshow": {
     "slide_type": "fragment"
    }
   },
   "outputs": [
    {
     "data": {
      "text/plain": [
       "[[0.133884, 756.0],\n",
       " [0.146356, 752.0],\n",
       " [0.207259, 752.0],\n",
       " [0.146495, 752.0],\n",
       " [0.548569, 672.0]]"
      ]
     },
     "execution_count": 22,
     "metadata": {},
     "output_type": "execute_result"
    }
   ],
   "source": [
    "pixels[:5]"
   ]
  },
  {
   "cell_type": "markdown",
   "metadata": {
    "slideshow": {
     "slide_type": "fragment"
    }
   },
   "source": [
    "### The first column is the NDVI value, the second is the QA Band value"
   ]
  },
  {
   "cell_type": "markdown",
   "metadata": {
    "slideshow": {
     "slide_type": "subslide"
    }
   },
   "source": [
    "# What is the Landsat QA Band?\n",
    "<!--<img src=\"https://landsat.usgs.gov/sites/default/files/images/C1-BQA-Example.jpg\" width=\"400\" class=\"center\"/>-->\n",
    "<img src=\"https://hyspeedblog.files.wordpress.com/2014/08/landsat8_lake_tahoe.jpg\" width=\"400\" class=\"center\"/>\n",
    "\n",
    "### https://landsat.usgs.gov/collectionqualityband"
   ]
  },
  {
   "cell_type": "markdown",
   "metadata": {
    "slideshow": {
     "slide_type": "skip"
    }
   },
   "source": [
    "# I can separate the NDVI values and QA values into separate lists"
   ]
  },
  {
   "cell_type": "code",
   "execution_count": 23,
   "metadata": {
    "slideshow": {
     "slide_type": "skip"
    }
   },
   "outputs": [],
   "source": [
    "qa_band = []\n",
    "pixel_values = []\n",
    "for pix in pixels:\n",
    "    qa_band.append(pix[1])\n",
    "    pixel_values.append(pix[0])"
   ]
  },
  {
   "cell_type": "code",
   "execution_count": 24,
   "metadata": {
    "slideshow": {
     "slide_type": "skip"
    }
   },
   "outputs": [
    {
     "data": {
      "text/plain": [
       "[756.0, 752.0, 752.0, 752.0, 672.0]"
      ]
     },
     "execution_count": 24,
     "metadata": {},
     "output_type": "execute_result"
    }
   ],
   "source": [
    "qa_band[:5]"
   ]
  },
  {
   "cell_type": "markdown",
   "metadata": {
    "slideshow": {
     "slide_type": "slide"
    }
   },
   "source": [
    "# What does the NDVI curve look like?\n",
    "\n",
    "I'll do this first without any filtering and it's hard to whether there is a trend."
   ]
  },
  {
   "cell_type": "markdown",
   "metadata": {
    "slideshow": {
     "slide_type": "subslide"
    }
   },
   "source": [
    "# Plotting parameters"
   ]
  },
  {
   "cell_type": "code",
   "execution_count": 25,
   "metadata": {
    "slideshow": {
     "slide_type": "fragment"
    }
   },
   "outputs": [],
   "source": [
    "%matplotlib inline\n",
    "import matplotlib.pyplot as plt\n",
    "import seaborn as sns\n",
    "\n",
    "plt.style.use('seaborn-darkgrid')"
   ]
  },
  {
   "cell_type": "code",
   "execution_count": 26,
   "metadata": {
    "slideshow": {
     "slide_type": "subslide"
    }
   },
   "outputs": [
    {
     "data": {
      "text/plain": [
       "Text(0,0.5,'NDVI')"
      ]
     },
     "execution_count": 26,
     "metadata": {},
     "output_type": "execute_result"
    },
    {
     "data": {
      "image/png": "[encoded data removed]",
      "text/plain": [
       "<Figure size 1120x480 with 1 Axes>"
      ]
     },
     "metadata": {},
     "output_type": "display_data"
    }
   ],
   "source": [
    "fig=plt.figure(figsize=(14, 6), dpi= 80, facecolor='w', edgecolor='k')\n",
    "plt.plot(dtime, pixel_values, '*',label='linear') #indicde 0 is max\n",
    "plt.xlabel('Time')\n",
    "plt.ylabel('NDVI')"
   ]
  },
  {
   "cell_type": "markdown",
   "metadata": {
    "slideshow": {
     "slide_type": "subslide"
    }
   },
   "source": [
    "## Let's Filter the QA Bands\n",
    "\n",
    "We can use the Landsat QA band to filter out snow, ice, and clouds. Here we wll apply that filter."
   ]
  },
  {
   "cell_type": "code",
   "execution_count": 28,
   "metadata": {
    "slideshow": {
     "slide_type": "fragment"
    }
   },
   "outputs": [],
   "source": [
    "LANDSAT_5_CLEAR_PIX_VALS = [672, 676, 680, 684]\n",
    "QA_BAND_IND = 1\n",
    "\n",
    "clear_indices = [x for x in range(len(qa_band)) if qa_band[x] in LANDSAT_5_CLEAR_PIX_VALS]"
   ]
  },
  {
   "cell_type": "markdown",
   "metadata": {
    "slideshow": {
     "slide_type": "subslide"
    }
   },
   "source": [
    "# Let's only use times and pixels that are \"clear\""
   ]
  },
  {
   "cell_type": "code",
   "execution_count": 29,
   "metadata": {
    "slideshow": {
     "slide_type": "fragment"
    }
   },
   "outputs": [],
   "source": [
    "clear_pix = [pixel_values[val] for val in  clear_indices]\n",
    "clear_time = [time[x] for x in clear_indices]\n",
    "clear_dtime = [dtime[x] for x in clear_indices]"
   ]
  },
  {
   "cell_type": "markdown",
   "metadata": {
    "slideshow": {
     "slide_type": "skip"
    }
   },
   "source": [
    "# I'll sort the data too"
   ]
  },
  {
   "cell_type": "code",
   "execution_count": 30,
   "metadata": {
    "slideshow": {
     "slide_type": "skip"
    }
   },
   "outputs": [],
   "source": [
    "import numpy as np\n",
    "\n",
    "sorted_t = np.sort(clear_dtime)\n",
    "sorted_t_idx = np.argsort(clear_dtime)\n",
    "\n",
    "sorted_clear_time = np.sort(clear_time)\n",
    "\n",
    "sorted_clear_pix = [clear_pix[int(sorted_idx)] for sorted_idx in sorted_t_idx]"
   ]
  },
  {
   "cell_type": "markdown",
   "metadata": {
    "slideshow": {
     "slide_type": "subslide"
    }
   },
   "source": [
    "# Now, what does the plot look like now?"
   ]
  },
  {
   "cell_type": "code",
   "execution_count": 31,
   "metadata": {
    "slideshow": {
     "slide_type": "subslide"
    }
   },
   "outputs": [
    {
     "data": {
      "text/plain": [
       "Text(0,0.5,'NDVI')"
      ]
     },
     "execution_count": 31,
     "metadata": {},
     "output_type": "execute_result"
    },
    {
     "data": {
      "image/png": "[encoded data removed]",
      "text/plain": [
       "<Figure size 1120x480 with 1 Axes>"
      ]
     },
     "metadata": {},
     "output_type": "display_data"
    }
   ],
   "source": [
    "%matplotlib inline\n",
    "import matplotlib.pyplot as plt\n",
    "fig=plt.figure(figsize=(14, 6), dpi= 80, facecolor='w', edgecolor='k')\n",
    "plt.plot(sorted_t, sorted_clear_pix,label='linear') #indicde 0 is max\n",
    "plt.xlabel('Time')\n",
    "plt.ylabel('NDVI')"
   ]
  },
  {
   "cell_type": "markdown",
   "metadata": {
    "slideshow": {
     "slide_type": "subslide"
    }
   },
   "source": [
    "# It looks like something changed between 1996 and 1998\n",
    "- Higher max NDVI values from 1980 through 1996.\n",
    "- The range of NDVI values becomes more narrow from 1997 onward."
   ]
  },
  {
   "cell_type": "markdown",
   "metadata": {
    "slideshow": {
     "slide_type": "slide"
    }
   },
   "source": [
    "# Let's look at some images from 1996 and 1997\n",
    "- Filter on cloud cover and date range to identify cloud free images from 1996 and 1997"
   ]
  },
  {
   "cell_type": "markdown",
   "metadata": {
    "slideshow": {
     "slide_type": "skip"
    }
   },
   "source": [
    "# 1996"
   ]
  },
  {
   "cell_type": "code",
   "execution_count": 22,
   "metadata": {
    "slideshow": {
     "slide_type": "skip"
    }
   },
   "outputs": [
    {
     "data": {
      "text/html": [
       "<div>\n",
       "<style scoped>\n",
       "    .dataframe tbody tr th:only-of-type {\n",
       "        vertical-align: middle;\n",
       "    }\n",
       "\n",
       "    .dataframe tbody tr th {\n",
       "        vertical-align: top;\n",
       "    }\n",
       "\n",
       "    .dataframe thead th {\n",
       "        text-align: right;\n",
       "    }\n",
       "</style>\n",
       "<table border=\"1\" class=\"dataframe\">\n",
       "  <thead>\n",
       "    <tr style=\"text-align: right;\">\n",
       "      <th></th>\n",
       "      <th>AcquisitionDate</th>\n",
       "      <th>Best</th>\n",
       "      <th>Category</th>\n",
       "      <th>CenterX</th>\n",
       "      <th>CenterY</th>\n",
       "      <th>CloudCover</th>\n",
       "      <th>Dataset_ID</th>\n",
       "      <th>GroupName</th>\n",
       "      <th>HighPS</th>\n",
       "      <th>LANDSAT_PRODUCT_ID</th>\n",
       "      <th>...</th>\n",
       "      <th>Shape_Length</th>\n",
       "      <th>SunAzimuth</th>\n",
       "      <th>SunElevation</th>\n",
       "      <th>Tag</th>\n",
       "      <th>WRS_PATH</th>\n",
       "      <th>WRS_ROW</th>\n",
       "      <th>ZOrder</th>\n",
       "      <th>dayofYear</th>\n",
       "      <th>SHAPE</th>\n",
       "      <th>Date</th>\n",
       "    </tr>\n",
       "  </thead>\n",
       "  <tbody>\n",
       "    <tr>\n",
       "      <th>4</th>\n",
       "      <td>406397416657</td>\n",
       "      <td>151976033</td>\n",
       "      <td>1</td>\n",
       "      <td>-1.010513e+07</td>\n",
       "      <td>4.706396e+06</td>\n",
       "      <td>0.00</td>\n",
       "      <td>TM</td>\n",
       "      <td>LT04_L1TP_024033_19821117_20161005_01_T1_MTL</td>\n",
       "      <td>120</td>\n",
       "      <td>LT04_L1TP_024033_19821117_20161005_01_T1_MTL.txt</td>\n",
       "      <td>...</td>\n",
       "      <td>880376.309735</td>\n",
       "      <td>153.749175</td>\n",
       "      <td>27.723675</td>\n",
       "      <td>MS</td>\n",
       "      <td>24</td>\n",
       "      <td>33</td>\n",
       "      <td>None</td>\n",
       "      <td>321</td>\n",
       "      <td>{'rings': [[[-9969202.4746, 4790873.252599999]...</td>\n",
       "      <td>1982-11-17 16:10:16.657</td>\n",
       "    </tr>\n",
       "    <tr>\n",
       "      <th>5</th>\n",
       "      <td>410544648224</td>\n",
       "      <td>150976033</td>\n",
       "      <td>1</td>\n",
       "      <td>-1.010359e+07</td>\n",
       "      <td>4.706114e+06</td>\n",
       "      <td>0.00</td>\n",
       "      <td>TM</td>\n",
       "      <td>LT04_L1TP_024033_19830104_20161004_01_T1_MTL</td>\n",
       "      <td>120</td>\n",
       "      <td>LT04_L1TP_024033_19830104_20161004_01_T1_MTL.txt</td>\n",
       "      <td>...</td>\n",
       "      <td>880252.367092</td>\n",
       "      <td>150.749726</td>\n",
       "      <td>22.549642</td>\n",
       "      <td>MS</td>\n",
       "      <td>24</td>\n",
       "      <td>33</td>\n",
       "      <td>None</td>\n",
       "      <td>4</td>\n",
       "      <td>{'rings': [[[-9967658.3652, 4790701.680600002]...</td>\n",
       "      <td>1983-01-04 16:10:48.224</td>\n",
       "    </tr>\n",
       "    <tr>\n",
       "      <th>10</th>\n",
       "      <td>466531929654</td>\n",
       "      <td>192976033</td>\n",
       "      <td>1</td>\n",
       "      <td>-1.011276e+07</td>\n",
       "      <td>4.708273e+06</td>\n",
       "      <td>0.07</td>\n",
       "      <td>TM</td>\n",
       "      <td>LT05_L1GS_024033_19841013_20161004_01_T2_MTL</td>\n",
       "      <td>120</td>\n",
       "      <td>LT05_L1GS_024033_19841013_20161004_01_T2_MTL.txt</td>\n",
       "      <td>...</td>\n",
       "      <td>880403.840984</td>\n",
       "      <td>148.836439</td>\n",
       "      <td>37.918357</td>\n",
       "      <td>MS</td>\n",
       "      <td>24</td>\n",
       "      <td>33</td>\n",
       "      <td>None</td>\n",
       "      <td>287</td>\n",
       "      <td>{'rings': [[[-9976898.8592, 4792797.776100002]...</td>\n",
       "      <td>1984-10-13 16:12:09.654</td>\n",
       "    </tr>\n",
       "  </tbody>\n",
       "</table>\n",
       "<p>3 rows × 33 columns</p>\n",
       "</div>"
      ],
      "text/plain": [
       "    AcquisitionDate       Best  Category       CenterX       CenterY  \\\n",
       "4      406397416657  151976033         1 -1.010513e+07  4.706396e+06   \n",
       "5      410544648224  150976033         1 -1.010359e+07  4.706114e+06   \n",
       "10     466531929654  192976033         1 -1.011276e+07  4.708273e+06   \n",
       "\n",
       "    CloudCover Dataset_ID                                     GroupName  \\\n",
       "4         0.00         TM  LT04_L1TP_024033_19821117_20161005_01_T1_MTL   \n",
       "5         0.00         TM  LT04_L1TP_024033_19830104_20161004_01_T1_MTL   \n",
       "10        0.07         TM  LT05_L1GS_024033_19841013_20161004_01_T2_MTL   \n",
       "\n",
       "    HighPS                                LANDSAT_PRODUCT_ID  \\\n",
       "4      120  LT04_L1TP_024033_19821117_20161005_01_T1_MTL.txt   \n",
       "5      120  LT04_L1TP_024033_19830104_20161004_01_T1_MTL.txt   \n",
       "10     120  LT05_L1GS_024033_19841013_20161004_01_T2_MTL.txt   \n",
       "\n",
       "             ...             Shape_Length  SunAzimuth  SunElevation  Tag  \\\n",
       "4            ...            880376.309735  153.749175     27.723675   MS   \n",
       "5            ...            880252.367092  150.749726     22.549642   MS   \n",
       "10           ...            880403.840984  148.836439     37.918357   MS   \n",
       "\n",
       "   WRS_PATH  WRS_ROW  ZOrder dayofYear  \\\n",
       "4        24       33    None       321   \n",
       "5        24       33    None         4   \n",
       "10       24       33    None       287   \n",
       "\n",
       "                                                SHAPE                    Date  \n",
       "4   {'rings': [[[-9969202.4746, 4790873.252599999]... 1982-11-17 16:10:16.657  \n",
       "5   {'rings': [[[-9967658.3652, 4790701.680600002]... 1983-01-04 16:10:48.224  \n",
       "10  {'rings': [[[-9976898.8592, 4792797.776100002]... 1984-10-13 16:12:09.654  \n",
       "\n",
       "[3 rows x 33 columns]"
      ]
     },
     "execution_count": 22,
     "metadata": {},
     "output_type": "execute_result"
    }
   ],
   "source": [
    "date_df = im_sdf[im_sdf['CloudCover']<.10]\n",
    "date_df[(date_df['Date'] > '1996-01-01') & (date_df['Date'] < '1997-01-01')]\n",
    "date_df.head(3)"
   ]
  },
  {
   "cell_type": "code",
   "execution_count": 23,
   "metadata": {
    "slideshow": {
     "slide_type": "skip"
    }
   },
   "outputs": [],
   "source": [
    "map_1996 = gis.map(\"122 Arabian Path, O'Fallon, MO\")\n",
    "selected_1996 = ms_lyr.filter_by(where=\"Name = 'LT50240331996272XXX02'\")"
   ]
  },
  {
   "cell_type": "markdown",
   "metadata": {
    "slideshow": {
     "slide_type": "skip"
    }
   },
   "source": [
    "# 1997"
   ]
  },
  {
   "cell_type": "code",
   "execution_count": 24,
   "metadata": {
    "slideshow": {
     "slide_type": "skip"
    }
   },
   "outputs": [
    {
     "data": {
      "text/plain": [
       "337    LT50240331997082AAA02\n",
       "339    LT50240331997130XXX02\n",
       "341    LT50240331997194AAA02\n",
       "342    LT50240331997210XXX01\n",
       "346    LT50240331997274XXX02\n",
       "347    LT50240331997290AAA02\n",
       "348    LT50240331997322AAA02\n",
       "Name: Name, dtype: object"
      ]
     },
     "execution_count": 24,
     "metadata": {},
     "output_type": "execute_result"
    }
   ],
   "source": [
    "date_df = im_sdf[im_sdf['CloudCover']<.10]\n",
    "date_df[(date_df['Date'] > '1997-01-01') & (date_df['Date'] < '1998-01-01')].Name"
   ]
  },
  {
   "cell_type": "code",
   "execution_count": 25,
   "metadata": {
    "slideshow": {
     "slide_type": "skip"
    }
   },
   "outputs": [],
   "source": [
    "map_1997 = gis.map(\"122 Arabian Path, O'Fallon, MO\")\n",
    "selected_1997 = ms_lyr.filter_by(where=\"Name = 'LT50240331997274XXX02'\")"
   ]
  },
  {
   "cell_type": "markdown",
   "metadata": {
    "slideshow": {
     "slide_type": "subslide"
    }
   },
   "source": [
    "# 1996 and 1997"
   ]
  },
  {
   "cell_type": "code",
   "execution_count": 26,
   "metadata": {
    "slideshow": {
     "slide_type": "subslide"
    }
   },
   "outputs": [
    {
     "data": {
      "application/vnd.jupyter.widget-view+json": {
       "model_id": "e979a78c38ea4eda9f3afaa8ee890cb4",
       "version_major": 2,
       "version_minor": 0
      },
      "text/plain": [
       "HBox(children=(MapView(layout=Layout(flex='1 1', height='500px', min_width='40px', padding='10px')), MapView(l…"
      ]
     },
     "metadata": {},
     "output_type": "display_data"
    }
   ],
   "source": [
    "from ipywidgets import *\n",
    "\n",
    "map_1996.layout=Layout(flex='1 1', padding='10px',height='500px', min_width='40px')\n",
    "map_1997.layout=Layout(flex='1 1', padding='10px',height='500px', min_width='40px')\n",
    "box = HBox([map_1996, map_1997])\n",
    "box"
   ]
  },
  {
   "cell_type": "markdown",
   "metadata": {
    "slideshow": {
     "slide_type": "skip"
    }
   },
   "source": [
    "# Adding the years"
   ]
  },
  {
   "cell_type": "code",
   "execution_count": 27,
   "metadata": {
    "slideshow": {
     "slide_type": "skip"
    }
   },
   "outputs": [],
   "source": [
    "map_1996.add_layer(stretch(extract_band(selected_1996,[2,1,0]),\n",
    "                         stretch_type='StdDev',\n",
    "                         num_stddev=2.5,\n",
    "                         dra=True))"
   ]
  },
  {
   "cell_type": "code",
   "execution_count": 29,
   "metadata": {
    "slideshow": {
     "slide_type": "skip"
    }
   },
   "outputs": [],
   "source": [
    "map_1997.add_layer(stretch(extract_band(selected_1997,[2,1,0]),\n",
    "                         stretch_type='StdDev',\n",
    "                         num_stddev=2.5,\n",
    "                         dra=True))"
   ]
  },
  {
   "cell_type": "code",
   "execution_count": 30,
   "metadata": {
    "slideshow": {
     "slide_type": "skip"
    }
   },
   "outputs": [],
   "source": [
    "map_1996.zoom = 14\n",
    "map_1996.draw(geometry, symbol=symbol)\n",
    "map_1997.zoom = 14\n",
    "map_1997.draw(geometry, symbol=symbol)"
   ]
  },
  {
   "cell_type": "markdown",
   "metadata": {
    "slideshow": {
     "slide_type": "slide"
    }
   },
   "source": [
    "# Some other questions we could ask?\n",
    "- How is this occuring across the counrty?\n",
    "- Does this apply to other scenarios?\n",
    "- How do you implement this as an algorithm that can be run nationally? globally?"
   ]
  },
  {
   "cell_type": "code",
   "execution_count": null,
   "metadata": {
    "slideshow": {
     "slide_type": "skip"
    }
   },
   "outputs": [],
   "source": []
  }
 ],
 "metadata": {
  "celltoolbar": "Slideshow",
  "kernelspec": {
   "display_name": "Python 3",
   "language": "python",
   "name": "python3"
  },
  "language_info": {
   "codemirror_mode": {
    "name": "ipython",
    "version": 3
   },
   "file_extension": ".py",
   "mimetype": "text/x-python",
   "name": "python",
   "nbconvert_exporter": "python",
   "pygments_lexer": "ipython3",
   "version": "3.6.6"
  }
 },
 "nbformat": 4,
 "nbformat_minor": 2
}
