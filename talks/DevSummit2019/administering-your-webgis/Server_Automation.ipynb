{
 "cells": [
  {
   "cell_type": "markdown",
   "metadata": {
    "slideshow": {
     "slide_type": "slide"
    }
   },
   "source": [
    "# Server Automation\n",
    "## ArcGIS Enterprise"
   ]
  },
  {
   "cell_type": "code",
   "execution_count": 4,
   "metadata": {},
   "outputs": [
    {
     "name": "stdout",
     "output_type": "stream",
     "text": [
      "Servers = https://pythonapi.playground.esri.com/server/admin, https://pythonapi.playground.esri.com/ra/admin, https://pythonapi.playground.esri.com/ga/admin\n"
     ]
    }
   ],
   "source": [
    "from arcgis.gis import GIS\n",
    "gis = GIS(\"https://myportal\", \"admin_username\", \"password\")\n",
    "servers = gis.admin.servers.list()\n",
    "print(\"Servers = {}\".format(\", \".join(\n",
    "    server.url for server in servers)))\n",
    "server = servers[0]"
   ]
  },
  {
   "cell_type": "markdown",
   "metadata": {},
   "source": [
    "# (unfederated) ArcGIS Server"
   ]
  },
  {
   "cell_type": "code",
   "execution_count": 1,
   "metadata": {
    "slideshow": {
     "slide_type": "slide"
    }
   },
   "outputs": [
    {
     "name": "stderr",
     "output_type": "stream",
     "text": [
      "The GIS uses Integrated Windows Authentication which is currently only supported on the Windows platform\n"
     ]
    },
    {
     "data": {
      "text/plain": [
       "<Server at http://ec2-34-213-249-91.us-west-2.compute.amazonaws.com:6080/arcgis/admin>"
      ]
     },
     "execution_count": 1,
     "metadata": {},
     "output_type": "execute_result"
    }
   ],
   "source": [
    "from arcgis.gis.server import Server\n",
    "\n",
    "server_base_url = \"http://ec2-34-213-249-91.us-west-2.compute.amazonaws.com\"\n",
    "server = Server(url=\"{}:6080/arcgis/admin\".format(server_base_url),\n",
    "                tokenurl=\"{}:6080/arcgis/rest/generateToken\".format(server_base_url),\n",
    "                username=\"admin\",\n",
    "                password=\"<insert_password_here>\")\n",
    "server"
   ]
  },
  {
   "cell_type": "markdown",
   "metadata": {
    "slideshow": {
     "slide_type": "slide"
    }
   },
   "source": [
    "# Display folder contents"
   ]
  },
  {
   "cell_type": "code",
   "execution_count": 5,
   "metadata": {
    "slideshow": {
     "slide_type": "slide"
    }
   },
   "outputs": [
    {
     "name": "stdout",
     "output_type": "stream",
     "text": [
      "ebola/\n",
      "    ebola_outbreaks (MapServer)\n",
      "Health_Data/\n",
      "    Breast_Cancer_Data (MapServer)\n",
      "    Flu_Cases_2014 (MapServer)\n",
      "System/\n",
      "    CachingControllers (GPServer)\n",
      "    CachingToolsEx (GPServer)\n",
      "    CachingTools (GPServer)\n",
      "    PublishingToolsEx (GPServer)\n",
      "    PublishingTools (GPServer)\n",
      "    ReportingTools (GPServer)\n",
      "    SceneCachingControllers (GPServer)\n",
      "    SceneCachingTools (GPServer)\n",
      "    SyncToolsEx (GPServer)\n",
      "    SyncTools (GPServer)\n",
      "    UtilityNetworkTools (GPServer)\n",
      "Utilities/\n",
      "    Raster)\n"
     ]
    }
   ],
   "source": [
    "def _get_readable_item_str(url, folder):\n",
    "    \"\"\"Parse the service item URL to a readable representation \n",
    "    of the item and it's server type\"\"\"\n",
    "    item_part_of_url = url.split(\"{}/\".format(folder))[1]\n",
    "    return item_part_of_url.replace(\"/\", \" (\") + \")\" #Add (type) at end\n",
    "\n",
    "def _print_content_dir(server):\n",
    "    \"\"\"Prints out the content in all server dir (minus root dir)\"\"\"\n",
    "    for folder in server.content.folders:\n",
    "        print(\"{}/\".format(folder))\n",
    "        for item in server.content.list(folder):\n",
    "            print(\"    {}\".format(\n",
    "                _get_readable_item_str(item.url, folder)))\n",
    "\n",
    "_print_content_dir(server)"
   ]
  },
  {
   "cell_type": "code",
   "execution_count": 6,
   "metadata": {
    "slideshow": {
     "slide_type": "slide"
    }
   },
   "outputs": [
    {
     "data": {
      "text/plain": [
       "{'accessInformation': 'Esri, National Cancer Institute, National Vital Statistics System public use data file',\n",
       " 'catalogPath': '',\n",
       " 'culture': 'en-US',\n",
       " 'description': \"Age-adjusted breast cancer mortality rates are for the United States by county and reflect an average of the years 2006-2010. Data are from the National Cancer Institute's State Cancer Profiles web site http://statecancerprofiles.cancer.gov/). Data were downloaded from the interactive maps in at this web site: http://statecancerprofiles.cancer.gov/map/map.noimage.php. The data are for the U.S. by county for Breast Cancer Rates. The data are for White (including Hispanic) and Black (including Hispanic) Females of all ages. The rates are five-year averages of the number of deaths per 100,000 women, and the 100,000 women are the women in the resident population, or the population being described (e.g., black women of all ages for the black female mortality rate or white women of all ages for the white female mortality rate) (source: http://seer.cancer.gov/statistics/types/mortality.html.)\\n\\nCounty Health Rankings & Roadmap data include:\\n• Obesity - the percent of the adult population that has a body mass index greater than or equal to 30.\\n• Physical inactivity - the percent of the adult population that during the past month did not participate in any leisure-time physical activity or exercise such as running, calisthenics, golf, gardening, or walking for exercise.\\n• Excessive Drinking - the percent of adults that report either binge drinking (consuming more than 4 (women) or 5 (men) alcoholic beverages on a single occasion in the past 30 days) or heavy drinking (consuming more than one (women) or 2 (men) drinks per day on average.\",\n",
       " 'extent': [[-180, 0.0968832778805711], [180, 90]],\n",
       " 'guid': '366680B4-C108-4F1B-AC0E-CB7D29710C46',\n",
       " 'licenseInfo': '',\n",
       " 'name': 'Breast_Cancer_Data',\n",
       " 'snippet': 'Age-adjusted breast cancer mortality rates for the United States by county, 2006-2010',\n",
       " 'spatialReference': 'USA_Contiguous_Albers_Equal_Area_Conic',\n",
       " 'summary': 'Age-adjusted breast cancer mortality rates for the United States by county, 2006-2010',\n",
       " 'tags': ['breast',\n",
       "  'cancer',\n",
       "  'mortality',\n",
       "  'death',\n",
       "  'black',\n",
       "  'white',\n",
       "  'women',\n",
       "  'NCI'],\n",
       " 'thumbnail': 'thumbnail/thumbnail.png',\n",
       " 'title': 'Bridging the Breast Cancer Divide',\n",
       " 'type': 'Map Service',\n",
       " 'typeKeywords': ['Data', 'Service', 'Map Service', 'ArcGIS Server'],\n",
       " 'url': ''}"
      ]
     },
     "execution_count": 6,
     "metadata": {},
     "output_type": "execute_result"
    }
   ],
   "source": [
    "breast_cancer_item = server.content.list(\"Health_Data\")[0]\n",
    "breast_cancer_item.item_info"
   ]
  },
  {
   "cell_type": "markdown",
   "metadata": {
    "slideshow": {
     "slide_type": "slide"
    }
   },
   "source": [
    "# Display layer information"
   ]
  },
  {
   "cell_type": "code",
   "execution_count": 7,
   "metadata": {
    "slideshow": {
     "slide_type": "slide"
    }
   },
   "outputs": [
    {
     "name": "stdout",
     "output_type": "stream",
     "text": [
      "Breast_Cancer_Data                 /Breast_Cancer_Data/MapServer/0    \n",
      "Boundaries                         /Breast_Cancer_Data/MapServer/1    \n",
      "USA                                /Breast_Cancer_Data/MapServer/2    \n",
      "States                             /Breast_Cancer_Data/MapServer/3    \n",
      "Counties                           /Breast_Cancer_Data/MapServer/4    \n",
      "White Female Mortality Rate        /Breast_Cancer_Data/MapServer/5    \n",
      "Black Female Mortality Rate        /Breast_Cancer_Data/MapServer/6    \n",
      "Suppressed Data                    /Breast_Cancer_Data/MapServer/7    \n"
     ]
    }
   ],
   "source": [
    "for layer in breast_cancer_item.layers:\n",
    "    print(\"%-35s%-35s\" % (layer.properties[\"name\"], layer.url.split(\"Health_Data\")[1]))"
   ]
  },
  {
   "cell_type": "code",
   "execution_count": 8,
   "metadata": {
    "slideshow": {
     "slide_type": "slide"
    }
   },
   "outputs": [
    {
     "name": "stdout",
     "output_type": "stream",
     "text": [
      "From:  http://statecancerprofiles.cancer.gov/suppressed.html\n",
      "\n",
      "When the numbers of cases (or deaths) used to compute the incidence (and death) rates (and trends) are small, those rates (and trends) tend to have poor reliability. Therefore, to discourage misinterpretation and misuse of counts, rates, and trends that are unstable because of the small number of cases or deaths, these statistics are not shown in tables and figures if the counts are less than 16 for the time period. A count of less than approximately 16 in a numerator results in a standard error of the rate that is approximately 25% or more as large as the rate itself. Equivalently, a count of less than approximately 16 results in the width of the 95% confidence interval around the rate being at least as large as the rate itself. These relationships were derived under the assumption of a Poisson process and with the standard population age distribution close to the observed population age distribution. \n",
      "\n",
      "Another important reason for employing a cell suppression threshold value is to protect the confidentiality of patients whose data are included in a report by reducing or eliminating the risk of identity disclosure. The cell suppression threshold value of 16, which was selected to reduce misuse and misinterpretation of unstable rates and trends in this report, is more than sufficient to protect patient confidentiality given the low level of geographic and clinical detail provided. \n",
      "\n"
     ]
    }
   ],
   "source": [
    "suppressed_data_layer = breast_cancer_item.layers[7]\n",
    "print(suppressed_data_layer.properties[\"description\"])"
   ]
  },
  {
   "cell_type": "markdown",
   "metadata": {
    "slideshow": {
     "slide_type": "slide"
    }
   },
   "source": [
    "# Starting and stopping services"
   ]
  },
  {
   "cell_type": "code",
   "execution_count": 2,
   "metadata": {
    "slideshow": {
     "slide_type": "slide"
    }
   },
   "outputs": [
    {
     "name": "stdout",
     "output_type": "stream",
     "text": [
      "SampleWorldCities\n",
      "-----------------\n",
      "The SampleWorldCities service is provided so you can quickly and easily preview the functionality of the GIS server. Click the thumbnail image to open in a web application. This sample service is optional and can be deleted.\n"
     ]
    }
   ],
   "source": [
    "sample_service = server.services.list()[0]\n",
    "print(\"{}\\n-----------------\\n{}\".format(\n",
    "    sample_service.properties[\"serviceName\"],\n",
    "    sample_service.properties[\"description\"]))"
   ]
  },
  {
   "cell_type": "code",
   "execution_count": 3,
   "metadata": {
    "slideshow": {
     "slide_type": "slide"
    }
   },
   "outputs": [
    {
     "name": "stdout",
     "output_type": "stream",
     "text": [
      "Current status of service 'SampleWorldCities': STARTED\n"
     ]
    }
   ],
   "source": [
    "def print_service_status(service):\n",
    "    print(\"Current status of service '{}': {}\".format(\n",
    "        sample_service.properties[\"serviceName\"],\n",
    "        sample_service.status[\"realTimeState\"]))\n",
    "\n",
    "print_service_status(sample_service)"
   ]
  },
  {
   "cell_type": "code",
   "execution_count": 4,
   "metadata": {
    "slideshow": {
     "slide_type": "slide"
    }
   },
   "outputs": [
    {
     "name": "stdout",
     "output_type": "stream",
     "text": [
      "Stopping service 'SampleWorldCities' Succeeded\n",
      "Current status of service 'SampleWorldCities': STOPPED\n"
     ]
    }
   ],
   "source": [
    "outcome = sample_service.stop()\n",
    "print(\"Stopping service '{}' {}\".format(sample_service.properties[\"serviceName\"],\n",
    "                                        \"Succeeded\" if outcome else \"Failed\"))\n",
    "print_service_status(sample_service)"
   ]
  },
  {
   "cell_type": "code",
   "execution_count": 6,
   "metadata": {
    "slideshow": {
     "slide_type": "slide"
    }
   },
   "outputs": [
    {
     "name": "stdout",
     "output_type": "stream",
     "text": [
      "Starting service 'SampleWorldCities' Succeeded\n",
      "Current status of service 'SampleWorldCities': STARTED\n"
     ]
    }
   ],
   "source": [
    "outcome = sample_service.start()\n",
    "print(\"Starting service '{}' {}\".format(sample_service.properties[\"serviceName\"],\n",
    "                                        \"Succeeded\" if outcome else \"Failed\"))\n",
    "print_service_status(sample_service)"
   ]
  },
  {
   "cell_type": "markdown",
   "metadata": {
    "slideshow": {
     "slide_type": "slide"
    }
   },
   "source": [
    "# Log analysis"
   ]
  },
  {
   "cell_type": "code",
   "execution_count": 7,
   "metadata": {
    "slideshow": {
     "slide_type": "slide"
    }
   },
   "outputs": [
    {
     "data": {
      "text/plain": [
       "[{'code': 20010,\n",
       "  'elapsed': '',\n",
       "  'machine': '10.0.0.250',\n",
       "  'message': 'Error executing tool. CreateBuffers Job ID: jded85941342647cf9aa6550897d34af1 : {\"messageCode\": \"AO_100012\", \"message\": \"CreateBuffers failed.\"}\\nFailed to execute (CreateBuffers).',\n",
       "  'methodName': 'GPServerSync.CheckMessages',\n",
       "  'process': '31221',\n",
       "  'source': 'System/SpatialAnalysisTools.GPServer',\n",
       "  'thread': '81',\n",
       "  'time': 1519888394800,\n",
       "  'type': 'SEVERE',\n",
       "  'user': 'arcgis_python'},\n",
       " {'code': 500000,\n",
       "  'elapsed': '',\n",
       "  'machine': '10.0.0.250',\n",
       "  'message': 'Table not registered [db_60vw8.hsu_a635a.Fire_Buffers_2018_03_01_16_12_53_Fire_Buffers_2018]',\n",
       "  'methodName': '',\n",
       "  'process': '31221',\n",
       "  'source': 'System/SpatialAnalysisTools.GPServer',\n",
       "  'thread': '81',\n",
       "  'time': 1519888394291,\n",
       "  'type': 'SEVERE',\n",
       "  'user': 'arcgis_python'}]"
      ]
     },
     "execution_count": 7,
     "metadata": {},
     "output_type": "execute_result"
    }
   ],
   "source": [
    "import datetime\n",
    "from arcgis.gis import GIS\n",
    "g = GIS(\"https://python.playground.esri.com/portal\", \"arcgis_python\", \"<insert_password_here>\")\n",
    "server = g.admin.servers.list()[0]\n",
    "messages = server.logs.query(datetime.datetime.now().isoformat(),\n",
    "                             level=\"SEVERE\")[\"logMessages\"]\n",
    "messages[:2]"
   ]
  },
  {
   "cell_type": "code",
   "execution_count": 10,
   "metadata": {
    "slideshow": {
     "slide_type": "slide"
    }
   },
   "outputs": [
    {
     "name": "stdout",
     "output_type": "stream",
     "text": [
      "Error code 20010 reported 82 times\n",
      "Error code 500000 reported 78 times\n",
      "Error code 9000 reported 7 times\n",
      "Error code 6602 reported 12 times\n",
      "Error code 9003 reported 4 times\n",
      "Error code 9016 reported 4 times\n",
      "Error code 23836 reported 2 times\n",
      "Error code 17103 reported 1 times\n",
      "Error code 50000 reported 2 times\n"
     ]
    }
   ],
   "source": [
    "from itertools import groupby\n",
    "\n",
    "#Group messages by their error code\n",
    "grouped_messages = {}\n",
    "for key, group in groupby(messages, lambda x: x[\"code\"]):\n",
    "    if key in grouped_messages:\n",
    "        grouped_messages[key].append(list(group)[0])\n",
    "    else:\n",
    "        grouped_messages[key] = [list(group)[0]]\n",
    "\n",
    "#Display the frequency of displayed messages\n",
    "for key in grouped_messages:\n",
    "    print(\"Error code {} reported {} times\".format(key, len(grouped_messages[key])))"
   ]
  },
  {
   "cell_type": "code",
   "execution_count": 11,
   "metadata": {
    "slideshow": {
     "slide_type": "slide"
    }
   },
   "outputs": [
    {
     "data": {
      "text/plain": [
       "[{'code': 23836,\n",
       "  'elapsed': '',\n",
       "  'machine': '10.0.0.250',\n",
       "  'message': 'The maximum number of records allowed has been exceeded.',\n",
       "  'methodName': 'Generate',\n",
       "  'process': '27046',\n",
       "  'source': 'System/PublishingTools.GPServer',\n",
       "  'thread': '75',\n",
       "  'time': 1516300916506,\n",
       "  'type': 'SEVERE',\n",
       "  'user': 'arcgis_python'},\n",
       " {'code': 23836,\n",
       "  'elapsed': '',\n",
       "  'machine': '10.0.0.250',\n",
       "  'message': \"Failed to connect to the server.: ERROR: In-server connection failed. Server is federated but server environment doesn't have a referer.\",\n",
       "  'methodName': 'pubSD.execute',\n",
       "  'process': '31406',\n",
       "  'source': 'System/PublishingTools.GPServer',\n",
       "  'thread': '90',\n",
       "  'time': 1513116850188,\n",
       "  'type': 'SEVERE',\n",
       "  'user': '0123456789ABCDEF::arcgis_python'}]"
      ]
     },
     "execution_count": 11,
     "metadata": {},
     "output_type": "execute_result"
    }
   ],
   "source": [
    "grouped_messages[23836]"
   ]
  },
  {
   "cell_type": "code",
   "execution_count": 13,
   "metadata": {
    "slideshow": {
     "slide_type": "slide"
    }
   },
   "outputs": [
    {
     "data": {
      "image/png": "[encoded data removed]",
      "text/plain": [
       "<matplotlib.figure.Figure at 0x11c3ef390>"
      ]
     },
     "metadata": {},
     "output_type": "display_data"
    }
   ],
   "source": [
    "import matplotlib.pyplot as plt\n",
    "fig, ax = plt.subplots()\n",
    "plt.bar(list(str(x) for x in grouped_messages.keys()),\n",
    "        list(len(x) for x in grouped_messages.values()))\n",
    "fig.autofmt_xdate() #format x axis\n",
    "plt.show()"
   ]
  }
 ],
 "metadata": {
  "kernelspec": {
   "display_name": "Python 3",
   "language": "python",
   "name": "python3"
  },
  "language_info": {
   "codemirror_mode": {
    "name": "ipython",
    "version": 3
   },
   "file_extension": ".py",
   "mimetype": "text/x-python",
   "name": "python",
   "nbconvert_exporter": "python",
   "pygments_lexer": "ipython3",
   "version": "3.7.2"
  }
 },
 "nbformat": 4,
 "nbformat_minor": 2
}
