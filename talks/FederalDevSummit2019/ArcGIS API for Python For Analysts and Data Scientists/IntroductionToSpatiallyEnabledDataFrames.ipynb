{
 "cells": [
  {
   "cell_type": "code",
   "execution_count": 1,
   "metadata": {
    "slideshow": {
     "slide_type": "skip"
    }
   },
   "outputs": [
    {
     "data": {
      "text/html": [
       "<style>\n",
       ".container {width: 99% !important; }\n",
       "#logo\n",
       "{\n",
       "    float: left;\n",
       "}\n",
       "#names\n",
       "{\n",
       "    float: right;\n",
       "    \n",
       "}\n",
       "#logo2\n",
       "{\n",
       "    float: right;\n",
       "    height=100;\n",
       "    width=100;\n",
       "    margin: 5px;\n",
       "}\n",
       "#top_menu\n",
       "{\n",
       "    margin: 20px auto 0;\n",
       "    \n",
       "    height:300px;\n",
       "    width: 400px;\n",
       "}\n",
       "\n",
       "\n",
       "/* Bottom left text */\n",
       ".bottom-left {\n",
       "    position: absolute;\n",
       "    bottom: 8px;\n",
       "    left: 16px;\n",
       "}\n",
       "\n",
       "/* Top left text */\n",
       ".top-left {\n",
       "    position: absolute;\n",
       "    top: 20px;\n",
       "    left: 50px;\n",
       "}\n",
       "\n",
       "/* Top right text */\n",
       ".top-right {\n",
       "    position: absolute;\n",
       "    top: 8px;\n",
       "    right: 16px;\n",
       "}\n",
       "\n",
       "/* Bottom right text */\n",
       ".bottom-right {\n",
       "    position: absolute;\n",
       "    bottom: 8px;\n",
       "    right: 16px;\n",
       "}\n",
       "\n",
       "/* Centered text */\n",
       ".centered {\n",
       "    position: absolute;\n",
       "    top: 50%;\n",
       "    left: 50%;\n",
       "    transform: translate(-50%, -50%);\n",
       "}\n",
       "</style>"
      ],
      "text/plain": [
       "<IPython.core.display.HTML object>"
      ]
     },
     "metadata": {},
     "output_type": "display_data"
    }
   ],
   "source": [
    "%%html\n",
    "<style>\n",
    ".container {width: 99% !important; }\n",
    "#logo\n",
    "{\n",
    "    float: left;\n",
    "}\n",
    "#names\n",
    "{\n",
    "    float: right;\n",
    "    \n",
    "}\n",
    "#logo2\n",
    "{\n",
    "    float: right;\n",
    "    height=100;\n",
    "    width=100;\n",
    "    margin: 5px;\n",
    "}\n",
    "#top_menu\n",
    "{\n",
    "    margin: 20px auto 0;\n",
    "    \n",
    "    height:300px;\n",
    "    width: 400px;\n",
    "}\n",
    "\n",
    "\n",
    "/* Bottom left text */\n",
    ".bottom-left {\n",
    "    position: absolute;\n",
    "    bottom: 8px;\n",
    "    left: 16px;\n",
    "}\n",
    "\n",
    "/* Top left text */\n",
    ".top-left {\n",
    "    position: absolute;\n",
    "    top: 20px;\n",
    "    left: 50px;\n",
    "}\n",
    "\n",
    "/* Top right text */\n",
    ".top-right {\n",
    "    position: absolute;\n",
    "    top: 8px;\n",
    "    right: 16px;\n",
    "}\n",
    "\n",
    "/* Bottom right text */\n",
    ".bottom-right {\n",
    "    position: absolute;\n",
    "    bottom: 8px;\n",
    "    right: 16px;\n",
    "}\n",
    "\n",
    "/* Centered text */\n",
    ".centered {\n",
    "    position: absolute;\n",
    "    top: 50%;\n",
    "    left: 50%;\n",
    "    transform: translate(-50%, -50%);\n",
    "}\n",
    "</style>\n"
   ]
  },
  {
   "cell_type": "markdown",
   "metadata": {
    "heading_collapsed": true,
    "slideshow": {
     "slide_type": "slide"
    }
   },
   "source": [
    "# Pandas Cheat Sheet!\n",
    "\n",
    "<img src=\"./pandas_cheat_sheet.png\"/>"
   ]
  },
  {
   "cell_type": "markdown",
   "metadata": {
    "slideshow": {
     "slide_type": "subslide"
    }
   },
   "source": [
    "# Pandas Cheat Sheet!\n",
    "\n",
    "Download it here: https://github.com/pandas-dev/pandas/blob/master/doc/cheatsheet/Pandas_Cheat_Sheet.pdf"
   ]
  },
  {
   "cell_type": "markdown",
   "metadata": {
    "slideshow": {
     "slide_type": "subslide"
    }
   },
   "source": [
    "# Working with Spatially Enabled DataFrames\n",
    "\n",
    "- Use v1.5 of the Python API\n",
    "- Spatially Enabled DataFrames \n",
    "    + Pandas DataFrames\n",
    "    + Special `spatial` and `geom` namespaces\n",
    "    + Has a custom `Geometry` column type"
   ]
  },
  {
   "cell_type": "markdown",
   "metadata": {
    "slideshow": {
     "slide_type": "subslide"
    }
   },
   "source": [
    "# Working with Spatially Enabled DataFrames\n",
    "<center>\n",
    "<img src=\"./pandas_globe.png\"/></center>"
   ]
  },
  {
   "cell_type": "markdown",
   "metadata": {
    "slideshow": {
     "slide_type": "subslide"
    }
   },
   "source": [
    "# Getting Started\n",
    "\n",
    "- Uses `Accessor` design pattern\n",
    "    + This means a namespace will exist on the `pd.DataFrame` object\n"
   ]
  },
  {
   "cell_type": "code",
   "execution_count": 2,
   "metadata": {
    "slideshow": {
     "slide_type": "fragment"
    }
   },
   "outputs": [],
   "source": [
    "import seaborn as sns\n",
    "import pandas as pd\n",
    "from arcgis.gis import GIS\n",
    "import pandas as pd\n",
    "from arcgis.features import GeoAccessor, GeoSeriesAccessor "
   ]
  },
  {
   "cell_type": "markdown",
   "metadata": {
    "slideshow": {
     "slide_type": "subslide"
    }
   },
   "source": [
    "# Loading Spatial Data\n",
    "\n",
    "### Custom Data Reader Support:\n",
    "\n",
    "- feature classes\n",
    "    + shapefiles\n",
    "    + FGDB/sqlite Feature Classes\n",
    "    + SDE Feature Classes\n",
    "- Feature Layers\n"
   ]
  },
  {
   "cell_type": "code",
   "execution_count": 3,
   "metadata": {
    "slideshow": {
     "slide_type": "fragment"
    }
   },
   "outputs": [
    {
     "data": {
      "text/html": [
       "<div>\n",
       "<style scoped>\n",
       "    .dataframe tbody tr th:only-of-type {\n",
       "        vertical-align: middle;\n",
       "    }\n",
       "\n",
       "    .dataframe tbody tr th {\n",
       "        vertical-align: top;\n",
       "    }\n",
       "\n",
       "    .dataframe thead th {\n",
       "        text-align: right;\n",
       "    }\n",
       "</style>\n",
       "<table border=\"1\" class=\"dataframe\">\n",
       "  <thead>\n",
       "    <tr style=\"text-align: right;\">\n",
       "      <th></th>\n",
       "      <th>AGE_10_14</th>\n",
       "      <th>AGE_15_19</th>\n",
       "      <th>AGE_20_24</th>\n",
       "      <th>AGE_25_34</th>\n",
       "      <th>AGE_35_44</th>\n",
       "      <th>AGE_45_54</th>\n",
       "      <th>AGE_55_64</th>\n",
       "      <th>AGE_5_9</th>\n",
       "      <th>AGE_65_74</th>\n",
       "      <th>AGE_75_84</th>\n",
       "      <th>...</th>\n",
       "      <th>PLACEFIPS</th>\n",
       "      <th>POP2010</th>\n",
       "      <th>POPULATION</th>\n",
       "      <th>POP_CLASS</th>\n",
       "      <th>RENTER_OCC</th>\n",
       "      <th>SHAPE</th>\n",
       "      <th>ST</th>\n",
       "      <th>STFIPS</th>\n",
       "      <th>VACANT</th>\n",
       "      <th>WHITE</th>\n",
       "    </tr>\n",
       "  </thead>\n",
       "  <tbody>\n",
       "    <tr>\n",
       "      <th>0</th>\n",
       "      <td>2144</td>\n",
       "      <td>2314</td>\n",
       "      <td>2002</td>\n",
       "      <td>3531</td>\n",
       "      <td>3887</td>\n",
       "      <td>5643</td>\n",
       "      <td>6353</td>\n",
       "      <td>2067</td>\n",
       "      <td>5799</td>\n",
       "      <td>2850</td>\n",
       "      <td>...</td>\n",
       "      <td>0408220</td>\n",
       "      <td>39540</td>\n",
       "      <td>40346</td>\n",
       "      <td>6</td>\n",
       "      <td>6563</td>\n",
       "      <td>{\"x\": -12751215.004681978, \"y\": 4180278.406256...</td>\n",
       "      <td>AZ</td>\n",
       "      <td>04</td>\n",
       "      <td>6703</td>\n",
       "      <td>32367</td>\n",
       "    </tr>\n",
       "    <tr>\n",
       "      <th>1</th>\n",
       "      <td>876</td>\n",
       "      <td>867</td>\n",
       "      <td>574</td>\n",
       "      <td>1247</td>\n",
       "      <td>1560</td>\n",
       "      <td>2122</td>\n",
       "      <td>2342</td>\n",
       "      <td>733</td>\n",
       "      <td>2157</td>\n",
       "      <td>975</td>\n",
       "      <td>...</td>\n",
       "      <td>0424895</td>\n",
       "      <td>14364</td>\n",
       "      <td>14847</td>\n",
       "      <td>6</td>\n",
       "      <td>1397</td>\n",
       "      <td>{\"x\": -12755627.731115643, \"y\": 4164465.572856...</td>\n",
       "      <td>AZ</td>\n",
       "      <td>04</td>\n",
       "      <td>1389</td>\n",
       "      <td>12730</td>\n",
       "    </tr>\n",
       "    <tr>\n",
       "      <th>2</th>\n",
       "      <td>1000</td>\n",
       "      <td>1003</td>\n",
       "      <td>833</td>\n",
       "      <td>2311</td>\n",
       "      <td>2063</td>\n",
       "      <td>2374</td>\n",
       "      <td>3631</td>\n",
       "      <td>1068</td>\n",
       "      <td>6165</td>\n",
       "      <td>3776</td>\n",
       "      <td>...</td>\n",
       "      <td>0425030</td>\n",
       "      <td>26265</td>\n",
       "      <td>26977</td>\n",
       "      <td>6</td>\n",
       "      <td>1963</td>\n",
       "      <td>{\"x\": -12734674.294574209, \"y\": 3850472.723091...</td>\n",
       "      <td>AZ</td>\n",
       "      <td>04</td>\n",
       "      <td>9636</td>\n",
       "      <td>22995</td>\n",
       "    </tr>\n",
       "    <tr>\n",
       "      <th>3</th>\n",
       "      <td>2730</td>\n",
       "      <td>2850</td>\n",
       "      <td>2194</td>\n",
       "      <td>4674</td>\n",
       "      <td>5240</td>\n",
       "      <td>7438</td>\n",
       "      <td>8440</td>\n",
       "      <td>2499</td>\n",
       "      <td>8145</td>\n",
       "      <td>4608</td>\n",
       "      <td>...</td>\n",
       "      <td>0439370</td>\n",
       "      <td>52527</td>\n",
       "      <td>55041</td>\n",
       "      <td>7</td>\n",
       "      <td>6765</td>\n",
       "      <td>{\"x\": -12725332.21151233, \"y\": 4096532.0908223...</td>\n",
       "      <td>AZ</td>\n",
       "      <td>04</td>\n",
       "      <td>9159</td>\n",
       "      <td>47335</td>\n",
       "    </tr>\n",
       "    <tr>\n",
       "      <th>4</th>\n",
       "      <td>2732</td>\n",
       "      <td>2965</td>\n",
       "      <td>2024</td>\n",
       "      <td>3182</td>\n",
       "      <td>3512</td>\n",
       "      <td>3109</td>\n",
       "      <td>1632</td>\n",
       "      <td>2497</td>\n",
       "      <td>916</td>\n",
       "      <td>467</td>\n",
       "      <td>...</td>\n",
       "      <td>0463470</td>\n",
       "      <td>25505</td>\n",
       "      <td>29767</td>\n",
       "      <td>6</td>\n",
       "      <td>1681</td>\n",
       "      <td>{\"x\": -12770984.257542243, \"y\": 3826624.133935...</td>\n",
       "      <td>AZ</td>\n",
       "      <td>04</td>\n",
       "      <td>572</td>\n",
       "      <td>16120</td>\n",
       "    </tr>\n",
       "  </tbody>\n",
       "</table>\n",
       "<p>5 rows × 51 columns</p>\n",
       "</div>"
      ],
      "text/plain": [
       "   AGE_10_14  AGE_15_19  AGE_20_24  AGE_25_34  AGE_35_44  AGE_45_54  \\\n",
       "0       2144       2314       2002       3531       3887       5643   \n",
       "1        876        867        574       1247       1560       2122   \n",
       "2       1000       1003        833       2311       2063       2374   \n",
       "3       2730       2850       2194       4674       5240       7438   \n",
       "4       2732       2965       2024       3182       3512       3109   \n",
       "\n",
       "   AGE_55_64  AGE_5_9  AGE_65_74  AGE_75_84  ...    PLACEFIPS  POP2010  \\\n",
       "0       6353     2067       5799       2850  ...      0408220    39540   \n",
       "1       2342      733       2157        975  ...      0424895    14364   \n",
       "2       3631     1068       6165       3776  ...      0425030    26265   \n",
       "3       8440     2499       8145       4608  ...      0439370    52527   \n",
       "4       1632     2497        916        467  ...      0463470    25505   \n",
       "\n",
       "   POPULATION  POP_CLASS  RENTER_OCC  \\\n",
       "0       40346          6        6563   \n",
       "1       14847          6        1397   \n",
       "2       26977          6        1963   \n",
       "3       55041          7        6765   \n",
       "4       29767          6        1681   \n",
       "\n",
       "                                               SHAPE  ST STFIPS VACANT  WHITE  \n",
       "0  {\"x\": -12751215.004681978, \"y\": 4180278.406256...  AZ     04   6703  32367  \n",
       "1  {\"x\": -12755627.731115643, \"y\": 4164465.572856...  AZ     04   1389  12730  \n",
       "2  {\"x\": -12734674.294574209, \"y\": 3850472.723091...  AZ     04   9636  22995  \n",
       "3  {\"x\": -12725332.21151233, \"y\": 4096532.0908223...  AZ     04   9159  47335  \n",
       "4  {\"x\": -12770984.257542243, \"y\": 3826624.133935...  AZ     04    572  16120  \n",
       "\n",
       "[5 rows x 51 columns]"
      ]
     },
     "execution_count": 3,
     "metadata": {},
     "output_type": "execute_result"
    }
   ],
   "source": [
    "item = GIS().content.get(\"85d0ca4ea1ca4b9abf0c51b9bd34de2e\")\n",
    "flayer = item.layers[0]\n",
    "sdf = pd.DataFrame.spatial.from_layer(flayer) \n",
    "sdf.head()"
   ]
  },
  {
   "cell_type": "markdown",
   "metadata": {
    "slideshow": {
     "slide_type": "subslide"
    }
   },
   "source": [
    "# Examining Data Types\n",
    "\n",
    "- v1.5 introduces the `Geometry` data type\n",
    "- Allows users to explicitly determine what column is geographic in nature"
   ]
  },
  {
   "cell_type": "code",
   "execution_count": 4,
   "metadata": {
    "slideshow": {
     "slide_type": "-"
    }
   },
   "outputs": [
    {
     "name": "stdout",
     "output_type": "stream",
     "text": [
      "<class 'pandas.core.frame.DataFrame'>\n",
      "RangeIndex: 3905 entries, 0 to 3904\n",
      "Data columns (total 51 columns):\n",
      "AGE_10_14     3905 non-null int64\n",
      "AGE_15_19     3905 non-null int64\n",
      "AGE_20_24     3905 non-null int64\n",
      "AGE_25_34     3905 non-null int64\n",
      "AGE_35_44     3905 non-null int64\n",
      "AGE_45_54     3905 non-null int64\n",
      "AGE_55_64     3905 non-null int64\n",
      "AGE_5_9       3905 non-null int64\n",
      "AGE_65_74     3905 non-null int64\n",
      "AGE_75_84     3905 non-null int64\n",
      "AGE_85_UP     3905 non-null int64\n",
      "AGE_UNDER5    3905 non-null int64\n",
      "AMERI_ES      3905 non-null int64\n",
      "ASIAN         3905 non-null int64\n",
      "AVE_FAM_SZ    3905 non-null float64\n",
      "AVE_HH_SZ     3905 non-null float64\n",
      "BLACK         3905 non-null int64\n",
      "CAPITAL       3905 non-null object\n",
      "CLASS         3905 non-null object\n",
      "FAMILIES      3905 non-null int64\n",
      "FEMALES       3905 non-null int64\n",
      "FHH_CHILD     3905 non-null int64\n",
      "FID           3905 non-null int64\n",
      "HAWN_PI       3905 non-null int64\n",
      "HISPANIC      3905 non-null int64\n",
      "HOUSEHOLDS    3905 non-null int64\n",
      "HSEHLD_1_F    3905 non-null int64\n",
      "HSEHLD_1_M    3905 non-null int64\n",
      "HSE_UNITS     3905 non-null int64\n",
      "MALES         3905 non-null int64\n",
      "MARHH_CHD     3905 non-null int64\n",
      "MARHH_NO_C    3905 non-null int64\n",
      "MED_AGE       3905 non-null float64\n",
      "MED_AGE_F     3905 non-null float64\n",
      "MED_AGE_M     3905 non-null float64\n",
      "MHH_CHILD     3905 non-null int64\n",
      "MULT_RACE     3905 non-null int64\n",
      "NAME          3905 non-null object\n",
      "OBJECTID      3905 non-null int64\n",
      "OTHER         3905 non-null int64\n",
      "OWNER_OCC     3905 non-null int64\n",
      "PLACEFIPS     3905 non-null object\n",
      "POP2010       3905 non-null int64\n",
      "POPULATION    3905 non-null int64\n",
      "POP_CLASS     3905 non-null int64\n",
      "RENTER_OCC    3905 non-null int64\n",
      "SHAPE         3905 non-null geometry\n",
      "ST            3905 non-null object\n",
      "STFIPS        3905 non-null object\n",
      "VACANT        3905 non-null int64\n",
      "WHITE         3905 non-null int64\n",
      "dtypes: float64(5), geometry(1), int64(39), object(6)\n",
      "memory usage: 1.5+ MB\n"
     ]
    }
   ],
   "source": [
    "sdf.info()"
   ]
  },
  {
   "cell_type": "markdown",
   "metadata": {
    "slideshow": {
     "slide_type": "subslide"
    }
   },
   "source": [
    "# Getting Subsets of Data from `SeDF`\n",
    "\n",
    "- Services allow for the querying of data"
   ]
  },
  {
   "cell_type": "code",
   "execution_count": 5,
   "metadata": {
    "slideshow": {
     "slide_type": "-"
    }
   },
   "outputs": [
    {
     "data": {
      "text/html": [
       "<div>\n",
       "<style scoped>\n",
       "    .dataframe tbody tr th:only-of-type {\n",
       "        vertical-align: middle;\n",
       "    }\n",
       "\n",
       "    .dataframe tbody tr th {\n",
       "        vertical-align: top;\n",
       "    }\n",
       "\n",
       "    .dataframe thead th {\n",
       "        text-align: right;\n",
       "    }\n",
       "</style>\n",
       "<table border=\"1\" class=\"dataframe\">\n",
       "  <thead>\n",
       "    <tr style=\"text-align: right;\">\n",
       "      <th></th>\n",
       "      <th>AGE_10_14</th>\n",
       "      <th>AGE_15_19</th>\n",
       "      <th>AGE_20_24</th>\n",
       "      <th>AGE_25_34</th>\n",
       "      <th>AGE_35_44</th>\n",
       "      <th>AGE_45_54</th>\n",
       "      <th>AGE_55_64</th>\n",
       "      <th>AGE_5_9</th>\n",
       "      <th>AGE_65_74</th>\n",
       "      <th>AGE_75_84</th>\n",
       "      <th>...</th>\n",
       "      <th>PLACEFIPS</th>\n",
       "      <th>POP2010</th>\n",
       "      <th>POPULATION</th>\n",
       "      <th>POP_CLASS</th>\n",
       "      <th>RENTER_OCC</th>\n",
       "      <th>SHAPE</th>\n",
       "      <th>ST</th>\n",
       "      <th>STFIPS</th>\n",
       "      <th>VACANT</th>\n",
       "      <th>WHITE</th>\n",
       "    </tr>\n",
       "  </thead>\n",
       "  <tbody>\n",
       "    <tr>\n",
       "      <th>5</th>\n",
       "      <td>1413</td>\n",
       "      <td>1381</td>\n",
       "      <td>1106</td>\n",
       "      <td>2138</td>\n",
       "      <td>1815</td>\n",
       "      <td>1411</td>\n",
       "      <td>979</td>\n",
       "      <td>1557</td>\n",
       "      <td>525</td>\n",
       "      <td>307</td>\n",
       "      <td>...</td>\n",
       "      <td>0468080</td>\n",
       "      <td>14287</td>\n",
       "      <td>14980</td>\n",
       "      <td>6</td>\n",
       "      <td>1074</td>\n",
       "      <td>{\"x\": -12768343.256613126, \"y\": 3842463.708135...</td>\n",
       "      <td>AZ</td>\n",
       "      <td>04</td>\n",
       "      <td>261</td>\n",
       "      <td>9196</td>\n",
       "    </tr>\n",
       "    <tr>\n",
       "      <th>19</th>\n",
       "      <td>727</td>\n",
       "      <td>738</td>\n",
       "      <td>677</td>\n",
       "      <td>1380</td>\n",
       "      <td>1185</td>\n",
       "      <td>1333</td>\n",
       "      <td>1087</td>\n",
       "      <td>740</td>\n",
       "      <td>661</td>\n",
       "      <td>444</td>\n",
       "      <td>...</td>\n",
       "      <td>0602042</td>\n",
       "      <td>9932</td>\n",
       "      <td>10239</td>\n",
       "      <td>6</td>\n",
       "      <td>2056</td>\n",
       "      <td>{\"x\": -13613950.337588644, \"y\": 4931686.754090...</td>\n",
       "      <td>CA</td>\n",
       "      <td>06</td>\n",
       "      <td>267</td>\n",
       "      <td>8273</td>\n",
       "    </tr>\n",
       "    <tr>\n",
       "      <th>66</th>\n",
       "      <td>593</td>\n",
       "      <td>511</td>\n",
       "      <td>2323</td>\n",
       "      <td>2767</td>\n",
       "      <td>746</td>\n",
       "      <td>127</td>\n",
       "      <td>34</td>\n",
       "      <td>1229</td>\n",
       "      <td>4</td>\n",
       "      <td>2</td>\n",
       "      <td>...</td>\n",
       "      <td>0610561</td>\n",
       "      <td>10616</td>\n",
       "      <td>11869</td>\n",
       "      <td>6</td>\n",
       "      <td>2558</td>\n",
       "      <td>{\"x\": -13066582.116550362, \"y\": 3925650.676616...</td>\n",
       "      <td>CA</td>\n",
       "      <td>06</td>\n",
       "      <td>296</td>\n",
       "      <td>7530</td>\n",
       "    </tr>\n",
       "    <tr>\n",
       "      <th>84</th>\n",
       "      <td>888</td>\n",
       "      <td>988</td>\n",
       "      <td>900</td>\n",
       "      <td>1729</td>\n",
       "      <td>1479</td>\n",
       "      <td>1443</td>\n",
       "      <td>959</td>\n",
       "      <td>766</td>\n",
       "      <td>514</td>\n",
       "      <td>280</td>\n",
       "      <td>...</td>\n",
       "      <td>0613560</td>\n",
       "      <td>10866</td>\n",
       "      <td>11195</td>\n",
       "      <td>6</td>\n",
       "      <td>761</td>\n",
       "      <td>{\"x\": -13123874.446103057, \"y\": 4044249.710416...</td>\n",
       "      <td>CA</td>\n",
       "      <td>06</td>\n",
       "      <td>86</td>\n",
       "      <td>5898</td>\n",
       "    </tr>\n",
       "    <tr>\n",
       "      <th>93</th>\n",
       "      <td>1086</td>\n",
       "      <td>1228</td>\n",
       "      <td>1013</td>\n",
       "      <td>1822</td>\n",
       "      <td>1759</td>\n",
       "      <td>1478</td>\n",
       "      <td>1112</td>\n",
       "      <td>925</td>\n",
       "      <td>687</td>\n",
       "      <td>477</td>\n",
       "      <td>...</td>\n",
       "      <td>0614974</td>\n",
       "      <td>12823</td>\n",
       "      <td>13009</td>\n",
       "      <td>6</td>\n",
       "      <td>1763</td>\n",
       "      <td>{\"x\": -13151212.145276317, \"y\": 4027601.332347...</td>\n",
       "      <td>CA</td>\n",
       "      <td>06</td>\n",
       "      <td>88</td>\n",
       "      <td>6930</td>\n",
       "    </tr>\n",
       "  </tbody>\n",
       "</table>\n",
       "<p>5 rows × 51 columns</p>\n",
       "</div>"
      ],
      "text/plain": [
       "    AGE_10_14  AGE_15_19  AGE_20_24  AGE_25_34  AGE_35_44  AGE_45_54  \\\n",
       "5        1413       1381       1106       2138       1815       1411   \n",
       "19        727        738        677       1380       1185       1333   \n",
       "66        593        511       2323       2767        746        127   \n",
       "84        888        988        900       1729       1479       1443   \n",
       "93       1086       1228       1013       1822       1759       1478   \n",
       "\n",
       "    AGE_55_64  AGE_5_9  AGE_65_74  AGE_75_84  ...    PLACEFIPS  POP2010  \\\n",
       "5         979     1557        525        307  ...      0468080    14287   \n",
       "19       1087      740        661        444  ...      0602042     9932   \n",
       "66         34     1229          4          2  ...      0610561    10616   \n",
       "84        959      766        514        280  ...      0613560    10866   \n",
       "93       1112      925        687        477  ...      0614974    12823   \n",
       "\n",
       "    POPULATION  POP_CLASS  RENTER_OCC  \\\n",
       "5        14980          6        1074   \n",
       "19       10239          6        2056   \n",
       "66       11869          6        2558   \n",
       "84       11195          6         761   \n",
       "93       13009          6        1763   \n",
       "\n",
       "                                                SHAPE  ST STFIPS VACANT  WHITE  \n",
       "5   {\"x\": -12768343.256613126, \"y\": 3842463.708135...  AZ     04    261   9196  \n",
       "19  {\"x\": -13613950.337588644, \"y\": 4931686.754090...  CA     06    267   8273  \n",
       "66  {\"x\": -13066582.116550362, \"y\": 3925650.676616...  CA     06    296   7530  \n",
       "84  {\"x\": -13123874.446103057, \"y\": 4044249.710416...  CA     06     86   5898  \n",
       "93  {\"x\": -13151212.145276317, \"y\": 4027601.332347...  CA     06     88   6930  \n",
       "\n",
       "[5 rows x 51 columns]"
      ]
     },
     "execution_count": 5,
     "metadata": {},
     "output_type": "execute_result"
    }
   ],
   "source": [
    "q = sdf.AGE_45_54 < 1500\n",
    "sdf[q].head()"
   ]
  },
  {
   "cell_type": "markdown",
   "metadata": {
    "slideshow": {
     "slide_type": "subslide"
    }
   },
   "source": [
    "## Accessing Local GIS Data\n",
    "\n",
    "The `SeDF` can also access local geospatial data. Depending upon what Python modules you have installed, you'll have access to a wide range of functionality:  \n",
    "\n",
    "* If the **`ArcPy`** module is installed, meaning you have installed [`ArcGIS Pro`](http://pro.arcgis.com/en/pro-app/) and have installed the ArcGIS API for Python in that same environment, the `Spatial Enabled DataFrame` has methods to read a subset of the ArcGIS Desktop [supported geographic formats](http://desktop.arcgis.com/en/arcmap/10.3/manage-data/datatypes/about-geographic-data-formats.htm#ESRI_SECTION1_4835793C55C0439593A46FD5BC9E64B9), most notably:\n",
    " * [`feature classes`](http://desktop.arcgis.com/en/arcmap/latest/manage-data/feature-classes/a-quick-tour-of-feature-classes.htm)\n",
    " * [`shapefiles`](http://desktop.arcgis.com/en/arcmap/latest/manage-data/shapefiles/what-is-a-shapefile.htm),  \n",
    " * [`ArcGIS Server Web Services`](https://enterprise.arcgis.com/en/server/latest/publish-services/windows/what-types-of-services-can-you-publish.htm) and [`ArcGIS Online Hosted Feature Layers`](https://doc.arcgis.com/en/arcgis-online/share-maps/publish-features.htm) \n",
    " * [`OGC Services`](http://www.opengeospatial.org/standards)  \n",
    "* If the **ArcPy** module is not installed, the SEDF `from_featureclass` method only supports consuming an Esri [`shapefile`](http://desktop.arcgis.com/en/arcmap/latest/manage-data/shapefiles/what-is-a-shapefile.htm)\n",
    "> Please note that you must install the `pyshp` package to read shapefiles in environments that don't have access to `ArcPy`.\n",
    "    \n",
    "### Example: Reading a Shapefile\n"
   ]
  },
  {
   "cell_type": "code",
   "execution_count": 6,
   "metadata": {
    "slideshow": {
     "slide_type": "-"
    }
   },
   "outputs": [
    {
     "data": {
      "text/html": [
       "<div>\n",
       "<style scoped>\n",
       "    .dataframe tbody tr th:only-of-type {\n",
       "        vertical-align: middle;\n",
       "    }\n",
       "\n",
       "    .dataframe tbody tr th {\n",
       "        vertical-align: top;\n",
       "    }\n",
       "\n",
       "    .dataframe thead th {\n",
       "        text-align: right;\n",
       "    }\n",
       "</style>\n",
       "<table border=\"1\" class=\"dataframe\">\n",
       "  <thead>\n",
       "    <tr style=\"text-align: right;\">\n",
       "      <th></th>\n",
       "      <th>FID</th>\n",
       "      <th>NAME</th>\n",
       "      <th>CLASS</th>\n",
       "      <th>ST</th>\n",
       "      <th>STFIPS</th>\n",
       "      <th>PLACEFIP</th>\n",
       "      <th>CAPITAL</th>\n",
       "      <th>AREALAND</th>\n",
       "      <th>AREAWATER</th>\n",
       "      <th>POP_CLASS</th>\n",
       "      <th>...</th>\n",
       "      <th>MARHH_NO_C</th>\n",
       "      <th>MHH_CHILD</th>\n",
       "      <th>FHH_CHILD</th>\n",
       "      <th>FAMILIES</th>\n",
       "      <th>AVE_FAM_SZ</th>\n",
       "      <th>HSE_UNITS</th>\n",
       "      <th>VACANT</th>\n",
       "      <th>OWNER_OCC</th>\n",
       "      <th>RENTER_OCC</th>\n",
       "      <th>SHAPE</th>\n",
       "    </tr>\n",
       "  </thead>\n",
       "  <tbody>\n",
       "    <tr>\n",
       "      <th>3552</th>\n",
       "      <td>3552</td>\n",
       "      <td>East Providence</td>\n",
       "      <td>City</td>\n",
       "      <td>RI</td>\n",
       "      <td>44</td>\n",
       "      <td>22960</td>\n",
       "      <td></td>\n",
       "      <td>13.405</td>\n",
       "      <td>3.208</td>\n",
       "      <td>6</td>\n",
       "      <td>...</td>\n",
       "      <td>5658</td>\n",
       "      <td>306</td>\n",
       "      <td>1414</td>\n",
       "      <td>12850</td>\n",
       "      <td>2.99</td>\n",
       "      <td>21309</td>\n",
       "      <td>779</td>\n",
       "      <td>12096</td>\n",
       "      <td>8434</td>\n",
       "      <td>{\"x\": -71.3608270663031, \"y\": 41.8015001782688...</td>\n",
       "    </tr>\n",
       "    <tr>\n",
       "      <th>3553</th>\n",
       "      <td>3553</td>\n",
       "      <td>Pawtucket</td>\n",
       "      <td>City</td>\n",
       "      <td>RI</td>\n",
       "      <td>44</td>\n",
       "      <td>54640</td>\n",
       "      <td></td>\n",
       "      <td>8.736</td>\n",
       "      <td>0.259</td>\n",
       "      <td>7</td>\n",
       "      <td>...</td>\n",
       "      <td>6740</td>\n",
       "      <td>754</td>\n",
       "      <td>3242</td>\n",
       "      <td>18520</td>\n",
       "      <td>3.07</td>\n",
       "      <td>31819</td>\n",
       "      <td>1772</td>\n",
       "      <td>13331</td>\n",
       "      <td>16716</td>\n",
       "      <td>{\"x\": -71.3759815680945, \"y\": 41.8755001649055...</td>\n",
       "    </tr>\n",
       "    <tr>\n",
       "      <th>3554</th>\n",
       "      <td>3554</td>\n",
       "      <td>Fall River</td>\n",
       "      <td>City</td>\n",
       "      <td>MA</td>\n",
       "      <td>25</td>\n",
       "      <td>23000</td>\n",
       "      <td></td>\n",
       "      <td>31.022</td>\n",
       "      <td>7.202</td>\n",
       "      <td>7</td>\n",
       "      <td>...</td>\n",
       "      <td>9011</td>\n",
       "      <td>759</td>\n",
       "      <td>4247</td>\n",
       "      <td>23558</td>\n",
       "      <td>3.00</td>\n",
       "      <td>41857</td>\n",
       "      <td>3098</td>\n",
       "      <td>13521</td>\n",
       "      <td>25238</td>\n",
       "      <td>{\"x\": -71.1469910908576, \"y\": 41.6981001567767...</td>\n",
       "    </tr>\n",
       "    <tr>\n",
       "      <th>3555</th>\n",
       "      <td>3555</td>\n",
       "      <td>Somerset</td>\n",
       "      <td>Census Designated Place</td>\n",
       "      <td>MA</td>\n",
       "      <td>25</td>\n",
       "      <td>62465</td>\n",
       "      <td></td>\n",
       "      <td>8.109</td>\n",
       "      <td>3.867</td>\n",
       "      <td>6</td>\n",
       "      <td>...</td>\n",
       "      <td>2771</td>\n",
       "      <td>91</td>\n",
       "      <td>287</td>\n",
       "      <td>5260</td>\n",
       "      <td>2.98</td>\n",
       "      <td>7143</td>\n",
       "      <td>156</td>\n",
       "      <td>5723</td>\n",
       "      <td>1264</td>\n",
       "      <td>{\"x\": -71.15319106847441, \"y\": 41.748500174901...</td>\n",
       "    </tr>\n",
       "    <tr>\n",
       "      <th>3556</th>\n",
       "      <td>3556</td>\n",
       "      <td>New Bedford</td>\n",
       "      <td>City</td>\n",
       "      <td>MA</td>\n",
       "      <td>25</td>\n",
       "      <td>45000</td>\n",
       "      <td></td>\n",
       "      <td>20.122</td>\n",
       "      <td>3.904</td>\n",
       "      <td>7</td>\n",
       "      <td>...</td>\n",
       "      <td>8813</td>\n",
       "      <td>910</td>\n",
       "      <td>4701</td>\n",
       "      <td>24083</td>\n",
       "      <td>3.01</td>\n",
       "      <td>41511</td>\n",
       "      <td>3333</td>\n",
       "      <td>16711</td>\n",
       "      <td>21467</td>\n",
       "      <td>{\"x\": -70.93370908847608, \"y\": 41.651800155406...</td>\n",
       "    </tr>\n",
       "  </tbody>\n",
       "</table>\n",
       "<p>5 rows × 48 columns</p>\n",
       "</div>"
      ],
      "text/plain": [
       "       FID             NAME                    CLASS  ST STFIPS PLACEFIP  \\\n",
       "3552  3552  East Providence                     City  RI     44    22960   \n",
       "3553  3553        Pawtucket                     City  RI     44    54640   \n",
       "3554  3554       Fall River                     City  MA     25    23000   \n",
       "3555  3555         Somerset  Census Designated Place  MA     25    62465   \n",
       "3556  3556      New Bedford                     City  MA     25    45000   \n",
       "\n",
       "     CAPITAL  AREALAND  AREAWATER  POP_CLASS  \\\n",
       "3552            13.405      3.208          6   \n",
       "3553             8.736      0.259          7   \n",
       "3554            31.022      7.202          7   \n",
       "3555             8.109      3.867          6   \n",
       "3556            20.122      3.904          7   \n",
       "\n",
       "                            ...                          MARHH_NO_C  \\\n",
       "3552                        ...                                5658   \n",
       "3553                        ...                                6740   \n",
       "3554                        ...                                9011   \n",
       "3555                        ...                                2771   \n",
       "3556                        ...                                8813   \n",
       "\n",
       "      MHH_CHILD  FHH_CHILD  FAMILIES  AVE_FAM_SZ  HSE_UNITS  VACANT  \\\n",
       "3552        306       1414     12850        2.99      21309     779   \n",
       "3553        754       3242     18520        3.07      31819    1772   \n",
       "3554        759       4247     23558        3.00      41857    3098   \n",
       "3555         91        287      5260        2.98       7143     156   \n",
       "3556        910       4701     24083        3.01      41511    3333   \n",
       "\n",
       "      OWNER_OCC  RENTER_OCC                                              SHAPE  \n",
       "3552      12096        8434  {\"x\": -71.3608270663031, \"y\": 41.8015001782688...  \n",
       "3553      13331       16716  {\"x\": -71.3759815680945, \"y\": 41.8755001649055...  \n",
       "3554      13521       25238  {\"x\": -71.1469910908576, \"y\": 41.6981001567767...  \n",
       "3555       5723        1264  {\"x\": -71.15319106847441, \"y\": 41.748500174901...  \n",
       "3556      16711       21467  {\"x\": -70.93370908847608, \"y\": 41.651800155406...  \n",
       "\n",
       "[5 rows x 48 columns]"
      ]
     },
     "execution_count": 6,
     "metadata": {},
     "output_type": "execute_result"
    }
   ],
   "source": [
    "sdf = (pd.DataFrame\n",
    "       .spatial\n",
    "       .from_featureclass(\"./data/cities.shp\")) \n",
    "sdf.tail()"
   ]
  },
  {
   "cell_type": "markdown",
   "metadata": {
    "slideshow": {
     "slide_type": "subslide"
    }
   },
   "source": [
    "## Saving Spatially Enabled DataFrames\n",
    "\n",
    "The `SeDF` can export data to various data formats for use in other applications.\n",
    "\n",
    "\n",
    "### Export Options\n",
    "\n",
    "- [Feature Layers](https://doc.arcgis.com/en/arcgis-online/share-maps/hosted-web-layers.htm)\n",
    "- [Feature Collections](https://esri.github.io/arcgis-python-api/apidoc/html/arcgis.features.toc.html#featurelayercollection)\n",
    "- [Feature Set](https://esri.github.io/arcgis-python-api/apidoc/html/arcgis.features.toc.html#featureset)\n",
    "- [GeoJSON](http://geojson.org/)\n",
    "- [Feature Class](http://desktop.arcgis.com/en/arcmap/latest/manage-data/feature-classes/a-quick-tour-of-feature-classes.htm)\n",
    "- [Pickle](https://pythontips.com/2013/08/02/what-is-pickle-in-python/)\n"
   ]
  },
  {
   "cell_type": "markdown",
   "metadata": {
    "slideshow": {
     "slide_type": "subslide"
    }
   },
   "source": [
    "### Export to Feature Class\n",
    "\n",
    "The `SeDF` allows for the export of whole datasets or partial datasets.  \n",
    "\n",
    "#### Example: Export a whole dataset to a feature classes:"
   ]
  },
  {
   "cell_type": "code",
   "execution_count": 8,
   "metadata": {
    "slideshow": {
     "slide_type": "-"
    }
   },
   "outputs": [
    {
     "data": {
      "text/plain": [
       "'c:\\\\temp\\\\scratch.gdb\\\\mycities'"
      ]
     },
     "execution_count": 8,
     "metadata": {},
     "output_type": "execute_result"
    }
   ],
   "source": [
    "(sdf\n",
    " .spatial\n",
    " .to_featureclass(location=r\"c:\\temp\\scratch.gdb\\mycities\"))"
   ]
  },
  {
   "cell_type": "markdown",
   "metadata": {
    "slideshow": {
     "slide_type": "subslide"
    }
   },
   "source": [
    "#### Example: Export dataset with a subset of columns and top 5 records to a shapefile:"
   ]
  },
  {
   "cell_type": "code",
   "execution_count": 9,
   "metadata": {
    "slideshow": {
     "slide_type": "-"
    }
   },
   "outputs": [
    {
     "data": {
      "text/plain": [
       "'c:\\\\temp\\\\sdf_head_output.shp'"
      ]
     },
     "execution_count": 9,
     "metadata": {},
     "output_type": "execute_result"
    }
   ],
   "source": [
    "columns = ['NAME', 'ST', 'CAPITAL', 'STFIPS', 'POP2000', 'POP2007', 'SHAPE']\n",
    "(sdf[columns].head()\n",
    "             .spatial\n",
    "             .to_featureclass(location=r\"c:/temp/sdf_head_output.shp\"))"
   ]
  },
  {
   "cell_type": "markdown",
   "metadata": {
    "slideshow": {
     "slide_type": "slide"
    }
   },
   "source": [
    "# Visualizing Spatial Data\n",
    "\n",
    "The Spatially Enabled Dataframe has a `plot()` method that uses a syntax and symbology similar to [`matplotlib`](https://matplotlib.org) for visualizing features on a map. With this functionality, you can easily visualize aspects of your data both on a map and on a matplotlib chart using the same symbology!\n",
    "\n",
    "Some unique characteristics of working with the visualization capabalities on the SDF:\n",
    "- Uses Pythonic syntax\n",
    "- Uses the same syntax as visualizing charts on Pandas DataFrames\n",
    "- Uses symbology familiar to users of matplotlib\n",
    "- Works on features and attributes simultaneously, eliminating to a great extent the need to iterate over all features (rows)\n",
    "- Handles reading and writing to multiple formats aiding data conversion\n"
   ]
  },
  {
   "cell_type": "code",
   "execution_count": 10,
   "metadata": {
    "slideshow": {
     "slide_type": "subslide"
    }
   },
   "outputs": [
    {
     "data": {
      "text/html": [
       "<div class=\"item_container\" style=\"height: auto; overflow: hidden; border: 1px solid #cfcfcf; border-radius: 2px; background: #f6fafa; line-height: 1.21429em; padding: 10px;\">\n",
       "                    <div class=\"item_left\" style=\"width: 210px; float: left;\">\n",
       "                       <a href='https://www.arcgis.com/home/item.html?id=85d0ca4ea1ca4b9abf0c51b9bd34de2e' target='_blank'>\n",
       "                        <img src='https://www.arcgis.com/sharing/rest//content/items/85d0ca4ea1ca4b9abf0c51b9bd34de2e/info/thumbnail/usa_major_cities.jpg' class=\"itemThumbnail\">\n",
       "                       </a>\n",
       "                    </div>\n",
       "\n",
       "                    <div class=\"item_right\"     style=\"float: none; width: auto; overflow: hidden;\">\n",
       "                        <a href='https://www.arcgis.com/home/item.html?id=85d0ca4ea1ca4b9abf0c51b9bd34de2e' target='_blank'><b>USA Major Cities</b>\n",
       "                        </a>\n",
       "                        <br/>This layer presents the locations of cities within the United States with populations of approximately 10,000 or greater, all state capitals, and the national capital.<img src='https://www.arcgis.com/home/js/jsapi/esri/css/images/item_type_icons/featureshosted16.png' style=\"vertical-align:middle;\">Feature Layer Collection by esri_dm\n",
       "                        <br/>Last Modified: December 21, 2017\n",
       "                        <br/>0 comments, 1,575,967 views\n",
       "                    </div>\n",
       "                </div>\n",
       "                "
      ],
      "text/plain": [
       "<Item title:\"USA Major Cities\" type:Feature Layer Collection owner:esri_dm>"
      ]
     },
     "metadata": {},
     "output_type": "display_data"
    },
    {
     "data": {
      "text/html": [
       "<div>\n",
       "<style scoped>\n",
       "    .dataframe tbody tr th:only-of-type {\n",
       "        vertical-align: middle;\n",
       "    }\n",
       "\n",
       "    .dataframe tbody tr th {\n",
       "        vertical-align: top;\n",
       "    }\n",
       "\n",
       "    .dataframe thead th {\n",
       "        text-align: right;\n",
       "    }\n",
       "</style>\n",
       "<table border=\"1\" class=\"dataframe\">\n",
       "  <thead>\n",
       "    <tr style=\"text-align: right;\">\n",
       "      <th></th>\n",
       "      <th>AGE_10_14</th>\n",
       "      <th>AGE_15_19</th>\n",
       "      <th>AGE_20_24</th>\n",
       "      <th>AGE_25_34</th>\n",
       "      <th>AGE_35_44</th>\n",
       "      <th>AGE_45_54</th>\n",
       "      <th>AGE_55_64</th>\n",
       "      <th>AGE_5_9</th>\n",
       "      <th>AGE_65_74</th>\n",
       "      <th>AGE_75_84</th>\n",
       "      <th>...</th>\n",
       "      <th>PLACEFIPS</th>\n",
       "      <th>POP2010</th>\n",
       "      <th>POPULATION</th>\n",
       "      <th>POP_CLASS</th>\n",
       "      <th>RENTER_OCC</th>\n",
       "      <th>SHAPE</th>\n",
       "      <th>ST</th>\n",
       "      <th>STFIPS</th>\n",
       "      <th>VACANT</th>\n",
       "      <th>WHITE</th>\n",
       "    </tr>\n",
       "  </thead>\n",
       "  <tbody>\n",
       "    <tr>\n",
       "      <th>0</th>\n",
       "      <td>1413</td>\n",
       "      <td>1381</td>\n",
       "      <td>1106</td>\n",
       "      <td>2138</td>\n",
       "      <td>1815</td>\n",
       "      <td>1411</td>\n",
       "      <td>979</td>\n",
       "      <td>1557</td>\n",
       "      <td>525</td>\n",
       "      <td>307</td>\n",
       "      <td>...</td>\n",
       "      <td>0468080</td>\n",
       "      <td>14287</td>\n",
       "      <td>14980</td>\n",
       "      <td>6</td>\n",
       "      <td>1074</td>\n",
       "      <td>{\"x\": -12768343.256613126, \"y\": 3842463.708135...</td>\n",
       "      <td>AZ</td>\n",
       "      <td>04</td>\n",
       "      <td>261</td>\n",
       "      <td>9196</td>\n",
       "    </tr>\n",
       "    <tr>\n",
       "      <th>1</th>\n",
       "      <td>727</td>\n",
       "      <td>738</td>\n",
       "      <td>677</td>\n",
       "      <td>1380</td>\n",
       "      <td>1185</td>\n",
       "      <td>1333</td>\n",
       "      <td>1087</td>\n",
       "      <td>740</td>\n",
       "      <td>661</td>\n",
       "      <td>444</td>\n",
       "      <td>...</td>\n",
       "      <td>0602042</td>\n",
       "      <td>9932</td>\n",
       "      <td>10239</td>\n",
       "      <td>6</td>\n",
       "      <td>2056</td>\n",
       "      <td>{\"x\": -13613950.337588644, \"y\": 4931686.754090...</td>\n",
       "      <td>CA</td>\n",
       "      <td>06</td>\n",
       "      <td>267</td>\n",
       "      <td>8273</td>\n",
       "    </tr>\n",
       "    <tr>\n",
       "      <th>2</th>\n",
       "      <td>593</td>\n",
       "      <td>511</td>\n",
       "      <td>2323</td>\n",
       "      <td>2767</td>\n",
       "      <td>746</td>\n",
       "      <td>127</td>\n",
       "      <td>34</td>\n",
       "      <td>1229</td>\n",
       "      <td>4</td>\n",
       "      <td>2</td>\n",
       "      <td>...</td>\n",
       "      <td>0610561</td>\n",
       "      <td>10616</td>\n",
       "      <td>11869</td>\n",
       "      <td>6</td>\n",
       "      <td>2558</td>\n",
       "      <td>{\"x\": -13066582.116550362, \"y\": 3925650.676616...</td>\n",
       "      <td>CA</td>\n",
       "      <td>06</td>\n",
       "      <td>296</td>\n",
       "      <td>7530</td>\n",
       "    </tr>\n",
       "    <tr>\n",
       "      <th>3</th>\n",
       "      <td>888</td>\n",
       "      <td>988</td>\n",
       "      <td>900</td>\n",
       "      <td>1729</td>\n",
       "      <td>1479</td>\n",
       "      <td>1443</td>\n",
       "      <td>959</td>\n",
       "      <td>766</td>\n",
       "      <td>514</td>\n",
       "      <td>280</td>\n",
       "      <td>...</td>\n",
       "      <td>0613560</td>\n",
       "      <td>10866</td>\n",
       "      <td>11195</td>\n",
       "      <td>6</td>\n",
       "      <td>761</td>\n",
       "      <td>{\"x\": -13123874.446103057, \"y\": 4044249.710416...</td>\n",
       "      <td>CA</td>\n",
       "      <td>06</td>\n",
       "      <td>86</td>\n",
       "      <td>5898</td>\n",
       "    </tr>\n",
       "    <tr>\n",
       "      <th>4</th>\n",
       "      <td>1086</td>\n",
       "      <td>1228</td>\n",
       "      <td>1013</td>\n",
       "      <td>1822</td>\n",
       "      <td>1759</td>\n",
       "      <td>1478</td>\n",
       "      <td>1112</td>\n",
       "      <td>925</td>\n",
       "      <td>687</td>\n",
       "      <td>477</td>\n",
       "      <td>...</td>\n",
       "      <td>0614974</td>\n",
       "      <td>12823</td>\n",
       "      <td>13009</td>\n",
       "      <td>6</td>\n",
       "      <td>1763</td>\n",
       "      <td>{\"x\": -13151212.145276317, \"y\": 4027601.332347...</td>\n",
       "      <td>CA</td>\n",
       "      <td>06</td>\n",
       "      <td>88</td>\n",
       "      <td>6930</td>\n",
       "    </tr>\n",
       "  </tbody>\n",
       "</table>\n",
       "<p>5 rows × 51 columns</p>\n",
       "</div>"
      ],
      "text/plain": [
       "   AGE_10_14  AGE_15_19  AGE_20_24  AGE_25_34  AGE_35_44  AGE_45_54  \\\n",
       "0       1413       1381       1106       2138       1815       1411   \n",
       "1        727        738        677       1380       1185       1333   \n",
       "2        593        511       2323       2767        746        127   \n",
       "3        888        988        900       1729       1479       1443   \n",
       "4       1086       1228       1013       1822       1759       1478   \n",
       "\n",
       "   AGE_55_64  AGE_5_9  AGE_65_74  AGE_75_84  ...    PLACEFIPS  POP2010  \\\n",
       "0        979     1557        525        307  ...      0468080    14287   \n",
       "1       1087      740        661        444  ...      0602042     9932   \n",
       "2         34     1229          4          2  ...      0610561    10616   \n",
       "3        959      766        514        280  ...      0613560    10866   \n",
       "4       1112      925        687        477  ...      0614974    12823   \n",
       "\n",
       "   POPULATION  POP_CLASS  RENTER_OCC  \\\n",
       "0       14980          6        1074   \n",
       "1       10239          6        2056   \n",
       "2       11869          6        2558   \n",
       "3       11195          6         761   \n",
       "4       13009          6        1763   \n",
       "\n",
       "                                               SHAPE  ST STFIPS VACANT  WHITE  \n",
       "0  {\"x\": -12768343.256613126, \"y\": 3842463.708135...  AZ     04    261   9196  \n",
       "1  {\"x\": -13613950.337588644, \"y\": 4931686.754090...  CA     06    267   8273  \n",
       "2  {\"x\": -13066582.116550362, \"y\": 3925650.676616...  CA     06    296   7530  \n",
       "3  {\"x\": -13123874.446103057, \"y\": 4044249.710416...  CA     06     86   5898  \n",
       "4  {\"x\": -13151212.145276317, \"y\": 4027601.332347...  CA     06     88   6930  \n",
       "\n",
       "[5 rows x 51 columns]"
      ]
     },
     "execution_count": 10,
     "metadata": {},
     "output_type": "execute_result"
    }
   ],
   "source": [
    "from arcgis import GIS\n",
    "\n",
    "# create an anonymous connection to ArcGIS Online and get a public item\n",
    "item = GIS(verify_cert=False).content.get(\"85d0ca4ea1ca4b9abf0c51b9bd34de2e\")\n",
    "display(item)\n",
    "flayer = item.layers[0]\n",
    "\n",
    "# Specify a SQL query and get a sub-set of the original data as a DataFrame\n",
    "df = flayer.query(where=\"AGE_45_54 < 1500\", as_df=True)\n",
    "\n",
    "# Visualize the top 5 records\n",
    "df.head()"
   ]
  },
  {
   "cell_type": "markdown",
   "metadata": {
    "slideshow": {
     "slide_type": "subslide"
    }
   },
   "source": [
    "# Get the Data on a Map"
   ]
  },
  {
   "cell_type": "code",
   "execution_count": 15,
   "metadata": {
    "slideshow": {
     "slide_type": "-"
    }
   },
   "outputs": [
    {
     "data": {
      "application/vnd.jupyter.widget-view+json": {
       "model_id": "397179cfe61c41c48177d80c15f09246",
       "version_major": 2,
       "version_minor": 0
      },
      "text/plain": [
       "MapView(layout=Layout(height='400px', width='100%'))"
      ]
     },
     "metadata": {},
     "output_type": "display_data"
    },
    {
     "data": {
      "text/html": [
       "<div class=\"map-static-img-preview-a0aa58d8-4015-4635-835d-59f6ca8dc7f8\"><img src=\"\"></img></div>"
      ],
      "text/plain": [
       "<IPython.core.display.HTML object>"
      ]
     },
     "metadata": {},
     "output_type": "display_data"
    }
   ],
   "source": [
    "m1 = GIS().map('United States')\n",
    "m1"
   ]
  },
  {
   "cell_type": "code",
   "execution_count": 16,
   "metadata": {
    "slideshow": {
     "slide_type": "skip"
    }
   },
   "outputs": [],
   "source": [
    "m1.zoom = 4\n",
    "m1.center = [39,-98]"
   ]
  },
  {
   "cell_type": "code",
   "execution_count": 27,
   "metadata": {
    "slideshow": {
     "slide_type": "-"
    }
   },
   "outputs": [
    {
     "data": {
      "text/plain": [
       "True"
      ]
     },
     "execution_count": 27,
     "metadata": {},
     "output_type": "execute_result"
    }
   ],
   "source": [
    "df.spatial.plot(map_widget=m1)"
   ]
  },
  {
   "cell_type": "code",
   "execution_count": 29,
   "metadata": {
    "slideshow": {
     "slide_type": "-"
    }
   },
   "outputs": [
    {
     "data": {
      "text/plain": [
       "True"
      ]
     },
     "execution_count": 29,
     "metadata": {},
     "output_type": "execute_result"
    }
   ],
   "source": [
    "df.spatial.plot(map_widget=m1,\n",
    "            symbol_type='simple',\n",
    "            symbol_style='d', # d - for diamonds\n",
    "            colors='Greens_r',\n",
    "            cstep=10,\n",
    "            outline_color='Reds',\n",
    "            marker_size=10)"
   ]
  },
  {
   "cell_type": "markdown",
   "metadata": {
    "slideshow": {
     "slide_type": "subslide"
    }
   },
   "source": [
    "# Understanding renderers\n",
    "\n",
    "- Renderers define how to visually represent spatial data by defining symbols to represent individual features\n",
    "- A `SeDF` provides you with functionality to control the way features appear by choosing the symbol the renderer uses\n",
    "\n",
    "### Supported renderers  \n",
    "\n",
    "Supports the following renderers:\n",
    "\n",
    "| Renderer     \t| Syntax \t| Explanation                                                                                 \t|\n",
    "|--------------\t|--------\t|---------------------------------------------------------------------------------------------\t|\n",
    "| Simple       \t| 's'    \t| renders using one symbol only (the examples in [quickstart](#quickstart) above)             \t|\n",
    "| Unique       \t| 'u'    \t| renders each unique value with a different symbol. Suitable for categorical columns         \t|\n",
    "| Unique       \t| 'u-a'    \t| renders each unique value with a different symbol using arcade expressions. Suitable for categorical columns         \t|\n",
    "| Class breaks \t| 'c'    \t| renders each group of values with a different color or size. Suitable for numerical columns \t|\n",
    "| Heatmap      \t| 'h'    \t| renders density of point data as raster of varying colors                                   \t|\n"
   ]
  },
  {
   "cell_type": "markdown",
   "metadata": {
    "slideshow": {
     "slide_type": "subslide"
    }
   },
   "source": [
    "## Class Break Renderers\n",
    "\n",
    "- Provide a symbology based on an attribute\n",
    "- Classbreak symbols are numerical data\n",
    "\n",
    "![class color renderer](http://esri.github.io/arcgis-python-api/notebooks/nbimages/guide_sdf_class_breaks_color_1.png)"
   ]
  },
  {
   "cell_type": "raw",
   "metadata": {
    "slideshow": {
     "slide_type": "-"
    }
   },
   "source": [
    "df.spatial.plot(map_widget=m4,\n",
    "               renderer_type='c',  # for class breaks renderer\n",
    "               method='esriClassifyNaturalBreaks',  # classification algorithm\n",
    "               class_count=20,  # choose the number of classes\n",
    "               col='POPULATION',  # numeric column to classify\n",
    "               cmap='prism',  # color map to pick colors from for each class\n",
    "               alpha=0.7  # specify opacity\n",
    "               )"
   ]
  },
  {
   "cell_type": "markdown",
   "metadata": {
    "slideshow": {
     "slide_type": "skip"
    }
   },
   "source": [
    "## Colormaps and Colors\n",
    "The examples above use the default colormap `jet`. However you can customize them by using the `colors` paramater. You can specify colors as:\n",
    " * a string representing [named colors](https://matplotlib.org/examples/color/named_colors.html)\n",
    " * an array of [RGB](http://www.tomjewett.com/colors/rgb.html) values\n",
    " * a named [color ramp](https://matplotlib.org/examples/color/colormaps_reference.html). \n",
    "\n",
    "#### Color Array\n",
    "\n",
    "RGB + Alpha values can be used to create colors for symbols called in the `plot` method.  RGB stands for red, green, and blue respectively. Each RGB value is a value between 0-255, and the alpha value is a number between 0-255.\n",
    "\n",
    "**Example to produce :**\n",
    "\n",
    "    color = [255,0,100,1]\n",
    "\n",
    "The above example produces a purplish color. Many websites provide details about using colors. For example, see [here](https://www.rapidtables.com/web/color/RGB_Color.html) for a color codes chart."
   ]
  },
  {
   "cell_type": "markdown",
   "metadata": {
    "slideshow": {
     "slide_type": "skip"
    }
   },
   "source": [
    "# Colormaps and Colors\n",
    "## Colormap helpers\n",
    "\n",
    "To better understand the syntax for each input type, the ArcGIS API for Python provides some helper functions:\n",
    "\n",
    "```\n",
    "    from arcgis.mapping import display_colormaps\n",
    "    display_colormaps()\n",
    "```\n",
    "\n",
    "![colormap display](http://esri.github.io/arcgis-python-api/notebooks/nbimages/13_display_colormaps.png)"
   ]
  },
  {
   "cell_type": "markdown",
   "metadata": {
    "slideshow": {
     "slide_type": "skip"
    }
   },
   "source": [
    "# Symbology for Simple Renderers\n",
    "\n",
    "The ArcGIS API for Python provides you the ability to set symbol types so you control data appearance. The  `show_styles` function in the `arcgis.mapping` module assists you with the syntax to define symbols."
   ]
  },
  {
   "cell_type": "markdown",
   "metadata": {
    "slideshow": {
     "slide_type": "skip"
    }
   },
   "source": [
    "## Getting the different symbol styles"
   ]
  },
  {
   "cell_type": "code",
   "execution_count": 16,
   "metadata": {
    "slideshow": {
     "slide_type": "skip"
    }
   },
   "outputs": [],
   "source": [
    "from arcgis.mapping import show_styles"
   ]
  },
  {
   "cell_type": "code",
   "execution_count": 17,
   "metadata": {
    "slideshow": {
     "slide_type": "skip"
    }
   },
   "outputs": [
    {
     "data": {
      "text/html": [
       "<div>\n",
       "<style scoped>\n",
       "    .dataframe tbody tr th:only-of-type {\n",
       "        vertical-align: middle;\n",
       "    }\n",
       "\n",
       "    .dataframe tbody tr th {\n",
       "        vertical-align: top;\n",
       "    }\n",
       "\n",
       "    .dataframe thead th {\n",
       "        text-align: right;\n",
       "    }\n",
       "</style>\n",
       "<table border=\"1\" class=\"dataframe\">\n",
       "  <thead>\n",
       "    <tr style=\"text-align: right;\">\n",
       "      <th></th>\n",
       "      <th>MARKER</th>\n",
       "      <th>ESRI_STYLE</th>\n",
       "    </tr>\n",
       "  </thead>\n",
       "  <tbody>\n",
       "    <tr>\n",
       "      <th>0</th>\n",
       "      <td>o</td>\n",
       "      <td>Circle (default)</td>\n",
       "    </tr>\n",
       "    <tr>\n",
       "      <th>1</th>\n",
       "      <td>+</td>\n",
       "      <td>Cross</td>\n",
       "    </tr>\n",
       "    <tr>\n",
       "      <th>2</th>\n",
       "      <td>d</td>\n",
       "      <td>Diamond</td>\n",
       "    </tr>\n",
       "    <tr>\n",
       "      <th>3</th>\n",
       "      <td>s</td>\n",
       "      <td>Square</td>\n",
       "    </tr>\n",
       "    <tr>\n",
       "      <th>4</th>\n",
       "      <td>x</td>\n",
       "      <td>X</td>\n",
       "    </tr>\n",
       "  </tbody>\n",
       "</table>\n",
       "</div>"
      ],
      "text/plain": [
       "  MARKER        ESRI_STYLE\n",
       "0      o  Circle (default)\n",
       "1      +             Cross\n",
       "2      d           Diamond\n",
       "3      s            Square\n",
       "4      x                 X"
      ]
     },
     "execution_count": 17,
     "metadata": {},
     "output_type": "execute_result"
    }
   ],
   "source": [
    "show_styles(df.spatial.geometry_type[0])  # the DataFrame in this example is of Point type"
   ]
  },
  {
   "cell_type": "code",
   "execution_count": 18,
   "metadata": {
    "slideshow": {
     "slide_type": "skip"
    }
   },
   "outputs": [
    {
     "data": {
      "text/html": [
       "<div>\n",
       "<style scoped>\n",
       "    .dataframe tbody tr th:only-of-type {\n",
       "        vertical-align: middle;\n",
       "    }\n",
       "\n",
       "    .dataframe tbody tr th {\n",
       "        vertical-align: top;\n",
       "    }\n",
       "\n",
       "    .dataframe thead th {\n",
       "        text-align: right;\n",
       "    }\n",
       "</style>\n",
       "<table border=\"1\" class=\"dataframe\">\n",
       "  <thead>\n",
       "    <tr style=\"text-align: right;\">\n",
       "      <th></th>\n",
       "      <th>MARKER</th>\n",
       "      <th>ESRI_STYLE</th>\n",
       "    </tr>\n",
       "  </thead>\n",
       "  <tbody>\n",
       "    <tr>\n",
       "      <th>0</th>\n",
       "      <td>\\</td>\n",
       "      <td>Backward Diagonal</td>\n",
       "    </tr>\n",
       "    <tr>\n",
       "      <th>1</th>\n",
       "      <td>/</td>\n",
       "      <td>Forward Diagonal</td>\n",
       "    </tr>\n",
       "    <tr>\n",
       "      <th>2</th>\n",
       "      <td>|</td>\n",
       "      <td>Vertical Bar</td>\n",
       "    </tr>\n",
       "    <tr>\n",
       "      <th>3</th>\n",
       "      <td>-</td>\n",
       "      <td>Horizontal Bar</td>\n",
       "    </tr>\n",
       "    <tr>\n",
       "      <th>4</th>\n",
       "      <td>x</td>\n",
       "      <td>Diagonal Cross</td>\n",
       "    </tr>\n",
       "    <tr>\n",
       "      <th>5</th>\n",
       "      <td>+</td>\n",
       "      <td>Cross</td>\n",
       "    </tr>\n",
       "    <tr>\n",
       "      <th>6</th>\n",
       "      <td>s</td>\n",
       "      <td>Solid Fill (default)</td>\n",
       "    </tr>\n",
       "  </tbody>\n",
       "</table>\n",
       "</div>"
      ],
      "text/plain": [
       "  MARKER            ESRI_STYLE\n",
       "0      \\     Backward Diagonal\n",
       "1      /      Forward Diagonal\n",
       "2      |          Vertical Bar\n",
       "3      -        Horizontal Bar\n",
       "4      x        Diagonal Cross\n",
       "5      +                 Cross\n",
       "6      s  Solid Fill (default)"
      ]
     },
     "execution_count": 18,
     "metadata": {},
     "output_type": "execute_result"
    }
   ],
   "source": [
    "show_styles('Polygon')"
   ]
  },
  {
   "cell_type": "code",
   "execution_count": 19,
   "metadata": {
    "slideshow": {
     "slide_type": "skip"
    }
   },
   "outputs": [
    {
     "data": {
      "text/html": [
       "<div>\n",
       "<style scoped>\n",
       "    .dataframe tbody tr th:only-of-type {\n",
       "        vertical-align: middle;\n",
       "    }\n",
       "\n",
       "    .dataframe tbody tr th {\n",
       "        vertical-align: top;\n",
       "    }\n",
       "\n",
       "    .dataframe thead th {\n",
       "        text-align: right;\n",
       "    }\n",
       "</style>\n",
       "<table border=\"1\" class=\"dataframe\">\n",
       "  <thead>\n",
       "    <tr style=\"text-align: right;\">\n",
       "      <th></th>\n",
       "      <th>MARKER</th>\n",
       "      <th>ESRI_STYLE</th>\n",
       "    </tr>\n",
       "  </thead>\n",
       "  <tbody>\n",
       "    <tr>\n",
       "      <th>0</th>\n",
       "      <td>s</td>\n",
       "      <td>Solid (default)</td>\n",
       "    </tr>\n",
       "    <tr>\n",
       "      <th>1</th>\n",
       "      <td>-</td>\n",
       "      <td>Dash</td>\n",
       "    </tr>\n",
       "    <tr>\n",
       "      <th>2</th>\n",
       "      <td>-.</td>\n",
       "      <td>Dash Dot</td>\n",
       "    </tr>\n",
       "    <tr>\n",
       "      <th>3</th>\n",
       "      <td>-..</td>\n",
       "      <td>Dash Dot Dot</td>\n",
       "    </tr>\n",
       "    <tr>\n",
       "      <th>4</th>\n",
       "      <td>.</td>\n",
       "      <td>Dot</td>\n",
       "    </tr>\n",
       "    <tr>\n",
       "      <th>5</th>\n",
       "      <td>--</td>\n",
       "      <td>Long Dash</td>\n",
       "    </tr>\n",
       "    <tr>\n",
       "      <th>6</th>\n",
       "      <td>--.</td>\n",
       "      <td>Long Dash Dot</td>\n",
       "    </tr>\n",
       "    <tr>\n",
       "      <th>7</th>\n",
       "      <td>n</td>\n",
       "      <td>Null</td>\n",
       "    </tr>\n",
       "    <tr>\n",
       "      <th>8</th>\n",
       "      <td>s-</td>\n",
       "      <td>Short Dash</td>\n",
       "    </tr>\n",
       "    <tr>\n",
       "      <th>9</th>\n",
       "      <td>s-.</td>\n",
       "      <td>Short Dash Dot</td>\n",
       "    </tr>\n",
       "    <tr>\n",
       "      <th>10</th>\n",
       "      <td>s-..</td>\n",
       "      <td>Short Dash Dot Dot</td>\n",
       "    </tr>\n",
       "    <tr>\n",
       "      <th>11</th>\n",
       "      <td>s.</td>\n",
       "      <td>Short Dot</td>\n",
       "    </tr>\n",
       "  </tbody>\n",
       "</table>\n",
       "</div>"
      ],
      "text/plain": [
       "   MARKER          ESRI_STYLE\n",
       "0       s     Solid (default)\n",
       "1       -                Dash\n",
       "2      -.            Dash Dot\n",
       "3     -..        Dash Dot Dot\n",
       "4       .                 Dot\n",
       "5      --           Long Dash\n",
       "6     --.       Long Dash Dot\n",
       "7       n                Null\n",
       "8      s-          Short Dash\n",
       "9     s-.      Short Dash Dot\n",
       "10   s-..  Short Dash Dot Dot\n",
       "11     s.           Short Dot"
      ]
     },
     "execution_count": 19,
     "metadata": {},
     "output_type": "execute_result"
    }
   ],
   "source": [
    "show_styles('Line')"
   ]
  },
  {
   "cell_type": "code",
   "execution_count": 17,
   "metadata": {
    "scrolled": true,
    "slideshow": {
     "slide_type": "subslide"
    }
   },
   "outputs": [
    {
     "data": {
      "text/html": [
       "<div class=\"item_container\" style=\"height: auto; overflow: hidden; border: 1px solid #cfcfcf; border-radius: 2px; background: #f6fafa; line-height: 1.21429em; padding: 10px;\">\n",
       "                    <div class=\"item_left\" style=\"width: 210px; float: left;\">\n",
       "                       <a href='https://www.arcgis.com/home/item.html?id=91c6a5f6410b4991ab0db1d7c26daacb' target='_blank'>\n",
       "                        <img src='https://www.arcgis.com/sharing/rest//content/items/91c6a5f6410b4991ab0db1d7c26daacb/info/thumbnail/USA_Freeway_Systerm.jpg' class=\"itemThumbnail\">\n",
       "                       </a>\n",
       "                    </div>\n",
       "\n",
       "                    <div class=\"item_right\"     style=\"float: none; width: auto; overflow: hidden;\">\n",
       "                        <a href='https://www.arcgis.com/home/item.html?id=91c6a5f6410b4991ab0db1d7c26daacb' target='_blank'><b>USA Freeway System</b>\n",
       "                        </a>\n",
       "                        <br/>This layer presents rural and urban interstate highways.<img src='https://www.arcgis.com/home/js/jsapi/esri/css/images/item_type_icons/featureshosted16.png' style=\"vertical-align:middle;\">Feature Layer Collection by esri\n",
       "                        <br/>Last Modified: November 11, 2018\n",
       "                        <br/>2 comments, 1,078,798 views\n",
       "                    </div>\n",
       "                </div>\n",
       "                "
      ],
      "text/plain": [
       "<Item title:\"USA Freeway System\" type:Feature Layer Collection owner:esri>"
      ]
     },
     "execution_count": 17,
     "metadata": {},
     "output_type": "execute_result"
    }
   ],
   "source": [
    "gis = GIS()\n",
    "search_result = gis.content.search('title:USA freeway system AND owner:esri', \n",
    "                                  item_type = 'Feature Layer')\n",
    "freeway_item = search_result[0]\n",
    "freeway_item"
   ]
  },
  {
   "cell_type": "code",
   "execution_count": 18,
   "metadata": {
    "slideshow": {
     "slide_type": "subslide"
    }
   },
   "outputs": [
    {
     "data": {
      "text/html": [
       "<div>\n",
       "<style scoped>\n",
       "    .dataframe tbody tr th:only-of-type {\n",
       "        vertical-align: middle;\n",
       "    }\n",
       "\n",
       "    .dataframe tbody tr th {\n",
       "        vertical-align: top;\n",
       "    }\n",
       "\n",
       "    .dataframe thead th {\n",
       "        text-align: right;\n",
       "    }\n",
       "</style>\n",
       "<table border=\"1\" class=\"dataframe\">\n",
       "  <thead>\n",
       "    <tr style=\"text-align: right;\">\n",
       "      <th></th>\n",
       "      <th>CLASS</th>\n",
       "      <th>DIST_KM</th>\n",
       "      <th>DIST_MILES</th>\n",
       "      <th>NUMBER</th>\n",
       "      <th>OBJECTID</th>\n",
       "      <th>ROUTE_NUM</th>\n",
       "      <th>SHAPE</th>\n",
       "      <th>SUFFIX</th>\n",
       "    </tr>\n",
       "  </thead>\n",
       "  <tbody>\n",
       "    <tr>\n",
       "      <th>0</th>\n",
       "      <td>C</td>\n",
       "      <td>8.25588</td>\n",
       "      <td>5.12996</td>\n",
       "      <td>G8</td>\n",
       "      <td>1</td>\n",
       "      <td>CG8</td>\n",
       "      <td>{\"paths\": [[[-121.892261711658, 37.32391610061...</td>\n",
       "      <td></td>\n",
       "    </tr>\n",
       "    <tr>\n",
       "      <th>1</th>\n",
       "      <td>I</td>\n",
       "      <td>31.91401</td>\n",
       "      <td>19.83041</td>\n",
       "      <td>105</td>\n",
       "      <td>2</td>\n",
       "      <td>I105</td>\n",
       "      <td>{\"paths\": [[[-118.368428716304, 33.93055610296...</td>\n",
       "      <td></td>\n",
       "    </tr>\n",
       "    <tr>\n",
       "      <th>2</th>\n",
       "      <td>I</td>\n",
       "      <td>77.66011</td>\n",
       "      <td>48.25566</td>\n",
       "      <td>205</td>\n",
       "      <td>3</td>\n",
       "      <td>I205</td>\n",
       "      <td>{\"paths\": [[[-122.561879717577, 45.54969107336...</td>\n",
       "      <td></td>\n",
       "    </tr>\n",
       "    <tr>\n",
       "      <th>3</th>\n",
       "      <td>I</td>\n",
       "      <td>150.36972</td>\n",
       "      <td>93.43523</td>\n",
       "      <td>215</td>\n",
       "      <td>4</td>\n",
       "      <td>I215</td>\n",
       "      <td>{\"paths\": [[[-117.319118714291, 34.14458511089...</td>\n",
       "      <td></td>\n",
       "    </tr>\n",
       "    <tr>\n",
       "      <th>4</th>\n",
       "      <td>I</td>\n",
       "      <td>3.27579</td>\n",
       "      <td>2.03548</td>\n",
       "      <td>238</td>\n",
       "      <td>5</td>\n",
       "      <td>I238</td>\n",
       "      <td>{\"paths\": [[[-122.137358724846, 37.69015308551...</td>\n",
       "      <td></td>\n",
       "    </tr>\n",
       "  </tbody>\n",
       "</table>\n",
       "</div>"
      ],
      "text/plain": [
       "  CLASS    DIST_KM  DIST_MILES NUMBER  OBJECTID ROUTE_NUM  \\\n",
       "0     C    8.25588     5.12996     G8         1       CG8   \n",
       "1     I   31.91401    19.83041    105         2      I105   \n",
       "2     I   77.66011    48.25566    205         3      I205   \n",
       "3     I  150.36972    93.43523    215         4      I215   \n",
       "4     I    3.27579     2.03548    238         5      I238   \n",
       "\n",
       "                                               SHAPE SUFFIX  \n",
       "0  {\"paths\": [[[-121.892261711658, 37.32391610061...         \n",
       "1  {\"paths\": [[[-118.368428716304, 33.93055610296...         \n",
       "2  {\"paths\": [[[-122.561879717577, 45.54969107336...         \n",
       "3  {\"paths\": [[[-117.319118714291, 34.14458511089...         \n",
       "4  {\"paths\": [[[-122.137358724846, 37.69015308551...         "
      ]
     },
     "execution_count": 18,
     "metadata": {},
     "output_type": "execute_result"
    }
   ],
   "source": [
    "freeway_sdf = freeway_item.layers[0].query(as_df=True)\n",
    "freeway_sdf.head()"
   ]
  },
  {
   "cell_type": "code",
   "execution_count": 19,
   "metadata": {
    "scrolled": true,
    "slideshow": {
     "slide_type": "subslide"
    }
   },
   "outputs": [
    {
     "data": {
      "application/vnd.jupyter.widget-view+json": {
       "model_id": "3d32a8eabb1a40ada069985d89b79f9d",
       "version_major": 2,
       "version_minor": 0
      },
      "text/plain": [
       "MapView(layout=Layout(height='400px', width='100%'))"
      ]
     },
     "metadata": {},
     "output_type": "display_data"
    },
    {
     "data": {
      "text/html": [
       "<div class=\"map-static-img-preview-e9a2cc87-70b2-4415-8ab3-e5090854949e\"><img src=\"\"></img></div>"
      ],
      "text/plain": [
       "<IPython.core.display.HTML object>"
      ]
     },
     "metadata": {},
     "output_type": "display_data"
    }
   ],
   "source": [
    "m2 = gis.map('San Francisco')\n",
    "m2"
   ]
  },
  {
   "cell_type": "code",
   "execution_count": 23,
   "metadata": {
    "slideshow": {
     "slide_type": "skip"
    }
   },
   "outputs": [],
   "source": [
    "m2.center=[34.05,-118.2]\n",
    "m2.zoom=12\n",
    "m2.basemap='dark-gray'"
   ]
  },
  {
   "cell_type": "code",
   "execution_count": 20,
   "metadata": {
    "slideshow": {
     "slide_type": "-"
    }
   },
   "outputs": [
    {
     "data": {
      "text/plain": [
       "True"
      ]
     },
     "execution_count": 20,
     "metadata": {},
     "output_type": "execute_result"
    }
   ],
   "source": [
    "freeway_sdf.spatial.plot(map_widget=m2,\n",
    "                     cmap='Spectral',  \n",
    "                     symbol_type='simple',\n",
    "                     symbol_style=\"--\"\n",
    "                    )"
   ]
  },
  {
   "cell_type": "markdown",
   "metadata": {
    "slideshow": {
     "slide_type": "subslide"
    }
   },
   "source": [
    "# Spatial Data Wrangling\n",
    "## Case Study: Denny's Association with La Quinta\n",
    "\n",
    "```\n",
    "“La Quinta” is Spanish for “next to Denny’s.”\n",
    "     -- Mitch Hedberg, comedian\n",
    "```\n",
    "\n",
    "### 1. Get the Data"
   ]
  },
  {
   "cell_type": "code",
   "execution_count": 21,
   "metadata": {
    "slideshow": {
     "slide_type": "-"
    }
   },
   "outputs": [],
   "source": [
    "df_dennys = pd.read_csv(\"https://raw.githubusercontent.com/Sta199-S18/lab-04-wrangle-space-data/master/data/dennys.csv\")\n",
    "df_hotel = pd.read_csv(\"https://raw.githubusercontent.com/Sta199-S18/lab-04-wrangle-space-data/master/data/laquinta.csv\")"
   ]
  },
  {
   "cell_type": "code",
   "execution_count": 22,
   "metadata": {
    "slideshow": {
     "slide_type": "subslide"
    }
   },
   "outputs": [
    {
     "name": "stdout",
     "output_type": "stream",
     "text": [
      "<class 'pandas.core.frame.DataFrame'>\n",
      "RangeIndex: 1643 entries, 0 to 1642\n",
      "Data columns (total 6 columns):\n",
      "address      1643 non-null object\n",
      "city         1643 non-null object\n",
      "state        1643 non-null object\n",
      "zip          1643 non-null int64\n",
      "longitude    1643 non-null float64\n",
      "latitude     1643 non-null float64\n",
      "dtypes: float64(2), int64(1), object(3)\n",
      "memory usage: 77.1+ KB\n"
     ]
    }
   ],
   "source": [
    "df_dennys.info()"
   ]
  },
  {
   "cell_type": "code",
   "execution_count": 27,
   "metadata": {
    "slideshow": {
     "slide_type": "subslide"
    }
   },
   "outputs": [
    {
     "name": "stdout",
     "output_type": "stream",
     "text": [
      "<class 'pandas.core.frame.DataFrame'>\n",
      "RangeIndex: 909 entries, 0 to 908\n",
      "Data columns (total 6 columns):\n",
      "address      909 non-null object\n",
      "city         909 non-null object\n",
      "state        909 non-null object\n",
      "zip          909 non-null object\n",
      "longitude    909 non-null float64\n",
      "latitude     909 non-null float64\n",
      "dtypes: float64(2), object(4)\n",
      "memory usage: 42.7+ KB\n"
     ]
    }
   ],
   "source": [
    "df_hotel.info()"
   ]
  },
  {
   "cell_type": "markdown",
   "metadata": {
    "slideshow": {
     "slide_type": "subslide"
    }
   },
   "source": [
    "# Spatial Data Wrangling\n",
    "### 2. Spatially Enable the Data"
   ]
  },
  {
   "cell_type": "code",
   "execution_count": 23,
   "metadata": {
    "slideshow": {
     "slide_type": "-"
    }
   },
   "outputs": [],
   "source": [
    "sdf_dennys = (pd.DataFrame\n",
    "              .spatial\n",
    "              .from_xy(df_dennys, \n",
    "                       x_column='longitude', \n",
    "                       y_column='latitude'))\n",
    "sdf_hotel = (pd.DataFrame\n",
    "             .spatial\n",
    "             .from_xy(df_hotel, \n",
    "                      x_column='longitude', \n",
    "                      y_column='latitude'))"
   ]
  },
  {
   "cell_type": "code",
   "execution_count": 24,
   "metadata": {
    "scrolled": false,
    "slideshow": {
     "slide_type": "-"
    }
   },
   "outputs": [
    {
     "data": {
      "text/html": [
       "<div>\n",
       "<style scoped>\n",
       "    .dataframe tbody tr th:only-of-type {\n",
       "        vertical-align: middle;\n",
       "    }\n",
       "\n",
       "    .dataframe tbody tr th {\n",
       "        vertical-align: top;\n",
       "    }\n",
       "\n",
       "    .dataframe thead th {\n",
       "        text-align: right;\n",
       "    }\n",
       "</style>\n",
       "<table border=\"1\" class=\"dataframe\">\n",
       "  <thead>\n",
       "    <tr style=\"text-align: right;\">\n",
       "      <th></th>\n",
       "      <th>address</th>\n",
       "      <th>city</th>\n",
       "      <th>state</th>\n",
       "      <th>zip</th>\n",
       "      <th>longitude</th>\n",
       "      <th>latitude</th>\n",
       "      <th>SHAPE</th>\n",
       "    </tr>\n",
       "  </thead>\n",
       "  <tbody>\n",
       "    <tr>\n",
       "      <th>0</th>\n",
       "      <td>2900 Denali</td>\n",
       "      <td>Anchorage</td>\n",
       "      <td>AK</td>\n",
       "      <td>99503</td>\n",
       "      <td>-149.8767</td>\n",
       "      <td>61.1953</td>\n",
       "      <td>{\"x\": -149.8767, \"y\": 61.1953, \"spatialReferen...</td>\n",
       "    </tr>\n",
       "    <tr>\n",
       "      <th>1</th>\n",
       "      <td>3850 Debarr Road</td>\n",
       "      <td>Anchorage</td>\n",
       "      <td>AK</td>\n",
       "      <td>99508</td>\n",
       "      <td>-149.8090</td>\n",
       "      <td>61.2097</td>\n",
       "      <td>{\"x\": -149.809, \"y\": 61.2097, \"spatialReferenc...</td>\n",
       "    </tr>\n",
       "    <tr>\n",
       "      <th>2</th>\n",
       "      <td>1929 Airport Way</td>\n",
       "      <td>Fairbanks</td>\n",
       "      <td>AK</td>\n",
       "      <td>99701</td>\n",
       "      <td>-147.7600</td>\n",
       "      <td>64.8366</td>\n",
       "      <td>{\"x\": -147.76, \"y\": 64.8366, \"spatialReference...</td>\n",
       "    </tr>\n",
       "    <tr>\n",
       "      <th>3</th>\n",
       "      <td>230 Connector Dr</td>\n",
       "      <td>Auburn</td>\n",
       "      <td>AL</td>\n",
       "      <td>36849</td>\n",
       "      <td>-85.4681</td>\n",
       "      <td>32.6033</td>\n",
       "      <td>{\"x\": -85.4681, \"y\": 32.6033, \"spatialReferenc...</td>\n",
       "    </tr>\n",
       "    <tr>\n",
       "      <th>4</th>\n",
       "      <td>224 Daniel Payne Drive N</td>\n",
       "      <td>Birmingham</td>\n",
       "      <td>AL</td>\n",
       "      <td>35207</td>\n",
       "      <td>-86.8317</td>\n",
       "      <td>33.5615</td>\n",
       "      <td>{\"x\": -86.8317, \"y\": 33.5615, \"spatialReferenc...</td>\n",
       "    </tr>\n",
       "  </tbody>\n",
       "</table>\n",
       "</div>"
      ],
      "text/plain": [
       "                    address        city state    zip  longitude  latitude  \\\n",
       "0               2900 Denali   Anchorage    AK  99503  -149.8767   61.1953   \n",
       "1          3850 Debarr Road   Anchorage    AK  99508  -149.8090   61.2097   \n",
       "2          1929 Airport Way   Fairbanks    AK  99701  -147.7600   64.8366   \n",
       "3          230 Connector Dr      Auburn    AL  36849   -85.4681   32.6033   \n",
       "4  224 Daniel Payne Drive N  Birmingham    AL  35207   -86.8317   33.5615   \n",
       "\n",
       "                                               SHAPE  \n",
       "0  {\"x\": -149.8767, \"y\": 61.1953, \"spatialReferen...  \n",
       "1  {\"x\": -149.809, \"y\": 61.2097, \"spatialReferenc...  \n",
       "2  {\"x\": -147.76, \"y\": 64.8366, \"spatialReference...  \n",
       "3  {\"x\": -85.4681, \"y\": 32.6033, \"spatialReferenc...  \n",
       "4  {\"x\": -86.8317, \"y\": 33.5615, \"spatialReferenc...  "
      ]
     },
     "execution_count": 24,
     "metadata": {},
     "output_type": "execute_result"
    }
   ],
   "source": [
    "sdf_dennys.head()"
   ]
  },
  {
   "cell_type": "code",
   "execution_count": 25,
   "metadata": {
    "slideshow": {
     "slide_type": "skip"
    }
   },
   "outputs": [],
   "source": [
    "gis = GIS()"
   ]
  },
  {
   "cell_type": "code",
   "execution_count": 26,
   "metadata": {
    "scrolled": true,
    "slideshow": {
     "slide_type": "subslide"
    }
   },
   "outputs": [
    {
     "data": {
      "application/vnd.jupyter.widget-view+json": {
       "model_id": "ad60a5874bfc49adb380046648956a35",
       "version_major": 2,
       "version_minor": 0
      },
      "text/plain": [
       "MapView(layout=Layout(height='400px', width='100%'))"
      ]
     },
     "metadata": {},
     "output_type": "display_data"
    },
    {
     "data": {
      "text/html": [
       "<div class=\"map-static-img-preview-ef65105c-3666-4a7b-804b-9fd38696f44c\"><img src=\"\"></img></div>"
      ],
      "text/plain": [
       "<IPython.core.display.HTML object>"
      ]
     },
     "metadata": {},
     "output_type": "display_data"
    }
   ],
   "source": [
    "m_texas = gis.map('Texas')\n",
    "m_texas"
   ]
  },
  {
   "cell_type": "code",
   "execution_count": 30,
   "metadata": {},
   "outputs": [
    {
     "data": {
      "text/plain": [
       "True"
      ]
     },
     "execution_count": 30,
     "metadata": {},
     "output_type": "execute_result"
    }
   ],
   "source": [
    "sdf_dennys.spatial.plot(map_widget=m_texas, colors='Blues_r', cstep=20)\n",
    "sdf_hotel.spatial.plot(map_widget=m_texas, symbol_type='simple',\n",
    "            symbol_style='s',\n",
    "            colors='Reds_r',\n",
    "            cstep=10,\n",
    "            outline_color='Greens',\n",
    "            marker_size=10)"
   ]
  },
  {
   "cell_type": "markdown",
   "metadata": {
    "slideshow": {
     "slide_type": "subslide"
    }
   },
   "source": [
    "# Spatial Data Wrangling\n",
    "### 3. Find the Closest Denny's to La Quinta Hotel"
   ]
  },
  {
   "cell_type": "code",
   "execution_count": 32,
   "metadata": {
    "slideshow": {
     "slide_type": "fragment"
    }
   },
   "outputs": [],
   "source": [
    "from math import radians, cos, sin, asin, sqrt\n",
    "\n",
    "def haversine(lon1, lat1, lon2, lat2):\n",
    "    \"\"\"\n",
    "    Calculate the great circle distance between two points \n",
    "    on the earth (specified in decimal degrees)\n",
    "    \"\"\"\n",
    "    # convert decimal degrees to radians \n",
    "    lon1, lat1, lon2, lat2 = map(radians, [lon1, lat1, lon2, lat2])\n",
    "\n",
    "    # haversine formula \n",
    "    dlon = lon2 - lon1 \n",
    "    dlat = lat2 - lat1 \n",
    "    a = sin(dlat/2)**2 + cos(lat1) * cos(lat2) * sin(dlon/2)**2\n",
    "    c = 2 * asin(sqrt(a)) \n",
    "    r = 3958.756#6371 # Radius of earth in kilometers. Use 3956 for miles\n",
    "    return c * r"
   ]
  },
  {
   "cell_type": "markdown",
   "metadata": {
    "slideshow": {
     "slide_type": "subslide"
    }
   },
   "source": [
    "## Find the Closest La Quinta to a Denny's\n",
    "\n",
    "- create a spatial index (r-tree)\n",
    "- find the nearest point\n",
    "- save results to a list"
   ]
  },
  {
   "cell_type": "code",
   "execution_count": 33,
   "metadata": {
    "slideshow": {
     "slide_type": "-"
    }
   },
   "outputs": [],
   "source": [
    "sindex_denny = sdf_dennys.spatial.sindex(stype='rtree', reset=False)\n",
    "dennys_near_hotels = []\n",
    "for row in df_hotel[['longitude', 'latitude', 'SHAPE']].to_records():\n",
    "    row = list(row)\n",
    "    g = row[3]\n",
    "    source_idx = row[0]\n",
    "    latlong = (row[1], row[2])\n",
    "    r = [i for i in sindex_denny._index.nearest(latlong, num_results=1)]\n",
    "    r = list(set(r))\n",
    "    dists = [haversine(sdf_dennys['SHAPE'][i].x, sdf_dennys['SHAPE'][i].y, \n",
    "                       row[1], row[2]) for i in r]\n",
    "    row = row + r + dists\n",
    "    dennys_near_hotels.append(row)\n",
    " "
   ]
  },
  {
   "cell_type": "markdown",
   "metadata": {
    "slideshow": {
     "slide_type": "subslide"
    }
   },
   "source": [
    "### 4. Create Spatially Enabled DataFrame\n",
    "\n",
    "- create a DataFrame\n",
    "- set the geometry\n",
    "- display the results"
   ]
  },
  {
   "cell_type": "code",
   "execution_count": 35,
   "metadata": {
    "slideshow": {
     "slide_type": "subslide"
    }
   },
   "outputs": [
    {
     "data": {
      "text/html": [
       "<div>\n",
       "<style scoped>\n",
       "    .dataframe tbody tr th:only-of-type {\n",
       "        vertical-align: middle;\n",
       "    }\n",
       "\n",
       "    .dataframe tbody tr th {\n",
       "        vertical-align: top;\n",
       "    }\n",
       "\n",
       "    .dataframe thead th {\n",
       "        text-align: right;\n",
       "    }\n",
       "</style>\n",
       "<table border=\"1\" class=\"dataframe\">\n",
       "  <thead>\n",
       "    <tr style=\"text-align: right;\">\n",
       "      <th></th>\n",
       "      <th>hotel_idx</th>\n",
       "      <th>latitude</th>\n",
       "      <th>longtiude</th>\n",
       "      <th>SHAPE</th>\n",
       "      <th>dennys_idx</th>\n",
       "      <th>distance</th>\n",
       "    </tr>\n",
       "  </thead>\n",
       "  <tbody>\n",
       "    <tr>\n",
       "      <th>0</th>\n",
       "      <td>0</td>\n",
       "      <td>-76.188459</td>\n",
       "      <td>39.523216</td>\n",
       "      <td>{\"x\": -76.188459, \"y\": 39.523216, \"spatialRefe...</td>\n",
       "      <td>867</td>\n",
       "      <td>7.896402</td>\n",
       "    </tr>\n",
       "    <tr>\n",
       "      <th>1</th>\n",
       "      <td>1</td>\n",
       "      <td>-99.778765</td>\n",
       "      <td>32.413489</td>\n",
       "      <td>{\"x\": -99.778765, \"y\": 32.413489, \"spatialRefe...</td>\n",
       "      <td>1306</td>\n",
       "      <td>0.401129</td>\n",
       "    </tr>\n",
       "    <tr>\n",
       "      <th>2</th>\n",
       "      <td>2</td>\n",
       "      <td>-99.722688</td>\n",
       "      <td>32.491357</td>\n",
       "      <td>{\"x\": -99.722688, \"y\": 32.491357, \"spatialRefe...</td>\n",
       "      <td>1305</td>\n",
       "      <td>5.847841</td>\n",
       "    </tr>\n",
       "    <tr>\n",
       "      <th>3</th>\n",
       "      <td>3</td>\n",
       "      <td>-84.656087</td>\n",
       "      <td>34.082039</td>\n",
       "      <td>{\"x\": -84.656087, \"y\": 34.082039, \"spatialRefe...</td>\n",
       "      <td>696</td>\n",
       "      <td>14.322229</td>\n",
       "    </tr>\n",
       "    <tr>\n",
       "      <th>4</th>\n",
       "      <td>4</td>\n",
       "      <td>-96.636515</td>\n",
       "      <td>34.781805</td>\n",
       "      <td>{\"x\": -96.636515, \"y\": 34.781805, \"spatialRefe...</td>\n",
       "      <td>1206</td>\n",
       "      <td>44.485741</td>\n",
       "    </tr>\n",
       "  </tbody>\n",
       "</table>\n",
       "</div>"
      ],
      "text/plain": [
       "   hotel_idx   latitude  longtiude  \\\n",
       "0          0 -76.188459  39.523216   \n",
       "1          1 -99.778765  32.413489   \n",
       "2          2 -99.722688  32.491357   \n",
       "3          3 -84.656087  34.082039   \n",
       "4          4 -96.636515  34.781805   \n",
       "\n",
       "                                               SHAPE  dennys_idx   distance  \n",
       "0  {\"x\": -76.188459, \"y\": 39.523216, \"spatialRefe...         867   7.896402  \n",
       "1  {\"x\": -99.778765, \"y\": 32.413489, \"spatialRefe...        1306   0.401129  \n",
       "2  {\"x\": -99.722688, \"y\": 32.491357, \"spatialRefe...        1305   5.847841  \n",
       "3  {\"x\": -84.656087, \"y\": 34.082039, \"spatialRefe...         696  14.322229  \n",
       "4  {\"x\": -96.636515, \"y\": 34.781805, \"spatialRefe...        1206  44.485741  "
      ]
     },
     "execution_count": 35,
     "metadata": {},
     "output_type": "execute_result"
    }
   ],
   "source": [
    "df_dist_matrix = pd.DataFrame(data=dennys_near_hotels, columns=['hotel_idx', 'latitude', 'longtiude', \n",
    "                                                                'SHAPE','dennys_idx','distance'])\n",
    "df_dist_matrix.spatial.set_geometry('SHAPE')\n",
    "df_dist_matrix.head()"
   ]
  },
  {
   "cell_type": "markdown",
   "metadata": {
    "slideshow": {
     "slide_type": "subslide"
    }
   },
   "source": [
    "### 5. Answer the Question are La Quintas near Denny's?\n"
   ]
  },
  {
   "cell_type": "code",
   "execution_count": 36,
   "metadata": {
    "slideshow": {
     "slide_type": "-"
    }
   },
   "outputs": [
    {
     "data": {
      "text/plain": [
       "count     909.000000\n",
       "mean       17.456487\n",
       "std        64.123183\n",
       "min         0.009780\n",
       "25%         0.967422\n",
       "50%         3.272760\n",
       "75%        13.564601\n",
       "max      1331.920756\n",
       "Name: distance, dtype: float64"
      ]
     },
     "execution_count": 36,
     "metadata": {},
     "output_type": "execute_result"
    }
   ],
   "source": [
    "df_dist_matrix['distance'].describe()"
   ]
  },
  {
   "cell_type": "markdown",
   "metadata": {
    "slideshow": {
     "slide_type": "subslide"
    }
   },
   "source": [
    "### Denny's Less than 10 Miles\n",
    "\n",
    "- Clearly the someone can happily sleep at a La Quinta Inn and eat at a Denny's provided that they avoid the few La Quinta Inns that are not located near a Denny's\n",
    "- A major are within walking distance, but some are a short ride to the location\n"
   ]
  },
  {
   "cell_type": "code",
   "execution_count": 37,
   "metadata": {
    "slideshow": {
     "slide_type": "-"
    }
   },
   "outputs": [
    {
     "data": {
      "text/plain": [
       "646"
      ]
     },
     "execution_count": 37,
     "metadata": {},
     "output_type": "execute_result"
    },
    {
     "data": {
      "image/png": "[encoded data removed]",
      "text/plain": [
       "<Figure size 432x288 with 1 Axes>"
      ]
     },
     "metadata": {},
     "output_type": "display_data"
    }
   ],
   "source": [
    "q = df_dist_matrix.distance <= 10\n",
    "ax = sns.distplot(df_dist_matrix[q]['distance'])\n",
    "len(df_dist_matrix[q])"
   ]
  },
  {
   "cell_type": "markdown",
   "metadata": {
    "slideshow": {
     "slide_type": "slide"
    }
   },
   "source": [
    "# More Results\n",
    "\n",
    "1. **646** out of **909** La Quintas are within 10 miles of a Denny's\n",
    "2. Of the **646**, how many La Quintas are within 3 Miles: **426**"
   ]
  },
  {
   "cell_type": "code",
   "execution_count": 38,
   "metadata": {
    "slideshow": {
     "slide_type": "-"
    }
   },
   "outputs": [
    {
     "data": {
      "image/png": "[encoded data removed]",
      "text/plain": [
       "<Figure size 432x288 with 1 Axes>"
      ]
     },
     "metadata": {},
     "output_type": "display_data"
    }
   ],
   "source": [
    "q = df_dist_matrix.distance < 4\n",
    "ax = sns.distplot(df_dist_matrix[q].distance)"
   ]
  },
  {
   "cell_type": "markdown",
   "metadata": {
    "slideshow": {
     "slide_type": "subslide"
    }
   },
   "source": [
    "# Hypothesis Testing\n",
    "\n",
    "- Alpha of .05\n",
    "- NULL and Alternate Hypothesis as such:\n",
    "\n",
    "$H_0 >= 4$,\n",
    "$H_1 < 4$\n",
    "\n",
    "### Remove Outliers (More than 2 Std Deviations)"
   ]
  },
  {
   "cell_type": "code",
   "execution_count": 39,
   "metadata": {
    "slideshow": {
     "slide_type": "-"
    }
   },
   "outputs": [
    {
     "name": "stdout",
     "output_type": "stream",
     "text": [
      "Removed: 10 distances.\n",
      "(898, 11.814986885850276, 2.4068332704705434e-30, 1.6465522370683594)\n"
     ]
    }
   ],
   "source": [
    "import scipy\n",
    "from scipy.stats import t\n",
    "alpha = .05\n",
    "mean = df_dist_matrix.distance.mean()\n",
    "std = df_dist_matrix.distance.std()\n",
    "final_list = [x for x in df_dist_matrix.distance if (x > mean - 2 * std)]\n",
    "final_list = [x for x in final_list if (x < mean + 2 * std)]\n",
    "dists = len(df_dist_matrix) - len(final_list)\n",
    "ttest = scipy.stats.ttest_1samp(final_list, 4)\n",
    "df = len(final_list) - 1 # Degrees of Freedom\n",
    "t_stat = ttest.statistic # t-test value\n",
    "p_value = ttest.pvalue / 2 # One Tailed T-Test p-value\n",
    "t_critical = t.ppf(1-alpha, df) # t-critical 1-tailed\n",
    "vals = (df, t_stat, p_value, t_critical)\n",
    "print(\"Removed: %s distances.\" % (dists))\n",
    "print(vals)"
   ]
  },
  {
   "cell_type": "markdown",
   "metadata": {
    "slideshow": {
     "slide_type": "subslide"
    }
   },
   "source": [
    "# Assess the Hypotheses\n",
    "\n",
    "### Recall: \n",
    "\n",
    "<br/>\n",
    "$H_0 >= 4$ <br/>\n",
    "$H_1 < 4$ <br/>\n",
    "\n",
    "\n",
    "### Test Statistic:\n",
    "\n",
    "**11.815**\n",
    "\n",
    "### p-value:\n",
    "\n",
    "**2.407e-30**\n",
    "\n",
    "### Decision/Conclusion:\n",
    "\n",
    "Because $t = 11.815 > 1.647$ $H_0$ rejected, or we can reject $H_0$ because the p-value is less than $.05$\n",
    "\n",
    "This means Mitch Hedberg observation was **correct** and Denny's appear to be close to **La Quinta**\n"
   ]
  }
 ],
 "metadata": {
  "celltoolbar": "Slideshow",
  "kernelspec": {
   "display_name": "Python 3",
   "language": "python",
   "name": "python3"
  },
  "language_info": {
   "codemirror_mode": {
    "name": "ipython",
    "version": 3
   },
   "file_extension": ".py",
   "mimetype": "text/x-python",
   "name": "python",
   "nbconvert_exporter": "python",
   "pygments_lexer": "ipython3",
   "version": "3.6.6"
  }
 },
 "nbformat": 4,
 "nbformat_minor": 2
}
