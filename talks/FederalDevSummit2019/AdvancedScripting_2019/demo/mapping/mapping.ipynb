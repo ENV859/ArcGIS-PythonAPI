{
 "cells": [
  {
   "cell_type": "code",
   "execution_count": 1,
   "metadata": {},
   "outputs": [],
   "source": [
    "from arcgis.gis import GIS\n",
    "gis = GIS(profile='agol_profile')"
   ]
  },
  {
   "cell_type": "code",
   "execution_count": 2,
   "metadata": {},
   "outputs": [
    {
     "data": {
      "application/vnd.jupyter.widget-view+json": {
       "model_id": "0c73143d9eca45e0b9e1ae7d213ee1f4",
       "version_major": 2,
       "version_minor": 0
      },
      "text/plain": [
       "MapView(layout=Layout(height='400px', width='100%'), zoom=4.0)"
      ]
     },
     "metadata": {},
     "output_type": "display_data"
    },
    {
     "data": {
      "text/html": [
       "<div class=\"map-static-img-preview-7882b977-3a73-4aa4-b069-5195ab5202f4\"><img src=\"\"></img></div>"
      ],
      "text/plain": [
       "<IPython.core.display.HTML object>"
      ]
     },
     "metadata": {},
     "output_type": "display_data"
    }
   ],
   "source": [
    "usa_map = gis.map('USA', zoomlevel=4)  # you can specify the zoom level when creating a map\n",
    "usa_map"
   ]
  },
  {
   "cell_type": "markdown",
   "metadata": {},
   "source": [
    "## Add a bunch of web layers"
   ]
  },
  {
   "cell_type": "code",
   "execution_count": 3,
   "metadata": {},
   "outputs": [
    {
     "data": {
      "text/plain": [
       "[<Item title:\"USA Detailed Streams\" type:Feature Layer Collection owner:esri>,\n",
       " <Item title:\"2018 USA Traffic Counts\" type:Feature Layer Collection owner:esri>,\n",
       " <Item title:\"World Time Zones\" type:Feature Layer Collection owner:esri>,\n",
       " <Item title:\"USA Core Based Statistical Area\" type:Feature Layer Collection owner:esri>,\n",
       " <Item title:\"World Regions\" type:Feature Layer Collection owner:esri>,\n",
       " <Item title:\"USA Offshore Pipelines\" type:Feature Layer Collection owner:esri>,\n",
       " <Item title:\"World Countries\" type:Feature Layer Collection owner:esri>,\n",
       " <Item title:\"World Continents\" type:Feature Layer Collection owner:esri>,\n",
       " <Item title:\"USA Census Populated Places\" type:Feature Layer Collection owner:esri>,\n",
       " <Item title:\"USA Freeway System\" type:Feature Layer Collection owner:esri>]"
      ]
     },
     "execution_count": 3,
     "metadata": {},
     "output_type": "execute_result"
    }
   ],
   "source": [
    "flayer_search_result = gis.content.search(\"owner:esri\",\"Feature Layer\", outside_org=True)\n",
    "flayer_search_result"
   ]
  },
  {
   "cell_type": "markdown",
   "metadata": {},
   "source": [
    "### Add Item objects"
   ]
  },
  {
   "cell_type": "code",
   "execution_count": 6,
   "metadata": {},
   "outputs": [],
   "source": [
    "world_timezones_item = flayer_search_result[3]\n",
    "usa_map.add_layer(world_timezones_item)"
   ]
  },
  {
   "cell_type": "markdown",
   "metadata": {},
   "source": [
    "### Add Layer objects"
   ]
  },
  {
   "cell_type": "code",
   "execution_count": 7,
   "metadata": {},
   "outputs": [
    {
     "data": {
      "text/plain": [
       "<FeatureLayer url:\"https://services.arcgis.com/P3ePLMYs2RVChkJx/arcgis/rest/services/USA_Freeway_System/FeatureServer/1\">"
      ]
     },
     "execution_count": 7,
     "metadata": {},
     "output_type": "execute_result"
    }
   ],
   "source": [
    "usa_freeways_item = gis.content.get(\"91c6a5f6410b4991ab0db1d7c26daacb\")\n",
    "freeways_flayer = usa_freeways_item.layers[0]\n",
    "freeways_flayer"
   ]
  },
  {
   "cell_type": "code",
   "execution_count": 8,
   "metadata": {},
   "outputs": [],
   "source": [
    "usa_map.add_layer(freeways_flayer, {\"renderer\":\"ClassedSizeRenderer\", \"field_name\": \"DIST_MILES\"})"
   ]
  },
  {
   "cell_type": "markdown",
   "metadata": {},
   "source": [
    "## remove layers"
   ]
  },
  {
   "cell_type": "code",
   "execution_count": 9,
   "metadata": {},
   "outputs": [
    {
     "data": {
      "text/plain": [
       "[<FeatureLayer url:\"https://services.arcgis.com/P3ePLMYs2RVChkJx/arcgis/rest/services/usa_cbsa/FeatureServer/0\">,\n",
       " <FeatureLayer url:\"https://services.arcgis.com/P3ePLMYs2RVChkJx/arcgis/rest/services/USA_Freeway_System/FeatureServer/1\">]"
      ]
     },
     "execution_count": 9,
     "metadata": {},
     "output_type": "execute_result"
    }
   ],
   "source": [
    "usa_map.layers"
   ]
  },
  {
   "cell_type": "code",
   "execution_count": 10,
   "metadata": {},
   "outputs": [
    {
     "data": {
      "text/plain": [
       "True"
      ]
     },
     "execution_count": 10,
     "metadata": {},
     "output_type": "execute_result"
    }
   ],
   "source": [
    "usa_map.remove_layers([freeways_flayer])"
   ]
  },
  {
   "cell_type": "markdown",
   "metadata": {},
   "source": [
    "### draw graphics"
   ]
  },
  {
   "cell_type": "code",
   "execution_count": 11,
   "metadata": {
    "scrolled": true
   },
   "outputs": [
    {
     "data": {
      "application/vnd.jupyter.widget-view+json": {
       "model_id": "e2edccae50e146a6be753c76f3087809",
       "version_major": 2,
       "version_minor": 0
      },
      "text/plain": [
       "MapView(layout=Layout(height='400px', width='100%'), zoom=4.0)"
      ]
     },
     "metadata": {},
     "output_type": "display_data"
    },
    {
     "data": {
      "text/html": [
       "<div class=\"map-static-img-preview-6216af43-726b-45ea-820d-a2c4727aec57\"><img src=\"\"></img></div>"
      ],
      "text/plain": [
       "<IPython.core.display.HTML object>"
      ]
     },
     "metadata": {},
     "output_type": "display_data"
    }
   ],
   "source": [
    "draw_map = gis.map('USA', zoomlevel=4)  # you can specify the zoom level when creating a map\n",
    "draw_map"
   ]
  },
  {
   "cell_type": "code",
   "execution_count": 12,
   "metadata": {},
   "outputs": [],
   "source": [
    "draw_map.draw('rectangle')"
   ]
  },
  {
   "cell_type": "code",
   "execution_count": 13,
   "metadata": {},
   "outputs": [],
   "source": [
    "draw_map.clear_graphics()"
   ]
  },
  {
   "cell_type": "markdown",
   "metadata": {
    "collapsed": true
   },
   "source": [
    "### View 3D Data"
   ]
  },
  {
   "cell_type": "code",
   "execution_count": 14,
   "metadata": {},
   "outputs": [
    {
     "data": {
      "application/vnd.jupyter.widget-view+json": {
       "model_id": "ffeac7398acc428d90852ff9337b6bac",
       "version_major": 2,
       "version_minor": 0
      },
      "text/plain": [
       "MapView(layout=Layout(height='400px', width='100%'), mode='3D', zoom=4.0)"
      ]
     },
     "metadata": {},
     "output_type": "display_data"
    },
    {
     "data": {
      "text/html": [
       "<div class=\"map-static-img-preview-599f0407-f752-4849-b66c-278aa06778e6\"><img src=\"\"></img></div>"
      ],
      "text/plain": [
       "<IPython.core.display.HTML object>"
      ]
     },
     "metadata": {},
     "output_type": "display_data"
    }
   ],
   "source": [
    "draw3d_map = gis.map('USA', zoomlevel=4, mode='3D')\n",
    "draw3d_map"
   ]
  },
  {
   "cell_type": "code",
   "execution_count": 19,
   "metadata": {},
   "outputs": [
    {
     "data": {
      "text/html": [
       "<div class=\"item_container\" style=\"height: auto; overflow: hidden; border: 1px solid #cfcfcf; border-radius: 2px; background: #f6fafa; line-height: 1.21429em; padding: 10px;\">\n",
       "                    <div class=\"item_left\" style=\"width: 210px; float: left;\">\n",
       "                       <a href='https://arcgissolutions.maps.arcgis.com/home/item.html?id=85d0ca4ea1ca4b9abf0c51b9bd34de2e' target='_blank'>\n",
       "                        <img src='data:image/png;base64,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' width='200' height='133' class=\"itemThumbnail\">\n",
       "                       </a>\n",
       "                    </div>\n",
       "\n",
       "                    <div class=\"item_right\"     style=\"float: none; width: auto; overflow: hidden;\">\n",
       "                        <a href='https://arcgissolutions.maps.arcgis.com/home/item.html?id=85d0ca4ea1ca4b9abf0c51b9bd34de2e' target='_blank'><b>USA Major Cities</b>\n",
       "                        </a>\n",
       "                        <br/>This layer presents the locations of cities within the United States with populations of approximately 10,000 or greater, all state capitals, and the national capital.<img src='https://arcgissolutions.maps.arcgis.com/home/js/jsapi/esri/css/images/item_type_icons/featureshosted16.png' style=\"vertical-align:middle;\">Feature Layer Collection by esri_dm\n",
       "                        <br/>Last Modified: December 21, 2017\n",
       "                        <br/>0 comments, 1,575,947 views\n",
       "                    </div>\n",
       "                </div>\n",
       "                "
      ],
      "text/plain": [
       "<Item title:\"USA Major Cities\" type:Feature Layer Collection owner:esri_dm>"
      ]
     },
     "execution_count": 19,
     "metadata": {},
     "output_type": "execute_result"
    }
   ],
   "source": [
    "item3D = gis.content.get(\"85d0ca4ea1ca4b9abf0c51b9bd34de2e\")\n",
    "item3D"
   ]
  },
  {
   "cell_type": "code",
   "execution_count": 17,
   "metadata": {},
   "outputs": [],
   "source": [
    "draw3d_map.add_layer(item3D.layers[0])"
   ]
  },
  {
   "cell_type": "markdown",
   "metadata": {},
   "source": [
    "### Save map"
   ]
  },
  {
   "cell_type": "code",
   "execution_count": 18,
   "metadata": {},
   "outputs": [],
   "source": [
    "item_properties={'title':'USA time zones and capitols',\n",
    "                    'snippet': 'Jupyter notebook widget saved as a web map',\n",
    "                    'tags':['automation', 'python']}"
   ]
  },
  {
   "cell_type": "code",
   "execution_count": 37,
   "metadata": {},
   "outputs": [
    {
     "data": {
      "text/html": [
       "<div class=\"item_container\" style=\"height: auto; overflow: hidden; border: 1px solid #cfcfcf; border-radius: 2px; background: #f6fafa; line-height: 1.21429em; padding: 10px;\">\n",
       "                    <div class=\"item_left\" style=\"width: 210px; float: left;\">\n",
       "                       <a href='https://geosaurus.maps.arcgis.com/home/item.html?id=bd959f99e8e94bffa0c5206d10fb890a' target='_blank'>\n",
       "                        <img src='http://static.arcgis.com/images/desktopapp.png' class=\"itemThumbnail\">\n",
       "                       </a>\n",
       "                    </div>\n",
       "\n",
       "                    <div class=\"item_right\"     style=\"float: none; width: auto; overflow: hidden;\">\n",
       "                        <a href='https://geosaurus.maps.arcgis.com/home/item.html?id=bd959f99e8e94bffa0c5206d10fb890a' target='_blank'><b>USA time zones and capitols</b>\n",
       "                        </a>\n",
       "                        <br/>Jupyter notebook widget saved as a web map<img src='https://geosaurus.maps.arcgis.com/home/js/jsapi/esri/css/images/item_type_icons/maps16.png' style=\"vertical-align:middle;\">Web Map by amani_geosaurus\n",
       "                        <br/>Last Modified: March 09, 2018\n",
       "                        <br/>0 comments, 0 views\n",
       "                    </div>\n",
       "                </div>\n",
       "                "
      ],
      "text/plain": [
       "<Item title:\"USA time zones and capitols\" type:Web Map owner:amani_geosaurus>"
      ]
     },
     "execution_count": 37,
     "metadata": {},
     "output_type": "execute_result"
    }
   ],
   "source": [
    "webmap_item = usa_map.save(item_properties, thumbnail='./webmap_thumbnail.png', folder='webmap_api')\n",
    "webmap_item"
   ]
  },
  {
   "cell_type": "code",
   "execution_count": null,
   "metadata": {},
   "outputs": [],
   "source": []
  }
 ],
 "metadata": {
  "kernelspec": {
   "display_name": "Python 3",
   "language": "python",
   "name": "python3"
  },
  "language_info": {
   "codemirror_mode": {
    "name": "ipython",
    "version": 3
   },
   "file_extension": ".py",
   "mimetype": "text/x-python",
   "name": "python",
   "nbconvert_exporter": "python",
   "pygments_lexer": "ipython3",
   "version": "3.6.6"
  }
 },
 "nbformat": 4,
 "nbformat_minor": 2
}
