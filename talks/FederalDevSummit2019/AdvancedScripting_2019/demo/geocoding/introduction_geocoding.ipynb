{
 "cells": [
  {
   "cell_type": "markdown",
   "metadata": {},
   "source": [
    "# An introduction to geocoding\n",
    "\n",
    "Geocoders are tools to which you pass in an address / place of interest and it gives back the coordinates of that place.\n",
    "\n",
    "The **`arcgis.geocoding`** module provides types and functions for geocoding, batch geocoding and reverse geocoding."
   ]
  },
  {
   "cell_type": "code",
   "execution_count": 1,
   "metadata": {},
   "outputs": [],
   "source": [
    "from arcgis.gis import GIS\n",
    "from arcgis import geocoding\n"
   ]
  },
  {
   "cell_type": "code",
   "execution_count": 2,
   "metadata": {},
   "outputs": [],
   "source": [
    "gis = GIS(profile='agol_profile')"
   ]
  },
  {
   "cell_type": "markdown",
   "metadata": {},
   "source": [
    "## Geocoding addresses\n",
    "All geocoding operations are handled by `geocode()` function. It can geocode\n",
    " \n",
    " 1. single line address\n",
    " 2. multi field address\n",
    " 3. points of interest\n",
    " 4. administrative place names\n",
    " 5. postal codes"
   ]
  },
  {
   "cell_type": "code",
   "execution_count": 4,
   "metadata": {},
   "outputs": [
    {
     "data": {
      "text/plain": [
       "[{'address': 'Washington, Washington DC, District of Columbia',\n",
       "  'location': {'x': -77.03195999999997, 'y': 38.890370000000075},\n",
       "  'score': 100,\n",
       "  'attributes': {'Loc_name': 'World',\n",
       "   'Status': 'T',\n",
       "   'Score': 100,\n",
       "   'Match_addr': 'Washington, Washington DC, District of Columbia',\n",
       "   'LongLabel': 'Washington, Washington DC, DC, USA',\n",
       "   'ShortLabel': 'Washington',\n",
       "   'Addr_type': 'Locality',\n",
       "   'Type': 'City',\n",
       "   'PlaceName': 'Washington',\n",
       "   'Place_addr': 'Washington DC, District of Columbia',\n",
       "   'Phone': '',\n",
       "   'URL': '',\n",
       "   'Rank': 2,\n",
       "   'AddBldg': '',\n",
       "   'AddNum': '',\n",
       "   'AddNumFrom': '',\n",
       "   'AddNumTo': '',\n",
       "   'AddRange': '',\n",
       "   'Side': '',\n",
       "   'StPreDir': '',\n",
       "   'StPreType': '',\n",
       "   'StName': '',\n",
       "   'StType': '',\n",
       "   'StDir': '',\n",
       "   'BldgType': '',\n",
       "   'BldgName': '',\n",
       "   'LevelType': '',\n",
       "   'LevelName': '',\n",
       "   'UnitType': '',\n",
       "   'UnitName': '',\n",
       "   'SubAddr': '',\n",
       "   'StAddr': '',\n",
       "   'Block': '',\n",
       "   'Sector': '',\n",
       "   'Nbrhd': '',\n",
       "   'District': '',\n",
       "   'City': 'Washington DC',\n",
       "   'MetroArea': 'Washington DC Metro Area',\n",
       "   'Subregion': 'District of Columbia',\n",
       "   'Region': 'District of Columbia',\n",
       "   'RegionAbbr': 'DC',\n",
       "   'Territory': '',\n",
       "   'Zone': '',\n",
       "   'Postal': '',\n",
       "   'PostalExt': '',\n",
       "   'Country': 'USA',\n",
       "   'LangCode': 'ENG',\n",
       "   'Distance': 0,\n",
       "   'X': -77.03195999999997,\n",
       "   'Y': 38.890370000000075,\n",
       "   'DisplayX': -77.03195999999997,\n",
       "   'DisplayY': 38.890370000000075,\n",
       "   'Xmin': -77.13595999999997,\n",
       "   'Xmax': -76.92795999999997,\n",
       "   'Ymin': 38.786370000000076,\n",
       "   'Ymax': 38.994370000000075,\n",
       "   'ExInfo': ''},\n",
       "  'extent': {'xmin': -77.13595999999997,\n",
       "   'ymin': 38.786370000000076,\n",
       "   'xmax': -76.92795999999997,\n",
       "   'ymax': 38.994370000000075}},\n",
       " {'address': 'Washington D.C., Ouasinkton, District of Columbia',\n",
       "  'location': {'x': -77.03636999999998, 'y': 38.895110000000045},\n",
       "  'score': 100,\n",
       "  'attributes': {'Loc_name': 'World',\n",
       "   'Status': 'T',\n",
       "   'Score': 100,\n",
       "   'Match_addr': 'Washington D.C., Ouasinkton, District of Columbia',\n",
       "   'LongLabel': 'Washington D.C., Ouasinkton, DC, USA',\n",
       "   'ShortLabel': 'Washington D.C.',\n",
       "   'Addr_type': 'Locality',\n",
       "   'Type': 'City',\n",
       "   'PlaceName': 'Washington D.C.',\n",
       "   'Place_addr': 'Ouasinkton, District of Columbia',\n",
       "   'Phone': '',\n",
       "   'URL': '',\n",
       "   'Rank': 9.75,\n",
       "   'AddBldg': '',\n",
       "   'AddNum': '',\n",
       "   'AddNumFrom': '',\n",
       "   'AddNumTo': '',\n",
       "   'AddRange': '',\n",
       "   'Side': '',\n",
       "   'StPreDir': '',\n",
       "   'StPreType': '',\n",
       "   'StName': '',\n",
       "   'StType': '',\n",
       "   'StDir': '',\n",
       "   'BldgType': '',\n",
       "   'BldgName': '',\n",
       "   'LevelType': '',\n",
       "   'LevelName': '',\n",
       "   'UnitType': '',\n",
       "   'UnitName': '',\n",
       "   'SubAddr': '',\n",
       "   'StAddr': '',\n",
       "   'Block': '',\n",
       "   'Sector': '',\n",
       "   'Nbrhd': '',\n",
       "   'District': '',\n",
       "   'City': 'Ouasinkton',\n",
       "   'MetroArea': '',\n",
       "   'Subregion': 'District of Columbia',\n",
       "   'Region': 'District of Columbia',\n",
       "   'RegionAbbr': 'DC',\n",
       "   'Territory': '',\n",
       "   'Zone': '',\n",
       "   'Postal': '',\n",
       "   'PostalExt': '',\n",
       "   'Country': 'USA',\n",
       "   'LangCode': 'ENG',\n",
       "   'Distance': 0,\n",
       "   'X': -77.03636999999998,\n",
       "   'Y': 38.895110000000045,\n",
       "   'DisplayX': -77.03636999999998,\n",
       "   'DisplayY': 38.895110000000045,\n",
       "   'Xmin': -77.17636999999998,\n",
       "   'Xmax': -76.89636999999998,\n",
       "   'Ymin': 38.755110000000045,\n",
       "   'Ymax': 39.035110000000046,\n",
       "   'ExInfo': ''},\n",
       "  'extent': {'xmin': -77.17636999999998,\n",
       "   'ymin': 38.755110000000045,\n",
       "   'xmax': -76.89636999999998,\n",
       "   'ymax': 39.035110000000046}},\n",
       " {'address': 'Washington D.C., D.C., Washington, D.C.',\n",
       "  'location': {'x': -77.00024999999994, 'y': 38.91706000000005},\n",
       "  'score': 100,\n",
       "  'attributes': {'Loc_name': 'World',\n",
       "   'Status': 'T',\n",
       "   'Score': 100,\n",
       "   'Match_addr': 'Washington D.C., D.C., Washington, D.C.',\n",
       "   'LongLabel': 'Washington D.C., D.C., DC, USA',\n",
       "   'ShortLabel': 'Washington D.C.',\n",
       "   'Addr_type': 'Locality',\n",
       "   'Type': 'City',\n",
       "   'PlaceName': 'Washington D.C.',\n",
       "   'Place_addr': 'D.C., Washington, D.C.',\n",
       "   'Phone': '',\n",
       "   'URL': '',\n",
       "   'Rank': 12.5,\n",
       "   'AddBldg': '',\n",
       "   'AddNum': '',\n",
       "   'AddNumFrom': '',\n",
       "   'AddNumTo': '',\n",
       "   'AddRange': '',\n",
       "   'Side': '',\n",
       "   'StPreDir': '',\n",
       "   'StPreType': '',\n",
       "   'StName': '',\n",
       "   'StType': '',\n",
       "   'StDir': '',\n",
       "   'BldgType': '',\n",
       "   'BldgName': '',\n",
       "   'LevelType': '',\n",
       "   'LevelName': '',\n",
       "   'UnitType': '',\n",
       "   'UnitName': '',\n",
       "   'SubAddr': '',\n",
       "   'StAddr': '',\n",
       "   'Block': '',\n",
       "   'Sector': '',\n",
       "   'Nbrhd': '',\n",
       "   'District': '',\n",
       "   'City': 'D.C.',\n",
       "   'MetroArea': '',\n",
       "   'Subregion': '',\n",
       "   'Region': 'Washington, D.C.',\n",
       "   'RegionAbbr': 'DC',\n",
       "   'Territory': '',\n",
       "   'Zone': '',\n",
       "   'Postal': '',\n",
       "   'PostalExt': '',\n",
       "   'Country': 'USA',\n",
       "   'LangCode': 'ENG',\n",
       "   'Distance': 0,\n",
       "   'X': -77.00024999999994,\n",
       "   'Y': 38.91706000000005,\n",
       "   'DisplayX': -77.00024999999994,\n",
       "   'DisplayY': 38.91706000000005,\n",
       "   'Xmin': -77.10124999999994,\n",
       "   'Xmax': -76.89924999999994,\n",
       "   'Ymin': 38.81606000000005,\n",
       "   'Ymax': 39.01806000000005,\n",
       "   'ExInfo': ''},\n",
       "  'extent': {'xmin': -77.10124999999994,\n",
       "   'ymin': 38.81606000000005,\n",
       "   'xmax': -76.89924999999994,\n",
       "   'ymax': 39.01806000000005}},\n",
       " {'address': 'District of Columbia',\n",
       "  'location': {'x': -77.01625737899997, 'y': 38.90482868600003},\n",
       "  'score': 100,\n",
       "  'attributes': {'Loc_name': 'World',\n",
       "   'Status': 'T',\n",
       "   'Score': 100,\n",
       "   'Match_addr': 'District of Columbia',\n",
       "   'LongLabel': 'District of Columbia, DC, USA',\n",
       "   'ShortLabel': 'District of Columbia',\n",
       "   'Addr_type': 'Locality',\n",
       "   'Type': 'County',\n",
       "   'PlaceName': 'Washington DC',\n",
       "   'Place_addr': 'District of Columbia',\n",
       "   'Phone': '',\n",
       "   'URL': '',\n",
       "   'Rank': 17.1,\n",
       "   'AddBldg': '',\n",
       "   'AddNum': '',\n",
       "   'AddNumFrom': '',\n",
       "   'AddNumTo': '',\n",
       "   'AddRange': '',\n",
       "   'Side': '',\n",
       "   'StPreDir': '',\n",
       "   'StPreType': '',\n",
       "   'StName': '',\n",
       "   'StType': '',\n",
       "   'StDir': '',\n",
       "   'BldgType': '',\n",
       "   'BldgName': '',\n",
       "   'LevelType': '',\n",
       "   'LevelName': '',\n",
       "   'UnitType': '',\n",
       "   'UnitName': '',\n",
       "   'SubAddr': '',\n",
       "   'StAddr': '',\n",
       "   'Block': '',\n",
       "   'Sector': '',\n",
       "   'Nbrhd': '',\n",
       "   'District': '',\n",
       "   'City': '',\n",
       "   'MetroArea': '',\n",
       "   'Subregion': 'District of Columbia',\n",
       "   'Region': 'District of Columbia',\n",
       "   'RegionAbbr': 'DC',\n",
       "   'Territory': '',\n",
       "   'Zone': '',\n",
       "   'Postal': '',\n",
       "   'PostalExt': '',\n",
       "   'Country': 'USA',\n",
       "   'LangCode': 'ENG',\n",
       "   'Distance': 0,\n",
       "   'X': -77.01625737899997,\n",
       "   'Y': 38.90482868600003,\n",
       "   'DisplayX': -77.01625737899997,\n",
       "   'DisplayY': 38.90482868600003,\n",
       "   'Xmin': -77.12025737899997,\n",
       "   'Xmax': -76.91225737899997,\n",
       "   'Ymin': 38.80082868600003,\n",
       "   'Ymax': 39.00882868600003,\n",
       "   'ExInfo': ''},\n",
       "  'extent': {'xmin': -77.12025737899997,\n",
       "   'ymin': 38.80082868600003,\n",
       "   'xmax': -76.91225737899997,\n",
       "   'ymax': 39.00882868600003}},\n",
       " {'address': 'Washington Blvd, Washington, District of Columbia, 20024',\n",
       "  'location': {'x': -77.05712324561122, 'y': 38.88024803287584},\n",
       "  'score': 97.35,\n",
       "  'attributes': {'Loc_name': 'World',\n",
       "   'Status': 'M',\n",
       "   'Score': 97.35,\n",
       "   'Match_addr': 'Washington Blvd, Washington, District of Columbia, 20024',\n",
       "   'LongLabel': 'Washington Blvd, Washington, DC, 20024, USA',\n",
       "   'ShortLabel': 'Washington Blvd',\n",
       "   'Addr_type': 'StreetName',\n",
       "   'Type': '',\n",
       "   'PlaceName': '',\n",
       "   'Place_addr': 'Washington Blvd, Washington, District of Columbia, 20024',\n",
       "   'Phone': '',\n",
       "   'URL': '',\n",
       "   'Rank': 20,\n",
       "   'AddBldg': '',\n",
       "   'AddNum': '',\n",
       "   'AddNumFrom': '',\n",
       "   'AddNumTo': '',\n",
       "   'AddRange': '',\n",
       "   'Side': '',\n",
       "   'StPreDir': '',\n",
       "   'StPreType': '',\n",
       "   'StName': 'Washington',\n",
       "   'StType': 'Blvd',\n",
       "   'StDir': '',\n",
       "   'BldgType': '',\n",
       "   'BldgName': '',\n",
       "   'LevelType': '',\n",
       "   'LevelName': '',\n",
       "   'UnitType': '',\n",
       "   'UnitName': '',\n",
       "   'SubAddr': '',\n",
       "   'StAddr': 'Washington Blvd',\n",
       "   'Block': '',\n",
       "   'Sector': '',\n",
       "   'Nbrhd': '',\n",
       "   'District': '',\n",
       "   'City': 'Washington',\n",
       "   'MetroArea': 'Washington DC Metro Area',\n",
       "   'Subregion': 'District of Columbia',\n",
       "   'Region': 'District of Columbia',\n",
       "   'RegionAbbr': 'DC',\n",
       "   'Territory': '',\n",
       "   'Zone': '',\n",
       "   'Postal': '20024',\n",
       "   'PostalExt': '',\n",
       "   'Country': 'USA',\n",
       "   'LangCode': 'ENG',\n",
       "   'Distance': 0,\n",
       "   'X': -77.05712324561122,\n",
       "   'Y': 38.88024803287584,\n",
       "   'DisplayX': -77.05712324561122,\n",
       "   'DisplayY': 38.88024803287584,\n",
       "   'Xmin': -77.05812324561123,\n",
       "   'Xmax': -77.05612324561122,\n",
       "   'Ymin': 38.87924803287584,\n",
       "   'Ymax': 38.88124803287584,\n",
       "   'ExInfo': ''},\n",
       "  'extent': {'xmin': -77.05812324561123,\n",
       "   'ymin': 38.87924803287584,\n",
       "   'xmax': -77.05612324561122,\n",
       "   'ymax': 38.88124803287584}},\n",
       " {'address': 'D C Dr, Millry, Alabama, 36558',\n",
       "  'location': {'x': -88.34370341642233, 'y': 31.660032170087433},\n",
       "  'score': 97.14,\n",
       "  'attributes': {'Loc_name': 'World',\n",
       "   'Status': 'M',\n",
       "   'Score': 97.14,\n",
       "   'Match_addr': 'D C Dr, Millry, Alabama, 36558',\n",
       "   'LongLabel': 'D C Dr, Millry, AL, 36558, USA',\n",
       "   'ShortLabel': 'D C Dr',\n",
       "   'Addr_type': 'StreetName',\n",
       "   'Type': '',\n",
       "   'PlaceName': '',\n",
       "   'Place_addr': 'D C Dr, Millry, Alabama, 36558',\n",
       "   'Phone': '',\n",
       "   'URL': '',\n",
       "   'Rank': 20,\n",
       "   'AddBldg': '',\n",
       "   'AddNum': '',\n",
       "   'AddNumFrom': '',\n",
       "   'AddNumTo': '',\n",
       "   'AddRange': '',\n",
       "   'Side': '',\n",
       "   'StPreDir': '',\n",
       "   'StPreType': '',\n",
       "   'StName': 'D C',\n",
       "   'StType': 'Dr',\n",
       "   'StDir': '',\n",
       "   'BldgType': '',\n",
       "   'BldgName': '',\n",
       "   'LevelType': '',\n",
       "   'LevelName': '',\n",
       "   'UnitType': '',\n",
       "   'UnitName': '',\n",
       "   'SubAddr': '',\n",
       "   'StAddr': 'D C Dr',\n",
       "   'Block': '',\n",
       "   'Sector': '',\n",
       "   'Nbrhd': '',\n",
       "   'District': '',\n",
       "   'City': 'Millry',\n",
       "   'MetroArea': '',\n",
       "   'Subregion': 'Washington',\n",
       "   'Region': 'Alabama',\n",
       "   'RegionAbbr': 'AL',\n",
       "   'Territory': '',\n",
       "   'Zone': '',\n",
       "   'Postal': '36558',\n",
       "   'PostalExt': '',\n",
       "   'Country': 'USA',\n",
       "   'LangCode': 'ENG',\n",
       "   'Distance': 0,\n",
       "   'X': -88.34370341642233,\n",
       "   'Y': 31.660032170087433,\n",
       "   'DisplayX': -88.34370341642233,\n",
       "   'DisplayY': 31.660032170087433,\n",
       "   'Xmin': -88.34470341642233,\n",
       "   'Xmax': -88.34270341642232,\n",
       "   'Ymin': 31.659032170087432,\n",
       "   'Ymax': 31.661032170087434,\n",
       "   'ExInfo': ''},\n",
       "  'extent': {'xmin': -88.34470341642233,\n",
       "   'ymin': 31.659032170087432,\n",
       "   'xmax': -88.34270341642232,\n",
       "   'ymax': 31.661032170087434}},\n",
       " {'address': 'Washington Cir SW, Washington, District of Columbia, 20032',\n",
       "  'location': {'x': -77.01577835737442, 'y': 38.84464746393837},\n",
       "  'score': 96.42,\n",
       "  'attributes': {'Loc_name': 'World',\n",
       "   'Status': 'T',\n",
       "   'Score': 96.42,\n",
       "   'Match_addr': 'Washington Cir SW, Washington, District of Columbia, 20032',\n",
       "   'LongLabel': 'Washington Cir SW, Washington, DC, 20032, USA',\n",
       "   'ShortLabel': 'Washington Cir SW',\n",
       "   'Addr_type': 'StreetName',\n",
       "   'Type': '',\n",
       "   'PlaceName': '',\n",
       "   'Place_addr': 'Washington Cir SW, Washington, District of Columbia, 20032',\n",
       "   'Phone': '',\n",
       "   'URL': '',\n",
       "   'Rank': 20,\n",
       "   'AddBldg': '',\n",
       "   'AddNum': '',\n",
       "   'AddNumFrom': '',\n",
       "   'AddNumTo': '',\n",
       "   'AddRange': '',\n",
       "   'Side': '',\n",
       "   'StPreDir': '',\n",
       "   'StPreType': '',\n",
       "   'StName': 'Washington',\n",
       "   'StType': 'Cir',\n",
       "   'StDir': 'SW',\n",
       "   'BldgType': '',\n",
       "   'BldgName': '',\n",
       "   'LevelType': '',\n",
       "   'LevelName': '',\n",
       "   'UnitType': '',\n",
       "   'UnitName': '',\n",
       "   'SubAddr': '',\n",
       "   'StAddr': 'Washington Cir SW',\n",
       "   'Block': '',\n",
       "   'Sector': '',\n",
       "   'Nbrhd': '',\n",
       "   'District': '',\n",
       "   'City': 'Washington',\n",
       "   'MetroArea': 'Washington DC Metro Area',\n",
       "   'Subregion': 'District of Columbia',\n",
       "   'Region': 'District of Columbia',\n",
       "   'RegionAbbr': 'DC',\n",
       "   'Territory': '',\n",
       "   'Zone': '',\n",
       "   'Postal': '20032',\n",
       "   'PostalExt': '',\n",
       "   'Country': 'USA',\n",
       "   'LangCode': 'ENG',\n",
       "   'Distance': 0,\n",
       "   'X': -77.01577835737442,\n",
       "   'Y': 38.84464746393837,\n",
       "   'DisplayX': -77.01577835737442,\n",
       "   'DisplayY': 38.84464746393837,\n",
       "   'Xmin': -77.01677835737442,\n",
       "   'Xmax': -77.01477835737441,\n",
       "   'Ymin': 38.843647463938375,\n",
       "   'Ymax': 38.84564746393837,\n",
       "   'ExInfo': ''},\n",
       "  'extent': {'xmin': -77.01677835737442,\n",
       "   'ymin': 38.843647463938375,\n",
       "   'xmax': -77.01477835737441,\n",
       "   'ymax': 38.84564746393837}},\n",
       " {'address': 'Washington Pl NE, Washington, District of Columbia, 20018',\n",
       "  'location': {'x': -76.9950912426236, 'y': 38.91990408579214},\n",
       "  'score': 96.42,\n",
       "  'attributes': {'Loc_name': 'World',\n",
       "   'Status': 'T',\n",
       "   'Score': 96.42,\n",
       "   'Match_addr': 'Washington Pl NE, Washington, District of Columbia, 20018',\n",
       "   'LongLabel': 'Washington Pl NE, Washington, DC, 20018, USA',\n",
       "   'ShortLabel': 'Washington Pl NE',\n",
       "   'Addr_type': 'StreetName',\n",
       "   'Type': '',\n",
       "   'PlaceName': '',\n",
       "   'Place_addr': 'Washington Pl NE, Washington, District of Columbia, 20018',\n",
       "   'Phone': '',\n",
       "   'URL': '',\n",
       "   'Rank': 20,\n",
       "   'AddBldg': '',\n",
       "   'AddNum': '',\n",
       "   'AddNumFrom': '',\n",
       "   'AddNumTo': '',\n",
       "   'AddRange': '',\n",
       "   'Side': '',\n",
       "   'StPreDir': '',\n",
       "   'StPreType': '',\n",
       "   'StName': 'Washington',\n",
       "   'StType': 'Pl',\n",
       "   'StDir': 'NE',\n",
       "   'BldgType': '',\n",
       "   'BldgName': '',\n",
       "   'LevelType': '',\n",
       "   'LevelName': '',\n",
       "   'UnitType': '',\n",
       "   'UnitName': '',\n",
       "   'SubAddr': '',\n",
       "   'StAddr': 'Washington Pl NE',\n",
       "   'Block': '',\n",
       "   'Sector': '',\n",
       "   'Nbrhd': 'Brentwood',\n",
       "   'District': '',\n",
       "   'City': 'Washington',\n",
       "   'MetroArea': 'Washington DC Metro Area',\n",
       "   'Subregion': 'District of Columbia',\n",
       "   'Region': 'District of Columbia',\n",
       "   'RegionAbbr': 'DC',\n",
       "   'Territory': '',\n",
       "   'Zone': '',\n",
       "   'Postal': '20018',\n",
       "   'PostalExt': '',\n",
       "   'Country': 'USA',\n",
       "   'LangCode': 'ENG',\n",
       "   'Distance': 0,\n",
       "   'X': -76.9950912426236,\n",
       "   'Y': 38.91990408579214,\n",
       "   'DisplayX': -76.9950912426236,\n",
       "   'DisplayY': 38.91990408579214,\n",
       "   'Xmin': -76.9960912426236,\n",
       "   'Xmax': -76.9940912426236,\n",
       "   'Ymin': 38.91890408579214,\n",
       "   'Ymax': 38.92090408579214,\n",
       "   'ExInfo': ''},\n",
       "  'extent': {'xmin': -76.9960912426236,\n",
       "   'ymin': 38.91890408579214,\n",
       "   'xmax': -76.9940912426236,\n",
       "   'ymax': 38.92090408579214}},\n",
       " {'address': 'Washington Cir NW, Washington, District of Columbia, 20037',\n",
       "  'location': {'x': -77.05001549317504, 'y': 38.901992676044586},\n",
       "  'score': 96.42,\n",
       "  'attributes': {'Loc_name': 'World',\n",
       "   'Status': 'T',\n",
       "   'Score': 96.42,\n",
       "   'Match_addr': 'Washington Cir NW, Washington, District of Columbia, 20037',\n",
       "   'LongLabel': 'Washington Cir NW, Washington, DC, 20037, USA',\n",
       "   'ShortLabel': 'Washington Cir NW',\n",
       "   'Addr_type': 'StreetName',\n",
       "   'Type': '',\n",
       "   'PlaceName': '',\n",
       "   'Place_addr': 'Washington Cir NW, Washington, District of Columbia, 20037',\n",
       "   'Phone': '',\n",
       "   'URL': '',\n",
       "   'Rank': 20,\n",
       "   'AddBldg': '',\n",
       "   'AddNum': '',\n",
       "   'AddNumFrom': '',\n",
       "   'AddNumTo': '',\n",
       "   'AddRange': '',\n",
       "   'Side': '',\n",
       "   'StPreDir': '',\n",
       "   'StPreType': '',\n",
       "   'StName': 'Washington',\n",
       "   'StType': 'Cir',\n",
       "   'StDir': 'NW',\n",
       "   'BldgType': '',\n",
       "   'BldgName': '',\n",
       "   'LevelType': '',\n",
       "   'LevelName': '',\n",
       "   'UnitType': '',\n",
       "   'UnitName': '',\n",
       "   'SubAddr': '',\n",
       "   'StAddr': 'Washington Cir NW',\n",
       "   'Block': '',\n",
       "   'Sector': '',\n",
       "   'Nbrhd': 'West End',\n",
       "   'District': '',\n",
       "   'City': 'Washington',\n",
       "   'MetroArea': 'Washington DC Metro Area',\n",
       "   'Subregion': 'District of Columbia',\n",
       "   'Region': 'District of Columbia',\n",
       "   'RegionAbbr': 'DC',\n",
       "   'Territory': '',\n",
       "   'Zone': '',\n",
       "   'Postal': '20037',\n",
       "   'PostalExt': '',\n",
       "   'Country': 'USA',\n",
       "   'LangCode': 'ENG',\n",
       "   'Distance': 0,\n",
       "   'X': -77.05001549317504,\n",
       "   'Y': 38.901992676044586,\n",
       "   'DisplayX': -77.05001549317504,\n",
       "   'DisplayY': 38.901992676044586,\n",
       "   'Xmin': -77.05101549317504,\n",
       "   'Xmax': -77.04901549317503,\n",
       "   'Ymin': 38.90099267604459,\n",
       "   'Ymax': 38.90299267604458,\n",
       "   'ExInfo': ''},\n",
       "  'extent': {'xmin': -77.05101549317504,\n",
       "   'ymin': 38.90099267604459,\n",
       "   'xmax': -77.04901549317503,\n",
       "   'ymax': 38.90299267604458}},\n",
       " {'address': 'Washington Ave SW, Washington, District of Columbia, 20024',\n",
       "  'location': {'x': -77.01243669914732, 'y': 38.88623420922101},\n",
       "  'score': 96.42,\n",
       "  'attributes': {'Loc_name': 'World',\n",
       "   'Status': 'T',\n",
       "   'Score': 96.42,\n",
       "   'Match_addr': 'Washington Ave SW, Washington, District of Columbia, 20024',\n",
       "   'LongLabel': 'Washington Ave SW, Washington, DC, 20024, USA',\n",
       "   'ShortLabel': 'Washington Ave SW',\n",
       "   'Addr_type': 'StreetName',\n",
       "   'Type': '',\n",
       "   'PlaceName': '',\n",
       "   'Place_addr': 'Washington Ave SW, Washington, District of Columbia, 20024',\n",
       "   'Phone': '',\n",
       "   'URL': '',\n",
       "   'Rank': 20,\n",
       "   'AddBldg': '',\n",
       "   'AddNum': '',\n",
       "   'AddNumFrom': '',\n",
       "   'AddNumTo': '',\n",
       "   'AddRange': '',\n",
       "   'Side': '',\n",
       "   'StPreDir': '',\n",
       "   'StPreType': '',\n",
       "   'StName': 'Washington',\n",
       "   'StType': 'Ave',\n",
       "   'StDir': 'SW',\n",
       "   'BldgType': '',\n",
       "   'BldgName': '',\n",
       "   'LevelType': '',\n",
       "   'LevelName': '',\n",
       "   'UnitType': '',\n",
       "   'UnitName': '',\n",
       "   'SubAddr': '',\n",
       "   'StAddr': 'Washington Ave SW',\n",
       "   'Block': '',\n",
       "   'Sector': '',\n",
       "   'Nbrhd': 'Southwest Employment Area',\n",
       "   'District': '',\n",
       "   'City': 'Washington',\n",
       "   'MetroArea': 'Washington DC Metro Area',\n",
       "   'Subregion': 'District of Columbia',\n",
       "   'Region': 'District of Columbia',\n",
       "   'RegionAbbr': 'DC',\n",
       "   'Territory': '',\n",
       "   'Zone': '',\n",
       "   'Postal': '20024',\n",
       "   'PostalExt': '',\n",
       "   'Country': 'USA',\n",
       "   'LangCode': 'ENG',\n",
       "   'Distance': 0,\n",
       "   'X': -77.01243669914732,\n",
       "   'Y': 38.88623420922101,\n",
       "   'DisplayX': -77.01243669914732,\n",
       "   'DisplayY': 38.88623420922101,\n",
       "   'Xmin': -77.01343669914732,\n",
       "   'Xmax': -77.01143669914731,\n",
       "   'Ymin': 38.88523420922101,\n",
       "   'Ymax': 38.887234209221006,\n",
       "   'ExInfo': ''},\n",
       "  'extent': {'xmin': -77.01343669914732,\n",
       "   'ymin': 38.88523420922101,\n",
       "   'xmax': -77.01143669914731,\n",
       "   'ymax': 38.887234209221006}}]"
      ]
     },
     "execution_count": 4,
     "metadata": {},
     "output_type": "execute_result"
    }
   ],
   "source": [
    "results = geocoding.geocode('Washington, DC')\n",
    "results"
   ]
  },
  {
   "cell_type": "code",
   "execution_count": 5,
   "metadata": {},
   "outputs": [
    {
     "data": {
      "text/plain": [
       "10"
      ]
     },
     "execution_count": 5,
     "metadata": {},
     "output_type": "execute_result"
    }
   ],
   "source": [
    "len(results)"
   ]
  },
  {
   "cell_type": "code",
   "execution_count": 6,
   "metadata": {},
   "outputs": [
    {
     "data": {
      "text/plain": [
       "{'address': 'Washington, Washington DC, District of Columbia',\n",
       " 'location': {'x': -77.03195999999997, 'y': 38.890370000000075},\n",
       " 'score': 100,\n",
       " 'attributes': {'Loc_name': 'World',\n",
       "  'Status': 'T',\n",
       "  'Score': 100,\n",
       "  'Match_addr': 'Washington, Washington DC, District of Columbia',\n",
       "  'LongLabel': 'Washington, Washington DC, DC, USA',\n",
       "  'ShortLabel': 'Washington',\n",
       "  'Addr_type': 'Locality',\n",
       "  'Type': 'City',\n",
       "  'PlaceName': 'Washington',\n",
       "  'Place_addr': 'Washington DC, District of Columbia',\n",
       "  'Phone': '',\n",
       "  'URL': '',\n",
       "  'Rank': 2,\n",
       "  'AddBldg': '',\n",
       "  'AddNum': '',\n",
       "  'AddNumFrom': '',\n",
       "  'AddNumTo': '',\n",
       "  'AddRange': '',\n",
       "  'Side': '',\n",
       "  'StPreDir': '',\n",
       "  'StPreType': '',\n",
       "  'StName': '',\n",
       "  'StType': '',\n",
       "  'StDir': '',\n",
       "  'BldgType': '',\n",
       "  'BldgName': '',\n",
       "  'LevelType': '',\n",
       "  'LevelName': '',\n",
       "  'UnitType': '',\n",
       "  'UnitName': '',\n",
       "  'SubAddr': '',\n",
       "  'StAddr': '',\n",
       "  'Block': '',\n",
       "  'Sector': '',\n",
       "  'Nbrhd': '',\n",
       "  'District': '',\n",
       "  'City': 'Washington DC',\n",
       "  'MetroArea': 'Washington DC Metro Area',\n",
       "  'Subregion': 'District of Columbia',\n",
       "  'Region': 'District of Columbia',\n",
       "  'RegionAbbr': 'DC',\n",
       "  'Territory': '',\n",
       "  'Zone': '',\n",
       "  'Postal': '',\n",
       "  'PostalExt': '',\n",
       "  'Country': 'USA',\n",
       "  'LangCode': 'ENG',\n",
       "  'Distance': 0,\n",
       "  'X': -77.03195999999997,\n",
       "  'Y': 38.890370000000075,\n",
       "  'DisplayX': -77.03195999999997,\n",
       "  'DisplayY': 38.890370000000075,\n",
       "  'Xmin': -77.13595999999997,\n",
       "  'Xmax': -76.92795999999997,\n",
       "  'Ymin': 38.786370000000076,\n",
       "  'Ymax': 38.994370000000075,\n",
       "  'ExInfo': ''},\n",
       " 'extent': {'xmin': -77.13595999999997,\n",
       "  'ymin': 38.786370000000076,\n",
       "  'xmax': -76.92795999999997,\n",
       "  'ymax': 38.994370000000075}}"
      ]
     },
     "execution_count": 6,
     "metadata": {},
     "output_type": "execute_result"
    }
   ],
   "source": [
    "results[0]"
   ]
  },
  {
   "cell_type": "code",
   "execution_count": 7,
   "metadata": {},
   "outputs": [
    {
     "data": {
      "application/vnd.jupyter.widget-view+json": {
       "model_id": "b3ceb836d9244b91b84308d14f74c1ad",
       "version_major": 2,
       "version_minor": 0
      },
      "text/plain": [
       "MapView(layout=Layout(height='400px', width='100%'))"
      ]
     },
     "metadata": {},
     "output_type": "display_data"
    },
    {
     "data": {
      "text/html": [
       "<div class=\"map-static-img-preview-90cda161-0102-49a7-bdeb-b13149c4d450\"><img src=\"\"></img></div>"
      ],
      "text/plain": [
       "<IPython.core.display.HTML object>"
      ]
     },
     "metadata": {},
     "output_type": "display_data"
    }
   ],
   "source": [
    "map1 = gis.map('Washington, DC')\n",
    "map1"
   ]
  },
  {
   "cell_type": "code",
   "execution_count": 8,
   "metadata": {},
   "outputs": [],
   "source": [
    "symbol = {\n",
    "    \"type\" : \"simple-marker\",\n",
    "    \"style\" : \"diamond\",\n",
    "    \"color\" : [230, 76, 0, 1]\n",
    "}\n",
    "map1.draw(results[0]['location'], symbol=symbol)"
   ]
  },
  {
   "cell_type": "markdown",
   "metadata": {},
   "source": [
    "### Geocode single line addresses "
   ]
  },
  {
   "cell_type": "code",
   "execution_count": 9,
   "metadata": {},
   "outputs": [
    {
     "data": {
      "text/plain": [
       "1"
      ]
     },
     "execution_count": 9,
     "metadata": {},
     "output_type": "execute_result"
    }
   ],
   "source": [
    "r2 = geocoding.geocode('walter e washington convention center')\n",
    "len(r2)"
   ]
  },
  {
   "cell_type": "code",
   "execution_count": 10,
   "metadata": {},
   "outputs": [
    {
     "data": {
      "text/plain": [
       "['100  :  Walter E. Washington Convention Center']"
      ]
     },
     "execution_count": 10,
     "metadata": {},
     "output_type": "execute_result"
    }
   ],
   "source": [
    "[str(r['score']) +\"  :  \"+ r['attributes']['Match_addr'] for r in r2]"
   ]
  },
  {
   "cell_type": "markdown",
   "metadata": {},
   "source": [
    "### Geocode multi field address"
   ]
  },
  {
   "cell_type": "code",
   "execution_count": 11,
   "metadata": {},
   "outputs": [
    {
     "data": {
      "text/plain": [
       "16"
      ]
     },
     "execution_count": 11,
     "metadata": {},
     "output_type": "execute_result"
    }
   ],
   "source": [
    "multi_field_address = { \n",
    "    \"Address\" : \"111 Harbor Dr\",\n",
    "    \"City\" : \"San Diego\",\n",
    "    \"Region\" : \"CA\",\n",
    "    \"Subregion\":\"San Diego\",\n",
    "    \"Postal\" : 92103,\n",
    "    \"Country\":\"USA\"\n",
    "    }\n",
    "r_multi_fields = geocoding.geocode(multi_field_address)\n",
    "len(r_multi_fields)"
   ]
  },
  {
   "cell_type": "markdown",
   "metadata": {},
   "source": [
    "### Searching within an exent\n",
    "Find restaurants within walking distance of this training center (Hard Rock Hotel, Palm Springs)"
   ]
  },
  {
   "cell_type": "code",
   "execution_count": 18,
   "metadata": {},
   "outputs": [
    {
     "data": {
      "application/vnd.jupyter.widget-view+json": {
       "model_id": "d105663dc616422883c260759c453d53",
       "version_major": 2,
       "version_minor": 0
      },
      "text/plain": [
       "MapView(layout=Layout(height='400px', width='100%'), zoom=13.0)"
      ]
     },
     "metadata": {},
     "output_type": "display_data"
    },
    {
     "data": {
      "text/html": [
       "<div class=\"map-static-img-preview-b1d0e02b-e849-4fb1-a475-31980e72cc4f\"><img src=\"\"></img></div>"
      ],
      "text/plain": [
       "<IPython.core.display.HTML object>"
      ]
     },
     "metadata": {},
     "output_type": "display_data"
    }
   ],
   "source": [
    "# first create an extent.\n",
    "conv_center = geocoding.geocode('walter e washington convention center')[0]\n",
    "map3 = gis.map('Washington, DC', zoomlevel=13)\n",
    "map3"
   ]
  },
  {
   "cell_type": "code",
   "execution_count": 15,
   "metadata": {},
   "outputs": [
    {
     "data": {
      "text/plain": [
       "15"
      ]
     },
     "execution_count": 15,
     "metadata": {},
     "output_type": "execute_result"
    }
   ],
   "source": [
    "restaurants = geocoding.geocode('restaurants',search_extent=conv_center['extent'], \n",
    "                                max_locations=15)\n",
    "len(restaurants)"
   ]
  },
  {
   "cell_type": "code",
   "execution_count": 16,
   "metadata": {},
   "outputs": [],
   "source": [
    "map3.clear_graphics()"
   ]
  },
  {
   "cell_type": "code",
   "execution_count": 19,
   "metadata": {},
   "outputs": [],
   "source": [
    "for shop in restaurants:\n",
    "    popup = { \n",
    "    \"title\" : shop['attributes']['PlaceName'], \n",
    "    \"content\" : shop['attributes']['Place_addr']\n",
    "    }\n",
    "    map3.draw(shop['location'],popup, symbol=symbol)"
   ]
  },
  {
   "cell_type": "markdown",
   "metadata": {},
   "source": [
    "## Batch geocoding"
   ]
  },
  {
   "cell_type": "code",
   "execution_count": 20,
   "metadata": {},
   "outputs": [],
   "source": [
    "addresses = [\"380 New York St, Redlands, CA\", \n",
    "             \"1 World Way, Los Angeles, CA\",\n",
    "             \"1200 Getty Center Drive, Los Angeles, CA\", \n",
    "             \"5905 Wilshire Boulevard, Los Angeles, CA\",\n",
    "             \"100 Universal City Plaza, Universal City, CA 91608\",\n",
    "             \"4800 Oak Grove Dr, Pasadena, CA 91109\"]"
   ]
  },
  {
   "cell_type": "code",
   "execution_count": 21,
   "metadata": {},
   "outputs": [],
   "source": [
    "results = geocoding.batch_geocode(addresses)"
   ]
  },
  {
   "cell_type": "code",
   "execution_count": 22,
   "metadata": {},
   "outputs": [
    {
     "data": {
      "text/plain": [
       "6"
      ]
     },
     "execution_count": 22,
     "metadata": {},
     "output_type": "execute_result"
    }
   ],
   "source": [
    "len(results)"
   ]
  },
  {
   "cell_type": "code",
   "execution_count": 23,
   "metadata": {
    "scrolled": true
   },
   "outputs": [
    {
     "data": {
      "application/vnd.jupyter.widget-view+json": {
       "model_id": "01bf7c7cff26484d9c27ef29d185c1cb",
       "version_major": 2,
       "version_minor": 0
      },
      "text/plain": [
       "MapView(layout=Layout(height='400px', width='100%'))"
      ]
     },
     "metadata": {},
     "output_type": "display_data"
    },
    {
     "data": {
      "text/html": [
       "<div class=\"map-static-img-preview-7ada6ecd-b201-4135-8d06-98be53b83ca0\"><img src=\"\"></img></div>"
      ],
      "text/plain": [
       "<IPython.core.display.HTML object>"
      ]
     },
     "metadata": {},
     "output_type": "display_data"
    }
   ],
   "source": [
    "map5 = gis.map('Los Angeles, CA')\n",
    "map5"
   ]
  },
  {
   "cell_type": "code",
   "execution_count": 24,
   "metadata": {},
   "outputs": [],
   "source": [
    "for address in results:\n",
    "    map5.draw(address['location'], symbol=symbol)"
   ]
  },
  {
   "cell_type": "markdown",
   "metadata": {},
   "source": [
    "## Reverse geocoding"
   ]
  },
  {
   "cell_type": "code",
   "execution_count": 25,
   "metadata": {},
   "outputs": [
    {
     "data": {
      "text/plain": [
       "{'address': {'Match_addr': 'Salle Gustave Eiffel',\n",
       "  'LongLabel': 'Salle Gustave Eiffel, Avenue Gustave Eiffel, 75007, 7e Arrondissement, Paris, Île-de-France, FRA',\n",
       "  'ShortLabel': 'Salle Gustave Eiffel',\n",
       "  'Addr_type': 'POI',\n",
       "  'Type': 'Convention Center',\n",
       "  'PlaceName': 'Salle Gustave Eiffel',\n",
       "  'AddNum': '',\n",
       "  'Address': 'Avenue Gustave Eiffel',\n",
       "  'Block': '',\n",
       "  'Sector': '',\n",
       "  'Neighborhood': 'Gros Caillou',\n",
       "  'District': '7e Arrondissement',\n",
       "  'City': 'Paris',\n",
       "  'MetroArea': '',\n",
       "  'Subregion': 'Paris',\n",
       "  'Region': 'Île-de-France',\n",
       "  'Territory': '',\n",
       "  'Postal': '75007',\n",
       "  'PostalExt': '',\n",
       "  'CountryCode': 'FRA'},\n",
       " 'location': {'x': 2.2951599583073303,\n",
       "  'y': 48.85784000836726,\n",
       "  'spatialReference': {'wkid': 4326, 'latestWkid': 4326}}}"
      ]
     },
     "execution_count": 25,
     "metadata": {},
     "output_type": "execute_result"
    }
   ],
   "source": [
    "reverse_geocode_results = geocoding.reverse_geocode([2.2945, 48.8583])\n",
    "reverse_geocode_results"
   ]
  },
  {
   "cell_type": "code",
   "execution_count": 26,
   "metadata": {},
   "outputs": [
    {
     "data": {
      "application/vnd.jupyter.widget-view+json": {
       "model_id": "53cad95ff8f94731a08b1db8baeecbfd",
       "version_major": 2,
       "version_minor": 0
      },
      "text/plain": [
       "MapView(layout=Layout(height='400px', width='100%'), zoom=16.0)"
      ]
     },
     "metadata": {},
     "output_type": "display_data"
    },
    {
     "data": {
      "text/html": [
       "<div class=\"map-static-img-preview-da199f40-7480-42ff-bf2b-706538c3c7c8\"><img src=\"\"></img></div>"
      ],
      "text/plain": [
       "<IPython.core.display.HTML object>"
      ]
     },
     "metadata": {},
     "output_type": "display_data"
    },
    {
     "name": "stdout",
     "output_type": "stream",
     "text": [
      "15th St NW, Washington, District of Columbia, 20004\n",
      "Madison Dr NW, Washington, District of Columbia, 20004\n",
      "Independence Ave SW, Washington, District of Columbia, 20024\n",
      "Constitution Ave NW, Washington, District of Columbia, 20006\n"
     ]
    }
   ],
   "source": [
    "map6 = gis.map('Washington, DC', 16)\n",
    "map6"
   ]
  },
  {
   "cell_type": "code",
   "execution_count": 27,
   "metadata": {},
   "outputs": [],
   "source": [
    "def find_addr(map6, g):\n",
    "    try:\n",
    "        map6.draw(g, symbol=symbol)\n",
    "        geocoded = geocoding.reverse_geocode(g)\n",
    "        print(geocoded['address']['Match_addr'])\n",
    "    except:\n",
    "        print(\"Couldn't match address. Try another place...\")"
   ]
  },
  {
   "cell_type": "code",
   "execution_count": 28,
   "metadata": {},
   "outputs": [],
   "source": [
    "map6.on_click(find_addr)"
   ]
  },
  {
   "cell_type": "code",
   "execution_count": null,
   "metadata": {},
   "outputs": [],
   "source": []
  }
 ],
 "metadata": {
  "anaconda-cloud": {},
  "kernelspec": {
   "display_name": "Python 3",
   "language": "python",
   "name": "python3"
  },
  "language_info": {
   "codemirror_mode": {
    "name": "ipython",
    "version": 3
   },
   "file_extension": ".py",
   "mimetype": "text/x-python",
   "name": "python",
   "nbconvert_exporter": "python",
   "pygments_lexer": "ipython3",
   "version": "3.6.6"
  },
  "widgets": {
   "state": {
    "6c17a22f7c0a4f6288be29b5c9141965": {
     "views": [
      {
       "cell_index": 25
      }
     ]
    },
    "73f2fba418054d17beaad12db41e4e99": {
     "views": [
      {
       "cell_index": 7
      }
     ]
    },
    "a215fe896cc74c4094a663b0371b54f2": {
     "views": [
      {
       "cell_index": 29
      }
     ]
    },
    "ac896a0b76d34e76b4362471ce8a614d": {
     "views": [
      {
       "cell_index": 17
      }
     ]
    }
   },
   "version": "1.2.0"
  }
 },
 "nbformat": 4,
 "nbformat_minor": 1
}
