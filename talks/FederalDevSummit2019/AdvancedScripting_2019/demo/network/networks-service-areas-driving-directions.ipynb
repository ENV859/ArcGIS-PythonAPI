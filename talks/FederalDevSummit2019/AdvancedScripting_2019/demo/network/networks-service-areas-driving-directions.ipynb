{
 "cells": [
  {
   "cell_type": "markdown",
   "metadata": {},
   "source": [
    "## What is the Network Analysis?\n",
    "\n",
    "The ArcGIS Network Analyst allows you to solve common `network` problems\n",
    "\n",
    "Modern routing algorithm area varients of **Dijkstra's algorithm**\n",
    "\n",
    "### Examples:\n",
    "\n",
    "- finding the best route across a city\n",
    "- finding the closest emergency vehicle or facility, \n",
    "- identifying a service area around a location\n",
    "- servicing a set of orders with a fleet of vehicles \n",
    "- choosing the best facilities to open or close.\n",
    "\n"
   ]
  },
  {
   "cell_type": "markdown",
   "metadata": {},
   "source": [
    "# Constructing drive time based service areas\n",
    "This sample shows how the `network` module of the ArcGIS API for Python can be used to construct service areas. In this sample, we generate service areas for two of the fire stations in central Tokyo, Japan. We later observe how the service area varies by time of day for a fire station in the city of Los Angeles."
   ]
  },
  {
   "cell_type": "markdown",
   "metadata": {},
   "source": [
    "##### Connect to the GIS"
   ]
  },
  {
   "cell_type": "code",
   "execution_count": 1,
   "metadata": {},
   "outputs": [],
   "source": [
    "from datetime import datetime\n",
    "from IPython.display import HTML\n",
    "import pandas as pd\n",
    "from arcgis.gis import GIS\n",
    "\n",
    "my_gis = GIS(profile='agol_profile')"
   ]
  },
  {
   "cell_type": "code",
   "execution_count": 2,
   "metadata": {},
   "outputs": [
    {
     "data": {
      "text/html": [
       "<div class=\"9item_container\" style=\"height: auto; overflow: hidden; border: 1px solid #cfcfcf; border-radius: 2px; background: #f6fafa; line-height: 1.21429em; padding: 10px;\">\n",
       "                    <div class=\"item_left\" style=\"width: 210px; float: left;\">\n",
       "                       <a href='https://arcgissolutions.maps.arcgis.com/home/user.html?user=37bedefbf03fa95652f5d96eeb2a6cdb' target='_blank'>\n",
       "                        <img src='data:image/png;base64,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' width='200' height='133' class=\"itemThumbnail\">\n",
       "                       </a>\n",
       "                    </div>\n",
       "\n",
       "                    <div class=\"item_right\" style=\"float: none; width: auto; overflow: hidden;\">\n",
       "                        <a href='https://arcgissolutions.maps.arcgis.com/home/user.html?user=37bedefbf03fa95652f5d96eeb2a6cdb' target='_blank'><b>Andrew Chapkowski</b>\n",
       "                        </a>\n",
       "                        <br/><br/><b>Bio</b>: \n",
       "                        <br/><b>First Name</b>: Andrew\n",
       "                        <br/><b>Last Name</b>: Chapkowski\n",
       "                        <br/><b>Username</b>: AndrewSolutions\n",
       "                        <br/><b>Joined</b>: February 12, 2014\n",
       "\n",
       "                    </div>\n",
       "                </div>\n",
       "                "
      ],
      "text/plain": [
       "<User username:AndrewSolutions>"
      ]
     },
     "execution_count": 2,
     "metadata": {},
     "output_type": "execute_result"
    }
   ],
   "source": [
    "my_gis.users.me"
   ]
  },
  {
   "cell_type": "code",
   "execution_count": 3,
   "metadata": {},
   "outputs": [],
   "source": [
    "from getpass import getpass"
   ]
  },
  {
   "cell_type": "markdown",
   "metadata": {},
   "source": [
    "### Create a Network Layer"
   ]
  },
  {
   "cell_type": "code",
   "execution_count": 4,
   "metadata": {},
   "outputs": [],
   "source": [
    "from arcgis.network import ServiceAreaLayer"
   ]
  },
  {
   "cell_type": "code",
   "execution_count": 5,
   "metadata": {},
   "outputs": [
    {
     "data": {
      "text/plain": [
       "'https://route.arcgis.com/arcgis/rest/services/World/ServiceAreas/NAServer/ServiceArea_World'"
      ]
     },
     "execution_count": 5,
     "metadata": {},
     "output_type": "execute_result"
    }
   ],
   "source": [
    "service_area_url = my_gis.properties.helperServices.serviceArea.url\n",
    "service_area_url"
   ]
  },
  {
   "cell_type": "code",
   "execution_count": 6,
   "metadata": {},
   "outputs": [],
   "source": [
    "sa_layer = ServiceAreaLayer(service_area_url, gis=my_gis)"
   ]
  },
  {
   "cell_type": "markdown",
   "metadata": {},
   "source": [
    "## Calculate service area from Palm Springs Convention Center"
   ]
  },
  {
   "cell_type": "code",
   "execution_count": 7,
   "metadata": {},
   "outputs": [
    {
     "data": {
      "text/plain": [
       "arcgis.features.feature.FeatureSet"
      ]
     },
     "execution_count": 7,
     "metadata": {},
     "output_type": "execute_result"
    }
   ],
   "source": [
    "from arcgis.geocoding import geocode\n",
    "ps_geocode = geocode('Palm Springs Convention Center', as_featureset=True)\n",
    "type(ps_geocode)"
   ]
  },
  {
   "cell_type": "markdown",
   "metadata": {},
   "source": [
    "# Display the Convetion Center"
   ]
  },
  {
   "cell_type": "code",
   "execution_count": 8,
   "metadata": {},
   "outputs": [
    {
     "data": {
      "application/vnd.jupyter.widget-view+json": {
       "model_id": "7b55ab62201040a994b66002ce5c74fc",
       "version_major": 2,
       "version_minor": 0
      },
      "text/plain": [
       "MapView(layout=Layout(height='400px', width='100%'), zoom=12.0)"
      ]
     },
     "metadata": {},
     "output_type": "display_data"
    },
    {
     "data": {
      "text/html": [
       "<div class=\"map-static-img-preview-b4396be2-8c70-4ec2-ba15-bc13d96f07b1\"><img src=\"\"></img></div>"
      ],
      "text/plain": [
       "<IPython.core.display.HTML object>"
      ]
     },
     "metadata": {},
     "output_type": "display_data"
    }
   ],
   "source": [
    "map1 = my_gis.map('Palm Springs, CA', zoomlevel=12)\n",
    "map1"
   ]
  },
  {
   "cell_type": "code",
   "execution_count": 9,
   "metadata": {},
   "outputs": [],
   "source": [
    "map1.draw(ps_geocode)"
   ]
  },
  {
   "cell_type": "markdown",
   "metadata": {},
   "source": [
    "## Compute the service area\n"
   ]
  },
  {
   "cell_type": "code",
   "execution_count": 10,
   "metadata": {
    "scrolled": true
   },
   "outputs": [
    {
     "name": "stdout",
     "output_type": "stream",
     "text": [
      "Walking Time\n",
      "Rural Driving Distance\n",
      "Driving Time\n",
      "Driving Distance\n",
      "Walking Distance\n",
      "werewr\n",
      "Trucking Time\n",
      "Rural Driving Time\n"
     ]
    }
   ],
   "source": [
    "travel_modes = sa_layer.retrieve_travel_modes()\n",
    "\n",
    "for t in travel_modes['supportedTravelModes']:\n",
    "    print(t['name'])"
   ]
  },
  {
   "cell_type": "code",
   "execution_count": 11,
   "metadata": {},
   "outputs": [],
   "source": [
    "truck_mode = [t for t in travel_modes['supportedTravelModes'] if t['name'] == 'Driving Time'][0]"
   ]
  },
  {
   "cell_type": "code",
   "execution_count": 12,
   "metadata": {},
   "outputs": [],
   "source": [
    "result = sa_layer.solve_service_area(ps_geocode, default_breaks=[5,10,15], \n",
    "                                     travel_direction='esriNATravelDirectionToFacility',\n",
    "                                     travel_mode=truck_mode)"
   ]
  },
  {
   "cell_type": "markdown",
   "metadata": {},
   "source": [
    "#### Read the result back as a `FeatureSet`\n",
    "The `result` variable contains the service area as a dictionary. We inspect its keys and construct `Feature` and `FeatureSet` objects out of it to display in the map"
   ]
  },
  {
   "cell_type": "code",
   "execution_count": 14,
   "metadata": {},
   "outputs": [
    {
     "data": {
      "text/plain": [
       "dict_keys(['messages', 'saPolygons'])"
      ]
     },
     "execution_count": 14,
     "metadata": {},
     "output_type": "execute_result"
    }
   ],
   "source": [
    "result.keys()"
   ]
  },
  {
   "cell_type": "code",
   "execution_count": 15,
   "metadata": {},
   "outputs": [
    {
     "data": {
      "text/plain": [
       "dict_keys(['fieldAliases', 'geometryType', 'spatialReference', 'features'])"
      ]
     },
     "execution_count": 15,
     "metadata": {},
     "output_type": "execute_result"
    }
   ],
   "source": [
    "result['saPolygons'].keys()"
   ]
  },
  {
   "cell_type": "code",
   "execution_count": 16,
   "metadata": {},
   "outputs": [],
   "source": [
    "from arcgis.features import FeatureSet\n",
    "fs = FeatureSet.from_dict(result['saPolygons'])\n",
    "from arcgis.features import Feature"
   ]
  },
  {
   "cell_type": "code",
   "execution_count": 18,
   "metadata": {},
   "outputs": [],
   "source": [
    "poly_feat_list = []\n",
    "for polygon_dict in result['saPolygons']['features']:\n",
    "    f1 = Feature(polygon_dict['geometry'], polygon_dict['attributes'])\n",
    "    poly_feat_list.append(f1)"
   ]
  },
  {
   "cell_type": "code",
   "execution_count": 19,
   "metadata": {},
   "outputs": [],
   "source": [
    "service_area_fset = FeatureSet(poly_feat_list, \n",
    "                         geometry_type=result['saPolygons']['geometryType'],\n",
    "                         spatial_reference= result['saPolygons']['spatialReference'])"
   ]
  },
  {
   "cell_type": "markdown",
   "metadata": {},
   "source": [
    "### Visualize the service area on the map\n",
    "From the DataFrame above, we know, there are 3 service area polygons for each fire station. The drive times are given as a range between `FromBreak` and `ToBreak` columns. Let us use this information to visualize the polygons with different colors and appropriate popup messags on the map"
   ]
  },
  {
   "cell_type": "code",
   "execution_count": 20,
   "metadata": {},
   "outputs": [],
   "source": [
    "colors = {5: [0, 128, 0, 90], \n",
    "          10: [255, 255, 0, 90], \n",
    "          15: [255, 0, 0, 90]}\n",
    "\n",
    "fill_symbol = {\"type\": \"esriSFS\",\"style\": \"esriSFSSolid\",\n",
    "               \"color\": [115,76,0,255]}"
   ]
  },
  {
   "cell_type": "code",
   "execution_count": 21,
   "metadata": {},
   "outputs": [],
   "source": [
    "for service_area in service_area_fset.features:\n",
    "    \n",
    "    #set color based on drive time\n",
    "    fill_symbol['color'] = colors[service_area.attributes['ToBreak']]\n",
    "    \n",
    "    #set popup\n",
    "    popup={\"title\": \"Service area\", \n",
    "            \"content\": \"{} minutes\".format(service_area.attributes['ToBreak'])}\n",
    "    \n",
    "    map1.draw(service_area.geometry, symbol=fill_symbol, popup=popup)"
   ]
  },
  {
   "cell_type": "markdown",
   "metadata": {},
   "source": [
    "Click the drive time areas to explore their attributes. Because the content of the pop-ups may include HTML source code, it is also possible to have the pop-up windows include other resources such as tables and images."
   ]
  },
  {
   "cell_type": "markdown",
   "metadata": {},
   "source": [
    "### Driving directions"
   ]
  },
  {
   "cell_type": "code",
   "execution_count": 22,
   "metadata": {},
   "outputs": [],
   "source": [
    "from arcgis.network import RouteLayer"
   ]
  },
  {
   "cell_type": "code",
   "execution_count": 23,
   "metadata": {},
   "outputs": [
    {
     "data": {
      "text/plain": [
       "'https://route.arcgis.com/arcgis/rest/services/World/Route/NAServer/Route_World'"
      ]
     },
     "execution_count": 23,
     "metadata": {},
     "output_type": "execute_result"
    }
   ],
   "source": [
    "route_service_url = my_gis.properties.helperServices.route.url\n",
    "route_service_url"
   ]
  },
  {
   "cell_type": "code",
   "execution_count": 24,
   "metadata": {},
   "outputs": [
    {
     "data": {
      "text/plain": [
       "<RouteLayer url:\"https://route.arcgis.com/arcgis/rest/services/World/Route/NAServer/Route_World\">"
      ]
     },
     "execution_count": 24,
     "metadata": {},
     "output_type": "execute_result"
    }
   ],
   "source": [
    "route_service = RouteLayer(route_service_url, gis=my_gis)\n",
    "route_service"
   ]
  },
  {
   "cell_type": "code",
   "execution_count": 25,
   "metadata": {},
   "outputs": [],
   "source": [
    "stops = ['White House', '2436 Rayburn Hob, Washington, DC 20515']\n",
    "from arcgis.geocoding import geocode, batch_geocode\n",
    "stops_geocoded = batch_geocode(stops)"
   ]
  },
  {
   "cell_type": "markdown",
   "metadata": {},
   "source": [
    "#### data wrangling"
   ]
  },
  {
   "cell_type": "code",
   "execution_count": 26,
   "metadata": {},
   "outputs": [
    {
     "data": {
      "text/plain": [
       "[{'x': -77.03643005499998, 'y': 38.89792994800007},\n",
       " {'x': -77.01050999999995, 'y': 38.887050000000045}]"
      ]
     },
     "execution_count": 26,
     "metadata": {},
     "output_type": "execute_result"
    }
   ],
   "source": [
    "stops_geocoded = [item['location'] for item in stops_geocoded]\n",
    "stops_geocoded"
   ]
  },
  {
   "cell_type": "code",
   "execution_count": 27,
   "metadata": {},
   "outputs": [
    {
     "data": {
      "text/plain": [
       "'-77.03643005499998,38.89792994800007;-77.01050999999995,38.887050000000045'"
      ]
     },
     "execution_count": 27,
     "metadata": {},
     "output_type": "execute_result"
    }
   ],
   "source": [
    "stops_geocoded2 = '{},{};{},{}'.format(stops_geocoded[0]['x'],stops_geocoded[0]['y'],\n",
    "                                       stops_geocoded[1]['x'],stops_geocoded[1]['y'])\n",
    "stops_geocoded2"
   ]
  },
  {
   "cell_type": "markdown",
   "metadata": {},
   "source": [
    "### find dirving directions"
   ]
  },
  {
   "cell_type": "code",
   "execution_count": 28,
   "metadata": {},
   "outputs": [],
   "source": [
    "result = route_service.solve(stops_geocoded2, \n",
    "                             return_routes=True,\n",
    "                           return_stops=True, return_directions=True,\n",
    "                           return_barriers=False, return_polygon_barriers=False,\n",
    "                           return_polyline_barriers=False)"
   ]
  },
  {
   "cell_type": "code",
   "execution_count": 29,
   "metadata": {},
   "outputs": [
    {
     "data": {
      "application/vnd.jupyter.widget-view+json": {
       "model_id": "b5e0496bd0764931a15522c8dff4a173",
       "version_major": 2,
       "version_minor": 0
      },
      "text/plain": [
       "MapView(layout=Layout(height='400px', width='100%'), zoom=13.0)"
      ]
     },
     "metadata": {},
     "output_type": "display_data"
    },
    {
     "data": {
      "text/html": [
       "<div class=\"map-static-img-preview-271e5aa9-ca5e-4148-9efe-f9555500e356\"><img src=\"\"></img></div>"
      ],
      "text/plain": [
       "<IPython.core.display.HTML object>"
      ]
     },
     "metadata": {},
     "output_type": "display_data"
    }
   ],
   "source": [
    "map2 = my_gis.map('White House', zoomlevel=13)\n",
    "map2"
   ]
  },
  {
   "cell_type": "code",
   "execution_count": 30,
   "metadata": {},
   "outputs": [],
   "source": [
    "from arcgis.features import Feature, FeatureSet\n",
    "features = result['routes']['features']\n",
    "routes = FeatureSet(features)\n",
    "stop_features = result['stops']['features']\n",
    "stop_fset = FeatureSet(stop_features)\n",
    "map2.draw(routes)\n",
    "map2.draw(stop_fset)"
   ]
  },
  {
   "cell_type": "code",
   "execution_count": 31,
   "metadata": {},
   "outputs": [
    {
     "data": {
      "text/plain": [
       "4"
      ]
     },
     "execution_count": 31,
     "metadata": {},
     "output_type": "execute_result"
    }
   ],
   "source": [
    "len(result['stops'])"
   ]
  },
  {
   "cell_type": "code",
   "execution_count": 33,
   "metadata": {},
   "outputs": [],
   "source": [
    "stop_features = result['stops']['features']\n",
    "stop_fset = FeatureSet(stop_features)"
   ]
  },
  {
   "cell_type": "code",
   "execution_count": 34,
   "metadata": {},
   "outputs": [],
   "source": [
    "symbol = {\n",
    "    \"type\" : \"simple-marker\",\n",
    "    \"style\" : \"square\",\n",
    "    \"outline\" : {\n",
    "        \"style\": \"dash-dot\"\n",
    "    },\n",
    "    \"color\": [255, 211, 127, 1]\n",
    "}\n",
    "map2.draw(stop_fset, symbol=symbol)"
   ]
  },
  {
   "cell_type": "markdown",
   "metadata": {
    "collapsed": true
   },
   "source": [
    "# Visualizing the Instructions"
   ]
  },
  {
   "cell_type": "code",
   "execution_count": 58,
   "metadata": {},
   "outputs": [
    {
     "data": {
      "text/html": [
       "<div>\n",
       "<style scoped>\n",
       "    .dataframe tbody tr th:only-of-type {\n",
       "        vertical-align: middle;\n",
       "    }\n",
       "\n",
       "    .dataframe tbody tr th {\n",
       "        vertical-align: top;\n",
       "    }\n",
       "\n",
       "    .dataframe thead th {\n",
       "        text-align: right;\n",
       "    }\n",
       "</style>\n",
       "<table border=\"1\" class=\"dataframe\">\n",
       "  <thead>\n",
       "    <tr style=\"text-align: right;\">\n",
       "      <th></th>\n",
       "      <th>text</th>\n",
       "      <th>length</th>\n",
       "      <th>time</th>\n",
       "    </tr>\n",
       "  </thead>\n",
       "  <tbody>\n",
       "    <tr>\n",
       "      <th>0</th>\n",
       "      <td>Start at Location 1</td>\n",
       "      <td>0.000000</td>\n",
       "      <td>0.000000</td>\n",
       "    </tr>\n",
       "    <tr>\n",
       "      <th>1</th>\n",
       "      <td>Go southeast</td>\n",
       "      <td>0.060442</td>\n",
       "      <td>0.583623</td>\n",
       "    </tr>\n",
       "    <tr>\n",
       "      <th>2</th>\n",
       "      <td>Turn left</td>\n",
       "      <td>0.049245</td>\n",
       "      <td>0.475513</td>\n",
       "    </tr>\n",
       "    <tr>\n",
       "      <th>3</th>\n",
       "      <td>Continue on Alexander Hamilton Pl NW</td>\n",
       "      <td>0.077650</td>\n",
       "      <td>0.659879</td>\n",
       "    </tr>\n",
       "    <tr>\n",
       "      <th>4</th>\n",
       "      <td>Turn right on 15th St NW</td>\n",
       "      <td>0.064152</td>\n",
       "      <td>0.497937</td>\n",
       "    </tr>\n",
       "    <tr>\n",
       "      <th>5</th>\n",
       "      <td>Turn left on Pennsylvania Ave NW</td>\n",
       "      <td>0.091244</td>\n",
       "      <td>0.762053</td>\n",
       "    </tr>\n",
       "    <tr>\n",
       "      <th>6</th>\n",
       "      <td>Turn right on 14th St NW</td>\n",
       "      <td>0.548412</td>\n",
       "      <td>2.533681</td>\n",
       "    </tr>\n",
       "    <tr>\n",
       "      <th>7</th>\n",
       "      <td>Turn left on Independence Ave SW</td>\n",
       "      <td>1.155949</td>\n",
       "      <td>4.727846</td>\n",
       "    </tr>\n",
       "    <tr>\n",
       "      <th>8</th>\n",
       "      <td>Finish at Location 2, on the right</td>\n",
       "      <td>0.000000</td>\n",
       "      <td>0.000000</td>\n",
       "    </tr>\n",
       "  </tbody>\n",
       "</table>\n",
       "</div>"
      ],
      "text/plain": [
       "                                   text    length      time\n",
       "0                   Start at Location 1  0.000000  0.000000\n",
       "1                          Go southeast  0.060442  0.583623\n",
       "2                             Turn left  0.049245  0.475513\n",
       "3  Continue on Alexander Hamilton Pl NW  0.077650  0.659879\n",
       "4              Turn right on 15th St NW  0.064152  0.497937\n",
       "5      Turn left on Pennsylvania Ave NW  0.091244  0.762053\n",
       "6              Turn right on 14th St NW  0.548412  2.533681\n",
       "7      Turn left on Independence Ave SW  1.155949  4.727846\n",
       "8    Finish at Location 2, on the right  0.000000  0.000000"
      ]
     },
     "execution_count": 58,
     "metadata": {},
     "output_type": "execute_result"
    }
   ],
   "source": [
    "import pandas as pd\n",
    "text = [att['attributes'] for att in result['directions'][0]['features']]\n",
    "df = pd.DataFrame(text)[['text', 'length','time']]\n",
    "df"
   ]
  },
  {
   "cell_type": "code",
   "execution_count": null,
   "metadata": {},
   "outputs": [],
   "source": []
  }
 ],
 "metadata": {
  "kernelspec": {
   "display_name": "Python 3",
   "language": "python",
   "name": "python3"
  },
  "language_info": {
   "codemirror_mode": {
    "name": "ipython",
    "version": 3
   },
   "file_extension": ".py",
   "mimetype": "text/x-python",
   "name": "python",
   "nbconvert_exporter": "python",
   "pygments_lexer": "ipython3",
   "version": "3.6.6"
  }
 },
 "nbformat": 4,
 "nbformat_minor": 2
}
