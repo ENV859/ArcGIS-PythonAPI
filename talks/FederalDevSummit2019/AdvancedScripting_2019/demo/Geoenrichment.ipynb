{
 "cells": [
  {
   "cell_type": "markdown",
   "metadata": {
    "slideshow": {
     "slide_type": "slide"
    }
   },
   "source": [
    "# GeoEnrichment"
   ]
  },
  {
   "cell_type": "markdown",
   "metadata": {
    "slideshow": {
     "slide_type": "-"
    }
   },
   "source": [
    "GeoEnrichment provides the ability to \n",
    "* get facts about a location or area. \n",
    "* information about the people, places, and businesses \n",
    " * in a specific area or \n",
    " * within a certain distance or drive time from a location.\n",
    "* large collection of data sets including population, income, housing, consumer behavior, and the natural environment.\n",
    "* Site analysis is a popular application"
   ]
  },
  {
   "cell_type": "markdown",
   "metadata": {
    "slideshow": {
     "slide_type": "-"
    }
   },
   "source": [
    "### Login"
   ]
  },
  {
   "cell_type": "code",
   "execution_count": 1,
   "metadata": {
    "slideshow": {
     "slide_type": "skip"
    }
   },
   "outputs": [],
   "source": [
    "from arcgis.gis import GIS\n",
    "from arcgis.geoenrichment import *\n",
    "\n",
    "gis = GIS(profile='ge_profile')"
   ]
  },
  {
   "cell_type": "markdown",
   "metadata": {
    "slideshow": {
     "slide_type": "subslide"
    }
   },
   "source": [
    "## GeoEnrichment coverage"
   ]
  },
  {
   "cell_type": "code",
   "execution_count": 2,
   "metadata": {
    "slideshow": {
     "slide_type": "fragment"
    }
   },
   "outputs": [
    {
     "name": "stdout",
     "output_type": "stream",
     "text": [
      "Number of countries for which GeoEnrichment data is available: 137\n"
     ]
    },
    {
     "data": {
      "text/plain": [
       "[<Country name:Albania>,\n",
       " <Country name:Algeria>,\n",
       " <Country name:Andorra>,\n",
       " <Country name:Angola>,\n",
       " <Country name:Argentina>,\n",
       " <Country name:Armenia>,\n",
       " <Country name:Aruba>,\n",
       " <Country name:Australia>,\n",
       " <Country name:Austria>,\n",
       " <Country name:Azerbaijan>]"
      ]
     },
     "execution_count": 2,
     "metadata": {},
     "output_type": "execute_result"
    }
   ],
   "source": [
    "countries = get_countries()\n",
    "print(\"Number of countries for which GeoEnrichment data is available: \" + str(len(countries)))\n",
    "\n",
    "#print a few countries for a sample\n",
    "countries[0:10]"
   ]
  },
  {
   "cell_type": "markdown",
   "metadata": {
    "slideshow": {
     "slide_type": "subslide"
    }
   },
   "source": [
    "### Filtering countries by properties"
   ]
  },
  {
   "cell_type": "code",
   "execution_count": 4,
   "metadata": {
    "slideshow": {
     "slide_type": "fragment"
    }
   },
   "outputs": [
    {
     "data": {
      "text/plain": [
       "['Australia', 'French Polynesia', 'New Caledonia', 'New Zealand']"
      ]
     },
     "execution_count": 4,
     "metadata": {},
     "output_type": "execute_result"
    }
   ],
   "source": [
    "[c.properties.name for c in countries if c.properties.continent == 'Oceania']"
   ]
  },
  {
   "cell_type": "markdown",
   "metadata": {
    "slideshow": {
     "slide_type": "subslide"
    }
   },
   "source": [
    "## Discovering information for a country\n",
    "* Data collections, \n",
    "* Sub-geographies and \n",
    "* Available reports for a country"
   ]
  },
  {
   "cell_type": "code",
   "execution_count": 5,
   "metadata": {
    "slideshow": {
     "slide_type": "fragment"
    }
   },
   "outputs": [],
   "source": [
    "usa = Country.get('US')"
   ]
  },
  {
   "cell_type": "markdown",
   "metadata": {
    "slideshow": {
     "slide_type": "skip"
    }
   },
   "source": [
    "Commonly used properties for the country are accessible using `Country.properties`."
   ]
  },
  {
   "cell_type": "code",
   "execution_count": 6,
   "metadata": {
    "slideshow": {
     "slide_type": "fragment"
    }
   },
   "outputs": [
    {
     "data": {
      "text/plain": [
       "'United States'"
      ]
     },
     "execution_count": 6,
     "metadata": {},
     "output_type": "execute_result"
    }
   ],
   "source": [
    "usa.properties.name"
   ]
  },
  {
   "cell_type": "markdown",
   "metadata": {
    "slideshow": {
     "slide_type": "subslide"
    }
   },
   "source": [
    "### Data collections and analysis variables"
   ]
  },
  {
   "cell_type": "code",
   "execution_count": 7,
   "metadata": {
    "scrolled": true,
    "slideshow": {
     "slide_type": "fragment"
    }
   },
   "outputs": [
    {
     "data": {
      "text/html": [
       "<div>\n",
       "<style scoped>\n",
       "    .dataframe tbody tr th:only-of-type {\n",
       "        vertical-align: middle;\n",
       "    }\n",
       "\n",
       "    .dataframe tbody tr th {\n",
       "        vertical-align: top;\n",
       "    }\n",
       "\n",
       "    .dataframe thead th {\n",
       "        text-align: right;\n",
       "    }\n",
       "</style>\n",
       "<table border=\"1\" class=\"dataframe\">\n",
       "  <thead>\n",
       "    <tr style=\"text-align: right;\">\n",
       "      <th></th>\n",
       "      <th>analysisVariable</th>\n",
       "      <th>alias</th>\n",
       "      <th>fieldCategory</th>\n",
       "      <th>vintage</th>\n",
       "    </tr>\n",
       "    <tr>\n",
       "      <th>dataCollectionID</th>\n",
       "      <th></th>\n",
       "      <th></th>\n",
       "      <th></th>\n",
       "      <th></th>\n",
       "    </tr>\n",
       "  </thead>\n",
       "  <tbody>\n",
       "    <tr>\n",
       "      <th>1yearincrements</th>\n",
       "      <td>1yearincrements.AGE0_CY</td>\n",
       "      <td>2018 Population Age &lt;1</td>\n",
       "      <td>2018 Age: 1 Year Increments (Esri)</td>\n",
       "      <td>2018</td>\n",
       "    </tr>\n",
       "    <tr>\n",
       "      <th>1yearincrements</th>\n",
       "      <td>1yearincrements.AGE1_CY</td>\n",
       "      <td>2018 Population Age 1</td>\n",
       "      <td>2018 Age: 1 Year Increments (Esri)</td>\n",
       "      <td>2018</td>\n",
       "    </tr>\n",
       "    <tr>\n",
       "      <th>1yearincrements</th>\n",
       "      <td>1yearincrements.AGE2_CY</td>\n",
       "      <td>2018 Population Age 2</td>\n",
       "      <td>2018 Age: 1 Year Increments (Esri)</td>\n",
       "      <td>2018</td>\n",
       "    </tr>\n",
       "    <tr>\n",
       "      <th>1yearincrements</th>\n",
       "      <td>1yearincrements.AGE3_CY</td>\n",
       "      <td>2018 Population Age 3</td>\n",
       "      <td>2018 Age: 1 Year Increments (Esri)</td>\n",
       "      <td>2018</td>\n",
       "    </tr>\n",
       "    <tr>\n",
       "      <th>1yearincrements</th>\n",
       "      <td>1yearincrements.AGE4_CY</td>\n",
       "      <td>2018 Population Age 4</td>\n",
       "      <td>2018 Age: 1 Year Increments (Esri)</td>\n",
       "      <td>2018</td>\n",
       "    </tr>\n",
       "  </tbody>\n",
       "</table>\n",
       "</div>"
      ],
      "text/plain": [
       "                         analysisVariable                   alias  \\\n",
       "dataCollectionID                                                    \n",
       "1yearincrements   1yearincrements.AGE0_CY  2018 Population Age <1   \n",
       "1yearincrements   1yearincrements.AGE1_CY   2018 Population Age 1   \n",
       "1yearincrements   1yearincrements.AGE2_CY   2018 Population Age 2   \n",
       "1yearincrements   1yearincrements.AGE3_CY   2018 Population Age 3   \n",
       "1yearincrements   1yearincrements.AGE4_CY   2018 Population Age 4   \n",
       "\n",
       "                                       fieldCategory vintage  \n",
       "dataCollectionID                                              \n",
       "1yearincrements   2018 Age: 1 Year Increments (Esri)    2018  \n",
       "1yearincrements   2018 Age: 1 Year Increments (Esri)    2018  \n",
       "1yearincrements   2018 Age: 1 Year Increments (Esri)    2018  \n",
       "1yearincrements   2018 Age: 1 Year Increments (Esri)    2018  \n",
       "1yearincrements   2018 Age: 1 Year Increments (Esri)    2018  "
      ]
     },
     "execution_count": 7,
     "metadata": {},
     "output_type": "execute_result"
    }
   ],
   "source": [
    "df = usa.data_collections\n",
    "\n",
    "# print a few rows of the DataFrame\n",
    "df.head()"
   ]
  },
  {
   "cell_type": "code",
   "execution_count": 8,
   "metadata": {
    "slideshow": {
     "slide_type": "-"
    }
   },
   "outputs": [
    {
     "data": {
      "text/plain": [
       "(14701, 4)"
      ]
     },
     "execution_count": 8,
     "metadata": {},
     "output_type": "execute_result"
    }
   ],
   "source": [
    "# call the shape property to get the total number of rows and columns\n",
    "df.shape"
   ]
  },
  {
   "cell_type": "code",
   "execution_count": 9,
   "metadata": {
    "scrolled": true,
    "slideshow": {
     "slide_type": "subslide"
    }
   },
   "outputs": [
    {
     "data": {
      "text/plain": [
       "141"
      ]
     },
     "execution_count": 9,
     "metadata": {},
     "output_type": "execute_result"
    }
   ],
   "source": [
    "# get all the unique data collections available\n",
    "len(df.index.unique())"
   ]
  },
  {
   "cell_type": "markdown",
   "metadata": {
    "slideshow": {
     "slide_type": "fragment"
    }
   },
   "source": [
    "Query the `Age` data collection and get all the unique `analysisVariable`s under that collection"
   ]
  },
  {
   "cell_type": "code",
   "execution_count": 10,
   "metadata": {
    "scrolled": true,
    "slideshow": {
     "slide_type": "-"
    }
   },
   "outputs": [
    {
     "data": {
      "text/plain": [
       "array(['Age.MALE0', 'Age.MALE5', 'Age.MALE10', 'Age.MALE15', 'Age.MALE20',\n",
       "       'Age.MALE25', 'Age.MALE30', 'Age.MALE35', 'Age.MALE40',\n",
       "       'Age.MALE45', 'Age.MALE50', 'Age.MALE55', 'Age.MALE60',\n",
       "       'Age.MALE65', 'Age.MALE70', 'Age.MALE75', 'Age.MALE80',\n",
       "       'Age.MALE85', 'Age.FEM0', 'Age.FEM5', 'Age.FEM10', 'Age.FEM15',\n",
       "       'Age.FEM20', 'Age.FEM25', 'Age.FEM30', 'Age.FEM35', 'Age.FEM40',\n",
       "       'Age.FEM45', 'Age.FEM50', 'Age.FEM55', 'Age.FEM60', 'Age.FEM65',\n",
       "       'Age.FEM70', 'Age.FEM75', 'Age.FEM80', 'Age.FEM85'], dtype=object)"
      ]
     },
     "execution_count": 10,
     "metadata": {},
     "output_type": "execute_result"
    }
   ],
   "source": [
    "df.loc['Age']['analysisVariable'].unique()"
   ]
  },
  {
   "cell_type": "code",
   "execution_count": 11,
   "metadata": {
    "slideshow": {
     "slide_type": "fragment"
    }
   },
   "outputs": [
    {
     "data": {
      "text/html": [
       "<div>\n",
       "<style scoped>\n",
       "    .dataframe tbody tr th:only-of-type {\n",
       "        vertical-align: middle;\n",
       "    }\n",
       "\n",
       "    .dataframe tbody tr th {\n",
       "        vertical-align: top;\n",
       "    }\n",
       "\n",
       "    .dataframe thead th {\n",
       "        text-align: right;\n",
       "    }\n",
       "</style>\n",
       "<table border=\"1\" class=\"dataframe\">\n",
       "  <thead>\n",
       "    <tr style=\"text-align: right;\">\n",
       "      <th></th>\n",
       "      <th>analysisVariable</th>\n",
       "      <th>alias</th>\n",
       "      <th>fieldCategory</th>\n",
       "      <th>vintage</th>\n",
       "    </tr>\n",
       "    <tr>\n",
       "      <th>dataCollectionID</th>\n",
       "      <th></th>\n",
       "      <th></th>\n",
       "      <th></th>\n",
       "      <th></th>\n",
       "    </tr>\n",
       "  </thead>\n",
       "  <tbody>\n",
       "    <tr>\n",
       "      <th>Age</th>\n",
       "      <td>Age.MALE0</td>\n",
       "      <td>2018 Males Age 0-4</td>\n",
       "      <td>2018 Age: 5 Year Increments (Esri)</td>\n",
       "      <td>2018</td>\n",
       "    </tr>\n",
       "    <tr>\n",
       "      <th>Age</th>\n",
       "      <td>Age.MALE5</td>\n",
       "      <td>2018 Males Age 5-9</td>\n",
       "      <td>2018 Age: 5 Year Increments (Esri)</td>\n",
       "      <td>2018</td>\n",
       "    </tr>\n",
       "    <tr>\n",
       "      <th>Age</th>\n",
       "      <td>Age.MALE10</td>\n",
       "      <td>2018 Males Age 10-14</td>\n",
       "      <td>2018 Age: 5 Year Increments (Esri)</td>\n",
       "      <td>2018</td>\n",
       "    </tr>\n",
       "    <tr>\n",
       "      <th>Age</th>\n",
       "      <td>Age.MALE15</td>\n",
       "      <td>2018 Males Age 15-19</td>\n",
       "      <td>2018 Age: 5 Year Increments (Esri)</td>\n",
       "      <td>2018</td>\n",
       "    </tr>\n",
       "    <tr>\n",
       "      <th>Age</th>\n",
       "      <td>Age.MALE20</td>\n",
       "      <td>2018 Males Age 20-24</td>\n",
       "      <td>2018 Age: 5 Year Increments (Esri)</td>\n",
       "      <td>2018</td>\n",
       "    </tr>\n",
       "  </tbody>\n",
       "</table>\n",
       "</div>"
      ],
      "text/plain": [
       "                 analysisVariable                 alias  \\\n",
       "dataCollectionID                                          \n",
       "Age                     Age.MALE0    2018 Males Age 0-4   \n",
       "Age                     Age.MALE5    2018 Males Age 5-9   \n",
       "Age                    Age.MALE10  2018 Males Age 10-14   \n",
       "Age                    Age.MALE15  2018 Males Age 15-19   \n",
       "Age                    Age.MALE20  2018 Males Age 20-24   \n",
       "\n",
       "                                       fieldCategory vintage  \n",
       "dataCollectionID                                              \n",
       "Age               2018 Age: 5 Year Increments (Esri)    2018  \n",
       "Age               2018 Age: 5 Year Increments (Esri)    2018  \n",
       "Age               2018 Age: 5 Year Increments (Esri)    2018  \n",
       "Age               2018 Age: 5 Year Increments (Esri)    2018  \n",
       "Age               2018 Age: 5 Year Increments (Esri)    2018  "
      ]
     },
     "execution_count": 11,
     "metadata": {},
     "output_type": "execute_result"
    }
   ],
   "source": [
    "# view a sample of the `Age` data collection\n",
    "df.loc['Age'].head()"
   ]
  },
  {
   "cell_type": "markdown",
   "metadata": {
    "slideshow": {
     "slide_type": "subslide"
    }
   },
   "source": [
    "### Enriching an address"
   ]
  },
  {
   "cell_type": "code",
   "execution_count": 12,
   "metadata": {
    "slideshow": {
     "slide_type": "-"
    }
   },
   "outputs": [
    {
     "data": {
      "text/html": [
       "<div>\n",
       "<style scoped>\n",
       "    .dataframe tbody tr th:only-of-type {\n",
       "        vertical-align: middle;\n",
       "    }\n",
       "\n",
       "    .dataframe tbody tr th {\n",
       "        vertical-align: top;\n",
       "    }\n",
       "\n",
       "    .dataframe thead th {\n",
       "        text-align: right;\n",
       "    }\n",
       "</style>\n",
       "<table border=\"1\" class=\"dataframe\">\n",
       "  <thead>\n",
       "    <tr style=\"text-align: right;\">\n",
       "      <th></th>\n",
       "      <th>FEM0</th>\n",
       "      <th>FEM10</th>\n",
       "      <th>FEM15</th>\n",
       "      <th>FEM20</th>\n",
       "      <th>FEM25</th>\n",
       "      <th>FEM30</th>\n",
       "      <th>FEM35</th>\n",
       "      <th>FEM40</th>\n",
       "      <th>FEM45</th>\n",
       "      <th>FEM5</th>\n",
       "      <th>...</th>\n",
       "      <th>X</th>\n",
       "      <th>Y</th>\n",
       "      <th>aggregationMethod</th>\n",
       "      <th>apportionmentConfidence</th>\n",
       "      <th>areaType</th>\n",
       "      <th>bufferRadii</th>\n",
       "      <th>bufferUnits</th>\n",
       "      <th>bufferUnitsAlias</th>\n",
       "      <th>populationToPolygonSizeRating</th>\n",
       "      <th>sourceCountry</th>\n",
       "    </tr>\n",
       "  </thead>\n",
       "  <tbody>\n",
       "    <tr>\n",
       "      <th>0</th>\n",
       "      <td>445</td>\n",
       "      <td>380</td>\n",
       "      <td>421</td>\n",
       "      <td>635</td>\n",
       "      <td>622</td>\n",
       "      <td>570</td>\n",
       "      <td>533</td>\n",
       "      <td>420</td>\n",
       "      <td>389</td>\n",
       "      <td>395</td>\n",
       "      <td>...</td>\n",
       "      <td>-117.19567</td>\n",
       "      <td>34.056488</td>\n",
       "      <td>BlockApportionment:US.BlockGroups</td>\n",
       "      <td>2.576</td>\n",
       "      <td>RingBuffer</td>\n",
       "      <td>1</td>\n",
       "      <td>esriMiles</td>\n",
       "      <td>Miles</td>\n",
       "      <td>2.191</td>\n",
       "      <td>US</td>\n",
       "    </tr>\n",
       "  </tbody>\n",
       "</table>\n",
       "<p>1 rows × 50 columns</p>\n",
       "</div>"
      ],
      "text/plain": [
       "   FEM0  FEM10  FEM15  FEM20  FEM25  FEM30  FEM35  FEM40  FEM45  FEM5  \\\n",
       "0   445    380    421    635    622    570    533    420    389   395   \n",
       "\n",
       "       ...               X          Y                  aggregationMethod  \\\n",
       "0      ...      -117.19567  34.056488  BlockApportionment:US.BlockGroups   \n",
       "\n",
       "   apportionmentConfidence    areaType  bufferRadii  bufferUnits  \\\n",
       "0                    2.576  RingBuffer            1    esriMiles   \n",
       "\n",
       "   bufferUnitsAlias  populationToPolygonSizeRating sourceCountry  \n",
       "0             Miles                          2.191            US  \n",
       "\n",
       "[1 rows x 50 columns]"
      ]
     },
     "execution_count": 12,
     "metadata": {},
     "output_type": "execute_result"
    }
   ],
   "source": [
    "enrich(study_areas=[\"380 New York St Redlands CA 92373\"],  \n",
    "       data_collections=['Age'])"
   ]
  },
  {
   "cell_type": "markdown",
   "metadata": {
    "slideshow": {
     "slide_type": "subslide"
    }
   },
   "source": [
    "# Reports"
   ]
  },
  {
   "cell_type": "code",
   "execution_count": 13,
   "metadata": {
    "scrolled": true,
    "slideshow": {
     "slide_type": "fragment"
    }
   },
   "outputs": [
    {
     "data": {
      "text/html": [
       "<div>\n",
       "<style scoped>\n",
       "    .dataframe tbody tr th:only-of-type {\n",
       "        vertical-align: middle;\n",
       "    }\n",
       "\n",
       "    .dataframe tbody tr th {\n",
       "        vertical-align: top;\n",
       "    }\n",
       "\n",
       "    .dataframe thead th {\n",
       "        text-align: right;\n",
       "    }\n",
       "</style>\n",
       "<table border=\"1\" class=\"dataframe\">\n",
       "  <thead>\n",
       "    <tr style=\"text-align: right;\">\n",
       "      <th></th>\n",
       "      <th>id</th>\n",
       "      <th>title</th>\n",
       "      <th>categories</th>\n",
       "      <th>formats</th>\n",
       "    </tr>\n",
       "  </thead>\n",
       "  <tbody>\n",
       "    <tr>\n",
       "      <th>0</th>\n",
       "      <td>census2010_profile</td>\n",
       "      <td>2010 Census Profile</td>\n",
       "      <td>[Demographics]</td>\n",
       "      <td>[pdf, xlsx]</td>\n",
       "    </tr>\n",
       "    <tr>\n",
       "      <th>1</th>\n",
       "      <td>acs_housing</td>\n",
       "      <td>ACS Housing Summary</td>\n",
       "      <td>[Demographics]</td>\n",
       "      <td>[pdf, xlsx]</td>\n",
       "    </tr>\n",
       "    <tr>\n",
       "      <th>2</th>\n",
       "      <td>acs_population</td>\n",
       "      <td>ACS Population Summary</td>\n",
       "      <td>[Demographics]</td>\n",
       "      <td>[pdf, xlsx]</td>\n",
       "    </tr>\n",
       "    <tr>\n",
       "      <th>3</th>\n",
       "      <td>55plus</td>\n",
       "      <td>Age 50+ Profile</td>\n",
       "      <td>[Demographics]</td>\n",
       "      <td>[pdf, xlsx]</td>\n",
       "    </tr>\n",
       "    <tr>\n",
       "      <th>4</th>\n",
       "      <td>agesexrace</td>\n",
       "      <td>Age by Sex by Race Profile</td>\n",
       "      <td>[Demographics]</td>\n",
       "      <td>[pdf, xlsx]</td>\n",
       "    </tr>\n",
       "    <tr>\n",
       "      <th>5</th>\n",
       "      <td>agesex</td>\n",
       "      <td>Age by Sex Profile</td>\n",
       "      <td>[Demographics]</td>\n",
       "      <td>[pdf, xlsx]</td>\n",
       "    </tr>\n",
       "    <tr>\n",
       "      <th>6</th>\n",
       "      <td>cex_auto</td>\n",
       "      <td>Automotive Aftermarket Expenditures</td>\n",
       "      <td>[Consumer Spending]</td>\n",
       "      <td>[pdf, xlsx]</td>\n",
       "    </tr>\n",
       "    <tr>\n",
       "      <th>7</th>\n",
       "      <td>business_loc</td>\n",
       "      <td>Business Locator</td>\n",
       "      <td>[Business]</td>\n",
       "      <td>[pdf, xlsx]</td>\n",
       "    </tr>\n",
       "    <tr>\n",
       "      <th>8</th>\n",
       "      <td>business_summary</td>\n",
       "      <td>Business Summary</td>\n",
       "      <td>[Business]</td>\n",
       "      <td>[pdf, xlsx]</td>\n",
       "    </tr>\n",
       "    <tr>\n",
       "      <th>9</th>\n",
       "      <td>community_profile</td>\n",
       "      <td>Community Profile</td>\n",
       "      <td>[Demographics]</td>\n",
       "      <td>[pdf, xlsx]</td>\n",
       "    </tr>\n",
       "  </tbody>\n",
       "</table>\n",
       "</div>"
      ],
      "text/plain": [
       "                   id                                title  \\\n",
       "0  census2010_profile                  2010 Census Profile   \n",
       "1         acs_housing                  ACS Housing Summary   \n",
       "2      acs_population               ACS Population Summary   \n",
       "3              55plus                      Age 50+ Profile   \n",
       "4          agesexrace           Age by Sex by Race Profile   \n",
       "5              agesex                   Age by Sex Profile   \n",
       "6            cex_auto  Automotive Aftermarket Expenditures   \n",
       "7        business_loc                     Business Locator   \n",
       "8    business_summary                     Business Summary   \n",
       "9   community_profile                    Community Profile   \n",
       "\n",
       "            categories      formats  \n",
       "0       [Demographics]  [pdf, xlsx]  \n",
       "1       [Demographics]  [pdf, xlsx]  \n",
       "2       [Demographics]  [pdf, xlsx]  \n",
       "3       [Demographics]  [pdf, xlsx]  \n",
       "4       [Demographics]  [pdf, xlsx]  \n",
       "5       [Demographics]  [pdf, xlsx]  \n",
       "6  [Consumer Spending]  [pdf, xlsx]  \n",
       "7           [Business]  [pdf, xlsx]  \n",
       "8           [Business]  [pdf, xlsx]  \n",
       "9       [Demographics]  [pdf, xlsx]  "
      ]
     },
     "execution_count": 13,
     "metadata": {},
     "output_type": "execute_result"
    }
   ],
   "source": [
    "# print a sample of the reports available for USA\n",
    "usa.reports.head(10)"
   ]
  },
  {
   "cell_type": "code",
   "execution_count": 15,
   "metadata": {
    "slideshow": {
     "slide_type": "-"
    }
   },
   "outputs": [
    {
     "data": {
      "text/plain": [
       "(49, 4)"
      ]
     },
     "execution_count": 15,
     "metadata": {},
     "output_type": "execute_result"
    }
   ],
   "source": [
    "# total number of reports available\n",
    "usa.reports.shape"
   ]
  },
  {
   "cell_type": "markdown",
   "metadata": {
    "slideshow": {
     "slide_type": "subslide"
    }
   },
   "source": [
    "### Creating Reports"
   ]
  },
  {
   "cell_type": "code",
   "execution_count": 17,
   "metadata": {
    "slideshow": {
     "slide_type": "-"
    }
   },
   "outputs": [
    {
     "name": "stdout",
     "output_type": "stream",
     "text": [
      "C:\\Users\\andr5624\\AppData\\Local\\Temp\\esri_tapestry_profile.pdf\n"
     ]
    }
   ],
   "source": [
    "import tempfile\n",
    "report = create_report(study_areas=[\"380 New York Street, Redlands, CA\"],\n",
    "                     report=\"tapestry_profileNEW\",\n",
    "                     export_format=\"PDF\", \n",
    "                     out_folder=tempfile.gettempdir(), out_name=\"esri_tapestry_profile.pdf\")\n",
    "print(report)"
   ]
  },
  {
   "cell_type": "markdown",
   "metadata": {
    "slideshow": {
     "slide_type": "subslide"
    }
   },
   "source": [
    "## Finding named statistical areas\n",
    "\n",
    "Each country has several named statistical areas in a hierarchy of geography levels (such as states, counties, zip codes, etc)."
   ]
  },
  {
   "cell_type": "code",
   "execution_count": 18,
   "metadata": {
    "slideshow": {
     "slide_type": "skip"
    }
   },
   "outputs": [],
   "source": [
    "%config IPCompleter.greedy=True"
   ]
  },
  {
   "cell_type": "code",
   "execution_count": 19,
   "metadata": {
    "slideshow": {
     "slide_type": "fragment"
    }
   },
   "outputs": [
    {
     "data": {
      "text/plain": [
       "<NamedArea name:\"San Bernardino County\" area_id=\"06071\", level=\"US.Counties\", country=\"United States\">"
      ]
     },
     "execution_count": 19,
     "metadata": {},
     "output_type": "execute_result"
    }
   ],
   "source": [
    "usa.subgeographies.states['California'].counties['San_Bernardino_County']"
   ]
  },
  {
   "cell_type": "code",
   "execution_count": 20,
   "metadata": {
    "slideshow": {
     "slide_type": "fragment"
    }
   },
   "outputs": [
    {
     "data": {
      "text/plain": [
       "<NamedArea name:\"060710001.03\" area_id=\"06071000103\", level=\"US.Tracts\", country=\"United States\">"
      ]
     },
     "execution_count": 20,
     "metadata": {},
     "output_type": "execute_result"
    }
   ],
   "source": [
    "usa.subgeographies.states['California'].counties['San_Bernardino_County'].tracts['060710001.03']"
   ]
  },
  {
   "cell_type": "code",
   "execution_count": 21,
   "metadata": {
    "slideshow": {
     "slide_type": "fragment"
    }
   },
   "outputs": [
    {
     "data": {
      "text/plain": [
       "<NamedArea name:\"Redlands\" area_id=\"92373\", level=\"US.ZIP5\", country=\"United States\">"
      ]
     },
     "execution_count": 21,
     "metadata": {},
     "output_type": "execute_result"
    }
   ],
   "source": [
    "usa.subgeographies.states['California'].zip5['92373']"
   ]
  },
  {
   "cell_type": "markdown",
   "metadata": {
    "slideshow": {
     "slide_type": "skip"
    }
   },
   "source": [
    "The named areas can also be drawn on a map, as they include a `geometry` property."
   ]
  },
  {
   "cell_type": "code",
   "execution_count": 22,
   "metadata": {
    "slideshow": {
     "slide_type": "subslide"
    }
   },
   "outputs": [
    {
     "data": {
      "application/vnd.jupyter.widget-view+json": {
       "model_id": "71d4e694e6074ec5925fb3e933686626",
       "version_major": 2,
       "version_minor": 0
      },
      "text/plain": [
       "MapView(layout=Layout(height='400px', width='100%'), zoom=11.0)"
      ]
     },
     "metadata": {},
     "output_type": "display_data"
    },
    {
     "data": {
      "text/html": [
       "<div class=\"map-static-img-preview-575995b9-0812-4a83-837d-779009f1189d\"><img src=\"\"></img></div>"
      ],
      "text/plain": [
       "<IPython.core.display.HTML object>"
      ]
     },
     "metadata": {},
     "output_type": "display_data"
    }
   ],
   "source": [
    "m = gis.map('Redlands, CA', zoomlevel=11)\n",
    "m"
   ]
  },
  {
   "cell_type": "code",
   "execution_count": 24,
   "metadata": {
    "slideshow": {
     "slide_type": "-"
    }
   },
   "outputs": [],
   "source": [
    "m.draw(usa.subgeographies.states['California'].zip5['92373'].geometry)"
   ]
  },
  {
   "cell_type": "markdown",
   "metadata": {
    "slideshow": {
     "slide_type": "subslide"
    }
   },
   "source": [
    "# Different geography levels for different country"
   ]
  },
  {
   "cell_type": "code",
   "execution_count": 25,
   "metadata": {
    "slideshow": {
     "slide_type": "-"
    }
   },
   "outputs": [],
   "source": [
    "india = Country.get('India')"
   ]
  },
  {
   "cell_type": "code",
   "execution_count": 26,
   "metadata": {
    "slideshow": {
     "slide_type": "fragment"
    }
   },
   "outputs": [
    {
     "data": {
      "text/plain": [
       "<NamedArea name:\"Baraut\" area_id=\"0913900735\", level=\"IN.Subdistricts\", country=\"India\">"
      ]
     },
     "execution_count": 26,
     "metadata": {},
     "output_type": "execute_result"
    }
   ],
   "source": [
    "india.subgeographies.states['Uttar_Pradesh'].districts['Baghpat'].subdistricts['Baraut']"
   ]
  },
  {
   "cell_type": "markdown",
   "metadata": {
    "slideshow": {
     "slide_type": "subslide"
    }
   },
   "source": [
    "### Searching for named areas within a country"
   ]
  },
  {
   "cell_type": "code",
   "execution_count": 27,
   "metadata": {
    "scrolled": true,
    "slideshow": {
     "slide_type": "fragment"
    }
   },
   "outputs": [
    {
     "name": "stdout",
     "output_type": "stream",
     "text": [
      "number of riversides in the US: 83\n"
     ]
    },
    {
     "data": {
      "text/plain": [
       "[<NamedArea name:\"Riverside\" area_id=\"147435\", level=\"Cities\", country=\"United States\">,\n",
       " <NamedArea name:\"Riverside\" area_id=\"147436\", level=\"Cities\", country=\"United States\">,\n",
       " <NamedArea name:\"Riverside\" area_id=\"147437\", level=\"Cities\", country=\"United States\">,\n",
       " <NamedArea name:\"Riverside\" area_id=\"147438\", level=\"Cities\", country=\"United States\">,\n",
       " <NamedArea name:\"Riverside\" area_id=\"147439\", level=\"Cities\", country=\"United States\">,\n",
       " <NamedArea name:\"Riverside\" area_id=\"147440\", level=\"Cities\", country=\"United States\">,\n",
       " <NamedArea name:\"Riverside\" area_id=\"147441\", level=\"Cities\", country=\"United States\">,\n",
       " <NamedArea name:\"Riverside\" area_id=\"147442\", level=\"Cities\", country=\"United States\">,\n",
       " <NamedArea name:\"Riverside\" area_id=\"147443\", level=\"Cities\", country=\"United States\">,\n",
       " <NamedArea name:\"Riverside\" area_id=\"147444\", level=\"Cities\", country=\"United States\">]"
      ]
     },
     "execution_count": 27,
     "metadata": {},
     "output_type": "execute_result"
    }
   ],
   "source": [
    "riversides_in_usa = usa.search('Riverside')\n",
    "print(\"number of riversides in the US: \" + str(len(riversides_in_usa)))\n",
    "\n",
    "# list a few of them\n",
    "riversides_in_usa[:10]"
   ]
  },
  {
   "cell_type": "markdown",
   "metadata": {},
   "source": [
    "For instance, you can make a map of all the riversides in the US"
   ]
  },
  {
   "cell_type": "code",
   "execution_count": 28,
   "metadata": {
    "slideshow": {
     "slide_type": "subslide"
    }
   },
   "outputs": [
    {
     "data": {
      "application/vnd.jupyter.widget-view+json": {
       "model_id": "1cd8df0b1ef148f8901be15c699b62e1",
       "version_major": 2,
       "version_minor": 0
      },
      "text/plain": [
       "MapView(layout=Layout(height='400px', width='100%'), zoom=4.0)"
      ]
     },
     "metadata": {},
     "output_type": "display_data"
    },
    {
     "data": {
      "text/html": [
       "<div class=\"map-static-img-preview-c2e2cca9-a646-4145-b516-7f06d17a3dcc\"><img src=\"\"></img></div>"
      ],
      "text/plain": [
       "<IPython.core.display.HTML object>"
      ]
     },
     "metadata": {},
     "output_type": "display_data"
    }
   ],
   "source": [
    "usamap = gis.map('United States', zoomlevel=4)\n",
    "usamap"
   ]
  },
  {
   "cell_type": "code",
   "execution_count": 29,
   "metadata": {
    "slideshow": {
     "slide_type": "-"
    }
   },
   "outputs": [],
   "source": [
    "for riverside in riversides_in_usa:\n",
    "    usamap.draw(riverside.geometry)"
   ]
  },
  {
   "cell_type": "markdown",
   "metadata": {
    "slideshow": {
     "slide_type": "subslide"
    }
   },
   "source": [
    "#### Filtering named areas by geography level"
   ]
  },
  {
   "cell_type": "code",
   "execution_count": 30,
   "metadata": {
    "slideshow": {
     "slide_type": "fragment"
    }
   },
   "outputs": [
    {
     "data": {
      "text/plain": [
       "['US.WholeUSA',\n",
       " 'US.States',\n",
       " 'US.DMA',\n",
       " 'US.CD',\n",
       " 'US.CBSA',\n",
       " 'US.Counties',\n",
       " 'US.CSD',\n",
       " 'US.ZIP5',\n",
       " 'US.Places',\n",
       " 'US.Tracts',\n",
       " 'US.BlockGroups']"
      ]
     },
     "execution_count": 30,
     "metadata": {},
     "output_type": "execute_result"
    }
   ],
   "source": [
    "[level['id'] for level in usa.levels]"
   ]
  },
  {
   "cell_type": "code",
   "execution_count": 31,
   "metadata": {
    "slideshow": {
     "slide_type": "fragment"
    }
   },
   "outputs": [
    {
     "data": {
      "text/plain": [
       "[<NamedArea name:\"Riverside County\" area_id=\"06065\", level=\"US.Counties\", country=\"United States\">]"
      ]
     },
     "execution_count": 31,
     "metadata": {},
     "output_type": "execute_result"
    }
   ],
   "source": [
    "usa.search(query='Riverside', layers=['US.Counties'])"
   ]
  },
  {
   "cell_type": "markdown",
   "metadata": {
    "heading_collapsed": true,
    "slideshow": {
     "slide_type": "subslide"
    }
   },
   "source": [
    "## Finding businesses"
   ]
  },
  {
   "cell_type": "code",
   "execution_count": 30,
   "metadata": {
    "hidden": true,
    "slideshow": {
     "slide_type": "fragment"
    }
   },
   "outputs": [
    {
     "name": "stderr",
     "output_type": "stream",
     "text": [
      "C:\\Program Files\\ArcGIS\\Pro\\bin\\Python\\envs\\arcgispro-dev\\lib\\site-packages\\IPython\\core\\interactiveshell.py:2961: UnsupportedWarning: find_businesses is unsupported as of 1.5.0. Method will be removed due to changes in the GeoEnrichment API\n",
      "  exec(code_obj, self.user_global_ns, self.user_ns)\n"
     ]
    },
    {
     "data": {
      "text/html": [
       "<div>\n",
       "<style scoped>\n",
       "    .dataframe tbody tr th:only-of-type {\n",
       "        vertical-align: middle;\n",
       "    }\n",
       "\n",
       "    .dataframe tbody tr th {\n",
       "        vertical-align: top;\n",
       "    }\n",
       "\n",
       "    .dataframe thead th {\n",
       "        text-align: right;\n",
       "    }\n",
       "</style>\n",
       "<table border=\"1\" class=\"dataframe\">\n",
       "  <thead>\n",
       "    <tr style=\"text-align: right;\">\n",
       "      <th></th>\n",
       "      <th>ADDR</th>\n",
       "      <th>CITY</th>\n",
       "      <th>CONAME</th>\n",
       "      <th>EMPNUM</th>\n",
       "      <th>FRNCOD</th>\n",
       "      <th>HDBRCH</th>\n",
       "      <th>ISCODE</th>\n",
       "      <th>LOCNUM</th>\n",
       "      <th>LOC_NAME</th>\n",
       "      <th>NAICS</th>\n",
       "      <th>...</th>\n",
       "      <th>SIC</th>\n",
       "      <th>SOURCE</th>\n",
       "      <th>SQFTCODE</th>\n",
       "      <th>STATE</th>\n",
       "      <th>STATE_NAME</th>\n",
       "      <th>STATUS</th>\n",
       "      <th>STREET</th>\n",
       "      <th>ULTNUM</th>\n",
       "      <th>ZIP</th>\n",
       "      <th>ZIP4</th>\n",
       "    </tr>\n",
       "  </thead>\n",
       "  <tbody>\n",
       "    <tr>\n",
       "      <th>0</th>\n",
       "      <td>972 BAXTER AVE</td>\n",
       "      <td>LOUISVILLE</td>\n",
       "      <td>STARBUCKS</td>\n",
       "      <td>13</td>\n",
       "      <td>4</td>\n",
       "      <td>2</td>\n",
       "      <td></td>\n",
       "      <td>210648473</td>\n",
       "      <td>PointAddress</td>\n",
       "      <td>72251505</td>\n",
       "      <td>...</td>\n",
       "      <td>581228</td>\n",
       "      <td>INFOGROUP</td>\n",
       "      <td>2</td>\n",
       "      <td>KY</td>\n",
       "      <td>Kentucky</td>\n",
       "      <td>M</td>\n",
       "      <td>BAXTER AVE</td>\n",
       "      <td>303651459</td>\n",
       "      <td>40204</td>\n",
       "      <td>2064</td>\n",
       "    </tr>\n",
       "    <tr>\n",
       "      <th>1</th>\n",
       "      <td>5963 CORSON AVE S # A184</td>\n",
       "      <td>SEATTLE</td>\n",
       "      <td>STARBUCKS</td>\n",
       "      <td>20</td>\n",
       "      <td>4</td>\n",
       "      <td>2</td>\n",
       "      <td></td>\n",
       "      <td>243104437</td>\n",
       "      <td>StreetAddress</td>\n",
       "      <td>72251505</td>\n",
       "      <td>...</td>\n",
       "      <td>581228</td>\n",
       "      <td>INFOGROUP</td>\n",
       "      <td>2</td>\n",
       "      <td>WA</td>\n",
       "      <td>Washington</td>\n",
       "      <td>M</td>\n",
       "      <td>CORSON AVE S</td>\n",
       "      <td>303651459</td>\n",
       "      <td>98108</td>\n",
       "      <td>2619</td>\n",
       "    </tr>\n",
       "    <tr>\n",
       "      <th>2</th>\n",
       "      <td>326 PENN ST</td>\n",
       "      <td>CAMDEN</td>\n",
       "      <td>STARBUCKS</td>\n",
       "      <td>12</td>\n",
       "      <td>4</td>\n",
       "      <td>2</td>\n",
       "      <td></td>\n",
       "      <td>683534911</td>\n",
       "      <td>StreetAddress</td>\n",
       "      <td>72251505</td>\n",
       "      <td>...</td>\n",
       "      <td>581228</td>\n",
       "      <td>INFOGROUP</td>\n",
       "      <td>2</td>\n",
       "      <td>NJ</td>\n",
       "      <td>New Jersey</td>\n",
       "      <td>M</td>\n",
       "      <td>PENN ST</td>\n",
       "      <td>303651459</td>\n",
       "      <td>08102</td>\n",
       "      <td>1410</td>\n",
       "    </tr>\n",
       "    <tr>\n",
       "      <th>3</th>\n",
       "      <td>4502 12TH AVE S</td>\n",
       "      <td>SEATTLE</td>\n",
       "      <td>STARBUCKS</td>\n",
       "      <td>15</td>\n",
       "      <td>4</td>\n",
       "      <td>2</td>\n",
       "      <td></td>\n",
       "      <td>714927777</td>\n",
       "      <td>PointAddress</td>\n",
       "      <td>72251505</td>\n",
       "      <td>...</td>\n",
       "      <td>581228</td>\n",
       "      <td>INFOGROUP</td>\n",
       "      <td>2</td>\n",
       "      <td>WA</td>\n",
       "      <td>Washington</td>\n",
       "      <td>M</td>\n",
       "      <td>12TH AVE S</td>\n",
       "      <td>303651459</td>\n",
       "      <td>98108</td>\n",
       "      <td>1805</td>\n",
       "    </tr>\n",
       "  </tbody>\n",
       "</table>\n",
       "<p>4 rows × 24 columns</p>\n",
       "</div>"
      ],
      "text/plain": [
       "                       ADDR        CITY     CONAME  EMPNUM FRNCOD HDBRCH  \\\n",
       "0            972 BAXTER AVE  LOUISVILLE  STARBUCKS      13      4      2   \n",
       "1  5963 CORSON AVE S # A184     SEATTLE  STARBUCKS      20      4      2   \n",
       "2               326 PENN ST      CAMDEN  STARBUCKS      12      4      2   \n",
       "3           4502 12TH AVE S     SEATTLE  STARBUCKS      15      4      2   \n",
       "\n",
       "  ISCODE     LOCNUM       LOC_NAME     NAICS  ...      SIC     SOURCE  \\\n",
       "0         210648473   PointAddress  72251505  ...   581228  INFOGROUP   \n",
       "1         243104437  StreetAddress  72251505  ...   581228  INFOGROUP   \n",
       "2         683534911  StreetAddress  72251505  ...   581228  INFOGROUP   \n",
       "3         714927777   PointAddress  72251505  ...   581228  INFOGROUP   \n",
       "\n",
       "   SQFTCODE STATE  STATE_NAME STATUS        STREET     ULTNUM    ZIP  ZIP4  \n",
       "0         2    KY    Kentucky      M    BAXTER AVE  303651459  40204  2064  \n",
       "1         2    WA  Washington      M  CORSON AVE S  303651459  98108  2619  \n",
       "2         2    NJ  New Jersey      M       PENN ST  303651459  08102  1410  \n",
       "3         2    WA  Washington      M    12TH AVE S  303651459  98108  1805  \n",
       "\n",
       "[4 rows x 24 columns]"
      ]
     },
     "execution_count": 30,
     "metadata": {},
     "output_type": "execute_result"
    }
   ],
   "source": [
    "businesses = find_businesses(search_string=\"Starbucks\",\n",
    "                          return_geometry=True,\n",
    "                          spatial_filter={\"Locations\":[\"NY,TONAWANDA,14150\",\n",
    "                                                       \"NJ, CAMDEN, 08102\",\n",
    "                                                       \"KY,LOUISVILLE,40204\",\n",
    "                                                       \"WA,SEATTLE,98108\"]})\n",
    "# print a sample\n",
    "businesses"
   ]
  },
  {
   "cell_type": "markdown",
   "metadata": {
    "slideshow": {
     "slide_type": "subslide"
    }
   },
   "source": [
    "## Study Areas"
   ]
  },
  {
   "cell_type": "markdown",
   "metadata": {
    "slideshow": {
     "slide_type": "fragment"
    }
   },
   "source": [
    "### Accepted forms of study areas\n",
    "\n",
    "- **Street address locations** - Locations can be passed as strings of input street addresses, points of interest or place names.\n",
    "    + **Example:** `\"380 New York St, Redlands, CA\"`\n",
    "\n",
    "- **Multiple field input addresses** - Locations described as multiple field input addresses, using dictionaries.\n",
    "    + **Example:** \n",
    "        {\"Address\" : \"380 New York Street\",\n",
    "        \"City\" : \"Redlands\",\n",
    "        \"Region\" : \"CA\",\n",
    "        \"Postal\" : 92373}    \n",
    " \n",
    "- **Point and line geometries** - Point and line locations, using `arcgis.geometry` instances.\n",
    "    + **Example Point Location: ** \n",
    "    \n",
    "    `arcgis.geometry.Geometry({\"x\":-122.435,\"y\":37.785})`\n",
    "    \n",
    "    + ** Example Point location obtained using find_businesses() above: **\n",
    "     \n",
    "     `arcgis.geometry.Geometry(businesses.iloc[0]['SHAPE'])`\n",
    "\n",
    "- **Buffered study areas** - `BufferStudyArea` instances to change the ring buffer size or create drive-time service areas around points specified using one of the above methods. BufferStudyArea allows you to buffer point and street address study areas. They can be created using the following parameters:\n",
    "        * area: the point geometry or street address (string) study area to be buffered\n",
    "        * radii: list of distances by which to buffer the study area, eg. [1, 2, 3]\n",
    "        * units: distance unit, eg. Miles, Kilometers, Minutes (when using drive times/travel_mode)\n",
    "        * overlap: boolean, uses overlapping rings/network service areas when True, or non-overlapping disks when False\n",
    "        * travel_mode: None or string, one of the supported travel modes when using network service areas\n",
    "    + **Example Buffered Location: ** \n",
    "    \n",
    "    `pt = arcgis.geometry.Geometry({\"x\":-122.435,\"y\":37.785})\n",
    "    buffered_area = BufferStudyArea(area=pt, radii=[1,2,3], units=\"Miles\", overlap=False)` \n",
    "\n",
    "- **Network service areas** - `BufferStudyArea` also allows you to define drive time service areas around points as well as other advanced service areas such as walking and trucking.\n",
    "    + **Example: **\n",
    "    \n",
    "    `pt = arcgis.geometry.Geometry({\"x\":-122.435,\"y\":37.785})\n",
    "    buffered_area = BufferStudyArea(area=pt, radii=[1,2,3], units=\"Minutes\", travel_mode=\"Driving\")` \n",
    "\n",
    "- **Named statistical areas** - \n",
    "    + **Example:** \n",
    "    \n",
    "    `usa.subgeographies.states['California'].zip5['92373']`\n",
    "   \n",
    "- **Polygon geometries** - Locations can given as polygon geometries.\n",
    "    + **Example Polygon geometry: ** \n",
    "    \n",
    "    `arcgis.geometry.Geometry({\"rings\":[[[-117.185412,34.063170],[-122.81,37.81],[-117.200570,34.057196],[-117.185412,34.063170]]],\"spatialReference\":{\"wkid\":4326}})`\n"
   ]
  },
  {
   "cell_type": "markdown",
   "metadata": {
    "slideshow": {
     "slide_type": "subslide"
    }
   },
   "source": [
    "### Example: Enriching a named statistical area\n",
    "Enriching zip code 92373 in California using the 'Age' data collection:"
   ]
  },
  {
   "cell_type": "code",
   "execution_count": 32,
   "metadata": {
    "slideshow": {
     "slide_type": "-"
    }
   },
   "outputs": [],
   "source": [
    "redlands = usa.subgeographies.states['California'].zip5['92373']"
   ]
  },
  {
   "cell_type": "code",
   "execution_count": 33,
   "metadata": {
    "slideshow": {
     "slide_type": "fragment"
    }
   },
   "outputs": [
    {
     "data": {
      "text/html": [
       "<div>\n",
       "<style scoped>\n",
       "    .dataframe tbody tr th:only-of-type {\n",
       "        vertical-align: middle;\n",
       "    }\n",
       "\n",
       "    .dataframe tbody tr th {\n",
       "        vertical-align: top;\n",
       "    }\n",
       "\n",
       "    .dataframe thead th {\n",
       "        text-align: right;\n",
       "    }\n",
       "</style>\n",
       "<table border=\"1\" class=\"dataframe\">\n",
       "  <thead>\n",
       "    <tr style=\"text-align: right;\">\n",
       "      <th></th>\n",
       "      <th>FEM0</th>\n",
       "      <th>FEM10</th>\n",
       "      <th>FEM15</th>\n",
       "      <th>FEM20</th>\n",
       "      <th>FEM25</th>\n",
       "      <th>FEM30</th>\n",
       "      <th>FEM35</th>\n",
       "      <th>FEM40</th>\n",
       "      <th>FEM45</th>\n",
       "      <th>FEM5</th>\n",
       "      <th>...</th>\n",
       "      <th>MALE85</th>\n",
       "      <th>OBJECTID</th>\n",
       "      <th>SHAPE</th>\n",
       "      <th>StdGeographyID</th>\n",
       "      <th>StdGeographyLevel</th>\n",
       "      <th>StdGeographyName</th>\n",
       "      <th>aggregationMethod</th>\n",
       "      <th>apportionmentConfidence</th>\n",
       "      <th>populationToPolygonSizeRating</th>\n",
       "      <th>sourceCountry</th>\n",
       "    </tr>\n",
       "  </thead>\n",
       "  <tbody>\n",
       "    <tr>\n",
       "      <th>0</th>\n",
       "      <td>856</td>\n",
       "      <td>910</td>\n",
       "      <td>937</td>\n",
       "      <td>1156</td>\n",
       "      <td>1135</td>\n",
       "      <td>1173</td>\n",
       "      <td>1159</td>\n",
       "      <td>1010</td>\n",
       "      <td>1081</td>\n",
       "      <td>875</td>\n",
       "      <td>...</td>\n",
       "      <td>366</td>\n",
       "      <td>1</td>\n",
       "      <td>{\"rings\": [[[-117.21855999994393, 34.065730000...</td>\n",
       "      <td>92373</td>\n",
       "      <td>US.ZIP5</td>\n",
       "      <td>Redlands</td>\n",
       "      <td>Query:US.ZIP5</td>\n",
       "      <td>2.576</td>\n",
       "      <td>2.191</td>\n",
       "      <td>US</td>\n",
       "    </tr>\n",
       "  </tbody>\n",
       "</table>\n",
       "<p>1 rows × 47 columns</p>\n",
       "</div>"
      ],
      "text/plain": [
       "   FEM0  FEM10  FEM15  FEM20  FEM25  FEM30  FEM35  FEM40  FEM45  FEM5  \\\n",
       "0   856    910    937   1156   1135   1173   1159   1010   1081   875   \n",
       "\n",
       "       ...       MALE85  OBJECTID  \\\n",
       "0      ...          366         1   \n",
       "\n",
       "                                               SHAPE  StdGeographyID  \\\n",
       "0  {\"rings\": [[[-117.21855999994393, 34.065730000...           92373   \n",
       "\n",
       "   StdGeographyLevel  StdGeographyName  aggregationMethod  \\\n",
       "0            US.ZIP5          Redlands      Query:US.ZIP5   \n",
       "\n",
       "   apportionmentConfidence  populationToPolygonSizeRating sourceCountry  \n",
       "0                    2.576                          2.191            US  \n",
       "\n",
       "[1 rows x 47 columns]"
      ]
     },
     "execution_count": 33,
     "metadata": {},
     "output_type": "execute_result"
    }
   ],
   "source": [
    "enrich(study_areas=[redlands], data_collections=['Age'] )"
   ]
  },
  {
   "cell_type": "markdown",
   "metadata": {
    "slideshow": {
     "slide_type": "subslide"
    }
   },
   "source": [
    "### Example: Enrich all counties in a state"
   ]
  },
  {
   "cell_type": "code",
   "execution_count": 34,
   "metadata": {
    "slideshow": {
     "slide_type": "-"
    }
   },
   "outputs": [],
   "source": [
    "ca_counties = usa.subgeographies.states['California'].counties"
   ]
  },
  {
   "cell_type": "code",
   "execution_count": 35,
   "metadata": {
    "slideshow": {
     "slide_type": "fragment"
    }
   },
   "outputs": [
    {
     "data": {
      "text/html": [
       "<div>\n",
       "<style scoped>\n",
       "    .dataframe tbody tr th:only-of-type {\n",
       "        vertical-align: middle;\n",
       "    }\n",
       "\n",
       "    .dataframe tbody tr th {\n",
       "        vertical-align: top;\n",
       "    }\n",
       "\n",
       "    .dataframe thead th {\n",
       "        text-align: right;\n",
       "    }\n",
       "</style>\n",
       "<table border=\"1\" class=\"dataframe\">\n",
       "  <thead>\n",
       "    <tr style=\"text-align: right;\">\n",
       "      <th></th>\n",
       "      <th>FEM0</th>\n",
       "      <th>FEM10</th>\n",
       "      <th>FEM15</th>\n",
       "      <th>FEM20</th>\n",
       "      <th>FEM25</th>\n",
       "      <th>FEM30</th>\n",
       "      <th>FEM35</th>\n",
       "      <th>FEM40</th>\n",
       "      <th>FEM45</th>\n",
       "      <th>FEM5</th>\n",
       "      <th>...</th>\n",
       "      <th>MALE85</th>\n",
       "      <th>OBJECTID</th>\n",
       "      <th>SHAPE</th>\n",
       "      <th>StdGeographyID</th>\n",
       "      <th>StdGeographyLevel</th>\n",
       "      <th>StdGeographyName</th>\n",
       "      <th>aggregationMethod</th>\n",
       "      <th>apportionmentConfidence</th>\n",
       "      <th>populationToPolygonSizeRating</th>\n",
       "      <th>sourceCountry</th>\n",
       "    </tr>\n",
       "  </thead>\n",
       "  <tbody>\n",
       "    <tr>\n",
       "      <th>0</th>\n",
       "      <td>46586</td>\n",
       "      <td>50124</td>\n",
       "      <td>50992</td>\n",
       "      <td>56892</td>\n",
       "      <td>60313</td>\n",
       "      <td>60853</td>\n",
       "      <td>59742</td>\n",
       "      <td>55947</td>\n",
       "      <td>56198</td>\n",
       "      <td>48399</td>\n",
       "      <td>...</td>\n",
       "      <td>10628</td>\n",
       "      <td>1</td>\n",
       "      <td>{\"rings\": [[[-122.27167999949626, 37.904720000...</td>\n",
       "      <td>06001</td>\n",
       "      <td>US.Counties</td>\n",
       "      <td>Alameda County</td>\n",
       "      <td>Query:US.Counties</td>\n",
       "      <td>2.576</td>\n",
       "      <td>2.191</td>\n",
       "      <td>US</td>\n",
       "    </tr>\n",
       "    <tr>\n",
       "      <th>1</th>\n",
       "      <td>25</td>\n",
       "      <td>27</td>\n",
       "      <td>25</td>\n",
       "      <td>19</td>\n",
       "      <td>26</td>\n",
       "      <td>20</td>\n",
       "      <td>21</td>\n",
       "      <td>28</td>\n",
       "      <td>30</td>\n",
       "      <td>35</td>\n",
       "      <td>...</td>\n",
       "      <td>6</td>\n",
       "      <td>2</td>\n",
       "      <td>{\"rings\": [[[-119.90430999965939, 38.933319999...</td>\n",
       "      <td>06003</td>\n",
       "      <td>US.Counties</td>\n",
       "      <td>Alpine County</td>\n",
       "      <td>Query:US.Counties</td>\n",
       "      <td>2.576</td>\n",
       "      <td>2.191</td>\n",
       "      <td>US</td>\n",
       "    </tr>\n",
       "    <tr>\n",
       "      <th>2</th>\n",
       "      <td>736</td>\n",
       "      <td>890</td>\n",
       "      <td>887</td>\n",
       "      <td>745</td>\n",
       "      <td>797</td>\n",
       "      <td>811</td>\n",
       "      <td>871</td>\n",
       "      <td>835</td>\n",
       "      <td>1041</td>\n",
       "      <td>790</td>\n",
       "      <td>...</td>\n",
       "      <td>517</td>\n",
       "      <td>3</td>\n",
       "      <td>{\"rings\": [[[-120.07763999921144, 38.708889999...</td>\n",
       "      <td>06005</td>\n",
       "      <td>US.Counties</td>\n",
       "      <td>Amador County</td>\n",
       "      <td>Query:US.Counties</td>\n",
       "      <td>2.576</td>\n",
       "      <td>2.191</td>\n",
       "      <td>US</td>\n",
       "    </tr>\n",
       "    <tr>\n",
       "      <th>3</th>\n",
       "      <td>6159</td>\n",
       "      <td>5978</td>\n",
       "      <td>8087</td>\n",
       "      <td>10927</td>\n",
       "      <td>8161</td>\n",
       "      <td>6956</td>\n",
       "      <td>6055</td>\n",
       "      <td>5618</td>\n",
       "      <td>6121</td>\n",
       "      <td>6047</td>\n",
       "      <td>...</td>\n",
       "      <td>2271</td>\n",
       "      <td>4</td>\n",
       "      <td>{\"rings\": [[[-121.40461999992303, 40.146640000...</td>\n",
       "      <td>06007</td>\n",
       "      <td>US.Counties</td>\n",
       "      <td>Butte County</td>\n",
       "      <td>Query:US.Counties</td>\n",
       "      <td>2.576</td>\n",
       "      <td>2.191</td>\n",
       "      <td>US</td>\n",
       "    </tr>\n",
       "    <tr>\n",
       "      <th>4</th>\n",
       "      <td>937</td>\n",
       "      <td>1129</td>\n",
       "      <td>1126</td>\n",
       "      <td>988</td>\n",
       "      <td>1003</td>\n",
       "      <td>1029</td>\n",
       "      <td>1011</td>\n",
       "      <td>1038</td>\n",
       "      <td>1362</td>\n",
       "      <td>1008</td>\n",
       "      <td>...</td>\n",
       "      <td>472</td>\n",
       "      <td>5</td>\n",
       "      <td>{\"rings\": [[[-120.07245999974911, 38.509090000...</td>\n",
       "      <td>06009</td>\n",
       "      <td>US.Counties</td>\n",
       "      <td>Calaveras County</td>\n",
       "      <td>Query:US.Counties</td>\n",
       "      <td>2.576</td>\n",
       "      <td>2.191</td>\n",
       "      <td>US</td>\n",
       "    </tr>\n",
       "    <tr>\n",
       "      <th>5</th>\n",
       "      <td>853</td>\n",
       "      <td>798</td>\n",
       "      <td>704</td>\n",
       "      <td>633</td>\n",
       "      <td>782</td>\n",
       "      <td>756</td>\n",
       "      <td>686</td>\n",
       "      <td>600</td>\n",
       "      <td>649</td>\n",
       "      <td>845</td>\n",
       "      <td>...</td>\n",
       "      <td>145</td>\n",
       "      <td>6</td>\n",
       "      <td>{\"rings\": [[[-122.10276999913513, 39.414400000...</td>\n",
       "      <td>06011</td>\n",
       "      <td>US.Counties</td>\n",
       "      <td>Colusa County</td>\n",
       "      <td>Query:US.Counties</td>\n",
       "      <td>2.576</td>\n",
       "      <td>2.191</td>\n",
       "      <td>US</td>\n",
       "    </tr>\n",
       "    <tr>\n",
       "      <th>6</th>\n",
       "      <td>33302</td>\n",
       "      <td>38007</td>\n",
       "      <td>35080</td>\n",
       "      <td>33373</td>\n",
       "      <td>37141</td>\n",
       "      <td>37179</td>\n",
       "      <td>38370</td>\n",
       "      <td>36896</td>\n",
       "      <td>38954</td>\n",
       "      <td>35930</td>\n",
       "      <td>...</td>\n",
       "      <td>8668</td>\n",
       "      <td>7</td>\n",
       "      <td>{\"rings\": [[[-121.5922400002879, 38.0951800010...</td>\n",
       "      <td>06013</td>\n",
       "      <td>US.Counties</td>\n",
       "      <td>Contra Costa County</td>\n",
       "      <td>Query:US.Counties</td>\n",
       "      <td>2.576</td>\n",
       "      <td>2.191</td>\n",
       "      <td>US</td>\n",
       "    </tr>\n",
       "    <tr>\n",
       "      <th>7</th>\n",
       "      <td>793</td>\n",
       "      <td>743</td>\n",
       "      <td>740</td>\n",
       "      <td>748</td>\n",
       "      <td>743</td>\n",
       "      <td>657</td>\n",
       "      <td>681</td>\n",
       "      <td>603</td>\n",
       "      <td>747</td>\n",
       "      <td>730</td>\n",
       "      <td>...</td>\n",
       "      <td>200</td>\n",
       "      <td>8</td>\n",
       "      <td>{\"rings\": [[[-123.51790999989072, 42.000760000...</td>\n",
       "      <td>06015</td>\n",
       "      <td>US.Counties</td>\n",
       "      <td>Del Norte County</td>\n",
       "      <td>Query:US.Counties</td>\n",
       "      <td>2.576</td>\n",
       "      <td>2.191</td>\n",
       "      <td>US</td>\n",
       "    </tr>\n",
       "    <tr>\n",
       "      <th>8</th>\n",
       "      <td>4599</td>\n",
       "      <td>5913</td>\n",
       "      <td>5617</td>\n",
       "      <td>4847</td>\n",
       "      <td>5126</td>\n",
       "      <td>4961</td>\n",
       "      <td>5269</td>\n",
       "      <td>5412</td>\n",
       "      <td>6475</td>\n",
       "      <td>5236</td>\n",
       "      <td>...</td>\n",
       "      <td>1567</td>\n",
       "      <td>9</td>\n",
       "      <td>{\"rings\": [[[-120.12602999946066, 39.067460000...</td>\n",
       "      <td>06017</td>\n",
       "      <td>US.Counties</td>\n",
       "      <td>El Dorado County</td>\n",
       "      <td>Query:US.Counties</td>\n",
       "      <td>2.576</td>\n",
       "      <td>2.191</td>\n",
       "      <td>US</td>\n",
       "    </tr>\n",
       "    <tr>\n",
       "      <th>9</th>\n",
       "      <td>40070</td>\n",
       "      <td>36435</td>\n",
       "      <td>34998</td>\n",
       "      <td>38187</td>\n",
       "      <td>41446</td>\n",
       "      <td>37105</td>\n",
       "      <td>32243</td>\n",
       "      <td>27667</td>\n",
       "      <td>27016</td>\n",
       "      <td>37945</td>\n",
       "      <td>...</td>\n",
       "      <td>5709</td>\n",
       "      <td>10</td>\n",
       "      <td>{\"rings\": [[[-119.00146999924604, 37.570900000...</td>\n",
       "      <td>06019</td>\n",
       "      <td>US.Counties</td>\n",
       "      <td>Fresno County</td>\n",
       "      <td>Query:US.Counties</td>\n",
       "      <td>2.576</td>\n",
       "      <td>2.191</td>\n",
       "      <td>US</td>\n",
       "    </tr>\n",
       "  </tbody>\n",
       "</table>\n",
       "<p>10 rows × 47 columns</p>\n",
       "</div>"
      ],
      "text/plain": [
       "    FEM0  FEM10  FEM15  FEM20  FEM25  FEM30  FEM35  FEM40  FEM45   FEM5  \\\n",
       "0  46586  50124  50992  56892  60313  60853  59742  55947  56198  48399   \n",
       "1     25     27     25     19     26     20     21     28     30     35   \n",
       "2    736    890    887    745    797    811    871    835   1041    790   \n",
       "3   6159   5978   8087  10927   8161   6956   6055   5618   6121   6047   \n",
       "4    937   1129   1126    988   1003   1029   1011   1038   1362   1008   \n",
       "5    853    798    704    633    782    756    686    600    649    845   \n",
       "6  33302  38007  35080  33373  37141  37179  38370  36896  38954  35930   \n",
       "7    793    743    740    748    743    657    681    603    747    730   \n",
       "8   4599   5913   5617   4847   5126   4961   5269   5412   6475   5236   \n",
       "9  40070  36435  34998  38187  41446  37105  32243  27667  27016  37945   \n",
       "\n",
       "       ...       MALE85  OBJECTID  \\\n",
       "0      ...        10628         1   \n",
       "1      ...            6         2   \n",
       "2      ...          517         3   \n",
       "3      ...         2271         4   \n",
       "4      ...          472         5   \n",
       "5      ...          145         6   \n",
       "6      ...         8668         7   \n",
       "7      ...          200         8   \n",
       "8      ...         1567         9   \n",
       "9      ...         5709        10   \n",
       "\n",
       "                                               SHAPE  StdGeographyID  \\\n",
       "0  {\"rings\": [[[-122.27167999949626, 37.904720000...           06001   \n",
       "1  {\"rings\": [[[-119.90430999965939, 38.933319999...           06003   \n",
       "2  {\"rings\": [[[-120.07763999921144, 38.708889999...           06005   \n",
       "3  {\"rings\": [[[-121.40461999992303, 40.146640000...           06007   \n",
       "4  {\"rings\": [[[-120.07245999974911, 38.509090000...           06009   \n",
       "5  {\"rings\": [[[-122.10276999913513, 39.414400000...           06011   \n",
       "6  {\"rings\": [[[-121.5922400002879, 38.0951800010...           06013   \n",
       "7  {\"rings\": [[[-123.51790999989072, 42.000760000...           06015   \n",
       "8  {\"rings\": [[[-120.12602999946066, 39.067460000...           06017   \n",
       "9  {\"rings\": [[[-119.00146999924604, 37.570900000...           06019   \n",
       "\n",
       "   StdGeographyLevel     StdGeographyName  aggregationMethod  \\\n",
       "0        US.Counties       Alameda County  Query:US.Counties   \n",
       "1        US.Counties        Alpine County  Query:US.Counties   \n",
       "2        US.Counties        Amador County  Query:US.Counties   \n",
       "3        US.Counties         Butte County  Query:US.Counties   \n",
       "4        US.Counties     Calaveras County  Query:US.Counties   \n",
       "5        US.Counties        Colusa County  Query:US.Counties   \n",
       "6        US.Counties  Contra Costa County  Query:US.Counties   \n",
       "7        US.Counties     Del Norte County  Query:US.Counties   \n",
       "8        US.Counties     El Dorado County  Query:US.Counties   \n",
       "9        US.Counties        Fresno County  Query:US.Counties   \n",
       "\n",
       "   apportionmentConfidence  populationToPolygonSizeRating sourceCountry  \n",
       "0                    2.576                          2.191            US  \n",
       "1                    2.576                          2.191            US  \n",
       "2                    2.576                          2.191            US  \n",
       "3                    2.576                          2.191            US  \n",
       "4                    2.576                          2.191            US  \n",
       "5                    2.576                          2.191            US  \n",
       "6                    2.576                          2.191            US  \n",
       "7                    2.576                          2.191            US  \n",
       "8                    2.576                          2.191            US  \n",
       "9                    2.576                          2.191            US  \n",
       "\n",
       "[10 rows x 47 columns]"
      ]
     },
     "execution_count": 35,
     "metadata": {},
     "output_type": "execute_result"
    }
   ],
   "source": [
    "counties_df = enrich(study_areas=ca_counties, data_collections=['Age'])\n",
    "counties_df.head(10)"
   ]
  },
  {
   "cell_type": "code",
   "execution_count": 36,
   "metadata": {
    "scrolled": true,
    "slideshow": {
     "slide_type": "subslide"
    }
   },
   "outputs": [
    {
     "data": {
      "application/vnd.jupyter.widget-view+json": {
       "model_id": "723e38104d014af6b213463350844ea9",
       "version_major": 2,
       "version_minor": 0
      },
      "text/plain": [
       "MapView(layout=Layout(height='400px', width='100%'))"
      ]
     },
     "metadata": {},
     "output_type": "display_data"
    },
    {
     "data": {
      "text/html": [
       "<div class=\"map-static-img-preview-f6bf8056-3d8c-435f-9c89-caf45482b021\"><img src=\"\"></img></div>"
      ],
      "text/plain": [
       "<IPython.core.display.HTML object>"
      ]
     },
     "metadata": {},
     "output_type": "display_data"
    }
   ],
   "source": [
    "m = gis.map('California')\n",
    "m"
   ]
  },
  {
   "cell_type": "code",
   "execution_count": 42,
   "metadata": {
    "slideshow": {
     "slide_type": "-"
    }
   },
   "outputs": [],
   "source": [
    "item = gis.content.import_data(df=counties_df, title=\"CA county population\")"
   ]
  },
  {
   "cell_type": "code",
   "execution_count": 38,
   "metadata": {
    "slideshow": {
     "slide_type": "-"
    }
   },
   "outputs": [
    {
     "data": {
      "text/html": [
       "<div class=\"item_container\" style=\"height: auto; overflow: hidden; border: 1px solid #cfcfcf; border-radius: 2px; background: #f6fafa; line-height: 1.21429em; padding: 10px;\">\n",
       "                    <div class=\"item_left\" style=\"width: 210px; float: left;\">\n",
       "                       <a href='https://geosaurus.maps.arcgis.com/home/item.html?id=f2b2188a7a834fc6824f51831049d5f5' target='_blank'>\n",
       "                        <img src='http://static.arcgis.com/images/desktopapp.png' class=\"itemThumbnail\">\n",
       "                       </a>\n",
       "                    </div>\n",
       "\n",
       "                    <div class=\"item_right\"     style=\"float: none; width: auto; overflow: hidden;\">\n",
       "                        <a href='https://geosaurus.maps.arcgis.com/home/item.html?id=f2b2188a7a834fc6824f51831049d5f5' target='_blank'><b>CA county population</b>\n",
       "                        </a>\n",
       "                        <br/><img src='https://geosaurus.maps.arcgis.com/home/js/jsapi/esri/css/images/item_type_icons/featureshosted16.png' style=\"vertical-align:middle;\">Feature Layer Collection by arcgis_python\n",
       "                        <br/>Last Modified: January 31, 2019\n",
       "                        <br/>0 comments, 0 views\n",
       "                    </div>\n",
       "                </div>\n",
       "                "
      ],
      "text/plain": [
       "<Item title:\"CA county population\" type:Feature Layer Collection owner:arcgis_python>"
      ]
     },
     "execution_count": 38,
     "metadata": {},
     "output_type": "execute_result"
    }
   ],
   "source": [
    "item"
   ]
  },
  {
   "cell_type": "code",
   "execution_count": 43,
   "metadata": {
    "slideshow": {
     "slide_type": "-"
    }
   },
   "outputs": [],
   "source": [
    "m.add_layer(item.layers[0], {'renderer': 'ClassedColorRenderer', \n",
    "                            'field_name':'FEM0'})"
   ]
  },
  {
   "cell_type": "code",
   "execution_count": 40,
   "metadata": {
    "slideshow": {
     "slide_type": "-"
    }
   },
   "outputs": [
    {
     "data": {
      "text/plain": [
       "True"
      ]
     },
     "execution_count": 40,
     "metadata": {},
     "output_type": "execute_result"
    }
   ],
   "source": [
    "item.delete()"
   ]
  },
  {
   "cell_type": "markdown",
   "metadata": {
    "slideshow": {
     "slide_type": "subslide"
    }
   },
   "source": [
    "### Example: Using comparison levels"
   ]
  },
  {
   "cell_type": "code",
   "execution_count": 44,
   "metadata": {
    "slideshow": {
     "slide_type": "-"
    }
   },
   "outputs": [
    {
     "data": {
      "text/html": [
       "<div>\n",
       "<style scoped>\n",
       "    .dataframe tbody tr th:only-of-type {\n",
       "        vertical-align: middle;\n",
       "    }\n",
       "\n",
       "    .dataframe tbody tr th {\n",
       "        vertical-align: top;\n",
       "    }\n",
       "\n",
       "    .dataframe thead th {\n",
       "        text-align: right;\n",
       "    }\n",
       "</style>\n",
       "<table border=\"1\" class=\"dataframe\">\n",
       "  <thead>\n",
       "    <tr style=\"text-align: right;\">\n",
       "      <th></th>\n",
       "      <th>FEM0</th>\n",
       "      <th>FEM10</th>\n",
       "      <th>FEM15</th>\n",
       "      <th>FEM20</th>\n",
       "      <th>FEM25</th>\n",
       "      <th>FEM30</th>\n",
       "      <th>FEM35</th>\n",
       "      <th>FEM40</th>\n",
       "      <th>FEM45</th>\n",
       "      <th>FEM5</th>\n",
       "      <th>...</th>\n",
       "      <th>MALE85</th>\n",
       "      <th>OBJECTID</th>\n",
       "      <th>SHAPE</th>\n",
       "      <th>StdGeographyID</th>\n",
       "      <th>StdGeographyLevel</th>\n",
       "      <th>StdGeographyName</th>\n",
       "      <th>aggregationMethod</th>\n",
       "      <th>apportionmentConfidence</th>\n",
       "      <th>populationToPolygonSizeRating</th>\n",
       "      <th>sourceCountry</th>\n",
       "    </tr>\n",
       "  </thead>\n",
       "  <tbody>\n",
       "    <tr>\n",
       "      <th>0</th>\n",
       "      <td>856</td>\n",
       "      <td>910</td>\n",
       "      <td>937</td>\n",
       "      <td>1156</td>\n",
       "      <td>1135</td>\n",
       "      <td>1173</td>\n",
       "      <td>1159</td>\n",
       "      <td>1010</td>\n",
       "      <td>1081</td>\n",
       "      <td>875</td>\n",
       "      <td>...</td>\n",
       "      <td>366</td>\n",
       "      <td>1</td>\n",
       "      <td>{\"rings\": [[[-117.21855999994393, 34.065730000...</td>\n",
       "      <td>92373</td>\n",
       "      <td>US.ZIP5</td>\n",
       "      <td>Redlands</td>\n",
       "      <td>Query:US.ZIP5</td>\n",
       "      <td>2.576</td>\n",
       "      <td>2.191</td>\n",
       "      <td>US</td>\n",
       "    </tr>\n",
       "    <tr>\n",
       "      <th>1</th>\n",
       "      <td>85638</td>\n",
       "      <td>84664</td>\n",
       "      <td>82283</td>\n",
       "      <td>84173</td>\n",
       "      <td>94092</td>\n",
       "      <td>85783</td>\n",
       "      <td>77753</td>\n",
       "      <td>71680</td>\n",
       "      <td>72742</td>\n",
       "      <td>84836</td>\n",
       "      <td>...</td>\n",
       "      <td>16956</td>\n",
       "      <td>2</td>\n",
       "      <td>None</td>\n",
       "      <td>06065</td>\n",
       "      <td>US.Counties</td>\n",
       "      <td>Riverside County</td>\n",
       "      <td>Query:US.Counties</td>\n",
       "      <td>2.576</td>\n",
       "      <td>2.191</td>\n",
       "      <td>US</td>\n",
       "    </tr>\n",
       "    <tr>\n",
       "      <th>2</th>\n",
       "      <td>80172</td>\n",
       "      <td>76812</td>\n",
       "      <td>74214</td>\n",
       "      <td>82045</td>\n",
       "      <td>92037</td>\n",
       "      <td>82072</td>\n",
       "      <td>71814</td>\n",
       "      <td>65102</td>\n",
       "      <td>66257</td>\n",
       "      <td>77664</td>\n",
       "      <td>...</td>\n",
       "      <td>9504</td>\n",
       "      <td>3</td>\n",
       "      <td>None</td>\n",
       "      <td>06071</td>\n",
       "      <td>US.Counties</td>\n",
       "      <td>San Bernardino County</td>\n",
       "      <td>Query:US.Counties</td>\n",
       "      <td>2.576</td>\n",
       "      <td>2.191</td>\n",
       "      <td>US</td>\n",
       "    </tr>\n",
       "    <tr>\n",
       "      <th>3</th>\n",
       "      <td>1246195</td>\n",
       "      <td>1263448</td>\n",
       "      <td>1267704</td>\n",
       "      <td>1399534</td>\n",
       "      <td>1533458</td>\n",
       "      <td>1442776</td>\n",
       "      <td>1332317</td>\n",
       "      <td>1220853</td>\n",
       "      <td>1252603</td>\n",
       "      <td>1247274</td>\n",
       "      <td>...</td>\n",
       "      <td>270401</td>\n",
       "      <td>4</td>\n",
       "      <td>None</td>\n",
       "      <td>06</td>\n",
       "      <td>US.States</td>\n",
       "      <td>California</td>\n",
       "      <td>Query:US.States</td>\n",
       "      <td>2.576</td>\n",
       "      <td>2.191</td>\n",
       "      <td>US</td>\n",
       "    </tr>\n",
       "  </tbody>\n",
       "</table>\n",
       "<p>4 rows × 47 columns</p>\n",
       "</div>"
      ],
      "text/plain": [
       "      FEM0    FEM10    FEM15    FEM20    FEM25    FEM30    FEM35    FEM40  \\\n",
       "0      856      910      937     1156     1135     1173     1159     1010   \n",
       "1    85638    84664    82283    84173    94092    85783    77753    71680   \n",
       "2    80172    76812    74214    82045    92037    82072    71814    65102   \n",
       "3  1246195  1263448  1267704  1399534  1533458  1442776  1332317  1220853   \n",
       "\n",
       "     FEM45     FEM5      ...       MALE85  OBJECTID  \\\n",
       "0     1081      875      ...          366         1   \n",
       "1    72742    84836      ...        16956         2   \n",
       "2    66257    77664      ...         9504         3   \n",
       "3  1252603  1247274      ...       270401         4   \n",
       "\n",
       "                                               SHAPE  StdGeographyID  \\\n",
       "0  {\"rings\": [[[-117.21855999994393, 34.065730000...           92373   \n",
       "1                                               None           06065   \n",
       "2                                               None           06071   \n",
       "3                                               None              06   \n",
       "\n",
       "   StdGeographyLevel       StdGeographyName  aggregationMethod  \\\n",
       "0            US.ZIP5               Redlands      Query:US.ZIP5   \n",
       "1        US.Counties       Riverside County  Query:US.Counties   \n",
       "2        US.Counties  San Bernardino County  Query:US.Counties   \n",
       "3          US.States             California    Query:US.States   \n",
       "\n",
       "   apportionmentConfidence  populationToPolygonSizeRating sourceCountry  \n",
       "0                    2.576                          2.191            US  \n",
       "1                    2.576                          2.191            US  \n",
       "2                    2.576                          2.191            US  \n",
       "3                    2.576                          2.191            US  \n",
       "\n",
       "[4 rows x 47 columns]"
      ]
     },
     "execution_count": 44,
     "metadata": {},
     "output_type": "execute_result"
    }
   ],
   "source": [
    "enrich(study_areas=[redlands], data_collections=['Age'], \n",
    "       comparison_levels=['US.Counties', 'US.States'])"
   ]
  },
  {
   "cell_type": "markdown",
   "metadata": {
    "slideshow": {
     "slide_type": "subslide"
    }
   },
   "source": [
    "### Example: Buffering locations using non overlapping disks \n",
    "\n",
    "The example below creates non-overlapping disks of radii 1, 3 and 5 Miles respectively from a street address and enriches these using the 'Age' data collection."
   ]
  },
  {
   "cell_type": "code",
   "execution_count": 45,
   "metadata": {
    "slideshow": {
     "slide_type": "-"
    }
   },
   "outputs": [
    {
     "data": {
      "text/html": [
       "<div>\n",
       "<style scoped>\n",
       "    .dataframe tbody tr th:only-of-type {\n",
       "        vertical-align: middle;\n",
       "    }\n",
       "\n",
       "    .dataframe tbody tr th {\n",
       "        vertical-align: top;\n",
       "    }\n",
       "\n",
       "    .dataframe thead th {\n",
       "        text-align: right;\n",
       "    }\n",
       "</style>\n",
       "<table border=\"1\" class=\"dataframe\">\n",
       "  <thead>\n",
       "    <tr style=\"text-align: right;\">\n",
       "      <th></th>\n",
       "      <th>FEM0</th>\n",
       "      <th>FEM10</th>\n",
       "      <th>FEM15</th>\n",
       "      <th>FEM20</th>\n",
       "      <th>FEM25</th>\n",
       "      <th>FEM30</th>\n",
       "      <th>FEM35</th>\n",
       "      <th>FEM40</th>\n",
       "      <th>FEM45</th>\n",
       "      <th>FEM5</th>\n",
       "      <th>...</th>\n",
       "      <th>X</th>\n",
       "      <th>Y</th>\n",
       "      <th>aggregationMethod</th>\n",
       "      <th>apportionmentConfidence</th>\n",
       "      <th>areaType</th>\n",
       "      <th>bufferRadii</th>\n",
       "      <th>bufferUnits</th>\n",
       "      <th>bufferUnitsAlias</th>\n",
       "      <th>populationToPolygonSizeRating</th>\n",
       "      <th>sourceCountry</th>\n",
       "    </tr>\n",
       "  </thead>\n",
       "  <tbody>\n",
       "    <tr>\n",
       "      <th>0</th>\n",
       "      <td>445</td>\n",
       "      <td>380</td>\n",
       "      <td>421</td>\n",
       "      <td>635</td>\n",
       "      <td>622</td>\n",
       "      <td>570</td>\n",
       "      <td>533</td>\n",
       "      <td>420</td>\n",
       "      <td>389</td>\n",
       "      <td>395</td>\n",
       "      <td>...</td>\n",
       "      <td>-117.19567</td>\n",
       "      <td>34.056488</td>\n",
       "      <td>BlockApportionment:US.BlockGroups</td>\n",
       "      <td>2.576</td>\n",
       "      <td>RingBufferBands</td>\n",
       "      <td>1</td>\n",
       "      <td>Miles</td>\n",
       "      <td>Miles</td>\n",
       "      <td>2.191</td>\n",
       "      <td>US</td>\n",
       "    </tr>\n",
       "    <tr>\n",
       "      <th>1</th>\n",
       "      <td>1768</td>\n",
       "      <td>1813</td>\n",
       "      <td>2130</td>\n",
       "      <td>2396</td>\n",
       "      <td>2316</td>\n",
       "      <td>2371</td>\n",
       "      <td>2174</td>\n",
       "      <td>1882</td>\n",
       "      <td>1952</td>\n",
       "      <td>1802</td>\n",
       "      <td>...</td>\n",
       "      <td>-117.19567</td>\n",
       "      <td>34.056488</td>\n",
       "      <td>BlockApportionment:US.BlockGroups</td>\n",
       "      <td>2.576</td>\n",
       "      <td>RingBufferBands</td>\n",
       "      <td>3</td>\n",
       "      <td>Miles</td>\n",
       "      <td>Miles</td>\n",
       "      <td>2.191</td>\n",
       "      <td>US</td>\n",
       "    </tr>\n",
       "    <tr>\n",
       "      <th>2</th>\n",
       "      <td>2812</td>\n",
       "      <td>2793</td>\n",
       "      <td>2657</td>\n",
       "      <td>3228</td>\n",
       "      <td>3646</td>\n",
       "      <td>3024</td>\n",
       "      <td>2600</td>\n",
       "      <td>2322</td>\n",
       "      <td>2473</td>\n",
       "      <td>2795</td>\n",
       "      <td>...</td>\n",
       "      <td>-117.19567</td>\n",
       "      <td>34.056488</td>\n",
       "      <td>BlockApportionment:US.BlockGroups</td>\n",
       "      <td>2.576</td>\n",
       "      <td>RingBufferBands</td>\n",
       "      <td>5</td>\n",
       "      <td>Miles</td>\n",
       "      <td>Miles</td>\n",
       "      <td>2.191</td>\n",
       "      <td>US</td>\n",
       "    </tr>\n",
       "  </tbody>\n",
       "</table>\n",
       "<p>3 rows × 50 columns</p>\n",
       "</div>"
      ],
      "text/plain": [
       "   FEM0  FEM10  FEM15  FEM20  FEM25  FEM30  FEM35  FEM40  FEM45  FEM5  \\\n",
       "0   445    380    421    635    622    570    533    420    389   395   \n",
       "1  1768   1813   2130   2396   2316   2371   2174   1882   1952  1802   \n",
       "2  2812   2793   2657   3228   3646   3024   2600   2322   2473  2795   \n",
       "\n",
       "       ...               X          Y                  aggregationMethod  \\\n",
       "0      ...      -117.19567  34.056488  BlockApportionment:US.BlockGroups   \n",
       "1      ...      -117.19567  34.056488  BlockApportionment:US.BlockGroups   \n",
       "2      ...      -117.19567  34.056488  BlockApportionment:US.BlockGroups   \n",
       "\n",
       "   apportionmentConfidence         areaType  bufferRadii  bufferUnits  \\\n",
       "0                    2.576  RingBufferBands            1        Miles   \n",
       "1                    2.576  RingBufferBands            3        Miles   \n",
       "2                    2.576  RingBufferBands            5        Miles   \n",
       "\n",
       "   bufferUnitsAlias  populationToPolygonSizeRating sourceCountry  \n",
       "0             Miles                          2.191            US  \n",
       "1             Miles                          2.191            US  \n",
       "2             Miles                          2.191            US  \n",
       "\n",
       "[3 rows x 50 columns]"
      ]
     },
     "execution_count": 45,
     "metadata": {},
     "output_type": "execute_result"
    }
   ],
   "source": [
    "buffered = BufferStudyArea(area='380 New York St Redlands CA 92373',\n",
    "                           radii=[1,3,5], units='Miles', overlap=False)\n",
    "enrich(study_areas=[buffered], data_collections=['Age'])"
   ]
  },
  {
   "cell_type": "markdown",
   "metadata": {
    "slideshow": {
     "slide_type": "subslide"
    }
   },
   "source": [
    "### Example: Using drive times as study areas\n",
    "    \n",
    "The example below creates 5 and 10 minute drive times from a street address and enriches these using the 'Age' data collection."
   ]
  },
  {
   "cell_type": "code",
   "execution_count": 46,
   "metadata": {
    "slideshow": {
     "slide_type": "-"
    }
   },
   "outputs": [],
   "source": [
    "buffered = BufferStudyArea(area='380 New York St Redlands CA 92373', \n",
    "                           radii=[5, 10], units='Minutes', \n",
    "                           travel_mode='Driving')\n",
    "drive_time_df = enrich(study_areas=[buffered], data_collections=['Age'])"
   ]
  },
  {
   "cell_type": "code",
   "execution_count": 47,
   "metadata": {
    "slideshow": {
     "slide_type": "-"
    }
   },
   "outputs": [
    {
     "data": {
      "text/html": [
       "<div>\n",
       "<style scoped>\n",
       "    .dataframe tbody tr th:only-of-type {\n",
       "        vertical-align: middle;\n",
       "    }\n",
       "\n",
       "    .dataframe tbody tr th {\n",
       "        vertical-align: top;\n",
       "    }\n",
       "\n",
       "    .dataframe thead th {\n",
       "        text-align: right;\n",
       "    }\n",
       "</style>\n",
       "<table border=\"1\" class=\"dataframe\">\n",
       "  <thead>\n",
       "    <tr style=\"text-align: right;\">\n",
       "      <th></th>\n",
       "      <th>FEM0</th>\n",
       "      <th>FEM10</th>\n",
       "      <th>FEM15</th>\n",
       "      <th>FEM20</th>\n",
       "      <th>FEM25</th>\n",
       "      <th>FEM30</th>\n",
       "      <th>FEM35</th>\n",
       "      <th>FEM40</th>\n",
       "      <th>FEM45</th>\n",
       "      <th>FEM5</th>\n",
       "      <th>...</th>\n",
       "      <th>X</th>\n",
       "      <th>Y</th>\n",
       "      <th>aggregationMethod</th>\n",
       "      <th>apportionmentConfidence</th>\n",
       "      <th>areaType</th>\n",
       "      <th>bufferRadii</th>\n",
       "      <th>bufferUnits</th>\n",
       "      <th>bufferUnitsAlias</th>\n",
       "      <th>populationToPolygonSizeRating</th>\n",
       "      <th>sourceCountry</th>\n",
       "    </tr>\n",
       "  </thead>\n",
       "  <tbody>\n",
       "    <tr>\n",
       "      <th>0</th>\n",
       "      <td>388</td>\n",
       "      <td>333</td>\n",
       "      <td>361</td>\n",
       "      <td>520</td>\n",
       "      <td>531</td>\n",
       "      <td>483</td>\n",
       "      <td>437</td>\n",
       "      <td>348</td>\n",
       "      <td>322</td>\n",
       "      <td>345</td>\n",
       "      <td>...</td>\n",
       "      <td>-117.19567</td>\n",
       "      <td>34.056488</td>\n",
       "      <td>BlockApportionment:US.BlockGroups</td>\n",
       "      <td>2.576</td>\n",
       "      <td>NetworkServiceArea</td>\n",
       "      <td>5</td>\n",
       "      <td>Minutes</td>\n",
       "      <td>Drive Time Minutes</td>\n",
       "      <td>2.191</td>\n",
       "      <td>US</td>\n",
       "    </tr>\n",
       "    <tr>\n",
       "      <th>1</th>\n",
       "      <td>2369</td>\n",
       "      <td>2322</td>\n",
       "      <td>2679</td>\n",
       "      <td>3236</td>\n",
       "      <td>3097</td>\n",
       "      <td>3004</td>\n",
       "      <td>2776</td>\n",
       "      <td>2373</td>\n",
       "      <td>2414</td>\n",
       "      <td>2337</td>\n",
       "      <td>...</td>\n",
       "      <td>-117.19567</td>\n",
       "      <td>34.056488</td>\n",
       "      <td>BlockApportionment:US.BlockGroups</td>\n",
       "      <td>2.576</td>\n",
       "      <td>NetworkServiceArea</td>\n",
       "      <td>10</td>\n",
       "      <td>Minutes</td>\n",
       "      <td>Drive Time Minutes</td>\n",
       "      <td>2.191</td>\n",
       "      <td>US</td>\n",
       "    </tr>\n",
       "  </tbody>\n",
       "</table>\n",
       "<p>2 rows × 50 columns</p>\n",
       "</div>"
      ],
      "text/plain": [
       "   FEM0  FEM10  FEM15  FEM20  FEM25  FEM30  FEM35  FEM40  FEM45  FEM5  \\\n",
       "0   388    333    361    520    531    483    437    348    322   345   \n",
       "1  2369   2322   2679   3236   3097   3004   2776   2373   2414  2337   \n",
       "\n",
       "       ...               X          Y                  aggregationMethod  \\\n",
       "0      ...      -117.19567  34.056488  BlockApportionment:US.BlockGroups   \n",
       "1      ...      -117.19567  34.056488  BlockApportionment:US.BlockGroups   \n",
       "\n",
       "   apportionmentConfidence            areaType  bufferRadii  bufferUnits  \\\n",
       "0                    2.576  NetworkServiceArea            5      Minutes   \n",
       "1                    2.576  NetworkServiceArea           10      Minutes   \n",
       "\n",
       "     bufferUnitsAlias  populationToPolygonSizeRating sourceCountry  \n",
       "0  Drive Time Minutes                          2.191            US  \n",
       "1  Drive Time Minutes                          2.191            US  \n",
       "\n",
       "[2 rows x 50 columns]"
      ]
     },
     "execution_count": 47,
     "metadata": {},
     "output_type": "execute_result"
    }
   ],
   "source": [
    "drive_time_df"
   ]
  },
  {
   "cell_type": "markdown",
   "metadata": {
    "slideshow": {
     "slide_type": "subslide"
    }
   },
   "source": [
    "### Visualize results on a map"
   ]
  },
  {
   "cell_type": "markdown",
   "metadata": {
    "slideshow": {
     "slide_type": "skip"
    }
   },
   "source": [
    "The returned spatial dataframe can be visualized on a map as shown below:"
   ]
  },
  {
   "cell_type": "code",
   "execution_count": null,
   "metadata": {
    "slideshow": {
     "slide_type": "-"
    }
   },
   "outputs": [],
   "source": [
    "redlands_map = gis.map('Redlands, CA')\n",
    "redlands_map.basemap = 'dark-gray-vector'\n",
    "redlands_map"
   ]
  },
  {
   "cell_type": "code",
   "execution_count": null,
   "metadata": {
    "slideshow": {
     "slide_type": "-"
    }
   },
   "outputs": [],
   "source": [
    "redlands_map.draw(drive_time_df.spatial.to_featureset())"
   ]
  },
  {
   "cell_type": "markdown",
   "metadata": {
    "slideshow": {
     "slide_type": "subslide"
    }
   },
   "source": [
    "## Saving GeoEnrichment Results"
   ]
  },
  {
   "cell_type": "code",
   "execution_count": null,
   "metadata": {
    "slideshow": {
     "slide_type": "-"
    }
   },
   "outputs": [],
   "source": [
    "gis.content.import_data(df=drive_time_df, title=\"Age statistics within 5,10 minutes of drive time from Esri\")"
   ]
  }
 ],
 "metadata": {
  "anaconda-cloud": {},
  "kernelspec": {
   "display_name": "Python 3",
   "language": "python",
   "name": "python3"
  },
  "language_info": {
   "codemirror_mode": {
    "name": "ipython",
    "version": 3
   },
   "file_extension": ".py",
   "mimetype": "text/x-python",
   "name": "python",
   "nbconvert_exporter": "python",
   "pygments_lexer": "ipython3",
   "version": "3.6.6"
  },
  "livereveal": {
   "scroll": true
  }
 },
 "nbformat": 4,
 "nbformat_minor": 2
}
