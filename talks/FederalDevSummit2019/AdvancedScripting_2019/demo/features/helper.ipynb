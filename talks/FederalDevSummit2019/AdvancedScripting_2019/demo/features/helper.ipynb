{
 "cells": [
  {
   "cell_type": "code",
   "execution_count": 1,
   "metadata": {},
   "outputs": [],
   "source": [
    "from arcgis.gis import GIS\n",
    "from arcgis.features import FeatureLayerCollection, FeatureLayer"
   ]
  },
  {
   "cell_type": "code",
   "execution_count": 2,
   "metadata": {},
   "outputs": [],
   "source": [
    "gis = GIS(profile='playfround_portal_admin')"
   ]
  },
  {
   "cell_type": "code",
   "execution_count": 3,
   "metadata": {},
   "outputs": [
    {
     "data": {
      "text/html": [
       "<div class=\"item_container\" style=\"height: auto; overflow: hidden; border: 1px solid #cfcfcf; border-radius: 2px; background: #f6fafa; line-height: 1.21429em; padding: 10px;\">\n",
       "                    <div class=\"item_left\" style=\"width: 210px; float: left;\">\n",
       "                       <a href='https://python.playground.esri.com/portal/home/item.html?id=15ac38fceb784cf7afda468418e609b4' target='_blank'>\n",
       "                        <img src='data:image/png;base64,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' width='200' height='133' class=\"itemThumbnail\">\n",
       "                       </a>\n",
       "                    </div>\n",
       "\n",
       "                    <div class=\"item_right\"     style=\"float: none; width: auto; overflow: hidden;\">\n",
       "                        <a href='https://python.playground.esri.com/portal/home/item.html?id=15ac38fceb784cf7afda468418e609b4' target='_blank'><b>fortune_500_styled_wfl</b>\n",
       "                        </a>\n",
       "                        <br/>fortune 500<img src='https://python.playground.esri.com/portal/home/js/jsapi/esri/css/images/item_type_icons/featureshosted16.png' style=\"vertical-align:middle;\">Feature Layer Collection by andrew\n",
       "                        <br/>Last Modified: July 02, 2018\n",
       "                        <br/>0 comments, 0 views\n",
       "                    </div>\n",
       "                </div>\n",
       "                "
      ],
      "text/plain": [
       "<Item title:\"fortune_500_styled_wfl\" type:Feature Layer Collection owner:andrew>"
      ]
     },
     "execution_count": 3,
     "metadata": {},
     "output_type": "execute_result"
    }
   ],
   "source": [
    "flc_item = gis.content.search('title:fortune_500_styled_wfl', 'Feature Layer')\n",
    "flc_item[0]"
   ]
  },
  {
   "cell_type": "code",
   "execution_count": 4,
   "metadata": {},
   "outputs": [
    {
     "data": {
      "text/plain": [
       "<FeatureLayerCollection url:\"http://python.playground.esri.com/server/rest/services/Hosted/fortune_500_styled_880c700a3753428587848281777012f9/FeatureServer\">"
      ]
     },
     "execution_count": 4,
     "metadata": {},
     "output_type": "execute_result"
    }
   ],
   "source": [
    "flc= FeatureLayerCollection.fromitem(flc_item[0])\n",
    "flc"
   ]
  },
  {
   "cell_type": "markdown",
   "metadata": {},
   "source": [
    "## turn back new york"
   ]
  },
  {
   "cell_type": "code",
   "execution_count": 5,
   "metadata": {},
   "outputs": [
    {
     "data": {
      "text/plain": [
       "<FeatureLayer url:\"http://python.playground.esri.com/server/rest/services/Hosted/fortune_500_styled_880c700a3753428587848281777012f9/FeatureServer/0\">"
      ]
     },
     "execution_count": 5,
     "metadata": {},
     "output_type": "execute_result"
    }
   ],
   "source": [
    "fl0 = flc.layers[0]\n",
    "fl0"
   ]
  },
  {
   "cell_type": "code",
   "execution_count": 6,
   "metadata": {},
   "outputs": [],
   "source": [
    "fset = fl0.query()\n",
    "feats = fset.features"
   ]
  },
  {
   "cell_type": "code",
   "execution_count": 7,
   "metadata": {},
   "outputs": [
    {
     "data": {
      "text/html": [
       "<div>\n",
       "<style scoped>\n",
       "    .dataframe tbody tr th:only-of-type {\n",
       "        vertical-align: middle;\n",
       "    }\n",
       "\n",
       "    .dataframe tbody tr th {\n",
       "        vertical-align: top;\n",
       "    }\n",
       "\n",
       "    .dataframe thead th {\n",
       "        text-align: right;\n",
       "    }\n",
       "</style>\n",
       "<table border=\"1\" class=\"dataframe\">\n",
       "  <thead>\n",
       "    <tr style=\"text-align: right;\">\n",
       "      <th></th>\n",
       "      <th>feature</th>\n",
       "      <th>globalid</th>\n",
       "      <th>name</th>\n",
       "      <th>objectid</th>\n",
       "      <th>pop</th>\n",
       "      <th>SHAPE</th>\n",
       "    </tr>\n",
       "  </thead>\n",
       "  <tbody>\n",
       "    <tr>\n",
       "      <th>0</th>\n",
       "      <td>Population greater than 999,999   County Seat</td>\n",
       "      <td>{EBB04276-5FEC-4CC5-AA3D-39F0833AEC95}</td>\n",
       "      <td>Los Angeles</td>\n",
       "      <td>1</td>\n",
       "      <td>3485398.0</td>\n",
       "      <td>{'x': -13162974.851300001, 'y': 4035820.211800...</td>\n",
       "    </tr>\n",
       "    <tr>\n",
       "      <th>1</th>\n",
       "      <td>Population greater than 999,999   County Seat</td>\n",
       "      <td>{73C9B31E-7749-41A3-B2BA-1C7F50FCA23F}</td>\n",
       "      <td>San Diego</td>\n",
       "      <td>2</td>\n",
       "      <td>1110549.0</td>\n",
       "      <td>{'x': -13041954.6204, 'y': 3857562.1829999983,...</td>\n",
       "    </tr>\n",
       "    <tr>\n",
       "      <th>2</th>\n",
       "      <td>Population greater than 999,999   County Seat</td>\n",
       "      <td>{918E688F-4D5D-4EC3-8B4B-6AD1FA3FDF7C}</td>\n",
       "      <td>Philadelphia</td>\n",
       "      <td>4</td>\n",
       "      <td>1585577.0</td>\n",
       "      <td>{'x': -8367174.4026, 'y': 4859017.708499998, '...</td>\n",
       "    </tr>\n",
       "    <tr>\n",
       "      <th>3</th>\n",
       "      <td>Population greater than 999,999   County Seat</td>\n",
       "      <td>{9F4E803A-DDBD-486A-AE9A-A1660C5E41FD}</td>\n",
       "      <td>Dallas</td>\n",
       "      <td>5</td>\n",
       "      <td>1006877.0</td>\n",
       "      <td>{'x': -10775794.1317, 'y': 3866612.282399997, ...</td>\n",
       "    </tr>\n",
       "    <tr>\n",
       "      <th>4</th>\n",
       "      <td>Population greater than 999,999   County Seat</td>\n",
       "      <td>{438FE1CF-4F35-44CA-9A67-FD8E863F2249}</td>\n",
       "      <td>Houston</td>\n",
       "      <td>6</td>\n",
       "      <td>1630553.0</td>\n",
       "      <td>{'x': -10615848.7424, 'y': 3473191.150200002, ...</td>\n",
       "    </tr>\n",
       "  </tbody>\n",
       "</table>\n",
       "</div>"
      ],
      "text/plain": [
       "                                         feature  \\\n",
       "0  Population greater than 999,999   County Seat   \n",
       "1  Population greater than 999,999   County Seat   \n",
       "2  Population greater than 999,999   County Seat   \n",
       "3  Population greater than 999,999   County Seat   \n",
       "4  Population greater than 999,999   County Seat   \n",
       "\n",
       "                                 globalid          name  objectid        pop  \\\n",
       "0  {EBB04276-5FEC-4CC5-AA3D-39F0833AEC95}   Los Angeles         1  3485398.0   \n",
       "1  {73C9B31E-7749-41A3-B2BA-1C7F50FCA23F}     San Diego         2  1110549.0   \n",
       "2  {918E688F-4D5D-4EC3-8B4B-6AD1FA3FDF7C}  Philadelphia         4  1585577.0   \n",
       "3  {9F4E803A-DDBD-486A-AE9A-A1660C5E41FD}        Dallas         5  1006877.0   \n",
       "4  {438FE1CF-4F35-44CA-9A67-FD8E863F2249}       Houston         6  1630553.0   \n",
       "\n",
       "                                               SHAPE  \n",
       "0  {'x': -13162974.851300001, 'y': 4035820.211800...  \n",
       "1  {'x': -13041954.6204, 'y': 3857562.1829999983,...  \n",
       "2  {'x': -8367174.4026, 'y': 4859017.708499998, '...  \n",
       "3  {'x': -10775794.1317, 'y': 3866612.282399997, ...  \n",
       "4  {'x': -10615848.7424, 'y': 3473191.150200002, ...  "
      ]
     },
     "execution_count": 7,
     "metadata": {},
     "output_type": "execute_result"
    }
   ],
   "source": [
    "fset.df.head(5)"
   ]
  },
  {
   "cell_type": "code",
   "execution_count": 8,
   "metadata": {},
   "outputs": [
    {
     "data": {
      "text/plain": [
       "{'objectid': 12,\n",
       " 'feature': 'Population greater than 999,999   County Seat',\n",
       " 'name': 'New York City',\n",
       " 'pop': 7322564.0,\n",
       " 'globalid': '{C3E55B40-C33F-4AF3-8F6F-6B7596D1F980}'}"
      ]
     },
     "execution_count": 8,
     "metadata": {},
     "output_type": "execute_result"
    }
   ],
   "source": [
    "ny_feature = [f for f in feats if f.attributes['name']=='New York City'][0]\n",
    "ny_feature.attributes"
   ]
  },
  {
   "cell_type": "code",
   "execution_count": 9,
   "metadata": {},
   "outputs": [],
   "source": [
    "import copy\n",
    "ny_edit = copy.deepcopy(ny_feature)\n",
    "ny_edit.attributes['name'] = 'New York'"
   ]
  },
  {
   "cell_type": "code",
   "execution_count": 10,
   "metadata": {},
   "outputs": [
    {
     "data": {
      "text/plain": [
       "{'addResults': [],\n",
       " 'updateResults': [{'objectId': 12,\n",
       "   'globalId': '{C3E55B40-C33F-4AF3-8F6F-6B7596D1F980}',\n",
       "   'success': True}],\n",
       " 'deleteResults': [],\n",
       " 'attachments': {'addResults': [], 'updateResults': [], 'deleteResults': []}}"
      ]
     },
     "execution_count": 10,
     "metadata": {},
     "output_type": "execute_result"
    }
   ],
   "source": [
    "update_result = fl0.edit_features(updates=[ny_edit])\n",
    "update_result"
   ]
  },
  {
   "cell_type": "markdown",
   "metadata": {},
   "source": [
    "# Managing Capability"
   ]
  },
  {
   "cell_type": "code",
   "execution_count": 11,
   "metadata": {},
   "outputs": [
    {
     "data": {
      "text/plain": [
       "'Query,Editing,Create,Update,Delete'"
      ]
     },
     "execution_count": 11,
     "metadata": {},
     "output_type": "execute_result"
    }
   ],
   "source": [
    "flc.properties.capabilities"
   ]
  },
  {
   "cell_type": "code",
   "execution_count": 12,
   "metadata": {},
   "outputs": [
    {
     "data": {
      "text/plain": [
       "{'success': True}"
      ]
     },
     "execution_count": 12,
     "metadata": {},
     "output_type": "execute_result"
    }
   ],
   "source": [
    "flc.manager.update_definition({'capabilities':\"Query\"})"
   ]
  },
  {
   "cell_type": "code",
   "execution_count": 13,
   "metadata": {},
   "outputs": [
    {
     "data": {
      "text/plain": [
       "'Query'"
      ]
     },
     "execution_count": 13,
     "metadata": {},
     "output_type": "execute_result"
    }
   ],
   "source": [
    "flc.properties.capabilities"
   ]
  },
  {
   "cell_type": "code",
   "execution_count": 14,
   "metadata": {},
   "outputs": [
    {
     "data": {
      "text/plain": [
       "{'success': True}"
      ]
     },
     "execution_count": 14,
     "metadata": {},
     "output_type": "execute_result"
    }
   ],
   "source": [
    "flc.manager.update_definition({'capabilities':\"Query,Editing,Create,Update,Delete\"})"
   ]
  },
  {
   "cell_type": "code",
   "execution_count": 15,
   "metadata": {},
   "outputs": [
    {
     "data": {
      "text/plain": [
       "'Query,Editing,Create,Update,Delete'"
      ]
     },
     "execution_count": 15,
     "metadata": {},
     "output_type": "execute_result"
    }
   ],
   "source": [
    "flc.properties.capabilities"
   ]
  }
 ],
 "metadata": {
  "kernelspec": {
   "display_name": "Python 3",
   "language": "python",
   "name": "python3"
  },
  "language_info": {
   "codemirror_mode": {
    "name": "ipython",
    "version": 3
   },
   "file_extension": ".py",
   "mimetype": "text/x-python",
   "name": "python",
   "nbconvert_exporter": "python",
   "pygments_lexer": "ipython3",
   "version": "3.6.5"
  }
 },
 "nbformat": 4,
 "nbformat_minor": 2
}
