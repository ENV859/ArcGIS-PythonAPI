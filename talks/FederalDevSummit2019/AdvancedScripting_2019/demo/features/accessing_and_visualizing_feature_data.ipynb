{
 "cells": [
  {
   "cell_type": "markdown",
   "metadata": {},
   "source": [
    "# Accessing, visualizing and editing feature data\n",
    "\n",
    " - from feature service with multiple layers\n",
    " - from feature collection items\n",
    " - from a map service with feature access enabled"
   ]
  },
  {
   "cell_type": "code",
   "execution_count": 1,
   "metadata": {},
   "outputs": [],
   "source": [
    "from arcgis.gis import GIS"
   ]
  },
  {
   "cell_type": "code",
   "execution_count": 2,
   "metadata": {},
   "outputs": [],
   "source": [
    "gis = GIS(profile='playfround_portal_admin')"
   ]
  },
  {
   "cell_type": "markdown",
   "metadata": {},
   "source": [
    "Search for a feature service titled 'fortune_500_styled_wfl'"
   ]
  },
  {
   "cell_type": "code",
   "execution_count": 20,
   "metadata": {},
   "outputs": [
    {
     "data": {
      "text/plain": [
       "[<Item title:\"fortune_500_styled_wfl\" type:Feature Layer Collection owner:andrew>]"
      ]
     },
     "execution_count": 20,
     "metadata": {},
     "output_type": "execute_result"
    }
   ],
   "source": [
    "search_result = gis.content.search('title:fortune_500_styled_wfl', 'Feature Layer')\n",
    "search_result"
   ]
  },
  {
   "cell_type": "code",
   "execution_count": 21,
   "metadata": {},
   "outputs": [
    {
     "data": {
      "text/html": [
       "<div class=\"item_container\" style=\"height: auto; overflow: hidden; border: 1px solid #cfcfcf; border-radius: 2px; background: #f6fafa; line-height: 1.21429em; padding: 10px;\">\n",
       "                    <div class=\"item_left\" style=\"width: 210px; float: left;\">\n",
       "                       <a href='https://python.playground.esri.com/portal/home/item.html?id=15ac38fceb784cf7afda468418e609b4' target='_blank'>\n",
       "                        <img src='data:image/png;base64,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' width='200' height='133' class=\"itemThumbnail\">\n",
       "                       </a>\n",
       "                    </div>\n",
       "\n",
       "                    <div class=\"item_right\"     style=\"float: none; width: auto; overflow: hidden;\">\n",
       "                        <a href='https://python.playground.esri.com/portal/home/item.html?id=15ac38fceb784cf7afda468418e609b4' target='_blank'><b>fortune_500_styled_wfl</b>\n",
       "                        </a>\n",
       "                        <br/>fortune 500<img src='https://python.playground.esri.com/portal/home/js/jsapi/esri/css/images/item_type_icons/featureshosted16.png' style=\"vertical-align:middle;\">Feature Layer Collection by andrew\n",
       "                        <br/>Last Modified: July 02, 2018\n",
       "                        <br/>0 comments, 0 views\n",
       "                    </div>\n",
       "                </div>\n",
       "                "
      ],
      "text/plain": [
       "<Item title:\"fortune_500_styled_wfl\" type:Feature Layer Collection owner:andrew>"
      ]
     },
     "execution_count": 21,
     "metadata": {},
     "output_type": "execute_result"
    }
   ],
   "source": [
    "fortune_fl_item = search_result[0]\n",
    "fortune_fl_item"
   ]
  },
  {
   "cell_type": "code",
   "execution_count": 5,
   "metadata": {},
   "outputs": [
    {
     "data": {
      "text/plain": [
       "'http://python.playground.esri.com/server/rest/services/Hosted/fortune_500_styled_880c700a3753428587848281777012f9/FeatureServer'"
      ]
     },
     "execution_count": 5,
     "metadata": {},
     "output_type": "execute_result"
    }
   ],
   "source": [
    "fortune_fl_item.url"
   ]
  },
  {
   "cell_type": "markdown",
   "metadata": {},
   "source": [
    "Notice that this item represents a **Feature Layer Collection**"
   ]
  },
  {
   "cell_type": "markdown",
   "metadata": {},
   "source": [
    "### Accessing a Feature Layer Collection\n",
    "A Feature Layer Collection is simply a collection of Feature Layer objects"
   ]
  },
  {
   "cell_type": "code",
   "execution_count": 22,
   "metadata": {},
   "outputs": [],
   "source": [
    "from arcgis.features import FeatureLayerCollection"
   ]
  },
  {
   "cell_type": "markdown",
   "metadata": {},
   "source": [
    "Notice the url ends with a `FeatureServer`. We can use this URL to instantiate a `FeatureLayerCollection` object."
   ]
  },
  {
   "cell_type": "code",
   "execution_count": 23,
   "metadata": {},
   "outputs": [
    {
     "data": {
      "text/plain": [
       "arcgis.features.layer.FeatureLayerCollection"
      ]
     },
     "execution_count": 23,
     "metadata": {},
     "output_type": "execute_result"
    }
   ],
   "source": [
    "flc = FeatureLayerCollection(fortune_fl_item.url, gis)\n",
    "type(flc)"
   ]
  },
  {
   "cell_type": "code",
   "execution_count": 8,
   "metadata": {},
   "outputs": [
    {
     "data": {
      "text/plain": [
       "[<FeatureLayer url:\"http://python.playground.esri.com/server/rest/services/Hosted/fortune_500_styled_880c700a3753428587848281777012f9/FeatureServer/0\">,\n",
       " <FeatureLayer url:\"http://python.playground.esri.com/server/rest/services/Hosted/fortune_500_styled_880c700a3753428587848281777012f9/FeatureServer/1\">,\n",
       " <FeatureLayer url:\"http://python.playground.esri.com/server/rest/services/Hosted/fortune_500_styled_880c700a3753428587848281777012f9/FeatureServer/2\">,\n",
       " <FeatureLayer url:\"http://python.playground.esri.com/server/rest/services/Hosted/fortune_500_styled_880c700a3753428587848281777012f9/FeatureServer/3\">]"
      ]
     },
     "execution_count": 8,
     "metadata": {},
     "output_type": "execute_result"
    }
   ],
   "source": [
    "flc.layers"
   ]
  },
  {
   "cell_type": "code",
   "execution_count": 24,
   "metadata": {},
   "outputs": [
    {
     "data": {
      "text/plain": [
       "arcgis.features.layer.FeatureLayer"
      ]
     },
     "execution_count": 24,
     "metadata": {},
     "output_type": "execute_result"
    }
   ],
   "source": [
    "flc_ly1 = flc.layers[0]\n",
    "type(flc_ly1)"
   ]
  },
  {
   "cell_type": "markdown",
   "metadata": {},
   "source": [
    "Thus `FeatureLayerCollection.layers` = `[FeatureLayer]` objects"
   ]
  },
  {
   "cell_type": "markdown",
   "metadata": {},
   "source": [
    "## Accessing a Feature Layer"
   ]
  },
  {
   "cell_type": "code",
   "execution_count": 25,
   "metadata": {},
   "outputs": [
    {
     "data": {
      "text/plain": [
       "arcgis.features.layer.FeatureLayer"
      ]
     },
     "execution_count": 25,
     "metadata": {},
     "output_type": "execute_result"
    }
   ],
   "source": [
    "fl_list = fortune_fl_item.layers\n",
    "type(fl_list[0])"
   ]
  },
  {
   "cell_type": "markdown",
   "metadata": {},
   "source": [
    "Thus FeatureLayer objects can be directly obtained from Item objects as well"
   ]
  },
  {
   "cell_type": "code",
   "execution_count": 26,
   "metadata": {},
   "outputs": [
    {
     "data": {
      "text/plain": [
       "[<FeatureLayer url:\"http://python.playground.esri.com/server/rest/services/Hosted/fortune_500_styled_880c700a3753428587848281777012f9/FeatureServer/0\">,\n",
       " <FeatureLayer url:\"http://python.playground.esri.com/server/rest/services/Hosted/fortune_500_styled_880c700a3753428587848281777012f9/FeatureServer/1\">,\n",
       " <FeatureLayer url:\"http://python.playground.esri.com/server/rest/services/Hosted/fortune_500_styled_880c700a3753428587848281777012f9/FeatureServer/2\">,\n",
       " <FeatureLayer url:\"http://python.playground.esri.com/server/rest/services/Hosted/fortune_500_styled_880c700a3753428587848281777012f9/FeatureServer/3\">]"
      ]
     },
     "execution_count": 26,
     "metadata": {},
     "output_type": "execute_result"
    }
   ],
   "source": [
    "fl_list"
   ]
  },
  {
   "cell_type": "code",
   "execution_count": null,
   "metadata": {},
   "outputs": [],
   "source": [
    "for layer in fl_list:\n",
    "    print(layer.properties.name)"
   ]
  },
  {
   "cell_type": "code",
   "execution_count": 28,
   "metadata": {},
   "outputs": [
    {
     "data": {
      "text/plain": [
       "{\n",
       "  \"currentVersion\": 10.5,\n",
       "  \"id\": 3,\n",
       "  \"name\": \"Counties\",\n",
       "  \"type\": \"Feature Layer\",\n",
       "  \"serviceItemId\": \"58750386d8814bd590e3a9f2b6850da9\",\n",
       "  \"displayField\": \"name\",\n",
       "  \"description\": \"\",\n",
       "  \"copyrightText\": \"\",\n",
       "  \"defaultVisibility\": true,\n",
       "  \"editingInfo\": {\n",
       "    \"lastEditDate\": 1507043492865\n",
       "  },\n",
       "  \"relationships\": null,\n",
       "  \"isDataVersioned\": false,\n",
       "  \"supportsAppend\": true,\n",
       "  \"supportsCalculate\": true,\n",
       "  \"supportsTruncate\": false,\n",
       "  \"supportsAttachmentsByUploadId\": false,\n",
       "  \"supportsAttachmentsResizing\": true,\n",
       "  \"supportsRollbackOnFailureParameter\": true,\n",
       "  \"supportsStatistics\": true,\n",
       "  \"supportsAdvancedQueries\": true,\n",
       "  \"supportsValidateSql\": true,\n",
       "  \"supportsCoordinatesQuantization\": false,\n",
       "  \"supportsApplyEditsWithGlobalIds\": false,\n",
       "  \"supportsMultiScaleGeometry\": true,\n",
       "  \"hasGeometryProperties\": true,\n",
       "  \"geometryProperties\": {\n",
       "    \"shapeAreaFieldName\": \"Shape__Area\",\n",
       "    \"shapeLengthFieldName\": \"Shape__Length\",\n",
       "    \"units\": \"esriMeters\"\n",
       "  },\n",
       "  \"advancedQueryCapabilities\": {\n",
       "    \"supportsReturningQueryExtent\": true,\n",
       "    \"supportsStatistics\": true,\n",
       "    \"supportsDistinct\": true,\n",
       "    \"supportsPagination\": true,\n",
       "    \"supportsOrderBy\": true,\n",
       "    \"supportsQueryWithDistance\": true,\n",
       "    \"supportsLod\": false,\n",
       "    \"supportsPaginationOnAggregatedQueries\": true\n",
       "  },\n",
       "  \"useStandardizedQueries\": true,\n",
       "  \"geometryType\": \"esriGeometryPolygon\",\n",
       "  \"minScale\": 73957191,\n",
       "  \"maxScale\": 36111,\n",
       "  \"extent\": {\n",
       "    \"xmin\": -11035466.292279908,\n",
       "    \"ymin\": 3120385.1741954507,\n",
       "    \"xmax\": -7934543.423767514,\n",
       "    \"ymax\": 6184266.301957696,\n",
       "    \"spatialReference\": {\n",
       "      \"wkid\": 102100,\n",
       "      \"latestWkid\": 3857\n",
       "    }\n",
       "  },\n",
       "  \"drawingInfo\": {\n",
       "    \"renderer\": {\n",
       "      \"type\": \"classBreaks\",\n",
       "      \"field\": \"medianrent\",\n",
       "      \"classificationMethod\": \"esriClassifyNaturalBreaks\",\n",
       "      \"minValue\": 99,\n",
       "      \"classBreakInfos\": [\n",
       "        {\n",
       "          \"symbol\": {\n",
       "            \"type\": \"esriSFS\",\n",
       "            \"style\": \"esriSFSSolid\",\n",
       "            \"color\": [\n",
       "              255,\n",
       "              255,\n",
       "              128,\n",
       "              255\n",
       "            ],\n",
       "            \"outline\": {\n",
       "              \"type\": \"esriSLS\",\n",
       "              \"style\": \"esriSLSSolid\",\n",
       "              \"color\": [\n",
       "                0,\n",
       "                0,\n",
       "                0,\n",
       "                0\n",
       "              ],\n",
       "              \"width\": 0.4\n",
       "            }\n",
       "          },\n",
       "          \"classMaxValue\": 188,\n",
       "          \"label\": \"99 - 188\",\n",
       "          \"description\": \"\"\n",
       "        },\n",
       "        {\n",
       "          \"symbol\": {\n",
       "            \"type\": \"esriSFS\",\n",
       "            \"style\": \"esriSFSSolid\",\n",
       "            \"color\": [\n",
       "              250,\n",
       "              209,\n",
       "              85,\n",
       "              255\n",
       "            ],\n",
       "            \"outline\": {\n",
       "              \"type\": \"esriSLS\",\n",
       "              \"style\": \"esriSLSSolid\",\n",
       "              \"color\": [\n",
       "                0,\n",
       "                0,\n",
       "                0,\n",
       "                0\n",
       "              ],\n",
       "              \"width\": 0.4\n",
       "            }\n",
       "          },\n",
       "          \"classMaxValue\": 261,\n",
       "          \"label\": \"189 - 261\",\n",
       "          \"description\": \"\"\n",
       "        },\n",
       "        {\n",
       "          \"symbol\": {\n",
       "            \"type\": \"esriSFS\",\n",
       "            \"style\": \"esriSFSSolid\",\n",
       "            \"color\": [\n",
       "              242,\n",
       "              167,\n",
       "              46,\n",
       "              255\n",
       "            ],\n",
       "            \"outline\": {\n",
       "              \"type\": \"esriSLS\",\n",
       "              \"style\": \"esriSLSSolid\",\n",
       "              \"color\": [\n",
       "                0,\n",
       "                0,\n",
       "                0,\n",
       "                0\n",
       "              ],\n",
       "              \"width\": 0.4\n",
       "            }\n",
       "          },\n",
       "          \"classMaxValue\": 361,\n",
       "          \"label\": \"262 - 361\",\n",
       "          \"description\": \"\"\n",
       "        },\n",
       "        {\n",
       "          \"symbol\": {\n",
       "            \"type\": \"esriSFS\",\n",
       "            \"style\": \"esriSFSSolid\",\n",
       "            \"color\": [\n",
       "              173,\n",
       "              83,\n",
       "              19,\n",
       "              255\n",
       "            ],\n",
       "            \"outline\": {\n",
       "              \"type\": \"esriSLS\",\n",
       "              \"style\": \"esriSLSSolid\",\n",
       "              \"color\": [\n",
       "                0,\n",
       "                0,\n",
       "                0,\n",
       "                0\n",
       "              ],\n",
       "              \"width\": 0.4\n",
       "            }\n",
       "          },\n",
       "          \"classMaxValue\": 507,\n",
       "          \"label\": \"362 - 507\",\n",
       "          \"description\": \"\"\n",
       "        },\n",
       "        {\n",
       "          \"symbol\": {\n",
       "            \"type\": \"esriSFS\",\n",
       "            \"style\": \"esriSFSSolid\",\n",
       "            \"color\": [\n",
       "              107,\n",
       "              0,\n",
       "              0,\n",
       "              255\n",
       "            ],\n",
       "            \"outline\": {\n",
       "              \"type\": \"esriSLS\",\n",
       "              \"style\": \"esriSLSSolid\",\n",
       "              \"color\": [\n",
       "                0,\n",
       "                0,\n",
       "                0,\n",
       "                0\n",
       "              ],\n",
       "              \"width\": 0.4\n",
       "            }\n",
       "          },\n",
       "          \"classMaxValue\": 769,\n",
       "          \"label\": \"508 - 769\",\n",
       "          \"description\": \"\"\n",
       "        }\n",
       "      ]\n",
       "    },\n",
       "    \"transparency\": 0,\n",
       "    \"labelingInfo\": null\n",
       "  },\n",
       "  \"allowGeometryUpdates\": true,\n",
       "  \"hasAttachments\": false,\n",
       "  \"htmlPopupType\": \"esriServerHTMLPopupTypeAsHTMLText\",\n",
       "  \"hasM\": false,\n",
       "  \"hasZ\": false,\n",
       "  \"objectIdField\": \"objectid\",\n",
       "  \"uniqueIdField\": {\n",
       "    \"name\": \"OBJECTID\",\n",
       "    \"isSystemMaintained\": true\n",
       "  },\n",
       "  \"globalIdField\": \"globalid\",\n",
       "  \"typeIdField\": \"\",\n",
       "  \"fields\": [\n",
       "    {\n",
       "      \"name\": \"objectid\",\n",
       "      \"type\": \"esriFieldTypeOID\",\n",
       "      \"alias\": \"OBJECTID\",\n",
       "      \"nullable\": false,\n",
       "      \"editable\": false,\n",
       "      \"domain\": null\n",
       "    },\n",
       "    {\n",
       "      \"name\": \"name\",\n",
       "      \"type\": \"esriFieldTypeString\",\n",
       "      \"alias\": \"NAME\",\n",
       "      \"length\": 32,\n",
       "      \"nullable\": true,\n",
       "      \"editable\": true,\n",
       "      \"domain\": null\n",
       "    },\n",
       "    {\n",
       "      \"name\": \"state_name\",\n",
       "      \"type\": \"esriFieldTypeString\",\n",
       "      \"alias\": \"STATE_NAME\",\n",
       "      \"length\": 25,\n",
       "      \"nullable\": true,\n",
       "      \"editable\": true,\n",
       "      \"domain\": null\n",
       "    },\n",
       "    {\n",
       "      \"name\": \"state_fips\",\n",
       "      \"type\": \"esriFieldTypeString\",\n",
       "      \"alias\": \"STATE_FIPS\",\n",
       "      \"length\": 2,\n",
       "      \"nullable\": true,\n",
       "      \"editable\": true,\n",
       "      \"domain\": null\n",
       "    },\n",
       "    {\n",
       "      \"name\": \"cnty_fips\",\n",
       "      \"type\": \"esriFieldTypeString\",\n",
       "      \"alias\": \"CNTY_FIPS\",\n",
       "      \"length\": 3,\n",
       "      \"nullable\": true,\n",
       "      \"editable\": true,\n",
       "      \"domain\": null\n",
       "    },\n",
       "    {\n",
       "      \"name\": \"fips\",\n",
       "      \"type\": \"esriFieldTypeString\",\n",
       "      \"alias\": \"FIPS\",\n",
       "      \"length\": 5,\n",
       "      \"nullable\": true,\n",
       "      \"editable\": true,\n",
       "      \"domain\": null\n",
       "    },\n",
       "    {\n",
       "      \"name\": \"area0\",\n",
       "      \"type\": \"esriFieldTypeDouble\",\n",
       "      \"alias\": \"AREA\",\n",
       "      \"nullable\": true,\n",
       "      \"editable\": true,\n",
       "      \"domain\": null\n",
       "    },\n",
       "    {\n",
       "      \"name\": \"pop1990\",\n",
       "      \"type\": \"esriFieldTypeDouble\",\n",
       "      \"alias\": \"POP1990\",\n",
       "      \"nullable\": true,\n",
       "      \"editable\": true,\n",
       "      \"domain\": null\n",
       "    },\n",
       "    {\n",
       "      \"name\": \"pop1999\",\n",
       "      \"type\": \"esriFieldTypeDouble\",\n",
       "      \"alias\": \"POP1999\",\n",
       "      \"nullable\": true,\n",
       "      \"editable\": true,\n",
       "      \"domain\": null\n",
       "    },\n",
       "    {\n",
       "      \"name\": \"pop90_sqmi\",\n",
       "      \"type\": \"esriFieldTypeInteger\",\n",
       "      \"alias\": \"POP90_SQMI\",\n",
       "      \"nullable\": true,\n",
       "      \"editable\": true,\n",
       "      \"domain\": null\n",
       "    },\n",
       "    {\n",
       "      \"name\": \"households\",\n",
       "      \"type\": \"esriFieldTypeInteger\",\n",
       "      \"alias\": \"HOUSEHOLDS\",\n",
       "      \"nullable\": true,\n",
       "      \"editable\": true,\n",
       "      \"domain\": null\n",
       "    },\n",
       "    {\n",
       "      \"name\": \"males\",\n",
       "      \"type\": \"esriFieldTypeInteger\",\n",
       "      \"alias\": \"MALES\",\n",
       "      \"nullable\": true,\n",
       "      \"editable\": true,\n",
       "      \"domain\": null\n",
       "    },\n",
       "    {\n",
       "      \"name\": \"females\",\n",
       "      \"type\": \"esriFieldTypeInteger\",\n",
       "      \"alias\": \"FEMALES\",\n",
       "      \"nullable\": true,\n",
       "      \"editable\": true,\n",
       "      \"domain\": null\n",
       "    },\n",
       "    {\n",
       "      \"name\": \"white\",\n",
       "      \"type\": \"esriFieldTypeInteger\",\n",
       "      \"alias\": \"WHITE\",\n",
       "      \"nullable\": true,\n",
       "      \"editable\": true,\n",
       "      \"domain\": null\n",
       "    },\n",
       "    {\n",
       "      \"name\": \"black\",\n",
       "      \"type\": \"esriFieldTypeInteger\",\n",
       "      \"alias\": \"BLACK\",\n",
       "      \"nullable\": true,\n",
       "      \"editable\": true,\n",
       "      \"domain\": null\n",
       "    },\n",
       "    {\n",
       "      \"name\": \"ameri_es\",\n",
       "      \"type\": \"esriFieldTypeInteger\",\n",
       "      \"alias\": \"AMERI_ES\",\n",
       "      \"nullable\": true,\n",
       "      \"editable\": true,\n",
       "      \"domain\": null\n",
       "    },\n",
       "    {\n",
       "      \"name\": \"asian_pi\",\n",
       "      \"type\": \"esriFieldTypeInteger\",\n",
       "      \"alias\": \"ASIAN_PI\",\n",
       "      \"nullable\": true,\n",
       "      \"editable\": true,\n",
       "      \"domain\": null\n",
       "    },\n",
       "    {\n",
       "      \"name\": \"other\",\n",
       "      \"type\": \"esriFieldTypeInteger\",\n",
       "      \"alias\": \"OTHER\",\n",
       "      \"nullable\": true,\n",
       "      \"editable\": true,\n",
       "      \"domain\": null\n",
       "    },\n",
       "    {\n",
       "      \"name\": \"hispanic\",\n",
       "      \"type\": \"esriFieldTypeInteger\",\n",
       "      \"alias\": \"HISPANIC\",\n",
       "      \"nullable\": true,\n",
       "      \"editable\": true,\n",
       "      \"domain\": null\n",
       "    },\n",
       "    {\n",
       "      \"name\": \"age_under5\",\n",
       "      \"type\": \"esriFieldTypeInteger\",\n",
       "      \"alias\": \"AGE_UNDER5\",\n",
       "      \"nullable\": true,\n",
       "      \"editable\": true,\n",
       "      \"domain\": null\n",
       "    },\n",
       "    {\n",
       "      \"name\": \"age_5_17\",\n",
       "      \"type\": \"esriFieldTypeInteger\",\n",
       "      \"alias\": \"AGE_5_17\",\n",
       "      \"nullable\": true,\n",
       "      \"editable\": true,\n",
       "      \"domain\": null\n",
       "    },\n",
       "    {\n",
       "      \"name\": \"age_18_29\",\n",
       "      \"type\": \"esriFieldTypeInteger\",\n",
       "      \"alias\": \"AGE_18_29\",\n",
       "      \"nullable\": true,\n",
       "      \"editable\": true,\n",
       "      \"domain\": null\n",
       "    },\n",
       "    {\n",
       "      \"name\": \"age_30_49\",\n",
       "      \"type\": \"esriFieldTypeInteger\",\n",
       "      \"alias\": \"AGE_30_49\",\n",
       "      \"nullable\": true,\n",
       "      \"editable\": true,\n",
       "      \"domain\": null\n",
       "    },\n",
       "    {\n",
       "      \"name\": \"age_50_64\",\n",
       "      \"type\": \"esriFieldTypeInteger\",\n",
       "      \"alias\": \"AGE_50_64\",\n",
       "      \"nullable\": true,\n",
       "      \"editable\": true,\n",
       "      \"domain\": null\n",
       "    },\n",
       "    {\n",
       "      \"name\": \"age_65_up\",\n",
       "      \"type\": \"esriFieldTypeInteger\",\n",
       "      \"alias\": \"AGE_65_UP\",\n",
       "      \"nullable\": true,\n",
       "      \"editable\": true,\n",
       "      \"domain\": null\n",
       "    },\n",
       "    {\n",
       "      \"name\": \"nevermarry\",\n",
       "      \"type\": \"esriFieldTypeInteger\",\n",
       "      \"alias\": \"NEVERMARRY\",\n",
       "      \"nullable\": true,\n",
       "      \"editable\": true,\n",
       "      \"domain\": null\n",
       "    },\n",
       "    {\n",
       "      \"name\": \"married\",\n",
       "      \"type\": \"esriFieldTypeInteger\",\n",
       "      \"alias\": \"MARRIED\",\n",
       "      \"nullable\": true,\n",
       "      \"editable\": true,\n",
       "      \"domain\": null\n",
       "    },\n",
       "    {\n",
       "      \"name\": \"separated\",\n",
       "      \"type\": \"esriFieldTypeInteger\",\n",
       "      \"alias\": \"SEPARATED\",\n",
       "      \"nullable\": true,\n",
       "      \"editable\": true,\n",
       "      \"domain\": null\n",
       "    },\n",
       "    {\n",
       "      \"name\": \"widowed\",\n",
       "      \"type\": \"esriFieldTypeInteger\",\n",
       "      \"alias\": \"WIDOWED\",\n",
       "      \"nullable\": true,\n",
       "      \"editable\": true,\n",
       "      \"domain\": null\n",
       "    },\n",
       "    {\n",
       "      \"name\": \"divorced\",\n",
       "      \"type\": \"esriFieldTypeInteger\",\n",
       "      \"alias\": \"DIVORCED\",\n",
       "      \"nullable\": true,\n",
       "      \"editable\": true,\n",
       "      \"domain\": null\n",
       "    },\n",
       "    {\n",
       "      \"name\": \"hsehld_1_m\",\n",
       "      \"type\": \"esriFieldTypeInteger\",\n",
       "      \"alias\": \"HSEHLD_1_M\",\n",
       "      \"nullable\": true,\n",
       "      \"editable\": true,\n",
       "      \"domain\": null\n",
       "    },\n",
       "    {\n",
       "      \"name\": \"hsehld_1_f\",\n",
       "      \"type\": \"esriFieldTypeInteger\",\n",
       "      \"alias\": \"HSEHLD_1_F\",\n",
       "      \"nullable\": true,\n",
       "      \"editable\": true,\n",
       "      \"domain\": null\n",
       "    },\n",
       "    {\n",
       "      \"name\": \"marhh_chd\",\n",
       "      \"type\": \"esriFieldTypeInteger\",\n",
       "      \"alias\": \"MARHH_CHD\",\n",
       "      \"nullable\": true,\n",
       "      \"editable\": true,\n",
       "      \"domain\": null\n",
       "    },\n",
       "    {\n",
       "      \"name\": \"marhh_no_c\",\n",
       "      \"type\": \"esriFieldTypeInteger\",\n",
       "      \"alias\": \"MARHH_NO_C\",\n",
       "      \"nullable\": true,\n",
       "      \"editable\": true,\n",
       "      \"domain\": null\n",
       "    },\n",
       "    {\n",
       "      \"name\": \"mhh_child\",\n",
       "      \"type\": \"esriFieldTypeInteger\",\n",
       "      \"alias\": \"MHH_CHILD\",\n",
       "      \"nullable\": true,\n",
       "      \"editable\": true,\n",
       "      \"domain\": null\n",
       "    },\n",
       "    {\n",
       "      \"name\": \"fhh_child\",\n",
       "      \"type\": \"esriFieldTypeInteger\",\n",
       "      \"alias\": \"FHH_CHILD\",\n",
       "      \"nullable\": true,\n",
       "      \"editable\": true,\n",
       "      \"domain\": null\n",
       "    },\n",
       "    {\n",
       "      \"name\": \"hse_units\",\n",
       "      \"type\": \"esriFieldTypeInteger\",\n",
       "      \"alias\": \"HSE_UNITS\",\n",
       "      \"nullable\": true,\n",
       "      \"editable\": true,\n",
       "      \"domain\": null\n",
       "    },\n",
       "    {\n",
       "      \"name\": \"vacant\",\n",
       "      \"type\": \"esriFieldTypeInteger\",\n",
       "      \"alias\": \"VACANT\",\n",
       "      \"nullable\": true,\n",
       "      \"editable\": true,\n",
       "      \"domain\": null\n",
       "    },\n",
       "    {\n",
       "      \"name\": \"owner_occ\",\n",
       "      \"type\": \"esriFieldTypeInteger\",\n",
       "      \"alias\": \"OWNER_OCC\",\n",
       "      \"nullable\": true,\n",
       "      \"editable\": true,\n",
       "      \"domain\": null\n",
       "    },\n",
       "    {\n",
       "      \"name\": \"renter_occ\",\n",
       "      \"type\": \"esriFieldTypeInteger\",\n",
       "      \"alias\": \"RENTER_OCC\",\n",
       "      \"nullable\": true,\n",
       "      \"editable\": true,\n",
       "      \"domain\": null\n",
       "    },\n",
       "    {\n",
       "      \"name\": \"median_val\",\n",
       "      \"type\": \"esriFieldTypeInteger\",\n",
       "      \"alias\": \"MEDIAN_VAL\",\n",
       "      \"nullable\": true,\n",
       "      \"editable\": true,\n",
       "      \"domain\": null\n",
       "    },\n",
       "    {\n",
       "      \"name\": \"medianrent\",\n",
       "      \"type\": \"esriFieldTypeSmallInteger\",\n",
       "      \"alias\": \"MEDIANRENT\",\n",
       "      \"nullable\": true,\n",
       "      \"editable\": true,\n",
       "      \"domain\": null\n",
       "    },\n",
       "    {\n",
       "      \"name\": \"units_1det\",\n",
       "      \"type\": \"esriFieldTypeInteger\",\n",
       "      \"alias\": \"UNITS_1DET\",\n",
       "      \"nullable\": true,\n",
       "      \"editable\": true,\n",
       "      \"domain\": null\n",
       "    },\n",
       "    {\n",
       "      \"name\": \"units_1att\",\n",
       "      \"type\": \"esriFieldTypeInteger\",\n",
       "      \"alias\": \"UNITS_1ATT\",\n",
       "      \"nullable\": true,\n",
       "      \"editable\": true,\n",
       "      \"domain\": null\n",
       "    },\n",
       "    {\n",
       "      \"name\": \"units2\",\n",
       "      \"type\": \"esriFieldTypeInteger\",\n",
       "      \"alias\": \"UNITS2\",\n",
       "      \"nullable\": true,\n",
       "      \"editable\": true,\n",
       "      \"domain\": null\n",
       "    },\n",
       "    {\n",
       "      \"name\": \"units3_9\",\n",
       "      \"type\": \"esriFieldTypeInteger\",\n",
       "      \"alias\": \"UNITS3_9\",\n",
       "      \"nullable\": true,\n",
       "      \"editable\": true,\n",
       "      \"domain\": null\n",
       "    },\n",
       "    {\n",
       "      \"name\": \"units10_49\",\n",
       "      \"type\": \"esriFieldTypeInteger\",\n",
       "      \"alias\": \"UNITS10_49\",\n",
       "      \"nullable\": true,\n",
       "      \"editable\": true,\n",
       "      \"domain\": null\n",
       "    },\n",
       "    {\n",
       "      \"name\": \"units50_up\",\n",
       "      \"type\": \"esriFieldTypeInteger\",\n",
       "      \"alias\": \"UNITS50_UP\",\n",
       "      \"nullable\": true,\n",
       "      \"editable\": true,\n",
       "      \"domain\": null\n",
       "    },\n",
       "    {\n",
       "      \"name\": \"mobilehome\",\n",
       "      \"type\": \"esriFieldTypeInteger\",\n",
       "      \"alias\": \"MOBILEHOME\",\n",
       "      \"nullable\": true,\n",
       "      \"editable\": true,\n",
       "      \"domain\": null\n",
       "    },\n",
       "    {\n",
       "      \"name\": \"no_farms87\",\n",
       "      \"type\": \"esriFieldTypeInteger\",\n",
       "      \"alias\": \"NO_FARMS87\",\n",
       "      \"nullable\": true,\n",
       "      \"editable\": true,\n",
       "      \"domain\": null\n",
       "    },\n",
       "    {\n",
       "      \"name\": \"avg_size87\",\n",
       "      \"type\": \"esriFieldTypeInteger\",\n",
       "      \"alias\": \"AVG_SIZE87\",\n",
       "      \"nullable\": true,\n",
       "      \"editable\": true,\n",
       "      \"domain\": null\n",
       "    },\n",
       "    {\n",
       "      \"name\": \"crop_acr87\",\n",
       "      \"type\": \"esriFieldTypeInteger\",\n",
       "      \"alias\": \"CROP_ACR87\",\n",
       "      \"nullable\": true,\n",
       "      \"editable\": true,\n",
       "      \"domain\": null\n",
       "    },\n",
       "    {\n",
       "      \"name\": \"avg_sale87\",\n",
       "      \"type\": \"esriFieldTypeInteger\",\n",
       "      \"alias\": \"AVG_SALE87\",\n",
       "      \"nullable\": true,\n",
       "      \"editable\": true,\n",
       "      \"domain\": null\n",
       "    },\n",
       "    {\n",
       "      \"name\": \"shape_leng\",\n",
       "      \"type\": \"esriFieldTypeDouble\",\n",
       "      \"alias\": \"Shape_Leng\",\n",
       "      \"nullable\": true,\n",
       "      \"editable\": true,\n",
       "      \"domain\": null\n",
       "    },\n",
       "    {\n",
       "      \"name\": \"shape__area\",\n",
       "      \"type\": \"esriFieldTypeDouble\",\n",
       "      \"alias\": \"Shape__Area\",\n",
       "      \"nullable\": true,\n",
       "      \"editable\": false,\n",
       "      \"domain\": null\n",
       "    },\n",
       "    {\n",
       "      \"name\": \"shape__length\",\n",
       "      \"type\": \"esriFieldTypeDouble\",\n",
       "      \"alias\": \"Shape__Length\",\n",
       "      \"nullable\": true,\n",
       "      \"editable\": false,\n",
       "      \"domain\": null\n",
       "    },\n",
       "    {\n",
       "      \"name\": \"globalid\",\n",
       "      \"type\": \"esriFieldTypeGlobalID\",\n",
       "      \"alias\": \"GlobalID\",\n",
       "      \"length\": 38,\n",
       "      \"nullable\": false,\n",
       "      \"editable\": false,\n",
       "      \"domain\": null\n",
       "    }\n",
       "  ],\n",
       "  \"indexes\": [\n",
       "    {\n",
       "      \"name\": \"FDO_OBJECTID\",\n",
       "      \"fields\": \"OBJECTID\",\n",
       "      \"isAscending\": true,\n",
       "      \"isUnique\": true,\n",
       "      \"description\": \"\"\n",
       "    },\n",
       "    {\n",
       "      \"name\": \"I3STATE_NAME\",\n",
       "      \"fields\": \"STATE_NAME\",\n",
       "      \"isAscending\": true,\n",
       "      \"isUnique\": false,\n",
       "      \"description\": \"\"\n",
       "    },\n",
       "    {\n",
       "      \"name\": \"Shape__Area_Index\",\n",
       "      \"fields\": \"Shape__Area\",\n",
       "      \"isAscending\": true,\n",
       "      \"isUnique\": false,\n",
       "      \"description\": \"\"\n",
       "    },\n",
       "    {\n",
       "      \"name\": \"Shape__Length_Index\",\n",
       "      \"fields\": \"Shape__Length\",\n",
       "      \"isAscending\": true,\n",
       "      \"isUnique\": false,\n",
       "      \"description\": \"\"\n",
       "    },\n",
       "    {\n",
       "      \"name\": \"GlobalID_Index\",\n",
       "      \"fields\": \"GlobalID\",\n",
       "      \"isAscending\": false,\n",
       "      \"isUnique\": true,\n",
       "      \"description\": \"\"\n",
       "    }\n",
       "  ],\n",
       "  \"types\": [],\n",
       "  \"templates\": [\n",
       "    {\n",
       "      \"name\": \"Counties\",\n",
       "      \"description\": \"\",\n",
       "      \"drawingTool\": \"esriFeatureEditToolPolygon\",\n",
       "      \"prototype\": {\n",
       "        \"attributes\": {\n",
       "          \"AREA0\": null,\n",
       "          \"avg_sale87\": null,\n",
       "          \"shape_leng\": null,\n",
       "          \"name\": null,\n",
       "          \"state_name\": null,\n",
       "          \"state_fips\": null,\n",
       "          \"cnty_fips\": null,\n",
       "          \"fips\": null,\n",
       "          \"pop1990\": null,\n",
       "          \"pop1999\": null,\n",
       "          \"pop90_sqmi\": null,\n",
       "          \"households\": null,\n",
       "          \"males\": null,\n",
       "          \"females\": null,\n",
       "          \"white\": null,\n",
       "          \"black\": null,\n",
       "          \"ameri_es\": null,\n",
       "          \"asian_pi\": null,\n",
       "          \"other\": null,\n",
       "          \"hispanic\": null,\n",
       "          \"age_under5\": null,\n",
       "          \"age_5_17\": null,\n",
       "          \"age_18_29\": null,\n",
       "          \"age_30_49\": null,\n",
       "          \"age_50_64\": null,\n",
       "          \"age_65_up\": null,\n",
       "          \"nevermarry\": null,\n",
       "          \"married\": null,\n",
       "          \"separated\": null,\n",
       "          \"widowed\": null,\n",
       "          \"divorced\": null,\n",
       "          \"hsehld_1_m\": null,\n",
       "          \"hsehld_1_f\": null,\n",
       "          \"marhh_chd\": null,\n",
       "          \"marhh_no_c\": null,\n",
       "          \"mhh_child\": null,\n",
       "          \"fhh_child\": null,\n",
       "          \"hse_units\": null,\n",
       "          \"vacant\": null,\n",
       "          \"owner_occ\": null,\n",
       "          \"renter_occ\": null,\n",
       "          \"median_val\": null,\n",
       "          \"medianrent\": null,\n",
       "          \"units_1det\": null,\n",
       "          \"units_1att\": null,\n",
       "          \"units2\": null,\n",
       "          \"units3_9\": null,\n",
       "          \"units10_49\": null,\n",
       "          \"units50_up\": null,\n",
       "          \"mobilehome\": null,\n",
       "          \"no_farms87\": null,\n",
       "          \"avg_size87\": null,\n",
       "          \"crop_acr87\": null\n",
       "        }\n",
       "      }\n",
       "    }\n",
       "  ],\n",
       "  \"supportedQueryFormats\": \"JSON, geoJSON\",\n",
       "  \"hasStaticData\": false,\n",
       "  \"maxRecordCount\": 1000,\n",
       "  \"standardMaxRecordCount\": 4000,\n",
       "  \"tileMaxRecordCount\": 4000,\n",
       "  \"maxRecordCountFactor\": 1,\n",
       "  \"capabilities\": \"Create,Editing,Query,Update,Uploads,Delete,Extract\",\n",
       "  \"editFieldsInfo\": null,\n",
       "  \"allowUpdateWithoutMValues\": true,\n",
       "  \"syncCanReturnChanges\": true,\n",
       "  \"supportsValidateSQL\": true\n",
       "}"
      ]
     },
     "execution_count": 28,
     "metadata": {},
     "output_type": "execute_result"
    }
   ],
   "source": [
    "layer.properties"
   ]
  },
  {
   "cell_type": "code",
   "execution_count": 29,
   "metadata": {},
   "outputs": [],
   "source": [
    "cities_million_pop = fl_list[0]"
   ]
  },
  {
   "cell_type": "code",
   "execution_count": 30,
   "metadata": {},
   "outputs": [
    {
     "data": {
      "text/plain": [
       "{\n",
       "  \"xmin\": -11035466.292279908,\n",
       "  \"ymin\": 3120385.1741954507,\n",
       "  \"xmax\": -7934543.423767514,\n",
       "  \"ymax\": 6184266.301957696,\n",
       "  \"spatialReference\": {\n",
       "    \"wkid\": 102100,\n",
       "    \"latestWkid\": 3857\n",
       "  }\n",
       "}"
      ]
     },
     "execution_count": 30,
     "metadata": {},
     "output_type": "execute_result"
    }
   ],
   "source": [
    "cities_million_pop.properties.extent"
   ]
  },
  {
   "cell_type": "code",
   "execution_count": 31,
   "metadata": {},
   "outputs": [
    {
     "data": {
      "application/vnd.jupyter.widget-view+json": {
       "model_id": "1f7c2658ac6f45c58ae8bc98233ba5bc",
       "version_major": 2,
       "version_minor": 0
      },
      "text/plain": [
       "MapView(layout=Layout(height='400px', width='100%'), zoom=7.0)"
      ]
     },
     "metadata": {},
     "output_type": "display_data"
    },
    {
     "data": {
      "text/html": [
       "<div class=\"map-static-img-preview-f3c5f8d2-e1e6-462a-8e83-f38dec8ae8ad\"><img src=\"\"></img></div>"
      ],
      "text/plain": [
       "<IPython.core.display.HTML object>"
      ]
     },
     "metadata": {},
     "output_type": "display_data"
    }
   ],
   "source": [
    "map1 = gis.map('Philadelphia, PA', zoomlevel=7)\n",
    "map1"
   ]
  },
  {
   "cell_type": "code",
   "execution_count": 32,
   "metadata": {},
   "outputs": [],
   "source": [
    "map1.add_layer(cities_million_pop, {\"renderer\":\"ClassedSizeRenderer\", \"field_name\": \"pop\"})"
   ]
  },
  {
   "cell_type": "markdown",
   "metadata": {},
   "source": [
    "You can visualize `FeatureLayer` objects on the map widget"
   ]
  },
  {
   "cell_type": "markdown",
   "metadata": {},
   "source": [
    "## Accessing FeatureSet objects\n",
    "Let us query the FeatureLayer objected created above to get a `FeatureSet` in return"
   ]
  },
  {
   "cell_type": "markdown",
   "metadata": {},
   "source": [
    "Let us write an empty query so we can get all the features"
   ]
  },
  {
   "cell_type": "code",
   "execution_count": 33,
   "metadata": {},
   "outputs": [
    {
     "data": {
      "text/plain": [
       "arcgis.features.feature.FeatureSet"
      ]
     },
     "execution_count": 33,
     "metadata": {},
     "output_type": "execute_result"
    }
   ],
   "source": [
    "cities_mil_fset = cities_million_pop.query()\n",
    "type(cities_mil_fset)"
   ]
  },
  {
   "cell_type": "code",
   "execution_count": 34,
   "metadata": {},
   "outputs": [
    {
     "data": {
      "text/plain": [
       "'esriGeometryPoint'"
      ]
     },
     "execution_count": 34,
     "metadata": {},
     "output_type": "execute_result"
    }
   ],
   "source": [
    "cities_mil_fset.geometry_type"
   ]
  },
  {
   "cell_type": "code",
   "execution_count": 35,
   "metadata": {},
   "outputs": [
    {
     "data": {
      "text/plain": [
       "{'wkid': 102100, 'latestWkid': 3857}"
      ]
     },
     "execution_count": 35,
     "metadata": {},
     "output_type": "execute_result"
    }
   ],
   "source": [
    "cities_mil_fset.spatial_reference"
   ]
  },
  {
   "cell_type": "code",
   "execution_count": 36,
   "metadata": {},
   "outputs": [
    {
     "data": {
      "text/html": [
       "<div>\n",
       "<style scoped>\n",
       "    .dataframe tbody tr th:only-of-type {\n",
       "        vertical-align: middle;\n",
       "    }\n",
       "\n",
       "    .dataframe tbody tr th {\n",
       "        vertical-align: top;\n",
       "    }\n",
       "\n",
       "    .dataframe thead th {\n",
       "        text-align: right;\n",
       "    }\n",
       "</style>\n",
       "<table border=\"1\" class=\"dataframe\">\n",
       "  <thead>\n",
       "    <tr style=\"text-align: right;\">\n",
       "      <th></th>\n",
       "      <th>SHAPE</th>\n",
       "      <th>feature</th>\n",
       "      <th>globalid</th>\n",
       "      <th>name</th>\n",
       "      <th>objectid</th>\n",
       "      <th>pop</th>\n",
       "    </tr>\n",
       "  </thead>\n",
       "  <tbody>\n",
       "    <tr>\n",
       "      <th>0</th>\n",
       "      <td>{\"x\": -13162974.851300001, \"y\": 4035820.211800...</td>\n",
       "      <td>Population greater than 999,999   County Seat</td>\n",
       "      <td>{EBB04276-5FEC-4CC5-AA3D-39F0833AEC95}</td>\n",
       "      <td>Los Angeles</td>\n",
       "      <td>1</td>\n",
       "      <td>3485398.0</td>\n",
       "    </tr>\n",
       "    <tr>\n",
       "      <th>1</th>\n",
       "      <td>{\"x\": -13041954.6204, \"y\": 3857562.1829999983,...</td>\n",
       "      <td>Population greater than 999,999   County Seat</td>\n",
       "      <td>{73C9B31E-7749-41A3-B2BA-1C7F50FCA23F}</td>\n",
       "      <td>San Diego</td>\n",
       "      <td>2</td>\n",
       "      <td>1110549.0</td>\n",
       "    </tr>\n",
       "    <tr>\n",
       "      <th>2</th>\n",
       "      <td>{\"x\": -8654533.0388, \"y\": 4789915.690899998, \"...</td>\n",
       "      <td>created with Python API</td>\n",
       "      <td>{973355DD-73E4-43AB-B656-BFB8987E5B69}</td>\n",
       "      <td>New York</td>\n",
       "      <td>13</td>\n",
       "      <td>8175133.0</td>\n",
       "    </tr>\n",
       "    <tr>\n",
       "      <th>3</th>\n",
       "      <td>{\"x\": -8367174.4026, \"y\": 4859017.708499998, \"...</td>\n",
       "      <td>Population greater than 999,999   County Seat</td>\n",
       "      <td>{918E688F-4D5D-4EC3-8B4B-6AD1FA3FDF7C}</td>\n",
       "      <td>Philadelphia</td>\n",
       "      <td>4</td>\n",
       "      <td>1585577.0</td>\n",
       "    </tr>\n",
       "    <tr>\n",
       "      <th>4</th>\n",
       "      <td>{\"x\": -10775794.1317, \"y\": 3866612.282399997, ...</td>\n",
       "      <td>Population greater than 999,999   County Seat</td>\n",
       "      <td>{9F4E803A-DDBD-486A-AE9A-A1660C5E41FD}</td>\n",
       "      <td>Dallas</td>\n",
       "      <td>5</td>\n",
       "      <td>1006877.0</td>\n",
       "    </tr>\n",
       "  </tbody>\n",
       "</table>\n",
       "</div>"
      ],
      "text/plain": [
       "                                               SHAPE  \\\n",
       "0  {\"x\": -13162974.851300001, \"y\": 4035820.211800...   \n",
       "1  {\"x\": -13041954.6204, \"y\": 3857562.1829999983,...   \n",
       "2  {\"x\": -8654533.0388, \"y\": 4789915.690899998, \"...   \n",
       "3  {\"x\": -8367174.4026, \"y\": 4859017.708499998, \"...   \n",
       "4  {\"x\": -10775794.1317, \"y\": 3866612.282399997, ...   \n",
       "\n",
       "                                         feature  \\\n",
       "0  Population greater than 999,999   County Seat   \n",
       "1  Population greater than 999,999   County Seat   \n",
       "2                        created with Python API   \n",
       "3  Population greater than 999,999   County Seat   \n",
       "4  Population greater than 999,999   County Seat   \n",
       "\n",
       "                                 globalid          name  objectid        pop  \n",
       "0  {EBB04276-5FEC-4CC5-AA3D-39F0833AEC95}   Los Angeles         1  3485398.0  \n",
       "1  {73C9B31E-7749-41A3-B2BA-1C7F50FCA23F}     San Diego         2  1110549.0  \n",
       "2  {973355DD-73E4-43AB-B656-BFB8987E5B69}      New York        13  8175133.0  \n",
       "3  {918E688F-4D5D-4EC3-8B4B-6AD1FA3FDF7C}  Philadelphia         4  1585577.0  \n",
       "4  {9F4E803A-DDBD-486A-AE9A-A1660C5E41FD}        Dallas         5  1006877.0  "
      ]
     },
     "execution_count": 36,
     "metadata": {},
     "output_type": "execute_result"
    }
   ],
   "source": [
    "cities_mil_fset.sdf.head()"
   ]
  },
  {
   "cell_type": "code",
   "execution_count": 37,
   "metadata": {},
   "outputs": [
    {
     "data": {
      "text/plain": [
       "pandas.core.frame.DataFrame"
      ]
     },
     "execution_count": 37,
     "metadata": {},
     "output_type": "execute_result"
    }
   ],
   "source": [
    "type(cities_mil_fset.sdf)"
   ]
  },
  {
   "cell_type": "markdown",
   "metadata": {},
   "source": [
    "## Accessing Feature objects\n",
    "Now get the `Features` from cities over 1 million population `FeatureSet`"
   ]
  },
  {
   "cell_type": "code",
   "execution_count": 38,
   "metadata": {},
   "outputs": [
    {
     "data": {
      "text/plain": [
       "list"
      ]
     },
     "execution_count": 38,
     "metadata": {},
     "output_type": "execute_result"
    }
   ],
   "source": [
    "cities_mil_features = cities_mil_fset.features\n",
    "type(cities_mil_features)"
   ]
  },
  {
   "cell_type": "code",
   "execution_count": 39,
   "metadata": {},
   "outputs": [
    {
     "data": {
      "text/plain": [
       "18"
      ]
     },
     "execution_count": 39,
     "metadata": {},
     "output_type": "execute_result"
    }
   ],
   "source": [
    "len(cities_mil_features)"
   ]
  },
  {
   "cell_type": "code",
   "execution_count": 40,
   "metadata": {},
   "outputs": [
    {
     "data": {
      "text/plain": [
       "arcgis.features.feature.Feature"
      ]
     },
     "execution_count": 40,
     "metadata": {},
     "output_type": "execute_result"
    }
   ],
   "source": [
    "type(cities_mil_features[0])"
   ]
  },
  {
   "cell_type": "code",
   "execution_count": 41,
   "metadata": {},
   "outputs": [],
   "source": [
    "f1= cities_mil_features[0]"
   ]
  },
  {
   "cell_type": "code",
   "execution_count": 42,
   "metadata": {},
   "outputs": [
    {
     "data": {
      "text/plain": [
       "['objectid', 'feature', 'name', 'pop', 'globalid', 'SHAPE']"
      ]
     },
     "execution_count": 42,
     "metadata": {},
     "output_type": "execute_result"
    }
   ],
   "source": [
    "f1.fields"
   ]
  },
  {
   "cell_type": "markdown",
   "metadata": {},
   "source": [
    "# Editing features"
   ]
  },
  {
   "cell_type": "code",
   "execution_count": 38,
   "metadata": {},
   "outputs": [
    {
     "data": {
      "text/plain": [
       "'Query'"
      ]
     },
     "execution_count": 38,
     "metadata": {},
     "output_type": "execute_result"
    }
   ],
   "source": [
    "cities_million_pop.properties.capabilities"
   ]
  },
  {
   "cell_type": "markdown",
   "metadata": {},
   "source": [
    "### Editing the FeatureLayerCollection definition"
   ]
  },
  {
   "cell_type": "code",
   "execution_count": 39,
   "metadata": {},
   "outputs": [
    {
     "data": {
      "text/plain": [
       "{'success': True}"
      ]
     },
     "execution_count": 39,
     "metadata": {},
     "output_type": "execute_result"
    }
   ],
   "source": [
    "flc.manager.update_definition({'capabilities':'Query'})"
   ]
  },
  {
   "cell_type": "code",
   "execution_count": 40,
   "metadata": {},
   "outputs": [
    {
     "data": {
      "text/plain": [
       "'Create,Delete,Query,Update,Editing,Extract'"
      ]
     },
     "execution_count": 40,
     "metadata": {},
     "output_type": "execute_result"
    }
   ],
   "source": [
    "flc.properties.capabilities"
   ]
  },
  {
   "cell_type": "markdown",
   "metadata": {},
   "source": [
    "### Edit NYC name"
   ]
  },
  {
   "cell_type": "code",
   "execution_count": 28,
   "metadata": {},
   "outputs": [
    {
     "data": {
      "text/plain": [
       "{'objectid': 3,\n",
       " 'feature': 'Population greater than 999,999   County Seat',\n",
       " 'name': 'New York',\n",
       " 'pop': 7322564.0,\n",
       " 'globalid': '{29AA1545-46A4-450D-A4B5-1A5A0E85B247}'}"
      ]
     },
     "execution_count": 28,
     "metadata": {},
     "output_type": "execute_result"
    }
   ],
   "source": [
    "# select 'NAME=New York'\n",
    "ny_feature = [f for f in cities_mil_features if f.attributes['name']=='New York'][0]\n",
    "ny_feature.attributes"
   ]
  },
  {
   "cell_type": "code",
   "execution_count": 29,
   "metadata": {},
   "outputs": [],
   "source": [
    "import copy\n",
    "ny_edit = copy.deepcopy(ny_feature)\n",
    "ny_edit.attributes['name'] = 'New York City'"
   ]
  },
  {
   "cell_type": "code",
   "execution_count": 30,
   "metadata": {},
   "outputs": [
    {
     "data": {
      "text/plain": [
       "{\"geometry\": {\"x\": -8238277.7566, \"y\": 4970310.197099999}, \"attributes\": {\"objectid\": 3, \"feature\": \"Population greater than 999,999   County Seat\", \"name\": \"New York City\", \"pop\": 7322564.0, \"globalid\": \"{29AA1545-46A4-450D-A4B5-1A5A0E85B247}\"}}"
      ]
     },
     "execution_count": 30,
     "metadata": {},
     "output_type": "execute_result"
    }
   ],
   "source": [
    "ny_edit"
   ]
  },
  {
   "cell_type": "code",
   "execution_count": 31,
   "metadata": {},
   "outputs": [
    {
     "data": {
      "text/plain": [
       "{'addResults': [],\n",
       " 'updateResults': [{'objectId': 3,\n",
       "   'globalId': '{29AA1545-46A4-450D-A4B5-1A5A0E85B247}',\n",
       "   'success': True}],\n",
       " 'deleteResults': [],\n",
       " 'attachments': {'addResults': [], 'updateResults': [], 'deleteResults': []}}"
      ]
     },
     "execution_count": 31,
     "metadata": {},
     "output_type": "execute_result"
    }
   ],
   "source": [
    "update_result = cities_million_pop.edit_features(updates=[ny_edit])\n",
    "update_result"
   ]
  }
 ],
 "metadata": {
  "kernelspec": {
   "display_name": "Python 3",
   "language": "python",
   "name": "python3"
  },
  "language_info": {
   "codemirror_mode": {
    "name": "ipython",
    "version": 3
   },
   "file_extension": ".py",
   "mimetype": "text/x-python",
   "name": "python",
   "nbconvert_exporter": "python",
   "pygments_lexer": "ipython3",
   "version": "3.6.6"
  },
  "widgets": {
   "state": {
    "02fed0786532426ab868fe91a82e0941": {
     "views": [
      {
       "cell_index": 22
      }
     ]
    }
   },
   "version": "1.2.0"
  }
 },
 "nbformat": 4,
 "nbformat_minor": 2
}
