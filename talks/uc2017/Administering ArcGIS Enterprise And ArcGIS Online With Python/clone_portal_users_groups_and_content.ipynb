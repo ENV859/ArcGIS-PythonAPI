{
 "cells": [
  {
   "cell_type": "markdown",
   "metadata": {},
   "source": [
    "# Clone Portal users, groups and content\n",
    "\n"
   ]
  },
  {
   "cell_type": "code",
   "execution_count": 2,
   "metadata": {
    "collapsed": true
   },
   "outputs": [],
   "source": [
    "from arcgis.gis import GIS\n",
    "from IPython.display import display\n",
    "from getpass import getpass"
   ]
  },
  {
   "cell_type": "markdown",
   "metadata": {},
   "source": [
    "## Define the source and target portals\n",
    "To start with, define the source and target portals. Connect to them using accounts with administrative privileges:"
   ]
  },
  {
   "cell_type": "code",
   "execution_count": 4,
   "metadata": {
    "collapsed": false
   },
   "outputs": [
    {
     "name": "stdout",
     "output_type": "stream",
     "text": [
      "········\n",
      "········\n"
     ]
    }
   ],
   "source": [
    "source_password = getpass()\n",
    "target_password = getpass()\n",
    "source = GIS(\"https://dev005513.esri.com/portal\", 'admin', source_password)\n",
    "target = GIS(\"https://agsapipor1.esri.com/portal\", 'admin', target_password)\n",
    "target_admin_username = 'admin'"
   ]
  },
  {
   "cell_type": "markdown",
   "metadata": {},
   "source": [
    "# Users\n",
    "List the users in the source and target portals. We do not want to copy over system accounts since those would be available in the target portal as well. Hence, filter the search by negating any account that starts with 'esri_'. We also do not want to copy over the [initial administrator account](http://server.arcgis.com/en/portal/latest/administer/linux/about-the-initial-administrator-account.htm) as one would be present in the target as well. Hence, negate the account that starts with `admin` which happens to be the administrator account on source portal."
   ]
  },
  {
   "cell_type": "code",
   "execution_count": 5,
   "metadata": {
    "collapsed": false
   },
   "outputs": [
    {
     "name": "stdout",
     "output_type": "stream",
     "text": [
      "brown.rogers\t:\torg_user\n",
      "davis.reed\t:\torg_admin\n",
      "johnson.stewart\t:\torg_user\n",
      "jones.morris\t:\torg_user\n",
      "miller.cook\t:\torg_publisher\n",
      "moore.bell\t:\torg_publisher\n",
      "smith.collins\t:\torg_admin\n",
      "taylor.murphy\t:\torg_publisher\n",
      "williams.sanchez\t:\torg_user\n",
      "wilson.morgan\t:\torg_publisher\n"
     ]
    }
   ],
   "source": [
    "#!esri_ & !admin\n",
    "# source_users = source.users.search()\n",
    "source_users = source.users.search('!esri_ & !admin')\n",
    "for user in source_users:\n",
    "    print(user.username + \"\\t:\\t\" + str(user.role))\n",
    "#     print(user.username)"
   ]
  },
  {
   "cell_type": "markdown",
   "metadata": {},
   "source": [
    "Get the number of users to migrate:"
   ]
  },
  {
   "cell_type": "code",
   "execution_count": 6,
   "metadata": {
    "collapsed": false
   },
   "outputs": [
    {
     "data": {
      "text/plain": [
       "10"
      ]
     },
     "execution_count": 6,
     "metadata": {},
     "output_type": "execute_result"
    }
   ],
   "source": [
    "len(source_users)"
   ]
  },
  {
   "cell_type": "markdown",
   "metadata": {},
   "source": [
    "Get the list of users already present in the target portal. Similar to earlier, filter out system and initial administrator accounts. The name of the admin account on target portal is `admin` as well in this example."
   ]
  },
  {
   "cell_type": "code",
   "execution_count": 7,
   "metadata": {
    "collapsed": false
   },
   "outputs": [
    {
     "data": {
      "text/plain": [
       "[]"
      ]
     },
     "execution_count": 7,
     "metadata": {},
     "output_type": "execute_result"
    }
   ],
   "source": [
    "# filter out system and initial administrator accounts\n",
    "target_users = target.users.search('!esri_ & !admin & !system_publisher')\n",
    "target_users"
   ]
  },
  {
   "cell_type": "markdown",
   "metadata": {},
   "source": [
    "If users found on source portal were already in the target portal, run the following code to delete them. You can choose to not delete them as well.\n",
    "\n",
    "### Remove existing users from target portal\n",
    "If you want to clean up the target portal except for the initial administrator account, run the cell below. As you delete, you may opt to assign their content to the initial administrator account."
   ]
  },
  {
   "cell_type": "code",
   "execution_count": 8,
   "metadata": {
    "collapsed": true
   },
   "outputs": [],
   "source": [
    "for source_user in source_users:\n",
    "    try:\n",
    "        target_user = target.users.get(source_user.username)\n",
    "        if target_user is not None:\n",
    "            print('Deleting user: ' + target_user.fullName)\n",
    "            target_user.reassign_to(target_admin_username)\n",
    "            target_user.delete()\n",
    "    except:\n",
    "        print('User {} does not exist in Target Portal'.format(source_user.username))"
   ]
  },
  {
   "cell_type": "markdown",
   "metadata": {},
   "source": [
    "### Copy Users\n",
    "Create a function that will accept connection to the target portal, `User` objects from source portal and password to create users with. In addition to creating the users, this function will set their access, description, tags and other similar properties from source. If a user by the same name already exists in the target portal (possible if you opted not to clean out the target portal) then this function prints out an error message."
   ]
  },
  {
   "cell_type": "code",
   "execution_count": 9,
   "metadata": {
    "collapsed": true
   },
   "outputs": [],
   "source": [
    "def copy_user(target_portal, source_user, password):\n",
    "    # See if the user has firstName and lastName properties\n",
    "    try:\n",
    "        first_name = source_user.firstName\n",
    "        last_name = source_user.lastName\n",
    "    except:\n",
    "        # if not, split the fullName\n",
    "        full_name = source_user.fullName\n",
    "        first_name = full_name.split()[0]\n",
    "        try:\n",
    "            last_name = full_name.split()[1]\n",
    "        except:\n",
    "            last_name = 'NoLastName'\n",
    "\n",
    "    try:\n",
    "        # create user\n",
    "        target_user = target_portal.users.create(source_user.username, password, first_name, \n",
    "                                                 last_name, source_user.email, \n",
    "                                                 source_user.description, source_user.role)\n",
    "\n",
    "        # update user properties\n",
    "        target_user.update(source_user.access, source_user.preferredView,\n",
    "                           source_user.description, source_user.tags, \n",
    "                           source_user.get_thumbnail_link(),\n",
    "                           culture=source_user.culture, region=source_user.region)\n",
    "        return target_user\n",
    "    \n",
    "    except Exception as Ex:\n",
    "        print(str(Ex))\n",
    "        print(\"Unable to create user \"+ source_user.username)\n",
    "        return None"
   ]
  },
  {
   "cell_type": "markdown",
   "metadata": {},
   "source": [
    "For each user in source portal, make a corresponding user in target portal. In this sample, we provide a common password to all users `TestPassword@123` as we are creating users off the built-in identity store. If you are creating users off your enterprise identity store, you can ignore the `password` parameter and use the `provider` and `idp_username` parameters as explained in the [API reference doc](http://esri.github.io/arcgis-python-api/apidoc/html/arcgis.gis.html#arcgis.gis.UserManager.create)."
   ]
  },
  {
   "cell_type": "code",
   "execution_count": 10,
   "metadata": {
    "collapsed": false,
    "scrolled": true
   },
   "outputs": [
    {
     "name": "stdout",
     "output_type": "stream",
     "text": [
      "Creating user: brown.rogers\n",
      "Creating user: davis.reed\n",
      "Creating user: johnson.stewart\n",
      "Creating user: jones.morris\n",
      "Creating user: miller.cook\n",
      "Creating user: moore.bell\n",
      "Creating user: smith.collins\n",
      "Creating user: taylor.murphy\n",
      "Creating user: williams.sanchez\n",
      "Creating user: wilson.morgan\n"
     ]
    }
   ],
   "source": [
    "for user in source_users:\n",
    "    print(\"Creating user: \" + user.username)\n",
    "    copy_user(target, user, 'TestPassword@123')"
   ]
  },
  {
   "cell_type": "markdown",
   "metadata": {},
   "source": [
    "Verify that users have been added to target portal:"
   ]
  },
  {
   "cell_type": "code",
   "execution_count": 11,
   "metadata": {
    "collapsed": false
   },
   "outputs": [
    {
     "data": {
      "text/plain": [
       "[<User username:admin>,\n",
       " <User username:brown.rogers>,\n",
       " <User username:davis.reed>,\n",
       " <User username:esri_boundaries>,\n",
       " <User username:esri_demographics>,\n",
       " <User username:esri_livingatlas>,\n",
       " <User username:esri_nav>,\n",
       " <User username:johnson.stewart>,\n",
       " <User username:jones.morris>,\n",
       " <User username:miller.cook>,\n",
       " <User username:moore.bell>,\n",
       " <User username:smith.collins>,\n",
       " <User username:system_publisher>,\n",
       " <User username:taylor.murphy>,\n",
       " <User username:williams.sanchez>,\n",
       " <User username:wilson.morgan>]"
      ]
     },
     "execution_count": 11,
     "metadata": {},
     "output_type": "execute_result"
    }
   ],
   "source": [
    "target_users = target.users.search()\n",
    "target_users"
   ]
  },
  {
   "cell_type": "markdown",
   "metadata": {},
   "source": [
    "Thus, users have been successfully added to the target portal"
   ]
  },
  {
   "cell_type": "markdown",
   "metadata": {},
   "source": [
    "# Groups"
   ]
  },
  {
   "cell_type": "markdown",
   "metadata": {},
   "source": [
    "List the groups in the source and target portals. Similar to how we searched for users, we will ignore the system created and default groups as they would be available on the target portal as well."
   ]
  },
  {
   "cell_type": "code",
   "execution_count": 12,
   "metadata": {
    "collapsed": false
   },
   "outputs": [
    {
     "data": {
      "text/plain": [
       "[<Group title:\"Central Services\" owner:admin>,\n",
       " <Group title:\"Compliance\" owner:admin>,\n",
       " <Group title:\"Customer Service, Finance, Billing and Accounting\" owner:admin>,\n",
       " <Group title:\"Demographic Content\" owner:admin>,\n",
       " <Group title:\"Featured Maps and Apps\" owner:admin>]"
      ]
     },
     "execution_count": 12,
     "metadata": {},
     "output_type": "execute_result"
    }
   ],
   "source": [
    "# filter out system created groups\n",
    "source_groups = source.groups.search(\"!owner:esri_* & !Basemaps\")\n",
    "source_groups"
   ]
  },
  {
   "cell_type": "code",
   "execution_count": 13,
   "metadata": {
    "collapsed": false
   },
   "outputs": [
    {
     "data": {
      "text/plain": [
       "[<Group title:\"Featured Maps and Apps\" owner:admin>]"
      ]
     },
     "execution_count": 13,
     "metadata": {},
     "output_type": "execute_result"
    }
   ],
   "source": [
    "target_groups = target.groups.search(\"!owner:esri_* & !Basemaps\")\n",
    "target_groups"
   ]
  },
  {
   "cell_type": "markdown",
   "metadata": {},
   "source": [
    "If any of the groups from source are already in the target, run the following code to delete them. If the group belongs to any of default user accounts, don't delete it. This step is optional, you may choose to not delete those groups if you prefer to retain them as is."
   ]
  },
  {
   "cell_type": "code",
   "execution_count": 14,
   "metadata": {
    "collapsed": false
   },
   "outputs": [
    {
     "name": "stdout",
     "output_type": "stream",
     "text": [
      "Cleaning up group Featured Maps and Apps in target Portal...\n"
     ]
    }
   ],
   "source": [
    "for tg in target_groups:\n",
    "    for sg in source_groups:\n",
    "        if sg.title == tg.title and (not tg.owner.startswith('esri_')):\n",
    "            print(\"Cleaning up group {} in target Portal...\".format(tg.title))\n",
    "            tg.delete()\n",
    "            break"
   ]
  },
  {
   "cell_type": "markdown",
   "metadata": {},
   "source": [
    "## Copy Groups\n",
    "\n",
    "Let us create a function that will clone the groups one at a time. As you call this function in a loop for each group, it reads the source group's properties, downloads thumbnail into a temporary file then creates a similar named group on target and applies those properties and thumbnail. If one of your portals is an organization on ArcGIS Online and other is an ArcGIS Enterprise, certain privacy properties need to be adapted. This function takes care of that. After creating the group, it finds which users were members of it and adds them appropriately."
   ]
  },
  {
   "cell_type": "code",
   "execution_count": 15,
   "metadata": {
    "collapsed": true
   },
   "outputs": [],
   "source": [
    "import tempfile\n",
    "\n",
    "GROUP_COPY_PROPERTIES = ['title', 'description', 'tags', 'snippet', 'phone',\n",
    "                         'access', 'isInvitationOnly']\n",
    "\n",
    "def copy_group(target, source, source_group):\n",
    "    \n",
    "    with tempfile.TemporaryDirectory() as temp_dir:\n",
    "        try:\n",
    "            target_group = {}\n",
    "\n",
    "            for property_name in GROUP_COPY_PROPERTIES:\n",
    "                target_group[property_name] = source_group[property_name]\n",
    "\n",
    "            if source_group['access'] == 'org' and target.properties['portalMode'] == 'singletenant':\n",
    "                #cloning from ArcGIS Online to ArcGIS Enterprise\n",
    "                target_group['access'] = 'public'\n",
    "\n",
    "            elif source_group['access'] == 'public'\\\n",
    "                 and source.properties['portalMode'] == 'singletenant'\\\n",
    "                 and target.properties['portalMode'] == 'multitenant'\\\n",
    "                 and 'id' in target.properties:\n",
    "                    #cloning from ArcGIS Enterprise to ArcGIS Online org\n",
    "                    target_group['access'] = 'org'\n",
    "\n",
    "            # Download the thumbnail (if one exists)\n",
    "            thumbnail_file = None\n",
    "            if 'thumbnail' in group:\n",
    "                target_group['thumbnail'] = group.download_thumbnail(temp_dir)\n",
    "\n",
    "            # Create the group in the target portal\n",
    "            copied_group = target.groups.create_from_dict(target_group)\n",
    "\n",
    "            # Reassign all groups to correct owners, add users, and find shared items\n",
    "            members = group.get_members()\n",
    "            if not members['owner'] == target_admin_username:\n",
    "                copied_group.reassign_to(members['owner'])\n",
    "            if members['users']:\n",
    "                copied_group.add_users(members['users'])\n",
    "            return copied_group\n",
    "        except:\n",
    "            print(\"Error creating \" + source_group['title'])"
   ]
  },
  {
   "cell_type": "markdown",
   "metadata": {},
   "source": [
    "For each group in source portal, make a corresponding group in target portal."
   ]
  },
  {
   "cell_type": "code",
   "execution_count": 16,
   "metadata": {
    "collapsed": false
   },
   "outputs": [
    {
     "data": {
      "text/html": [
       "<div class=\"9item_container\" style=\"height: auto; overflow: hidden; border: 1px solid #cfcfcf; border-radius: 2px; background: #f6fafa; line-height: 1.21429em; padding: 10px;\">\n",
       "                    <div class=\"item_left\" style=\"width: 210px; float: left;\">\n",
       "                       <a href='https://agsapipor1.esri.com/portal/home/group.html?id=ce5bc925bdfb4235beedfa6359f2bd86' target='_blank'>\n",
       "                        <img src='data:image/png;base64,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' ' class=\"itemThumbnail\">\n",
       "                       </a>\n",
       "                    </div>\n",
       "\n",
       "                    <div class=\"item_right\" style=\"float: none; width: auto; overflow: hidden;\">\n",
       "                        <a href='https://agsapipor1.esri.com/portal/home/group.html?id=ce5bc925bdfb4235beedfa6359f2bd86' target='_blank'><b>Central Services</b>\n",
       "                        </a>\n",
       "                        <br/>\n",
       "                        <br/><b>Summary</b>: The authoritative service catalog.   \n",
       "                        <br/><b>Description</b>: This Group contains an inventory of map services for our organization. These map services serve as building blocks for all maps and apps throughout the organization. \n",
       "                        <br/><b>Owner</b>: admin\n",
       "                        <br/><b>Created</b>: July 13, 2017\n",
       "\n",
       "                    </div>\n",
       "                </div>\n",
       "                "
      ],
      "text/plain": [
       "<Group title:\"Central Services\" owner:admin>"
      ]
     },
     "metadata": {},
     "output_type": "display_data"
    },
    {
     "data": {
      "text/html": [
       "<div class=\"9item_container\" style=\"height: auto; overflow: hidden; border: 1px solid #cfcfcf; border-radius: 2px; background: #f6fafa; line-height: 1.21429em; padding: 10px;\">\n",
       "                    <div class=\"item_left\" style=\"width: 210px; float: left;\">\n",
       "                       <a href='https://agsapipor1.esri.com/portal/home/group.html?id=3cb73c9fa7e14091a722dd0fb21dbf55' target='_blank'>\n",
       "                        <img src='data:image/png;base64,iVBORw0KGgoAAAANSUhEUgAAAEAAAABACAYAAACqaXHeAAAAAXNSR0IArs4c6QAAAARnQU1BAACxjwv8YQUAAAAJcEhZcwAADsMAAA7DAcdvqGQAAAAadEVYdFNvZnR3YXJlAFBhaW50Lk5FVCB2My41LjEwMPRyoQAAAidJREFUeF7tWj1LBDEQ3R9of3/C3lYOWzvB3sIP0N5aBDtBsPA4UI5j8QOx3i7yFiLZmK89M2eyMwvh7nazuczLezOT3WmUUg3n1lAdtYBKZX81rBIAqBBgJYFajHXNMxsB9ucHquTmW6SsALTnR6rEhoURADz5jjAgFwKgWYn0x5y2JgH2TrDrOhVrZxeX0T6xMcZe3xoDUibGAoDZ6ULZTYNjAuDql/Oc/k9hQCgPyJHGIpIA5SolQAFAVRKgACDEhOKcoACQ4Zmg7QNEAoGESCRQWiZI4QNEAiIB/6aIhQ8QCYgERAL1bIcpwqDsBbj7AIkC3BnA3geIBEQCkghJIuRzhCx2gxIFano1JnuBEY/F26dDZ61NLa/G7GIQLP6ois7F7U4SAKUmQn8C4GN1pQAAPm3ZsGDAy/1uDwA+WQIA43VzOc6S64N0gcTGEtD01wC4ZEBahpqrlM0aJ9kJrh72flYfIOB3Svgkmne2YQcAvC6PB0aalB/zHeNocLLNlGigXwz4ertRy7vZRkDgPtxvMoNo3tmG9UrApnyMAT5JZJsp0UBBH/D+fJLEBPQjr8T+DwBgVAyEkPE9uoUf0SiwfpwHWYDroWhQuP39NiC4F4hp37c3qDYKmKv52V4PVh8pMM7plFiDg3OT9AEm/c3YDmPNnCEkg6olgLjuiu16tc2cYXIMgHGp6S762QnQJHxASq4f61O1BGLGpVwXAApHAIv4DROIdJ5LvI5+AAAAAElFTkSuQmCC' ' class=\"itemThumbnail\">\n",
       "                       </a>\n",
       "                    </div>\n",
       "\n",
       "                    <div class=\"item_right\" style=\"float: none; width: auto; overflow: hidden;\">\n",
       "                        <a href='https://agsapipor1.esri.com/portal/home/group.html?id=3cb73c9fa7e14091a722dd0fb21dbf55' target='_blank'><b>Compliance</b>\n",
       "                        </a>\n",
       "                        <br/>\n",
       "                        <br/><b>Summary</b>: Regulatory compliance tracking & reporting.\n",
       "                        <br/><b>Description</b>: A group dealing with government and industry association regulatory compliance and reporting.\n",
       "                        <br/><b>Owner</b>: admin\n",
       "                        <br/><b>Created</b>: July 13, 2017\n",
       "\n",
       "                    </div>\n",
       "                </div>\n",
       "                "
      ],
      "text/plain": [
       "<Group title:\"Compliance\" owner:admin>"
      ]
     },
     "metadata": {},
     "output_type": "display_data"
    },
    {
     "data": {
      "text/html": [
       "<div class=\"9item_container\" style=\"height: auto; overflow: hidden; border: 1px solid #cfcfcf; border-radius: 2px; background: #f6fafa; line-height: 1.21429em; padding: 10px;\">\n",
       "                    <div class=\"item_left\" style=\"width: 210px; float: left;\">\n",
       "                       <a href='https://agsapipor1.esri.com/portal/home/group.html?id=c15a5e94467645cb83308bb67dc2fd65' target='_blank'>\n",
       "                        <img src='data:image/png;base64,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' ' class=\"itemThumbnail\">\n",
       "                       </a>\n",
       "                    </div>\n",
       "\n",
       "                    <div class=\"item_right\" style=\"float: none; width: auto; overflow: hidden;\">\n",
       "                        <a href='https://agsapipor1.esri.com/portal/home/group.html?id=c15a5e94467645cb83308bb67dc2fd65' target='_blank'><b>Customer Service, Finance, Billing and Accounting</b>\n",
       "                        </a>\n",
       "                        <br/>\n",
       "                        <br/><b>Summary</b>: The Water & Sewer Billing and Collection Division manage the water and sewer accounts for residents.\n",
       "                        <br/><b>Description</b>: Typical types of users and roles that part of this group:Human Resources/PayrollAdministrative Services Officer I, IIAdministrative AideAccountantAccount ClerkPayroll ClerkDepartment AnalystRisk Management Analyst I,II,IIIAccounting TechnicianEngineering TechnicianCommon Task or Responsibilities of the users in this group:Customer ServiceReal Estate ServicesBudgets/Accounting/Long Range Financial PlanningSafety/Risk ManagementFinancingRecords Management/Clerical ServicesAuditingBill Collection and paymentConnections/DisconnectsReduced Rates / Leak AdjustmentsPool AdjustmentIrrigation and Hydrant MetersEmployee Development\n",
       "                        <br/><b>Owner</b>: admin\n",
       "                        <br/><b>Created</b>: July 13, 2017\n",
       "\n",
       "                    </div>\n",
       "                </div>\n",
       "                "
      ],
      "text/plain": [
       "<Group title:\"Customer Service, Finance, Billing and Accounting\" owner:admin>"
      ]
     },
     "metadata": {},
     "output_type": "display_data"
    },
    {
     "data": {
      "text/html": [
       "<div class=\"9item_container\" style=\"height: auto; overflow: hidden; border: 1px solid #cfcfcf; border-radius: 2px; background: #f6fafa; line-height: 1.21429em; padding: 10px;\">\n",
       "                    <div class=\"item_left\" style=\"width: 210px; float: left;\">\n",
       "                       <a href='https://agsapipor1.esri.com/portal/home/group.html?id=0f3a6200817b475e99d7836ff7a832d7' target='_blank'>\n",
       "                        <img src='data:image/png;base64,iVBORw0KGgoAAAANSUhEUgAAAEEAAABBCAYAAACO98lFAAAAGXRFWHRTb2Z0d2FyZQBBZG9iZSBJbWFnZVJlYWR5ccllPAAAAyRpVFh0WE1MOmNvbS5hZG9iZS54bXAAAAAAADw/eHBhY2tldCBiZWdpbj0i77u/IiBpZD0iVzVNME1wQ2VoaUh6cmVTek5UY3prYzlkIj8+IDx4OnhtcG1ldGEgeG1sbnM6eD0iYWRvYmU6bnM6bWV0YS8iIHg6eG1wdGs9IkFkb2JlIFhNUCBDb3JlIDUuMy1jMDExIDY2LjE0NTY2MSwgMjAxMi8wMi8wNi0xNDo1NjoyNyAgICAgICAgIj4gPHJkZjpSREYgeG1sbnM6cmRmPSJodHRwOi8vd3d3LnczLm9yZy8xOTk5LzAyLzIyLXJkZi1zeW50YXgtbnMjIj4gPHJkZjpEZXNjcmlwdGlvbiByZGY6YWJvdXQ9IiIgeG1sbnM6eG1wPSJodHRwOi8vbnMuYWRvYmUuY29tL3hhcC8xLjAvIiB4bWxuczp4bXBNTT0iaHR0cDovL25zLmFkb2JlLmNvbS94YXAvMS4wL21tLyIgeG1sbnM6c3RSZWY9Imh0dHA6Ly9ucy5hZG9iZS5jb20veGFwLzEuMC9zVHlwZS9SZXNvdXJjZVJlZiMiIHhtcDpDcmVhdG9yVG9vbD0iQWRvYmUgUGhvdG9zaG9wIENTNiAoTWFjaW50b3NoKSIgeG1wTU06SW5zdGFuY2VJRD0ieG1wLmlpZDo4QjIzODhFOENGRkIxMUUzQTFEREJDMEIzNzNGMjc5RCIgeG1wTU06RG9jdW1lbnRJRD0ieG1wLmRpZDo4QjIzODhFOUNGRkIxMUUzQTFEREJDMEIzNzNGMjc5RCI+IDx4bXBNTTpEZXJpdmVkRnJvbSBzdFJlZjppbnN0YW5jZUlEPSJ4bXAuaWlkOjhCMjM4OEU2Q0ZGQjExRTNBMUREQkMwQjM3M0YyNzlEIiBzdFJlZjpkb2N1bWVudElEPSJ4bXAuZGlkOjhCMjM4OEU3Q0ZGQjExRTNBMUREQkMwQjM3M0YyNzlEIi8+IDwvcmRmOkRlc2NyaXB0aW9uPiA8L3JkZjpSREY+IDwveDp4bXBtZXRhPiA8P3hwYWNrZXQgZW5kPSJyIj8+/VquXQAABPBJREFUeNrsm+9vU1UYx5/Clo1f+8FYWTWjLcKyQPYDIhgQTGeiUXhB9YWR7U0X3vhuIzHEN4a+g/jG8Qcsq4ktyRIjJGiIRHcFCYbE2Q6Ny0RuL4tpJ8yttINtvTCf53o7usLa23tvz9pxvslNe+957jk9n3uec76n3SwLCwvwomsNcHEIHAKH8FRlRm7uOtfpxRcPHva0yxIePn9PwGv2h/3msw+Wbe/oqUHd7Vn0rA7Y+Rp8EZobm9s6WlzQUNuwWBadisLQLQFGx0dDeOpCGNMmdF5pr76+rm270wEbN25YLEskZuCOGIZ79yaV9hDGNKt0EDpaXW3H3/hwCQASndN1Kqc4kwaBsN1pb2tt2b0EAInO6TqV621vjZ4UoBHgwhGQTVROcWrKGEoBGgFOpz1rHJVTnJoyBR8Jno4cAFJS4zwGR4GHUkCL1DgPCwj2zBRYTmqc3SAEe2YKLCc1zs5qTsg3hRzAUJgSjqKDgCtEmCUEXCHChYYg0TKoRWqcZLBPEi2DWqTGSSzSwUc+QIvUOJ9BCD7yAVqkxuXdnl6zFCQfkG2ZFBDA0IgQwlRoNyHHg+QDsi2ToighBCmEqZB3e3ptsws7KESmojkdo0lp7sIOCvFEIqdjZGabjewdjvuG6YP24nEso+giHn3nPXuFktg76BUC6KteV95zeMcWaNq6CSrK/p+S5uQnMDYRh2u370PsUfILBOEBhsoJAZ+2m56QUdOzUPkmWOsPQtf+bYudzxTB8N+8C1UTP8dfi1/eZEL/KEV6cZQIuiEQAMz3r9999R1wWPX7HXHyMXwVlOHE685lAaSD6L8uwkcNQWjeEDNEIBKZgLE//wJZlvcgiKDeJbLvvQNuQwBIN8QkUArkAkCiGIr9btJmeBjYbFuhaecr9NZrxCdo3idk0x9RWZkDtIpif32w2ZR8JxDPmYTZ2+bUE84ntrJ8Ldyfr2Dy2fKCcNrvZcUMZpOPIfTTFV33fv/D1eLbRaYmvELEMh8Jutfh5G3FB2gVxe6p+nd1QYD5XxQjpOUJUwzFvl0XWWUjQR6HXbjIkBHKBiJllvavv2vYIxTlnHBkdwW8VCUrRujW37ElMOg9XaOy1nIROm0i0zmhjGVj77dXKu5x4Oo1uFS+I7P44lvTgWOdhxzAWmWsG3TWrQXLwwsQ6AlYnt0lnkUPv0ogRB48gaGxecUpKqr+GD69lHgagOe4o3x202L9BL78Lf38oHJOK4XbOg7bKmdKAwIB8N+cg33OLeBurzXFX4zgfPH5nc1wsjFUEBCmT4zf/j4Hh3daYZ+91pT6yEJTXYeabBCIOEtjdQjjxNfycrXpH5TqlOZrVwbCbHJWc2XTD9naXS2SZdkwhNjAFZ9mEDXrC2s7aFOVL4Dh4RF6+6ORidEVnYoKZwbP6h7f/TfG4cSBRub3pu0k6YvYXt0Q/D0B+kqqJnXeda6zZP7e7+ipQUvR2eZiFofAIXAIum1z92m/dyBrBO4LCimN3x92FwwCrhY+yPHT93M3Ris06/N04BA4BA6BQygmCP/E5wpWJ64+jlKAINFvB2aCoLqoTqr7vGdveKXNkha5cd9/of+6aDfc+dgMnLk8mr4ldheDY8wpfFK0/XaYZZ6wPktJzgl8YuQQOIQXZiutR904ww/ovZcFBAv/X2meDhwCh8AhLNV/AgwAxr0HBzcL588AAAAASUVORK5CYII=' ' class=\"itemThumbnail\">\n",
       "                       </a>\n",
       "                    </div>\n",
       "\n",
       "                    <div class=\"item_right\" style=\"float: none; width: auto; overflow: hidden;\">\n",
       "                        <a href='https://agsapipor1.esri.com/portal/home/group.html?id=0f3a6200817b475e99d7836ff7a832d7' target='_blank'><b>Demographic Content</b>\n",
       "                        </a>\n",
       "                        <br/>\n",
       "                        <br/><b>Summary</b>: Esri demographic data with national coverage\n",
       "                        <br/><b>Description</b>: A catalog of Esri provided demographic content for use at the utility.\n",
       "                        <br/><b>Owner</b>: admin\n",
       "                        <br/><b>Created</b>: July 13, 2017\n",
       "\n",
       "                    </div>\n",
       "                </div>\n",
       "                "
      ],
      "text/plain": [
       "<Group title:\"Demographic Content\" owner:admin>"
      ]
     },
     "metadata": {},
     "output_type": "display_data"
    },
    {
     "data": {
      "text/html": [
       "<div class=\"9item_container\" style=\"height: auto; overflow: hidden; border: 1px solid #cfcfcf; border-radius: 2px; background: #f6fafa; line-height: 1.21429em; padding: 10px;\">\n",
       "                    <div class=\"item_left\" style=\"width: 210px; float: left;\">\n",
       "                       <a href='https://agsapipor1.esri.com/portal/home/group.html?id=a8c89af4a6474812b75dc4f74d30712e' target='_blank'>\n",
       "                        <img src='https://agsapipor1.esri.com/portal/home/images/group-no-image.png' class=\"itemThumbnail\">\n",
       "                       </a>\n",
       "                    </div>\n",
       "\n",
       "                    <div class=\"item_right\" style=\"float: none; width: auto; overflow: hidden;\">\n",
       "                        <a href='https://agsapipor1.esri.com/portal/home/group.html?id=a8c89af4a6474812b75dc4f74d30712e' target='_blank'><b>Featured Maps and Apps</b>\n",
       "                        </a>\n",
       "                        <br/>\n",
       "                        <br/><b>Summary</b>: None\n",
       "                        <br/><b>Description</b>: This group contains featured maps and apps.\n",
       "                        <br/><b>Owner</b>: admin\n",
       "                        <br/><b>Created</b>: July 13, 2017\n",
       "\n",
       "                    </div>\n",
       "                </div>\n",
       "                "
      ],
      "text/plain": [
       "<Group title:\"Featured Maps and Apps\" owner:admin>"
      ]
     },
     "metadata": {},
     "output_type": "display_data"
    }
   ],
   "source": [
    "from IPython.display import display\n",
    "for group in source_groups:\n",
    "    target_group = copy_group(target, source, group)\n",
    "    if target_group:\n",
    "        display(target_group)"
   ]
  },
  {
   "cell_type": "markdown",
   "metadata": {},
   "source": [
    "As you can see, we were able to add the groups with their thumbnails. Now let us verify that groups can be listed on the target portal:"
   ]
  },
  {
   "cell_type": "code",
   "execution_count": 17,
   "metadata": {
    "collapsed": false
   },
   "outputs": [
    {
     "data": {
      "text/plain": [
       "[<Group title:\"Central Services\" owner:admin>,\n",
       " <Group title:\"Compliance\" owner:admin>,\n",
       " <Group title:\"Customer Service, Finance, Billing and Accounting\" owner:admin>,\n",
       " <Group title:\"Demographic Content\" owner:admin>,\n",
       " <Group title:\"Esri Boundary Layers\" owner:esri_boundaries>,\n",
       " <Group title:\"Esri Demographic Layers\" owner:esri_demographics>,\n",
       " <Group title:\"Featured Maps and Apps\" owner:admin>,\n",
       " <Group title:\"Living Atlas\" owner:esri_livingatlas>,\n",
       " <Group title:\"Living Atlas Analysis Layers\" owner:esri_livingatlas>,\n",
       " <Group title:\"Navigator Maps\" owner:esri_nav>]"
      ]
     },
     "execution_count": 17,
     "metadata": {},
     "output_type": "execute_result"
    }
   ],
   "source": [
    "target_groups = target.groups.search()\n",
    "target_groups"
   ]
  },
  {
   "cell_type": "markdown",
   "metadata": {},
   "source": [
    "With this part of the sample, we have successfully created users, groups and added the appropriate users to these groups. Thus, you can call the `get_members()` method one of the groups to view its members:"
   ]
  },
  {
   "cell_type": "code",
   "execution_count": 18,
   "metadata": {
    "collapsed": false
   },
   "outputs": [
    {
     "data": {
      "text/plain": [
       "{'admins': ['admin'],\n",
       " 'owner': 'admin',\n",
       " 'users': ['brown.rogers',\n",
       "  'johnson.stewart',\n",
       "  'smith.collins',\n",
       "  'taylor.murphy']}"
      ]
     },
     "execution_count": 18,
     "metadata": {},
     "output_type": "execute_result"
    }
   ],
   "source": [
    "group1 = target_groups[0]\n",
    "group1.get_members()"
   ]
  },
  {
   "cell_type": "markdown",
   "metadata": {},
   "source": [
    "# Items"
   ]
  },
  {
   "cell_type": "markdown",
   "metadata": {},
   "source": [
    "Copying items consists of multiple steps as explained in the following section of the sample:\n",
    "\n",
    " 1. [For each user create a mapping of itemId to the `Item`](#For-each-user-create-a-mapping-of-itemId-to-the-Item)\n",
    " 2. [Prepare sharing information for each item](#Prepare-sharing-information-for-each-item)\n",
    "   1. [Print a mapping of item and its group membership](#Print-a-mapping-of-item-and-its-group-membership)\n",
    " 3. [Copy items one by one](#Copy-Items)\n",
    " 4. [Establish relationship between items](#establish-relationship-between-items)"
   ]
  },
  {
   "cell_type": "markdown",
   "metadata": {},
   "source": [
    "## For each user create a mapping of itemId to the `Item`\n",
    "Do this for every folder in the user's account on the source portal"
   ]
  },
  {
   "cell_type": "code",
   "execution_count": 19,
   "metadata": {
    "collapsed": false
   },
   "outputs": [
    {
     "name": "stdout",
     "output_type": "stream",
     "text": [
      "Collecting item ids for brown.rogers\t\tNumber of folders 1 # Number of items 3\n",
      "Collecting item ids for davis.reed\t\tNumber of folders 1 # Number of items 3\n",
      "Collecting item ids for johnson.stewart\t\tNumber of folders 1 # Number of items 3\n",
      "Collecting item ids for jones.morris\t\tNumber of folders 1 # Number of items 3\n",
      "Collecting item ids for miller.cook\t\tNumber of folders 1 # Number of items 3\n",
      "Collecting item ids for moore.bell\t\tNumber of folders 1 # Number of items 3\n",
      "Collecting item ids for smith.collins\t\tNumber of folders 1 # Number of items 3\n",
      "Collecting item ids for taylor.murphy\t\tNumber of folders 1 # Number of items 3\n",
      "Collecting item ids for williams.sanchez\t\tNumber of folders 1 # Number of items 3\n",
      "Collecting item ids for wilson.morgan\t\tNumber of folders 1 # Number of items 3\n"
     ]
    }
   ],
   "source": [
    "source_items_by_id = {}\n",
    "for user in source_users:\n",
    "    num_items = 0\n",
    "    num_folders = 0\n",
    "    print(\"Collecting item ids for {}\".format(user.username), end=\"\\t\\t\")\n",
    "    user_content = user.items()\n",
    "    \n",
    "    # Get item ids from root folder first\n",
    "    for item in user_content:\n",
    "        num_items += 1\n",
    "        source_items_by_id[item.itemid] = item \n",
    "    \n",
    "    # Get item ids from each of the folders next\n",
    "    folders = user.folders\n",
    "    for folder in folders:\n",
    "        num_folders += 1\n",
    "        folder_items = user.items(folder=folder['title'])\n",
    "        for item in folder_items:\n",
    "            num_items += 1\n",
    "            source_items_by_id[item.itemid] = item\n",
    "    \n",
    "    print(\"Number of folders {} # Number of items {}\".format(str(num_folders), str(num_items)))"
   ]
  },
  {
   "cell_type": "markdown",
   "metadata": {},
   "source": [
    "Let us print the dictionary of `{item_id : Item object}`"
   ]
  },
  {
   "cell_type": "code",
   "execution_count": 20,
   "metadata": {
    "collapsed": false
   },
   "outputs": [
    {
     "data": {
      "text/plain": [
       "{'001d9c32cd644ccbb5b3df41e39d1f18': <Item title:\"AR\" type:CSV owner:brown.rogers>,\n",
       " '035233eb258c46918056a0c5b8019a43': <Item title:\"IN\" type:Feature Layer Collection owner:williams.sanchez>,\n",
       " '062b6b2c15d34bdb94a18148882e6c79': <Item title:\"IN\" type:CSV owner:williams.sanchez>,\n",
       " '0cbd54a8a0eb4fccbc2848661d6e94da': <Item title:\"Smith Collins response locations\" type:Web Map owner:smith.collins>,\n",
       " '1bcb8074538943ae837a1300a7171ebf': <Item title:\"Wilson Morgan response locations\" type:Web Map owner:wilson.morgan>,\n",
       " '1bed1dfc23664fc686fce80af433a7b6': <Item title:\"ID\" type:CSV owner:wilson.morgan>,\n",
       " '3b51fdf1569c408c97e46b2057264bdf': <Item title:\"Jones Morris response locations\" type:Web Map owner:jones.morris>,\n",
       " '539dc28aa20c40c5a3e813dfe9234c16': <Item title:\"NC\" type:Feature Layer Collection owner:jones.morris>,\n",
       " '547f8c6539834d2bb8ee7f858b6e3381': <Item title:\"Miller Cook response locations\" type:Web Map owner:miller.cook>,\n",
       " '59b74d125ca04f07b1334635d9f492bc': <Item title:\"Brown Rogers response locations\" type:Web Map owner:brown.rogers>,\n",
       " '6fb53825b23045598287ec0452482dca': <Item title:\"KS\" type:Feature Layer Collection owner:smith.collins>,\n",
       " '745738a55b7141d19cd9d8ce23efb0bd': <Item title:\"KS\" type:CSV owner:smith.collins>,\n",
       " '74b90c924b0c4664ba9a52e4ef3c13f6': <Item title:\"AZ\" type:Feature Layer Collection owner:moore.bell>,\n",
       " '796b4ddbfc564d33bd5b8fc9f82fb326': <Item title:\"ID\" type:Feature Layer Collection owner:wilson.morgan>,\n",
       " '7ab553c04f354b53afdfeef0c3432425': <Item title:\"Williams Sanchez response locations\" type:Web Map owner:williams.sanchez>,\n",
       " '7d7d1d337e0546539c12da55f5042bbb': <Item title:\"NC\" type:CSV owner:jones.morris>,\n",
       " '873a5dba70b2433a95dbe68df8b30515': <Item title:\"AZ\" type:CSV owner:moore.bell>,\n",
       " '96effc90163c435ba362650a50309f52': <Item title:\"AR\" type:Feature Layer Collection owner:brown.rogers>,\n",
       " '9937f6c26ceb47318871d377ace337f2': <Item title:\"LA\" type:CSV owner:taylor.murphy>,\n",
       " '995d6383112742588cc1fe260bbcbce5': <Item title:\"Davis Reed response locations\" type:Web Map owner:davis.reed>,\n",
       " 'a48ada64298a442a9adbb033fb9d633d': <Item title:\"LA\" type:Feature Layer Collection owner:taylor.murphy>,\n",
       " 'a6ef2b1cd938461e9517742f9a206549': <Item title:\"NV\" type:CSV owner:johnson.stewart>,\n",
       " 'a7c91285df5e4ecfbff11161e90f30d9': <Item title:\"NH\" type:Feature Layer Collection owner:miller.cook>,\n",
       " 'aea3a056e7214adab1d3a4f2d39bc6cd': <Item title:\"FL\" type:CSV owner:davis.reed>,\n",
       " 'c3bbf3ca0041440f9977b86abf62134a': <Item title:\"Johnson Stewart response locations\" type:Web Map owner:johnson.stewart>,\n",
       " 'd3a96bdae2af4e6784679d2dfadbb7a1': <Item title:\"NH\" type:CSV owner:miller.cook>,\n",
       " 'd9fbbab8990d4472862273477c2a301f': <Item title:\"Moore Bell response locations\" type:Web Map owner:moore.bell>,\n",
       " 'e1da4110936b406eb2cab183614d8d43': <Item title:\"FL\" type:Feature Layer Collection owner:davis.reed>,\n",
       " 'eb9e564955b7413ca9a544dd4e72e5f8': <Item title:\"Taylor Murphy response locations\" type:Web Map owner:taylor.murphy>,\n",
       " 'fc16f64be4d04b4cb2a198c7e41be32b': <Item title:\"NV\" type:Feature Layer Collection owner:johnson.stewart>}"
      ]
     },
     "execution_count": 20,
     "metadata": {},
     "output_type": "execute_result"
    }
   ],
   "source": [
    "source_items_by_id"
   ]
  },
  {
   "cell_type": "markdown",
   "metadata": {},
   "source": [
    "## Prepare sharing information for each item\n",
    "Using the dictionary we created above, find to which groups are each of the items shared to."
   ]
  },
  {
   "cell_type": "code",
   "execution_count": 21,
   "metadata": {
    "collapsed": true,
    "scrolled": false
   },
   "outputs": [],
   "source": [
    "for group in source_groups:\n",
    "    #iterate through each item shared to the source group\n",
    "    for group_item in group.content():\n",
    "        try:\n",
    "            #get the item\n",
    "            item = source_items_by_id[group_item.itemid]\n",
    "            if item is not None:\n",
    "                if not 'groups'in item:\n",
    "                    item['groups'] = []\n",
    "                \n",
    "                #assign the target portal's corresponding group's name\n",
    "                item['groups'].append(group['title'])\n",
    "        except:\n",
    "            print(\"Cannot find item : \" + group_item.itemid)"
   ]
  },
  {
   "cell_type": "markdown",
   "metadata": {},
   "source": [
    "### Print a mapping of item and its group membership"
   ]
  },
  {
   "cell_type": "code",
   "execution_count": 27,
   "metadata": {
    "collapsed": false
   },
   "outputs": [
    {
     "name": "stdout",
     "output_type": "stream",
     "text": [
      "\n",
      "Jones Morris response locations          # shared # ['Customer Service, Finance, Billing and Accounting']\n",
      "NC                                       # \n",
      "Davis Reed response locations            # shared # ['Demographic Content']\n",
      "Wilson Morgan response locations         # shared # ['Compliance', 'Demographic Content']\n",
      "NH                                       # \n",
      "AR                                       # \n",
      "Taylor Murphy response locations         # shared # ['Central Services', 'Compliance']\n",
      "Williams Sanchez response locations      # shared # ['Customer Service, Finance, Billing and Accounting']\n",
      "AZ                                       # \n",
      "LA                                       # \n",
      "Brown Rogers response locations          # shared # ['Central Services']\n",
      "FL                                       # \n",
      "Smith Collins response locations         # shared # ['Central Services']\n",
      "Moore Bell response locations            # shared # ['Compliance', 'Demographic Content']\n",
      "IN                                       # \n",
      "NV                                       # \n",
      "ID                                       # \n",
      "NC                                       # \n",
      "LA                                       # \n",
      "AR                                       # \n",
      "IN                                       # \n",
      "Johnson Stewart response locations       # shared # ['Central Services']\n",
      "ID                                       # \n",
      "NV                                       # \n",
      "AZ                                       # \n",
      "Miller Cook response locations           # shared # ['Demographic Content']\n",
      "KS                                       # \n",
      "FL                                       # \n",
      "KS                                       # \n",
      "NH                                       # "
     ]
    }
   ],
   "source": [
    "for key in source_items_by_id.keys():\n",
    "    item = source_items_by_id[key]\n",
    "    print(\"\\n{:40s}\".format(item.title), end = \" # \")\n",
    "    if 'groups' in item:\n",
    "        print(item.access, end = \" # \")\n",
    "        print(item.groups, end = \"\")"
   ]
  },
  {
   "cell_type": "markdown",
   "metadata": {},
   "source": [
    "As we can see from above, some items are shared to a few groups while some are not."
   ]
  },
  {
   "cell_type": "markdown",
   "metadata": {
    "collapsed": true
   },
   "source": [
    "## Copy Items\n",
    "Below we define a function that you can call in a loop for each item in the dictionary we composed earlier. If the item is a text based item such as a Web Map or a file based item such as a layer package, it downloads the item's data to a temporary directory and uses that for creating the target item during cloning. You can find the [exhaustive list of different items](http://doc.arcgis.com/en/arcgis-online/reference/supported-items.htm) that you can upload to your portal and their corresponding item types from the [REST API documentation](http://resources.arcgis.com/en/help/arcgis-rest-api/index.html#/Items_and_item_types/02r3000000ms000000/). For brevity, this sample covers only a subset of those items. Note, if the item points to a web layer URL, the target item would also point to the same URL."
   ]
  },
  {
   "cell_type": "code",
   "execution_count": 30,
   "metadata": {
    "collapsed": true
   },
   "outputs": [],
   "source": [
    "TEXT_BASED_ITEM_TYPES = frozenset(['Web Map', 'Feature Service', 'Map Service','Web Scene',\n",
    "                                   'Image Service', 'Feature Collection', \n",
    "                                   'Feature Collection Template',\n",
    "                                   'Web Mapping Application', 'Mobile Application', \n",
    "                                   'Symbol Set', 'Color Set',\n",
    "                                   'Windows Viewer Configuration'])\n",
    "\n",
    "FILE_BASED_ITEM_TYPES = frozenset(['File Geodatabase','CSV', 'Image', 'KML', 'Locator Package',\n",
    "                                  'Map Document', 'Shapefile', 'Microsoft Word', 'PDF',\n",
    "                                  'Microsoft Powerpoint', 'Microsoft Excel', 'Layer Package',\n",
    "                                  'Mobile Map Package', 'Geoprocessing Package', 'Scene Package',\n",
    "                                  'Tile Package', 'Vector Tile Package'])\n",
    "\n",
    "ITEM_COPY_PROPERTIES = ['title', 'type', 'typeKeywords', 'description', 'tags',\n",
    "                        'snippet', 'extent', 'spatialReference', 'name',\n",
    "                        'accessInformation', 'licenseInfo', 'culture', 'url']"
   ]
  },
  {
   "cell_type": "markdown",
   "metadata": {},
   "source": [
    "We define the copy function for items below. This function gets the properties of the item from source and applies it to the target. If the items were saved inside a folder, it creates that folder on the target as well. Finally, it sets the privacy (sharing) properties similar to how it was on the source portal."
   ]
  },
  {
   "cell_type": "code",
   "execution_count": 31,
   "metadata": {
    "collapsed": true
   },
   "outputs": [],
   "source": [
    "def copy_item(target, source_item):\n",
    "    try:\n",
    "        with tempfile.TemporaryDirectory() as temp_dir:\n",
    "            item_properties = {}\n",
    "            for property_name in ITEM_COPY_PROPERTIES:\n",
    "                item_properties[property_name] = source_item[property_name]\n",
    "\n",
    "            data_file = None\n",
    "            \n",
    "            if source_item.type in TEXT_BASED_ITEM_TYPES:\n",
    "                # If its a text-based item, then read the text and add it to the request.\n",
    "                text = source_item.get_data(False)\n",
    "                item_properties['text'] = text\n",
    "            \n",
    "            elif source_item.type in FILE_BASED_ITEM_TYPES:\n",
    "                # download data and add to the request as a file\n",
    "                data_file = source_item.download(temp_dir)\n",
    "\n",
    "            thumbnail_file = source_item.download_thumbnail(temp_dir)\n",
    "            metadata_file = source_item.download_metadata(temp_dir)\n",
    "\n",
    "            #find item's owner\n",
    "            source_item_owner = source.users.search(source_item.owner)[0]\n",
    "            \n",
    "            #find item's folder\n",
    "            item_folder_titles = [f['title'] for f in source_item_owner.folders \n",
    "                                  if f['id'] == source_item.ownerFolder]\n",
    "            folder_name = None\n",
    "            if len(item_folder_titles) > 0:\n",
    "                folder_name = item_folder_titles[0]\n",
    "\n",
    "            #if folder does not exist for target user, create it\n",
    "            if folder_name:\n",
    "                target_user = target.users.search(source_item.owner)[0]\n",
    "                target_user_folders = [f['title'] for f in target_user.folders\n",
    "                                       if f['title'] == folder_name]\n",
    "                if len(target_user_folders) == 0:\n",
    "                    #create the folder\n",
    "                    target.content.create_folder(folder_name, source_item.owner)\n",
    "            \n",
    "            # Add the item to the target portal, assign owner and folder\n",
    "            target_item = target.content.add(item_properties, data_file, thumbnail_file, \n",
    "                                             metadata_file, source_item.owner, folder_name)\n",
    "            \n",
    "            #Set sharing (privacy) information\n",
    "            share_everyone = source_item.access == 'public'\n",
    "            share_org = source_item.access in ['org', 'public']\n",
    "            share_groups = []\n",
    "            if source_item.access == 'shared':\n",
    "                share_groups = source_item.groups\n",
    "            \n",
    "            target_item.share(share_everyone, share_org, share_groups)\n",
    "            \n",
    "            return target_item\n",
    "        \n",
    "    except Exception as copy_ex:\n",
    "        print(\"\\tError copying \" + source_item.title)\n",
    "        print(\"\\t\" + str(copy_ex))\n",
    "        return None"
   ]
  },
  {
   "cell_type": "markdown",
   "metadata": {},
   "source": [
    "Copy over each item. While doing so, construct a dictionary mapping of source item's ID with target item's ID"
   ]
  },
  {
   "cell_type": "code",
   "execution_count": 32,
   "metadata": {
    "collapsed": false
   },
   "outputs": [
    {
     "name": "stdout",
     "output_type": "stream",
     "text": [
      "Copying Jones Morris response locations \tfor\t jones.morris\n",
      "Copying NC \tfor\t jones.morris\n",
      "Copying Davis Reed response locations \tfor\t davis.reed\n",
      "Copying Wilson Morgan response locations \tfor\t wilson.morgan\n",
      "Copying NH \tfor\t miller.cook\n",
      "Copying AR \tfor\t brown.rogers\n",
      "Copying Taylor Murphy response locations \tfor\t taylor.murphy\n",
      "Copying Williams Sanchez response locations \tfor\t williams.sanchez\n",
      "Copying AZ \tfor\t moore.bell\n",
      "Copying LA \tfor\t taylor.murphy\n",
      "Copying Brown Rogers response locations \tfor\t brown.rogers\n",
      "Copying FL \tfor\t davis.reed\n",
      "Copying Smith Collins response locations \tfor\t smith.collins\n",
      "Copying Moore Bell response locations \tfor\t moore.bell\n",
      "Copying IN \tfor\t williams.sanchez\n",
      "Copying NV \tfor\t johnson.stewart\n",
      "Copying ID \tfor\t wilson.morgan\n",
      "Copying NC \tfor\t jones.morris\n",
      "Copying LA \tfor\t taylor.murphy\n",
      "Copying AR \tfor\t brown.rogers\n",
      "Copying IN \tfor\t williams.sanchez\n",
      "Copying Johnson Stewart response locations \tfor\t johnson.stewart\n",
      "Copying ID \tfor\t wilson.morgan\n",
      "Copying NV \tfor\t johnson.stewart\n",
      "Copying AZ \tfor\t moore.bell\n",
      "Copying Miller Cook response locations \tfor\t miller.cook\n",
      "Copying KS \tfor\t smith.collins\n",
      "Copying FL \tfor\t davis.reed\n",
      "Copying KS \tfor\t smith.collins\n",
      "Copying NH \tfor\t miller.cook\n"
     ]
    }
   ],
   "source": [
    "source_target_itemId_map = {}\n",
    "for key in source_items_by_id.keys():\n",
    "    source_item = source_items_by_id[key]\n",
    "\n",
    "    print(\"Copying {} \\tfor\\t {}\".format(source_item.title, source_item.owner))\n",
    "    target_item = copy_item(target, source_item)\n",
    "    if target_item:\n",
    "        source_target_itemId_map[key] = target_item.itemid\n",
    "    else:\n",
    "        source_target_itemId_map[key] = None"
   ]
  },
  {
   "cell_type": "markdown",
   "metadata": {},
   "source": [
    "We have successfully cloned all the items from source to target. We can query the contents of one of the users below to verify:"
   ]
  },
  {
   "cell_type": "code",
   "execution_count": 33,
   "metadata": {
    "collapsed": false
   },
   "outputs": [
    {
     "data": {
      "text/html": [
       "<div class=\"9item_container\" style=\"height: auto; overflow: hidden; border: 1px solid #cfcfcf; border-radius: 2px; background: #f6fafa; line-height: 1.21429em; padding: 10px;\">\n",
       "                    <div class=\"item_left\" style=\"width: 210px; float: left;\">\n",
       "                       <a href='https://dev005514.esri.com/portal/home/user.html?user=davis.reed' target='_blank'>\n",
       "                        <img src='data:image/png;base64,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' width='200' height='133' class=\"itemThumbnail\">\n",
       "                       </a>\n",
       "                    </div>\n",
       "\n",
       "                    <div class=\"item_right\" style=\"float: none; width: auto; overflow: hidden;\">\n",
       "                        <a href='https://dev005514.esri.com/portal/home/user.html?user=davis.reed' target='_blank'><b>Davis Reed</b>\n",
       "                        </a>\n",
       "                        <br/><br/><b>Bio</b>: None\n",
       "                        <br/><b>First Name</b>: Davis\n",
       "                        <br/><b>Last Name</b>: Reed\n",
       "                        <br/><b>Username</b>: davis.reed\n",
       "                        <br/><b>Joined</b>: July 12, 2017\n",
       "\n",
       "                    </div>\n",
       "                </div>\n",
       "                "
      ],
      "text/plain": [
       "<User username:davis.reed>"
      ]
     },
     "execution_count": 33,
     "metadata": {},
     "output_type": "execute_result"
    }
   ],
   "source": [
    "user1 = target.users.search()[2]\n",
    "user1"
   ]
  },
  {
   "cell_type": "code",
   "execution_count": 34,
   "metadata": {
    "collapsed": false
   },
   "outputs": [
    {
     "data": {
      "text/plain": [
       "[<Item title:\"FL\" type:Feature Layer Collection owner:davis.reed>,\n",
       " <Item title:\"FL\" type:CSV owner:davis.reed>]"
      ]
     },
     "execution_count": 34,
     "metadata": {},
     "output_type": "execute_result"
    }
   ],
   "source": [
    "user1.items()"
   ]
  },
  {
   "cell_type": "markdown",
   "metadata": {},
   "source": [
    "We could query the folders belonging to this user and the items within as well"
   ]
  },
  {
   "cell_type": "code",
   "execution_count": 35,
   "metadata": {
    "collapsed": false
   },
   "outputs": [
    {
     "data": {
      "text/plain": [
       "[{'created': 1499896304064,\n",
       "  'id': '193d1df376af48768a0886ab334c981b',\n",
       "  'title': 'Reed_webmaps',\n",
       "  'username': 'davis.reed'}]"
      ]
     },
     "execution_count": 35,
     "metadata": {},
     "output_type": "execute_result"
    }
   ],
   "source": [
    "user1.folders"
   ]
  },
  {
   "cell_type": "code",
   "execution_count": 36,
   "metadata": {
    "collapsed": false
   },
   "outputs": [
    {
     "data": {
      "text/plain": [
       "[<Item title:\"Davis Reed response locations\" type:Web Map owner:davis.reed>]"
      ]
     },
     "execution_count": 36,
     "metadata": {},
     "output_type": "execute_result"
    }
   ],
   "source": [
    "user1.items(folder=user1.folders[0]['title'])"
   ]
  },
  {
   "cell_type": "markdown",
   "metadata": {},
   "source": [
    "## Establish relationship between items\n",
    "\n",
    "So far, we have successfully cloned users, groups and items from source to target. Next, we will establish identical [relationships](http://resources.arcgis.com/en/help/arcgis-rest-api/index.html#/Relationship_types/02r3000000mm000000/) between items as they were in the source portal."
   ]
  },
  {
   "cell_type": "code",
   "execution_count": 37,
   "metadata": {
    "collapsed": true
   },
   "outputs": [],
   "source": [
    "RELATIONSHIP_TYPES = frozenset(['Map2Service', 'WMA2Code',\n",
    "                                'Map2FeatureCollection', 'MobileApp2Code', 'Service2Data',\n",
    "                                'Service2Service'])"
   ]
  },
  {
   "cell_type": "markdown",
   "metadata": {},
   "source": [
    "Below, we loop through each item in source portal, find to which other item it is related and the type of that relationship. If a relationship is found, we find the corresponding items in target and establish the same relationship. To make this work, we will make use of the dictionary that maps the itemIds on source and target we created during the item clone stage. Let us take a look at that dictionary below:"
   ]
  },
  {
   "cell_type": "code",
   "execution_count": 38,
   "metadata": {
    "collapsed": false
   },
   "outputs": [
    {
     "data": {
      "text/plain": [
       "{'001d9c32cd644ccbb5b3df41e39d1f18': 'b488e717bc91445da52b0b60155a622c',\n",
       " '035233eb258c46918056a0c5b8019a43': 'b393fbd3e4244e499a90f9807e49a075',\n",
       " '062b6b2c15d34bdb94a18148882e6c79': '8c4b109221e14fcb8cd71336307455c2',\n",
       " '0cbd54a8a0eb4fccbc2848661d6e94da': '1ce082263fb344a2a8a5e63757d72785',\n",
       " '1bcb8074538943ae837a1300a7171ebf': '0b31142e54bc4e09ac487df112d00ade',\n",
       " '1bed1dfc23664fc686fce80af433a7b6': 'ca2eb901c07044c9878e9736044a6dde',\n",
       " '3b51fdf1569c408c97e46b2057264bdf': '99f65d4c94404581b30573fadbf58776',\n",
       " '539dc28aa20c40c5a3e813dfe9234c16': '09a67275037b42749cff8d4d78e009f4',\n",
       " '547f8c6539834d2bb8ee7f858b6e3381': '3e0235db2e634a6d9a7200e1789b29c9',\n",
       " '59b74d125ca04f07b1334635d9f492bc': 'a3e5ec7b59584a08ac17e9ea2be0f794',\n",
       " '6fb53825b23045598287ec0452482dca': '43555c6470644c5386167f2785040729',\n",
       " '745738a55b7141d19cd9d8ce23efb0bd': '9415190543ad4ea4a4655b016e2cf0c7',\n",
       " '74b90c924b0c4664ba9a52e4ef3c13f6': 'b454eb36fc2742a2870f72081dbab4f0',\n",
       " '796b4ddbfc564d33bd5b8fc9f82fb326': 'e73b394f7fea48aaaa30f875959b1f12',\n",
       " '7ab553c04f354b53afdfeef0c3432425': 'd22986d044ba4600ab90606b807d6d41',\n",
       " '7d7d1d337e0546539c12da55f5042bbb': '427015fffcb943a880139daee7646555',\n",
       " '873a5dba70b2433a95dbe68df8b30515': '3572ae075e5140da8f4a1443a6edabd8',\n",
       " '96effc90163c435ba362650a50309f52': 'a4d3206d2dfa458e8fb9a0b24d1240ca',\n",
       " '9937f6c26ceb47318871d377ace337f2': '97eef39f74224cfeb3162480e5cc95ba',\n",
       " '995d6383112742588cc1fe260bbcbce5': '752591fbe58f42ee9058edec9dbb1dca',\n",
       " 'a48ada64298a442a9adbb033fb9d633d': 'c1019b547fe94e6fa961a36e05d78908',\n",
       " 'a6ef2b1cd938461e9517742f9a206549': '34ad68c6a69c4471ab6d966b2d36aeb4',\n",
       " 'a7c91285df5e4ecfbff11161e90f30d9': '303eeca940244ada92c10edb39197d2d',\n",
       " 'aea3a056e7214adab1d3a4f2d39bc6cd': '3f37c23e47fe41c4a5532ec670b8e6b5',\n",
       " 'c3bbf3ca0041440f9977b86abf62134a': '75e71fc9a10447268b631c8119d61e64',\n",
       " 'd3a96bdae2af4e6784679d2dfadbb7a1': '3fef38fbdead4f939a0819e470eed713',\n",
       " 'd9fbbab8990d4472862273477c2a301f': 'af39f5e850454e29a0c52b3edf9cc033',\n",
       " 'e1da4110936b406eb2cab183614d8d43': '7e54c6517fc544c980855062be372a10',\n",
       " 'eb9e564955b7413ca9a544dd4e72e5f8': 'b9a6faa1bc5c4efbb3c2dc68aaa34540',\n",
       " 'fc16f64be4d04b4cb2a198c7e41be32b': '54b0e9bd281a44f690e2ba5d663c093f'}"
      ]
     },
     "execution_count": 38,
     "metadata": {},
     "output_type": "execute_result"
    }
   ],
   "source": [
    "source_target_itemId_map"
   ]
  },
  {
   "cell_type": "code",
   "execution_count": 39,
   "metadata": {
    "collapsed": false
   },
   "outputs": [
    {
     "name": "stdout",
     "output_type": "stream",
     "text": [
      "Jones Morris response locations # Web Map\n",
      "NC # Feature Service\n",
      "\t\tNC # CSV\t## Service2Data\n",
      "\t\testablishing relationship in target portal True\n",
      "Davis Reed response locations # Web Map\n",
      "AZ # CSV\n",
      "NH # Feature Service\n",
      "\t\tNH # CSV\t## Service2Data\n",
      "\t\testablishing relationship in target portal True\n",
      "AR # Feature Service\n",
      "\t\tAR # CSV\t## Service2Data\n",
      "\t\testablishing relationship in target portal True\n",
      "Taylor Murphy response locations # Web Map\n",
      "Williams Sanchez response locations # Web Map\n",
      "AZ # Feature Service\n",
      "\t\tAZ # CSV\t## Service2Data\n",
      "\t\testablishing relationship in target portal True\n",
      "LA # CSV\n",
      "Brown Rogers response locations # Web Map\n",
      "FL # Feature Service\n",
      "\t\tFL # CSV\t## Service2Data\n",
      "\t\testablishing relationship in target portal True\n",
      "Smith Collins response locations # Web Map\n",
      "Moore Bell response locations # Web Map\n",
      "IN # CSV\n",
      "NV # CSV\n",
      "ID # Feature Service\n",
      "\t\tID # CSV\t## Service2Data\n",
      "\t\testablishing relationship in target portal True\n",
      "NC # CSV\n",
      "LA # Feature Service\n",
      "\t\tLA # CSV\t## Service2Data\n",
      "\t\testablishing relationship in target portal True\n",
      "AR # CSV\n",
      "KS # CSV\n",
      "Johnson Stewart response locations # Web Map\n",
      "ID # CSV\n",
      "NV # Feature Service\n",
      "\t\tNV # CSV\t## Service2Data\n",
      "\t\testablishing relationship in target portal True\n",
      "Wilson Morgan response locations # Web Map\n",
      "Miller Cook response locations # Web Map\n",
      "KS # Feature Service\n",
      "\t\tKS # CSV\t## Service2Data\n",
      "\t\testablishing relationship in target portal True\n",
      "FL # CSV\n",
      "IN # Feature Service\n",
      "\t\tIN # CSV\t## Service2Data\n",
      "\t\testablishing relationship in target portal True\n",
      "NH # CSV\n"
     ]
    }
   ],
   "source": [
    "for key in source_target_itemId_map.keys():\n",
    "    source_item = source_items_by_id[key]\n",
    "    target_itemid = source_target_itemId_map[key]\n",
    "    target_item = target.content.get(target_itemid)\n",
    "\n",
    "    print(source_item.title + \" # \" + source_item.type)\n",
    "    for relationship in RELATIONSHIP_TYPES:\n",
    "        try:\n",
    "            source_related_items = source_item.related_items(relationship)\n",
    "            for source_related_item in source_related_items:\n",
    "                print(\"\\t\\t\" + source_related_item.title + \" # \" + \n",
    "                      source_related_item.type +\"\\t## \" + relationship)\n",
    "\n",
    "                #establish same relationship amongst target items\n",
    "                print(\"\\t\\t\" + \"establishing relationship in target portal\", end=\" \")\n",
    "                target_related_itemid = source_target_itemId_map[source_related_item.itemid]\n",
    "                target_related_item = target.content.get(target_related_itemid)\n",
    "                status = target_item.add_relationship(target_related_item, relationship)\n",
    "                print(str(status))\n",
    "        except Exception as rel_ex:\n",
    "            print(\"\\t\\t Error when checking for \" + relationship + \" : \" + str(rel_ex))\n",
    "            continue"
   ]
  },
  {
   "cell_type": "markdown",
   "metadata": {},
   "source": [
    "## Clone the styling"
   ]
  },
  {
   "cell_type": "code",
   "execution_count": 40,
   "metadata": {
    "collapsed": true
   },
   "outputs": [],
   "source": [
    "banner_path = source.admin.ux.get_banner(r'E:\\code\\geosaurus\\g_presentations\\2017_UC\\clone_45mins\\styles')\n",
    "background_path = source.admin.ux.get_background(r'E:\\code\\geosaurus\\g_presentations\\2017_UC\\clone_45mins\\styles')"
   ]
  },
  {
   "cell_type": "markdown",
   "metadata": {
    "collapsed": true
   },
   "source": [
    "### set the styling"
   ]
  },
  {
   "cell_type": "code",
   "execution_count": 41,
   "metadata": {
    "collapsed": false
   },
   "outputs": [
    {
     "data": {
      "text/plain": [
       "True"
      ]
     },
     "execution_count": 41,
     "metadata": {},
     "output_type": "execute_result"
    }
   ],
   "source": [
    "target.admin.ux.set_banner(banner_path)\n",
    "target.admin.ux.set_background(background_path)"
   ]
  }
 ],
 "metadata": {
  "kernelspec": {
   "display_name": "Python 3",
   "language": "python",
   "name": "python3"
  },
  "language_info": {
   "codemirror_mode": {
    "name": "ipython",
    "version": 3
   },
   "file_extension": ".py",
   "mimetype": "text/x-python",
   "name": "python",
   "nbconvert_exporter": "python",
   "pygments_lexer": "ipython3",
   "version": "3.5.3"
  }
 },
 "nbformat": 4,
 "nbformat_minor": 1
}
