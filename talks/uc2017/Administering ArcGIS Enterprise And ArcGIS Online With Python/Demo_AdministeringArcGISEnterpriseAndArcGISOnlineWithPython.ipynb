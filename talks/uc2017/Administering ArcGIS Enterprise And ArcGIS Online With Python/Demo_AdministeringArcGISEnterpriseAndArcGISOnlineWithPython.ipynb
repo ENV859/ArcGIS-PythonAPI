{
 "cells": [
  {
   "cell_type": "code",
   "execution_count": 16,
   "metadata": {
    "collapsed": true,
    "slideshow": {
     "slide_type": "skip"
    }
   },
   "outputs": [],
   "source": [
    "from IPython.display import display"
   ]
  },
  {
   "cell_type": "markdown",
   "metadata": {
    "slideshow": {
     "slide_type": "slide"
    }
   },
   "source": [
    "<center>\n",
    "<h2 class=\"title\"><b>Administering ArcGIS Enterprise and ArcGIS Online with Python<b/> </h2>\n",
    "\n",
    "\n",
    "\n",
    "<h3>Andrew Chapkowski</h3>\n",
    "<h3>Bill Major</h3>\n",
    "\n",
    "<div>\n",
    "    <img src=\"staticimg/esri-logo.png\" alt=\"logo\" \n",
    "style=\"width:20%;height:20%;\">\n",
    "</div>\n",
    "\n",
    "\n",
    "<h3>Esri User Conference, July 2017</h3>\n",
    "</center>"
   ]
  },
  {
   "cell_type": "markdown",
   "metadata": {
    "collapsed": true,
    "slideshow": {
     "slide_type": "slide"
    }
   },
   "source": [
    "<center><h2> Presentation Overview </h2></center>\n",
    "\n",
    "- ArcGIS Enterprise and ArcGIS Online Administration\n",
    "    - User\n",
    "    - Groups\n",
    "    - Content\n",
    "    - UX/UI\n",
    "    - Portal Cloning\n",
    "    - Metadata\n",
    "    - Managing Credit \n",
    "    \n"
   ]
  },
  {
   "cell_type": "markdown",
   "metadata": {
    "slideshow": {
     "slide_type": "subslide"
    }
   },
   "source": [
    "<center><h2> Presentation Overview </h2></center>\n",
    "\n",
    "- Server Administration\n",
    "    - services\n",
    "    - folders\n",
    "    - logs\n",
    "    - usage"
   ]
  },
  {
   "cell_type": "markdown",
   "metadata": {
    "slideshow": {
     "slide_type": "slide"
    }
   },
   "source": [
    "<center><h2>ArcGIS API for Python</h2></center>\n",
    "- Python API to your Web GIS\n",
    "- Powerful, modern and easy to use\n",
    "- Implemented using REST and local capabilities \n"
   ]
  },
  {
   "cell_type": "markdown",
   "metadata": {
    "slideshow": {
     "slide_type": "subslide"
    }
   },
   "source": [
    "<center><h2> What is the Python API for ArcGIS </h2></center>\n",
    "\n",
    "The ArcGIS API for Python lets ArcGIS Online and ArcGIS Enterprise users, analysts, developers and administrators script and automate tasks ranging from performing big data analysis to content management and administration of their web GIS.\n",
    "<img src=\"staticimg/PythonAPIGettingStarted.png\" />"
   ]
  },
  {
   "cell_type": "markdown",
   "metadata": {
    "slideshow": {
     "slide_type": "skip"
    }
   },
   "source": [
    "**It helps you get things done!**"
   ]
  },
  {
   "cell_type": "markdown",
   "metadata": {
    "slideshow": {
     "slide_type": "subslide"
    }
   },
   "source": [
    "<center> <h2> Who Uses the ArcGIS API for Python </h2> </center>\n",
    "\n",
    "<img src=\"staticimg/WhatIsArcGISPython.PNG\"/>"
   ]
  },
  {
   "cell_type": "markdown",
   "metadata": {
    "slideshow": {
     "slide_type": "slide"
    }
   },
   "source": [
    "<center> <h2> Connecting to your GIS</h2></center>\n",
    "\n",
    "- the GIS is either ArcGIS Online or an ArcGIS Portal\n",
    "- supports **all** authentication methods\n",
    "\n",
    "<h4> Accessing your Site </h4>"
   ]
  },
  {
   "cell_type": "code",
   "execution_count": null,
   "metadata": {
    "collapsed": true,
    "slideshow": {
     "slide_type": "fragment"
    }
   },
   "outputs": [],
   "source": [
    "from arcgis.gis import GIS\n",
    "gis = GIS(url=\"https://agsapipor1.esri.com/portal\", \n",
    "          username=\"admin\",\n",
    "          password=\"***************\")"
   ]
  },
  {
   "cell_type": "code",
   "execution_count": 1,
   "metadata": {
    "slideshow": {
     "slide_type": "skip"
    }
   },
   "outputs": [
    {
     "name": "stdout",
     "output_type": "stream",
     "text": [
      "Enter password: ········\n"
     ]
    }
   ],
   "source": [
    "from arcgis.gis import GIS\n",
    "gis = GIS(url=\"https://agsapipor1.esri.com/portal\", \n",
    "          username=\"admin\",\n",
    "          verify_cert=False)\n"
   ]
  },
  {
   "cell_type": "markdown",
   "metadata": {
    "slideshow": {
     "slide_type": "slide"
    }
   },
   "source": [
    "<center><h2 class=\"bigtitle\">What can Administrators do?</h2></center>\n",
    "#### What can we do?\n",
    "- organization management\n",
    "- user management\n",
    "- content Management\n",
    "- server management\n",
    "\n",
    "\n",
    "#### Why do this?\n",
    "- script and automate common tasks\n",
    "- streamline work process\n",
    "- make managing systems easier"
   ]
  },
  {
   "cell_type": "markdown",
   "metadata": {
    "slideshow": {
     "slide_type": "slide"
    }
   },
   "source": [
    "<h1 class=\"bigtitle\">Diving into Administration</h1>"
   ]
  },
  {
   "cell_type": "markdown",
   "metadata": {
    "slideshow": {
     "slide_type": "slide"
    }
   },
   "source": [
    "### Working with Users\n",
    "\n",
    "- One of the largest tasks on sites\n",
    "- helps with management tasks\n",
    "   - creating/deleting\n",
    "   - managing content\n",
    "   - assigning roles\n"
   ]
  },
  {
   "cell_type": "code",
   "execution_count": 2,
   "metadata": {
    "collapsed": true,
    "slideshow": {
     "slide_type": "skip"
    }
   },
   "outputs": [],
   "source": [
    "users = gis.users"
   ]
  },
  {
   "cell_type": "markdown",
   "metadata": {
    "slideshow": {
     "slide_type": "subslide"
    }
   },
   "source": [
    "<h3>Getting Your Own Properties</h3>"
   ]
  },
  {
   "cell_type": "code",
   "execution_count": 3,
   "metadata": {
    "slideshow": {
     "slide_type": "fragment"
    }
   },
   "outputs": [
    {
     "data": {
      "text/html": [
       "<div class=\"9item_container\" style=\"height: auto; overflow: hidden; border: 1px solid #cfcfcf; border-radius: 2px; background: #f6fafa; line-height: 1.21429em; padding: 10px;\">\n",
       "                    <div class=\"item_left\" style=\"width: 210px; float: left;\">\n",
       "                       <a href='https://agsapipor1.esri.com/portal/home/user.html?user=admin' target='_blank'>\n",
       "                        <img src='https://agsapipor1.esri.com/portal/home/js/arcgisonline/css/images/no-user-thumb.jpg' class=\"itemThumbnail\">\n",
       "                       </a>\n",
       "                    </div>\n",
       "\n",
       "                    <div class=\"item_right\" style=\"float: none; width: auto; overflow: hidden;\">\n",
       "                        <a href='https://agsapipor1.esri.com/portal/home/user.html?user=admin' target='_blank'><b>admin account</b>\n",
       "                        </a>\n",
       "                        <br/><br/><b>Bio</b>: None\n",
       "                        <br/><b>First Name</b>: admin\n",
       "                        <br/><b>Last Name</b>: account\n",
       "                        <br/><b>Username</b>: admin\n",
       "                        <br/><b>Joined</b>: June 26, 2017\n",
       "\n",
       "                    </div>\n",
       "                </div>\n",
       "                "
      ],
      "text/plain": [
       "<User username:admin>"
      ]
     },
     "execution_count": 3,
     "metadata": {},
     "output_type": "execute_result"
    }
   ],
   "source": [
    "gis.users.me"
   ]
  },
  {
   "cell_type": "markdown",
   "metadata": {
    "slideshow": {
     "slide_type": "subslide"
    }
   },
   "source": [
    "<h3>Demo: Creating Users from List</h3>"
   ]
  },
  {
   "cell_type": "code",
   "execution_count": null,
   "metadata": {
    "collapsed": true,
    "slideshow": {
     "slide_type": "skip"
    }
   },
   "outputs": [],
   "source": [
    "password = \"random1!\""
   ]
  },
  {
   "cell_type": "code",
   "execution_count": 5,
   "metadata": {
    "slideshow": {
     "slide_type": "fragment"
    }
   },
   "outputs": [],
   "source": [
    "import pandas as pd\n",
    "df = pd.read_csv(r\"data/users.csv\")"
   ]
  },
  {
   "cell_type": "code",
   "execution_count": 6,
   "metadata": {
    "slideshow": {
     "slide_type": "fragment"
    }
   },
   "outputs": [
    {
     "data": {
      "text/html": [
       "<div>\n",
       "<style>\n",
       "    .dataframe thead tr:only-child th {\n",
       "        text-align: right;\n",
       "    }\n",
       "\n",
       "    .dataframe thead th {\n",
       "        text-align: left;\n",
       "    }\n",
       "\n",
       "    .dataframe tbody tr th {\n",
       "        vertical-align: top;\n",
       "    }\n",
       "</style>\n",
       "<table border=\"1\" class=\"dataframe\">\n",
       "  <thead>\n",
       "    <tr style=\"text-align: right;\">\n",
       "      <th></th>\n",
       "      <th>fname</th>\n",
       "      <th>lname</th>\n",
       "      <th>username</th>\n",
       "      <th>role</th>\n",
       "      <th>email</th>\n",
       "    </tr>\n",
       "  </thead>\n",
       "  <tbody>\n",
       "    <tr>\n",
       "      <th>0</th>\n",
       "      <td>Dena</td>\n",
       "      <td>Mucha</td>\n",
       "      <td>faccount1</td>\n",
       "      <td>org_publisher</td>\n",
       "      <td>Mucha@fakesite.com</td>\n",
       "    </tr>\n",
       "    <tr>\n",
       "      <th>1</th>\n",
       "      <td>Darcey</td>\n",
       "      <td>Heart</td>\n",
       "      <td>faccount2</td>\n",
       "      <td>org_admin</td>\n",
       "      <td>Heart@fakesite.com</td>\n",
       "    </tr>\n",
       "    <tr>\n",
       "      <th>2</th>\n",
       "      <td>Julius</td>\n",
       "      <td>Eilers</td>\n",
       "      <td>faccount3</td>\n",
       "      <td>org_user</td>\n",
       "      <td>Eilers@fakesite.com</td>\n",
       "    </tr>\n",
       "    <tr>\n",
       "      <th>3</th>\n",
       "      <td>Tenisha</td>\n",
       "      <td>Nakamura</td>\n",
       "      <td>faccount4</td>\n",
       "      <td>org_user</td>\n",
       "      <td>Nakamura@fakesite.com</td>\n",
       "    </tr>\n",
       "    <tr>\n",
       "      <th>4</th>\n",
       "      <td>Agripina</td>\n",
       "      <td>Croghan</td>\n",
       "      <td>faccount5</td>\n",
       "      <td>org_user</td>\n",
       "      <td>Croghan@fakesite.com</td>\n",
       "    </tr>\n",
       "  </tbody>\n",
       "</table>\n",
       "</div>"
      ],
      "text/plain": [
       "      fname     lname   username           role                  email\n",
       "0      Dena     Mucha  faccount1  org_publisher     Mucha@fakesite.com\n",
       "1    Darcey     Heart  faccount2      org_admin     Heart@fakesite.com\n",
       "2    Julius    Eilers  faccount3       org_user    Eilers@fakesite.com\n",
       "3   Tenisha  Nakamura  faccount4       org_user  Nakamura@fakesite.com\n",
       "4  Agripina   Croghan  faccount5       org_user   Croghan@fakesite.com"
      ]
     },
     "execution_count": 6,
     "metadata": {},
     "output_type": "execute_result"
    }
   ],
   "source": [
    "df.head()"
   ]
  },
  {
   "cell_type": "code",
   "execution_count": 21,
   "metadata": {
    "slideshow": {
     "slide_type": "subslide"
    }
   },
   "outputs": [
    {
     "name": "stdout",
     "output_type": "stream",
     "text": [
      "[<User username:faccount1>, <User username:faccount2>, <User username:faccount3>, <User username:faccount4>, <User username:faccount5>]\n"
     ]
    }
   ],
   "source": [
    "new_users = []\n",
    "for idx, row in df.iterrows():\n",
    "    new_users.append(gis.users.create(lastname=row['lname'],\n",
    "                                      firstname=row['fname'],\n",
    "                                      username=row['username'],\n",
    "                                      password=password,\n",
    "                                      email=row['email'],\n",
    "                                      role=row['role'])\n",
    "                    )\n",
    "    if idx == 4:\n",
    "        break\n",
    "print(new_users)"
   ]
  },
  {
   "cell_type": "code",
   "execution_count": 22,
   "metadata": {
    "slideshow": {
     "slide_type": "subslide"
    }
   },
   "outputs": [
    {
     "data": {
      "text/html": [
       "<div class=\"9item_container\" style=\"height: auto; overflow: hidden; border: 1px solid #cfcfcf; border-radius: 2px; background: #f6fafa; line-height: 1.21429em; padding: 10px;\">\n",
       "                    <div class=\"item_left\" style=\"width: 210px; float: left;\">\n",
       "                       <a href='https://python.playground.esri.com/portal/home/user.html?user=faccount2' target='_blank'>\n",
       "                        <img src='https://python.playground.esri.com/portal/home/js/arcgisonline/css/images/no-user-thumb.jpg' class=\"itemThumbnail\">\n",
       "                       </a>\n",
       "                    </div>\n",
       "\n",
       "                    <div class=\"item_right\" style=\"float: none; width: auto; overflow: hidden;\">\n",
       "                        <a href='https://python.playground.esri.com/portal/home/user.html?user=faccount2' target='_blank'><b>Darcey Heart</b>\n",
       "                        </a>\n",
       "                        <br/><br/><b>Bio</b>: None\n",
       "                        <br/><b>First Name</b>: Darcey\n",
       "                        <br/><b>Last Name</b>: Heart\n",
       "                        <br/><b>Username</b>: faccount2\n",
       "                        <br/><b>Joined</b>: July 06, 2017\n",
       "\n",
       "                    </div>\n",
       "                </div>\n",
       "                "
      ],
      "text/plain": [
       "<User username:faccount2>"
      ]
     },
     "execution_count": 22,
     "metadata": {},
     "output_type": "execute_result"
    }
   ],
   "source": [
    "new_users[1]"
   ]
  },
  {
   "cell_type": "markdown",
   "metadata": {
    "slideshow": {
     "slide_type": "fragment"
    }
   },
   "source": [
    "<h4> Updating User Profile Image </h4>"
   ]
  },
  {
   "cell_type": "code",
   "execution_count": 23,
   "metadata": {
    "slideshow": {
     "slide_type": "fragment"
    }
   },
   "outputs": [
    {
     "data": {
      "text/html": [
       "<div class=\"9item_container\" style=\"height: auto; overflow: hidden; border: 1px solid #cfcfcf; border-radius: 2px; background: #f6fafa; line-height: 1.21429em; padding: 10px;\">\n",
       "                    <div class=\"item_left\" style=\"width: 210px; float: left;\">\n",
       "                       <a href='https://python.playground.esri.com/portal/home/user.html?user=faccount2' target='_blank'>\n",
       "                        <img src='data:image/png;base64,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' width='200' height='133' class=\"itemThumbnail\">\n",
       "                       </a>\n",
       "                    </div>\n",
       "\n",
       "                    <div class=\"item_right\" style=\"float: none; width: auto; overflow: hidden;\">\n",
       "                        <a href='https://python.playground.esri.com/portal/home/user.html?user=faccount2' target='_blank'><b>Darcey Heart</b>\n",
       "                        </a>\n",
       "                        <br/><br/><b>Bio</b>: None\n",
       "                        <br/><b>First Name</b>: Darcey\n",
       "                        <br/><b>Last Name</b>: Heart\n",
       "                        <br/><b>Username</b>: faccount2\n",
       "                        <br/><b>Joined</b>: July 06, 2017\n",
       "\n",
       "                    </div>\n",
       "                </div>\n",
       "                "
      ],
      "text/plain": [
       "<User username:faccount2>"
      ]
     },
     "execution_count": 23,
     "metadata": {},
     "output_type": "execute_result"
    }
   ],
   "source": [
    "u = new_users[1]\n",
    "u.update(thumbnail=\"data/bio_image.jpg\")\n",
    "u"
   ]
  },
  {
   "cell_type": "markdown",
   "metadata": {
    "slideshow": {
     "slide_type": "slide"
    }
   },
   "source": [
    "### Working with Groups\n",
    "\n",
    "- collaborative spaces\n",
    "- share content"
   ]
  },
  {
   "cell_type": "markdown",
   "metadata": {
    "slideshow": {
     "slide_type": "subslide"
    }
   },
   "source": [
    "### Creating a Group"
   ]
  },
  {
   "cell_type": "code",
   "execution_count": 24,
   "metadata": {
    "slideshow": {
     "slide_type": "fragment"
    }
   },
   "outputs": [],
   "source": [
    "uc_group = gis.groups.create(title=\"UCUserGroup\", \n",
    "              tags=\"UC2017\", \n",
    "              description=\"Demo Group\", \n",
    "              snippet=None, \n",
    "              access='org', \n",
    "              thumbnail=None, \n",
    "              is_invitation_only=False, \n",
    "              sort_field='avgRating', \n",
    "              sort_order='desc', \n",
    "              is_view_only=False)"
   ]
  },
  {
   "cell_type": "code",
   "execution_count": 25,
   "metadata": {
    "slideshow": {
     "slide_type": "subslide"
    }
   },
   "outputs": [
    {
     "data": {
      "text/html": [
       "<div class=\"9item_container\" style=\"height: auto; overflow: hidden; border: 1px solid #cfcfcf; border-radius: 2px; background: #f6fafa; line-height: 1.21429em; padding: 10px;\">\n",
       "                    <div class=\"item_left\" style=\"width: 210px; float: left;\">\n",
       "                       <a href='https://python.playground.esri.com/portal/home/group.html?id=90e33b842efc45a59e1ebfe53a4121db' target='_blank'>\n",
       "                        <img src='data:image/png;base64,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' ' class=\"itemThumbnail\">\n",
       "                       </a>\n",
       "                    </div>\n",
       "\n",
       "                    <div class=\"item_right\" style=\"float: none; width: auto; overflow: hidden;\">\n",
       "                        <a href='https://python.playground.esri.com/portal/home/group.html?id=90e33b842efc45a59e1ebfe53a4121db' target='_blank'><b>UCUserGroup</b>\n",
       "                        </a>\n",
       "                        <br/>\n",
       "                        <br/><b>Summary</b>: None\n",
       "                        <br/><b>Description</b>: Demo Group\n",
       "                        <br/><b>Owner</b>: ucdemo2017\n",
       "                        <br/><b>Created</b>: July 06, 2017\n",
       "\n",
       "                    </div>\n",
       "                </div>\n",
       "                "
      ],
      "text/plain": [
       "<Group title:\"UCUserGroup\" owner:ucdemo2017>"
      ]
     },
     "execution_count": 25,
     "metadata": {},
     "output_type": "execute_result"
    }
   ],
   "source": [
    "uc_group.update(thumbnail=\"data/group_logo.gif\")\n",
    "uc_group"
   ]
  },
  {
   "cell_type": "markdown",
   "metadata": {
    "slideshow": {
     "slide_type": "subslide"
    }
   },
   "source": [
    "#### Adding User to Group"
   ]
  },
  {
   "cell_type": "code",
   "execution_count": 26,
   "metadata": {
    "slideshow": {
     "slide_type": "fragment"
    }
   },
   "outputs": [
    {
     "data": {
      "text/plain": [
       "{'notAdded': []}"
      ]
     },
     "execution_count": 26,
     "metadata": {},
     "output_type": "execute_result"
    }
   ],
   "source": [
    "add_users = [u.username for u in new_users]\n",
    "uc_group.add_users(usernames=add_users)"
   ]
  },
  {
   "cell_type": "code",
   "execution_count": 27,
   "metadata": {
    "slideshow": {
     "slide_type": "fragment"
    }
   },
   "outputs": [
    {
     "data": {
      "text/plain": [
       "{'admins': ['ucdemo2017'],\n",
       " 'owner': 'ucdemo2017',\n",
       " 'users': ['faccount2', 'faccount1', 'faccount4', 'faccount3', 'faccount5']}"
      ]
     },
     "execution_count": 27,
     "metadata": {},
     "output_type": "execute_result"
    }
   ],
   "source": [
    "uc_group.get_members()"
   ]
  },
  {
   "cell_type": "markdown",
   "metadata": {
    "slideshow": {
     "slide_type": "skip"
    }
   },
   "source": [
    "## Demo: Cloning a Group\n",
    "\n",
    "- mimic portal groups from another source"
   ]
  },
  {
   "cell_type": "markdown",
   "metadata": {
    "slideshow": {
     "slide_type": "slide"
    }
   },
   "source": [
    "## Working with Content\n",
    "\n",
    "- manage user data\n",
    "- delete items\n",
    "- publish data\n",
    "- protect data\n"
   ]
  },
  {
   "cell_type": "markdown",
   "metadata": {
    "slideshow": {
     "slide_type": "slide"
    }
   },
   "source": [
    "<center><h3> Demo of Publishing Hosted Feature Service</h3></center>\n",
    "\n",
    "- Add the Zipped File Geodatabase\n",
    "- Publish the File Geodatabase\n",
    "- Change Item's Ownership"
   ]
  },
  {
   "cell_type": "code",
   "execution_count": 28,
   "metadata": {
    "slideshow": {
     "slide_type": "skip"
    }
   },
   "outputs": [],
   "source": [
    "items = gis.content.search(\"World Wide Cities\")\n",
    "if len(items) > 0:\n",
    "    for item in items:\n",
    "        item.delete()"
   ]
  },
  {
   "cell_type": "markdown",
   "metadata": {
    "slideshow": {
     "slide_type": "subslide"
    }
   },
   "source": [
    "<center><h3> Adding an Item </h3></center>"
   ]
  },
  {
   "cell_type": "code",
   "execution_count": 29,
   "metadata": {
    "slideshow": {
     "slide_type": "fragment"
    }
   },
   "outputs": [
    {
     "data": {
      "text/html": [
       "<div class=\"item_container\" style=\"height: auto; overflow: hidden; border: 1px solid #cfcfcf; border-radius: 2px; background: #f6fafa; line-height: 1.21429em; padding: 10px;\">\n",
       "                    <div class=\"item_left\" style=\"width: 210px; float: left;\">\n",
       "                       <a href='https://python.playground.esri.com/portal/home/item.html?id=9ab887e3b1e34671aa34cea15bf9d035' target='_blank'>\n",
       "                        <img src='https://python.playground.esri.com/portal/portalimages/desktopapp.png' class=\"itemThumbnail\">\n",
       "                       </a>\n",
       "                    </div>\n",
       "\n",
       "                    <div class=\"item_right\"     style=\"float: none; width: auto; overflow: hidden;\">\n",
       "                        <a href='https://python.playground.esri.com/portal/home/item.html?id=9ab887e3b1e34671aa34cea15bf9d035' target='_blank'><b>World Wide Cities</b>\n",
       "                        </a>\n",
       "                        <br/><img src='https://python.playground.esri.com/portal/home/js/jsapi/esri/css/images/item_type_icons/layers16.png' style=\"vertical-align:middle;\">File Geodatabase by ucdemo2017\n",
       "                        <br/>Last Modified: July 06, 2017\n",
       "                        <br/>0 comments, 0 views\n",
       "                    </div>\n",
       "                </div>\n",
       "                "
      ],
      "text/plain": [
       "<Item title:\"World Wide Cities\" type:File Geodatabase owner:ucdemo2017>"
      ]
     },
     "execution_count": 29,
     "metadata": {},
     "output_type": "execute_result"
    }
   ],
   "source": [
    "ip = {\n",
    "    \"type\" : \"File Geodatabase\",\n",
    "    \"title\" : \"World Wide Cities\",\n",
    "    \"tags\" : \"cities\"\n",
    "}\n",
    "item = gis.content.add(data=\"data/cities.zip\", item_properties=ip)\n",
    "item   "
   ]
  },
  {
   "cell_type": "markdown",
   "metadata": {
    "slideshow": {
     "slide_type": "subslide"
    }
   },
   "source": [
    "<center><h3> Publishing the Item </h3></center>"
   ]
  },
  {
   "cell_type": "code",
   "execution_count": 30,
   "metadata": {
    "slideshow": {
     "slide_type": "fragment"
    }
   },
   "outputs": [
    {
     "data": {
      "text/html": [
       "<div class=\"item_container\" style=\"height: auto; overflow: hidden; border: 1px solid #cfcfcf; border-radius: 2px; background: #f6fafa; line-height: 1.21429em; padding: 10px;\">\n",
       "                    <div class=\"item_left\" style=\"width: 210px; float: left;\">\n",
       "                       <a href='https://python.playground.esri.com/portal/home/item.html?id=991dd97acc894efab0584743bee4530e' target='_blank'>\n",
       "                        <img src='https://python.playground.esri.com/portal/portalimages/desktopapp.png' class=\"itemThumbnail\">\n",
       "                       </a>\n",
       "                    </div>\n",
       "\n",
       "                    <div class=\"item_right\"     style=\"float: none; width: auto; overflow: hidden;\">\n",
       "                        <a href='https://python.playground.esri.com/portal/home/item.html?id=991dd97acc894efab0584743bee4530e' target='_blank'><b>World Wide Cities</b>\n",
       "                        </a>\n",
       "                        <br/><img src='https://python.playground.esri.com/portal/home/js/jsapi/esri/css/images/item_type_icons/featureshosted16.png' style=\"vertical-align:middle;\">Feature Layer Collection by ucdemo2017\n",
       "                        <br/>Last Modified: July 06, 2017\n",
       "                        <br/>0 comments, 0 views\n",
       "                    </div>\n",
       "                </div>\n",
       "                "
      ],
      "text/plain": [
       "<Item title:\"World Wide Cities\" type:Feature Layer Collection owner:ucdemo2017>"
      ]
     },
     "execution_count": 30,
     "metadata": {},
     "output_type": "execute_result"
    }
   ],
   "source": [
    "published_item = item.publish(file_type=\"filegeodatabase\",\n",
    "    publish_parameters={\"hasStaticData\":True,\"name\":\"ucdemotest\",\n",
    "                        \"maxRecordCount\":2000,\n",
    "                        \"layerInfo\":{\"capabilities\":\"Query\"}})\n",
    "published_item"
   ]
  },
  {
   "cell_type": "markdown",
   "metadata": {
    "slideshow": {
     "slide_type": "subslide"
    }
   },
   "source": [
    "<center><h3> Changing Ownership </h3></center>"
   ]
  },
  {
   "cell_type": "code",
   "execution_count": 31,
   "metadata": {
    "slideshow": {
     "slide_type": "fragment"
    }
   },
   "outputs": [
    {
     "data": {
      "text/html": [
       "<div class=\"9item_container\" style=\"height: auto; overflow: hidden; border: 1px solid #cfcfcf; border-radius: 2px; background: #f6fafa; line-height: 1.21429em; padding: 10px;\">\n",
       "                    <div class=\"item_left\" style=\"width: 210px; float: left;\">\n",
       "                       <a href='https://python.playground.esri.com/portal/home/user.html?user=faccount2' target='_blank'>\n",
       "                        <img src='data:image/png;base64,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' width='200' height='133' class=\"itemThumbnail\">\n",
       "                       </a>\n",
       "                    </div>\n",
       "\n",
       "                    <div class=\"item_right\" style=\"float: none; width: auto; overflow: hidden;\">\n",
       "                        <a href='https://python.playground.esri.com/portal/home/user.html?user=faccount2' target='_blank'><b>Darcey Heart</b>\n",
       "                        </a>\n",
       "                        <br/><br/><b>Bio</b>: None\n",
       "                        <br/><b>First Name</b>: Darcey\n",
       "                        <br/><b>Last Name</b>: Heart\n",
       "                        <br/><b>Username</b>: faccount2\n",
       "                        <br/><b>Joined</b>: July 06, 2017\n",
       "\n",
       "                    </div>\n",
       "                </div>\n",
       "                "
      ],
      "text/plain": [
       "<User username:faccount2>"
      ]
     },
     "execution_count": 31,
     "metadata": {},
     "output_type": "execute_result"
    }
   ],
   "source": [
    "assign_to_user = new_users[1]\n",
    "assign_to_user"
   ]
  },
  {
   "cell_type": "code",
   "execution_count": 32,
   "metadata": {
    "slideshow": {
     "slide_type": "fragment"
    }
   },
   "outputs": [
    {
     "data": {
      "text/plain": [
       "True"
      ]
     },
     "execution_count": 32,
     "metadata": {},
     "output_type": "execute_result"
    }
   ],
   "source": [
    "published_item.reassign_to(target_owner=new_users[1].username)"
   ]
  },
  {
   "cell_type": "markdown",
   "metadata": {
    "slideshow": {
     "slide_type": "subslide"
    }
   },
   "source": [
    "<center><h3> Impacts of Changing Ownership </h3></center>\n",
    "\n",
    "- Published content also moves source data"
   ]
  },
  {
   "cell_type": "code",
   "execution_count": 33,
   "metadata": {
    "slideshow": {
     "slide_type": "fragment"
    }
   },
   "outputs": [
    {
     "name": "stdout",
     "output_type": "stream",
     "text": [
      "<Item title:\"World Wide Cities\" type:File Geodatabase owner:faccount2>\n",
      "<Item title:\"World Wide Cities\" type:Feature Layer Collection owner:faccount2>\n"
     ]
    }
   ],
   "source": [
    "for item in assign_to_user.items():\n",
    "    print(item)"
   ]
  },
  {
   "cell_type": "markdown",
   "metadata": {
    "slideshow": {
     "slide_type": "subslide"
    }
   },
   "source": [
    "<center><h3> Adding Content to Groups </h3></center>"
   ]
  },
  {
   "cell_type": "code",
   "execution_count": 34,
   "metadata": {
    "slideshow": {
     "slide_type": "fragment"
    }
   },
   "outputs": [],
   "source": [
    "for item in assign_to_user.items():\n",
    "    item.share(groups=uc_group.id)"
   ]
  },
  {
   "cell_type": "code",
   "execution_count": 37,
   "metadata": {
    "slideshow": {
     "slide_type": "skip"
    }
   },
   "outputs": [
    {
     "data": {
      "text/plain": [
       "True"
      ]
     },
     "execution_count": 37,
     "metadata": {},
     "output_type": "execute_result"
    }
   ],
   "source": [
    "for item in assign_to_user.items():\n",
    "    item.delete()\n",
    "    del item\n",
    "for u in new_users:\n",
    "    u.delete()\n",
    "    del u\n",
    "new_users = []\n",
    "uc_group.delete()"
   ]
  },
  {
   "cell_type": "markdown",
   "metadata": {
    "slideshow": {
     "slide_type": "slide"
    }
   },
   "source": [
    "### Customizing the User Interface\n",
    "\n",
    "- Update banner\n",
    "- Update logo\n",
    "- Update background\n",
    "\n"
   ]
  },
  {
   "cell_type": "code",
   "execution_count": 38,
   "metadata": {
    "slideshow": {
     "slide_type": "fragment"
    }
   },
   "outputs": [],
   "source": [
    "ux = gis.admin.ux"
   ]
  },
  {
   "cell_type": "markdown",
   "metadata": {
    "slideshow": {
     "slide_type": "subslide"
    }
   },
   "source": [
    "#### Setting a Background\n",
    "<img src=\"staticimg/portal_default.png\" alt=\"where1\" \n",
    "/>"
   ]
  },
  {
   "cell_type": "code",
   "execution_count": 39,
   "metadata": {
    "slideshow": {
     "slide_type": "subslide"
    }
   },
   "outputs": [
    {
     "data": {
      "text/plain": [
       "True"
      ]
     },
     "execution_count": 39,
     "metadata": {},
     "output_type": "execute_result"
    }
   ],
   "source": [
    "ux.set_background(background_file='staticimg/background.jpg', is_built_in=False)"
   ]
  },
  {
   "cell_type": "markdown",
   "metadata": {
    "slideshow": {
     "slide_type": "fragment"
    }
   },
   "source": [
    "\n",
    "<img src=\"staticimg/portal_background.png\" alt=\"where2\" \n",
    "/>\n"
   ]
  },
  {
   "cell_type": "markdown",
   "metadata": {
    "slideshow": {
     "slide_type": "subslide"
    }
   },
   "source": [
    "#### Setting a Banner"
   ]
  },
  {
   "cell_type": "code",
   "execution_count": 40,
   "metadata": {
    "slideshow": {
     "slide_type": "fragment"
    }
   },
   "outputs": [
    {
     "data": {
      "text/plain": [
       "True"
      ]
     },
     "execution_count": 40,
     "metadata": {},
     "output_type": "execute_result"
    }
   ],
   "source": [
    "ux.set_banner(banner_file=\"staticimg/banner.png\", is_built_in=False)"
   ]
  },
  {
   "cell_type": "markdown",
   "metadata": {
    "collapsed": true,
    "slideshow": {
     "slide_type": "fragment"
    }
   },
   "source": [
    "<hr/>\n",
    "<img src=\"staticimg/portal_banner.png\" alt=\"where2\" \n",
    "style=\"width:100%;height:100%;\">\n",
    "<hr/>"
   ]
  },
  {
   "cell_type": "markdown",
   "metadata": {
    "slideshow": {
     "slide_type": "subslide"
    }
   },
   "source": [
    "### Setting a Logo"
   ]
  },
  {
   "cell_type": "code",
   "execution_count": 41,
   "metadata": {
    "slideshow": {
     "slide_type": "fragment"
    }
   },
   "outputs": [
    {
     "data": {
      "text/plain": [
       "True"
      ]
     },
     "execution_count": 41,
     "metadata": {},
     "output_type": "execute_result"
    }
   ],
   "source": [
    "ux.set_logo(logo_file=\"staticimg/logo.jpg\")"
   ]
  },
  {
   "cell_type": "markdown",
   "metadata": {
    "slideshow": {
     "slide_type": "fragment"
    }
   },
   "source": [
    "- reset the background to default"
   ]
  },
  {
   "cell_type": "code",
   "execution_count": 42,
   "metadata": {
    "slideshow": {
     "slide_type": "fragment"
    }
   },
   "outputs": [
    {
     "data": {
      "text/plain": [
       "True"
      ]
     },
     "execution_count": 42,
     "metadata": {},
     "output_type": "execute_result"
    }
   ],
   "source": [
    "ux.set_background(background_file=None, is_built_in=False)"
   ]
  },
  {
   "cell_type": "markdown",
   "metadata": {
    "slideshow": {
     "slide_type": "fragment"
    }
   },
   "source": [
    "- provides methods to use built-in banners"
   ]
  },
  {
   "cell_type": "code",
   "execution_count": 43,
   "metadata": {
    "slideshow": {
     "slide_type": "fragment"
    }
   },
   "outputs": [
    {
     "data": {
      "text/plain": [
       "True"
      ]
     },
     "execution_count": 43,
     "metadata": {},
     "output_type": "execute_result"
    }
   ],
   "source": [
    "ux.set_banner(banner_file=1, is_built_in=True)"
   ]
  },
  {
   "cell_type": "markdown",
   "metadata": {
    "slideshow": {
     "slide_type": "slide"
    }
   },
   "source": [
    "## Demo: Clone Portal Users, Groups and Content"
   ]
  },
  {
   "cell_type": "markdown",
   "metadata": {
    "slideshow": {
     "slide_type": "slide"
    }
   },
   "source": [
    "\n",
    "<center> <h2> Managing a Site's Metadata </h2> \n",
    "\n",
    "<img src=\"http://desktop.arcgis.com/en/arcmap/latest/manage-data/metadata/GUID-F0B318F9-7338-4369-ACE5-0353DCC48E7F-web.png\" \n",
    "style=\"width:40% height:35%\"/></center>\n"
   ]
  },
  {
   "cell_type": "markdown",
   "metadata": {
    "slideshow": {
     "slide_type": "subslide"
    }
   },
   "source": [
    "<center <h2> Metadata's Importance </h2> </center>\n",
    "<ul>\n",
    "  <li>describes data</li>\n",
    "  <li>helps content consumers</li>\n",
    "  <li>multiple format support\n",
    "  <ul>\n",
    "    <li>fgdc</li>\n",
    "    <li>inspire</li>\n",
    "    <li>iso19139</li>\n",
    "    <li>iso19139-3.2</li>\n",
    "    <li>iso19115</li>\n",
    "    <li>arcgis</li>\n",
    "    </ul>\n",
    "  </li>\n",
    "</ul>"
   ]
  },
  {
   "cell_type": "markdown",
   "metadata": {
    "slideshow": {
     "slide_type": "subslide"
    }
   },
   "source": [
    "#### Enabling Metadata\n",
    "\n",
    "- can specify metadata format or accept default"
   ]
  },
  {
   "cell_type": "code",
   "execution_count": 44,
   "metadata": {
    "slideshow": {
     "slide_type": "fragment"
    }
   },
   "outputs": [
    {
     "data": {
      "text/plain": [
       "True"
      ]
     },
     "execution_count": 44,
     "metadata": {},
     "output_type": "execute_result"
    }
   ],
   "source": [
    "metadata = gis.admin.metadata\n",
    "metadata.enable(metadata_format=\"iso19115\")"
   ]
  },
  {
   "cell_type": "markdown",
   "metadata": {
    "slideshow": {
     "slide_type": "fragment"
    }
   },
   "source": [
    "#### Disable Metadata"
   ]
  },
  {
   "cell_type": "code",
   "execution_count": 49,
   "metadata": {
    "slideshow": {
     "slide_type": "fragment"
    }
   },
   "outputs": [
    {
     "data": {
      "text/plain": [
       "True"
      ]
     },
     "execution_count": 49,
     "metadata": {},
     "output_type": "execute_result"
    }
   ],
   "source": [
    "metadata.disable()"
   ]
  },
  {
   "cell_type": "markdown",
   "metadata": {
    "slideshow": {
     "slide_type": "subslide"
    }
   },
   "source": [
    "#### Checking if metadata is enabled"
   ]
  },
  {
   "cell_type": "code",
   "execution_count": 50,
   "metadata": {
    "slideshow": {
     "slide_type": "fragment"
    }
   },
   "outputs": [
    {
     "name": "stdout",
     "output_type": "stream",
     "text": [
      "False\n",
      "True\n"
     ]
    }
   ],
   "source": [
    "print(metadata.is_enabled)\n",
    "metadata.enable(metadata_format=\"iso19115\")\n",
    "print(metadata.is_enabled)"
   ]
  },
  {
   "cell_type": "markdown",
   "metadata": {
    "slideshow": {
     "slide_type": "fragment"
    }
   },
   "source": [
    "#### Modify the Metadata Format\n",
    "\n",
    "- allows for changing to formats easily\n",
    "- supports the same formats as when enabled"
   ]
  },
  {
   "cell_type": "code",
   "execution_count": 51,
   "metadata": {
    "slideshow": {
     "slide_type": "fragment"
    }
   },
   "outputs": [
    {
     "data": {
      "text/plain": [
       "True"
      ]
     },
     "execution_count": 51,
     "metadata": {},
     "output_type": "execute_result"
    }
   ],
   "source": [
    "metadata.update(metadata_format=\"arcgis\")"
   ]
  },
  {
   "cell_type": "markdown",
   "metadata": {
    "slideshow": {
     "slide_type": "slide"
    }
   },
   "source": [
    "### Managing Credits\n",
    "\n",
    "- ArcGIS Online only\n",
    "- service credits are the currency used across ArcGIS\n",
    "- import part of administration"
   ]
  },
  {
   "cell_type": "markdown",
   "metadata": {
    "collapsed": true,
    "slideshow": {
     "slide_type": "subslide"
    }
   },
   "source": [
    "#### Enabling/Disable Credits on Organization\n",
    "\n",
    "<center><img src=\"staticimg/credits.jpg\" alt=\"credits\" \n",
    "style=\"width:50%;height:30%;\"></center>\n",
    "\n",
    "- allows for budgeting strategies\n",
    "- can either allot a specific amount of credits or given unlimited to users"
   ]
  },
  {
   "cell_type": "code",
   "execution_count": 52,
   "metadata": {
    "slideshow": {
     "slide_type": "skip"
    }
   },
   "outputs": [
    {
     "name": "stdout",
     "output_type": "stream",
     "text": [
      "········\n",
      "········\n"
     ]
    }
   ],
   "source": [
    "from arcgis.gis import GIS\n",
    "import getpass\n",
    "online = GIS(username=getpass.getpass(), \n",
    "             password=getpass.getpass())"
   ]
  },
  {
   "cell_type": "markdown",
   "metadata": {
    "slideshow": {
     "slide_type": "subslide"
    }
   },
   "source": [
    "#### Enabling Credit Management"
   ]
  },
  {
   "cell_type": "code",
   "execution_count": 53,
   "metadata": {
    "slideshow": {
     "slide_type": "fragment"
    }
   },
   "outputs": [
    {
     "data": {
      "text/plain": [
       "True"
      ]
     },
     "execution_count": 53,
     "metadata": {},
     "output_type": "execute_result"
    }
   ],
   "source": [
    "credits = online.admin.credits\n",
    "credits.enable()"
   ]
  },
  {
   "cell_type": "markdown",
   "metadata": {
    "slideshow": {
     "slide_type": "fragment"
    }
   },
   "source": [
    "#### Assign Credits"
   ]
  },
  {
   "cell_type": "code",
   "execution_count": 54,
   "metadata": {
    "slideshow": {
     "slide_type": "fragment"
    }
   },
   "outputs": [
    {
     "data": {
      "text/plain": [
       "True"
      ]
     },
     "execution_count": 54,
     "metadata": {},
     "output_type": "execute_result"
    }
   ],
   "source": [
    "credits.allocate(username=\"ucdemo2017\", credits=50)\n"
   ]
  },
  {
   "cell_type": "markdown",
   "metadata": {
    "slideshow": {
     "slide_type": "fragment"
    }
   },
   "source": [
    "#### Unassign Credit Restriction"
   ]
  },
  {
   "cell_type": "code",
   "execution_count": 55,
   "metadata": {
    "slideshow": {
     "slide_type": "fragment"
    }
   },
   "outputs": [
    {
     "data": {
      "text/plain": [
       "True"
      ]
     },
     "execution_count": 55,
     "metadata": {},
     "output_type": "execute_result"
    }
   ],
   "source": [
    "credits.deallocate(\"ucdemo2017\")"
   ]
  },
  {
   "cell_type": "markdown",
   "metadata": {
    "collapsed": true,
    "slideshow": {
     "slide_type": "slide"
    }
   },
   "source": [
    "### Working with Enterprise Server\n",
    "\n",
    "- backbone of analysis and content sharing\n",
    "- important part of infrastructure "
   ]
  },
  {
   "cell_type": "code",
   "execution_count": 56,
   "metadata": {
    "slideshow": {
     "slide_type": "skip"
    }
   },
   "outputs": [
    {
     "name": "stdout",
     "output_type": "stream",
     "text": [
      "Enter password: ········\n"
     ]
    }
   ],
   "source": [
    "from arcgis.gis import GIS\n",
    "gis = GIS(\"https://python.playground.esri.com/portal\",\n",
    "         username=\"ucdemo2017\")"
   ]
  },
  {
   "cell_type": "markdown",
   "metadata": {
    "slideshow": {
     "slide_type": "subslide"
    }
   },
   "source": [
    "<center> <h3> Accessing Servers </h3> </center>"
   ]
  },
  {
   "cell_type": "code",
   "execution_count": 57,
   "metadata": {
    "slideshow": {
     "slide_type": "fragment"
    }
   },
   "outputs": [
    {
     "data": {
      "text/plain": [
       "[<Server at https://python.playground.esri.com/server>,\n",
       " <Server at https://python-ga.playground.esri.com/server>,\n",
       " <Server at https://python-ra.playground.esri.com/arcgis>]"
      ]
     },
     "execution_count": 57,
     "metadata": {},
     "output_type": "execute_result"
    }
   ],
   "source": [
    "servers = gis.admin.servers\n",
    "servers.list()"
   ]
  },
  {
   "cell_type": "markdown",
   "metadata": {
    "slideshow": {
     "slide_type": "subslide"
    }
   },
   "source": [
    "<center>\n",
    "<h3 class=\"title\"><b>Finding Servers by Role or Function<b/> </h3>\n",
    "</center>\n",
    "\n",
    "- Provides a way to find all servers of a specific function and/or role.\n",
    "- Allows for the specific search for server use type"
   ]
  },
  {
   "cell_type": "code",
   "execution_count": 62,
   "metadata": {
    "slideshow": {
     "slide_type": "fragment"
    }
   },
   "outputs": [
    {
     "name": "stdout",
     "output_type": "stream",
     "text": [
      "<Server at https://python-ga.playground.esri.com/server>\n"
     ]
    }
   ],
   "source": [
    "analytics_server = servers.get(role=\"\", function=\"GeoAnalytics\")[0]\n",
    "print(analytics_server)"
   ]
  },
  {
   "cell_type": "code",
   "execution_count": 63,
   "metadata": {
    "slideshow": {
     "slide_type": "fragment"
    }
   },
   "outputs": [
    {
     "data": {
      "text/plain": [
       "<Server at https://python.playground.esri.com/server>"
      ]
     },
     "execution_count": 63,
     "metadata": {},
     "output_type": "execute_result"
    }
   ],
   "source": [
    "hosting_server = servers.get(role=\"HOSTING_SERVER\")[0]\n",
    "hosting_server"
   ]
  },
  {
   "cell_type": "markdown",
   "metadata": {
    "slideshow": {
     "slide_type": "subslide"
    }
   },
   "source": [
    "<center> <h3> Accessing Services </h3> </center>\n",
    "\n",
    "- Start/stop/delete\n",
    "- create/delete folders\n",
    "- edit service JSON\n"
   ]
  },
  {
   "cell_type": "code",
   "execution_count": 64,
   "metadata": {
    "slideshow": {
     "slide_type": "fragment"
    }
   },
   "outputs": [
    {
     "data": {
      "text/plain": [
       "[<Service at https://python.playground.esri.com/server/admin/services/elevation_270m.ImageServer>,\n",
       " <Service at https://python.playground.esri.com/server/admin/services/human_modification_index.ImageServer>,\n",
       " <Service at https://python.playground.esri.com/server/admin/services/ImgSrv_Landast_Montana2015.ImageServer>,\n",
       " <Service at https://python.playground.esri.com/server/admin/services/SampleWorldCities.MapServer>]"
      ]
     },
     "execution_count": 64,
     "metadata": {},
     "output_type": "execute_result"
    }
   ],
   "source": [
    "server = servers.list()[0]\n",
    "services = server.services.list()\n",
    "services"
   ]
  },
  {
   "cell_type": "markdown",
   "metadata": {
    "slideshow": {
     "slide_type": "subslide"
    }
   },
   "source": [
    "<center> <h3> Managing Service Status </h3> </center>\n",
    "<lu>\n",
    "<li>Status provides service state</li>\n",
    "</lu>"
   ]
  },
  {
   "cell_type": "code",
   "execution_count": 65,
   "metadata": {
    "slideshow": {
     "slide_type": "fragment"
    }
   },
   "outputs": [
    {
     "name": "stdout",
     "output_type": "stream",
     "text": [
      "{'configuredState': 'STARTED', 'realTimeState': 'STARTED'}\n",
      "True\n",
      "{'configuredState': 'STOPPED', 'realTimeState': 'STOPPED'}\n",
      "True\n",
      "{'configuredState': 'STARTED', 'realTimeState': 'STARTED'}\n"
     ]
    }
   ],
   "source": [
    "service = services[0]\n",
    "print(service.status)\n",
    "print(service.stop())\n",
    "print(service.status)\n",
    "print(service.start())\n",
    "print(service.status)"
   ]
  },
  {
   "cell_type": "markdown",
   "metadata": {
    "slideshow": {
     "slide_type": "subslide"
    }
   },
   "source": [
    "<center> <h3> Modifying Service Properties </h3> </center>\n",
    "\n",
    "- adjust publishing properties"
   ]
  },
  {
   "cell_type": "code",
   "execution_count": 66,
   "metadata": {
    "slideshow": {
     "slide_type": "fragment"
    }
   },
   "outputs": [],
   "source": [
    "ms = services[0]\n",
    "properties = dict(ms.properties)\n",
    "for ext in properties['extensions']:\n",
    "    if ext['typeName'].lower() == \"kmlserver\":\n",
    "        ext['enabled'] = 'false'    "
   ]
  },
  {
   "cell_type": "code",
   "execution_count": 67,
   "metadata": {
    "slideshow": {
     "slide_type": "fragment"
    }
   },
   "outputs": [
    {
     "data": {
      "text/plain": [
       "True"
      ]
     },
     "execution_count": 67,
     "metadata": {},
     "output_type": "execute_result"
    }
   ],
   "source": [
    "ms.edit(properties)"
   ]
  },
  {
   "cell_type": "markdown",
   "metadata": {
    "slideshow": {
     "slide_type": "subslide"
    }
   },
   "source": [
    "<center> <h3> Monitoring Usage </h3> </center>\n",
    "\n",
    "- helps manage system resources\n",
    "- find high use servers and services"
   ]
  },
  {
   "cell_type": "markdown",
   "metadata": {
    "slideshow": {
     "slide_type": "subslide"
    }
   },
   "source": [
    "Usage reports can be accessed using the **list()** operation. "
   ]
  },
  {
   "cell_type": "code",
   "execution_count": 71,
   "metadata": {
    "slideshow": {
     "slide_type": "fragment"
    }
   },
   "outputs": [
    {
     "data": {
      "text/plain": [
       "'Total requests for the last 7 days'"
      ]
     },
     "execution_count": 71,
     "metadata": {},
     "output_type": "execute_result"
    }
   ],
   "source": [
    "report = server.usage.list()[0]\n",
    "report.properties['reportname']"
   ]
  },
  {
   "cell_type": "code",
   "execution_count": 72,
   "metadata": {
    "collapsed": true,
    "slideshow": {
     "slide_type": "skip"
    }
   },
   "outputs": [],
   "source": [
    "from datetime import datetime\n",
    "import numpy as np\n",
    "import matplotlib.pyplot as plt\n",
    "import pandas as pd\n",
    "import matplotlib.ticker as ticker"
   ]
  },
  {
   "cell_type": "code",
   "execution_count": 73,
   "metadata": {
    "slideshow": {
     "slide_type": "subslide"
    }
   },
   "outputs": [],
   "source": [
    "data = report.query()\n",
    "data_y = data['report']['report-data'][0][0]['data']\n",
    "data_x = [pd.to_datetime(datetime.fromtimestamp(d//1000)) \\\n",
    "          for d in data['report']['time-slices']]\n",
    "df = pd.DataFrame(list(zip(data_x, data_y)), columns=[\"date\", \"count\"])\n",
    "q = df['count'].isnull() # change NaN values to 0\n",
    "df.loc[q, 'count'] = 0\n",
    "df.index = df['date']\n",
    "df['count'] = df['count'] \n",
    "\n",
    "ax = df.plot(kind='bar', x=df['date'])\n",
    "ticklabels = ['']*len(df.index)\n",
    "ticklabels[::4] = [item.strftime('%b %d') for item in df.index[::4]]\n",
    "ax.xaxis.set_major_formatter(ticker.FixedFormatter(ticklabels))\n",
    "plt.gcf().autofmt_xdate()"
   ]
  },
  {
   "cell_type": "code",
   "execution_count": 74,
   "metadata": {
    "slideshow": {
     "slide_type": "subslide"
    }
   },
   "outputs": [
    {
     "data": {
      "image/png": "[encoded data removed]",
      "text/plain": [
       "<matplotlib.figure.Figure at 0x12d0b4477f0>"
      ]
     },
     "metadata": {},
     "output_type": "display_data"
    }
   ],
   "source": [
    "plt.show()"
   ]
  },
  {
   "cell_type": "markdown",
   "metadata": {
    "slideshow": {
     "slide_type": "subslide"
    }
   },
   "source": [
    "<center> <h3> Working with Log Messages </h3> </center>\n",
    "\n",
    "- trouble shoot problems\n",
    "- track issues\n",
    "- manage log sizes"
   ]
  },
  {
   "cell_type": "code",
   "execution_count": 75,
   "metadata": {
    "slideshow": {
     "slide_type": "subslide"
    }
   },
   "outputs": [
    {
     "data": {
      "text/html": [
       "<div>\n",
       "<style>\n",
       "    .dataframe thead tr:only-child th {\n",
       "        text-align: right;\n",
       "    }\n",
       "\n",
       "    .dataframe thead th {\n",
       "        text-align: left;\n",
       "    }\n",
       "\n",
       "    .dataframe tbody tr th {\n",
       "        vertical-align: top;\n",
       "    }\n",
       "</style>\n",
       "<table border=\"1\" class=\"dataframe\">\n",
       "  <thead>\n",
       "    <tr style=\"text-align: right;\">\n",
       "      <th></th>\n",
       "      <th>code</th>\n",
       "      <th>machine</th>\n",
       "      <th>message</th>\n",
       "    </tr>\n",
       "  </thead>\n",
       "  <tbody>\n",
       "    <tr>\n",
       "      <th>0</th>\n",
       "      <td>10826</td>\n",
       "      <td>10.0.0.250</td>\n",
       "      <td>ClientCachingAllowed property not found.</td>\n",
       "    </tr>\n",
       "    <tr>\n",
       "      <th>1</th>\n",
       "      <td>10825</td>\n",
       "      <td>10.0.0.250</td>\n",
       "      <td>IgnoreCache property not found.</td>\n",
       "    </tr>\n",
       "    <tr>\n",
       "      <th>2</th>\n",
       "      <td>10824</td>\n",
       "      <td>10.0.0.250</td>\n",
       "      <td>CacheOnDemand property not found.</td>\n",
       "    </tr>\n",
       "    <tr>\n",
       "      <th>3</th>\n",
       "      <td>10823</td>\n",
       "      <td>10.0.0.250</td>\n",
       "      <td>IsCached property not found.</td>\n",
       "    </tr>\n",
       "    <tr>\n",
       "      <th>4</th>\n",
       "      <td>10826</td>\n",
       "      <td>10.0.0.250</td>\n",
       "      <td>ClientCachingAllowed property not found.</td>\n",
       "    </tr>\n",
       "  </tbody>\n",
       "</table>\n",
       "</div>"
      ],
      "text/plain": [
       "    code     machine                                   message\n",
       "0  10826  10.0.0.250  ClientCachingAllowed property not found.\n",
       "1  10825  10.0.0.250           IgnoreCache property not found.\n",
       "2  10824  10.0.0.250         CacheOnDemand property not found.\n",
       "3  10823  10.0.0.250              IsCached property not found.\n",
       "4  10826  10.0.0.250  ClientCachingAllowed property not found."
      ]
     },
     "execution_count": 75,
     "metadata": {},
     "output_type": "execute_result"
    }
   ],
   "source": [
    "logs = server.logs\n",
    "res = logs.query(start_time=None)['logMessages'] # get all messages\n",
    "df = pd.DataFrame.from_records(res)\n",
    "df[['code', 'machine', 'message']].head()"
   ]
  },
  {
   "cell_type": "markdown",
   "metadata": {
    "collapsed": true,
    "slideshow": {
     "slide_type": "slide"
    }
   },
   "source": [
    "### Automating Jobs\n",
    "\n",
    "- Windows/Cron Jobs"
   ]
  },
  {
   "cell_type": "markdown",
   "metadata": {
    "slideshow": {
     "slide_type": "slide"
    }
   },
   "source": [
    "<center> <h2> Where to get it? </h2> </center>\n",
    "\n",
    "<h3>Install in ArcGIS Pro</h3>\n",
    "\n",
    "<img src=\"http://esri.github.io/arcgis-python-api/notebooks/nbimages/guide_getstarted_InstallAndSetup_03.PNG\" />\n"
   ]
  },
  {
   "cell_type": "markdown",
   "metadata": {
    "slideshow": {
     "slide_type": "subslide"
    }
   },
   "source": [
    "<center> <h2> Where to get it? </h2> </center>\n",
    "\n",
    "<img src=\"http://esri.github.io/arcgis-python-api/notebooks/nbimages/guide_getstarted_InstallAndSetup_01.PNG\"/>\n"
   ]
  },
  {
   "cell_type": "markdown",
   "metadata": {
    "slideshow": {
     "slide_type": "subslide"
    }
   },
   "source": [
    "<center> <h2> Helpful Links </h2> </center>\n",
    "\n",
    "**ArcGIS Python Playground**\n",
    "\n",
    "https://notebooks.esri.com/\n",
    "\n",
    "**ArcGIS API for Python Documentation**\n",
    "\n",
    "https://developers.arcgis.com/python/\n",
    "\n",
    "**Docker Image Download Location**\n",
    "\n",
    "https://hub.docker.com/r/esridocker/arcgis-api-python-notebook/\n"
   ]
  },
  {
   "cell_type": "markdown",
   "metadata": {
    "slideshow": {
     "slide_type": "slide"
    }
   },
   "source": [
    "# Questions?"
   ]
  },
  {
   "cell_type": "markdown",
   "metadata": {
    "slideshow": {
     "slide_type": "slide"
    }
   },
   "source": [
    "<img src=\"staticimg/SurveySlide.PNG\" alt=\"where\"/>"
   ]
  },
  {
   "cell_type": "markdown",
   "metadata": {
    "collapsed": true,
    "slideshow": {
     "slide_type": "slide"
    }
   },
   "source": [
    "<img src=\"staticimg/LastSlide.PNG\" alt=\"where\"/>"
   ]
  }
 ],
 "metadata": {
  "anaconda-cloud": {},
  "celltoolbar": "Slideshow",
  "kernelspec": {
   "display_name": "Python [Root]",
   "language": "python",
   "name": "Python [Root]"
  },
  "language_info": {
   "codemirror_mode": {
    "name": "ipython",
    "version": 3
   },
   "file_extension": ".py",
   "mimetype": "text/x-python",
   "name": "python",
   "nbconvert_exporter": "python",
   "pygments_lexer": "ipython3",
   "version": "3.5.2"
  }
 },
 "nbformat": 4,
 "nbformat_minor": 2
}
