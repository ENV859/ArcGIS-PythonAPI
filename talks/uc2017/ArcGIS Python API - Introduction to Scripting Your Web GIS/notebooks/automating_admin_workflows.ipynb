{
 "cells": [
  {
   "cell_type": "markdown",
   "metadata": {},
   "source": [
    "# Automating administrative workflows"
   ]
  },
  {
   "cell_type": "code",
   "execution_count": 28,
   "metadata": {
    "collapsed": true
   },
   "outputs": [],
   "source": [
    "from arcgis.gis import *\n",
    "from getpass import getpass"
   ]
  },
  {
   "cell_type": "code",
   "execution_count": 29,
   "metadata": {
    "collapsed": false
   },
   "outputs": [
    {
     "name": "stdout",
     "output_type": "stream",
     "text": [
      "········\n"
     ]
    }
   ],
   "source": [
    "password = getpass()\n",
    "gis = GIS(\"https://esriwebgis.webgistesting.net/portal\", \"admin\", password)"
   ]
  },
  {
   "cell_type": "markdown",
   "metadata": {},
   "source": [
    "## Querying for users"
   ]
  },
  {
   "cell_type": "code",
   "execution_count": 30,
   "metadata": {
    "collapsed": false
   },
   "outputs": [
    {
     "data": {
      "text/plain": [
       "[<User username:admin>,\n",
       " <User username:Alexander.Mogollon>,\n",
       " <User username:atma.mani>,\n",
       " <User username:bat.man>,\n",
       " <User username:Burt.McAlpine>,\n",
       " <User username:Christina.Kellum>,\n",
       " <User username:Cynthia.Davis>,\n",
       " <User username:David.Mutibul>,\n",
       " <User username:David.Pastizzo>,\n",
       " <User username:Derek.Hoshijo>,\n",
       " <User username:Ellie.Maclin>,\n",
       " <User username:esri_boundaries>,\n",
       " <User username:esri_demographics>,\n",
       " <User username:esri_livingatlas>,\n",
       " <User username:esri_nav>,\n",
       " <User username:Heinrich.Langenhoven>,\n",
       " <User username:Hunter.Allen>,\n",
       " <User username:Jeremy.Fontenault>,\n",
       " <User username:Kalyana.Nissankarao>,\n",
       " <User username:Kanne.Ikwuezunma>,\n",
       " <User username:Kanne.Ikwuezunma4>,\n",
       " <User username:Mathias.Gieser>,\n",
       " <User username:Nathan.Heick>,\n",
       " <User username:Paul.Haakma>,\n",
       " <User username:Rajaram.Gudipudi>,\n",
       " <User username:Samuel.Valdez>,\n",
       " <User username:Shaunak.Vairagare>,\n",
       " <User username:Stacia.Taggart>,\n",
       " <User username:Stan.Shelton>,\n",
       " <User username:Timothy.Zimmer>,\n",
       " <User username:Vassilo.Walluschnig>,\n",
       " <User username:Will.Allender>]"
      ]
     },
     "execution_count": 30,
     "metadata": {},
     "output_type": "execute_result"
    }
   ],
   "source": [
    "gis.users.search()"
   ]
  },
  {
   "cell_type": "code",
   "execution_count": 32,
   "metadata": {
    "collapsed": false
   },
   "outputs": [
    {
     "data": {
      "text/plain": [
       "[<User username:atma.mani>]"
      ]
     },
     "execution_count": 32,
     "metadata": {},
     "output_type": "execute_result"
    }
   ],
   "source": [
    "#filter users\n",
    "gis.users.search(\"at*\")"
   ]
  },
  {
   "cell_type": "code",
   "execution_count": 33,
   "metadata": {
    "collapsed": false
   },
   "outputs": [
    {
     "data": {
      "text/plain": [
       "[]"
      ]
     },
     "execution_count": 33,
     "metadata": {},
     "output_type": "execute_result"
    }
   ],
   "source": [
    "#filter users\n",
    "gis.users.search(\"rohit\")"
   ]
  },
  {
   "cell_type": "markdown",
   "metadata": {},
   "source": [
    "### Create a new user"
   ]
  },
  {
   "cell_type": "code",
   "execution_count": 34,
   "metadata": {
    "collapsed": false
   },
   "outputs": [
    {
     "data": {
      "text/html": [
       "<div class=\"9item_container\" style=\"height: auto; overflow: hidden; border: 1px solid #cfcfcf; border-radius: 2px; background: #f6fafa; line-height: 1.21429em; padding: 10px;\">\n",
       "                    <div class=\"item_left\" style=\"width: 210px; float: left;\">\n",
       "                       <a href='https://esriwebgis.webgistesting.net/portal/home/user.html?user=rohit.singh' target='_blank'>\n",
       "                        <img src='https://esriwebgis.webgistesting.net/portal/home/js/arcgisonline/css/images/no-user-thumb.jpg' class=\"itemThumbnail\">\n",
       "                       </a>\n",
       "                    </div>\n",
       "\n",
       "                    <div class=\"item_right\" style=\"float: none; width: auto; overflow: hidden;\">\n",
       "                        <a href='https://esriwebgis.webgistesting.net/portal/home/user.html?user=rohit.singh' target='_blank'><b>Rohit Singh</b>\n",
       "                        </a>\n",
       "                        <br/><br/><b>Bio</b>: None\n",
       "                        <br/><b>First Name</b>: Rohit\n",
       "                        <br/><b>Last Name</b>: Singh\n",
       "                        <br/><b>Username</b>: rohit.singh\n",
       "                        <br/><b>Joined</b>: March 10, 2017\n",
       "\n",
       "                    </div>\n",
       "                </div>\n",
       "                "
      ],
      "text/plain": [
       "<User username:rohit.singh>"
      ]
     },
     "execution_count": 34,
     "metadata": {},
     "output_type": "execute_result"
    }
   ],
   "source": [
    "rohit = gis.users.create(username = 'rohit.singh', password='8#a7m1kQ?:!', \n",
    "                 firstname='Rohit', lastname='Singh',\n",
    "                 email='rsingh@esri.com', role='org_user')\n",
    "\n",
    "rohit"
   ]
  },
  {
   "cell_type": "code",
   "execution_count": 35,
   "metadata": {
    "collapsed": false
   },
   "outputs": [
    {
     "data": {
      "text/plain": [
       "arcgis.gis.User"
      ]
     },
     "execution_count": 35,
     "metadata": {},
     "output_type": "execute_result"
    }
   ],
   "source": [
    "type(rohit)"
   ]
  },
  {
   "cell_type": "code",
   "execution_count": 36,
   "metadata": {
    "collapsed": false
   },
   "outputs": [
    {
     "data": {
      "text/plain": [
       "True"
      ]
     },
     "execution_count": 36,
     "metadata": {},
     "output_type": "execute_result"
    }
   ],
   "source": [
    "rohit.update(thumbnail='rohit_thumbnail.png')"
   ]
  },
  {
   "cell_type": "code",
   "execution_count": 37,
   "metadata": {
    "collapsed": false
   },
   "outputs": [
    {
     "data": {
      "text/html": [
       "<div class=\"9item_container\" style=\"height: auto; overflow: hidden; border: 1px solid #cfcfcf; border-radius: 2px; background: #f6fafa; line-height: 1.21429em; padding: 10px;\">\n",
       "                    <div class=\"item_left\" style=\"width: 210px; float: left;\">\n",
       "                       <a href='https://esriwebgis.webgistesting.net/portal/home/user.html?user=rohit.singh' target='_blank'>\n",
       "                        <img src='data:image/png;base64,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' width='200' height='133' class=\"itemThumbnail\">\n",
       "                       </a>\n",
       "                    </div>\n",
       "\n",
       "                    <div class=\"item_right\" style=\"float: none; width: auto; overflow: hidden;\">\n",
       "                        <a href='https://esriwebgis.webgistesting.net/portal/home/user.html?user=rohit.singh' target='_blank'><b>Rohit Singh</b>\n",
       "                        </a>\n",
       "                        <br/><br/><b>Bio</b>: None\n",
       "                        <br/><b>First Name</b>: Rohit\n",
       "                        <br/><b>Last Name</b>: Singh\n",
       "                        <br/><b>Username</b>: rohit.singh\n",
       "                        <br/><b>Joined</b>: March 10, 2017\n",
       "\n",
       "                    </div>\n",
       "                </div>\n",
       "                "
      ],
      "text/plain": [
       "<User username:rohit.singh>"
      ]
     },
     "execution_count": 37,
     "metadata": {},
     "output_type": "execute_result"
    }
   ],
   "source": [
    "rohit"
   ]
  },
  {
   "cell_type": "markdown",
   "metadata": {},
   "source": [
    "## Searching for groups"
   ]
  },
  {
   "cell_type": "code",
   "execution_count": 38,
   "metadata": {
    "collapsed": false
   },
   "outputs": [
    {
     "data": {
      "text/plain": [
       "[<Group title:\"Basemaps\" owner:admin>,\n",
       " <Group title:\"Central Services\" owner:admin>,\n",
       " <Group title:\"Crime analysis\" owner:admin>,\n",
       " <Group title:\"Esri Boundary Layers\" owner:esri_boundaries>,\n",
       " <Group title:\"Esri Demographic Layers\" owner:esri_demographics>,\n",
       " <Group title:\"Living Atlas\" owner:esri_livingatlas>,\n",
       " <Group title:\"Living Atlas Analysis Layers\" owner:esri_livingatlas>,\n",
       " <Group title:\"Navigator Maps\" owner:esri_nav>,\n",
       " <Group title:\"Recreational Geocaching\" owner:Stan.Shelton>,\n",
       " <Group title:\"Recreational geocaching\" owner:Samuel.Valdez>,\n",
       " <Group title:\"Recreational geocaching SV\" owner:Samuel.Valdez>]"
      ]
     },
     "execution_count": 38,
     "metadata": {},
     "output_type": "execute_result"
    }
   ],
   "source": [
    "gis.groups.search()"
   ]
  },
  {
   "cell_type": "code",
   "execution_count": 40,
   "metadata": {
    "collapsed": false
   },
   "outputs": [],
   "source": [
    "#create groups\n",
    "group_summary = 'A group to share data related to crime and analyze them'\n",
    "group_description = 'Analysis, visualization, modeling of crime and crime related datasets using GIS'\n",
    "\n",
    "crime_group = gis.groups.create(title='Crime analysis1', tags='crime, machine learning, clustering', \n",
    "                      description=group_description,\n",
    "                      snippet=group_summary,\n",
    "                     thumbnail='crime_analysis_group.png')"
   ]
  },
  {
   "cell_type": "code",
   "execution_count": 41,
   "metadata": {
    "collapsed": false
   },
   "outputs": [
    {
     "data": {
      "text/html": [
       "<div class=\"9item_container\" style=\"height: auto; overflow: hidden; border: 1px solid #cfcfcf; border-radius: 2px; background: #f6fafa; line-height: 1.21429em; padding: 10px;\">\n",
       "                    <div class=\"item_left\" style=\"width: 210px; float: left;\">\n",
       "                       <a href='https://esriwebgis.webgistesting.net/portal/home/group.html?id=51d960fc5c3c4671a13fcaad86281d1f' target='_blank'>\n",
       "                        <img src='data:image/png;base64,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' ' class=\"itemThumbnail\">\n",
       "                       </a>\n",
       "                    </div>\n",
       "\n",
       "                    <div class=\"item_right\" style=\"float: none; width: auto; overflow: hidden;\">\n",
       "                        <a href='https://esriwebgis.webgistesting.net/portal/home/group.html?id=51d960fc5c3c4671a13fcaad86281d1f' target='_blank'><b>Crime analysis1</b>\n",
       "                        </a>\n",
       "                        <br/>\n",
       "                        <br/><b>Summary</b>: A group to share data related to crime and analyze them\n",
       "                        <br/><b>Description</b>: Analysis, visualization, modeling of crime and crime related datasets using GIS\n",
       "                        <br/><b>Owner</b>: admin\n",
       "                        <br/><b>Created</b>: March 10, 2017\n",
       "\n",
       "                    </div>\n",
       "                </div>\n",
       "                "
      ],
      "text/plain": [
       "<Group title:\"Crime analysis1\" owner:admin>"
      ]
     },
     "execution_count": 41,
     "metadata": {},
     "output_type": "execute_result"
    }
   ],
   "source": [
    "crime_group"
   ]
  },
  {
   "cell_type": "markdown",
   "metadata": {},
   "source": [
    "## Add user to a group"
   ]
  },
  {
   "cell_type": "code",
   "execution_count": 42,
   "metadata": {
    "collapsed": false
   },
   "outputs": [
    {
     "data": {
      "text/plain": [
       "{'notAdded': []}"
      ]
     },
     "execution_count": 42,
     "metadata": {},
     "output_type": "execute_result"
    }
   ],
   "source": [
    "crime_group.add_users(['rohit.singh'])"
   ]
  },
  {
   "cell_type": "markdown",
   "metadata": {},
   "source": [
    "## Removing users"
   ]
  },
  {
   "cell_type": "code",
   "execution_count": 43,
   "metadata": {
    "collapsed": false
   },
   "outputs": [
    {
     "data": {
      "text/html": [
       "<div class=\"9item_container\" style=\"height: auto; overflow: hidden; border: 1px solid #cfcfcf; border-radius: 2px; background: #f6fafa; line-height: 1.21429em; padding: 10px;\">\n",
       "                    <div class=\"item_left\" style=\"width: 210px; float: left;\">\n",
       "                       <a href='https://esriwebgis.webgistesting.net/portal/home/user.html?user=bat.man' target='_blank'>\n",
       "                        <img src='data:image/png;base64,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' width='200' height='133' class=\"itemThumbnail\">\n",
       "                       </a>\n",
       "                    </div>\n",
       "\n",
       "                    <div class=\"item_right\" style=\"float: none; width: auto; overflow: hidden;\">\n",
       "                        <a href='https://esriwebgis.webgistesting.net/portal/home/user.html?user=bat.man' target='_blank'><b>bat man</b>\n",
       "                        </a>\n",
       "                        <br/><br/><b>Bio</b>: None\n",
       "                        <br/><b>First Name</b>: bat\n",
       "                        <br/><b>Last Name</b>: man\n",
       "                        <br/><b>Username</b>: bat.man\n",
       "                        <br/><b>Joined</b>: March 10, 2017\n",
       "\n",
       "                    </div>\n",
       "                </div>\n",
       "                "
      ],
      "text/plain": [
       "<User username:bat.man>"
      ]
     },
     "execution_count": 43,
     "metadata": {},
     "output_type": "execute_result"
    }
   ],
   "source": [
    "batman = gis.users.search('bat.man')[0]\n",
    "batman"
   ]
  },
  {
   "cell_type": "code",
   "execution_count": 48,
   "metadata": {
    "collapsed": false
   },
   "outputs": [
    {
     "data": {
      "text/plain": [
       "True"
      ]
     },
     "execution_count": 48,
     "metadata": {},
     "output_type": "execute_result"
    }
   ],
   "source": [
    "batman.delete(reassign_to='rohit.singh')"
   ]
  },
  {
   "cell_type": "code",
   "execution_count": 45,
   "metadata": {
    "collapsed": false
   },
   "outputs": [
    {
     "data": {
      "text/plain": [
       "[<Item title:\"gotham_crime\" type:CSV owner:bat.man>]"
      ]
     },
     "execution_count": 45,
     "metadata": {},
     "output_type": "execute_result"
    }
   ],
   "source": [
    "batman.items()"
   ]
  },
  {
   "cell_type": "code",
   "execution_count": 46,
   "metadata": {
    "collapsed": false
   },
   "outputs": [
    {
     "data": {
      "text/plain": [
       "[]"
      ]
     },
     "execution_count": 46,
     "metadata": {},
     "output_type": "execute_result"
    }
   ],
   "source": [
    "batman.groups"
   ]
  },
  {
   "cell_type": "code",
   "execution_count": 47,
   "metadata": {
    "collapsed": true
   },
   "outputs": [],
   "source": [
    "item = batman.items()[0]"
   ]
  },
  {
   "cell_type": "code",
   "execution_count": null,
   "metadata": {
    "collapsed": true
   },
   "outputs": [],
   "source": [
    "item.reassign_to('')"
   ]
  },
  {
   "cell_type": "markdown",
   "metadata": {},
   "source": [
    "## Rohit's contents"
   ]
  },
  {
   "cell_type": "code",
   "execution_count": 51,
   "metadata": {
    "collapsed": false
   },
   "outputs": [
    {
     "data": {
      "text/plain": [
       "[<Item title:\"gotham_crime\" type:CSV owner:rohit.singh>]"
      ]
     },
     "execution_count": 51,
     "metadata": {},
     "output_type": "execute_result"
    }
   ],
   "source": [
    "rohit.items(folder='bat.man_root')"
   ]
  },
  {
   "cell_type": "code",
   "execution_count": 50,
   "metadata": {
    "collapsed": false
   },
   "outputs": [
    {
     "data": {
      "text/plain": [
       "[{'created': 1489180722639,\n",
       "  'id': 'b6097c44d13646389b326d3ee6b9e90b',\n",
       "  'title': 'bat.man_root',\n",
       "  'username': 'rohit.singh'}]"
      ]
     },
     "execution_count": 50,
     "metadata": {},
     "output_type": "execute_result"
    }
   ],
   "source": [
    "rohit.folders"
   ]
  },
  {
   "cell_type": "code",
   "execution_count": null,
   "metadata": {
    "collapsed": true
   },
   "outputs": [],
   "source": []
  }
 ],
 "metadata": {
  "kernelspec": {
   "display_name": "Python 3",
   "language": "python",
   "name": "python3"
  },
  "language_info": {
   "codemirror_mode": {
    "name": "ipython",
    "version": 3
   },
   "file_extension": ".py",
   "mimetype": "text/x-python",
   "name": "python",
   "nbconvert_exporter": "python",
   "pygments_lexer": "ipython3",
   "version": "3.5.3"
  }
 },
 "nbformat": 4,
 "nbformat_minor": 2
}
