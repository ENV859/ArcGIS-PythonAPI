{
 "cells": [
  {
   "cell_type": "markdown",
   "metadata": {},
   "source": [
    "# Fighting California forest fires using spatial analysis\n",
    "\n",
    "The state of California has had a dangerous fire season in 2015 and 2016. A standard procedure while fighting these fires is identifying facilities that are at risk and evacuating them. Tasks such as this can be accomplished easily using **spatial analysis** tools available on your GIS. Spatial analysis tools allow overlaying the extent of fire and the locations of the facilities on a map and identifying the ones that fall within the fire's extent.\n",
    "\n",
    "Thus, this sample demonstrates the application of spatial analysis tools such as **buffer and overlay**.\n",
    "\n",
    "This notebook describes a scenario wherein an analyst automates the process of identifying facilities at risk from forest fires and sharing this information with other departments such as the fire department, etc.\n",
    "\n",
    "**Note**: To run this sample, you need the ``pandas`` library in your conda environment. If you don't have the library, install it by running the following command from cmd.exe or your shell\n",
    "```\n",
    "conda install pandas```"
   ]
  },
  {
   "cell_type": "code",
   "execution_count": 29,
   "metadata": {
    "collapsed": true,
    "scrolled": false
   },
   "outputs": [],
   "source": [
    "import datetime\n",
    "import arcgis\n",
    "from arcgis.gis import GIS\n",
    "from IPython.display import display\n",
    "import pandas as pd\n",
    "\n",
    "# create a Web GIS object\n",
    "gis = GIS(\"https://python.playground.esri.com/portal\", \"arcgis_python\", \"amazing_arcgis_123\")"
   ]
  },
  {
   "cell_type": "markdown",
   "metadata": {},
   "source": [
    "## Using groups to share items and collaborate\n",
    "\n",
    "A group effort spanning several professionals and teams is required to meet challenges such as forest fires. Members of a web GIS can collaborate with each other by sharing web maps, layers, applications, etc. with each other. This sharing is accomplished by creating groups in the GIS and items shared to a group can be used by members of the group.\n",
    "\n",
    "The code below lists the items shared with the 'LA County Emergency Management' group. This group contains a collection of maps, apps and layers that are published as the authoritative common map for the county of Los Angeles."
   ]
  },
  {
   "cell_type": "code",
   "execution_count": 30,
   "metadata": {},
   "outputs": [
    {
     "data": {
      "text/html": [
       "<div class=\"9item_container\" style=\"height: auto; overflow: hidden; border: 1px solid #cfcfcf; border-radius: 2px; background: #f6fafa; line-height: 1.21429em; padding: 10px;\">\n",
       "                    <div class=\"item_left\" style=\"width: 210px; float: left;\">\n",
       "                       <a href='https://python.playground.esri.com/portal/home/group.html?id=93ec7c0f80724c0aba00924765b7c6d3' target='_blank'>\n",
       "                        <img src='data:image/png;base64,iVBORw0KGgoAAAANSUhEUgAAAEEAAABBCAYAAACO98lFAAAACXBIWXMAAAsTAAALEwEAmpwYAAAAGXRFWHRTb2Z0d2FyZQBBZG9iZSBJbWFnZVJlYWR5ccllPAAABNxJREFUeNrsm1tIFFEYx78VI0ttDbrH4ma37aFyS6iQcM0so5eNiuxCZAQFPWR0IwjWIIigIKmol9CH0nqIth6isFKhrChKuq4FJVlUdtNK2K7b940zMrvNjGd2xnZ39nwwzs7t6PzO//uf75xFWygUgmSPFODBIXAIHAKHwCFwCBwCh8AhcAi9RGpfNr68+m5cTExq10yzxQwCxc4Sl6Hn914MGGqDnufpEOt0MDOkHpVUwdLDrApihrCycoUHdxW4FYinGnErP7mpplnvC3Wd2CPs01ftUjxmeSGjaaYbggigvnCKB3JzciH4IwiBV4GC+vsN9/CaOxoQRnJbDkBLEWYr4SAB8Ez2dB+lA4wYPEL4iCAO4s4TAYzOTSXDqbk6EeZOK4VhWY6exiJ7XEsBvb2QGYpghTCVFBAZzuFOkKXHP4qhaH7eDFWXdkPZfF8YiIT0BMaoCFMMSUT8fPnuKVgxZxtTI18qN8KgTUfiyxPIBLFHC+QvR9H6rlUySCkK1BSDacP8R0UCUFJC5HnbrzawBa8C/H4vvpkDyorWmgqhnExQlgICADzXSdfkN5Jpkmf8r6KLzr9sb4Ha+tMQYdxCGkLGanMgkPvTKCCaoNYQ2UijhmSacsU4hk78p932jjYhTdretwh+sXDGWlXfUFMCxbWH50HVuB/X488SczxBfFlPNIppenIL/WB72I13ntbB9UfnYMH0Elg3bzn4b/jhdkudAEKvyRHEJfkLlI2bIQ1TVeoCSmw/btk6FNspQgpXDObmn7SlcPxmFx5gb/5uB9v3JhiZ8Q02e8shrV+acJvL4YKapjtwX8H1exsJUvrIGP2LZnmzlUxOLVrbW+1VddV+VIxTUgzCDO1Y7BNy9sGL6/Ds9T0YnGGHSTkumOma2QOA4kbgJix0F8LkMS7dEyiqRWgoVjTuVEfUEJgAvP38FmobT0FHV0fPc/Ti8nv2nV4n5Kcb2yvOXQ9Z6VlhbQR/BoU2MgaMQgD5UfUkFWOCCSqkIanQsDF+/wXQX+Uu+uPlhZHeQPXA2SY/jBudB0Xu0rBrdccaoHiDh6kdMlMqxshkpaGYjJh8qDsNDUI4dOUAbJ2/RfEaKSAaADR8kfzffHonGOH40W7DQyiBUC7GAsYhsIaWYqTUobx90haAzIHDUfqFsMyTL/T4+A36FEBD65lrh+FL10emBZOVlRCSjFtpsmcaBC3FUBy9cAwlvwxKC71gTx9i6HcRgKIpsyEa4ybbiOmiSt6EYlPaIQXoTUPnMOHds+N6eY3SINo0NBoJv8ZIaagV+y8diN81Rur5nDxnXICMGQRpBBgrgpCOI/eWg8CyGsTyXEoiQ+jtmyDWEMd900IVKhU2yRJqEMrO4vzed7IieSFgaVmNm422rx++ag45VlCMIU/wzvICKYa2zCGZlksHpnCLpSuLYiwLIZahNw217k9NUAZk3FWsaSgz+DLLQCDjxl11d80QvpxHaSif0lOaUrpaegKV1J7AIXAIHAKHEFMIUqGhtk+GucNuLEp8VJhQUHEizRek65aHgIUGlVsVrIqhpXC5UuTHlpxFaiimExVjx8+duNnjXTGmQdCjGD469OGMMlrjtiX6vwnjBIrU5xMPhTTESRN9+dqThqJKrQuBpwOHwCFwCGbHXwEGAGN0KD94SgTUAAAAAElFTkSuQmCC' ' class=\"itemThumbnail\">\n",
       "                       </a>\n",
       "                    </div>\n",
       "\n",
       "                    <div class=\"item_right\" style=\"float: none; width: auto; overflow: hidden;\">\n",
       "                        <a href='https://python.playground.esri.com/portal/home/group.html?id=93ec7c0f80724c0aba00924765b7c6d3' target='_blank'><b>LA County Emergency Management</b>\n",
       "                        </a>\n",
       "                        <br/>\n",
       "                        <br/><b>Summary</b>: LA County Emergency Management\n",
       "                        <br/><b>Description</b>: <span style='text-align: left; color: rgb(0, 0, 0); text-transform: none; text-indent: 0px; letter-spacing: normal; font-family: &quot;Helvetica Neue&quot;, Helvetica, Arial, sans-serif; font-size: 14px; font-style: normal; font-weight: normal; word-spacing: 0px; float: none; display: inline !important; white-space: normal; orphans: 2; widows: 2; background-color: rgb(255, 255, 255); font-variant-ligatures: normal; font-variant-caps: normal; -webkit-text-stroke-width: 0px;'>This group contains a collection of maps, apps and layers that are published as the authoritative common map for the county of Los Angeles.</span>\n",
       "                        <br/><b>Owner</b>: arcgis_python\n",
       "                        <br/><b>Created</b>: June 23, 2017\n",
       "\n",
       "                    </div>\n",
       "                </div>\n",
       "                "
      ],
      "text/plain": [
       "<Group title:\"LA County Emergency Management\" owner:arcgis_python>"
      ]
     },
     "execution_count": 30,
     "metadata": {},
     "output_type": "execute_result"
    }
   ],
   "source": [
    "# get our group\n",
    "group = gis.groups.search('LA County Emergency Management')[0]\n",
    "group"
   ]
  },
  {
   "cell_type": "code",
   "execution_count": 31,
   "metadata": {},
   "outputs": [
    {
     "data": {
      "text/html": [
       "<div class=\"item_container\" style=\"height: auto; overflow: hidden; border: 1px solid #cfcfcf; border-radius: 2px; background: #f6fafa; line-height: 1.21429em; padding: 10px;\">\n",
       "                    <div class=\"item_left\" style=\"width: 210px; float: left;\">\n",
       "                       <a href='https://python.playground.esri.com/portal/home/item.html?id=d0ff13189d954f7eaa9af7ca54f85e4b' target='_blank'>\n",
       "                        <img src='data:image/png;base64,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' width='200' height='133' class=\"itemThumbnail\">\n",
       "                       </a>\n",
       "                    </div>\n",
       "\n",
       "                    <div class=\"item_right\"     style=\"float: none; width: auto; overflow: hidden;\">\n",
       "                        <a href='https://python.playground.esri.com/portal/home/item.html?id=d0ff13189d954f7eaa9af7ca54f85e4b' target='_blank'><b>Active California Fires</b>\n",
       "                        </a>\n",
       "                        <br/><img src='https://python.playground.esri.com/portal/home/js/jsapi/esri/css/images/item_type_icons/featureshosted16.png' style=\"vertical-align:middle;\">Feature Layer Collection by arcgis_python\n",
       "                        <br/>Last Modified: June 23, 2017\n",
       "                        <br/>0 comments, 0 views\n",
       "                    </div>\n",
       "                </div>\n",
       "                "
      ],
      "text/plain": [
       "<Item title:\"Active California Fires\" type:Feature Layer Collection owner:arcgis_python>"
      ]
     },
     "metadata": {},
     "output_type": "display_data"
    },
    {
     "data": {
      "text/html": [
       "<div class=\"item_container\" style=\"height: auto; overflow: hidden; border: 1px solid #cfcfcf; border-radius: 2px; background: #f6fafa; line-height: 1.21429em; padding: 10px;\">\n",
       "                    <div class=\"item_left\" style=\"width: 210px; float: left;\">\n",
       "                       <a href='https://python.playground.esri.com/portal/home/item.html?id=cdc7a482438143e293c999f65cbb406c' target='_blank'>\n",
       "                        <img src='data:image/png;base64,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' width='200' height='133' class=\"itemThumbnail\">\n",
       "                       </a>\n",
       "                    </div>\n",
       "\n",
       "                    <div class=\"item_right\"     style=\"float: none; width: auto; overflow: hidden;\">\n",
       "                        <a href='https://python.playground.esri.com/portal/home/item.html?id=cdc7a482438143e293c999f65cbb406c' target='_blank'><b>Critical Infrastructure in Southern California</b>\n",
       "                        </a>\n",
       "                        <br/><img src='https://python.playground.esri.com/portal/home/js/jsapi/esri/css/images/item_type_icons/featureshosted16.png' style=\"vertical-align:middle;\">Feature Layer Collection by arcgis_python\n",
       "                        <br/>Last Modified: June 23, 2017\n",
       "                        <br/>0 comments, 0 views\n",
       "                    </div>\n",
       "                </div>\n",
       "                "
      ],
      "text/plain": [
       "<Item title:\"Critical Infrastructure in Southern California\" type:Feature Layer Collection owner:arcgis_python>"
      ]
     },
     "metadata": {},
     "output_type": "display_data"
    },
    {
     "data": {
      "text/html": [
       "<div class=\"item_container\" style=\"height: auto; overflow: hidden; border: 1px solid #cfcfcf; border-radius: 2px; background: #f6fafa; line-height: 1.21429em; padding: 10px;\">\n",
       "                    <div class=\"item_left\" style=\"width: 210px; float: left;\">\n",
       "                       <a href='https://python.playground.esri.com/portal/home/item.html?id=5d72a85a7c4e4448a28eb126f87d170a' target='_blank'>\n",
       "                        <img src='data:image/png;base64,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' width='200' height='133' class=\"itemThumbnail\">\n",
       "                       </a>\n",
       "                    </div>\n",
       "\n",
       "                    <div class=\"item_right\"     style=\"float: none; width: auto; overflow: hidden;\">\n",
       "                        <a href='https://python.playground.esri.com/portal/home/item.html?id=5d72a85a7c4e4448a28eb126f87d170a' target='_blank'><b>LA County Infrastructure at Risk</b>\n",
       "                        </a>\n",
       "                        <br/><img src='https://python.playground.esri.com/portal/home/js/jsapi/esri/css/images/item_type_icons/maps16.png' style=\"vertical-align:middle;\">Web Map by arcgis_python\n",
       "                        <br/>Last Modified: July 11, 2017\n",
       "                        <br/>0 comments, 3 views\n",
       "                    </div>\n",
       "                </div>\n",
       "                "
      ],
      "text/plain": [
       "<Item title:\"LA County Infrastructure at Risk\" type:Web Map owner:arcgis_python>"
      ]
     },
     "metadata": {},
     "output_type": "display_data"
    }
   ],
   "source": [
    "# list items in the group\n",
    "items = group.content()\n",
    "for item in items: \n",
    "    display(item)"
   ]
  },
  {
   "cell_type": "markdown",
   "metadata": {},
   "source": [
    "## Visualize the fire data\n",
    "Let us create a map widget to see the fire related information in it's geographic context:"
   ]
  },
  {
   "cell_type": "code",
   "execution_count": 32,
   "metadata": {},
   "outputs": [
    {
     "data": {
      "application/vnd.jupyter.widget-view+json": {
       "model_id": "592e4e8e1ab74987b09af41dcc77b4c8"
      }
     },
     "metadata": {},
     "output_type": "display_data"
    }
   ],
   "source": [
    "# create a map of our area of interest\n",
    "m = gis.map('Los Angeles', 9)\n",
    "m"
   ]
  },
  {
   "cell_type": "code",
   "execution_count": 33,
   "metadata": {
    "collapsed": true
   },
   "outputs": [],
   "source": [
    "# add the active fires layer\n",
    "fires = items[0]\n",
    "m.add_layer(fires)"
   ]
  },
  {
   "cell_type": "code",
   "execution_count": 34,
   "metadata": {
    "collapsed": true
   },
   "outputs": [],
   "source": [
    "# add our critical infrastructure layer\n",
    "infra = items[1]\n",
    "m.add_layer(infra)"
   ]
  },
  {
   "cell_type": "code",
   "execution_count": 35,
   "metadata": {
    "collapsed": true
   },
   "outputs": [],
   "source": [
    "#we shall use this webmap item in the last section of the notebook.\n",
    "webmapitem = items[2]"
   ]
  },
  {
   "cell_type": "markdown",
   "metadata": {},
   "source": [
    "The `fires` feature layer, that we just added to the map, contains the boundaries of the active forest fires in the region. For this demo scenario, this layer is being constantly updated by the Fire Department with inputs from fire fighters in the field and remote sensing data obtained from satellites.\n",
    "\n",
    "The `infra` feature layer contains the locations of critical infrastructure facilities in the region. The objective of this script is to identify critical infrastructure facilities that are at risk due to the fires, and alert firefighters, county officials and others for allocating firefighting resources, planning evacuations, etc.\n",
    "\n",
    "## Create a buffer of 4 miles around fire boundaries\n",
    "\n",
    "To identify the critical infrastructure resources that are the risk, let us create a buffer of 4 miles around the fire boundaries and consider all facilities that fall within this area at risk. The process of buffer expands the feature's boundaries in all directions. \n",
    "\n",
    "To perform buffers, we use the **`create_buffers`** function available in the **`arcgis.features.use_proximity`** module.\n",
    "As an input to the tool, we provide the fires layer as the layer to be buffered.\n",
    "\n",
    "Feature analysis tools can return (in memory) feature collections as output for immediate consumption, or create a new feature service if the `output_name` parameter is specified.\n",
    "\n",
    "We specify an output name (with a timestamp) for the service as we may want the buffered fire perimeters to be persisted for bookkeeping purposes, or be shared with others as feature layers or in web maps:"
   ]
  },
  {
   "cell_type": "code",
   "execution_count": 36,
   "metadata": {},
   "outputs": [
    {
     "data": {
      "application/vnd.jupyter.widget-view+json": {
       "model_id": "e2d6b9c4717c4bbcb1cb4bf8b50850e8"
      }
     },
     "metadata": {},
     "output_type": "display_data"
    }
   ],
   "source": [
    "# create a map of our area of interest\n",
    "m1 = gis.map('Los Angeles', 9)\n",
    "m1"
   ]
  },
  {
   "cell_type": "code",
   "execution_count": 37,
   "metadata": {
    "collapsed": true
   },
   "outputs": [],
   "source": [
    "#add the active fires layer to the map\n",
    "m1.add_layer(fires)"
   ]
  },
  {
   "cell_type": "code",
   "execution_count": 38,
   "metadata": {
    "collapsed": true
   },
   "outputs": [],
   "source": [
    "#add the critical infrastructure layer to the map\n",
    "m1.add_layer(infra)"
   ]
  },
  {
   "cell_type": "code",
   "execution_count": 64,
   "metadata": {},
   "outputs": [
    {
     "data": {
      "text/plain": [
       "'2017_07_11_11_02_10'"
      ]
     },
     "execution_count": 64,
     "metadata": {},
     "output_type": "execute_result"
    }
   ],
   "source": [
    "timestamp = '{:%Y_%m_%d_%H_%M_%S}'.format(datetime.datetime.now())\n",
    "timestamp"
   ]
  },
  {
   "cell_type": "code",
   "execution_count": 65,
   "metadata": {},
   "outputs": [
    {
     "name": "stderr",
     "output_type": "stream",
     "text": [
      "{\"messageCode\": \"AO_100012\", \"message\": \"CreateBuffers failed.\"}\n",
      "Failed to execute (CreateBuffers).\n",
      "Failed.\n"
     ]
    },
    {
     "ename": "Exception",
     "evalue": "Job failed.",
     "output_type": "error",
     "traceback": [
      "\u001b[0;31m---------------------------------------------------------------------------\u001b[0m",
      "\u001b[0;31mException\u001b[0m                                 Traceback (most recent call last)",
      "\u001b[0;32m<ipython-input-65-7ef87630919f>\u001b[0m in \u001b[0;36m<module>\u001b[0;34m()\u001b[0m\n\u001b[1;32m      4\u001b[0m \u001b[0;34m\u001b[0m\u001b[0m\n\u001b[1;32m      5\u001b[0m \u001b[0mtimestamp\u001b[0m \u001b[0;34m=\u001b[0m \u001b[0;34m'{:%Y_%m_%d_%H_%M_%S}'\u001b[0m\u001b[0;34m.\u001b[0m\u001b[0mformat\u001b[0m\u001b[0;34m(\u001b[0m\u001b[0mdatetime\u001b[0m\u001b[0;34m.\u001b[0m\u001b[0mdatetime\u001b[0m\u001b[0;34m.\u001b[0m\u001b[0mnow\u001b[0m\u001b[0;34m(\u001b[0m\u001b[0;34m)\u001b[0m\u001b[0;34m)\u001b[0m\u001b[0;34m\u001b[0m\u001b[0m\n\u001b[0;32m----> 6\u001b[0;31m \u001b[0mfirebuffers\u001b[0m \u001b[0;34m=\u001b[0m \u001b[0mcreate_buffers\u001b[0m\u001b[0;34m(\u001b[0m\u001b[0mfires\u001b[0m\u001b[0;34m,\u001b[0m \u001b[0;34m[\u001b[0m\u001b[0;36m4\u001b[0m\u001b[0;34m]\u001b[0m\u001b[0;34m,\u001b[0m \u001b[0;32mNone\u001b[0m\u001b[0;34m,\u001b[0m \u001b[0;34m'Miles'\u001b[0m\u001b[0;34m,\u001b[0m \u001b[0moutput_name\u001b[0m\u001b[0;34m=\u001b[0m\u001b[0;34m\"Fire_Buffers_\"\u001b[0m \u001b[0;34m+\u001b[0m \u001b[0mtimestamp\u001b[0m \u001b[0;34m)\u001b[0m\u001b[0;34m\u001b[0m\u001b[0m\n\u001b[0m",
      "\u001b[0;32m/Users/atma6951/anaconda/envs/geosaurus_gold/lib/python3.6/site-packages/arcgis/features/use_proximity.py\u001b[0m in \u001b[0;36mcreate_buffers\u001b[0;34m(input_layer, distances, field, units, dissolve_type, ring_type, side_type, end_type, output_name, context, gis)\u001b[0m\n\u001b[1;32m    127\u001b[0m         \u001b[0mend_type\u001b[0m\u001b[0;34m,\u001b[0m\u001b[0;34m\u001b[0m\u001b[0m\n\u001b[1;32m    128\u001b[0m         \u001b[0moutput_name\u001b[0m\u001b[0;34m,\u001b[0m\u001b[0;34m\u001b[0m\u001b[0m\n\u001b[0;32m--> 129\u001b[0;31m         context)\n\u001b[0m\u001b[1;32m    130\u001b[0m \u001b[0;34m\u001b[0m\u001b[0m\n\u001b[1;32m    131\u001b[0m \u001b[0;34m\u001b[0m\u001b[0m\n",
      "\u001b[0;32m/Users/atma6951/anaconda/envs/geosaurus_gold/lib/python3.6/site-packages/arcgis/_impl/tools.py\u001b[0m in \u001b[0;36mcreate_buffers\u001b[0;34m(self, input_layer, distances, field, units, dissolve_type, ring_type, side_type, end_type, output_name, context)\u001b[0m\n\u001b[1;32m    644\u001b[0m         \u001b[0mtask_url\u001b[0m\u001b[0;34m,\u001b[0m \u001b[0mjob_info\u001b[0m \u001b[0;34m=\u001b[0m \u001b[0msuper\u001b[0m\u001b[0;34m(\u001b[0m\u001b[0;34m)\u001b[0m\u001b[0;34m.\u001b[0m\u001b[0m_analysis_job\u001b[0m\u001b[0;34m(\u001b[0m\u001b[0mtask\u001b[0m\u001b[0;34m,\u001b[0m \u001b[0mparams\u001b[0m\u001b[0;34m)\u001b[0m\u001b[0;34m\u001b[0m\u001b[0m\n\u001b[1;32m    645\u001b[0m \u001b[0;34m\u001b[0m\u001b[0m\n\u001b[0;32m--> 646\u001b[0;31m         \u001b[0mjob_info\u001b[0m \u001b[0;34m=\u001b[0m \u001b[0msuper\u001b[0m\u001b[0;34m(\u001b[0m\u001b[0;34m)\u001b[0m\u001b[0;34m.\u001b[0m\u001b[0m_analysis_job_status\u001b[0m\u001b[0;34m(\u001b[0m\u001b[0mtask_url\u001b[0m\u001b[0;34m,\u001b[0m \u001b[0mjob_info\u001b[0m\u001b[0;34m)\u001b[0m\u001b[0;34m\u001b[0m\u001b[0m\n\u001b[0m\u001b[1;32m    647\u001b[0m         \u001b[0mjob_values\u001b[0m \u001b[0;34m=\u001b[0m \u001b[0msuper\u001b[0m\u001b[0;34m(\u001b[0m\u001b[0;34m)\u001b[0m\u001b[0;34m.\u001b[0m\u001b[0m_analysis_job_results\u001b[0m\u001b[0;34m(\u001b[0m\u001b[0mtask_url\u001b[0m\u001b[0;34m,\u001b[0m \u001b[0mjob_info\u001b[0m\u001b[0;34m)\u001b[0m\u001b[0;34m\u001b[0m\u001b[0m\n\u001b[1;32m    648\u001b[0m         \u001b[0;31m#print(job_values)\u001b[0m\u001b[0;34m\u001b[0m\u001b[0;34m\u001b[0m\u001b[0m\n",
      "\u001b[0;32m/Users/atma6951/anaconda/envs/geosaurus_gold/lib/python3.6/site-packages/arcgis/_impl/tools.py\u001b[0m in \u001b[0;36m_analysis_job_status\u001b[0;34m(self, task_url, job_info)\u001b[0m\n\u001b[1;32m    183\u001b[0m \u001b[0;34m\u001b[0m\u001b[0m\n\u001b[1;32m    184\u001b[0m                     \u001b[0;32mif\u001b[0m \u001b[0mjob_response\u001b[0m\u001b[0;34m.\u001b[0m\u001b[0mget\u001b[0m\u001b[0;34m(\u001b[0m\u001b[0;34m\"jobStatus\"\u001b[0m\u001b[0;34m)\u001b[0m \u001b[0;34m==\u001b[0m \u001b[0;34m\"esriJobFailed\"\u001b[0m\u001b[0;34m:\u001b[0m\u001b[0;34m\u001b[0m\u001b[0m\n\u001b[0;32m--> 185\u001b[0;31m                         \u001b[0;32mraise\u001b[0m \u001b[0mException\u001b[0m\u001b[0;34m(\u001b[0m\u001b[0;34m\"Job failed.\"\u001b[0m\u001b[0;34m)\u001b[0m\u001b[0;34m\u001b[0m\u001b[0m\n\u001b[0m\u001b[1;32m    186\u001b[0m                     \u001b[0;32melif\u001b[0m \u001b[0mjob_response\u001b[0m\u001b[0;34m.\u001b[0m\u001b[0mget\u001b[0m\u001b[0;34m(\u001b[0m\u001b[0;34m\"jobStatus\"\u001b[0m\u001b[0;34m)\u001b[0m \u001b[0;34m==\u001b[0m \u001b[0;34m\"esriJobCancelled\"\u001b[0m\u001b[0;34m:\u001b[0m\u001b[0;34m\u001b[0m\u001b[0m\n\u001b[1;32m    187\u001b[0m                         \u001b[0;32mraise\u001b[0m \u001b[0mException\u001b[0m\u001b[0;34m(\u001b[0m\u001b[0;34m\"Job cancelled.\"\u001b[0m\u001b[0;34m)\u001b[0m\u001b[0;34m\u001b[0m\u001b[0m\n",
      "\u001b[0;31mException\u001b[0m: Job failed."
     ]
    }
   ],
   "source": [
    "from arcgis.features.use_proximity import create_buffers\n",
    "\n",
    "# buffer the active fire boundaries and add as new content\n",
    "\n",
    "timestamp = '{:%Y_%m_%d_%H_%M_%S}'.format(datetime.datetime.now())\n",
    "firebuffers = create_buffers(fires, [4], None, 'Miles', output_name=\"Fire_Buffers_\" + timestamp )"
   ]
  },
  {
   "cell_type": "markdown",
   "metadata": {},
   "source": [
    "The output layer is private by default. To share it with particular groups, members within the org,  or everyone, we can use the `Item.share()` method. The code below shares it to everyone (public):"
   ]
  },
  {
   "cell_type": "code",
   "execution_count": 66,
   "metadata": {},
   "outputs": [
    {
     "data": {
      "text/plain": [
       "[<Item title:\"Fire_Buffers_2017_06_27_10_26_24\" type:Feature Layer Collection owner:arcgis_python>,\n",
       " <Item title:\"Fire_Buffers_2017_06_23_10_50_10\" type:Feature Layer Collection owner:arcgis_python>,\n",
       " <Item title:\"Fire_Buffers_2017_07_11_10_04_44\" type:Feature Layer Collection owner:arcgis_python>,\n",
       " <Item title:\"Fire_Buffers_2017_07_07_11_15_57\" type:Feature Layer Collection owner:arcgis_python>,\n",
       " <Item title:\"Fire_Buffers_2017_06_23_10_50_48\" type:Feature Layer Collection owner:arcgis_python>]"
      ]
     },
     "execution_count": 66,
     "metadata": {},
     "output_type": "execute_result"
    }
   ],
   "source": [
    "search_result = gis.content.search(\"Fire_Buffers_\", 'Feature Layer')\n",
    "search_result"
   ]
  },
  {
   "cell_type": "code",
   "execution_count": 45,
   "metadata": {},
   "outputs": [
    {
     "data": {
      "text/html": [
       "<div class=\"item_container\" style=\"height: auto; overflow: hidden; border: 1px solid #cfcfcf; border-radius: 2px; background: #f6fafa; line-height: 1.21429em; padding: 10px;\">\n",
       "                    <div class=\"item_left\" style=\"width: 210px; float: left;\">\n",
       "                       <a href='https://python.playground.esri.com/portal/home/item.html?id=d893067bb99e468e862f947c91ae23fb' target='_blank'>\n",
       "                        <img src='https://python.playground.esri.com/portal/portalimages/desktopapp.png' class=\"itemThumbnail\">\n",
       "                       </a>\n",
       "                    </div>\n",
       "\n",
       "                    <div class=\"item_right\"     style=\"float: none; width: auto; overflow: hidden;\">\n",
       "                        <a href='https://python.playground.esri.com/portal/home/item.html?id=d893067bb99e468e862f947c91ae23fb' target='_blank'><b>Fire_Buffers_2017_07_11_10_04_44</b>\n",
       "                        </a>\n",
       "                        <br/><img src='https://python.playground.esri.com/portal/home/js/jsapi/esri/css/images/item_type_icons/featureshosted16.png' style=\"vertical-align:middle;\">Feature Layer Collection by arcgis_python\n",
       "                        <br/>Last Modified: July 11, 2017\n",
       "                        <br/>0 comments, 0 views\n",
       "                    </div>\n",
       "                </div>\n",
       "                "
      ],
      "text/plain": [
       "<Item title:\"Fire_Buffers_2017_07_11_10_04_44\" type:Feature Layer Collection owner:arcgis_python>"
      ]
     },
     "execution_count": 45,
     "metadata": {},
     "output_type": "execute_result"
    }
   ],
   "source": [
    "firebuffers = search_result[-2]\n",
    "firebuffers"
   ]
  },
  {
   "cell_type": "code",
   "execution_count": 46,
   "metadata": {},
   "outputs": [
    {
     "data": {
      "text/plain": [
       "{'itemId': 'd893067bb99e468e862f947c91ae23fb', 'notSharedWith': []}"
      ]
     },
     "execution_count": 46,
     "metadata": {},
     "output_type": "execute_result"
    }
   ],
   "source": [
    "# share the layer with public\n",
    "firebuffers.share(True)"
   ]
  },
  {
   "cell_type": "markdown",
   "metadata": {},
   "source": [
    "Since the `output_name` parameter was specified, the tool created a new feature layer item as output. We can visualize this by adding it to the map above. Now we can observe more facilities falling within the buffered area."
   ]
  },
  {
   "cell_type": "code",
   "execution_count": 47,
   "metadata": {
    "collapsed": true
   },
   "outputs": [],
   "source": [
    "# add risk areas to map\n",
    "m1.add_layer(firebuffers)"
   ]
  },
  {
   "cell_type": "markdown",
   "metadata": {},
   "source": [
    "## Perform overlay analysis to extract facilities that fall within the fire buffers\n",
    "\n",
    "To programmatically extract the locations that fall within the fire buffers, we use **`overlay_layers`** tool under `FeatureAnalysisTools` class just like we did for `create_buffers` tool earlier. The `overlay_layers` tool supports a few overlay types, here we use **`Intersect`** as we need to perform a spatial intersection to identify the facilities that are located within the fire boundaries. To learn more about this operation, refer to the [documentation](https://developers.arcgis.com/rest/analysis/api-reference/overlay-layers.htm).\n",
    "\n",
    "We specify an output name (with a timestamp) for the service as we want to keep a record of the critical infrastructure within the risk boundaries and share it with others as feature layers or in web maps:"
   ]
  },
  {
   "cell_type": "code",
   "execution_count": 48,
   "metadata": {
    "collapsed": true
   },
   "outputs": [],
   "source": [
    "from arcgis.features.manage_data import overlay_layers\n",
    "\n",
    "# run analysis to determine critical infrastructure within the risk boundaries\n",
    "riskinfra = overlay_layers(firebuffers, infra, overlay_type=\"Intersect\",\n",
    "                        output_name=\"At_Risk_Infrastructure_\" + timestamp)"
   ]
  },
  {
   "cell_type": "code",
   "execution_count": 49,
   "metadata": {},
   "outputs": [
    {
     "data": {
      "text/plain": [
       "{'itemId': '2c4262bb35f244d39ce60eeff983df96', 'notSharedWith': []}"
      ]
     },
     "execution_count": 49,
     "metadata": {},
     "output_type": "execute_result"
    }
   ],
   "source": [
    "# set sharing on new analysis layer\n",
    "riskinfra.share(True)"
   ]
  },
  {
   "cell_type": "markdown",
   "metadata": {},
   "source": [
    "The output of the overlay analysis is a Feature Layer Item. We can access the layers and tables in an Item represing GIS services using the `layers` and `tables` attributes. "
   ]
  },
  {
   "cell_type": "code",
   "execution_count": 50,
   "metadata": {},
   "outputs": [
    {
     "data": {
      "text/plain": [
       "[<FeatureLayer url:\"http://python.playground.esri.com/server/rest/services/Hosted/At_Risk_Infrastructure_2017_07_11_10_50_05/FeatureServer/0\">]"
      ]
     },
     "execution_count": 50,
     "metadata": {},
     "output_type": "execute_result"
    }
   ],
   "source": [
    "riskinfra.layers"
   ]
  },
  {
   "cell_type": "markdown",
   "metadata": {},
   "source": [
    "## Read analysis results as a pandas dataframe for analysis\n",
    "\n",
    "\n",
    "Let us read this results of the overlay analysis by querying it's layer for attribute data, and display the attribute table to get a sense of the results. Layers can be queried for attributes and geometry using the `query()` method.\n",
    "\n",
    "The query we ran in the previous step returned a list of dictionaries representing the features. For further analysis or for visualizing the output data as a table, let us convert it into a [pandas](http://pandas.pydata.org/) [dataframe](http://pandas.pydata.org/pandas-docs/stable/generated/pandas.DataFrame.html)."
   ]
  },
  {
   "cell_type": "code",
   "execution_count": 51,
   "metadata": {},
   "outputs": [
    {
     "data": {
      "text/html": [
       "<div>\n",
       "<table border=\"1\" class=\"dataframe\">\n",
       "  <thead>\n",
       "    <tr style=\"text-align: right;\">\n",
       "      <th></th>\n",
       "      <th>acres</th>\n",
       "      <th>addrln1</th>\n",
       "      <th>addrln2</th>\n",
       "      <th>analysisarea</th>\n",
       "      <th>buff_dist</th>\n",
       "      <th>cat1</th>\n",
       "      <th>cat2</th>\n",
       "      <th>cat3</th>\n",
       "      <th>city</th>\n",
       "      <th>containmen</th>\n",
       "      <th>...</th>\n",
       "      <th>point_y</th>\n",
       "      <th>post_id</th>\n",
       "      <th>source</th>\n",
       "      <th>state</th>\n",
       "      <th>status</th>\n",
       "      <th>target_fid</th>\n",
       "      <th>url</th>\n",
       "      <th>use_type</th>\n",
       "      <th>zip</th>\n",
       "      <th>SHAPE</th>\n",
       "    </tr>\n",
       "  </thead>\n",
       "  <tbody>\n",
       "    <tr>\n",
       "      <th>0</th>\n",
       "      <td>10850</td>\n",
       "      <td></td>\n",
       "      <td></td>\n",
       "      <td>112.459570</td>\n",
       "      <td>4.0</td>\n",
       "      <td>Physical Features</td>\n",
       "      <td>Power Plants</td>\n",
       "      <td></td>\n",
       "      <td></td>\n",
       "      <td>0.50</td>\n",
       "      <td>...</td>\n",
       "      <td>1.886700e+06</td>\n",
       "      <td>24626.0</td>\n",
       "      <td>HSIP Freedom Gnis_cultural_fe</td>\n",
       "      <td></td>\n",
       "      <td>Active</td>\n",
       "      <td>15</td>\n",
       "      <td></td>\n",
       "      <td>publish</td>\n",
       "      <td></td>\n",
       "      <td>{'x': -13121451.6931, 'y': 4052549.6177999973}</td>\n",
       "    </tr>\n",
       "    <tr>\n",
       "      <th>1</th>\n",
       "      <td>1080</td>\n",
       "      <td></td>\n",
       "      <td></td>\n",
       "      <td>57.433120</td>\n",
       "      <td>4.0</td>\n",
       "      <td>Health and Mental Health</td>\n",
       "      <td>Hospitals and Medical Centers</td>\n",
       "      <td></td>\n",
       "      <td></td>\n",
       "      <td>0.65</td>\n",
       "      <td>...</td>\n",
       "      <td>1.880309e+06</td>\n",
       "      <td>26620.0</td>\n",
       "      <td>HSIP Freedom Gnis_structures</td>\n",
       "      <td></td>\n",
       "      <td>Active</td>\n",
       "      <td>17</td>\n",
       "      <td></td>\n",
       "      <td>publish</td>\n",
       "      <td></td>\n",
       "      <td>{'x': -13206521.157200001, 'y': 4049970.820600...</td>\n",
       "    </tr>\n",
       "    <tr>\n",
       "      <th>2</th>\n",
       "      <td>8940</td>\n",
       "      <td></td>\n",
       "      <td></td>\n",
       "      <td>60.135539</td>\n",
       "      <td>4.0</td>\n",
       "      <td>Health and Mental Health</td>\n",
       "      <td>Hospitals and Medical Centers</td>\n",
       "      <td></td>\n",
       "      <td></td>\n",
       "      <td>0.80</td>\n",
       "      <td>...</td>\n",
       "      <td>1.924838e+06</td>\n",
       "      <td>27055.0</td>\n",
       "      <td>HSIP Freedom Gnis_structures</td>\n",
       "      <td></td>\n",
       "      <td>Active</td>\n",
       "      <td>48</td>\n",
       "      <td></td>\n",
       "      <td>publish</td>\n",
       "      <td></td>\n",
       "      <td>{'x': -13178369.5108, 'y': 4066587.2479000017}</td>\n",
       "    </tr>\n",
       "    <tr>\n",
       "      <th>3</th>\n",
       "      <td>8940</td>\n",
       "      <td>12653 Osborne St.</td>\n",
       "      <td></td>\n",
       "      <td>60.135539</td>\n",
       "      <td>4.0</td>\n",
       "      <td>Transportation</td>\n",
       "      <td>Airports</td>\n",
       "      <td></td>\n",
       "      <td>Pacoima</td>\n",
       "      <td>0.80</td>\n",
       "      <td>...</td>\n",
       "      <td>1.916959e+06</td>\n",
       "      <td>13559.0</td>\n",
       "      <td>Current Services Locator</td>\n",
       "      <td>CA</td>\n",
       "      <td>Active</td>\n",
       "      <td>57</td>\n",
       "      <td></td>\n",
       "      <td>publish</td>\n",
       "      <td>91331</td>\n",
       "      <td>{'x': -13181708.853500001, 'y': 4063657.560000...</td>\n",
       "    </tr>\n",
       "    <tr>\n",
       "      <th>4</th>\n",
       "      <td>1080</td>\n",
       "      <td>5601 De Soto Ave.</td>\n",
       "      <td></td>\n",
       "      <td>57.433120</td>\n",
       "      <td>4.0</td>\n",
       "      <td>Health and Mental Health</td>\n",
       "      <td>Hospitals and Medical Centers</td>\n",
       "      <td>911 Receiving</td>\n",
       "      <td>Woodland Hills</td>\n",
       "      <td>0.65</td>\n",
       "      <td>...</td>\n",
       "      <td>1.885131e+06</td>\n",
       "      <td>730.0</td>\n",
       "      <td>Current Services Locator</td>\n",
       "      <td>CA</td>\n",
       "      <td>Active</td>\n",
       "      <td>59</td>\n",
       "      <td>www.kaiserpermanente.org</td>\n",
       "      <td>publish</td>\n",
       "      <td>91365</td>\n",
       "      <td>{'x': -13201349.398400001, 'y': 4051785.356899...</td>\n",
       "    </tr>\n",
       "    <tr>\n",
       "      <th>5</th>\n",
       "      <td>8940</td>\n",
       "      <td>9449 San Fernando Rd.</td>\n",
       "      <td></td>\n",
       "      <td>60.135539</td>\n",
       "      <td>4.0</td>\n",
       "      <td>Health and Mental Health</td>\n",
       "      <td>Hospitals and Medical Centers</td>\n",
       "      <td>911 Receiving</td>\n",
       "      <td>Sun Valley</td>\n",
       "      <td>0.80</td>\n",
       "      <td>...</td>\n",
       "      <td>1.910013e+06</td>\n",
       "      <td>637.0</td>\n",
       "      <td>211</td>\n",
       "      <td>CA</td>\n",
       "      <td>Active</td>\n",
       "      <td>166</td>\n",
       "      <td>www.pacificahospital.com</td>\n",
       "      <td>publish</td>\n",
       "      <td>91352</td>\n",
       "      <td>{'x': -13179805.0937, 'y': 4061094.5309000015}</td>\n",
       "    </tr>\n",
       "    <tr>\n",
       "      <th>6</th>\n",
       "      <td>8940</td>\n",
       "      <td>12756 Van Nuys Blvd</td>\n",
       "      <td></td>\n",
       "      <td>60.135539</td>\n",
       "      <td>4.0</td>\n",
       "      <td>Health and Mental Health</td>\n",
       "      <td>Hospitals and Medical Centers</td>\n",
       "      <td></td>\n",
       "      <td>Pacoima</td>\n",
       "      <td>0.80</td>\n",
       "      <td>...</td>\n",
       "      <td>1.922409e+06</td>\n",
       "      <td>70599.0</td>\n",
       "      <td>211</td>\n",
       "      <td>CA</td>\n",
       "      <td>Active</td>\n",
       "      <td>218</td>\n",
       "      <td>www.nevhc.org/</td>\n",
       "      <td>publish</td>\n",
       "      <td>91331</td>\n",
       "      <td>{'x': -13181420.905299999, 'y': 4065675.799199...</td>\n",
       "    </tr>\n",
       "  </tbody>\n",
       "</table>\n",
       "<p>7 rows × 42 columns</p>\n",
       "</div>"
      ],
      "text/plain": [
       "   acres                addrln1 addrln2  analysisarea  buff_dist  \\\n",
       "0  10850                                   112.459570        4.0   \n",
       "1   1080                                    57.433120        4.0   \n",
       "2   8940                                    60.135539        4.0   \n",
       "3   8940      12653 Osborne St.             60.135539        4.0   \n",
       "4   1080      5601 De Soto Ave.             57.433120        4.0   \n",
       "5   8940  9449 San Fernando Rd.             60.135539        4.0   \n",
       "6   8940    12756 Van Nuys Blvd             60.135539        4.0   \n",
       "\n",
       "                       cat1                           cat2           cat3  \\\n",
       "0         Physical Features                   Power Plants                  \n",
       "1  Health and Mental Health  Hospitals and Medical Centers                  \n",
       "2  Health and Mental Health  Hospitals and Medical Centers                  \n",
       "3            Transportation                       Airports                  \n",
       "4  Health and Mental Health  Hospitals and Medical Centers  911 Receiving   \n",
       "5  Health and Mental Health  Hospitals and Medical Centers  911 Receiving   \n",
       "6  Health and Mental Health  Hospitals and Medical Centers                  \n",
       "\n",
       "             city  containmen  \\\n",
       "0                        0.50   \n",
       "1                        0.65   \n",
       "2                        0.80   \n",
       "3         Pacoima        0.80   \n",
       "4  Woodland Hills        0.65   \n",
       "5      Sun Valley        0.80   \n",
       "6         Pacoima        0.80   \n",
       "\n",
       "                         ...                               point_y  post_id  \\\n",
       "0                        ...                          1.886700e+06  24626.0   \n",
       "1                        ...                          1.880309e+06  26620.0   \n",
       "2                        ...                          1.924838e+06  27055.0   \n",
       "3                        ...                          1.916959e+06  13559.0   \n",
       "4                        ...                          1.885131e+06    730.0   \n",
       "5                        ...                          1.910013e+06    637.0   \n",
       "6                        ...                          1.922409e+06  70599.0   \n",
       "\n",
       "                          source state  status target_fid  \\\n",
       "0  HSIP Freedom Gnis_cultural_fe        Active         15   \n",
       "1   HSIP Freedom Gnis_structures        Active         17   \n",
       "2   HSIP Freedom Gnis_structures        Active         48   \n",
       "3       Current Services Locator    CA  Active         57   \n",
       "4       Current Services Locator    CA  Active         59   \n",
       "5                            211    CA  Active        166   \n",
       "6                            211    CA  Active        218   \n",
       "\n",
       "                        url use_type    zip  \\\n",
       "0                            publish          \n",
       "1                            publish          \n",
       "2                            publish          \n",
       "3                            publish  91331   \n",
       "4  www.kaiserpermanente.org  publish  91365   \n",
       "5  www.pacificahospital.com  publish  91352   \n",
       "6            www.nevhc.org/  publish  91331   \n",
       "\n",
       "                                               SHAPE  \n",
       "0     {'x': -13121451.6931, 'y': 4052549.6177999973}  \n",
       "1  {'x': -13206521.157200001, 'y': 4049970.820600...  \n",
       "2     {'x': -13178369.5108, 'y': 4066587.2479000017}  \n",
       "3  {'x': -13181708.853500001, 'y': 4063657.560000...  \n",
       "4  {'x': -13201349.398400001, 'y': 4051785.356899...  \n",
       "5     {'x': -13179805.0937, 'y': 4061094.5309000015}  \n",
       "6  {'x': -13181420.905299999, 'y': 4065675.799199...  \n",
       "\n",
       "[7 rows x 42 columns]"
      ]
     },
     "execution_count": 51,
     "metadata": {},
     "output_type": "execute_result"
    }
   ],
   "source": [
    "at_risk_facilities  = riskinfra.layers[0]\n",
    "features = at_risk_facilities.query()\n",
    "\n",
    "df = features.df # read the returned features as a Pandas dataframe\n",
    "df"
   ]
  },
  {
   "cell_type": "markdown",
   "metadata": {},
   "source": [
    "From the data frame, we can see there are 7 features which fell within the fire buffers. To make this result usable, let us export a CSV with only the facility name and other critical details. This CSV can be considered as a valuable information product as a result of this analysis and can be shared with the teams assisting in organizing the firefighting efforts, evacuations, etc."
   ]
  },
  {
   "cell_type": "code",
   "execution_count": 52,
   "metadata": {},
   "outputs": [
    {
     "data": {
      "text/html": [
       "<div>\n",
       "<table border=\"1\" class=\"dataframe\">\n",
       "  <thead>\n",
       "    <tr style=\"text-align: right;\">\n",
       "      <th></th>\n",
       "      <th>name</th>\n",
       "      <th>cat1</th>\n",
       "      <th>post_id</th>\n",
       "    </tr>\n",
       "  </thead>\n",
       "  <tbody>\n",
       "    <tr>\n",
       "      <th>0</th>\n",
       "      <td>Azusa Powerplant Conduit</td>\n",
       "      <td>Physical Features</td>\n",
       "      <td>24626.0</td>\n",
       "    </tr>\n",
       "    <tr>\n",
       "      <th>1</th>\n",
       "      <td>Motion Picture And Television Fund Hospital</td>\n",
       "      <td>Health and Mental Health</td>\n",
       "      <td>26620.0</td>\n",
       "    </tr>\n",
       "    <tr>\n",
       "      <th>2</th>\n",
       "      <td>Pacoima Memorial Hospital</td>\n",
       "      <td>Health and Mental Health</td>\n",
       "      <td>27055.0</td>\n",
       "    </tr>\n",
       "    <tr>\n",
       "      <th>3</th>\n",
       "      <td>Whiteman Airport</td>\n",
       "      <td>Transportation</td>\n",
       "      <td>13559.0</td>\n",
       "    </tr>\n",
       "    <tr>\n",
       "      <th>4</th>\n",
       "      <td>Kaiser Permanente - Woodland Hills Medical Center</td>\n",
       "      <td>Health and Mental Health</td>\n",
       "      <td>730.0</td>\n",
       "    </tr>\n",
       "    <tr>\n",
       "      <th>5</th>\n",
       "      <td>Pacifica Hospital Of The Valley</td>\n",
       "      <td>Health and Mental Health</td>\n",
       "      <td>637.0</td>\n",
       "    </tr>\n",
       "    <tr>\n",
       "      <th>6</th>\n",
       "      <td>Northeast Valley Health Corporation - Pacoima ...</td>\n",
       "      <td>Health and Mental Health</td>\n",
       "      <td>70599.0</td>\n",
       "    </tr>\n",
       "  </tbody>\n",
       "</table>\n",
       "</div>"
      ],
      "text/plain": [
       "                                                name  \\\n",
       "0                           Azusa Powerplant Conduit   \n",
       "1        Motion Picture And Television Fund Hospital   \n",
       "2                          Pacoima Memorial Hospital   \n",
       "3                                   Whiteman Airport   \n",
       "4  Kaiser Permanente - Woodland Hills Medical Center   \n",
       "5                    Pacifica Hospital Of The Valley   \n",
       "6  Northeast Valley Health Corporation - Pacoima ...   \n",
       "\n",
       "                       cat1  post_id  \n",
       "0         Physical Features  24626.0  \n",
       "1  Health and Mental Health  26620.0  \n",
       "2  Health and Mental Health  27055.0  \n",
       "3            Transportation  13559.0  \n",
       "4  Health and Mental Health    730.0  \n",
       "5  Health and Mental Health    637.0  \n",
       "6  Health and Mental Health  70599.0  "
      ]
     },
     "execution_count": 52,
     "metadata": {},
     "output_type": "execute_result"
    }
   ],
   "source": [
    "# view simplified risk facilities table\n",
    "df1_simplified = df[['name', 'cat1', 'post_id']]\n",
    "df1_simplified"
   ]
  },
  {
   "cell_type": "code",
   "execution_count": 53,
   "metadata": {
    "collapsed": true
   },
   "outputs": [],
   "source": [
    "# Export this to a csv file. This CSV can then be shared with fire fighters.\n",
    "csv_file = r'at_risk_facilities.csv'\n",
    "df1_simplified.to_csv(csv_file)"
   ]
  },
  {
   "cell_type": "markdown",
   "metadata": {},
   "source": [
    "## Mapping the infrastructure at risk\n",
    "\n",
    "Tables and charts aren't enough to convey the information gathered from this analysis. By plotting the  locations of the critical infrastructure at risk from the forest fires, we are able to identify patterns that can be of great value in fighting a catastrophe of this scale and prevent or minimize human, infrastructural and environmental loss:"
   ]
  },
  {
   "cell_type": "code",
   "execution_count": 54,
   "metadata": {},
   "outputs": [
    {
     "data": {
      "application/vnd.jupyter.widget-view+json": {
       "model_id": "c33bb79ae85842dbb3180c945143ccc4"
      }
     },
     "metadata": {},
     "output_type": "display_data"
    }
   ],
   "source": [
    "# create new map over aoi\n",
    "m2 = gis.map('Los Angeles', 9)\n",
    "m2"
   ]
  },
  {
   "cell_type": "code",
   "execution_count": 55,
   "metadata": {
    "collapsed": true
   },
   "outputs": [],
   "source": [
    "#add the critical infrastructure layer to the map\n",
    "m2.add_layer(infra)"
   ]
  },
  {
   "cell_type": "code",
   "execution_count": 56,
   "metadata": {
    "collapsed": true
   },
   "outputs": [],
   "source": [
    "# add at risk facilities layer to fresh map\n",
    "m2.add_layer(riskinfra)\n",
    "             "
   ]
  },
  {
   "cell_type": "markdown",
   "metadata": {},
   "source": [
    "## Sharing the result of the analysis as a web map\n",
    "\n",
    "The different teams working on the firefighting, relief and rescue efforts need a current and updated web map of the critical infrastruture at risk from the fires. The code below fetches the web-map from the GIS and updates it's operational layer to the one from the analysis above. This enables all interested parties to refer to one common, constantly updated web-map for planning firefighting, rescue and relief efforts."
   ]
  },
  {
   "cell_type": "code",
   "execution_count": 57,
   "metadata": {},
   "outputs": [
    {
     "data": {
      "text/html": [
       "<div class=\"item_container\" style=\"height: auto; overflow: hidden; border: 1px solid #cfcfcf; border-radius: 2px; background: #f6fafa; line-height: 1.21429em; padding: 10px;\">\n",
       "                    <div class=\"item_left\" style=\"width: 210px; float: left;\">\n",
       "                       <a href='https://python.playground.esri.com/portal/home/item.html?id=5d72a85a7c4e4448a28eb126f87d170a' target='_blank'>\n",
       "                        <img src='data:image/png;base64,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' width='200' height='133' class=\"itemThumbnail\">\n",
       "                       </a>\n",
       "                    </div>\n",
       "\n",
       "                    <div class=\"item_right\"     style=\"float: none; width: auto; overflow: hidden;\">\n",
       "                        <a href='https://python.playground.esri.com/portal/home/item.html?id=5d72a85a7c4e4448a28eb126f87d170a' target='_blank'><b>LA County Infrastructure at Risk</b>\n",
       "                        </a>\n",
       "                        <br/><img src='https://python.playground.esri.com/portal/home/js/jsapi/esri/css/images/item_type_icons/maps16.png' style=\"vertical-align:middle;\">Web Map by arcgis_python\n",
       "                        <br/>Last Modified: July 11, 2017\n",
       "                        <br/>0 comments, 3 views\n",
       "                    </div>\n",
       "                </div>\n",
       "                "
      ],
      "text/plain": [
       "<Item title:\"LA County Infrastructure at Risk\" type:Web Map owner:arcgis_python>"
      ]
     },
     "execution_count": 57,
     "metadata": {},
     "output_type": "execute_result"
    }
   ],
   "source": [
    "#display the webmap item that we had obtained as part of the 'LA County Emergency Management' group's content in the first section of this notebook.\n",
    "webmapitem"
   ]
  },
  {
   "cell_type": "code",
   "execution_count": 58,
   "metadata": {
    "collapsed": true,
    "scrolled": true
   },
   "outputs": [],
   "source": [
    "# create a webmap from the item\n",
    "webmap = arcgis.mapping.WebMap(webmapitem)"
   ]
  },
  {
   "cell_type": "code",
   "execution_count": 59,
   "metadata": {},
   "outputs": [
    {
     "name": "stdout",
     "output_type": "stream",
     "text": [
      "http://python.playground.esri.com/server/rest/services/Hosted/At_Risk_Infrastructure_2017_07_11_10_04_44/FeatureServer/0\n"
     ]
    }
   ],
   "source": [
    "# read the operational layers in our webmap\n",
    "for lyr in webmap['operationalLayers']:\n",
    "    if lyr['id'].startswith('At_Risk_Infrastructure'):\n",
    "        print(lyr['url'])"
   ]
  },
  {
   "cell_type": "code",
   "execution_count": 60,
   "metadata": {},
   "outputs": [
    {
     "data": {
      "text/plain": [
       "'http://python.playground.esri.com/server/rest/services/Hosted/At_Risk_Infrastructure_2017_07_11_10_50_05/FeatureServer/0'"
      ]
     },
     "execution_count": 60,
     "metadata": {},
     "output_type": "execute_result"
    }
   ],
   "source": [
    "new_url = at_risk_facilities.url\n",
    "new_url"
   ]
  },
  {
   "cell_type": "code",
   "execution_count": 61,
   "metadata": {
    "collapsed": true
   },
   "outputs": [],
   "source": [
    "# update the url of the 'At Risk Infrastructure' layer in the web map\n",
    "\n",
    "for lyr in webmap['operationalLayers']:\n",
    "    if lyr['id'].startswith('At_Risk_Infrastructure'):\n",
    "        lyr['url'] = new_url"
   ]
  },
  {
   "cell_type": "code",
   "execution_count": 62,
   "metadata": {
    "collapsed": true
   },
   "outputs": [],
   "source": [
    "# save the updates back to the GIS\n",
    "webmap.update()"
   ]
  },
  {
   "cell_type": "markdown",
   "metadata": {},
   "source": [
    "Web map items can also be visualized in the Jupyter Notebook as shown below. This enables use of web-maps for analysis and visualization within the notebook environment."
   ]
  }
 ],
 "metadata": {
  "anaconda-cloud": {},
  "kernelspec": {
   "display_name": "Python 3",
   "language": "python",
   "name": "python3"
  },
  "language_info": {
   "codemirror_mode": {
    "name": "ipython",
    "version": 3
   },
   "file_extension": ".py",
   "mimetype": "text/x-python",
   "name": "python",
   "nbconvert_exporter": "python",
   "pygments_lexer": "ipython3",
   "version": "3.6.1"
  }
 },
 "nbformat": 4,
 "nbformat_minor": 1
}
