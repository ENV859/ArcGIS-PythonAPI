{
 "cells": [
  {
   "cell_type": "markdown",
   "metadata": {},
   "source": [
    "# Fighting California forest fires using spatial analysis\n",
    "\n",
    "The state of California has had a dangerous fire season in 2015 and 2016. A standard procedure while fighting these fires is identifying facilities that are at risk and evacuating them. Tasks such as this can be accomplished easily using **spatial analysis** tools available on your GIS. Spatial analysis tools allow overlaying the extent of fire and the locations of the facilities on a map and identifying the ones that fall within the fire's extent.\n",
    "\n",
    "Thus, this sample demonstrates the application of spatial analysis tools such as **buffer and overlay**.\n",
    "\n",
    "This notebook describes a scenario wherein an analyst automates the process of identifying facilities at risk from forest fires and sharing this information with other departments such as the fire department, etc.\n"
   ]
  },
  {
   "cell_type": "code",
   "execution_count": 27,
   "metadata": {
    "collapsed": false,
    "scrolled": false
   },
   "outputs": [
    {
     "name": "stdout",
     "output_type": "stream",
     "text": [
      "········\n"
     ]
    }
   ],
   "source": [
    "import datetime\n",
    "import arcgis\n",
    "from arcgis.gis import GIS\n",
    "from IPython.display import display\n",
    "from getpass import getpass\n",
    "\n",
    "password = getpass()\n",
    "\n",
    "# create a Web GIS object\n",
    "gis = GIS(\"https://esriwebgis.webgistesting.net/portal\", \"atma.mani\", password)"
   ]
  },
  {
   "cell_type": "markdown",
   "metadata": {},
   "source": [
    "## Visualize the fire data\n",
    "Let us create a map widget to see the fire related information in it's geographic context:"
   ]
  },
  {
   "cell_type": "code",
   "execution_count": 28,
   "metadata": {
    "collapsed": false
   },
   "outputs": [
    {
     "data": {
      "text/plain": [
       "[<Item title:\"CA_Fires_facilities\" type:Feature Service owner:atma.mani>,\n",
       " <Item title:\"Fire_Buffers_2017_03_10_10_40_56\" type:Feature Service owner:atma.mani>]"
      ]
     },
     "execution_count": 28,
     "metadata": {},
     "output_type": "execute_result"
    }
   ],
   "source": [
    "fire_layers_search = gis.content.search('fire* & owner:atma.mani', item_type='Feature Layer')\n",
    "fire_layers_search"
   ]
  },
  {
   "cell_type": "code",
   "execution_count": 29,
   "metadata": {
    "collapsed": false
   },
   "outputs": [
    {
     "data": {
      "text/html": [
       "<div class=\"item_container\" style=\"height: auto; overflow: hidden; border: 1px solid #cfcfcf; border-radius: 2px; background: #f6fafa; line-height: 1.21429em; padding: 10px;\">\n",
       "                    <div class=\"item_left\" style=\"width: 210px; float: left;\">\n",
       "                       <a href='https://esriwebgis.webgistesting.net/portal/home/item.html?id=6973510068b8460d91d935561c71a89a' target='_blank'>\n",
       "                        <img src='data:image/png;base64,iVBORw0KGgoAAAANSUhEUgAAAMgAAACFCAIAAACR/CB7AAAACXBIWXMAAA7EAAAOxAGVKw4bAAABbElEQVR4nO3SwQ3AIBDAsNL9dz6WIEJC9gR5ZM3MB6f9twN4k7FIGIuEsUgYi4SxSBiLhLFIGIuEsUgYi4SxSBiLhLFIGIuEsUgYi4SxSBiLhLFIGIuEsUgYi4SxSBiLhLFIGIuEsUgYi4SxSBiLhLFIGIuEsUgYi4SxSBiLhLFIGIuEsUgYi4SxSBiLhLFIGIuEsUgYi4SxSBiLhLFIGIuEsUgYi4SxSBiLhLFIGIuEsUgYi4SxSBiLhLFIGIuEsUgYi4SxSBiLhLFIGIuEsUgYi4SxSBiLhLFIGIuEsUgYi4SxSBiLhLFIGIuEsUgYi4SxSBiLhLFIGIuEsUgYi4SxSBiLhLFIGIuEsUgYi4SxSBiLhLFIGIuEsUgYi4SxSBiLhLFIGIuEsUgYi4SxSBiLhLFIGIuEsUgYi4SxSBiLhLFIGIuEsUgYi4SxSBiLhLFIGIuEsUgYi4SxSBiLhLFIGIuEsUgYi4SxSGy4dQQHgizXSQAAAABJRU5ErkJggg==' width='200' height='133' class=\"itemThumbnail\">\n",
       "                       </a>\n",
       "                    </div>\n",
       "\n",
       "                    <div class=\"item_right\"     style=\"float: none; width: auto; overflow: hidden;\">\n",
       "                        <a href='https://esriwebgis.webgistesting.net/portal/home/item.html?id=6973510068b8460d91d935561c71a89a' target='_blank'><b>CA_Fires_facilities</b>\n",
       "                        </a>\n",
       "                        <br/><img src='https://esriwebgis.webgistesting.net/portal/home/js/jsapi/esri/css/images/item_type_icons/featureshosted16.png' style=\"vertical-align:middle;\">Feature Layer Collection by atma.mani\n",
       "                        <br/>Last Modified: March 10, 2017\n",
       "                        <br/>0 comments, 4 views\n",
       "                    </div>\n",
       "                </div>\n",
       "                "
      ],
      "text/plain": [
       "<Item title:\"CA_Fires_facilities\" type:Feature Service owner:atma.mani>"
      ]
     },
     "execution_count": 29,
     "metadata": {},
     "output_type": "execute_result"
    }
   ],
   "source": [
    "ca_fires = fire_layers_search[0]\n",
    "ca_fires"
   ]
  },
  {
   "cell_type": "code",
   "execution_count": 30,
   "metadata": {
    "collapsed": false
   },
   "outputs": [],
   "source": [
    "# create a map of our area of interest\n",
    "m = gis.map('Los Angeles', 9)\n",
    "m"
   ]
  },
  {
   "cell_type": "code",
   "execution_count": 31,
   "metadata": {
    "collapsed": false
   },
   "outputs": [],
   "source": [
    "# add our critical infrastructure layer\n",
    "infra = ca_fires.layers[0]\n",
    "m.add_layer(infra)"
   ]
  },
  {
   "cell_type": "code",
   "execution_count": 32,
   "metadata": {
    "collapsed": false
   },
   "outputs": [],
   "source": [
    "# add the active fires layer\n",
    "fires = ca_fires.layers[1]\n",
    "m.add_layer(fires)"
   ]
  },
  {
   "cell_type": "markdown",
   "metadata": {},
   "source": [
    "## Create buffers around fires"
   ]
  },
  {
   "cell_type": "code",
   "execution_count": 33,
   "metadata": {
    "collapsed": false
   },
   "outputs": [
    {
     "name": "stdout",
     "output_type": "stream",
     "text": [
      "Submitted.\n",
      "Executing...\n"
     ]
    }
   ],
   "source": [
    "from arcgis.features.use_proximity import create_buffers\n",
    "\n",
    "# buffer the active fire boundaries and add as new content\n",
    "\n",
    "timestamp = '{:%Y_%m_%d_%H_%M_%S}'.format(datetime.datetime.now())\n",
    "firebuffers = create_buffers(input_layer = fires, \n",
    "                             distances=[4], \n",
    "                             field=None, \n",
    "                             units='Miles', \n",
    "                             output_name=\"Fire_Buffers_\" + timestamp )"
   ]
  },
  {
   "cell_type": "markdown",
   "metadata": {},
   "source": [
    "The output layer is private by default. To share it with particular groups, members within the org,  or everyone, we can use the `Item.share()` method. The code below shares it to everyone (public):"
   ]
  },
  {
   "cell_type": "code",
   "execution_count": 34,
   "metadata": {
    "collapsed": false
   },
   "outputs": [
    {
     "data": {
      "text/plain": [
       "{'itemId': 'cebff18c3a364dafbcc98aa6ed5fe051', 'notSharedWith': []}"
      ]
     },
     "execution_count": 34,
     "metadata": {},
     "output_type": "execute_result"
    }
   ],
   "source": [
    "# share the layer with public\n",
    "firebuffers.share(everyone = True)"
   ]
  },
  {
   "cell_type": "markdown",
   "metadata": {},
   "source": [
    "Since the `output_name` parameter was specified, the tool created a new feature layer item as output. We can visualize this by adding it to the map above. Now we can observe more facilities falling within the buffered area."
   ]
  },
  {
   "cell_type": "code",
   "execution_count": 35,
   "metadata": {
    "collapsed": true
   },
   "outputs": [],
   "source": [
    "# add risk areas to map\n",
    "m.add_layer(firebuffers)"
   ]
  },
  {
   "cell_type": "markdown",
   "metadata": {},
   "source": [
    "## Perform overlay analysis to extract facilities that fall within the fire buffers\n",
    "\n",
    "To programattically extract the locations that fall within the fire buffers, we use **`overlay_layers`** tool under `FeatureAnalysisTools` class just like we did for `create_buffers` tool earlier. The overlay layers tool supports a few overlay types, here we use **`Intersect`** as we need to perform a spatial intersection to identify the facilities that are located within the fire boundaries. To learn more about this operation, refer to the [documentation](https://developers.arcgis.com/rest/analysis/api-reference/overlay-layers.htm).\n",
    "\n",
    "We specify an output name (with a timestamp) for the service as we want to keep a record of the critical infrastructure within the risk boundaries and share it with others as feature layers or in web maps:"
   ]
  },
  {
   "cell_type": "code",
   "execution_count": 36,
   "metadata": {
    "collapsed": false
   },
   "outputs": [
    {
     "name": "stdout",
     "output_type": "stream",
     "text": [
      "Submitted.\n",
      "Executing...\n"
     ]
    }
   ],
   "source": [
    "from arcgis.features.manage_data import overlay_layers\n",
    "\n",
    "# run analysis to determine critical infrastructure within the risk boundaries\n",
    "riskinfra = overlay_layers(input_layer=firebuffers, overlay_layer=infra, \n",
    "                        overlay_type=\"Intersect\",\n",
    "                        output_name=\"At_Risk_Infrastructure_\" + timestamp)"
   ]
  },
  {
   "cell_type": "code",
   "execution_count": 37,
   "metadata": {
    "collapsed": false
   },
   "outputs": [
    {
     "data": {
      "text/plain": [
       "{'itemId': '82c2e60a3b1b4b4fb527d57a6fa3a10d', 'notSharedWith': []}"
      ]
     },
     "execution_count": 37,
     "metadata": {},
     "output_type": "execute_result"
    }
   ],
   "source": [
    "# set sharing on new analysis layer\n",
    "riskinfra.share(True)"
   ]
  },
  {
   "cell_type": "markdown",
   "metadata": {},
   "source": [
    "The output of the overlay analysis is a Feature Layer Item. We can access the layers and tables in an Item representing GIS services using the `layers` and `tables` attributes. "
   ]
  },
  {
   "cell_type": "code",
   "execution_count": 38,
   "metadata": {
    "collapsed": false
   },
   "outputs": [
    {
     "data": {
      "text/plain": [
       "[<FeatureLayer url:\"http://ESRIwebgis.webgistesting.net/server/rest/services/Hosted/At_Risk_Infrastructure_2017_03_10_13_22_52/FeatureServer/0\">]"
      ]
     },
     "execution_count": 38,
     "metadata": {},
     "output_type": "execute_result"
    }
   ],
   "source": [
    "riskinfra.layers"
   ]
  },
  {
   "cell_type": "markdown",
   "metadata": {},
   "source": [
    "## Read analysis results as a pandas dataframe for analysis\n",
    "\n",
    "\n",
    "Let us read this results of the overlay analysis by querying it's layer for attribute data, and display the attribute table to get a sense of the results. Layers can be queried for attributes and geometry using the `query()` method.\n",
    "\n",
    "The query we ran in the previous step returned a list of dictionaries representing the features. For further analysis or for visualizing the output data as a table, let us convert it into a [pandas](http://pandas.pydata.org/) [dataframe](http://pandas.pydata.org/pandas-docs/stable/generated/pandas.DataFrame.html)."
   ]
  },
  {
   "cell_type": "code",
   "execution_count": 39,
   "metadata": {
    "collapsed": false
   },
   "outputs": [
    {
     "data": {
      "text/html": [
       "<div>\n",
       "<table border=\"1\" class=\"dataframe\">\n",
       "  <thead>\n",
       "    <tr style=\"text-align: right;\">\n",
       "      <th></th>\n",
       "      <th>acres</th>\n",
       "      <th>addrln1</th>\n",
       "      <th>addrln2</th>\n",
       "      <th>analysisarea</th>\n",
       "      <th>buff_dist</th>\n",
       "      <th>cat1</th>\n",
       "      <th>cat2</th>\n",
       "      <th>cat3</th>\n",
       "      <th>city</th>\n",
       "      <th>containmen</th>\n",
       "      <th>...</th>\n",
       "      <th>post_id</th>\n",
       "      <th>source</th>\n",
       "      <th>state</th>\n",
       "      <th>status</th>\n",
       "      <th>target_fid</th>\n",
       "      <th>url</th>\n",
       "      <th>use_type</th>\n",
       "      <th>zip</th>\n",
       "      <th>geometry.x</th>\n",
       "      <th>geometry.y</th>\n",
       "    </tr>\n",
       "    <tr>\n",
       "      <th>objectid_1</th>\n",
       "      <th></th>\n",
       "      <th></th>\n",
       "      <th></th>\n",
       "      <th></th>\n",
       "      <th></th>\n",
       "      <th></th>\n",
       "      <th></th>\n",
       "      <th></th>\n",
       "      <th></th>\n",
       "      <th></th>\n",
       "      <th></th>\n",
       "      <th></th>\n",
       "      <th></th>\n",
       "      <th></th>\n",
       "      <th></th>\n",
       "      <th></th>\n",
       "      <th></th>\n",
       "      <th></th>\n",
       "      <th></th>\n",
       "      <th></th>\n",
       "      <th></th>\n",
       "    </tr>\n",
       "  </thead>\n",
       "  <tbody>\n",
       "    <tr>\n",
       "      <th>1</th>\n",
       "      <td>10850</td>\n",
       "      <td></td>\n",
       "      <td></td>\n",
       "      <td>112.459570</td>\n",
       "      <td>4.0</td>\n",
       "      <td>Physical Features</td>\n",
       "      <td>Power Plants</td>\n",
       "      <td></td>\n",
       "      <td></td>\n",
       "      <td>0.50</td>\n",
       "      <td>...</td>\n",
       "      <td>24626.0</td>\n",
       "      <td>HSIP Freedom Gnis_cultural_fe</td>\n",
       "      <td></td>\n",
       "      <td>Active</td>\n",
       "      <td>15</td>\n",
       "      <td></td>\n",
       "      <td>publish</td>\n",
       "      <td></td>\n",
       "      <td>-1.312145e+07</td>\n",
       "      <td>4.052550e+06</td>\n",
       "    </tr>\n",
       "    <tr>\n",
       "      <th>2</th>\n",
       "      <td>1080</td>\n",
       "      <td></td>\n",
       "      <td></td>\n",
       "      <td>57.433120</td>\n",
       "      <td>4.0</td>\n",
       "      <td>Health and Mental Health</td>\n",
       "      <td>Hospitals and Medical Centers</td>\n",
       "      <td></td>\n",
       "      <td></td>\n",
       "      <td>0.65</td>\n",
       "      <td>...</td>\n",
       "      <td>26620.0</td>\n",
       "      <td>HSIP Freedom Gnis_structures</td>\n",
       "      <td></td>\n",
       "      <td>Active</td>\n",
       "      <td>17</td>\n",
       "      <td></td>\n",
       "      <td>publish</td>\n",
       "      <td></td>\n",
       "      <td>-1.320652e+07</td>\n",
       "      <td>4.049971e+06</td>\n",
       "    </tr>\n",
       "    <tr>\n",
       "      <th>3</th>\n",
       "      <td>8940</td>\n",
       "      <td></td>\n",
       "      <td></td>\n",
       "      <td>60.135538</td>\n",
       "      <td>4.0</td>\n",
       "      <td>Health and Mental Health</td>\n",
       "      <td>Hospitals and Medical Centers</td>\n",
       "      <td></td>\n",
       "      <td></td>\n",
       "      <td>0.80</td>\n",
       "      <td>...</td>\n",
       "      <td>27055.0</td>\n",
       "      <td>HSIP Freedom Gnis_structures</td>\n",
       "      <td></td>\n",
       "      <td>Active</td>\n",
       "      <td>48</td>\n",
       "      <td></td>\n",
       "      <td>publish</td>\n",
       "      <td></td>\n",
       "      <td>-1.317837e+07</td>\n",
       "      <td>4.066587e+06</td>\n",
       "    </tr>\n",
       "    <tr>\n",
       "      <th>4</th>\n",
       "      <td>8940</td>\n",
       "      <td>12653 Osborne St.</td>\n",
       "      <td></td>\n",
       "      <td>60.135538</td>\n",
       "      <td>4.0</td>\n",
       "      <td>Transportation</td>\n",
       "      <td>Airports</td>\n",
       "      <td></td>\n",
       "      <td>Pacoima</td>\n",
       "      <td>0.80</td>\n",
       "      <td>...</td>\n",
       "      <td>13559.0</td>\n",
       "      <td>Current Services Locator</td>\n",
       "      <td>CA</td>\n",
       "      <td>Active</td>\n",
       "      <td>57</td>\n",
       "      <td></td>\n",
       "      <td>publish</td>\n",
       "      <td>91331</td>\n",
       "      <td>-1.318171e+07</td>\n",
       "      <td>4.063658e+06</td>\n",
       "    </tr>\n",
       "    <tr>\n",
       "      <th>5</th>\n",
       "      <td>1080</td>\n",
       "      <td>5601 De Soto Ave.</td>\n",
       "      <td></td>\n",
       "      <td>57.433120</td>\n",
       "      <td>4.0</td>\n",
       "      <td>Health and Mental Health</td>\n",
       "      <td>Hospitals and Medical Centers</td>\n",
       "      <td>911 Receiving</td>\n",
       "      <td>Woodland Hills</td>\n",
       "      <td>0.65</td>\n",
       "      <td>...</td>\n",
       "      <td>730.0</td>\n",
       "      <td>Current Services Locator</td>\n",
       "      <td>CA</td>\n",
       "      <td>Active</td>\n",
       "      <td>59</td>\n",
       "      <td>www.kaiserpermanente.org</td>\n",
       "      <td>publish</td>\n",
       "      <td>91365</td>\n",
       "      <td>-1.320135e+07</td>\n",
       "      <td>4.051785e+06</td>\n",
       "    </tr>\n",
       "    <tr>\n",
       "      <th>6</th>\n",
       "      <td>8940</td>\n",
       "      <td>9449 San Fernando Rd.</td>\n",
       "      <td></td>\n",
       "      <td>60.135538</td>\n",
       "      <td>4.0</td>\n",
       "      <td>Health and Mental Health</td>\n",
       "      <td>Hospitals and Medical Centers</td>\n",
       "      <td>911 Receiving</td>\n",
       "      <td>Sun Valley</td>\n",
       "      <td>0.80</td>\n",
       "      <td>...</td>\n",
       "      <td>637.0</td>\n",
       "      <td>211</td>\n",
       "      <td>CA</td>\n",
       "      <td>Active</td>\n",
       "      <td>166</td>\n",
       "      <td>www.pacificahospital.com</td>\n",
       "      <td>publish</td>\n",
       "      <td>91352</td>\n",
       "      <td>-1.317981e+07</td>\n",
       "      <td>4.061095e+06</td>\n",
       "    </tr>\n",
       "    <tr>\n",
       "      <th>7</th>\n",
       "      <td>8940</td>\n",
       "      <td>12756 Van Nuys Blvd</td>\n",
       "      <td></td>\n",
       "      <td>60.135538</td>\n",
       "      <td>4.0</td>\n",
       "      <td>Health and Mental Health</td>\n",
       "      <td>Hospitals and Medical Centers</td>\n",
       "      <td></td>\n",
       "      <td>Pacoima</td>\n",
       "      <td>0.80</td>\n",
       "      <td>...</td>\n",
       "      <td>70599.0</td>\n",
       "      <td>211</td>\n",
       "      <td>CA</td>\n",
       "      <td>Active</td>\n",
       "      <td>218</td>\n",
       "      <td>www.nevhc.org/</td>\n",
       "      <td>publish</td>\n",
       "      <td>91331</td>\n",
       "      <td>-1.318142e+07</td>\n",
       "      <td>4.065676e+06</td>\n",
       "    </tr>\n",
       "  </tbody>\n",
       "</table>\n",
       "<p>7 rows × 42 columns</p>\n",
       "</div>"
      ],
      "text/plain": [
       "            acres                addrln1 addrln2  analysisarea  buff_dist  \\\n",
       "objectid_1                                                                  \n",
       "1           10850                                   112.459570        4.0   \n",
       "2            1080                                    57.433120        4.0   \n",
       "3            8940                                    60.135538        4.0   \n",
       "4            8940      12653 Osborne St.             60.135538        4.0   \n",
       "5            1080      5601 De Soto Ave.             57.433120        4.0   \n",
       "6            8940  9449 San Fernando Rd.             60.135538        4.0   \n",
       "7            8940    12756 Van Nuys Blvd             60.135538        4.0   \n",
       "\n",
       "                                cat1                           cat2  \\\n",
       "objectid_1                                                            \n",
       "1                  Physical Features                   Power Plants   \n",
       "2           Health and Mental Health  Hospitals and Medical Centers   \n",
       "3           Health and Mental Health  Hospitals and Medical Centers   \n",
       "4                     Transportation                       Airports   \n",
       "5           Health and Mental Health  Hospitals and Medical Centers   \n",
       "6           Health and Mental Health  Hospitals and Medical Centers   \n",
       "7           Health and Mental Health  Hospitals and Medical Centers   \n",
       "\n",
       "                     cat3            city  containmen      ...       post_id  \\\n",
       "objectid_1                                                 ...                 \n",
       "1                                                0.50      ...       24626.0   \n",
       "2                                                0.65      ...       26620.0   \n",
       "3                                                0.80      ...       27055.0   \n",
       "4                                 Pacoima        0.80      ...       13559.0   \n",
       "5           911 Receiving  Woodland Hills        0.65      ...         730.0   \n",
       "6           911 Receiving      Sun Valley        0.80      ...         637.0   \n",
       "7                                 Pacoima        0.80      ...       70599.0   \n",
       "\n",
       "                                   source state  status target_fid  \\\n",
       "objectid_1                                                           \n",
       "1           HSIP Freedom Gnis_cultural_fe        Active         15   \n",
       "2            HSIP Freedom Gnis_structures        Active         17   \n",
       "3            HSIP Freedom Gnis_structures        Active         48   \n",
       "4                Current Services Locator    CA  Active         57   \n",
       "5                Current Services Locator    CA  Active         59   \n",
       "6                                     211    CA  Active        166   \n",
       "7                                     211    CA  Active        218   \n",
       "\n",
       "                                 url use_type    zip    geometry.x  \\\n",
       "objectid_1                                                           \n",
       "1                                     publish        -1.312145e+07   \n",
       "2                                     publish        -1.320652e+07   \n",
       "3                                     publish        -1.317837e+07   \n",
       "4                                     publish  91331 -1.318171e+07   \n",
       "5           www.kaiserpermanente.org  publish  91365 -1.320135e+07   \n",
       "6           www.pacificahospital.com  publish  91352 -1.317981e+07   \n",
       "7                     www.nevhc.org/  publish  91331 -1.318142e+07   \n",
       "\n",
       "              geometry.y  \n",
       "objectid_1                \n",
       "1           4.052550e+06  \n",
       "2           4.049971e+06  \n",
       "3           4.066587e+06  \n",
       "4           4.063658e+06  \n",
       "5           4.051785e+06  \n",
       "6           4.061095e+06  \n",
       "7           4.065676e+06  \n",
       "\n",
       "[7 rows x 42 columns]"
      ]
     },
     "execution_count": 39,
     "metadata": {},
     "output_type": "execute_result"
    }
   ],
   "source": [
    "at_risk_facilities  = riskinfra.layers[0]\n",
    "risk_fset = at_risk_facilities.query()\n",
    "\n",
    "df = risk_fset.df # read the returned features as a Pandas dataframe\n",
    "df"
   ]
  },
  {
   "cell_type": "markdown",
   "metadata": {},
   "source": [
    "From the data frame, we can see there are 7 features which fell within the fire buffers. To make this result usable, let us export a CSV with only the facility name and other critical details. This CSV can be considered as a valuable information product as a result of this analysis and can be shared with the teams assisting in organizing the firefighting efforts, evacuations, etc."
   ]
  },
  {
   "cell_type": "code",
   "execution_count": 40,
   "metadata": {
    "collapsed": false
   },
   "outputs": [
    {
     "data": {
      "text/html": [
       "<div>\n",
       "<table border=\"1\" class=\"dataframe\">\n",
       "  <thead>\n",
       "    <tr style=\"text-align: right;\">\n",
       "      <th></th>\n",
       "      <th>name</th>\n",
       "      <th>cat1</th>\n",
       "      <th>post_id</th>\n",
       "    </tr>\n",
       "    <tr>\n",
       "      <th>objectid_1</th>\n",
       "      <th></th>\n",
       "      <th></th>\n",
       "      <th></th>\n",
       "    </tr>\n",
       "  </thead>\n",
       "  <tbody>\n",
       "    <tr>\n",
       "      <th>1</th>\n",
       "      <td>Azusa Powerplant Conduit</td>\n",
       "      <td>Physical Features</td>\n",
       "      <td>24626.0</td>\n",
       "    </tr>\n",
       "    <tr>\n",
       "      <th>2</th>\n",
       "      <td>Motion Picture And Television Fund Hospital</td>\n",
       "      <td>Health and Mental Health</td>\n",
       "      <td>26620.0</td>\n",
       "    </tr>\n",
       "    <tr>\n",
       "      <th>3</th>\n",
       "      <td>Pacoima Memorial Hospital</td>\n",
       "      <td>Health and Mental Health</td>\n",
       "      <td>27055.0</td>\n",
       "    </tr>\n",
       "    <tr>\n",
       "      <th>4</th>\n",
       "      <td>Whiteman Airport</td>\n",
       "      <td>Transportation</td>\n",
       "      <td>13559.0</td>\n",
       "    </tr>\n",
       "    <tr>\n",
       "      <th>5</th>\n",
       "      <td>Kaiser Permanente - Woodland Hills Medical Center</td>\n",
       "      <td>Health and Mental Health</td>\n",
       "      <td>730.0</td>\n",
       "    </tr>\n",
       "    <tr>\n",
       "      <th>6</th>\n",
       "      <td>Pacifica Hospital Of The Valley</td>\n",
       "      <td>Health and Mental Health</td>\n",
       "      <td>637.0</td>\n",
       "    </tr>\n",
       "    <tr>\n",
       "      <th>7</th>\n",
       "      <td>Northeast Valley Health Corporation - Pacoima ...</td>\n",
       "      <td>Health and Mental Health</td>\n",
       "      <td>70599.0</td>\n",
       "    </tr>\n",
       "  </tbody>\n",
       "</table>\n",
       "</div>"
      ],
      "text/plain": [
       "                                                         name  \\\n",
       "objectid_1                                                      \n",
       "1                                    Azusa Powerplant Conduit   \n",
       "2                 Motion Picture And Television Fund Hospital   \n",
       "3                                   Pacoima Memorial Hospital   \n",
       "4                                            Whiteman Airport   \n",
       "5           Kaiser Permanente - Woodland Hills Medical Center   \n",
       "6                             Pacifica Hospital Of The Valley   \n",
       "7           Northeast Valley Health Corporation - Pacoima ...   \n",
       "\n",
       "                                cat1  post_id  \n",
       "objectid_1                                     \n",
       "1                  Physical Features  24626.0  \n",
       "2           Health and Mental Health  26620.0  \n",
       "3           Health and Mental Health  27055.0  \n",
       "4                     Transportation  13559.0  \n",
       "5           Health and Mental Health    730.0  \n",
       "6           Health and Mental Health    637.0  \n",
       "7           Health and Mental Health  70599.0  "
      ]
     },
     "execution_count": 40,
     "metadata": {},
     "output_type": "execute_result"
    }
   ],
   "source": [
    "# view simplified risk facilities table\n",
    "df1_simplified = df[['name', 'cat1', 'post_id']]\n",
    "df1_simplified"
   ]
  },
  {
   "cell_type": "code",
   "execution_count": 41,
   "metadata": {
    "collapsed": false
   },
   "outputs": [],
   "source": [
    "# Export this to a csv file. This CSV can then be shared with fire fighters.\n",
    "csv_file = r'at_risk_facilities.csv'\n",
    "df1_simplified.to_csv(csv_file)"
   ]
  },
  {
   "cell_type": "markdown",
   "metadata": {},
   "source": [
    "## Mapping the infrastructure at risk\n",
    "\n",
    "Tables and charts aren't enough to convey the information gathered from this analysis. By plotting the  locations of the critical infrastructure at risk from the forest fires, we are able to identify patterns that can be of great value in fighting a catastrophe of this scale and prevent or minimize human, infrastructural and environmental loss:"
   ]
  },
  {
   "cell_type": "code",
   "execution_count": 42,
   "metadata": {
    "collapsed": false
   },
   "outputs": [],
   "source": [
    "# create new map over aoi\n",
    "m2 = gis.map('Los Angeles', 9)\n",
    "m2"
   ]
  },
  {
   "cell_type": "code",
   "execution_count": 43,
   "metadata": {
    "collapsed": true
   },
   "outputs": [],
   "source": [
    "# add at risk facilities layer to fresh map\n",
    "m2.add_layer(riskinfra)\n",
    "             "
   ]
  },
  {
   "cell_type": "markdown",
   "metadata": {},
   "source": [
    "## Sharing the result of the analysis as a web map\n",
    "\n",
    "The different teams working on the firefighting, relief and rescue efforts need a current and updated web map of the critical infrastruture at risk from the fires. The code below fetches the web-map from the GIS and updates it's operational layer to the one from the analysis above. This enables all interested parties to refer to one common, constantly updated web-map for planning firefighting, rescue and relief efforts."
   ]
  },
  {
   "cell_type": "code",
   "execution_count": 44,
   "metadata": {
    "collapsed": false
   },
   "outputs": [
    {
     "data": {
      "text/html": [
       "<div class=\"item_container\" style=\"height: auto; overflow: hidden; border: 1px solid #cfcfcf; border-radius: 2px; background: #f6fafa; line-height: 1.21429em; padding: 10px;\">\n",
       "                    <div class=\"item_left\" style=\"width: 210px; float: left;\">\n",
       "                       <a href='https://esriwebgis.webgistesting.net/portal/home/item.html?id=332c9b262522427cbd90e52edaec6209' target='_blank'>\n",
       "                        <img src='data:image/png;base64,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' width='200' height='133' class=\"itemThumbnail\">\n",
       "                       </a>\n",
       "                    </div>\n",
       "\n",
       "                    <div class=\"item_right\"     style=\"float: none; width: auto; overflow: hidden;\">\n",
       "                        <a href='https://esriwebgis.webgistesting.net/portal/home/item.html?id=332c9b262522427cbd90e52edaec6209' target='_blank'><b>Forest fires</b>\n",
       "                        </a>\n",
       "                        <br/>at risk facilities<img src='https://esriwebgis.webgistesting.net/portal/home/js/jsapi/esri/css/images/item_type_icons/maps16.png' style=\"vertical-align:middle;\">Web Map by atma.mani\n",
       "                        <br/>Last Modified: March 10, 2017\n",
       "                        <br/>0 comments, 6 views\n",
       "                    </div>\n",
       "                </div>\n",
       "                "
      ],
      "text/plain": [
       "<Item title:\"Forest fires\" type:Web Map owner:atma.mani>"
      ]
     },
     "execution_count": 44,
     "metadata": {},
     "output_type": "execute_result"
    }
   ],
   "source": [
    "# get the webmap for at risk facilities, using it's id\n",
    "webmapitem = gis.content.get('332c9b262522427cbd90e52edaec6209')\n",
    "webmapitem"
   ]
  },
  {
   "cell_type": "code",
   "execution_count": 45,
   "metadata": {
    "collapsed": false,
    "scrolled": true
   },
   "outputs": [],
   "source": [
    "# create a webmap from the item\n",
    "webmap = arcgis.mapping.WebMap(webmapitem)"
   ]
  },
  {
   "cell_type": "code",
   "execution_count": 46,
   "metadata": {
    "collapsed": false
   },
   "outputs": [
    {
     "name": "stdout",
     "output_type": "stream",
     "text": [
      "http://ESRIwebgis.webgistesting.net/server/rest/services/Hosted/At_Risk_Infrastructure_2017_03_10_10_40_56/FeatureServer/0\n"
     ]
    }
   ],
   "source": [
    "# read the operational layers in our webmap\n",
    "for lyr in webmap['operationalLayers']:\n",
    "    if lyr['id'].startswith('At_Risk_Infrastructure'):\n",
    "        print(lyr['url'])"
   ]
  },
  {
   "cell_type": "code",
   "execution_count": 47,
   "metadata": {
    "collapsed": false
   },
   "outputs": [
    {
     "data": {
      "text/plain": [
       "'http://ESRIwebgis.webgistesting.net/server/rest/services/Hosted/At_Risk_Infrastructure_2017_03_10_13_22_52/FeatureServer/0'"
      ]
     },
     "execution_count": 47,
     "metadata": {},
     "output_type": "execute_result"
    }
   ],
   "source": [
    "new_url = at_risk_facilities.url\n",
    "new_url"
   ]
  },
  {
   "cell_type": "code",
   "execution_count": 48,
   "metadata": {
    "collapsed": true
   },
   "outputs": [],
   "source": [
    "# update the url of the 'At Risk Infrastructure' layer in the web map\n",
    "\n",
    "for lyr in webmap['operationalLayers']:\n",
    "    if lyr['id'].startswith('At_Risk_Infrastructure'):\n",
    "        lyr['url'] = new_url"
   ]
  },
  {
   "cell_type": "code",
   "execution_count": 49,
   "metadata": {
    "collapsed": true
   },
   "outputs": [],
   "source": [
    "# save the updates back to the GIS\n",
    "webmap.update()"
   ]
  },
  {
   "cell_type": "markdown",
   "metadata": {},
   "source": [
    "Web map items can also be visualized in the Jupyter Notebook as shown below. This enables use of web-maps for analysis and visualization within the notebook environment."
   ]
  },
  {
   "cell_type": "code",
   "execution_count": 51,
   "metadata": {
    "collapsed": false
   },
   "outputs": [],
   "source": [
    "gis.map(webmapitem)"
   ]
  },
  {
   "cell_type": "code",
   "execution_count": null,
   "metadata": {
    "collapsed": true
   },
   "outputs": [],
   "source": []
  }
 ],
 "metadata": {
  "anaconda-cloud": {},
  "kernelspec": {
   "display_name": "Python 3",
   "language": "python",
   "name": "python3"
  },
  "language_info": {
   "codemirror_mode": {
    "name": "ipython",
    "version": 3
   },
   "file_extension": ".py",
   "mimetype": "text/x-python",
   "name": "python",
   "nbconvert_exporter": "python",
   "pygments_lexer": "ipython3",
   "version": "3.5.3"
  },
  "widgets": {
   "state": {
    "0aece1bfb5f54a39a35d621a0db81573": {
     "views": [
      {
       "cell_index": 25
      }
     ]
    },
    "3b58952fa07a40cda66ad5ff452b50a8": {
     "views": [
      {
       "cell_index": 5
      }
     ]
    },
    "97a5ec5d5a3d4461b60b090966d2c6b9": {
     "views": [
      {
       "cell_index": 35
      }
     ]
    }
   },
   "version": "1.2.0"
  }
 },
 "nbformat": 4,
 "nbformat_minor": 0
}
