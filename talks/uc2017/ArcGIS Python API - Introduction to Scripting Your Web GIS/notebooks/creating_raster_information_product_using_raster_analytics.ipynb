{
 "cells": [
  {
   "cell_type": "markdown",
   "metadata": {},
   "source": [
    "<div align=\"right\">\n",
    "<a href=\"/python/sample-notebooks/#Download-and-run-the-sample-notebooks\" class=\"btn\">Download the samples</a> <a href=\"http://notebooks.esri.com/notebooks/samples/04_gis_analysts_data_scientists/creating_raster_information_product_using_raster_analytics.ipynb\" class=\"btn\">Try it live</a>\n",
    "</div>"
   ]
  },
  {
   "cell_type": "markdown",
   "metadata": {},
   "source": [
    "# Creating Raster Information Product using Raster Analytics\n",
    "\n",
    "## Raster Analytics\n",
    "\n",
    "ArcGIS Enterprise at 10.5 provides you with the ability to perform large raster data analytics using distributed computing using raster analytics tools. This analytics capability is provided in the `arcgis.raster.analytics` module and includes functionality to summarize data, analyze patterns, images, terrain and manage data. This sample show the capabilities of imagery layers and raster analytics."
   ]
  },
  {
   "cell_type": "markdown",
   "metadata": {},
   "source": [
    "## Imagery layers"
   ]
  },
  {
   "cell_type": "code",
   "execution_count": 1,
   "metadata": {},
   "outputs": [],
   "source": [
    "import arcgis\n",
    "from arcgis.gis import GIS\n",
    "from IPython.display import display\n",
    "\n",
    "gis = GIS()"
   ]
  },
  {
   "cell_type": "markdown",
   "metadata": {},
   "source": [
    "Here we're searchcing for multispectral landsat imagery layer:"
   ]
  },
  {
   "cell_type": "code",
   "execution_count": 2,
   "metadata": {},
   "outputs": [],
   "source": [
    "items = gis.content.search(\"Landsat 8 Views\", max_items=2)"
   ]
  },
  {
   "cell_type": "code",
   "execution_count": 3,
   "metadata": {
    "scrolled": true
   },
   "outputs": [
    {
     "data": {
      "text/html": [
       "<div class=\"item_container\" style=\"height: auto; overflow: hidden; border: 1px solid #cfcfcf; border-radius: 2px; background: #f6fafa; line-height: 1.21429em; padding: 10px;\">\n",
       "                    <div class=\"item_left\" style=\"width: 210px; float: left;\">\n",
       "                       <a href='http://www.arcgis.com/home/item.html?id=a5fef63517cd4a099b437e55713d3d54' target='_blank'>\n",
       "                        <img src='http://www.arcgis.com/sharing/rest//content/items/a5fef63517cd4a099b437e55713d3d54/info/thumbnail/Imagery.png' class=\"itemThumbnail\">\n",
       "                       </a>\n",
       "                    </div>\n",
       "\n",
       "                    <div class=\"item_right\"     style=\"float: none; width: auto; overflow: hidden;\">\n",
       "                        <a href='http://www.arcgis.com/home/item.html?id=a5fef63517cd4a099b437e55713d3d54' target='_blank'><b>Imagery</b>\n",
       "                        </a>\n",
       "                        <br/>This LYR file combines the World Imagery map service and World Transportation and World Boundaries and Places reference overlay services in one convenient group layer<img src='http://www.arcgis.com/home/js/jsapi/esri/css/images/item_type_icons/layers16.png' style=\"vertical-align:middle;\">Layer by esri\n",
       "                        <br/>Last Modified: January 16, 2012\n",
       "                        <br/>2 comments, 352,000 views\n",
       "                    </div>\n",
       "                </div>\n",
       "                "
      ],
      "text/plain": [
       "<Item title:\"Imagery\" type:Layer owner:esri>"
      ]
     },
     "metadata": {},
     "output_type": "display_data"
    },
    {
     "data": {
      "text/html": [
       "<div class=\"item_container\" style=\"height: auto; overflow: hidden; border: 1px solid #cfcfcf; border-radius: 2px; background: #f6fafa; line-height: 1.21429em; padding: 10px;\">\n",
       "                    <div class=\"item_left\" style=\"width: 210px; float: left;\">\n",
       "                       <a href='http://www.arcgis.com/home/item.html?id=4ca13f0e4e29403fa68c46d188c4be73' target='_blank'>\n",
       "                        <img src='http://www.arcgis.com/sharing/rest//content/items/4ca13f0e4e29403fa68c46d188c4be73/info/thumbnail/ago_downloaded.jpg' class=\"itemThumbnail\">\n",
       "                       </a>\n",
       "                    </div>\n",
       "\n",
       "                    <div class=\"item_right\"     style=\"float: none; width: auto; overflow: hidden;\">\n",
       "                        <a href='http://www.arcgis.com/home/item.html?id=4ca13f0e4e29403fa68c46d188c4be73' target='_blank'><b>Landsat 8 Views</b>\n",
       "                        </a>\n",
       "                        <br/>Landsat 8 OLI, 30m Multispectral 8 band scenes with visual renderings and indices. Updated daily.<img src='http://www.arcgis.com/home/js/jsapi/esri/css/images/item_type_icons/imagery16.png' style=\"vertical-align:middle;\">Image Layer by esri\n",
       "                        <br/>Last Modified: December 07, 2016\n",
       "                        <br/>0 comments, 114,089 views\n",
       "                    </div>\n",
       "                </div>\n",
       "                "
      ],
      "text/plain": [
       "<Item title:\"Landsat 8 Views\" type:Image Service owner:esri>"
      ]
     },
     "metadata": {},
     "output_type": "display_data"
    }
   ],
   "source": [
    "for item in items:\n",
    "    display(item)"
   ]
  },
  {
   "cell_type": "code",
   "execution_count": 4,
   "metadata": {},
   "outputs": [],
   "source": [
    "landast_item = items[1]"
   ]
  },
  {
   "cell_type": "code",
   "execution_count": 5,
   "metadata": {},
   "outputs": [],
   "source": [
    "imglyr = landast_item.layers[0]"
   ]
  },
  {
   "cell_type": "markdown",
   "metadata": {},
   "source": [
    "This layer has been published with several Raster Functions, that the code below is cycling through, and listing out:"
   ]
  },
  {
   "cell_type": "code",
   "execution_count": 6,
   "metadata": {},
   "outputs": [
    {
     "name": "stdout",
     "output_type": "stream",
     "text": [
      "Agriculture with DRA\n",
      "Bathymetric with DRA\n",
      "Color Infrared with DRA\n",
      "Natural Color with DRA\n",
      "Short-wave Infrared with DRA\n",
      "Geology with DRA\n",
      "Agriculture\n",
      "Bathymetric\n",
      "Color Infrared\n",
      "Geology\n",
      "Natural Color\n",
      "Short-wave Infrared\n",
      "NDVI Colorized\n",
      "Normalized Difference Moisture Index Colorized\n",
      "NDVI Raw\n",
      "NBR Raw\n",
      "None\n"
     ]
    }
   ],
   "source": [
    "for fn in imglyr.properties['rasterFunctionInfos']:\n",
    "    print (fn['name'])"
   ]
  },
  {
   "cell_type": "markdown",
   "metadata": {},
   "source": [
    "Let us create a map widget and load this layer"
   ]
  },
  {
   "cell_type": "code",
   "execution_count": 7,
   "metadata": {},
   "outputs": [],
   "source": [
    "map1 = gis.map(\"Pallikaranai\", zoomlevel = 13)"
   ]
  },
  {
   "cell_type": "code",
   "execution_count": 8,
   "metadata": {},
   "outputs": [],
   "source": [
    "map1"
   ]
  },
  {
   "cell_type": "code",
   "execution_count": 9,
   "metadata": {
    "collapsed": true
   },
   "outputs": [],
   "source": [
    "map1.add_layer(imglyr)"
   ]
  },
  {
   "cell_type": "markdown",
   "metadata": {},
   "source": [
    "The utility of raster functions is better seen when we interactively cycle through these raster functions and apply them to the map, like the code below does. This is using on-the-fly image processing at display resolution to cycle through the various raster functions, and showing how the layer can be visualized using these different raster functions published with the layer."
   ]
  },
  {
   "cell_type": "code",
   "execution_count": 10,
   "metadata": {},
   "outputs": [
    {
     "name": "stdout",
     "output_type": "stream",
     "text": [
      "Agriculture with DRA\n",
      "Bathymetric with DRA\n",
      "Color Infrared with DRA\n",
      "Natural Color with DRA\n",
      "Short-wave Infrared with DRA\n",
      "Geology with DRA\n"
     ]
    }
   ],
   "source": [
    "import time\n",
    "\n",
    "for fn in imglyr.properties['rasterFunctionInfos'][:6]:\n",
    "    print(fn['name'])\n",
    "    map1.remove_layers()\n",
    "    map1.add_layer(imglyr, {\"imageServiceParameters\" :{ \"renderingRule\": { \"rasterFunction\": fn['name']}}})\n",
    "    time.sleep(2)\n",
    "    "
   ]
  },
  {
   "cell_type": "markdown",
   "metadata": {},
   "source": [
    "## Raster functions"
   ]
  },
  {
   "cell_type": "markdown",
   "metadata": {},
   "source": [
    "Developers can create their own **raster functions**, by chaining different raster functions. For instance, the code below is doing an Extract Band and extracting out the [4,5,3] band combination, and applying a Stretch to get the land-water boundary visualization that makes it easy to see where land is and where water is. Its worth noting that the raster function is applied at display resolution and only for the visible extent using on the fly image processing."
   ]
  },
  {
   "cell_type": "code",
   "execution_count": 11,
   "metadata": {},
   "outputs": [],
   "source": [
    "# A raster function is created as a python dictionary as shown below:\n",
    "def extract_bands(bands):\n",
    "    return {\n",
    "               \"rasterFunction\": \"Stretch\",\n",
    "               \"rasterFunctionArguments\":{\n",
    "                    \"Raster\":{\n",
    "                        \"rasterFunction\": \"ExtractBand\",\n",
    "                        \"rasterFunctionArguments\":{\"BandIds\": bands}\n",
    "                    },\n",
    "                    \"StretchType\": 6,\n",
    "                    \"DRA\": True,\n",
    "                    \"Gamma\": [1,1,1],\n",
    "                    \"UseGamma\": True\n",
    "                },\n",
    "               \"outputPixelType\":\"U8\"\n",
    "            }"
   ]
  },
  {
   "cell_type": "markdown",
   "metadata": {},
   "source": [
    "Let us apply this raster function to the image layer to visualize the results."
   ]
  },
  {
   "cell_type": "code",
   "execution_count": 12,
   "metadata": {
    "collapsed": true
   },
   "outputs": [],
   "source": [
    "map2 = gis.map(\"Pallikaranai\", zoomlevel=13)\n",
    "map2"
   ]
  },
  {
   "cell_type": "code",
   "execution_count": 13,
   "metadata": {},
   "outputs": [],
   "source": [
    "map2.add_layer(imglyr, {\"imageServiceParameters\" : { \"renderingRule\": extract_bands([4, 5, 3]) }})"
   ]
  },
  {
   "cell_type": "markdown",
   "metadata": {
    "collapsed": true
   },
   "source": [
    "# Creating a Raster Information Product using Landsat 8 imagery"
   ]
  },
  {
   "cell_type": "markdown",
   "metadata": {},
   "source": [
    "This part of the notebook shows how **Raster Analytics** (in ArcGIS Enterprise 10.5) can be used to generate a raster information product, by applying the same raster function across the extent of an image service on the portal. The raster function is applied at source resolution and creates an Information Product, that can be used for further analysis and visualization."
   ]
  },
  {
   "cell_type": "code",
   "execution_count": 14,
   "metadata": {},
   "outputs": [],
   "source": [
    "portal = GIS(\"https://yourportal.domain.com/webcontext\", \"username\",\"password\")"
   ]
  },
  {
   "cell_type": "code",
   "execution_count": 15,
   "metadata": {},
   "outputs": [
    {
     "data": {
      "text/html": [
       "<div class=\"item_container\" style=\"height: auto; overflow: hidden; border: 1px solid #cfcfcf; border-radius: 2px; background: #f6fafa; line-height: 1.21429em; padding: 10px;\">\n",
       "                    <div class=\"item_left\" style=\"width: 210px; float: left;\">\n",
       "                       <a href='https://dev003246.esri.com/portal/home/item.html?id=8c921ea4373c4238b77d526abe3838f5' target='_blank'>\n",
       "                        <img src='data:image/png;base64,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' width='200' height='133' class=\"itemThumbnail\">\n",
       "                       </a>\n",
       "                    </div>\n",
       "\n",
       "                    <div class=\"item_right\"     style=\"float: none; width: auto; overflow: hidden;\">\n",
       "                        <a href='https://dev003246.esri.com/portal/home/item.html?id=8c921ea4373c4238b77d526abe3838f5' target='_blank'><b>ImgSrv_Landast_Montana2015</b>\n",
       "                        </a>\n",
       "                        <br/>Show the burned area  from the montana fires<img src='https://dev003246.esri.com/portal/home/js/jsapi/esri/css/images/item_type_icons/imagery16.png' style=\"vertical-align:middle;\">Image Layer by admin\n",
       "                        <br/>Last Modified: November 11, 2016\n",
       "                        <br/>0 comments, 0 views\n",
       "                    </div>\n",
       "                </div>\n",
       "                "
      ],
      "text/plain": [
       "<Item title:\"ImgSrv_Landast_Montana2015\" type:Image Service owner:admin>"
      ]
     },
     "execution_count": 15,
     "metadata": {},
     "output_type": "execute_result"
    }
   ],
   "source": [
    "montana_landsat = portal.content.search(\"ImgSrv_Landast_Montana2015\")[0]\n",
    "montana_landsat"
   ]
  },
  {
   "cell_type": "markdown",
   "metadata": {},
   "source": [
    "We can use the `arcgis.raster.analytics.generate_raster()` tool to apply the raster function across the entire extext of the input image layer at source resolution, and presist the result in another output image layer. This creates a raster product similar that can be used for further analysis and visualization.\n",
    "\n",
    "In the code below, we use a raster function that extracts the [7, 5, 2] band combination. This improves visibility of fire and burn scars by pushing further into the SWIR range of the electromagnetic spectrum, as there is less susceptibility to smoke and haze generated by a burning fire."
   ]
  },
  {
   "cell_type": "code",
   "execution_count": 16,
   "metadata": {},
   "outputs": [
    {
     "name": "stdout",
     "output_type": "stream",
     "text": [
      "Submitted.\n",
      "Executing...\n",
      "Executing (GenerateRaster): GenerateRaster {\"rasterFunctionArguments\":{\"StretchType\":6,\"DRA\":true,\"UseGamma\":true,\"Raster\":{\"rasterFunctionArguments\":{\"BandIds\":[7,5,2]},\"rasterFunction\":\"ExtractBand\"},\"Gamma\":[1,1,1]},\"outputPixelType\":\"U8\",\"rasterFunction\":\"Stretch\"} {\"serviceProperties\":{\"serviceUrl\":\"http://dev003248.esri.com/rax/rest/services/Hosted/GeneratedRasterProduct_XFFOFL/ImageServer\",\"name\":\"GeneratedRasterProduct_XFFOFL\"},\"itemProperties\":{\"itemId\":\"eb92462703d74a28b5044541b931e574\"}} {\"Raster\":{\"itemId\":\"8c921ea4373c4238b77d526abe3838f5\"}} # #\n",
      "Start Time: Wed Dec 14 17:23:08 2016\n",
      "Running script GenerateRaster...\n",
      "Image service GeneratedRasterProduct_XFFOFL already existed.\n",
      "GetPrivateUrl returns: https://yourserver.domain.com:6443/arcgis/rest/services/Hosted/GeneratedRasterProduct_XFFOFL/ImageServer\n",
      "The service got from item ID is: https://yourserver.domain.com:6443/arcgis/rest/services/Hosted/GeneratedRasterProduct_XFFOFL/ImageServer\n",
      "Output item id is: eb92462703d74a28b5044541b931e574\n",
      "Output image service url is: https://yourserver.domain.com:6443/arcgis/rest/services/Hosted/GeneratedRasterProduct_XFFOFL/ImageServer\n",
      "Output cloud raster name is: Hosted_GeneratedRasterProduct_XFFOFL\n",
      "GetPrivateUrl returns: https://yourserver.domain.com:6443/arcgis/rest/services/ImgSrv_Landast_Montana2015/ImageServer\n",
      "The service got from item ID is: https://yourserver.domain.com:6443/arcgis/rest/services/ImgSrv_Landast_Montana2015/ImageServer\n",
      "Using input dataset's spatial reference.\n",
      "Using full extent of input dataset.\n",
      "Use default resampling method.\n",
      "Output raster will be the same resolution as input.\n",
      "Updating service with data store URI.\n",
      "Updating service: https://yourserver.domain.com:6443/arcgis/admin/services/Hosted/GeneratedRasterProduct_XFFOFL.ImageServer/edit\n",
      "Completed script GenerateRaster...\n",
      "Succeeded at Wed Dec 14 17:23:17 2016 (Elapsed Time: 9.31 seconds)\n"
     ]
    }
   ],
   "source": [
    "from arcgis.raster.analytics import generate_raster\n",
    "montana_fires = generate_raster(extract_bands([7, 5, 2]), montana_landsat)"
   ]
  },
  {
   "cell_type": "code",
   "execution_count": 17,
   "metadata": {},
   "outputs": [
    {
     "data": {
      "text/html": [
       "<div class=\"item_container\" style=\"height: auto; overflow: hidden; border: 1px solid #cfcfcf; border-radius: 2px; background: #f6fafa; line-height: 1.21429em; padding: 10px;\">\n",
       "                    <div class=\"item_left\" style=\"width: 210px; float: left;\">\n",
       "                       <a href='https://dev003246.esri.com/portal/home/item.html?id=eb92462703d74a28b5044541b931e574' target='_blank'>\n",
       "                        <img src='https://dev003246.esri.com/portal/portalimages/desktopapp.png' class=\"itemThumbnail\">\n",
       "                       </a>\n",
       "                    </div>\n",
       "\n",
       "                    <div class=\"item_right\"     style=\"float: none; width: auto; overflow: hidden;\">\n",
       "                        <a href='https://dev003246.esri.com/portal/home/item.html?id=eb92462703d74a28b5044541b931e574' target='_blank'><b>GeneratedRasterProduct_XFFOFL</b>\n",
       "                        </a>\n",
       "                        <br/>Analysis Image Service generated from GenerateRaster<img src='https://dev003246.esri.com/portal/home/js/jsapi/esri/css/images/item_type_icons/imagery16.png' style=\"vertical-align:middle;\">Image Layer by admin\n",
       "                        <br/>Last Modified: December 14, 2016\n",
       "                        <br/>0 comments, 0 views\n",
       "                    </div>\n",
       "                </div>\n",
       "                "
      ],
      "text/plain": [
       "<Item title:\"GeneratedRasterProduct_XFFOFL\" type:Image Service owner:admin>"
      ]
     },
     "execution_count": 17,
     "metadata": {},
     "output_type": "execute_result"
    }
   ],
   "source": [
    "montana_fires"
   ]
  },
  {
   "cell_type": "code",
   "execution_count": 18,
   "metadata": {},
   "outputs": [],
   "source": [
    "location = arcgis.geocoding.geocode(\"Marthas Basin, Montana\")[0]\n",
    "\n",
    "base_map = portal.map(location, 12)\n",
    "\n",
    "natural_color_map = portal.map(location, 12)\n",
    "natural_color_map.add_layer(montana_landsat)\n",
    "\n",
    "false_color_map = portal.map(location, 12)\n",
    "false_color_map.add_layer(montana_fires)"
   ]
  },
  {
   "cell_type": "markdown",
   "metadata": {},
   "source": [
    "We can compare the natural color and false color images uaing a tabbed widget. \n",
    "\n",
    "In the false color image the red and brownish pixels correspond to burn scars of the fire:"
   ]
  },
  {
   "cell_type": "code",
   "execution_count": 19,
   "metadata": {},
   "outputs": [],
   "source": [
    "import ipywidgets as widgets\n",
    "\n",
    "tab = widgets.Tab([base_map, natural_color_map, false_color_map])\n",
    "tab.set_title(0, 'Basemap')\n",
    "tab.set_title(1, 'Natural Color')\n",
    "tab.set_title(2, 'False Color')\n",
    "tab"
   ]
  },
  {
   "cell_type": "markdown",
   "metadata": {},
   "source": [
    "Thus using the same raster function, we were able to both visualize on the fly (in the case of Pallikaranai marsh example) and also derive a persisted image service (in the case of Montana example) with the power of raster analytics."
   ]
  }
 ],
 "metadata": {
  "anaconda-cloud": {},
  "kernelspec": {
   "display_name": "Python [default]",
   "language": "python",
   "name": "python3"
  },
  "language_info": {
   "codemirror_mode": {
    "name": "ipython",
    "version": 3
   },
   "file_extension": ".py",
   "mimetype": "text/x-python",
   "name": "python",
   "nbconvert_exporter": "python",
   "pygments_lexer": "ipython3",
   "version": "3.5.2"
  }
 },
 "nbformat": 4,
 "nbformat_minor": 1
}
