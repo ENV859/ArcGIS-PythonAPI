{
 "cells": [
  {
   "cell_type": "markdown",
   "metadata": {},
   "source": [
    "<div align=\"right\">\n",
    "<a href=\"/python/sample-notebooks/#Download-and-run-the-sample-notebooks\" class=\"btn\">Download the samples</a> <a href=\"http://notebooks.esri.com/notebooks/samples/04_gis_analysts_data_scientists/creating_hurricane_tracks_using_geoanalytics.ipynb\" class=\"btn\">Try it live</a>\n",
    "</div>"
   ]
  },
  {
   "cell_type": "markdown",
   "metadata": {},
   "source": [
    "# Creating hurricane tracks using Geoanalytics\n",
    "\n",
    "The sample code below uses big data analytics (GeoAnalytics) to reconstruct hurricane tracks using data registered on a big data file share in the GIS. Note that this functionality is currently available on ArcGIS Enterprise 10.5 and not yet with ArcGIS Online.\n",
    "\n",
    "## Reconstruct tracks\n",
    "Reconstruct tracks is a type of data aggregation tool available in the `arcgis.geoanalytics` module. This tool works with a layer of point features or polygon features that are time enabled. It first determines which points belong to a track using an identification number or identification string. Using the time at each location, the tracks are ordered sequentially and transformed into a line representing the path of movement.\n",
    "\n",
    "## Data used\n",
    "For this sample, hurricane data from over a period of 50 years, totalling about 150,000 points split into 5 shape files was used. The [National Hurricane Center](http://www.nhc.noaa.gov/gis/) provides similar datasets that can be used for exploratory purposes.\n",
    "\n",
    "To illustrate the nature of the data a subset was published as a feature service and can be visualized as below:"
   ]
  },
  {
   "cell_type": "code",
   "execution_count": 1,
   "metadata": {
    "collapsed": false,
    "scrolled": true
   },
   "outputs": [
    {
     "data": {
      "text/html": [
       "<div class=\"item_container\" style=\"height: auto; overflow: hidden; border: 1px solid #cfcfcf; border-radius: 2px; background: #f6fafa; line-height: 1.21429em; padding: 10px;\">\n",
       "                    <div class=\"item_left\" style=\"width: 210px; float: left;\">\n",
       "                       <a href='http://www.arcgis.com/home/item.html?id=8ebd08e3d0c04d249b29afba7a5e1b8f' target='_blank'>\n",
       "                        <img src='http://www.arcgis.com/sharing/rest//content/items/8ebd08e3d0c04d249b29afba7a5e1b8f/info/thumbnail/thumbnail.png' class=\"itemThumbnail\">\n",
       "                       </a>\n",
       "                    </div>\n",
       "\n",
       "                    <div class=\"item_right\"     style=\"float: none; width: auto; overflow: hidden;\">\n",
       "                        <a href='http://www.arcgis.com/home/item.html?id=8ebd08e3d0c04d249b29afba7a5e1b8f' target='_blank'><b>Hurricane_tracks_points</b>\n",
       "                        </a>\n",
       "                        <br/>Years 1932 - 1942<img src='http://www.arcgis.com/home/js/jsapi/esri/css/images/item_type_icons/featureshosted16.png' style=\"vertical-align:middle;\">Feature Layer Collection by atma.mani\n",
       "                        <br/>Last Modified: September 15, 2016\n",
       "                        <br/>0 comments, 0 views\n",
       "                    </div>\n",
       "                </div>\n",
       "                "
      ],
      "text/plain": [
       "<Item title:\"Hurricane_tracks_points\" type:Feature Service owner:atma.mani>"
      ]
     },
     "execution_count": 1,
     "metadata": {},
     "output_type": "execute_result"
    }
   ],
   "source": [
    "from arcgis.gis import GIS\n",
    "\n",
    "# Create an anonymous connection to ArcGIS Online\n",
    "arcgis_online = GIS()\n",
    "hurricane_pts = arcgis_online.content.search(\"Hurricane_tracks_points AND owner:atma.mani\", \"Feature Layer\")[0]\n",
    "hurricane_pts"
   ]
  },
  {
   "cell_type": "code",
   "execution_count": 2,
   "metadata": {
    "collapsed": false
   },
   "outputs": [],
   "source": [
    "subset_map = arcgis_online.map(\"USA\")\n",
    "subset_map"
   ]
  },
  {
   "cell_type": "code",
   "execution_count": 3,
   "metadata": {
    "collapsed": true
   },
   "outputs": [],
   "source": [
    "subset_map.add_layer(hurricane_pts)"
   ]
  },
  {
   "cell_type": "markdown",
   "metadata": {},
   "source": [
    "## Inspect the data attributes\n",
    "Let us query the first layer in hurricane_pts and view its attribute table as a Pandas dataframe."
   ]
  },
  {
   "cell_type": "code",
   "execution_count": 4,
   "metadata": {
    "collapsed": false
   },
   "outputs": [
    {
     "data": {
      "text/html": [
       "<div>\n",
       "<table border=\"1\" class=\"dataframe\">\n",
       "  <thead>\n",
       "    <tr style=\"text-align: right;\">\n",
       "      <th></th>\n",
       "      <th>ATC_eye</th>\n",
       "      <th>ATC_grade</th>\n",
       "      <th>ATC_poci</th>\n",
       "      <th>ATC_pres</th>\n",
       "      <th>ATC_rmw</th>\n",
       "      <th>ATC_roci</th>\n",
       "      <th>ATC_w34_r1</th>\n",
       "      <th>ATC_w34_r2</th>\n",
       "      <th>ATC_w34_r3</th>\n",
       "      <th>ATC_w34_r4</th>\n",
       "      <th>...</th>\n",
       "      <th>hour</th>\n",
       "      <th>min_</th>\n",
       "      <th>month</th>\n",
       "      <th>wmo_pres</th>\n",
       "      <th>wmo_pres__</th>\n",
       "      <th>wmo_wind</th>\n",
       "      <th>wmo_wind__</th>\n",
       "      <th>year</th>\n",
       "      <th>geometry.x</th>\n",
       "      <th>geometry.y</th>\n",
       "    </tr>\n",
       "    <tr>\n",
       "      <th>FID</th>\n",
       "      <th></th>\n",
       "      <th></th>\n",
       "      <th></th>\n",
       "      <th></th>\n",
       "      <th></th>\n",
       "      <th></th>\n",
       "      <th></th>\n",
       "      <th></th>\n",
       "      <th></th>\n",
       "      <th></th>\n",
       "      <th></th>\n",
       "      <th></th>\n",
       "      <th></th>\n",
       "      <th></th>\n",
       "      <th></th>\n",
       "      <th></th>\n",
       "      <th></th>\n",
       "      <th></th>\n",
       "      <th></th>\n",
       "      <th></th>\n",
       "      <th></th>\n",
       "    </tr>\n",
       "  </thead>\n",
       "  <tbody>\n",
       "    <tr>\n",
       "      <th>1</th>\n",
       "      <td>-999</td>\n",
       "      <td>-999.</td>\n",
       "      <td>-999</td>\n",
       "      <td>-999</td>\n",
       "      <td>-999</td>\n",
       "      <td>-999</td>\n",
       "      <td>-999</td>\n",
       "      <td>-999</td>\n",
       "      <td>-999</td>\n",
       "      <td>-999</td>\n",
       "      <td>...</td>\n",
       "      <td>0</td>\n",
       "      <td>0</td>\n",
       "      <td>1</td>\n",
       "      <td>-999</td>\n",
       "      <td>-999.0</td>\n",
       "      <td>-999</td>\n",
       "      <td>-999.0</td>\n",
       "      <td>1932</td>\n",
       "      <td>58.750000</td>\n",
       "      <td>-18.080000</td>\n",
       "    </tr>\n",
       "    <tr>\n",
       "      <th>2</th>\n",
       "      <td>-999</td>\n",
       "      <td>-999.</td>\n",
       "      <td>-999</td>\n",
       "      <td>-999</td>\n",
       "      <td>-999</td>\n",
       "      <td>-999</td>\n",
       "      <td>-999</td>\n",
       "      <td>-999</td>\n",
       "      <td>-999</td>\n",
       "      <td>-999</td>\n",
       "      <td>...</td>\n",
       "      <td>6</td>\n",
       "      <td>0</td>\n",
       "      <td>1</td>\n",
       "      <td>0</td>\n",
       "      <td>-100.0</td>\n",
       "      <td>0</td>\n",
       "      <td>-100.0</td>\n",
       "      <td>1932</td>\n",
       "      <td>58.400002</td>\n",
       "      <td>-18.500000</td>\n",
       "    </tr>\n",
       "    <tr>\n",
       "      <th>3</th>\n",
       "      <td>-999</td>\n",
       "      <td>-999.</td>\n",
       "      <td>-999</td>\n",
       "      <td>-999</td>\n",
       "      <td>-999</td>\n",
       "      <td>-999</td>\n",
       "      <td>-999</td>\n",
       "      <td>-999</td>\n",
       "      <td>-999</td>\n",
       "      <td>-999</td>\n",
       "      <td>...</td>\n",
       "      <td>12</td>\n",
       "      <td>0</td>\n",
       "      <td>1</td>\n",
       "      <td>-999</td>\n",
       "      <td>-999.0</td>\n",
       "      <td>-999</td>\n",
       "      <td>-999.0</td>\n",
       "      <td>1932</td>\n",
       "      <td>58.070000</td>\n",
       "      <td>-18.900000</td>\n",
       "    </tr>\n",
       "    <tr>\n",
       "      <th>4</th>\n",
       "      <td>-999</td>\n",
       "      <td>-999.</td>\n",
       "      <td>-999</td>\n",
       "      <td>-999</td>\n",
       "      <td>-999</td>\n",
       "      <td>-999</td>\n",
       "      <td>-999</td>\n",
       "      <td>-999</td>\n",
       "      <td>-999</td>\n",
       "      <td>-999</td>\n",
       "      <td>...</td>\n",
       "      <td>18</td>\n",
       "      <td>0</td>\n",
       "      <td>1</td>\n",
       "      <td>-999</td>\n",
       "      <td>-999.0</td>\n",
       "      <td>-999</td>\n",
       "      <td>-999.0</td>\n",
       "      <td>1932</td>\n",
       "      <td>57.730000</td>\n",
       "      <td>-19.309999</td>\n",
       "    </tr>\n",
       "    <tr>\n",
       "      <th>5</th>\n",
       "      <td>-999</td>\n",
       "      <td>-999.</td>\n",
       "      <td>-999</td>\n",
       "      <td>-999</td>\n",
       "      <td>-999</td>\n",
       "      <td>-999</td>\n",
       "      <td>-999</td>\n",
       "      <td>-999</td>\n",
       "      <td>-999</td>\n",
       "      <td>-999</td>\n",
       "      <td>...</td>\n",
       "      <td>0</td>\n",
       "      <td>0</td>\n",
       "      <td>1</td>\n",
       "      <td>-999</td>\n",
       "      <td>-999.0</td>\n",
       "      <td>-999</td>\n",
       "      <td>-999.0</td>\n",
       "      <td>1932</td>\n",
       "      <td>57.349998</td>\n",
       "      <td>-19.760000</td>\n",
       "    </tr>\n",
       "  </tbody>\n",
       "</table>\n",
       "<p>5 rows × 148 columns</p>\n",
       "</div>"
      ],
      "text/plain": [
       "     ATC_eye ATC_grade  ATC_poci  ATC_pres  ATC_rmw  ATC_roci  ATC_w34_r1  \\\n",
       "FID                                                                         \n",
       "1       -999     -999.      -999      -999     -999      -999        -999   \n",
       "2       -999     -999.      -999      -999     -999      -999        -999   \n",
       "3       -999     -999.      -999      -999     -999      -999        -999   \n",
       "4       -999     -999.      -999      -999     -999      -999        -999   \n",
       "5       -999     -999.      -999      -999     -999      -999        -999   \n",
       "\n",
       "     ATC_w34_r2  ATC_w34_r3  ATC_w34_r4     ...      hour  min_  month  \\\n",
       "FID                                         ...                          \n",
       "1          -999        -999        -999     ...         0     0      1   \n",
       "2          -999        -999        -999     ...         6     0      1   \n",
       "3          -999        -999        -999     ...        12     0      1   \n",
       "4          -999        -999        -999     ...        18     0      1   \n",
       "5          -999        -999        -999     ...         0     0      1   \n",
       "\n",
       "     wmo_pres  wmo_pres__  wmo_wind  wmo_wind__  year  geometry.x  geometry.y  \n",
       "FID                                                                            \n",
       "1        -999      -999.0      -999      -999.0  1932   58.750000  -18.080000  \n",
       "2           0      -100.0         0      -100.0  1932   58.400002  -18.500000  \n",
       "3        -999      -999.0      -999      -999.0  1932   58.070000  -18.900000  \n",
       "4        -999      -999.0      -999      -999.0  1932   57.730000  -19.309999  \n",
       "5        -999      -999.0      -999      -999.0  1932   57.349998  -19.760000  \n",
       "\n",
       "[5 rows x 148 columns]"
      ]
     },
     "execution_count": 4,
     "metadata": {},
     "output_type": "execute_result"
    }
   ],
   "source": [
    "hurricane_pts.layers[0].query().df.head()"
   ]
  },
  {
   "cell_type": "markdown",
   "metadata": {},
   "source": [
    "## Create a data store\n",
    "For the GeoAnalytics server to process your big data, it needs the data to be registered as a data store. In our case, the data is in multiple shape files and we will register the folder containing the files as a data store of type `bigDataFileShare`.\n",
    "\n",
    "Let us connect to an ArcGIS Enterprise"
   ]
  },
  {
   "cell_type": "code",
   "execution_count": 5,
   "metadata": {
    "collapsed": false
   },
   "outputs": [],
   "source": [
    "gis = GIS(\"https://yourportal.domain.com/webcontext\", \"username\", \"password\")"
   ]
  },
  {
   "cell_type": "markdown",
   "metadata": {},
   "source": [
    "Get the geoanalytics datastores and search it for the registered datasets:"
   ]
  },
  {
   "cell_type": "code",
   "execution_count": 6,
   "metadata": {
    "collapsed": false
   },
   "outputs": [
    {
     "data": {
      "text/plain": [
       "[<Datastore title:\"/bigDataFileShares/Chicago_accidents\" type:\"bigDataFileShare\">,\n",
       " <Datastore title:\"/bigDataFileShares/hurricanes\" type:\"bigDataFileShare\">,\n",
       " <Datastore title:\"/bigDataFileShares/hurricanes_1m_168yrs\" type:\"bigDataFileShare\">,\n",
       " <Datastore title:\"/bigDataFileShares/hurricanes_all\" type:\"bigDataFileShare\">,\n",
       " <Datastore title:\"/bigDataFileShares/Hurricane_tracks\" type:\"bigDataFileShare\">,\n",
       " <Datastore title:\"/bigDataFileShares/NYCdata\" type:\"bigDataFileShare\">,\n",
       " <Datastore title:\"/bigDataFileShares/NYC_taxi\" type:\"bigDataFileShare\">]"
      ]
     },
     "execution_count": 6,
     "metadata": {},
     "output_type": "execute_result"
    }
   ],
   "source": [
    "# Query the data stores available\n",
    "import arcgis\n",
    "datastores = arcgis.geoanalytics.get_datastores()\n",
    "bigdata_fileshares = datastores.search()\n",
    "bigdata_fileshares"
   ]
  },
  {
   "cell_type": "markdown",
   "metadata": {},
   "source": [
    "The dataset `hurricanes_all` data is registered as a big data file share with the Geoanalytics datastore, so we can reference it:"
   ]
  },
  {
   "cell_type": "code",
   "execution_count": 7,
   "metadata": {
    "collapsed": false
   },
   "outputs": [],
   "source": [
    "data_item = bigdata_fileshares[3]"
   ]
  },
  {
   "cell_type": "markdown",
   "metadata": {},
   "source": [
    "If there is no big data file share for hurricane track data registered on the server, we can register one that points to the shared folder containing the shape files."
   ]
  },
  {
   "cell_type": "code",
   "execution_count": 17,
   "metadata": {
    "collapsed": false
   },
   "outputs": [
    {
     "name": "stdout",
     "output_type": "stream",
     "text": [
      "Big Data file share exists for Hurricane_tracks\n"
     ]
    }
   ],
   "source": [
    "data_item = datastores.add_bigdata(\"Hurricane_tracks\", r\"\\\\path_to_hurricane_data\")"
   ]
  },
  {
   "cell_type": "markdown",
   "metadata": {},
   "source": [
    "Once a big data file share is registered, the GeoAnalytics server processes all the valid file types to discern the schema of the data. This process can take a few minutes depending on the size of your data. Once processed, querying the manifest property returns the schema. As you can see from below, the schema is similar to the subset we observed earlier in this sample."
   ]
  },
  {
   "cell_type": "code",
   "execution_count": 8,
   "metadata": {
    "collapsed": false
   },
   "outputs": [
    {
     "data": {
      "text/plain": [
       "{'format': {'extension': 'shp', 'type': 'shapefile'},\n",
       " 'geometry': {'geometryType': 'esriGeometryPoint',\n",
       "  'spatialReference': {'wkid': 4326}},\n",
       " 'name': 'full_dataset',\n",
       " 'schema': {'fields': [{'name': 'serial_num', 'type': 'esriFieldTypeString'},\n",
       "   {'name': 'season', 'type': 'esriFieldTypeBigInteger'},\n",
       "   {'name': 'num', 'type': 'esriFieldTypeBigInteger'},\n",
       "   {'name': 'basin', 'type': 'esriFieldTypeString'},\n",
       "   {'name': 'sub_basin', 'type': 'esriFieldTypeString'},\n",
       "   {'name': 'name', 'type': 'esriFieldTypeString'},\n",
       "   {'name': 'iso_time', 'type': 'esriFieldTypeString'},\n",
       "   {'name': 'nature', 'type': 'esriFieldTypeString'},\n",
       "   {'name': 'latitude', 'type': 'esriFieldTypeDouble'},\n",
       "   {'name': 'longitude', 'type': 'esriFieldTypeDouble'},\n",
       "   {'name': 'wind_wmo_', 'type': 'esriFieldTypeDouble'},\n",
       "   {'name': 'pres_wmo_', 'type': 'esriFieldTypeBigInteger'},\n",
       "   {'name': 'center', 'type': 'esriFieldTypeString'},\n",
       "   {'name': 'wind_wmo1', 'type': 'esriFieldTypeDouble'},\n",
       "   {'name': 'pres_wmo1', 'type': 'esriFieldTypeDouble'},\n",
       "   {'name': 'track_type', 'type': 'esriFieldTypeString'},\n",
       "   {'name': 'size', 'type': 'esriFieldTypeString'},\n",
       "   {'name': 'Wind', 'type': 'esriFieldTypeBigInteger'}]},\n",
       " 'time': {'fields': [{'formats': ['yyyy-MM-dd HH:mm:ss'], 'name': 'iso_time'}],\n",
       "  'timeReference': {'timeZone': 'UTC'},\n",
       "  'timeType': 'instant'}}"
      ]
     },
     "execution_count": 8,
     "metadata": {},
     "output_type": "execute_result"
    }
   ],
   "source": [
    "data_item.manifest['datasets'][0] #for brevity only a portion is printed"
   ]
  },
  {
   "cell_type": "markdown",
   "metadata": {},
   "source": [
    "## Perform data aggregation using reconstruct tracks tool\n",
    "\n",
    "When you add a big data file share, a corresponding item gets created in your GIS. You can search for it like a regular item and query its layers."
   ]
  },
  {
   "cell_type": "code",
   "execution_count": 9,
   "metadata": {
    "collapsed": false
   },
   "outputs": [
    {
     "data": {
      "text/plain": [
       "[<Item title:\"bigDataFileShares_hurricanes_1m_168yrs\" type:Big Data File Share owner:admin>,\n",
       " <Item title:\"bigDataFileShares_NYC_taxi\" type:Big Data File Share owner:admin>,\n",
       " <Item title:\"bigDataFileShares_hurricanes\" type:Big Data File Share owner:admin>,\n",
       " <Item title:\"bigDataFileShares_Chicago_accidents\" type:Big Data File Share owner:admin>,\n",
       " <Item title:\"bigDataFileShares_hurricanes_all\" type:Big Data File Share owner:admin>,\n",
       " <Item title:\"bigDataFileShares_NYCdata\" type:Big Data File Share owner:admin>]"
      ]
     },
     "execution_count": 9,
     "metadata": {},
     "output_type": "execute_result"
    }
   ],
   "source": [
    "search_result = gis.content.search(\"\", item_type = \"big data file share\")\n",
    "search_result"
   ]
  },
  {
   "cell_type": "code",
   "execution_count": 10,
   "metadata": {
    "collapsed": false
   },
   "outputs": [
    {
     "data": {
      "text/html": [
       "<div class=\"item_container\" style=\"height: auto; overflow: hidden; border: 1px solid #cfcfcf; border-radius: 2px; background: #f6fafa; line-height: 1.21429em; padding: 10px;\">\n",
       "                    <div class=\"item_left\" style=\"width: 210px; float: left;\">\n",
       "                       <a href='https://dev003246.esri.com/portal/home/item.html?id=3363093d4c1e4631b62561a6a8a5bb68' target='_blank'>\n",
       "                        <img src='https://dev003246.esri.com/portal/portalimages/desktopapp.png' class=\"itemThumbnail\">\n",
       "                       </a>\n",
       "                    </div>\n",
       "\n",
       "                    <div class=\"item_right\"     style=\"float: none; width: auto; overflow: hidden;\">\n",
       "                        <a href='https://dev003246.esri.com/portal/home/item.html?id=3363093d4c1e4631b62561a6a8a5bb68' target='_blank'><b>bigDataFileShares_hurricanes_all</b>\n",
       "                        </a>\n",
       "                        <br/><img src='https://dev003246.esri.com/portal/home/js/jsapi/esri/css/images/item_type_icons/layers16.png' style=\"vertical-align:middle;\">Big Data File Share by admin\n",
       "                        <br/>Last Modified: November 21, 2016\n",
       "                        <br/>0 comments, 0 views\n",
       "                    </div>\n",
       "                </div>\n",
       "                "
      ],
      "text/plain": [
       "<Item title:\"bigDataFileShares_hurricanes_all\" type:Big Data File Share owner:admin>"
      ]
     },
     "execution_count": 10,
     "metadata": {},
     "output_type": "execute_result"
    }
   ],
   "source": [
    "data_item = search_result[4]\n",
    "data_item"
   ]
  },
  {
   "cell_type": "code",
   "execution_count": 11,
   "metadata": {
    "collapsed": false
   },
   "outputs": [
    {
     "data": {
      "text/plain": [
       "<Layer url:\"https://yourserver.domain.com/webcontext/rest/services/DataStoreCatalogs/bigDataFileShares_hurricanes_all/BigDataCatalogServer/full_dataset\">"
      ]
     },
     "execution_count": 11,
     "metadata": {},
     "output_type": "execute_result"
    }
   ],
   "source": [
    "years_50 = data_item.layers[0]\n",
    "years_50"
   ]
  },
  {
   "cell_type": "markdown",
   "metadata": {},
   "source": [
    "### Reconstruct tracks tool\n",
    "\n",
    "The `reconstruct_tracks()` function is available in the `arcgis.geoanalytics.summarize_data` module. In this example, we are using this tool to aggregate the numerous points into line segments showing the tracks followed by the hurricanes. The tool creates a feature layer item as an output which can be accessed once the processing is complete."
   ]
  },
  {
   "cell_type": "code",
   "execution_count": 12,
   "metadata": {
    "collapsed": false
   },
   "outputs": [],
   "source": [
    "from arcgis.geoanalytics.summarize_data import reconstruct_tracks"
   ]
  },
  {
   "cell_type": "code",
   "execution_count": 13,
   "metadata": {
    "collapsed": false
   },
   "outputs": [
    {
     "name": "stdout",
     "output_type": "stream",
     "text": [
      "Submitted.\n",
      "Executing...\n",
      "Executing (ReconstructTracks): ReconstructTracks \"Feature Set\" Serial_Num Geodesic # # # # {\"itemProperties\":{\"itemId\":\"9b2d3c8e7418468fb2a89e3f27db1639\"},\"serviceProperties\":{\"serviceUrl\":\"http://yourserver.domain.com/webcontext/rest/services/Hosted/Reconstructed_Tracks_IOBYC0/FeatureServer\",\"name\":\"Reconstructed_Tracks_IOBYC0\"}} #\n",
      "Start Time: Wed Dec 14 16:36:10 2016\n",
      "Using URL based GPRecordSet param: https://yourserver.domain.com/webcontext/rest/services/DataStoreCatalogs/bigDataFileShares_hurricanes_all/BigDataCatalogServer/full_dataset?token=AYU95RBC50dIrjFxzzUIdYeI4Tqf-cXBdtRbuOKnpo3vvW1bu7FF4EAnwfwef1AVMEdRGXPTxCGWkWf81iuWCIBpQBP8-xoVp1eRrSeNbVgpOFekTsUokT6OW_LGgH1yn6DHC-Uul6ndvMSycCyp8ENol2_UMn7ksRRrQh_26Kc.\n",
      "{\"messageCode\":\"BD_101028\",\"message\":\"Starting new distributed job with 8 tasks.\",\"params\":{\"totalTasks\":\"8\"}}\n",
      "{\"messageCode\":\"BD_101029\",\"message\":\"8/8 distributed tasks completed.\",\"params\":{\"completedTasks\":\"8\",\"totalTasks\":\"8\"}}\n",
      "Finished writing\n",
      "  extent = Some(Envelope: [-103.0, -39.8, 80.0, 63.0])\n",
      "  interval = Some(Interval(MutableInstant(1848-01-11 06:00:00.000),MutableInstant(1899-12-26 06:00:00.000)))\n",
      "  count = 568\n",
      "{\"messageCode\":\"BD_0\",\"message\":\"Feature service layer created: http://yourserver.domain.com/webcontext/rest/services/Hosted/Reconstructed_Tracks_IOBYC0/FeatureServer/0\",\"params\":{\"serviceUrl\":\"http://yourserver.domain.com/webcontext/rest/services/Hosted/Reconstructed_Tracks_IOBYC0/FeatureServer/0\"}}\n",
      "{\"messageCode\":\"BD_101051\",\"message\":\"Possible issues were found while reading 'inputLayer'.\",\"params\":{\"paramName\":\"inputLayer\"}}\n",
      "{\"messageCode\":\"BD_101052\",\"message\":\"Some records have either missing or invalid time values.\"}\n",
      "      > GenericFeature(attributes=[1979260N16312,1979,16,NA,MM,UNNAMED,9/19/1979 12:00,TS,28.8,-51.5,30.0,0,atcf,17.071,-100.0,main,30000,30000],geometry={\"x\":-51.5,\"y\":28.8},time=null)\n",
      "      > GenericFeature(attributes=[1979260N16312,1979,16,NA,MM,UNNAMED,9/19/1979 18:00,TS,30.2,-51.5,30.0,0,atcf,17.071,-100.0,main,30000,30000],geometry={\"x\":-51.5,\"y\":30.2},time=null)\n",
      "      > GenericFeature(attributes=[1979260N16312,1979,16,NA,MM,UNNAMED,9/20/1979 0:00,TS,32.1,-51.2,30.0,0,atcf,17.071,-100.0,main,30000,30000],geometry={\"x\":-51.2,\"y\":32.1},time=null)\n",
      "Succeeded at Wed Dec 14 16:36:28 2016 (Elapsed Time: 17.58 seconds)\n"
     ]
    }
   ],
   "source": [
    "agg_result = reconstruct_tracks(years_50, \n",
    "                                track_fields='Serial_Num',\n",
    "                                method='GEODESIC')"
   ]
  },
  {
   "cell_type": "markdown",
   "metadata": {},
   "source": [
    "## Inspect the results\n",
    "Let us create a map and load the processed result which is a feature service"
   ]
  },
  {
   "cell_type": "code",
   "execution_count": 14,
   "metadata": {
    "collapsed": true
   },
   "outputs": [],
   "source": [
    "processed_map = gis.map(\"USA\")\n",
    "processed_map"
   ]
  },
  {
   "cell_type": "code",
   "execution_count": 15,
   "metadata": {
    "collapsed": true
   },
   "outputs": [],
   "source": [
    "processed_map.add_layer(agg_result)"
   ]
  },
  {
   "cell_type": "markdown",
   "metadata": {},
   "source": [
    "Thus we transformed a bunch of ponints into tracks that represents paths taken by the hurricanes over a period of 50 years. We can pull up another map and inspect the results a bit more closely"
   ]
  },
  {
   "cell_type": "markdown",
   "metadata": {},
   "source": [
    "Our input data and the map widget is time enabled. Thus we can filter the data to represent the tracks from only the years 1860 to 1870"
   ]
  },
  {
   "cell_type": "code",
   "execution_count": 16,
   "metadata": {
    "collapsed": true
   },
   "outputs": [],
   "source": [
    "processed_map.set_time_extent('1860', '1870')"
   ]
  },
  {
   "cell_type": "markdown",
   "metadata": {},
   "source": [
    "## What can geoanalytics do for you?\n",
    "\n",
    "With this sample we just scratched the surface of what big data analysis can do for you. ArcGIS Enterprise at 10.5 packs a powerful set of tools that let you derive a lot of value from your data. You can do so by asking the right questions, for instance, a weather dataset such as this could be used to answer a few interesting questions such as\n",
    " \n",
    " - did the number of hurricanes per season increase over the years?\n",
    " - give me the hurricanes that travelled longest distance\n",
    " - give me the ones that stayed for longest time. Do we see a trend?\n",
    " - how are wind speed and distance travelled correlated?\n",
    " - my assets are located in a tornado corridor. How many times in the past century, was there a hurricane within 50 miles from my assets?\n",
    " - my industry is dependent on tourism, which is heavily impacted by the vagaries of weather. From historical weather data, can I correlate my profits with major weather events? How well is my business insulated from freak weather events?\n",
    " - over the years do we see any shifts in major weather events - do we notice a shift in when the hurricane season starts?\n",
    " \n",
    "The ArcGIS API for Python gives you a gateway to easily access the big data tools from your ArcGIS Enterprise. By combining it with other powerful libraries from the pandas and scipy stack and the rich visualization capabilities of the Jupyter notebook, you can extract a lot of value from your data, big or small."
   ]
  }
 ],
 "metadata": {
  "anaconda-cloud": {},
  "kernelspec": {
   "display_name": "Python [Root]",
   "language": "python",
   "name": "Python [Root]"
  },
  "language_info": {
   "codemirror_mode": {
    "name": "ipython",
    "version": 3
   },
   "file_extension": ".py",
   "mimetype": "text/x-python",
   "name": "python",
   "nbconvert_exporter": "python",
   "pygments_lexer": "ipython3",
   "version": "3.5.2"
  }
 },
 "nbformat": 4,
 "nbformat_minor": 0
}
