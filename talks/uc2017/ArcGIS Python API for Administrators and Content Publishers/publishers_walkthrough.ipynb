{
 "cells": [
  {
   "cell_type": "markdown",
   "metadata": {},
   "source": [
    "<center><h1> Python API for content publishing, management </h1></center>"
   ]
  },
  {
   "cell_type": "code",
   "execution_count": 1,
   "metadata": {
    "collapsed": true
   },
   "outputs": [],
   "source": [
    "from arcgis.gis import *\n",
    "import getpass"
   ]
  },
  {
   "cell_type": "code",
   "execution_count": 2,
   "metadata": {},
   "outputs": [
    {
     "name": "stdout",
     "output_type": "stream",
     "text": [
      "········\n"
     ]
    }
   ],
   "source": [
    "password = getpass.getpass()\n",
    "gis = GIS(\"https://dev005223.esri.com/portal\",\"admin\",password, verify_cert=False)"
   ]
  },
  {
   "cell_type": "markdown",
   "metadata": {},
   "source": [
    "## Publish service definition files"
   ]
  },
  {
   "cell_type": "code",
   "execution_count": 4,
   "metadata": {},
   "outputs": [
    {
     "data": {
      "text/html": [
       "<div class=\"item_container\" style=\"height: auto; overflow: hidden; border: 1px solid #cfcfcf; border-radius: 2px; background: #f6fafa; line-height: 1.21429em; padding: 10px;\">\n",
       "                    <div class=\"item_left\" style=\"width: 210px; float: left;\">\n",
       "                       <a href='https://dev005223.esri.com/portal/home/item.html?id=5d65c0b6076c4021b6c5060b4d3053d4' target='_blank'>\n",
       "                        <img src='data:image/png;base64,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' width='200' height='133' class=\"itemThumbnail\">\n",
       "                       </a>\n",
       "                    </div>\n",
       "\n",
       "                    <div class=\"item_right\"     style=\"float: none; width: auto; overflow: hidden;\">\n",
       "                        <a href='https://dev005223.esri.com/portal/home/item.html?id=5d65c0b6076c4021b6c5060b4d3053d4' target='_blank'><b>Nursing_home_locations</b>\n",
       "                        </a>\n",
       "                        <br/>Presents the locations of Nursing Homes for Department of Social and Health Services, Wasington State.<img src='https://dev005223.esri.com/portal/home/js/jsapi/esri/css/images/item_type_icons/layers16.png' style=\"vertical-align:middle;\">Service Definition by admin\n",
       "                        <br/>Last Modified: July 07, 2017\n",
       "                        <br/>0 comments, 0 views\n",
       "                    </div>\n",
       "                </div>\n",
       "                "
      ],
      "text/plain": [
       "<Item title:\"Nursing_home_locations\" type:Service Definition owner:admin>"
      ]
     },
     "execution_count": 4,
     "metadata": {},
     "output_type": "execute_result"
    }
   ],
   "source": [
    "sd_file_path = 'publisher_files/sd/Nursing_home_locations.sd'\n",
    "\n",
    "# add as item first\n",
    "sd_item = gis.content.add({}, data=sd_file_path)\n",
    "sd_item"
   ]
  },
  {
   "cell_type": "code",
   "execution_count": 5,
   "metadata": {},
   "outputs": [
    {
     "data": {
      "text/html": [
       "<div class=\"item_container\" style=\"height: auto; overflow: hidden; border: 1px solid #cfcfcf; border-radius: 2px; background: #f6fafa; line-height: 1.21429em; padding: 10px;\">\n",
       "                    <div class=\"item_left\" style=\"width: 210px; float: left;\">\n",
       "                       <a href='https://dev005223.esri.com/portal/home/item.html?id=b034abadd93841ddb7920e185c18d9ea' target='_blank'>\n",
       "                        <img src='data:image/png;base64,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' width='200' height='133' class=\"itemThumbnail\">\n",
       "                       </a>\n",
       "                    </div>\n",
       "\n",
       "                    <div class=\"item_right\"     style=\"float: none; width: auto; overflow: hidden;\">\n",
       "                        <a href='https://dev005223.esri.com/portal/home/item.html?id=b034abadd93841ddb7920e185c18d9ea' target='_blank'><b>Nursing_home_locations</b>\n",
       "                        </a>\n",
       "                        <br/>Presents the locations of Nursing Homes for Department of Social and Health Services, Wasington State.<img src='https://dev005223.esri.com/portal/home/js/jsapi/esri/css/images/item_type_icons/featureshosted16.png' style=\"vertical-align:middle;\">Feature Layer Collection by admin\n",
       "                        <br/>Last Modified: July 07, 2017\n",
       "                        <br/>0 comments, 0 views\n",
       "                    </div>\n",
       "                </div>\n",
       "                "
      ],
      "text/plain": [
       "<Item title:\"Nursing_home_locations\" type:Feature Layer Collection owner:admin>"
      ]
     },
     "execution_count": 5,
     "metadata": {},
     "output_type": "execute_result"
    }
   ],
   "source": [
    "nursing_homes = sd_item.publish()\n",
    "nursing_homes"
   ]
  },
  {
   "cell_type": "code",
   "execution_count": 8,
   "metadata": {},
   "outputs": [
    {
     "data": {
      "application/vnd.jupyter.widget-view+json": {
       "model_id": "08880d180c2e4e9380a64d33bca88e3f"
      }
     },
     "metadata": {},
     "output_type": "display_data"
    }
   ],
   "source": [
    "wa_map = gis.map(\"WA, USA\")\n",
    "wa_map"
   ]
  },
  {
   "cell_type": "code",
   "execution_count": 9,
   "metadata": {
    "collapsed": true
   },
   "outputs": [],
   "source": [
    "wa_map.add_layer(nursing_homes)"
   ]
  },
  {
   "cell_type": "markdown",
   "metadata": {},
   "source": [
    "### Publish shape files and update item properties"
   ]
  },
  {
   "cell_type": "code",
   "execution_count": 5,
   "metadata": {},
   "outputs": [
    {
     "ename": "RuntimeError",
     "evalue": "Specify type in item_properties",
     "output_type": "error",
     "traceback": [
      "\u001b[0;31m---------------------------------------------------------------------------\u001b[0m",
      "\u001b[0;31mRuntimeError\u001b[0m                              Traceback (most recent call last)",
      "\u001b[0;32m<ipython-input-5-3be535f92ad5>\u001b[0m in \u001b[0;36m<module>\u001b[0;34m()\u001b[0m\n\u001b[1;32m      2\u001b[0m \u001b[0;34m\u001b[0m\u001b[0m\n\u001b[1;32m      3\u001b[0m \u001b[0;31m#add as item first\u001b[0m\u001b[0;34m\u001b[0m\u001b[0;34m\u001b[0m\u001b[0m\n\u001b[0;32m----> 4\u001b[0;31m \u001b[0mshp_item\u001b[0m \u001b[0;34m=\u001b[0m \u001b[0mgis\u001b[0m\u001b[0;34m.\u001b[0m\u001b[0mcontent\u001b[0m\u001b[0;34m.\u001b[0m\u001b[0madd\u001b[0m\u001b[0;34m(\u001b[0m\u001b[0;34m{\u001b[0m\u001b[0;34m'title'\u001b[0m\u001b[0;34m:\u001b[0m\u001b[0;34m'Power pedestals'\u001b[0m\u001b[0;34m}\u001b[0m\u001b[0;34m,\u001b[0m \u001b[0mdata\u001b[0m\u001b[0;34m=\u001b[0m\u001b[0mshp_file_path\u001b[0m\u001b[0;34m)\u001b[0m\u001b[0;34m\u001b[0m\u001b[0m\n\u001b[0m\u001b[1;32m      5\u001b[0m \u001b[0mshp_item\u001b[0m\u001b[0;34m\u001b[0m\u001b[0m\n",
      "\u001b[0;32m/Users/atma6951/anaconda/envs/geosaurus_gold/lib/python3.6/site-packages/arcgis/gis/__init__.py\u001b[0m in \u001b[0;36madd\u001b[0;34m(self, item_properties, data, thumbnail, metadata, owner, folder)\u001b[0m\n\u001b[1;32m   1709\u001b[0m                     \u001b[0mitem_properties\u001b[0m\u001b[0;34m[\u001b[0m\u001b[0;34m'type'\u001b[0m\u001b[0;34m]\u001b[0m \u001b[0;34m=\u001b[0m \u001b[0mfiletype\u001b[0m\u001b[0;34m\u001b[0m\u001b[0m\n\u001b[1;32m   1710\u001b[0m                 \u001b[0;32melse\u001b[0m\u001b[0;34m:\u001b[0m\u001b[0;34m\u001b[0m\u001b[0m\n\u001b[0;32m-> 1711\u001b[0;31m                     \u001b[0;32mraise\u001b[0m \u001b[0mRuntimeError\u001b[0m\u001b[0;34m(\u001b[0m\u001b[0;34m'Specify type in item_properties'\u001b[0m\u001b[0;34m)\u001b[0m\u001b[0;34m\u001b[0m\u001b[0m\n\u001b[0m\u001b[1;32m   1712\u001b[0m             \u001b[0;32mif\u001b[0m \u001b[0;32mnot\u001b[0m \u001b[0;34m'title'\u001b[0m \u001b[0;32min\u001b[0m \u001b[0mitem_properties\u001b[0m\u001b[0;34m:\u001b[0m\u001b[0;34m\u001b[0m\u001b[0m\n\u001b[1;32m   1713\u001b[0m                 \u001b[0mitem_properties\u001b[0m\u001b[0;34m[\u001b[0m\u001b[0;34m'title'\u001b[0m\u001b[0;34m]\u001b[0m \u001b[0;34m=\u001b[0m \u001b[0mtitle\u001b[0m\u001b[0;34m\u001b[0m\u001b[0m\n",
      "\u001b[0;31mRuntimeError\u001b[0m: Specify type in item_properties"
     ]
    }
   ],
   "source": [
    "shp_file_path = '/publisher_files/shp/power_pedestals_2012.zip'\n",
    "\n",
    "#add as item first\n",
    "shp_item = gis.content.add({'title':'Power pedestals', ''}, data=shp_file_path)\n",
    "shp_item"
   ]
  },
  {
   "cell_type": "code",
   "execution_count": null,
   "metadata": {
    "collapsed": true
   },
   "outputs": [],
   "source": []
  }
 ],
 "metadata": {
  "kernelspec": {
   "display_name": "Python 3",
   "language": "python",
   "name": "python3"
  },
  "language_info": {
   "codemirror_mode": {
    "name": "ipython",
    "version": 3
   },
   "file_extension": ".py",
   "mimetype": "text/x-python",
   "name": "python",
   "nbconvert_exporter": "python",
   "pygments_lexer": "ipython3",
   "version": "3.6.1"
  }
 },
 "nbformat": 4,
 "nbformat_minor": 2
}
