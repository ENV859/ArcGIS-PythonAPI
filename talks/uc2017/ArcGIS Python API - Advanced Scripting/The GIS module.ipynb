{
 "cells": [
  {
   "cell_type": "markdown",
   "metadata": {},
   "source": [
    "# The GIS Module"
   ]
  },
  {
   "cell_type": "markdown",
   "metadata": {},
   "source": [
    "# Connecting to GIS"
   ]
  },
  {
   "cell_type": "code",
   "execution_count": 1,
   "metadata": {
    "collapsed": true
   },
   "outputs": [],
   "source": [
    "from arcgis.gis import GIS"
   ]
  },
  {
   "cell_type": "code",
   "execution_count": 2,
   "metadata": {
    "collapsed": true
   },
   "outputs": [],
   "source": [
    "online = GIS()"
   ]
  },
  {
   "cell_type": "code",
   "execution_count": 3,
   "metadata": {
    "collapsed": true
   },
   "outputs": [],
   "source": [
    "gis = GIS('https://deldev.maps.arcgis.com', 'demo_deldev', 'P@ssword123')"
   ]
  },
  {
   "cell_type": "code",
   "execution_count": 4,
   "metadata": {
    "collapsed": true
   },
   "outputs": [],
   "source": [
    "enterprise = GIS(\"https://dev003246.esri.com/portal\", \"admin\",\"esri.agp\")"
   ]
  },
  {
   "cell_type": "markdown",
   "metadata": {},
   "source": [
    "# Using GIS resources"
   ]
  },
  {
   "cell_type": "markdown",
   "metadata": {},
   "source": [
    "## Users"
   ]
  },
  {
   "cell_type": "code",
   "execution_count": 5,
   "metadata": {},
   "outputs": [
    {
     "data": {
      "text/html": [
       "<div class=\"9item_container\" style=\"height: auto; overflow: hidden; border: 1px solid #cfcfcf; border-radius: 2px; background: #f6fafa; line-height: 1.21429em; padding: 10px;\">\n",
       "                    <div class=\"item_left\" style=\"width: 210px; float: left;\">\n",
       "                       <a href='https://deldev.maps.arcgis.com/home/user.html?user=demo_deldev' target='_blank'>\n",
       "                        <img src='https://deldev.maps.arcgis.com/home/js/arcgisonline/css/images/no-user-thumb.jpg' class=\"itemThumbnail\">\n",
       "                       </a>\n",
       "                    </div>\n",
       "\n",
       "                    <div class=\"item_right\" style=\"float: none; width: auto; overflow: hidden;\">\n",
       "                        <a href='https://deldev.maps.arcgis.com/home/user.html?user=demo_deldev' target='_blank'><b>Demo Account</b>\n",
       "                        </a>\n",
       "                        <br/><br/><b>Bio</b>: \n",
       "                        <br/><b>First Name</b>: Demo\n",
       "                        <br/><b>Last Name</b>: Account\n",
       "                        <br/><b>Username</b>: demo_deldev\n",
       "                        <br/><b>Joined</b>: February 16, 2016\n",
       "\n",
       "                    </div>\n",
       "                </div>\n",
       "                "
      ],
      "text/plain": [
       "<User username:demo_deldev>"
      ]
     },
     "execution_count": 5,
     "metadata": {},
     "output_type": "execute_result"
    }
   ],
   "source": [
    "gis.users.me"
   ]
  },
  {
   "cell_type": "code",
   "execution_count": 6,
   "metadata": {},
   "outputs": [
    {
     "data": {
      "text/html": [
       "<div class=\"9item_container\" style=\"height: auto; overflow: hidden; border: 1px solid #cfcfcf; border-radius: 2px; background: #f6fafa; line-height: 1.21429em; padding: 10px;\">\n",
       "                    <div class=\"item_left\" style=\"width: 210px; float: left;\">\n",
       "                       <a href='https://deldev.maps.arcgis.com/home/user.html?user=rohitgeo' target='_blank'>\n",
       "                        <img src='https://deldev.maps.arcgis.com/home/js/arcgisonline/css/images/no-user-thumb.jpg' class=\"itemThumbnail\">\n",
       "                       </a>\n",
       "                    </div>\n",
       "\n",
       "                    <div class=\"item_right\" style=\"float: none; width: auto; overflow: hidden;\">\n",
       "                        <a href='https://deldev.maps.arcgis.com/home/user.html?user=rohitgeo' target='_blank'><b>Rohit Singh</b>\n",
       "                        </a>\n",
       "                        <br/><br/><b>Bio</b>: This user has not provided any personal information.\n",
       "                        <br/><b>First Name</b>: Rohit\n",
       "                        <br/><b>Last Name</b>: Singh\n",
       "                        <br/><b>Username</b>: rohitgeo\n",
       "                        <br/><b>Joined</b>: December 17, 2016\n",
       "\n",
       "                    </div>\n",
       "                </div>\n",
       "                "
      ],
      "text/plain": [
       "<User username:rohitgeo>"
      ]
     },
     "execution_count": 6,
     "metadata": {},
     "output_type": "execute_result"
    }
   ],
   "source": [
    "user = gis.users.get('rohitgeo')\n",
    "user"
   ]
  },
  {
   "cell_type": "code",
   "execution_count": 7,
   "metadata": {},
   "outputs": [
    {
     "data": {
      "text/plain": [
       "'Rohit'"
      ]
     },
     "execution_count": 7,
     "metadata": {},
     "output_type": "execute_result"
    }
   ],
   "source": [
    "user['firstName']"
   ]
  },
  {
   "cell_type": "code",
   "execution_count": 8,
   "metadata": {},
   "outputs": [
    {
     "data": {
      "text/plain": [
       "'Singh'"
      ]
     },
     "execution_count": 8,
     "metadata": {},
     "output_type": "execute_result"
    }
   ],
   "source": [
    "user.lastName"
   ]
  },
  {
   "cell_type": "code",
   "execution_count": 9,
   "metadata": {
    "collapsed": true
   },
   "outputs": [],
   "source": [
    "users = enterprise.users.search()"
   ]
  },
  {
   "cell_type": "code",
   "execution_count": 10,
   "metadata": {},
   "outputs": [
    {
     "data": {
      "text/plain": [
       "[<User username:admin>,\n",
       " <User username:andrew>,\n",
       " <User username:arcgis_python_api>,\n",
       " <User username:demo_user1>,\n",
       " <User username:esri_boundaries>,\n",
       " <User username:esri_demographics>,\n",
       " <User username:esri_livingatlas>,\n",
       " <User username:esri_nav>,\n",
       " <User username:publisher1>,\n",
       " <User username:publisher2>,\n",
       " <User username:system_publisher>,\n",
       " <User username:user1>,\n",
       " <User username:user2>]"
      ]
     },
     "execution_count": 10,
     "metadata": {},
     "output_type": "execute_result"
    }
   ],
   "source": [
    "users"
   ]
  },
  {
   "cell_type": "code",
   "execution_count": 11,
   "metadata": {},
   "outputs": [
    {
     "data": {
      "text/html": [
       "<div class=\"9item_container\" style=\"height: auto; overflow: hidden; border: 1px solid #cfcfcf; border-radius: 2px; background: #f6fafa; line-height: 1.21429em; padding: 10px;\">\n",
       "                    <div class=\"item_left\" style=\"width: 210px; float: left;\">\n",
       "                       <a href='https://dev003246.esri.com/portal/home/user.html?user=admin' target='_blank'>\n",
       "                        <img src='https://dev003246.esri.com/portal/home/js/arcgisonline/css/images/no-user-thumb.jpg' class=\"itemThumbnail\">\n",
       "                       </a>\n",
       "                    </div>\n",
       "\n",
       "                    <div class=\"item_right\" style=\"float: none; width: auto; overflow: hidden;\">\n",
       "                        <a href='https://dev003246.esri.com/portal/home/user.html?user=admin' target='_blank'><b>Administrator</b>\n",
       "                        </a>\n",
       "                        <br/><br/><b>Bio</b>: Initial account administrator\n",
       "                        <br/><b>First Name</b>: Not Provided\n",
       "                        <br/><b>Last Name</b>: Not Provided\n",
       "                        <br/><b>Username</b>: admin\n",
       "                        <br/><b>Joined</b>: November 11, 2016\n",
       "\n",
       "                    </div>\n",
       "                </div>\n",
       "                "
      ],
      "text/plain": [
       "<User username:admin>"
      ]
     },
     "execution_count": 11,
     "metadata": {},
     "output_type": "execute_result"
    }
   ],
   "source": [
    "admin = users[0]\n",
    "admin"
   ]
  },
  {
   "cell_type": "code",
   "execution_count": 13,
   "metadata": {},
   "outputs": [
    {
     "data": {
      "text/html": [
       "<div class=\"item_container\" style=\"height: auto; overflow: hidden; border: 1px solid #cfcfcf; border-radius: 2px; background: #f6fafa; line-height: 1.21429em; padding: 10px;\">\n",
       "                    <div class=\"item_left\" style=\"width: 210px; float: left;\">\n",
       "                       <a href='https://dev003246.esri.com/portal/home/item.html?id=716db47c0e9b4088a2ec971e1518219a' target='_blank'>\n",
       "                        <img src='https://dev003246.esri.com/portal/portalimages/desktopapp.png' class=\"itemThumbnail\">\n",
       "                       </a>\n",
       "                    </div>\n",
       "\n",
       "                    <div class=\"item_right\"     style=\"float: none; width: auto; overflow: hidden;\">\n",
       "                        <a href='https://dev003246.esri.com/portal/home/item.html?id=716db47c0e9b4088a2ec971e1518219a' target='_blank'><b>SampleWorldCities</b>\n",
       "                        </a>\n",
       "                        <br/><img src='https://dev003246.esri.com/portal/home/js/jsapi/esri/css/images/item_type_icons/mapimages16.png' style=\"vertical-align:middle;\">WMS by admin\n",
       "                        <br/>Last Modified: November 11, 2016\n",
       "                        <br/>0 comments, 0 views\n",
       "                    </div>\n",
       "                </div>\n",
       "                "
      ],
      "text/plain": [
       "<Item title:\"SampleWorldCities\" type:WMS owner:admin>"
      ]
     },
     "metadata": {},
     "output_type": "display_data"
    },
    {
     "data": {
      "text/html": [
       "<div class=\"item_container\" style=\"height: auto; overflow: hidden; border: 1px solid #cfcfcf; border-radius: 2px; background: #f6fafa; line-height: 1.21429em; padding: 10px;\">\n",
       "                    <div class=\"item_left\" style=\"width: 210px; float: left;\">\n",
       "                       <a href='https://dev003246.esri.com/portal/home/item.html?id=605a9cf8c41a4aba9d9a3464343bf519' target='_blank'>\n",
       "                        <img src='https://dev003246.esri.com/portal/portalimages/desktopapp.png' class=\"itemThumbnail\">\n",
       "                       </a>\n",
       "                    </div>\n",
       "\n",
       "                    <div class=\"item_right\"     style=\"float: none; width: auto; overflow: hidden;\">\n",
       "                        <a href='https://dev003246.esri.com/portal/home/item.html?id=605a9cf8c41a4aba9d9a3464343bf519' target='_blank'><b>GeocodingTools</b>\n",
       "                        </a>\n",
       "                        <br/><img src='https://dev003246.esri.com/portal/home/js/jsapi/esri/css/images/item_type_icons/layers16.png' style=\"vertical-align:middle;\">Geoprocessing Toolbox by admin\n",
       "                        <br/>Last Modified: November 11, 2016\n",
       "                        <br/>0 comments, 0 views\n",
       "                    </div>\n",
       "                </div>\n",
       "                "
      ],
      "text/plain": [
       "<Item title:\"GeocodingTools\" type:Geoprocessing Toolbox owner:admin>"
      ]
     },
     "metadata": {},
     "output_type": "display_data"
    },
    {
     "data": {
      "text/html": [
       "<div class=\"item_container\" style=\"height: auto; overflow: hidden; border: 1px solid #cfcfcf; border-radius: 2px; background: #f6fafa; line-height: 1.21429em; padding: 10px;\">\n",
       "                    <div class=\"item_left\" style=\"width: 210px; float: left;\">\n",
       "                       <a href='https://dev003246.esri.com/portal/home/item.html?id=6d4d091a58904a2f9ba5dfc9ce2a0de5' target='_blank'>\n",
       "                        <img src='https://dev003246.esri.com/portal/portalimages/desktopapp.png' class=\"itemThumbnail\">\n",
       "                       </a>\n",
       "                    </div>\n",
       "\n",
       "                    <div class=\"item_right\"     style=\"float: none; width: auto; overflow: hidden;\">\n",
       "                        <a href='https://dev003246.esri.com/portal/home/item.html?id=6d4d091a58904a2f9ba5dfc9ce2a0de5' target='_blank'><b>Geometry</b>\n",
       "                        </a>\n",
       "                        <br/><img src='https://dev003246.esri.com/portal/home/js/jsapi/esri/css/images/item_type_icons/layers16.png' style=\"vertical-align:middle;\">Geometry Layer by admin\n",
       "                        <br/>Last Modified: November 11, 2016\n",
       "                        <br/>0 comments, 0 views\n",
       "                    </div>\n",
       "                </div>\n",
       "                "
      ],
      "text/plain": [
       "<Item title:\"Geometry\" type:Geometry Layer owner:admin>"
      ]
     },
     "metadata": {},
     "output_type": "display_data"
    },
    {
     "data": {
      "text/html": [
       "<div class=\"item_container\" style=\"height: auto; overflow: hidden; border: 1px solid #cfcfcf; border-radius: 2px; background: #f6fafa; line-height: 1.21429em; padding: 10px;\">\n",
       "                    <div class=\"item_left\" style=\"width: 210px; float: left;\">\n",
       "                       <a href='https://dev003246.esri.com/portal/home/item.html?id=71b360ecb13440bfa77a51f8de4559af' target='_blank'>\n",
       "                        <img src='https://dev003246.esri.com/portal/portalimages/desktopapp.png' class=\"itemThumbnail\">\n",
       "                       </a>\n",
       "                    </div>\n",
       "\n",
       "                    <div class=\"item_right\"     style=\"float: none; width: auto; overflow: hidden;\">\n",
       "                        <a href='https://dev003246.esri.com/portal/home/item.html?id=71b360ecb13440bfa77a51f8de4559af' target='_blank'><b>bigDataFileShares_NYC_taxi</b>\n",
       "                        </a>\n",
       "                        <br/><img src='https://dev003246.esri.com/portal/home/js/jsapi/esri/css/images/item_type_icons/layers16.png' style=\"vertical-align:middle;\">Big Data File Share by admin\n",
       "                        <br/>Last Modified: November 11, 2016\n",
       "                        <br/>0 comments, 0 views\n",
       "                    </div>\n",
       "                </div>\n",
       "                "
      ],
      "text/plain": [
       "<Item title:\"bigDataFileShares_NYC_taxi\" type:Big Data File Share owner:admin>"
      ]
     },
     "metadata": {},
     "output_type": "display_data"
    },
    {
     "data": {
      "text/html": [
       "<div class=\"item_container\" style=\"height: auto; overflow: hidden; border: 1px solid #cfcfcf; border-radius: 2px; background: #f6fafa; line-height: 1.21429em; padding: 10px;\">\n",
       "                    <div class=\"item_left\" style=\"width: 210px; float: left;\">\n",
       "                       <a href='https://dev003246.esri.com/portal/home/item.html?id=28bb4420062a410ead94f0bf4993211f' target='_blank'>\n",
       "                        <img src='https://dev003246.esri.com/portal/portalimages/desktopapp.png' class=\"itemThumbnail\">\n",
       "                       </a>\n",
       "                    </div>\n",
       "\n",
       "                    <div class=\"item_right\"     style=\"float: none; width: auto; overflow: hidden;\">\n",
       "                        <a href='https://dev003246.esri.com/portal/home/item.html?id=28bb4420062a410ead94f0bf4993211f' target='_blank'><b>SampleWorldCities</b>\n",
       "                        </a>\n",
       "                        <br/><img src='https://dev003246.esri.com/portal/home/js/jsapi/esri/css/images/item_type_icons/mapimages16.png' style=\"vertical-align:middle;\">Map Image Layer by admin\n",
       "                        <br/>Last Modified: November 11, 2016\n",
       "                        <br/>0 comments, 0 views\n",
       "                    </div>\n",
       "                </div>\n",
       "                "
      ],
      "text/plain": [
       "<Item title:\"SampleWorldCities\" type:Map Image Layer owner:admin>"
      ]
     },
     "metadata": {},
     "output_type": "display_data"
    },
    {
     "data": {
      "text/html": [
       "<div class=\"item_container\" style=\"height: auto; overflow: hidden; border: 1px solid #cfcfcf; border-radius: 2px; background: #f6fafa; line-height: 1.21429em; padding: 10px;\">\n",
       "                    <div class=\"item_left\" style=\"width: 210px; float: left;\">\n",
       "                       <a href='https://dev003246.esri.com/portal/home/item.html?id=8c921ea4373c4238b77d526abe3838f5' target='_blank'>\n",
       "                        <img src='data:image/png;base64,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' width='200' height='133' class=\"itemThumbnail\">\n",
       "                       </a>\n",
       "                    </div>\n",
       "\n",
       "                    <div class=\"item_right\"     style=\"float: none; width: auto; overflow: hidden;\">\n",
       "                        <a href='https://dev003246.esri.com/portal/home/item.html?id=8c921ea4373c4238b77d526abe3838f5' target='_blank'><b>ImgSrv_Landast_Montana2015</b>\n",
       "                        </a>\n",
       "                        <br/>Show the burned area  from the montana fires<img src='https://dev003246.esri.com/portal/home/js/jsapi/esri/css/images/item_type_icons/imagery16.png' style=\"vertical-align:middle;\">Imagery Layer by admin\n",
       "                        <br/>Last Modified: November 11, 2016\n",
       "                        <br/>0 comments, 5 views\n",
       "                    </div>\n",
       "                </div>\n",
       "                "
      ],
      "text/plain": [
       "<Item title:\"ImgSrv_Landast_Montana2015\" type:Imagery Layer owner:admin>"
      ]
     },
     "metadata": {},
     "output_type": "display_data"
    },
    {
     "data": {
      "text/html": [
       "<div class=\"item_container\" style=\"height: auto; overflow: hidden; border: 1px solid #cfcfcf; border-radius: 2px; background: #f6fafa; line-height: 1.21429em; padding: 10px;\">\n",
       "                    <div class=\"item_left\" style=\"width: 210px; float: left;\">\n",
       "                       <a href='https://dev003246.esri.com/portal/home/item.html?id=43cb71d329e642b1a182e4dc2e6eef31' target='_blank'>\n",
       "                        <img src='data:image/png;base64,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' width='200' height='133' class=\"itemThumbnail\">\n",
       "                       </a>\n",
       "                    </div>\n",
       "\n",
       "                    <div class=\"item_right\"     style=\"float: none; width: auto; overflow: hidden;\">\n",
       "                        <a href='https://dev003246.esri.com/portal/home/item.html?id=43cb71d329e642b1a182e4dc2e6eef31' target='_blank'><b>ImgSrv_Landast_Montana2014</b>\n",
       "                        </a>\n",
       "                        <br/>Show the burned area  from the montana fires<img src='https://dev003246.esri.com/portal/home/js/jsapi/esri/css/images/item_type_icons/imagery16.png' style=\"vertical-align:middle;\">Imagery Layer by admin\n",
       "                        <br/>Last Modified: November 11, 2016\n",
       "                        <br/>0 comments, 1 views\n",
       "                    </div>\n",
       "                </div>\n",
       "                "
      ],
      "text/plain": [
       "<Item title:\"ImgSrv_Landast_Montana2014\" type:Imagery Layer owner:admin>"
      ]
     },
     "metadata": {},
     "output_type": "display_data"
    },
    {
     "data": {
      "text/html": [
       "<div class=\"item_container\" style=\"height: auto; overflow: hidden; border: 1px solid #cfcfcf; border-radius: 2px; background: #f6fafa; line-height: 1.21429em; padding: 10px;\">\n",
       "                    <div class=\"item_left\" style=\"width: 210px; float: left;\">\n",
       "                       <a href='https://dev003246.esri.com/portal/home/item.html?id=d996f7ac6b64446cb4dac00b01154080' target='_blank'>\n",
       "                        <img src='https://dev003246.esri.com/portal/portalimages/desktopapp.png' class=\"itemThumbnail\">\n",
       "                       </a>\n",
       "                    </div>\n",
       "\n",
       "                    <div class=\"item_right\"     style=\"float: none; width: auto; overflow: hidden;\">\n",
       "                        <a href='https://dev003246.esri.com/portal/home/item.html?id=d996f7ac6b64446cb4dac00b01154080' target='_blank'><b>PrintingTools</b>\n",
       "                        </a>\n",
       "                        <br/><img src='https://dev003246.esri.com/portal/home/js/jsapi/esri/css/images/item_type_icons/layers16.png' style=\"vertical-align:middle;\">Geoprocessing Toolbox by admin\n",
       "                        <br/>Last Modified: November 11, 2016\n",
       "                        <br/>0 comments, 0 views\n",
       "                    </div>\n",
       "                </div>\n",
       "                "
      ],
      "text/plain": [
       "<Item title:\"PrintingTools\" type:Geoprocessing Toolbox owner:admin>"
      ]
     },
     "metadata": {},
     "output_type": "display_data"
    },
    {
     "data": {
      "text/html": [
       "<div class=\"item_container\" style=\"height: auto; overflow: hidden; border: 1px solid #cfcfcf; border-radius: 2px; background: #f6fafa; line-height: 1.21429em; padding: 10px;\">\n",
       "                    <div class=\"item_left\" style=\"width: 210px; float: left;\">\n",
       "                       <a href='https://dev003246.esri.com/portal/home/item.html?id=0dc4ff04b67c450c990c4f903325a800' target='_blank'>\n",
       "                        <img src='data:image/png;base64,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' width='200' height='133' class=\"itemThumbnail\">\n",
       "                       </a>\n",
       "                    </div>\n",
       "\n",
       "                    <div class=\"item_right\"     style=\"float: none; width: auto; overflow: hidden;\">\n",
       "                        <a href='https://dev003246.esri.com/portal/home/item.html?id=0dc4ff04b67c450c990c4f903325a800' target='_blank'><b>ImgSrv_Iran_WorldView2_Multispectral</b>\n",
       "                        </a>\n",
       "                        <br/>Iran WorldView2 multispectral dataset<img src='https://dev003246.esri.com/portal/home/js/jsapi/esri/css/images/item_type_icons/imagery16.png' style=\"vertical-align:middle;\">Imagery Layer by admin\n",
       "                        <br/>Last Modified: November 11, 2016\n",
       "                        <br/>0 comments, 0 views\n",
       "                    </div>\n",
       "                </div>\n",
       "                "
      ],
      "text/plain": [
       "<Item title:\"ImgSrv_Iran_WorldView2_Multispectral\" type:Imagery Layer owner:admin>"
      ]
     },
     "metadata": {},
     "output_type": "display_data"
    },
    {
     "data": {
      "text/html": [
       "<div class=\"item_container\" style=\"height: auto; overflow: hidden; border: 1px solid #cfcfcf; border-radius: 2px; background: #f6fafa; line-height: 1.21429em; padding: 10px;\">\n",
       "                    <div class=\"item_left\" style=\"width: 210px; float: left;\">\n",
       "                       <a href='https://dev003246.esri.com/portal/home/item.html?id=5851ce5acda744f88e0b7b045ab94762' target='_blank'>\n",
       "                        <img src='https://dev003246.esri.com/portal/portalimages/desktopapp.png' class=\"itemThumbnail\">\n",
       "                       </a>\n",
       "                    </div>\n",
       "\n",
       "                    <div class=\"item_right\"     style=\"float: none; width: auto; overflow: hidden;\">\n",
       "                        <a href='https://dev003246.esri.com/portal/home/item.html?id=5851ce5acda744f88e0b7b045ab94762' target='_blank'><b>bigDataFileShares_Chicago_accidents</b>\n",
       "                        </a>\n",
       "                        <br/><img src='https://dev003246.esri.com/portal/home/js/jsapi/esri/css/images/item_type_icons/layers16.png' style=\"vertical-align:middle;\">Big Data File Share by admin\n",
       "                        <br/>Last Modified: November 11, 2016\n",
       "                        <br/>0 comments, 0 views\n",
       "                    </div>\n",
       "                </div>\n",
       "                "
      ],
      "text/plain": [
       "<Item title:\"bigDataFileShares_Chicago_accidents\" type:Big Data File Share owner:admin>"
      ]
     },
     "metadata": {},
     "output_type": "display_data"
    },
    {
     "data": {
      "text/html": [
       "<div class=\"item_container\" style=\"height: auto; overflow: hidden; border: 1px solid #cfcfcf; border-radius: 2px; background: #f6fafa; line-height: 1.21429em; padding: 10px;\">\n",
       "                    <div class=\"item_left\" style=\"width: 210px; float: left;\">\n",
       "                       <a href='https://dev003246.esri.com/portal/home/item.html?id=effdded28d5a47d99b32c6ce24609929' target='_blank'>\n",
       "                        <img src='https://dev003246.esri.com/portal/portalimages/desktopapp.png' class=\"itemThumbnail\">\n",
       "                       </a>\n",
       "                    </div>\n",
       "\n",
       "                    <div class=\"item_right\"     style=\"float: none; width: auto; overflow: hidden;\">\n",
       "                        <a href='https://dev003246.esri.com/portal/home/item.html?id=effdded28d5a47d99b32c6ce24609929' target='_blank'><b>GeneratedRasterProduct_6OPKGO</b>\n",
       "                        </a>\n",
       "                        <br/>Analysis Image Service generated from GenerateRaster<img src='https://dev003246.esri.com/portal/home/js/jsapi/esri/css/images/item_type_icons/imagery16.png' style=\"vertical-align:middle;\">Imagery Layer by admin\n",
       "                        <br/>Last Modified: March 06, 2017\n",
       "                        <br/>0 comments, 0 views\n",
       "                    </div>\n",
       "                </div>\n",
       "                "
      ],
      "text/plain": [
       "<Item title:\"GeneratedRasterProduct_6OPKGO\" type:Imagery Layer owner:admin>"
      ]
     },
     "metadata": {},
     "output_type": "display_data"
    },
    {
     "data": {
      "text/html": [
       "<div class=\"item_container\" style=\"height: auto; overflow: hidden; border: 1px solid #cfcfcf; border-radius: 2px; background: #f6fafa; line-height: 1.21429em; padding: 10px;\">\n",
       "                    <div class=\"item_left\" style=\"width: 210px; float: left;\">\n",
       "                       <a href='https://dev003246.esri.com/portal/home/item.html?id=1afee5292536465484feaa1edabce85c' target='_blank'>\n",
       "                        <img src='https://dev003246.esri.com/portal/portalimages/desktopapp.png' class=\"itemThumbnail\">\n",
       "                       </a>\n",
       "                    </div>\n",
       "\n",
       "                    <div class=\"item_right\"     style=\"float: none; width: auto; overflow: hidden;\">\n",
       "                        <a href='https://dev003246.esri.com/portal/home/item.html?id=1afee5292536465484feaa1edabce85c' target='_blank'><b>Geometry</b>\n",
       "                        </a>\n",
       "                        <br/><img src='https://dev003246.esri.com/portal/home/js/jsapi/esri/css/images/item_type_icons/layers16.png' style=\"vertical-align:middle;\">Geometry Layer by admin\n",
       "                        <br/>Last Modified: November 11, 2016\n",
       "                        <br/>0 comments, 0 views\n",
       "                    </div>\n",
       "                </div>\n",
       "                "
      ],
      "text/plain": [
       "<Item title:\"Geometry\" type:Geometry Layer owner:admin>"
      ]
     },
     "metadata": {},
     "output_type": "display_data"
    },
    {
     "data": {
      "text/html": [
       "<div class=\"item_container\" style=\"height: auto; overflow: hidden; border: 1px solid #cfcfcf; border-radius: 2px; background: #f6fafa; line-height: 1.21429em; padding: 10px;\">\n",
       "                    <div class=\"item_left\" style=\"width: 210px; float: left;\">\n",
       "                       <a href='https://dev003246.esri.com/portal/home/item.html?id=04551f90b7004b35a7a212d259f684dd' target='_blank'>\n",
       "                        <img src='https://dev003246.esri.com/portal/portalimages/desktopapp.png' class=\"itemThumbnail\">\n",
       "                       </a>\n",
       "                    </div>\n",
       "\n",
       "                    <div class=\"item_right\"     style=\"float: none; width: auto; overflow: hidden;\">\n",
       "                        <a href='https://dev003246.esri.com/portal/home/item.html?id=04551f90b7004b35a7a212d259f684dd' target='_blank'><b>GeocodingTools</b>\n",
       "                        </a>\n",
       "                        <br/><img src='https://dev003246.esri.com/portal/home/js/jsapi/esri/css/images/item_type_icons/layers16.png' style=\"vertical-align:middle;\">Geoprocessing Toolbox by admin\n",
       "                        <br/>Last Modified: November 11, 2016\n",
       "                        <br/>0 comments, 0 views\n",
       "                    </div>\n",
       "                </div>\n",
       "                "
      ],
      "text/plain": [
       "<Item title:\"GeocodingTools\" type:Geoprocessing Toolbox owner:admin>"
      ]
     },
     "metadata": {},
     "output_type": "display_data"
    },
    {
     "data": {
      "text/html": [
       "<div class=\"item_container\" style=\"height: auto; overflow: hidden; border: 1px solid #cfcfcf; border-radius: 2px; background: #f6fafa; line-height: 1.21429em; padding: 10px;\">\n",
       "                    <div class=\"item_left\" style=\"width: 210px; float: left;\">\n",
       "                       <a href='https://dev003246.esri.com/portal/home/item.html?id=efecc4db2d9d480e929eb75156d4b110' target='_blank'>\n",
       "                        <img src='https://dev003246.esri.com/portal/portalimages/desktopapp.png' class=\"itemThumbnail\">\n",
       "                       </a>\n",
       "                    </div>\n",
       "\n",
       "                    <div class=\"item_right\"     style=\"float: none; width: auto; overflow: hidden;\">\n",
       "                        <a href='https://dev003246.esri.com/portal/home/item.html?id=efecc4db2d9d480e929eb75156d4b110' target='_blank'><b>PrintingTools</b>\n",
       "                        </a>\n",
       "                        <br/><img src='https://dev003246.esri.com/portal/home/js/jsapi/esri/css/images/item_type_icons/layers16.png' style=\"vertical-align:middle;\">Geoprocessing Toolbox by admin\n",
       "                        <br/>Last Modified: November 11, 2016\n",
       "                        <br/>0 comments, 0 views\n",
       "                    </div>\n",
       "                </div>\n",
       "                "
      ],
      "text/plain": [
       "<Item title:\"PrintingTools\" type:Geoprocessing Toolbox owner:admin>"
      ]
     },
     "metadata": {},
     "output_type": "display_data"
    },
    {
     "data": {
      "text/html": [
       "<div class=\"item_container\" style=\"height: auto; overflow: hidden; border: 1px solid #cfcfcf; border-radius: 2px; background: #f6fafa; line-height: 1.21429em; padding: 10px;\">\n",
       "                    <div class=\"item_left\" style=\"width: 210px; float: left;\">\n",
       "                       <a href='https://dev003246.esri.com/portal/home/item.html?id=be2099f8e5a5467d83fe32e22fa42ca9' target='_blank'>\n",
       "                        <img src='https://dev003246.esri.com/portal/portalimages/desktopapp.png' class=\"itemThumbnail\">\n",
       "                       </a>\n",
       "                    </div>\n",
       "\n",
       "                    <div class=\"item_right\"     style=\"float: none; width: auto; overflow: hidden;\">\n",
       "                        <a href='https://dev003246.esri.com/portal/home/item.html?id=be2099f8e5a5467d83fe32e22fa42ca9' target='_blank'><b>GeocodingTools</b>\n",
       "                        </a>\n",
       "                        <br/><img src='https://dev003246.esri.com/portal/home/js/jsapi/esri/css/images/item_type_icons/layers16.png' style=\"vertical-align:middle;\">Geoprocessing Toolbox by admin\n",
       "                        <br/>Last Modified: November 11, 2016\n",
       "                        <br/>0 comments, 0 views\n",
       "                    </div>\n",
       "                </div>\n",
       "                "
      ],
      "text/plain": [
       "<Item title:\"GeocodingTools\" type:Geoprocessing Toolbox owner:admin>"
      ]
     },
     "metadata": {},
     "output_type": "display_data"
    },
    {
     "data": {
      "text/html": [
       "<div class=\"item_container\" style=\"height: auto; overflow: hidden; border: 1px solid #cfcfcf; border-radius: 2px; background: #f6fafa; line-height: 1.21429em; padding: 10px;\">\n",
       "                    <div class=\"item_left\" style=\"width: 210px; float: left;\">\n",
       "                       <a href='https://dev003246.esri.com/portal/home/item.html?id=7f071f4437604fc695e5279454ee3cb0' target='_blank'>\n",
       "                        <img src='https://dev003246.esri.com/portal/portalimages/desktopapp.png' class=\"itemThumbnail\">\n",
       "                       </a>\n",
       "                    </div>\n",
       "\n",
       "                    <div class=\"item_right\"     style=\"float: none; width: auto; overflow: hidden;\">\n",
       "                        <a href='https://dev003246.esri.com/portal/home/item.html?id=7f071f4437604fc695e5279454ee3cb0' target='_blank'><b>PrintingTools</b>\n",
       "                        </a>\n",
       "                        <br/><img src='https://dev003246.esri.com/portal/home/js/jsapi/esri/css/images/item_type_icons/layers16.png' style=\"vertical-align:middle;\">Geoprocessing Toolbox by admin\n",
       "                        <br/>Last Modified: November 11, 2016\n",
       "                        <br/>0 comments, 0 views\n",
       "                    </div>\n",
       "                </div>\n",
       "                "
      ],
      "text/plain": [
       "<Item title:\"PrintingTools\" type:Geoprocessing Toolbox owner:admin>"
      ]
     },
     "metadata": {},
     "output_type": "display_data"
    },
    {
     "data": {
      "text/html": [
       "<div class=\"item_container\" style=\"height: auto; overflow: hidden; border: 1px solid #cfcfcf; border-radius: 2px; background: #f6fafa; line-height: 1.21429em; padding: 10px;\">\n",
       "                    <div class=\"item_left\" style=\"width: 210px; float: left;\">\n",
       "                       <a href='https://dev003246.esri.com/portal/home/item.html?id=068aded2cb534d79ab44e9df442faf83' target='_blank'>\n",
       "                        <img src='https://dev003246.esri.com/portal/portalimages/desktopapp.png' class=\"itemThumbnail\">\n",
       "                       </a>\n",
       "                    </div>\n",
       "\n",
       "                    <div class=\"item_right\"     style=\"float: none; width: auto; overflow: hidden;\">\n",
       "                        <a href='https://dev003246.esri.com/portal/home/item.html?id=068aded2cb534d79ab44e9df442faf83' target='_blank'><b>Geometry</b>\n",
       "                        </a>\n",
       "                        <br/><img src='https://dev003246.esri.com/portal/home/js/jsapi/esri/css/images/item_type_icons/layers16.png' style=\"vertical-align:middle;\">Geometry Layer by admin\n",
       "                        <br/>Last Modified: November 11, 2016\n",
       "                        <br/>0 comments, 0 views\n",
       "                    </div>\n",
       "                </div>\n",
       "                "
      ],
      "text/plain": [
       "<Item title:\"Geometry\" type:Geometry Layer owner:admin>"
      ]
     },
     "metadata": {},
     "output_type": "display_data"
    },
    {
     "data": {
      "text/html": [
       "<div class=\"item_container\" style=\"height: auto; overflow: hidden; border: 1px solid #cfcfcf; border-radius: 2px; background: #f6fafa; line-height: 1.21429em; padding: 10px;\">\n",
       "                    <div class=\"item_left\" style=\"width: 210px; float: left;\">\n",
       "                       <a href='https://dev003246.esri.com/portal/home/item.html?id=3ba9e046b2274e74872df26974dea64a' target='_blank'>\n",
       "                        <img src='data:image/png;base64,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' width='200' height='133' class=\"itemThumbnail\">\n",
       "                       </a>\n",
       "                    </div>\n",
       "\n",
       "                    <div class=\"item_right\"     style=\"float: none; width: auto; overflow: hidden;\">\n",
       "                        <a href='https://dev003246.esri.com/portal/home/item.html?id=3ba9e046b2274e74872df26974dea64a' target='_blank'><b>Landast_Mosaic</b>\n",
       "                        </a>\n",
       "                        <br/>ArcGIS Python API<img src='https://dev003246.esri.com/portal/home/js/jsapi/esri/css/images/item_type_icons/imagery16.png' style=\"vertical-align:middle;\">Imagery Layer by admin\n",
       "                        <br/>Last Modified: November 11, 2016\n",
       "                        <br/>0 comments, 0 views\n",
       "                    </div>\n",
       "                </div>\n",
       "                "
      ],
      "text/plain": [
       "<Item title:\"Landast_Mosaic\" type:Imagery Layer owner:admin>"
      ]
     },
     "metadata": {},
     "output_type": "display_data"
    },
    {
     "data": {
      "text/html": [
       "<div class=\"item_container\" style=\"height: auto; overflow: hidden; border: 1px solid #cfcfcf; border-radius: 2px; background: #f6fafa; line-height: 1.21429em; padding: 10px;\">\n",
       "                    <div class=\"item_left\" style=\"width: 210px; float: left;\">\n",
       "                       <a href='https://dev003246.esri.com/portal/home/item.html?id=94808022e45c4ce3836dd07be5dc22c5' target='_blank'>\n",
       "                        <img src='https://dev003246.esri.com/portal/portalimages/desktopapp.png' class=\"itemThumbnail\">\n",
       "                       </a>\n",
       "                    </div>\n",
       "\n",
       "                    <div class=\"item_right\"     style=\"float: none; width: auto; overflow: hidden;\">\n",
       "                        <a href='https://dev003246.esri.com/portal/home/item.html?id=94808022e45c4ce3836dd07be5dc22c5' target='_blank'><b>AGO World Geocoder (amani_DinocoProduction)</b>\n",
       "                        </a>\n",
       "                        <br/><img src='https://dev003246.esri.com/portal/home/js/jsapi/esri/css/images/item_type_icons/layers16.png' style=\"vertical-align:middle;\">Geocoding Layer by admin\n",
       "                        <br/>Last Modified: November 14, 2016\n",
       "                        <br/>0 comments, 0 views\n",
       "                    </div>\n",
       "                </div>\n",
       "                "
      ],
      "text/plain": [
       "<Item title:\"AGO World Geocoder (amani_DinocoProduction)\" type:Geocoding Layer owner:admin>"
      ]
     },
     "metadata": {},
     "output_type": "display_data"
    },
    {
     "data": {
      "text/html": [
       "<div class=\"item_container\" style=\"height: auto; overflow: hidden; border: 1px solid #cfcfcf; border-radius: 2px; background: #f6fafa; line-height: 1.21429em; padding: 10px;\">\n",
       "                    <div class=\"item_left\" style=\"width: 210px; float: left;\">\n",
       "                       <a href='https://dev003246.esri.com/portal/home/item.html?id=a615b2d91fd64f8eba53b79bd6ccf3ef' target='_blank'>\n",
       "                        <img src='https://dev003246.esri.com/portal/portalimages/desktopapp.png' class=\"itemThumbnail\">\n",
       "                       </a>\n",
       "                    </div>\n",
       "\n",
       "                    <div class=\"item_right\"     style=\"float: none; width: auto; overflow: hidden;\">\n",
       "                        <a href='https://dev003246.esri.com/portal/home/item.html?id=a615b2d91fd64f8eba53b79bd6ccf3ef' target='_blank'><b>AGO World Service Areas Async (portalproxy)</b>\n",
       "                        </a>\n",
       "                        <br/><img src='https://dev003246.esri.com/portal/home/js/jsapi/esri/css/images/item_type_icons/layers16.png' style=\"vertical-align:middle;\">Geoprocessing Toolbox by admin\n",
       "                        <br/>Last Modified: November 14, 2016\n",
       "                        <br/>0 comments, 0 views\n",
       "                    </div>\n",
       "                </div>\n",
       "                "
      ],
      "text/plain": [
       "<Item title:\"AGO World Service Areas Async (portalproxy)\" type:Geoprocessing Toolbox owner:admin>"
      ]
     },
     "metadata": {},
     "output_type": "display_data"
    },
    {
     "data": {
      "text/html": [
       "<div class=\"item_container\" style=\"height: auto; overflow: hidden; border: 1px solid #cfcfcf; border-radius: 2px; background: #f6fafa; line-height: 1.21429em; padding: 10px;\">\n",
       "                    <div class=\"item_left\" style=\"width: 210px; float: left;\">\n",
       "                       <a href='https://dev003246.esri.com/portal/home/item.html?id=3dee2882a1494e1b9bac7fe2d390ac54' target='_blank'>\n",
       "                        <img src='https://dev003246.esri.com/portal/portalimages/desktopapp.png' class=\"itemThumbnail\">\n",
       "                       </a>\n",
       "                    </div>\n",
       "\n",
       "                    <div class=\"item_right\"     style=\"float: none; width: auto; overflow: hidden;\">\n",
       "                        <a href='https://dev003246.esri.com/portal/home/item.html?id=3dee2882a1494e1b9bac7fe2d390ac54' target='_blank'><b>AGO World Elevation (portalproxy)</b>\n",
       "                        </a>\n",
       "                        <br/><img src='https://dev003246.esri.com/portal/home/js/jsapi/esri/css/images/item_type_icons/layers16.png' style=\"vertical-align:middle;\">Geoprocessing Toolbox by admin\n",
       "                        <br/>Last Modified: November 14, 2016\n",
       "                        <br/>0 comments, 0 views\n",
       "                    </div>\n",
       "                </div>\n",
       "                "
      ],
      "text/plain": [
       "<Item title:\"AGO World Elevation (portalproxy)\" type:Geoprocessing Toolbox owner:admin>"
      ]
     },
     "metadata": {},
     "output_type": "display_data"
    },
    {
     "data": {
      "text/html": [
       "<div class=\"item_container\" style=\"height: auto; overflow: hidden; border: 1px solid #cfcfcf; border-radius: 2px; background: #f6fafa; line-height: 1.21429em; padding: 10px;\">\n",
       "                    <div class=\"item_left\" style=\"width: 210px; float: left;\">\n",
       "                       <a href='https://dev003246.esri.com/portal/home/item.html?id=d6da1f29cd4c4928b26e33e0f637b65b' target='_blank'>\n",
       "                        <img src='https://dev003246.esri.com/portal/portalimages/desktopapp.png' class=\"itemThumbnail\">\n",
       "                       </a>\n",
       "                    </div>\n",
       "\n",
       "                    <div class=\"item_right\"     style=\"float: none; width: auto; overflow: hidden;\">\n",
       "                        <a href='https://dev003246.esri.com/portal/home/item.html?id=d6da1f29cd4c4928b26e33e0f637b65b' target='_blank'><b>AGO World Closest Facility Async (portalproxy)</b>\n",
       "                        </a>\n",
       "                        <br/><img src='https://dev003246.esri.com/portal/home/js/jsapi/esri/css/images/item_type_icons/layers16.png' style=\"vertical-align:middle;\">Geoprocessing Toolbox by admin\n",
       "                        <br/>Last Modified: November 14, 2016\n",
       "                        <br/>0 comments, 0 views\n",
       "                    </div>\n",
       "                </div>\n",
       "                "
      ],
      "text/plain": [
       "<Item title:\"AGO World Closest Facility Async (portalproxy)\" type:Geoprocessing Toolbox owner:admin>"
      ]
     },
     "metadata": {},
     "output_type": "display_data"
    },
    {
     "data": {
      "text/html": [
       "<div class=\"item_container\" style=\"height: auto; overflow: hidden; border: 1px solid #cfcfcf; border-radius: 2px; background: #f6fafa; line-height: 1.21429em; padding: 10px;\">\n",
       "                    <div class=\"item_left\" style=\"width: 210px; float: left;\">\n",
       "                       <a href='https://dev003246.esri.com/portal/home/item.html?id=8fba362d3ca44973a5747c5717b604cd' target='_blank'>\n",
       "                        <img src='https://dev003246.esri.com/portal/portalimages/desktopapp.png' class=\"itemThumbnail\">\n",
       "                       </a>\n",
       "                    </div>\n",
       "\n",
       "                    <div class=\"item_right\"     style=\"float: none; width: auto; overflow: hidden;\">\n",
       "                        <a href='https://dev003246.esri.com/portal/home/item.html?id=8fba362d3ca44973a5747c5717b604cd' target='_blank'><b>AGO World GeoEnrichment (portalproxy)</b>\n",
       "                        </a>\n",
       "                        <br/><img src='https://dev003246.esri.com/portal/home/js/jsapi/esri/css/images/item_type_icons/layers16.png' style=\"vertical-align:middle;\">Geoenrichment Layer by admin\n",
       "                        <br/>Last Modified: November 14, 2016\n",
       "                        <br/>0 comments, 0 views\n",
       "                    </div>\n",
       "                </div>\n",
       "                "
      ],
      "text/plain": [
       "<Item title:\"AGO World GeoEnrichment (portalproxy)\" type:Geoenrichment Layer owner:admin>"
      ]
     },
     "metadata": {},
     "output_type": "display_data"
    },
    {
     "data": {
      "text/html": [
       "<div class=\"item_container\" style=\"height: auto; overflow: hidden; border: 1px solid #cfcfcf; border-radius: 2px; background: #f6fafa; line-height: 1.21429em; padding: 10px;\">\n",
       "                    <div class=\"item_left\" style=\"width: 210px; float: left;\">\n",
       "                       <a href='https://dev003246.esri.com/portal/home/item.html?id=5dbbf7512a694df4807703dd869b240a' target='_blank'>\n",
       "                        <img src='https://dev003246.esri.com/portal/portalimages/desktopapp.png' class=\"itemThumbnail\">\n",
       "                       </a>\n",
       "                    </div>\n",
       "\n",
       "                    <div class=\"item_right\"     style=\"float: none; width: auto; overflow: hidden;\">\n",
       "                        <a href='https://dev003246.esri.com/portal/home/item.html?id=5dbbf7512a694df4807703dd869b240a' target='_blank'><b>AGO World Closest Facility (portalproxy)</b>\n",
       "                        </a>\n",
       "                        <br/><img src='https://dev003246.esri.com/portal/home/js/jsapi/esri/css/images/item_type_icons/layers16.png' style=\"vertical-align:middle;\">Network Analysis Layer by admin\n",
       "                        <br/>Last Modified: November 14, 2016\n",
       "                        <br/>0 comments, 0 views\n",
       "                    </div>\n",
       "                </div>\n",
       "                "
      ],
      "text/plain": [
       "<Item title:\"AGO World Closest Facility (portalproxy)\" type:Network Analysis Layer owner:admin>"
      ]
     },
     "metadata": {},
     "output_type": "display_data"
    },
    {
     "data": {
      "text/html": [
       "<div class=\"item_container\" style=\"height: auto; overflow: hidden; border: 1px solid #cfcfcf; border-radius: 2px; background: #f6fafa; line-height: 1.21429em; padding: 10px;\">\n",
       "                    <div class=\"item_left\" style=\"width: 210px; float: left;\">\n",
       "                       <a href='https://dev003246.esri.com/portal/home/item.html?id=973de51c54cb4edcb6abd8cd39baa1cc' target='_blank'>\n",
       "                        <img src='https://dev003246.esri.com/portal/portalimages/desktopapp.png' class=\"itemThumbnail\">\n",
       "                       </a>\n",
       "                    </div>\n",
       "\n",
       "                    <div class=\"item_right\"     style=\"float: none; width: auto; overflow: hidden;\">\n",
       "                        <a href='https://dev003246.esri.com/portal/home/item.html?id=973de51c54cb4edcb6abd8cd39baa1cc' target='_blank'><b>AGO World Service Areas (portalproxy)</b>\n",
       "                        </a>\n",
       "                        <br/><img src='https://dev003246.esri.com/portal/home/js/jsapi/esri/css/images/item_type_icons/layers16.png' style=\"vertical-align:middle;\">Network Analysis Layer by admin\n",
       "                        <br/>Last Modified: November 14, 2016\n",
       "                        <br/>0 comments, 0 views\n",
       "                    </div>\n",
       "                </div>\n",
       "                "
      ],
      "text/plain": [
       "<Item title:\"AGO World Service Areas (portalproxy)\" type:Network Analysis Layer owner:admin>"
      ]
     },
     "metadata": {},
     "output_type": "display_data"
    },
    {
     "data": {
      "text/html": [
       "<div class=\"item_container\" style=\"height: auto; overflow: hidden; border: 1px solid #cfcfcf; border-radius: 2px; background: #f6fafa; line-height: 1.21429em; padding: 10px;\">\n",
       "                    <div class=\"item_left\" style=\"width: 210px; float: left;\">\n",
       "                       <a href='https://dev003246.esri.com/portal/home/item.html?id=d6954bee06cb4a5fb30bf33dcc8f4388' target='_blank'>\n",
       "                        <img src='https://dev003246.esri.com/portal/portalimages/desktopapp.png' class=\"itemThumbnail\">\n",
       "                       </a>\n",
       "                    </div>\n",
       "\n",
       "                    <div class=\"item_right\"     style=\"float: none; width: auto; overflow: hidden;\">\n",
       "                        <a href='https://dev003246.esri.com/portal/home/item.html?id=d6954bee06cb4a5fb30bf33dcc8f4388' target='_blank'><b>AGO World Vehicle Routing Problem Async (portalproxy)</b>\n",
       "                        </a>\n",
       "                        <br/><img src='https://dev003246.esri.com/portal/home/js/jsapi/esri/css/images/item_type_icons/layers16.png' style=\"vertical-align:middle;\">Geoprocessing Toolbox by admin\n",
       "                        <br/>Last Modified: November 14, 2016\n",
       "                        <br/>0 comments, 0 views\n",
       "                    </div>\n",
       "                </div>\n",
       "                "
      ],
      "text/plain": [
       "<Item title:\"AGO World Vehicle Routing Problem Async (portalproxy)\" type:Geoprocessing Toolbox owner:admin>"
      ]
     },
     "metadata": {},
     "output_type": "display_data"
    },
    {
     "data": {
      "text/html": [
       "<div class=\"item_container\" style=\"height: auto; overflow: hidden; border: 1px solid #cfcfcf; border-radius: 2px; background: #f6fafa; line-height: 1.21429em; padding: 10px;\">\n",
       "                    <div class=\"item_left\" style=\"width: 210px; float: left;\">\n",
       "                       <a href='https://dev003246.esri.com/portal/home/item.html?id=5958d9d429e14c52843439425ae95bb7' target='_blank'>\n",
       "                        <img src='https://dev003246.esri.com/portal/portalimages/desktopapp.png' class=\"itemThumbnail\">\n",
       "                       </a>\n",
       "                    </div>\n",
       "\n",
       "                    <div class=\"item_right\"     style=\"float: none; width: auto; overflow: hidden;\">\n",
       "                        <a href='https://dev003246.esri.com/portal/home/item.html?id=5958d9d429e14c52843439425ae95bb7' target='_blank'><b>GeneratedRasterProduct_477N2X</b>\n",
       "                        </a>\n",
       "                        <br/>Analysis Image Service generated from GenerateRaster<img src='https://dev003246.esri.com/portal/home/js/jsapi/esri/css/images/item_type_icons/imagery16.png' style=\"vertical-align:middle;\">Imagery Layer by admin\n",
       "                        <br/>Last Modified: March 08, 2017\n",
       "                        <br/>0 comments, 0 views\n",
       "                    </div>\n",
       "                </div>\n",
       "                "
      ],
      "text/plain": [
       "<Item title:\"GeneratedRasterProduct_477N2X\" type:Imagery Layer owner:admin>"
      ]
     },
     "metadata": {},
     "output_type": "display_data"
    },
    {
     "data": {
      "text/html": [
       "<div class=\"item_container\" style=\"height: auto; overflow: hidden; border: 1px solid #cfcfcf; border-radius: 2px; background: #f6fafa; line-height: 1.21429em; padding: 10px;\">\n",
       "                    <div class=\"item_left\" style=\"width: 210px; float: left;\">\n",
       "                       <a href='https://dev003246.esri.com/portal/home/item.html?id=7094a7f499e5490d84e4fcabd0ecdc7c' target='_blank'>\n",
       "                        <img src='https://dev003246.esri.com/portal/portalimages/desktopapp.png' class=\"itemThumbnail\">\n",
       "                       </a>\n",
       "                    </div>\n",
       "\n",
       "                    <div class=\"item_right\"     style=\"float: none; width: auto; overflow: hidden;\">\n",
       "                        <a href='https://dev003246.esri.com/portal/home/item.html?id=7094a7f499e5490d84e4fcabd0ecdc7c' target='_blank'><b>AGO World Hydrology (portalproxy)</b>\n",
       "                        </a>\n",
       "                        <br/><img src='https://dev003246.esri.com/portal/home/js/jsapi/esri/css/images/item_type_icons/layers16.png' style=\"vertical-align:middle;\">Geoprocessing Toolbox by admin\n",
       "                        <br/>Last Modified: November 14, 2016\n",
       "                        <br/>0 comments, 0 views\n",
       "                    </div>\n",
       "                </div>\n",
       "                "
      ],
      "text/plain": [
       "<Item title:\"AGO World Hydrology (portalproxy)\" type:Geoprocessing Toolbox owner:admin>"
      ]
     },
     "metadata": {},
     "output_type": "display_data"
    },
    {
     "data": {
      "text/html": [
       "<div class=\"item_container\" style=\"height: auto; overflow: hidden; border: 1px solid #cfcfcf; border-radius: 2px; background: #f6fafa; line-height: 1.21429em; padding: 10px;\">\n",
       "                    <div class=\"item_left\" style=\"width: 210px; float: left;\">\n",
       "                       <a href='https://dev003246.esri.com/portal/home/item.html?id=24873b34c1cb4843a31ad8b0d030f63a' target='_blank'>\n",
       "                        <img src='https://dev003246.esri.com/portal/portalimages/desktopapp.png' class=\"itemThumbnail\">\n",
       "                       </a>\n",
       "                    </div>\n",
       "\n",
       "                    <div class=\"item_right\"     style=\"float: none; width: auto; overflow: hidden;\">\n",
       "                        <a href='https://dev003246.esri.com/portal/home/item.html?id=24873b34c1cb4843a31ad8b0d030f63a' target='_blank'><b>AGO World Location Allocation (portalproxy)</b>\n",
       "                        </a>\n",
       "                        <br/><img src='https://dev003246.esri.com/portal/home/js/jsapi/esri/css/images/item_type_icons/layers16.png' style=\"vertical-align:middle;\">Geoprocessing Toolbox by admin\n",
       "                        <br/>Last Modified: November 14, 2016\n",
       "                        <br/>0 comments, 0 views\n",
       "                    </div>\n",
       "                </div>\n",
       "                "
      ],
      "text/plain": [
       "<Item title:\"AGO World Location Allocation (portalproxy)\" type:Geoprocessing Toolbox owner:admin>"
      ]
     },
     "metadata": {},
     "output_type": "display_data"
    },
    {
     "data": {
      "text/html": [
       "<div class=\"item_container\" style=\"height: auto; overflow: hidden; border: 1px solid #cfcfcf; border-radius: 2px; background: #f6fafa; line-height: 1.21429em; padding: 10px;\">\n",
       "                    <div class=\"item_left\" style=\"width: 210px; float: left;\">\n",
       "                       <a href='https://dev003246.esri.com/portal/home/item.html?id=2485c030d0584ad6aa8715f91f33e22c' target='_blank'>\n",
       "                        <img src='https://dev003246.esri.com/portal/portalimages/desktopapp.png' class=\"itemThumbnail\">\n",
       "                       </a>\n",
       "                    </div>\n",
       "\n",
       "                    <div class=\"item_right\"     style=\"float: none; width: auto; overflow: hidden;\">\n",
       "                        <a href='https://dev003246.esri.com/portal/home/item.html?id=2485c030d0584ad6aa8715f91f33e22c' target='_blank'><b>AGO World Vehicle Routing Problem (portalproxy)</b>\n",
       "                        </a>\n",
       "                        <br/><img src='https://dev003246.esri.com/portal/home/js/jsapi/esri/css/images/item_type_icons/layers16.png' style=\"vertical-align:middle;\">Geoprocessing Toolbox by admin\n",
       "                        <br/>Last Modified: November 14, 2016\n",
       "                        <br/>0 comments, 0 views\n",
       "                    </div>\n",
       "                </div>\n",
       "                "
      ],
      "text/plain": [
       "<Item title:\"AGO World Vehicle Routing Problem (portalproxy)\" type:Geoprocessing Toolbox owner:admin>"
      ]
     },
     "metadata": {},
     "output_type": "display_data"
    },
    {
     "data": {
      "text/html": [
       "<div class=\"item_container\" style=\"height: auto; overflow: hidden; border: 1px solid #cfcfcf; border-radius: 2px; background: #f6fafa; line-height: 1.21429em; padding: 10px;\">\n",
       "                    <div class=\"item_left\" style=\"width: 210px; float: left;\">\n",
       "                       <a href='https://dev003246.esri.com/portal/home/item.html?id=0c3bab137e6042cab1ea6768ae4b405b' target='_blank'>\n",
       "                        <img src='https://dev003246.esri.com/portal/portalimages/desktopapp.png' class=\"itemThumbnail\">\n",
       "                       </a>\n",
       "                    </div>\n",
       "\n",
       "                    <div class=\"item_right\"     style=\"float: none; width: auto; overflow: hidden;\">\n",
       "                        <a href='https://dev003246.esri.com/portal/home/item.html?id=0c3bab137e6042cab1ea6768ae4b405b' target='_blank'><b>AGO World Geocoder (portalproxy)</b>\n",
       "                        </a>\n",
       "                        <br/><img src='https://dev003246.esri.com/portal/home/js/jsapi/esri/css/images/item_type_icons/layers16.png' style=\"vertical-align:middle;\">Geocoding Layer by admin\n",
       "                        <br/>Last Modified: November 14, 2016\n",
       "                        <br/>0 comments, 0 views\n",
       "                    </div>\n",
       "                </div>\n",
       "                "
      ],
      "text/plain": [
       "<Item title:\"AGO World Geocoder (portalproxy)\" type:Geocoding Layer owner:admin>"
      ]
     },
     "metadata": {},
     "output_type": "display_data"
    },
    {
     "data": {
      "text/html": [
       "<div class=\"item_container\" style=\"height: auto; overflow: hidden; border: 1px solid #cfcfcf; border-radius: 2px; background: #f6fafa; line-height: 1.21429em; padding: 10px;\">\n",
       "                    <div class=\"item_left\" style=\"width: 210px; float: left;\">\n",
       "                       <a href='https://dev003246.esri.com/portal/home/item.html?id=050c27d46b36421ab3875bb99382d960' target='_blank'>\n",
       "                        <img src='https://dev003246.esri.com/portal/portalimages/desktopapp.png' class=\"itemThumbnail\">\n",
       "                       </a>\n",
       "                    </div>\n",
       "\n",
       "                    <div class=\"item_right\"     style=\"float: none; width: auto; overflow: hidden;\">\n",
       "                        <a href='https://dev003246.esri.com/portal/home/item.html?id=050c27d46b36421ab3875bb99382d960' target='_blank'><b>AGO World Routing Utilities (portalproxy)</b>\n",
       "                        </a>\n",
       "                        <br/><img src='https://dev003246.esri.com/portal/home/js/jsapi/esri/css/images/item_type_icons/layers16.png' style=\"vertical-align:middle;\">Geoprocessing Toolbox by admin\n",
       "                        <br/>Last Modified: November 14, 2016\n",
       "                        <br/>0 comments, 0 views\n",
       "                    </div>\n",
       "                </div>\n",
       "                "
      ],
      "text/plain": [
       "<Item title:\"AGO World Routing Utilities (portalproxy)\" type:Geoprocessing Toolbox owner:admin>"
      ]
     },
     "metadata": {},
     "output_type": "display_data"
    },
    {
     "data": {
      "text/html": [
       "<div class=\"item_container\" style=\"height: auto; overflow: hidden; border: 1px solid #cfcfcf; border-radius: 2px; background: #f6fafa; line-height: 1.21429em; padding: 10px;\">\n",
       "                    <div class=\"item_left\" style=\"width: 210px; float: left;\">\n",
       "                       <a href='https://dev003246.esri.com/portal/home/item.html?id=22f899a27f014c2b89c43da3c7dd23a4' target='_blank'>\n",
       "                        <img src='https://dev003246.esri.com/portal/portalimages/desktopapp.png' class=\"itemThumbnail\">\n",
       "                       </a>\n",
       "                    </div>\n",
       "\n",
       "                    <div class=\"item_right\"     style=\"float: none; width: auto; overflow: hidden;\">\n",
       "                        <a href='https://dev003246.esri.com/portal/home/item.html?id=22f899a27f014c2b89c43da3c7dd23a4' target='_blank'><b>AGO World Traffic (portalproxy)</b>\n",
       "                        </a>\n",
       "                        <br/><img src='https://dev003246.esri.com/portal/home/js/jsapi/esri/css/images/item_type_icons/mapimages16.png' style=\"vertical-align:middle;\">Map Image Layer by admin\n",
       "                        <br/>Last Modified: November 14, 2016\n",
       "                        <br/>0 comments, 0 views\n",
       "                    </div>\n",
       "                </div>\n",
       "                "
      ],
      "text/plain": [
       "<Item title:\"AGO World Traffic (portalproxy)\" type:Map Image Layer owner:admin>"
      ]
     },
     "metadata": {},
     "output_type": "display_data"
    },
    {
     "data": {
      "text/html": [
       "<div class=\"item_container\" style=\"height: auto; overflow: hidden; border: 1px solid #cfcfcf; border-radius: 2px; background: #f6fafa; line-height: 1.21429em; padding: 10px;\">\n",
       "                    <div class=\"item_left\" style=\"width: 210px; float: left;\">\n",
       "                       <a href='https://dev003246.esri.com/portal/home/item.html?id=dad77a4c66d344d1af49f48a224ce7ea' target='_blank'>\n",
       "                        <img src='https://dev003246.esri.com/portal/portalimages/desktopapp.png' class=\"itemThumbnail\">\n",
       "                       </a>\n",
       "                    </div>\n",
       "\n",
       "                    <div class=\"item_right\"     style=\"float: none; width: auto; overflow: hidden;\">\n",
       "                        <a href='https://dev003246.esri.com/portal/home/item.html?id=dad77a4c66d344d1af49f48a224ce7ea' target='_blank'><b>AGO World Origin Destination Cost Matrix Async (portalproxy)</b>\n",
       "                        </a>\n",
       "                        <br/><img src='https://dev003246.esri.com/portal/home/js/jsapi/esri/css/images/item_type_icons/layers16.png' style=\"vertical-align:middle;\">Geoprocessing Toolbox by admin\n",
       "                        <br/>Last Modified: November 14, 2016\n",
       "                        <br/>0 comments, 0 views\n",
       "                    </div>\n",
       "                </div>\n",
       "                "
      ],
      "text/plain": [
       "<Item title:\"AGO World Origin Destination Cost Matrix Async (portalproxy)\" type:Geoprocessing Toolbox owner:admin>"
      ]
     },
     "metadata": {},
     "output_type": "display_data"
    },
    {
     "data": {
      "text/html": [
       "<div class=\"item_container\" style=\"height: auto; overflow: hidden; border: 1px solid #cfcfcf; border-radius: 2px; background: #f6fafa; line-height: 1.21429em; padding: 10px;\">\n",
       "                    <div class=\"item_left\" style=\"width: 210px; float: left;\">\n",
       "                       <a href='https://dev003246.esri.com/portal/home/item.html?id=9db29694bb894c46b49f9084bc82d716' target='_blank'>\n",
       "                        <img src='https://dev003246.esri.com/portal/portalimages/desktopapp.png' class=\"itemThumbnail\">\n",
       "                       </a>\n",
       "                    </div>\n",
       "\n",
       "                    <div class=\"item_right\"     style=\"float: none; width: auto; overflow: hidden;\">\n",
       "                        <a href='https://dev003246.esri.com/portal/home/item.html?id=9db29694bb894c46b49f9084bc82d716' target='_blank'><b>AGO World Route Async (portalproxy)</b>\n",
       "                        </a>\n",
       "                        <br/><img src='https://dev003246.esri.com/portal/home/js/jsapi/esri/css/images/item_type_icons/layers16.png' style=\"vertical-align:middle;\">Geoprocessing Toolbox by admin\n",
       "                        <br/>Last Modified: November 14, 2016\n",
       "                        <br/>0 comments, 0 views\n",
       "                    </div>\n",
       "                </div>\n",
       "                "
      ],
      "text/plain": [
       "<Item title:\"AGO World Route Async (portalproxy)\" type:Geoprocessing Toolbox owner:admin>"
      ]
     },
     "metadata": {},
     "output_type": "display_data"
    },
    {
     "data": {
      "text/html": [
       "<div class=\"item_container\" style=\"height: auto; overflow: hidden; border: 1px solid #cfcfcf; border-radius: 2px; background: #f6fafa; line-height: 1.21429em; padding: 10px;\">\n",
       "                    <div class=\"item_left\" style=\"width: 210px; float: left;\">\n",
       "                       <a href='https://dev003246.esri.com/portal/home/item.html?id=f3ea1ac70d974064879fd33054928d1a' target='_blank'>\n",
       "                        <img src='https://dev003246.esri.com/portal/portalimages/desktopapp.png' class=\"itemThumbnail\">\n",
       "                       </a>\n",
       "                    </div>\n",
       "\n",
       "                    <div class=\"item_right\"     style=\"float: none; width: auto; overflow: hidden;\">\n",
       "                        <a href='https://dev003246.esri.com/portal/home/item.html?id=f3ea1ac70d974064879fd33054928d1a' target='_blank'><b>AGO World Route (portalproxy)</b>\n",
       "                        </a>\n",
       "                        <br/><img src='https://dev003246.esri.com/portal/home/js/jsapi/esri/css/images/item_type_icons/layers16.png' style=\"vertical-align:middle;\">Network Analysis Layer by admin\n",
       "                        <br/>Last Modified: November 14, 2016\n",
       "                        <br/>0 comments, 0 views\n",
       "                    </div>\n",
       "                </div>\n",
       "                "
      ],
      "text/plain": [
       "<Item title:\"AGO World Route (portalproxy)\" type:Network Analysis Layer owner:admin>"
      ]
     },
     "metadata": {},
     "output_type": "display_data"
    },
    {
     "data": {
      "text/html": [
       "<div class=\"item_container\" style=\"height: auto; overflow: hidden; border: 1px solid #cfcfcf; border-radius: 2px; background: #f6fafa; line-height: 1.21429em; padding: 10px;\">\n",
       "                    <div class=\"item_left\" style=\"width: 210px; float: left;\">\n",
       "                       <a href='https://dev003246.esri.com/portal/home/item.html?id=fe4d008d1275433f87831083e633e983' target='_blank'>\n",
       "                        <img src='https://dev003246.esri.com/portal/portalimages/desktopapp.png' class=\"itemThumbnail\">\n",
       "                       </a>\n",
       "                    </div>\n",
       "\n",
       "                    <div class=\"item_right\"     style=\"float: none; width: auto; overflow: hidden;\">\n",
       "                        <a href='https://dev003246.esri.com/portal/home/item.html?id=fe4d008d1275433f87831083e633e983' target='_blank'><b>GeneratedRasterProduct_LI82GX</b>\n",
       "                        </a>\n",
       "                        <br/>Analysis Image Service generated from GenerateRaster<img src='https://dev003246.esri.com/portal/home/js/jsapi/esri/css/images/item_type_icons/imagery16.png' style=\"vertical-align:middle;\">Imagery Layer by admin\n",
       "                        <br/>Last Modified: March 08, 2017\n",
       "                        <br/>0 comments, 0 views\n",
       "                    </div>\n",
       "                </div>\n",
       "                "
      ],
      "text/plain": [
       "<Item title:\"GeneratedRasterProduct_LI82GX\" type:Imagery Layer owner:admin>"
      ]
     },
     "metadata": {},
     "output_type": "display_data"
    },
    {
     "data": {
      "text/html": [
       "<div class=\"item_container\" style=\"height: auto; overflow: hidden; border: 1px solid #cfcfcf; border-radius: 2px; background: #f6fafa; line-height: 1.21429em; padding: 10px;\">\n",
       "                    <div class=\"item_left\" style=\"width: 210px; float: left;\">\n",
       "                       <a href='https://dev003246.esri.com/portal/home/item.html?id=6e98876b31d94ec2be92fd23013c64ac' target='_blank'>\n",
       "                        <img src='https://dev003246.esri.com/portal/portalimages/desktopapp.png' class=\"itemThumbnail\">\n",
       "                       </a>\n",
       "                    </div>\n",
       "\n",
       "                    <div class=\"item_right\"     style=\"float: none; width: auto; overflow: hidden;\">\n",
       "                        <a href='https://dev003246.esri.com/portal/home/item.html?id=6e98876b31d94ec2be92fd23013c64ac' target='_blank'><b>GeneratedRasterProduct_0HC98H</b>\n",
       "                        </a>\n",
       "                        <br/>Analysis Image Service generated from GenerateRaster<img src='https://dev003246.esri.com/portal/home/js/jsapi/esri/css/images/item_type_icons/imagery16.png' style=\"vertical-align:middle;\">Imagery Layer by admin\n",
       "                        <br/>Last Modified: March 08, 2017\n",
       "                        <br/>0 comments, 0 views\n",
       "                    </div>\n",
       "                </div>\n",
       "                "
      ],
      "text/plain": [
       "<Item title:\"GeneratedRasterProduct_0HC98H\" type:Imagery Layer owner:admin>"
      ]
     },
     "metadata": {},
     "output_type": "display_data"
    },
    {
     "data": {
      "text/html": [
       "<div class=\"item_container\" style=\"height: auto; overflow: hidden; border: 1px solid #cfcfcf; border-radius: 2px; background: #f6fafa; line-height: 1.21429em; padding: 10px;\">\n",
       "                    <div class=\"item_left\" style=\"width: 210px; float: left;\">\n",
       "                       <a href='https://dev003246.esri.com/portal/home/item.html?id=c00528936849491d8a1d30fe50a72f08' target='_blank'>\n",
       "                        <img src='https://dev003246.esri.com/portal/portalimages/desktopapp.png' class=\"itemThumbnail\">\n",
       "                       </a>\n",
       "                    </div>\n",
       "\n",
       "                    <div class=\"item_right\"     style=\"float: none; width: auto; overflow: hidden;\">\n",
       "                        <a href='https://dev003246.esri.com/portal/home/item.html?id=c00528936849491d8a1d30fe50a72f08' target='_blank'><b>Houston_demo_1</b>\n",
       "                        </a>\n",
       "                        <br/><img src='https://dev003246.esri.com/portal/home/js/jsapi/esri/css/images/item_type_icons/featureshosted16.png' style=\"vertical-align:middle;\">Feature Layer Collection by admin\n",
       "                        <br/>Last Modified: March 09, 2017\n",
       "                        <br/>0 comments, 0 views\n",
       "                    </div>\n",
       "                </div>\n",
       "                "
      ],
      "text/plain": [
       "<Item title:\"Houston_demo_1\" type:Feature Layer Collection owner:admin>"
      ]
     },
     "metadata": {},
     "output_type": "display_data"
    },
    {
     "data": {
      "text/html": [
       "<div class=\"item_container\" style=\"height: auto; overflow: hidden; border: 1px solid #cfcfcf; border-radius: 2px; background: #f6fafa; line-height: 1.21429em; padding: 10px;\">\n",
       "                    <div class=\"item_left\" style=\"width: 210px; float: left;\">\n",
       "                       <a href='https://dev003246.esri.com/portal/home/item.html?id=04506694cb14498bb7af80687f21670e' target='_blank'>\n",
       "                        <img src='https://dev003246.esri.com/portal/portalimages/desktopapp.png' class=\"itemThumbnail\">\n",
       "                       </a>\n",
       "                    </div>\n",
       "\n",
       "                    <div class=\"item_right\"     style=\"float: none; width: auto; overflow: hidden;\">\n",
       "                        <a href='https://dev003246.esri.com/portal/home/item.html?id=04506694cb14498bb7af80687f21670e' target='_blank'><b>Houston_demo_1</b>\n",
       "                        </a>\n",
       "                        <br/><img src='https://dev003246.esri.com/portal/home/js/jsapi/esri/css/images/item_type_icons/datafiles16.png' style=\"vertical-align:middle;\">Shapefile by admin\n",
       "                        <br/>Last Modified: March 09, 2017\n",
       "                        <br/>0 comments, 1 views\n",
       "                    </div>\n",
       "                </div>\n",
       "                "
      ],
      "text/plain": [
       "<Item title:\"Houston_demo_1\" type:Shapefile owner:admin>"
      ]
     },
     "metadata": {},
     "output_type": "display_data"
    },
    {
     "data": {
      "text/html": [
       "<div class=\"item_container\" style=\"height: auto; overflow: hidden; border: 1px solid #cfcfcf; border-radius: 2px; background: #f6fafa; line-height: 1.21429em; padding: 10px;\">\n",
       "                    <div class=\"item_left\" style=\"width: 210px; float: left;\">\n",
       "                       <a href='https://dev003246.esri.com/portal/home/item.html?id=9291e32cae5349a78ee878fdf714761e' target='_blank'>\n",
       "                        <img src='https://dev003246.esri.com/portal/portalimages/desktopapp.png' class=\"itemThumbnail\">\n",
       "                       </a>\n",
       "                    </div>\n",
       "\n",
       "                    <div class=\"item_right\"     style=\"float: none; width: auto; overflow: hidden;\">\n",
       "                        <a href='https://dev003246.esri.com/portal/home/item.html?id=9291e32cae5349a78ee878fdf714761e' target='_blank'><b>Houston_demo_2</b>\n",
       "                        </a>\n",
       "                        <br/><img src='https://dev003246.esri.com/portal/home/js/jsapi/esri/css/images/item_type_icons/featureshosted16.png' style=\"vertical-align:middle;\">Feature Layer Collection by admin\n",
       "                        <br/>Last Modified: March 09, 2017\n",
       "                        <br/>0 comments, 0 views\n",
       "                    </div>\n",
       "                </div>\n",
       "                "
      ],
      "text/plain": [
       "<Item title:\"Houston_demo_2\" type:Feature Layer Collection owner:admin>"
      ]
     },
     "metadata": {},
     "output_type": "display_data"
    },
    {
     "data": {
      "text/html": [
       "<div class=\"item_container\" style=\"height: auto; overflow: hidden; border: 1px solid #cfcfcf; border-radius: 2px; background: #f6fafa; line-height: 1.21429em; padding: 10px;\">\n",
       "                    <div class=\"item_left\" style=\"width: 210px; float: left;\">\n",
       "                       <a href='https://dev003246.esri.com/portal/home/item.html?id=d37867dd6a9f4efeb4c3f440df3bda8b' target='_blank'>\n",
       "                        <img src='https://dev003246.esri.com/portal/portalimages/desktopapp.png' class=\"itemThumbnail\">\n",
       "                       </a>\n",
       "                    </div>\n",
       "\n",
       "                    <div class=\"item_right\"     style=\"float: none; width: auto; overflow: hidden;\">\n",
       "                        <a href='https://dev003246.esri.com/portal/home/item.html?id=d37867dd6a9f4efeb4c3f440df3bda8b' target='_blank'><b>GeneratedRasterProduct_J7LC6Q</b>\n",
       "                        </a>\n",
       "                        <br/>Analysis Image Service generated from GenerateRaster<img src='https://dev003246.esri.com/portal/home/js/jsapi/esri/css/images/item_type_icons/imagery16.png' style=\"vertical-align:middle;\">Imagery Layer by admin\n",
       "                        <br/>Last Modified: March 08, 2017\n",
       "                        <br/>0 comments, 0 views\n",
       "                    </div>\n",
       "                </div>\n",
       "                "
      ],
      "text/plain": [
       "<Item title:\"GeneratedRasterProduct_J7LC6Q\" type:Imagery Layer owner:admin>"
      ]
     },
     "metadata": {},
     "output_type": "display_data"
    },
    {
     "data": {
      "text/html": [
       "<div class=\"item_container\" style=\"height: auto; overflow: hidden; border: 1px solid #cfcfcf; border-radius: 2px; background: #f6fafa; line-height: 1.21429em; padding: 10px;\">\n",
       "                    <div class=\"item_left\" style=\"width: 210px; float: left;\">\n",
       "                       <a href='https://dev003246.esri.com/portal/home/item.html?id=efbd08ee48c14ce687f815e3cd2b1e0d' target='_blank'>\n",
       "                        <img src='https://dev003246.esri.com/portal/portalimages/desktopapp.png' class=\"itemThumbnail\">\n",
       "                       </a>\n",
       "                    </div>\n",
       "\n",
       "                    <div class=\"item_right\"     style=\"float: none; width: auto; overflow: hidden;\">\n",
       "                        <a href='https://dev003246.esri.com/portal/home/item.html?id=efbd08ee48c14ce687f815e3cd2b1e0d' target='_blank'><b>Aggregate_Points_Analysis_89YTA9</b>\n",
       "                        </a>\n",
       "                        <br/>Aggregate Points Analysis_89YTA9<img src='https://dev003246.esri.com/portal/home/js/jsapi/esri/css/images/item_type_icons/featureshosted16.png' style=\"vertical-align:middle;\">Feature Layer Collection by admin\n",
       "                        <br/>Last Modified: March 09, 2017\n",
       "                        <br/>0 comments, 0 views\n",
       "                    </div>\n",
       "                </div>\n",
       "                "
      ],
      "text/plain": [
       "<Item title:\"Aggregate_Points_Analysis_89YTA9\" type:Feature Layer Collection owner:admin>"
      ]
     },
     "metadata": {},
     "output_type": "display_data"
    },
    {
     "data": {
      "text/html": [
       "<div class=\"item_container\" style=\"height: auto; overflow: hidden; border: 1px solid #cfcfcf; border-radius: 2px; background: #f6fafa; line-height: 1.21429em; padding: 10px;\">\n",
       "                    <div class=\"item_left\" style=\"width: 210px; float: left;\">\n",
       "                       <a href='https://dev003246.esri.com/portal/home/item.html?id=2e03b8054b60463b838a361ff10d4554' target='_blank'>\n",
       "                        <img src='https://dev003246.esri.com/portal/portalimages/desktopapp.png' class=\"itemThumbnail\">\n",
       "                       </a>\n",
       "                    </div>\n",
       "\n",
       "                    <div class=\"item_right\"     style=\"float: none; width: auto; overflow: hidden;\">\n",
       "                        <a href='https://dev003246.esri.com/portal/home/item.html?id=2e03b8054b60463b838a361ff10d4554' target='_blank'><b>Houston_demo_2</b>\n",
       "                        </a>\n",
       "                        <br/><img src='https://dev003246.esri.com/portal/home/js/jsapi/esri/css/images/item_type_icons/datafiles16.png' style=\"vertical-align:middle;\">Shapefile by admin\n",
       "                        <br/>Last Modified: March 09, 2017\n",
       "                        <br/>0 comments, 1 views\n",
       "                    </div>\n",
       "                </div>\n",
       "                "
      ],
      "text/plain": [
       "<Item title:\"Houston_demo_2\" type:Shapefile owner:admin>"
      ]
     },
     "metadata": {},
     "output_type": "display_data"
    },
    {
     "data": {
      "text/html": [
       "<div class=\"item_container\" style=\"height: auto; overflow: hidden; border: 1px solid #cfcfcf; border-radius: 2px; background: #f6fafa; line-height: 1.21429em; padding: 10px;\">\n",
       "                    <div class=\"item_left\" style=\"width: 210px; float: left;\">\n",
       "                       <a href='https://dev003246.esri.com/portal/home/item.html?id=2b937150e4ca41088d28cb09388c456d' target='_blank'>\n",
       "                        <img src='https://dev003246.esri.com/portal/portalimages/desktopapp.png' class=\"itemThumbnail\">\n",
       "                       </a>\n",
       "                    </div>\n",
       "\n",
       "                    <div class=\"item_right\"     style=\"float: none; width: auto; overflow: hidden;\">\n",
       "                        <a href='https://dev003246.esri.com/portal/home/item.html?id=2b937150e4ca41088d28cb09388c456d' target='_blank'><b>GeneratedRasterProduct_J4GOMN</b>\n",
       "                        </a>\n",
       "                        <br/>Analysis Image Service generated from GenerateRaster<img src='https://dev003246.esri.com/portal/home/js/jsapi/esri/css/images/item_type_icons/imagery16.png' style=\"vertical-align:middle;\">Imagery Layer by admin\n",
       "                        <br/>Last Modified: March 10, 2017\n",
       "                        <br/>0 comments, 0 views\n",
       "                    </div>\n",
       "                </div>\n",
       "                "
      ],
      "text/plain": [
       "<Item title:\"GeneratedRasterProduct_J4GOMN\" type:Imagery Layer owner:admin>"
      ]
     },
     "metadata": {},
     "output_type": "display_data"
    },
    {
     "data": {
      "text/html": [
       "<div class=\"item_container\" style=\"height: auto; overflow: hidden; border: 1px solid #cfcfcf; border-radius: 2px; background: #f6fafa; line-height: 1.21429em; padding: 10px;\">\n",
       "                    <div class=\"item_left\" style=\"width: 210px; float: left;\">\n",
       "                       <a href='https://dev003246.esri.com/portal/home/item.html?id=66cc95660d1c477fa3a3c762d39d2c40' target='_blank'>\n",
       "                        <img src='https://dev003246.esri.com/portal/portalimages/desktopapp.png' class=\"itemThumbnail\">\n",
       "                       </a>\n",
       "                    </div>\n",
       "\n",
       "                    <div class=\"item_right\"     style=\"float: none; width: auto; overflow: hidden;\">\n",
       "                        <a href='https://dev003246.esri.com/portal/home/item.html?id=66cc95660d1c477fa3a3c762d39d2c40' target='_blank'><b>Hotspot_Analysis_EON30C</b>\n",
       "                        </a>\n",
       "                        <br/>Hotspot Analysis_EON30C<img src='https://dev003246.esri.com/portal/home/js/jsapi/esri/css/images/item_type_icons/featureshosted16.png' style=\"vertical-align:middle;\">Feature Layer Collection by admin\n",
       "                        <br/>Last Modified: March 09, 2017\n",
       "                        <br/>0 comments, 0 views\n",
       "                    </div>\n",
       "                </div>\n",
       "                "
      ],
      "text/plain": [
       "<Item title:\"Hotspot_Analysis_EON30C\" type:Feature Layer Collection owner:admin>"
      ]
     },
     "metadata": {},
     "output_type": "display_data"
    },
    {
     "data": {
      "text/html": [
       "<div class=\"item_container\" style=\"height: auto; overflow: hidden; border: 1px solid #cfcfcf; border-radius: 2px; background: #f6fafa; line-height: 1.21429em; padding: 10px;\">\n",
       "                    <div class=\"item_left\" style=\"width: 210px; float: left;\">\n",
       "                       <a href='https://dev003246.esri.com/portal/home/item.html?id=2202122eb6704794b93b276018b49480' target='_blank'>\n",
       "                        <img src='https://dev003246.esri.com/portal/portalimages/desktopapp.png' class=\"itemThumbnail\">\n",
       "                       </a>\n",
       "                    </div>\n",
       "\n",
       "                    <div class=\"item_right\"     style=\"float: none; width: auto; overflow: hidden;\">\n",
       "                        <a href='https://dev003246.esri.com/portal/home/item.html?id=2202122eb6704794b93b276018b49480' target='_blank'><b>Aggregate_Points_Analysis_XMF81B</b>\n",
       "                        </a>\n",
       "                        <br/>Aggregate Points Analysis_XMF81B<img src='https://dev003246.esri.com/portal/home/js/jsapi/esri/css/images/item_type_icons/featureshosted16.png' style=\"vertical-align:middle;\">Feature Layer Collection by admin\n",
       "                        <br/>Last Modified: March 09, 2017\n",
       "                        <br/>0 comments, 0 views\n",
       "                    </div>\n",
       "                </div>\n",
       "                "
      ],
      "text/plain": [
       "<Item title:\"Aggregate_Points_Analysis_XMF81B\" type:Feature Layer Collection owner:admin>"
      ]
     },
     "metadata": {},
     "output_type": "display_data"
    },
    {
     "data": {
      "text/html": [
       "<div class=\"item_container\" style=\"height: auto; overflow: hidden; border: 1px solid #cfcfcf; border-radius: 2px; background: #f6fafa; line-height: 1.21429em; padding: 10px;\">\n",
       "                    <div class=\"item_left\" style=\"width: 210px; float: left;\">\n",
       "                       <a href='https://dev003246.esri.com/portal/home/item.html?id=37352cdfed154c0da675df233566113c' target='_blank'>\n",
       "                        <img src='https://dev003246.esri.com/portal/portalimages/desktopapp.png' class=\"itemThumbnail\">\n",
       "                       </a>\n",
       "                    </div>\n",
       "\n",
       "                    <div class=\"item_right\"     style=\"float: none; width: auto; overflow: hidden;\">\n",
       "                        <a href='https://dev003246.esri.com/portal/home/item.html?id=37352cdfed154c0da675df233566113c' target='_blank'><b>Hotspot_Analysis_C3R2W9</b>\n",
       "                        </a>\n",
       "                        <br/>Hotspot Analysis_C3R2W9<img src='https://dev003246.esri.com/portal/home/js/jsapi/esri/css/images/item_type_icons/featureshosted16.png' style=\"vertical-align:middle;\">Feature Layer Collection by admin\n",
       "                        <br/>Last Modified: March 09, 2017\n",
       "                        <br/>0 comments, 0 views\n",
       "                    </div>\n",
       "                </div>\n",
       "                "
      ],
      "text/plain": [
       "<Item title:\"Hotspot_Analysis_C3R2W9\" type:Feature Layer Collection owner:admin>"
      ]
     },
     "metadata": {},
     "output_type": "display_data"
    },
    {
     "data": {
      "text/html": [
       "<div class=\"item_container\" style=\"height: auto; overflow: hidden; border: 1px solid #cfcfcf; border-radius: 2px; background: #f6fafa; line-height: 1.21429em; padding: 10px;\">\n",
       "                    <div class=\"item_left\" style=\"width: 210px; float: left;\">\n",
       "                       <a href='https://dev003246.esri.com/portal/home/item.html?id=d18208c1579a4d81aa161ee84e013038' target='_blank'>\n",
       "                        <img src='https://dev003246.esri.com/portal/portalimages/desktopapp.png' class=\"itemThumbnail\">\n",
       "                       </a>\n",
       "                    </div>\n",
       "\n",
       "                    <div class=\"item_right\"     style=\"float: none; width: auto; overflow: hidden;\">\n",
       "                        <a href='https://dev003246.esri.com/portal/home/item.html?id=d18208c1579a4d81aa161ee84e013038' target='_blank'><b>GeneratedRasterProduct_36653T</b>\n",
       "                        </a>\n",
       "                        <br/>Analysis Image Service generated from GenerateRaster<img src='https://dev003246.esri.com/portal/home/js/jsapi/esri/css/images/item_type_icons/imagery16.png' style=\"vertical-align:middle;\">Imagery Layer by admin\n",
       "                        <br/>Last Modified: March 10, 2017\n",
       "                        <br/>0 comments, 0 views\n",
       "                    </div>\n",
       "                </div>\n",
       "                "
      ],
      "text/plain": [
       "<Item title:\"GeneratedRasterProduct_36653T\" type:Imagery Layer owner:admin>"
      ]
     },
     "metadata": {},
     "output_type": "display_data"
    },
    {
     "data": {
      "text/html": [
       "<div class=\"item_container\" style=\"height: auto; overflow: hidden; border: 1px solid #cfcfcf; border-radius: 2px; background: #f6fafa; line-height: 1.21429em; padding: 10px;\">\n",
       "                    <div class=\"item_left\" style=\"width: 210px; float: left;\">\n",
       "                       <a href='https://dev003246.esri.com/portal/home/item.html?id=81c7820b2f5a4cdbbdf9a318c704256b' target='_blank'>\n",
       "                        <img src='data:image/png;base64,iVBORw0KGgoAAAANSUhEUgAAAMgAAACFCAIAAACR/CB7AAAA/klEQVR42u3SMQ0AAAzDsPIn3aKY9tgQoqRwIBJgLIyFscBYGAtjgbEwFsYCY2EsjAXGwlgYC4yFsTAWGAtjYSwwFsbCWGAsjIWxwFgYC2OBsTAWxgJjYSyMBcbCWBgLjIWxMBYYC2NhLDAWxsJYYCyMhbHAWBgLY4GxMBbGAmNhLIwFxsJYGAuMhbEwFhgLY2EsMBbGwlhgLIyFscBYGAtjgbEwFsYCY2EsjAXGwlgYC2OBsTAWxgJjYSyMBcbCWBgLjIWxMBYYC2NhLDAWxsJYYCyMhbHAWBgLY4GxMBbGAmNhLIwFxsJYGAuMhbEwFhgLY2EsMBbGwlhgLF4NXs2ScxE8thIAAAAASUVORK5CYII=' width='200' height='133' class=\"itemThumbnail\">\n",
       "                       </a>\n",
       "                    </div>\n",
       "\n",
       "                    <div class=\"item_right\"     style=\"float: none; width: auto; overflow: hidden;\">\n",
       "                        <a href='https://dev003246.esri.com/portal/home/item.html?id=81c7820b2f5a4cdbbdf9a318c704256b' target='_blank'><b>basemap2</b>\n",
       "                        </a>\n",
       "                        <br/>for use as basemap<img src='https://dev003246.esri.com/portal/home/js/jsapi/esri/css/images/item_type_icons/maps16.png' style=\"vertical-align:middle;\">Web Map by admin\n",
       "                        <br/>Last Modified: November 17, 2016\n",
       "                        <br/>0 comments, 3 views\n",
       "                    </div>\n",
       "                </div>\n",
       "                "
      ],
      "text/plain": [
       "<Item title:\"basemap2\" type:Web Map owner:admin>"
      ]
     },
     "metadata": {},
     "output_type": "display_data"
    },
    {
     "data": {
      "text/html": [
       "<div class=\"item_container\" style=\"height: auto; overflow: hidden; border: 1px solid #cfcfcf; border-radius: 2px; background: #f6fafa; line-height: 1.21429em; padding: 10px;\">\n",
       "                    <div class=\"item_left\" style=\"width: 210px; float: left;\">\n",
       "                       <a href='https://dev003246.esri.com/portal/home/item.html?id=d6301fcf77e24fd4b37a12b5c85167e7' target='_blank'>\n",
       "                        <img src='https://dev003246.esri.com/portal/portalimages/desktopapp.png' class=\"itemThumbnail\">\n",
       "                       </a>\n",
       "                    </div>\n",
       "\n",
       "                    <div class=\"item_right\"     style=\"float: none; width: auto; overflow: hidden;\">\n",
       "                        <a href='https://dev003246.esri.com/portal/home/item.html?id=d6301fcf77e24fd4b37a12b5c85167e7' target='_blank'><b>bigDataFileShares_hurricanes_1m_168yrs</b>\n",
       "                        </a>\n",
       "                        <br/><img src='https://dev003246.esri.com/portal/home/js/jsapi/esri/css/images/item_type_icons/layers16.png' style=\"vertical-align:middle;\">Big Data File Share by admin\n",
       "                        <br/>Last Modified: November 21, 2016\n",
       "                        <br/>0 comments, 0 views\n",
       "                    </div>\n",
       "                </div>\n",
       "                "
      ],
      "text/plain": [
       "<Item title:\"bigDataFileShares_hurricanes_1m_168yrs\" type:Big Data File Share owner:admin>"
      ]
     },
     "metadata": {},
     "output_type": "display_data"
    },
    {
     "data": {
      "text/html": [
       "<div class=\"item_container\" style=\"height: auto; overflow: hidden; border: 1px solid #cfcfcf; border-radius: 2px; background: #f6fafa; line-height: 1.21429em; padding: 10px;\">\n",
       "                    <div class=\"item_left\" style=\"width: 210px; float: left;\">\n",
       "                       <a href='https://dev003246.esri.com/portal/home/item.html?id=3363093d4c1e4631b62561a6a8a5bb68' target='_blank'>\n",
       "                        <img src='https://dev003246.esri.com/portal/portalimages/desktopapp.png' class=\"itemThumbnail\">\n",
       "                       </a>\n",
       "                    </div>\n",
       "\n",
       "                    <div class=\"item_right\"     style=\"float: none; width: auto; overflow: hidden;\">\n",
       "                        <a href='https://dev003246.esri.com/portal/home/item.html?id=3363093d4c1e4631b62561a6a8a5bb68' target='_blank'><b>bigDataFileShares_hurricanes_all</b>\n",
       "                        </a>\n",
       "                        <br/><img src='https://dev003246.esri.com/portal/home/js/jsapi/esri/css/images/item_type_icons/layers16.png' style=\"vertical-align:middle;\">Big Data File Share by admin\n",
       "                        <br/>Last Modified: November 21, 2016\n",
       "                        <br/>0 comments, 0 views\n",
       "                    </div>\n",
       "                </div>\n",
       "                "
      ],
      "text/plain": [
       "<Item title:\"bigDataFileShares_hurricanes_all\" type:Big Data File Share owner:admin>"
      ]
     },
     "metadata": {},
     "output_type": "display_data"
    },
    {
     "data": {
      "text/html": [
       "<div class=\"item_container\" style=\"height: auto; overflow: hidden; border: 1px solid #cfcfcf; border-radius: 2px; background: #f6fafa; line-height: 1.21429em; padding: 10px;\">\n",
       "                    <div class=\"item_left\" style=\"width: 210px; float: left;\">\n",
       "                       <a href='https://dev003246.esri.com/portal/home/item.html?id=e476944bc7dd4ad48a676f1bf0304e2f' target='_blank'>\n",
       "                        <img src='https://dev003246.esri.com/portal/portalimages/desktopapp.png' class=\"itemThumbnail\">\n",
       "                       </a>\n",
       "                    </div>\n",
       "\n",
       "                    <div class=\"item_right\"     style=\"float: none; width: auto; overflow: hidden;\">\n",
       "                        <a href='https://dev003246.esri.com/portal/home/item.html?id=e476944bc7dd4ad48a676f1bf0304e2f' target='_blank'><b>bigDataFileShares_hurricanes</b>\n",
       "                        </a>\n",
       "                        <br/><img src='https://dev003246.esri.com/portal/home/js/jsapi/esri/css/images/item_type_icons/layers16.png' style=\"vertical-align:middle;\">Big Data File Share by admin\n",
       "                        <br/>Last Modified: November 21, 2016\n",
       "                        <br/>0 comments, 0 views\n",
       "                    </div>\n",
       "                </div>\n",
       "                "
      ],
      "text/plain": [
       "<Item title:\"bigDataFileShares_hurricanes\" type:Big Data File Share owner:admin>"
      ]
     },
     "metadata": {},
     "output_type": "display_data"
    },
    {
     "data": {
      "text/html": [
       "<div class=\"item_container\" style=\"height: auto; overflow: hidden; border: 1px solid #cfcfcf; border-radius: 2px; background: #f6fafa; line-height: 1.21429em; padding: 10px;\">\n",
       "                    <div class=\"item_left\" style=\"width: 210px; float: left;\">\n",
       "                       <a href='https://dev003246.esri.com/portal/home/item.html?id=4176890888b748dc95559f9371564269' target='_blank'>\n",
       "                        <img src='https://dev003246.esri.com/portal/portalimages/desktopapp.png' class=\"itemThumbnail\">\n",
       "                       </a>\n",
       "                    </div>\n",
       "\n",
       "                    <div class=\"item_right\"     style=\"float: none; width: auto; overflow: hidden;\">\n",
       "                        <a href='https://dev003246.esri.com/portal/home/item.html?id=4176890888b748dc95559f9371564269' target='_blank'><b>Reconstructed_Tracks_F19959</b>\n",
       "                        </a>\n",
       "                        <br/>Reconstructed Tracks_F19959<img src='https://dev003246.esri.com/portal/home/js/jsapi/esri/css/images/item_type_icons/featureshosted16.png' style=\"vertical-align:middle;\">Feature Layer Collection by admin\n",
       "                        <br/>Last Modified: November 26, 2016\n",
       "                        <br/>0 comments, 0 views\n",
       "                    </div>\n",
       "                </div>\n",
       "                "
      ],
      "text/plain": [
       "<Item title:\"Reconstructed_Tracks_F19959\" type:Feature Layer Collection owner:admin>"
      ]
     },
     "metadata": {},
     "output_type": "display_data"
    },
    {
     "data": {
      "text/html": [
       "<div class=\"item_container\" style=\"height: auto; overflow: hidden; border: 1px solid #cfcfcf; border-radius: 2px; background: #f6fafa; line-height: 1.21429em; padding: 10px;\">\n",
       "                    <div class=\"item_left\" style=\"width: 210px; float: left;\">\n",
       "                       <a href='https://dev003246.esri.com/portal/home/item.html?id=844df7bb40d549978da17bc22ffbbca6' target='_blank'>\n",
       "                        <img src='https://dev003246.esri.com/portal/portalimages/desktopapp.png' class=\"itemThumbnail\">\n",
       "                       </a>\n",
       "                    </div>\n",
       "\n",
       "                    <div class=\"item_right\"     style=\"float: none; width: auto; overflow: hidden;\">\n",
       "                        <a href='https://dev003246.esri.com/portal/home/item.html?id=844df7bb40d549978da17bc22ffbbca6' target='_blank'><b>Aggregate_Points_Analysis_ZU299Y</b>\n",
       "                        </a>\n",
       "                        <br/>Aggregate Points Analysis_ZU299Y<img src='https://dev003246.esri.com/portal/home/js/jsapi/esri/css/images/item_type_icons/featureshosted16.png' style=\"vertical-align:middle;\">Feature Layer Collection by admin\n",
       "                        <br/>Last Modified: November 26, 2016\n",
       "                        <br/>0 comments, 0 views\n",
       "                    </div>\n",
       "                </div>\n",
       "                "
      ],
      "text/plain": [
       "<Item title:\"Aggregate_Points_Analysis_ZU299Y\" type:Feature Layer Collection owner:admin>"
      ]
     },
     "metadata": {},
     "output_type": "display_data"
    },
    {
     "data": {
      "text/html": [
       "<div class=\"item_container\" style=\"height: auto; overflow: hidden; border: 1px solid #cfcfcf; border-radius: 2px; background: #f6fafa; line-height: 1.21429em; padding: 10px;\">\n",
       "                    <div class=\"item_left\" style=\"width: 210px; float: left;\">\n",
       "                       <a href='https://dev003246.esri.com/portal/home/item.html?id=76e4e2c64cb04f5b8f4c921310ec4167' target='_blank'>\n",
       "                        <img src='https://dev003246.esri.com/portal/portalimages/desktopapp.png' class=\"itemThumbnail\">\n",
       "                       </a>\n",
       "                    </div>\n",
       "\n",
       "                    <div class=\"item_right\"     style=\"float: none; width: auto; overflow: hidden;\">\n",
       "                        <a href='https://dev003246.esri.com/portal/home/item.html?id=76e4e2c64cb04f5b8f4c921310ec4167' target='_blank'><b>Reconstructed_Tracks_9DUB0K</b>\n",
       "                        </a>\n",
       "                        <br/>Reconstructed Tracks_9DUB0K<img src='https://dev003246.esri.com/portal/home/js/jsapi/esri/css/images/item_type_icons/featureshosted16.png' style=\"vertical-align:middle;\">Feature Layer Collection by admin\n",
       "                        <br/>Last Modified: November 26, 2016\n",
       "                        <br/>0 comments, 0 views\n",
       "                    </div>\n",
       "                </div>\n",
       "                "
      ],
      "text/plain": [
       "<Item title:\"Reconstructed_Tracks_9DUB0K\" type:Feature Layer Collection owner:admin>"
      ]
     },
     "metadata": {},
     "output_type": "display_data"
    },
    {
     "data": {
      "text/html": [
       "<div class=\"item_container\" style=\"height: auto; overflow: hidden; border: 1px solid #cfcfcf; border-radius: 2px; background: #f6fafa; line-height: 1.21429em; padding: 10px;\">\n",
       "                    <div class=\"item_left\" style=\"width: 210px; float: left;\">\n",
       "                       <a href='https://dev003246.esri.com/portal/home/item.html?id=3e80e9f20b4d4854b5c5eef583b464f6' target='_blank'>\n",
       "                        <img src='https://dev003246.esri.com/portal/portalimages/desktopapp.png' class=\"itemThumbnail\">\n",
       "                       </a>\n",
       "                    </div>\n",
       "\n",
       "                    <div class=\"item_right\"     style=\"float: none; width: auto; overflow: hidden;\">\n",
       "                        <a href='https://dev003246.esri.com/portal/home/item.html?id=3e80e9f20b4d4854b5c5eef583b464f6' target='_blank'><b>GeneratedRasterProduct_MWVYO7</b>\n",
       "                        </a>\n",
       "                        <br/>Analysis Image Service generated from GenerateRaster<img src='https://dev003246.esri.com/portal/home/js/jsapi/esri/css/images/item_type_icons/imagery16.png' style=\"vertical-align:middle;\">Imagery Layer by admin\n",
       "                        <br/>Last Modified: November 26, 2016\n",
       "                        <br/>0 comments, 0 views\n",
       "                    </div>\n",
       "                </div>\n",
       "                "
      ],
      "text/plain": [
       "<Item title:\"GeneratedRasterProduct_MWVYO7\" type:Imagery Layer owner:admin>"
      ]
     },
     "metadata": {},
     "output_type": "display_data"
    },
    {
     "data": {
      "text/html": [
       "<div class=\"item_container\" style=\"height: auto; overflow: hidden; border: 1px solid #cfcfcf; border-radius: 2px; background: #f6fafa; line-height: 1.21429em; padding: 10px;\">\n",
       "                    <div class=\"item_left\" style=\"width: 210px; float: left;\">\n",
       "                       <a href='https://dev003246.esri.com/portal/home/item.html?id=1e96dd78c1a841bd9922e0d6e1c9eb4f' target='_blank'>\n",
       "                        <img src='https://dev003246.esri.com/portal/portalimages/desktopapp.png' class=\"itemThumbnail\">\n",
       "                       </a>\n",
       "                    </div>\n",
       "\n",
       "                    <div class=\"item_right\"     style=\"float: none; width: auto; overflow: hidden;\">\n",
       "                        <a href='https://dev003246.esri.com/portal/home/item.html?id=1e96dd78c1a841bd9922e0d6e1c9eb4f' target='_blank'><b>Montana_Fires</b>\n",
       "                        </a>\n",
       "                        <br/>Analysis Image Service generated from GenerateRaster<img src='https://dev003246.esri.com/portal/home/js/jsapi/esri/css/images/item_type_icons/imagery16.png' style=\"vertical-align:middle;\">Imagery Layer by admin\n",
       "                        <br/>Last Modified: November 26, 2016\n",
       "                        <br/>0 comments, 0 views\n",
       "                    </div>\n",
       "                </div>\n",
       "                "
      ],
      "text/plain": [
       "<Item title:\"Montana_Fires\" type:Imagery Layer owner:admin>"
      ]
     },
     "metadata": {},
     "output_type": "display_data"
    },
    {
     "data": {
      "text/html": [
       "<div class=\"item_container\" style=\"height: auto; overflow: hidden; border: 1px solid #cfcfcf; border-radius: 2px; background: #f6fafa; line-height: 1.21429em; padding: 10px;\">\n",
       "                    <div class=\"item_left\" style=\"width: 210px; float: left;\">\n",
       "                       <a href='https://dev003246.esri.com/portal/home/item.html?id=8d677c6b338b4d36a74159443d9282cf' target='_blank'>\n",
       "                        <img src='https://dev003246.esri.com/portal/portalimages/desktopapp.png' class=\"itemThumbnail\">\n",
       "                       </a>\n",
       "                    </div>\n",
       "\n",
       "                    <div class=\"item_right\"     style=\"float: none; width: auto; overflow: hidden;\">\n",
       "                        <a href='https://dev003246.esri.com/portal/home/item.html?id=8d677c6b338b4d36a74159443d9282cf' target='_blank'><b>GeneratedRasterProduct_QOEHJE</b>\n",
       "                        </a>\n",
       "                        <br/>Analysis Image Service generated from GenerateRaster<img src='https://dev003246.esri.com/portal/home/js/jsapi/esri/css/images/item_type_icons/imagery16.png' style=\"vertical-align:middle;\">Imagery Layer by admin\n",
       "                        <br/>Last Modified: November 27, 2016\n",
       "                        <br/>0 comments, 0 views\n",
       "                    </div>\n",
       "                </div>\n",
       "                "
      ],
      "text/plain": [
       "<Item title:\"GeneratedRasterProduct_QOEHJE\" type:Imagery Layer owner:admin>"
      ]
     },
     "metadata": {},
     "output_type": "display_data"
    },
    {
     "data": {
      "text/html": [
       "<div class=\"item_container\" style=\"height: auto; overflow: hidden; border: 1px solid #cfcfcf; border-radius: 2px; background: #f6fafa; line-height: 1.21429em; padding: 10px;\">\n",
       "                    <div class=\"item_left\" style=\"width: 210px; float: left;\">\n",
       "                       <a href='https://dev003246.esri.com/portal/home/item.html?id=57760c5151964ce5981cab517ef1ded7' target='_blank'>\n",
       "                        <img src='https://dev003246.esri.com/portal/portalimages/desktopapp.png' class=\"itemThumbnail\">\n",
       "                       </a>\n",
       "                    </div>\n",
       "\n",
       "                    <div class=\"item_right\"     style=\"float: none; width: auto; overflow: hidden;\">\n",
       "                        <a href='https://dev003246.esri.com/portal/home/item.html?id=57760c5151964ce5981cab517ef1ded7' target='_blank'><b>GeneratedRasterProduct_L5K0YV</b>\n",
       "                        </a>\n",
       "                        <br/>Analysis Image Service generated from GenerateRaster<img src='https://dev003246.esri.com/portal/home/js/jsapi/esri/css/images/item_type_icons/imagery16.png' style=\"vertical-align:middle;\">Imagery Layer by admin\n",
       "                        <br/>Last Modified: November 27, 2016\n",
       "                        <br/>0 comments, 0 views\n",
       "                    </div>\n",
       "                </div>\n",
       "                "
      ],
      "text/plain": [
       "<Item title:\"GeneratedRasterProduct_L5K0YV\" type:Imagery Layer owner:admin>"
      ]
     },
     "metadata": {},
     "output_type": "display_data"
    },
    {
     "data": {
      "text/html": [
       "<div class=\"item_container\" style=\"height: auto; overflow: hidden; border: 1px solid #cfcfcf; border-radius: 2px; background: #f6fafa; line-height: 1.21429em; padding: 10px;\">\n",
       "                    <div class=\"item_left\" style=\"width: 210px; float: left;\">\n",
       "                       <a href='https://dev003246.esri.com/portal/home/item.html?id=faf2453bac964447a8423f016bd7aaae' target='_blank'>\n",
       "                        <img src='https://dev003246.esri.com/portal/portalimages/desktopapp.png' class=\"itemThumbnail\">\n",
       "                       </a>\n",
       "                    </div>\n",
       "\n",
       "                    <div class=\"item_right\"     style=\"float: none; width: auto; overflow: hidden;\">\n",
       "                        <a href='https://dev003246.esri.com/portal/home/item.html?id=faf2453bac964447a8423f016bd7aaae' target='_blank'><b>GeneratedRasterProduct_A3M9W4</b>\n",
       "                        </a>\n",
       "                        <br/>Analysis Image Service generated from GenerateRaster<img src='https://dev003246.esri.com/portal/home/js/jsapi/esri/css/images/item_type_icons/imagery16.png' style=\"vertical-align:middle;\">Imagery Layer by admin\n",
       "                        <br/>Last Modified: November 27, 2016\n",
       "                        <br/>0 comments, 0 views\n",
       "                    </div>\n",
       "                </div>\n",
       "                "
      ],
      "text/plain": [
       "<Item title:\"GeneratedRasterProduct_A3M9W4\" type:Imagery Layer owner:admin>"
      ]
     },
     "metadata": {},
     "output_type": "display_data"
    },
    {
     "data": {
      "text/html": [
       "<div class=\"item_container\" style=\"height: auto; overflow: hidden; border: 1px solid #cfcfcf; border-radius: 2px; background: #f6fafa; line-height: 1.21429em; padding: 10px;\">\n",
       "                    <div class=\"item_left\" style=\"width: 210px; float: left;\">\n",
       "                       <a href='https://dev003246.esri.com/portal/home/item.html?id=4b77d1727f0743eb893411f25fe73db3' target='_blank'>\n",
       "                        <img src='https://dev003246.esri.com/portal/portalimages/desktopapp.png' class=\"itemThumbnail\">\n",
       "                       </a>\n",
       "                    </div>\n",
       "\n",
       "                    <div class=\"item_right\"     style=\"float: none; width: auto; overflow: hidden;\">\n",
       "                        <a href='https://dev003246.esri.com/portal/home/item.html?id=4b77d1727f0743eb893411f25fe73db3' target='_blank'><b>fire_extent</b>\n",
       "                        </a>\n",
       "                        <br/>Analysis Image Service generated from Extract Raster Data<img src='https://dev003246.esri.com/portal/home/js/jsapi/esri/css/images/item_type_icons/imagery16.png' style=\"vertical-align:middle;\">Imagery Layer by admin\n",
       "                        <br/>Last Modified: November 27, 2016\n",
       "                        <br/>0 comments, 0 views\n",
       "                    </div>\n",
       "                </div>\n",
       "                "
      ],
      "text/plain": [
       "<Item title:\"fire_extent\" type:Imagery Layer owner:admin>"
      ]
     },
     "metadata": {},
     "output_type": "display_data"
    },
    {
     "data": {
      "text/html": [
       "<div class=\"item_container\" style=\"height: auto; overflow: hidden; border: 1px solid #cfcfcf; border-radius: 2px; background: #f6fafa; line-height: 1.21429em; padding: 10px;\">\n",
       "                    <div class=\"item_left\" style=\"width: 210px; float: left;\">\n",
       "                       <a href='https://dev003246.esri.com/portal/home/item.html?id=6030de738a764d45a499d47a46ec5aa6' target='_blank'>\n",
       "                        <img src='https://dev003246.esri.com/portal/portalimages/desktopapp.png' class=\"itemThumbnail\">\n",
       "                       </a>\n",
       "                    </div>\n",
       "\n",
       "                    <div class=\"item_right\"     style=\"float: none; width: auto; overflow: hidden;\">\n",
       "                        <a href='https://dev003246.esri.com/portal/home/item.html?id=6030de738a764d45a499d47a46ec5aa6' target='_blank'><b>GeneratedRasterProduct_MMGS91</b>\n",
       "                        </a>\n",
       "                        <br/>Analysis Image Service generated from GenerateRaster<img src='https://dev003246.esri.com/portal/home/js/jsapi/esri/css/images/item_type_icons/imagery16.png' style=\"vertical-align:middle;\">Imagery Layer by admin\n",
       "                        <br/>Last Modified: November 27, 2016\n",
       "                        <br/>0 comments, 0 views\n",
       "                    </div>\n",
       "                </div>\n",
       "                "
      ],
      "text/plain": [
       "<Item title:\"GeneratedRasterProduct_MMGS91\" type:Imagery Layer owner:admin>"
      ]
     },
     "metadata": {},
     "output_type": "display_data"
    },
    {
     "data": {
      "text/html": [
       "<div class=\"item_container\" style=\"height: auto; overflow: hidden; border: 1px solid #cfcfcf; border-radius: 2px; background: #f6fafa; line-height: 1.21429em; padding: 10px;\">\n",
       "                    <div class=\"item_left\" style=\"width: 210px; float: left;\">\n",
       "                       <a href='https://dev003246.esri.com/portal/home/item.html?id=d1a38ce2ac1b401b9c3bc017c124583c' target='_blank'>\n",
       "                        <img src='https://dev003246.esri.com/portal/portalimages/desktopapp.png' class=\"itemThumbnail\">\n",
       "                       </a>\n",
       "                    </div>\n",
       "\n",
       "                    <div class=\"item_right\"     style=\"float: none; width: auto; overflow: hidden;\">\n",
       "                        <a href='https://dev003246.esri.com/portal/home/item.html?id=d1a38ce2ac1b401b9c3bc017c124583c' target='_blank'><b>GeneratedRasterProduct_CA31R5</b>\n",
       "                        </a>\n",
       "                        <br/>Analysis Image Service generated from GenerateRaster<img src='https://dev003246.esri.com/portal/home/js/jsapi/esri/css/images/item_type_icons/imagery16.png' style=\"vertical-align:middle;\">Imagery Layer by admin\n",
       "                        <br/>Last Modified: November 27, 2016\n",
       "                        <br/>0 comments, 0 views\n",
       "                    </div>\n",
       "                </div>\n",
       "                "
      ],
      "text/plain": [
       "<Item title:\"GeneratedRasterProduct_CA31R5\" type:Imagery Layer owner:admin>"
      ]
     },
     "metadata": {},
     "output_type": "display_data"
    },
    {
     "data": {
      "text/html": [
       "<div class=\"item_container\" style=\"height: auto; overflow: hidden; border: 1px solid #cfcfcf; border-radius: 2px; background: #f6fafa; line-height: 1.21429em; padding: 10px;\">\n",
       "                    <div class=\"item_left\" style=\"width: 210px; float: left;\">\n",
       "                       <a href='https://dev003246.esri.com/portal/home/item.html?id=af6f8867a8994f9e81a7d189d51b39f6' target='_blank'>\n",
       "                        <img src='https://dev003246.esri.com/portal/portalimages/desktopapp.png' class=\"itemThumbnail\">\n",
       "                       </a>\n",
       "                    </div>\n",
       "\n",
       "                    <div class=\"item_right\"     style=\"float: none; width: auto; overflow: hidden;\">\n",
       "                        <a href='https://dev003246.esri.com/portal/home/item.html?id=af6f8867a8994f9e81a7d189d51b39f6' target='_blank'><b>GeneratedRasterProduct_WSGDW5</b>\n",
       "                        </a>\n",
       "                        <br/>Analysis Image Service generated from GenerateRaster<img src='https://dev003246.esri.com/portal/home/js/jsapi/esri/css/images/item_type_icons/imagery16.png' style=\"vertical-align:middle;\">Imagery Layer by admin\n",
       "                        <br/>Last Modified: November 27, 2016\n",
       "                        <br/>0 comments, 0 views\n",
       "                    </div>\n",
       "                </div>\n",
       "                "
      ],
      "text/plain": [
       "<Item title:\"GeneratedRasterProduct_WSGDW5\" type:Imagery Layer owner:admin>"
      ]
     },
     "metadata": {},
     "output_type": "display_data"
    },
    {
     "data": {
      "text/html": [
       "<div class=\"item_container\" style=\"height: auto; overflow: hidden; border: 1px solid #cfcfcf; border-radius: 2px; background: #f6fafa; line-height: 1.21429em; padding: 10px;\">\n",
       "                    <div class=\"item_left\" style=\"width: 210px; float: left;\">\n",
       "                       <a href='https://dev003246.esri.com/portal/home/item.html?id=2cd86b8b4cbe4542b9956289d7222988' target='_blank'>\n",
       "                        <img src='https://dev003246.esri.com/portal/portalimages/desktopapp.png' class=\"itemThumbnail\">\n",
       "                       </a>\n",
       "                    </div>\n",
       "\n",
       "                    <div class=\"item_right\"     style=\"float: none; width: auto; overflow: hidden;\">\n",
       "                        <a href='https://dev003246.esri.com/portal/home/item.html?id=2cd86b8b4cbe4542b9956289d7222988' target='_blank'><b>GeneratedRasterProduct_63L9GK</b>\n",
       "                        </a>\n",
       "                        <br/>Analysis Image Service generated from GenerateRaster<img src='https://dev003246.esri.com/portal/home/js/jsapi/esri/css/images/item_type_icons/imagery16.png' style=\"vertical-align:middle;\">Imagery Layer by admin\n",
       "                        <br/>Last Modified: November 27, 2016\n",
       "                        <br/>0 comments, 0 views\n",
       "                    </div>\n",
       "                </div>\n",
       "                "
      ],
      "text/plain": [
       "<Item title:\"GeneratedRasterProduct_63L9GK\" type:Imagery Layer owner:admin>"
      ]
     },
     "metadata": {},
     "output_type": "display_data"
    },
    {
     "data": {
      "text/html": [
       "<div class=\"item_container\" style=\"height: auto; overflow: hidden; border: 1px solid #cfcfcf; border-radius: 2px; background: #f6fafa; line-height: 1.21429em; padding: 10px;\">\n",
       "                    <div class=\"item_left\" style=\"width: 210px; float: left;\">\n",
       "                       <a href='https://dev003246.esri.com/portal/home/item.html?id=9de4742c3f7548cb8cf4a3699382c9c9' target='_blank'>\n",
       "                        <img src='https://dev003246.esri.com/portal/portalimages/desktopapp.png' class=\"itemThumbnail\">\n",
       "                       </a>\n",
       "                    </div>\n",
       "\n",
       "                    <div class=\"item_right\"     style=\"float: none; width: auto; overflow: hidden;\">\n",
       "                        <a href='https://dev003246.esri.com/portal/home/item.html?id=9de4742c3f7548cb8cf4a3699382c9c9' target='_blank'><b>GeneratedRasterProduct_RBVT5Y</b>\n",
       "                        </a>\n",
       "                        <br/>Analysis Image Service generated from GenerateRaster<img src='https://dev003246.esri.com/portal/home/js/jsapi/esri/css/images/item_type_icons/imagery16.png' style=\"vertical-align:middle;\">Imagery Layer by admin\n",
       "                        <br/>Last Modified: April 21, 2017\n",
       "                        <br/>0 comments, 0 views\n",
       "                    </div>\n",
       "                </div>\n",
       "                "
      ],
      "text/plain": [
       "<Item title:\"GeneratedRasterProduct_RBVT5Y\" type:Imagery Layer owner:admin>"
      ]
     },
     "metadata": {},
     "output_type": "display_data"
    },
    {
     "data": {
      "text/html": [
       "<div class=\"item_container\" style=\"height: auto; overflow: hidden; border: 1px solid #cfcfcf; border-radius: 2px; background: #f6fafa; line-height: 1.21429em; padding: 10px;\">\n",
       "                    <div class=\"item_left\" style=\"width: 210px; float: left;\">\n",
       "                       <a href='https://dev003246.esri.com/portal/home/item.html?id=1e5c86fb862f41df901b9aefc83a517d' target='_blank'>\n",
       "                        <img src='https://dev003246.esri.com/portal/portalimages/desktopapp.png' class=\"itemThumbnail\">\n",
       "                       </a>\n",
       "                    </div>\n",
       "\n",
       "                    <div class=\"item_right\"     style=\"float: none; width: auto; overflow: hidden;\">\n",
       "                        <a href='https://dev003246.esri.com/portal/home/item.html?id=1e5c86fb862f41df901b9aefc83a517d' target='_blank'><b>GeneratedRasterProduct_LJQ4DA</b>\n",
       "                        </a>\n",
       "                        <br/>Analysis Image Service generated from GenerateRaster<img src='https://dev003246.esri.com/portal/home/js/jsapi/esri/css/images/item_type_icons/imagery16.png' style=\"vertical-align:middle;\">Imagery Layer by admin\n",
       "                        <br/>Last Modified: April 21, 2017\n",
       "                        <br/>0 comments, 0 views\n",
       "                    </div>\n",
       "                </div>\n",
       "                "
      ],
      "text/plain": [
       "<Item title:\"GeneratedRasterProduct_LJQ4DA\" type:Imagery Layer owner:admin>"
      ]
     },
     "metadata": {},
     "output_type": "display_data"
    },
    {
     "data": {
      "text/html": [
       "<div class=\"item_container\" style=\"height: auto; overflow: hidden; border: 1px solid #cfcfcf; border-radius: 2px; background: #f6fafa; line-height: 1.21429em; padding: 10px;\">\n",
       "                    <div class=\"item_left\" style=\"width: 210px; float: left;\">\n",
       "                       <a href='https://dev003246.esri.com/portal/home/item.html?id=011a7303e9524676954252b5708289fa' target='_blank'>\n",
       "                        <img src='https://dev003246.esri.com/portal/portalimages/desktopapp.png' class=\"itemThumbnail\">\n",
       "                       </a>\n",
       "                    </div>\n",
       "\n",
       "                    <div class=\"item_right\"     style=\"float: none; width: auto; overflow: hidden;\">\n",
       "                        <a href='https://dev003246.esri.com/portal/home/item.html?id=011a7303e9524676954252b5708289fa' target='_blank'><b>GeneratedRasterProduct_FYBN60</b>\n",
       "                        </a>\n",
       "                        <br/>Analysis Image Service generated from GenerateRaster<img src='https://dev003246.esri.com/portal/home/js/jsapi/esri/css/images/item_type_icons/imagery16.png' style=\"vertical-align:middle;\">Imagery Layer by admin\n",
       "                        <br/>Last Modified: April 21, 2017\n",
       "                        <br/>0 comments, 0 views\n",
       "                    </div>\n",
       "                </div>\n",
       "                "
      ],
      "text/plain": [
       "<Item title:\"GeneratedRasterProduct_FYBN60\" type:Imagery Layer owner:admin>"
      ]
     },
     "metadata": {},
     "output_type": "display_data"
    },
    {
     "data": {
      "text/html": [
       "<div class=\"item_container\" style=\"height: auto; overflow: hidden; border: 1px solid #cfcfcf; border-radius: 2px; background: #f6fafa; line-height: 1.21429em; padding: 10px;\">\n",
       "                    <div class=\"item_left\" style=\"width: 210px; float: left;\">\n",
       "                       <a href='https://dev003246.esri.com/portal/home/item.html?id=2dae4a1e9b88439b88196c66bfeef2d9' target='_blank'>\n",
       "                        <img src='https://dev003246.esri.com/portal/portalimages/desktopapp.png' class=\"itemThumbnail\">\n",
       "                       </a>\n",
       "                    </div>\n",
       "\n",
       "                    <div class=\"item_right\"     style=\"float: none; width: auto; overflow: hidden;\">\n",
       "                        <a href='https://dev003246.esri.com/portal/home/item.html?id=2dae4a1e9b88439b88196c66bfeef2d9' target='_blank'><b>GeneratedRasterProduct_K7OTKX</b>\n",
       "                        </a>\n",
       "                        <br/>Analysis Image Service generated from GenerateRaster<img src='https://dev003246.esri.com/portal/home/js/jsapi/esri/css/images/item_type_icons/imagery16.png' style=\"vertical-align:middle;\">Imagery Layer by admin\n",
       "                        <br/>Last Modified: November 27, 2016\n",
       "                        <br/>0 comments, 0 views\n",
       "                    </div>\n",
       "                </div>\n",
       "                "
      ],
      "text/plain": [
       "<Item title:\"GeneratedRasterProduct_K7OTKX\" type:Imagery Layer owner:admin>"
      ]
     },
     "metadata": {},
     "output_type": "display_data"
    },
    {
     "data": {
      "text/html": [
       "<div class=\"item_container\" style=\"height: auto; overflow: hidden; border: 1px solid #cfcfcf; border-radius: 2px; background: #f6fafa; line-height: 1.21429em; padding: 10px;\">\n",
       "                    <div class=\"item_left\" style=\"width: 210px; float: left;\">\n",
       "                       <a href='https://dev003246.esri.com/portal/home/item.html?id=53adb3de661b4599ab43cc2eb7bb99d6' target='_blank'>\n",
       "                        <img src='https://dev003246.esri.com/portal/portalimages/desktopapp.png' class=\"itemThumbnail\">\n",
       "                       </a>\n",
       "                    </div>\n",
       "\n",
       "                    <div class=\"item_right\"     style=\"float: none; width: auto; overflow: hidden;\">\n",
       "                        <a href='https://dev003246.esri.com/portal/home/item.html?id=53adb3de661b4599ab43cc2eb7bb99d6' target='_blank'><b>GeneratedRasterProduct_F4RJ52</b>\n",
       "                        </a>\n",
       "                        <br/>Analysis Image Service generated from GenerateRaster<img src='https://dev003246.esri.com/portal/home/js/jsapi/esri/css/images/item_type_icons/imagery16.png' style=\"vertical-align:middle;\">Imagery Layer by admin\n",
       "                        <br/>Last Modified: November 27, 2016\n",
       "                        <br/>0 comments, 0 views\n",
       "                    </div>\n",
       "                </div>\n",
       "                "
      ],
      "text/plain": [
       "<Item title:\"GeneratedRasterProduct_F4RJ52\" type:Imagery Layer owner:admin>"
      ]
     },
     "metadata": {},
     "output_type": "display_data"
    },
    {
     "data": {
      "text/html": [
       "<div class=\"item_container\" style=\"height: auto; overflow: hidden; border: 1px solid #cfcfcf; border-radius: 2px; background: #f6fafa; line-height: 1.21429em; padding: 10px;\">\n",
       "                    <div class=\"item_left\" style=\"width: 210px; float: left;\">\n",
       "                       <a href='https://dev003246.esri.com/portal/home/item.html?id=d6141de149d646e0bacaa5fc5211d289' target='_blank'>\n",
       "                        <img src='https://dev003246.esri.com/portal/portalimages/desktopapp.png' class=\"itemThumbnail\">\n",
       "                       </a>\n",
       "                    </div>\n",
       "\n",
       "                    <div class=\"item_right\"     style=\"float: none; width: auto; overflow: hidden;\">\n",
       "                        <a href='https://dev003246.esri.com/portal/home/item.html?id=d6141de149d646e0bacaa5fc5211d289' target='_blank'><b>GeneratedRasterProduct_FWCQR8</b>\n",
       "                        </a>\n",
       "                        <br/>Analysis Image Service generated from GenerateRaster<img src='https://dev003246.esri.com/portal/home/js/jsapi/esri/css/images/item_type_icons/imagery16.png' style=\"vertical-align:middle;\">Imagery Layer by admin\n",
       "                        <br/>Last Modified: April 21, 2017\n",
       "                        <br/>0 comments, 0 views\n",
       "                    </div>\n",
       "                </div>\n",
       "                "
      ],
      "text/plain": [
       "<Item title:\"GeneratedRasterProduct_FWCQR8\" type:Imagery Layer owner:admin>"
      ]
     },
     "metadata": {},
     "output_type": "display_data"
    },
    {
     "data": {
      "text/html": [
       "<div class=\"item_container\" style=\"height: auto; overflow: hidden; border: 1px solid #cfcfcf; border-radius: 2px; background: #f6fafa; line-height: 1.21429em; padding: 10px;\">\n",
       "                    <div class=\"item_left\" style=\"width: 210px; float: left;\">\n",
       "                       <a href='https://dev003246.esri.com/portal/home/item.html?id=265d7272ffaa44639ad349a0083c3a0d' target='_blank'>\n",
       "                        <img src='https://dev003246.esri.com/portal/portalimages/desktopapp.png' class=\"itemThumbnail\">\n",
       "                       </a>\n",
       "                    </div>\n",
       "\n",
       "                    <div class=\"item_right\"     style=\"float: none; width: auto; overflow: hidden;\">\n",
       "                        <a href='https://dev003246.esri.com/portal/home/item.html?id=265d7272ffaa44639ad349a0083c3a0d' target='_blank'><b>GeneratedRasterProduct_006ELS</b>\n",
       "                        </a>\n",
       "                        <br/>Analysis Image Service generated from GenerateRaster<img src='https://dev003246.esri.com/portal/home/js/jsapi/esri/css/images/item_type_icons/imagery16.png' style=\"vertical-align:middle;\">Imagery Layer by admin\n",
       "                        <br/>Last Modified: April 21, 2017\n",
       "                        <br/>0 comments, 0 views\n",
       "                    </div>\n",
       "                </div>\n",
       "                "
      ],
      "text/plain": [
       "<Item title:\"GeneratedRasterProduct_006ELS\" type:Imagery Layer owner:admin>"
      ]
     },
     "metadata": {},
     "output_type": "display_data"
    },
    {
     "data": {
      "text/html": [
       "<div class=\"item_container\" style=\"height: auto; overflow: hidden; border: 1px solid #cfcfcf; border-radius: 2px; background: #f6fafa; line-height: 1.21429em; padding: 10px;\">\n",
       "                    <div class=\"item_left\" style=\"width: 210px; float: left;\">\n",
       "                       <a href='https://dev003246.esri.com/portal/home/item.html?id=2fa6fa2154b745349b60bc44979c8609' target='_blank'>\n",
       "                        <img src='https://dev003246.esri.com/portal/portalimages/desktopapp.png' class=\"itemThumbnail\">\n",
       "                       </a>\n",
       "                    </div>\n",
       "\n",
       "                    <div class=\"item_right\"     style=\"float: none; width: auto; overflow: hidden;\">\n",
       "                        <a href='https://dev003246.esri.com/portal/home/item.html?id=2fa6fa2154b745349b60bc44979c8609' target='_blank'><b>GeneratedRasterProduct_ZEMTYE</b>\n",
       "                        </a>\n",
       "                        <br/>Analysis Image Service generated from GenerateRaster<img src='https://dev003246.esri.com/portal/home/js/jsapi/esri/css/images/item_type_icons/imagery16.png' style=\"vertical-align:middle;\">Imagery Layer by admin\n",
       "                        <br/>Last Modified: April 21, 2017\n",
       "                        <br/>0 comments, 0 views\n",
       "                    </div>\n",
       "                </div>\n",
       "                "
      ],
      "text/plain": [
       "<Item title:\"GeneratedRasterProduct_ZEMTYE\" type:Imagery Layer owner:admin>"
      ]
     },
     "metadata": {},
     "output_type": "display_data"
    },
    {
     "data": {
      "text/html": [
       "<div class=\"item_container\" style=\"height: auto; overflow: hidden; border: 1px solid #cfcfcf; border-radius: 2px; background: #f6fafa; line-height: 1.21429em; padding: 10px;\">\n",
       "                    <div class=\"item_left\" style=\"width: 210px; float: left;\">\n",
       "                       <a href='https://dev003246.esri.com/portal/home/item.html?id=5ef01786ecc14de6a0baeaa7d9802404' target='_blank'>\n",
       "                        <img src='https://dev003246.esri.com/portal/portalimages/desktopapp.png' class=\"itemThumbnail\">\n",
       "                       </a>\n",
       "                    </div>\n",
       "\n",
       "                    <div class=\"item_right\"     style=\"float: none; width: auto; overflow: hidden;\">\n",
       "                        <a href='https://dev003246.esri.com/portal/home/item.html?id=5ef01786ecc14de6a0baeaa7d9802404' target='_blank'><b>extractband</b>\n",
       "                        </a>\n",
       "                        <br/><img src='https://dev003246.esri.com/portal/home/js/jsapi/esri/css/images/item_type_icons/imagery16.png' style=\"vertical-align:middle;\">Imagery Layer by admin\n",
       "                        <br/>Last Modified: April 21, 2017\n",
       "                        <br/>0 comments, 0 views\n",
       "                    </div>\n",
       "                </div>\n",
       "                "
      ],
      "text/plain": [
       "<Item title:\"extractband\" type:Imagery Layer owner:admin>"
      ]
     },
     "metadata": {},
     "output_type": "display_data"
    },
    {
     "data": {
      "text/html": [
       "<div class=\"item_container\" style=\"height: auto; overflow: hidden; border: 1px solid #cfcfcf; border-radius: 2px; background: #f6fafa; line-height: 1.21429em; padding: 10px;\">\n",
       "                    <div class=\"item_left\" style=\"width: 210px; float: left;\">\n",
       "                       <a href='https://dev003246.esri.com/portal/home/item.html?id=61450ff061d94c428c8de10580bace04' target='_blank'>\n",
       "                        <img src='https://dev003246.esri.com/portal/portalimages/desktopapp.png' class=\"itemThumbnail\">\n",
       "                       </a>\n",
       "                    </div>\n",
       "\n",
       "                    <div class=\"item_right\"     style=\"float: none; width: auto; overflow: hidden;\">\n",
       "                        <a href='https://dev003246.esri.com/portal/home/item.html?id=61450ff061d94c428c8de10580bace04' target='_blank'><b>GeneratedRasterProduct_6HKB4N</b>\n",
       "                        </a>\n",
       "                        <br/>Analysis Image Service generated from GenerateRaster<img src='https://dev003246.esri.com/portal/home/js/jsapi/esri/css/images/item_type_icons/imagery16.png' style=\"vertical-align:middle;\">Imagery Layer by admin\n",
       "                        <br/>Last Modified: November 27, 2016\n",
       "                        <br/>0 comments, 0 views\n",
       "                    </div>\n",
       "                </div>\n",
       "                "
      ],
      "text/plain": [
       "<Item title:\"GeneratedRasterProduct_6HKB4N\" type:Imagery Layer owner:admin>"
      ]
     },
     "metadata": {},
     "output_type": "display_data"
    },
    {
     "data": {
      "text/html": [
       "<div class=\"item_container\" style=\"height: auto; overflow: hidden; border: 1px solid #cfcfcf; border-radius: 2px; background: #f6fafa; line-height: 1.21429em; padding: 10px;\">\n",
       "                    <div class=\"item_left\" style=\"width: 210px; float: left;\">\n",
       "                       <a href='https://dev003246.esri.com/portal/home/item.html?id=faaac5a314734dc4a2d5a75af2ecd71b' target='_blank'>\n",
       "                        <img src='https://dev003246.esri.com/portal/portalimages/desktopapp.png' class=\"itemThumbnail\">\n",
       "                       </a>\n",
       "                    </div>\n",
       "\n",
       "                    <div class=\"item_right\"     style=\"float: none; width: auto; overflow: hidden;\">\n",
       "                        <a href='https://dev003246.esri.com/portal/home/item.html?id=faaac5a314734dc4a2d5a75af2ecd71b' target='_blank'><b>Reconstructed_Tracks_Z0X941</b>\n",
       "                        </a>\n",
       "                        <br/>Reconstructed Tracks_Z0X941<img src='https://dev003246.esri.com/portal/home/js/jsapi/esri/css/images/item_type_icons/featureshosted16.png' style=\"vertical-align:middle;\">Feature Layer Collection by admin\n",
       "                        <br/>Last Modified: November 28, 2016\n",
       "                        <br/>0 comments, 0 views\n",
       "                    </div>\n",
       "                </div>\n",
       "                "
      ],
      "text/plain": [
       "<Item title:\"Reconstructed_Tracks_Z0X941\" type:Feature Layer Collection owner:admin>"
      ]
     },
     "metadata": {},
     "output_type": "display_data"
    },
    {
     "data": {
      "text/html": [
       "<div class=\"item_container\" style=\"height: auto; overflow: hidden; border: 1px solid #cfcfcf; border-radius: 2px; background: #f6fafa; line-height: 1.21429em; padding: 10px;\">\n",
       "                    <div class=\"item_left\" style=\"width: 210px; float: left;\">\n",
       "                       <a href='https://dev003246.esri.com/portal/home/item.html?id=96e22147463a44baac2f00960b564ab3' target='_blank'>\n",
       "                        <img src='https://dev003246.esri.com/portal/portalimages/desktopapp.png' class=\"itemThumbnail\">\n",
       "                       </a>\n",
       "                    </div>\n",
       "\n",
       "                    <div class=\"item_right\"     style=\"float: none; width: auto; overflow: hidden;\">\n",
       "                        <a href='https://dev003246.esri.com/portal/home/item.html?id=96e22147463a44baac2f00960b564ab3' target='_blank'><b>Reconstructed_Tracks_UX6LFM</b>\n",
       "                        </a>\n",
       "                        <br/>Reconstructed Tracks_UX6LFM<img src='https://dev003246.esri.com/portal/home/js/jsapi/esri/css/images/item_type_icons/featureshosted16.png' style=\"vertical-align:middle;\">Feature Layer Collection by admin\n",
       "                        <br/>Last Modified: November 28, 2016\n",
       "                        <br/>0 comments, 0 views\n",
       "                    </div>\n",
       "                </div>\n",
       "                "
      ],
      "text/plain": [
       "<Item title:\"Reconstructed_Tracks_UX6LFM\" type:Feature Layer Collection owner:admin>"
      ]
     },
     "metadata": {},
     "output_type": "display_data"
    },
    {
     "data": {
      "text/html": [
       "<div class=\"item_container\" style=\"height: auto; overflow: hidden; border: 1px solid #cfcfcf; border-radius: 2px; background: #f6fafa; line-height: 1.21429em; padding: 10px;\">\n",
       "                    <div class=\"item_left\" style=\"width: 210px; float: left;\">\n",
       "                       <a href='https://dev003246.esri.com/portal/home/item.html?id=31e0d5a8a7c14058980c9611e8edb0be' target='_blank'>\n",
       "                        <img src='https://dev003246.esri.com/portal/portalimages/desktopapp.png' class=\"itemThumbnail\">\n",
       "                       </a>\n",
       "                    </div>\n",
       "\n",
       "                    <div class=\"item_right\"     style=\"float: none; width: auto; overflow: hidden;\">\n",
       "                        <a href='https://dev003246.esri.com/portal/home/item.html?id=31e0d5a8a7c14058980c9611e8edb0be' target='_blank'><b>GeneratedRasterProduct_FVOQVY</b>\n",
       "                        </a>\n",
       "                        <br/>Analysis Image Service generated from GenerateRaster<img src='https://dev003246.esri.com/portal/home/js/jsapi/esri/css/images/item_type_icons/imagery16.png' style=\"vertical-align:middle;\">Imagery Layer by admin\n",
       "                        <br/>Last Modified: November 28, 2016\n",
       "                        <br/>0 comments, 0 views\n",
       "                    </div>\n",
       "                </div>\n",
       "                "
      ],
      "text/plain": [
       "<Item title:\"GeneratedRasterProduct_FVOQVY\" type:Imagery Layer owner:admin>"
      ]
     },
     "metadata": {},
     "output_type": "display_data"
    },
    {
     "data": {
      "text/html": [
       "<div class=\"item_container\" style=\"height: auto; overflow: hidden; border: 1px solid #cfcfcf; border-radius: 2px; background: #f6fafa; line-height: 1.21429em; padding: 10px;\">\n",
       "                    <div class=\"item_left\" style=\"width: 210px; float: left;\">\n",
       "                       <a href='https://dev003246.esri.com/portal/home/item.html?id=0112a800ba984822b06e98a9fa3de1e4' target='_blank'>\n",
       "                        <img src='https://dev003246.esri.com/portal/portalimages/desktopapp.png' class=\"itemThumbnail\">\n",
       "                       </a>\n",
       "                    </div>\n",
       "\n",
       "                    <div class=\"item_right\"     style=\"float: none; width: auto; overflow: hidden;\">\n",
       "                        <a href='https://dev003246.esri.com/portal/home/item.html?id=0112a800ba984822b06e98a9fa3de1e4' target='_blank'><b>Reconstructed_Tracks_WGDTO5</b>\n",
       "                        </a>\n",
       "                        <br/>Reconstructed Tracks_WGDTO5<img src='https://dev003246.esri.com/portal/home/js/jsapi/esri/css/images/item_type_icons/featureshosted16.png' style=\"vertical-align:middle;\">Feature Layer Collection by admin\n",
       "                        <br/>Last Modified: November 28, 2016\n",
       "                        <br/>0 comments, 0 views\n",
       "                    </div>\n",
       "                </div>\n",
       "                "
      ],
      "text/plain": [
       "<Item title:\"Reconstructed_Tracks_WGDTO5\" type:Feature Layer Collection owner:admin>"
      ]
     },
     "metadata": {},
     "output_type": "display_data"
    },
    {
     "data": {
      "text/html": [
       "<div class=\"item_container\" style=\"height: auto; overflow: hidden; border: 1px solid #cfcfcf; border-radius: 2px; background: #f6fafa; line-height: 1.21429em; padding: 10px;\">\n",
       "                    <div class=\"item_left\" style=\"width: 210px; float: left;\">\n",
       "                       <a href='https://dev003246.esri.com/portal/home/item.html?id=4d9028e02d424fe0a49e2a0d688b0f33' target='_blank'>\n",
       "                        <img src='https://dev003246.esri.com/portal/portalimages/desktopapp.png' class=\"itemThumbnail\">\n",
       "                       </a>\n",
       "                    </div>\n",
       "\n",
       "                    <div class=\"item_right\"     style=\"float: none; width: auto; overflow: hidden;\">\n",
       "                        <a href='https://dev003246.esri.com/portal/home/item.html?id=4d9028e02d424fe0a49e2a0d688b0f33' target='_blank'><b>GeneratedRasterProduct_O2VORN</b>\n",
       "                        </a>\n",
       "                        <br/>Analysis Image Service generated from GenerateRaster<img src='https://dev003246.esri.com/portal/home/js/jsapi/esri/css/images/item_type_icons/imagery16.png' style=\"vertical-align:middle;\">Imagery Layer by admin\n",
       "                        <br/>Last Modified: April 21, 2017\n",
       "                        <br/>0 comments, 0 views\n",
       "                    </div>\n",
       "                </div>\n",
       "                "
      ],
      "text/plain": [
       "<Item title:\"GeneratedRasterProduct_O2VORN\" type:Imagery Layer owner:admin>"
      ]
     },
     "metadata": {},
     "output_type": "display_data"
    },
    {
     "data": {
      "text/html": [
       "<div class=\"item_container\" style=\"height: auto; overflow: hidden; border: 1px solid #cfcfcf; border-radius: 2px; background: #f6fafa; line-height: 1.21429em; padding: 10px;\">\n",
       "                    <div class=\"item_left\" style=\"width: 210px; float: left;\">\n",
       "                       <a href='https://dev003246.esri.com/portal/home/item.html?id=9b24262b32d247f1ac7fd0a6aaace0e8' target='_blank'>\n",
       "                        <img src='https://dev003246.esri.com/portal/portalimages/desktopapp.png' class=\"itemThumbnail\">\n",
       "                       </a>\n",
       "                    </div>\n",
       "\n",
       "                    <div class=\"item_right\"     style=\"float: none; width: auto; overflow: hidden;\">\n",
       "                        <a href='https://dev003246.esri.com/portal/home/item.html?id=9b24262b32d247f1ac7fd0a6aaace0e8' target='_blank'><b>GeneratedRasterProduct_OFFPA4</b>\n",
       "                        </a>\n",
       "                        <br/>Analysis Image Service generated from GenerateRaster<img src='https://dev003246.esri.com/portal/home/js/jsapi/esri/css/images/item_type_icons/imagery16.png' style=\"vertical-align:middle;\">Imagery Layer by admin\n",
       "                        <br/>Last Modified: November 28, 2016\n",
       "                        <br/>0 comments, 0 views\n",
       "                    </div>\n",
       "                </div>\n",
       "                "
      ],
      "text/plain": [
       "<Item title:\"GeneratedRasterProduct_OFFPA4\" type:Imagery Layer owner:admin>"
      ]
     },
     "metadata": {},
     "output_type": "display_data"
    },
    {
     "data": {
      "text/html": [
       "<div class=\"item_container\" style=\"height: auto; overflow: hidden; border: 1px solid #cfcfcf; border-radius: 2px; background: #f6fafa; line-height: 1.21429em; padding: 10px;\">\n",
       "                    <div class=\"item_left\" style=\"width: 210px; float: left;\">\n",
       "                       <a href='https://dev003246.esri.com/portal/home/item.html?id=b3b54b0823a644e292fb1a94905bdb0c' target='_blank'>\n",
       "                        <img src='https://dev003246.esri.com/portal/portalimages/desktopapp.png' class=\"itemThumbnail\">\n",
       "                       </a>\n",
       "                    </div>\n",
       "\n",
       "                    <div class=\"item_right\"     style=\"float: none; width: auto; overflow: hidden;\">\n",
       "                        <a href='https://dev003246.esri.com/portal/home/item.html?id=b3b54b0823a644e292fb1a94905bdb0c' target='_blank'><b>GeneratedRasterProduct_YKHN6P</b>\n",
       "                        </a>\n",
       "                        <br/>Analysis Image Service generated from GenerateRaster<img src='https://dev003246.esri.com/portal/home/js/jsapi/esri/css/images/item_type_icons/imagery16.png' style=\"vertical-align:middle;\">Imagery Layer by admin\n",
       "                        <br/>Last Modified: November 28, 2016\n",
       "                        <br/>0 comments, 0 views\n",
       "                    </div>\n",
       "                </div>\n",
       "                "
      ],
      "text/plain": [
       "<Item title:\"GeneratedRasterProduct_YKHN6P\" type:Imagery Layer owner:admin>"
      ]
     },
     "metadata": {},
     "output_type": "display_data"
    },
    {
     "data": {
      "text/html": [
       "<div class=\"item_container\" style=\"height: auto; overflow: hidden; border: 1px solid #cfcfcf; border-radius: 2px; background: #f6fafa; line-height: 1.21429em; padding: 10px;\">\n",
       "                    <div class=\"item_left\" style=\"width: 210px; float: left;\">\n",
       "                       <a href='https://dev003246.esri.com/portal/home/item.html?id=3b0fdbc75c55456dac0c24ad2459d83f' target='_blank'>\n",
       "                        <img src='https://dev003246.esri.com/portal/portalimages/desktopapp.png' class=\"itemThumbnail\">\n",
       "                       </a>\n",
       "                    </div>\n",
       "\n",
       "                    <div class=\"item_right\"     style=\"float: none; width: auto; overflow: hidden;\">\n",
       "                        <a href='https://dev003246.esri.com/portal/home/item.html?id=3b0fdbc75c55456dac0c24ad2459d83f' target='_blank'><b>Reconstructed_Tracks_LQUW44</b>\n",
       "                        </a>\n",
       "                        <br/>Reconstructed Tracks_LQUW44<img src='https://dev003246.esri.com/portal/home/js/jsapi/esri/css/images/item_type_icons/featureshosted16.png' style=\"vertical-align:middle;\">Feature Layer Collection by admin\n",
       "                        <br/>Last Modified: November 28, 2016\n",
       "                        <br/>0 comments, 0 views\n",
       "                    </div>\n",
       "                </div>\n",
       "                "
      ],
      "text/plain": [
       "<Item title:\"Reconstructed_Tracks_LQUW44\" type:Feature Layer Collection owner:admin>"
      ]
     },
     "metadata": {},
     "output_type": "display_data"
    },
    {
     "data": {
      "text/html": [
       "<div class=\"item_container\" style=\"height: auto; overflow: hidden; border: 1px solid #cfcfcf; border-radius: 2px; background: #f6fafa; line-height: 1.21429em; padding: 10px;\">\n",
       "                    <div class=\"item_left\" style=\"width: 210px; float: left;\">\n",
       "                       <a href='https://dev003246.esri.com/portal/home/item.html?id=2df58f2f78c043b294f1f451d1ac1fdc' target='_blank'>\n",
       "                        <img src='https://dev003246.esri.com/portal/portalimages/desktopapp.png' class=\"itemThumbnail\">\n",
       "                       </a>\n",
       "                    </div>\n",
       "\n",
       "                    <div class=\"item_right\"     style=\"float: none; width: auto; overflow: hidden;\">\n",
       "                        <a href='https://dev003246.esri.com/portal/home/item.html?id=2df58f2f78c043b294f1f451d1ac1fdc' target='_blank'><b>Reconstructed_Tracks_RGPOUZ</b>\n",
       "                        </a>\n",
       "                        <br/>Reconstructed Tracks_RGPOUZ<img src='https://dev003246.esri.com/portal/home/js/jsapi/esri/css/images/item_type_icons/featureshosted16.png' style=\"vertical-align:middle;\">Feature Layer Collection by admin\n",
       "                        <br/>Last Modified: November 30, 2016\n",
       "                        <br/>0 comments, 0 views\n",
       "                    </div>\n",
       "                </div>\n",
       "                "
      ],
      "text/plain": [
       "<Item title:\"Reconstructed_Tracks_RGPOUZ\" type:Feature Layer Collection owner:admin>"
      ]
     },
     "metadata": {},
     "output_type": "display_data"
    },
    {
     "data": {
      "text/html": [
       "<div class=\"item_container\" style=\"height: auto; overflow: hidden; border: 1px solid #cfcfcf; border-radius: 2px; background: #f6fafa; line-height: 1.21429em; padding: 10px;\">\n",
       "                    <div class=\"item_left\" style=\"width: 210px; float: left;\">\n",
       "                       <a href='https://dev003246.esri.com/portal/home/item.html?id=5308d4769d6447c9b31aff2aee1dc886' target='_blank'>\n",
       "                        <img src='https://dev003246.esri.com/portal/portalimages/desktopapp.png' class=\"itemThumbnail\">\n",
       "                       </a>\n",
       "                    </div>\n",
       "\n",
       "                    <div class=\"item_right\"     style=\"float: none; width: auto; overflow: hidden;\">\n",
       "                        <a href='https://dev003246.esri.com/portal/home/item.html?id=5308d4769d6447c9b31aff2aee1dc886' target='_blank'><b>Reconstructed_Tracks_UHE04A</b>\n",
       "                        </a>\n",
       "                        <br/>Reconstructed Tracks_UHE04A<img src='https://dev003246.esri.com/portal/home/js/jsapi/esri/css/images/item_type_icons/featureshosted16.png' style=\"vertical-align:middle;\">Feature Layer Collection by admin\n",
       "                        <br/>Last Modified: November 30, 2016\n",
       "                        <br/>0 comments, 0 views\n",
       "                    </div>\n",
       "                </div>\n",
       "                "
      ],
      "text/plain": [
       "<Item title:\"Reconstructed_Tracks_UHE04A\" type:Feature Layer Collection owner:admin>"
      ]
     },
     "metadata": {},
     "output_type": "display_data"
    },
    {
     "data": {
      "text/html": [
       "<div class=\"item_container\" style=\"height: auto; overflow: hidden; border: 1px solid #cfcfcf; border-radius: 2px; background: #f6fafa; line-height: 1.21429em; padding: 10px;\">\n",
       "                    <div class=\"item_left\" style=\"width: 210px; float: left;\">\n",
       "                       <a href='https://dev003246.esri.com/portal/home/item.html?id=4416ed24c78e49b2a63e079f2d4da1cc' target='_blank'>\n",
       "                        <img src='https://dev003246.esri.com/portal/portalimages/desktopapp.png' class=\"itemThumbnail\">\n",
       "                       </a>\n",
       "                    </div>\n",
       "\n",
       "                    <div class=\"item_right\"     style=\"float: none; width: auto; overflow: hidden;\">\n",
       "                        <a href='https://dev003246.esri.com/portal/home/item.html?id=4416ed24c78e49b2a63e079f2d4da1cc' target='_blank'><b>Reconstructed_Tracks_OMYVSJ</b>\n",
       "                        </a>\n",
       "                        <br/>Reconstructed Tracks_OMYVSJ<img src='https://dev003246.esri.com/portal/home/js/jsapi/esri/css/images/item_type_icons/featureshosted16.png' style=\"vertical-align:middle;\">Feature Layer Collection by admin\n",
       "                        <br/>Last Modified: November 30, 2016\n",
       "                        <br/>0 comments, 0 views\n",
       "                    </div>\n",
       "                </div>\n",
       "                "
      ],
      "text/plain": [
       "<Item title:\"Reconstructed_Tracks_OMYVSJ\" type:Feature Layer Collection owner:admin>"
      ]
     },
     "metadata": {},
     "output_type": "display_data"
    },
    {
     "data": {
      "text/html": [
       "<div class=\"item_container\" style=\"height: auto; overflow: hidden; border: 1px solid #cfcfcf; border-radius: 2px; background: #f6fafa; line-height: 1.21429em; padding: 10px;\">\n",
       "                    <div class=\"item_left\" style=\"width: 210px; float: left;\">\n",
       "                       <a href='https://dev003246.esri.com/portal/home/item.html?id=2b77d59a4013475e903289b0f93cd3b9' target='_blank'>\n",
       "                        <img src='https://dev003246.esri.com/portal/portalimages/desktopapp.png' class=\"itemThumbnail\">\n",
       "                       </a>\n",
       "                    </div>\n",
       "\n",
       "                    <div class=\"item_right\"     style=\"float: none; width: auto; overflow: hidden;\">\n",
       "                        <a href='https://dev003246.esri.com/portal/home/item.html?id=2b77d59a4013475e903289b0f93cd3b9' target='_blank'><b>GeneratedRasterProduct_60M09R</b>\n",
       "                        </a>\n",
       "                        <br/>Analysis Image Service generated from GenerateRaster<img src='https://dev003246.esri.com/portal/home/js/jsapi/esri/css/images/item_type_icons/imagery16.png' style=\"vertical-align:middle;\">Imagery Layer by admin\n",
       "                        <br/>Last Modified: November 30, 2016\n",
       "                        <br/>0 comments, 0 views\n",
       "                    </div>\n",
       "                </div>\n",
       "                "
      ],
      "text/plain": [
       "<Item title:\"GeneratedRasterProduct_60M09R\" type:Imagery Layer owner:admin>"
      ]
     },
     "metadata": {},
     "output_type": "display_data"
    },
    {
     "data": {
      "text/html": [
       "<div class=\"item_container\" style=\"height: auto; overflow: hidden; border: 1px solid #cfcfcf; border-radius: 2px; background: #f6fafa; line-height: 1.21429em; padding: 10px;\">\n",
       "                    <div class=\"item_left\" style=\"width: 210px; float: left;\">\n",
       "                       <a href='https://dev003246.esri.com/portal/home/item.html?id=cddaf1837b764e44816f96c6e2d4ff86' target='_blank'>\n",
       "                        <img src='https://dev003246.esri.com/portal/portalimages/desktopapp.png' class=\"itemThumbnail\">\n",
       "                       </a>\n",
       "                    </div>\n",
       "\n",
       "                    <div class=\"item_right\"     style=\"float: none; width: auto; overflow: hidden;\">\n",
       "                        <a href='https://dev003246.esri.com/portal/home/item.html?id=cddaf1837b764e44816f96c6e2d4ff86' target='_blank'><b>Reconstructed_Tracks_D0N04F</b>\n",
       "                        </a>\n",
       "                        <br/>Reconstructed Tracks_D0N04F<img src='https://dev003246.esri.com/portal/home/js/jsapi/esri/css/images/item_type_icons/featureshosted16.png' style=\"vertical-align:middle;\">Feature Layer Collection by admin\n",
       "                        <br/>Last Modified: November 30, 2016\n",
       "                        <br/>0 comments, 0 views\n",
       "                    </div>\n",
       "                </div>\n",
       "                "
      ],
      "text/plain": [
       "<Item title:\"Reconstructed_Tracks_D0N04F\" type:Feature Layer Collection owner:admin>"
      ]
     },
     "metadata": {},
     "output_type": "display_data"
    },
    {
     "data": {
      "text/html": [
       "<div class=\"item_container\" style=\"height: auto; overflow: hidden; border: 1px solid #cfcfcf; border-radius: 2px; background: #f6fafa; line-height: 1.21429em; padding: 10px;\">\n",
       "                    <div class=\"item_left\" style=\"width: 210px; float: left;\">\n",
       "                       <a href='https://dev003246.esri.com/portal/home/item.html?id=186c659fd99245abaf36dbf93b819149' target='_blank'>\n",
       "                        <img src='https://dev003246.esri.com/portal/portalimages/desktopapp.png' class=\"itemThumbnail\">\n",
       "                       </a>\n",
       "                    </div>\n",
       "\n",
       "                    <div class=\"item_right\"     style=\"float: none; width: auto; overflow: hidden;\">\n",
       "                        <a href='https://dev003246.esri.com/portal/home/item.html?id=186c659fd99245abaf36dbf93b819149' target='_blank'><b>Reconstructed_Tracks_CGCDL3</b>\n",
       "                        </a>\n",
       "                        <br/>Reconstructed Tracks_CGCDL3<img src='https://dev003246.esri.com/portal/home/js/jsapi/esri/css/images/item_type_icons/featureshosted16.png' style=\"vertical-align:middle;\">Feature Layer Collection by admin\n",
       "                        <br/>Last Modified: November 30, 2016\n",
       "                        <br/>0 comments, 0 views\n",
       "                    </div>\n",
       "                </div>\n",
       "                "
      ],
      "text/plain": [
       "<Item title:\"Reconstructed_Tracks_CGCDL3\" type:Feature Layer Collection owner:admin>"
      ]
     },
     "metadata": {},
     "output_type": "display_data"
    },
    {
     "data": {
      "text/html": [
       "<div class=\"item_container\" style=\"height: auto; overflow: hidden; border: 1px solid #cfcfcf; border-radius: 2px; background: #f6fafa; line-height: 1.21429em; padding: 10px;\">\n",
       "                    <div class=\"item_left\" style=\"width: 210px; float: left;\">\n",
       "                       <a href='https://dev003246.esri.com/portal/home/item.html?id=a8d444f7596e4d7d9893cc1ee6c8e831' target='_blank'>\n",
       "                        <img src='https://dev003246.esri.com/portal/portalimages/desktopapp.png' class=\"itemThumbnail\">\n",
       "                       </a>\n",
       "                    </div>\n",
       "\n",
       "                    <div class=\"item_right\"     style=\"float: none; width: auto; overflow: hidden;\">\n",
       "                        <a href='https://dev003246.esri.com/portal/home/item.html?id=a8d444f7596e4d7d9893cc1ee6c8e831' target='_blank'><b>Reconstructed_Tracks_GTF088</b>\n",
       "                        </a>\n",
       "                        <br/>Reconstructed Tracks_GTF088<img src='https://dev003246.esri.com/portal/home/js/jsapi/esri/css/images/item_type_icons/featureshosted16.png' style=\"vertical-align:middle;\">Feature Layer Collection by admin\n",
       "                        <br/>Last Modified: November 30, 2016\n",
       "                        <br/>0 comments, 0 views\n",
       "                    </div>\n",
       "                </div>\n",
       "                "
      ],
      "text/plain": [
       "<Item title:\"Reconstructed_Tracks_GTF088\" type:Feature Layer Collection owner:admin>"
      ]
     },
     "metadata": {},
     "output_type": "display_data"
    },
    {
     "data": {
      "text/html": [
       "<div class=\"item_container\" style=\"height: auto; overflow: hidden; border: 1px solid #cfcfcf; border-radius: 2px; background: #f6fafa; line-height: 1.21429em; padding: 10px;\">\n",
       "                    <div class=\"item_left\" style=\"width: 210px; float: left;\">\n",
       "                       <a href='https://dev003246.esri.com/portal/home/item.html?id=fc0ded84971f42349f508bf54268f220' target='_blank'>\n",
       "                        <img src='https://dev003246.esri.com/portal/portalimages/desktopapp.png' class=\"itemThumbnail\">\n",
       "                       </a>\n",
       "                    </div>\n",
       "\n",
       "                    <div class=\"item_right\"     style=\"float: none; width: auto; overflow: hidden;\">\n",
       "                        <a href='https://dev003246.esri.com/portal/home/item.html?id=fc0ded84971f42349f508bf54268f220' target='_blank'><b>GeneratedRasterProduct_I6LBLI</b>\n",
       "                        </a>\n",
       "                        <br/>Analysis Image Service generated from GenerateRaster<img src='https://dev003246.esri.com/portal/home/js/jsapi/esri/css/images/item_type_icons/imagery16.png' style=\"vertical-align:middle;\">Imagery Layer by admin\n",
       "                        <br/>Last Modified: November 30, 2016\n",
       "                        <br/>0 comments, 0 views\n",
       "                    </div>\n",
       "                </div>\n",
       "                "
      ],
      "text/plain": [
       "<Item title:\"GeneratedRasterProduct_I6LBLI\" type:Imagery Layer owner:admin>"
      ]
     },
     "metadata": {},
     "output_type": "display_data"
    },
    {
     "data": {
      "text/html": [
       "<div class=\"item_container\" style=\"height: auto; overflow: hidden; border: 1px solid #cfcfcf; border-radius: 2px; background: #f6fafa; line-height: 1.21429em; padding: 10px;\">\n",
       "                    <div class=\"item_left\" style=\"width: 210px; float: left;\">\n",
       "                       <a href='https://dev003246.esri.com/portal/home/item.html?id=996dd6df8d534e87825f30fe07f9fec7' target='_blank'>\n",
       "                        <img src='https://dev003246.esri.com/portal/portalimages/desktopapp.png' class=\"itemThumbnail\">\n",
       "                       </a>\n",
       "                    </div>\n",
       "\n",
       "                    <div class=\"item_right\"     style=\"float: none; width: auto; overflow: hidden;\">\n",
       "                        <a href='https://dev003246.esri.com/portal/home/item.html?id=996dd6df8d534e87825f30fe07f9fec7' target='_blank'><b>GeneratedRasterProduct_FZHAJ7</b>\n",
       "                        </a>\n",
       "                        <br/>Analysis Image Service generated from GenerateRaster<img src='https://dev003246.esri.com/portal/home/js/jsapi/esri/css/images/item_type_icons/imagery16.png' style=\"vertical-align:middle;\">Imagery Layer by admin\n",
       "                        <br/>Last Modified: November 30, 2016\n",
       "                        <br/>0 comments, 0 views\n",
       "                    </div>\n",
       "                </div>\n",
       "                "
      ],
      "text/plain": [
       "<Item title:\"GeneratedRasterProduct_FZHAJ7\" type:Imagery Layer owner:admin>"
      ]
     },
     "metadata": {},
     "output_type": "display_data"
    },
    {
     "data": {
      "text/html": [
       "<div class=\"item_container\" style=\"height: auto; overflow: hidden; border: 1px solid #cfcfcf; border-radius: 2px; background: #f6fafa; line-height: 1.21429em; padding: 10px;\">\n",
       "                    <div class=\"item_left\" style=\"width: 210px; float: left;\">\n",
       "                       <a href='https://dev003246.esri.com/portal/home/item.html?id=5d50188907bb4f2b864202702c36340e' target='_blank'>\n",
       "                        <img src='https://dev003246.esri.com/portal/portalimages/desktopapp.png' class=\"itemThumbnail\">\n",
       "                       </a>\n",
       "                    </div>\n",
       "\n",
       "                    <div class=\"item_right\"     style=\"float: none; width: auto; overflow: hidden;\">\n",
       "                        <a href='https://dev003246.esri.com/portal/home/item.html?id=5d50188907bb4f2b864202702c36340e' target='_blank'><b>GeneratedRasterProduct_31RY1Z</b>\n",
       "                        </a>\n",
       "                        <br/>Analysis Image Service generated from GenerateRaster<img src='https://dev003246.esri.com/portal/home/js/jsapi/esri/css/images/item_type_icons/imagery16.png' style=\"vertical-align:middle;\">Imagery Layer by admin\n",
       "                        <br/>Last Modified: November 30, 2016\n",
       "                        <br/>0 comments, 0 views\n",
       "                    </div>\n",
       "                </div>\n",
       "                "
      ],
      "text/plain": [
       "<Item title:\"GeneratedRasterProduct_31RY1Z\" type:Imagery Layer owner:admin>"
      ]
     },
     "metadata": {},
     "output_type": "display_data"
    },
    {
     "data": {
      "text/html": [
       "<div class=\"item_container\" style=\"height: auto; overflow: hidden; border: 1px solid #cfcfcf; border-radius: 2px; background: #f6fafa; line-height: 1.21429em; padding: 10px;\">\n",
       "                    <div class=\"item_left\" style=\"width: 210px; float: left;\">\n",
       "                       <a href='https://dev003246.esri.com/portal/home/item.html?id=db39bedac80844aaa4eeae71567564d5' target='_blank'>\n",
       "                        <img src='https://dev003246.esri.com/portal/portalimages/desktopapp.png' class=\"itemThumbnail\">\n",
       "                       </a>\n",
       "                    </div>\n",
       "\n",
       "                    <div class=\"item_right\"     style=\"float: none; width: auto; overflow: hidden;\">\n",
       "                        <a href='https://dev003246.esri.com/portal/home/item.html?id=db39bedac80844aaa4eeae71567564d5' target='_blank'><b>Reconstructed_Tracks_FOO8M4</b>\n",
       "                        </a>\n",
       "                        <br/>Reconstructed Tracks_FOO8M4<img src='https://dev003246.esri.com/portal/home/js/jsapi/esri/css/images/item_type_icons/featureshosted16.png' style=\"vertical-align:middle;\">Feature Layer Collection by admin\n",
       "                        <br/>Last Modified: November 30, 2016\n",
       "                        <br/>0 comments, 0 views\n",
       "                    </div>\n",
       "                </div>\n",
       "                "
      ],
      "text/plain": [
       "<Item title:\"Reconstructed_Tracks_FOO8M4\" type:Feature Layer Collection owner:admin>"
      ]
     },
     "metadata": {},
     "output_type": "display_data"
    },
    {
     "data": {
      "text/html": [
       "<div class=\"item_container\" style=\"height: auto; overflow: hidden; border: 1px solid #cfcfcf; border-radius: 2px; background: #f6fafa; line-height: 1.21429em; padding: 10px;\">\n",
       "                    <div class=\"item_left\" style=\"width: 210px; float: left;\">\n",
       "                       <a href='https://dev003246.esri.com/portal/home/item.html?id=57beb44c3f3441af93b0d9b110c8b915' target='_blank'>\n",
       "                        <img src='https://dev003246.esri.com/portal/portalimages/desktopapp.png' class=\"itemThumbnail\">\n",
       "                       </a>\n",
       "                    </div>\n",
       "\n",
       "                    <div class=\"item_right\"     style=\"float: none; width: auto; overflow: hidden;\">\n",
       "                        <a href='https://dev003246.esri.com/portal/home/item.html?id=57beb44c3f3441af93b0d9b110c8b915' target='_blank'><b>GeneratedRasterProduct_H4J9FO</b>\n",
       "                        </a>\n",
       "                        <br/>Analysis Image Service generated from GenerateRaster<img src='https://dev003246.esri.com/portal/home/js/jsapi/esri/css/images/item_type_icons/imagery16.png' style=\"vertical-align:middle;\">Imagery Layer by admin\n",
       "                        <br/>Last Modified: November 30, 2016\n",
       "                        <br/>0 comments, 0 views\n",
       "                    </div>\n",
       "                </div>\n",
       "                "
      ],
      "text/plain": [
       "<Item title:\"GeneratedRasterProduct_H4J9FO\" type:Imagery Layer owner:admin>"
      ]
     },
     "metadata": {},
     "output_type": "display_data"
    },
    {
     "data": {
      "text/html": [
       "<div class=\"item_container\" style=\"height: auto; overflow: hidden; border: 1px solid #cfcfcf; border-radius: 2px; background: #f6fafa; line-height: 1.21429em; padding: 10px;\">\n",
       "                    <div class=\"item_left\" style=\"width: 210px; float: left;\">\n",
       "                       <a href='https://dev003246.esri.com/portal/home/item.html?id=4e85a99168224774be358af5729940ed' target='_blank'>\n",
       "                        <img src='https://dev003246.esri.com/portal/portalimages/desktopapp.png' class=\"itemThumbnail\">\n",
       "                       </a>\n",
       "                    </div>\n",
       "\n",
       "                    <div class=\"item_right\"     style=\"float: none; width: auto; overflow: hidden;\">\n",
       "                        <a href='https://dev003246.esri.com/portal/home/item.html?id=4e85a99168224774be358af5729940ed' target='_blank'><b>GeneratedRasterProduct_NR2JGM</b>\n",
       "                        </a>\n",
       "                        <br/>Analysis Image Service generated from GenerateRaster<img src='https://dev003246.esri.com/portal/home/js/jsapi/esri/css/images/item_type_icons/imagery16.png' style=\"vertical-align:middle;\">Imagery Layer by admin\n",
       "                        <br/>Last Modified: December 01, 2016\n",
       "                        <br/>0 comments, 0 views\n",
       "                    </div>\n",
       "                </div>\n",
       "                "
      ],
      "text/plain": [
       "<Item title:\"GeneratedRasterProduct_NR2JGM\" type:Imagery Layer owner:admin>"
      ]
     },
     "metadata": {},
     "output_type": "display_data"
    },
    {
     "data": {
      "text/html": [
       "<div class=\"item_container\" style=\"height: auto; overflow: hidden; border: 1px solid #cfcfcf; border-radius: 2px; background: #f6fafa; line-height: 1.21429em; padding: 10px;\">\n",
       "                    <div class=\"item_left\" style=\"width: 210px; float: left;\">\n",
       "                       <a href='https://dev003246.esri.com/portal/home/item.html?id=c9998f663f6846449f6b71a7c1967513' target='_blank'>\n",
       "                        <img src='https://dev003246.esri.com/portal/portalimages/desktopapp.png' class=\"itemThumbnail\">\n",
       "                       </a>\n",
       "                    </div>\n",
       "\n",
       "                    <div class=\"item_right\"     style=\"float: none; width: auto; overflow: hidden;\">\n",
       "                        <a href='https://dev003246.esri.com/portal/home/item.html?id=c9998f663f6846449f6b71a7c1967513' target='_blank'><b>Reconstructed_Tracks_HEUK7N</b>\n",
       "                        </a>\n",
       "                        <br/>Reconstructed Tracks_HEUK7N<img src='https://dev003246.esri.com/portal/home/js/jsapi/esri/css/images/item_type_icons/featureshosted16.png' style=\"vertical-align:middle;\">Feature Layer Collection by admin\n",
       "                        <br/>Last Modified: December 01, 2016\n",
       "                        <br/>0 comments, 0 views\n",
       "                    </div>\n",
       "                </div>\n",
       "                "
      ],
      "text/plain": [
       "<Item title:\"Reconstructed_Tracks_HEUK7N\" type:Feature Layer Collection owner:admin>"
      ]
     },
     "metadata": {},
     "output_type": "display_data"
    },
    {
     "data": {
      "text/html": [
       "<div class=\"item_container\" style=\"height: auto; overflow: hidden; border: 1px solid #cfcfcf; border-radius: 2px; background: #f6fafa; line-height: 1.21429em; padding: 10px;\">\n",
       "                    <div class=\"item_left\" style=\"width: 210px; float: left;\">\n",
       "                       <a href='https://dev003246.esri.com/portal/home/item.html?id=eb008eec870547bab733efa210a52e5d' target='_blank'>\n",
       "                        <img src='https://dev003246.esri.com/portal/portalimages/desktopapp.png' class=\"itemThumbnail\">\n",
       "                       </a>\n",
       "                    </div>\n",
       "\n",
       "                    <div class=\"item_right\"     style=\"float: none; width: auto; overflow: hidden;\">\n",
       "                        <a href='https://dev003246.esri.com/portal/home/item.html?id=eb008eec870547bab733efa210a52e5d' target='_blank'><b>bigDataFileShares_NYCdata</b>\n",
       "                        </a>\n",
       "                        <br/><img src='https://dev003246.esri.com/portal/home/js/jsapi/esri/css/images/item_type_icons/layers16.png' style=\"vertical-align:middle;\">Big Data File Share by admin\n",
       "                        <br/>Last Modified: December 01, 2016\n",
       "                        <br/>0 comments, 0 views\n",
       "                    </div>\n",
       "                </div>\n",
       "                "
      ],
      "text/plain": [
       "<Item title:\"bigDataFileShares_NYCdata\" type:Big Data File Share owner:admin>"
      ]
     },
     "metadata": {},
     "output_type": "display_data"
    },
    {
     "data": {
      "text/html": [
       "<div class=\"item_container\" style=\"height: auto; overflow: hidden; border: 1px solid #cfcfcf; border-radius: 2px; background: #f6fafa; line-height: 1.21429em; padding: 10px;\">\n",
       "                    <div class=\"item_left\" style=\"width: 210px; float: left;\">\n",
       "                       <a href='https://dev003246.esri.com/portal/home/item.html?id=e3710b959c724cbea7c2b9ebc61ac486' target='_blank'>\n",
       "                        <img src='https://dev003246.esri.com/portal/portalimages/desktopapp.png' class=\"itemThumbnail\">\n",
       "                       </a>\n",
       "                    </div>\n",
       "\n",
       "                    <div class=\"item_right\"     style=\"float: none; width: auto; overflow: hidden;\">\n",
       "                        <a href='https://dev003246.esri.com/portal/home/item.html?id=e3710b959c724cbea7c2b9ebc61ac486' target='_blank'><b>GeneratedRasterProduct_40CU34</b>\n",
       "                        </a>\n",
       "                        <br/>Analysis Image Service generated from GenerateRaster<img src='https://dev003246.esri.com/portal/home/js/jsapi/esri/css/images/item_type_icons/imagery16.png' style=\"vertical-align:middle;\">Imagery Layer by admin\n",
       "                        <br/>Last Modified: December 01, 2016\n",
       "                        <br/>0 comments, 0 views\n",
       "                    </div>\n",
       "                </div>\n",
       "                "
      ],
      "text/plain": [
       "<Item title:\"GeneratedRasterProduct_40CU34\" type:Imagery Layer owner:admin>"
      ]
     },
     "metadata": {},
     "output_type": "display_data"
    }
   ],
   "source": [
    "for item in admin.items():\n",
    "    display(item)"
   ]
  },
  {
   "cell_type": "markdown",
   "metadata": {},
   "source": [
    "## Groups"
   ]
  },
  {
   "cell_type": "code",
   "execution_count": 14,
   "metadata": {},
   "outputs": [
    {
     "data": {
      "text/plain": [
       "[<Group title:\"Living Atlas\" owner:esri_livingatlas>,\n",
       " <Group title:\"Living Atlas Analysis Layers\" owner:esri_livingatlas>]"
      ]
     },
     "execution_count": 14,
     "metadata": {},
     "output_type": "execute_result"
    }
   ],
   "source": [
    "groups = enterprise.groups.search('living atlas')\n",
    "groups"
   ]
  },
  {
   "cell_type": "code",
   "execution_count": 15,
   "metadata": {},
   "outputs": [
    {
     "data": {
      "text/html": [
       "<div class=\"9item_container\" style=\"height: auto; overflow: hidden; border: 1px solid #cfcfcf; border-radius: 2px; background: #f6fafa; line-height: 1.21429em; padding: 10px;\">\n",
       "                    <div class=\"item_left\" style=\"width: 210px; float: left;\">\n",
       "                       <a href='https://dev003246.esri.com/portal/home/group.html?id=81f4ed89c3c74086a99d168925ce609e' target='_blank'>\n",
       "                        <img src='data:image/png;base64,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' ' class=\"itemThumbnail\">\n",
       "                       </a>\n",
       "                    </div>\n",
       "\n",
       "                    <div class=\"item_right\" style=\"float: none; width: auto; overflow: hidden;\">\n",
       "                        <a href='https://dev003246.esri.com/portal/home/group.html?id=81f4ed89c3c74086a99d168925ce609e' target='_blank'><b>Living Atlas</b>\n",
       "                        </a>\n",
       "                        <br/>\n",
       "                        <br/><b>Summary</b>: This group contains items for the Living Atlas to be made available through Portal at the 10.5 release.\n",
       "                        <br/><b>Description</b>: None\n",
       "                        <br/><b>Owner</b>: esri_livingatlas\n",
       "                        <br/><b>Created</b>: April 20, 2016\n",
       "\n",
       "                    </div>\n",
       "                </div>\n",
       "                "
      ],
      "text/plain": [
       "<Group title:\"Living Atlas\" owner:esri_livingatlas>"
      ]
     },
     "execution_count": 15,
     "metadata": {},
     "output_type": "execute_result"
    }
   ],
   "source": [
    "living_atlas = groups[0]\n",
    "living_atlas"
   ]
  },
  {
   "cell_type": "code",
   "execution_count": 16,
   "metadata": {
    "scrolled": true
   },
   "outputs": [
    {
     "data": {
      "text/plain": [
       "[<Item title:\"2016 Population Density by Congressional District\" type:Feature Layer Collection owner:esri_livingatlas>,\n",
       " <Item title:\"2016 Terrorist Attacks\" type:Web Mapping Application owner:esri_livingatlas>,\n",
       " <Item title:\"2016 USA 401(k) Retirement Plans\" type:Map Image Layer owner:esri_livingatlas>,\n",
       " <Item title:\"2016 USA Adults That Exercise Regularly\" type:Map Image Layer owner:esri_livingatlas>,\n",
       " <Item title:\"2016 USA Alcoholic Beverage Spending\" type:Map Image Layer owner:esri_livingatlas>,\n",
       " <Item title:\"2016 USA Average Household Income\" type:Map Image Layer owner:esri_livingatlas>,\n",
       " <Item title:\"2016 USA Average Household Size\" type:Map Image Layer owner:esri_livingatlas>,\n",
       " <Item title:\"2016 USA Car Dealership Market Opportunity\" type:Map Image Layer owner:esri_livingatlas>,\n",
       " <Item title:\"2016 USA Child Care Spending\" type:Map Image Layer owner:esri_livingatlas>,\n",
       " <Item title:\"2016 USA Clothing/Accessory Store Market Opportunity\" type:Map Image Layer owner:esri_livingatlas>,\n",
       " <Item title:\"2016 USA Coffee Maker Ownership\" type:Map Image Layer owner:esri_livingatlas>,\n",
       " <Item title:\"2016 USA Democratic Party Affiliation\" type:Map Image Layer owner:esri_livingatlas>,\n",
       " <Item title:\"2016 USA Diabetes Medication Users (Insulin)\" type:Map Image Layer owner:esri_livingatlas>,\n",
       " <Item title:\"2016 USA Diabetes Medication Users (Non-Insulin)\" type:Map Image Layer owner:esri_livingatlas>,\n",
       " <Item title:\"2016 USA Diversity Index\" type:Map Image Layer owner:esri_livingatlas>,\n",
       " <Item title:\"2016 USA Education Spending\" type:Map Image Layer owner:esri_livingatlas>,\n",
       " <Item title:\"2016 USA Electricity Spending\" type:Map Image Layer owner:esri_livingatlas>,\n",
       " <Item title:\"2016 USA Electronics Stores Market Opportunity\" type:Map Image Layer owner:esri_livingatlas>,\n",
       " <Item title:\"2016 USA Facebook Users\" type:Map Image Layer owner:esri_livingatlas>,\n",
       " <Item title:\"2016 USA Food Service Market Opportunity\" type:Map Image Layer owner:esri_livingatlas>,\n",
       " <Item title:\"2016 USA Food Spending (Away from Home)\" type:Map Image Layer owner:esri_livingatlas>,\n",
       " <Item title:\"2016 USA Frequent Coupon Use\" type:Map Image Layer owner:esri_livingatlas>,\n",
       " <Item title:\"2016 USA Fruits and Vegetables Spending\" type:Map Image Layer owner:esri_livingatlas>,\n",
       " <Item title:\"2016 USA Grocery Store Market Opportunity\" type:Map Image Layer owner:esri_livingatlas>,\n",
       " <Item title:\"2016 USA Health Care Spending\" type:Map Image Layer owner:esri_livingatlas>,\n",
       " <Item title:\"2016 USA Health Insurance Spending\" type:Map Image Layer owner:esri_livingatlas>,\n",
       " <Item title:\"2016 USA High Credit Card Expenditures\" type:Map Image Layer owner:esri_livingatlas>,\n",
       " <Item title:\"2016 USA Home Improvement Spending\" type:Map Image Layer owner:esri_livingatlas>,\n",
       " <Item title:\"2016 USA Long Commute Time to Work\" type:Map Image Layer owner:esri_livingatlas>,\n",
       " <Item title:\"2016 USA Median Age\" type:Map Image Layer owner:esri_livingatlas>,\n",
       " <Item title:\"2016 USA Median Disposable Income\" type:Map Image Layer owner:esri_livingatlas>,\n",
       " <Item title:\"2016 USA Median Home Value\" type:Map Image Layer owner:esri_livingatlas>,\n",
       " <Item title:\"2016 USA Median Household Income\" type:Map Image Layer owner:esri_livingatlas>,\n",
       " <Item title:\"2016 USA Medical Insurance Coverage\" type:Map Image Layer owner:esri_livingatlas>,\n",
       " <Item title:\"2016 USA Online Banking\" type:Map Image Layer owner:esri_livingatlas>,\n",
       " <Item title:\"2016 USA Organic Food Consumption\" type:Map Image Layer owner:esri_livingatlas>,\n",
       " <Item title:\"2016 USA Per Capita Income\" type:Map Image Layer owner:esri_livingatlas>,\n",
       " <Item title:\"2016 USA Pet Spending\" type:Map Image Layer owner:esri_livingatlas>,\n",
       " <Item title:\"2016 USA Phone Services Spending\" type:Map Image Layer owner:esri_livingatlas>,\n",
       " <Item title:\"2016 USA Population Density\" type:Map Image Layer owner:esri_livingatlas>,\n",
       " <Item title:\"2016 USA Recycling Habits\" type:Map Image Layer owner:esri_livingatlas>,\n",
       " <Item title:\"2016 USA Republican Party Affiliation\" type:Map Image Layer owner:esri_livingatlas>,\n",
       " <Item title:\"2016 USA Restaurant Spending\" type:Map Image Layer owner:esri_livingatlas>,\n",
       " <Item title:\"2016 USA Retail Goods Spending\" type:Map Image Layer owner:esri_livingatlas>,\n",
       " <Item title:\"2016 USA Retail Opportunity\" type:Map Image Layer owner:esri_livingatlas>,\n",
       " <Item title:\"2016 USA Smartphone Ownership\" type:Map Image Layer owner:esri_livingatlas>,\n",
       " <Item title:\"2016 USA Tablet/e-Reader Ownership\" type:Map Image Layer owner:esri_livingatlas>,\n",
       " <Item title:\"2016 USA Tapestry Segmentation\" type:Map Image Layer owner:esri_livingatlas>,\n",
       " <Item title:\"2016 USA Traffic Counts\" type:Feature Layer Collection owner:esri_livingatlas>,\n",
       " <Item title:\"2016 USA Transportation Fuel Spending\" type:Map Image Layer owner:esri_livingatlas>,\n",
       " <Item title:\"2016 USA Unemployment Rate\" type:Map Image Layer owner:esri_livingatlas>,\n",
       " <Item title:\"2016 USA Water and Public Services Spending\" type:Map Image Layer owner:esri_livingatlas>,\n",
       " <Item title:\"2016-2021 USA Population Growth \" type:Map Image Layer owner:esri_livingatlas>,\n",
       " <Item title:\"Active Hurricanes\" type:Map Image Layer owner:esri_livingatlas>,\n",
       " <Item title:\"Africa Carbon Biomass\" type:Imagery Layer owner:esri_livingatlas>,\n",
       " <Item title:\"Africa Infant Mortality\" type:Imagery Layer owner:esri_livingatlas>,\n",
       " <Item title:\"Africa Isobioclimates\" type:Imagery Layer owner:esri_livingatlas>,\n",
       " <Item title:\"Africa Land Surface Forms\" type:Imagery Layer owner:esri_livingatlas>,\n",
       " <Item title:\"Africa Surficial Lithology\" type:Imagery Layer owner:esri_livingatlas>,\n",
       " <Item title:\"Africa Terrestrial Ecosystems\" type:Imagery Layer owner:esri_livingatlas>,\n",
       " <Item title:\"Africa Topographic Moisture Potential\" type:Imagery Layer owner:esri_livingatlas>,\n",
       " <Item title:\"Alaska Revealed: High Resolution Elevation Data\" type:Web Mapping Application owner:esri_livingatlas>,\n",
       " <Item title:\"Algeria Country Boundary 2014\" type:Feature Layer Collection owner:esri_livingatlas>,\n",
       " <Item title:\"Algeria Wilayat Boundaries 2014\" type:Feature Layer Collection owner:esri_livingatlas>,\n",
       " <Item title:\"An Introduction to the USGS Historical Topographic Map Collection\" type:Web Mapping Application owner:esri_livingatlas>,\n",
       " <Item title:\"Antarctic Imagery\" type:Web Map owner:esri_livingatlas>,\n",
       " <Item title:\"Arctic Imagery\" type:Web Map owner:esri_livingatlas>,\n",
       " <Item title:\"Arctic Ocean Base\" type:Map Image Layer owner:esri_livingatlas>,\n",
       " <Item title:\"Arctic Ocean Basemap\" type:Web Map owner:esri_livingatlas>,\n",
       " <Item title:\"Arctic Ocean Reference\" type:Map Image Layer owner:esri_livingatlas>,\n",
       " <Item title:\"Arctic Sea Surface Temperature (°C)\" type:Imagery Layer owner:esri_livingatlas>,\n",
       " <Item title:\"Argentina Country Boundary 2014\" type:Feature Layer Collection owner:esri_livingatlas>,\n",
       " <Item title:\"Argentina Departamento Boundaries 2014\" type:Feature Layer Collection owner:esri_livingatlas>,\n",
       " <Item title:\"Argentina Provincia Boundaries 2014\" type:Feature Layer Collection owner:esri_livingatlas>,\n",
       " <Item title:\"Atlas for a Changing Planet.\" type:Web Mapping Application owner:esri_livingatlas>,\n",
       " <Item title:\"Australia Country Boundary 2014\" type:Feature Layer Collection owner:esri_livingatlas>,\n",
       " <Item title:\"Australia LocalGovernmentArea Boundaries 2014\" type:Feature Layer Collection owner:esri_livingatlas>,\n",
       " <Item title:\"Australia Postcodes1 Boundaries 2014\" type:Feature Layer Collection owner:esri_livingatlas>,\n",
       " <Item title:\"Australia Postcodes2 Boundaries 2014\" type:Feature Layer Collection owner:esri_livingatlas>,\n",
       " <Item title:\"Australia Postcodes4 Boundaries 2014\" type:Feature Layer Collection owner:esri_livingatlas>,\n",
       " <Item title:\"Australia State Boundaries 2014\" type:Feature Layer Collection owner:esri_livingatlas>,\n",
       " <Item title:\"Australia StatisticalAreasLevel1 Boundaries 2014\" type:Feature Layer Collection owner:esri_livingatlas>,\n",
       " <Item title:\"Australia StatisticalAreasLevel2 Boundaries 2014\" type:Feature Layer Collection owner:esri_livingatlas>,\n",
       " <Item title:\"Australia StatisticalAreasLevel3 Boundaries 2014\" type:Feature Layer Collection owner:esri_livingatlas>,\n",
       " <Item title:\"Australia StatisticalAreasLevel4 Boundaries 2014\" type:Feature Layer Collection owner:esri_livingatlas>,\n",
       " <Item title:\"Austria Bezirke Boundaries 2013\" type:Feature Layer Collection owner:esri_livingatlas>,\n",
       " <Item title:\"Austria Bundeslander Boundaries 2013\" type:Feature Layer Collection owner:esri_livingatlas>,\n",
       " <Item title:\"Austria Country Boundaries 2013\" type:Feature Layer Collection owner:esri_livingatlas>,\n",
       " <Item title:\"Austria Gemeinden Boundaries 2013\" type:Feature Layer Collection owner:esri_livingatlas>,\n",
       " <Item title:\"Austria Postcodes1 Boundaries 2013\" type:Feature Layer Collection owner:esri_livingatlas>,\n",
       " <Item title:\"Austria Postcodes2 Boundaries 2013\" type:Feature Layer Collection owner:esri_livingatlas>,\n",
       " <Item title:\"Austria Postcodes4 Boundaries 2013\" type:Feature Layer Collection owner:esri_livingatlas>,\n",
       " <Item title:\"Bangladesh Country Boundary 2014\" type:Feature Layer Collection owner:esri_livingatlas>,\n",
       " <Item title:\"Bangladesh Region Boundaries 2014\" type:Feature Layer Collection owner:esri_livingatlas>,\n",
       " <Item title:\"Bangladesh Upazila Boundaries 2014\" type:Feature Layer Collection owner:esri_livingatlas>,\n",
       " <Item title:\"Bangladesh Zila Boundaries 2014\" type:Feature Layer Collection owner:esri_livingatlas>,\n",
       " <Item title:\"Belgium Arrondissment Boundaries 2013\" type:Feature Layer Collection owner:esri_livingatlas>,\n",
       " <Item title:\"Belgium Commune Boundaries 2013\" type:Feature Layer Collection owner:esri_livingatlas>,\n",
       " <Item title:\"Belgium Country Boundary 2013\" type:Feature Layer Collection owner:esri_livingatlas>,\n",
       " <Item title:\"Belgium Geweest Boundaries 2013\" type:Feature Layer Collection owner:esri_livingatlas>,\n",
       " <Item title:\"Belgium Postcodes1 Boundaries 2013\" type:Feature Layer Collection owner:esri_livingatlas>,\n",
       " <Item title:\"Belgium Postcodes2 Boundaries 2013\" type:Feature Layer Collection owner:esri_livingatlas>,\n",
       " <Item title:\"Belgium Postcodes4 Boundaries 2013\" type:Feature Layer Collection owner:esri_livingatlas>,\n",
       " <Item title:\"Belgium Provincie Boundaries 2013\" type:Feature Layer Collection owner:esri_livingatlas>,\n",
       " <Item title:\"Brazil Country Boundary 2014\" type:Feature Layer Collection owner:esri_livingatlas>,\n",
       " <Item title:\"Brazil Distritos Boundaries 2014\" type:Feature Layer Collection owner:esri_livingatlas>,\n",
       " <Item title:\"Brazil Municipios Boundaries 2014\" type:Feature Layer Collection owner:esri_livingatlas>,\n",
       " <Item title:\"Brazil Setores Boundaries 2014\" type:Feature Layer Collection owner:esri_livingatlas>,\n",
       " <Item title:\"Brazil Subdistritos Boundaries 2014\" type:Feature Layer Collection owner:esri_livingatlas>,\n",
       " <Item title:\"Brazil Unidades Boundaries 2014\" type:Feature Layer Collection owner:esri_livingatlas>,\n",
       " <Item title:\"Chile Comuna Boundaries 2014\" type:Feature Layer Collection owner:esri_livingatlas>,\n",
       " <Item title:\"Chile Country Boundary 2014\" type:Feature Layer Collection owner:esri_livingatlas>,\n",
       " <Item title:\"Chile Provincia Boundaries 2014\" type:Feature Layer Collection owner:esri_livingatlas>,\n",
       " <Item title:\"Chile Regione Boundaries 2014\" type:Feature Layer Collection owner:esri_livingatlas>,\n",
       " <Item title:\"China CountiesCities Boundaries 2015\" type:Feature Layer Collection owner:esri_livingatlas>,\n",
       " <Item title:\"China CountiesCityDist Boundaries 2015\" type:Feature Layer Collection owner:esri_livingatlas>,\n",
       " <Item title:\"China Country Boundary 2015\" type:Feature Layer Collection owner:esri_livingatlas>,\n",
       " <Item title:\"China Prefecture Boundaries 2015\" type:Feature Layer Collection owner:esri_livingatlas>,\n",
       " <Item title:\"China Province Boundaries 2015\" type:Feature Layer Collection owner:esri_livingatlas>,\n",
       " <Item title:\"Colombia Country Boundary 2014\" type:Feature Layer Collection owner:esri_livingatlas>,\n",
       " <Item title:\"Colombia Departamentos Boundaries 2014\" type:Feature Layer Collection owner:esri_livingatlas>,\n",
       " <Item title:\"Colombia Municipios Boundaries 2014\" type:Feature Layer Collection owner:esri_livingatlas>,\n",
       " <Item title:\"Current Wind and Weather Conditions\" type:Map Image Layer owner:esri_livingatlas>,\n",
       " <Item title:\"Czech Republic BSU Boundaries 2013\" type:Feature Layer Collection owner:esri_livingatlas>,\n",
       " <Item title:\"Czech Republic Country Boundary 2013\" type:Feature Layer Collection owner:esri_livingatlas>,\n",
       " <Item title:\"Czech Republic Kraj Boundaries 2013\" type:Feature Layer Collection owner:esri_livingatlas>,\n",
       " <Item title:\"Czech Republic Obce Boundaries 2013\" type:Feature Layer Collection owner:esri_livingatlas>,\n",
       " <Item title:\"Czech Republic Oblasti Boundaries 2013\" type:Feature Layer Collection owner:esri_livingatlas>,\n",
       " <Item title:\"Czech Republic Okresy Boundaries 2013\" type:Feature Layer Collection owner:esri_livingatlas>,\n",
       " <Item title:\"Czech Republic Orp Boundaries 2013\" type:Feature Layer Collection owner:esri_livingatlas>,\n",
       " <Item title:\"Czech Republic Postcodes1 Boundaries 2013\" type:Feature Layer Collection owner:esri_livingatlas>,\n",
       " <Item title:\"Czech Republic Postcodes2 Boundaries 2013\" type:Feature Layer Collection owner:esri_livingatlas>,\n",
       " <Item title:\"Czech Republic Postcodes5 Boundaries 2013\" type:Feature Layer Collection owner:esri_livingatlas>,\n",
       " <Item title:\"Daily Planet Imagery\" type:Web Map owner:esri_livingatlas>,\n",
       " <Item title:\"DeLorme World Basemap\" type:Map Image Layer owner:esri_livingatlas>,\n",
       " <Item title:\"DeLorme World Basemap\" type:Web Map owner:esri_livingatlas>,\n",
       " <Item title:\"Denmark Country Boundary 2013\" type:Feature Layer Collection owner:esri_livingatlas>,\n",
       " <Item title:\"Denmark Kommuner Boundaries 2013\" type:Feature Layer Collection owner:esri_livingatlas>,\n",
       " <Item title:\"Denmark Landsdeler Boundaries 2013\" type:Feature Layer Collection owner:esri_livingatlas>,\n",
       " <Item title:\"Denmark Postcodes1 Boundaries 2013\" type:Feature Layer Collection owner:esri_livingatlas>,\n",
       " <Item title:\"Denmark Postcodes2 Boundaries 2013\" type:Feature Layer Collection owner:esri_livingatlas>,\n",
       " <Item title:\"Denmark Regioner Boundaries 2013\" type:Feature Layer Collection owner:esri_livingatlas>,\n",
       " <Item title:\"Distance from Shore (km)\" type:Imagery Layer owner:esri_livingatlas>,\n",
       " <Item title:\"Distance to Coast (km)\" type:Imagery Layer owner:esri_livingatlas>,\n",
       " <Item title:\"Downloader Basins 2014\" type:Web Map owner:esri_livingatlas>,\n",
       " <Item title:\"Earth Water States (2014-15)\" type:Web Map owner:esri_livingatlas>,\n",
       " <Item title:\"EcoExplorer\" type:Web Mapping Application owner:esri_livingatlas>,\n",
       " <Item title:\"Ecuador Cantone Boundaries 2014\" type:Feature Layer Collection owner:esri_livingatlas>,\n",
       " <Item title:\"Ecuador Country Boundary 2014\" type:Feature Layer Collection owner:esri_livingatlas>,\n",
       " <Item title:\"Ecuador Provincia Boundaries 2014\" type:Feature Layer Collection owner:esri_livingatlas>,\n",
       " <Item title:\"Elevation Coverage Map\" type:Map Image Layer owner:esri_livingatlas>,\n",
       " <Item title:\"Esri Drought Tracker\" type:Web Mapping Application owner:esri_livingatlas>,\n",
       " <Item title:\"Europe NUTS 0 Demographics\" type:Feature Layer Collection owner:esri_livingatlas>,\n",
       " <Item title:\"Europe NUTS 1 Demographics\" type:Feature Layer Collection owner:esri_livingatlas>,\n",
       " <Item title:\"Europe NUTS 2 Demographics\" type:Feature Layer Collection owner:esri_livingatlas>,\n",
       " <Item title:\"Europe NUTS 3 Demographics\" type:Feature Layer Collection owner:esri_livingatlas>,\n",
       " <Item title:\"Explore a Tapestry of World Ecosystems\" type:Web Mapping Application owner:esri_livingatlas>,\n",
       " <Item title:\"Exploring Arctic Elevation\" type:Web Mapping Application owner:esri_livingatlas>,\n",
       " <Item title:\"Extract Landscape Source Data\" type:Geoprocessing Toolbox owner:esri_livingatlas>,\n",
       " <Item title:\"Feeding the World\" type:Web Mapping Application owner:esri_livingatlas>,\n",
       " <Item title:\"Finland Country Boundary 2013\" type:Feature Layer Collection owner:esri_livingatlas>,\n",
       " <Item title:\"Finland Kunnat Boundaries 2013\" type:Feature Layer Collection owner:esri_livingatlas>,\n",
       " <Item title:\"Finland Maakunnat Boundaries 2013\" type:Feature Layer Collection owner:esri_livingatlas>,\n",
       " <Item title:\"Finland Postcodes1 Boundaries 2013\" type:Feature Layer Collection owner:esri_livingatlas>,\n",
       " <Item title:\"Finland Postcodes2 Boundaries 2013\" type:Feature Layer Collection owner:esri_livingatlas>,\n",
       " <Item title:\"Finland Postcodes5 Boundaries 2013\" type:Feature Layer Collection owner:esri_livingatlas>,\n",
       " <Item title:\"Finland Seutukunnat Boundaries 2013\" type:Feature Layer Collection owner:esri_livingatlas>,\n",
       " <Item title:\"Finland Suuralueet Boundaries 2013\" type:Feature Layer Collection owner:esri_livingatlas>,\n",
       " <Item title:\"France Arrondissement Boundaries 2013\" type:Feature Layer Collection owner:esri_livingatlas>,\n",
       " <Item title:\"France Canton Boundaries 2013\" type:Feature Layer Collection owner:esri_livingatlas>,\n",
       " <Item title:\"France Commune Boundaries 2013\" type:Feature Layer Collection owner:esri_livingatlas>,\n",
       " <Item title:\"France Country Boundary 2013\" type:Feature Layer Collection owner:esri_livingatlas>,\n",
       " <Item title:\"France Departement Boundaries 2013\" type:Feature Layer Collection owner:esri_livingatlas>,\n",
       " <Item title:\"France Postcodes2 Boundaries 2013\" type:Feature Layer Collection owner:esri_livingatlas>,\n",
       " <Item title:\"France Postcodes5 Boundaries 2013\" type:Feature Layer Collection owner:esri_livingatlas>,\n",
       " <Item title:\"France Region Boundaries 2013\" type:Feature Layer Collection owner:esri_livingatlas>,\n",
       " <Item title:\"Germany Bundeslander Boundaries 2013\" type:Feature Layer Collection owner:esri_livingatlas>,\n",
       " <Item title:\"Germany Country Boundary 2013\" type:Feature Layer Collection owner:esri_livingatlas>,\n",
       " <Item title:\"Germany Gemeinden Boundaries 2013\" type:Feature Layer Collection owner:esri_livingatlas>,\n",
       " <Item title:\"Germany Kreise Boundaries 2013\" type:Feature Layer Collection owner:esri_livingatlas>,\n",
       " <Item title:\"Germany Postcodes1 Boundaries 2013\" type:Feature Layer Collection owner:esri_livingatlas>,\n",
       " <Item title:\"Germany Postcodes2 Boundaries 2013\" type:Feature Layer Collection owner:esri_livingatlas>,\n",
       " <Item title:\"Germany Postcodes5 Boundaries 2013\" type:Feature Layer Collection owner:esri_livingatlas>,\n",
       " <Item title:\"Ghana Country Boundary 2015\" type:Feature Layer Collection owner:esri_livingatlas>,\n",
       " <Item title:\"Ghana District Boundaries 2015\" type:Feature Layer Collection owner:esri_livingatlas>,\n",
       " <Item title:\"Ghana Region Boundaries 2015\" type:Feature Layer Collection owner:esri_livingatlas>,\n",
       " <Item title:\"GLDAS Evapotranspiration 2000 - Present\" type:Imagery Layer owner:esri_livingatlas>,\n",
       " <Item title:\"GLDAS Precipitation 2000 - Present\" type:Imagery Layer owner:esri_livingatlas>,\n",
       " <Item title:\"GLDAS Runoff 2000 - Present\" type:Imagery Layer owner:esri_livingatlas>,\n",
       " <Item title:\"GLDAS Snowpack 2000 - Present\" type:Imagery Layer owner:esri_livingatlas>,\n",
       " <Item title:\"GLDAS Soil Moisture 2000 - Present\" type:Imagery Layer owner:esri_livingatlas>,\n",
       " <Item title:\"Global Crossroads: The World's 25 Busiest Airports\" type:Web Mapping Application owner:esri_livingatlas>,\n",
       " <Item title:\"Greece Country Boundary 2013\" type:Feature Layer Collection owner:esri_livingatlas>,\n",
       " <Item title:\"Greece Dimoi Boundaries 2013\" type:Feature Layer Collection owner:esri_livingatlas>,\n",
       " <Item title:\"Greece Nomoi Boundaries 2013\" type:Feature Layer Collection owner:esri_livingatlas>,\n",
       " <Item title:\"Greece Periferie Boundaries 2013\" type:Feature Layer Collection owner:esri_livingatlas>,\n",
       " <Item title:\"Greece Postcodes1 Boundaries 2013\" type:Feature Layer Collection owner:esri_livingatlas>,\n",
       " <Item title:\"Greece Postcodes2 Boundaries 2013\" type:Feature Layer Collection owner:esri_livingatlas>,\n",
       " <Item title:\"Ground Surface Elevation - 30m\" type:Imagery Layer owner:esri_livingatlas>,\n",
       " <Item title:\"Imagery (WGS84)\" type:Web Map owner:esri_livingatlas>,\n",
       " <Item title:\"Imagery Hybrid\" type:Web Map owner:esri_livingatlas>,\n",
       " <Item title:\"Imagery with Labels\" type:Web Map owner:esri_livingatlas>,\n",
       " <Item title:\"Imagery with Metadata\" type:Web Map owner:esri_livingatlas>,\n",
       " <Item title:\"India Country Boundary 2015\" type:Feature Layer Collection owner:esri_livingatlas>,\n",
       " <Item title:\"India District Boundaries 2015\" type:Feature Layer Collection owner:esri_livingatlas>,\n",
       " <Item title:\"India State Boundaries 2015\" type:Feature Layer Collection owner:esri_livingatlas>,\n",
       " <Item title:\"India Subdistrict Boundaries 2015\" type:Feature Layer Collection owner:esri_livingatlas>,\n",
       " <Item title:\"Indonesia Country Boundary 2014\" type:Feature Layer Collection owner:esri_livingatlas>,\n",
       " <Item title:\"Indonesia Kabupaten Boundaries 2014\" type:Feature Layer Collection owner:esri_livingatlas>,\n",
       " <Item title:\"Indonesia Provinsi Boundaries 2014\" type:Feature Layer Collection owner:esri_livingatlas>,\n",
       " <Item title:\"Interesting Places\" type:Web Scene owner:esri_livingatlas>,\n",
       " <Item title:\"Ireland Country Boundary 2013\" type:Feature Layer Collection owner:esri_livingatlas>,\n",
       " <Item title:\"Ireland County Boundaries 2013\" type:Feature Layer Collection owner:esri_livingatlas>,\n",
       " <Item title:\"Ireland ElectoralDivsion Boundaries 2013\" type:Feature Layer Collection owner:esri_livingatlas>,\n",
       " <Item title:\"Ireland Provine Boundaries 2013\" type:Feature Layer Collection owner:esri_livingatlas>,\n",
       " <Item title:\"Ireland RegionalAuthority Boundaries 2013\" type:Feature Layer Collection owner:esri_livingatlas>,\n",
       " <Item title:\"Isreal Country Boundary 2014\" type:Feature Layer Collection owner:esri_livingatlas>,\n",
       " <Item title:\"Isreal District Boundaries 2014\" type:Feature Layer Collection owner:esri_livingatlas>,\n",
       " <Item title:\"Isreal LocalCouncil Boundaries 2014\" type:Feature Layer Collection owner:esri_livingatlas>,\n",
       " <Item title:\"Italy CensusArea Boundaries 2013\" type:Feature Layer Collection owner:esri_livingatlas>,\n",
       " <Item title:\"Italy Comuni Boundaries 2013\" type:Feature Layer Collection owner:esri_livingatlas>,\n",
       " <Item title:\"Italy Country Boundary 2013\" type:Feature Layer Collection owner:esri_livingatlas>,\n",
       " <Item title:\"Italy Postcodes1 Boundaries 2013\" type:Feature Layer Collection owner:esri_livingatlas>,\n",
       " <Item title:\"Italy Postcodes2 Boundaries 2013\" type:Feature Layer Collection owner:esri_livingatlas>,\n",
       " <Item title:\"Italy Postcodes5 Boundaries 2013\" type:Feature Layer Collection owner:esri_livingatlas>,\n",
       " <Item title:\"Italy Provincia Boundaries 2013\" type:Feature Layer Collection owner:esri_livingatlas>,\n",
       " <Item title:\"Italy Regioni Boundaries 2013\" type:Feature Layer Collection owner:esri_livingatlas>,\n",
       " <Item title:\"Japan Country Boundary 2014\" type:Feature Layer Collection owner:esri_livingatlas>,\n",
       " <Item title:\"Japan Municipality Boundaries 2014\" type:Feature Layer Collection owner:esri_livingatlas>,\n",
       " <Item title:\"Japan Prefecture Boundaries 2014\" type:Feature Layer Collection owner:esri_livingatlas>,\n",
       " <Item title:\"Johannesburg, South Africa Buildings\" type:Scene Layer owner:esri_livingatlas>,\n",
       " <Item title:\"Johannesburg, South Africa Scene\" type:Web Scene owner:esri_livingatlas>,\n",
       " <Item title:\"Kenya Country Boundary 2015\" type:Feature Layer Collection owner:esri_livingatlas>,\n",
       " <Item title:\"Kenya District Boundaries 2015\" type:Feature Layer Collection owner:esri_livingatlas>,\n",
       " <Item title:\"Kenya Mikoa Boundaries 2015\" type:Feature Layer Collection owner:esri_livingatlas>,\n",
       " <Item title:\"Kenya Wilaya Boundaries 2015\" type:Feature Layer Collection owner:esri_livingatlas>,\n",
       " <Item title:\"Landsat 8 Panchromatic\" type:Imagery Layer owner:esri_livingatlas>,\n",
       " <Item title:\"Landsat 8 PanSharpened\" type:Imagery Layer owner:esri_livingatlas>,\n",
       " <Item title:\"Landsat 8 Views\" type:Imagery Layer owner:esri_livingatlas>,\n",
       " <Item title:\"Landsat GLS (NDVI)\" type:Web Map owner:esri_livingatlas>,\n",
       " <Item title:\"Landsat GLS Multispectral\" type:Imagery Layer owner:esri_livingatlas>,\n",
       " <Item title:\"Landsat GLS Panchromatic\" type:Imagery Layer owner:esri_livingatlas>,\n",
       " <Item title:\"Landsat GLS Pansharpened\" type:Imagery Layer owner:esri_livingatlas>,\n",
       " <Item title:\"Landsat Layers\" type:Web Map owner:esri_livingatlas>,\n",
       " <Item title:\"Landsat Series: Human activities are reshaping Earth's surface\" type:Web Mapping Application owner:esri_livingatlas>,\n",
       " <Item title:\"Landsat Shaded Basemap\" type:Web Map owner:esri_livingatlas>,\n",
       " <Item title:\"Light Gray Canvas\" type:Web Map owner:esri_livingatlas>,\n",
       " <Item title:\"Linz, Austria Buildings\" type:Scene Layer owner:esri_livingatlas>,\n",
       " <Item title:\"Linz, Austria Scene\" type:Web Scene owner:esri_livingatlas>,\n",
       " <Item title:\"Live Stream Gauges\" type:Map Image Layer owner:esri_livingatlas>,\n",
       " <Item title:\"Live Stream Gauges (Feature Service)\" type:Feature Layer Collection owner:esri_livingatlas>,\n",
       " <Item title:\"Live Stream Gauges (Flooding)\" type:Map Image Layer owner:esri_livingatlas>,\n",
       " <Item title:\"Living Atlas for Agriculture\" type:Web Mapping Application owner:esri_livingatlas>,\n",
       " <Item title:\"Living Atlas for Soils\" type:Web Mapping Application owner:esri_livingatlas>,\n",
       " <Item title:\"Living Atlas of the World\" type:Web Mapping Application owner:esri_livingatlas>,\n",
       " <Item title:\"Malaysia Country Boundary 2014\" type:Feature Layer Collection owner:esri_livingatlas>,\n",
       " <Item title:\"Malaysia Daerah Boundaries 2014\" type:Feature Layer Collection owner:esri_livingatlas>,\n",
       " <Item title:\"Malaysia Negeri Boundaries 2014\" type:Feature Layer Collection owner:esri_livingatlas>,\n",
       " <Item title:\"MapWorld Global Basemap\" type:Web Map owner:esri_livingatlas>,\n",
       " <Item title:\"MapWorld Global Imagery Hybrid\" type:Web Map owner:esri_livingatlas>,\n",
       " <Item title:\"MapWorld Global Shaded Terrain Map\" type:Web Map owner:esri_livingatlas>,\n",
       " <Item title:\"MDA NaturalVue Imagery (Cached with Labels)\" type:Web Map owner:esri_livingatlas>,\n",
       " <Item title:\"MDA NaturalVue Imagery (GCS)\" type:Web Map owner:esri_livingatlas>,\n",
       " <Item title:\"Mexico Country Boundary 2014\" type:Feature Layer Collection owner:esri_livingatlas>,\n",
       " <Item title:\"Mexico Estado Boundaries 2014\" type:Feature Layer Collection owner:esri_livingatlas>,\n",
       " <Item title:\"Mexico Municipio Boundaries 2014\" type:Feature Layer Collection owner:esri_livingatlas>,\n",
       " <Item title:\"MODIS (Burn Scars and Flooding)\" type:Web Map owner:esri_livingatlas>,\n",
       " <Item title:\"MODIS (True Color)\" type:Web Map owner:esri_livingatlas>,\n",
       " <Item title:\"MODIS Burn Scars and Flooding - Aqua Corrected Reflectance\" type:Imagery Layer owner:esri_livingatlas>,\n",
       " <Item title:\"MODIS Burn Scars and Flooding - Aqua Surface Reflectance\" type:Imagery Layer owner:esri_livingatlas>,\n",
       " <Item title:\"MODIS Burn Scars and Flooding - Terra Corrected Reflectance\" type:Imagery Layer owner:esri_livingatlas>,\n",
       " <Item title:\"MODIS Burn Scars and Flooding - Terra Surface Reflectance\" type:Imagery Layer owner:esri_livingatlas>,\n",
       " <Item title:\"MODIS Thermal Activity\" type:Map Image Layer owner:esri_livingatlas>,\n",
       " <Item title:\"MODIS True Color - Aqua Corrected Reflectance\" type:Imagery Layer owner:esri_livingatlas>,\n",
       " <Item title:\"MODIS True Color - Aqua Surface Reflectance\" type:Imagery Layer owner:esri_livingatlas>,\n",
       " <Item title:\"MODIS True Color - Terra Corrected Reflectance\" type:Imagery Layer owner:esri_livingatlas>,\n",
       " <Item title:\"MODIS True Color - Terra Surface Reflectance\" type:Imagery Layer owner:esri_livingatlas>,\n",
       " <Item title:\"MODIS Vegetation - Aqua Surface Reflectance\" type:Imagery Layer owner:esri_livingatlas>,\n",
       " <Item title:\"MODIS Vegetation - Terra Surface Reflectance\" type:Imagery Layer owner:esri_livingatlas>,\n",
       " <Item title:\"MODIS Water States - Terra Corrected Reflectance\" type:Imagery Layer owner:esri_livingatlas>,\n",
       " <Item title:\"Montreal, Canada Buildings\" type:Scene Layer owner:esri_livingatlas>,\n",
       " <Item title:\"Montreal, Canada Scene\" type:Web Scene owner:esri_livingatlas>,\n",
       " <Item title:\"Morocco Country Boundary 2014\" type:Feature Layer Collection owner:esri_livingatlas>,\n",
       " <Item title:\"Morocco Province Boundaries 2014\" type:Feature Layer Collection owner:esri_livingatlas>,\n",
       " <Item title:\"Morocco Region Boundary 2014\" type:Feature Layer Collection owner:esri_livingatlas>,\n",
       " <Item title:\"Multispectral Landsat\" type:Imagery Layer owner:esri_livingatlas>,\n",
       " <Item title:\"National Geographic Map\" type:Web Map owner:esri_livingatlas>,\n",
       " <Item title:\"National Geographic World Map\" type:Map Image Layer owner:esri_livingatlas>,\n",
       " <Item title:\"National Water Model (10 Day Anomaly Forecast)\" type:Map Image Layer owner:esri_livingatlas>,\n",
       " <Item title:\"National Water Model (10 Day Forecast)\" type:Map Image Layer owner:esri_livingatlas>,\n",
       " <Item title:\"National Water Model (10 Day Forecast)\" type:Map Image Layer owner:esri_livingatlas>,\n",
       " <Item title:\"National Water Model (Hourly Anomaly Forecast)\" type:Map Image Layer owner:esri_livingatlas>,\n",
       " <Item title:\"National Water Model (Hourly Forecast)\" type:Map Image Layer owner:esri_livingatlas>,\n",
       " <Item title:\"National Weather Service Ice Accumulation Forecast\" type:Map Image Layer owner:esri_livingatlas>,\n",
       " <Item title:\"National Weather Service Precipitation Forecast\" type:Map Image Layer owner:esri_livingatlas>,\n",
       " <Item title:\"National Weather Service Smoke Forecast\" type:Map Image Layer owner:esri_livingatlas>,\n",
       " <Item title:\"National Weather Service Snowfall Forecast\" type:Map Image Layer owner:esri_livingatlas>,\n",
       " <Item title:\"National Weather Service Wind Forecast\" type:Map Image Layer owner:esri_livingatlas>,\n",
       " <Item title:\"National Weather Service Wind Gust Forecast\" type:Map Image Layer owner:esri_livingatlas>,\n",
       " <Item title:\"National Weather Service Wind Speed Forecast\" type:Map Image Layer owner:esri_livingatlas>,\n",
       " <Item title:\"Netherlands COROPRegion Boundaries 2013\" type:Feature Layer Collection owner:esri_livingatlas>,\n",
       " <Item title:\"Netherlands Country Boundary 2013\" type:Feature Layer Collection owner:esri_livingatlas>,\n",
       " <Item title:\"Netherlands Gemeenten Boundaries 2013\" type:Feature Layer Collection owner:esri_livingatlas>,\n",
       " <Item title:\"Netherlands Landsdelen Boundaries 2013\" type:Feature Layer Collection owner:esri_livingatlas>,\n",
       " <Item title:\"Netherlands Postcodes1 Boundaries 2013\" type:Feature Layer Collection owner:esri_livingatlas>,\n",
       " <Item title:\"Netherlands Postcodes2 Boundaries 2013\" type:Feature Layer Collection owner:esri_livingatlas>,\n",
       " <Item title:\"Netherlands Postcodes4 Boundaries 2013\" type:Feature Layer Collection owner:esri_livingatlas>,\n",
       " <Item title:\"Netherlands Provincie Boundaries 2013\" type:Feature Layer Collection owner:esri_livingatlas>,\n",
       " <Item title:\"New Zealand Area Unit Boundaries 2014\" type:Feature Layer Collection owner:esri_livingatlas>,\n",
       " <Item title:\"New Zealand Country Boundary 2014\" type:Feature Layer Collection owner:esri_livingatlas>,\n",
       " <Item title:\"New Zealand Region Boundaries 2014\" type:Feature Layer Collection owner:esri_livingatlas>,\n",
       " <Item title:\"New Zealand Territorial Authorities Boundaries 2014\" type:Feature Layer Collection owner:esri_livingatlas>,\n",
       " <Item title:\"Nigeria Country Boundary 2015\" type:Feature Layer Collection owner:esri_livingatlas>,\n",
       " <Item title:\"Nigeria LocalGovernmentArea Boundaries 2015\" type:Feature Layer Collection owner:esri_livingatlas>,\n",
       " <Item title:\"Nigeria State Boundaries 2015\" type:Feature Layer Collection owner:esri_livingatlas>,\n",
       " <Item title:\"Norway Country Boundary 2013\" type:Feature Layer Collection owner:esri_livingatlas>,\n",
       " <Item title:\"Norway Fylker Boundaries 2013\" type:Feature Layer Collection owner:esri_livingatlas>,\n",
       " <Item title:\"Norway Kommuner Boundaries 2013\" type:Feature Layer Collection owner:esri_livingatlas>,\n",
       " <Item title:\"Norway Landsdelar Boundaries 2013\" type:Feature Layer Collection owner:esri_livingatlas>,\n",
       " <Item title:\"Norway OkonomiskRegioners Boundaries 2013\" type:Feature Layer Collection owner:esri_livingatlas>,\n",
       " <Item title:\"Norway Postcodes1 Boundaries 2013\" type:Feature Layer Collection owner:esri_livingatlas>,\n",
       " <Item title:\"Norway Postcodes2 Boundaries 2013\" type:Feature Layer Collection owner:esri_livingatlas>,\n",
       " <Item title:\"Ocean Basemap\" type:Web Map owner:esri_livingatlas>,\n",
       " <Item title:\"Oman Country Boundary 2014\" type:Feature Layer Collection owner:esri_livingatlas>,\n",
       " <Item title:\"Oman Muhafazat Boundaries 2014\" type:Feature Layer Collection owner:esri_livingatlas>,\n",
       " <Item title:\"Oman Wilayat Boundaries 2014\" type:Feature Layer Collection owner:esri_livingatlas>,\n",
       " <Item title:\"One World, Many Voices: Endangered Languages and Cultural Heritage\" type:Web Mapping Application owner:esri_livingatlas>,\n",
       " <Item title:\"Our Global Footprint\" type:Web Mapping Application owner:esri_livingatlas>,\n",
       " <Item title:\"Panchromatic Landsat\" type:Imagery Layer owner:esri_livingatlas>,\n",
       " <Item title:\"Pansharpened Landsat\" type:Imagery Layer owner:esri_livingatlas>,\n",
       " <Item title:\"Peru Country Boundary 2014\" type:Feature Layer Collection owner:esri_livingatlas>,\n",
       " <Item title:\"Peru Departmento Boundaries 2014\" type:Feature Layer Collection owner:esri_livingatlas>,\n",
       " <Item title:\"Peru Districto Boundaries 2014\" type:Feature Layer Collection owner:esri_livingatlas>,\n",
       " <Item title:\"Peru Provincia Boundaries 2014\" type:Feature Layer Collection owner:esri_livingatlas>,\n",
       " <Item title:\"Philippines Country Boundary 2014\" type:Feature Layer Collection owner:esri_livingatlas>,\n",
       " <Item title:\"Philippines Municipality Boundaries 2014\" type:Feature Layer Collection owner:esri_livingatlas>,\n",
       " <Item title:\"Philippines Province Boundaries 2014\" type:Feature Layer Collection owner:esri_livingatlas>,\n",
       " <Item title:\"Philippines Region Boundaries 2014\" type:Feature Layer Collection owner:esri_livingatlas>,\n",
       " <Item title:\"Physical With Labels\" type:Web Map owner:esri_livingatlas>,\n",
       " <Item title:\"Poland Country Boundary 2013\" type:Feature Layer Collection owner:esri_livingatlas>,\n",
       " <Item title:\"Poland Gminy Boundaries 2013\" type:Feature Layer Collection owner:esri_livingatlas>,\n",
       " <Item title:\"Poland GminyMiasta Boundaries 2013\" type:Feature Layer Collection owner:esri_livingatlas>,\n",
       " <Item title:\"Poland Podregiony Boundaries 2013\" type:Feature Layer Collection owner:esri_livingatlas>,\n",
       " <Item title:\"Poland Postcodes1 Boundaries 2013\" type:Feature Layer Collection owner:esri_livingatlas>,\n",
       " <Item title:\"Poland Postcodes2 Boundaries 2013\" type:Feature Layer Collection owner:esri_livingatlas>,\n",
       " <Item title:\"Poland Postcodes5 Boundaries 2013\" type:Feature Layer Collection owner:esri_livingatlas>,\n",
       " <Item title:\"Poland Powiaty Bounadries 2013\" type:Feature Layer Collection owner:esri_livingatlas>,\n",
       " <Item title:\"Poland Regiony Boundaries 2013\" type:Feature Layer Collection owner:esri_livingatlas>,\n",
       " <Item title:\"Poland Wojewodztwa Boundaries 2013\" type:Feature Layer Collection owner:esri_livingatlas>,\n",
       " <Item title:\"Portugal CensusSubsection Boundaries 2013\" type:Feature Layer Collection owner:esri_livingatlas>,\n",
       " <Item title:\"Portugal Concelho Boundaries 2013\" type:Feature Layer Collection owner:esri_livingatlas>,\n",
       " <Item title:\"Portugal Country Boundary 2013\" type:Feature Layer Collection owner:esri_livingatlas>,\n",
       " <Item title:\"Portugal Districto Boundaries 2013\" type:Feature Layer Collection owner:esri_livingatlas>,\n",
       " <Item title:\"Portugal Freguesia Boundaries 2013\" type:Feature Layer Collection owner:esri_livingatlas>,\n",
       " <Item title:\"Portugal Postcodes1 Boundaries 2013\" type:Feature Layer Collection owner:esri_livingatlas>,\n",
       " <Item title:\"Portugal Postcodes2 Boundaries 2013\" type:Feature Layer Collection owner:esri_livingatlas>,\n",
       " <Item title:\"Portugal Postcodes4 Boundaries 2013\" type:Feature Layer Collection owner:esri_livingatlas>,\n",
       " <Item title:\"Portugal Regio Boundaries 2013\" type:Feature Layer Collection owner:esri_livingatlas>,\n",
       " <Item title:\"Profile\" type:Geoprocessing Toolbox owner:esri_livingatlas>,\n",
       " <Item title:\"Profile (Synchronous)\" type:Geoprocessing Toolbox owner:esri_livingatlas>,\n",
       " <Item title:\"Recent Earthquakes\" type:Map Image Layer owner:esri_livingatlas>,\n",
       " <Item title:\"Recent Hurricanes\" type:Map Image Layer owner:esri_livingatlas>,\n",
       " <Item title:\"Romania Comune Boundaries 2013\" type:Feature Layer Collection owner:esri_livingatlas>,\n",
       " <Item title:\"Romania Country Boundary 2013\" type:Feature Layer Collection owner:esri_livingatlas>,\n",
       " <Item title:\"Romania Judete Boundaries 2013\" type:Feature Layer Collection owner:esri_livingatlas>,\n",
       " <Item title:\"Romania Postcodes1 Boundaries 2013\" type:Feature Layer Collection owner:esri_livingatlas>,\n",
       " <Item title:\"Romania Postcodes2 Boundaries 2013\" type:Feature Layer Collection owner:esri_livingatlas>,\n",
       " <Item title:\"Romania Regiuni Boundaries 2013\" type:Feature Layer Collection owner:esri_livingatlas>,\n",
       " <Item title:\"Rotterdam, the Netherlands Buildings\" type:Scene Layer owner:esri_livingatlas>,\n",
       " <Item title:\"Rotterdam, the Netherlands Scene\" type:Web Scene owner:esri_livingatlas>,\n",
       " <Item title:\"Saudi Arabia Country Boundary 2014\" type:Feature Layer Collection owner:esri_livingatlas>,\n",
       " <Item title:\"Saudi Arabia Muhafazat Boundaries 2014\" type:Feature Layer Collection owner:esri_livingatlas>,\n",
       " <Item title:\"Saudi Arabia Region Boundaries 2014\" type:Feature Layer Collection owner:esri_livingatlas>,\n",
       " <Item title:\"Sea Surface Temperature (°C)\" type:Imagery Layer owner:esri_livingatlas>,\n",
       " <Item title:\"Seafloor Bathymetry (meters)\" type:Imagery Layer owner:esri_livingatlas>,\n",
       " <Item title:\"Seafloor Dissolved Oxygen (ml/l)\" type:Imagery Layer owner:esri_livingatlas>,\n",
       " <Item title:\"Seafloor Omega Aragonite (ΩARAG)\" type:Imagery Layer owner:esri_livingatlas>,\n",
       " <Item title:\"Seafloor Salinity (pss)\" type:Imagery Layer owner:esri_livingatlas>,\n",
       " <Item title:\"Seafloor Silicate (μmol/l)\" type:Imagery Layer owner:esri_livingatlas>,\n",
       " <Item title:\"Seafloor Temperature (°C)\" type:Imagery Layer owner:esri_livingatlas>,\n",
       " <Item title:\"Singapore Country Boundary 2014\" type:Feature Layer Collection owner:esri_livingatlas>,\n",
       " <Item title:\"Singapore PlanningArea Boundaries 2014\" type:Feature Layer Collection owner:esri_livingatlas>,\n",
       " <Item title:\"Singapore Region Boundaries 2014\" type:Feature Layer Collection owner:esri_livingatlas>,\n",
       " <Item title:\"South Africa Country Boundary 2014\" type:Feature Layer Collection owner:esri_livingatlas>,\n",
       " <Item title:\"South Africa District Boundaries 2014\" type:Feature Layer Collection owner:esri_livingatlas>,\n",
       " <Item title:\"South Africa Municipality Boundaries 2014\" type:Feature Layer Collection owner:esri_livingatlas>,\n",
       " <Item title:\"South Africa Province Boundaries 2014\" type:Feature Layer Collection owner:esri_livingatlas>,\n",
       " <Item title:\"South America Bioclimates\" type:Imagery Layer owner:esri_livingatlas>,\n",
       " <Item title:\"South America Land Surface Forms\" type:Imagery Layer owner:esri_livingatlas>,\n",
       " <Item title:\"South America Terrestrial Ecosystems\" type:Imagery Layer owner:esri_livingatlas>,\n",
       " <Item title:\"Spain Agrupacione Boundaries 2013\" type:Feature Layer Collection owner:esri_livingatlas>,\n",
       " <Item title:\"Spain Comunidade Boundaries 2013\" type:Feature Layer Collection owner:esri_livingatlas>,\n",
       " <Item title:\"Spain Country Boundary 2013\" type:Feature Layer Collection owner:esri_livingatlas>,\n",
       " <Item title:\"Spain Municipio Boundaries 2013\" type:Feature Layer Collection owner:esri_livingatlas>,\n",
       " <Item title:\"Spain Postcodes2 Boundaries 2013\" type:Feature Layer Collection owner:esri_livingatlas>,\n",
       " <Item title:\"Spain Postcodes5 Boundaries 2013\" type:Feature Layer Collection owner:esri_livingatlas>,\n",
       " <Item title:\"Spain Provincia Boundaries 2013\" type:Feature Layer Collection owner:esri_livingatlas>,\n",
       " <Item title:\"Spain SeccionesCensales Boundaries 2013\" type:Feature Layer Collection owner:esri_livingatlas>,\n",
       " <Item title:\"SSURGO Downloader 2014\" type:Web Mapping Application owner:esri_livingatlas>,\n",
       " <Item title:\"SSURGO Downloader 2014 Basins\" type:Feature Layer Collection owner:esri_livingatlas>,\n",
       " <Item title:\"Streets\" type:Web Map owner:esri_livingatlas>,\n",
       " <Item title:\"Summarize Elevation\" type:Geoprocessing Toolbox owner:esri_livingatlas>,\n",
       " <Item title:\"Sweden Country Boundary 2013\" type:Feature Layer Collection owner:esri_livingatlas>,\n",
       " <Item title:\"Sweden Kommuner Boundaries 2013\" type:Feature Layer Collection owner:esri_livingatlas>,\n",
       " <Item title:\"Sweden Laen Boundaries 2013\" type:Feature Layer Collection owner:esri_livingatlas>,\n",
       " <Item title:\"Sweden Landsdelar Boundaries 2013\" type:Feature Layer Collection owner:esri_livingatlas>,\n",
       " <Item title:\"Sweden Postcodes1 Boundaries 2013\" type:Feature Layer Collection owner:esri_livingatlas>,\n",
       " <Item title:\"Sweden Postcodes2 Boundaries 2013\" type:Feature Layer Collection owner:esri_livingatlas>,\n",
       " <Item title:\"Sweden Postcodes5 Boundaries 2013\" type:Feature Layer Collection owner:esri_livingatlas>,\n",
       " <Item title:\"Sweden Regioner Boundaries 2013\" type:Feature Layer Collection owner:esri_livingatlas>,\n",
       " <Item title:\"Sweden Riksomraden Boundaries 2013\" type:Feature Layer Collection owner:esri_livingatlas>,\n",
       " <Item title:\"Switzerland Bezirke Boundaries 2013\" type:Feature Layer Collection owner:esri_livingatlas>,\n",
       " <Item title:\"Switzerland Country Boundary 2013\" type:Feature Layer Collection owner:esri_livingatlas>,\n",
       " <Item title:\"Switzerland Gemeinden Boundaries 2013\" type:Feature Layer Collection owner:esri_livingatlas>,\n",
       " <Item title:\"Switzerland Kantone Boundaries 2013\" type:Feature Layer Collection owner:esri_livingatlas>,\n",
       " <Item title:\"Switzerland Postcodes1 Boundaries 2013\" type:Feature Layer Collection owner:esri_livingatlas>,\n",
       " <Item title:\"Switzerland Postcodes2 Boundaries 2013\" type:Feature Layer Collection owner:esri_livingatlas>,\n",
       " <Item title:\"Switzerland Postcodes4 Boundaries 2013\" type:Feature Layer Collection owner:esri_livingatlas>,\n",
       " <Item title:\"Tanzania Country Boundary 2015\" type:Feature Layer Collection owner:esri_livingatlas>,\n",
       " <Item title:\"Tanzania Mkoa Boundaries 2015\" type:Feature Layer Collection owner:esri_livingatlas>,\n",
       " <Item title:\"Terrain\" type:Imagery Layer owner:esri_livingatlas>,\n",
       " <Item title:\"Terrain 3D\" type:Imagery Layer owner:esri_livingatlas>,\n",
       " <Item title:\"Terrain with Labels\" type:Web Map owner:esri_livingatlas>,\n",
       " <Item title:\"Terrain: Aspect\" type:Imagery Layer owner:esri_livingatlas>,\n",
       " <Item title:\"Terrain: Aspect Map\" type:Imagery Layer owner:esri_livingatlas>,\n",
       " <Item title:\"Terrain: Elevation Tinted Hillshade\" type:Imagery Layer owner:esri_livingatlas>,\n",
       " <Item title:\"Terrain: Ellipsoidal Height\" type:Imagery Layer owner:esri_livingatlas>,\n",
       " <Item title:\"Terrain: Hillshade\" type:Imagery Layer owner:esri_livingatlas>,\n",
       " <Item title:\"Terrain: Multi-Directional Hillshade\" type:Imagery Layer owner:esri_livingatlas>,\n",
       " <Item title:\"Terrain: Slope in Degrees\" type:Imagery Layer owner:esri_livingatlas>,\n",
       " <Item title:\"Terrain: Slope Map\" type:Imagery Layer owner:esri_livingatlas>,\n",
       " <Item title:\"Thailand Amphoe Boundaries 2013\" type:Feature Layer Collection owner:esri_livingatlas>,\n",
       " <Item title:\"Thailand Changwate Boundaries 2013\" type:Feature Layer Collection owner:esri_livingatlas>,\n",
       " <Item title:\"Thailand Country Boundary 2013\" type:Feature Layer Collection owner:esri_livingatlas>,\n",
       " <Item title:\"The Age of Megacities\" type:Web Mapping Application owner:esri_livingatlas>,\n",
       " <Item title:\"The Muslim World: Sunnis and Shiites\" type:Web Mapping Application owner:esri_livingatlas>,\n",
       " <Item title:\"The World in 1812 and 2013\" type:Web Mapping Application owner:esri_livingatlas>,\n",
       " <Item title:\"The World's 10 Largest Refugee Camps\" type:Web Mapping Application owner:esri_livingatlas>,\n",
       " <Item title:\"Topo Base\" type:Web Map owner:esri_livingatlas>,\n",
       " <Item title:\"TopoBathy\" type:Imagery Layer owner:esri_livingatlas>,\n",
       " <Item title:\"TopoBathy 3D\" type:Imagery Layer owner:esri_livingatlas>,\n",
       " <Item title:\"TopoBathy Elevation Tinted Hillshade\" type:Imagery Layer owner:esri_livingatlas>,\n",
       " <Item title:\"TopoBathy Hillshade\" type:Imagery Layer owner:esri_livingatlas>,\n",
       " <Item title:\"Topographic\" type:Web Map owner:esri_livingatlas>,\n",
       " <Item title:\"Trace Downstream\" type:Geoprocessing Toolbox owner:esri_livingatlas>,\n",
       " <Item title:\"Turkey AltBoelgeler Boundaries 2013\" type:Feature Layer Collection owner:esri_livingatlas>,\n",
       " <Item title:\"Turkey Country Boundary 2013\" type:Feature Layer Collection owner:esri_livingatlas>,\n",
       " <Item title:\"Turkey Ilce Boundaries 2013\" type:Feature Layer Collection owner:esri_livingatlas>,\n",
       " <Item title:\"Turkey Iller Boundaries 2013\" type:Feature Layer Collection owner:esri_livingatlas>,\n",
       " <Item title:\"Turkey Postcodes2 Boundaries 2013\" type:Feature Layer Collection owner:esri_livingatlas>,\n",
       " <Item title:\"Turkey StatistBoelgeler Boundaries 2013\" type:Feature Layer Collection owner:esri_livingatlas>,\n",
       " <Item title:\"United Arab Emirates Country Boundary 2014\" type:Feature Layer Collection owner:esri_livingatlas>,\n",
       " <Item title:\"United Arab Emirates Emirate Boundaries 2014\" type:Feature Layer Collection owner:esri_livingatlas>,\n",
       " <Item title:\"United Kingdom CensusArea Boundaries 2013\" type:Feature Layer Collection owner:esri_livingatlas>,\n",
       " <Item title:\"United Kingdom Country Boundary 2013\" type:Feature Layer Collection owner:esri_livingatlas>,\n",
       " <Item title:\"United Kingdom County Boundaries 2013\" type:Feature Layer Collection owner:esri_livingatlas>,\n",
       " <Item title:\"United Kingdom District Boundaries 2013\" type:Feature Layer Collection owner:esri_livingatlas>,\n",
       " <Item title:\"United Kingdom PCArea Boundaries 2013\" type:Feature Layer Collection owner:esri_livingatlas>,\n",
       " <Item title:\"United Kingdom PCDistrict Boundaries 2013\" type:Feature Layer Collection owner:esri_livingatlas>,\n",
       " <Item title:\"United Kingdom PCSector Boundaries 2013\" type:Feature Layer Collection owner:esri_livingatlas>,\n",
       " <Item title:\"United Kingdom Region Boundaries 2013\" type:Feature Layer Collection owner:esri_livingatlas>,\n",
       " <Item title:\"United States BlockGroup Boundaries 2015\" type:Feature Layer Collection owner:esri_livingatlas>,\n",
       " <Item title:\"United States Country Boundary 2015\" type:Feature Layer Collection owner:esri_livingatlas>,\n",
       " <Item title:\"United States County Boundaries 2015\" type:Feature Layer Collection owner:esri_livingatlas>,\n",
       " <Item title:\"United States State Boundaries 2015\" type:Feature Layer Collection owner:esri_livingatlas>,\n",
       " <Item title:\"United States Tract Boundaries 2015\" type:Feature Layer Collection owner:esri_livingatlas>,\n",
       " <Item title:\"United States ZIP Code Boundaries 2015\" type:Feature Layer Collection owner:esri_livingatlas>,\n",
       " <Item title:\"Uruguay Country Boundary 2014\" type:Feature Layer Collection owner:esri_livingatlas>,\n",
       " <Item title:\"Uruguay Departamento Boundaries 2014\" type:Feature Layer Collection owner:esri_livingatlas>,\n",
       " <Item title:\"USA 114th Congressional Districts\" type:Feature Layer Collection owner:esri_livingatlas>,\n",
       " <Item title:\"USA Active Oil and Gas Lease Blocks\" type:Feature Layer Collection owner:esri_livingatlas>,\n",
       " <Item title:\"USA Active Quaternary Faults\" type:Map Image Layer owner:esri_livingatlas>,\n",
       " <Item title:\"USA Active Quaternary Faults\" type:Imagery Layer owner:esri_livingatlas>,\n",
       " <Item title:\"USA Airports\" type:Feature Layer Collection owner:esri_livingatlas>,\n",
       " <Item title:\"USA All Federal Lands\" type:Map Image Layer owner:esri_livingatlas>,\n",
       " <Item title:\"USA All Federal Lands\" type:Imagery Layer owner:esri_livingatlas>,\n",
       " <Item title:\"USA American Crocodile GAP Distribution\" type:Imagery Layer owner:esri_livingatlas>,\n",
       " <Item title:\"USA Anchorage Areas\" type:Feature Layer Collection owner:esri_livingatlas>,\n",
       " <Item title:\"USA Aquifers\" type:Map Image Layer owner:esri_livingatlas>,\n",
       " <Item title:\"USA Aquifers\" type:Imagery Layer owner:esri_livingatlas>,\n",
       " <Item title:\"USA Arctic Tern GAP Range\" type:Imagery Layer owner:esri_livingatlas>,\n",
       " <Item title:\"USA Atlantic Puffin GAP Distribution\" type:Imagery Layer owner:esri_livingatlas>,\n",
       " <Item title:\"USA Bathymetric Contours up to 600m\" type:Feature Layer Collection owner:esri_livingatlas>,\n",
       " <Item title:\"USA Bighorn Sheep GAP Range\" type:Imagery Layer owner:esri_livingatlas>,\n",
       " <Item title:\"USA Black-footed Ferret GAP Distribution\" type:Imagery Layer owner:esri_livingatlas>,\n",
       " <Item title:\"USA BLM Lands\" type:Imagery Layer owner:esri_livingatlas>,\n",
       " <Item title:\"USA BLM Lands\" type:Map Image Layer owner:esri_livingatlas>,\n",
       " <Item title:\"USA Boundaries and Places\" type:Web Map owner:esri_livingatlas>,\n",
       " <Item title:\"USA California Condor GAP Species Range\" type:Imagery Layer owner:esri_livingatlas>,\n",
       " <Item title:\"USA Canada Lynx GAP Range\" type:Imagery Layer owner:esri_livingatlas>,\n",
       " <Item title:\"USA Census Populated Places\" type:Feature Layer Collection owner:esri_livingatlas>,\n",
       " <Item title:\"USA Coal Bed Methane Basins\" type:Map Image Layer owner:esri_livingatlas>,\n",
       " <Item title:\"USA Coal Bed Methane Basins\" type:Imagery Layer owner:esri_livingatlas>,\n",
       " <Item title:\"USA Coal Fields\" type:Imagery Layer owner:esri_livingatlas>,\n",
       " <Item title:\"USA Coal Fields\" type:Map Image Layer owner:esri_livingatlas>,\n",
       " <Item title:\"USA Common Loon GAP Range\" type:Imagery Layer owner:esri_livingatlas>,\n",
       " <Item title:\"USA Counties\" type:Feature Layer Collection owner:esri_livingatlas>,\n",
       " <Item title:\"USA Counties (Generalized)\" type:Feature Layer Collection owner:esri_livingatlas>,\n",
       " <Item title:\"USA Critical Habitat\" type:Imagery Layer owner:esri_livingatlas>,\n",
       " <Item title:\"USA Critical Habitat\" type:Map Image Layer owner:esri_livingatlas>,\n",
       " <Item title:\"USA Critical Habitat 2014\" type:Map Image Layer owner:esri_livingatlas>,\n",
       " <Item title:\"USA Critical Habitat American Crocodile\" type:Imagery Layer owner:esri_livingatlas>,\n",
       " <Item title:\"USA Critical Habitat Atlantic Salmon\" type:Imagery Layer owner:esri_livingatlas>,\n",
       " <Item title:\"USA Critical Habitat Bull Trout\" type:Imagery Layer owner:esri_livingatlas>,\n",
       " <Item title:\"USA Critical Habitat California Condor\" type:Imagery Layer owner:esri_livingatlas>,\n",
       " <Item title:\"USA Critical Habitat Chinook Salmon\" type:Imagery Layer owner:esri_livingatlas>,\n",
       " <Item title:\"USA Critical Habitat Chum Salmon\" type:Imagery Layer owner:esri_livingatlas>,\n",
       " <Item title:\"USA Critical Habitat Coho Salmon\" type:Imagery Layer owner:esri_livingatlas>,\n",
       " <Item title:\"USA Critical Habitat Delta Smelt\" type:Imagery Layer owner:esri_livingatlas>,\n",
       " <Item title:\"USA Critical Habitat Desert Tortoise\" type:Imagery Layer owner:esri_livingatlas>,\n",
       " <Item title:\"USA Critical Habitat Final 2014\" type:Imagery Layer owner:esri_livingatlas>,\n",
       " <Item title:\"USA Critical Habitat Marbled Murrelet\" type:Imagery Layer owner:esri_livingatlas>,\n",
       " <Item title:\"USA Critical Habitat Mexican Spotted Owl\" type:Imagery Layer owner:esri_livingatlas>,\n",
       " <Item title:\"USA Critical Habitat Northern Spotted Owl\" type:Imagery Layer owner:esri_livingatlas>,\n",
       " <Item title:\"USA Critical Habitat Peninsular Bighorn Sheep\" type:Imagery Layer owner:esri_livingatlas>,\n",
       " <Item title:\"USA Critical Habitat Proposed 2014\" type:Imagery Layer owner:esri_livingatlas>,\n",
       " <Item title:\"USA Critical Habitat Sockeye Salmon\" type:Imagery Layer owner:esri_livingatlas>,\n",
       " <Item title:\"USA Critical Habitat West Indian Manatee\" type:Imagery Layer owner:esri_livingatlas>,\n",
       " <Item title:\"USA Cropland\" type:Imagery Layer owner:esri_livingatlas>,\n",
       " <Item title:\"USA Deepwater Ports\" type:Feature Layer Collection owner:esri_livingatlas>,\n",
       " <Item title:\"USA Desert Tortoise GAP Distribution\" type:Imagery Layer owner:esri_livingatlas>,\n",
       " <Item title:\"USA Development Risk\" type:Imagery Layer owner:esri_livingatlas>,\n",
       " <Item title:\"USA Drilling Platforms\" type:Feature Layer Collection owner:esri_livingatlas>,\n",
       " <Item title:\"USA Drought Intensity (Current Conditions)\" type:Map Image Layer owner:esri_livingatlas>,\n",
       " <Item title:\"USA Drought Intensity 2000 - Present\" type:Map Image Layer owner:esri_livingatlas>,\n",
       " <Item title:\"USA Earthquake Risk\" type:Map Image Layer owner:esri_livingatlas>,\n",
       " <Item title:\"USA Evapotranspiration\" type:Imagery Layer owner:esri_livingatlas>,\n",
       " <Item title:\"USA Flood Risk\" type:Map Image Layer owner:esri_livingatlas>,\n",
       " <Item title:\"USA Flood Risk\" type:Imagery Layer owner:esri_livingatlas>,\n",
       " <Item title:\"USA Forest Fragmentation\" type:Imagery Layer owner:esri_livingatlas>,\n",
       " <Item title:\"USA Forest Type\" type:Imagery Layer owner:esri_livingatlas>,\n",
       " <Item title:\"USA Geology Units\" type:Map Image Layer owner:esri_livingatlas>,\n",
       " <Item title:\"USA Gunnison Sage-Grouse GAP Distribution\" type:Imagery Layer owner:esri_livingatlas>,\n",
       " <Item title:\"USA Hazardous Waste Sites\" type:Map Image Layer owner:esri_livingatlas>,\n",
       " <Item title:\"USA Historic Sites\" type:Imagery Layer owner:esri_livingatlas>,\n",
       " <Item title:\"USA Historic Sites\" type:Map Image Layer owner:esri_livingatlas>,\n",
       " <Item title:\"USA Historical Topo Maps 1:100,000 Scale\" type:Imagery Layer owner:esri_livingatlas>,\n",
       " <Item title:\"USA Historical Topo Maps 1:125,000 Scale\" type:Imagery Layer owner:esri_livingatlas>,\n",
       " <Item title:\"USA Historical Topo Maps 1:24,000 Scale\" type:Imagery Layer owner:esri_livingatlas>,\n",
       " <Item title:\"USA Historical Topo Maps 1:25,000 Scale\" type:Imagery Layer owner:esri_livingatlas>,\n",
       " <Item title:\"USA Historical Topo Maps 1:250,000 Scale\" type:Imagery Layer owner:esri_livingatlas>,\n",
       " <Item title:\"USA Historical Topo Maps 1:31,680 Scale\" type:Imagery Layer owner:esri_livingatlas>,\n",
       " <Item title:\"USA Historical Topo Maps 1:48,000 Scale\" type:Imagery Layer owner:esri_livingatlas>,\n",
       " <Item title:\"USA Historical Topo Maps 1:62,500 Scale\" type:Imagery Layer owner:esri_livingatlas>,\n",
       " <Item title:\"USA Historical Topo Maps 1:63,360 Scale\" type:Imagery Layer owner:esri_livingatlas>,\n",
       " <Item title:\"USA Historical Topo Maps Index\" type:Map Image Layer owner:esri_livingatlas>,\n",
       " <Item title:\"USA Insect and Disease Risk\" type:Imagery Layer owner:esri_livingatlas>,\n",
       " <Item title:\"USA Land Surface Form\" type:Imagery Layer owner:esri_livingatlas>,\n",
       " <Item title:\"USA Major Cities\" type:Feature Layer Collection owner:esri_livingatlas>,\n",
       " <Item title:\"USA Major Cities\" type:Web Map owner:esri_livingatlas>,\n",
       " <Item title:\"USA Mean Rainfall\" type:Imagery Layer owner:esri_livingatlas>,\n",
       " <Item title:\"USA Mean Temperature\" type:Imagery Layer owner:esri_livingatlas>,\n",
       " <Item title:\"USA Mexican Spotted Owl GAP Range\" type:Imagery Layer owner:esri_livingatlas>,\n",
       " <Item title:\"USA NAIP Imagery: False Color\" type:Imagery Layer owner:esri_livingatlas>,\n",
       " <Item title:\"USA NAIP Imagery: Natural Color\" type:Imagery Layer owner:esri_livingatlas>,\n",
       " <Item title:\"USA NAIP Imagery: NDVI\" type:Imagery Layer owner:esri_livingatlas>,\n",
       " <Item title:\"USA National Conservation Easement Lands\" type:Map Image Layer owner:esri_livingatlas>,\n",
       " <Item title:\"USA National Conservation Easement Lands\" type:Imagery Layer owner:esri_livingatlas>,\n",
       " <Item title:\"USA National Hydrography Dataset Plus Version 2.1 - Seamless\" type:Map Image Layer owner:esri_livingatlas>,\n",
       " <Item title:\"USA National Hydrography Dataset – High Resolution\" type:Map Image Layer owner:esri_livingatlas>,\n",
       " <Item title:\"USA Native American Lands\" type:Imagery Layer owner:esri_livingatlas>,\n",
       " <Item title:\"USA Native American Lands\" type:Map Image Layer owner:esri_livingatlas>,\n",
       " <Item title:\"USA NHDPlusV2\" type:Map Image Layer owner:esri_livingatlas>,\n",
       " <Item title:\"USA NLCD 2006\" type:Imagery Layer owner:esri_livingatlas>,\n",
       " <Item title:\"USA NLCD Impervious Change 2006-2011\" type:Imagery Layer owner:esri_livingatlas>,\n",
       " <Item title:\"USA NLCD Impervious Surfaces 2011\" type:Imagery Layer owner:esri_livingatlas>,\n",
       " <Item title:\"USA NLCD Land Cover 2011\" type:Imagery Layer owner:esri_livingatlas>,\n",
       " <Item title:\"USA NLCD Land Cover Change 2006-2011\" type:Imagery Layer owner:esri_livingatlas>,\n",
       " <Item title:\"USA NLCD Land Cover GAP\" type:Imagery Layer owner:esri_livingatlas>,\n",
       " <Item title:\"USA NLCD Landscape\" type:Imagery Layer owner:esri_livingatlas>,\n",
       " <Item title:\"USA NLCD Tree Canopy Cover 2011\" type:Imagery Layer owner:esri_livingatlas>,\n",
       " <Item title:\"USA NPS Lands\" type:Map Image Layer owner:esri_livingatlas>,\n",
       " <Item title:\"USA NPS Lands\" type:Imagery Layer owner:esri_livingatlas>,\n",
       " <Item title:\"USA OCS Lease Blocks\" type:Feature Layer Collection owner:esri_livingatlas>,\n",
       " <Item title:\"USA OCS Planning Areas\" type:Feature Layer Collection owner:esri_livingatlas>,\n",
       " <Item title:\"USA Offshore Pipelines\" type:Feature Layer Collection owner:esri_livingatlas>,\n",
       " <Item title:\"USA Oil Shale Basins\" type:Map Image Layer owner:esri_livingatlas>,\n",
       " <Item title:\"USA Oil Shale Basins\" type:Imagery Layer owner:esri_livingatlas>,\n",
       " <Item title:\"USA Parks\" type:Feature Layer Collection owner:esri_livingatlas>,\n",
       " <Item title:\"USA Permitted Point Source Water Pollution\" type:Map Image Layer owner:esri_livingatlas>,\n",
       " <Item title:\"USA Polluted Waters\" type:Map Image Layer owner:esri_livingatlas>,\n",
       " <Item title:\"USA Polluted Waters - Heavy Metals\" type:Map Image Layer owner:esri_livingatlas>,\n",
       " <Item title:\"USA Protected Areas\" type:Imagery Layer owner:esri_livingatlas>,\n",
       " <Item title:\"USA Protraction Polygons\" type:Feature Layer Collection owner:esri_livingatlas>,\n",
       " <Item title:\"USA Railroad Density\" type:Imagery Layer owner:esri_livingatlas>,\n",
       " <Item title:\"USA Railroads\" type:Feature Layer Collection owner:esri_livingatlas>,\n",
       " <Item title:\"USA Railroads\" type:Map Image Layer owner:esri_livingatlas>,\n",
       " <Item title:\"USA Road Density\" type:Imagery Layer owner:esri_livingatlas>,\n",
       " <Item title:\"USA Roads\" type:Map Image Layer owner:esri_livingatlas>,\n",
       " <Item title:\"USA Senate\" type:Map Image Layer owner:esri_livingatlas>,\n",
       " <Item title:\"USA Senate\" type:Feature Layer Collection owner:esri_livingatlas>,\n",
       " <Item title:\"USA Shipping Fairways Lanes Zones\" type:Feature Layer Collection owner:esri_livingatlas>,\n",
       " <Item title:\"USA Short-Term Weather Warnings\" type:Map Image Layer owner:esri_livingatlas>,\n",
       " <Item title:\"USA Soil Loss Tolerance Factor\" type:Imagery Layer owner:esri_livingatlas>,\n",
       " <Item title:\"USA Soil Map Units 2011\" type:Map Image Layer owner:esri_livingatlas>,\n",
       " <Item title:\"USA Soil Map Units 2014\" type:Map Image Layer owner:esri_livingatlas>,\n",
       " <Item title:\"USA Soil Survey\" type:Map Image Layer owner:esri_livingatlas>,\n",
       " <Item title:\"USA Soils Albedo\" type:Imagery Layer owner:esri_livingatlas>,\n",
       " <Item title:\"USA Soils Available Water Storage\" type:Imagery Layer owner:esri_livingatlas>,\n",
       " <Item title:\"USA Soils Bedrock Depth\" type:Imagery Layer owner:esri_livingatlas>,\n",
       " <Item title:\"USA Soils Corrosion Concrete\" type:Imagery Layer owner:esri_livingatlas>,\n",
       " <Item title:\"USA Soils Corrosion Steel\" type:Imagery Layer owner:esri_livingatlas>,\n",
       " <Item title:\"USA Soils Crop Production\" type:Imagery Layer owner:esri_livingatlas>,\n",
       " <Item title:\"USA Soils Drainage Class\" type:Imagery Layer owner:esri_livingatlas>,\n",
       " <Item title:\"USA Soils Erodibility Factor\" type:Imagery Layer owner:esri_livingatlas>,\n",
       " <Item title:\"USA Soils Erosion Class\" type:Imagery Layer owner:esri_livingatlas>,\n",
       " <Item title:\"USA Soils Erosion Hazard Forest Roads\" type:Imagery Layer owner:esri_livingatlas>,\n",
       " <Item title:\"USA Soils Farmland Class\" type:Imagery Layer owner:esri_livingatlas>,\n",
       " <Item title:\"USA Soils Flooding Frequency\" type:Imagery Layer owner:esri_livingatlas>,\n",
       " <Item title:\"USA Soils Frost Free Period\" type:Imagery Layer owner:esri_livingatlas>,\n",
       " <Item title:\"USA Soils Hydric Classification\" type:Imagery Layer owner:esri_livingatlas>,\n",
       " <Item title:\"USA Soils Hydrologic Group\" type:Imagery Layer owner:esri_livingatlas>,\n",
       " <Item title:\"USA Soils Initial Subsidence\" type:Imagery Layer owner:esri_livingatlas>,\n",
       " <Item title:\"USA Soils Range Production\" type:Imagery Layer owner:esri_livingatlas>,\n",
       " <Item title:\"USA Soils Runoff\" type:Imagery Layer owner:esri_livingatlas>,\n",
       " <Item title:\"USA Soils Total Subsidence\" type:Imagery Layer owner:esri_livingatlas>,\n",
       " <Item title:\"USA Soils Water Table Depth\" type:Imagery Layer owner:esri_livingatlas>,\n",
       " <Item title:\"USA States (Generalized)\" type:Feature Layer Collection owner:esri_livingatlas>,\n",
       " <Item title:\"USA Storm Reports\" type:Map Image Layer owner:esri_livingatlas>,\n",
       " <Item title:\"USA Stream Gauges\" type:Map Image Layer owner:esri_livingatlas>,\n",
       " <Item title:\"USA Submerged Lands Act Boundary\" type:Feature Layer Collection owner:esri_livingatlas>,\n",
       " <Item title:\"USA Surface Water\" type:Imagery Layer owner:esri_livingatlas>,\n",
       " <Item title:\"USA Telephone Area Codes\" type:Feature Layer Collection owner:esri_livingatlas>,\n",
       " <Item title:\"USA Territorial Sea Boundary\" type:Feature Layer Collection owner:esri_livingatlas>,\n",
       " <Item title:\"USA Topo Maps\" type:Map Image Layer owner:esri_livingatlas>,\n",
       " <Item title:\"USA Unexploded Ordnance\" type:Feature Layer Collection owner:esri_livingatlas>,\n",
       " <Item title:\"USA Unprotected Areas\" type:Imagery Layer owner:esri_livingatlas>,\n",
       " <Item title:\"USA USFS Lands\" type:Imagery Layer owner:esri_livingatlas>,\n",
       " <Item title:\"USA USFS Lands\" type:Map Image Layer owner:esri_livingatlas>,\n",
       " <Item title:\"USA USFWS Lands\" type:Imagery Layer owner:esri_livingatlas>,\n",
       " <Item title:\"USA USFWS Lands\" type:Map Image Layer owner:esri_livingatlas>,\n",
       " <Item title:\"USA Watershed Boundary Dataset\" type:Map Image Layer owner:esri_livingatlas>,\n",
       " <Item title:\"USA Weather Warnings and Watches\" type:Map Image Layer owner:esri_livingatlas>,\n",
       " <Item title:\"USA Wetlands\" type:Map Image Layer owner:esri_livingatlas>,\n",
       " <Item title:\"USA Wetlands\" type:Imagery Layer owner:esri_livingatlas>,\n",
       " <Item title:\"USA Wetlands 2015\" type:Map Image Layer owner:esri_livingatlas>,\n",
       " <Item title:\"USA Wetlands 2015\" type:Imagery Layer owner:esri_livingatlas>,\n",
       " <Item title:\"USA Wilderness Areas\" type:Map Image Layer owner:esri_livingatlas>,\n",
       " <Item title:\"USA Wilderness Areas\" type:Imagery Layer owner:esri_livingatlas>,\n",
       " <Item title:\"USA Wildfire Activity\" type:Map Image Layer owner:esri_livingatlas>,\n",
       " <Item title:\"USA Wildland Fire Potential\" type:Imagery Layer owner:esri_livingatlas>,\n",
       " <Item title:\"USA Wildland Urban Interface\" type:Imagery Layer owner:esri_livingatlas>,\n",
       " <Item title:\"USA Woody Biomass\" type:Imagery Layer owner:esri_livingatlas>,\n",
       " <Item title:\"USA ZIP Codes (2015)\" type:Feature Layer Collection owner:esri_livingatlas>,\n",
       " <Item title:\"USGS Historical Topographic Map Explorer\" type:Web Mapping Application owner:esri_livingatlas>,\n",
       " <Item title:\"USGS National Map\" type:Map Image Layer owner:esri_livingatlas>,\n",
       " <Item title:\"USGS National Map\" type:Web Map owner:esri_livingatlas>,\n",
       " <Item title:\"Uzbekistan Viloyatlar Boundaries 2014\" type:Feature Layer Collection owner:esri_livingatlas>,\n",
       " <Item title:\"Vancouver, Canada Buildings\" type:Scene Layer owner:esri_livingatlas>,\n",
       " <Item title:\"Vancouver, Canada Scene\" type:Web Scene owner:esri_livingatlas>,\n",
       " <Item title:\"Viewshed\" type:Geoprocessing Toolbox owner:esri_livingatlas>,\n",
       " <Item title:\"Watershed\" type:Geoprocessing Toolbox owner:esri_livingatlas>,\n",
       " <Item title:\"Watershed Boundary Dataset: HUC 12s\" type:Feature Layer Collection owner:esri_livingatlas>,\n",
       " <Item title:\"Watershed Boundary Dataset: HUC 2s\" type:Feature Layer Collection owner:esri_livingatlas>,\n",
       " <Item title:\"Watershed Boundary Dataset: HUC 6s\" type:Feature Layer Collection owner:esri_livingatlas>,\n",
       " <Item title:\"We are Living in\n",
       "\n",
       "The Age of Humans\" type:Web Mapping Application owner:esri_livingatlas>,\n",
       " <Item title:\"World Administrative Divisions\" type:Feature Layer Collection owner:esri_livingatlas>,\n",
       " <Item title:\"World Bioclimates\" type:Imagery Layer owner:esri_livingatlas>,\n",
       " <Item title:\"World Biomass\" type:Imagery Layer owner:esri_livingatlas>,\n",
       " <Item title:\"World Boundaries and Places\" type:Map Image Layer owner:esri_livingatlas>,\n",
       " <Item title:\"World Boundaries and Places\" type:Web Map owner:esri_livingatlas>,\n",
       " <Item title:\"World Boundaries and Places Alternate\" type:Map Image Layer owner:esri_livingatlas>,\n",
       " <Item title:\"World Cities\" type:Feature Layer Collection owner:esri_livingatlas>,\n",
       " <Item title:\"World Cities\" type:Feature Layer Collection owner:esri_livingatlas>,\n",
       " <Item title:\"World Continents\" type:Feature Layer Collection owner:esri_livingatlas>,\n",
       " <Item title:\"World Countries\" type:Feature Layer Collection owner:esri_livingatlas>,\n",
       " <Item title:\"World Countries (Generalized)\" type:Feature Layer Collection owner:esri_livingatlas>,\n",
       " <Item title:\"World Country Boundaries 2015\" type:Feature Layer Collection owner:esri_livingatlas>,\n",
       " <Item title:\"World Dark Gray Base\" type:Map Image Layer owner:esri_livingatlas>,\n",
       " <Item title:\"World Dark Gray Reference\" type:Map Image Layer owner:esri_livingatlas>,\n",
       " <Item title:\"World Distance to Water\" type:Imagery Layer owner:esri_livingatlas>,\n",
       " <Item title:\"World Ecological Land Units Map 2014\" type:Map Image Layer owner:esri_livingatlas>,\n",
       " <Item title:\"World Ecological Land Units Map 2015\" type:Map Image Layer owner:esri_livingatlas>,\n",
       " <Item title:\"World Ecophysiographic Diversity 2014\" type:Imagery Layer owner:esri_livingatlas>,\n",
       " <Item title:\"World Ecophysiographic Diversity 2015\" type:Imagery Layer owner:esri_livingatlas>,\n",
       " <Item title:\"World Ecophysiographic Facets 2014\" type:Imagery Layer owner:esri_livingatlas>,\n",
       " <Item title:\"World Ecophysiographic Facets 2015\" type:Imagery Layer owner:esri_livingatlas>,\n",
       " <Item title:\"World Ecophysiographic Land Units 2014\" type:Imagery Layer owner:esri_livingatlas>,\n",
       " <Item title:\"World Ecophysiographic Land Units 2015\" type:Imagery Layer owner:esri_livingatlas>,\n",
       " <Item title:\"World Ecophysiographic Tables\" type:Map Image Layer owner:esri_livingatlas>,\n",
       " <Item title:\"World Elevation GMTED\" type:Imagery Layer owner:esri_livingatlas>,\n",
       " <Item title:\"World Exclusive Economic Zone Boundaries\" type:Feature Layer Collection owner:esri_livingatlas>,\n",
       " <Item title:\"World First Order Administrative Boundaries 2015\" type:Feature Layer Collection owner:esri_livingatlas>,\n",
       " <Item title:\"World Forests 30m BaseVue 2013\" type:Imagery Layer owner:esri_livingatlas>,\n",
       " <Item title:\"World Hillshade\" type:Web Map owner:esri_livingatlas>,\n",
       " <Item title:\"World Hillshade\" type:Map Image Layer owner:esri_livingatlas>,\n",
       " <Item title:\"World Hydro Reference Overlay\" type:Map Image Layer owner:esri_livingatlas>,\n",
       " <Item title:\"World Imagery\" type:Map Image Layer owner:esri_livingatlas>,\n",
       " <Item title:\"World Imagery (WGS84)\" type:Map Image Layer owner:esri_livingatlas>,\n",
       " <Item title:\"World Land Cover 30m BaseVue 2013\" type:Imagery Layer owner:esri_livingatlas>,\n",
       " <Item title:\"World Land Cover ESA 2009\" type:Imagery Layer owner:esri_livingatlas>,\n",
       " <Item title:\"World Land Cover ESA 2010\" type:Imagery Layer owner:esri_livingatlas>,\n",
       " <Item title:\"World Land Cover ESA 2010 Quality\" type:Imagery Layer owner:esri_livingatlas>,\n",
       " <Item title:\"World Landforms - Improved Hammond Method\" type:Imagery Layer owner:esri_livingatlas>,\n",
       " <Item title:\"World Landforms - MORAP Method 2014\" type:Imagery Layer owner:esri_livingatlas>,\n",
       " <Item title:\"World Latitude and Longitude Grids\" type:Feature Layer Collection owner:esri_livingatlas>,\n",
       " <Item title:\"World Light Gray Base\" type:Map Image Layer owner:esri_livingatlas>,\n",
       " <Item title:\"World Light Gray Reference\" type:Map Image Layer owner:esri_livingatlas>,\n",
       " <Item title:\"World Lithology\" type:Imagery Layer owner:esri_livingatlas>,\n",
       " <Item title:\"World Local Relief\" type:Imagery Layer owner:esri_livingatlas>,\n",
       " <Item title:\"World Navigation Charts\" type:Map Image Layer owner:esri_livingatlas>,\n",
       " <Item title:\"World Ocean Base\" type:Map Image Layer owner:esri_livingatlas>,\n",
       " <Item title:\"World Ocean Reference\" type:Map Image Layer owner:esri_livingatlas>,\n",
       " <Item title:\"World Physical Map\" type:Map Image Layer owner:esri_livingatlas>,\n",
       " <Item title:\"World Population Estimated 2015\" type:Imagery Layer owner:esri_livingatlas>,\n",
       " <Item title:\"World Population Estimated Density 2015\" type:Imagery Layer owner:esri_livingatlas>,\n",
       " <Item title:\"World Precipitation Change 2050 Scenario 2.6\" type:Imagery Layer owner:esri_livingatlas>,\n",
       " <Item title:\"World Precipitation Change 2050 Scenario 4.5\" type:Imagery Layer owner:esri_livingatlas>,\n",
       " <Item title:\"World Precipitation Change 2050 Scenario 6.0\" type:Imagery Layer owner:esri_livingatlas>,\n",
       " <Item title:\"World Precipitation Change 2050 Scenario 8.5\" type:Imagery Layer owner:esri_livingatlas>,\n",
       " <Item title:\"World Reference Overlay\" type:Map Image Layer owner:esri_livingatlas>,\n",
       " <Item title:\"World Region Boundaries 2015\" type:Feature Layer Collection owner:esri_livingatlas>,\n",
       " <Item title:\"World Regions\" type:Feature Layer Collection owner:esri_livingatlas>,\n",
       " <Item title:\"World Regions\" type:Web Map owner:esri_livingatlas>,\n",
       " <Item title:\"World Seafloor Geomorphology\" type:Map Image Layer owner:esri_livingatlas>,\n",
       " <Item title:\"World Shaded Relief\" type:Map Image Layer owner:esri_livingatlas>,\n",
       " <Item title:\"World Slope GMTED\" type:Imagery Layer owner:esri_livingatlas>,\n",
       " <Item title:\"World Soils Harmonized World Soil Database - Bulk Density\" type:Imagery Layer owner:esri_livingatlas>,\n",
       " <Item title:\"World Soils Harmonized World Soil Database - Chemistry\" type:Imagery Layer owner:esri_livingatlas>,\n",
       " <Item title:\"World Soils Harmonized World Soil Database - Exchange Capacity\" type:Imagery Layer owner:esri_livingatlas>,\n",
       " <Item title:\"World Soils Harmonized World Soil Database - General\" type:Imagery Layer owner:esri_livingatlas>,\n",
       " <Item title:\"World Soils Harmonized World Soil Database - Hydric\" type:Imagery Layer owner:esri_livingatlas>,\n",
       " <Item title:\"World Soils Harmonized World Soil Database - Texture\" type:Imagery Layer owner:esri_livingatlas>,\n",
       " <Item title:\"World Street Map\" type:Map Image Layer owner:esri_livingatlas>,\n",
       " <Item title:\"World Surface Water\" type:Imagery Layer owner:esri_livingatlas>,\n",
       " <Item title:\"World Surface Water 30m BaseVue 2013\" type:Imagery Layer owner:esri_livingatlas>,\n",
       " <Item title:\"World Temperature Change 2050 Scenario 2.6\" type:Imagery Layer owner:esri_livingatlas>,\n",
       " <Item title:\"World Temperature Change 2050 Scenario 4.5\" type:Imagery Layer owner:esri_livingatlas>,\n",
       " <Item title:\"World Temperature Change 2050 Scenario 6.0\" type:Imagery Layer owner:esri_livingatlas>,\n",
       " <Item title:\"World Temperature Change 2050 Scenario 8.5\" type:Imagery Layer owner:esri_livingatlas>,\n",
       " <Item title:\"World Terrain Base\" type:Map Image Layer owner:esri_livingatlas>,\n",
       " <Item title:\"World Time Zones\" type:Web Map owner:esri_livingatlas>,\n",
       " <Item title:\"World Time Zones\" type:Feature Layer Collection owner:esri_livingatlas>,\n",
       " <Item title:\"World Topo Base\" type:Map Image Layer owner:esri_livingatlas>,\n",
       " <Item title:\"World Topographic Map\" type:Map Image Layer owner:esri_livingatlas>,\n",
       " <Item title:\"World Traffic Service\" type:Map Image Layer owner:esri_livingatlas>,\n",
       " <Item title:\"World Transportation\" type:Map Image Layer owner:esri_livingatlas>,\n",
       " <Item title:\"World Urban Areas\" type:Feature Layer Collection owner:esri_livingatlas>,\n",
       " <Item title:\"World_Lithology\" type:Imagery Layer owner:esri_livingatlas>,\n",
       " <Item title:\"Zambia Country Boundary 2015\" type:Feature Layer Collection owner:esri_livingatlas>,\n",
       " <Item title:\"Zambia District Boundaries 2015\" type:Feature Layer Collection owner:esri_livingatlas>,\n",
       " <Item title:\"Zambia Province Boundaries 2015\" type:Feature Layer Collection owner:esri_livingatlas>]"
      ]
     },
     "execution_count": 16,
     "metadata": {},
     "output_type": "execute_result"
    }
   ],
   "source": [
    "living_atlas.content()"
   ]
  },
  {
   "cell_type": "markdown",
   "metadata": {},
   "source": [
    "## Content"
   ]
  },
  {
   "cell_type": "code",
   "execution_count": 18,
   "metadata": {},
   "outputs": [
    {
     "data": {
      "text/html": [
       "<div class=\"item_container\" style=\"height: auto; overflow: hidden; border: 1px solid #cfcfcf; border-radius: 2px; background: #f6fafa; line-height: 1.21429em; padding: 10px;\">\n",
       "                    <div class=\"item_left\" style=\"width: 210px; float: left;\">\n",
       "                       <a href='https://deldev.maps.arcgis.com/home/item.html?id=e054d5dec2464789b734fc38255f5c91' target='_blank'>\n",
       "                        <img src='data:image/png;base64,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' width='200' height='133' class=\"itemThumbnail\">\n",
       "                       </a>\n",
       "                    </div>\n",
       "\n",
       "                    <div class=\"item_right\"     style=\"float: none; width: auto; overflow: hidden;\">\n",
       "                        <a href='https://deldev.maps.arcgis.com/home/item.html?id=e054d5dec2464789b734fc38255f5c91' target='_blank'><b>chennai-rainfall</b>\n",
       "                        </a>\n",
       "                        <br/>Rainfall in Chennai<img src='https://deldev.maps.arcgis.com/home/js/jsapi/esri/css/images/item_type_icons/layers16.png' style=\"vertical-align:middle;\">CSV by demo_deldev\n",
       "                        <br/>Last Modified: July 13, 2017\n",
       "                        <br/>0 comments, 16 views\n",
       "                    </div>\n",
       "                </div>\n",
       "                "
      ],
      "text/plain": [
       "<Item title:\"chennai-rainfall\" type:CSV owner:demo_deldev>"
      ]
     },
     "metadata": {},
     "output_type": "display_data"
    },
    {
     "data": {
      "text/html": [
       "<div class=\"item_container\" style=\"height: auto; overflow: hidden; border: 1px solid #cfcfcf; border-radius: 2px; background: #f6fafa; line-height: 1.21429em; padding: 10px;\">\n",
       "                    <div class=\"item_left\" style=\"width: 210px; float: left;\">\n",
       "                       <a href='https://deldev.maps.arcgis.com/home/item.html?id=1e8d5e6c0b03487db519ac71e1b7a831' target='_blank'>\n",
       "                        <img src='data:image/png;base64,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' width='200' height='133' class=\"itemThumbnail\">\n",
       "                       </a>\n",
       "                    </div>\n",
       "\n",
       "                    <div class=\"item_right\"     style=\"float: none; width: auto; overflow: hidden;\">\n",
       "                        <a href='https://deldev.maps.arcgis.com/home/item.html?id=1e8d5e6c0b03487db519ac71e1b7a831' target='_blank'><b>ChennaiFloodsSatellite</b>\n",
       "                        </a>\n",
       "                        <br/>Satellite detected flood water in Chennai<img src='https://deldev.maps.arcgis.com/home/js/jsapi/esri/css/images/item_type_icons/featureshosted16.png' style=\"vertical-align:middle;\">Feature Layer Collection by deldev\n",
       "                        <br/>Last Modified: December 10, 2015\n",
       "                        <br/>0 comments, 14 views\n",
       "                    </div>\n",
       "                </div>\n",
       "                "
      ],
      "text/plain": [
       "<Item title:\"ChennaiFloodsSatellite\" type:Feature Layer Collection owner:deldev>"
      ]
     },
     "metadata": {},
     "output_type": "display_data"
    },
    {
     "data": {
      "text/html": [
       "<div class=\"item_container\" style=\"height: auto; overflow: hidden; border: 1px solid #cfcfcf; border-radius: 2px; background: #f6fafa; line-height: 1.21429em; padding: 10px;\">\n",
       "                    <div class=\"item_left\" style=\"width: 210px; float: left;\">\n",
       "                       <a href='https://deldev.maps.arcgis.com/home/item.html?id=c8bc7d3c3b60415e9845bc00dcd777ed' target='_blank'>\n",
       "                        <img src='http://static.arcgis.com/images/desktopapp.png' class=\"itemThumbnail\">\n",
       "                       </a>\n",
       "                    </div>\n",
       "\n",
       "                    <div class=\"item_right\"     style=\"float: none; width: auto; overflow: hidden;\">\n",
       "                        <a href='https://deldev.maps.arcgis.com/home/item.html?id=c8bc7d3c3b60415e9845bc00dcd777ed' target='_blank'><b>Chennai_rnfl</b>\n",
       "                        </a>\n",
       "                        <br/><img src='https://deldev.maps.arcgis.com/home/js/jsapi/esri/css/images/item_type_icons/featureshosted16.png' style=\"vertical-align:middle;\">Feature Layer Collection by demo_deldev\n",
       "                        <br/>Last Modified: October 25, 2016\n",
       "                        <br/>0 comments, 6 views\n",
       "                    </div>\n",
       "                </div>\n",
       "                "
      ],
      "text/plain": [
       "<Item title:\"Chennai_rnfl\" type:Feature Layer Collection owner:demo_deldev>"
      ]
     },
     "metadata": {},
     "output_type": "display_data"
    },
    {
     "data": {
      "text/html": [
       "<div class=\"item_container\" style=\"height: auto; overflow: hidden; border: 1px solid #cfcfcf; border-radius: 2px; background: #f6fafa; line-height: 1.21429em; padding: 10px;\">\n",
       "                    <div class=\"item_left\" style=\"width: 210px; float: left;\">\n",
       "                       <a href='https://deldev.maps.arcgis.com/home/item.html?id=5f6e3529df814f37ab230fdb62e70649' target='_blank'>\n",
       "                        <img src='data:image/png;base64,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' width='200' height='133' class=\"itemThumbnail\">\n",
       "                       </a>\n",
       "                    </div>\n",
       "\n",
       "                    <div class=\"item_right\"     style=\"float: none; width: auto; overflow: hidden;\">\n",
       "                        <a href='https://deldev.maps.arcgis.com/home/item.html?id=5f6e3529df814f37ab230fdb62e70649' target='_blank'><b>Chennai_Lakes_Map</b>\n",
       "                        </a>\n",
       "                        <br/>Feature collection to feature class<img src='https://deldev.maps.arcgis.com/home/js/jsapi/esri/css/images/item_type_icons/maps16.png' style=\"vertical-align:middle;\">Web Map by demo_deldev\n",
       "                        <br/>Last Modified: April 20, 2017\n",
       "                        <br/>0 comments, 4 views\n",
       "                    </div>\n",
       "                </div>\n",
       "                "
      ],
      "text/plain": [
       "<Item title:\"Chennai_Lakes_Map\" type:Web Map owner:demo_deldev>"
      ]
     },
     "metadata": {},
     "output_type": "display_data"
    },
    {
     "data": {
      "text/html": [
       "<div class=\"item_container\" style=\"height: auto; overflow: hidden; border: 1px solid #cfcfcf; border-radius: 2px; background: #f6fafa; line-height: 1.21429em; padding: 10px;\">\n",
       "                    <div class=\"item_left\" style=\"width: 210px; float: left;\">\n",
       "                       <a href='https://deldev.maps.arcgis.com/home/item.html?id=88dc37d39c5341c6af8ead5940607b76' target='_blank'>\n",
       "                        <img src='http://static.arcgis.com/images/desktopapp.png' class=\"itemThumbnail\">\n",
       "                       </a>\n",
       "                    </div>\n",
       "\n",
       "                    <div class=\"item_right\"     style=\"float: none; width: auto; overflow: hidden;\">\n",
       "                        <a href='https://deldev.maps.arcgis.com/home/item.html?id=88dc37d39c5341c6af8ead5940607b76' target='_blank'><b>Chennai_rnfl</b>\n",
       "                        </a>\n",
       "                        <br/><img src='https://deldev.maps.arcgis.com/home/js/jsapi/esri/css/images/item_type_icons/layers16.png' style=\"vertical-align:middle;\">CSV by demo_deldev\n",
       "                        <br/>Last Modified: October 25, 2016\n",
       "                        <br/>0 comments, 2 views\n",
       "                    </div>\n",
       "                </div>\n",
       "                "
      ],
      "text/plain": [
       "<Item title:\"Chennai_rnfl\" type:CSV owner:demo_deldev>"
      ]
     },
     "metadata": {},
     "output_type": "display_data"
    },
    {
     "data": {
      "text/html": [
       "<div class=\"item_container\" style=\"height: auto; overflow: hidden; border: 1px solid #cfcfcf; border-radius: 2px; background: #f6fafa; line-height: 1.21429em; padding: 10px;\">\n",
       "                    <div class=\"item_left\" style=\"width: 210px; float: left;\">\n",
       "                       <a href='https://deldev.maps.arcgis.com/home/item.html?id=f143b3aff0d34a0fb7eceec75d8a926f' target='_blank'>\n",
       "                        <img src='http://static.arcgis.com/images/desktopapp.png' class=\"itemThumbnail\">\n",
       "                       </a>\n",
       "                    </div>\n",
       "\n",
       "                    <div class=\"item_right\"     style=\"float: none; width: auto; overflow: hidden;\">\n",
       "                        <a href='https://deldev.maps.arcgis.com/home/item.html?id=f143b3aff0d34a0fb7eceec75d8a926f' target='_blank'><b>Chennai_precipitation</b>\n",
       "                        </a>\n",
       "                        <br/><img src='https://deldev.maps.arcgis.com/home/js/jsapi/esri/css/images/item_type_icons/layers16.png' style=\"vertical-align:middle;\">CSV by demo_deldev\n",
       "                        <br/>Last Modified: December 15, 2016\n",
       "                        <br/>0 comments, 2 views\n",
       "                    </div>\n",
       "                </div>\n",
       "                "
      ],
      "text/plain": [
       "<Item title:\"Chennai_precipitation\" type:CSV owner:demo_deldev>"
      ]
     },
     "metadata": {},
     "output_type": "display_data"
    },
    {
     "data": {
      "text/html": [
       "<div class=\"item_container\" style=\"height: auto; overflow: hidden; border: 1px solid #cfcfcf; border-radius: 2px; background: #f6fafa; line-height: 1.21429em; padding: 10px;\">\n",
       "                    <div class=\"item_left\" style=\"width: 210px; float: left;\">\n",
       "                       <a href='https://deldev.maps.arcgis.com/home/item.html?id=caf683b345a64f4f8363efac79f948f7' target='_blank'>\n",
       "                        <img src='http://static.arcgis.com/images/desktopapp.png' class=\"itemThumbnail\">\n",
       "                       </a>\n",
       "                    </div>\n",
       "\n",
       "                    <div class=\"item_right\"     style=\"float: none; width: auto; overflow: hidden;\">\n",
       "                        <a href='https://deldev.maps.arcgis.com/home/item.html?id=caf683b345a64f4f8363efac79f948f7' target='_blank'><b>chennai-rainfall</b>\n",
       "                        </a>\n",
       "                        <br/><img src='https://deldev.maps.arcgis.com/home/js/jsapi/esri/css/images/item_type_icons/featureshosted16.png' style=\"vertical-align:middle;\">Feature Layer Collection by demo_deldev\n",
       "                        <br/>Last Modified: September 14, 2016\n",
       "                        <br/>0 comments, 2 views\n",
       "                    </div>\n",
       "                </div>\n",
       "                "
      ],
      "text/plain": [
       "<Item title:\"chennai-rainfall\" type:Feature Layer Collection owner:demo_deldev>"
      ]
     },
     "metadata": {},
     "output_type": "display_data"
    },
    {
     "data": {
      "text/html": [
       "<div class=\"item_container\" style=\"height: auto; overflow: hidden; border: 1px solid #cfcfcf; border-radius: 2px; background: #f6fafa; line-height: 1.21429em; padding: 10px;\">\n",
       "                    <div class=\"item_left\" style=\"width: 210px; float: left;\">\n",
       "                       <a href='https://deldev.maps.arcgis.com/home/item.html?id=91c085e119e647f583a0dfbc1a281428' target='_blank'>\n",
       "                        <img src='http://static.arcgis.com/images/desktopapp.png' class=\"itemThumbnail\">\n",
       "                       </a>\n",
       "                    </div>\n",
       "\n",
       "                    <div class=\"item_right\"     style=\"float: none; width: auto; overflow: hidden;\">\n",
       "                        <a href='https://deldev.maps.arcgis.com/home/item.html?id=91c085e119e647f583a0dfbc1a281428' target='_blank'><b>Chennai_precipitation</b>\n",
       "                        </a>\n",
       "                        <br/><img src='https://deldev.maps.arcgis.com/home/js/jsapi/esri/css/images/item_type_icons/featureshosted16.png' style=\"vertical-align:middle;\">Feature Layer Collection by demo_deldev\n",
       "                        <br/>Last Modified: December 15, 2016\n",
       "                        <br/>0 comments, 0 views\n",
       "                    </div>\n",
       "                </div>\n",
       "                "
      ],
      "text/plain": [
       "<Item title:\"Chennai_precipitation\" type:Feature Layer Collection owner:demo_deldev>"
      ]
     },
     "metadata": {},
     "output_type": "display_data"
    }
   ],
   "source": [
    "items = gis.content.search('Chennai')\n",
    "for item in items:\n",
    "    display(item)"
   ]
  },
  {
   "cell_type": "code",
   "execution_count": 19,
   "metadata": {},
   "outputs": [
    {
     "data": {
      "text/html": [
       "<div class=\"item_container\" style=\"height: auto; overflow: hidden; border: 1px solid #cfcfcf; border-radius: 2px; background: #f6fafa; line-height: 1.21429em; padding: 10px;\">\n",
       "                    <div class=\"item_left\" style=\"width: 210px; float: left;\">\n",
       "                       <a href='https://deldev.maps.arcgis.com/home/item.html?id=e054d5dec2464789b734fc38255f5c91' target='_blank'>\n",
       "                        <img src='data:image/png;base64,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' width='200' height='133' class=\"itemThumbnail\">\n",
       "                       </a>\n",
       "                    </div>\n",
       "\n",
       "                    <div class=\"item_right\"     style=\"float: none; width: auto; overflow: hidden;\">\n",
       "                        <a href='https://deldev.maps.arcgis.com/home/item.html?id=e054d5dec2464789b734fc38255f5c91' target='_blank'><b>chennai-rainfall</b>\n",
       "                        </a>\n",
       "                        <br/>Rainfall in Chennai<img src='https://deldev.maps.arcgis.com/home/js/jsapi/esri/css/images/item_type_icons/layers16.png' style=\"vertical-align:middle;\">CSV by demo_deldev\n",
       "                        <br/>Last Modified: July 13, 2017\n",
       "                        <br/>0 comments, 16 views\n",
       "                    </div>\n",
       "                </div>\n",
       "                "
      ],
      "text/plain": [
       "<Item title:\"chennai-rainfall\" type:CSV owner:demo_deldev>"
      ]
     },
     "execution_count": 19,
     "metadata": {},
     "output_type": "execute_result"
    }
   ],
   "source": [
    "item = items[0]\n",
    "item"
   ]
  },
  {
   "cell_type": "code",
   "execution_count": 20,
   "metadata": {},
   "outputs": [
    {
     "data": {
      "text/plain": [
       "'demo_deldev'"
      ]
     },
     "execution_count": 20,
     "metadata": {},
     "output_type": "execute_result"
    }
   ],
   "source": [
    "item.owner"
   ]
  },
  {
   "cell_type": "code",
   "execution_count": 21,
   "metadata": {},
   "outputs": [
    {
     "data": {
      "text/plain": [
       "'Rainfall in Chennai'"
      ]
     },
     "execution_count": 21,
     "metadata": {},
     "output_type": "execute_result"
    }
   ],
   "source": [
    "item.snippet"
   ]
  },
  {
   "cell_type": "code",
   "execution_count": 22,
   "metadata": {},
   "outputs": [
    {
     "data": {
      "text/plain": [
       "True"
      ]
     },
     "execution_count": 22,
     "metadata": {},
     "output_type": "execute_result"
    }
   ],
   "source": [
    "item.update({'snippet': 'Rainfall in Chennai, India'})"
   ]
  },
  {
   "cell_type": "code",
   "execution_count": 23,
   "metadata": {},
   "outputs": [
    {
     "data": {
      "text/plain": [
       "'Rainfall in Chennai, India'"
      ]
     },
     "execution_count": 23,
     "metadata": {},
     "output_type": "execute_result"
    }
   ],
   "source": [
    "item.snippet"
   ]
  },
  {
   "cell_type": "code",
   "execution_count": 24,
   "metadata": {},
   "outputs": [
    {
     "data": {
      "text/html": [
       "<div class=\"item_container\" style=\"height: auto; overflow: hidden; border: 1px solid #cfcfcf; border-radius: 2px; background: #f6fafa; line-height: 1.21429em; padding: 10px;\">\n",
       "                    <div class=\"item_left\" style=\"width: 210px; float: left;\">\n",
       "                       <a href='https://deldev.maps.arcgis.com/home/item.html?id=e054d5dec2464789b734fc38255f5c91' target='_blank'>\n",
       "                        <img src='data:image/png;base64,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' width='200' height='133' class=\"itemThumbnail\">\n",
       "                       </a>\n",
       "                    </div>\n",
       "\n",
       "                    <div class=\"item_right\"     style=\"float: none; width: auto; overflow: hidden;\">\n",
       "                        <a href='https://deldev.maps.arcgis.com/home/item.html?id=e054d5dec2464789b734fc38255f5c91' target='_blank'><b>chennai-rainfall</b>\n",
       "                        </a>\n",
       "                        <br/>Rainfall in Chennai, India<img src='https://deldev.maps.arcgis.com/home/js/jsapi/esri/css/images/item_type_icons/layers16.png' style=\"vertical-align:middle;\">CSV by demo_deldev\n",
       "                        <br/>Last Modified: July 14, 2017\n",
       "                        <br/>0 comments, 16 views\n",
       "                    </div>\n",
       "                </div>\n",
       "                "
      ],
      "text/plain": [
       "<Item title:\"chennai-rainfall\" type:CSV owner:demo_deldev>"
      ]
     },
     "execution_count": 24,
     "metadata": {},
     "output_type": "execute_result"
    }
   ],
   "source": [
    "item"
   ]
  },
  {
   "cell_type": "code",
   "execution_count": 25,
   "metadata": {},
   "outputs": [
    {
     "data": {
      "text/plain": [
       "[<Item title:\"chennai-rainfall\" type:Feature Layer Collection owner:demo_deldev>]"
      ]
     },
     "execution_count": 25,
     "metadata": {},
     "output_type": "execute_result"
    }
   ],
   "source": [
    "item.related_items('Service2Data', 'reverse')"
   ]
  },
  {
   "cell_type": "markdown",
   "metadata": {},
   "source": [
    "## Servers"
   ]
  },
  {
   "cell_type": "code",
   "execution_count": 26,
   "metadata": {},
   "outputs": [
    {
     "data": {
      "text/plain": [
       "[<Server at https://Dev003246.esri.com:6443/arcgis>,\n",
       " <Server at https://dev003247.esri.com:6443/arcgis>,\n",
       " <Server at https://dev003248.esri.com:6443/arcgis>]"
      ]
     },
     "execution_count": 26,
     "metadata": {},
     "output_type": "execute_result"
    }
   ],
   "source": [
    "servers = enterprise.admin.servers\n",
    "\n",
    "servers.list()"
   ]
  },
  {
   "cell_type": "code",
   "execution_count": 27,
   "metadata": {},
   "outputs": [
    {
     "data": {
      "text/plain": [
       "[<Server at https://dev003247.esri.com:6443/arcgis>]"
      ]
     },
     "execution_count": 27,
     "metadata": {},
     "output_type": "execute_result"
    }
   ],
   "source": [
    "servers.get(function='GeoAnalytics')"
   ]
  },
  {
   "cell_type": "code",
   "execution_count": 28,
   "metadata": {
    "collapsed": true
   },
   "outputs": [],
   "source": [
    "hosting_server = servers.get(role='HOSTING_SERVER')[0]"
   ]
  },
  {
   "cell_type": "code",
   "execution_count": 29,
   "metadata": {},
   "outputs": [
    {
     "data": {
      "text/plain": [
       "<Server at https://Dev003246.esri.com:6443/arcgis>"
      ]
     },
     "execution_count": 29,
     "metadata": {},
     "output_type": "execute_result"
    }
   ],
   "source": [
    "hosting_server"
   ]
  },
  {
   "cell_type": "code",
   "execution_count": 30,
   "metadata": {},
   "outputs": [
    {
     "data": {
      "text/plain": [
       "[<Service at https://Dev003246.esri.com:6443/arcgis/admin/services/Hyperion_clip.ImageServer>,\n",
       " <Service at https://Dev003246.esri.com:6443/arcgis/admin/services/Hyperion_Equador.ImageServer>,\n",
       " <Service at https://Dev003246.esri.com:6443/arcgis/admin/services/SampleWorldCities.MapServer>]"
      ]
     },
     "execution_count": 30,
     "metadata": {},
     "output_type": "execute_result"
    }
   ],
   "source": [
    "hosting_server.services.list()"
   ]
  },
  {
   "cell_type": "code",
   "execution_count": 31,
   "metadata": {
    "collapsed": true
   },
   "outputs": [],
   "source": [
    "world_cities = hosting_server.services.list()[2]"
   ]
  },
  {
   "cell_type": "code",
   "execution_count": 32,
   "metadata": {},
   "outputs": [
    {
     "data": {
      "text/plain": [
       "'The SampleWorldCities service is provided so you can quickly and easily preview the functionality of the GIS server. Click the thumbnail image to open in a web application. This sample service is optional and can be deleted.'"
      ]
     },
     "execution_count": 32,
     "metadata": {},
     "output_type": "execute_result"
    }
   ],
   "source": [
    "world_cities.properties.description"
   ]
  },
  {
   "cell_type": "code",
   "execution_count": 33,
   "metadata": {},
   "outputs": [
    {
     "data": {
      "text/plain": [
       "{'configuredState': 'STARTED', 'realTimeState': 'STARTED'}"
      ]
     },
     "execution_count": 33,
     "metadata": {},
     "output_type": "execute_result"
    }
   ],
   "source": [
    "world_cities.status"
   ]
  },
  {
   "cell_type": "code",
   "execution_count": 34,
   "metadata": {},
   "outputs": [
    {
     "data": {
      "text/plain": [
       "{'perMachine': [{'busy': 0,\n",
       "   'folderName': '/',\n",
       "   'free': 1,\n",
       "   'initializing': 0,\n",
       "   'isStatisticsAvailable': True,\n",
       "   'machineName': 'DEV003246.ESRI.COM',\n",
       "   'max': 1,\n",
       "   'notCreated': 0,\n",
       "   'serviceName': 'SampleWorldCities',\n",
       "   'totalBusyTime': 15721,\n",
       "   'transactions': 1,\n",
       "   'type': 'MapServer'}],\n",
       " 'summary': {'busy': 0,\n",
       "  'folderName': '/',\n",
       "  'free': 1,\n",
       "  'initializing': 0,\n",
       "  'isStatisticsAvailable': True,\n",
       "  'max': 1,\n",
       "  'notCreated': 0,\n",
       "  'serviceName': 'SampleWorldCities',\n",
       "  'totalBusyTime': 15721,\n",
       "  'transactions': 1,\n",
       "  'type': 'MapServer'}}"
      ]
     },
     "execution_count": 34,
     "metadata": {},
     "output_type": "execute_result"
    }
   ],
   "source": [
    "world_cities.statistics"
   ]
  },
  {
   "cell_type": "code",
   "execution_count": 35,
   "metadata": {},
   "outputs": [
    {
     "data": {
      "text/plain": [
       "True"
      ]
     },
     "execution_count": 35,
     "metadata": {},
     "output_type": "execute_result"
    }
   ],
   "source": [
    "world_cities.stop()"
   ]
  },
  {
   "cell_type": "code",
   "execution_count": null,
   "metadata": {
    "collapsed": true
   },
   "outputs": [],
   "source": []
  }
 ],
 "metadata": {
  "anaconda-cloud": {},
  "kernelspec": {
   "display_name": "Python [default]",
   "language": "python",
   "name": "python3"
  },
  "language_info": {
   "codemirror_mode": {
    "name": "ipython",
    "version": 3
   },
   "file_extension": ".py",
   "mimetype": "text/x-python",
   "name": "python",
   "nbconvert_exporter": "python",
   "pygments_lexer": "ipython3",
   "version": "3.5.2"
  }
 },
 "nbformat": 4,
 "nbformat_minor": 1
}
