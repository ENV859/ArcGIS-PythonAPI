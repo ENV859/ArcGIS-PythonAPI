{
 "cells": [
  {
   "cell_type": "markdown",
   "metadata": {
    "slideshow": {
     "slide_type": "slide"
    }
   },
   "source": [
    "# <center> ArcGIS API for Python for developers </center>\n",
    "### <center> Quickstart demo    </center>"
   ]
  },
  {
   "cell_type": "markdown",
   "metadata": {},
   "source": [
    "### Jupyter notebook"
   ]
  },
  {
   "cell_type": "code",
   "execution_count": 29,
   "metadata": {},
   "outputs": [
    {
     "data": {
      "text/plain": [
       "5"
      ]
     },
     "execution_count": 29,
     "metadata": {},
     "output_type": "execute_result"
    }
   ],
   "source": [
    "2+3"
   ]
  },
  {
   "cell_type": "code",
   "execution_count": 30,
   "metadata": {},
   "outputs": [
    {
     "data": {
      "text/plain": [
       "'/Users/atma6951/Documents/code/geosaurus/g_presentations/2017_UC/pre_uc_dev_wkshp'"
      ]
     },
     "execution_count": 30,
     "metadata": {},
     "output_type": "execute_result"
    }
   ],
   "source": [
    "import os\n",
    "os.getcwd()"
   ]
  },
  {
   "cell_type": "code",
   "execution_count": 32,
   "metadata": {},
   "outputs": [
    {
     "data": {
      "text/plain": [
       "'Copyright (c) 2001-2017 Python Software Foundation.\\nAll Rights Reserved.\\n\\nCopyright (c) 2000 BeOpen.com.\\nAll Rights Reserved.\\n\\nCopyright (c) 1995-2001 Corporation for National Research Initiatives.\\nAll Rights Reserved.\\n\\nCopyright (c) 1991-1995 Stichting Mathematisch Centrum, Amsterdam.\\nAll Rights Reserved.'"
      ]
     },
     "execution_count": 32,
     "metadata": {},
     "output_type": "execute_result"
    }
   ],
   "source": [
    "import sys\n",
    "sys.copyright"
   ]
  },
  {
   "cell_type": "markdown",
   "metadata": {
    "slideshow": {
     "slide_type": "subslide"
    }
   },
   "source": [
    "## Import the ArcGIS library"
   ]
  },
  {
   "cell_type": "code",
   "execution_count": 33,
   "metadata": {
    "collapsed": true,
    "slideshow": {
     "slide_type": "fragment"
    }
   },
   "outputs": [],
   "source": [
    "from arcgis.gis import GIS"
   ]
  },
  {
   "cell_type": "code",
   "execution_count": 34,
   "metadata": {
    "collapsed": true
   },
   "outputs": [],
   "source": [
    "my_gis = GIS(url=\"https://python.playground.esri.com/portal\",\n",
    "             username = \"arcgis_python\",\n",
    "             password = \"amazing_arcgis_123\")"
   ]
  },
  {
   "cell_type": "code",
   "execution_count": 35,
   "metadata": {
    "slideshow": {
     "slide_type": "fragment"
    }
   },
   "outputs": [
    {
     "data": {
      "text/html": [
       "GIS @ <a href=\"https://python.playground.esri.com/portal\">https://python.playground.esri.com/portal</a>"
      ],
      "text/plain": [
       "<arcgis.gis.GIS at 0x113a85710>"
      ]
     },
     "execution_count": 35,
     "metadata": {},
     "output_type": "execute_result"
    }
   ],
   "source": [
    "my_gis"
   ]
  },
  {
   "cell_type": "markdown",
   "metadata": {
    "slideshow": {
     "slide_type": "slide"
    }
   },
   "source": [
    "### Search for content"
   ]
  },
  {
   "cell_type": "code",
   "execution_count": 36,
   "metadata": {},
   "outputs": [
    {
     "data": {
      "text/plain": [
       "[<Item title:\"Ocean Basemap\" type:Web Map owner:esri_livingatlas>,\n",
       " <Item title:\"Topographic\" type:Web Map owner:esri_livingatlas>,\n",
       " <Item title:\"Interesting Places\" type:Web Scene owner:esri_livingatlas>,\n",
       " <Item title:\"World Imagery\" type:Map Image Layer owner:esri_livingatlas>,\n",
       " <Item title:\"World Hillshade\" type:Web Map owner:esri_livingatlas>,\n",
       " <Item title:\"Daily Planet Imagery\" type:Web Map owner:esri_livingatlas>,\n",
       " <Item title:\"Imagery with Metadata\" type:Web Map owner:esri_livingatlas>,\n",
       " <Item title:\"Streets\" type:Web Map owner:esri_livingatlas>,\n",
       " <Item title:\"Our Global Footprint\" type:Web Mapping Application owner:esri_livingatlas>,\n",
       " <Item title:\"Multispectral Landsat\" type:Imagery Layer owner:esri_livingatlas>]"
      ]
     },
     "execution_count": 36,
     "metadata": {},
     "output_type": "execute_result"
    }
   ],
   "source": [
    "my_gis.content.search(\"\")"
   ]
  },
  {
   "cell_type": "code",
   "execution_count": 37,
   "metadata": {
    "slideshow": {
     "slide_type": "fragment"
    }
   },
   "outputs": [
    {
     "data": {
      "text/html": [
       "<div class=\"item_container\" style=\"height: auto; overflow: hidden; border: 1px solid #cfcfcf; border-radius: 2px; background: #f6fafa; line-height: 1.21429em; padding: 10px;\">\n",
       "                    <div class=\"item_left\" style=\"width: 210px; float: left;\">\n",
       "                       <a href='https://python.playground.esri.com/portal/home/item.html?id=e87cc4e139ce4b96b1e799fe828c4616' target='_blank'>\n",
       "                        <img src='data:image/png;base64,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' width='200' height='133' class=\"itemThumbnail\">\n",
       "                       </a>\n",
       "                    </div>\n",
       "\n",
       "                    <div class=\"item_right\"     style=\"float: none; width: auto; overflow: hidden;\">\n",
       "                        <a href='https://python.playground.esri.com/portal/home/item.html?id=e87cc4e139ce4b96b1e799fe828c4616' target='_blank'><b>World_earthquakes_2010</b>\n",
       "                        </a>\n",
       "                        <br/>World earthquakes in 2010<img src='https://python.playground.esri.com/portal/home/js/jsapi/esri/css/images/item_type_icons/layers16.png' style=\"vertical-align:middle;\">Vector Tile Layer by arcgis_python\n",
       "                        <br/>Last Modified: July 05, 2017\n",
       "                        <br/>0 comments, 0 views\n",
       "                    </div>\n",
       "                </div>\n",
       "                "
      ],
      "text/plain": [
       "<Item title:\"World_earthquakes_2010\" type:Vector Tile Layer owner:arcgis_python>"
      ]
     },
     "metadata": {},
     "output_type": "display_data"
    },
    {
     "data": {
      "text/html": [
       "<div class=\"item_container\" style=\"height: auto; overflow: hidden; border: 1px solid #cfcfcf; border-radius: 2px; background: #f6fafa; line-height: 1.21429em; padding: 10px;\">\n",
       "                    <div class=\"item_left\" style=\"width: 210px; float: left;\">\n",
       "                       <a href='https://python.playground.esri.com/portal/home/item.html?id=a52dad3e02db4f3a86735df7efea81f2' target='_blank'>\n",
       "                        <img src='data:image/png;base64,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' width='200' height='133' class=\"itemThumbnail\">\n",
       "                       </a>\n",
       "                    </div>\n",
       "\n",
       "                    <div class=\"item_right\"     style=\"float: none; width: auto; overflow: hidden;\">\n",
       "                        <a href='https://python.playground.esri.com/portal/home/item.html?id=a52dad3e02db4f3a86735df7efea81f2' target='_blank'><b>earthquakes_2</b>\n",
       "                        </a>\n",
       "                        <br/>Major earthquake information<img src='https://python.playground.esri.com/portal/home/js/jsapi/esri/css/images/item_type_icons/layers16.png' style=\"vertical-align:middle;\">Service Definition by arcgis_python\n",
       "                        <br/>Last Modified: July 03, 2017\n",
       "                        <br/>0 comments, 1 views\n",
       "                    </div>\n",
       "                </div>\n",
       "                "
      ],
      "text/plain": [
       "<Item title:\"earthquakes_2\" type:Service Definition owner:arcgis_python>"
      ]
     },
     "metadata": {},
     "output_type": "display_data"
    },
    {
     "data": {
      "text/html": [
       "<div class=\"item_container\" style=\"height: auto; overflow: hidden; border: 1px solid #cfcfcf; border-radius: 2px; background: #f6fafa; line-height: 1.21429em; padding: 10px;\">\n",
       "                    <div class=\"item_left\" style=\"width: 210px; float: left;\">\n",
       "                       <a href='https://python.playground.esri.com/portal/home/item.html?id=b9d1241a51a54bbca9085c648b46e78e' target='_blank'>\n",
       "                        <img src='data:image/png;base64,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' width='200' height='133' class=\"itemThumbnail\">\n",
       "                       </a>\n",
       "                    </div>\n",
       "\n",
       "                    <div class=\"item_right\"     style=\"float: none; width: auto; overflow: hidden;\">\n",
       "                        <a href='https://python.playground.esri.com/portal/home/item.html?id=b9d1241a51a54bbca9085c648b46e78e' target='_blank'><b>earthquakes</b>\n",
       "                        </a>\n",
       "                        <br/><img src='https://python.playground.esri.com/portal/home/js/jsapi/esri/css/images/item_type_icons/layers16.png' style=\"vertical-align:middle;\">CSV by arcgis_python\n",
       "                        <br/>Last Modified: July 02, 2017\n",
       "                        <br/>0 comments, 0 views\n",
       "                    </div>\n",
       "                </div>\n",
       "                "
      ],
      "text/plain": [
       "<Item title:\"earthquakes\" type:CSV owner:arcgis_python>"
      ]
     },
     "metadata": {},
     "output_type": "display_data"
    },
    {
     "data": {
      "text/html": [
       "<div class=\"item_container\" style=\"height: auto; overflow: hidden; border: 1px solid #cfcfcf; border-radius: 2px; background: #f6fafa; line-height: 1.21429em; padding: 10px;\">\n",
       "                    <div class=\"item_left\" style=\"width: 210px; float: left;\">\n",
       "                       <a href='https://python.playground.esri.com/portal/home/item.html?id=2c748fe365ba4e6c82d4bad707453f87' target='_blank'>\n",
       "                        <img src='data:image/png;base64,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' width='200' height='133' class=\"itemThumbnail\">\n",
       "                       </a>\n",
       "                    </div>\n",
       "\n",
       "                    <div class=\"item_right\"     style=\"float: none; width: auto; overflow: hidden;\">\n",
       "                        <a href='https://python.playground.esri.com/portal/home/item.html?id=2c748fe365ba4e6c82d4bad707453f87' target='_blank'><b>World_earthquakes_2010</b>\n",
       "                        </a>\n",
       "                        <br/>World earthquakes in 2010<img src='https://python.playground.esri.com/portal/home/js/jsapi/esri/css/images/item_type_icons/layers16.png' style=\"vertical-align:middle;\">Vector Tile Package by arcgis_python\n",
       "                        <br/>Last Modified: July 05, 2017\n",
       "                        <br/>0 comments, 0 views\n",
       "                    </div>\n",
       "                </div>\n",
       "                "
      ],
      "text/plain": [
       "<Item title:\"World_earthquakes_2010\" type:Vector Tile Package owner:arcgis_python>"
      ]
     },
     "metadata": {},
     "output_type": "display_data"
    },
    {
     "data": {
      "text/html": [
       "<div class=\"item_container\" style=\"height: auto; overflow: hidden; border: 1px solid #cfcfcf; border-radius: 2px; background: #f6fafa; line-height: 1.21429em; padding: 10px;\">\n",
       "                    <div class=\"item_left\" style=\"width: 210px; float: left;\">\n",
       "                       <a href='https://python.playground.esri.com/portal/home/item.html?id=e3e8c73b04424524adb7216f6433b746' target='_blank'>\n",
       "                        <img src='data:image/png;base64,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' width='200' height='133' class=\"itemThumbnail\">\n",
       "                       </a>\n",
       "                    </div>\n",
       "\n",
       "                    <div class=\"item_right\"     style=\"float: none; width: auto; overflow: hidden;\">\n",
       "                        <a href='https://python.playground.esri.com/portal/home/item.html?id=e3e8c73b04424524adb7216f6433b746' target='_blank'><b>earthquakes_2</b>\n",
       "                        </a>\n",
       "                        <br/>Major earthquake information<img src='https://python.playground.esri.com/portal/home/js/jsapi/esri/css/images/item_type_icons/featureshosted16.png' style=\"vertical-align:middle;\">Feature Layer Collection by arcgis_python\n",
       "                        <br/>Last Modified: July 03, 2017\n",
       "                        <br/>0 comments, 2 views\n",
       "                    </div>\n",
       "                </div>\n",
       "                "
      ],
      "text/plain": [
       "<Item title:\"earthquakes_2\" type:Feature Layer Collection owner:arcgis_python>"
      ]
     },
     "metadata": {},
     "output_type": "display_data"
    }
   ],
   "source": [
    "from IPython.display import display\n",
    "search_result = my_gis.content.search(query=\"earthquakes\", max_items=5)\n",
    "for item in search_result:\n",
    "    display(item)"
   ]
  },
  {
   "cell_type": "markdown",
   "metadata": {
    "slideshow": {
     "slide_type": "subslide"
    }
   },
   "source": [
    "#### Search for my contents"
   ]
  },
  {
   "cell_type": "code",
   "execution_count": 38,
   "metadata": {
    "slideshow": {
     "slide_type": "fragment"
    }
   },
   "outputs": [
    {
     "data": {
      "text/html": [
       "<div class=\"item_container\" style=\"height: auto; overflow: hidden; border: 1px solid #cfcfcf; border-radius: 2px; background: #f6fafa; line-height: 1.21429em; padding: 10px;\">\n",
       "                    <div class=\"item_left\" style=\"width: 210px; float: left;\">\n",
       "                       <a href='https://python.playground.esri.com/portal/home/item.html?id=e3e8c73b04424524adb7216f6433b746' target='_blank'>\n",
       "                        <img src='data:image/png;base64,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' width='200' height='133' class=\"itemThumbnail\">\n",
       "                       </a>\n",
       "                    </div>\n",
       "\n",
       "                    <div class=\"item_right\"     style=\"float: none; width: auto; overflow: hidden;\">\n",
       "                        <a href='https://python.playground.esri.com/portal/home/item.html?id=e3e8c73b04424524adb7216f6433b746' target='_blank'><b>earthquakes_2</b>\n",
       "                        </a>\n",
       "                        <br/>Major earthquake information<img src='https://python.playground.esri.com/portal/home/js/jsapi/esri/css/images/item_type_icons/featureshosted16.png' style=\"vertical-align:middle;\">Feature Layer Collection by arcgis_python\n",
       "                        <br/>Last Modified: July 03, 2017\n",
       "                        <br/>0 comments, 2 views\n",
       "                    </div>\n",
       "                </div>\n",
       "                "
      ],
      "text/plain": [
       "<Item title:\"earthquakes_2\" type:Feature Layer Collection owner:arcgis_python>"
      ]
     },
     "metadata": {},
     "output_type": "display_data"
    },
    {
     "data": {
      "text/html": [
       "<div class=\"item_container\" style=\"height: auto; overflow: hidden; border: 1px solid #cfcfcf; border-radius: 2px; background: #f6fafa; line-height: 1.21429em; padding: 10px;\">\n",
       "                    <div class=\"item_left\" style=\"width: 210px; float: left;\">\n",
       "                       <a href='https://python.playground.esri.com/portal/home/item.html?id=14c2e85bbc6e4ff892180c5b9d5bc5bd' target='_blank'>\n",
       "                        <img src='data:image/png;base64,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' width='200' height='133' class=\"itemThumbnail\">\n",
       "                       </a>\n",
       "                    </div>\n",
       "\n",
       "                    <div class=\"item_right\"     style=\"float: none; width: auto; overflow: hidden;\">\n",
       "                        <a href='https://python.playground.esri.com/portal/home/item.html?id=14c2e85bbc6e4ff892180c5b9d5bc5bd' target='_blank'><b>earthquakes</b>\n",
       "                        </a>\n",
       "                        <br/><img src='https://python.playground.esri.com/portal/home/js/jsapi/esri/css/images/item_type_icons/featureshosted16.png' style=\"vertical-align:middle;\">Feature Layer Collection by arcgis_python\n",
       "                        <br/>Last Modified: July 02, 2017\n",
       "                        <br/>0 comments, 1 views\n",
       "                    </div>\n",
       "                </div>\n",
       "                "
      ],
      "text/plain": [
       "<Item title:\"earthquakes\" type:Feature Layer Collection owner:arcgis_python>"
      ]
     },
     "metadata": {},
     "output_type": "display_data"
    }
   ],
   "source": [
    "sr2 = my_gis.content.search(query='title:earthquakes & owner:arcgis_python', item_type='Feature Layer',\n",
    "                                      sort_field='modified')\n",
    "for item in sr2:\n",
    "    display(item)"
   ]
  },
  {
   "cell_type": "markdown",
   "metadata": {
    "slideshow": {
     "slide_type": "slide"
    }
   },
   "source": [
    "## Visualize data on maps"
   ]
  },
  {
   "cell_type": "code",
   "execution_count": 39,
   "metadata": {
    "slideshow": {
     "slide_type": "fragment"
    }
   },
   "outputs": [
    {
     "data": {
      "application/vnd.jupyter.widget-view+json": {
       "model_id": "2bf0845bcc0d417b811925f02ca7cebe"
      }
     },
     "metadata": {},
     "output_type": "display_data"
    }
   ],
   "source": [
    "#get the first item\n",
    "eq_item = sr2[0]\n",
    "\n",
    "#display on a map\n",
    "world_map = my_gis.map()\n",
    "world_map"
   ]
  },
  {
   "cell_type": "code",
   "execution_count": 40,
   "metadata": {
    "collapsed": true,
    "slideshow": {
     "slide_type": "fragment"
    }
   },
   "outputs": [],
   "source": [
    "world_map.add_layer(eq_item)"
   ]
  },
  {
   "cell_type": "markdown",
   "metadata": {
    "slideshow": {
     "slide_type": "subslide"
    }
   },
   "source": [
    "### Perform smart mapping"
   ]
  },
  {
   "cell_type": "code",
   "execution_count": 41,
   "metadata": {
    "slideshow": {
     "slide_type": "fragment"
    }
   },
   "outputs": [
    {
     "data": {
      "application/vnd.jupyter.widget-view+json": {
       "model_id": "e1bc183831714d54ac860b7ed65aa240"
      }
     },
     "metadata": {},
     "output_type": "display_data"
    }
   ],
   "source": [
    "hotspot_map = my_gis.map(\"California\")\n",
    "hotspot_map"
   ]
  },
  {
   "cell_type": "code",
   "execution_count": 42,
   "metadata": {
    "collapsed": true,
    "slideshow": {
     "slide_type": "fragment"
    }
   },
   "outputs": [],
   "source": [
    "hotspot_map.add_layer(eq_item.layers[0], {\"renderer\":\n",
    "                                          \"HeatmapRenderer\",\n",
    "                                          \"opacity\":0.5} )"
   ]
  },
  {
   "cell_type": "markdown",
   "metadata": {
    "slideshow": {
     "slide_type": "slide"
    }
   },
   "source": [
    "## Search for Users, Groups"
   ]
  },
  {
   "cell_type": "code",
   "execution_count": 43,
   "metadata": {
    "slideshow": {
     "slide_type": "fragment"
    }
   },
   "outputs": [
    {
     "data": {
      "text/plain": [
       "[<User username:admin>,\n",
       " <User username:andrew.chapkowski>,\n",
       " <User username:arcgis_python>,\n",
       " <User username:atma.mani>,\n",
       " <User username:bill.major>,\n",
       " <User username:Demo_User>,\n",
       " <User username:esri_boundaries>,\n",
       " <User username:esri_demographics>,\n",
       " <User username:esri_livingatlas>,\n",
       " <User username:esri_nav>,\n",
       " <User username:First_User>,\n",
       " <User username:rohitgeo>,\n",
       " <User username:rohit.singh>,\n",
       " <User username:Second_User>,\n",
       " <User username:smith.collins>,\n",
       " <User username:s.rastogi>,\n",
       " <User username:system_publisher>,\n",
       " <User username:ucdemo2017>]"
      ]
     },
     "execution_count": 43,
     "metadata": {},
     "output_type": "execute_result"
    }
   ],
   "source": [
    "# Search for users\n",
    "user_list = my_gis.users.search(query=None)\n",
    "user_list"
   ]
  },
  {
   "cell_type": "code",
   "execution_count": 44,
   "metadata": {
    "slideshow": {
     "slide_type": "fragment"
    }
   },
   "outputs": [
    {
     "data": {
      "text/html": [
       "<div class=\"9item_container\" style=\"height: auto; overflow: hidden; border: 1px solid #cfcfcf; border-radius: 2px; background: #f6fafa; line-height: 1.21429em; padding: 10px;\">\n",
       "                    <div class=\"item_left\" style=\"width: 210px; float: left;\">\n",
       "                       <a href='https://python.playground.esri.com/portal/home/user.html?user=arcgis_python' target='_blank'>\n",
       "                        <img src='https://python.playground.esri.com/portal/home/js/arcgisonline/css/images/no-user-thumb.jpg' class=\"itemThumbnail\">\n",
       "                       </a>\n",
       "                    </div>\n",
       "\n",
       "                    <div class=\"item_right\" style=\"float: none; width: auto; overflow: hidden;\">\n",
       "                        <a href='https://python.playground.esri.com/portal/home/user.html?user=arcgis_python' target='_blank'><b>arcgis python</b>\n",
       "                        </a>\n",
       "                        <br/><br/><b>Bio</b>: None\n",
       "                        <br/><b>First Name</b>: arcgis\n",
       "                        <br/><b>Last Name</b>: python\n",
       "                        <br/><b>Username</b>: arcgis_python\n",
       "                        <br/><b>Joined</b>: April 27, 2017\n",
       "\n",
       "                    </div>\n",
       "                </div>\n",
       "                "
      ],
      "text/plain": [
       "<User username:arcgis_python>"
      ]
     },
     "execution_count": 44,
     "metadata": {},
     "output_type": "execute_result"
    }
   ],
   "source": [
    "user3 = user_list[2]\n",
    "user3"
   ]
  },
  {
   "cell_type": "code",
   "execution_count": 46,
   "metadata": {
    "slideshow": {
     "slide_type": "subslide"
    }
   },
   "outputs": [
    {
     "data": {
      "text/plain": [
       "[<Item title:\"human_modification_index\" type:Imagery Layer owner:arcgis_python>,\n",
       " <Item title:\"elevation_270m\" type:Imagery Layer owner:arcgis_python>,\n",
       " <Item title:\"AGO World Geocoder (arcgis_python)\" type:Geocoding Layer owner:arcgis_python>,\n",
       " <Item title:\"Nursing_home_locations\" type:Feature Layer Collection owner:arcgis_python>,\n",
       " <Item title:\"power_pedestals_2012\" type:Shapefile owner:arcgis_python>,\n",
       " <Item title:\"Nursing_home_locations\" type:Service Definition owner:arcgis_python>,\n",
       " <Item title:\"WA_DSHS_admin_boundaries\" type:Map Image Layer owner:arcgis_python>,\n",
       " <Item title:\"Locations of power pedestals collected in 2012\" type:Feature Layer Collection owner:arcgis_python>,\n",
       " <Item title:\"WA_DSHS_admin_boundaries\" type:Service Definition owner:arcgis_python>,\n",
       " <Item title:\"AGO World Geocoder (arcgis_python)\" type:Geocoding Layer owner:arcgis_python>,\n",
       " <Item title:\"ImgSrv_Landast_Montana2015\" type:Imagery Layer owner:arcgis_python>,\n",
       " <Item title:\"Port to the south of SFO along west coast of USA\" type:Feature Collection owner:arcgis_python>,\n",
       " <Item title:\"Web scene with photo realistic buildings\" type:Web Scene owner:arcgis_python>,\n",
       " <Item title:\"Web scene with photo realistic buildings\" type:Web Scene owner:arcgis_python>,\n",
       " <Item title:\"Land / Water Boundary (453) 1990-2010 (Mature Support)\" type:Imagery Layer owner:arcgis_python>,\n",
       " <Item title:\"Chennai Relief Centers\" type:Feature Collection owner:arcgis_python>,\n",
       " <Item title:\"USA median age map\" type:Web Map owner:arcgis_python>,\n",
       " <Item title:\"Chennai Population\" type:Feature Layer Collection owner:arcgis_python>,\n",
       " <Item title:\"Chennai Lakes\" type:Feature Collection owner:arcgis_python>,\n",
       " <Item title:\"Pittsburgh_heart_attacks\" type:Service Definition owner:arcgis_python>,\n",
       " <Item title:\"Pittsburgh_heart_attacks\" type:Feature Layer Collection owner:arcgis_python>,\n",
       " <Item title:\"Fire_Buffers_2017_06_23_10_50_48\" type:Feature Layer Collection owner:arcgis_python>,\n",
       " <Item title:\"Web scene with photo realistic buildings\" type:Web Scene owner:arcgis_python>,\n",
       " <Item title:\"Fire_Buffers_2017_06_23_10_50_10\" type:Feature Layer Collection owner:arcgis_python>,\n",
       " <Item title:\"At_Risk_Infrastructure_2017_06_23_10_50_48\" type:Feature Layer Collection owner:arcgis_python>,\n",
       " <Item title:\"USA median age map\" type:Web Map owner:arcgis_python>,\n",
       " <Item title:\"Active California Fires\" type:Feature Layer Collection owner:arcgis_python>,\n",
       " <Item title:\"USA median age map\" type:Web Map owner:arcgis_python>,\n",
       " <Item title:\"LA County Infrastructure at Risk\" type:Web Map owner:arcgis_python>,\n",
       " <Item title:\"Critical Infrastructure in Southern California\" type:Feature Layer Collection owner:arcgis_python>,\n",
       " <Item title:\"Web scene with photo realistic buildings\" type:Web Scene owner:arcgis_python>,\n",
       " <Item title:\"SanDiegoCounty_OverlayAnalysis\" type:Imagery Layer owner:arcgis_python>,\n",
       " <Item title:\"USA Capitals\" type:Feature Layer Collection owner:arcgis_python>,\n",
       " <Item title:\"GeneratedRasterProduct_SDVXQU\" type:Imagery Layer owner:arcgis_python>,\n",
       " <Item title:\"USA Capitals spreadsheet\" type:CSV owner:arcgis_python>,\n",
       " <Item title:\"bigDataFileShares_NYCdata\" type:Big Data File Share owner:arcgis_python>,\n",
       " <Item title:\"Fire_Buffers_2017_06_27_10_26_24\" type:Feature Layer Collection owner:arcgis_python>,\n",
       " <Item title:\"At_Risk_Infrastructure_2017_06_27_10_26_24\" type:Feature Layer Collection owner:arcgis_python>,\n",
       " <Item title:\"commercial_buffers\" type:Feature Layer Collection owner:arcgis_python>,\n",
       " <Item title:\"SanDiegoCounty_Runnable\" type:Imagery Layer owner:arcgis_python>,\n",
       " <Item title:\"density_5blocks\" type:Imagery Layer owner:arcgis_python>,\n",
       " <Item title:\"density_5blocks2\" type:Imagery Layer owner:arcgis_python>,\n",
       " <Item title:\"Virginia Counties\" type:Web Map owner:arcgis_python>,\n",
       " <Item title:\"Virginia Counties\" type:Feature Layer Collection owner:arcgis_python>,\n",
       " <Item title:\"MapWorld Global Shaded Terrain Map\" type:Web Map owner:arcgis_python>,\n",
       " <Item title:\"Imagery with Labels\" type:Web Map owner:arcgis_python>,\n",
       " <Item title:\"Imagery with Metadata\" type:Web Map owner:arcgis_python>,\n",
       " <Item title:\"MapWorld Global Imagery Hybrid\" type:Web Map owner:arcgis_python>,\n",
       " <Item title:\"Arctic Ocean Basemap\" type:Web Map owner:arcgis_python>,\n",
       " <Item title:\"Physical With Labels\" type:Web Map owner:arcgis_python>,\n",
       " <Item title:\"Shaded Relief with Labels\" type:Web Map owner:arcgis_python>,\n",
       " <Item title:\"MapWorld Global Basemap\" type:Web Map owner:arcgis_python>,\n",
       " <Item title:\"Earth Water States (2014-15)\" type:Web Map owner:arcgis_python>,\n",
       " <Item title:\"MapWorld Global Imagery Hybrid\" type:Web Map owner:arcgis_python>,\n",
       " <Item title:\"World Hillshade\" type:Web Map owner:arcgis_python>,\n",
       " <Item title:\"DeLorme World Basemap\" type:Web Map owner:arcgis_python>,\n",
       " <Item title:\"Ocean Basemap\" type:Web Map owner:arcgis_python>,\n",
       " <Item title:\"Streets (Night)\" type:Web Map owner:arcgis_python>,\n",
       " <Item title:\"Hybrid Reference Layer\" type:Vector Tile Layer owner:arcgis_python>,\n",
       " <Item title:\"Navigation\" type:Web Map owner:arcgis_python>,\n",
       " <Item title:\"Light Gray Canvas\" type:Vector Tile Layer owner:arcgis_python>,\n",
       " <Item title:\"Light Gray Canvas Base\" type:Vector Tile Layer owner:arcgis_python>,\n",
       " <Item title:\"Light Gray Canvas Reference\" type:Vector Tile Layer owner:arcgis_python>,\n",
       " <Item title:\"Streets (with Relief)\" type:Web Map owner:arcgis_python>,\n",
       " <Item title:\"World Navigation Map\" type:Vector Tile Layer owner:arcgis_python>,\n",
       " <Item title:\"World Street Map\" type:Vector Tile Layer owner:arcgis_python>,\n",
       " <Item title:\"World Street Map (Night)\" type:Vector Tile Layer owner:arcgis_python>,\n",
       " <Item title:\"World Street Map (with Relief)\" type:Vector Tile Layer owner:arcgis_python>,\n",
       " <Item title:\"World Terrain Base\" type:Vector Tile Layer owner:arcgis_python>,\n",
       " <Item title:\"World Terrain Reference\" type:Vector Tile Layer owner:arcgis_python>,\n",
       " <Item title:\"World Terrain with Labels\" type:Vector Tile Layer owner:arcgis_python>,\n",
       " <Item title:\"World Topographic Map\" type:Vector Tile Layer owner:arcgis_python>,\n",
       " <Item title:\"buffer_raster3\" type:Imagery Layer owner:arcgis_python>,\n",
       " <Item title:\"bigDataFileShares_NYCdata2\" type:Big Data File Share owner:arcgis_python>,\n",
       " <Item title:\"ha_density\" type:Imagery Layer owner:arcgis_python>,\n",
       " <Item title:\"Test_viz_layer3\" type:Imagery Layer owner:arcgis_python>,\n",
       " <Item title:\"Test_viz_layer3\" type:Imagery Layer owner:arcgis_python>,\n",
       " <Item title:\"Test_viz_layer3\" type:Imagery Layer owner:arcgis_python>,\n",
       " <Item title:\"USA median age map\" type:Web Map owner:arcgis_python>,\n",
       " <Item title:\"Web scene with photo realistic buildings\" type:Web Scene owner:arcgis_python>,\n",
       " <Item title:\"Ebola treatment locations\" type:Web Map owner:arcgis_python>,\n",
       " <Item title:\"Ebola_Treatment_Units\" type:Feature Layer Collection owner:arcgis_python>,\n",
       " <Item title:\"USA median age map\" type:Web Map owner:arcgis_python>,\n",
       " <Item title:\"Ebola_Treatment_Units\" type:Service Definition owner:arcgis_python>,\n",
       " <Item title:\"USA median age map\" type:Web Map owner:arcgis_python>,\n",
       " <Item title:\"Dark Gray Canvas\" type:Web Map owner:arcgis_python>,\n",
       " <Item title:\"Western Pacific Typhoons (2005)\" type:Web Scene owner:arcgis_python>,\n",
       " <Item title:\"Dark Gray Canvas (WGS84)\" type:Web Map owner:arcgis_python>,\n",
       " <Item title:\"Western Pacific Typhoons (2005)\" type:Web Scene owner:arcgis_python>,\n",
       " <Item title:\"Dark Gray Canvas\" type:Web Map owner:arcgis_python>,\n",
       " <Item title:\"Toprical Cyclones - Summer\" type:Web Scene owner:arcgis_python>,\n",
       " <Item title:\"SanDiego_PlacesToRun\" type:Imagery Layer owner:arcgis_python>,\n",
       " <Item title:\"Fire_Buffers_2017_07_07_11_15_57\" type:Feature Layer Collection owner:arcgis_python>,\n",
       " <Item title:\"At_Risk_Infrastructure_2017_07_07_11_15_57\" type:Feature Layer Collection owner:arcgis_python>]"
      ]
     },
     "execution_count": 46,
     "metadata": {},
     "output_type": "execute_result"
    }
   ],
   "source": [
    "user3.items()\n",
    "#user3.items(folder='earthquakes')"
   ]
  },
  {
   "cell_type": "code",
   "execution_count": 47,
   "metadata": {
    "slideshow": {
     "slide_type": "fragment"
    }
   },
   "outputs": [
    {
     "data": {
      "text/plain": [
       "[{'created': 1499052082024,\n",
       "  'id': '7ac72ba7f7884ce38f799addb905d35d',\n",
       "  'title': 'Earthquakes',\n",
       "  'username': 'arcgis_python'},\n",
       " {'created': 1499273256801,\n",
       "  'id': '5c9cd4fe345a43ffa89480b4d36f8e3c',\n",
       "  'title': 'packages',\n",
       "  'username': 'arcgis_python'},\n",
       " {'created': 1498078641329,\n",
       "  'id': '70bb78f549204c93a44b0e54abb3e349',\n",
       "  'title': 'Rainfall Data',\n",
       "  'username': 'arcgis_python'}]"
      ]
     },
     "execution_count": 47,
     "metadata": {},
     "output_type": "execute_result"
    }
   ],
   "source": [
    "user3.folders"
   ]
  },
  {
   "cell_type": "code",
   "execution_count": 48,
   "metadata": {
    "slideshow": {
     "slide_type": "subslide"
    }
   },
   "outputs": [
    {
     "data": {
      "text/plain": [
       "[<Group title:\"Basemaps\" owner:arcgis_python>,\n",
       " <Group title:\"Central Services\" owner:arcgis_python>,\n",
       " <Group title:\"Compliance\" owner:arcgis_python>,\n",
       " <Group title:\"Customer Service, Finance, Billing and Accounting\" owner:arcgis_python>,\n",
       " <Group title:\"Demographic Content\" owner:arcgis_python>,\n",
       " <Group title:\"Design and Engineering\" owner:arcgis_python>,\n",
       " <Group title:\"Disaster Response\" owner:arcgis_python>,\n",
       " <Group title:\"Executive Reports\" owner:arcgis_python>,\n",
       " <Group title:\"External Contractors\" owner:arcgis_python>,\n",
       " <Group title:\"Featured Apps\" owner:arcgis_python>,\n",
       " <Group title:\"Field and Facility Maintenance\" owner:arcgis_python>,\n",
       " <Group title:\"Fire Service\" owner:arcgis_python>,\n",
       " <Group title:\"Gallery\" owner:arcgis_python>,\n",
       " <Group title:\"Industrial Monitoring\" owner:arcgis_python>,\n",
       " <Group title:\"LA County Emergency Management\" owner:arcgis_python>,\n",
       " <Group title:\"Lab Services\" owner:arcgis_python>,\n",
       " <Group title:\"Land Use Content\" owner:arcgis_python>,\n",
       " <Group title:\"Network Operations\" owner:arcgis_python>,\n",
       " <Group title:\"Public Maps and Apps\" owner:arcgis_python>,\n",
       " <Group title:\"Recreational geocaching\" owner:arcgis_python>,\n",
       " <Group title:\"Tools and Add-Ins\" owner:arcgis_python>,\n",
       " <Group title:\"Vector Basemaps\" owner:arcgis_python>,\n",
       " <Group title:\"Wastewater Treatment\" owner:arcgis_python>,\n",
       " <Group title:\"Water Treatment\" owner:arcgis_python>,\n",
       " <Group title:\"Web Application Templates\" owner:Demo_User>,\n",
       " <Group title:\"Web Application Templates\" owner:Second_User>]"
      ]
     },
     "execution_count": 48,
     "metadata": {},
     "output_type": "execute_result"
    }
   ],
   "source": [
    "# Search for groups\n",
    "my_gis.groups.search()"
   ]
  },
  {
   "cell_type": "code",
   "execution_count": null,
   "metadata": {
    "collapsed": true
   },
   "outputs": [],
   "source": []
  }
 ],
 "metadata": {
  "kernelspec": {
   "display_name": "Python 3",
   "language": "python",
   "name": "python3"
  },
  "language_info": {
   "codemirror_mode": {
    "name": "ipython",
    "version": 3
   },
   "file_extension": ".py",
   "mimetype": "text/x-python",
   "name": "python",
   "nbconvert_exporter": "python",
   "pygments_lexer": "ipython3",
   "version": "3.6.1"
  }
 },
 "nbformat": 4,
 "nbformat_minor": 2
}
