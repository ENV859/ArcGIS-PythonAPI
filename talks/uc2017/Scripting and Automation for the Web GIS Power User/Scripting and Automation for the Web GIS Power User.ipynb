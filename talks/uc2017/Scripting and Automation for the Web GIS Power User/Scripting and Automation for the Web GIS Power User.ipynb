{
 "cells": [
  {
   "cell_type": "markdown",
   "metadata": {
    "slideshow": {
     "slide_type": "slide"
    }
   },
   "source": [
    "# Scripting and Automation for the Web GIS Power User"
   ]
  },
  {
   "cell_type": "markdown",
   "metadata": {
    "slideshow": {
     "slide_type": "slide"
    }
   },
   "source": [
    "## Reasons\n",
    " 1. Prototpying ideas\n",
    " 2. Integration with Pandas and plotting libraries\n",
    " 3. Integration with ArcGIS\n",
    " 4. Growing open-source project with [numeours extensions](http://jupyter-contrib-nbextensions.readthedocs.io/en/latest/)"
   ]
  },
  {
   "cell_type": "markdown",
   "metadata": {
    "collapsed": true,
    "slideshow": {
     "slide_type": "subslide"
    }
   },
   "source": [
    "### 1. Prototyping ideas\n",
    "<img src=\"prototype_analysis.png\" height=\"500\" width=\"500\">"
   ]
  },
  {
   "cell_type": "markdown",
   "metadata": {
    "slideshow": {
     "slide_type": "subslide"
    }
   },
   "source": [
    "### 2. Integration with pandas and plotting libraries"
   ]
  },
  {
   "cell_type": "code",
   "execution_count": 1,
   "metadata": {
    "slideshow": {
     "slide_type": "fragment"
    }
   },
   "outputs": [
    {
     "data": {
      "text/html": [
       "<div>\n",
       "<table border=\"1\" class=\"dataframe\">\n",
       "  <thead>\n",
       "    <tr style=\"text-align: right;\">\n",
       "      <th></th>\n",
       "      <th>Unnamed: 0</th>\n",
       "      <th>X</th>\n",
       "      <th>Y</th>\n",
       "      <th>ProgramName</th>\n",
       "      <th>ProjectTitle</th>\n",
       "      <th>DamageExtent</th>\n",
       "      <th>ID</th>\n",
       "    </tr>\n",
       "  </thead>\n",
       "  <tbody>\n",
       "    <tr>\n",
       "      <th>0</th>\n",
       "      <td>0</td>\n",
       "      <td>-118.213772</td>\n",
       "      <td>34.032372</td>\n",
       "      <td>Municipal Facilities R and P</td>\n",
       "      <td>Boyle Heights Sports Center</td>\n",
       "      <td>95</td>\n",
       "      <td>35</td>\n",
       "    </tr>\n",
       "    <tr>\n",
       "      <th>1</th>\n",
       "      <td>1</td>\n",
       "      <td>-118.245915</td>\n",
       "      <td>34.045172</td>\n",
       "      <td>Municipal Facilities R and P</td>\n",
       "      <td>Engine Company 23 Arts Center</td>\n",
       "      <td>76</td>\n",
       "      <td>20565</td>\n",
       "    </tr>\n",
       "    <tr>\n",
       "      <th>2</th>\n",
       "      <td>2</td>\n",
       "      <td>-118.245911</td>\n",
       "      <td>34.045161</td>\n",
       "      <td>Municipal Facilities R and P</td>\n",
       "      <td>Engine Company 23 Arts Center</td>\n",
       "      <td>76</td>\n",
       "      <td>20566</td>\n",
       "    </tr>\n",
       "    <tr>\n",
       "      <th>3</th>\n",
       "      <td>3</td>\n",
       "      <td>-118.407213</td>\n",
       "      <td>34.235234</td>\n",
       "      <td>Bridge Improvement Program</td>\n",
       "      <td>Laurel Canyon Blvd Bridge-1233</td>\n",
       "      <td>78</td>\n",
       "      <td>771</td>\n",
       "    </tr>\n",
       "    <tr>\n",
       "      <th>4</th>\n",
       "      <td>4</td>\n",
       "      <td>-118.317632</td>\n",
       "      <td>34.025554</td>\n",
       "      <td>Wastewater - CSP</td>\n",
       "      <td>Wilshire Area System Swr Rehab</td>\n",
       "      <td>58</td>\n",
       "      <td>768</td>\n",
       "    </tr>\n",
       "  </tbody>\n",
       "</table>\n",
       "</div>"
      ],
      "text/plain": [
       "   Unnamed: 0           X          Y                   ProgramName  \\\n",
       "0           0 -118.213772  34.032372  Municipal Facilities R and P   \n",
       "1           1 -118.245915  34.045172  Municipal Facilities R and P   \n",
       "2           2 -118.245911  34.045161  Municipal Facilities R and P   \n",
       "3           3 -118.407213  34.235234    Bridge Improvement Program   \n",
       "4           4 -118.317632  34.025554              Wastewater - CSP   \n",
       "\n",
       "                     ProjectTitle  DamageExtent     ID  \n",
       "0     Boyle Heights Sports Center            95     35  \n",
       "1   Engine Company 23 Arts Center            76  20565  \n",
       "2   Engine Company 23 Arts Center            76  20566  \n",
       "3  Laurel Canyon Blvd Bridge-1233            78    771  \n",
       "4  Wilshire Area System Swr Rehab            58    768  "
      ]
     },
     "execution_count": 1,
     "metadata": {},
     "output_type": "execute_result"
    }
   ],
   "source": [
    "# read and display a csv file\n",
    "import pandas as pd\n",
    "csv = pd.read_csv('major_earthquakes.csv')\n",
    "csv.head()"
   ]
  },
  {
   "cell_type": "code",
   "execution_count": 3,
   "metadata": {
    "slideshow": {
     "slide_type": "fragment"
    }
   },
   "outputs": [
    {
     "data": {
      "text/plain": [
       "array([[<matplotlib.axes._subplots.AxesSubplot object at 0x11ba68a58>]], dtype=object)"
      ]
     },
     "execution_count": 3,
     "metadata": {},
     "output_type": "execute_result"
    },
    {
     "data": {
      "image/png": "[encoded data removed]",
      "text/plain": [
       "<matplotlib.figure.Figure at 0x11947e3c8>"
      ]
     },
     "metadata": {},
     "output_type": "display_data"
    }
   ],
   "source": [
    "import matplotlib.pyplot as plt\n",
    "%matplotlib inline\n",
    "csv.hist('DamageExtent')"
   ]
  },
  {
   "cell_type": "markdown",
   "metadata": {
    "collapsed": true,
    "slideshow": {
     "slide_type": "subslide"
    }
   },
   "source": [
    "### 3. Integration with ArcGIS"
   ]
  },
  {
   "cell_type": "code",
   "execution_count": 5,
   "metadata": {
    "slideshow": {
     "slide_type": "fragment"
    }
   },
   "outputs": [
    {
     "data": {
      "application/vnd.jupyter.widget-view+json": {
       "model_id": "9dfe7479aaab485aa3828b92d226f596"
      }
     },
     "metadata": {},
     "output_type": "display_data"
    }
   ],
   "source": [
    "from arcgis.gis import *\n",
    "gis = GIS()\n",
    "m1 = gis.map()\n",
    "m1"
   ]
  },
  {
   "cell_type": "code",
   "execution_count": 4,
   "metadata": {
    "collapsed": true,
    "slideshow": {
     "slide_type": "fragment"
    }
   },
   "outputs": [],
   "source": [
    "eq = gis.content.search(\"earthquakes\", \"feature layer\")[0]\n",
    "m1.add_layer(eq)"
   ]
  },
  {
   "cell_type": "markdown",
   "metadata": {
    "slideshow": {
     "slide_type": "subslide"
    }
   },
   "source": [
    "### 4. Growing open source project, lots of extensions\n",
    " 1. Collapsible headings\n",
    " 2. RISE - presentations\n",
    " 3. [list of extensions](http://jupyter-contrib-nbextensions.readthedocs.io/en/latest/)"
   ]
  },
  {
   "cell_type": "markdown",
   "metadata": {},
   "source": [
    "## How to get notebooks on your computer?\n",
    " 1. Through ArcGIS Pro\n",
    " 2. Install conda\n",
    " 3. Try the live notebooks"
   ]
  },
  {
   "cell_type": "markdown",
   "metadata": {
    "slideshow": {
     "slide_type": "slide"
    }
   },
   "source": [
    "## How to use notebooks and best practices"
   ]
  },
  {
   "cell_type": "markdown",
   "metadata": {
    "slideshow": {
     "slide_type": "subslide"
    }
   },
   "source": [
    "### Notebooks walk through\n",
    " 1. Cell types - markdown, code\n",
    " 2. Running cells\n",
    " 3. Using intellisense\n",
    " 4. REPL - read evaluate print loop"
   ]
  },
  {
   "cell_type": "markdown",
   "metadata": {
    "slideshow": {
     "slide_type": "subslide"
    }
   },
   "source": [
    "Markdown - headings\n",
    "# H1\n",
    "## H2\n",
    "### H3\n",
    "#### H4"
   ]
  },
  {
   "cell_type": "markdown",
   "metadata": {
    "slideshow": {
     "slide_type": "fragment"
    }
   },
   "source": [
    "Markdown - bold, italics, code snippet\n",
    "\n",
    "**this is bold**\n",
    "\n",
    "_this is italics_ and this is not"
   ]
  },
  {
   "cell_type": "markdown",
   "metadata": {},
   "source": [
    "embed images\n",
    "![](http://mms.businesswire.com/media/20170615005128/en/570118/4/esri_logo17.jpg)"
   ]
  },
  {
   "cell_type": "markdown",
   "metadata": {
    "slideshow": {
     "slide_type": "subslide"
    }
   },
   "source": [
    "### singe line code highlighting\n",
    "Represent equation of a straight line: `y = m*x + C`"
   ]
  },
  {
   "cell_type": "markdown",
   "metadata": {
    "slideshow": {
     "slide_type": "fragment"
    }
   },
   "source": [
    "### multiline code highlighting\n",
    "```PYTHON\n",
    "import os\n",
    "data_root = r'root dir to walk down'\n",
    "for directory, subdir_list, file_list in os.walk(data_root):\n",
    "    print(directory)\n",
    "    print(\"\\t\", end=\"\")\n",
    "    print(subdir_list)\n",
    "    print(\"\\t\\t\", end=\"\")\n",
    "    print(file_list)\n",
    "```"
   ]
  },
  {
   "cell_type": "code",
   "execution_count": 2,
   "metadata": {
    "slideshow": {
     "slide_type": "subslide"
    }
   },
   "outputs": [
    {
     "data": {
      "text/plain": [
       "3"
      ]
     },
     "execution_count": 2,
     "metadata": {},
     "output_type": "execute_result"
    }
   ],
   "source": [
    "#this is a code cell\n",
    "1+2\n",
    "\n",
    "# run this by hitting `shift + enter`"
   ]
  },
  {
   "cell_type": "code",
   "execution_count": 3,
   "metadata": {
    "slideshow": {
     "slide_type": "fragment"
    }
   },
   "outputs": [
    {
     "data": {
      "text/plain": [
       "'3.6.1 |Continuum Analytics, Inc.| (default, Mar 22 2017, 19:25:17) \\n[GCC 4.2.1 Compatible Apple LLVM 6.0 (clang-600.0.57)]'"
      ]
     },
     "execution_count": 3,
     "metadata": {},
     "output_type": "execute_result"
    }
   ],
   "source": [
    "# code cell\n",
    "import sys\n",
    "sys.version"
   ]
  },
  {
   "cell_type": "code",
   "execution_count": 12,
   "metadata": {
    "slideshow": {
     "slide_type": "subslide"
    }
   },
   "outputs": [
    {
     "ename": "AttributeError",
     "evalue": "module 'sys' has no attribute 'pth'",
     "output_type": "error",
     "traceback": [
      "\u001b[0;31m---------------------------------------------------------------------------\u001b[0m",
      "\u001b[0;31mAttributeError\u001b[0m                            Traceback (most recent call last)",
      "\u001b[0;32m<ipython-input-12-735dad46e7e9>\u001b[0m in \u001b[0;36m<module>\u001b[0;34m()\u001b[0m\n\u001b[1;32m      1\u001b[0m \u001b[0;31m# fixing errors - intellisense\u001b[0m\u001b[0;34m\u001b[0m\u001b[0;34m\u001b[0m\u001b[0m\n\u001b[0;32m----> 2\u001b[0;31m \u001b[0msys\u001b[0m\u001b[0;34m.\u001b[0m\u001b[0mpth\u001b[0m\u001b[0;34m\u001b[0m\u001b[0m\n\u001b[0m",
      "\u001b[0;31mAttributeError\u001b[0m: module 'sys' has no attribute 'pth'"
     ]
    }
   ],
   "source": [
    "# fixing errors - intellisense\n",
    "sys.pth"
   ]
  },
  {
   "cell_type": "markdown",
   "metadata": {
    "slideshow": {
     "slide_type": "subslide"
    }
   },
   "source": [
    "#### Using intellisense - Python API"
   ]
  },
  {
   "cell_type": "code",
   "execution_count": 13,
   "metadata": {
    "collapsed": true,
    "slideshow": {
     "slide_type": "fragment"
    }
   },
   "outputs": [],
   "source": [
    "from arcgis.gis import *\n",
    "gis = GIS()"
   ]
  },
  {
   "cell_type": "code",
   "execution_count": null,
   "metadata": {
    "collapsed": true,
    "slideshow": {
     "slide_type": "fragment"
    }
   },
   "outputs": [],
   "source": [
    "#look for the basemaps groups in arcgis online\n",
    "#use intellisense - dot notation\n",
    "gis.\n"
   ]
  },
  {
   "cell_type": "code",
   "execution_count": 19,
   "metadata": {
    "collapsed": true,
    "slideshow": {
     "slide_type": "subslide"
    }
   },
   "outputs": [],
   "source": [
    "#build a query - look up method parameters, pull up help into new page\n",
    "gis.groups.search?"
   ]
  },
  {
   "cell_type": "code",
   "execution_count": 18,
   "metadata": {
    "slideshow": {
     "slide_type": "fragment"
    }
   },
   "outputs": [
    {
     "data": {
      "text/plain": [
       "[<Group title:\"#01715929 - Unable to open basemap in Collector\" owner:CarmelC>,\n",
       " <Group title:\"(ETG) NZ Basemaps\" owner:spt_smb>,\n",
       " <Group title:\"**LTRogers BaseMaps**\" owner:ltrogers4>,\n",
       " <Group title:\"- Admin Group - Basemaps\" owner:eGIS_ADMIN>,\n",
       " <Group title:\"00_basemaps\" owner:ispace_rsa>,\n",
       " <Group title:\"1 - Basemaps\" owner:GBCMA>,\n",
       " <Group title:\"1MM Basemap Gallery\" owner:alam.informasi>,\n",
       " <Group title:\"3D City Basemap\" owner:MTBMaven>,\n",
       " <Group title:\"3D Land Use Analysis Tool Basemap\" owner:MDPublisher>,\n",
       " <Group title:\"_Basemaps\" owner:ahein_hollywoodfl>,\n",
       " <Group title:\"_Basemaps\" owner:mlundeen_se>,\n",
       " <Group title:\"A Tacoma Basemaps\" owner:ahou_ess>,\n",
       " <Group title:\"Abbey Basemap Gallery\" owner:accept_default_username4>,\n",
       " <Group title:\"Abbey Manchester Basemap Gallery\" owner:jsawle_abbeymanchester>,\n",
       " <Group title:\"Abbeyfield School  Basemap Gallery\" owner:Abbeyfieldadmin>,\n",
       " <Group title:\"Abbeywood Community School  Basemap Gallery\" owner:abbeywoodc_admin>,\n",
       " <Group title:\"Abingdon School Basemap Gallery\" owner:AbingdonAdmin>,\n",
       " <Group title:\"Abraham Darby Academy Basemap Gallery\" owner:AbrahamDarbyAdmin>,\n",
       " <Group title:\"Academy 360 Basemap Gallery\" owner:Academy360admin>,\n",
       " <Group title:\"Ackworth Basemap Gallery\" owner:jswale_AckSch>,\n",
       " <Group title:\"ACS Egham International School  Basemap Gallery\" owner:acseghamintadmin>,\n",
       " <Group title:\"Acton High School Basemap Gallery\" owner:Actionadmin>,\n",
       " <Group title:\"Adam's Basemap\" owner:AdamZ_TrialUser6>,\n",
       " <Group title:\"Adams County World BaseMaps\" owner:ltaylor17>,\n",
       " <Group title:\"Additional Basemaps\" owner:UC2016>,\n",
       " <Group title:\"ADEC Basemaps\" owner:adecadmin>,\n",
       " <Group title:\"Admin - Basemaps\" owner:yhesritm>,\n",
       " <Group title:\"Administration - Basemaps\" owner:GIS_StAlbert>,\n",
       " <Group title:\"Aerial Basemaps\" owner:stumckay>,\n",
       " <Group title:\"AGO | Basemap Group\" owner:CarverGIS>,\n",
       " <Group title:\"AGO: Basemaps\" owner:naamot_racinecounty>,\n",
       " <Group title:\"AGO: Twin Cities Basemaps\" owner:gov_pholleran>,\n",
       " <Group title:\"AGOL_basemaps_simple_subset\" owner:jessemaps>,\n",
       " <Group title:\"AGRC Basemap Gallery\" owner:aaronaustin>,\n",
       " <Group title:\"AGRC Basemaps\" owner:athorup>,\n",
       " <Group title:\"AGRC Basemaps 2\" owner:athorup>,\n",
       " <Group title:\"Aid & Dev Basemaps\" owner:EsriAidDev>,\n",
       " <Group title:\"Airdrie Academy Basemap Gallery\" owner:airdrieadmin>,\n",
       " <Group title:\"AKL Basemaps\" owner:s4-eaglegis>,\n",
       " <Group title:\"Alachua Basemaps\" owner:ACPAFL>,\n",
       " <Group title:\"Alaska Basemap\" owner:mmsmithgall>,\n",
       " <Group title:\"Albuquerque Basemaps\" owner:tstark>,\n",
       " <Group title:\"Alder Grange High School  Basemap Gallery\" owner:AlderGrangeadmin>,\n",
       " <Group title:\"Alexandra Parks School Basemap Gallery\" owner:alexandraadmin>,\n",
       " <Group title:\"All Esri Basemaps\" owner:railcomm>,\n",
       " <Group title:\"All Hallows Catholic College Basemap Gallery\" owner:AllHallowsAdmin>,\n",
       " <Group title:\"All Hallows Catholic School Basemap Gallery\" owner:AllHallowsCatholicadmin>,\n",
       " <Group title:\"All Saints Academy  Basemap Gallery\" owner:allsaintsacadmin>,\n",
       " <Group title:\"Alness Academy  Basemap Gallery\" owner:Alnessacademyadmin>,\n",
       " <Group title:\"alternative basemaps\" owner:javier_zurich>,\n",
       " <Group title:\"Alton College Basemap Gallery\" owner:altonadmin>,\n",
       " <Group title:\"Alton Convent  Basemap Gallery\" owner:altonconve_admin>,\n",
       " <Group title:\"Alva Academy Basemap Gallery\" owner:alvaadmin>,\n",
       " <Group title:\"Alvechurch Middle School  Basemap Gallery\" owner:alvechurchadmin>,\n",
       " <Group title:\"Amesbury School  Basemap Gallery\" owner:amesburyadmin>,\n",
       " <Group title:\"Ampleforth College Basemap Gallery\" owner:ampleforthadmin>,\n",
       " <Group title:\"Anglo European School  Basemap Gallery\" owner:angloadmin>,\n",
       " <Group title:\"App Basemaps\" owner:MDT_Admin>,\n",
       " <Group title:\"Appleby Grammar School Basemap Gallery\" owner:applebyadmin>,\n",
       " <Group title:\"Application Basemap Group\" owner:Rochelle_Admin>,\n",
       " <Group title:\"Apps Basemap Gallery\" owner:jeff_nitro>,\n",
       " <Group title:\"AppStudio Basemaps\" owner:sathya_meldev>,\n",
       " <Group title:\"ArcGIS Explorer Desktop Basemaps\" owner:mbockenhauer>,\n",
       " <Group title:\"ArcGIS Explorer Desktop Basemaps and Layers\" owner:esri_arcgisexplorer>,\n",
       " <Group title:\"ArcGIS for Health Basemaps\" owner:ArcGISforHealth>,\n",
       " <Group title:\"ArcGIS for Local Government TryItLive Basemaps\" owner:ArcGISforLocalGovTryIt>,\n",
       " <Group title:\"ArcGIS For Weather Basemaps\" owner:KSigAFW>,\n",
       " <Group title:\"ArcGIS Imagery Basemaps\" owner:sarahagol>,\n",
       " <Group title:\"ArcGIS Online Basemaps\" owner:esri_lt>,\n",
       " <Group title:\"ArcGIS Online Basemaps\" owner:esri_bs>,\n",
       " <Group title:\"ArcGIS Online Basemaps\" owner:esri_ro>,\n",
       " <Group title:\"ArcGIS Online Basemaps\" owner:esri_pt>,\n",
       " <Group title:\"ArcGIS Online Basemaps\" owner:esri_ar>,\n",
       " <Group title:\"ArcGIS Online Basemaps\" owner:esri_de>,\n",
       " <Group title:\"ArcGIS Online Basemaps\" owner:esri_ja>,\n",
       " <Group title:\"ArcGIS Online Basemaps\" owner:esri_es>,\n",
       " <Group title:\"ArcGIS Online Basemaps\" owner:esri_tw>,\n",
       " <Group title:\"ArcGIS Online Basemaps\" owner:esri_pl>,\n",
       " <Group title:\"ArcGIS Online Basemaps\" owner:esri_fi>,\n",
       " <Group title:\"ArcGIS Online Basemaps\" owner:esri_po>,\n",
       " <Group title:\"ArcGIS Online Basemaps\" owner:esri_fr>,\n",
       " <Group title:\"ArcGIS Online Basemaps\" owner:esri>,\n",
       " <Group title:\"ArcGIS Online Basemaps\" owner:esri_el>,\n",
       " <Group title:\"ArcGIS Online Basemaps\" owner:esri_he>,\n",
       " <Group title:\"ArcGIS Online Basemaps\" owner:esri_da>,\n",
       " <Group title:\"ArcGIS Online Basemaps\" owner:Samuel.Mills>,\n",
       " <Group title:\"ArcGIS Online Basemaps\" owner:esri_en>,\n",
       " <Group title:\"ArcGIS Online Basemaps\" owner:esri_sr>,\n",
       " <Group title:\"ArcGIS Online Basemaps\" owner:esri_hr>,\n",
       " <Group title:\"ArcGIS Online Basemaps\" owner:esri_vi>,\n",
       " <Group title:\"ArcGIS Online Basemaps\" owner:esri_ind>,\n",
       " <Group title:\"ArcGIS Online Basemaps\" owner:esri_ru>,\n",
       " <Group title:\"ArcGIS Online Basemaps\" owner:esri_zh>,\n",
       " <Group title:\"ArcGIS Online Basemaps\" owner:esri_et>,\n",
       " <Group title:\"ArcGIS Online Basemaps\" owner:esri_nl>,\n",
       " <Group title:\"ArcGIS Online Basemaps\" owner:esri_cs>,\n",
       " <Group title:\"ArcGIS Online Basemaps\" owner:esri_ko>,\n",
       " <Group title:\"ArcGIS Online Basemaps\" owner:aglover_EsriIreland>,\n",
       " <Group title:\"ArcGIS Online Basemaps\" owner:esri_hi>,\n",
       " <Group title:\"ArcGIS Online Basemaps\" owner:esri_hk>,\n",
       " <Group title:\"ArcGIS Online Basemaps\" owner:esri_sv>,\n",
       " <Group title:\"ArcGIS Online Basemaps\" owner:esri_lv>,\n",
       " <Group title:\"ArcGIS Online Basemaps\" owner:esri_it>,\n",
       " <Group title:\"ArcGIS Online Basemaps\" owner:esri_nb>,\n",
       " <Group title:\"ArcGIS Online Basemaps\" owner:esri_tr>,\n",
       " <Group title:\"ArcGIS Online Basemaps\" owner:esri_th>,\n",
       " <Group title:\"ArcGIS Online Vector Basemaps\" owner:esri_de>,\n",
       " <Group title:\"ArcGIS Online Vector Basemaps\" owner:esri_bs>,\n",
       " <Group title:\"ArcGIS Online Vector Basemaps\" owner:esri_lt>,\n",
       " <Group title:\"ArcGIS Online Vector Basemaps\" owner:esri_lv>,\n",
       " <Group title:\"ArcGIS Online Vector Basemaps\" owner:esri_ja>,\n",
       " <Group title:\"ArcGIS Online Vector Basemaps\" owner:esri_pt>,\n",
       " <Group title:\"ArcGIS Online Vector Basemaps\" owner:esri_nb>,\n",
       " <Group title:\"ArcGIS Online Vector Basemaps\" owner:esri_pl>,\n",
       " <Group title:\"ArcGIS Online Vector Basemaps\" owner:esri_po>,\n",
       " <Group title:\"ArcGIS Online Vector Basemaps\" owner:esri_hr>,\n",
       " <Group title:\"ArcGIS Online Vector Basemaps\" owner:esri_hi>,\n",
       " <Group title:\"ArcGIS Online Vector Basemaps\" owner:esri_zh>,\n",
       " <Group title:\"ArcGIS Online Vector Basemaps\" owner:esri_da>,\n",
       " <Group title:\"ArcGIS Online Vector Basemaps\" owner:esri_th>,\n",
       " <Group title:\"ArcGIS Online Vector Basemaps\" owner:esri_nl>,\n",
       " <Group title:\"ArcGIS Online Vector Basemaps\" owner:esri_ro>,\n",
       " <Group title:\"ArcGIS Online Vector Basemaps\" owner:esri_cs>,\n",
       " <Group title:\"ArcGIS Online Vector Basemaps\" owner:esri_et>,\n",
       " <Group title:\"ArcGIS Online Vector Basemaps\" owner:esri_en>,\n",
       " <Group title:\"ArcGIS Online Vector Basemaps\" owner:esri_el>,\n",
       " <Group title:\"ArcGIS Online Vector Basemaps\" owner:esri_tr>,\n",
       " <Group title:\"ArcGIS Online Vector Basemaps\" owner:esri_vi>,\n",
       " <Group title:\"ArcGIS Online Vector Basemaps\" owner:esri_ru>,\n",
       " <Group title:\"ArcGIS Online Vector Basemaps\" owner:esri_fi>,\n",
       " <Group title:\"ArcGIS Online Vector Basemaps\" owner:esri_ind>,\n",
       " <Group title:\"ArcGIS Online Vector Basemaps\" owner:esri_ko>,\n",
       " <Group title:\"ArcGIS Online Vector Basemaps\" owner:esri_hk>,\n",
       " <Group title:\"ArcGIS Online Vector Basemaps\" owner:esri_fr>,\n",
       " <Group title:\"ArcGIS Online Vector Basemaps\" owner:esri_tw>,\n",
       " <Group title:\"ArcGIS Online Vector Basemaps\" owner:esri_he>,\n",
       " <Group title:\"ArcGIS Online Vector Basemaps\" owner:esri_it>,\n",
       " <Group title:\"ArcGIS Online Vector Basemaps\" owner:esri_sv>,\n",
       " <Group title:\"ArcGIS Online Vector Basemaps\" owner:esri_ar>,\n",
       " <Group title:\"ArcGIS Online Vector Basemaps\" owner:esri_sr>,\n",
       " <Group title:\"ArcGIS Online Vector Basemaps\" owner:esri_es>,\n",
       " <Group title:\"ArcGIS Raster Basemaps\" owner:sarahagol>,\n",
       " <Group title:\"ArcGIS Vector Basemaps\" owner:sarahagol>,\n",
       " <Group title:\"ArcGlobe Basemaps\" owner:esri>,\n",
       " <Group title:\"Archbishop Blanch School  Basemap Gallery\" owner:archbishopblanchadmin>,\n",
       " <Group title:\"Archbishop Sentamu Academy  Basemap Gallery\" owner:archbishopsentamuadmin>,\n",
       " <Group title:\"ArcMap Basemaps\" owner:esri>,\n",
       " <Group title:\"Arctic Basemaps\" owner:ehoy2013>,\n",
       " <Group title:\"Arkansas Basemaps\" owner:shelbyjohnson>,\n",
       " <Group title:\"Arpa Piemonte Geoportal Basemap\" owner:Arpa_Piemonte_Geoportal>,\n",
       " <Group title:\"ASCE Basemaps\" owner:cgabris_blueraster>,\n",
       " <Group title:\"Ash Green School  Basemap Gallery\" owner:ashgreensc_admin>,\n",
       " <Group title:\"Ashby School  Basemap Gallery\" owner:ashbyschooladmin>,\n",
       " <Group title:\"Ashfield School Basemap Gallery\" owner:ashfieldadmin>,\n",
       " <Group title:\"Ashton Park School  Basemap Gallery\" owner:AshtonAdmin>,\n",
       " <Group title:\"Assessor Basemaps\" owner:klizcano_LR>,\n",
       " <Group title:\"Atherstone Campus Basemap Gallery\" owner:atherstoneadmin>,\n",
       " <Group title:\"ATM Test Basemap Group\" owner:tlcgis_maps_apps>,\n",
       " <Group title:\"Aurora Basemaps\" owner:rwitsell_AuroraCo>,\n",
       " <Group title:\"Austin Friars Basemap Gallery\" owner:Austinadmin>,\n",
       " <Group title:\"Austria Basemaps\" owner:Esri_cy_AT>,\n",
       " <Group title:\"Austria Vector Basemaps\" owner:Esri_cy_AT>,\n",
       " <Group title:\"AW_Basemaps\" owner:AMWater>,\n",
       " <Group title:\"AW_Basemaps\" owner:mkhodash05>,\n",
       " <Group title:\"Aylesbury High Basemap Gallery\" owner:aylesburyadmin>,\n",
       " <Group title:\"Aylsham High School  Basemap Gallery\" owner:aylshamadmin>,\n",
       " <Group title:\"Bablake Basemap Gallery\" owner:jsawle_Bablake>,\n",
       " <Group title:\"Baines School Basemap Gallery\" owner:bainesadmin>,\n",
       " <Group title:\"Ballakermeen High School  Basemap Gallery\" owner:ballakermeenhighadmin>,\n",
       " <Group title:\"Ballyclare High School  Basemap Gallery\" owner:Ballyclareadmin>,\n",
       " <Group title:\"Baltimore Basemaps\" owner:baltimore_city>,\n",
       " <Group title:\"Baltimore Basemaps\" owner:baltimore>,\n",
       " <Group title:\"Banchory Academy  Basemap Gallery\" owner:banchoryadmin>,\n",
       " <Group title:\"Barcelona Basemap Gallery\" owner:AndresMunoz_admin>,\n",
       " <Group title:\"Basemap\" owner:alcaldia_bquilla>,\n",
       " <Group title:\"Basemap\" owner:nfarhana_lgesrimy>,\n",
       " <Group title:\"Basemap\" owner:sarah_clarkson>,\n",
       " <Group title:\"Basemap\" owner:nirun_rtaf>,\n",
       " <Group title:\"Basemap\" owner:agriculturedemo>,\n",
       " <Group title:\"basemap\" owner:onlinecncd>,\n",
       " <Group title:\"Basemap\" owner:arun_tai>,\n",
       " <Group title:\"Basemap\" owner:Cape.Cod.Commission>,\n",
       " <Group title:\"basemap\" owner:ayaaya>,\n",
       " <Group title:\"BaseMap\" owner:pbeilin9>,\n",
       " <Group title:\"Basemap\" owner:bpk001>,\n",
       " <Group title:\"Basemap\" owner:jhodny@Newark.de.us_CityOfNewarkDE>,\n",
       " <Group title:\"Basemap\" owner:Bones6999>,\n",
       " <Group title:\"Basemap\" owner:inscomm3>,\n",
       " <Group title:\"Basemap\" owner:ArcGISTeamTransportation>,\n",
       " <Group title:\"Basemap\" owner:tycgadmin>,\n",
       " <Group title:\"Basemap\" owner:carly.illingworth_Tilt>,\n",
       " <Group title:\"Basemap\" owner:purdyt_jeffco_al>,\n",
       " <Group title:\"BaseMap\" owner:pfreydiere>,\n",
       " <Group title:\"basemap\" owner:jholtzdev>,\n",
       " <Group title:\"basemap\" owner:yicongdemo>,\n",
       " <Group title:\"basemap\" owner:kaogja8060_kitakyushu>,\n",
       " <Group title:\"Basemap\" owner:dheerabhat>,\n",
       " <Group title:\"BaseMap\" owner:radugrecu.developer>,\n",
       " <Group title:\"basemap\" owner:allenlu2008ZF>,\n",
       " <Group title:\"Basemap\" owner:margdev1>,\n",
       " <Group title:\"Basemap\" owner:adubovis>,\n",
       " <Group title:\"BaseMap\" owner:hkkim_esrikorea>,\n",
       " <Group title:\"Basemap\" owner:FAadmin>,\n",
       " <Group title:\"BASEMAP\" owner:keobrien_uncadmin>,\n",
       " <Group title:\"Basemap\" owner:1932815187>,\n",
       " <Group title:\"Basemap\" owner:Philippe_Arseneau>,\n",
       " <Group title:\"Basemap\" owner:whamizi>,\n",
       " <Group title:\"Basemap\" owner:militarydemo>,\n",
       " <Group title:\"Basemap\" owner:vydavatel.IPR>,\n",
       " <Group title:\"Basemap\" owner:kslow_lgesrimy>,\n",
       " <Group title:\"Basemap\" owner:demobd>,\n",
       " <Group title:\"Basemap\" owner:missdig>,\n",
       " <Group title:\"Basemap\" owner:tharner@mvrpc.org>,\n",
       " <Group title:\"Basemap\" owner:OntarioAdmin>,\n",
       " <Group title:\"Basemap\" owner:HartiOnline>,\n",
       " <Group title:\"BaseMap\" owner:KystskogRoy>,\n",
       " <Group title:\"Basemap\" owner:klizcano_UE>,\n",
       " <Group title:\"Basemap\" owner:dnrorgtest>,\n",
       " <Group title:\"Basemap\" owner:Kerik>,\n",
       " <Group title:\"Basemap\" owner:christinem_trial>,\n",
       " <Group title:\"BaseMap\" owner:jbelluz>,\n",
       " <Group title:\"basemap\" owner:skyflying07>,\n",
       " <Group title:\"Basemap\" owner:regtest>,\n",
       " <Group title:\"basemap\" owner:m.voigtlaender@esri.de>,\n",
       " <Group title:\"basemap\" owner:laura_test>,\n",
       " <Group title:\"Basemap\" owner:palshuu>,\n",
       " <Group title:\"Basemap\" owner:cakee>,\n",
       " <Group title:\"Basemap\" owner:snne01>,\n",
       " <Group title:\"BaseMap\" owner:higormunny@gmail.com>,\n",
       " <Group title:\"Basemap\" owner:Altamonte_GIS>,\n",
       " <Group title:\"Basemap\" owner:tnmap_oir>,\n",
       " <Group title:\"basemap\" owner:hoonpark>,\n",
       " <Group title:\"Basemap\" owner:njohnson_ACSQHC>,\n",
       " <Group title:\"Basemap\" owner:HC_GISFIELD>,\n",
       " <Group title:\"Basemap\" owner:Sullivan>,\n",
       " <Group title:\"Basemap\" owner:CityofRocklin>,\n",
       " <Group title:\"basemap\" owner:sarah_junetrial2>,\n",
       " <Group title:\"BaseMap\" owner:etownGIS>,\n",
       " <Group title:\"Basemap\" owner:tuc.demo>,\n",
       " <Group title:\"BASEMAP\" owner:SBubka_ess>,\n",
       " <Group title:\"Basemap\" owner:CityofLoneTree>,\n",
       " <Group title:\"Basemap\" owner:jlelmore>,\n",
       " <Group title:\"Basemap\" owner:andricba>,\n",
       " <Group title:\"Basemap\" owner:xing4626>,\n",
       " <Group title:\"Basemap\" owner:fazella>,\n",
       " <Group title:\"Basemap\" owner:sndsnd>,\n",
       " <Group title:\"Basemap\" owner:Pamela_Locke>,\n",
       " <Group title:\"BaseMap\" owner:I_Olimp>,\n",
       " <Group title:\"basemap\" owner:mshields>,\n",
       " <Group title:\"Basemap\" owner:odysseus>,\n",
       " <Group title:\"Basemap\" owner:GIO_BrewerM>,\n",
       " <Group title:\"BaseMap\" owner:baac_admin>,\n",
       " <Group title:\"Basemap\" owner:ana.mazliana>,\n",
       " <Group title:\"basemap\" owner:ashkelon>,\n",
       " <Group title:\"Basemap\" owner:smiller_Langford>,\n",
       " <Group title:\"Basemap\" owner:gisadmin_spokane>,\n",
       " <Group title:\"Basemap\" owner:felicityanis>,\n",
       " <Group title:\"BASEMAP\" owner:teresa.rodriguez.hc>,\n",
       " <Group title:\"Basemap\" owner:Do@@ir>,\n",
       " <Group title:\"BASEMAP\" owner:nhaadmin>,\n",
       " <Group title:\"Basemap\" owner:thanosdoganis_aodos>,\n",
       " <Group title:\"basemap\" owner:EJDEFENSE>,\n",
       " <Group title:\"Basemap\" owner:abienfia>,\n",
       " <Group title:\"Basemap\" owner:AdminHRSD>,\n",
       " <Group title:\"Basemap\" owner:ECUA.SiteAdmin>,\n",
       " <Group title:\"Basemap\" owner:russ_webmap>,\n",
       " <Group title:\"Basemap\" owner:richendrfer>,\n",
       " <Group title:\"Basemap\" owner:ahilty27>,\n",
       " <Group title:\"Basemap\" owner:khulood>,\n",
       " <Group title:\"basemap\" owner:jwynne_cmportal>,\n",
       " <Group title:\"Basemap\" owner:veerayas>,\n",
       " <Group title:\"Basemap\" owner:TaarnbyGISAdm>,\n",
       " <Group title:\"BaseMap\" owner:onlinecnsy20170627>,\n",
       " <Group title:\"Basemap - ESRI plus Imagery\" owner:michigan_admin>,\n",
       " <Group title:\"Basemap Andrea\" owner:an24>,\n",
       " <Group title:\"Basemap Bing\" owner:globegeosolution>,\n",
       " <Group title:\"Basemap Collection\" owner:lindseydagnalltest>,\n",
       " <Group title:\"Basemap Corso\" owner:maxgeppi>,\n",
       " <Group title:\"basemap custom\" owner:jholtzdev>,\n",
       " <Group title:\"Basemap Esri France\" owner:__csl__>,\n",
       " <Group title:\"Basemap Feedback\" owner:esri>,\n",
       " <Group title:\"basemap for test\" owner:onlinecncd>,\n",
       " <Group title:\"Basemap Gallerie\" owner:viko4org>,\n",
       " <Group title:\"Basemap Gallery\" owner:aland_BBHSD>,\n",
       " <Group title:\"Basemap Gallery\" owner:RayRay26>,\n",
       " <Group title:\"Basemap Gallery\" owner:HCCGISEB>,\n",
       " <Group title:\"Basemap Gallery\" owner:akeeley>,\n",
       " <Group title:\"Basemap Gallery\" owner:COSDHHSA>,\n",
       " <Group title:\"Basemap Gallery\" owner:IBCUSCA>,\n",
       " <Group title:\"BaseMap Gallery\" owner:SSS_Admin>,\n",
       " <Group title:\"Basemap Gallery\" owner:kwestendorfursa>,\n",
       " <Group title:\"Basemap Gallery\" owner:Mobilecounty>,\n",
       " <Group title:\"Basemap Gallery\" owner:escp_admin>,\n",
       " <Group title:\"Basemap Gallery\" owner:Joyp1812>,\n",
       " <Group title:\"Basemap Gallery\" owner:rweeden_Pitt>,\n",
       " <Group title:\"Basemap Gallery\" owner:rpennesi_carltoncounty>,\n",
       " <Group title:\"BaseMap Gallery\" owner:gisjjt>,\n",
       " <Group title:\"Basemap Gallery\" owner:dholzem>,\n",
       " <Group title:\"Basemap Gallery\" owner:napervilleadmin>,\n",
       " <Group title:\"Basemap Gallery\" owner:gis_tweed>,\n",
       " <Group title:\"Basemap Gallery\" owner:admin_eliot>,\n",
       " <Group title:\"Basemap Gallery\" owner:CLCGISC>,\n",
       " <Group title:\"Basemap Gallery\" owner:jhardy_EsriUKPA>,\n",
       " <Group title:\"Basemap Gallery\" owner:mmullane_bouldercounty>,\n",
       " <Group title:\"Basemap Gallery\" owner:DCGISgroup>,\n",
       " <Group title:\"Basemap Gallery\" owner:utasspatial>,\n",
       " <Group title:\"Basemap Gallery\" owner:esri_apac>,\n",
       " <Group title:\"Basemap Gallery\" owner:GardaMappingSection>,\n",
       " <Group title:\"Basemap Gallery\" owner:michigan_admin>,\n",
       " <Group title:\"Basemap Gallery\" owner:clittle_spmud>,\n",
       " <Group title:\"Basemap Gallery\" owner:HB_GIS>,\n",
       " <Group title:\"Basemap Gallery\" owner:Sean.Garvey.ESRI.DECLG>,\n",
       " <Group title:\"Basemap Gallery\" owner:delcoa>,\n",
       " <Group title:\"Basemap Gallery\" owner:Matthew_Kennedy>,\n",
       " <Group title:\"Basemap Gallery\" owner:jadmin_aulg>,\n",
       " <Group title:\"Basemap Gallery\" owner:phadmin_MapPleasantHill>,\n",
       " <Group title:\"Basemap Gallery\" owner:saukagoadmin>,\n",
       " <Group title:\"Basemap Gallery\" owner:veronica_rodriguezGIS>,\n",
       " <Group title:\"Basemap Gallery\" owner:appsregadmin>,\n",
       " <Group title:\"Basemap Gallery\" owner:sev0302>,\n",
       " <Group title:\"Basemap Gallery\" owner:gkouroupisctm>,\n",
       " <Group title:\"Basemap Gallery\" owner:admin_kennebunkport>,\n",
       " <Group title:\"Basemap Gallery\" owner:jarcher_EPC>,\n",
       " <Group title:\"Basemap Gallery\" owner:mtrager@co.rice.mn.us>,\n",
       " <Group title:\"Basemap Gallery\" owner:jthieling>,\n",
       " <Group title:\"Basemap Gallery\" owner:MonroeAdmin>,\n",
       " <Group title:\"Basemap Gallery\" owner:YarmouthAdmin>,\n",
       " <Group title:\"Basemap Gallery\" owner:cmxadmin>,\n",
       " <Group title:\"Basemap Gallery\" owner:mseybold>,\n",
       " <Group title:\"Basemap Gallery\" owner:jhillhouse_lasvegas>,\n",
       " <Group title:\"Basemap Gallery\" owner:tbutcher_halo>,\n",
       " <Group title:\"Basemap Gallery\" owner:GosfordGIS>,\n",
       " <Group title:\"Basemap Gallery\" owner:EricGagnonYWD>,\n",
       " <Group title:\"Basemap Gallery\" owner:GIS_Administrator>,\n",
       " <Group title:\"Basemap Gallery\" owner:geonb_admin>,\n",
       " <Group title:\"Basemap Gallery\" owner:marc.graham_FNDC>,\n",
       " <Group title:\"Basemap Gallery\" owner:davetong>,\n",
       " <Group title:\"Basemap Gallery\" owner:admin_westbrook>,\n",
       " <Group title:\"Basemap Gallery\" owner:AndrewRahn>,\n",
       " <Group title:\"Basemap Gallery\" owner:HuntsvilleAL.gov>,\n",
       " <Group title:\"Basemap Gallery\" owner:SGCsopo>,\n",
       " <Group title:\"Basemap Gallery\" owner:SGCbsd>,\n",
       " <Group title:\"Basemap Gallery\" owner:daniellepetersen>,\n",
       " <Group title:\"Basemap Gallery\" owner:rtbuford_gocolumbiamo>,\n",
       " <Group title:\"Basemap Gallery\" owner:CityofRochesterNY>,\n",
       " <Group title:\"Basemap Gallery\" owner:kemnaladmin>,\n",
       " <Group title:\"Basemap Gallery\" owner:ukschoolsmaster>,\n",
       " <Group title:\"Basemap Gallery\" owner:iwagoladmin_InterwestGIS>,\n",
       " <Group title:\"Basemap Gallery\" owner:jgriffin18>,\n",
       " <Group title:\"Basemap Gallery\" owner:KingCountyGIS>,\n",
       " <Group title:\"Basemap Gallery\" owner:URIEDC_greg>,\n",
       " <Group title:\"Basemap Gallery\" owner:denn6668@esri.com_banking>,\n",
       " <Group title:\"Basemap Gallery\" owner:senaa>,\n",
       " <Group title:\"Basemap Gallery\" owner:Christine_Ma>,\n",
       " <Group title:\"Basemap Gallery\" owner:StarkCountyOH>,\n",
       " <Group title:\"Basemap Gallery\" owner:3918>,\n",
       " <Group title:\"Basemap Gallery\" owner:Jeff_McReynolds>,\n",
       " <Group title:\"Basemap Gallery\" owner:dgillum>,\n",
       " <Group title:\"Basemap Gallery\" owner:RiversAgency>,\n",
       " <Group title:\"Basemap Gallery\" owner:jankanp>,\n",
       " <Group title:\"Basemap Gallery - DPHHS\" owner:CS3139@mt.gov_mtdphhs>,\n",
       " <Group title:\"Basemap Gallery - WA URISA\" owner:ScottMoorePNW>,\n",
       " <Group title:\"Basemap Gallery for Navigation Guides\" owner:WaterwaysIre>,\n",
       " <Group title:\"Basemap Gallery Group\" owner:mwebb_wustladm>,\n",
       " <Group title:\"Basemap Gallery Group\" owner:btkimball>,\n",
       " <Group title:\"Basemap Gallery MD State Plane\" owner:DCGISgroup>,\n",
       " <Group title:\"Basemap Gallery Public\" owner:FarehamBoroughCouncil>,\n",
       " <Group title:\"Basemap Gallery Test\" owner:acheung_support>,\n",
       " <Group title:\"Basemap Gallery Test\" owner:cyncynm>,\n",
       " <Group title:\"Basemap Group\" owner:CrawfordCoGIS>,\n",
       " <Group title:\"Basemap Group\" owner:philp21>,\n",
       " <Group title:\"Basemap Group\" owner:metc_admin>,\n",
       " <Group title:\"basemap group\" owner:varshCyber11>,\n",
       " <Group title:\"Basemap Group\" owner:mobile_org>,\n",
       " <Group title:\"Basemap Group\" owner:admin_oldorchardbeach>,\n",
       " <Group title:\"Basemap Group\" owner:ealpissn>,\n",
       " <Group title:\"Basemap Group\" owner:bshirey22>,\n",
       " <Group title:\"basemap group\" owner:garimapa>,\n",
       " <Group title:\"Basemap Group\" owner:js_testing>,\n",
       " <Group title:\"Basemap Group\" owner:esrica-ncr>,\n",
       " <Group title:\"Basemap Group\" owner:AravindS_ninja>,\n",
       " <Group title:\"Basemap Group\" owner:esri5481>,\n",
       " <Group title:\"Basemap Group\" owner:LA_County_RB>,\n",
       " <Group title:\"Basemap Group\" owner:jschneider76>,\n",
       " <Group title:\"Basemap Group\" owner:dsackinger>,\n",
       " <Group title:\"Basemap Group\" owner:ericcarr693>,\n",
       " <Group title:\"Basemap Group\" owner:AGO_Admin>,\n",
       " <Group title:\"BaseMap Group\" owner:MONTCOADMIN>,\n",
       " <Group title:\"Basemap Group\" owner:er_admin>,\n",
       " <Group title:\"BaseMap Group\" owner:harveyjing>,\n",
       " <Group title:\"Basemap Group\" owner:Chesterfield_County>,\n",
       " <Group title:\"Basemap Group\" owner:michael.team_Kroger>,\n",
       " <Group title:\"Basemap Group\" owner:thegerb>,\n",
       " <Group title:\"Basemap group\" owner:sagarnair_cssl>,\n",
       " <Group title:\"Basemap Group\" owner:cmccormick>,\n",
       " <Group title:\"Basemap Group2\" owner:AppletonGIS>,\n",
       " <Group title:\"Basemap Matrix\" owner:TomM_Denver>,\n",
       " <Group title:\"Basemap mini\" owner:mmayfield_tu>,\n",
       " <Group title:\"Basemap Open Data\" owner:ssekkes>,\n",
       " <Group title:\"Basemap Options\" owner:georgetowntexas>,\n",
       " <Group title:\"BaseMap Projection\" owner:KGerrow_cloudyGIS>,\n",
       " <Group title:\"Basemap Reference Gallery at DOA\" owner:DOA_S.White>,\n",
       " <Group title:\"Basemap Reference Gallery at RIState\" owner:DOA_V.Flood_RIState>,\n",
       " <Group title:\"Basemap RF test\" owner:jpv.support>,\n",
       " <Group title:\"basemap rijnland\" owner:Student_4>,\n",
       " <Group title:\"BASEMAP TEST\" owner:jnowlan_support>,\n",
       " <Group title:\"basemap test\" owner:keith.forte>,\n",
       " <Group title:\"Basemap test\" owner:hina.k>,\n",
       " <Group title:\"Basemap Test\" owner:Bret.Whiteley>,\n",
       " <Group title:\"Basemap test\" owner:techtrek1>,\n",
       " <Group title:\"basemap test\" owner:lizdevtrial>,\n",
       " <Group title:\"Basemap Test group\" owner:beckerly>,\n",
       " <Group title:\"Basemap teste\" owner:dbenatti_imagem>,\n",
       " <Group title:\"Basemap Tester\" owner:heathanderson>,\n",
       " <Group title:\"Basemap Testgruppe\" owner:kuhl4sk>,\n",
       " <Group title:\"Basemap Tests\" owner:patrickb>,\n",
       " <Group title:\"Basemap Tour\" owner:Crystal>,\n",
       " <Group title:\"Basemap Trial\" owner:CGrimes_KFRS>,\n",
       " <Group title:\"Basemap.at\" owner:m.einspieler>,\n",
       " <Group title:\"basemap_andrew\" owner:develandrew>,\n",
       " <Group title:\"Basemap_collection\" owner:OCPAGIS>,\n",
       " <Group title:\"Basemap_Delete\" owner:MJones_mygov1>,\n",
       " <Group title:\"BASEMAP_GALLERY_INNOVAPUGLIA\" owner:arussodivito>,\n",
       " <Group title:\"Basemap_Group\" owner:Batbayar_MonMap>,\n",
       " <Group title:\"Basemap_group\" owner:shropshire>,\n",
       " <Group title:\"Basemap_Gruppe\" owner:ErzbistumMuenchen>,\n",
       " <Group title:\"basemap_osi\" owner:eddiemeegan3>,\n",
       " <Group title:\"Basemap_Pejaten\" owner:portalwaindo>,\n",
       " <Group title:\"Basemap_Priyanka\" owner:psomai_ess>,\n",
       " <Group title:\"BaseMap_ServicesEsri\" owner:fletrouher_support>,\n",
       " <Group title:\"basemap_test\" owner:debby_ninja>,\n",
       " <Group title:\"Basemap_test\" owner:pdesalvo_UN>,\n",
       " <Group title:\"Basemap_test\" owner:cclose_support>,\n",
       " <Group title:\"basemap_test\" owner:shimiyama>,\n",
       " <Group title:\"Basemap_Test\" owner:guptavikhyat19>,\n",
       " <Group title:\"Basemap_Test_Aratrika\" owner:guptavikhyat19>,\n",
       " <Group title:\"Basemap_vector\" owner:ochlup_arcdatapraha3>,\n",
       " <Group title:\"BaseMap_vector\" owner:ashutoshv>,\n",
       " <Group title:\"BASEMAPPING\" owner:leppsteve>,\n",
       " <Group title:\"Basemaps\" owner:woodis>,\n",
       " <Group title:\"Basemaps\" owner:RTreecare>,\n",
       " <Group title:\"Basemaps\" owner:wkron>,\n",
       " <Group title:\"Basemaps\" owner:alphagis.admin>,\n",
       " <Group title:\"Basemaps\" owner:wateradmin148>,\n",
       " <Group title:\"Basemaps\" owner:jbattinelli_cabarrus>,\n",
       " <Group title:\"BaseMaps\" owner:koen@support>,\n",
       " <Group title:\"Basemaps\" owner:josuediaz>,\n",
       " <Group title:\"Basemaps\" owner:jovanna.leonardo3>,\n",
       " <Group title:\"Basemaps\" owner:farleyclerk>,\n",
       " <Group title:\"Basemaps\" owner:damapguy>,\n",
       " <Group title:\"Basemaps\" owner:jm_esride9>,\n",
       " <Group title:\"Basemaps\" owner:TOEGIS>,\n",
       " <Group title:\"Basemaps\" owner:PGGISManager>,\n",
       " <Group title:\"basemaps\" owner:muststedebouw>,\n",
       " <Group title:\"Basemaps\" owner:kevin.rogers>,\n",
       " <Group title:\"Basemaps\" owner:Mutasem_Jokhdar>,\n",
       " <Group title:\"Basemaps\" owner:hsayed_bahrain>,\n",
       " <Group title:\"Basemaps\" owner:borja.pares.esri4>,\n",
       " <Group title:\"Basemaps\" owner:AbileneGIS>,\n",
       " <Group title:\"Basemaps\" owner:mgiarrusso>,\n",
       " <Group title:\"Basemaps\" owner:SethGorrieGIS>,\n",
       " <Group title:\"Basemaps\" owner:LinnCoGIS>,\n",
       " <Group title:\"Basemaps\" owner:drwoods2350>,\n",
       " <Group title:\"Basemaps\" owner:steveclarke>,\n",
       " <Group title:\"Basemaps\" owner:mharkin>,\n",
       " <Group title:\"Basemaps\" owner:bbaldwinDEMO>,\n",
       " <Group title:\"Basemaps\" owner:jono.haimes>,\n",
       " <Group title:\"Basemaps\" owner:jray_ACSA>,\n",
       " <Group title:\"Basemaps\" owner:EDPGIS>,\n",
       " <Group title:\"Basemaps\" owner:hsisro>,\n",
       " <Group title:\"Basemaps\" owner:Chris.Blinn_SantaRosaGIS>,\n",
       " <Group title:\"Basemaps\" owner:EdAdminLB>,\n",
       " <Group title:\"Basemaps\" owner:geosystems_agua>,\n",
       " <Group title:\"Basemaps\" owner:EMMALODGE24>,\n",
       " <Group title:\"Basemaps\" owner:Canada_Admin>,\n",
       " <Group title:\"Basemaps\" owner:TOP.GIS>,\n",
       " <Group title:\"Basemaps\" owner:FCNSWGIS>,\n",
       " <Group title:\"Basemaps\" owner:arcgis_python>,\n",
       " <Group title:\"Basemaps\" owner:Chatham01>,\n",
       " <Group title:\"Basemaps\" owner:OakdaleGIS>,\n",
       " <Group title:\"Basemaps\" owner:slcgis.admin>,\n",
       " <Group title:\"BaseMaps\" owner:sburton_bso>,\n",
       " <Group title:\"Basemaps\" owner:nga_public>,\n",
       " <Group title:\"Basemaps\" owner:LandOps_AFMIE>,\n",
       " <Group title:\"Basemaps\" owner:bhoeschen>,\n",
       " <Group title:\"Basemaps\" owner:joseph.jose>,\n",
       " <Group title:\"Basemaps\" owner:joyoung_kerrvilletx>,\n",
       " <Group title:\"Basemaps\" owner:dinubaAGOLAdmin>,\n",
       " <Group title:\"Basemaps\" owner:Ironman09>,\n",
       " <Group title:\"Basemaps\" owner:michaelgsd>,\n",
       " <Group title:\"Basemaps\" owner:Giswpb>,\n",
       " <Group title:\"Basemaps\" owner:crrobertson>,\n",
       " <Group title:\"Basemaps\" owner:fayaz_esri>,\n",
       " <Group title:\"Basemaps\" owner:TumwaterGIS>,\n",
       " <Group title:\"Basemaps\" owner:MDT_Admin>,\n",
       " <Group title:\"Basemaps\" owner:stella_wang>,\n",
       " <Group title:\"Basemaps\" owner:Mainroads>,\n",
       " <Group title:\"Basemaps\" owner:GulfportGIS>,\n",
       " <Group title:\"Basemaps\" owner:drogers1969>,\n",
       " <Group title:\"Basemaps\" owner:lindstromGIS>,\n",
       " <Group title:\"Basemaps\" owner:MonoCountyCA>,\n",
       " <Group title:\"Basemaps\" owner:admincoh>,\n",
       " <Group title:\"Basemaps\" owner:cityofcolumbusgis>,\n",
       " <Group title:\"Basemaps\" owner:MattYokiel>,\n",
       " <Group title:\"Basemaps\" owner:adoede>,\n",
       " <Group title:\"Basemaps\" owner:chunleiding2>,\n",
       " <Group title:\"basemaps\" owner:gouxiang>,\n",
       " <Group title:\"Basemaps\" owner:asanders>,\n",
       " <Group title:\"Basemaps\" owner:bguerra26>,\n",
       " <Group title:\"Basemaps\" owner:CAROSE>,\n",
       " <Group title:\"Basemaps\" owner:markinsco>,\n",
       " <Group title:\"Basemaps\" owner:GISEagan>,\n",
       " <Group title:\"basemaps\" owner:magdalena>,\n",
       " <Group title:\"Basemaps\" owner:danhaag_evpd>,\n",
       " <Group title:\"Basemaps\" owner:OEM_MKE_GIS>,\n",
       " <Group title:\"Basemaps\" owner:em4c_hcde>,\n",
       " <Group title:\"Basemaps\" owner:John_Laughery>,\n",
       " <Group title:\"Basemaps\" owner:rcastillo@northmiamifl>,\n",
       " <Group title:\"basemaps\" owner:friesede>,\n",
       " <Group title:\"Basemaps\" owner:ArcGISforTelco>,\n",
       " <Group title:\"Basemaps\" owner:cxing_uc3>,\n",
       " <Group title:\"Basemaps\" owner:jlindemann_slcgov>,\n",
       " <Group title:\"Basemaps\" owner:TWade_DOENI>,\n",
       " <Group title:\"Basemaps\" owner:SergioC>,\n",
       " <Group title:\"Basemaps\" owner:amcalister>,\n",
       " <Group title:\"Basemaps\" owner:tlgarrison>,\n",
       " <Group title:\"Basemaps\" owner:AZEnergy>,\n",
       " <Group title:\"BaseMaps\" owner:mooshlab>,\n",
       " <Group title:\"Basemaps\" owner:spotomato>,\n",
       " <Group title:\"Basemaps\" owner:kevin.armstrong>,\n",
       " <Group title:\"Basemaps\" owner:LakeCounty_ForestPreserves>,\n",
       " <Group title:\"BaseMaps\" owner:gcutler1>,\n",
       " <Group title:\"Basemaps\" owner:WashingtonCountyMD>,\n",
       " <Group title:\"Basemaps\" owner:MissDeptEd>,\n",
       " <Group title:\"Basemaps\" owner:jnmcintosh>,\n",
       " <Group title:\"Basemaps\" owner:blounttnAGOL>,\n",
       " <Group title:\"Basemaps\" owner:geoindsigt.support>,\n",
       " <Group title:\"Basemaps\" owner:cityofcharlotte>,\n",
       " <Group title:\"Basemaps\" owner:jfarmer@cityofstafford>,\n",
       " <Group title:\"Basemaps\" owner:JennaC@EDC>,\n",
       " <Group title:\"Basemaps\" owner:johernandez@las_cruces.org_las_cruces>,\n",
       " <Group title:\"Basemaps\" owner:FCD_FurnasC01>,\n",
       " <Group title:\"Basemaps\" owner:durbach>,\n",
       " <Group title:\"Basemaps\" owner:sean.graebner_geonexus>,\n",
       " <Group title:\"Basemaps\" owner:ebicer>,\n",
       " <Group title:\"Basemaps\" owner:arnaufp>,\n",
       " <Group title:\"Basemaps\" owner:jofu_developer>,\n",
       " <Group title:\"Basemaps\" owner:acharko>,\n",
       " <Group title:\"Basemaps\" owner:KArmstrong_EMD>,\n",
       " <Group title:\"BaseMaps\" owner:LSACGis>,\n",
       " <Group title:\"Basemaps\" owner:s.ijzerman_amargis>,\n",
       " <Group title:\"Basemaps\" owner:cityofmorganton>,\n",
       " <Group title:\"Basemaps\" owner:KellerGIS>,\n",
       " <Group title:\"Basemaps\" owner:rweeden_PhillyRO>,\n",
       " <Group title:\"BaseMaps\" owner:qhtran_SLRAU>,\n",
       " <Group title:\"Basemaps\" owner:grootsalland>,\n",
       " <Group title:\"Basemaps\" owner:ExeterAGOLAdmin>,\n",
       " <Group title:\"Basemaps\" owner:GMPTomW>,\n",
       " <Group title:\"Basemaps\" owner:lisadh>,\n",
       " <Group title:\"Basemaps\" owner:rgarrett>,\n",
       " <Group title:\"Basemaps\" owner:lstapleton@ci.tacoma.wa.us_tacomawater>,\n",
       " <Group title:\"Basemaps\" owner:lzwartje>,\n",
       " <Group title:\"BaseMaps\" owner:geosystec>,\n",
       " <Group title:\"Basemaps\" owner:fsouzapw>,\n",
       " <Group title:\"Basemaps\" owner:WaupacaCounty_LIO>,\n",
       " <Group title:\"Basemaps\" owner:newforestnpa2>,\n",
       " <Group title:\"Basemaps\" owner:MRB_HDSR>,\n",
       " <Group title:\"basemaps\" owner:ycedeno>,\n",
       " <Group title:\"Basemaps\" owner:pennshare>,\n",
       " <Group title:\"Basemaps\" owner:ArcGISforParksandGardens>,\n",
       " <Group title:\"Basemaps\" owner:jcharap>,\n",
       " <Group title:\"Basemaps\" owner:pdolan_Questar9>,\n",
       " <Group title:\"Basemaps\" owner:cartes>,\n",
       " <Group title:\"Basemaps\" owner:pohlinger>,\n",
       " <Group title:\"Basemaps\" owner:jteran_aguas>,\n",
       " <Group title:\"Basemaps\" owner:skutish_MAUF>,\n",
       " <Group title:\"Basemaps\" owner:simpsorv_lcoem>,\n",
       " <Group title:\"Basemaps\" owner:Arnhem_beheer>,\n",
       " <Group title:\"Basemaps\" owner:EsriUKedteam>,\n",
       " <Group title:\"Basemaps\" owner:jarda_dis>,\n",
       " <Group title:\"Basemaps\" owner:gis_team@QMDC>,\n",
       " <Group title:\"Basemaps\" owner:maps.phl.data>,\n",
       " <Group title:\"Basemaps\" owner:KSternhagen@cityofyankton.org>,\n",
       " <Group title:\"Basemaps\" owner:lndungo_esriealocalgovt>,\n",
       " <Group title:\"Basemaps\" owner:agoladmin@coe>,\n",
       " <Group title:\"Basemaps\" owner:tngeo_cud>,\n",
       " <Group title:\"Basemaps\" owner:michael.hansroul>,\n",
       " <Group title:\"Basemaps\" owner:GEM001>,\n",
       " <Group title:\"Basemaps\" owner:alex0002>,\n",
       " <Group title:\"Basemaps\" owner:mapmagicians>,\n",
       " <Group title:\"Basemaps\" owner:m.ayesh>,\n",
       " <Group title:\"Basemaps\" owner:gmi4org1>,\n",
       " <Group title:\"Basemaps\" owner:gwetterow6>,\n",
       " <Group title:\"Basemaps\" owner:CityofwestlandGIS>,\n",
       " <Group title:\"Basemaps\" owner:pmallo_test>,\n",
       " <Group title:\"Basemaps\" owner:maps@mpsutility.com>,\n",
       " <Group title:\"Basemaps\" owner:WhitleyAWolfe>,\n",
       " <Group title:\"Basemaps\" owner:gisparkcounty>,\n",
       " <Group title:\"Basemaps\" owner:CalvertCoGIS>,\n",
       " <Group title:\"Basemaps\" owner:roeckeg>,\n",
       " <Group title:\"BaseMaps\" owner:frantisek.zadrazil>,\n",
       " <Group title:\"Basemaps\" owner:FarmersvilleAGOLAdmin>,\n",
       " <Group title:\"Basemaps\" owner:jaasong>,\n",
       " <Group title:\"Basemaps\" owner:YellowMedicineCounty>,\n",
       " <Group title:\"Basemaps\" owner:CanberraBD>,\n",
       " <Group title:\"Basemaps\" owner:steveseiver>,\n",
       " <Group title:\"Basemaps\" owner:UWS_Jarom>,\n",
       " <Group title:\"Basemaps\" owner:ScottMoorePNW>,\n",
       " <Group title:\"Basemaps\" owner:DEQCNMIGIS>,\n",
       " <Group title:\"Basemaps\" owner:BDD_User>,\n",
       " <Group title:\"Basemaps\" owner:leith.britt_carync>,\n",
       " <Group title:\"Basemaps\" owner:akuether>,\n",
       " <Group title:\"Basemaps\" owner:nkaunda>,\n",
       " <Group title:\"Basemaps\" owner:esri_rw>,\n",
       " <Group title:\"Basemaps\" owner:marf_vas>,\n",
       " <Group title:\"Basemaps\" owner:RachaelLee02>,\n",
       " <Group title:\"Basemaps\" owner:esri_mk>,\n",
       " <Group title:\"Basemaps\" owner:PWright_MO>,\n",
       " <Group title:\"BaseMaps\" owner:Oloi>,\n",
       " <Group title:\"Basemaps\" owner:PortByronAdministrator>,\n",
       " <Group title:\"Basemaps\" owner:RHOnlineMaps>,\n",
       " <Group title:\"Basemaps\" owner:McDowellCountyMapper>,\n",
       " <Group title:\"Basemaps\" owner:fsouzaSaaS>,\n",
       " <Group title:\"Basemaps\" owner:karmstrongSEEM>,\n",
       " <Group title:\"Basemaps\" owner:roundrockgis>,\n",
       " <Group title:\"Basemaps\" owner:The_Wizard>,\n",
       " <Group title:\"Basemaps\" owner:cgmcgove>,\n",
       " <Group title:\"Basemaps\" owner:Buiting@advies>,\n",
       " <Group title:\"Basemaps\" owner:AVDSSUser>,\n",
       " <Group title:\"Basemaps\" owner:CollierCountyBCC>,\n",
       " <Group title:\"Basemaps\" owner:pbrangan>,\n",
       " <Group title:\"Basemaps\" owner:doughamilton81>,\n",
       " <Group title:\"BaseMaps\" owner:udotadmin>,\n",
       " <Group title:\"Basemaps\" owner:c_signore>,\n",
       " <Group title:\"Basemaps\" owner:HelenWhiteley>,\n",
       " <Group title:\"Basemaps\" owner:QLDCGIS>,\n",
       " <Group title:\"Basemaps\" owner:mph@ringsted.dk>,\n",
       " <Group title:\"Basemaps\" owner:eeyadmin>,\n",
       " <Group title:\"Basemaps\" owner:skincaid>,\n",
       " <Group title:\"Basemaps\" owner:DeKalbGISAdmin>,\n",
       " <Group title:\"BaseMaps\" owner:KYTCGIS>,\n",
       " <Group title:\"Basemaps\" owner:kristian_grongfri>,\n",
       " <Group title:\"Basemaps\" owner:JessicaSusich>,\n",
       " <Group title:\"Basemaps\" owner:kuraadmin>,\n",
       " <Group title:\"Basemaps\" owner:tsellste>,\n",
       " <Group title:\"Basemaps\" owner:adminig>,\n",
       " <Group title:\"Basemaps\" owner:SUUGISLab>,\n",
       " <Group title:\"Basemaps\" owner:Shaoli.Huang>,\n",
       " <Group title:\"Basemaps\" owner:City_of_Galveston_GIS>,\n",
       " <Group title:\"Basemaps\" owner:lahub_admin>,\n",
       " <Group title:\"Basemaps\" owner:discodan>,\n",
       " <Group title:\"Basemaps\" owner:PitkinCounty>,\n",
       " <Group title:\"Basemaps\" owner:mdcAGSOnline>,\n",
       " <Group title:\"Basemaps\" owner:Ming_Jiang>,\n",
       " <Group title:\"Basemaps\" owner:sapdc_admin>,\n",
       " <Group title:\"Basemaps\" owner:arina_petrov>,\n",
       " <Group title:\"Basemaps\" owner:GREG.MATTIS_Visalia>,\n",
       " <Group title:\"Basemaps\" owner:LarrySzarek>,\n",
       " <Group title:\"Basemaps\" owner:Maarten_thuis>,\n",
       " <Group title:\"Basemaps\" owner:mndnrgis1>,\n",
       " <Group title:\"Basemaps\" owner:darin.lee@kcpd.org>,\n",
       " <Group title:\"Basemaps\" owner:c_blandy>,\n",
       " <Group title:\"Basemaps\" owner:matteitrem>,\n",
       " <Group title:\"Basemaps\" owner:jen.johnson.phila>,\n",
       " <Group title:\"Basemaps\" owner:KKantharaj_statesales>,\n",
       " <Group title:\"Basemaps\" owner:ralouta_uaeu>,\n",
       " <Group title:\"Basemaps\" owner:lcgismaps>,\n",
       " <Group title:\"Basemaps\" owner:STwork>,\n",
       " <Group title:\"Basemaps\" owner:kolbowicz>,\n",
       " <Group title:\"Basemaps\" owner:SullivanCountyPA>,\n",
       " <Group title:\"Basemaps\" owner:RNIBLOCK>,\n",
       " <Group title:\"Basemaps\" owner:mtully_1>,\n",
       " <Group title:\"Basemaps\" owner:vleugelnoot>,\n",
       " <Group title:\"BaseMaps\" owner:dkaplanre>,\n",
       " <Group title:\"Basemaps\" owner:CBI.GIS>,\n",
       " <Group title:\"Basemaps\" owner:shorewoodwis>,\n",
       " <Group title:\"Basemaps\" owner:cole.hibbard>,\n",
       " <Group title:\"Basemaps\" owner:cademan60>,\n",
       " <Group title:\"BaseMaps\" owner:cosgisman>,\n",
       " <Group title:\"Basemaps\" owner:Longview>,\n",
       " <Group title:\"BaseMaps\" owner:Fernando96>,\n",
       " <Group title:\"Basemaps\" owner:esriaudevcdb>,\n",
       " <Group title:\"Basemaps\" owner:gutmapping>,\n",
       " <Group title:\"Basemaps\" owner:WakeCountyGovernment>,\n",
       " <Group title:\"Basemaps\" owner:dcpagol>,\n",
       " <Group title:\"Basemaps\" owner:mjmccorm>,\n",
       " <Group title:\"Basemaps\" owner:admin@juneau>,\n",
       " <Group title:\"Basemaps\" owner:ukfacilities>,\n",
       " <Group title:\"Basemaps\" owner:TJW@cityofhenderson.com_HendersonNV>,\n",
       " <Group title:\"Basemaps\" owner:cvicter_imagem>,\n",
       " <Group title:\"Basemaps\" owner:bblackshear>,\n",
       " <Group title:\"Basemaps\" owner:mam4org>,\n",
       " <Group title:\"Basemaps\" owner:justinh>,\n",
       " <Group title:\"Basemaps\" owner:surinameonline>,\n",
       " <Group title:\"Basemaps\" owner:bretthebert>,\n",
       " <Group title:\"Basemaps\" owner:cottagegrovewi>,\n",
       " <Group title:\"Basemaps\" owner:hillsborowi>,\n",
       " <Group title:\"Basemaps\" owner:PWA_GIS_01>,\n",
       " <Group title:\"BaseMaps\" owner:esriJapan_SONPO>,\n",
       " <Group title:\"Basemaps\" owner:jhlebasko>,\n",
       " <Group title:\"Basemaps\" owner:EsriZA_WR>,\n",
       " <Group title:\"Basemaps\" owner:behillernegis>,\n",
       " <Group title:\"Basemaps\" owner:BismarckGIS>,\n",
       " <Group title:\"Basemaps\" owner:INFOMGR>,\n",
       " <Group title:\"Basemaps\" owner:LoudounTosia>,\n",
       " <Group title:\"Basemaps\" owner:HMCAAadmin>,\n",
       " <Group title:\"BaseMaps\" owner:rhbaird74>,\n",
       " <Group title:\"BaseMaps\" owner:dtopolinskiy_COSP>,\n",
       " <Group title:\"Basemaps\" owner:wsl_admin>,\n",
       " <Group title:\"Basemaps\" owner:ProvoGIS>,\n",
       " <Group title:\"Basemaps\" owner:State_of_Idaho>,\n",
       " <Group title:\"Basemaps\" owner:mgregotski>,\n",
       " <Group title:\"Basemaps\" owner:sk_dev>,\n",
       " <Group title:\"Basemaps\" owner:Stewardship>,\n",
       " <Group title:\"Basemaps\" owner:cpagistx>,\n",
       " <Group title:\"Basemaps\" owner:Skogfro>,\n",
       " <Group title:\"Basemaps\" owner:Kerstinvandesand>,\n",
       " <Group title:\"Basemaps\" owner:austinrobey>,\n",
       " <Group title:\"Basemaps\" owner:Dr.Lentz_AOP>,\n",
       " <Group title:\"Basemaps\" owner:tahmed_Lewisville>,\n",
       " <Group title:\"Basemaps\" owner:GREENEVILLE1>,\n",
       " <Group title:\"Basemaps\" owner:rsimpson02>,\n",
       " <Group title:\"Basemaps\" owner:PiaMcCann>,\n",
       " <Group title:\"Basemaps\" owner:KitsapCountyGIS>,\n",
       " <Group title:\"Basemaps\" owner:behiller_developer>,\n",
       " <Group title:\"Basemaps\" owner:jmarangos8>,\n",
       " <Group title:\"Basemaps\" owner:astroud_Greenville>,\n",
       " <Group title:\"Basemaps\" owner:rmosher>,\n",
       " <Group title:\"Basemaps\" owner:brian224>,\n",
       " <Group title:\"Basemaps\" owner:EvenstadRoy>,\n",
       " <Group title:\"Basemaps\" owner:dheinerhome>,\n",
       " <Group title:\"Basemaps\" owner:hilbertvillage>,\n",
       " <Group title:\"Basemaps\" owner:gabriscCDMSmithMarketing>,\n",
       " <Group title:\"Basemaps\" owner:lingal1968>,\n",
       " <Group title:\"Basemaps\" owner:esri_atlas>,\n",
       " <Group title:\"BaseMaps\" owner:koen.boulpaep>,\n",
       " <Group title:\"Basemaps\" owner:SammamishPlateauWater>,\n",
       " <Group title:\"Basemaps\" owner:matej.vrtich>,\n",
       " <Group title:\"Basemaps\" owner:PublicInfo_TampaGIS>,\n",
       " <Group title:\"Basemaps\" owner:esouthworth>,\n",
       " <Group title:\"Basemaps\" owner:neTraining>,\n",
       " <Group title:\"basemaps\" owner:doi_arxit>,\n",
       " <Group title:\"Basemaps\" owner:kimtrial>,\n",
       " <Group title:\"Basemaps\" owner:sara.hines_kygis>,\n",
       " <Group title:\"Basemaps\" owner:William.Holmes_HSLab>,\n",
       " <Group title:\"Basemaps\" owner:ig_dev>,\n",
       " <Group title:\"Basemaps\" owner:berickson.nobles>,\n",
       " <Group title:\"Basemaps\" owner:MGPInc>,\n",
       " <Group title:\"Basemaps\" owner:philippe.lagarrigue@entsoe.eu>,\n",
       " <Group title:\"Basemaps\" owner:kmoore_Wilson911>,\n",
       " <Group title:\"Basemaps\" owner:mgregotski_uc2>,\n",
       " <Group title:\"Basemaps\" owner:tcharles2012>,\n",
       " <Group title:\"Basemaps\" owner:ddasilva_MarafiqPOC>,\n",
       " <Group title:\"Basemaps\" owner:KennewickGIS>,\n",
       " <Group title:\"Basemaps\" owner:cwd_admin>,\n",
       " <Group title:\"Basemaps\" owner:edsnyder2>,\n",
       " <Group title:\"Basemaps\" owner:Willeke1>,\n",
       " <Group title:\"Basemaps\" owner:EM4C_hrc>,\n",
       " <Group title:\"Basemaps\" owner:finneycountygis>,\n",
       " <Group title:\"BaseMaps\" owner:cgh67>,\n",
       " <Group title:\"Basemaps\" owner:railcomm>,\n",
       " <Group title:\"Basemaps\" owner:antonio.slivak>,\n",
       " <Group title:\"Basemaps\" owner:jwmoermanesrinl>,\n",
       " <Group title:\"Basemaps\" owner:mam4nur>,\n",
       " <Group title:\"Basemaps\" owner:elein50822>,\n",
       " <Group title:\"Basemaps\" owner:lladefian>,\n",
       " <Group title:\"Basemaps\" owner:ClareSolutionsDemo>,\n",
       " <Group title:\"Basemaps\" owner:ginu.popescu>,\n",
       " <Group title:\"Basemaps\" owner:jlgoicochea>,\n",
       " <Group title:\"Basemaps\" owner:hwest_tm>,\n",
       " <Group title:\"Basemaps\" owner:DanielEisenberg>,\n",
       " <Group title:\"Basemaps\" owner:daviwyat>,\n",
       " <Group title:\"Basemaps\" owner:EdAdminSA>,\n",
       " <Group title:\"Basemaps\" owner:cleauber_wwawc>,\n",
       " <Group title:\"Basemaps\" owner:schino>,\n",
       " <Group title:\"Basemaps\" owner:AGOL_IG_KD>,\n",
       " <Group title:\"Basemaps\" owner:p.tonder@northperrywd.org>,\n",
       " <Group title:\"Basemaps\" owner:reggiegreenwood1>,\n",
       " <Group title:\"Basemaps\" owner:daboiano>,\n",
       " <Group title:\"Basemaps\" owner:cambgis_kgrillo>,\n",
       " <Group title:\"Basemaps\" owner:MDCounty>,\n",
       " <Group title:\"Basemaps\" owner:ShafB1_Boulder>,\n",
       " <Group title:\"Basemaps\" owner:CapeGCoMo>,\n",
       " <Group title:\"Basemaps\" owner:uniutlonline>,\n",
       " <Group title:\"basemaps\" owner:shimiyama2>,\n",
       " <Group title:\"Basemaps\" owner:jono.haimes.fiji>,\n",
       " <Group title:\"Basemaps\" owner:marf_vas>,\n",
       " <Group title:\"Basemaps\" owner:admin@hamel>,\n",
       " <Group title:\"basemaps\" owner:OpenGeodata>,\n",
       " <Group title:\"Basemaps\" owner:pkeegan>,\n",
       " <Group title:\"Basemaps\" owner:MARC.org>,\n",
       " <Group title:\"Basemaps\" owner:pgault_USAID>,\n",
       " <Group title:\"Basemaps\" owner:rwmcken2.usf.cimage>,\n",
       " <Group title:\"Basemaps\" owner:henrik.frost_Hedensted>,\n",
       " <Group title:\"Basemaps\" owner:nfurnessAGOL>,\n",
       " <Group title:\"Basemaps\" owner:cbarber_FoodStandards>,\n",
       " <Group title:\"Basemaps\" owner:geomatikk_pl>,\n",
       " <Group title:\"Basemaps\" owner:A4UW_Admin>,\n",
       " <Group title:\"Basemaps\" owner:MukilteoGIS2>,\n",
       " <Group title:\"basemaps\" owner:codywilson>,\n",
       " <Group title:\"Basemaps\" owner:TOGYiN>,\n",
       " <Group title:\"basemaps\" owner:codywilson>,\n",
       " <Group title:\"Basemaps\" owner:CityofLS>,\n",
       " <Group title:\"Basemaps\" owner:Matt_MC>,\n",
       " <Group title:\"Basemaps\" owner:AndrewBlunck8>,\n",
       " <Group title:\"Basemaps\" owner:bhekanik>,\n",
       " <Group title:\"Basemaps\" owner:cBernardis9>,\n",
       " <Group title:\"Basemaps\" owner:jturco_OrlandFire>,\n",
       " <Group title:\"Basemaps\" owner:merrilee>,\n",
       " <Group title:\"Basemaps\" owner:spartawigis>,\n",
       " <Group title:\"Basemaps\" owner:autocomm>,\n",
       " <Group title:\"Basemaps\" owner:jtedrick_sdg>,\n",
       " <Group title:\"Basemaps\" owner:FranklinCountyPaGIS>,\n",
       " <Group title:\"Basemaps\" owner:bgriess>,\n",
       " <Group title:\"Basemaps\" owner:Mervyn.Wan4>,\n",
       " <Group title:\"Basemaps\" owner:jclemis>,\n",
       " <Group title:\"Basemaps\" owner:MMIP_Admin>,\n",
       " <Group title:\"Basemaps\" owner:WKRON@brgov.net_brpscop>,\n",
       " <Group title:\"Basemaps\" owner:patrickb_emf>,\n",
       " <Group title:\"Basemaps\" owner:jebu4dev>,\n",
       " <Group title:\"Basemaps\" owner:StateGov>,\n",
       " <Group title:\"Basemaps\" owner:tngeo_putnam911>,\n",
       " <Group title:\"Basemaps\" owner:bunkerb2>,\n",
       " <Group title:\"Basemaps\" owner:r.overkempe>,\n",
       " <Group title:\"Basemaps\" owner:G2014_IPaton>,\n",
       " <Group title:\"BaseMaps\" owner:paulross001>,\n",
       " <Group title:\"Basemaps\" owner:boonecogis>,\n",
       " <Group title:\"Basemaps\" owner:michaelfcgis>,\n",
       " <Group title:\"Basemaps\" owner:EdDemoAlex>,\n",
       " <Group title:\"Basemaps\" owner:LaurieW02>,\n",
       " <Group title:\"Basemaps\" owner:NZWAC_GIS>,\n",
       " <Group title:\"BASEMAPS\" owner:jeff_mapper>,\n",
       " <Group title:\"Basemaps\" owner:StefanMIM>,\n",
       " <Group title:\"Basemaps\" owner:SynerGISWien>,\n",
       " <Group title:\"Basemaps\" owner:pdx.maps.admin>,\n",
       " <Group title:\"basemaps\" owner:lauradev>,\n",
       " <Group title:\"Basemaps\" owner:mikehughes>,\n",
       " <Group title:\"Basemaps\" owner:jpoe001>,\n",
       " <Group title:\"Basemaps\" owner:C3_GIS_Admin>,\n",
       " <Group title:\"Basemaps\" owner:Rochelle_Admin>,\n",
       " <Group title:\"Basemaps\" owner:GISITAdmin>,\n",
       " <Group title:\"Basemaps\" owner:mapadrom>,\n",
       " <Group title:\"Basemaps\" owner:SeanAtLaconia>,\n",
       " <Group title:\"Basemaps\" owner:MHGIS>,\n",
       " <Group title:\"Basemaps\" owner:Digimap1>,\n",
       " <Group title:\"BaseMaps\" owner:rjones1977>,\n",
       " <Group title:\"Basemaps\" owner:andrewshensky>,\n",
       " <Group title:\"Basemaps\" owner:LynchburgGIS>,\n",
       " <Group title:\"Basemaps\" owner:CherylTrial7>,\n",
       " <Group title:\"Basemaps\" owner:KielAdmin>,\n",
       " <Group title:\"Basemaps\" owner:tridemos>,\n",
       " <Group title:\"Basemaps\" owner:mtukman>,\n",
       " <Group title:\"Basemaps\" owner:Andrew.Garwood>,\n",
       " <Group title:\"Basemaps\" owner:asakowicz>,\n",
       " <Group title:\"Basemaps\" owner:masteinz>,\n",
       " <Group title:\"Basemaps\" owner:s2-eaglegis>,\n",
       " <Group title:\"Basemaps\" owner:TaylorHowington>,\n",
       " <Group title:\"Basemaps\" owner:gvdsand>,\n",
       " <Group title:\"Basemaps\" owner:ahargreaves_Cherokee>,\n",
       " <Group title:\"Basemaps\" owner:ellenvandenberg>,\n",
       " <Group title:\"Basemaps\" owner:passaic7>,\n",
       " <Group title:\"Basemaps\" owner:JKohute_Decaturalabama>,\n",
       " <Group title:\"Basemaps\" owner:LemooreAGOLAdmin>,\n",
       " <Group title:\"Basemaps\" owner:CBF_GIS>,\n",
       " <Group title:\"Basemaps\" owner:erodenberg_HHCorp>,\n",
       " <Group title:\"Basemaps\" owner:jchannin@iwd>,\n",
       " <Group title:\"Basemaps\" owner:Tigard-Oregon>,\n",
       " <Group title:\"Basemaps\" owner:ecacciag@gtc.org>,\n",
       " <Group title:\"Basemaps\" owner:pohsuandev>,\n",
       " <Group title:\"basemaps\" owner:Cotsarch>,\n",
       " <Group title:\"Basemaps\" owner:City.of.Oshawa>,\n",
       " <Group title:\"Basemaps\" owner:WisDOTAdmin>,\n",
       " <Group title:\"Basemaps\" owner:catereilly>,\n",
       " <Group title:\"Basemaps\" owner:doris.at>,\n",
       " <Group title:\"Basemaps\" owner:ryaned4>,\n",
       " <Group title:\"BaseMaps\" owner:WilliamsonGIS>,\n",
       " <Group title:\"Basemaps\" owner:mauh_ksa>,\n",
       " <Group title:\"Basemaps\" owner:MKitchensOPSCenter>,\n",
       " <Group title:\"Basemaps\" owner:vdot>,\n",
       " <Group title:\"BaseMaps\" owner:Matt_Gas>,\n",
       " <Group title:\"Basemaps\" owner:KAUST_GISTeam>,\n",
       " <Group title:\"Basemaps\" owner:Cook_County_GIS>,\n",
       " <Group title:\"Basemaps\" owner:giss2015>,\n",
       " <Group title:\"BaseMaps\" owner:AlanAGOLTest>,\n",
       " <Group title:\"Basemaps\" owner:UtilitySolutionsDeployment>,\n",
       " <Group title:\"Basemaps\" owner:CDMSmith4>,\n",
       " <Group title:\"Basemaps\" owner:FlorenceCountySCGIS>,\n",
       " <Group title:\"Basemaps\" owner:mceogis>,\n",
       " <Group title:\"Basemaps\" owner:eocampo>,\n",
       " <Group title:\"Basemaps\" owner:drickard418>,\n",
       " <Group title:\"Basemaps\" owner:Hartford2010>,\n",
       " <Group title:\"Basemaps\" owner:KC_GIS>,\n",
       " <Group title:\"Basemaps\" owner:skiley>,\n",
       " <Group title:\"Basemaps\" owner:ltate_COADWM>,\n",
       " <Group title:\"Basemaps\" owner:CountyofNevada>,\n",
       " <Group title:\"Basemaps\" owner:TCPUD_Admin>,\n",
       " <Group title:\"Basemaps\" owner:toniellis>,\n",
       " <Group title:\"Basemaps\" owner:Torell>,\n",
       " <Group title:\"Basemaps\" owner:sam.jenkins_WSUAdmin>,\n",
       " <Group title:\"Basemaps\" owner:nigel.tait_rbkc>,\n",
       " <Group title:\"Basemaps\" owner:nigel.tait_rbkc>,\n",
       " <Group title:\"Basemaps\" owner:scottmair>,\n",
       " <Group title:\"Basemaps\" owner:CountyofNevada>,\n",
       " <Group title:\"Basemaps\" owner:ltate_COADWM>,\n",
       " <Group title:\"Basemaps\" owner:seanktgarvey>,\n",
       " <Group title:\"Basemaps\" owner:CGCRLC>,\n",
       " <Group title:\"Basemaps\" owner:Belton>,\n",
       " <Group title:\"Basemaps\" owner:DentonCountyGIS>,\n",
       " <Group title:\"Basemaps\" owner:dnrgis_indnr>,\n",
       " <Group title:\"Basemaps\" owner:pascomaps>,\n",
       " <Group title:\"Basemaps\" owner:Matt_V_Still>,\n",
       " <Group title:\"Basemaps\" owner:centerville_gis>,\n",
       " <Group title:\"Basemaps\" owner:val_products3>,\n",
       " <Group title:\"Basemaps\" owner:canoewood>,\n",
       " <Group title:\"Basemaps\" owner:Province.Of.British.Columbia>,\n",
       " <Group title:\"Basemaps\" owner:NVCOG1>,\n",
       " <Group title:\"Basemaps\" owner:azdroik15>,\n",
       " <Group title:\"Basemaps\" owner:mkempen>,\n",
       " <Group title:\"Basemaps\" owner:alcoaAGOL>,\n",
       " <Group title:\"Basemaps\" owner:bk_admin>,\n",
       " <Group title:\"BaseMaps\" owner:UtahBasinRec>,\n",
       " <Group title:\"Basemaps\" owner:ewuser01>,\n",
       " <Group title:\"Basemaps\" owner:blountGIS>,\n",
       " <Group title:\"Basemaps\" owner:xingdong>,\n",
       " <Group title:\"Basemaps\" owner:nrafalski>,\n",
       " <Group title:\"Basemaps\" owner:Livonia_Admin>,\n",
       " <Group title:\"Basemaps\" owner:ortiz_g@cantabria.es>,\n",
       " <Group title:\"Basemaps\" owner:john_richardson_1969>,\n",
       " <Group title:\"Basemaps\" owner:gisi_agoadmin>,\n",
       " <Group title:\"basemaps\" owner:ConEdAdmin>,\n",
       " <Group title:\"Basemaps\" owner:ECoenen>,\n",
       " <Group title:\"Basemaps\" owner:ochlup_arcdatapraha3>,\n",
       " <Group title:\"Basemaps\" owner:volkertgisdev>,\n",
       " <Group title:\"Basemaps\" owner:Prowest_OTC>,\n",
       " <Group title:\"Basemaps\" owner:mbaker>,\n",
       " <Group title:\"Basemaps\" owner:mvwashington@nngov.com>,\n",
       " <Group title:\"Basemaps\" owner:LehighCountyPA>,\n",
       " <Group title:\"Basemaps\" owner:markinson>,\n",
       " <Group title:\"Basemaps\" owner:shariforbes>,\n",
       " <Group title:\"Basemaps\" owner:gardnerMA>,\n",
       " <Group title:\"Basemaps\" owner:birnz>,\n",
       " <Group title:\"Basemaps\" owner:andreea.ambrus_pwd>,\n",
       " <Group title:\"Basemaps\" owner:JonasRugys1>,\n",
       " <Group title:\"Basemaps\" owner:bradanderson>,\n",
       " <Group title:\"basemaps\" owner:devjulia>,\n",
       " <Group title:\"Basemaps\" owner:ChennaiFlood>,\n",
       " <Group title:\"Basemaps\" owner:ADHSS_DPH_CDPHP>,\n",
       " <Group title:\"Basemaps\" owner:semperula>,\n",
       " <Group title:\"Basemaps\" owner:MukilteoGIS>,\n",
       " <Group title:\"Basemaps\" owner:dbrown_salem>,\n",
       " <Group title:\"Basemaps\" owner:kcloud@de>,\n",
       " <Group title:\"Basemaps\" owner:ogrip_agol>,\n",
       " <Group title:\"Basemaps\" owner:CITY_OF_NACOGDOCHES>,\n",
       " <Group title:\"Basemaps\" owner:Darryn>,\n",
       " <Group title:\"Basemaps\" owner:landofsky>,\n",
       " <Group title:\"Basemaps\" owner:gisservices@wilsonnc.org>,\n",
       " <Group title:\"Basemaps\" owner:sku4org>,\n",
       " <Group title:\"Basemaps\" owner:aquawater>,\n",
       " <Group title:\"Basemaps\" owner:akgeogirl>,\n",
       " <Group title:\"BaseMaps\" owner:ekuipers>,\n",
       " <Group title:\"Basemaps\" owner:hwest_SuddenlinkSales>,\n",
       " <Group title:\"Basemaps\" owner:Sudhir.Ponnappan>,\n",
       " <Group title:\"Basemaps\" owner:mmaxwell>,\n",
       " <Group title:\"Basemaps\" owner:msanterre_chicopeema>,\n",
       " <Group title:\"Basemaps\" owner:agoloem>,\n",
       " <Group title:\"Basemaps\" owner:rbalakrishnan@esri.com>,\n",
       " <Group title:\"Basemaps\" owner:veronicanixon2012>,\n",
       " <Group title:\"Basemaps\" owner:EdAdminSB>,\n",
       " <Group title:\"Basemaps\" owner:andrew.garwood_CCC>,\n",
       " <Group title:\"Basemaps\" owner:moniker>,\n",
       " <Group title:\"Basemaps\" owner:ddizon>,\n",
       " <Group title:\"Basemaps\" owner:CityofAspenGIS>,\n",
       " <Group title:\"Basemaps\" owner:wketsman_demo1>,\n",
       " <Group title:\"Basemaps\" owner:DonBurdick>,\n",
       " <Group title:\"Basemaps\" owner:aventham>,\n",
       " <Group title:\"Basemaps\" owner:jss9298@C00.CORP.COM_Avista>,\n",
       " <Group title:\"Basemaps\" owner:hartmansdc>,\n",
       " <Group title:\"Basemaps\" owner:BostonGIS>,\n",
       " <Group title:\"Basemaps\" owner:sjamilla>,\n",
       " <Group title:\"Basemaps\" owner:brian.p.mcrae>,\n",
       " <Group title:\"BaseMaps\" owner:Greengo221>,\n",
       " <Group title:\"Basemaps\" owner:sushijim>,\n",
       " <Group title:\"Basemaps\" owner:Alison_PUB>,\n",
       " <Group title:\"Basemaps\" owner:jbarrero>,\n",
       " <Group title:\"Basemaps\" owner:dcrosby>,\n",
       " <Group title:\"Basemaps\" owner:SWWD_tngeo>,\n",
       " <Group title:\"Basemaps\" owner:IowaDOT_GIS>,\n",
       " <Group title:\"Basemaps\" owner:jeflaf>,\n",
       " <Group title:\"Basemaps\" owner:FallsChurchMaps>,\n",
       " <Group title:\"Basemaps\" owner:PWA_GIS>,\n",
       " <Group title:\"Basemaps\" owner:agwa_admin>,\n",
       " <Group title:\"Basemaps\" owner:DeKalbCounty>,\n",
       " <Group title:\"Basemaps\" owner:syvertson>,\n",
       " <Group title:\"Basemaps\" owner:simcoecountygis>,\n",
       " <Group title:\"Basemaps\" owner:officeoflivingvictoria>,\n",
       " <Group title:\"Basemaps\" owner:pgardner>,\n",
       " <Group title:\"Basemaps\" owner:DerrickHughesTN>,\n",
       " <Group title:\"Basemaps\" owner:jlunse>,\n",
       " <Group title:\"Basemaps\" owner:rothrondo>,\n",
       " <Group title:\"Basemaps\" owner:snelson_apexnc>]"
      ]
     },
     "execution_count": 18,
     "metadata": {},
     "output_type": "execute_result"
    }
   ],
   "source": [
    "#REPL\n",
    "groups_list = gis.groups.search(\"basemaps\")\n",
    "groups_list"
   ]
  },
  {
   "cell_type": "markdown",
   "metadata": {
    "slideshow": {
     "slide_type": "slide"
    }
   },
   "source": [
    "### Notebooks - best practices\n",
    " 1. Don't pull all your code in 1 cell\n",
    " 2. Add documentation\n",
    " 3. Use password hiders\n",
    " 4. Share notebooks on github"
   ]
  },
  {
   "cell_type": "code",
   "execution_count": 20,
   "metadata": {
    "slideshow": {
     "slide_type": "subslide"
    }
   },
   "outputs": [
    {
     "name": "stdout",
     "output_type": "stream",
     "text": [
      "········\n"
     ]
    }
   ],
   "source": [
    "import getpass\n",
    "password = getpass.getpass()\n",
    "ago_gis = GIS(\"https://python.playground.esri.com/portal\", \"atma.mani\", password)"
   ]
  },
  {
   "cell_type": "code",
   "execution_count": null,
   "metadata": {
    "collapsed": true,
    "slideshow": {
     "slide_type": "subslide"
    }
   },
   "outputs": [],
   "source": [
    "from arcgis.gis import GIS\n",
    "ago_gis = GIS(\"https://python.playground.esri.com/portal\", \"atma.mani\")"
   ]
  },
  {
   "cell_type": "code",
   "execution_count": 21,
   "metadata": {
    "slideshow": {
     "slide_type": "fragment"
    }
   },
   "outputs": [
    {
     "data": {
      "text/html": [
       "GIS @ <a href=\"https://python.playground.esri.com/portal\">https://python.playground.esri.com/portal</a>"
      ],
      "text/plain": [
       "<arcgis.gis.GIS at 0x115c1a748>"
      ]
     },
     "execution_count": 21,
     "metadata": {},
     "output_type": "execute_result"
    }
   ],
   "source": [
    "ago_gis"
   ]
  },
  {
   "cell_type": "markdown",
   "metadata": {},
   "source": [
    "## Reproducible research"
   ]
  },
  {
   "cell_type": "markdown",
   "metadata": {},
   "source": [
    "### Sharing notebooks"
   ]
  }
 ],
 "metadata": {
  "anaconda-cloud": {},
  "celltoolbar": "Slideshow",
  "kernelspec": {
   "display_name": "Python [default]",
   "language": "python",
   "name": "python3"
  },
  "language_info": {
   "codemirror_mode": {
    "name": "ipython",
    "version": 3
   },
   "file_extension": ".py",
   "mimetype": "text/x-python",
   "name": "python",
   "nbconvert_exporter": "python",
   "pygments_lexer": "ipython3",
   "version": "3.5.2"
  }
 },
 "nbformat": 4,
 "nbformat_minor": 2
}
