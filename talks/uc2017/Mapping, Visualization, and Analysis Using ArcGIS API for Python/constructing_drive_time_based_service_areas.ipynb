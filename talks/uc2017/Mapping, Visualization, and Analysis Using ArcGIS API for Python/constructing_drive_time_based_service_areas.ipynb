{
 "cells": [
  {
   "cell_type": "markdown",
   "metadata": {},
   "source": [
    "# Constructing drive time based service areas\n",
    "This sample shows how the `network` module of the ArcGIS API for Python can be used to construct service areas. In this sample, we generate service areas for two of the fire stations in central Tokyo, Japan. We later observe how the service area varies by time of day for a fire station in the city of Los Angeles."
   ]
  },
  {
   "cell_type": "markdown",
   "metadata": {
    "heading_collapsed": true
   },
   "source": [
    "### Service areas\n",
    "A network service area is a region that encompasses all accessible streets (that is, streets that are within a specified impedance). For instance, the 5-minute service area for a point on a network includes all the streets that can be reached within five minutes from that point.\n",
    "\n",
    "Service areas also help evaluate accessibility. Concentric service areas show how accessibility varies. Once service areas are created, you can use them to identify how much land, how many people, or how much of anything else is within the neighborhood or region.\n",
    "\n",
    "![](http://desktop.arcgis.com/en/arcmap/latest/extensions/network-analyst/GUID-0166E6A5-CDEC-4A03-A022-F4A6EB7F9EAD-web.png)\n",
    "\n",
    "Service area solver provides functionality for finding out how far a vehicle could go within a specified time or distance limit. \n",
    "\n",
    "## Connect to the GIS\n",
    "Establish a connection to your organization which could be an ArcGIS Online organization or an ArcGIS Enterprise. To be able to run the code in this sample notebook, you would need to provide credentials of a user within an ArcGIS Online organization."
   ]
  },
  {
   "cell_type": "code",
   "execution_count": null,
   "metadata": {
    "collapsed": true,
    "hidden": true
   },
   "outputs": [],
   "source": [
    "from datetime import datetime\n",
    "from IPython.display import HTML\n",
    "import pandas as pd\n",
    "from arcgis.gis import GIS\n",
    "\n",
    "user_name = 'arcgis_python'\n",
    "password = 'P@ssword123'\n",
    "my_gis = GIS('https://www.arcgis.com', user_name, password)"
   ]
  },
  {
   "cell_type": "markdown",
   "metadata": {
    "heading_collapsed": true
   },
   "source": [
    "### Create a Network Layer"
   ]
  },
  {
   "cell_type": "code",
   "execution_count": null,
   "metadata": {
    "collapsed": true,
    "hidden": true
   },
   "outputs": [],
   "source": [
    "import arcgis.network as network"
   ]
  },
  {
   "cell_type": "code",
   "execution_count": null,
   "metadata": {
    "hidden": true
   },
   "outputs": [],
   "source": [
    "service_area_url = my_gis.properties.helperServices.serviceArea.url\n",
    "service_area_url"
   ]
  },
  {
   "cell_type": "code",
   "execution_count": null,
   "metadata": {
    "collapsed": true,
    "hidden": true
   },
   "outputs": [],
   "source": [
    "sa_layer = network.ServiceAreaLayer(service_area_url, gis=my_gis)"
   ]
  },
  {
   "cell_type": "markdown",
   "metadata": {
    "heading_collapsed": true
   },
   "source": [
    "## Create fire station facility layer"
   ]
  },
  {
   "cell_type": "markdown",
   "metadata": {
    "hidden": true
   },
   "source": [
    "We obtained the coordinates of two fire stations in Tokyo. We construct `Feature` and `FeatureSet` objects to represent them."
   ]
  },
  {
   "cell_type": "code",
   "execution_count": null,
   "metadata": {
    "collapsed": true,
    "hidden": true
   },
   "outputs": [],
   "source": [
    "fire_station_1_coord = '139.546910,35.695729'\n",
    "fire_station_2_coord = '139.673726,35.697988'\n",
    "\n",
    "from arcgis.features import Feature, FeatureSet\n",
    "\n",
    "f1 = Feature(geometry={'x':float(fire_station_1_coord.split(',')[0]),\n",
    "                      'y':float(fire_station_1_coord.split(',')[1])})\n",
    "\n",
    "f2 = Feature(geometry={'x':float(fire_station_2_coord.split(',')[0]),\n",
    "                      'y':float(fire_station_2_coord.split(',')[1])})\n",
    "\n",
    "fire_station_fset = FeatureSet([f1,f2], geometry_type='esriGeometryPoint', \n",
    "                            spatial_reference={'latestWkid': 4326})"
   ]
  },
  {
   "cell_type": "markdown",
   "metadata": {
    "hidden": true
   },
   "source": [
    "Let us display the fire stations on a map"
   ]
  },
  {
   "cell_type": "code",
   "execution_count": null,
   "metadata": {
    "hidden": true
   },
   "outputs": [],
   "source": [
    "map1 = my_gis.map('Tokyo', zoomlevel=12)\n",
    "map1"
   ]
  },
  {
   "cell_type": "code",
   "execution_count": null,
   "metadata": {
    "collapsed": true,
    "hidden": true
   },
   "outputs": [],
   "source": [
    "fire_truck_symbol = {\"type\":\"esriPMS\",\n",
    "                     \"url\":\"http://static.arcgis.com/images/Symbols/SafetyHealth/FireTruck.png\",\n",
    "                     \"contentType\": \"image/png\", \"width\":20, \"height\":20}\n",
    "\n",
    "map1.draw(fire_station_fset, symbol=fire_truck_symbol)"
   ]
  },
  {
   "cell_type": "markdown",
   "metadata": {
    "heading_collapsed": true
   },
   "source": [
    "## Compute the service area"
   ]
  },
  {
   "cell_type": "code",
   "execution_count": null,
   "metadata": {
    "collapsed": true,
    "hidden": true
   },
   "outputs": [],
   "source": [
    "travel_modes = sa_layer.retrieve_travel_modes()\n",
    "truck_mode = [t for t in travel_modes['supportedTravelModes'] if t['name'] == 'Trucking Time'][0]\n",
    "\n",
    "result = sa_layer.solve_service_area(fire_station_fset, default_breaks=[5,10,15], \n",
    "                                     travel_direction='esriNATravelDirectionFromFacility',\n",
    "                                     travel_mode=truck_mode)"
   ]
  },
  {
   "cell_type": "markdown",
   "metadata": {
    "hidden": true
   },
   "source": [
    "#### Read the result back as a `FeatureSet`\n",
    "The `result` variable contains the service area as a dictionary. We inspect its keys and construct `Feature` and `FeatureSet` objects out of it to display in the map"
   ]
  },
  {
   "cell_type": "code",
   "execution_count": null,
   "metadata": {
    "hidden": true
   },
   "outputs": [],
   "source": [
    "result.keys()"
   ]
  },
  {
   "cell_type": "code",
   "execution_count": null,
   "metadata": {
    "hidden": true
   },
   "outputs": [],
   "source": [
    "result['saPolygons'].keys()"
   ]
  },
  {
   "cell_type": "code",
   "execution_count": null,
   "metadata": {
    "collapsed": true,
    "hidden": true
   },
   "outputs": [],
   "source": [
    "poly_feat_list = []\n",
    "for polygon_dict in result['saPolygons']['features']:\n",
    "    f1 = Feature(polygon_dict['geometry'], polygon_dict['attributes'])\n",
    "    poly_feat_list.append(f1)"
   ]
  },
  {
   "cell_type": "code",
   "execution_count": null,
   "metadata": {
    "collapsed": true,
    "hidden": true
   },
   "outputs": [],
   "source": [
    "service_area_fset = FeatureSet(poly_feat_list, \n",
    "                         geometry_type=result['saPolygons']['geometryType'],\n",
    "                         spatial_reference= result['saPolygons']['spatialReference'])"
   ]
  },
  {
   "cell_type": "markdown",
   "metadata": {
    "hidden": true
   },
   "source": [
    "Let us inspect the service area as a Pandas `DataFrame` to understand the attribute information"
   ]
  },
  {
   "cell_type": "code",
   "execution_count": null,
   "metadata": {
    "hidden": true
   },
   "outputs": [],
   "source": [
    "service_area_fset.df"
   ]
  },
  {
   "cell_type": "markdown",
   "metadata": {
    "hidden": true
   },
   "source": [
    "### Visualize the service area on the map\n",
    "From the DataFrame above, we know, there are 3 service area polygons for each fire station. The drive times are given as a range between `FromBreak` and `ToBreak` columns. Let us use this information to visualize the polygons with different colors and appropriate popup messags on the map"
   ]
  },
  {
   "cell_type": "code",
   "execution_count": null,
   "metadata": {
    "collapsed": true,
    "hidden": true
   },
   "outputs": [],
   "source": [
    "colors = {5: [0, 128, 0, 90], \n",
    "          10: [255, 255, 0, 90], \n",
    "          15: [255, 0, 0, 90]}\n",
    "\n",
    "fill_symbol = {\"type\": \"esriSFS\",\"style\": \"esriSFSSolid\",\n",
    "               \"color\": [115,76,0,255]}"
   ]
  },
  {
   "cell_type": "code",
   "execution_count": null,
   "metadata": {
    "collapsed": true,
    "hidden": true
   },
   "outputs": [],
   "source": [
    "for service_area in service_area_fset.features:\n",
    "    \n",
    "    #set color based on drive time\n",
    "    fill_symbol['color'] = colors[service_area.attributes['ToBreak']]\n",
    "    \n",
    "    #set popup\n",
    "    popup={\"title\": \"Service area\", \n",
    "            \"content\": \"{} minutes\".format(service_area.attributes['ToBreak'])}\n",
    "    \n",
    "    map1.draw(service_area.geometry, symbol=fill_symbol, popup=popup)"
   ]
  },
  {
   "cell_type": "markdown",
   "metadata": {
    "hidden": true
   },
   "source": [
    "Click the drive time areas to explore their attributes. Because the content of the pop-ups may include HTML source code, it is also possible to have the pop-up windows include other resources such as tables and images."
   ]
  }
 ],
 "metadata": {
  "kernelspec": {
   "display_name": "Python 3",
   "language": "python",
   "name": "python3"
  },
  "language_info": {
   "codemirror_mode": {
    "name": "ipython",
    "version": 3
   },
   "file_extension": ".py",
   "mimetype": "text/x-python",
   "name": "python",
   "nbconvert_exporter": "python",
   "pygments_lexer": "ipython3",
   "version": "3.6.1"
  }
 },
 "nbformat": 4,
 "nbformat_minor": 2
}
