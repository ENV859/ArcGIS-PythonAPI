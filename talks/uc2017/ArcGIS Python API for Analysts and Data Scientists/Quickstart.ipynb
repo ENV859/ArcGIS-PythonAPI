{
 "cells": [
  {
   "cell_type": "code",
   "execution_count": 1,
   "metadata": {
    "collapsed": true
   },
   "outputs": [],
   "source": [
    "from arcgis.gis import *"
   ]
  },
  {
   "cell_type": "code",
   "execution_count": 2,
   "metadata": {
    "collapsed": true
   },
   "outputs": [],
   "source": [
    "gis = GIS()"
   ]
  },
  {
   "cell_type": "code",
   "execution_count": 5,
   "metadata": {},
   "outputs": [],
   "source": [
    "m = gis.map('Zurich')\n",
    "m"
   ]
  },
  {
   "cell_type": "code",
   "execution_count": 9,
   "metadata": {},
   "outputs": [
    {
     "data": {
      "text/html": [
       "<div class=\"item_container\" style=\"height: auto; overflow: hidden; border: 1px solid #cfcfcf; border-radius: 2px; background: #f6fafa; line-height: 1.21429em; padding: 10px;\">\n",
       "                    <div class=\"item_left\" style=\"width: 210px; float: left;\">\n",
       "                       <a href='http://www.arcgis.com/home/item.html?id=e5e955339ec045b1aba8887ef8b983d8' target='_blank'>\n",
       "                        <img src='http://www.arcgis.com/sharing/rest//content/items/e5e955339ec045b1aba8887ef8b983d8/info/thumbnail/thumbnail.png' class=\"itemThumbnail\">\n",
       "                       </a>\n",
       "                    </div>\n",
       "\n",
       "                    <div class=\"item_right\"     style=\"float: none; width: auto; overflow: hidden;\">\n",
       "                        <a href='http://www.arcgis.com/home/item.html?id=e5e955339ec045b1aba8887ef8b983d8' target='_blank'><b>zurich1799_data</b>\n",
       "                        </a>\n",
       "                        <br/>Karte mit den OGD-Daten zu Zürich 1799<img src='http://www.arcgis.com/home/js/jsapi/esri/css/images/item_type_icons/featureshosted16.png' style=\"vertical-align:middle;\">Feature Layer Collection by ikg_bujulia\n",
       "                        <br/>Last Modified: March 11, 2016\n",
       "                        <br/>0 comments, 7,666 views\n",
       "                    </div>\n",
       "                </div>\n",
       "                "
      ],
      "text/plain": [
       "<Item title:\"zurich1799_data\" type:Feature Layer Collection owner:ikg_bujulia>"
      ]
     },
     "metadata": {},
     "output_type": "display_data"
    },
    {
     "data": {
      "text/html": [
       "<div class=\"item_container\" style=\"height: auto; overflow: hidden; border: 1px solid #cfcfcf; border-radius: 2px; background: #f6fafa; line-height: 1.21429em; padding: 10px;\">\n",
       "                    <div class=\"item_left\" style=\"width: 210px; float: left;\">\n",
       "                       <a href='http://www.arcgis.com/home/item.html?id=a6ccc14e151b41c19b632f5a8588ab39' target='_blank'>\n",
       "                        <img src='http://www.arcgis.com/sharing/rest//content/items/a6ccc14e151b41c19b632f5a8588ab39/info/thumbnail/ago_downloaded.png' class=\"itemThumbnail\">\n",
       "                       </a>\n",
       "                    </div>\n",
       "\n",
       "                    <div class=\"item_right\"     style=\"float: none; width: auto; overflow: hidden;\">\n",
       "                        <a href='http://www.arcgis.com/home/item.html?id=a6ccc14e151b41c19b632f5a8588ab39' target='_blank'><b>zurich1799_data</b>\n",
       "                        </a>\n",
       "                        <br/>Karte mit den OGD-Daten zu Zürich 1799<img src='http://www.arcgis.com/home/js/jsapi/esri/css/images/item_type_icons/featureshosted16.png' style=\"vertical-align:middle;\">Feature Layer Collection by afs_fuehrung\n",
       "                        <br/>Last Modified: December 13, 2016\n",
       "                        <br/>0 comments, 6,550 views\n",
       "                    </div>\n",
       "                </div>\n",
       "                "
      ],
      "text/plain": [
       "<Item title:\"zurich1799_data\" type:Feature Layer Collection owner:afs_fuehrung>"
      ]
     },
     "metadata": {},
     "output_type": "display_data"
    },
    {
     "data": {
      "text/html": [
       "<div class=\"item_container\" style=\"height: auto; overflow: hidden; border: 1px solid #cfcfcf; border-radius: 2px; background: #f6fafa; line-height: 1.21429em; padding: 10px;\">\n",
       "                    <div class=\"item_left\" style=\"width: 210px; float: left;\">\n",
       "                       <a href='http://www.arcgis.com/home/item.html?id=7d118e7ffd2f4ad88354ee5e12ea791a' target='_blank'>\n",
       "                        <img src='http://www.arcgis.com/sharing/rest//content/items/7d118e7ffd2f4ad88354ee5e12ea791a/info/thumbnail/thumbnail.png' class=\"itemThumbnail\">\n",
       "                       </a>\n",
       "                    </div>\n",
       "\n",
       "                    <div class=\"item_right\"     style=\"float: none; width: auto; overflow: hidden;\">\n",
       "                        <a href='http://www.arcgis.com/home/item.html?id=7d118e7ffd2f4ad88354ee5e12ea791a' target='_blank'><b>Rebberg_Au_APR2014_2</b>\n",
       "                        </a>\n",
       "                        <br/>Viineyard of the Zurich University of Applied Sciences<img src='http://www.arcgis.com/home/js/jsapi/esri/css/images/item_type_icons/featureshosted16.png' style=\"vertical-align:middle;\">Feature Layer Collection by fahe_zhaw\n",
       "                        <br/>Last Modified: May 05, 2014\n",
       "                        <br/>0 comments, 686 views\n",
       "                    </div>\n",
       "                </div>\n",
       "                "
      ],
      "text/plain": [
       "<Item title:\"Rebberg_Au_APR2014_2\" type:Feature Layer Collection owner:fahe_zhaw>"
      ]
     },
     "metadata": {},
     "output_type": "display_data"
    },
    {
     "data": {
      "text/html": [
       "<div class=\"item_container\" style=\"height: auto; overflow: hidden; border: 1px solid #cfcfcf; border-radius: 2px; background: #f6fafa; line-height: 1.21429em; padding: 10px;\">\n",
       "                    <div class=\"item_left\" style=\"width: 210px; float: left;\">\n",
       "                       <a href='http://www.arcgis.com/home/item.html?id=83f32dfacc2749cfb9d9b5a58b05deae' target='_blank'>\n",
       "                        <img src='http://www.arcgis.com/sharing/rest//content/items/83f32dfacc2749cfb9d9b5a58b05deae/info/thumbnail/thumbnail.png' class=\"itemThumbnail\">\n",
       "                       </a>\n",
       "                    </div>\n",
       "\n",
       "                    <div class=\"item_right\"     style=\"float: none; width: auto; overflow: hidden;\">\n",
       "                        <a href='http://www.arcgis.com/home/item.html?id=83f32dfacc2749cfb9d9b5a58b05deae' target='_blank'><b>Bikes_in_Zurich</b>\n",
       "                        </a>\n",
       "                        <br/>Bikes in Zurich<img src='http://www.arcgis.com/home/js/jsapi/esri/css/images/item_type_icons/featureshosted16.png' style=\"vertical-align:middle;\">Feature Layer Collection by GISsmox\n",
       "                        <br/>Last Modified: June 03, 2016\n",
       "                        <br/>0 comments, 287 views\n",
       "                    </div>\n",
       "                </div>\n",
       "                "
      ],
      "text/plain": [
       "<Item title:\"Bikes_in_Zurich\" type:Feature Layer Collection owner:GISsmox>"
      ]
     },
     "metadata": {},
     "output_type": "display_data"
    },
    {
     "data": {
      "text/html": [
       "<div class=\"item_container\" style=\"height: auto; overflow: hidden; border: 1px solid #cfcfcf; border-radius: 2px; background: #f6fafa; line-height: 1.21429em; padding: 10px;\">\n",
       "                    <div class=\"item_left\" style=\"width: 210px; float: left;\">\n",
       "                       <a href='http://www.arcgis.com/home/item.html?id=cfdb619b6fce49aea07084523b6c3955' target='_blank'>\n",
       "                        <img src='http://www.arcgis.com/sharing/rest//content/items/cfdb619b6fce49aea07084523b6c3955/info/thumbnail/thumbnail.png' class=\"itemThumbnail\">\n",
       "                       </a>\n",
       "                    </div>\n",
       "\n",
       "                    <div class=\"item_right\"     style=\"float: none; width: auto; overflow: hidden;\">\n",
       "                        <a href='http://www.arcgis.com/home/item.html?id=cfdb619b6fce49aea07084523b6c3955' target='_blank'><b>Quartiere Stadt Zürich</b>\n",
       "                        </a>\n",
       "                        <br/>Statistische Einheiten Stadt Zürich<img src='http://www.arcgis.com/home/js/jsapi/esri/css/images/item_type_icons/featureshosted16.png' style=\"vertical-align:middle;\">Feature Layer Collection by thko4org1\n",
       "                        <br/>Last Modified: March 09, 2016\n",
       "                        <br/>0 comments, 212 views\n",
       "                    </div>\n",
       "                </div>\n",
       "                "
      ],
      "text/plain": [
       "<Item title:\"Quartiere Stadt Zürich\" type:Feature Layer Collection owner:thko4org1>"
      ]
     },
     "metadata": {},
     "output_type": "display_data"
    },
    {
     "data": {
      "text/html": [
       "<div class=\"item_container\" style=\"height: auto; overflow: hidden; border: 1px solid #cfcfcf; border-radius: 2px; background: #f6fafa; line-height: 1.21429em; padding: 10px;\">\n",
       "                    <div class=\"item_left\" style=\"width: 210px; float: left;\">\n",
       "                       <a href='http://www.arcgis.com/home/item.html?id=30defb65c84143ef892b15ce91d7ba29' target='_blank'>\n",
       "                        <img src='http://www.arcgis.com/sharing/rest//content/items/30defb65c84143ef892b15ce91d7ba29/info/thumbnail/thumbnail.png' class=\"itemThumbnail\">\n",
       "                       </a>\n",
       "                    </div>\n",
       "\n",
       "                    <div class=\"item_right\"     style=\"float: none; width: auto; overflow: hidden;\">\n",
       "                        <a href='http://www.arcgis.com/home/item.html?id=30defb65c84143ef892b15ce91d7ba29' target='_blank'><b>SekBuelachGruppe1</b>\n",
       "                        </a>\n",
       "                        <br/>Kartierung von öffentlichen Zugängen auf Rollstuhlgerechtigkeit<img src='http://www.arcgis.com/home/js/jsapi/esri/css/images/item_type_icons/featureshosted16.png' style=\"vertical-align:middle;\">Feature Layer Collection by SekBue\n",
       "                        <br/>Last Modified: April 15, 2015\n",
       "                        <br/>0 comments, 199 views\n",
       "                    </div>\n",
       "                </div>\n",
       "                "
      ],
      "text/plain": [
       "<Item title:\"SekBuelachGruppe1\" type:Feature Layer Collection owner:SekBue>"
      ]
     },
     "metadata": {},
     "output_type": "display_data"
    },
    {
     "data": {
      "text/html": [
       "<div class=\"item_container\" style=\"height: auto; overflow: hidden; border: 1px solid #cfcfcf; border-radius: 2px; background: #f6fafa; line-height: 1.21429em; padding: 10px;\">\n",
       "                    <div class=\"item_left\" style=\"width: 210px; float: left;\">\n",
       "                       <a href='http://www.arcgis.com/home/item.html?id=d33ec7eae9a74d709ad1e90698b6e7dd' target='_blank'>\n",
       "                        <img src='http://www.arcgis.com/sharing/rest//content/items/d33ec7eae9a74d709ad1e90698b6e7dd/info/thumbnail/thumbnail.png' class=\"itemThumbnail\">\n",
       "                       </a>\n",
       "                    </div>\n",
       "\n",
       "                    <div class=\"item_right\"     style=\"float: none; width: auto; overflow: hidden;\">\n",
       "                        <a href='http://www.arcgis.com/home/item.html?id=d33ec7eae9a74d709ad1e90698b6e7dd' target='_blank'><b>Brunnen Stadt Zürich</b>\n",
       "                        </a>\n",
       "                        <br/>Brunnen in der Stadt Zürich<img src='http://www.arcgis.com/home/js/jsapi/esri/css/images/item_type_icons/featureshosted16.png' style=\"vertical-align:middle;\">Feature Layer Collection by thko4org1\n",
       "                        <br/>Last Modified: May 25, 2016\n",
       "                        <br/>0 comments, 161 views\n",
       "                    </div>\n",
       "                </div>\n",
       "                "
      ],
      "text/plain": [
       "<Item title:\"Brunnen Stadt Zürich\" type:Feature Layer Collection owner:thko4org1>"
      ]
     },
     "metadata": {},
     "output_type": "display_data"
    },
    {
     "data": {
      "text/html": [
       "<div class=\"item_container\" style=\"height: auto; overflow: hidden; border: 1px solid #cfcfcf; border-radius: 2px; background: #f6fafa; line-height: 1.21429em; padding: 10px;\">\n",
       "                    <div class=\"item_left\" style=\"width: 210px; float: left;\">\n",
       "                       <a href='http://www.arcgis.com/home/item.html?id=cda62231c0a744dda8481f37dd4d8604' target='_blank'>\n",
       "                        <img src='http://www.arcgis.com/sharing/rest//content/items/cda62231c0a744dda8481f37dd4d8604/info/thumbnail/thumbnail.png' class=\"itemThumbnail\">\n",
       "                       </a>\n",
       "                    </div>\n",
       "\n",
       "                    <div class=\"item_right\"     style=\"float: none; width: auto; overflow: hidden;\">\n",
       "                        <a href='http://www.arcgis.com/home/item.html?id=cda62231c0a744dda8481f37dd4d8604' target='_blank'><b>Wheelchair_Besprechung</b>\n",
       "                        </a>\n",
       "                        <br/>Kartierung von öffentlichen Zugängen auf Rollstuhlgerechtigkeit\n",
       "- Auswertung der gesammelten Ergebnisse<img src='http://www.arcgis.com/home/js/jsapi/esri/css/images/item_type_icons/featureshosted16.png' style=\"vertical-align:middle;\">Feature Layer Collection by SekBue\n",
       "                        <br/>Last Modified: April 27, 2015\n",
       "                        <br/>0 comments, 155 views\n",
       "                    </div>\n",
       "                </div>\n",
       "                "
      ],
      "text/plain": [
       "<Item title:\"Wheelchair_Besprechung\" type:Feature Layer Collection owner:SekBue>"
      ]
     },
     "metadata": {},
     "output_type": "display_data"
    },
    {
     "data": {
      "text/html": [
       "<div class=\"item_container\" style=\"height: auto; overflow: hidden; border: 1px solid #cfcfcf; border-radius: 2px; background: #f6fafa; line-height: 1.21429em; padding: 10px;\">\n",
       "                    <div class=\"item_left\" style=\"width: 210px; float: left;\">\n",
       "                       <a href='http://www.arcgis.com/home/item.html?id=9821061aefee4a2ab8fe3c4c480f78c0' target='_blank'>\n",
       "                        <img src='http://www.arcgis.com/sharing/rest//content/items/9821061aefee4a2ab8fe3c4c480f78c0/info/thumbnail/thumbnail.png' class=\"itemThumbnail\">\n",
       "                       </a>\n",
       "                    </div>\n",
       "\n",
       "                    <div class=\"item_right\"     style=\"float: none; width: auto; overflow: hidden;\">\n",
       "                        <a href='http://www.arcgis.com/home/item.html?id=9821061aefee4a2ab8fe3c4c480f78c0' target='_blank'><b>Parkplätze Stadt Zürich</b>\n",
       "                        </a>\n",
       "                        <br/>Parkplätze in der Stadt Zürich<img src='http://www.arcgis.com/home/js/jsapi/esri/css/images/item_type_icons/featureshosted16.png' style=\"vertical-align:middle;\">Feature Layer Collection by thko4org1\n",
       "                        <br/>Last Modified: January 21, 2016\n",
       "                        <br/>0 comments, 150 views\n",
       "                    </div>\n",
       "                </div>\n",
       "                "
      ],
      "text/plain": [
       "<Item title:\"Parkplätze Stadt Zürich\" type:Feature Layer Collection owner:thko4org1>"
      ]
     },
     "metadata": {},
     "output_type": "display_data"
    },
    {
     "data": {
      "text/html": [
       "<div class=\"item_container\" style=\"height: auto; overflow: hidden; border: 1px solid #cfcfcf; border-radius: 2px; background: #f6fafa; line-height: 1.21429em; padding: 10px;\">\n",
       "                    <div class=\"item_left\" style=\"width: 210px; float: left;\">\n",
       "                       <a href='http://www.arcgis.com/home/item.html?id=067254be899b4d599d452c13cc409cd5' target='_blank'>\n",
       "                        <img src='http://static.arcgis.com/images/desktopapp.png' class=\"itemThumbnail\">\n",
       "                       </a>\n",
       "                    </div>\n",
       "\n",
       "                    <div class=\"item_right\"     style=\"float: none; width: auto; overflow: hidden;\">\n",
       "                        <a href='http://www.arcgis.com/home/item.html?id=067254be899b4d599d452c13cc409cd5' target='_blank'><b>Zurich_Auto</b>\n",
       "                        </a>\n",
       "                        <br/><img src='http://www.arcgis.com/home/js/jsapi/esri/css/images/item_type_icons/featureshosted16.png' style=\"vertical-align:middle;\">Feature Layer Collection by EsriPT2\n",
       "                        <br/>Last Modified: November 20, 2013\n",
       "                        <br/>0 comments, 94 views\n",
       "                    </div>\n",
       "                </div>\n",
       "                "
      ],
      "text/plain": [
       "<Item title:\"Zurich_Auto\" type:Feature Layer Collection owner:EsriPT2>"
      ]
     },
     "metadata": {},
     "output_type": "display_data"
    }
   ],
   "source": [
    "items = gis.content.search('Zurich', 'Feature Layer')\n",
    "for item in items:\n",
    "    display(item)"
   ]
  },
  {
   "cell_type": "code",
   "execution_count": 10,
   "metadata": {
    "collapsed": true
   },
   "outputs": [],
   "source": [
    "m.add_layer(items[0])"
   ]
  },
  {
   "cell_type": "code",
   "execution_count": 11,
   "metadata": {
    "collapsed": true
   },
   "outputs": [],
   "source": [
    "zurichdata = items[0]"
   ]
  },
  {
   "cell_type": "code",
   "execution_count": 12,
   "metadata": {},
   "outputs": [
    {
     "data": {
      "text/plain": [
       "[<FeatureLayer url:\"http://services1.arcgis.com/i9MtZ1vtgD3gTnyL/arcgis/rest/services/zurich1799_data/FeatureServer/1\">,\n",
       " <FeatureLayer url:\"http://services1.arcgis.com/i9MtZ1vtgD3gTnyL/arcgis/rest/services/zurich1799_data/FeatureServer/2\">,\n",
       " <FeatureLayer url:\"http://services1.arcgis.com/i9MtZ1vtgD3gTnyL/arcgis/rest/services/zurich1799_data/FeatureServer/3\">,\n",
       " <FeatureLayer url:\"http://services1.arcgis.com/i9MtZ1vtgD3gTnyL/arcgis/rest/services/zurich1799_data/FeatureServer/4\">,\n",
       " <FeatureLayer url:\"http://services1.arcgis.com/i9MtZ1vtgD3gTnyL/arcgis/rest/services/zurich1799_data/FeatureServer/5\">,\n",
       " <FeatureLayer url:\"http://services1.arcgis.com/i9MtZ1vtgD3gTnyL/arcgis/rest/services/zurich1799_data/FeatureServer/6\">,\n",
       " <FeatureLayer url:\"http://services1.arcgis.com/i9MtZ1vtgD3gTnyL/arcgis/rest/services/zurich1799_data/FeatureServer/7\">,\n",
       " <FeatureLayer url:\"http://services1.arcgis.com/i9MtZ1vtgD3gTnyL/arcgis/rest/services/zurich1799_data/FeatureServer/9\">,\n",
       " <FeatureLayer url:\"http://services1.arcgis.com/i9MtZ1vtgD3gTnyL/arcgis/rest/services/zurich1799_data/FeatureServer/10\">,\n",
       " <FeatureLayer url:\"http://services1.arcgis.com/i9MtZ1vtgD3gTnyL/arcgis/rest/services/zurich1799_data/FeatureServer/11\">,\n",
       " <FeatureLayer url:\"http://services1.arcgis.com/i9MtZ1vtgD3gTnyL/arcgis/rest/services/zurich1799_data/FeatureServer/12\">,\n",
       " <FeatureLayer url:\"http://services1.arcgis.com/i9MtZ1vtgD3gTnyL/arcgis/rest/services/zurich1799_data/FeatureServer/13\">,\n",
       " <FeatureLayer url:\"http://services1.arcgis.com/i9MtZ1vtgD3gTnyL/arcgis/rest/services/zurich1799_data/FeatureServer/14\">,\n",
       " <FeatureLayer url:\"http://services1.arcgis.com/i9MtZ1vtgD3gTnyL/arcgis/rest/services/zurich1799_data/FeatureServer/15\">,\n",
       " <FeatureLayer url:\"http://services1.arcgis.com/i9MtZ1vtgD3gTnyL/arcgis/rest/services/zurich1799_data/FeatureServer/16\">,\n",
       " <FeatureLayer url:\"http://services1.arcgis.com/i9MtZ1vtgD3gTnyL/arcgis/rest/services/zurich1799_data/FeatureServer/18\">,\n",
       " <FeatureLayer url:\"http://services1.arcgis.com/i9MtZ1vtgD3gTnyL/arcgis/rest/services/zurich1799_data/FeatureServer/19\">,\n",
       " <FeatureLayer url:\"http://services1.arcgis.com/i9MtZ1vtgD3gTnyL/arcgis/rest/services/zurich1799_data/FeatureServer/20\">,\n",
       " <FeatureLayer url:\"http://services1.arcgis.com/i9MtZ1vtgD3gTnyL/arcgis/rest/services/zurich1799_data/FeatureServer/21\">,\n",
       " <FeatureLayer url:\"http://services1.arcgis.com/i9MtZ1vtgD3gTnyL/arcgis/rest/services/zurich1799_data/FeatureServer/22\">,\n",
       " <FeatureLayer url:\"http://services1.arcgis.com/i9MtZ1vtgD3gTnyL/arcgis/rest/services/zurich1799_data/FeatureServer/23\">,\n",
       " <FeatureLayer url:\"http://services1.arcgis.com/i9MtZ1vtgD3gTnyL/arcgis/rest/services/zurich1799_data/FeatureServer/24\">,\n",
       " <FeatureLayer url:\"http://services1.arcgis.com/i9MtZ1vtgD3gTnyL/arcgis/rest/services/zurich1799_data/FeatureServer/25\">,\n",
       " <FeatureLayer url:\"http://services1.arcgis.com/i9MtZ1vtgD3gTnyL/arcgis/rest/services/zurich1799_data/FeatureServer/26\">,\n",
       " <FeatureLayer url:\"http://services1.arcgis.com/i9MtZ1vtgD3gTnyL/arcgis/rest/services/zurich1799_data/FeatureServer/27\">,\n",
       " <FeatureLayer url:\"http://services1.arcgis.com/i9MtZ1vtgD3gTnyL/arcgis/rest/services/zurich1799_data/FeatureServer/29\">,\n",
       " <FeatureLayer url:\"http://services1.arcgis.com/i9MtZ1vtgD3gTnyL/arcgis/rest/services/zurich1799_data/FeatureServer/30\">,\n",
       " <FeatureLayer url:\"http://services1.arcgis.com/i9MtZ1vtgD3gTnyL/arcgis/rest/services/zurich1799_data/FeatureServer/31\">,\n",
       " <FeatureLayer url:\"http://services1.arcgis.com/i9MtZ1vtgD3gTnyL/arcgis/rest/services/zurich1799_data/FeatureServer/32\">,\n",
       " <FeatureLayer url:\"http://services1.arcgis.com/i9MtZ1vtgD3gTnyL/arcgis/rest/services/zurich1799_data/FeatureServer/33\">,\n",
       " <FeatureLayer url:\"http://services1.arcgis.com/i9MtZ1vtgD3gTnyL/arcgis/rest/services/zurich1799_data/FeatureServer/34\">,\n",
       " <FeatureLayer url:\"http://services1.arcgis.com/i9MtZ1vtgD3gTnyL/arcgis/rest/services/zurich1799_data/FeatureServer/35\">,\n",
       " <FeatureLayer url:\"http://services1.arcgis.com/i9MtZ1vtgD3gTnyL/arcgis/rest/services/zurich1799_data/FeatureServer/36\">,\n",
       " <FeatureLayer url:\"http://services1.arcgis.com/i9MtZ1vtgD3gTnyL/arcgis/rest/services/zurich1799_data/FeatureServer/37\">,\n",
       " <FeatureLayer url:\"http://services1.arcgis.com/i9MtZ1vtgD3gTnyL/arcgis/rest/services/zurich1799_data/FeatureServer/38\">,\n",
       " <FeatureLayer url:\"http://services1.arcgis.com/i9MtZ1vtgD3gTnyL/arcgis/rest/services/zurich1799_data/FeatureServer/39\">,\n",
       " <FeatureLayer url:\"http://services1.arcgis.com/i9MtZ1vtgD3gTnyL/arcgis/rest/services/zurich1799_data/FeatureServer/40\">,\n",
       " <FeatureLayer url:\"http://services1.arcgis.com/i9MtZ1vtgD3gTnyL/arcgis/rest/services/zurich1799_data/FeatureServer/41\">,\n",
       " <FeatureLayer url:\"http://services1.arcgis.com/i9MtZ1vtgD3gTnyL/arcgis/rest/services/zurich1799_data/FeatureServer/42\">,\n",
       " <FeatureLayer url:\"http://services1.arcgis.com/i9MtZ1vtgD3gTnyL/arcgis/rest/services/zurich1799_data/FeatureServer/43\">,\n",
       " <FeatureLayer url:\"http://services1.arcgis.com/i9MtZ1vtgD3gTnyL/arcgis/rest/services/zurich1799_data/FeatureServer/44\">,\n",
       " <FeatureLayer url:\"http://services1.arcgis.com/i9MtZ1vtgD3gTnyL/arcgis/rest/services/zurich1799_data/FeatureServer/45\">,\n",
       " <FeatureLayer url:\"http://services1.arcgis.com/i9MtZ1vtgD3gTnyL/arcgis/rest/services/zurich1799_data/FeatureServer/46\">,\n",
       " <FeatureLayer url:\"http://services1.arcgis.com/i9MtZ1vtgD3gTnyL/arcgis/rest/services/zurich1799_data/FeatureServer/48\">,\n",
       " <FeatureLayer url:\"http://services1.arcgis.com/i9MtZ1vtgD3gTnyL/arcgis/rest/services/zurich1799_data/FeatureServer/49\">,\n",
       " <FeatureLayer url:\"http://services1.arcgis.com/i9MtZ1vtgD3gTnyL/arcgis/rest/services/zurich1799_data/FeatureServer/50\">,\n",
       " <FeatureLayer url:\"http://services1.arcgis.com/i9MtZ1vtgD3gTnyL/arcgis/rest/services/zurich1799_data/FeatureServer/51\">,\n",
       " <FeatureLayer url:\"http://services1.arcgis.com/i9MtZ1vtgD3gTnyL/arcgis/rest/services/zurich1799_data/FeatureServer/52\">,\n",
       " <FeatureLayer url:\"http://services1.arcgis.com/i9MtZ1vtgD3gTnyL/arcgis/rest/services/zurich1799_data/FeatureServer/53\">,\n",
       " <FeatureLayer url:\"http://services1.arcgis.com/i9MtZ1vtgD3gTnyL/arcgis/rest/services/zurich1799_data/FeatureServer/54\">,\n",
       " <FeatureLayer url:\"http://services1.arcgis.com/i9MtZ1vtgD3gTnyL/arcgis/rest/services/zurich1799_data/FeatureServer/55\">,\n",
       " <FeatureLayer url:\"http://services1.arcgis.com/i9MtZ1vtgD3gTnyL/arcgis/rest/services/zurich1799_data/FeatureServer/57\">,\n",
       " <FeatureLayer url:\"http://services1.arcgis.com/i9MtZ1vtgD3gTnyL/arcgis/rest/services/zurich1799_data/FeatureServer/58\">,\n",
       " <FeatureLayer url:\"http://services1.arcgis.com/i9MtZ1vtgD3gTnyL/arcgis/rest/services/zurich1799_data/FeatureServer/59\">,\n",
       " <FeatureLayer url:\"http://services1.arcgis.com/i9MtZ1vtgD3gTnyL/arcgis/rest/services/zurich1799_data/FeatureServer/60\">]"
      ]
     },
     "execution_count": 12,
     "metadata": {},
     "output_type": "execute_result"
    }
   ],
   "source": [
    "zurichdata.layers"
   ]
  },
  {
   "cell_type": "code",
   "execution_count": null,
   "metadata": {
    "collapsed": true
   },
   "outputs": [],
   "source": []
  }
 ],
 "metadata": {
  "anaconda-cloud": {},
  "kernelspec": {
   "display_name": "Python [default]",
   "language": "python",
   "name": "python3"
  },
  "language_info": {
   "codemirror_mode": {
    "name": "ipython",
    "version": 3
   },
   "file_extension": ".py",
   "mimetype": "text/x-python",
   "name": "python",
   "nbconvert_exporter": "python",
   "pygments_lexer": "ipython3",
   "version": "3.5.2"
  },
  "widgets": {
   "state": {
    "cd62517d46d54d6bb610dc19246fa722": {
     "views": [
      {
       "cell_index": 2
      }
     ]
    }
   },
   "version": "1.2.0"
  }
 },
 "nbformat": 4,
 "nbformat_minor": 2
}
