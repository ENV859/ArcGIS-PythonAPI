{
 "cells": [
  {
   "cell_type": "markdown",
   "metadata": {
    "slideshow": {
     "slide_type": "slide"
    }
   },
   "source": [
    "<center>\n",
    "<h2 class=\"title\"><b>Automating Enterprise GIS Administration using Python<b/> </h2>\n",
    "\n",
    "\n",
    "\n",
    "<h3>Andrew Chapkowski</h3>\n",
    "<h3>Bill Major</h3>\n",
    "\n",
    "<div>\n",
    "    <img src=\"staticimg/esri-logo.png\" alt=\"logo\" \n",
    "style=\"width:20%;height:20%;\">\n",
    "</div>\n",
    "\n",
    "\n",
    "<h3>Esri User Conference, July 2017</h3>\n",
    "</center>"
   ]
  },
  {
   "cell_type": "markdown",
   "metadata": {
    "slideshow": {
     "slide_type": "slide"
    }
   },
   "source": [
    "<center>\n",
    "<h3 class=\"title\"><b>Presentation Overview<b/> </h3>\n",
    "</center>\n",
    "* Portal Management\n",
    "  - Create Users\n",
    "  - Custom Roles\n",
    "  - Import Root Certificate\n",
    "  - Portal Logs\n",
    "\n",
    "* Server Management\n",
    "  - Accessing Servers\n",
    "  - Manage Services\n",
    "  - Query Logs\n",
    "  - Usage\n",
    "\n",
    "* Questions"
   ]
  },
  {
   "cell_type": "markdown",
   "metadata": {
    "slideshow": {
     "slide_type": "slide"
    }
   },
   "source": [
    "<center><h2>ArcGIS API for Python</h2></center>\n",
    "- Python API to your Web GIS\n",
    "- Powerful, modern and easy to use\n",
    "- Implemented using REST and local capabilities \n"
   ]
  },
  {
   "cell_type": "markdown",
   "metadata": {
    "slideshow": {
     "slide_type": "slide"
    }
   },
   "source": [
    "<center><h2> What is the Python API for ArcGIS </h2></center>\n",
    "\n",
    "The ArcGIS API for Python lets ArcGIS Online and ArcGIS Enterprise users, analysts, developers and administrators script and automate tasks ranging from performing big data analysis to content management and administration of their web GIS.\n",
    "<img src=\"staticimg/PythonAPIGettingStarted.png\" />"
   ]
  },
  {
   "cell_type": "markdown",
   "metadata": {
    "slideshow": {
     "slide_type": "slide"
    }
   },
   "source": [
    "<center> <h2> Who Uses the ArcGIS API for Python </h2> </center>\n",
    "\n",
    "<img src=\"staticimg/WhatIsArcGISPython.PNG\"/>"
   ]
  },
  {
   "cell_type": "markdown",
   "metadata": {
    "slideshow": {
     "slide_type": "slide"
    }
   },
   "source": [
    "<center> <h2> Connecting to your GIS</h2></center>\n",
    "\n",
    "- the GIS is either ArcGIS Online or an ArcGIS Portal\n",
    "- supports **all** authentication methods\n",
    "\n",
    "<h4> Accessing your GIS </h4>"
   ]
  },
  {
   "cell_type": "code",
   "execution_count": null,
   "metadata": {
    "collapsed": true,
    "slideshow": {
     "slide_type": "fragment"
    }
   },
   "outputs": [],
   "source": [
    "gis_site = GIS(url=\"https://idt.esri.com/portal\", \n",
    "          username=\"portaladmin\")"
   ]
  },
  {
   "cell_type": "code",
   "execution_count": 4,
   "metadata": {
    "slideshow": {
     "slide_type": "skip"
    }
   },
   "outputs": [
    {
     "name": "stdout",
     "output_type": "stream",
     "text": [
      "Enter password: ········\n"
     ]
    }
   ],
   "source": [
    "from arcgis.gis import GIS\n",
    "gis = GIS(url=\"https://agsapipor1.esri.com/portal\", \n",
    "          username=\"admin\",\n",
    "          verify_cert=False)"
   ]
  },
  {
   "cell_type": "markdown",
   "metadata": {
    "slideshow": {
     "slide_type": "slide"
    }
   },
   "source": [
    "<center>\n",
    "<h2><b>Portal Administration </b> </h2>\n",
    "\n",
    "\n",
    "<img src=\"https://server.arcgis.com/en/data-store/10.4/install/windows/GUID-D6450E2F-31B2-42D4-8EBA-F1B0E3D5EEE4-web.png\" align=\"center\" /></center>"
   ]
  },
  {
   "cell_type": "code",
   "execution_count": 5,
   "metadata": {
    "collapsed": true,
    "slideshow": {
     "slide_type": "skip"
    }
   },
   "outputs": [],
   "source": [
    "#esri.agp\n",
    "pw = \"test1234!\""
   ]
  },
  {
   "cell_type": "code",
   "execution_count": 6,
   "metadata": {
    "slideshow": {
     "slide_type": "skip"
    }
   },
   "outputs": [
    {
     "name": "stdout",
     "output_type": "stream",
     "text": [
      "Enter password: ········\n"
     ]
    }
   ],
   "source": [
    "from arcgis.gis import GIS\n",
    "gis = GIS(url=\"https://idt.esri.com/portal\", \n",
    "          username=\"portaladmin\")"
   ]
  },
  {
   "cell_type": "markdown",
   "metadata": {
    "slideshow": {
     "slide_type": "subslide"
    }
   },
   "source": [
    "<center>\n",
    "<h2 class=\"title\"><b>Creating a User<b/> </h2>\n",
    "</center>\n"
   ]
  },
  {
   "cell_type": "code",
   "execution_count": 7,
   "metadata": {
    "slideshow": {
     "slide_type": "fragment"
    }
   },
   "outputs": [
    {
     "data": {
      "text/html": [
       "<div class=\"9item_container\" style=\"height: auto; overflow: hidden; border: 1px solid #cfcfcf; border-radius: 2px; background: #f6fafa; line-height: 1.21429em; padding: 10px;\">\n",
       "                    <div class=\"item_left\" style=\"width: 210px; float: left;\">\n",
       "                       <a href='https://idt.esri.com/portal/home/user.html?user=demoaccount2a' target='_blank'>\n",
       "                        <img src='https://idt.esri.com/portal/home/js/arcgisonline/css/images/no-user-thumb.jpg' class=\"itemThumbnail\">\n",
       "                       </a>\n",
       "                    </div>\n",
       "\n",
       "                    <div class=\"item_right\" style=\"float: none; width: auto; overflow: hidden;\">\n",
       "                        <a href='https://idt.esri.com/portal/home/user.html?user=demoaccount2a' target='_blank'><b>Demo Account2a</b>\n",
       "                        </a>\n",
       "                        <br/><br/><b>Bio</b>: None\n",
       "                        <br/><b>First Name</b>: Demo\n",
       "                        <br/><b>Last Name</b>: Account2a\n",
       "                        <br/><b>Username</b>: demoaccount2a\n",
       "                        <br/><b>Joined</b>: July 07, 2017\n",
       "\n",
       "                    </div>\n",
       "                </div>\n",
       "                "
      ],
      "text/plain": [
       "<User username:demoaccount2a>"
      ]
     },
     "execution_count": 7,
     "metadata": {},
     "output_type": "execute_result"
    }
   ],
   "source": [
    "user = gis.users.create(level=2,\n",
    "                        firstname=\"Demo\",\n",
    "                        lastname=\"Account2a\",\n",
    "                        username=\"demoaccount2a\",\n",
    "                        email=\"fake@esri.com\",\n",
    "                        password=pw)\n",
    "user"
   ]
  },
  {
   "cell_type": "code",
   "execution_count": 8,
   "metadata": {
    "slideshow": {
     "slide_type": "skip"
    }
   },
   "outputs": [
    {
     "data": {
      "text/plain": [
       "True"
      ]
     },
     "execution_count": 8,
     "metadata": {},
     "output_type": "execute_result"
    }
   ],
   "source": [
    "user.delete()"
   ]
  },
  {
   "cell_type": "markdown",
   "metadata": {
    "slideshow": {
     "slide_type": "subslide"
    }
   },
   "source": [
    "<center>\n",
    "<h2 class=\"title\"><b>Working with Roles<b/> </h2>\n",
    "</center>"
   ]
  },
  {
   "cell_type": "code",
   "execution_count": 9,
   "metadata": {
    "slideshow": {
     "slide_type": "fragment"
    }
   },
   "outputs": [
    {
     "name": "stdout",
     "output_type": "stream",
     "text": [
      "bmajor org_publisher 2\n",
      "bmajor_uc org_user 1\n",
      "bmajor_uc1 org_user 1\n",
      "normaluser org_user 2\n",
      "olearydw_idt org_admin 2\n",
      "portaladmin org_admin 2\n"
     ]
    }
   ],
   "source": [
    "users = gis.users.search()\n",
    "systemusers = ['system_publisher', 'esri_nav', \n",
    "               'esri_livingatlas', 'esri_boundaries', \n",
    "               'esri_demographics']\n",
    "for user in users:\n",
    "    if user.username not in systemusers:\n",
    "        portaluser = gis.users.get(user.username)\n",
    "        print(portaluser.username, portaluser.role, portaluser.level)"
   ]
  },
  {
   "cell_type": "markdown",
   "metadata": {
    "slideshow": {
     "slide_type": "subslide"
    }
   },
   "source": [
    "<center>\n",
    "<h3 class=\"title\"><b>Creating a Custom Role<b/> </h3>\n",
    "</center>"
   ]
  },
  {
   "cell_type": "code",
   "execution_count": 10,
   "metadata": {
    "slideshow": {
     "slide_type": "subslide"
    }
   },
   "outputs": [
    {
     "name": "stdout",
     "output_type": "stream",
     "text": [
      "[<Role name: Viewer, description: Viewer>, <Role name: ucdemo2, description: UC Demo Role 2>]\n"
     ]
    }
   ],
   "source": [
    "roles = gis.users.roles\n",
    "print(roles.all())"
   ]
  },
  {
   "cell_type": "code",
   "execution_count": 11,
   "metadata": {
    "collapsed": true,
    "slideshow": {
     "slide_type": "fragment"
    }
   },
   "outputs": [],
   "source": [
    "privs = ['portal:publisher:publishFeatures','portal:user:createGroup','portal:user:viewOrgGroups', 'portal:user:createItem', \n",
    "         'portal:user:viewOrgItems', 'portal:user:shareGroupToOrg', 'portal:user:shareToPublic', 'portal:user:shareToOrg', \n",
    "         'portal:user:shareToGroup', 'portal:user:joinGroup', 'features:user:fullEdit', 'features:user:edit']\n",
    "customrole = roles.create('ucdemo2', 'UC Demo Role 2017', privs)"
   ]
  },
  {
   "cell_type": "code",
   "execution_count": 12,
   "metadata": {
    "slideshow": {
     "slide_type": "fragment"
    }
   },
   "outputs": [
    {
     "data": {
      "text/plain": [
       "'dPiv26EgFkV59CyL'"
      ]
     },
     "execution_count": 12,
     "metadata": {},
     "output_type": "execute_result"
    }
   ],
   "source": [
    "customrole.role_id"
   ]
  },
  {
   "cell_type": "code",
   "execution_count": 13,
   "metadata": {
    "slideshow": {
     "slide_type": "subslide"
    }
   },
   "outputs": [
    {
     "name": "stdout",
     "output_type": "stream",
     "text": [
      "org_publisher\n",
      "dPiv26EgFkV59CyL\n"
     ]
    }
   ],
   "source": [
    "bmajor = gis.users.get('bmajor')\n",
    "print(bmajor.role)\n",
    "resp = bmajor.update_role(customrole)\n",
    "print(bmajor.role)"
   ]
  },
  {
   "cell_type": "markdown",
   "metadata": {
    "slideshow": {
     "slide_type": "subslide"
    }
   },
   "source": [
    "<center>\n",
    "<h3 class=\"title\"><b>Assign a Custom Role<b/> </h3>\n",
    "</center>"
   ]
  },
  {
   "cell_type": "code",
   "execution_count": 14,
   "metadata": {
    "slideshow": {
     "slide_type": "fragment"
    }
   },
   "outputs": [],
   "source": [
    "newbm = gis.users.create(username='bmajor_uc2', password='bmajor_uc123', firstname='Bill', lastname='Major', \\\n",
    "                         email='uc@esri.com', description='Bill Account for UC Level 1', role='org_viewer', level=1)"
   ]
  },
  {
   "cell_type": "code",
   "execution_count": 15,
   "metadata": {
    "slideshow": {
     "slide_type": "fragment"
    }
   },
   "outputs": [
    {
     "data": {
      "text/plain": [
       "True"
      ]
     },
     "execution_count": 15,
     "metadata": {},
     "output_type": "execute_result"
    }
   ],
   "source": [
    "newbm.update_role(customrole)"
   ]
  },
  {
   "cell_type": "code",
   "execution_count": 16,
   "metadata": {
    "slideshow": {
     "slide_type": "skip"
    }
   },
   "outputs": [
    {
     "data": {
      "text/plain": [
       "True"
      ]
     },
     "execution_count": 16,
     "metadata": {},
     "output_type": "execute_result"
    }
   ],
   "source": [
    "newbm.delete()\n",
    "#customrole.delete()"
   ]
  },
  {
   "cell_type": "markdown",
   "metadata": {
    "slideshow": {
     "slide_type": "subslide"
    }
   },
   "source": [
    "<center>\n",
    "<h2 class=\"title\"><b>Import SSL Certifcate<b/> </h2>\n",
    "</center>\n",
    "\n",
    "- Restarts Portal "
   ]
  },
  {
   "cell_type": "code",
   "execution_count": 17,
   "metadata": {
    "slideshow": {
     "slide_type": "fragment"
    }
   },
   "outputs": [],
   "source": [
    "security = gis.admin.security"
   ]
  },
  {
   "cell_type": "code",
   "execution_count": 20,
   "metadata": {
    "slideshow": {
     "slide_type": "fragment"
    }
   },
   "outputs": [],
   "source": [
    "v = security.ssl.import_certificate(alias=\"portal_cert\", \n",
    "                                    certificate=\"data/ESRIEnterpriseRoot.crt\")"
   ]
  },
  {
   "cell_type": "markdown",
   "metadata": {
    "slideshow": {
     "slide_type": "subslide"
    }
   },
   "source": [
    "<center>\n",
    "<h2 class=\"title\"><b>Portal Logs<b/> </h2>\n",
    "</center>"
   ]
  },
  {
   "cell_type": "code",
   "execution_count": 21,
   "metadata": {
    "collapsed": true,
    "slideshow": {
     "slide_type": "skip"
    }
   },
   "outputs": [],
   "source": [
    "import datetime\n",
    "import os\n",
    "import pandas as pd\n",
    "start_time = datetime.datetime.now() - datetime.timedelta(days=20)"
   ]
  },
  {
   "cell_type": "code",
   "execution_count": 24,
   "metadata": {
    "slideshow": {
     "slide_type": "fragment"
    }
   },
   "outputs": [],
   "source": [
    "logs = gis.admin.logs\n",
    "res = logs.query(start_time)"
   ]
  },
  {
   "cell_type": "code",
   "execution_count": 25,
   "metadata": {
    "slideshow": {
     "slide_type": "subslide"
    }
   },
   "outputs": [
    {
     "data": {
      "text/html": [
       "<div>\n",
       "<style>\n",
       "    .dataframe thead tr:only-child th {\n",
       "        text-align: right;\n",
       "    }\n",
       "\n",
       "    .dataframe thead th {\n",
       "        text-align: left;\n",
       "    }\n",
       "\n",
       "    .dataframe tbody tr th {\n",
       "        vertical-align: top;\n",
       "    }\n",
       "</style>\n",
       "<table border=\"1\" class=\"dataframe\">\n",
       "  <thead>\n",
       "    <tr style=\"text-align: right;\">\n",
       "      <th></th>\n",
       "      <th>code</th>\n",
       "      <th>message</th>\n",
       "      <th>type</th>\n",
       "    </tr>\n",
       "  </thead>\n",
       "  <tbody>\n",
       "    <tr>\n",
       "      <th>0</th>\n",
       "      <td>217064</td>\n",
       "      <td>The web server was found to be stopped. Re-sta...</td>\n",
       "      <td>WARNING</td>\n",
       "    </tr>\n",
       "    <tr>\n",
       "      <th>1</th>\n",
       "      <td>217060</td>\n",
       "      <td>The database server was found to be stopped. R...</td>\n",
       "      <td>WARNING</td>\n",
       "    </tr>\n",
       "    <tr>\n",
       "      <th>2</th>\n",
       "      <td>218015</td>\n",
       "      <td>Started Index Service.</td>\n",
       "      <td>WARNING</td>\n",
       "    </tr>\n",
       "    <tr>\n",
       "      <th>3</th>\n",
       "      <td>218014</td>\n",
       "      <td>Starting Index Service.</td>\n",
       "      <td>WARNING</td>\n",
       "    </tr>\n",
       "    <tr>\n",
       "      <th>4</th>\n",
       "      <td>218017</td>\n",
       "      <td>Stopped Index Service.</td>\n",
       "      <td>WARNING</td>\n",
       "    </tr>\n",
       "  </tbody>\n",
       "</table>\n",
       "</div>"
      ],
      "text/plain": [
       "     code                                            message     type\n",
       "0  217064  The web server was found to be stopped. Re-sta...  WARNING\n",
       "1  217060  The database server was found to be stopped. R...  WARNING\n",
       "2  218015                             Started Index Service.  WARNING\n",
       "3  218014                            Starting Index Service.  WARNING\n",
       "4  218017                             Stopped Index Service.  WARNING"
      ]
     },
     "execution_count": 25,
     "metadata": {},
     "output_type": "execute_result"
    }
   ],
   "source": [
    "df = pd.DataFrame(res['logMessages'])\n",
    "df[['code', 'message', 'type']].head()"
   ]
  },
  {
   "cell_type": "markdown",
   "metadata": {
    "slideshow": {
     "slide_type": "slide"
    }
   },
   "source": [
    "<center>\n",
    "<h2 class=\"title\"><b>Server Administration<b/> </h2>\n",
    "</center>"
   ]
  },
  {
   "cell_type": "code",
   "execution_count": 26,
   "metadata": {
    "slideshow": {
     "slide_type": "skip"
    }
   },
   "outputs": [
    {
     "name": "stdout",
     "output_type": "stream",
     "text": [
      "Enter password: ········\n"
     ]
    }
   ],
   "source": [
    "from arcgis.gis import GIS\n",
    "gis = GIS(\"https://python.playground.esri.com/portal\",\n",
    "         username=\"ucdemo2017\")"
   ]
  },
  {
   "cell_type": "code",
   "execution_count": 27,
   "metadata": {
    "slideshow": {
     "slide_type": "fragment"
    }
   },
   "outputs": [],
   "source": [
    "servers = gis.admin.servers"
   ]
  },
  {
   "cell_type": "markdown",
   "metadata": {
    "slideshow": {
     "slide_type": "fragment"
    }
   },
   "source": [
    "### Returning Server Lists"
   ]
  },
  {
   "cell_type": "code",
   "execution_count": 28,
   "metadata": {
    "collapsed": true,
    "slideshow": {
     "slide_type": "fragment"
    }
   },
   "outputs": [],
   "source": [
    "single_server = servers.list()[0]"
   ]
  },
  {
   "cell_type": "code",
   "execution_count": 29,
   "metadata": {
    "slideshow": {
     "slide_type": "fragment"
    }
   },
   "outputs": [
    {
     "name": "stdout",
     "output_type": "stream",
     "text": [
      "<Server at https://python.playground.esri.com/server>\n",
      "<Server at https://python-ga.playground.esri.com/server>\n",
      "<Server at https://python-ra.playground.esri.com/arcgis>\n"
     ]
    }
   ],
   "source": [
    "for server in servers.list():\n",
    "    print(server)"
   ]
  },
  {
   "cell_type": "markdown",
   "metadata": {
    "slideshow": {
     "slide_type": "subslide"
    }
   },
   "source": [
    "<center>\n",
    "<h2 class=\"title\"><b>Finding Servers by Role or Function<b/> </h2>\n",
    "</center>\n",
    "<br/>\n",
    "- Provides a way to find all servers of a specific function and/or role.\n",
    "- Allows for the specific search for server use type"
   ]
  },
  {
   "cell_type": "code",
   "execution_count": 30,
   "metadata": {
    "slideshow": {
     "slide_type": "fragment"
    }
   },
   "outputs": [
    {
     "name": "stdout",
     "output_type": "stream",
     "text": [
      "[<Server at https://python-ga.playground.esri.com/server>]\n"
     ]
    }
   ],
   "source": [
    "analytics_server = servers.get(role=\"\", function=\"GeoAnalytics\")\n",
    "print(analytics_server)"
   ]
  },
  {
   "cell_type": "code",
   "execution_count": 31,
   "metadata": {
    "slideshow": {
     "slide_type": "fragment"
    }
   },
   "outputs": [
    {
     "data": {
      "text/plain": [
       "<Server at https://python.playground.esri.com/server>"
      ]
     },
     "execution_count": 31,
     "metadata": {},
     "output_type": "execute_result"
    }
   ],
   "source": [
    "hosting_server = servers.get(role=\"HOSTING_SERVER\")[0]\n",
    "hosting_server"
   ]
  },
  {
   "cell_type": "markdown",
   "metadata": {
    "slideshow": {
     "slide_type": "slide"
    }
   },
   "source": [
    "<center>\n",
    "<h2 class=\"title\"><b>Server Status<b/> </h2>\n",
    "</center>\n",
    "<br/>\n",
    "\n",
    "- Ensuring a GIS infrastructure is stable and up is a key component of administrators daily tasks.\n",
    "- Provides a simple way to ensure all registered servers in the GIS are up."
   ]
  },
  {
   "cell_type": "code",
   "execution_count": 32,
   "metadata": {
    "slideshow": {
     "slide_type": "fragment"
    }
   },
   "outputs": [
    {
     "data": {
      "text/plain": [
       "True"
      ]
     },
     "execution_count": 32,
     "metadata": {},
     "output_type": "execute_result"
    }
   ],
   "source": [
    "servers.validate()"
   ]
  },
  {
   "cell_type": "markdown",
   "metadata": {
    "slideshow": {
     "slide_type": "slide"
    }
   },
   "source": [
    "<center>\n",
    "<h2 class=\"title\"><b>Service Management<b/> </h2>\n",
    "</center>\n",
    "<br/>\n",
    "\n",
    "- Accessed off of server\n",
    "- Focuses on the administration of services, not use\n"
   ]
  },
  {
   "cell_type": "code",
   "execution_count": 33,
   "metadata": {
    "slideshow": {
     "slide_type": "fragment"
    }
   },
   "outputs": [],
   "source": [
    "services = hosting_server.services"
   ]
  },
  {
   "cell_type": "markdown",
   "metadata": {
    "slideshow": {
     "slide_type": "fragment"
    }
   },
   "source": [
    "#### Listing Services\n",
    "\n",
    "- Server objects list service based on folders"
   ]
  },
  {
   "cell_type": "code",
   "execution_count": 34,
   "metadata": {
    "slideshow": {
     "slide_type": "fragment"
    }
   },
   "outputs": [
    {
     "data": {
      "text/plain": [
       "[<Service at https://python.playground.esri.com/server/admin/services/System/CachingControllers.GPServer>,\n",
       " <Service at https://python.playground.esri.com/server/admin/services/System/CachingTools.GPServer>,\n",
       " <Service at https://python.playground.esri.com/server/admin/services/System/CachingToolsEx.GPServer>]"
      ]
     },
     "execution_count": 34,
     "metadata": {},
     "output_type": "execute_result"
    }
   ],
   "source": [
    "services.list(folder='System')[:3]"
   ]
  },
  {
   "cell_type": "markdown",
   "metadata": {
    "slideshow": {
     "slide_type": "subslide"
    }
   },
   "source": [
    "<center>\n",
    "<h3 class=\"title\"><b>Service Adminstration<b/> </h3>\n",
    "</center>"
   ]
  },
  {
   "cell_type": "code",
   "execution_count": 35,
   "metadata": {
    "collapsed": true,
    "slideshow": {
     "slide_type": "skip"
    }
   },
   "outputs": [],
   "source": [
    "service_list = services.list()"
   ]
  },
  {
   "cell_type": "code",
   "execution_count": 36,
   "metadata": {
    "slideshow": {
     "slide_type": "fragment"
    }
   },
   "outputs": [
    {
     "data": {
      "text/plain": [
       "{'configuredState': 'STARTED', 'realTimeState': 'STARTED'}"
      ]
     },
     "execution_count": 36,
     "metadata": {},
     "output_type": "execute_result"
    }
   ],
   "source": [
    "service = service_list[0]\n",
    "service.status"
   ]
  },
  {
   "cell_type": "markdown",
   "metadata": {
    "slideshow": {
     "slide_type": "fragment"
    }
   },
   "source": [
    "- Stop a service"
   ]
  },
  {
   "cell_type": "code",
   "execution_count": 37,
   "metadata": {
    "slideshow": {
     "slide_type": "fragment"
    }
   },
   "outputs": [
    {
     "data": {
      "text/plain": [
       "{'configuredState': 'STOPPED', 'realTimeState': 'STOPPED'}"
      ]
     },
     "execution_count": 37,
     "metadata": {},
     "output_type": "execute_result"
    }
   ],
   "source": [
    "service.stop()\n",
    "service.status"
   ]
  },
  {
   "cell_type": "markdown",
   "metadata": {
    "slideshow": {
     "slide_type": "fragment"
    }
   },
   "source": [
    "- Start a service"
   ]
  },
  {
   "cell_type": "code",
   "execution_count": 38,
   "metadata": {
    "slideshow": {
     "slide_type": "fragment"
    }
   },
   "outputs": [
    {
     "data": {
      "text/plain": [
       "{'configuredState': 'STARTED', 'realTimeState': 'STARTED'}"
      ]
     },
     "execution_count": 38,
     "metadata": {},
     "output_type": "execute_result"
    }
   ],
   "source": [
    "service.start()\n",
    "service.status"
   ]
  },
  {
   "cell_type": "markdown",
   "metadata": {
    "slideshow": {
     "slide_type": "slide"
    }
   },
   "source": [
    "<center>\n",
    "<h3 class=\"title\"><b>Managing Folders<b/> </h3>\n",
    "</center>"
   ]
  },
  {
   "cell_type": "code",
   "execution_count": 39,
   "metadata": {
    "slideshow": {
     "slide_type": "fragment"
    }
   },
   "outputs": [
    {
     "name": "stdout",
     "output_type": "stream",
     "text": [
      "['Hosted', 'System', 'Utilities', '/']\n",
      "True\n",
      "['Hosted', 'System', 'THISISNEW', 'Utilities', '/']\n",
      "True\n",
      "['Hosted', 'System', 'Utilities', '/']\n"
     ]
    }
   ],
   "source": [
    "print(services.folders)\n",
    "print(services.create_folder(\"THISISNEW\"))\n",
    "print(services.folders)\n",
    "print(services.delete_folder(\"THISISNEW\"))\n",
    "print(services.folders)"
   ]
  },
  {
   "cell_type": "markdown",
   "metadata": {
    "slideshow": {
     "slide_type": "fragment"
    }
   },
   "source": [
    "#### Checking for Existence"
   ]
  },
  {
   "cell_type": "code",
   "execution_count": 40,
   "metadata": {
    "slideshow": {
     "slide_type": "fragment"
    }
   },
   "outputs": [
    {
     "data": {
      "text/plain": [
       "True"
      ]
     },
     "execution_count": 40,
     "metadata": {},
     "output_type": "execute_result"
    }
   ],
   "source": [
    "services.exists(\"System\")"
   ]
  },
  {
   "cell_type": "markdown",
   "metadata": {
    "slideshow": {
     "slide_type": "slide"
    }
   },
   "source": [
    "### Working with Logs\n",
    "\n",
    "- Trouble shoot problems\n",
    "- Track issues\n",
    "- Manage log sizes"
   ]
  },
  {
   "cell_type": "code",
   "execution_count": 41,
   "metadata": {
    "collapsed": true,
    "slideshow": {
     "slide_type": "skip"
    }
   },
   "outputs": [],
   "source": [
    "import datetime\n",
    "import pandas as pd\n",
    "now = datetime.datetime.now()\n",
    "start_time = now - datetime.timedelta(days=40)"
   ]
  },
  {
   "cell_type": "code",
   "execution_count": 42,
   "metadata": {
    "slideshow": {
     "slide_type": "fragment"
    }
   },
   "outputs": [],
   "source": [
    "logs = server.logs"
   ]
  },
  {
   "cell_type": "markdown",
   "metadata": {
    "slideshow": {
     "slide_type": "subslide"
    }
   },
   "source": [
    "### Visualizing Log Messages"
   ]
  },
  {
   "cell_type": "code",
   "execution_count": 43,
   "metadata": {
    "slideshow": {
     "slide_type": "skip"
    }
   },
   "outputs": [],
   "source": [
    "#import getpass\n",
    "#gis = GIS('http://agsapipor1.esri.com/portal',\n",
    "#           username='admin',\n",
    "#           password=getpass.getpass(),\n",
    "#           verify_cert=False)"
   ]
  },
  {
   "cell_type": "code",
   "execution_count": 44,
   "metadata": {
    "collapsed": true,
    "slideshow": {
     "slide_type": "skip"
    }
   },
   "outputs": [],
   "source": [
    "servers = gis.admin.servers.list()[0]\n",
    "logs = servers.logs"
   ]
  },
  {
   "cell_type": "code",
   "execution_count": 45,
   "metadata": {
    "slideshow": {
     "slide_type": "fragment"
    }
   },
   "outputs": [
    {
     "data": {
      "text/html": [
       "<div>\n",
       "<style>\n",
       "    .dataframe thead tr:only-child th {\n",
       "        text-align: right;\n",
       "    }\n",
       "\n",
       "    .dataframe thead th {\n",
       "        text-align: left;\n",
       "    }\n",
       "\n",
       "    .dataframe tbody tr th {\n",
       "        vertical-align: top;\n",
       "    }\n",
       "</style>\n",
       "<table border=\"1\" class=\"dataframe\">\n",
       "  <thead>\n",
       "    <tr style=\"text-align: right;\">\n",
       "      <th></th>\n",
       "      <th>code</th>\n",
       "      <th>machine</th>\n",
       "      <th>message</th>\n",
       "    </tr>\n",
       "  </thead>\n",
       "  <tbody>\n",
       "    <tr>\n",
       "      <th>0</th>\n",
       "      <td>20010</td>\n",
       "      <td>10.0.0.250</td>\n",
       "      <td>Error executing tool. CreateBuffers Job ID: j2...</td>\n",
       "    </tr>\n",
       "    <tr>\n",
       "      <th>1</th>\n",
       "      <td>500000</td>\n",
       "      <td>10.0.0.250</td>\n",
       "      <td>Table not registered [db_60vw8.hsu_a635a.Fire_...</td>\n",
       "    </tr>\n",
       "    <tr>\n",
       "      <th>2</th>\n",
       "      <td>500000</td>\n",
       "      <td>10.0.0.250</td>\n",
       "      <td>Accessing URL http://python.playground.esri.co...</td>\n",
       "    </tr>\n",
       "    <tr>\n",
       "      <th>3</th>\n",
       "      <td>9000</td>\n",
       "      <td>10.0.0.250</td>\n",
       "      <td>User 'arcgis_python' does have permission to t...</td>\n",
       "    </tr>\n",
       "    <tr>\n",
       "      <th>4</th>\n",
       "      <td>9000</td>\n",
       "      <td>10.0.0.250</td>\n",
       "      <td>Unparseable date: \"NaN\"</td>\n",
       "    </tr>\n",
       "  </tbody>\n",
       "</table>\n",
       "</div>"
      ],
      "text/plain": [
       "     code     machine                                            message\n",
       "0   20010  10.0.0.250  Error executing tool. CreateBuffers Job ID: j2...\n",
       "1  500000  10.0.0.250  Table not registered [db_60vw8.hsu_a635a.Fire_...\n",
       "2  500000  10.0.0.250  Accessing URL http://python.playground.esri.co...\n",
       "3    9000  10.0.0.250  User 'arcgis_python' does have permission to t...\n",
       "4    9000  10.0.0.250                            Unparseable date: \"NaN\""
      ]
     },
     "execution_count": 45,
     "metadata": {},
     "output_type": "execute_result"
    }
   ],
   "source": [
    "res = servers.logs.query(start_time=None)['logMessages'] # get all messages\n",
    "df = pd.DataFrame.from_records(res)\n",
    "df[['code', 'machine', 'message']].head()"
   ]
  },
  {
   "cell_type": "markdown",
   "metadata": {
    "slideshow": {
     "slide_type": "slide"
    }
   },
   "source": [
    "### Server Usage\n",
    "\n",
    "- Helps to manage system resources \n",
    "- Find high use servers and services\n"
   ]
  },
  {
   "cell_type": "code",
   "execution_count": 46,
   "metadata": {
    "slideshow": {
     "slide_type": "fragment"
    }
   },
   "outputs": [
    {
     "data": {
      "text/plain": [
       "'Total requests for the last 7 days'"
      ]
     },
     "execution_count": 46,
     "metadata": {},
     "output_type": "execute_result"
    }
   ],
   "source": [
    "report = hosting_server.usage.list()[0]\n",
    "report.properties['reportname']"
   ]
  },
  {
   "cell_type": "markdown",
   "metadata": {
    "slideshow": {
     "slide_type": "fragment"
    }
   },
   "source": [
    "#### Accessing Report Data"
   ]
  },
  {
   "cell_type": "code",
   "execution_count": 47,
   "metadata": {
    "slideshow": {
     "slide_type": "skip"
    }
   },
   "outputs": [],
   "source": [
    "import datetime\n",
    "import numpy as np\n",
    "import matplotlib.pyplot as plt\n",
    "import pandas as pd\n",
    "import matplotlib.ticker as ticker\n",
    "start_time = datetime.datetime.now() - datetime.timedelta(days=10)\n",
    "end_time = datetime.datetime.now() - datetime.timedelta(days=5)"
   ]
  },
  {
   "cell_type": "code",
   "execution_count": 48,
   "metadata": {
    "slideshow": {
     "slide_type": "skip"
    }
   },
   "outputs": [],
   "source": [
    "data = report.query()\n",
    "data_y = data['report']['report-data'][0][0]['data']\n",
    "data_x = [pd.to_datetime(datetime.datetime.fromtimestamp(d//1000)) \\\n",
    "          for d in data['report']['time-slices']]\n",
    "df = pd.DataFrame(list(zip(data_x, data_y)), columns=[\"date\", \"count\"])\n",
    "q = df['count'].isnull() # change NaN values to 0\n",
    "df.loc[q, 'count'] = 0\n",
    "df.index = df['date']\n",
    "df['count'] = df['count'] \n",
    "ax = df.plot(kind='bar', x=df['date'])\n",
    "ticklabels = ['']*len(df.index)\n",
    "ticklabels[::4] = [item.strftime('%b %d') for item in df.index[::4]]\n",
    "ax.xaxis.set_major_formatter(ticker.FixedFormatter(ticklabels))\n",
    "plt.gcf().autofmt_xdate()"
   ]
  },
  {
   "cell_type": "code",
   "execution_count": 49,
   "metadata": {
    "slideshow": {
     "slide_type": "fragment"
    }
   },
   "outputs": [
    {
     "data": {
      "image/png": "[encoded data removed]",
      "text/plain": [
       "<matplotlib.figure.Figure at 0x1e15fac8198>"
      ]
     },
     "metadata": {},
     "output_type": "display_data"
    }
   ],
   "source": [
    "plt.show()"
   ]
  },
  {
   "cell_type": "markdown",
   "metadata": {
    "slideshow": {
     "slide_type": "subslide"
    }
   },
   "source": [
    "#### Creating Quick Reports\n",
    "\n",
    "- On the fly reports \n",
    "- Supports various time frames: day, week, month, year\n",
    "- Returns server or folder information"
   ]
  },
  {
   "cell_type": "code",
   "execution_count": 57,
   "metadata": {
    "slideshow": {
     "slide_type": "fragment"
    }
   },
   "outputs": [],
   "source": [
    "data = hosting_server.usage.quick_report(since=\"LAST_WEEK\", \n",
    "                          queries=\"services/Hosted/\", \n",
    "                          metrics=\"RequestAvgResponseTime\")"
   ]
  },
  {
   "cell_type": "code",
   "execution_count": 58,
   "metadata": {
    "slideshow": {
     "slide_type": "skip"
    }
   },
   "outputs": [],
   "source": [
    "data_y = data['report']['report-data'][0][0]['data']\n",
    "data_x = [pd.to_datetime(datetime.datetime.fromtimestamp(d//1000)) \\\n",
    "          for d in data['report']['time-slices']]\n",
    "df = pd.DataFrame(list(zip(data_x, data_y)), columns=[\"date\", \"Response_Time\"])\n",
    "q = df[\"Response_Time\"].isnull() # change NaN values to 0\n",
    "df.loc[q, \"Response_Time\"] = 0\n",
    "df.index = df['date']\n",
    "df[\"Response_Time\"] = df[\"Response_Time\"] \n",
    "\n",
    "ax = df.plot(kind='bar', x=df['date'])\n",
    "ticklabels = ['']*len(df.index)\n",
    "ticklabels[::4] = [item.strftime('%b %d') for item in df.index[::4]]\n",
    "ax.xaxis.set_major_formatter(ticker.FixedFormatter(ticklabels))\n",
    "plt.gcf().autofmt_xdate()"
   ]
  },
  {
   "cell_type": "code",
   "execution_count": 59,
   "metadata": {
    "scrolled": false,
    "slideshow": {
     "slide_type": "fragment"
    }
   },
   "outputs": [
    {
     "data": {
      "image/png": "[encoded data removed]",
      "text/plain": [
       "<matplotlib.figure.Figure at 0x1e1612b0898>"
      ]
     },
     "metadata": {},
     "output_type": "display_data"
    }
   ],
   "source": [
    "plt.show()"
   ]
  },
  {
   "cell_type": "markdown",
   "metadata": {
    "slideshow": {
     "slide_type": "slide"
    }
   },
   "source": [
    "<center> <h2> Where to get it? </h2> </center>\n",
    "\n",
    "<h3>Install in ArcGIS Pro</h3>\n",
    "\n",
    "<img src=\"http://esri.github.io/arcgis-python-api/notebooks/nbimages/guide_getstarted_InstallAndSetup_03.PNG\" />"
   ]
  },
  {
   "cell_type": "markdown",
   "metadata": {
    "slideshow": {
     "slide_type": "subslide"
    }
   },
   "source": [
    "<center> <h2> Where to get it? </h2> </center>\n",
    "\n",
    "<img src=\"http://esri.github.io/arcgis-python-api/notebooks/nbimages/guide_getstarted_InstallAndSetup_01.PNG\"/>"
   ]
  },
  {
   "cell_type": "markdown",
   "metadata": {
    "slideshow": {
     "slide_type": "subslide"
    }
   },
   "source": [
    "<center> <h2> Try It Live </h2> </center>\n",
    "\n",
    "**ArcGIS Python Playground**\n",
    "\n",
    "https://notebooks.esri.com/"
   ]
  },
  {
   "cell_type": "markdown",
   "metadata": {
    "slideshow": {
     "slide_type": "slide"
    }
   },
   "source": [
    "# Questions?\n"
   ]
  },
  {
   "cell_type": "markdown",
   "metadata": {
    "slideshow": {
     "slide_type": "slide"
    }
   },
   "source": [
    "<img src=\"staticimg/SurveySlide.PNG\" alt=\"where\"/>"
   ]
  },
  {
   "cell_type": "markdown",
   "metadata": {
    "slideshow": {
     "slide_type": "slide"
    }
   },
   "source": [
    "<img src=\"staticimg/LastSlide.PNG\" alt=\"where\"/>"
   ]
  }
 ],
 "metadata": {
  "anaconda-cloud": {},
  "celltoolbar": "Slideshow",
  "kernelspec": {
   "display_name": "Python [Root]",
   "language": "python",
   "name": "Python [Root]"
  },
  "language_info": {
   "codemirror_mode": {
    "name": "ipython",
    "version": 3
   },
   "file_extension": ".py",
   "mimetype": "text/x-python",
   "name": "python",
   "nbconvert_exporter": "python",
   "pygments_lexer": "ipython3",
   "version": "3.5.2"
  }
 },
 "nbformat": 4,
 "nbformat_minor": 2
}
