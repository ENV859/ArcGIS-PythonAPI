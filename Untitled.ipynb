{
 "cells": [
  {
   "cell_type": "markdown",
   "metadata": {},
   "source": [
    "# Problem Set 4b\n",
    "Here you will mimic the steps provided in the `02-Get-Census-Data.ipynb` notebook to extract a set of features from an ArcGIS Onlne Dataset. "
   ]
  },
  {
   "cell_type": "markdown",
   "metadata": {},
   "source": [
    "1. Import the arcgis GIS object and authenticate the session using your ArcGIS Pro application.\n",
    "2. Use the API's content helper to search for feature layer data using the keywords \"EnviroAtlas Durham\"\n",
    " * This should yield one result:\n",
    "```python\n",
    " [<Item title:\"EnviroAtlas Durham NC Priority Block Groups for Child Health\" type:Feature Layer Collection owner:enviroatlas_EPA>]\n",
    "```\n",
    "3. Save this one result as a variable named `myItem`.\n",
    "4. Display all the layers associated with this item\n",
    "5. Save the first layer associated with this to a variable named `myLayer`\n",
    "6. Print the URL associated with this layer\n",
    "7. Open this url in your browser. If you get the error \"SSL required\" change the beginning of the url from \"`http://`\" to \"`https://`\""
   ]
  },
  {
   "cell_type": "code",
   "execution_count": 1,
   "metadata": {},
   "outputs": [],
   "source": [
    "from arcgis import GIS\n",
    "gis = GIS('pro')"
   ]
  },
  {
   "cell_type": "code",
   "execution_count": 22,
   "metadata": {},
   "outputs": [
    {
     "data": {
      "text/plain": [
       "[<Item title:\"EnviroAtlas Durham NC Priority Block Groups for Child Health\" type:Feature Layer Collection owner:enviroatlas_EPA>]"
      ]
     },
     "execution_count": 22,
     "metadata": {},
     "output_type": "execute_result"
    }
   ],
   "source": [
    "results = gis.content.search('EnviroAtlas Durham',\n",
    "                             item_type='Feature Layer',\n",
    "                             outside_org=True)\n",
    "results"
   ]
  },
  {
   "cell_type": "code",
   "execution_count": 53,
   "metadata": {},
   "outputs": [
    {
     "data": {
      "text/plain": [
       "[]"
      ]
     },
     "execution_count": 53,
     "metadata": {},
     "output_type": "execute_result"
    }
   ],
   "source": [
    "results = gis.content.search('owner=',\n",
    "                             item_type='Map Layer',\n",
    "                             outside_org=True)\n",
    "results"
   ]
  },
  {
   "cell_type": "code",
   "execution_count": 26,
   "metadata": {},
   "outputs": [],
   "source": [
    "#3. Save this one result to a variable named myItem\n",
    "myItem = results[0]"
   ]
  },
  {
   "cell_type": "code",
   "execution_count": 23,
   "metadata": {},
   "outputs": [
    {
     "data": {
      "text/plain": [
       "[<FeatureLayer url:\"http://services.arcgis.com/cJ9YHowT8TU7DUyn/arcgis/rest/services/EnviroAtlas_Durham_NC_Priority_Block_Groups_for_Child_Health/FeatureServer/0\">]"
      ]
     },
     "execution_count": 23,
     "metadata": {},
     "output_type": "execute_result"
    }
   ],
   "source": [
    "#4. Display all layers associated with this item\n",
    "myItem.layers"
   ]
  },
  {
   "cell_type": "code",
   "execution_count": 25,
   "metadata": {},
   "outputs": [],
   "source": [
    "#5. Save the first layer item a variable named myLayer\n",
    "myLayer = myItem.layers[0]"
   ]
  },
  {
   "cell_type": "code",
   "execution_count": 29,
   "metadata": {},
   "outputs": [
    {
     "name": "stdout",
     "output_type": "stream",
     "text": [
      "http://services.arcgis.com/cJ9YHowT8TU7DUyn/arcgis/rest/services/EnviroAtlas_Durham_NC_Priority_Block_Groups_for_Child_Health/FeatureServer/0\n"
     ]
    }
   ],
   "source": [
    "#6. Print the URL associated with this layer\n",
    "print(myLayer.url)"
   ]
  },
  {
   "cell_type": "code",
   "execution_count": 33,
   "metadata": {},
   "outputs": [],
   "source": [
    "newURL = 'https://services.arcgis.com/cJ9YHowT8TU7DUyn/arcgis/rest/services/EnviroAtlas_Durham_NC_Priority_Block_Groups_for_Child_Health/FeatureServer'"
   ]
  },
  {
   "cell_type": "code",
   "execution_count": 39,
   "metadata": {},
   "outputs": [
    {
     "ename": "ModuleNotFoundError",
     "evalue": "No module named 'arcgis.GIS'",
     "output_type": "error",
     "traceback": [
      "\u001b[1;31m---------------------------------------------------------------------------\u001b[0m",
      "\u001b[1;31mModuleNotFoundError\u001b[0m                       Traceback (most recent call last)",
      "\u001b[1;32m<ipython-input-39-c78c1b40d171>\u001b[0m in \u001b[0;36m<module>\u001b[1;34m()\u001b[0m\n\u001b[1;32m----> 1\u001b[1;33m \u001b[1;32mfrom\u001b[0m \u001b[0marcgis\u001b[0m\u001b[1;33m.\u001b[0m\u001b[0mGIS\u001b[0m \u001b[1;32mimport\u001b[0m \u001b[0mlayer\u001b[0m\u001b[1;33m\u001b[0m\u001b[0m\n\u001b[0m",
      "\u001b[1;31mModuleNotFoundError\u001b[0m: No module named 'arcgis.GIS'"
     ]
    }
   ],
   "source": []
  },
  {
   "cell_type": "code",
   "execution_count": 45,
   "metadata": {},
   "outputs": [],
   "source": [
    "#7. Query\n",
    "myFeatureSet = myLayer.query(\"DNC_BG_bgr LIKE '37063'\")"
   ]
  },
  {
   "cell_type": "code",
   "execution_count": 47,
   "metadata": {},
   "outputs": [
    {
     "data": {
      "text/plain": [
       "'.\\\\Durham.shp'"
      ]
     },
     "execution_count": 47,
     "metadata": {},
     "output_type": "execute_result"
    }
   ],
   "source": [
    "myFeatureSet.save('.',\"Durham\")"
   ]
  }
 ],
 "metadata": {
  "kernelspec": {
   "display_name": "Python 3",
   "language": "python",
   "name": "python3"
  },
  "language_info": {
   "codemirror_mode": {
    "name": "ipython",
    "version": 3
   },
   "file_extension": ".py",
   "mimetype": "text/x-python",
   "name": "python",
   "nbconvert_exporter": "python",
   "pygments_lexer": "ipython3",
   "version": "3.6.5"
  }
 },
 "nbformat": 4,
 "nbformat_minor": 2
}
