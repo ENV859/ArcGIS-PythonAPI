{
 "cells": [
  {
   "cell_type": "markdown",
   "metadata": {},
   "source": [
    "## ArcGIS API for Python Searching for an accessing content\n",
    "With our connection to AGOL via the ArcGIS Python API, we have access to all its shared content! But to access it, we to locate it and get it into our coding environment. This notebook explores the following: \n",
    "* Searching for AGOL content and handling the search results\n",
    " * In ArcGIS online\n",
    " * Using the ArcGIS Python API\n",
    "* Fetching specific AGOL resources by their resource ID\n",
    "\n",
    "#### Resources\n",
    "* Guide: https://developers.arcgis.com/python/guide/accessing-and-creating-content/\n",
    "---\n",
    "Fall 2024  \n",
    "John.Fay@duke.edu\n",
    "\n",
    "---"
   ]
  },
  {
   "cell_type": "markdown",
   "metadata": {},
   "source": [
    "## Example: Searching for Census Data\n",
    "To give context for this lesson, suppose we want to use come census tract data in our code. One route for getting the data we want is to look for it online. Here, we navigate to https://arcgis.com and search for `Census Tracts`. When I checked last, that search returned > 30,000 records! So we'd need to refine our search. If we knew the owner of the dataset, we could add `owner:` to our search. We can also filter by **item type** and even filter for **authoritative** datasets.  "
   ]
  },
  {
   "cell_type": "markdown",
   "metadata": {},
   "source": [
    "---\n",
    "###   Part 1: Searching for content via AGOL: \n",
    "_First we'll search for objects in ArcGIS Online and familiarize ourselves with various attributes with our results._\n",
    "\n",
    "1. Search [ArcGIS Online](https://arcgis.com) for <u>`\"Census Tract Boundaries\"`</u> (Include the quotes...)\n",
    "    * To filter our results for those managed by \"Esri Data and Maps\", add `owner:esri_dm` to the search string. \n",
    "    * Additionally, filter results for *Feature Layers* that are *Authoritative*\n",
    "    * Sort the results on *Date modified*\n",
    "\n",
    "\n",
    "2. Find the [link](https://www.arcgis.com/home/item.html?id=20f5d275113e4066bf311236d9dcc3d4) to view the details for the top result. Scan the information provided. \n",
    "    * Note the URL for the link, particularly the *id* returned: `20f5d275113e4066bf311236d9dcc3d4`. \n",
    "    * Note the Source type: **Feature Service**\n",
    "    * Note the Layers included in the service: **USA Census Tract Boundaries** \n",
    " \n",
    "\n",
    "3. On the right side, toward the bottom of the page, find the [URL](https://services.arcgis.com/P3ePLMYs2RVChkJx/arcgis/rest/services/USA_Census_Tracts/FeatureServer) associated with the feature service and open it in your browser. \n",
    "    * Note this page also reveals the item's ID and the one layer associated with the service.\n",
    "\n",
    " \n",
    "4. Open the [link](https://services.arcgis.com/P3ePLMYs2RVChkJx/ArcGIS/rest/services/USA_Census_Tracts/FeatureServer/0) to the `USA Census Tract Boundaries` feature layer's *REST endpoint*.\n",
    " * What attribute fields are associated with this layer? \n",
    " * How many records can be retrieved at one time from this service? \n",
    "\n",
    "\n",
    "5. At the bottom of the page, find the link associated with the [Query](https://services.arcgis.com/P3ePLMYs2RVChkJx/ArcGIS/rest/services/USA_Census_Tracts/FeatureServer/0/query) interface for this layer.\n",
    "\n",
    "\n",
    "6. In the query interface enter `STCOFIPS LIKE '37063%'` as the *Where clause*. Then scroll to the bottom and click the `Query(GET)` button. \n",
    " * How many records are returned? \n",
    " * Modify the query to return output format as `GeoJSON` and click `Query(GET)` again. \n",
    " \n",
    "_What we just did was use AGOL to find a layer, access its REST endpoint, and use the REST api to query Census tracts for Durham County, setting the output to be a GeoJSON object. We can copy these results into a text file and convert the GeoJSON to a feature class using ArcGIS Pro's [JSON To Features](https://pro.arcgis.com/en/pro-app/tool-reference/conversion/json-to-features.htm) tool or through Python pakages like Fiona or Geopandas_\n",
    "\n",
    "---"
   ]
  },
  {
   "cell_type": "markdown",
   "metadata": {},
   "source": [
    "### Part 2: Working with content via the ArcGIS Python API\n",
    "The ArcGIS Python APIs [GIS module](https://developers.arcgis.com/python/guide/the-gis-module/) allows us to execute the same process above, but from within our coding environment instead of our web browser. Here we explore how that's done, using the opportunity to better understand the structure and working of this powerful API.  \n",
    "\n",
    "#### Step 1. Importing the API's GIS module\n",
    "To access the API, we need to import it. We aren't accessing any 'premium' content here, so we can authenticate \"anonymously\":"
   ]
  },
  {
   "cell_type": "code",
   "execution_count": null,
   "metadata": {},
   "outputs": [],
   "source": [
    "#Import the GIS object and authenticate using your ArcGIS Pro credentials\n",
    "from arcgis import GIS\n",
    "gis = GIS('home')"
   ]
  },
  {
   "cell_type": "markdown",
   "metadata": {},
   "source": [
    "#### Step 2. Use the GIS module's [Content Manager](https://developers.arcgis.com/python/api-reference/arcgis.gis.toc.html#contentmanager) to search AGOL\n",
    "Instead of clicking on web links in our browser, we'll use one of the helper objects access via the GIS module, namely the [Content Manager](https://developers.arcgis.com/python/api-reference/arcgis.gis.toc.html#contentmanager), to execute our search. This is done by passing our search terms and our item type filters to the `gis.content.search()` command. ([link to help](https://developers.arcgis.com/python/api-reference/arcgis.gis.toc.html#arcgis.gis.ContentManager.search))\n",
    "\n",
    "The code below searches for all \"Census Tracts\" items and reveals how many items are returned. Here we cap it at 1000 items. We could easily increase the cap, but you get the idea. The `outside_org=True` is not really necessary here as we are using an anonymous login to the GIS object. However, if we signed into, say, our dukeuniv.maps.arcgis.com account when authenticating the GIS object, we'd need the `outside_org = True` statement to extend our search to content not created by fellow Dukies. "
   ]
  },
  {
   "cell_type": "code",
   "execution_count": null,
   "metadata": {},
   "outputs": [],
   "source": [
    "#Use the API's content' helper to search for feature layers with keyword Census and owner is \"esri_dm\"\n",
    "results = gis.content.search(query='\"USA Census Tract Boundaries\"')\n",
    "#Show the list of results returned\n",
    "results"
   ]
  },
  {
   "cell_type": "markdown",
   "metadata": {},
   "source": [
    "_No results?? What happened??_\n",
    "\n",
    "We have to modify our search to (1) explore records outside of Duke and (2) return more than the default of 10 records.\n",
    "* Run the code first with the `max_items` option commented, then with it uncommented. "
   ]
  },
  {
   "cell_type": "code",
   "execution_count": null,
   "metadata": {},
   "outputs": [],
   "source": [
    "#Use the API's content' helper to search for feature layers with keyword Census and owner is \"esri_dm\"\n",
    "results = gis.content.search(query='\"USA Census Tract Boundaries\"',\n",
    "                             outside_org=True,\n",
    "                             #max_items=1000\n",
    "                            )\n",
    "                            \n",
    "#Show the number of results returned\n",
    "len(results)"
   ]
  },
  {
   "cell_type": "markdown",
   "metadata": {},
   "source": [
    "Now we'll amend the query to limit our results just to Census Tract *feature layers* that are *owned by \"esri_dm\"*. \n",
    "* Alter the code cell below filling in the same query string we used before for the `query=` option.\n",
    "* Next, specify the item_type to be a `Feature Layer`. "
   ]
  },
  {
   "cell_type": "code",
   "execution_count": null,
   "metadata": {},
   "outputs": [],
   "source": [
    "#Use the API's content' helper to search for feature layers with keyword Census and owner is \"esri_dm\"\n",
    "results = gis.content.search(query='\"USA Census Tract Boundaries\" owner:esri_dm contentstatus:public_authoritative',\n",
    "                             item_type='Feature Layer',\n",
    "                             outside_org=True,\n",
    "                             sort_field='modified'\n",
    "                            )\n",
    "#Show the complete list of results returned\n",
    "results"
   ]
  },
  {
   "cell_type": "markdown",
   "metadata": {},
   "source": [
    "Just the one item returned - same as when we searched via the Web! Phew...\n",
    "\n",
    "``` ► More info and examples on searching:``` https://developers.arcgis.com/python/guide/accessing-and-creating-content/\n",
    "\n",
    "---\n",
    " "
   ]
  },
  {
   "cell_type": "markdown",
   "metadata": {},
   "source": [
    "### Step 3. Exploring the item(s) returned.\n",
    "Just as we did with our browser-based searched results, we'll drill into the item obtained through our search.\n",
    "* First, we'll extract the one item as its own variable - `tractsItem` - and then examine that object various ways..."
   ]
  },
  {
   "cell_type": "code",
   "execution_count": null,
   "metadata": {},
   "outputs": [],
   "source": [
    "#Extract the one returned item in the list to the \"tractsItem\" variable\n",
    "tractsItem = results[0]"
   ]
  },
  {
   "cell_type": "code",
   "execution_count": null,
   "metadata": {},
   "outputs": [],
   "source": [
    "#Reveal the Python data type of this object\n",
    "type(tractsItem)"
   ]
  },
  {
   "cell_type": "code",
   "execution_count": null,
   "metadata": {},
   "outputs": [],
   "source": [
    "#Reveal the arcgis type of this object: A feature service\n",
    "tractsItem.type"
   ]
  },
  {
   "cell_type": "code",
   "execution_count": null,
   "metadata": {},
   "outputs": [],
   "source": [
    "#We can display the formatted AGOL info on that item:\n",
    "tractsItem"
   ]
  },
  {
   "cell_type": "code",
   "execution_count": null,
   "metadata": {},
   "outputs": [],
   "source": [
    "#Show help documentation on the \"arcgis.gis.Item\" object\n",
    "tractsItem?"
   ]
  },
  {
   "cell_type": "markdown",
   "metadata": {},
   "source": [
    "Or, more detailed documentation on ArcGIS Item object is here:<br>\n",
    "→ https://developers.arcgis.com/python/api-reference/arcgis.gis.toc.html#item\n",
    "\n",
    "* Open this link and view the functions associated with the object. \n",
    " * What does the `content_status` function reveal? \n",
    " * The `id` function? \n",
    " * The `download` function??\n",
    "_Note that not all these functions will work on this item. Some of them are for modifying the actual feature layer hosted on AGOL, which we don't have privileges to do._ \n",
    "\n",
    "\n",
    "* Next, reveal the `id` associated with the item -- and compare that to the one you found by seaching AGOL in your browser? "
   ]
  },
  {
   "cell_type": "code",
   "execution_count": null,
   "metadata": {},
   "outputs": [],
   "source": [
    "#Reveal the layers associated with the item\n",
    "tractsItem.layers"
   ]
  },
  {
   "cell_type": "code",
   "execution_count": null,
   "metadata": {},
   "outputs": [],
   "source": [
    "#Reveal the id associated with this item\n",
    "tractsItem.id"
   ]
  },
  {
   "cell_type": "markdown",
   "metadata": {},
   "source": [
    "We'll dig deeper into how to work with these items in a subsequent workbook. For now, let's return to how to fetch data into our coding environment, but with more direct methods."
   ]
  },
  {
   "cell_type": "markdown",
   "metadata": {},
   "source": [
    "---\n",
    "###  Fetching an AGOL dataset by its item ID\n",
    "When we searched for our census data via ArcGIS Online in a web browser, we noted the unique ID contained in [the item's resource page](https://www.arcgis.com/home/item.html?id=db3f9c8728dd44e4ad455e0c27a85eea): `db3f9c8728dd44e4ad455e0c27a85eea`. \n",
    "\n",
    "You may have also noticed that the item's ID is listed in the item's [ESRI REST endpoint page](https://services.arcgis.com/P3ePLMYs2RVChkJx/arcgis/rest/services/USA_Census_Tract_Areas_analysis_trim/FeatureServer).\n",
    "\n",
    "And lastly, we can extract that number after we've accessed via ArcGIS Python search methods shown above. \n",
    "\n",
    "These item IDs are useful to know because **we can use that to access the item directly**, i.e., without having to search for it. "
   ]
  },
  {
   "cell_type": "code",
   "execution_count": null,
   "metadata": {},
   "outputs": [],
   "source": [
    "#Extract the Census tracts layer directly, via its ID\n",
    "other_tractsItem = gis.content.get('20f5d275113e4066bf311236d9dcc3d4')\n",
    "other_tractsItem"
   ]
  },
  {
   "cell_type": "markdown",
   "metadata": {},
   "source": [
    "## Summary\n",
    "Accessing content begins specifying the resource that you want to access. You can do this a number of ways: \n",
    "* Searching for the resource in ArcGIS Online and recording its item ID\n",
    "* Searching for the resource using the ArcGIS Python API\n",
    "* Directly from its feature ID, if known"
   ]
  }
 ],
 "metadata": {
  "kernelspec": {
   "display_name": "Python 3 (ipykernel)",
   "language": "python",
   "name": "python3"
  },
  "language_info": {
   "codemirror_mode": {
    "name": "ipython",
    "version": 3
   },
   "file_extension": ".py",
   "mimetype": "text/x-python",
   "name": "python",
   "nbconvert_exporter": "python",
   "pygments_lexer": "ipython3",
   "version": "3.11.8"
  }
 },
 "nbformat": 4,
 "nbformat_minor": 4
}
