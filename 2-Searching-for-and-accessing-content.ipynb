{
 "cells": [
  {
   "cell_type": "markdown",
   "metadata": {},
   "source": [
    "## Searching for an accessing content\n",
    "With our connection to AGOL via the ArcGIS Python API we have access to all its shared content! But to access it, we need a means to locate it and get it into our coding environment. This notebook explores the following: \n",
    "* Fetching specific AGOL resources by their resource ID\n",
    "* Fetching specific AGOL resource by their REST endpoint URL\n",
    "* Searching for AGOL content and handling the search results\n",
    "\n",
    "#### Resources\n",
    "* Guide: https://developers.arcgis.com/python/guide/accessing-and-creating-content/"
   ]
  },
  {
   "cell_type": "markdown",
   "metadata": {},
   "source": [
    "#### Example: Searching for Census Data\n",
    "To give context for this lesson, suppose we want to use come census tract data in our code. One route for getting the data we want is to look for it online. Here, we navigate to https://arcgis.com and search for `Census Tracts`. When I checked last, that search returned > 30,000 records! So we'd need to refine our search. If we knew the owner of the dataset, we could add `owner:` to our search. We can also filter by **item type** and even filter for **authoritative** datasets.  "
   ]
  },
  {
   "cell_type": "markdown",
   "metadata": {},
   "source": [
    "---\n",
    "###   Part 1: Searching for content via AGOL (*review*): \n",
    "_First we'll search for objects in ArcGIS Online and familiarize ourselves with various attributes with our results._\n",
    "1. Search [ArcGIS Online](https://arcgis.com) for <u>`Census Tracts Areas`</u> owned by <u>`esri_dm`</u>, filtering results for <u>feature layers</u> only.\n",
    " * The final search term should be: `census tract areas owner:esri_dm type:feature`\n",
    "\n",
    "\n",
    "2. Open the [link](https://www.arcgis.com/home/item.html?id=db3f9c8728dd44e4ad455e0c27a85eea) to the one result.\n",
    " * Note the URL for the link, particularly the *id* returned: `db3f9c8728dd44e4ad455e0c27a85eea`\n",
    " \n",
    " \n",
    "3. Scroll to the bottom of the page. On the right side, find the [URL](https://services.arcgis.com/P3ePLMYs2RVChkJx/arcgis/rest/services/USA_Census_Tract_Areas_analysis_trim/FeatureServer) associated with the feature layer and open it in your browser. \n",
    " * Note this page also reveals the item's ID. \n",
    " * This page shows that the feature layer service serves just the one layer: `tracts_trim`.\n",
    " \n",
    " \n",
    "4. Open the [link](https://services.arcgis.com/P3ePLMYs2RVChkJx/ArcGIS/rest/services/USA_Census_Tract_Areas_analysis_trim/FeatureServer/0) to the `tracts_trim` feature layer's *REST endpoint*.\n",
    " * What attributes are associated with this layer? \n",
    " * How many records can be retrieved at one time from this service? \n",
    "\n",
    "\n",
    "5. At the bottom of the page, find the link associated with the [Query](https://services.arcgis.com/P3ePLMYs2RVChkJx/ArcGIS/rest/services/USA_Census_Tract_Areas_analysis_trim/FeatureServer/0/query) interface for this layer.\n",
    "\n",
    "\n",
    "6. In the query interface enter `FIPS LIKE '37063%'` as the *Where clause*. Then scroll to the bottom and click the `Query(GET)` button. \n",
    " * How many records are returned? \n",
    " * Modify the query to return output format as `GeoJSON` and click `Query(GET)` again. \n",
    " \n",
    "_What we just did was use AGOL to find a layer, access its REST endpoint, and use the REST api to query Census tracts for Durham County, setting the output to be a GeoJSON object. We can copy these results into a text file and convert the GeoJSON to a feature class using ArcGIS Pro's [JSON To Features](https://pro.arcgis.com/en/pro-app/tool-reference/conversion/json-to-features.htm) tool or through Python pakages like Fiona or Geopandas (more on that later...)_\n",
    "\n",
    "---"
   ]
  },
  {
   "cell_type": "markdown",
   "metadata": {},
   "source": [
    "### Part 2: Working with content via the ArcGIS Python API\n",
    "The ArcGIS Python APIs [GIS module](https://developers.arcgis.com/python/guide/the-gis-module/) allows us to execute the same process above, but from within our coding environment instead of our web browser. Here we explore how that's done, using the opportunity to better understand the structure and working of this powerful API.  \n",
    "\n",
    "### Step 1. Importing the API's GIS module\n",
    "To access the API, we need to import it. We aren't accessing any 'premium' content here, so we can authenticate \"anonymously\":"
   ]
  },
  {
   "cell_type": "code",
   "execution_count": 3,
   "metadata": {},
   "outputs": [],
   "source": [
    "#Import the GIS object and authenticate using your ArcGIS Pro credentials\n",
    "from arcgis import GIS\n",
    "gis = GIS('home')"
   ]
  },
  {
   "cell_type": "markdown",
   "metadata": {},
   "source": [
    "### Step 2. Use the GIS module's [Content Manager](https://developers.arcgis.com/python/api-reference/arcgis.gis.toc.html#contentmanager) to search AGOL\n",
    "Instead of clicking on web links in our browser, we'll use one of the helper objects access via the GIS module, namely the [Content Manager](https://developers.arcgis.com/python/api-reference/arcgis.gis.toc.html#contentmanager), to execute our search. This is done by passing our search terms and our item type filters to the `gis.content.search()` command. ([link to help](https://developers.arcgis.com/python/api-reference/arcgis.gis.toc.html#arcgis.gis.ContentManager.search))\n",
    "\n",
    "The code below searches for all \"Census Tracts\" items and reveals how many items are returned. Here we cap it at 1000 items. We could easily increase the cap, but you get the idea. The `outside_org=True` is not really necessary here as we are using an anonymous login to the GIS object. However, if we signed into, say, our dukeuniv.maps.arcgis.com account when authenticating the GIS object, we'd need the `outside_org = True` statement to extend our search to content not created by fellow Dukies. "
   ]
  },
  {
   "cell_type": "code",
   "execution_count": 4,
   "metadata": {},
   "outputs": [
    {
     "data": {
      "text/plain": [
       "2"
      ]
     },
     "execution_count": 4,
     "metadata": {},
     "output_type": "execute_result"
    }
   ],
   "source": [
    "#Use the API's content' helper to search for feature layers with keyword Census and owner is \"esri_dm\"\n",
    "results = gis.content.search(query='Census Tracts Areas')\n",
    "#Show the list of results returned\n",
    "results"
   ]
  },
  {
   "cell_type": "markdown",
   "metadata": {},
   "source": [
    "_Just two results?? What happened??_\n",
    "\n",
    "We have to modify our search to (1) explore records outside of Duke and (2) return more than the default of 10 records.\n",
    "* Run the code first with the `max_items` option commented, then with it uncommented. "
   ]
  },
  {
   "cell_type": "code",
   "execution_count": 8,
   "metadata": {},
   "outputs": [
    {
     "data": {
      "text/plain": [
       "1000"
      ]
     },
     "execution_count": 8,
     "metadata": {},
     "output_type": "execute_result"
    }
   ],
   "source": [
    "#Use the API's content' helper to search for feature layers with keyword Census and owner is \"esri_dm\"\n",
    "results = gis.content.search(query='Census Tracts Areas',\n",
    "                             outside_org=True,\n",
    "                             #max_items=1000)\n",
    "                            \n",
    "#Show the number of results returned\n",
    "len(results)"
   ]
  },
  {
   "cell_type": "markdown",
   "metadata": {},
   "source": [
    "Now we'll amend the query to limit our results just to Census Tract *feature layers* that are *owned by \"esri_dm\"*. \n",
    "* Alter the code cell below filling in the same query string we used before for the `query=` option.\n",
    "* Next, specify the item_type to be a `Feature Layer`. "
   ]
  },
  {
   "cell_type": "code",
   "execution_count": 9,
   "metadata": {},
   "outputs": [
    {
     "data": {
      "text/plain": [
       "[<Item title:\"USA Census Tract Areas\" type:Feature Layer Collection owner:esri_dm>]"
      ]
     },
     "execution_count": 9,
     "metadata": {},
     "output_type": "execute_result"
    }
   ],
   "source": [
    "#Use the API's content' helper to search for feature layers with keyword Census and owner is \"esri_dm\"\n",
    "results = gis.content.search(query='Census Tracts Areas owner:esri_dm',\n",
    "                             item_type='Feature Layer',\n",
    "                             outside_org=True)\n",
    "#Show the complete list of results returned\n",
    "results"
   ]
  },
  {
   "cell_type": "markdown",
   "metadata": {},
   "source": [
    "Just the one item returned - same as when we searched via the Web! Phew...\n",
    "\n",
    "``` ► More info and examples on searching:``` https://developers.arcgis.com/python/guide/accessing-and-creating-content/\n",
    "\n",
    "---\n",
    " "
   ]
  },
  {
   "cell_type": "markdown",
   "metadata": {},
   "source": [
    "### Step 3. Exploring the item(s) returned.\n",
    "Just as we did with our browser-based searched results, we'll drill into the item obtained through our search.\n",
    "* First, we'll extract the one item as its own variable - `tractsItem` - and then examine that object various ways..."
   ]
  },
  {
   "cell_type": "code",
   "execution_count": 12,
   "metadata": {},
   "outputs": [],
   "source": [
    "#Extract the one returned item in the list to the \"tractsItem\" variable\n",
    "tractsItem = results[0]"
   ]
  },
  {
   "cell_type": "code",
   "execution_count": 13,
   "metadata": {},
   "outputs": [
    {
     "data": {
      "text/plain": [
       "arcgis.gis.Item"
      ]
     },
     "execution_count": 13,
     "metadata": {},
     "output_type": "execute_result"
    }
   ],
   "source": [
    "#Reveal the Python data type of this object\n",
    "type(tractsItem)"
   ]
  },
  {
   "cell_type": "code",
   "execution_count": null,
   "metadata": {},
   "outputs": [],
   "source": [
    "#Reveal the arcgis type of this object: A feature service\n",
    "tractsItem.type"
   ]
  },
  {
   "cell_type": "code",
   "execution_count": 14,
   "metadata": {},
   "outputs": [
    {
     "data": {
      "text/html": [
       "<div class=\"item_container\" style=\"height: auto; overflow: hidden; border: 1px solid #cfcfcf; border-radius: 2px; background: #f6fafa; line-height: 1.21429em; padding: 10px;\">\n",
       "                    <div class=\"item_left\" style=\"width: 210px; float: left;\">\n",
       "                       <a href='https://dukeuniv.maps.arcgis.com//home/item.html?id=db3f9c8728dd44e4ad455e0c27a85eea' target='_blank'>\n",
       "                        <img src='data:image/png;base64,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' width='200' height='133' class=\"itemThumbnail\">\n",
       "                       </a>\n",
       "                    </div>\n",
       "\n",
       "                    <div class=\"item_right\"     style=\"float: none; width: auto; overflow: hidden;\">\n",
       "                        <a href='https://dukeuniv.maps.arcgis.com//home/item.html?id=db3f9c8728dd44e4ad455e0c27a85eea' target='_blank'><b>USA Census Tract Areas</b>\n",
       "                        </a>\n",
       "                        <br/>U.S. Census Tracts provides the boundaries and 2010 U.S. Census demographic information for the Census tracts of the United States. The boundaries are consistent with the county, state, and block group datasets.<img src='https://dukeuniv.maps.arcgis.com//home/js/jsapi/esri/css/images/item_type_icons/featureshosted16.png' style=\"vertical-align:middle;\">Feature Layer Collection by esri_dm\n",
       "                        <br/>Last Modified: February 24, 2020\n",
       "                        <br/>0 comments, 263,180 views\n",
       "                    </div>\n",
       "                </div>\n",
       "                "
      ],
      "text/plain": [
       "<Item title:\"USA Census Tract Areas\" type:Feature Layer Collection owner:esri_dm>"
      ]
     },
     "execution_count": 14,
     "metadata": {},
     "output_type": "execute_result"
    }
   ],
   "source": [
    "#We can display the formatted AGOL info on that item:\n",
    "tractsItem"
   ]
  },
  {
   "cell_type": "code",
   "execution_count": 16,
   "metadata": {},
   "outputs": [],
   "source": [
    "#Show help documentation on the \"arcgis.gis.Item\" object\n",
    "tractsItem?"
   ]
  },
  {
   "cell_type": "markdown",
   "metadata": {},
   "source": [
    "Or, more detailed documentation on ArcGIS Item object is here:<br>\n",
    "→ https://developers.arcgis.com/python/api-reference/arcgis.gis.toc.html#item\n",
    "\n",
    "* Open this link and view the functions associated with the object. \n",
    " * What does the `content_status` function reveal? \n",
    " * The `id` function? \n",
    " * The `download` function??\n",
    "_Note that not all these functions will work on this item. Some of them are for modifying the actual feature layer hosted on AGOL, which we don't have privileges to do._ \n",
    "\n",
    "\n",
    "* Next, reveal the `id` associated with the item -- and compare that to the one you found by seaching AGOL in your browser? "
   ]
  },
  {
   "cell_type": "code",
   "execution_count": 17,
   "metadata": {},
   "outputs": [
    {
     "data": {
      "text/plain": [
       "'db3f9c8728dd44e4ad455e0c27a85eea'"
      ]
     },
     "execution_count": 17,
     "metadata": {},
     "output_type": "execute_result"
    }
   ],
   "source": [
    "#Reveal the id associated with this item\n",
    "tractsItem.id"
   ]
  },
  {
   "cell_type": "markdown",
   "metadata": {},
   "source": [
    "---\n",
    "###  **TIP**: Fetching an AGOL dataset by its item ID\n",
    "A feature layer's item ID is useful to know because we can use that to access the item directly, i.e., without having to search for it. "
   ]
  },
  {
   "cell_type": "code",
   "execution_count": null,
   "metadata": {},
   "outputs": [],
   "source": [
    "#Extract the Census tracts layer directly, via its ID\n",
    "other_tractsItem = gis.content.get('db3f9c8728dd44e4ad455e0c27a85eea')\n",
    "other_tractsItem"
   ]
  },
  {
   "cell_type": "markdown",
   "metadata": {},
   "source": [
    "---\n",
    "\n",
    "### Step 4. Accessing layer(s) associated with the selected item. \n",
    "In our browser-based search, we continued our exploration of the search result by exploring the REST endpoint of the Feature Layer service. This endpoint address is revealed using the item's `url` function. From here, we could just open the returned link in our browser to list and access the specific feature layers and then query them to return GeoJSON objects..."
   ]
  }
 ],
 "metadata": {
  "kernelspec": {
   "display_name": "Python 3",
   "language": "python",
   "name": "python3"
  },
  "language_info": {
   "codemirror_mode": {
    "name": "ipython",
    "version": 3
   },
   "file_extension": ".py",
   "mimetype": "text/x-python",
   "name": "python",
   "nbconvert_exporter": "python",
   "pygments_lexer": "ipython3",
   "version": "3.6.10"
  }
 },
 "nbformat": 4,
 "nbformat_minor": 4
}
