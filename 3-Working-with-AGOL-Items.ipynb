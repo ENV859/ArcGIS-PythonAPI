{
 "cells": [
  {
   "cell_type": "markdown",
   "metadata": {},
   "source": [
    "# Working with AGOL items with the ArcGIS Python API\n",
    "Now that we've covered how to connect to AGOL and find specific datasets, we'll now examine how we access these data as various programming objects and what we can do with those object. \n",
    "\n",
    "We'll start where the last notebooks left of: working with the [Census Tract data](db3f9c8728dd44e4ad455e0c27a85eea) (item ID = `db3f9c8728dd44e4ad455e0c27a85eea`. \n",
    "\n",
    "#### Resources:\n",
    "* https://developers.arcgis.com/python/guide/working-with-feature-layers-and-features/"
   ]
  },
  {
   "cell_type": "markdown",
   "metadata": {},
   "source": [
    "### Step 1. Connecting to AGOL and fetching the data item"
   ]
  },
  {
   "cell_type": "code",
   "execution_count": null,
   "metadata": {},
   "outputs": [],
   "source": [
    "#Import the GIS object and connect (this time anonymously)\n",
    "from arcgis import GIS\n",
    "gis = GIS()"
   ]
  },
  {
   "cell_type": "code",
   "execution_count": null,
   "metadata": {},
   "outputs": [],
   "source": [
    "#Fetch the census tract data from its item ID\n",
    "tractsItem = gis.content.get('20f5d275113e4066bf311236d9dcc3d4')"
   ]
  },
  {
   "cell_type": "code",
   "execution_count": null,
   "metadata": {},
   "outputs": [],
   "source": [
    "#Display the item\n",
    "tractsItem"
   ]
  },
  {
   "cell_type": "code",
   "execution_count": null,
   "metadata": {},
   "outputs": [],
   "source": [
    "#Reveal the data type\n",
    "type(tractsItem)"
   ]
  },
  {
   "cell_type": "code",
   "execution_count": null,
   "metadata": {},
   "outputs": [],
   "source": [
    "#Reveal the the type of Item\n",
    "tractsItem.type"
   ]
  },
  {
   "cell_type": "markdown",
   "metadata": {},
   "source": [
    "---\n",
    "►  ***Knowledge check*** What is the item type for the item with the ID `427c34604a76466ba001fbc80817082a`"
   ]
  },
  {
   "cell_type": "code",
   "execution_count": null,
   "metadata": {},
   "outputs": [],
   "source": [
    "#Show the type of item 427c34604a76466ba001fbc80817082a\n"
   ]
  },
  {
   "cell_type": "markdown",
   "metadata": {},
   "source": [
    "### Step 2. Exploring the item returned\n",
    "The result we obtained is a generic AGOL \"Item\" ([Reference](https://developers.arcgis.com/python/api-reference/arcgis.gis.toc.html#item)). The item we retrieved happens to represent a **Feature Service** item (as seen above), and as such it has defined properties and methods that we can access programatically. \n",
    "\n",
    "To see what these are, we can retrieve the API reference on the Feature Layer object:<br>\n",
    "https://developers.arcgis.com/python/api-reference/arcgis.features.toc.html#featurelayer\n",
    "\n",
    "What's important to understand here is the nestedness of objects served on AGOL. And this can be seen by accessing our object's REST endpoint:"
   ]
  },
  {
   "cell_type": "code",
   "execution_count": null,
   "metadata": {},
   "outputs": [],
   "source": [
    "#Show the URL of the feature server's REST endpoint\n",
    "print(tractsItem.url)"
   ]
  },
  {
   "cell_type": "markdown",
   "metadata": {},
   "source": [
    "Click on the above link to access its REST endpoint. \n",
    "\n",
    "There you see indeed that it is a Feature Server. You also can see what **Feature Layers** are contained in this feature service:\n",
    "\n",
    ">**Layers:**\n",
    ">* [USA Census Tract Boundaries ](https://services.arcgis.com/P3ePLMYs2RVChkJx/ArcGIS/rest/services/USA_Census_Tracts/FeatureServer/0) (0)"
   ]
  },
  {
   "cell_type": "markdown",
   "metadata": {},
   "source": [
    "This indicates that we have just one feature layer associated with the feature service. We can reveal this via the ArcGIS Python API via the Feature Layers `layers` property:"
   ]
  },
  {
   "cell_type": "code",
   "execution_count": null,
   "metadata": {},
   "outputs": [],
   "source": [
    "#Extract the layer(s) included with this feature service\n",
    "tractLayers = tractsItem.layers\n",
    "tractLayers"
   ]
  },
  {
   "cell_type": "markdown",
   "metadata": {},
   "source": [
    "This returns a list with just one layer in it -- just as we found in the browser based exploration. Now we extract that layer into its own coding object and reveal the data type of this object. "
   ]
  },
  {
   "cell_type": "code",
   "execution_count": null,
   "metadata": {},
   "outputs": [],
   "source": [
    "#Pull the one layer item associated with the service to a new variable\n",
    "tractsLayer = tractLayers[0]\n",
    "type(tractsLayer)"
   ]
  },
  {
   "cell_type": "markdown",
   "metadata": {},
   "source": [
    "We see this object is something called a **\"FeatureLayer\"**. We can explore the help on this object to see just what we can do with this kind of thing. Note also, however, the *FeatureLayer* object is a subset of the *Layer* object, and thus some of the operations of the Layer object will apply to the FeatureLayer object as well. So, we'd want to investigate the documentation on that object too. (In code speak, this is called *inheritance*: FeatureLayers inherit properies and methods from the Layer object...)\n",
    "\n",
    "→ More info on the ArcGIS `layer` object: https://developers.arcgis.com/python/latest/api-reference/arcgis.gis.toc.html#layer<br>\n",
    "→ More info on the ArcGIS `FeatureLayer` object: https://developers.arcgis.com/python/latest/api-reference/arcgis.features.toc.html#featurelayer"
   ]
  },
  {
   "cell_type": "markdown",
   "metadata": {},
   "source": [
    "#### Mapping\n",
    "The ArcGIS Python API has some nice mapping capability. Detailed information is at the link below, but a quick example goes a long way.\n",
    "* https://developers.arcgis.com/python/guide/using-the-map-widget/"
   ]
  },
  {
   "cell_type": "code",
   "execution_count": null,
   "metadata": {},
   "outputs": [],
   "source": [
    "#Map the feature layer\n",
    "m = gis.map('Durham, NC') #Create the map object, centered on Durham, NC\n",
    "m.add_layer(tractsLayer)  #Adds the census tracts layer to the map\n",
    "m                         #Displays the map"
   ]
  },
  {
   "cell_type": "code",
   "execution_count": null,
   "metadata": {},
   "outputs": [],
   "source": [
    "#Map just Durham records and color by a field value\n",
    "map2 = gis.map('Durham County, NC') #Create the map object, centered on Durham, NC\n",
    "map2.add_layer(tractsLayer,{\"definition_expression\":\"STCOFIPS = '37063'\", #Filter records for just Durham \n",
    "                            \"renderer\":\"ClassedColorRenderer\",            #Create a color renderer object\n",
    "                            \"field_name\":\"POPULATION_2020\",               #Color based on the POPULATION field values\n",
    "                            \"opacity\":0.7                                 #Lighten the opacity\n",
    "                         })  \n",
    "map2"
   ]
  },
  {
   "cell_type": "markdown",
   "metadata": {},
   "source": [
    "---\n",
    "\n",
    "### Step 5. Explore properties of the FeatureLayer object\n",
    "The [`properties`](https://esri.github.io/arcgis-python-api/apidoc/html/arcgis.features.toc.html#arcgis.features.FeatureLayer.properties) function of the FeatureLayers object returns a dictionary of properties. \n",
    "* Print the entire `properties` object to expose all the properties..."
   ]
  },
  {
   "cell_type": "code",
   "execution_count": null,
   "metadata": {},
   "outputs": [],
   "source": [
    "#Reveal all properties of the feature layer\n",
    "tractsLayer.properties"
   ]
  },
  {
   "cell_type": "markdown",
   "metadata": {},
   "source": [
    "* Print specific properties. What is the `service item ID` of our feature layer? Its `name`? Its `capabilities`? "
   ]
  },
  {
   "cell_type": "code",
   "execution_count": null,
   "metadata": {},
   "outputs": [],
   "source": [
    "#Report the tractsLayer \"itemID\", \"name\", and \"capabilities\"\n",
    "print(\"Service item ID:\", tractsLayer.properties.serviceItemId)\n",
    "print(\"Name:\",tractsLayer.properties.name)\n",
    "print(\"Capabilities\",tractsLayer.properties.capabilities)"
   ]
  },
  {
   "cell_type": "markdown",
   "metadata": {},
   "source": [
    "* The `fields` property returns another dictionary. Save that to a new variable then iterate through each field and print the field's name"
   ]
  },
  {
   "cell_type": "code",
   "execution_count": null,
   "metadata": {},
   "outputs": [],
   "source": [
    "#Iterate through all fields and report the field's name\n",
    "for fld in tractsLayer.properties.fields:\n",
    "    print (fld.name, end=',')"
   ]
  },
  {
   "cell_type": "code",
   "execution_count": null,
   "metadata": {},
   "outputs": [],
   "source": [
    "#Same as above, but using \"list comprehension\"\n",
    "print([fld.name for fld in tractsLayer.properties.fields])"
   ]
  },
  {
   "cell_type": "markdown",
   "metadata": {},
   "source": [
    "### Step 6. Interact with our Feature Layer\n",
    "Moving beyond just the properties, we can apply some of the methods associated with the feature layer. Most methods are for updating data, which we can't do, but we can list unique values and also subset records via a query. \n",
    "\n",
    "* List all the **unique values** in the STATE column in the feature layer"
   ]
  },
  {
   "cell_type": "code",
   "execution_count": null,
   "metadata": {},
   "outputs": [],
   "source": [
    "#List the unique values found in the STATE attribute. \n",
    "print(tractsLayer.get_unique_values('STATE_ABBR'))"
   ]
  },
  {
   "cell_type": "markdown",
   "metadata": {},
   "source": [
    "* **Query** the records in the Feature Layer"
   ]
  },
  {
   "cell_type": "code",
   "execution_count": null,
   "metadata": {},
   "outputs": [],
   "source": [
    "#Subset records that are in Durham Co (FIPS 37063)\n",
    "fset_Durham = tractsLayer.query(where=\"STCOFIPS LIKE '37063%'\")\n",
    "type(fset_Durham)"
   ]
  },
  {
   "cell_type": "markdown",
   "metadata": {},
   "source": [
    "The object returned is a **Feature Set**. ([Reference on feature set](https://developers.arcgis.com/python/api-reference/arcgis.features.toc.html#featureset))"
   ]
  },
  {
   "cell_type": "code",
   "execution_count": null,
   "metadata": {},
   "outputs": [],
   "source": [
    "#Display the number of results returned\n",
    "len(fset_Durham)"
   ]
  },
  {
   "cell_type": "markdown",
   "metadata": {},
   "source": [
    "* Create a quick map of the feature set.<br>\n",
    "→ _Note feature sets use the map object's `draw()` function, whereas the feature layer above uses the `.add_layer()` function._ <br>\n",
    "→ _Also note that sometimes you need to run the process twice to show the data..._"
   ]
  },
  {
   "cell_type": "code",
   "execution_count": null,
   "metadata": {},
   "outputs": [],
   "source": [
    "#Map the feature set with 'draw'\n",
    "map3 = gis.map('Durham County, NC')\n",
    "map3.basemap = 'osm' #(run map3.basemaps to create a list of basemap options)\n",
    "map3.draw(fset_Durham,popup={'title':'FIPS','content':'POP20_SQMI'})\n",
    "map3"
   ]
  },
  {
   "cell_type": "markdown",
   "metadata": {},
   "source": [
    "* Report the geometry type of the FeatureSet"
   ]
  },
  {
   "cell_type": "code",
   "execution_count": null,
   "metadata": {},
   "outputs": [],
   "source": [
    "#What geometry type is the result\n",
    "fset_Durham.geometry_type"
   ]
  },
  {
   "cell_type": "markdown",
   "metadata": {},
   "source": [
    "* Convert the featureset to a spatial dataframe with its `sdf` command"
   ]
  },
  {
   "cell_type": "code",
   "execution_count": null,
   "metadata": {},
   "outputs": [],
   "source": [
    "sdf_Durham = fset_Durham.sdf\n",
    "sdf_Durham.head()"
   ]
  },
  {
   "cell_type": "markdown",
   "metadata": {},
   "source": [
    "### Step 7. Save our data to a local file!\n",
    "* The FeatureSet has another function called `save` which allows us to download our queried results."
   ]
  },
  {
   "cell_type": "code",
   "execution_count": null,
   "metadata": {},
   "outputs": [],
   "source": [
    "#Save the selected features to a shapefile\n",
    "fset_Durham.save(save_location='.',out_name='DurhamTracts')"
   ]
  },
  {
   "cell_type": "markdown",
   "metadata": {},
   "source": [
    "---\n",
    "### Success!\n",
    "\n",
    "We just downloaded our own copy of the Durham County Tracts file. We can now grab any feature layer we've found on ArcGIS Online. Well, it's not always this easy as datasets to have some download limits:"
   ]
  },
  {
   "cell_type": "code",
   "execution_count": null,
   "metadata": {},
   "outputs": [],
   "source": [
    "tractsLayer.properties.maxRecordCount"
   ]
  },
  {
   "cell_type": "markdown",
   "metadata": {},
   "source": [
    "We can get around that restriction by \"paging\" our download, i.e. downloading in chunks of records, 2000 at a time...\n",
    "\n",
    "For more info on this process, see ESRI's documentation on querying feature layers:<br>\n",
    "https://developers.arcgis.com/python/guide/working-with-feature-layers-and-features/#Querying-feature-layers"
   ]
  },
  {
   "cell_type": "markdown",
   "metadata": {},
   "source": [
    "### Step 8. Analyzing the data here, as a dataframe\n",
    "Of course, why stop there. We have our data in our coding environment. Let's analyze it!\n",
    "\n",
    "To facilitate analyses, we can convert our featureset to (1) a list of [Feature](https://developers.arcgis.com/python/api-reference/arcgis.features.toc.html) objects or (2) to a [spatial dataframe](https://developers.arcgis.com/python/guide/introduction-to-the-spatially-enabled-dataframe/). "
   ]
  },
  {
   "cell_type": "code",
   "execution_count": null,
   "metadata": {},
   "outputs": [],
   "source": [
    "#Get all the tracts for North Carolina\n",
    "nc_tracts = tractsLayer.query(\"STATE_ABBR = 'NC'\")\n",
    "len(nc_tracts)"
   ]
  },
  {
   "cell_type": "code",
   "execution_count": null,
   "metadata": {},
   "outputs": [],
   "source": [
    "#Convert feature set to a list of features\n",
    "features = nc_tracts.features\n",
    "len(features)"
   ]
  },
  {
   "cell_type": "code",
   "execution_count": null,
   "metadata": {},
   "outputs": [],
   "source": [
    "#Grab the first feature\n",
    "feature= features[0]\n",
    "type(feature)"
   ]
  },
  {
   "cell_type": "code",
   "execution_count": null,
   "metadata": {},
   "outputs": [],
   "source": [
    "feature.get_value('FIPS')"
   ]
  },
  {
   "cell_type": "code",
   "execution_count": null,
   "metadata": {},
   "outputs": [],
   "source": [
    "#Convert the feature set data as a dataframe (takes a moment...)\n",
    "sdf = nc_tracts.sdf\n",
    "sdf.head()"
   ]
  },
  {
   "cell_type": "markdown",
   "metadata": {},
   "source": [
    "* Note the output has a column called \"SHAPE\". These values are ArcGIS API `geometry` objects. "
   ]
  },
  {
   "cell_type": "markdown",
   "metadata": {},
   "source": [
    "#### Analyzing geometry of a single feature"
   ]
  },
  {
   "cell_type": "code",
   "execution_count": null,
   "metadata": {},
   "outputs": [],
   "source": [
    "#Extract the first row as a feature\n",
    "theFeature = sdf.loc[0]\n",
    "theFeature"
   ]
  },
  {
   "cell_type": "code",
   "execution_count": null,
   "metadata": {},
   "outputs": [],
   "source": [
    "#Get the feature's \"SHAPE\" value\n",
    "theGeom = theFeature['SHAPE']\n",
    "type(theGeom)"
   ]
  },
  {
   "cell_type": "code",
   "execution_count": null,
   "metadata": {},
   "outputs": [],
   "source": [
    "#Get the feature's spatial reference (google the WKID to learn more)\n",
    "theGeom.spatial_reference"
   ]
  },
  {
   "cell_type": "code",
   "execution_count": null,
   "metadata": {},
   "outputs": [],
   "source": [
    "#Get the feature's area, in the spatial reference's units\n",
    "theGeom.area"
   ]
  },
  {
   "cell_type": "markdown",
   "metadata": {},
   "source": [
    "https://esri.github.io/arcgis-python-api/apidoc/html/arcgis.geometry.html#arcgis.geometry.Geometry.get_area"
   ]
  },
  {
   "cell_type": "code",
   "execution_count": null,
   "metadata": {},
   "outputs": [],
   "source": [
    "#Get the area, in square miles, measured geodesically\n",
    "theGeom.get_area(method='GEODESIC',units='MILES')"
   ]
  },
  {
   "cell_type": "markdown",
   "metadata": {},
   "source": [
    "#### Analyzing demographics by county"
   ]
  },
  {
   "cell_type": "code",
   "execution_count": null,
   "metadata": {},
   "outputs": [],
   "source": [
    "#Group the data by values in the COUNTY field\n",
    "county_sum = sdf.groupby('STCOFIPS').sum(numeric_only=True)"
   ]
  },
  {
   "cell_type": "code",
   "execution_count": null,
   "metadata": {},
   "outputs": [],
   "source": [
    "#Show the first 5 records in the result\n",
    "county_sum['POPULATION'].head()"
   ]
  },
  {
   "cell_type": "code",
   "execution_count": null,
   "metadata": {},
   "outputs": [],
   "source": [
    "#Summarize the county data\n",
    "county_sum['POPULATION'].describe()"
   ]
  },
  {
   "cell_type": "code",
   "execution_count": null,
   "metadata": {},
   "outputs": [],
   "source": [
    "%matplotlib inline\n",
    "county_sum['POPULATION'].sort_values().plot(kind='barh',figsize=(10,20));"
   ]
  },
  {
   "cell_type": "markdown",
   "metadata": {},
   "source": [
    "## Summary\n",
    "The learning curve steepens a bit on figuring out how to work with the data we can retrieve using the ArcGIS Python API. However, with patience, perserverence, and a structured understanding of both how the data are served and of the documentation, you can use the ArcGIS Python API to do a tremendous amount of useful coding. \n",
    "\n",
    "We've focused on data access, analysis, and visualization, but if you browse the notebook examples that ESRI provides, you'll see that the level of work you can use with this library is quite astounding. Furthermore, as GIS (and all computing really) moves from the desktop to the cloud, these types of analysis are likely to dominate the research landscape before too long. "
   ]
  }
 ],
 "metadata": {
  "kernelspec": {
   "display_name": "Python 3 (ipykernel)",
   "language": "python",
   "name": "python3"
  },
  "language_info": {
   "codemirror_mode": {
    "name": "ipython",
    "version": 3
   },
   "file_extension": ".py",
   "mimetype": "text/x-python",
   "name": "python",
   "nbconvert_exporter": "python",
   "pygments_lexer": "ipython3",
   "version": "3.11.8"
  }
 },
 "nbformat": 4,
 "nbformat_minor": 2
}
