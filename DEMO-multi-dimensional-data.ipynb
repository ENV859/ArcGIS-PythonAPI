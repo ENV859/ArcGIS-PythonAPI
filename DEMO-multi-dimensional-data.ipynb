{
 "cells": [
  {
   "cell_type": "markdown",
   "metadata": {},
   "source": [
    "# Demo: Working with multi-dimensional image data\n",
    "---\n",
    "This notebook explores a few uses of multi-dimensional datasets made avaialable through ArcGIS Online. Here, we explore the Sea Surface Temperature (SST) dataset [link](https://www.arcgis.com/home/item.html?id=100a26c4d15445ffadab0d04e536b9c1). This dataset contains daily SST values from 1985 to the present at a 0.05° (~5km) resolution across all ocean surfaces.  \n",
    "\n",
    "The exact procedures and operations covered include:\n",
    "\n",
    "* Setting up the coding session for accessing and querying multi-dimensional data\n",
    "* Reading the multi-dimensional into the coding session\n",
    "* Exploring properties of the dataset\n",
    "* Extracting values at specific locations and times\n",
    "* Creating a time series dataset for one or several points\n",
    "\n",
    "What's not covered here yet (as our Organization AGOL subscription does not cover) includes: \n",
    "* Creating mosaic layers from the multi-dimensional data, i.e., aggregating data across time slices\n",
    "---\n",
    "Fall 2024  \n",
    "John.Fay@duke.edu\n",
    "\n",
    "---\n"
   ]
  },
  {
   "cell_type": "markdown",
   "metadata": {},
   "source": [
    "## 1. Setting up the coding environment\n",
    "ESRI's ArcGIS API for Python provides the functionality for working with these multi-dimensional rasters. We need to import a few sub-modules, including the `GIS` sub-module which we use to authenticate to Duke's AGOL Organizational account. "
   ]
  },
  {
   "cell_type": "code",
   "execution_count": null,
   "metadata": {},
   "outputs": [],
   "source": [
    "#Import packages\n",
    "from arcgis import GIS\n",
    "from arcgis.raster import ImageryLayer, Raster\n",
    "from arcgis.raster.functions import multidimensional_filter\n",
    "from arcgis.mapping import MapServiceLayer\n",
    "from arcgis.geometry import Point, Polygon, filters, Geometry\n",
    "\n",
    "from datetime import datetime, timedelta\n",
    "\n",
    "#Connect to GIS via ArcGIS Pro\n",
    "gis = GIS(\"home\")"
   ]
  },
  {
   "cell_type": "markdown",
   "metadata": {},
   "source": [
    "## 2. Accessing and exploring  the SST raster dataset\n",
    "\n",
    "### 2.1 Fetching the SST Item and its one layer\n",
    "The item page for the SST data is: https://www.arcgis.com/home/item.html?id=100a26c4d15445ffadab0d04e536b9c1. \n",
    "\n",
    "We'll begin by fetching this item into our computing environment and then fetching the layer associated with this item."
   ]
  },
  {
   "cell_type": "code",
   "execution_count": null,
   "metadata": {},
   "outputs": [],
   "source": [
    "#Fetch the item via its ItemID\n",
    "sst_item = gis.content.get('100a26c4d15445ffadab0d04e536b9c1')\n",
    "sst_item"
   ]
  },
  {
   "cell_type": "code",
   "execution_count": null,
   "metadata": {},
   "outputs": [],
   "source": [
    "#List the layers in the SST item\n",
    "sst_layers = sst_item.layers\n",
    "sst_layers"
   ]
  },
  {
   "cell_type": "code",
   "execution_count": null,
   "metadata": {},
   "outputs": [],
   "source": [
    "#Fetch the one (and only) layer in the SST item and reveal its type\n",
    "sst_layer = sst_layers[0]\n",
    "type(sst_layer)"
   ]
  },
  {
   "cell_type": "markdown",
   "metadata": {},
   "source": [
    "→ Note that the layer we have is an **ImageryLayer**. Info on this ImageryLayer is [here](https://developers.arcgis.com/python-2-3/api-reference/arcgis.raster.toc.html#imagerylayer).\n"
   ]
  },
  {
   "cell_type": "markdown",
   "metadata": {},
   "source": [
    "### 2.3 Exploring properties of the imagery layer\n",
    "Let's move on to examining properties we'll need to work with the dataset. `sst_layer` is an ImageryLayer object and we can examine documentation on that type of object [here](https://developers.arcgis.com/python/latest/api-reference/arcgis.raster.toc.html#imagerylayer). \n",
    "\n",
    "Specifically, we'll confirm that our ImageryLayer is multi-dimensional, and then extract its multi-dimensional properties. "
   ]
  },
  {
   "cell_type": "code",
   "execution_count": null,
   "metadata": {},
   "outputs": [],
   "source": [
    "#Confirm the SST layer has multidimensions\n",
    "sst_layer.properties.hasMultidimensions"
   ]
  },
  {
   "cell_type": "markdown",
   "metadata": {},
   "source": [
    "Multi-dimensional data are comprised of *variables*, *dimensions*, and *attributes*. \n",
    "* **Variables** represent the actual data values or measurements stored in the multidimensional raster. \n",
    "* **Dimensions** define the structure and organization of the data (how we access specific bits of data).\n",
    "* **Attributes** describe the structure of the variable within each dimension\n",
    "\n",
    "To reveal the dimensions in our ImageryLayer, it's easier to first convert it to a [**Raster object**](https://developers.arcgis.com/python-2-3/api-reference/arcgis.raster.toc.html#raster), which is done simply by reading the ImageryLayer's URL in as a Raster. "
   ]
  },
  {
   "cell_type": "code",
   "execution_count": null,
   "metadata": {},
   "outputs": [],
   "source": [
    "#Convert the SST layer to a multidimensional raster object\n",
    "sst_raster_md = Raster(\n",
    "    path=sst_layer.url,\n",
    "    is_multidimensional=True)"
   ]
  },
  {
   "cell_type": "markdown",
   "metadata": {},
   "source": [
    "This Raster object has functions to reveal the variables contained, and the dimensions of each variable. "
   ]
  },
  {
   "cell_type": "code",
   "execution_count": null,
   "metadata": {},
   "outputs": [],
   "source": [
    "#Reveal the variables in the SST raster\n",
    "sst_raster_md.variable_names"
   ]
  },
  {
   "cell_type": "markdown",
   "metadata": {},
   "source": [
    "We see that the dataset <u>has three variables</u>: \n",
    "* `alert` - Coral bleaching heat stress alert level\n",
    "* `sst` - Sea Surface Temperature\n",
    "* `ssta` - Sea Surface Temperature Anomalies\n",
    "\n",
    "The source for what these variables represent is here:  \n",
    "<https://coralreefwatch.noaa.gov/product/5km/index_5km_baa-max-7d.php>\n",
    "\n",
    "The one we want is the second: `sst`. Now we can examine the <u>dimensions</u> associated with that variable. "
   ]
  },
  {
   "cell_type": "code",
   "execution_count": null,
   "metadata": {},
   "outputs": [],
   "source": [
    "#Reveal the dimensions in the SST raster's 'sst' variable\n",
    "sst_raster_md.get_dimension_names('sst')"
   ]
  },
  {
   "cell_type": "markdown",
   "metadata": {},
   "source": [
    "Just the one dimension: `StdTime`, which is the *time* dimension. \n",
    "\n",
    "Now, let's look at the <u>attributes</u> and some <u>values</u> in this time dimension of the sst variable by applying the raster's `get_dimensions_attributes()` function. "
   ]
  },
  {
   "cell_type": "code",
   "execution_count": null,
   "metadata": {},
   "outputs": [],
   "source": [
    "#Get attributes for the 'StdTime' dimension in the SST raster\n",
    "sst_raster_md.get_dimension_attributes(\n",
    "    variable_name='sst', \n",
    "    dimension_name='StdTime'\n",
    ")"
   ]
  },
  {
   "cell_type": "markdown",
   "metadata": {},
   "source": [
    "Interpreting the result, we see this dataset has an sst layer for every day (Interval/IntervalUnit) spanning from Jan 1, 1985 to quite recently!\n",
    "\n",
    "Next,we'll have a peek at some of the values in this `StdTime` dimension of the `sst` variable. "
   ]
  },
  {
   "cell_type": "code",
   "execution_count": null,
   "metadata": {},
   "outputs": [],
   "source": [
    "#Take a peek at the first 5 time values in the SST raster\n",
    "time_values = sst_raster_md.get_dimension_values(\n",
    "    variable_name='sst', \n",
    "    dimension_name='StdTime'\n",
    ")\n",
    "print(len(time_values))\n",
    "time_values[0:5]"
   ]
  },
  {
   "cell_type": "markdown",
   "metadata": {},
   "source": [
    "##### Recapping what we just learned: \n",
    "* The multi-dimension SST ImageryLayer has quite a lot of data! \n",
    "* The layer contains three separate variables: *alert levels*, *sst*, and *sst anomalies*.\n",
    "* The `sst` variable (as well as the other two) have measurements recorded across a time dimension (\"`StdTime`\")\n",
    "* This time dimension contains daily SST measurements from 1985 to the present, over 14,000 records (for ever 5 square km of ocean surface)\n",
    "\n",
    "##### And moving forward, we want to tap into this massive dataset in three ways: \n",
    "* Extract a single SST value at a define location and time\n",
    "* Extract a set of SST values falling within a specific geometry and summarize the values\n",
    "* Extract a time series of SST values at a define location or set of locations\n",
    "\n",
    "---"
   ]
  },
  {
   "cell_type": "markdown",
   "metadata": {},
   "source": [
    "## 3. Extracting data & calculating SST values\n",
    "\n",
    "### 3.1 Extract sea surface temperature at a given location for a given time\n",
    "The [`identify()`](https://developers.arcgis.com/python/latest/api-reference/arcgis.raster.toc.html#arcgis.raster.ImageryLayer.identify) function of an ImageryLayer allows us to extract values from a multidimensional image for a provided a spatial and temporal extent (e.g. a point and a start & end times). To do this, we first need create a **Point object** and specifiy the start and end times as a **datetime** object, so that we can pass these as input parameters into the `identify()` function. \n"
   ]
  },
  {
   "cell_type": "markdown",
   "metadata": {},
   "source": [
    "\n",
    "#### Creating the Point object\n",
    "In the first code cell, we import the `Point` class from the `arcgis.geometry` submodule. Documentation on this class is [here](https://developers.arcgis.com/python/latest/api-reference/arcgis.geometry.html#point), with the code involved in creating a point (and other geometries) found in [this tutorial](https://developers.arcgis.com/python/latest/guide/tutorials/add-a-point-line-and-polygon/).\n",
    "\n",
    "Below, we'll create some geometries to use in our spatial queries: first, a point from lat and lng variables (specifying the spatial reference as well) and then a polygon, created by offsetting our point to create the corners used to define the polygon. "
   ]
  },
  {
   "cell_type": "code",
   "execution_count": null,
   "metadata": {},
   "outputs": [],
   "source": [
    "#Start by setting the coordinate of our point\n",
    "lat = 35.402234\n",
    "lng = -74.4840627\n",
    "\n",
    "#Create a point, using the lat and lng coordinates and the spatial reference of WGS84\n",
    "the_point = Point({\n",
    "    \"x\" : lng, \n",
    "    \"y\" : lat, \n",
    "    \"spatialReference\" : {\"wkid\" : 4326}\n",
    "    })"
   ]
  },
  {
   "cell_type": "code",
   "execution_count": null,
   "metadata": {},
   "outputs": [],
   "source": [
    "#Create an area polygon from the point\n",
    "\n",
    "#Set the corners as offsets from the lat/lng values\n",
    "offset = 0.25\n",
    "xmin = lng - offset\n",
    "xmax = lng + offset\n",
    "ymin = lat - offset \n",
    "ymax = lat + offset\n",
    "\n",
    "#Construct the polygon\n",
    "the_polygon = Polygon({\n",
    "    \"rings\": [[\n",
    "         [xmin,ymin],\n",
    "         [xmin,ymax],\n",
    "         [xmax,ymax],\n",
    "         [xmax,ymin],\n",
    "         [xmin,ymin]\n",
    "        ]],\n",
    "    \"spatialReference\": {\"wkid\": 4326}\n",
    "})"
   ]
  },
  {
   "cell_type": "code",
   "execution_count": null,
   "metadata": {},
   "outputs": [],
   "source": [
    "#OPTIONAL: View the point on a map\n",
    "map1 = gis.map(\n",
    "    location=tuple(the_point.coordinates()[::-1]), #Switch the order of the coordinates\n",
    "    zoomlevel=8\n",
    ")\n",
    "\n",
    "map1.add_layer(sst_layer) #Add the sst layer\n",
    "map1.draw(the_polygon)    #Add the polygon created above\n",
    "map1.draw(the_point)      #Add the point created above\n",
    "\n",
    "#Draw the map\n",
    "map1"
   ]
  },
  {
   "cell_type": "markdown",
   "metadata": {},
   "source": [
    "#### Creating the time slice\n",
    "We use Python's `datetime` class, from of the `datetime` module, to create the start and end times for our `identify()` tool. We can either explicitly set both times, or set the start time and specify the end time as a period of time (\"timedelta\") after the start time. \n",
    "\n",
    "Recalling that our SST data records sea surface temperature daily, we'll set the start as June 21, 2010 and the end as the following day - June 22, 2010."
   ]
  },
  {
   "cell_type": "code",
   "execution_count": null,
   "metadata": {},
   "outputs": [],
   "source": [
    "#Create datetime objects for the start and end dates\n",
    "start_date = datetime(2010, 6, 21)\n",
    "end_date = datetime(2020, 6, 22)\n",
    "\n",
    "#or we can set the end date as the start date plus a \"timedelta\" of 1 day\n",
    "end_date = start_date + timedelta(days=1)\n",
    "\n",
    "#Show the dates\n",
    "print(start_date, end_date)"
   ]
  },
  {
   "cell_type": "markdown",
   "metadata": {},
   "source": [
    "#### Running the `identify()` tool\n",
    "We now have the ingredients to run the `identify()` tool: the **geometry** (our point), the **time_extent** (our start & end times), and of course our SST imagery layer. We also need to specify that our imagery layer is multidimensional. "
   ]
  },
  {
   "cell_type": "code",
   "execution_count": null,
   "metadata": {},
   "outputs": [],
   "source": [
    "#Identify the SST values at the point for the specified time extent\n",
    "sst_result = sst_layer.identify(\n",
    "    geometry=the_point,\n",
    "    time_extent=[start_date,end_date],\n",
    "    process_as_multidimensional=True,\n",
    ")\n",
    "\n",
    "#Reveal the result\n",
    "sst_result"
   ]
  },
  {
   "cell_type": "markdown",
   "metadata": {},
   "source": [
    "#### Interpreting the result\n",
    "We see that the result is a dictionary. This dictionary includes values for each of the three variables, among some other information that may or may not be useful to us. Anyway, we can use our Python dictionary skills to pull out the value we want: the second item in the list associated with the `value` key (converted to a floating point number)."
   ]
  },
  {
   "cell_type": "code",
   "execution_count": null,
   "metadata": {},
   "outputs": [],
   "source": [
    "#Fetch the SST value at the point\n",
    "the_sst = float(sst_result['value'].split('; ')[0])\n",
    "\n",
    "#Report the SST value\n",
    "print(f'At the point ({lat}, {lng}) on {start_date} the SST was {the_sst} degrees Celsius')"
   ]
  },
  {
   "cell_type": "markdown",
   "metadata": {},
   "source": [
    "### Extracting values within an area\n",
    "https://developers.arcgis.com/python/latest/api-reference/arcgis.raster.functions.html#multidimensional-filter"
   ]
  },
  {
   "cell_type": "code",
   "execution_count": null,
   "metadata": {},
   "outputs": [],
   "source": [
    "#We have to convert the start and end dates to strings in the proper format\n",
    "start_date_str = start_date.strftime(\"%Y-%m-%dT%H:%M:%S\")\n",
    "end_date_str = end_date.strftime(\"%Y-%m-%dT%H:%M:%S\")"
   ]
  },
  {
   "cell_type": "code",
   "execution_count": null,
   "metadata": {},
   "outputs": [],
   "source": [
    "#Select one variable from the raster (sst) and one time slice\n",
    "sst_layer_1d = multidimensional_filter(\n",
    "    raster = sst_raster_md,\n",
    "    variables=['sst'],\n",
    "    dimension_definition='BY_RANGES',\n",
    "    dimension='StdTime',\n",
    "    dimension_ranges=[\n",
    "        {'dimension':'StdTime', \n",
    "         'minValue':start_date_str, \n",
    "         'maxValue':end_date_str}\n",
    "    ]\n",
    ")"
   ]
  },
  {
   "cell_type": "code",
   "execution_count": null,
   "metadata": {},
   "outputs": [],
   "source": [
    "extracted_values = sst_layer_1d.summarize(geometry=the_polygon)\n",
    "extracted_values"
   ]
  },
  {
   "cell_type": "markdown",
   "metadata": {},
   "source": [
    "### 3.2 Create a time series plot\n",
    "With knowledge of the structure of our dataset, we can run some other data extraction/visualization tools as well. Here we look at the `temporal_profile()` function that generates a nice line plot of our variable at a location, or multiple locations, as well as a trendline."
   ]
  },
  {
   "cell_type": "code",
   "execution_count": null,
   "metadata": {},
   "outputs": [],
   "source": [
    "sst_layer.temporal_profile(\n",
    "    points=[the_point], \n",
    "    time_field='StdTime',\n",
    "    variables=['sst'],\n",
    "    time_extent=[datetime(2010,1,1),datetime(2015,1,2)],\n",
    "    trend_type='linear'\n",
    ")"
   ]
  },
  {
   "cell_type": "markdown",
   "metadata": {},
   "source": [
    "## Temporal Averaging\n",
    "If we had access to an AGOL server capable of raster analysis, we could aggregate values over time. The code would look like this."
   ]
  },
  {
   "cell_type": "code",
   "execution_count": null,
   "metadata": {},
   "outputs": [],
   "source": [
    "#Import the 'aggregate_multidimensional_raster' function\n",
    "from arcgis.raster.analytics import aggregate_multidimensional_raster\n",
    "\n",
    "#Aggregate the SST raster to monthly intervals\n",
    "agg_raster = aggregate_multidimensional_raster(\n",
    "    input_multidimensional_raster=sst_raster_md, \n",
    "    dimension='StdTime', \n",
    "    variables=['sst'], \n",
    "    aggregation_method='MEAN', \n",
    "    aggregation_definition='ALL', \n",
    "    interval_keyword='MONTHLY', \n",
    "    gis=gis,\n",
    "    estimate=True\n",
    ")\n",
    "\n",
    "print(f\"The aggregate function would consume {agg_raster} credits\")"
   ]
  }
 ],
 "metadata": {
  "kernelspec": {
   "display_name": "Python 3 (ipykernel)",
   "language": "python",
   "name": "python3"
  },
  "language_info": {
   "codemirror_mode": {
    "name": "ipython",
    "version": 3
   },
   "file_extension": ".py",
   "mimetype": "text/x-python",
   "name": "python",
   "nbconvert_exporter": "python",
   "pygments_lexer": "ipython3",
   "version": "3.11.8"
  }
 },
 "nbformat": 4,
 "nbformat_minor": 2
}
