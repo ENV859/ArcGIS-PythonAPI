{
 "cells": [
  {
   "cell_type": "markdown",
   "metadata": {},
   "source": [
    "## Fetch Examples\n",
    "This notebook will extract ESRI's repo of examples to the current workspace"
   ]
  },
  {
   "cell_type": "code",
   "execution_count": null,
   "metadata": {},
   "outputs": [],
   "source": [
    "#Import packages\n",
    "import arcgis, zipfile, os\n",
    "from urllib import request"
   ]
  },
  {
   "cell_type": "code",
   "execution_count": null,
   "metadata": {},
   "outputs": [],
   "source": [
    "#Get the version used in this environment\n",
    "the_version = arcgis.__version__\n",
    "print(f'You are using version {the_version} of the arcgis library')"
   ]
  },
  {
   "cell_type": "code",
   "execution_count": null,
   "metadata": {},
   "outputs": [],
   "source": [
    "#Fetch the examples for the version used\n",
    "the_url = f'https://github.com/Esri/arcgis-python-api/archive/v{the_version}.zip'\n",
    "if not os.exists('examples.zip'):\n",
    "    print('Fetching examples. This may take a few minutes...')\n",
    "    the_Zipfile = request.urlretrieve(the_url,'examples.zip')"
   ]
  },
  {
   "cell_type": "code",
   "execution_count": null,
   "metadata": {},
   "outputs": [],
   "source": [
    "#Unpack the examples\n",
    "print('Unpacking the zip file...')\n",
    "zipObject = zipfile.ZipFile('examples.zip')\n",
    "zipObject.extractall()\n",
    "zipObject.close()"
   ]
  },
  {
   "cell_type": "code",
   "execution_count": null,
   "metadata": {},
   "outputs": [],
   "source": [
    "print('Complete! Please see the folder in your workspace')\n",
    "!explorer ."
   ]
  }
 ],
 "metadata": {
  "kernelspec": {
   "display_name": "Python 3",
   "language": "python",
   "name": "python3"
  },
  "language_info": {
   "codemirror_mode": {
    "name": "ipython",
    "version": 3
   },
   "file_extension": ".py",
   "mimetype": "text/x-python",
   "name": "python",
   "nbconvert_exporter": "python",
   "pygments_lexer": "ipython3",
   "version": "3.6.10"
  }
 },
 "nbformat": 4,
 "nbformat_minor": 4
}
