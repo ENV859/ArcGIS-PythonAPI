{
 "cells": [
  {
   "cell_type": "markdown",
   "metadata": {},
   "source": [
    "# Grab land cover for specified extent\n",
    "Say you want to grab land cover data for a specific location, but you don't want to download the entire NLCD dataset to do that. The ArcGIS Python API can help!\n",
    "\n",
    "Here I present an example of doing just that. The steps involve:\n",
    "1. [Prepping for the analysis: importing modules and authenticating our arcgis session](#1.-Prepping-for-analysis:-importing-and-authenticating)\n",
    "2. [Searching for the land cover data **item** and creating a **imagery layer** from it](#2.-Searching-for-and-accessing-the-content)  \n",
    " 2a. [Alternative: Fetching data by its item ID](#2a.-A-second-option-for-finding-and-fetching-data:-ESRI's-Living-Atlas)\n",
    "3. [Accessing the layers contained in the image service](#3.-Accessing-the-layers-contained-in-the-image-service)  \n",
    " 3a. [Accessing image services directly from their REST API URL](#3a.-Accesing-image-service-layers-directly,-using-their-REST-endpoint-URL)\n",
    "4. [Exploring properties of the image layer](#4.-Exploring-properties-of-the-image-layer)\n",
    "5. [Mapping](#5.Mapping)\n",
    "6. [Subsetting our image](#6.-Subsetting-our-image)\n",
    "7. [Getting the land cover at a specific location](#7.-Getting-the-land-cover-at-a-specific-location)\n",
    "\n",
    "*Resource: https://developers.arcgis.com/python/guide/raster-analysis-advanced-concepts/*"
   ]
  },
  {
   "cell_type": "markdown",
   "metadata": {},
   "source": [
    "## 1. Prepping for analysis: importing and authenticating\n",
    "* Import the the arcgis `GIS` module. We're going to do some geocoding so we need to create the arcgis `geocoding` module as well. Lastly, enable the Jupyter `display` object"
   ]
  },
  {
   "cell_type": "code",
   "execution_count": null,
   "metadata": {},
   "outputs": [],
   "source": [
    "#Import the GIS object.  and display modules\n",
    "from arcgis import GIS\n",
    "#from arcgis.geocoding import geocode\n",
    "from IPython.display import display, Image"
   ]
  },
  {
   "cell_type": "markdown",
   "metadata": {},
   "source": [
    "* Authenticate our GIS object using our ArcGIS Pro account"
   ]
  },
  {
   "cell_type": "code",
   "execution_count": null,
   "metadata": {},
   "outputs": [],
   "source": [
    "#Create the GIS object, authenticating with your ArcGIS Pro account\n",
    "gis = GIS('home')"
   ]
  },
  {
   "cell_type": "markdown",
   "metadata": {},
   "source": [
    "## 2. Searching for and accessing the content\n",
    "What we want is 2011 NLCD data, provided as an *image service* (i.e. as a raster). You could search for the data from within ArcGIS Pro or via the [ArcGIS Online](http://www.arcgis.com) website, but we'll do it right here. \n",
    "\n",
    "Like any web search, it's a bit of an art knowing how best to locate the resource you want. At play are what general search keywords to include, and specific categories like `owner` or `item-type` to invoke. We do, however, want to search outside the Duke Community, we we want to include `outside_org=True`. \n",
    "\n",
    "I've decided to use `NLCD 2011` as a general search term, filter results for only those that `esri` provides, and limit results to image services: "
   ]
  },
  {
   "cell_type": "code",
   "execution_count": null,
   "metadata": {},
   "outputs": [],
   "source": [
    "#Search for land cover and print the number of results\n",
    "nlcd_results = gis.content.search(\"NLCD 2011, owner:esri\",   #The query used to select records\n",
    "                                  item_type='Image Service', #Filter just those that are Imagery layers\n",
    "                                  max_items=100,             #Default is 10 items; let's look for more\n",
    "                                  outside_org=True)          #Default is to just search Duke's portal; turn that off\n",
    "#Reveal how many hits we got\n",
    "len(nlcd_results)"
   ]
  },
  {
   "cell_type": "markdown",
   "metadata": {},
   "source": [
    "► This gives us several results, enough to show a list..."
   ]
  },
  {
   "cell_type": "code",
   "execution_count": null,
   "metadata": {},
   "outputs": [],
   "source": [
    "#Show a complete list of results\n",
    "nlcd_results"
   ]
  },
  {
   "cell_type": "markdown",
   "metadata": {},
   "source": [
    "* The *second* item is the one we want. Let's store that as a variable named `lc_item`. "
   ]
  },
  {
   "cell_type": "code",
   "execution_count": null,
   "metadata": {},
   "outputs": [],
   "source": [
    "#Get the second result and view what kind of Python object it is. \n",
    "nlcd_item = nlcd_results[1]\n",
    "type(nlcd_item)"
   ]
  },
  {
   "cell_type": "code",
   "execution_count": null,
   "metadata": {},
   "outputs": [],
   "source": [
    "#Show what kind of ArcGIS object it is\n",
    "nlcd_item.type"
   ]
  },
  {
   "cell_type": "code",
   "execution_count": null,
   "metadata": {},
   "outputs": [],
   "source": [
    "#Show what the item's ID is \n",
    "nlcd_item.id"
   ]
  },
  {
   "cell_type": "code",
   "execution_count": null,
   "metadata": {},
   "outputs": [],
   "source": [
    "#Show the item info\n",
    "nlcd_item"
   ]
  },
  {
   "cell_type": "markdown",
   "metadata": {},
   "source": [
    "### 2a. A second option for finding and fetching data: ESRI's Living Atlas\n",
    "ESRI's [Living Atlas](https://livingatlas.arcgis.com) contains a vast array of quality controlled data. Here's how we can access images hosted there: \n",
    "* Open the Living Atlas in your web browser. \n",
    "* Search for NLCD and select the [USA NLCD Land Cover](https://www.arcgis.com/home/item.html?id=3ccf118ed80748909eb85c6d262b426f)\n",
    "* Note the Item ID in the page's URL: `3ccf118ed80748909eb85c6d262b426f`\n",
    "* Fetch the imagery layer using this ID:"
   ]
  },
  {
   "cell_type": "code",
   "execution_count": null,
   "metadata": {},
   "outputs": [],
   "source": [
    "#Fetch the NLCD image layer service using its item ID\n",
    "nlcd_item2 = gis.content.get('3ccf118ed80748909eb85c6d262b426f')\n",
    "nlcd_item2.type"
   ]
  },
  {
   "cell_type": "code",
   "execution_count": null,
   "metadata": {},
   "outputs": [],
   "source": [
    "nlcd_item2"
   ]
  },
  {
   "cell_type": "markdown",
   "metadata": {},
   "source": [
    "## 3. Accessing the <u>layers</u> contained in the image service\n",
    "Image Services are a container for individual image layers. So to access the actual raster datasets we want to analyze or download, we need to drill into the service an pull out individual layers. "
   ]
  },
  {
   "cell_type": "code",
   "execution_count": null,
   "metadata": {},
   "outputs": [],
   "source": [
    "#Reveal the layers associated with this service\n",
    "nlcd_item.layers"
   ]
  },
  {
   "cell_type": "markdown",
   "metadata": {},
   "source": [
    "There's just the one layer. Let's extract it to a new variable..."
   ]
  },
  {
   "cell_type": "code",
   "execution_count": null,
   "metadata": {},
   "outputs": [],
   "source": [
    "#Captute the one and only layer as its own object and reveal its object type\n",
    "nlcd_layer = nlcd_item.layers[0]\n",
    "type(nlcd_layer)"
   ]
  },
  {
   "cell_type": "code",
   "execution_count": null,
   "metadata": {},
   "outputs": [],
   "source": [
    "#Show the layer\n",
    "nlcd_layer"
   ]
  },
  {
   "cell_type": "markdown",
   "metadata": {},
   "source": [
    "### 3a. Accesing image service layers directly, using their REST endpoint URL\n",
    "What if you couldn't find the item's ID? If you can find the service's REST endpoint, you can create an image layer from that. \n",
    " * First you have to import the `ImagerLayer` object from the ArcGIS Python API's `raster` submodule. \n",
    " * Then we create the image layer from the REST URL. \n",
    " * In this instance, we have to supply the `gis` object because layers in the Living Atlas are restricted, meaning you have to provide an authenticated GIS object. "
   ]
  },
  {
   "cell_type": "code",
   "execution_count": null,
   "metadata": {},
   "outputs": [],
   "source": [
    "#Import the ImageryLayer object into our session\n",
    "from arcgis.raster import ImageryLayer\n",
    "\n",
    "#Construct the layer directly from its URL\n",
    "nlcd_layer2 = ImageryLayer(url='https://landscape10.arcgis.com/arcgis/rest/services/USA_NLCD_Land_Cover/ImageServer',\n",
    "                           gis=gis)"
   ]
  },
  {
   "cell_type": "markdown",
   "metadata": {},
   "source": [
    "## 4. Exploring properties of the image layer\n",
    "Before analyzing our image, let's look at how we access its properties"
   ]
  },
  {
   "cell_type": "code",
   "execution_count": null,
   "metadata": {},
   "outputs": [],
   "source": [
    "#Show properties associated with the layer\n",
    "list(nlcd_layer.properties.keys())"
   ]
  },
  {
   "cell_type": "code",
   "execution_count": null,
   "metadata": {},
   "outputs": [],
   "source": [
    "#Show the fields\n",
    "for f in nlcd_layer.properties.fields: print (f.name)"
   ]
  },
  {
   "cell_type": "code",
   "execution_count": null,
   "metadata": {},
   "outputs": [],
   "source": [
    "#Reveal the item's spatial reference\n",
    "nlcd_layer.properties.spatialReference"
   ]
  },
  {
   "cell_type": "code",
   "execution_count": null,
   "metadata": {},
   "outputs": [],
   "source": [
    "#What are the pixel sizes in the X and Y direction? \n",
    "xPixelSize = nlcd_layer.properties.pixelSizeX\n",
    "yPixelSize = nlcd_layer.properties.pixelSizeY\n",
    "print(xPixelSize,yPixelSize)"
   ]
  },
  {
   "cell_type": "code",
   "execution_count": null,
   "metadata": {},
   "outputs": [],
   "source": [
    "#Reveal the functions associated with the item\n",
    "for func in nlcd_layer.properties.rasterFunctionInfos: \n",
    "    print(func.name,\": \",func.description,'\\n')"
   ]
  },
  {
   "cell_type": "code",
   "execution_count": null,
   "metadata": {},
   "outputs": [],
   "source": [
    "#How many pixels can be downloaded at once? \n",
    "nlcd_layer.properties.maxRecordCount"
   ]
  },
  {
   "cell_type": "markdown",
   "metadata": {},
   "source": [
    "## 5. Mapping\n",
    "Just as we did in previous notebooks, we can create a map widget and add this layer to it. "
   ]
  },
  {
   "cell_type": "code",
   "execution_count": null,
   "metadata": {},
   "outputs": [],
   "source": [
    "#Create the map, centered on Durham\n",
    "m = gis.map(\"Durham County, NC\")\n",
    "#Add the nlcd_layer\n",
    "m.add_layer(nlcd_layer)\n",
    "#Show the map\n",
    "m"
   ]
  },
  {
   "cell_type": "code",
   "execution_count": null,
   "metadata": {},
   "outputs": [],
   "source": [
    "#Retrieve the extent of the map, as zoomed by the user\n",
    "mapExtent = m.extent\n",
    "mapExtent"
   ]
  },
  {
   "cell_type": "markdown",
   "metadata": {},
   "source": [
    "## 6. Subsetting our image\n",
    "We cannot easily download this dataset in one chunk; it's too big, and that request would burden the server. Rather, we are limited by downloading 1000 pixels at time, and thus we need to constrain the extent of the data we download. The workflow here is as follows: \n",
    "* Create a geometry object to clip the raster at a management size.\n",
    " * Define an extent, either manually or using the [geocoding] module.\n",
    " * Convert it into an ArcGIS \"geometry\" object.\n",
    "* Then, we can [clip](https://developers.arcgis.com/python/api-reference/arcgis.raster.functions.html?arcgis.raster.functions.clip#clip) the NLCD layer using this geometry\n",
    "\n",
    "Reference: https://developers.arcgis.com/python/guide/raster-analysis-advanced-concepts/"
   ]
  },
  {
   "cell_type": "code",
   "execution_count": null,
   "metadata": {},
   "outputs": [],
   "source": [
    "#Create a dictionary of extent values, in decimal degrees\n",
    "myExtent = {'xmin': -79.15,\n",
    "            'ymin': 35.95,\n",
    "            'xmax': -78.95,\n",
    "            'ymax': 36.15}"
   ]
  },
  {
   "cell_type": "code",
   "execution_count": null,
   "metadata": {},
   "outputs": [],
   "source": [
    "#Alternatively, create an extent using the API's geocoding module\n",
    "from arcgis import geocoding\n",
    "area = geocoding.geocode(\"Duke University\",out_sr=nlcd_layer.properties.spatialReference)[0]\n",
    "theExtent = area['extent']"
   ]
  },
  {
   "cell_type": "code",
   "execution_count": null,
   "metadata": {},
   "outputs": [],
   "source": [
    "#Set the area of interest of our NLCD image\n",
    "nlcd_layer.extent = theExtent"
   ]
  },
  {
   "cell_type": "code",
   "execution_count": null,
   "metadata": {},
   "outputs": [],
   "source": [
    "#Display the image - it now zooms to our extent! \n",
    "nlcd_layer"
   ]
  },
  {
   "cell_type": "code",
   "execution_count": null,
   "metadata": {},
   "outputs": [],
   "source": [
    "#Now we need to compute number of rows and columns contained in this extent\n",
    "xSize = int((theExtent['xmax'] - theExtent['xmin']) / 30)\n",
    "ySize = int((theExtent['ymax'] - theExtent['ymin']) / 30)\n",
    "xSize,ySize"
   ]
  },
  {
   "cell_type": "markdown",
   "metadata": {},
   "source": [
    "* Use the imagery layer's [`export_image`](https://esri.github.io/arcgis-python-api/apidoc/html/arcgis.raster.toc.html#arcgis.raster.ImageryLayer.export_image) function to extract a subset of data."
   ]
  },
  {
   "cell_type": "code",
   "execution_count": null,
   "metadata": {},
   "outputs": [],
   "source": [
    "#Extract data\n",
    "img = nlcd_layer.export_image(\n",
    "    bbox=theExtent,     #Set the extent to clip from the image\n",
    "    size=[xSize,ySize], #Set the size of the image, in # of pixels\n",
    "    f='image')\n",
    "type(img)"
   ]
  },
  {
   "cell_type": "code",
   "execution_count": null,
   "metadata": {},
   "outputs": [],
   "source": [
    "#Show the image in the notebook\n",
    "Image(img)"
   ]
  },
  {
   "cell_type": "markdown",
   "metadata": {},
   "source": [
    "* Or save the image..."
   ]
  },
  {
   "cell_type": "code",
   "execution_count": null,
   "metadata": {},
   "outputs": [],
   "source": [
    "#Or we can save the output directly to a file\n",
    "savedimg = nlcd_layer.export_image(\n",
    "    bbox=area['extent'],           #Set the bounding box to clip the image\n",
    "    save_folder='.',             #Set the save location\n",
    "    save_file='DurhamNLCD.tif',    #Set the save filename\n",
    "    size=[xSize,ySize],            #Set the size \n",
    "    export_format='tiff',          #Set the type\n",
    "    compression_quality=100,       #Set the output compression: 100 = no compression\n",
    "    f='image'                      #Set the output\n",
    "   )"
   ]
  },
  {
   "cell_type": "markdown",
   "metadata": {},
   "source": [
    "* Or create a web link to the clipped extent that we can retrive online..."
   ]
  },
  {
   "cell_type": "code",
   "execution_count": null,
   "metadata": {},
   "outputs": [],
   "source": [
    "#Or we can create a link that subsets the image via the REST API...\n",
    "imgJSON = nlcd_layer.export_image(\n",
    "    bbox=area['extent'],           #Set the bounding box to clip the image\n",
    "    save_folder='.',             #Set the save location\n",
    "    save_file='DurhamNLCD.tif',    #Set the save filename\n",
    "    size=[xSize,ySize],            #Set the size \n",
    "    #export_format='tiff',          #Set the type\n",
    "    #compression_quality=100,       #Set the output compression: 100 = no compression\n",
    "    f='json'                      #Set the output\n",
    "   )\n",
    "print(imgJSON['href'])"
   ]
  },
  {
   "cell_type": "markdown",
   "metadata": {},
   "source": [
    "## 7. Getting the land cover at a specific location\n",
    "Say we just wanted to get the land cover at a specific location. For that we can use some of the raster operations, specifically [`get_samples`](https://developers.arcgis.com/python/api-reference/arcgis.raster.toc.html?highlight=get_samples#arcgis.raster.ImageryLayer.get_samples). \n",
    "\n",
    "To perform this, we'll need to generate a Point object from a coordinate..."
   ]
  },
  {
   "cell_type": "code",
   "execution_count": null,
   "metadata": {},
   "outputs": [],
   "source": [
    "#import the function\n",
    "from arcgis.raster.analytics import sample\n",
    "from arcgis.geometry import Point\n",
    "from arcgis.geocoding import Geocoder"
   ]
  },
  {
   "cell_type": "markdown",
   "metadata": {},
   "source": [
    "First we create out sampling point [source](https://developers.arcgis.com/python/guide/part2-working-with-geometries/#Creating-Point-objects)."
   ]
  },
  {
   "cell_type": "code",
   "execution_count": null,
   "metadata": {},
   "outputs": [],
   "source": [
    "#Set the x and y coordinates\n",
    "x_coord = -78.94\n",
    "y_coord = 35.997"
   ]
  },
  {
   "cell_type": "code",
   "execution_count": null,
   "metadata": {},
   "outputs": [],
   "source": [
    "pt = Point(\n",
    "    {'x':x_coord,\n",
    "     'y':y_coord,\n",
    "     \"spatialReference\":{\"wkid\":4326}}\n",
    ")\n",
    "map0 = gis.map(\"Duke University\")\n",
    "map0.zoom = 14\n",
    "map0.draw(pt)\n",
    "map0"
   ]
  },
  {
   "cell_type": "code",
   "execution_count": null,
   "metadata": {},
   "outputs": [],
   "source": [
    "#Create the point where we want to sample the raster\n",
    "the_value = nlcd_layer.get_samples(pt)\n",
    "the_value"
   ]
  },
  {
   "cell_type": "code",
   "execution_count": null,
   "metadata": {},
   "outputs": [],
   "source": [
    "#Print the result\n",
    "cover_type = the_value[0]['value']\n",
    "print(f'At X={x_coord},Y={y_coord}, the land use is {cover_type}')"
   ]
  },
  {
   "cell_type": "code",
   "execution_count": null,
   "metadata": {},
   "outputs": [],
   "source": [
    "the_results = sample(\n",
    "    input_rasters = [nlcd_layer],\n",
    "    input_location_data = pt\n",
    "    "
   ]
  }
 ],
 "metadata": {
  "kernelspec": {
   "display_name": "Python 3",
   "language": "python",
   "name": "python3"
  },
  "language_info": {
   "codemirror_mode": {
    "name": "ipython",
    "version": 3
   },
   "file_extension": ".py",
   "mimetype": "text/x-python",
   "name": "python",
   "nbconvert_exporter": "python",
   "pygments_lexer": "ipython3",
   "version": "3.7.10"
  }
 },
 "nbformat": 4,
 "nbformat_minor": 2
}
