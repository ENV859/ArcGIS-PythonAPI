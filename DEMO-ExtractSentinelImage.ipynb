{
 "cells": [
  {
   "cell_type": "markdown",
   "id": "0eeb747c",
   "metadata": {},
   "source": [
    "## Subset and analyze Sentinel-2 imagey\n",
    "* Fetches the Sentinel imagery layer from the Sentinel Living Atlas item:  \n",
    "    * https://www.arcgis.com/home/item.html?id=fd61b9e0c69c4e14bebd50a9a968348c\n",
    "* Creates a geometry (here, by geocoding)\n",
    "* Filters the imagery for a specific time"
   ]
  },
  {
   "cell_type": "code",
   "execution_count": null,
   "id": "644bcc9a",
   "metadata": {},
   "outputs": [],
   "source": [
    "#import packages\n",
    "from arcgis import GIS\n",
    "from arcgis.geocoding import geocode\n",
    "from arcgis.raster import ImageryLayer, Raster\n",
    "from arcgis.raster.functions import apply\n",
    "from arcgis.geometry import Polygon, filters\n",
    "\n",
    "import pandas as pd\n",
    "from datetime import datetime\n",
    "\n",
    "#instantitate the GIS object\n",
    "gis = GIS('home')"
   ]
  },
  {
   "cell_type": "code",
   "execution_count": null,
   "id": "ce8e96b0",
   "metadata": {},
   "outputs": [],
   "source": [
    "#Fetch the imagery service and extract as a layer\n",
    "s2_item = gis.content.get('fd61b9e0c69c4e14bebd50a9a968348c')\n",
    "s2_images = s2_item.layers[0]"
   ]
  },
  {
   "cell_type": "code",
   "execution_count": null,
   "id": "6d7d3394",
   "metadata": {},
   "outputs": [],
   "source": [
    "#Get its spatial reference\n",
    "s2_sr = s2_images.properties.spatialReference"
   ]
  },
  {
   "cell_type": "code",
   "execution_count": null,
   "id": "e2cdd63a",
   "metadata": {},
   "outputs": [],
   "source": [
    "#Print the available [NDWI] raster functions\n",
    "for rasterfunc in s2_images.properties.rasterFunctionInfos:\n",
    "    if 'NDWI' in rasterfunc.name:\n",
    "        print(f'***{rasterfunc.name}***')\n",
    "        print(rasterfunc.description,'\\n')"
   ]
  },
  {
   "cell_type": "code",
   "execution_count": null,
   "id": "913ca989",
   "metadata": {},
   "outputs": [],
   "source": [
    "#Set the area of interest (in the spatial reference of the image)\n",
    "aoi = geocode('St. Louis, MO', out_sr=s2_sr)[0]"
   ]
  },
  {
   "cell_type": "code",
   "execution_count": null,
   "id": "fa869ef5",
   "metadata": {},
   "outputs": [],
   "source": [
    "#Get NWDI from the image \n",
    "ndwi_images = apply(s2_images, 'NDWI Raw')\n",
    "#Subset for the area of interest\n",
    "ndwi_images.extent = aoi['extent']"
   ]
  },
  {
   "cell_type": "code",
   "execution_count": null,
   "id": "5e95262f",
   "metadata": {},
   "outputs": [],
   "source": [
    "#Display\n",
    "ndwi_images"
   ]
  },
  {
   "cell_type": "code",
   "execution_count": null,
   "id": "84ddeec4",
   "metadata": {},
   "outputs": [],
   "source": [
    "#Create the geometry - we'll use St. Louis\n",
    "stl = geocode(address = \"St. Louis, MO\", as_featureset=True , out_sr = s2_sr).sdf\n",
    "stl_geom = stl.spatial.bbox\n",
    "stl_filter = filters.intersects(stl_geom)"
   ]
  },
  {
   "cell_type": "code",
   "execution_count": null,
   "id": "a96e5c66",
   "metadata": {},
   "outputs": [],
   "source": [
    "the_map = gis.map('St. Louis, MO',zoomlevel=12)\n",
    "the_map"
   ]
  },
  {
   "cell_type": "code",
   "execution_count": null,
   "id": "5c6733ac",
   "metadata": {},
   "outputs": [],
   "source": [
    "#Filter the Sentintal imagery layer for date and location\n",
    "s2_images_filtered = s2_images.filter_by(\n",
    "    geometry=filters.intersects(the_map.extent),\n",
    "    time=[datetime(2024,11,8),datetime(2024,11,14)]\n",
    ")"
   ]
  },
  {
   "cell_type": "code",
   "execution_count": null,
   "id": "ffae21e4",
   "metadata": {},
   "outputs": [],
   "source": [
    "#Get the list of images as a dataframe\n",
    "df_imgs = s2_images_filtered.query().sdf\n",
    "#Sort on cloud cover\n",
    "df_imgs.sort_values(by='cloudcover',inplace=True)\n",
    "df_imgs.head()"
   ]
  },
  {
   "cell_type": "code",
   "execution_count": null,
   "id": "79b299ca",
   "metadata": {},
   "outputs": [],
   "source": [
    "#Get the name of the first(best) image\n",
    "the_name = df_imgs.iloc[0,1]\n",
    "the_name"
   ]
  },
  {
   "cell_type": "code",
   "execution_count": null,
   "id": "8f4f9432",
   "metadata": {},
   "outputs": [],
   "source": [
    "the_image = s2_images.filter_by(\n",
    "    where=f\"name = '{the_name}'\"\n",
    ")\n",
    "the_image = apply(the_image,'NDWI Raw')\n",
    "the_image.extent=the_map.extent\n",
    "the_image"
   ]
  },
  {
   "cell_type": "code",
   "execution_count": null,
   "id": "bfda1d8b",
   "metadata": {},
   "outputs": [],
   "source": [
    "#Export the image\n",
    "the_tiff = the_image.export_image(\n",
    "    export_format = 'tiff',\n",
    "    save_folder=',',\n",
    "    save_file='foo.tiff'\n",
    ")"
   ]
  },
  {
   "cell_type": "code",
   "execution_count": null,
   "id": "d0c08f75",
   "metadata": {},
   "outputs": [],
   "source": [
    "import requests\n",
    "save_path = 'the_image.tif'\n",
    "response = requests.get(the_tiff['href'])\n",
    "if response.status_code == 200:\n",
    "    with open(save_path, 'wb') as file:\n",
    "        file.write(response.content)\n",
    "    print(f\"Image saved successfully at: {save_path}\")\n",
    "else:\n",
    "    print(\"Failed to download the image\")"
   ]
  }
 ],
 "metadata": {
  "kernelspec": {
   "display_name": "Python 3 (ipykernel)",
   "language": "python",
   "name": "python3"
  },
  "language_info": {
   "codemirror_mode": {
    "name": "ipython",
    "version": 3
   },
   "file_extension": ".py",
   "mimetype": "text/x-python",
   "name": "python",
   "nbconvert_exporter": "python",
   "pygments_lexer": "ipython3",
   "version": "3.11.8"
  }
 },
 "nbformat": 4,
 "nbformat_minor": 5
}
