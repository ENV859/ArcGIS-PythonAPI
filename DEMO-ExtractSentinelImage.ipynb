{
 "cells": [
  {
   "cell_type": "markdown",
   "id": "0eeb747c",
   "metadata": {},
   "source": [
    "## Subset and analyze Sentinel-2 imagey\n",
    "* Fetches the Sentinel imagery layer from the Sentinel Living Atlas item:  \n",
    "    * https://www.arcgis.com/home/item.html?id=fd61b9e0c69c4e14bebd50a9a968348c\n",
    "* Creates a geometry (here, by geocoding)\n",
    "* Filters the imagery for a specific time"
   ]
  },
  {
   "cell_type": "code",
   "execution_count": 11,
   "id": "644bcc9a",
   "metadata": {},
   "outputs": [],
   "source": [
    "#import packages\n",
    "from arcgis import GIS\n",
    "from arcgis.geocoding import geocode\n",
    "from arcgis.raster import ImageryLayer, Raster\n",
    "from arcgis.raster.functions import apply\n",
    "from arcgis.geometry import Polygon, filters\n",
    "\n",
    "import pandas as pd\n",
    "from datetime import datetime\n",
    "\n",
    "#instantitate the GIS object\n",
    "gis = GIS('home')"
   ]
  },
  {
   "cell_type": "code",
   "execution_count": 2,
   "id": "ce8e96b0",
   "metadata": {},
   "outputs": [],
   "source": [
    "#Fetch the imagery service and convert to a layer\n",
    "s2_item = gis.content.get('fd61b9e0c69c4e14bebd50a9a968348c')\n",
    "s2_images = s2_item.layers[0]"
   ]
  },
  {
   "cell_type": "code",
   "execution_count": 12,
   "id": "25dc99b6",
   "metadata": {},
   "outputs": [
    {
     "name": "stdout",
     "output_type": "stream",
     "text": [
      "Natural Color with DRA\n",
      "Agriculture with DRA\n",
      "Bathymetric with DRA\n",
      "Color Infrared with DRA\n",
      "Short-wave Infrared with DRA\n",
      "Geology with DRA\n",
      "Natural Color\n",
      "Agriculture\n",
      "Bathymetric\n",
      "Geology\n",
      "Short-wave Infrared\n",
      "Color Infrared\n",
      "NDVI Colormap\n",
      "NDMI Colorized\n",
      "Normalized Burn Ratio\n",
      "Normalized Difference Built-Up Index (NDBI)\n",
      "NDVI Raw\n",
      "NDVI - VRE only Raw\n",
      "NDVI - with VRE Raw\n",
      "NDWI Raw\n",
      "NDWI - with VRE Raw\n",
      "None\n"
     ]
    }
   ],
   "source": [
    "#Print the available raster functions\n",
    "for rasterfunc in s2_images.properties.rasterFunctionInfos:\n",
    "    print(rasterfunc.name)"
   ]
  },
  {
   "cell_type": "code",
   "execution_count": 20,
   "id": "5e95262f",
   "metadata": {},
   "outputs": [
    {
     "ename": "AttributeError",
     "evalue": "'dict' object has no attribute 'extent'",
     "output_type": "error",
     "traceback": [
      "\u001b[1;31m---------------------------------------------------------------------------\u001b[0m",
      "\u001b[1;31mAttributeError\u001b[0m                            Traceback (most recent call last)",
      "\u001b[1;32m~\\AppData\\Local\\Temp\\ipykernel_11120\\1490078715.py\u001b[0m in \u001b[0;36m<cell line: 0>\u001b[1;34m()\u001b[0m\n\u001b[0;32m      1\u001b[0m \u001b[1;31m#Get NWDI\u001b[0m\u001b[1;33m\u001b[0m\u001b[1;33m\u001b[0m\u001b[0m\n\u001b[0;32m      2\u001b[0m \u001b[0mndwi_images\u001b[0m \u001b[1;33m=\u001b[0m \u001b[0mapply\u001b[0m\u001b[1;33m(\u001b[0m\u001b[0ms2_images\u001b[0m\u001b[1;33m,\u001b[0m \u001b[1;34m'NDWI Raw'\u001b[0m\u001b[1;33m)\u001b[0m\u001b[1;33m\u001b[0m\u001b[1;33m\u001b[0m\u001b[0m\n\u001b[1;32m----> 3\u001b[1;33m \u001b[0mcolor_infrared\u001b[0m\u001b[1;33m.\u001b[0m\u001b[0mextent\u001b[0m \u001b[1;33m=\u001b[0m \u001b[0mgeocode\u001b[0m\u001b[1;33m(\u001b[0m\u001b[1;34m'Redlands, CA'\u001b[0m\u001b[1;33m,\u001b[0m \u001b[0mout_sr\u001b[0m\u001b[1;33m=\u001b[0m\u001b[0mndwi_images\u001b[0m\u001b[1;33m.\u001b[0m\u001b[0mproperties\u001b[0m\u001b[1;33m.\u001b[0m\u001b[0mspatialReference\u001b[0m\u001b[1;33m)\u001b[0m\u001b[1;33m[\u001b[0m\u001b[1;36m0\u001b[0m\u001b[1;33m]\u001b[0m\u001b[1;33m.\u001b[0m\u001b[0mextent\u001b[0m\u001b[1;33m\u001b[0m\u001b[1;33m\u001b[0m\u001b[0m\n\u001b[0m",
      "\u001b[1;31mAttributeError\u001b[0m: 'dict' object has no attribute 'extent'"
     ]
    }
   ],
   "source": [
    "#Get NWDI\n",
    "ndwi_images = apply(s2_images, 'NDWI Raw')\n",
    "color_infrared.extent = geocode('Redlands, CA', out_sr=ndwi_images.properties.spatialReference)[0].extent"
   ]
  },
  {
   "cell_type": "code",
   "execution_count": 18,
   "id": "280592eb",
   "metadata": {},
   "outputs": [
    {
     "data": {
      "application/vnd.jupyter.widget-view+json": {
       "model_id": "6a0ea742f08b466fb06802f99cb2c8ec",
       "version_major": 2,
       "version_minor": 0
      },
      "text/plain": [
       "MapView(layout=Layout(height='400px', width='100%'))"
      ]
     },
     "metadata": {},
     "output_type": "display_data"
    },
    {
     "data": {
      "text/html": [
       "<div class=\"map-static-img-preview-f9dcfe6e-93b7-4476-a5ee-c24deb52df02\"><img src=\"\"></img></div>"
      ],
      "text/plain": [
       "<IPython.core.display.HTML object>"
      ]
     },
     "metadata": {},
     "output_type": "display_data"
    },
    {
     "data": {
      "text/html": [
       "<div class=\"map-html-embed-preview-f9dcfe6e-93b7-4476-a5ee-c24deb52df02\"></div>"
      ],
      "text/plain": [
       "<IPython.core.display.HTML object>"
      ]
     },
     "metadata": {},
     "output_type": "display_data"
    }
   ],
   "source": [
    "#Show \n",
    "m = gis.map(\"St. Louis, MO\")\n",
    "m.add_layer(ndwi_images)\n",
    "m"
   ]
  },
  {
   "cell_type": "code",
   "execution_count": 3,
   "id": "06481c7c",
   "metadata": {},
   "outputs": [],
   "source": [
    "#Get the spatial reference\n",
    "s2_sr = s2_images.properties.spatialReference"
   ]
  },
  {
   "cell_type": "code",
   "execution_count": 4,
   "id": "84ddeec4",
   "metadata": {},
   "outputs": [],
   "source": [
    "#Create the geometry - we'll use St. Louis\n",
    "stl = geocode(address = \"St. Louis, MO\", as_featureset=True , out_sr = s2_sr).sdf\n",
    "stl_geom = stl.spatial.bbox\n",
    "stl_filter = filters.intersects(stl_geom)"
   ]
  },
  {
   "cell_type": "code",
   "execution_count": 5,
   "id": "ffae21e4",
   "metadata": {},
   "outputs": [],
   "source": [
    "#Filter the Sentintal imagery layer for date and location\n",
    "s2_image = s2_images.filter_by(\n",
    "    geometry=stl_filter,\n",
    "    time=[datetime(2024,11,10),datetime(2024,11,30)]\n",
    ")"
   ]
  },
  {
   "cell_type": "code",
   "execution_count": 8,
   "id": "1d1d841e",
   "metadata": {},
   "outputs": [
    {
     "data": {
      "text/plain": [
       "(-10086295.713960564,\n",
       " 4657223.948096092,\n",
       " -10040525.254383858,\n",
       " 4687013.230869291)"
      ]
     },
     "execution_count": 8,
     "metadata": {},
     "output_type": "execute_result"
    }
   ],
   "source": [
    "stl_geom.extent"
   ]
  },
  {
   "cell_type": "code",
   "execution_count": 9,
   "id": "d2fe541a",
   "metadata": {},
   "outputs": [
    {
     "data": {
      "text/plain": [
       "13"
      ]
     },
     "execution_count": 9,
     "metadata": {},
     "output_type": "execute_result"
    }
   ],
   "source": [
    "s2_b1 = s2_image.select_bands(3,8)"
   ]
  }
 ],
 "metadata": {
  "kernelspec": {
   "display_name": "Python 3 (ipykernel)",
   "language": "python",
   "name": "python3"
  },
  "language_info": {
   "codemirror_mode": {
    "name": "ipython",
    "version": 3
   },
   "file_extension": ".py",
   "mimetype": "text/x-python",
   "name": "python",
   "nbconvert_exporter": "python",
   "pygments_lexer": "ipython3",
   "version": "3.11.8"
  }
 },
 "nbformat": 4,
 "nbformat_minor": 5
}
